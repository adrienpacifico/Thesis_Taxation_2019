{
 "cells": [
  {
   "cell_type": "code",
   "execution_count": 1,
   "metadata": {
    "collapsed": true
   },
   "outputs": [],
   "source": [
    "%matplotlib inline"
   ]
  },
  {
   "cell_type": "code",
   "execution_count": 2,
   "metadata": {
    "collapsed": true
   },
   "outputs": [],
   "source": [
    "from __future__ import division\n",
    "from matplotlib import pyplot as plt\n",
    "import math\n",
    "import numpy as np"
   ]
  },
  {
   "cell_type": "code",
   "execution_count": 3,
   "metadata": {
    "collapsed": true
   },
   "outputs": [],
   "source": [
    "def find_nearest(array,value):\n",
    "    idx = (np.abs(array-value)).argmin()\n",
    "    return idx"
   ]
  },
  {
   "cell_type": "code",
   "execution_count": 4,
   "metadata": {
    "collapsed": true
   },
   "outputs": [],
   "source": [
    "def find_nearests(array,values):\n",
    "    idx = []\n",
    "    for val in values:\n",
    "        idx.append((np.abs(array-val)).argmin())\n",
    "    return idx"
   ]
  },
  {
   "cell_type": "code",
   "execution_count": 5,
   "metadata": {
    "collapsed": true
   },
   "outputs": [],
   "source": [
    "def link_points_with_line(first_point = None, second_point = None):\n",
    "    a = first_point[0] , second_point[0]\n",
    "    b = first_point[1] , second_point[1]\n",
    "    return a,b\n",
    "\n",
    "def plot_line_between_points(first_point = None, second_point = None, axe = None):\n",
    "    link_points = link_points_with_line(first_point, second_point)\n",
    "    return axe.plot(link_points[0], link_points[1])"
   ]
  },
  {
   "cell_type": "code",
   "execution_count": 6,
   "metadata": {
    "collapsed": false
   },
   "outputs": [
    {
     "name": "stdout",
     "output_type": "stream",
     "text": [
      "Using matplotlib backend: MacOSX\n",
      "Populating the interactive namespace from numpy and matplotlib\n"
     ]
    }
   ],
   "source": [
    "%pylab"
   ]
  },
  {
   "cell_type": "code",
   "execution_count": 7,
   "metadata": {
    "collapsed": true
   },
   "outputs": [],
   "source": [
    "plt.close()"
   ]
  },
  {
   "cell_type": "code",
   "execution_count": 8,
   "metadata": {
    "collapsed": true
   },
   "outputs": [],
   "source": [
    "save = False\n",
    "savefige_count = 0"
   ]
  },
  {
   "cell_type": "code",
   "execution_count": 9,
   "metadata": {
    "collapsed": true
   },
   "outputs": [],
   "source": [
    "def convex_tax_func(income = None):\n",
    "    return  ((income-5000) **0.06)\n",
    "def concave_tax_func(income = None):\n",
    "    return  (1 - 0.97**(income/1200)) *20000"
   ]
  },
  {
   "cell_type": "code",
   "execution_count": 10,
   "metadata": {
    "collapsed": false
   },
   "outputs": [],
   "source": [
    "a = np.array(range(0,10**5))\n",
    "taxe_vector = np.apply_along_axis(concave_tax_func,0, a)"
   ]
  },
  {
   "cell_type": "code",
   "execution_count": 11,
   "metadata": {
    "collapsed": false
   },
   "outputs": [],
   "source": [
    "def concave_u_func(income = None):\n",
    "    return  (1 - 0.97**(income/1200))\n",
    "\n",
    "def disposable_income(income = a):\n",
    "    return a - np.apply_along_axis(concave_tax_func,0, a)\n",
    "a = np.array(range(0,10**5))\n",
    "utility_vector = np.apply_along_axis(concave_u_func,0, a)\n",
    "utility_disposable_income = np.apply_along_axis(concave_u_func,0, disposable_income(a))"
   ]
  },
  {
   "cell_type": "code",
   "execution_count": 12,
   "metadata": {
    "collapsed": false
   },
   "outputs": [],
   "source": [
    "fig, ax = plt.subplots(nrows=2, ncols=1, figsize = (9,9))\n",
    "\n",
    "###Graph du Haut\n",
    "ax[0].plot(taxe_vector)\n",
    "\n",
    "\n",
    "\n",
    "#####Graph du bas\n",
    "ax[1].plot(a,utility_vector)\n",
    "\n",
    "if save ==True:\n",
    "    savefige_count += 1\n",
    "    savefig('illustration_theoreme{}.png'.format(savefige_count))"
   ]
  },
  {
   "cell_type": "code",
   "execution_count": 13,
   "metadata": {
    "collapsed": false
   },
   "outputs": [],
   "source": [
    "fig, ax = plt.subplots(nrows=2, ncols=1, figsize = (9,9))\n",
    "markers_on = [30000, 90000 ]\n",
    "###Graph du Haut\n",
    "\n",
    "ax[0].plot(taxe_vector)\n",
    "ax[0].plot(a[markers_on], taxe_vector[markers_on], 'bo')\n",
    "\n",
    "\n",
    "\n",
    "\n",
    "\n",
    "#####Graph du bas\n",
    "ax[1].plot(a,utility_vector)\n",
    "ax[1].plot(a[markers_on], utility_vector[markers_on], 'bo')\n",
    "\n",
    "if save ==True:\n",
    "    savefige_count += 1\n",
    "    savefig('illustration_theoreme{}.png'.format(savefige_count))"
   ]
  },
  {
   "cell_type": "code",
   "execution_count": 14,
   "metadata": {
    "collapsed": false
   },
   "outputs": [],
   "source": [
    "fig, ax = plt.subplots(nrows=2, ncols=1, figsize = (9,9))\n",
    "markers_on = [30000, 90000 ]\n",
    "###Graph du Haut\n",
    "\n",
    "ax[0].plot(taxe_vector)\n",
    "ax[0].plot(a[markers_on], taxe_vector[markers_on], 'bo')\n",
    "ax[0].plot(a[markers_on].tolist(),taxe_vector[markers_on].tolist(),)\n",
    "\n",
    "#####Graph du bas\n",
    "ax[1].plot(a,utility_vector)\n",
    "ax[1].plot(a[markers_on], utility_vector[markers_on], 'bo')\n",
    "\n",
    "if save ==True:\n",
    "    savefige_count += 1\n",
    "    savefig('illustration_theoreme{}.png'.format(savefige_count))"
   ]
  },
  {
   "cell_type": "code",
   "execution_count": 15,
   "metadata": {
    "collapsed": false
   },
   "outputs": [],
   "source": [
    "fig, ax = plt.subplots(nrows=2, ncols=1, figsize = (9,9))\n",
    "markers_on = [30000, 90000 ]\n",
    "###Graph du Haut\n",
    "\n",
    "ax[0].plot(taxe_vector)\n",
    "ax[0].plot(a[markers_on], taxe_vector[markers_on], 'bo')\n",
    "ax[0].plot(a[markers_on].tolist(),taxe_vector[markers_on].tolist(),)\n",
    "\n",
    "d = a[markers_on].sum()/2\n",
    "e = taxe_vector[markers_on].sum()/2\n",
    "monthly_average = d,e\n",
    "ax[0].plot(d,e, 'ro')\n",
    "\n",
    "\n",
    "#####Graph du bas\n",
    "ax[1].plot(a,utility_vector)\n",
    "ax[1].plot(a[markers_on], utility_vector[markers_on], 'bo')\n",
    "\n",
    "if save ==True:\n",
    "    savefige_count += 1\n",
    "    savefig('illustration_theoreme{}.png'.format(savefige_count))"
   ]
  },
  {
   "cell_type": "code",
   "execution_count": 16,
   "metadata": {
    "collapsed": false
   },
   "outputs": [],
   "source": [
    "fig, ax = plt.subplots(nrows=2, ncols=1, figsize = (9,9))\n",
    "markers_on = [30000, 90000 ]\n",
    "###Graph du Haut\n",
    "\n",
    "ax[0].plot(taxe_vector)\n",
    "ax[0].plot(a[markers_on], taxe_vector[markers_on], 'bo')\n",
    "ax[0].plot(a[markers_on].tolist(),taxe_vector[markers_on].tolist(),)\n",
    "\n",
    "d = a[markers_on].sum()/2\n",
    "e = taxe_vector[markers_on].sum()/2\n",
    "monthly_average = d,e\n",
    "ax[0].plot(d,e, 'ro')\n",
    "middle = (taxe_vector[markers_on[0]]+taxe_vector[markers_on[1]])//2\n",
    "ax[0].plot(a[(markers_on[0]+markers_on[1])//2], \n",
    "         taxe_vector[(markers_on[0]+markers_on[1])//2], 'bo')\n",
    "\n",
    "#####Graph du bas\n",
    "ax[1].plot(a,utility_vector)\n",
    "ax[1].plot(a[markers_on], utility_vector[markers_on], 'bo')\n",
    "\n",
    "if save ==True:\n",
    "    savefige_count += 1\n",
    "    savefig('illustration_theoreme{}.png'.format(savefige_count))"
   ]
  },
  {
   "cell_type": "code",
   "execution_count": 17,
   "metadata": {
    "collapsed": false
   },
   "outputs": [
    {
     "name": "stderr",
     "output_type": "stream",
     "text": [
      "/usr/local/lib/python2.7/site-packages/ipykernel/__main__.py:17: DeprecationWarning: using a non-integer number instead of an integer will result in an error in the future\n"
     ]
    }
   ],
   "source": [
    "fig, ax = plt.subplots(nrows=2, ncols=1, figsize = (9,9))\n",
    "markers_on = [30000, 90000 ]\n",
    "###Graph du Haut\n",
    "\n",
    "ax[0].plot(taxe_vector)\n",
    "ax[0].plot(a[markers_on], taxe_vector[markers_on], 'bo')\n",
    "ax[0].plot(a[markers_on].tolist(),taxe_vector[markers_on].tolist(),)\n",
    "\n",
    "d = a[markers_on].sum()/2\n",
    "e = taxe_vector[markers_on].sum()/2\n",
    "monthly_average = d,e\n",
    "ax[0].plot(d,e, 'ro')\n",
    "middle = (taxe_vector[markers_on[0]]+taxe_vector[markers_on[1]])//2\n",
    "ax[0].plot(a[(markers_on[0]+markers_on[1])//2], \n",
    "         taxe_vector[(markers_on[0]+markers_on[1])//2], 'bo')\n",
    "\n",
    "annual_average = a[(markers_on[0]+markers_on[1])/2], taxe_vector[(markers_on[0]+markers_on[1])/2]\n",
    "plot_line_between_points(monthly_average, annual_average, ax[0])\n",
    "\n",
    "#####Graph du bas\n",
    "ax[1].plot(a,utility_vector)\n",
    "ax[1].plot(a[markers_on], utility_vector[markers_on], 'bo')\n",
    "\n",
    "if save ==True:\n",
    "    savefige_count += 1\n",
    "    savefig('illustration_theoreme{}.png'.format(savefige_count))"
   ]
  },
  {
   "cell_type": "code",
   "execution_count": 18,
   "metadata": {
    "collapsed": false
   },
   "outputs": [
    {
     "name": "stderr",
     "output_type": "stream",
     "text": [
      "/usr/local/lib/python2.7/site-packages/ipykernel/__main__.py:17: DeprecationWarning: using a non-integer number instead of an integer will result in an error in the future\n"
     ]
    },
    {
     "data": {
      "text/plain": [
       "[<matplotlib.lines.Line2D at 0x116f886d0>]"
      ]
     },
     "execution_count": 18,
     "metadata": {},
     "output_type": "execute_result"
    }
   ],
   "source": [
    "fig, ax = plt.subplots(nrows=2, ncols=1, figsize = (9,9))\n",
    "markers_on = [30000, 90000 ]\n",
    "###Graph du Haut\n",
    "\n",
    "ax[0].plot(taxe_vector)\n",
    "ax[0].plot(a[markers_on], taxe_vector[markers_on], 'bo')\n",
    "ax[0].plot(a[markers_on].tolist(),taxe_vector[markers_on].tolist(),)\n",
    "\n",
    "d = a[markers_on].sum()/2\n",
    "e = taxe_vector[markers_on].sum()/2\n",
    "monthly_average = d,e\n",
    "ax[0].plot(d,e, 'ro')\n",
    "middle = (taxe_vector[markers_on[0]]+taxe_vector[markers_on[1]])//2\n",
    "ax[0].plot(a[(markers_on[0]+markers_on[1])//2], \n",
    "         taxe_vector[(markers_on[0]+markers_on[1])//2], 'bo')\n",
    "\n",
    "annual_average = a[(markers_on[0]+markers_on[1])/2], taxe_vector[(markers_on[0]+markers_on[1])/2]\n",
    "plot_line_between_points(monthly_average, annual_average, ax[0])\n",
    "\n",
    "#####Graph du bas\n",
    "ax[1].plot(a,utility_vector)\n",
    "ax[1].plot(a[markers_on], utility_vector[markers_on], 'bo')\n",
    "#Taxed utility\n",
    "plot_line_between_points(first_point = \n",
    "                         (a[markers_on][1], \n",
    "                          utility_disposable_income[markers_on][1]), \n",
    "                         second_point = (a[markers_on][1], \n",
    "                                         utility_vector[markers_on][1]),\n",
    "                        axe = ax[1])"
   ]
  },
  {
   "cell_type": "code",
   "execution_count": 19,
   "metadata": {
    "collapsed": false
   },
   "outputs": [
    {
     "name": "stdout",
     "output_type": "stream",
     "text": [
      "0.839342734671\n",
      "0.898168985621\n"
     ]
    }
   ],
   "source": [
    "print utility_disposable_income[markers_on][1]\n",
    "print utility_vector[90000]"
   ]
  },
  {
   "cell_type": "code",
   "execution_count": 20,
   "metadata": {
    "collapsed": false
   },
   "outputs": [
    {
     "name": "stderr",
     "output_type": "stream",
     "text": [
      "/usr/local/lib/python2.7/site-packages/ipykernel/__main__.py:17: DeprecationWarning: using a non-integer number instead of an integer will result in an error in the future\n"
     ]
    }
   ],
   "source": [
    "fig, ax = plt.subplots(nrows=2, ncols=1, figsize = (9,9))\n",
    "markers_on = [30000, 90000 ]\n",
    "###Graph du Haut\n",
    "\n",
    "ax[0].plot(taxe_vector)\n",
    "ax[0].plot(a[markers_on], taxe_vector[markers_on], 'bo')\n",
    "ax[0].plot(a[markers_on].tolist(),taxe_vector[markers_on].tolist(),)\n",
    "\n",
    "d = a[markers_on].sum()/2\n",
    "e = taxe_vector[markers_on].sum()/2\n",
    "monthly_average = d,e\n",
    "ax[0].plot(d,e, 'ro')\n",
    "middle = (taxe_vector[markers_on[0]]+taxe_vector[markers_on[1]])//2\n",
    "ax[0].plot(a[(markers_on[0]+markers_on[1])//2], \n",
    "         taxe_vector[(markers_on[0]+markers_on[1])//2], 'bo')\n",
    "\n",
    "annual_average = a[(markers_on[0]+markers_on[1])/2], taxe_vector[(markers_on[0]+markers_on[1])/2]\n",
    "plot_line_between_points(monthly_average, annual_average, ax[0])\n",
    "\n",
    "#####Graph du bas\n",
    "ax[1].plot(a,utility_vector)\n",
    "ax[1].plot(a[markers_on], utility_vector[markers_on], 'bo')\n",
    "#Taxed utility\n",
    "ax[1].plot(a[markers_on], utility_disposable_income[markers_on], 'ro')\n",
    "\n",
    "#Taxed utility\n",
    "plot_line_between_points(first_point = \n",
    "                         (a[markers_on][0], utility_disposable_income[markers_on][0]),\n",
    "                         second_point = (a[markers_on][0], utility_vector[markers_on][0]),\n",
    "                        axe = ax[1])\n",
    "plot_line_between_points(first_point = \n",
    "                         (a[markers_on][1], \n",
    "                          utility_disposable_income[markers_on][1]), \n",
    "                         second_point = (a[markers_on][1], \n",
    "                                         utility_vector[markers_on][1]),\n",
    "                        axe = ax[1])\n",
    "\n",
    "if save ==True:\n",
    "    savefige_count += 1\n",
    "    savefig('illustration_theoreme{}.png'.format(savefige_count))"
   ]
  },
  {
   "cell_type": "code",
   "execution_count": 21,
   "metadata": {
    "collapsed": false
   },
   "outputs": [
    {
     "name": "stderr",
     "output_type": "stream",
     "text": [
      "/usr/local/lib/python2.7/site-packages/ipykernel/__main__.py:17: DeprecationWarning: using a non-integer number instead of an integer will result in an error in the future\n"
     ]
    }
   ],
   "source": [
    "fig, ax = plt.subplots(nrows=2, ncols=1, figsize = (9,9))\n",
    "markers_on = [30000, 90000 ]\n",
    "###Graph du Haut\n",
    "\n",
    "ax[0].plot(taxe_vector)\n",
    "ax[0].plot(a[markers_on], taxe_vector[markers_on], 'bo')\n",
    "ax[0].plot(a[markers_on].tolist(),taxe_vector[markers_on].tolist(),)\n",
    "\n",
    "d = a[markers_on].sum()/2\n",
    "e = taxe_vector[markers_on].sum()/2\n",
    "monthly_average = d,e\n",
    "ax[0].plot(d,e, 'ro')\n",
    "middle = (taxe_vector[markers_on[0]]+taxe_vector[markers_on[1]])//2\n",
    "ax[0].plot(a[(markers_on[0]+markers_on[1])//2], \n",
    "         taxe_vector[(markers_on[0]+markers_on[1])//2], 'bo')\n",
    "\n",
    "annual_average = a[(markers_on[0]+markers_on[1])/2], taxe_vector[(markers_on[0]+markers_on[1])/2]\n",
    "plot_line_between_points(monthly_average, annual_average, ax[0])\n",
    "\n",
    "#####Graph du bas\n",
    "ax[1].plot(a,utility_vector)\n",
    "ax[1].plot(a[markers_on], utility_vector[markers_on], 'bo')\n",
    "#Taxed utility\n",
    "ax[1].plot(a[markers_on], utility_disposable_income[markers_on], 'ro')\n",
    "\n",
    "#Taxed utility\n",
    "plot_line_between_points(first_point = \n",
    "                         (a[markers_on][0], utility_disposable_income[markers_on][0]),\n",
    "                         second_point = (a[markers_on][0], utility_vector[markers_on][0]),\n",
    "                        axe = ax[1])\n",
    "plot_line_between_points(first_point = \n",
    "                         (a[markers_on][1], \n",
    "                          utility_disposable_income[markers_on][1]), \n",
    "                         second_point = (a[markers_on][1], \n",
    "                                         utility_vector[markers_on][1]),\n",
    "                        axe = ax[1])\n",
    "\n",
    "if save ==True:\n",
    "    savefige_count += 1\n",
    "    savefig('illustration_theoreme{}.png'.format(savefige_count))"
   ]
  },
  {
   "cell_type": "code",
   "execution_count": 22,
   "metadata": {
    "collapsed": false
   },
   "outputs": [
    {
     "name": "stderr",
     "output_type": "stream",
     "text": [
      "/usr/local/lib/python2.7/site-packages/ipykernel/__main__.py:17: DeprecationWarning: using a non-integer number instead of an integer will result in an error in the future\n"
     ]
    }
   ],
   "source": [
    "fig, ax = plt.subplots(nrows=2, ncols=1, figsize = (9,9))\n",
    "markers_on = [30000, 90000 ]\n",
    "###Graph du Haut\n",
    "\n",
    "ax[0].plot(taxe_vector)\n",
    "ax[0].plot(a[markers_on], taxe_vector[markers_on], 'bo')\n",
    "ax[0].plot(a[markers_on].tolist(),taxe_vector[markers_on].tolist(),)\n",
    "\n",
    "d = a[markers_on].sum()/2\n",
    "e = taxe_vector[markers_on].sum()/2\n",
    "monthly_average = d,e\n",
    "ax[0].plot(d,e, 'ro')\n",
    "middle = (taxe_vector[markers_on[0]]+taxe_vector[markers_on[1]])//2\n",
    "ax[0].plot(a[(markers_on[0]+markers_on[1])//2], \n",
    "         taxe_vector[(markers_on[0]+markers_on[1])//2], 'bo')\n",
    "\n",
    "annual_average = a[(markers_on[0]+markers_on[1])/2], taxe_vector[(markers_on[0]+markers_on[1])/2]\n",
    "plot_line_between_points(monthly_average, annual_average, ax[0])\n",
    "#####Graph du bas\n",
    "ax[1].plot(a,utility_vector)\n",
    "ax[1].plot(a[markers_on], utility_vector[markers_on], 'bo')\n",
    "#Taxed utility\n",
    "ax[1].plot(a[markers_on], utility_disposable_income[markers_on], 'ro')\n",
    "plot_line_between_points(first_point = \n",
    "                         (a[markers_on][0], utility_disposable_income[markers_on][0]),\n",
    "                         second_point = (a[markers_on][0], utility_vector[markers_on][0]),\n",
    "                        axe = ax[1])\n",
    "plot_line_between_points(first_point = \n",
    "                         (a[markers_on][1], \n",
    "                          utility_disposable_income[markers_on][1]), \n",
    "                         second_point = (a[markers_on][1], \n",
    "                                         utility_vector[markers_on][1]),\n",
    "                        axe = ax[1])\n",
    "\n",
    "if save ==True:\n",
    "    savefige_count += 1\n",
    "    savefig('illustration_theoreme{}.png'.format(savefige_count))"
   ]
  },
  {
   "cell_type": "code",
   "execution_count": 23,
   "metadata": {
    "collapsed": true
   },
   "outputs": [],
   "source": [
    "a_tax_util_index = np.array( [find_nearest(utility_vector,utility_disposable_income[markers_on][0]) , find_nearest(utility_vector,utility_disposable_income[markers_on][1] )])"
   ]
  },
  {
   "cell_type": "code",
   "execution_count": 24,
   "metadata": {
    "collapsed": false
   },
   "outputs": [
    {
     "name": "stderr",
     "output_type": "stream",
     "text": [
      "/usr/local/lib/python2.7/site-packages/ipykernel/__main__.py:17: DeprecationWarning: using a non-integer number instead of an integer will result in an error in the future\n"
     ]
    }
   ],
   "source": [
    "fig, ax = plt.subplots(nrows=2, ncols=1, figsize = (9,9))\n",
    "markers_on = [30000, 90000 ]\n",
    "###Graph du Haut\n",
    "\n",
    "ax[0].plot(taxe_vector)\n",
    "ax[0].plot(a[markers_on], taxe_vector[markers_on], 'bo')\n",
    "ax[0].plot(a[markers_on].tolist(),taxe_vector[markers_on].tolist(),)\n",
    "\n",
    "d = a[markers_on].sum()/2\n",
    "e = taxe_vector[markers_on].sum()/2\n",
    "monthly_average = d,e\n",
    "ax[0].plot(d,e, 'ro')\n",
    "middle = (taxe_vector[markers_on[0]]+taxe_vector[markers_on[1]])//2\n",
    "ax[0].plot(a[(markers_on[0]+markers_on[1])//2], \n",
    "         taxe_vector[(markers_on[0]+markers_on[1])//2], 'bo')\n",
    "\n",
    "annual_average = a[(markers_on[0]+markers_on[1])/2], taxe_vector[(markers_on[0]+markers_on[1])/2]\n",
    "plot_line_between_points(monthly_average, annual_average, ax[0])\n",
    "#####Graph du bas\n",
    "ax[1].plot(a,utility_vector)\n",
    "ax[1].plot(a[markers_on], utility_vector[markers_on], 'bo')\n",
    "#Taxed utility\n",
    "ax[1].plot(a[markers_on], utility_disposable_income[markers_on], 'ro')\n",
    "plot_line_between_points(first_point = \n",
    "                         (a[markers_on][0], utility_disposable_income[markers_on][0]),\n",
    "                         second_point = (a[markers_on][0], utility_vector[markers_on][0]),\n",
    "                        axe = ax[1])\n",
    "plot_line_between_points(first_point = \n",
    "                         (a[markers_on][1], \n",
    "                          utility_disposable_income[markers_on][1]), \n",
    "                         second_point = (a[markers_on][1], \n",
    "                                         utility_vector[markers_on][1]),\n",
    "                        axe = ax[1])\n",
    "\n",
    "plot_line_between_points(first_point = (a[markers_on][0], utility_disposable_income[markers_on][0]), second_point = (a[a_tax_util_index][0], utility_vector[a_tax_util_index][0]), axe = ax[1]) # TODO: dashed line\n",
    "plot_line_between_points(first_point = (a[markers_on][1], utility_disposable_income[markers_on][1]), second_point = (a[a_tax_util_index][1], utility_vector[a_tax_util_index][1]), axe = ax[1]) # TODO: dashed line\n",
    "plot_line_between_points(first_point = (a[markers_on][0], utility_disposable_income[markers_on][0]), second_point = (a[a_tax_util_index][0], utility_vector[a_tax_util_index][0]), axe = ax[1]) # TODO: dashed line\n",
    "plot_line_between_points(first_point = (a[markers_on][1], utility_disposable_income[markers_on][1]), second_point = (a[a_tax_util_index][1], utility_vector[a_tax_util_index][1]), axe = ax[1]) # TODO: dashed line\n",
    "\n",
    "\n",
    "if save ==True:\n",
    "    savefige_count += 1\n",
    "    savefig('illustration_theoreme{}.png'.format(savefige_count))"
   ]
  },
  {
   "cell_type": "code",
   "execution_count": 25,
   "metadata": {
    "collapsed": false
   },
   "outputs": [
    {
     "name": "stderr",
     "output_type": "stream",
     "text": [
      "/usr/local/lib/python2.7/site-packages/ipykernel/__main__.py:17: DeprecationWarning: using a non-integer number instead of an integer will result in an error in the future\n"
     ]
    }
   ],
   "source": [
    "fig, ax = plt.subplots(nrows=2, ncols=1, figsize = (9,9))\n",
    "markers_on = [30000, 90000 ]\n",
    "###Graph du Haut\n",
    "\n",
    "ax[0].plot(taxe_vector)\n",
    "ax[0].plot(a[markers_on], taxe_vector[markers_on], 'bo')\n",
    "ax[0].plot(a[markers_on].tolist(),taxe_vector[markers_on].tolist(),)\n",
    "\n",
    "d = a[markers_on].sum()/2\n",
    "e = taxe_vector[markers_on].sum()/2\n",
    "monthly_average = d,e\n",
    "ax[0].plot(d,e, 'ro')\n",
    "middle = (taxe_vector[markers_on[0]]+taxe_vector[markers_on[1]])//2\n",
    "ax[0].plot(a[(markers_on[0]+markers_on[1])//2], \n",
    "         taxe_vector[(markers_on[0]+markers_on[1])//2], 'bo')\n",
    "\n",
    "annual_average = a[(markers_on[0]+markers_on[1])/2], taxe_vector[(markers_on[0]+markers_on[1])/2]\n",
    "plot_line_between_points(monthly_average, annual_average, ax[0])\n",
    "#####Graph du bas\n",
    "ax[1].plot(a,utility_vector)\n",
    "ax[1].plot(a[markers_on], utility_vector[markers_on], 'bo')\n",
    "#Taxed utility\n",
    "ax[1].plot(a[markers_on], utility_disposable_income[markers_on], 'ro')\n",
    "plot_line_between_points(first_point = \n",
    "                         (a[markers_on][0], utility_disposable_income[markers_on][0]),\n",
    "                         second_point = (a[markers_on][0], utility_vector[markers_on][0]),\n",
    "                        axe = ax[1])\n",
    "plot_line_between_points(first_point = \n",
    "                         (a[markers_on][1], \n",
    "                          utility_disposable_income[markers_on][1]), \n",
    "                         second_point = (a[markers_on][1], \n",
    "                                         utility_vector[markers_on][1]),\n",
    "                        axe = ax[1])\n",
    "\n",
    "plot_line_between_points(first_point = (a[markers_on][0], utility_disposable_income[markers_on][0]), second_point = (a[a_tax_util_index][0], utility_vector[a_tax_util_index][0]), axe = ax[1]) # TODO: dashed line\n",
    "plot_line_between_points(first_point = (a[markers_on][1], utility_disposable_income[markers_on][1]), second_point = (a[a_tax_util_index][1], utility_vector[a_tax_util_index][1]), axe = ax[1]) # TODO: dashed line\n",
    "plot_line_between_points(first_point = (a[markers_on][0], utility_disposable_income[markers_on][0]), second_point = (a[a_tax_util_index][0], utility_vector[a_tax_util_index][0]), axe = ax[1]) # TODO: dashed line\n",
    "plot_line_between_points(first_point = (a[markers_on][1], utility_disposable_income[markers_on][1]), second_point = (a[a_tax_util_index][1], utility_vector[a_tax_util_index][1]), axe = ax[1]) # TODO: dashed line\n",
    "\n",
    "\n",
    "\n",
    "\n",
    "ax[1].plot(a[a_tax_util_index] , utility_vector[a_tax_util_index] , 'bo')\n",
    "\n",
    "\n",
    "if save ==True:\n",
    "    savefige_count += 1\n",
    "    savefig('illustration_theoreme{}.png'.format(savefige_count))"
   ]
  },
  {
   "cell_type": "code",
   "execution_count": 26,
   "metadata": {
    "collapsed": false
   },
   "outputs": [
    {
     "name": "stderr",
     "output_type": "stream",
     "text": [
      "/usr/local/lib/python2.7/site-packages/ipykernel/__main__.py:17: DeprecationWarning: using a non-integer number instead of an integer will result in an error in the future\n"
     ]
    }
   ],
   "source": [
    "fig, ax = plt.subplots(nrows=2, ncols=1, figsize = (9,9))\n",
    "markers_on = [30000, 90000 ]\n",
    "###Graph du Haut\n",
    "\n",
    "ax[0].plot(taxe_vector)\n",
    "ax[0].plot(a[markers_on], taxe_vector[markers_on], 'bo')\n",
    "ax[0].plot(a[markers_on].tolist(),taxe_vector[markers_on].tolist(),)\n",
    "\n",
    "d = a[markers_on].sum()/2\n",
    "e = taxe_vector[markers_on].sum()/2\n",
    "monthly_average = d,e\n",
    "ax[0].plot(d,e, 'ro')\n",
    "middle = (taxe_vector[markers_on[0]]+taxe_vector[markers_on[1]])//2\n",
    "ax[0].plot(a[(markers_on[0]+markers_on[1])//2], \n",
    "         taxe_vector[(markers_on[0]+markers_on[1])//2], 'bo')\n",
    "\n",
    "annual_average = a[(markers_on[0]+markers_on[1])/2], taxe_vector[(markers_on[0]+markers_on[1])/2]\n",
    "plot_line_between_points(monthly_average, annual_average, ax[0])\n",
    "#####Graph du bas\n",
    "ax[1].plot(a,utility_vector)\n",
    "ax[1].plot(a[markers_on], utility_vector[markers_on], 'bo')\n",
    "#Taxed utility\n",
    "ax[1].plot(a[markers_on], utility_disposable_income[markers_on], 'ro')\n",
    "plot_line_between_points(first_point = \n",
    "                         (a[markers_on][0], utility_disposable_income[markers_on][0]),\n",
    "                         second_point = (a[markers_on][0], utility_vector[markers_on][0]),\n",
    "                        axe = ax[1])\n",
    "plot_line_between_points(first_point = \n",
    "                         (a[markers_on][1], \n",
    "                          utility_disposable_income[markers_on][1]), \n",
    "                         second_point = (a[markers_on][1], \n",
    "                                         utility_vector[markers_on][1]),\n",
    "                        axe = ax[1])\n",
    "\n",
    "plot_line_between_points(first_point = (a[markers_on][0], utility_disposable_income[markers_on][0]), second_point = (a[a_tax_util_index][0], utility_vector[a_tax_util_index][0]), axe = ax[1]) # TODO: dashed line\n",
    "plot_line_between_points(first_point = (a[markers_on][1], utility_disposable_income[markers_on][1]), second_point = (a[a_tax_util_index][1], utility_vector[a_tax_util_index][1]), axe = ax[1]) # TODO: dashed line\n",
    "plot_line_between_points(first_point = (a[markers_on][0], utility_disposable_income[markers_on][0]), second_point = (a[a_tax_util_index][0], utility_vector[a_tax_util_index][0]), axe = ax[1]) # TODO: dashed line\n",
    "plot_line_between_points(first_point = (a[markers_on][1], utility_disposable_income[markers_on][1]), second_point = (a[a_tax_util_index][1], utility_vector[a_tax_util_index][1]), axe = ax[1]) # TODO: dashed line\n",
    "\n",
    "ax[1].plot(a[a_tax_util_index].tolist(),utility_vector[a_tax_util_index].tolist(),)\n",
    "\n",
    "\n",
    "ax[1].plot(a[a_tax_util_index] , utility_vector[a_tax_util_index] , 'bo')\n",
    "\n",
    "\n",
    "if save ==True:\n",
    "    savefige_count += 1\n",
    "    savefig('illustration_theoreme{}.png'.format(savefige_count))"
   ]
  },
  {
   "cell_type": "code",
   "execution_count": 27,
   "metadata": {
    "collapsed": false
   },
   "outputs": [
    {
     "name": "stderr",
     "output_type": "stream",
     "text": [
      "/usr/local/lib/python2.7/site-packages/ipykernel/__main__.py:17: DeprecationWarning: using a non-integer number instead of an integer will result in an error in the future\n"
     ]
    }
   ],
   "source": [
    "fig, ax = plt.subplots(nrows=2, ncols=1, figsize = (9,9))\n",
    "markers_on = [30000, 90000 ]\n",
    "###Graph du Haut\n",
    "\n",
    "ax[0].plot(taxe_vector)\n",
    "ax[0].plot(a[markers_on], taxe_vector[markers_on], 'bo')\n",
    "ax[0].plot(a[markers_on].tolist(),taxe_vector[markers_on].tolist(),)\n",
    "\n",
    "d = a[markers_on].sum()/2\n",
    "e = taxe_vector[markers_on].sum()/2\n",
    "monthly_average = d,e\n",
    "ax[0].plot(d,e, 'ro')\n",
    "middle = (taxe_vector[markers_on[0]]+taxe_vector[markers_on[1]])//2\n",
    "ax[0].plot(a[(markers_on[0]+markers_on[1])//2], \n",
    "         taxe_vector[(markers_on[0]+markers_on[1])//2], 'bo')\n",
    "\n",
    "annual_average = a[(markers_on[0]+markers_on[1])/2], taxe_vector[(markers_on[0]+markers_on[1])/2]\n",
    "plot_line_between_points(monthly_average, annual_average, ax[0])\n",
    "#####Graph du bas\n",
    "ax[1].plot(a,utility_vector)\n",
    "ax[1].plot(a[markers_on], utility_vector[markers_on], 'bo')\n",
    "#Taxed utility\n",
    "ax[1].plot(a[markers_on], utility_disposable_income[markers_on], 'ro')\n",
    "plot_line_between_points(first_point = \n",
    "                         (a[markers_on][0], utility_disposable_income[markers_on][0]),\n",
    "                         second_point = (a[markers_on][0], utility_vector[markers_on][0]),\n",
    "                        axe = ax[1])\n",
    "plot_line_between_points(first_point = \n",
    "                         (a[markers_on][1], \n",
    "                          utility_disposable_income[markers_on][1]), \n",
    "                         second_point = (a[markers_on][1], \n",
    "                                         utility_vector[markers_on][1]),\n",
    "                        axe = ax[1])\n",
    "\n",
    "plot_line_between_points(first_point = (a[markers_on][0], utility_disposable_income[markers_on][0]), second_point = (a[a_tax_util_index][0], utility_vector[a_tax_util_index][0]), axe = ax[1]) # TODO: dashed line\n",
    "plot_line_between_points(first_point = (a[markers_on][1], utility_disposable_income[markers_on][1]), second_point = (a[a_tax_util_index][1], utility_vector[a_tax_util_index][1]), axe = ax[1]) # TODO: dashed line\n",
    "plot_line_between_points(first_point = (a[markers_on][0], utility_disposable_income[markers_on][0]), second_point = (a[a_tax_util_index][0], utility_vector[a_tax_util_index][0]), axe = ax[1]) # TODO: dashed line\n",
    "plot_line_between_points(first_point = (a[markers_on][1], utility_disposable_income[markers_on][1]), second_point = (a[a_tax_util_index][1], utility_vector[a_tax_util_index][1]), axe = ax[1]) # TODO: dashed line\n",
    "\n",
    "ax[1].plot(a[a_tax_util_index].tolist(),utility_vector[a_tax_util_index].tolist(),)\n",
    "\n",
    "\n",
    "ax[1].plot(a[a_tax_util_index] , utility_vector[a_tax_util_index] , 'bo')\n",
    "d = a[a_tax_util_index].sum()/2\n",
    "e = utility_vector[a_tax_util_index].sum()/2\n",
    "monthly_average = d,e\n",
    "ax[1].plot(d,e, 'ro')\n",
    "\n",
    "\n",
    "if save ==True:\n",
    "    savefige_count += 1\n",
    "    savefig('illustration_theoreme{}.png'.format(savefige_count))"
   ]
  },
  {
   "cell_type": "code",
   "execution_count": 28,
   "metadata": {
    "collapsed": false
   },
   "outputs": [
    {
     "name": "stderr",
     "output_type": "stream",
     "text": [
      "/usr/local/lib/python2.7/site-packages/ipykernel/__main__.py:17: DeprecationWarning: using a non-integer number instead of an integer will result in an error in the future\n"
     ]
    }
   ],
   "source": [
    "fig, ax = plt.subplots(nrows=2, ncols=1, figsize = (9,9))\n",
    "markers_on = [30000, 90000 ]\n",
    "###Graph du Haut\n",
    "\n",
    "ax[0].plot(taxe_vector)\n",
    "ax[0].plot(a[markers_on], taxe_vector[markers_on], 'bo')\n",
    "ax[0].plot(a[markers_on].tolist(),taxe_vector[markers_on].tolist(),)\n",
    "\n",
    "d = a[markers_on].sum()/2\n",
    "e = taxe_vector[markers_on].sum()/2\n",
    "monthly_average = d,e\n",
    "ax[0].plot(d,e, 'ro')\n",
    "middle = (taxe_vector[markers_on[0]]+taxe_vector[markers_on[1]])//2\n",
    "ax[0].plot(a[(markers_on[0]+markers_on[1])//2], \n",
    "         taxe_vector[(markers_on[0]+markers_on[1])//2], 'bo')\n",
    "\n",
    "annual_average = a[(markers_on[0]+markers_on[1])/2], taxe_vector[(markers_on[0]+markers_on[1])/2]\n",
    "plot_line_between_points(monthly_average, annual_average, ax[0])\n",
    "#####Graph du bas\n",
    "ax[1].plot(a,utility_vector)\n",
    "ax[1].plot(a[markers_on], utility_vector[markers_on], 'bo')\n",
    "#Taxed utility\n",
    "ax[1].plot(a[markers_on], utility_disposable_income[markers_on], 'ro')\n",
    "plot_line_between_points(first_point = \n",
    "                         (a[markers_on][0], utility_disposable_income[markers_on][0]),\n",
    "                         second_point = (a[markers_on][0], utility_vector[markers_on][0]),\n",
    "                        axe = ax[1])\n",
    "plot_line_between_points(first_point = \n",
    "                         (a[markers_on][1], \n",
    "                          utility_disposable_income[markers_on][1]), \n",
    "                         second_point = (a[markers_on][1], \n",
    "                                         utility_vector[markers_on][1]),\n",
    "                        axe = ax[1])\n",
    "\n",
    "plot_line_between_points(first_point = (a[markers_on][0], utility_disposable_income[markers_on][0]), second_point = (a[a_tax_util_index][0], utility_vector[a_tax_util_index][0]), axe = ax[1]) # TODO: dashed line\n",
    "plot_line_between_points(first_point = (a[markers_on][1], utility_disposable_income[markers_on][1]), second_point = (a[a_tax_util_index][1], utility_vector[a_tax_util_index][1]), axe = ax[1]) # TODO: dashed line\n",
    "plot_line_between_points(first_point = (a[markers_on][0], utility_disposable_income[markers_on][0]), second_point = (a[a_tax_util_index][0], utility_vector[a_tax_util_index][0]), axe = ax[1]) # TODO: dashed line\n",
    "plot_line_between_points(first_point = (a[markers_on][1], utility_disposable_income[markers_on][1]), second_point = (a[a_tax_util_index][1], utility_vector[a_tax_util_index][1]), axe = ax[1]) # TODO: dashed line\n",
    "\n",
    "ax[1].plot(a[a_tax_util_index].tolist(),utility_vector[a_tax_util_index].tolist(),)\n",
    "\n",
    "\n",
    "ax[1].plot(a[a_tax_util_index] , utility_vector[a_tax_util_index] , 'bo')\n",
    "d = a[a_tax_util_index].sum()/2\n",
    "e = utility_vector[a_tax_util_index].sum()/2\n",
    "monthly_average = d,e\n",
    "ax[1].plot(d,e, 'ro')\n",
    "\n",
    "#equivalent of a stable disposable income\n",
    "plot_line_between_points(first_point = (a[find_nearest(utility_vector,e)], utility_vector[find_nearest(utility_vector,e)]), \n",
    "                         second_point = (d,e), axe = ax[1])\n",
    "#ax[1].plot(a[find_nearest(utility_vector,e)], utility_vector[find_nearest(utility_vector,e)], 'ro')\n",
    "\n",
    "\n",
    "if save ==True:\n",
    "    savefige_count += 1\n",
    "    savefig('illustration_theoreme{}.png'.format(savefige_count))"
   ]
  },
  {
   "cell_type": "code",
   "execution_count": 29,
   "metadata": {
    "collapsed": false
   },
   "outputs": [
    {
     "name": "stderr",
     "output_type": "stream",
     "text": [
      "/usr/local/lib/python2.7/site-packages/ipykernel/__main__.py:17: DeprecationWarning: using a non-integer number instead of an integer will result in an error in the future\n",
      "/usr/local/lib/python2.7/site-packages/ipykernel/__main__.py:58: DeprecationWarning: using a non-integer number instead of an integer will result in an error in the future\n"
     ]
    }
   ],
   "source": [
    "fig, ax = plt.subplots(nrows=2, ncols=1, figsize = (9,9))\n",
    "markers_on = [30000, 90000 ]\n",
    "###Graph du Haut\n",
    "\n",
    "ax[0].plot(taxe_vector)\n",
    "ax[0].plot(a[markers_on], taxe_vector[markers_on], 'bo')\n",
    "ax[0].plot(a[markers_on].tolist(),taxe_vector[markers_on].tolist(),)\n",
    "\n",
    "d = a[markers_on].sum()/2\n",
    "e = taxe_vector[markers_on].sum()/2\n",
    "monthly_average = d,e\n",
    "ax[0].plot(d,e, 'ro')\n",
    "middle = (taxe_vector[markers_on[0]]+taxe_vector[markers_on[1]])//2\n",
    "ax[0].plot(a[(markers_on[0]+markers_on[1])//2], \n",
    "         taxe_vector[(markers_on[0]+markers_on[1])//2], 'bo')\n",
    "\n",
    "annual_average = a[(markers_on[0]+markers_on[1])/2], taxe_vector[(markers_on[0]+markers_on[1])/2]\n",
    "plot_line_between_points(monthly_average, annual_average, ax[0])\n",
    "#####Graph du bas\n",
    "ax[1].plot(a,utility_vector)\n",
    "ax[1].plot(a[markers_on], utility_vector[markers_on], 'bo')\n",
    "#Taxed utility\n",
    "ax[1].plot(a[markers_on], utility_disposable_income[markers_on], 'ro')\n",
    "plot_line_between_points(first_point = \n",
    "                         (a[markers_on][0], utility_disposable_income[markers_on][0]),\n",
    "                         second_point = (a[markers_on][0], utility_vector[markers_on][0]),\n",
    "                        axe = ax[1])\n",
    "plot_line_between_points(first_point = \n",
    "                         (a[markers_on][1], \n",
    "                          utility_disposable_income[markers_on][1]), \n",
    "                         second_point = (a[markers_on][1], \n",
    "                                         utility_vector[markers_on][1]),\n",
    "                        axe = ax[1])\n",
    "\n",
    "plot_line_between_points(first_point = (a[markers_on][0], utility_disposable_income[markers_on][0]), second_point = (a[a_tax_util_index][0], utility_vector[a_tax_util_index][0]), axe = ax[1]) # TODO: dashed line\n",
    "plot_line_between_points(first_point = (a[markers_on][1], utility_disposable_income[markers_on][1]), second_point = (a[a_tax_util_index][1], utility_vector[a_tax_util_index][1]), axe = ax[1]) # TODO: dashed line\n",
    "plot_line_between_points(first_point = (a[markers_on][0], utility_disposable_income[markers_on][0]), second_point = (a[a_tax_util_index][0], utility_vector[a_tax_util_index][0]), axe = ax[1]) # TODO: dashed line\n",
    "plot_line_between_points(first_point = (a[markers_on][1], utility_disposable_income[markers_on][1]), second_point = (a[a_tax_util_index][1], utility_vector[a_tax_util_index][1]), axe = ax[1]) # TODO: dashed line\n",
    "\n",
    "ax[1].plot(a[a_tax_util_index].tolist(),utility_vector[a_tax_util_index].tolist(),)\n",
    "\n",
    "\n",
    "ax[1].plot(a[a_tax_util_index] , utility_vector[a_tax_util_index] , 'bo')\n",
    "d = a[a_tax_util_index].sum()/2\n",
    "e = utility_vector[a_tax_util_index].sum()/2\n",
    "monthly_average = d,e\n",
    "ax[1].plot(d,e, 'ro')\n",
    "\n",
    "#equivalent of a stable disposable income\n",
    "plot_line_between_points(first_point = (a[find_nearest(utility_vector,e)], utility_vector[find_nearest(utility_vector,e)]), \n",
    "                         second_point = (d,e), axe = ax[1])\n",
    "ax[1].plot(a[find_nearest(utility_vector,e)], utility_vector[find_nearest(utility_vector,e)], 'ro')\n",
    "\n",
    "\n",
    "\n",
    "#Annual après taxe\n",
    "d = a[markers_on].sum()/2\n",
    "monthly_annual_tax = taxe_vector[d]\n",
    "monthly_d_income_a_t = a[markers_on] - monthly_annual_tax\n",
    "monthly_u_a_t = utility_vector[find_nearests(a, monthly_d_income_a_t)]\n",
    "plt.plot(a[markers_on][1],monthly_u_a_t[1], 'go')\n",
    "plt.plot(a[markers_on][0],monthly_u_a_t[0], 'go')\n",
    "\n",
    "\n",
    "\n",
    "if save ==True:\n",
    "    savefige_count += 1\n",
    "    savefig('illustration_theoreme{}.png'.format(savefige_count))"
   ]
  },
  {
   "cell_type": "code",
   "execution_count": 30,
   "metadata": {
    "collapsed": false
   },
   "outputs": [
    {
     "name": "stderr",
     "output_type": "stream",
     "text": [
      "/usr/local/lib/python2.7/site-packages/ipykernel/__main__.py:17: DeprecationWarning: using a non-integer number instead of an integer will result in an error in the future\n",
      "/usr/local/lib/python2.7/site-packages/ipykernel/__main__.py:28: DeprecationWarning: using a non-integer number instead of an integer will result in an error in the future\n"
     ]
    }
   ],
   "source": [
    "fig, ax = plt.subplots(nrows=2, ncols=1, figsize = (9,9))\n",
    "markers_on = [30000, 90000 ]\n",
    "###Graph du Haut\n",
    "\n",
    "ax[0].plot(taxe_vector)\n",
    "ax[0].plot(a[markers_on], taxe_vector[markers_on], 'bo')\n",
    "ax[0].plot(a[markers_on].tolist(),taxe_vector[markers_on].tolist(),)\n",
    "\n",
    "d = a[markers_on].sum()/2\n",
    "e = taxe_vector[markers_on].sum()/2\n",
    "monthly_average = d,e\n",
    "ax[0].plot(d,e, 'ro')\n",
    "middle = (taxe_vector[markers_on[0]]+taxe_vector[markers_on[1]])//2\n",
    "ax[0].plot(a[(markers_on[0]+markers_on[1])//2], \n",
    "         taxe_vector[(markers_on[0]+markers_on[1])//2], 'bo')\n",
    "\n",
    "annual_average = a[(markers_on[0]+markers_on[1])/2], taxe_vector[(markers_on[0]+markers_on[1])/2]\n",
    "plot_line_between_points(monthly_average, annual_average, ax[0])\n",
    "\n",
    "\n",
    "#####Graph du bas\n",
    "ax[1].plot(a,utility_vector)\n",
    "ax[1].plot(a[markers_on], utility_vector[markers_on], 'bo')\n",
    "\n",
    "\n",
    "#Annual après taxe\n",
    "d = a[markers_on].sum()/2\n",
    "monthly_annual_tax = taxe_vector[d]\n",
    "monthly_d_income_a_t = a[markers_on] - monthly_annual_tax\n",
    "monthly_u_a_t = utility_vector[find_nearests(a, monthly_d_income_a_t)]\n",
    "plt.plot(a[markers_on][1],monthly_u_a_t[1], 'co')\n",
    "plt.plot(a[markers_on][0],monthly_u_a_t[0], 'co')\n",
    "\n",
    "\n",
    "if save ==True:\n",
    "    savefige_count += 1\n",
    "    savefig('illustration_theoreme{}.png'.format(savefige_count))"
   ]
  },
  {
   "cell_type": "code",
   "execution_count": 31,
   "metadata": {
    "collapsed": false
   },
   "outputs": [
    {
     "name": "stderr",
     "output_type": "stream",
     "text": [
      "/usr/local/lib/python2.7/site-packages/ipykernel/__main__.py:17: DeprecationWarning: using a non-integer number instead of an integer will result in an error in the future\n",
      "/usr/local/lib/python2.7/site-packages/ipykernel/__main__.py:28: DeprecationWarning: using a non-integer number instead of an integer will result in an error in the future\n"
     ]
    }
   ],
   "source": [
    "fig, ax = plt.subplots(nrows=2, ncols=1, figsize = (9,9))\n",
    "markers_on = [30000, 90000 ]\n",
    "###Graph du Haut\n",
    "\n",
    "ax[0].plot(taxe_vector)\n",
    "ax[0].plot(a[markers_on], taxe_vector[markers_on], 'bo')\n",
    "ax[0].plot(a[markers_on].tolist(),taxe_vector[markers_on].tolist(),)\n",
    "\n",
    "d = a[markers_on].sum()/2\n",
    "e = taxe_vector[markers_on].sum()/2\n",
    "monthly_average = d,e\n",
    "ax[0].plot(d,e, 'ro')\n",
    "middle = (taxe_vector[markers_on[0]]+taxe_vector[markers_on[1]])//2\n",
    "ax[0].plot(a[(markers_on[0]+markers_on[1])//2], \n",
    "         taxe_vector[(markers_on[0]+markers_on[1])//2], 'bo')\n",
    "\n",
    "annual_average = a[(markers_on[0]+markers_on[1])/2], taxe_vector[(markers_on[0]+markers_on[1])/2]\n",
    "plot_line_between_points(monthly_average, annual_average, ax[0])\n",
    "\n",
    "\n",
    "#####Graph du bas\n",
    "ax[1].plot(a,utility_vector)\n",
    "ax[1].plot(a[markers_on], utility_vector[markers_on], 'bo')\n",
    "\n",
    "\n",
    "#Annual après taxe\n",
    "d = a[markers_on].sum()/2\n",
    "monthly_annual_tax = taxe_vector[d]\n",
    "monthly_d_income_a_t = a[markers_on] - monthly_annual_tax\n",
    "monthly_u_a_t = utility_vector[find_nearests(a, monthly_d_income_a_t)]\n",
    "plt.plot(a[markers_on][1],monthly_u_a_t[1], 'co')\n",
    "plt.plot(a[markers_on][0],monthly_u_a_t[0], 'co')\n",
    " #projection sur axe utilité\n",
    "idx = find_nearests(a, monthly_d_income_a_t)\n",
    "plt.plot(a[idx][0], utility_vector[idx][0], 'co')\n",
    "plt.plot(a[idx][1], utility_vector[idx][1], 'co')\n",
    "\n",
    "\n",
    "\n",
    "if save ==True:\n",
    "    savefige_count += 1\n",
    "    savefig('illustration_theoreme{}.png'.format(savefige_count))"
   ]
  },
  {
   "cell_type": "code",
   "execution_count": 32,
   "metadata": {
    "collapsed": false
   },
   "outputs": [
    {
     "name": "stderr",
     "output_type": "stream",
     "text": [
      "/usr/local/lib/python2.7/site-packages/ipykernel/__main__.py:17: DeprecationWarning: using a non-integer number instead of an integer will result in an error in the future\n",
      "/usr/local/lib/python2.7/site-packages/ipykernel/__main__.py:28: DeprecationWarning: using a non-integer number instead of an integer will result in an error in the future\n"
     ]
    }
   ],
   "source": [
    "fig, ax = plt.subplots(nrows=2, ncols=1, figsize = (9,9))\n",
    "markers_on = [30000, 90000 ]\n",
    "###Graph du Haut\n",
    "\n",
    "ax[0].plot(taxe_vector)\n",
    "ax[0].plot(a[markers_on], taxe_vector[markers_on], 'bo')\n",
    "ax[0].plot(a[markers_on].tolist(),taxe_vector[markers_on].tolist(),)\n",
    "\n",
    "d = a[markers_on].sum()/2\n",
    "e = taxe_vector[markers_on].sum()/2\n",
    "monthly_average = d,e\n",
    "ax[0].plot(d,e, 'ro')\n",
    "middle = (taxe_vector[markers_on[0]]+taxe_vector[markers_on[1]])//2\n",
    "ax[0].plot(a[(markers_on[0]+markers_on[1])//2], \n",
    "         taxe_vector[(markers_on[0]+markers_on[1])//2], 'bo')\n",
    "\n",
    "annual_average = a[(markers_on[0]+markers_on[1])/2], taxe_vector[(markers_on[0]+markers_on[1])/2]\n",
    "plot_line_between_points(monthly_average, annual_average, ax[0])\n",
    "\n",
    "\n",
    "#####Graph du bas\n",
    "ax[1].plot(a,utility_vector)\n",
    "ax[1].plot(a[markers_on], utility_vector[markers_on], 'bo')\n",
    "\n",
    "\n",
    "#Annual après taxe\n",
    "d = a[markers_on].sum()/2\n",
    "monthly_annual_tax = taxe_vector[d]\n",
    "monthly_d_income_a_t = a[markers_on] - monthly_annual_tax\n",
    "monthly_u_a_t = utility_vector[find_nearests(a, monthly_d_income_a_t)]\n",
    "plt.plot(a[markers_on][1],monthly_u_a_t[1], 'co')\n",
    "plt.plot(a[markers_on][0],monthly_u_a_t[0], 'co')\n",
    " #projection sur axe utilité\n",
    "idx = find_nearests(a, monthly_d_income_a_t)\n",
    "plt.plot(a[idx][0], utility_vector[idx][0], 'co')\n",
    "plt.plot(a[idx][1], utility_vector[idx][1], 'co')\n",
    "plot_line_between_points([a[idx][0], utility_vector[idx][0]], \n",
    "                         [a[idx][1], utility_vector[idx][1]], ax[1])\n",
    "\n",
    "\n",
    "if save ==True:\n",
    "    savefige_count += 1\n",
    "    savefig('illustration_theoreme{}.png'.format(savefige_count))"
   ]
  },
  {
   "cell_type": "code",
   "execution_count": 33,
   "metadata": {
    "collapsed": false
   },
   "outputs": [
    {
     "name": "stderr",
     "output_type": "stream",
     "text": [
      "/usr/local/lib/python2.7/site-packages/ipykernel/__main__.py:17: DeprecationWarning: using a non-integer number instead of an integer will result in an error in the future\n",
      "/usr/local/lib/python2.7/site-packages/ipykernel/__main__.py:28: DeprecationWarning: using a non-integer number instead of an integer will result in an error in the future\n"
     ]
    }
   ],
   "source": [
    "fig, ax = plt.subplots(nrows=2, ncols=1, figsize = (9,9))\n",
    "markers_on = [30000, 90000 ]\n",
    "###Graph du Haut\n",
    "\n",
    "ax[0].plot(taxe_vector)\n",
    "ax[0].plot(a[markers_on], taxe_vector[markers_on], 'bo')\n",
    "ax[0].plot(a[markers_on].tolist(),taxe_vector[markers_on].tolist(),)\n",
    "\n",
    "d = a[markers_on].sum()/2\n",
    "e = taxe_vector[markers_on].sum()/2\n",
    "monthly_average = d,e\n",
    "ax[0].plot(d,e, 'ro')\n",
    "middle = (taxe_vector[markers_on[0]]+taxe_vector[markers_on[1]])//2\n",
    "ax[0].plot(a[(markers_on[0]+markers_on[1])//2], \n",
    "         taxe_vector[(markers_on[0]+markers_on[1])//2], 'bo')\n",
    "\n",
    "annual_average = a[(markers_on[0]+markers_on[1])/2], taxe_vector[(markers_on[0]+markers_on[1])/2]\n",
    "plot_line_between_points(monthly_average, annual_average, ax[0])\n",
    "\n",
    "\n",
    "#####Graph du bas\n",
    "ax[1].plot(a,utility_vector)\n",
    "ax[1].plot(a[markers_on], utility_vector[markers_on], 'bo')\n",
    "\n",
    "\n",
    "#Annual après taxe\n",
    "d = a[markers_on].sum()/2\n",
    "monthly_annual_tax = taxe_vector[d]\n",
    "monthly_d_income_a_t = a[markers_on] - monthly_annual_tax\n",
    "monthly_u_a_t = utility_vector[find_nearests(a, monthly_d_income_a_t)]\n",
    "plt.plot(a[markers_on][1],monthly_u_a_t[1], 'co')\n",
    "plt.plot(a[markers_on][0],monthly_u_a_t[0], 'co')\n",
    " #projection sur axe utilité\n",
    "idx = find_nearests(a, monthly_d_income_a_t)\n",
    "plt.plot(a[idx][0], utility_vector[idx][0], 'co')\n",
    "plt.plot(a[idx][1], utility_vector[idx][1], 'co')\n",
    " #line between annual points\n",
    "plot_line_between_points([a[idx][0], utility_vector[idx][0]], \n",
    "                         [a[idx][1], utility_vector[idx][1]], ax[1])\n",
    " #average annual utility\n",
    "ax[1].plot((a[idx][0] + a[idx][1])/2,\n",
    "(utility_vector[idx][0] + utility_vector[idx][1])/2, 'co')\n",
    "\n",
    "\n",
    "if save ==True:\n",
    "    savefige_count += 1\n",
    "    savefig('illustration_theoreme{}.png'.format(savefige_count))"
   ]
  },
  {
   "cell_type": "code",
   "execution_count": 34,
   "metadata": {
    "collapsed": false
   },
   "outputs": [
    {
     "name": "stderr",
     "output_type": "stream",
     "text": [
      "/usr/local/lib/python2.7/site-packages/matplotlib/pyplot.py:424: RuntimeWarning: More than 20 figures have been opened. Figures created through the pyplot interface (`matplotlib.pyplot.figure`) are retained until explicitly closed and may consume too much memory. (To control this warning, see the rcParam `figure.max_open_warning`).\n",
      "  max_open_warning, RuntimeWarning)\n",
      "/usr/local/lib/python2.7/site-packages/ipykernel/__main__.py:17: DeprecationWarning: using a non-integer number instead of an integer will result in an error in the future\n",
      "/usr/local/lib/python2.7/site-packages/ipykernel/__main__.py:28: DeprecationWarning: using a non-integer number instead of an integer will result in an error in the future\n"
     ]
    }
   ],
   "source": [
    "fig, ax = plt.subplots(nrows=2, ncols=1, figsize = (9,9))\n",
    "markers_on = [30000, 90000 ]\n",
    "###Graph du Haut\n",
    "\n",
    "ax[0].plot(taxe_vector)\n",
    "ax[0].plot(a[markers_on], taxe_vector[markers_on], 'bo')\n",
    "ax[0].plot(a[markers_on].tolist(),taxe_vector[markers_on].tolist(),)\n",
    "\n",
    "d = a[markers_on].sum()/2\n",
    "e = taxe_vector[markers_on].sum()/2\n",
    "monthly_average = d,e\n",
    "ax[0].plot(d,e, 'ro')\n",
    "middle = (taxe_vector[markers_on[0]]+taxe_vector[markers_on[1]])//2\n",
    "ax[0].plot(a[(markers_on[0]+markers_on[1])//2], \n",
    "         taxe_vector[(markers_on[0]+markers_on[1])//2], 'bo')\n",
    "\n",
    "annual_average = a[(markers_on[0]+markers_on[1])/2], taxe_vector[(markers_on[0]+markers_on[1])/2]\n",
    "plot_line_between_points(monthly_average, annual_average, ax[0])\n",
    "\n",
    "\n",
    "#####Graph du bas\n",
    "ax[1].plot(a,utility_vector)\n",
    "ax[1].plot(a[markers_on], utility_vector[markers_on], 'bo')\n",
    "\n",
    "\n",
    "#Annual après taxe\n",
    "d = a[markers_on].sum()/2\n",
    "monthly_annual_tax = taxe_vector[d]\n",
    "monthly_d_income_a_t = a[markers_on] - monthly_annual_tax\n",
    "monthly_u_a_t = utility_vector[find_nearests(a, monthly_d_income_a_t)]\n",
    "plt.plot(a[markers_on][1],monthly_u_a_t[1], 'co')\n",
    "plt.plot(a[markers_on][0],monthly_u_a_t[0], 'co')\n",
    " #projection sur axe utilité\n",
    "idx = find_nearests(a, monthly_d_income_a_t)\n",
    "plt.plot(a[idx][0], utility_vector[idx][0], 'co')\n",
    "plt.plot(a[idx][1], utility_vector[idx][1], 'co')\n",
    "plot_line_between_points([a[idx][0], utility_vector[idx][0]], \n",
    "                         [a[idx][1], utility_vector[idx][1]], ax[1])\n",
    " #line between annual points\n",
    "ax[1].plot((a[idx][0] + a[idx][1])/2,\n",
    "(utility_vector[idx][0] + utility_vector[idx][1])/2, 'co')\n",
    " #projection on utility line   \n",
    "\n",
    "plot_line_between_points(\n",
    "    [a[find_nearest(utility_vector,(utility_vector[idx][0] + utility_vector[idx][1])/2)],\n",
    "         utility_vector[a[find_nearest(utility_vector,(utility_vector[idx][0] + utility_vector[idx][1])/2)]]],\n",
    "    [(a[idx][0] + a[idx][1])/2,\n",
    "(utility_vector[idx][0] + utility_vector[idx][1])/2],\n",
    "    ax[1])\n",
    "\n",
    "\n",
    "if save ==True:\n",
    "    savefige_count += 1\n",
    "    savefig('illustration_theoreme{}.png'.format(savefige_count))"
   ]
  },
  {
   "cell_type": "code",
   "execution_count": null,
   "metadata": {
    "collapsed": true
   },
   "outputs": [],
   "source": []
  },
  {
   "cell_type": "code",
   "execution_count": 35,
   "metadata": {
    "collapsed": false
   },
   "outputs": [
    {
     "name": "stderr",
     "output_type": "stream",
     "text": [
      "/usr/local/lib/python2.7/site-packages/ipykernel/__main__.py:17: DeprecationWarning: using a non-integer number instead of an integer will result in an error in the future\n",
      "/usr/local/lib/python2.7/site-packages/ipykernel/__main__.py:28: DeprecationWarning: using a non-integer number instead of an integer will result in an error in the future\n"
     ]
    }
   ],
   "source": [
    "fig, ax = plt.subplots(nrows=2, ncols=1, figsize = (9,9))\n",
    "markers_on = [30000, 90000 ]\n",
    "###Graph du Haut\n",
    "\n",
    "ax[0].plot(taxe_vector)\n",
    "ax[0].plot(a[markers_on], taxe_vector[markers_on], 'bo')\n",
    "ax[0].plot(a[markers_on].tolist(),taxe_vector[markers_on].tolist(),)\n",
    "\n",
    "d = a[markers_on].sum()/2\n",
    "e = taxe_vector[markers_on].sum()/2\n",
    "monthly_average = d,e\n",
    "ax[0].plot(d,e, 'ro')\n",
    "middle = (taxe_vector[markers_on[0]]+taxe_vector[markers_on[1]])//2\n",
    "ax[0].plot(a[(markers_on[0]+markers_on[1])//2], \n",
    "         taxe_vector[(markers_on[0]+markers_on[1])//2], 'bo')\n",
    "\n",
    "annual_average = a[(markers_on[0]+markers_on[1])/2], taxe_vector[(markers_on[0]+markers_on[1])/2]\n",
    "plot_line_between_points(monthly_average, annual_average, ax[0])\n",
    "\n",
    "\n",
    "#####Graph du bas\n",
    "ax[1].plot(a,utility_vector)\n",
    "ax[1].plot(a[markers_on], utility_vector[markers_on], 'bo')\n",
    "\n",
    "\n",
    "#Annual après taxe\n",
    "d = a[markers_on].sum()/2\n",
    "monthly_annual_tax = taxe_vector[d]\n",
    "monthly_d_income_a_t = a[markers_on] - monthly_annual_tax\n",
    "monthly_u_a_t = utility_vector[find_nearests(a, monthly_d_income_a_t)]\n",
    "plt.plot(a[markers_on][1],monthly_u_a_t[1], 'co')\n",
    "plt.plot(a[markers_on][0],monthly_u_a_t[0], 'co')\n",
    " #projection sur axe utilité\n",
    "idx = find_nearests(a, monthly_d_income_a_t)\n",
    "plt.plot(a[idx][0], utility_vector[idx][0], 'co')\n",
    "plt.plot(a[idx][1], utility_vector[idx][1], 'co')\n",
    "plot_line_between_points([a[idx][0], utility_vector[idx][0]], \n",
    "                         [a[idx][1], utility_vector[idx][1]], ax[1])\n",
    " #line between annual points\n",
    "ax[1].plot((a[idx][0] + a[idx][1])/2,\n",
    "(utility_vector[idx][0] + utility_vector[idx][1])/2, 'co')\n",
    " #projection on utility line   \n",
    "ax[1].plot(a[find_nearest(utility_vector,(utility_vector[idx][0] + utility_vector[idx][1])/2)],\n",
    "         utility_vector[a[find_nearest(utility_vector,(utility_vector[idx][0] + utility_vector[idx][1])/2)]],'co')\n",
    "plot_line_between_points(\n",
    "    [a[find_nearest(utility_vector,(utility_vector[idx][0] + utility_vector[idx][1])/2)],\n",
    "         utility_vector[a[find_nearest(utility_vector,(utility_vector[idx][0] + utility_vector[idx][1])/2)]]],\n",
    "    [(a[idx][0] + a[idx][1])/2,\n",
    "(utility_vector[idx][0] + utility_vector[idx][1])/2],\n",
    "    ax[1])\n",
    "\n",
    "\n",
    "if save ==True:\n",
    "    savefige_count += 1\n",
    "    savefig('illustration_theoreme{}.png'.format(savefige_count))"
   ]
  },
  {
   "cell_type": "code",
   "execution_count": 36,
   "metadata": {
    "collapsed": false
   },
   "outputs": [
    {
     "data": {
      "text/plain": [
       "[99999, 99999]"
      ]
     },
     "execution_count": 36,
     "metadata": {},
     "output_type": "execute_result"
    }
   ],
   "source": [
    "find_nearests(utility_vector, monthly_d_income_a_t)"
   ]
  },
  {
   "cell_type": "code",
   "execution_count": 37,
   "metadata": {
    "collapsed": false
   },
   "outputs": [
    {
     "data": {
      "text/plain": [
       "33897"
      ]
     },
     "execution_count": 37,
     "metadata": {},
     "output_type": "execute_result"
    }
   ],
   "source": [
    "a[find_nearest(utility_vector,(utility_vector[idx][0] + utility_vector[idx][1])/2)]"
   ]
  },
  {
   "cell_type": "code",
   "execution_count": 38,
   "metadata": {
    "collapsed": false
   },
   "outputs": [
    {
     "name": "stderr",
     "output_type": "stream",
     "text": [
      "/usr/local/lib/python2.7/site-packages/ipykernel/__main__.py:17: DeprecationWarning: using a non-integer number instead of an integer will result in an error in the future\n",
      "/usr/local/lib/python2.7/site-packages/ipykernel/__main__.py:62: DeprecationWarning: using a non-integer number instead of an integer will result in an error in the future\n"
     ]
    }
   ],
   "source": [
    "fig, ax = plt.subplots(nrows=2, ncols=1, figsize = (9,9))\n",
    "markers_on = [30000, 90000 ]\n",
    "###Graph du Haut\n",
    "\n",
    "ax[0].plot(taxe_vector)\n",
    "ax[0].plot(a[markers_on], taxe_vector[markers_on], 'bo')\n",
    "ax[0].plot(a[markers_on].tolist(),taxe_vector[markers_on].tolist(),)\n",
    "\n",
    "d = a[markers_on].sum()/2\n",
    "e = taxe_vector[markers_on].sum()/2\n",
    "monthly_average = d,e\n",
    "ax[0].plot(d,e, 'ro')\n",
    "middle = (taxe_vector[markers_on[0]]+taxe_vector[markers_on[1]])//2\n",
    "ax[0].plot(a[(markers_on[0]+markers_on[1])//2], \n",
    "         taxe_vector[(markers_on[0]+markers_on[1])//2], 'bo')\n",
    "\n",
    "annual_average = a[(markers_on[0]+markers_on[1])/2], taxe_vector[(markers_on[0]+markers_on[1])/2]\n",
    "plot_line_between_points(monthly_average, annual_average, ax[0])\n",
    "\n",
    "\n",
    "#####Graph du bas\n",
    "ax[1].plot(a,utility_vector)\n",
    "ax[1].plot(a[markers_on], utility_vector[markers_on], 'bo')\n",
    "\n",
    "\n",
    "\n",
    "\n",
    "#Taxed utility\n",
    "ax[1].plot(a[markers_on], utility_disposable_income[markers_on], 'ro')\n",
    "plot_line_between_points(first_point = \n",
    "                         (a[markers_on][0], utility_disposable_income[markers_on][0]),\n",
    "                         second_point = (a[markers_on][0], utility_vector[markers_on][0]),\n",
    "                        axe = ax[1])\n",
    "plot_line_between_points(first_point = \n",
    "                         (a[markers_on][1], \n",
    "                          utility_disposable_income[markers_on][1]), \n",
    "                         second_point = (a[markers_on][1], \n",
    "                                         utility_vector[markers_on][1]),\n",
    "                        axe = ax[1])\n",
    "\n",
    "\n",
    "ax[1].plot(a[a_tax_util_index].tolist(),utility_vector[a_tax_util_index].tolist(),)\n",
    "\n",
    "\n",
    "ax[1].plot(a[a_tax_util_index] , utility_vector[a_tax_util_index] , 'bo')\n",
    "d = a[a_tax_util_index].sum()/2\n",
    "e = utility_vector[a_tax_util_index].sum()/2\n",
    "monthly_average = d,e\n",
    "ax[1].plot(d,e, 'ro')\n",
    "\n",
    "#equivalent of a stable disposable income\n",
    "plot_line_between_points(first_point = (a[find_nearest(utility_vector,e)], utility_vector[find_nearest(utility_vector,e)]), \n",
    "                         second_point = (d,e), axe = ax[1])\n",
    "ax[1].plot(a[find_nearest(utility_vector,e)], utility_vector[find_nearest(utility_vector,e)], 'ro')\n",
    "\n",
    "\n",
    "\n",
    "\n",
    "\n",
    "#Annual après taxe\n",
    "d = a[markers_on].sum()/2\n",
    "monthly_annual_tax = taxe_vector[d]\n",
    "monthly_d_income_a_t = a[markers_on] - monthly_annual_tax\n",
    "monthly_u_a_t = utility_vector[find_nearests(a, monthly_d_income_a_t)]\n",
    "plt.plot(a[markers_on][1],monthly_u_a_t[1], 'co')\n",
    "plt.plot(a[markers_on][0],monthly_u_a_t[0], 'co')\n",
    " #projection sur axe utilité\n",
    "idx = find_nearests(a, monthly_d_income_a_t)\n",
    "plt.plot(a[idx][0], utility_vector[idx][0], 'co')\n",
    "plt.plot(a[idx][1], utility_vector[idx][1], 'co')\n",
    "plot_line_between_points([a[idx][0], utility_vector[idx][0]], \n",
    "                         [a[idx][1], utility_vector[idx][1]], ax[1])\n",
    " #line between annual points\n",
    "ax[1].plot((a[idx][0] + a[idx][1])/2,\n",
    "(utility_vector[idx][0] + utility_vector[idx][1])/2, 'co')\n",
    " #projection on utility line   \n",
    "ax[1].plot(a[find_nearest(utility_vector,(utility_vector[idx][0] + utility_vector[idx][1])/2)],\n",
    "         utility_vector[a[find_nearest(utility_vector,(utility_vector[idx][0] + utility_vector[idx][1])/2)]],'co')\n",
    "plot_line_between_points(\n",
    "    [a[find_nearest(utility_vector,(utility_vector[idx][0] + utility_vector[idx][1])/2)],\n",
    "         utility_vector[a[find_nearest(utility_vector,(utility_vector[idx][0] + utility_vector[idx][1])/2)]]],\n",
    "    [(a[idx][0] + a[idx][1])/2,\n",
    "(utility_vector[idx][0] + utility_vector[idx][1])/2],\n",
    "    ax[1])\n",
    "\n",
    "\n",
    "if save ==True:\n",
    "    savefige_count += 1\n",
    "    savefig('illustration_theoreme{}.png'.format(savefige_count))"
   ]
  },
  {
   "cell_type": "code",
   "execution_count": 40,
   "metadata": {
    "collapsed": false
   },
   "outputs": [
    {
     "name": "stderr",
     "output_type": "stream",
     "text": [
      "/usr/local/lib/python2.7/site-packages/ipykernel/__main__.py:17: DeprecationWarning: using a non-integer number instead of an integer will result in an error in the future\n",
      "/usr/local/lib/python2.7/site-packages/ipykernel/__main__.py:51: DeprecationWarning: using a non-integer number instead of an integer will result in an error in the future\n"
     ]
    }
   ],
   "source": [
    "fig, ax = plt.subplots(nrows=2, ncols=1, figsize = (9,9))\n",
    "markers_on = [30000, 90000 ]\n",
    "###Graph du Haut\n",
    "\n",
    "ax[0].plot(taxe_vector)\n",
    "ax[0].plot(a[markers_on], taxe_vector[markers_on], 'bo')\n",
    "ax[0].plot(a[markers_on].tolist(),taxe_vector[markers_on].tolist(),)\n",
    "\n",
    "d = a[markers_on].sum()/2\n",
    "e = taxe_vector[markers_on].sum()/2\n",
    "monthly_average = d,e\n",
    "ax[0].plot(d,e, 'ro')\n",
    "middle = (taxe_vector[markers_on[0]]+taxe_vector[markers_on[1]])//2\n",
    "ax[0].plot(a[(markers_on[0]+markers_on[1])//2], \n",
    "         taxe_vector[(markers_on[0]+markers_on[1])//2], 'bo')\n",
    "\n",
    "annual_average = a[(markers_on[0]+markers_on[1])/2], taxe_vector[(markers_on[0]+markers_on[1])/2]\n",
    "plot_line_between_points(monthly_average, annual_average, ax[0])\n",
    "\n",
    "\n",
    "#####Graph du bas\n",
    "ax[1].plot(a,utility_vector)\n",
    "ax[1].plot(a[markers_on], utility_vector[markers_on], 'bo')\n",
    "\n",
    "\n",
    "\n",
    "\n",
    "#Taxed utility\n",
    "\n",
    "\n",
    "ax[1].plot(a[a_tax_util_index].tolist(),utility_vector[a_tax_util_index].tolist(),)\n",
    "\n",
    "\n",
    "ax[1].plot(a[a_tax_util_index] , utility_vector[a_tax_util_index] , 'bo')#\n",
    "d = a[a_tax_util_index].sum()/2\n",
    "e = utility_vector[a_tax_util_index].sum()/2\n",
    "monthly_average = d,e\n",
    "ax[1].plot(d,e, 'ro')\n",
    "\n",
    "#equivalent of a stable disposable income\n",
    "plot_line_between_points(first_point = (a[find_nearest(utility_vector,e)], utility_vector[find_nearest(utility_vector,e)]), \n",
    "                         second_point = (d,e), axe = ax[1])\n",
    "ax[1].plot(a[find_nearest(utility_vector,e)], utility_vector[find_nearest(utility_vector,e)], 'ro')\n",
    "\n",
    "\n",
    "\n",
    "\n",
    "\n",
    "#Annual après taxe\n",
    "d = a[markers_on].sum()/2\n",
    "monthly_annual_tax = taxe_vector[d]\n",
    "monthly_d_income_a_t = a[markers_on] - monthly_annual_tax\n",
    "monthly_u_a_t = utility_vector[find_nearests(a, monthly_d_income_a_t)]\n",
    "ax[1].plot(a[markers_on][1],monthly_u_a_t[1], 'co')\n",
    "ax[1].plot(a[markers_on][0],monthly_u_a_t[0], 'co')\n",
    " #projection sur axe utilité\n",
    "idx = find_nearests(a, monthly_d_income_a_t)\n",
    "ax[1].plot(a[idx][0], utility_vector[idx][0], 'co')#\n",
    "ax[1].plot(a[idx][1], utility_vector[idx][1], 'co')#\n",
    "plot_line_between_points([a[idx][0], utility_vector[idx][0]], \n",
    "                         [a[idx][1], utility_vector[idx][1]], ax[1])\n",
    " #line between annual points\n",
    "ax[1].plot((a[idx][0] + a[idx][1])/2,\n",
    "(utility_vector[idx][0] + utility_vector[idx][1])/2, 'co')\n",
    " #projection on utility line   \n",
    "ax[1].plot(a[find_nearest(utility_vector,(utility_vector[idx][0] + utility_vector[idx][1])/2)],\n",
    "         utility_vector[a[find_nearest(utility_vector,(utility_vector[idx][0] + utility_vector[idx][1])/2)]],'co')\n",
    "plot_line_between_points(\n",
    "    [a[find_nearest(utility_vector,(utility_vector[idx][0] + utility_vector[idx][1])/2)],\n",
    "         utility_vector[a[find_nearest(utility_vector,(utility_vector[idx][0] + utility_vector[idx][1])/2)]]],\n",
    "    [(a[idx][0] + a[idx][1])/2,\n",
    "(utility_vector[idx][0] + utility_vector[idx][1])/2],\n",
    "    ax[1])\n",
    "\n",
    "\n",
    "if save ==True:\n",
    "    savefige_count += 1\n",
    "    savefig('illustration_theoreme{}.png'.format(savefige_count))"
   ]
  },
  {
   "cell_type": "markdown",
   "metadata": {},
   "source": [
    "# Compensation"
   ]
  },
  {
   "cell_type": "code",
   "execution_count": 41,
   "metadata": {
    "collapsed": true
   },
   "outputs": [],
   "source": [
    "def compensation(markers_on = None):\n",
    "    return (\n",
    "            (concave_tax_func(income = markers_on[0]) + concave_tax_func(income = markers_on[1]))\n",
    "            / \n",
    "            (2*concave_tax_func(income = (markers_on[0]+markers_on[1])/2)))"
   ]
  },
  {
   "cell_type": "code",
   "execution_count": 42,
   "metadata": {
    "collapsed": false
   },
   "outputs": [
    {
     "name": "stderr",
     "output_type": "stream",
     "text": [
      "/usr/local/lib/python2.7/site-packages/ipykernel/__main__.py:17: DeprecationWarning: using a non-integer number instead of an integer will result in an error in the future\n",
      "/usr/local/lib/python2.7/site-packages/ipykernel/__main__.py:64: DeprecationWarning: using a non-integer number instead of an integer will result in an error in the future\n"
     ]
    }
   ],
   "source": [
    "fig, ax = plt.subplots(nrows=2, ncols=1, figsize = (9,9))\n",
    "markers_on = [30000, 90000 ]\n",
    "###Graph du Haut\n",
    "\n",
    "ax[0].plot(taxe_vector)\n",
    "ax[0].plot(a[markers_on], taxe_vector[markers_on], 'bo')\n",
    "ax[0].plot(a[markers_on].tolist(),taxe_vector[markers_on].tolist(),)\n",
    "\n",
    "d = a[markers_on].sum()/2\n",
    "e = taxe_vector[markers_on].sum()/2\n",
    "monthly_average = d,e\n",
    "ax[0].plot(d,e, 'ro')\n",
    "middle = (taxe_vector[markers_on[0]]+taxe_vector[markers_on[1]])//2\n",
    "ax[0].plot(a[(markers_on[0]+markers_on[1])//2], \n",
    "         taxe_vector[(markers_on[0]+markers_on[1])//2], 'bo')\n",
    "\n",
    "annual_average = a[(markers_on[0]+markers_on[1])/2], taxe_vector[(markers_on[0]+markers_on[1])/2]\n",
    "plot_line_between_points(monthly_average, annual_average, ax[0])\n",
    "\n",
    "\n",
    "\n",
    "\n",
    "\n",
    "\n",
    "\n",
    "\n",
    " #Compensation\n",
    "\n",
    "\n",
    "\n",
    "compensated_points = np.apply_along_axis(concave_tax_func,0, markers_on)/compensation(markers_on)\n",
    "ax[0].plot(a[markers_on],compensated_points, 'yo')\n",
    "\n",
    "#####Graph du bas\n",
    "ax[1].plot(a,utility_vector)\n",
    "ax[1].plot(a[markers_on], utility_vector[markers_on], 'bo')\n",
    "\n",
    "\n",
    "\n",
    "\n",
    "#Taxed utility\n",
    "\n",
    "\n",
    "ax[1].plot(a[a_tax_util_index].tolist(),utility_vector[a_tax_util_index].tolist(),)\n",
    "\n",
    "\n",
    "ax[1].plot(a[a_tax_util_index] , utility_vector[a_tax_util_index] , 'bo')#\n",
    "d = a[a_tax_util_index].sum()/2\n",
    "e = utility_vector[a_tax_util_index].sum()/2\n",
    "monthly_average = d,e\n",
    "ax[1].plot(d,e, 'ro')\n",
    "\n",
    "#equivalent of a stable disposable income\n",
    "plot_line_between_points(first_point = (a[find_nearest(utility_vector,e)], utility_vector[find_nearest(utility_vector,e)]), \n",
    "                         second_point = (d,e), axe = ax[1])\n",
    "ax[1].plot(a[find_nearest(utility_vector,e)], utility_vector[find_nearest(utility_vector,e)], 'ro')\n",
    "\n",
    "\n",
    "\n",
    "\n",
    "\n",
    "#Annual après taxe\n",
    "d = a[markers_on].sum()/2\n",
    "monthly_annual_tax = taxe_vector[d]\n",
    "monthly_d_income_a_t = a[markers_on] - monthly_annual_tax\n",
    "monthly_u_a_t = utility_vector[find_nearests(a, monthly_d_income_a_t)]\n",
    "ax[1].plot(a[markers_on][1],monthly_u_a_t[1], 'co')\n",
    "ax[1].plot(a[markers_on][0],monthly_u_a_t[0], 'co')\n",
    " #projection sur axe utilité\n",
    "idx = find_nearests(a, monthly_d_income_a_t)\n",
    "ax[1].plot(a[idx][0], utility_vector[idx][0], 'co')#\n",
    "ax[1].plot(a[idx][1], utility_vector[idx][1], 'co')#\n",
    "plot_line_between_points([a[idx][0], utility_vector[idx][0]], \n",
    "                         [a[idx][1], utility_vector[idx][1]], ax[1])\n",
    " #line between annual points\n",
    "ax[1].plot((a[idx][0] + a[idx][1])/2,\n",
    "(utility_vector[idx][0] + utility_vector[idx][1])/2, 'co')\n",
    " #projection on utility line   \n",
    "ax[1].plot(a[find_nearest(utility_vector,(utility_vector[idx][0] + utility_vector[idx][1])/2)],\n",
    "         utility_vector[a[find_nearest(utility_vector,(utility_vector[idx][0] + utility_vector[idx][1])/2)]],'co')\n",
    "plot_line_between_points(\n",
    "    [a[find_nearest(utility_vector,(utility_vector[idx][0] + utility_vector[idx][1])/2)],\n",
    "         utility_vector[a[find_nearest(utility_vector,(utility_vector[idx][0] + utility_vector[idx][1])/2)]]],\n",
    "    [(a[idx][0] + a[idx][1])/2,\n",
    "(utility_vector[idx][0] + utility_vector[idx][1])/2],\n",
    "    ax[1]) \n",
    "\n",
    "\n",
    "if save ==True:\n",
    "    savefige_count += 1\n",
    "    savefig('illustration_theoreme{}.png'.format(savefige_count))"
   ]
  },
  {
   "cell_type": "code",
   "execution_count": 43,
   "metadata": {
    "collapsed": false
   },
   "outputs": [
    {
     "name": "stderr",
     "output_type": "stream",
     "text": [
      "/usr/local/lib/python2.7/site-packages/ipykernel/__main__.py:17: DeprecationWarning: using a non-integer number instead of an integer will result in an error in the future\n",
      "/usr/local/lib/python2.7/site-packages/ipykernel/__main__.py:67: DeprecationWarning: using a non-integer number instead of an integer will result in an error in the future\n"
     ]
    }
   ],
   "source": [
    "fig, ax = plt.subplots(nrows=2, ncols=1, figsize = (9,9))\n",
    "markers_on = [30000, 90000 ]\n",
    "###Graph du Haut\n",
    "\n",
    "ax[0].plot(taxe_vector)\n",
    "ax[0].plot(a[markers_on], taxe_vector[markers_on], 'bo')\n",
    "ax[0].plot(a[markers_on].tolist(),taxe_vector[markers_on].tolist(),)\n",
    "\n",
    "d = a[markers_on].sum()/2\n",
    "e = taxe_vector[markers_on].sum()/2\n",
    "monthly_average = d,e\n",
    "ax[0].plot(d,e, 'ro')\n",
    "middle = (taxe_vector[markers_on[0]]+taxe_vector[markers_on[1]])//2\n",
    "ax[0].plot(a[(markers_on[0]+markers_on[1])//2], \n",
    "         taxe_vector[(markers_on[0]+markers_on[1])//2], 'bo')\n",
    "\n",
    "annual_average = a[(markers_on[0]+markers_on[1])/2], taxe_vector[(markers_on[0]+markers_on[1])/2]\n",
    "plot_line_between_points(monthly_average, annual_average, ax[0])\n",
    "\n",
    "\n",
    "\n",
    "\n",
    "\n",
    "\n",
    "\n",
    "\n",
    " #Compensation\n",
    "\n",
    "\n",
    "\n",
    "compensated_points = np.apply_along_axis(concave_tax_func,0, markers_on)/compensation(markers_on)\n",
    "ax[0].plot(a[markers_on],compensated_points, 'yo')\n",
    "\n",
    "ax[0].plot(a[markers_on], compensated_points)\n",
    "\n",
    "\n",
    "#####Graph du bas\n",
    "ax[1].plot(a,utility_vector)\n",
    "ax[1].plot(a[markers_on], utility_vector[markers_on], 'bo')\n",
    "\n",
    "\n",
    "\n",
    "\n",
    "#Taxed utility\n",
    "\n",
    "\n",
    "ax[1].plot(a[a_tax_util_index].tolist(),utility_vector[a_tax_util_index].tolist(),)\n",
    "\n",
    "\n",
    "ax[1].plot(a[a_tax_util_index] , utility_vector[a_tax_util_index] , 'bo')#\n",
    "d = a[a_tax_util_index].sum()/2\n",
    "e = utility_vector[a_tax_util_index].sum()/2\n",
    "monthly_average = d,e\n",
    "ax[1].plot(d,e, 'ro')\n",
    "\n",
    "#equivalent of a stable disposable income\n",
    "plot_line_between_points(first_point = (a[find_nearest(utility_vector,e)], utility_vector[find_nearest(utility_vector,e)]), \n",
    "                         second_point = (d,e), axe = ax[1])\n",
    "ax[1].plot(a[find_nearest(utility_vector,e)], utility_vector[find_nearest(utility_vector,e)], 'ro')\n",
    "\n",
    "\n",
    "\n",
    "\n",
    "\n",
    "#Annual après taxe\n",
    "d = a[markers_on].sum()/2\n",
    "monthly_annual_tax = taxe_vector[d]\n",
    "monthly_d_income_a_t = a[markers_on] - monthly_annual_tax\n",
    "monthly_u_a_t = utility_vector[find_nearests(a, monthly_d_income_a_t)]\n",
    "ax[1].plot(a[markers_on][1],monthly_u_a_t[1], 'co')\n",
    "ax[1].plot(a[markers_on][0],monthly_u_a_t[0], 'co')\n",
    " #projection sur axe utilité\n",
    "idx = find_nearests(a, monthly_d_income_a_t)\n",
    "ax[1].plot(a[idx][0], utility_vector[idx][0], 'co')#\n",
    "ax[1].plot(a[idx][1], utility_vector[idx][1], 'co')#\n",
    "plot_line_between_points([a[idx][0], utility_vector[idx][0]], \n",
    "                         [a[idx][1], utility_vector[idx][1]], ax[1])\n",
    " #line between annual points\n",
    "ax[1].plot((a[idx][0] + a[idx][1])/2,\n",
    "(utility_vector[idx][0] + utility_vector[idx][1])/2, 'co')\n",
    " #projection on utility line   \n",
    "ax[1].plot(a[find_nearest(utility_vector,(utility_vector[idx][0] + utility_vector[idx][1])/2)],\n",
    "         utility_vector[a[find_nearest(utility_vector,(utility_vector[idx][0] + utility_vector[idx][1])/2)]],'co')\n",
    "plot_line_between_points(\n",
    "    [a[find_nearest(utility_vector,(utility_vector[idx][0] + utility_vector[idx][1])/2)],\n",
    "         utility_vector[a[find_nearest(utility_vector,(utility_vector[idx][0] + utility_vector[idx][1])/2)]]],\n",
    "    [(a[idx][0] + a[idx][1])/2,\n",
    "(utility_vector[idx][0] + utility_vector[idx][1])/2],\n",
    "    ax[1]) \n",
    "\n",
    "\n",
    "if save ==True:\n",
    "    savefige_count += 1\n",
    "    savefig('illustration_theoreme{}.png'.format(savefige_count))"
   ]
  },
  {
   "cell_type": "code",
   "execution_count": 44,
   "metadata": {
    "collapsed": false
   },
   "outputs": [
    {
     "name": "stderr",
     "output_type": "stream",
     "text": [
      "/usr/local/lib/python2.7/site-packages/ipykernel/__main__.py:17: DeprecationWarning: using a non-integer number instead of an integer will result in an error in the future\n",
      "/usr/local/lib/python2.7/site-packages/ipykernel/__main__.py:70: DeprecationWarning: using a non-integer number instead of an integer will result in an error in the future\n"
     ]
    }
   ],
   "source": [
    "fig, ax = plt.subplots(nrows=2, ncols=1, figsize = (9,9))\n",
    "markers_on = [30000, 90000 ]\n",
    "###Graph du Haut\n",
    "\n",
    "ax[0].plot(taxe_vector)\n",
    "ax[0].plot(a[markers_on], taxe_vector[markers_on], 'bo')\n",
    "ax[0].plot(a[markers_on].tolist(),taxe_vector[markers_on].tolist(),)\n",
    "\n",
    "d = a[markers_on].sum()/2\n",
    "e = taxe_vector[markers_on].sum()/2\n",
    "monthly_average = d,e\n",
    "ax[0].plot(d,e, 'ro')\n",
    "middle = (taxe_vector[markers_on[0]]+taxe_vector[markers_on[1]])//2\n",
    "ax[0].plot(a[(markers_on[0]+markers_on[1])//2], \n",
    "         taxe_vector[(markers_on[0]+markers_on[1])//2], 'bo')\n",
    "\n",
    "annual_average = a[(markers_on[0]+markers_on[1])/2], taxe_vector[(markers_on[0]+markers_on[1])/2]\n",
    "plot_line_between_points(monthly_average, annual_average, ax[0])\n",
    "\n",
    "\n",
    "\n",
    "\n",
    "\n",
    "\n",
    "\n",
    "\n",
    " #Compensation\n",
    "\n",
    "\n",
    "\n",
    "compensated_points = np.apply_along_axis(concave_tax_func,0, markers_on)/compensation(markers_on)\n",
    "ax[0].plot(a[markers_on],compensated_points, 'yo')\n",
    "ax[0].plot(a[markers_on], compensated_points)\n",
    "d = np.apply_along_axis(concave_u_func, 0, a[markers_on] - compensated_points )\n",
    "\n",
    "\n",
    "\n",
    "\n",
    "\n",
    "#####Graph du bas\n",
    "ax[1].plot(a,utility_vector)\n",
    "\n",
    "ax[1].plot(a[markers_on],d,'yo')\n",
    "\n",
    "\n",
    "\n",
    "#Taxed utility\n",
    "\n",
    "\n",
    "ax[1].plot(a[a_tax_util_index].tolist(),utility_vector[a_tax_util_index].tolist(),)\n",
    "\n",
    "\n",
    "ax[1].plot(a[a_tax_util_index] , utility_vector[a_tax_util_index] , 'bo')#\n",
    "d = a[a_tax_util_index].sum()/2\n",
    "e = utility_vector[a_tax_util_index].sum()/2\n",
    "monthly_average = d,e\n",
    "ax[1].plot(d,e, 'ro')\n",
    "\n",
    "#equivalent of a stable disposable income\n",
    "plot_line_between_points(first_point = (a[find_nearest(utility_vector,e)], utility_vector[find_nearest(utility_vector,e)]), \n",
    "                         second_point = (d,e), axe = ax[1])\n",
    "ax[1].plot(a[find_nearest(utility_vector,e)], utility_vector[find_nearest(utility_vector,e)], 'ro')\n",
    "\n",
    "\n",
    "\n",
    "\n",
    "\n",
    "#Annual après taxe\n",
    "d = a[markers_on].sum()/2\n",
    "monthly_annual_tax = taxe_vector[d]\n",
    "monthly_d_income_a_t = a[markers_on] - monthly_annual_tax\n",
    "monthly_u_a_t = utility_vector[find_nearests(a, monthly_d_income_a_t)]\n",
    "ax[1].plot(a[markers_on][1],monthly_u_a_t[1], 'co')\n",
    "ax[1].plot(a[markers_on][0],monthly_u_a_t[0], 'co')\n",
    " #projection sur axe utilité\n",
    "idx = find_nearests(a, monthly_d_income_a_t)\n",
    "ax[1].plot(a[idx][0], utility_vector[idx][0], 'co')#\n",
    "ax[1].plot(a[idx][1], utility_vector[idx][1], 'co')#\n",
    "plot_line_between_points([a[idx][0], utility_vector[idx][0]], \n",
    "                         [a[idx][1], utility_vector[idx][1]], ax[1])\n",
    " #line between annual points\n",
    "ax[1].plot((a[idx][0] + a[idx][1])/2,\n",
    "(utility_vector[idx][0] + utility_vector[idx][1])/2, 'co')\n",
    " #projection on utility line   \n",
    "ax[1].plot(a[find_nearest(utility_vector,(utility_vector[idx][0] + utility_vector[idx][1])/2)],\n",
    "         utility_vector[a[find_nearest(utility_vector,(utility_vector[idx][0] + utility_vector[idx][1])/2)]],'co')\n",
    "plot_line_between_points(\n",
    "    [a[find_nearest(utility_vector,(utility_vector[idx][0] + utility_vector[idx][1])/2)],\n",
    "         utility_vector[a[find_nearest(utility_vector,(utility_vector[idx][0] + utility_vector[idx][1])/2)]]],\n",
    "    [(a[idx][0] + a[idx][1])/2,\n",
    "(utility_vector[idx][0] + utility_vector[idx][1])/2],\n",
    "    ax[1]) \n",
    "\n",
    "#compensation\n",
    "d = np.apply_along_axis(concave_u_func, 0, a[markers_on] - compensated_points )\n",
    "plt.plot(a[markers_on],d,'yo')\n",
    " #report sur l'utility\n",
    "plt.plot(a[find_nearest(utility_vector, d[0])],d[0],'yo')\n",
    "plt.plot(a[find_nearest(utility_vector, d[1])],d[1],'yo')\n",
    "\n",
    "\n",
    "\n",
    "if save ==True:\n",
    "    savefige_count += 1\n",
    "    savefig('illustration_theoreme{}.png'.format(savefige_count))"
   ]
  },
  {
   "cell_type": "code",
   "execution_count": 45,
   "metadata": {
    "collapsed": false
   },
   "outputs": [
    {
     "name": "stderr",
     "output_type": "stream",
     "text": [
      "/usr/local/lib/python2.7/site-packages/ipykernel/__main__.py:17: DeprecationWarning: using a non-integer number instead of an integer will result in an error in the future\n",
      "/usr/local/lib/python2.7/site-packages/ipykernel/__main__.py:70: DeprecationWarning: using a non-integer number instead of an integer will result in an error in the future\n"
     ]
    }
   ],
   "source": [
    "fig, ax = plt.subplots(nrows=2, ncols=1, figsize = (9,9))\n",
    "markers_on = [30000, 90000 ]\n",
    "###Graph du Haut\n",
    "\n",
    "ax[0].plot(taxe_vector)\n",
    "ax[0].plot(a[markers_on], taxe_vector[markers_on], 'bo')\n",
    "ax[0].plot(a[markers_on].tolist(),taxe_vector[markers_on].tolist(),)\n",
    "\n",
    "d = a[markers_on].sum()/2\n",
    "e = taxe_vector[markers_on].sum()/2\n",
    "monthly_average = d,e\n",
    "ax[0].plot(d,e, 'ro')\n",
    "middle = (taxe_vector[markers_on[0]]+taxe_vector[markers_on[1]])//2\n",
    "ax[0].plot(a[(markers_on[0]+markers_on[1])//2], \n",
    "         taxe_vector[(markers_on[0]+markers_on[1])//2], 'bo')\n",
    "\n",
    "annual_average = a[(markers_on[0]+markers_on[1])/2], taxe_vector[(markers_on[0]+markers_on[1])/2]\n",
    "plot_line_between_points(monthly_average, annual_average, ax[0])\n",
    "\n",
    "\n",
    "\n",
    "\n",
    "\n",
    "\n",
    "\n",
    "\n",
    " #Compensation\n",
    "\n",
    "\n",
    "\n",
    "compensated_points = np.apply_along_axis(concave_tax_func,0, markers_on)/compensation(markers_on)\n",
    "ax[0].plot(a[markers_on],compensated_points, 'yo')\n",
    "ax[0].plot(a[markers_on], compensated_points)\n",
    "d = np.apply_along_axis(concave_u_func, 0, a[markers_on] - compensated_points )\n",
    "\n",
    "\n",
    "\n",
    "\n",
    "\n",
    "#####Graph du bas\n",
    "ax[1].plot(a,utility_vector)\n",
    "\n",
    "ax[1].plot(a[markers_on],d,'yo')\n",
    "\n",
    "\n",
    "\n",
    "#Taxed utility\n",
    "\n",
    "\n",
    "ax[1].plot(a[a_tax_util_index].tolist(),utility_vector[a_tax_util_index].tolist(),)\n",
    "\n",
    "\n",
    "ax[1].plot(a[a_tax_util_index] , utility_vector[a_tax_util_index] , 'bo')#\n",
    "d = a[a_tax_util_index].sum()/2\n",
    "e = utility_vector[a_tax_util_index].sum()/2\n",
    "monthly_average = d,e\n",
    "ax[1].plot(d,e, 'ro')\n",
    "\n",
    "#equivalent of a stable disposable income\n",
    "plot_line_between_points(first_point = (a[find_nearest(utility_vector,e)], utility_vector[find_nearest(utility_vector,e)]), \n",
    "                         second_point = (d,e), axe = ax[1])\n",
    "ax[1].plot(a[find_nearest(utility_vector,e)], utility_vector[find_nearest(utility_vector,e)], 'ro')\n",
    "\n",
    "\n",
    "\n",
    "\n",
    "\n",
    "#Annual après taxe\n",
    "d = a[markers_on].sum()/2\n",
    "monthly_annual_tax = taxe_vector[d]\n",
    "monthly_d_income_a_t = a[markers_on] - monthly_annual_tax\n",
    "monthly_u_a_t = utility_vector[find_nearests(a, monthly_d_income_a_t)]\n",
    "ax[1].plot(a[markers_on][1],monthly_u_a_t[1], 'co')\n",
    "ax[1].plot(a[markers_on][0],monthly_u_a_t[0], 'co')\n",
    " #projection sur axe utilité\n",
    "idx = find_nearests(a, monthly_d_income_a_t)\n",
    "ax[1].plot(a[idx][0], utility_vector[idx][0], 'co')#\n",
    "ax[1].plot(a[idx][1], utility_vector[idx][1], 'co')#\n",
    "plot_line_between_points([a[idx][0], utility_vector[idx][0]], \n",
    "                         [a[idx][1], utility_vector[idx][1]], ax[1])\n",
    " #line between annual points\n",
    "ax[1].plot((a[idx][0] + a[idx][1])/2,\n",
    "(utility_vector[idx][0] + utility_vector[idx][1])/2, 'co')\n",
    " #projection on utility line   \n",
    "ax[1].plot(a[find_nearest(utility_vector,(utility_vector[idx][0] + utility_vector[idx][1])/2)],\n",
    "         utility_vector[a[find_nearest(utility_vector,(utility_vector[idx][0] + utility_vector[idx][1])/2)]],'co')\n",
    "plot_line_between_points(\n",
    "    [a[find_nearest(utility_vector,(utility_vector[idx][0] + utility_vector[idx][1])/2)],\n",
    "         utility_vector[a[find_nearest(utility_vector,(utility_vector[idx][0] + utility_vector[idx][1])/2)]]],\n",
    "    [(a[idx][0] + a[idx][1])/2,\n",
    "(utility_vector[idx][0] + utility_vector[idx][1])/2],\n",
    "    ax[1]) \n",
    "\n",
    "#compensation\n",
    "d = np.apply_along_axis(concave_u_func, 0, a[markers_on] - compensated_points )\n",
    "plt.plot(a[markers_on],d,'yo')\n",
    " #report sur l'utility\n",
    "plt.plot(a[find_nearest(utility_vector, d[0])],d[0],'yo')\n",
    "plt.plot(a[find_nearest(utility_vector, d[1])],d[1],'yo')\n",
    "\n",
    "\n",
    "plot_line_between_points(first_point = (a[markers_on][1],d[1]), second_point =\n",
    "                         (a[find_nearest(utility_vector, d[1])],d[1]), axe = ax[1])\n",
    "plot_line_between_points(first_point = (a[markers_on][0],d[0]), second_point =\n",
    "                         (a[find_nearest(utility_vector, d[0])],d[0]), axe = ax[1])\n",
    "\n",
    "\n",
    "if save ==True:\n",
    "    savefige_count += 1\n",
    "    savefig('illustration_theoreme{}.png'.format(savefige_count))"
   ]
  },
  {
   "cell_type": "code",
   "execution_count": 46,
   "metadata": {
    "collapsed": false
   },
   "outputs": [
    {
     "name": "stderr",
     "output_type": "stream",
     "text": [
      "/usr/local/lib/python2.7/site-packages/ipykernel/__main__.py:17: DeprecationWarning: using a non-integer number instead of an integer will result in an error in the future\n",
      "/usr/local/lib/python2.7/site-packages/ipykernel/__main__.py:70: DeprecationWarning: using a non-integer number instead of an integer will result in an error in the future\n"
     ]
    }
   ],
   "source": [
    "fig, ax = plt.subplots(nrows=2, ncols=1, figsize = (9,9))\n",
    "markers_on = [30000, 90000 ]\n",
    "###Graph du Haut\n",
    "\n",
    "ax[0].plot(taxe_vector)\n",
    "ax[0].plot(a[markers_on], taxe_vector[markers_on], 'bo')\n",
    "ax[0].plot(a[markers_on].tolist(),taxe_vector[markers_on].tolist(),)\n",
    "\n",
    "d = a[markers_on].sum()/2\n",
    "e = taxe_vector[markers_on].sum()/2\n",
    "monthly_average = d,e\n",
    "ax[0].plot(d,e, 'ro')\n",
    "middle = (taxe_vector[markers_on[0]]+taxe_vector[markers_on[1]])//2\n",
    "ax[0].plot(a[(markers_on[0]+markers_on[1])//2], \n",
    "         taxe_vector[(markers_on[0]+markers_on[1])//2], 'bo')\n",
    "\n",
    "annual_average = a[(markers_on[0]+markers_on[1])/2], taxe_vector[(markers_on[0]+markers_on[1])/2]\n",
    "plot_line_between_points(monthly_average, annual_average, ax[0])\n",
    "\n",
    "\n",
    "\n",
    "\n",
    "\n",
    "\n",
    "\n",
    "\n",
    " #Compensation\n",
    "\n",
    "\n",
    "\n",
    "compensated_points = np.apply_along_axis(concave_tax_func,0, markers_on)/compensation(markers_on)\n",
    "ax[0].plot(a[markers_on],compensated_points, 'yo')\n",
    "ax[0].plot(a[markers_on], compensated_points)\n",
    "d = np.apply_along_axis(concave_u_func, 0, a[markers_on] - compensated_points )\n",
    "\n",
    "\n",
    "\n",
    "\n",
    "\n",
    "#####Graph du bas\n",
    "ax[1].plot(a,utility_vector)\n",
    "\n",
    "ax[1].plot(a[markers_on],d,'yo')\n",
    "\n",
    "\n",
    "\n",
    "#Taxed utility\n",
    "\n",
    "\n",
    "ax[1].plot(a[a_tax_util_index].tolist(),utility_vector[a_tax_util_index].tolist(),)\n",
    "\n",
    "\n",
    "ax[1].plot(a[a_tax_util_index] , utility_vector[a_tax_util_index] , 'bo')#\n",
    "d = a[a_tax_util_index].sum()/2\n",
    "e = utility_vector[a_tax_util_index].sum()/2\n",
    "monthly_average = d,e\n",
    "ax[1].plot(d,e, 'ro')\n",
    "\n",
    "#equivalent of a stable disposable income\n",
    "plot_line_between_points(first_point = (a[find_nearest(utility_vector,e)], utility_vector[find_nearest(utility_vector,e)]), \n",
    "                         second_point = (d,e), axe = ax[1])\n",
    "ax[1].plot(a[find_nearest(utility_vector,e)], utility_vector[find_nearest(utility_vector,e)], 'ro')\n",
    "\n",
    "\n",
    "\n",
    "\n",
    "\n",
    "#Annual après taxe\n",
    "d = a[markers_on].sum()/2\n",
    "monthly_annual_tax = taxe_vector[d]\n",
    "monthly_d_income_a_t = a[markers_on] - monthly_annual_tax\n",
    "monthly_u_a_t = utility_vector[find_nearests(a, monthly_d_income_a_t)]\n",
    "ax[1].plot(a[markers_on][1],monthly_u_a_t[1], 'co')\n",
    "ax[1].plot(a[markers_on][0],monthly_u_a_t[0], 'co')\n",
    " #projection sur axe utilité\n",
    "idx = find_nearests(a, monthly_d_income_a_t)\n",
    "ax[1].plot(a[idx][0], utility_vector[idx][0], 'co')#\n",
    "ax[1].plot(a[idx][1], utility_vector[idx][1], 'co')#\n",
    "plot_line_between_points([a[idx][0], utility_vector[idx][0]], \n",
    "                         [a[idx][1], utility_vector[idx][1]], ax[1])\n",
    " #line between annual points\n",
    "ax[1].plot((a[idx][0] + a[idx][1])/2,\n",
    "(utility_vector[idx][0] + utility_vector[idx][1])/2, 'co')\n",
    " #projection on utility line   \n",
    "ax[1].plot(a[find_nearest(utility_vector,(utility_vector[idx][0] + utility_vector[idx][1])/2)],\n",
    "         utility_vector[a[find_nearest(utility_vector,(utility_vector[idx][0] + utility_vector[idx][1])/2)]],'co')\n",
    "plot_line_between_points(\n",
    "    [a[find_nearest(utility_vector,(utility_vector[idx][0] + utility_vector[idx][1])/2)],\n",
    "         utility_vector[a[find_nearest(utility_vector,(utility_vector[idx][0] + utility_vector[idx][1])/2)]]],\n",
    "    [(a[idx][0] + a[idx][1])/2,\n",
    "(utility_vector[idx][0] + utility_vector[idx][1])/2],\n",
    "    ax[1]) \n",
    "\n",
    "#compensation\n",
    "d = np.apply_along_axis(concave_u_func, 0, a[markers_on] - compensated_points )\n",
    "plt.plot(a[markers_on],d,'yo')\n",
    " #report sur l'utility\n",
    "plt.plot(a[find_nearest(utility_vector, d[0])],d[0],'yo')\n",
    "plt.plot(a[find_nearest(utility_vector, d[1])],d[1],'yo')\n",
    "\n",
    "\n",
    "plot_line_between_points(first_point = (a[find_nearest(utility_vector, d[0])],d[0]), second_point =\n",
    "                         (a[find_nearest(utility_vector, d[1])],d[1]), axe = ax[1])\n",
    "\n",
    "\n",
    "if save ==True:\n",
    "    savefige_count += 1\n",
    "    savefig('illustration_theoreme{}.png'.format(savefige_count))"
   ]
  },
  {
   "cell_type": "code",
   "execution_count": 47,
   "metadata": {
    "collapsed": false
   },
   "outputs": [
    {
     "name": "stderr",
     "output_type": "stream",
     "text": [
      "/usr/local/lib/python2.7/site-packages/ipykernel/__main__.py:17: DeprecationWarning: using a non-integer number instead of an integer will result in an error in the future\n",
      "/usr/local/lib/python2.7/site-packages/ipykernel/__main__.py:70: DeprecationWarning: using a non-integer number instead of an integer will result in an error in the future\n"
     ]
    }
   ],
   "source": [
    "fig, ax = plt.subplots(nrows=2, ncols=1, figsize = (9,9))\n",
    "markers_on = [30000, 90000 ]\n",
    "###Graph du Haut\n",
    "\n",
    "ax[0].plot(taxe_vector)\n",
    "ax[0].plot(a[markers_on], taxe_vector[markers_on], 'bo')\n",
    "ax[0].plot(a[markers_on].tolist(),taxe_vector[markers_on].tolist(),)\n",
    "\n",
    "d = a[markers_on].sum()/2\n",
    "e = taxe_vector[markers_on].sum()/2\n",
    "monthly_average = d,e\n",
    "ax[0].plot(d,e, 'ro')\n",
    "middle = (taxe_vector[markers_on[0]]+taxe_vector[markers_on[1]])//2\n",
    "ax[0].plot(a[(markers_on[0]+markers_on[1])//2], \n",
    "         taxe_vector[(markers_on[0]+markers_on[1])//2], 'bo')\n",
    "\n",
    "annual_average = a[(markers_on[0]+markers_on[1])/2], taxe_vector[(markers_on[0]+markers_on[1])/2]\n",
    "plot_line_between_points(monthly_average, annual_average, ax[0])\n",
    "\n",
    "\n",
    "\n",
    "\n",
    "\n",
    "\n",
    "\n",
    "\n",
    " #Compensation\n",
    "\n",
    "\n",
    "\n",
    "compensated_points = np.apply_along_axis(concave_tax_func,0, markers_on)/compensation(markers_on)\n",
    "ax[0].plot(a[markers_on],compensated_points, 'yo')\n",
    "ax[0].plot(a[markers_on], compensated_points)\n",
    "d = np.apply_along_axis(concave_u_func, 0, a[markers_on] - compensated_points )\n",
    "\n",
    "\n",
    "\n",
    "\n",
    "\n",
    "#####Graph du bas\n",
    "ax[1].plot(a,utility_vector)\n",
    "\n",
    "ax[1].plot(a[markers_on],d,'yo')\n",
    "\n",
    "\n",
    "\n",
    "#Taxed utility\n",
    "\n",
    "\n",
    "ax[1].plot(a[a_tax_util_index].tolist(),utility_vector[a_tax_util_index].tolist(),)\n",
    "\n",
    "\n",
    "ax[1].plot(a[a_tax_util_index] , utility_vector[a_tax_util_index] , 'bo')#\n",
    "d = a[a_tax_util_index].sum()/2\n",
    "e = utility_vector[a_tax_util_index].sum()/2\n",
    "monthly_average = d,e\n",
    "ax[1].plot(d,e, 'ro')\n",
    "\n",
    "#equivalent of a stable disposable income\n",
    "plot_line_between_points(first_point = (a[find_nearest(utility_vector,e)], utility_vector[find_nearest(utility_vector,e)]), \n",
    "                         second_point = (d,e), axe = ax[1])\n",
    "ax[1].plot(a[find_nearest(utility_vector,e)], utility_vector[find_nearest(utility_vector,e)], 'ro')\n",
    "\n",
    "\n",
    "\n",
    "\n",
    "\n",
    "#Annual après taxe\n",
    "d = a[markers_on].sum()/2\n",
    "monthly_annual_tax = taxe_vector[d]\n",
    "monthly_d_income_a_t = a[markers_on] - monthly_annual_tax\n",
    "monthly_u_a_t = utility_vector[find_nearests(a, monthly_d_income_a_t)]\n",
    "ax[1].plot(a[markers_on][1],monthly_u_a_t[1], 'co')\n",
    "ax[1].plot(a[markers_on][0],monthly_u_a_t[0], 'co')\n",
    " #projection sur axe utilité\n",
    "idx = find_nearests(a, monthly_d_income_a_t)\n",
    "ax[1].plot(a[idx][0], utility_vector[idx][0], 'co')#\n",
    "ax[1].plot(a[idx][1], utility_vector[idx][1], 'co')#\n",
    "plot_line_between_points([a[idx][0], utility_vector[idx][0]], \n",
    "                         [a[idx][1], utility_vector[idx][1]], ax[1])\n",
    " #line between annual points\n",
    "ax[1].plot((a[idx][0] + a[idx][1])/2,\n",
    "(utility_vector[idx][0] + utility_vector[idx][1])/2, 'co')\n",
    " #projection on utility line   \n",
    "ax[1].plot(a[find_nearest(utility_vector,(utility_vector[idx][0] + utility_vector[idx][1])/2)],\n",
    "         utility_vector[a[find_nearest(utility_vector,(utility_vector[idx][0] + utility_vector[idx][1])/2)]],'co')\n",
    "plot_line_between_points(\n",
    "    [a[find_nearest(utility_vector,(utility_vector[idx][0] + utility_vector[idx][1])/2)],\n",
    "         utility_vector[a[find_nearest(utility_vector,(utility_vector[idx][0] + utility_vector[idx][1])/2)]]],\n",
    "    [(a[idx][0] + a[idx][1])/2,\n",
    "(utility_vector[idx][0] + utility_vector[idx][1])/2],\n",
    "    ax[1]) \n",
    "\n",
    "#compensation\n",
    "d = np.apply_along_axis(concave_u_func, 0, a[markers_on] - compensated_points )\n",
    "plt.plot(a[markers_on],d,'yo')\n",
    " #report sur l'utility\n",
    "plt.plot(a[find_nearest(utility_vector, d[0])],d[0],'yo')\n",
    "plt.plot(a[find_nearest(utility_vector, d[1])],d[1],'yo')\n",
    "\n",
    "\n",
    "plot_line_between_points(first_point = (a[find_nearest(utility_vector, d[0])],d[0]), second_point =\n",
    "                         (a[find_nearest(utility_vector, d[1])],d[1]), axe = ax[1])\n",
    "\n",
    "plt.plot(((np.array([a[find_nearest(utility_vector, d[0])],d[0]]) + np.array([a[find_nearest(utility_vector, d[1])],d[1]])) /2)[0],\\\n",
    "((np.array([a[find_nearest(utility_vector, d[0])],d[0]]) + np.array([a[find_nearest(utility_vector, d[1])],\n",
    "                                                                     d[1]])) /2)[1], 'yo')\n",
    "\n",
    "\n",
    "if save ==True:\n",
    "    savefige_count += 1\n",
    "    savefig('illustration_theoreme{}.png'.format(savefige_count))"
   ]
  },
  {
   "cell_type": "code",
   "execution_count": 48,
   "metadata": {
    "collapsed": false
   },
   "outputs": [
    {
     "name": "stderr",
     "output_type": "stream",
     "text": [
      "/usr/local/lib/python2.7/site-packages/ipykernel/__main__.py:17: DeprecationWarning: using a non-integer number instead of an integer will result in an error in the future\n",
      "/usr/local/lib/python2.7/site-packages/ipykernel/__main__.py:70: DeprecationWarning: using a non-integer number instead of an integer will result in an error in the future\n"
     ]
    }
   ],
   "source": [
    "fig, ax = plt.subplots(nrows=2, ncols=1, figsize = (9,9))\n",
    "markers_on = [30000, 90000 ]\n",
    "###Graph du Haut\n",
    "\n",
    "ax[0].plot(taxe_vector)\n",
    "ax[0].plot(a[markers_on], taxe_vector[markers_on], 'bo')\n",
    "ax[0].plot(a[markers_on].tolist(),taxe_vector[markers_on].tolist(),)\n",
    "\n",
    "d = a[markers_on].sum()/2\n",
    "e = taxe_vector[markers_on].sum()/2\n",
    "monthly_average = d,e\n",
    "ax[0].plot(d,e, 'ro')\n",
    "middle = (taxe_vector[markers_on[0]]+taxe_vector[markers_on[1]])//2\n",
    "ax[0].plot(a[(markers_on[0]+markers_on[1])//2], \n",
    "         taxe_vector[(markers_on[0]+markers_on[1])//2], 'bo')\n",
    "\n",
    "annual_average = a[(markers_on[0]+markers_on[1])/2], taxe_vector[(markers_on[0]+markers_on[1])/2]\n",
    "plot_line_between_points(monthly_average, annual_average, ax[0])\n",
    "\n",
    "\n",
    "\n",
    "\n",
    "\n",
    "\n",
    "\n",
    "\n",
    " #Compensation\n",
    "\n",
    "\n",
    "\n",
    "compensated_points = np.apply_along_axis(concave_tax_func,0, markers_on)/compensation(markers_on)\n",
    "ax[0].plot(a[markers_on],compensated_points, 'yo')\n",
    "ax[0].plot(a[markers_on], compensated_points)\n",
    "d = np.apply_along_axis(concave_u_func, 0, a[markers_on] - compensated_points )\n",
    "\n",
    "\n",
    "\n",
    "\n",
    "\n",
    "#####Graph du bas\n",
    "ax[1].plot(a,utility_vector)\n",
    "\n",
    "ax[1].plot(a[markers_on],d,'yo')\n",
    "\n",
    "\n",
    "\n",
    "#Taxed utility\n",
    "\n",
    "\n",
    "ax[1].plot(a[a_tax_util_index].tolist(),utility_vector[a_tax_util_index].tolist(),)\n",
    "\n",
    "\n",
    "ax[1].plot(a[a_tax_util_index] , utility_vector[a_tax_util_index] , 'bo')#\n",
    "d = a[a_tax_util_index].sum()/2\n",
    "e = utility_vector[a_tax_util_index].sum()/2\n",
    "monthly_average = d,e\n",
    "ax[1].plot(d,e, 'ro')\n",
    "\n",
    "#equivalent of a stable disposable income\n",
    "plot_line_between_points(first_point = (a[find_nearest(utility_vector,e)], utility_vector[find_nearest(utility_vector,e)]), \n",
    "                         second_point = (d,e), axe = ax[1])\n",
    "ax[1].plot(a[find_nearest(utility_vector,e)], utility_vector[find_nearest(utility_vector,e)], 'ro')\n",
    "\n",
    "\n",
    "\n",
    "\n",
    "\n",
    "#Annual après taxe\n",
    "d = a[markers_on].sum()/2\n",
    "monthly_annual_tax = taxe_vector[d]\n",
    "monthly_d_income_a_t = a[markers_on] - monthly_annual_tax\n",
    "monthly_u_a_t = utility_vector[find_nearests(a, monthly_d_income_a_t)]\n",
    "ax[1].plot(a[markers_on][1],monthly_u_a_t[1], 'co')\n",
    "ax[1].plot(a[markers_on][0],monthly_u_a_t[0], 'co')\n",
    " #projection sur axe utilité\n",
    "idx = find_nearests(a, monthly_d_income_a_t)\n",
    "ax[1].plot(a[idx][0], utility_vector[idx][0], 'co')#\n",
    "ax[1].plot(a[idx][1], utility_vector[idx][1], 'co')#\n",
    "plot_line_between_points([a[idx][0], utility_vector[idx][0]], \n",
    "                         [a[idx][1], utility_vector[idx][1]], ax[1])\n",
    " #line between annual points\n",
    "ax[1].plot((a[idx][0] + a[idx][1])/2,\n",
    "(utility_vector[idx][0] + utility_vector[idx][1])/2, 'co')\n",
    " #projection on utility line   \n",
    "ax[1].plot(a[find_nearest(utility_vector,(utility_vector[idx][0] + utility_vector[idx][1])/2)],\n",
    "         utility_vector[a[find_nearest(utility_vector,(utility_vector[idx][0] + utility_vector[idx][1])/2)]],'co')\n",
    "plot_line_between_points(\n",
    "    [a[find_nearest(utility_vector,(utility_vector[idx][0] + utility_vector[idx][1])/2)],\n",
    "         utility_vector[a[find_nearest(utility_vector,(utility_vector[idx][0] + utility_vector[idx][1])/2)]]],\n",
    "    [(a[idx][0] + a[idx][1])/2,\n",
    "(utility_vector[idx][0] + utility_vector[idx][1])/2],\n",
    "    ax[1]) \n",
    "\n",
    "#compensation\n",
    "d = np.apply_along_axis(concave_u_func, 0, a[markers_on] - compensated_points )\n",
    "plt.plot(a[markers_on],d,'yo')\n",
    " #report sur l'utility\n",
    "plt.plot(a[find_nearest(utility_vector, d[0])],d[0],'yo')\n",
    "plt.plot(a[find_nearest(utility_vector, d[1])],d[1],'yo')\n",
    "\n",
    "\n",
    "plot_line_between_points(first_point = (a[find_nearest(utility_vector, d[0])],d[0]), second_point =\n",
    "                         (a[find_nearest(utility_vector, d[1])],d[1]), axe = ax[1])\n",
    "\n",
    "\n",
    "plt.plot(((np.array([a[find_nearest(utility_vector, d[0])],d[0]]) + np.array([a[find_nearest(utility_vector, d[1])],d[1]])) /2)[0],\\\n",
    "((np.array([a[find_nearest(utility_vector, d[0])],d[0]]) + np.array([a[find_nearest(utility_vector, d[1])],\n",
    "                                                                     d[1]])) /2)[1], 'yo')\n",
    "idx = find_nearest(utility_vector,((np.array([a[find_nearest(utility_vector, d[0])],d[0]]) + np.array([a[find_nearest(utility_vector, d[1])],d[1]])) /2)[1])\n",
    "plot_line_between_points(first_point = (a[idx],utility_vector[idx]), \n",
    "                         second_point =\n",
    "                         (((np.array([a[find_nearest(utility_vector, d[0])],d[0]]) + np.array([a[find_nearest(utility_vector, d[1])],d[1]])) /2)[0],\\\n",
    "                            ((np.array([a[find_nearest(utility_vector, d[0])],d[0]]) + np.array([a[find_nearest(utility_vector, d[1])],d[1]])) /2)[1]),\n",
    "                         axe = ax[1])\n",
    "plt.plot(a[idx],\n",
    "        utility_vector[idx], 'yo')\n",
    "\n",
    "\n",
    "if save ==True:\n",
    "    savefige_count += 1\n",
    "    savefig('illustration_theoreme{}.png'.format(savefige_count))"
   ]
  },
  {
   "cell_type": "code",
   "execution_count": null,
   "metadata": {
    "collapsed": true
   },
   "outputs": [],
   "source": []
  },
  {
   "cell_type": "code",
   "execution_count": null,
   "metadata": {
    "collapsed": true
   },
   "outputs": [],
   "source": []
  },
  {
   "cell_type": "code",
   "execution_count": null,
   "metadata": {
    "collapsed": true
   },
   "outputs": [],
   "source": []
  },
  {
   "cell_type": "code",
   "execution_count": null,
   "metadata": {
    "collapsed": true
   },
   "outputs": [],
   "source": []
  },
  {
   "cell_type": "code",
   "execution_count": null,
   "metadata": {
    "collapsed": true
   },
   "outputs": [],
   "source": []
  },
  {
   "cell_type": "code",
   "execution_count": null,
   "metadata": {
    "collapsed": true
   },
   "outputs": [],
   "source": []
  },
  {
   "cell_type": "code",
   "execution_count": null,
   "metadata": {
    "collapsed": true
   },
   "outputs": [],
   "source": []
  },
  {
   "cell_type": "code",
   "execution_count": null,
   "metadata": {
    "collapsed": true
   },
   "outputs": [],
   "source": []
  },
  {
   "cell_type": "code",
   "execution_count": null,
   "metadata": {
    "collapsed": true
   },
   "outputs": [],
   "source": []
  },
  {
   "cell_type": "code",
   "execution_count": null,
   "metadata": {
    "collapsed": true
   },
   "outputs": [],
   "source": []
  },
  {
   "cell_type": "code",
   "execution_count": null,
   "metadata": {
    "collapsed": true
   },
   "outputs": [],
   "source": [
    "plt.show()"
   ]
  },
  {
   "cell_type": "code",
   "execution_count": null,
   "metadata": {
    "collapsed": true
   },
   "outputs": [],
   "source": [
    "plt.close()"
   ]
  },
  {
   "cell_type": "code",
   "execution_count": null,
   "metadata": {
    "collapsed": false
   },
   "outputs": [],
   "source": [
    "axes"
   ]
  },
  {
   "cell_type": "code",
   "execution_count": null,
   "metadata": {
    "collapsed": true
   },
   "outputs": [],
   "source": []
  }
 ],
 "metadata": {
  "kernelspec": {
   "display_name": "Python 2",
   "language": "python",
   "name": "python2"
  },
  "language_info": {
   "codemirror_mode": {
    "name": "ipython",
    "version": 2
   },
   "file_extension": ".py",
   "mimetype": "text/x-python",
   "name": "python",
   "nbconvert_exporter": "python",
   "pygments_lexer": "ipython2",
   "version": "2.7.10"
  },
  "toc": {
   "toc_cell": false,
   "toc_number_sections": true,
   "toc_threshold": 4,
   "toc_window_display": false
  }
 },
 "nbformat": 4,
 "nbformat_minor": 0
}
