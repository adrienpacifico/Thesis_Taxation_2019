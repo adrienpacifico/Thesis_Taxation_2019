{
 "cells": [
  {
   "cell_type": "markdown",
   "metadata": {},
   "source": [
    "### Git versioning"
   ]
  },
  {
   "cell_type": "code",
   "execution_count": 1,
   "metadata": {
    "collapsed": false,
    "scrolled": true
   },
   "outputs": [
    {
     "name": "stdout",
     "output_type": "stream",
     "text": [
      "---This notebook have been runed with--- \n",
      "Openfisca-france : f710f63abb52a3395a126bd96e0f3f4bfd83d1a6 \n",
      "\n",
      "Commit short SHA: f710\n",
      "Branch:  mensualisation_wip\n",
      "Date (y/m/d): 2016-07-26 13:55:47  \n",
      "\n",
      "Openfisca-core : 4076f591f4bcb571391b65a989e1603fdc4cb759  Date: 2016-02-24 16:11:57 \n",
      "Openfisca-france-data : a6b02e6909ee9c27169cd5cf73c51df9b1640ef9  Date: 2016-05-31 15:54:47 \n",
      "OpenFisca-Aggregates : fd210d8cfdf6ed68f173d9d5c3eab4a4302ed2b9  Date: 2016-04-04 11:35:03 \n",
      "OpenFisca-Survey-Manager : 868512d24307aa75cfa7bbbf8420542960963966  Date: 2016-04-04 11:35:03 \n"
     ]
    }
   ],
   "source": [
    "import git  #Requires Gitpython installed, to install do \"$ pip install Gitpython\" in your terminal\n",
    "import pkg_resources\n",
    "openfisca_france_location = pkg_resources.get_distribution('openfisca-france').location\n",
    "repo = git.Repo(openfisca_france_location)\n",
    "repo.git.status()\n",
    "\n",
    "sha = repo.head.object.hexsha\n",
    "\n",
    "print \"---This notebook have been runed with--- \\n\",\"Openfisca-france :\", repo.head.object.hexsha, '\\n' \n",
    "print \"Commit short SHA:\", repo.git.rev_parse(sha, short=4)\n",
    "print \"Branch: \", repo.git.rev_parse('--abbrev-ref', \"HEAD\") #equivalent to: $git rev-parse --abbrev-ref HEAD\n",
    "print \"Date (y/m/d):\", repo.git.show(\"-s\", '--format=%ci', 'HEAD^')[:-5],\"\\n\"  # equivalent to: $git show -s --format=%ci HEAD^\n",
    "\n",
    "print \"Openfisca-core :\", git.Repo(pkg_resources.get_distribution('openfisca-core').location).head.object.hexsha, ' Date:', git.Repo(pkg_resources.get_distribution('openfisca-core').location).git.show(\"-s\", '--format=%ci', 'HEAD^')[:-5]\n",
    "print \"Openfisca-france-data :\", git.Repo(pkg_resources.get_distribution('openfisca-france-data').location).head.object.hexsha, ' Date:', git.Repo(pkg_resources.get_distribution('openfisca-france-data').location).git.show(\"-s\", '--format=%ci', 'HEAD^')[:-5]\n",
    "print \"OpenFisca-Aggregates :\", git.Repo(pkg_resources.get_distribution('OpenFisca-Aggregates').location).head.object.hexsha, ' Date:', git.Repo(pkg_resources.get_distribution('OpenFisca-Aggregates').location).git.show(\"-s\", '--format=%ci', 'HEAD^')[:-5]\n",
    "print \"OpenFisca-Survey-Manager :\", git.Repo(pkg_resources.get_distribution('OpenFisca-Survey-Manager').location).head.object.hexsha, ' Date:', git.Repo(pkg_resources.get_distribution('OpenFisca-Aggregates').location).git.show(\"-s\", '--format=%ci', 'HEAD^')[:-5]"
   ]
  },
  {
   "cell_type": "markdown",
   "metadata": {},
   "source": [
    "### Imports"
   ]
  },
  {
   "cell_type": "code",
   "execution_count": 2,
   "metadata": {
    "collapsed": false,
    "scrolled": true
   },
   "outputs": [
    {
     "name": "stderr",
     "output_type": "stream",
     "text": [
      "/usr/local/lib/python2.7/site-packages/rpy2/rinterface/__init__.py:185: RRuntimeWarning: During startup - \n",
      "  warnings.warn(x, RRuntimeWarning)\n",
      "/usr/local/lib/python2.7/site-packages/rpy2/rinterface/__init__.py:185: RRuntimeWarning: Warning messages:\n",
      "\n",
      "  warnings.warn(x, RRuntimeWarning)\n",
      "/usr/local/lib/python2.7/site-packages/rpy2/rinterface/__init__.py:185: RRuntimeWarning: 1: Setting LC_COLLATE failed, using \"C\" \n",
      "\n",
      "  warnings.warn(x, RRuntimeWarning)\n",
      "/usr/local/lib/python2.7/site-packages/rpy2/rinterface/__init__.py:185: RRuntimeWarning: 2: Setting LC_TIME failed, using \"C\" \n",
      "\n",
      "  warnings.warn(x, RRuntimeWarning)\n",
      "/usr/local/lib/python2.7/site-packages/rpy2/rinterface/__init__.py:185: RRuntimeWarning: 3: Setting LC_MESSAGES failed, using \"C\" \n",
      "\n",
      "  warnings.warn(x, RRuntimeWarning)\n",
      "/usr/local/lib/python2.7/site-packages/rpy2/rinterface/__init__.py:185: RRuntimeWarning: 4: Setting LC_MONETARY failed, using \"C\" \n",
      "\n",
      "  warnings.warn(x, RRuntimeWarning)\n"
     ]
    }
   ],
   "source": [
    "%matplotlib inline\n",
    "from __future__ import division\n",
    "\n",
    "import calendar\n",
    "\n",
    "from openfisca_core import periods\n",
    "from openfisca_plugin_aggregates.tests.reform.test_aggregates_mensualized import create_survey_scenario\n",
    "import pandas as pd\n",
    "\n",
    "import matplotlib.pyplot as plt\n",
    "import matplotlib\n",
    "from matplotlib.ticker import AutoMinorLocator\n",
    "\n",
    "\n",
    "import numpy as np\n",
    "from numpy import (datetime64, logical_and as and_, logical_not as not_, logical_or as or_, logical_xor as xor_,\n",
    "maximum as max_, minimum as min_, round)\n",
    "\n",
    "\n",
    "#Faire des filtres pour Mahdi survey_scenario.create_data_frame_by_entity_key_plural\n",
    "\n",
    "pd.set_option('expand_frame_repr', False)  #utile quand on utilise pandas en mode console\n",
    "pd.set_option(\"display.max_rows\",201)\n",
    "pd.set_option(\"display.max_columns\",201)"
   ]
  },
  {
   "cell_type": "markdown",
   "metadata": {},
   "source": [
    "# Create Survey Scenario"
   ]
  },
  {
   "cell_type": "code",
   "execution_count": 3,
   "metadata": {
    "collapsed": false
   },
   "outputs": [],
   "source": [
    "period = periods.period(2009)"
   ]
  },
  {
   "cell_type": "code",
   "execution_count": 4,
   "metadata": {
    "collapsed": false
   },
   "outputs": [
    {
     "data": {
      "text/plain": [
       "Period((u'month', Instant((2009, 1, 1)), 1))"
      ]
     },
     "execution_count": 4,
     "metadata": {},
     "output_type": "execute_result"
    }
   ],
   "source": [
    "period.this_year.this_month"
   ]
  },
  {
   "cell_type": "code",
   "execution_count": 5,
   "metadata": {
    "collapsed": false
   },
   "outputs": [
    {
     "name": "stdout",
     "output_type": "stream",
     "text": [
      "(52189,) (42709,) (48195,) (80431,)\n"
     ]
    }
   ],
   "source": [
    "survey_scenario = create_survey_scenario(2009)\n",
    "survey_scenario.new_simulation()\n",
    "\n",
    "\n",
    "simulation = survey_scenario.simulation\n",
    "scenario = survey_scenario\n",
    "\n",
    "weight_foyers = survey_scenario.simulation.calculate_add('weight_foyers', period = period).astype(float)\n",
    "weight_menages = survey_scenario.simulation.calculate_add('wprm', period = period).astype(float)\n",
    "weight_familles = survey_scenario.simulation.calculate_add('weight_familles', period = period).astype(float)\n",
    "weight_individus = survey_scenario.simulation.calculate_add('weight_individus', period = period).astype(float)\n",
    "print weight_foyers.shape, weight_menages.shape, weight_familles.shape, weight_individus.shape"
   ]
  },
  {
   "cell_type": "code",
   "execution_count": null,
   "metadata": {
    "collapsed": true
   },
   "outputs": [],
   "source": []
  },
  {
   "cell_type": "code",
   "execution_count": 6,
   "metadata": {
    "collapsed": false
   },
   "outputs": [],
   "source": [
    "def sum_by_entity(var, entity_key, roles = None):\n",
    "    var_holder = simulation.compute_add(var)\n",
    "    entity = simulation.entity_by_key_singular[entity_key]\n",
    "    \n",
    "    entity_index_array = simulation.holder_by_name[entity.index_for_person_variable_name].array\n",
    "    \n",
    "    if roles is None:\n",
    "        roles = range(10)\n",
    "    \n",
    "    target_array = np.empty(entity.count)\n",
    "    target_array.fill(0)            \n",
    "    for role in roles:  #max cardinality of roles\n",
    "        boolean_filter = simulation.holder_by_name[entity.role_for_person_variable_name].array == role\n",
    "        target_array[entity_index_array[boolean_filter]] += var_holder.array[boolean_filter]\n",
    "    return target_array\n",
    "\n",
    "\n",
    "\n",
    "def sum_array_by_entity(array, entity_key, roles = None):\n",
    "    entity = simulation.entity_by_key_singular[entity_key]\n",
    "    entity_index_array = simulation.holder_by_name[entity.index_for_person_variable_name].array\n",
    "    if roles is None:\n",
    "        roles = range(10)\n",
    "    \n",
    "    target_array = np.empty(entity.count)\n",
    "    target_array.fill(0)            \n",
    "    for role in roles:  #max cardinality of roles\n",
    "        boolean_filter = simulation.holder_by_name[entity.role_for_person_variable_name].array == role\n",
    "        target_array[entity_index_array[boolean_filter]] += array[boolean_filter]\n",
    "    return target_array\n",
    "    \n",
    "\n",
    "def cast_from_entity_to_role( var , roles = None):\n",
    "    var_holder = simulation.compute_add(var)\n",
    "    entity = var_holder.entity\n",
    "    entity_index_array = simulation.holder_by_name[entity.index_for_person_variable_name].array\n",
    "    if roles is None:\n",
    "        roles = range(entity.roles_count)\n",
    "    target_array = np.empty(simulation.persons.count)\n",
    "    target_array.fill(0)\n",
    "    for role in roles:\n",
    "        boolean_filter = simulation.holder_by_name[entity.role_for_person_variable_name].array == role\n",
    "        target_array[boolean_filter] = simulation.compute_add(var).array[entity_index_array[boolean_filter]]\n",
    "    return target_array\n",
    "\n",
    "def cast_array_from_entity_to_role( array, entity_key, roles = None):\n",
    "    entity = simulation.entity_by_key_singular[entity_key]\n",
    "    entity_index_array = simulation.holder_by_name[entity.index_for_person_variable_name].array\n",
    "    if roles is None:\n",
    "        roles = range(entity.roles_count)\n",
    "    target_array = np.empty(simulation.persons.count)\n",
    "    target_array.fill(0)\n",
    "    for role in roles:\n",
    "        boolean_filter = simulation.holder_by_name[entity.role_for_person_variable_name].array == role\n",
    "        target_array[boolean_filter] = array[entity_index_array[boolean_filter]]\n",
    "    return target_array\n",
    "\n",
    "\n",
    "def switch_entity(var, target_entity  ,roles = [0]):\n",
    "    var_holder = simulation.compute_add(var)\n",
    "    entity = var_holder.entity\n",
    "    \n",
    "    target_array = cast_from_entity_to_role(var, roles = roles)\n",
    "    target_array = sum_array_by_entity(target_array, entity_key = target_entity )\n",
    "    return target_array\n",
    "\n",
    "def switch_array_entity(array,entity, target_entity  ,roles = [0]):\n",
    "    \n",
    "    entity = entity\n",
    "    \n",
    "    target_array = cast_array_from_entity_to_role(array, entity,roles = roles)\n",
    "    target_array = sum_array_by_entity(target_array, entity_key = target_entity )\n",
    "    return target_array\n"
   ]
  },
  {
   "cell_type": "code",
   "execution_count": 7,
   "metadata": {
    "collapsed": false
   },
   "outputs": [],
   "source": [
    "#pd.value_counts(switch_array_entity(revdisp_negatif, 'menage',\"foyer_fiscal\", roles = range(10)))"
   ]
  },
  {
   "cell_type": "code",
   "execution_count": 8,
   "metadata": {
    "collapsed": true
   },
   "outputs": [],
   "source": [
    "    def split_by_roles(var, entity = None, roles = None):\n",
    "        \"\"\"dispatch a persons array to several entity arrays (one for each role).\"\"\"\n",
    "        holder = simulation.compute(var)\n",
    "        default = holder.column.default\n",
    "        array = holder.array\n",
    "        entity = simulation.entity_by_key_singular[entity]\n",
    "        \n",
    "        entity_index_array = simulation.holder_by_name[entity.index_for_person_variable_name].array\n",
    "        if roles is None:\n",
    "            roles = range(max(entity.roles_count, 11))\n",
    "        target_array_by_role = {}\n",
    "        for role in roles:\n",
    "            target_array_by_role[role] = target_array = np.empty(entity.count, dtype = 'int64')\n",
    "            target_array.fill(default)\n",
    "            boolean_filter = simulation.holder_by_name[entity.role_for_person_variable_name].array == role\n",
    "            try:\n",
    "                target_array[entity_index_array[boolean_filter]] = array[boolean_filter]\n",
    "            except:\n",
    "                log.error(u'An error occurred while filtering array for role {}[{}] in function {}'.format(\n",
    "                    entity.key_singular, role, holder.column.name))\n",
    "                raise\n",
    "            target_array_by_role[role] = array[boolean_filter]\n",
    "        return target_array_by_role"
   ]
  },
  {
   "cell_type": "code",
   "execution_count": 9,
   "metadata": {
    "collapsed": true
   },
   "outputs": [],
   "source": [
    "    def split_by_roles(var, entity = None, roles = None):\n",
    "        \"\"\"dispatch a persons array to several entity arrays (one for each role).\"\"\"\n",
    "        holder = simulation.compute(var)\n",
    "        default = holder.column.default\n",
    "        array = holder.array\n",
    "        entity = simulation.entity_by_key_singular[entity]\n",
    "\n",
    "        assert not entity.is_persons_entity\n",
    "\n",
    "        entity_index_array = simulation.holder_by_name[entity.index_for_person_variable_name].array\n",
    "        if roles is None:\n",
    "            # To ensure that existing formulas don't fail, ensure there is always at least 11 roles.\n",
    "            # roles = range(entity.roles_count)\n",
    "            roles = range(max(entity.roles_count, 11))\n",
    "        target_array_by_role = {}\n",
    "        for role in roles:\n",
    "            target_array_by_role[role] = target_array = np.empty(entity.count, dtype = array.dtype)\n",
    "            target_array.fill(default)\n",
    "            boolean_filter = simulation.holder_by_name[entity.role_for_person_variable_name].array == role\n",
    "            try:\n",
    "                target_array[entity_index_array[boolean_filter]] = array[boolean_filter]\n",
    "            except:\n",
    "                log.error(u'An error occurred while filtering array for role {}[{}] in function {}'.format(\n",
    "                    entity.key_singular, role, holder.column.name))\n",
    "                raise\n",
    "        return target_array_by_role\n"
   ]
  },
  {
   "cell_type": "code",
   "execution_count": 10,
   "metadata": {
    "collapsed": false
   },
   "outputs": [],
   "source": [
    "    def uc(entity):\n",
    "        '''\n",
    "        Calcule le nombre d'unités de consommation du ménage avec l'échelle de l'insee\n",
    "        'men'\n",
    "        '''\n",
    "\n",
    "\n",
    "        age_en_mois = split_by_roles(\"age_en_mois\", entity)\n",
    "\n",
    "        uc_adt = 0.5\n",
    "        uc_enf = 0.3\n",
    "        uc = 0.5\n",
    "        for agm in age_en_mois.itervalues():\n",
    "            age = np.floor(agm / 12)\n",
    "            adt = (15 <= age) & (age <= 150)\n",
    "            enf = (0 <= age) & (age <= 14)\n",
    "            uc += adt * uc_adt + enf * uc_enf\n",
    "        return uc\n"
   ]
  },
  {
   "cell_type": "code",
   "execution_count": 11,
   "metadata": {
    "collapsed": false
   },
   "outputs": [],
   "source": [
    "uc_famille =  uc('famille')\n",
    "uc_menage = uc('menage')"
   ]
  },
  {
   "cell_type": "code",
   "execution_count": 12,
   "metadata": {
    "collapsed": false
   },
   "outputs": [
    {
     "name": "stdout",
     "output_type": "stream",
     "text": [
      "rsa_last_month 0.0\n",
      "rsa_last_month 0.0\n",
      "rsa_last_month 0.0\n",
      "rsa_last_month 0.0\n",
      "période 2009-01\n",
      "rsa_last_month 2.30956e+06\n",
      "période 2009-02\n",
      "rsa_last_month 2.50738e+06\n",
      "période 2009-03\n",
      "rsa_last_month 2.58349e+06\n",
      "période 2009-04\n",
      "rsa_last_month 2.84413e+06\n",
      "période 2009-05\n",
      "période 2009-01\n",
      "rsa_last_month 2.87149e+06\n",
      "période 2009-06\n",
      "rsa_last_month 2.87782e+06\n",
      "période 2009-07\n",
      "rsa_last_month 2.91029e+06\n",
      "période 2009-08\n",
      "rsa_last_month 2.92267e+06\n",
      "période 2009-09\n",
      "rsa_last_month 2.96265e+06\n",
      "période 2009-10\n",
      "rsa_last_month 2.93266e+06\n",
      "période 2009-11\n",
      "rsa_last_month 2.95259e+06\n",
      "période 2009-12\n",
      "1166.84059733\n",
      "1168.95446968\n"
     ]
    }
   ],
   "source": [
    "print scenario.compute_aggregate(\"inverted_utility_ir_annuel\")/10**9\n",
    "print scenario.compute_aggregate(\"inverted_utility_ir_mensuel\")/10**9"
   ]
  },
  {
   "cell_type": "code",
   "execution_count": 13,
   "metadata": {
    "collapsed": false
   },
   "outputs": [
    {
     "name": "stdout",
     "output_type": "stream",
     "text": [
      "-4.84953166624e-06\n",
      "-4.84953166624e-06\n"
     ]
    }
   ],
   "source": [
    "print scenario.compute_aggregate(\"utility_compensated_ir_mensuel_robustness\")/10**9\n",
    "print scenario.compute_aggregate(\"utility_compensated_ir_mensuel_robustness_87\")/10**9"
   ]
  },
  {
   "cell_type": "code",
   "execution_count": 14,
   "metadata": {
    "collapsed": false
   },
   "outputs": [
    {
     "name": "stdout",
     "output_type": "stream",
     "text": [
      "1169.66738603\n",
      "1169.11348753\n",
      "1168.87535903\n",
      "1169.41644104\n"
     ]
    }
   ],
   "source": [
    "print scenario.compute_aggregate(\"inverted_utility_compensated_ir_mensuel_robustness\")/10**9\n",
    "print scenario.compute_aggregate(\"inverted_utility_ir_mensuel_robustness\")/10**9\n",
    "print scenario.compute_aggregate(\"inverted_utility_ir_mensuel_robustness_90\")/10**9\n",
    "print scenario.compute_aggregate(\"inverted_utility_compensated_ir_mensuel_robustness_90\")/10**9"
   ]
  },
  {
   "cell_type": "code",
   "execution_count": 16,
   "metadata": {
    "collapsed": false
   },
   "outputs": [
    {
     "name": "stdout",
     "output_type": "stream",
     "text": [
      "1169.66738603\n",
      "1169.11348753\n",
      "1169.67811619\n",
      "1168.87535903\n",
      "1170.26344769\n"
     ]
    }
   ],
   "source": [
    "print scenario.compute_aggregate(\"inverted_utility_compensated_ir_mensuel_robustness\")/10**9\n",
    "print scenario.compute_aggregate(\"inverted_utility_ir_mensuel_robustness\")/10**9\n",
    "print scenario.compute_aggregate(\"inverted_utility_ir_mensuel_robustness_8\")/10**9\n",
    "print scenario.compute_aggregate(\"inverted_utility_ir_mensuel_robustness_90\")/10**9\n",
    "print scenario.compute_aggregate(\"inverted_utility_compensated_ir_mensuel_robustness_8\")/10**9"
   ]
  },
  {
   "cell_type": "code",
   "execution_count": 19,
   "metadata": {
    "collapsed": false
   },
   "outputs": [
    {
     "data": {
      "text/plain": [
       "1175.0249494325417"
      ]
     },
     "execution_count": 19,
     "metadata": {},
     "output_type": "execute_result"
    }
   ],
   "source": [
    "(simulation.calculate(\"inverted_utility_compensated_ir_mensuel_robustness_8\")*weight_menages).sum()/10**9"
   ]
  },
  {
   "cell_type": "code",
   "execution_count": null,
   "metadata": {
    "collapsed": true
   },
   "outputs": [],
   "source": []
  },
  {
   "cell_type": "code",
   "execution_count": null,
   "metadata": {
    "collapsed": true
   },
   "outputs": [],
   "source": []
  },
  {
   "cell_type": "code",
   "execution_count": null,
   "metadata": {
    "collapsed": true
   },
   "outputs": [],
   "source": []
  }
 ],
 "metadata": {
  "kernelspec": {
   "display_name": "Python 2",
   "language": "python",
   "name": "python2"
  },
  "language_info": {
   "codemirror_mode": {
    "name": "ipython",
    "version": 2
   },
   "file_extension": ".py",
   "mimetype": "text/x-python",
   "name": "python",
   "nbconvert_exporter": "python",
   "pygments_lexer": "ipython2",
   "version": "2.7.10"
  },
  "toc": {
   "toc_cell": true,
   "toc_number_sections": true,
   "toc_threshold": 4,
   "toc_window_display": true
  },
  "toc_position": {
   "left": "2867.02px",
   "right": "20px",
   "top": "88px",
   "width": "300px"
  }
 },
 "nbformat": 4,
 "nbformat_minor": 0
}
