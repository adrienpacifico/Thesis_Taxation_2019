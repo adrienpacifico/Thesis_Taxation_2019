{
 "cells": [
  {
   "cell_type": "code",
   "execution_count": 1,
   "metadata": {
    "collapsed": true
   },
   "outputs": [],
   "source": [
    "%matplotlib inline"
   ]
  },
  {
   "cell_type": "code",
   "execution_count": 2,
   "metadata": {
    "collapsed": true
   },
   "outputs": [],
   "source": [
    "from __future__ import division\n",
    "import numpy as np\n",
    "import pandas as pd\n",
    "pd.core.series.Series.value_counts.im_func.func_defaults = (True, False, False, None, False)\n",
    "pd.set_option('display.max_rows', 100)\n",
    "pd.set_option('display.max_columns', 50)\n",
    "#pd.set_option('display.width', 200)\n",
    "#pd.set_option('display.height', 100)"
   ]
  },
  {
   "cell_type": "code",
   "execution_count": 3,
   "metadata": {
    "collapsed": true
   },
   "outputs": [],
   "source": [
    "import matplotlib.pyplot as plt"
   ]
  },
  {
   "cell_type": "code",
   "execution_count": 4,
   "metadata": {
    "collapsed": true
   },
   "outputs": [],
   "source": [
    "file_path = \"/Users/adrienpacifico/openfisca/Data/openfisca_data_2009.h5\"\n",
    "tmp_file_path = \"/Users/adrienpacifico/openfisca/Data/ofsc/tmp/erfs_mensualized.h5\""
   ]
  },
  {
   "cell_type": "code",
   "execution_count": 20,
   "metadata": {
    "collapsed": false
   },
   "outputs": [
    {
     "data": {
      "text/plain": [
       "<class 'pandas.io.pytables.HDFStore'>\n",
       "File path: /Users/adrienpacifico/openfisca/Data/ofsc/tmp/erfs_mensualized.h5\n",
       "/enfants_a_naitre_2009                       frame        (shape->[1079,8])   \n",
       "/famc_2009                                   frame        (shape->[112769,2]) \n",
       "/final2                                      frame        (shape->[112360,9]) \n",
       "/final2bis                                   frame        (shape->[112359,9]) \n",
       "/final3                                      frame        (shape->[112359,24])\n",
       "/final4                                      frame        (shape->[112359,24])\n",
       "/final_2009                                  frame        (shape->[112360,8]) \n",
       "/fipDat_2009                                 frame        (shape->[2463,29])  \n",
       "/foy_ind_2009                                frame        (shape->[76470,237])\n",
       "/ind_vars_to_remove_2009                     series       (shape->[1])        \n",
       "/indivi_step_06_2009                         frame        (shape->[112846,2]) \n",
       "/indivim_2009                                frame        (shape->[112427,16])\n",
       "/input_2009                                  frame        (shape->[112359,35])\n",
       "/input_mensualized/period_2009               frame        (shape->[112359,35])\n",
       "/input_mensualized/period_2009-01            frame        (shape->[112359,10])\n",
       "/input_mensualized/period_2009-02            frame        (shape->[112359,10])\n",
       "/input_mensualized/period_2009-03            frame        (shape->[112359,10])\n",
       "/input_mensualized/period_2009-04            frame        (shape->[112359,10])\n",
       "/input_mensualized/period_2009-05            frame        (shape->[112359,10])\n",
       "/input_mensualized/period_2009-06            frame        (shape->[112359,10])\n",
       "/input_mensualized/period_2009-07            frame        (shape->[112359,10])\n",
       "/input_mensualized/period_2009-08            frame        (shape->[112359,10])\n",
       "/input_mensualized/period_2009-09            frame        (shape->[112359,10])\n",
       "/input_mensualized/period_2009-10            frame        (shape->[112359,10])\n",
       "/input_mensualized/period_2009-11            frame        (shape->[112359,10])\n",
       "/input_mensualized/period_2009-12            frame        (shape->[112359,10])\n",
       "/menagem_2009                                frame        (shape->[49016,4])  \n",
       "/pacIndiv_2009                               frame        (shape->[27090,3])  \n",
       "/sif_2009                                    frame        (shape->[58025,17]) \n",
       "/stat_des_adrien_2009                        frame        (shape->[112846,58])\n",
       "/tot2_2009                                   frame        (shape->[112360,4]) \n",
       "/tot3_2009                                   frame        (shape->[112360,4]) "
      ]
     },
     "execution_count": 20,
     "metadata": {},
     "output_type": "execute_result"
    }
   ],
   "source": [
    "pd.HDFStore(tmp_file_path)"
   ]
  },
  {
   "cell_type": "code",
   "execution_count": 31,
   "metadata": {
    "collapsed": false
   },
   "outputs": [],
   "source": [
    "store = pd.HDFStore(tmp_file_path)"
   ]
  },
  {
   "cell_type": "code",
   "execution_count": 27,
   "metadata": {
    "collapsed": false
   },
   "outputs": [
    {
     "name": "stdout",
     "output_type": "stream",
     "text": [
      "['period_2009', 'period_2009-12', 'period_2009-11', 'period_2009-10', 'period_2009-01', 'period_2009-02', 'period_2009-03', 'period_2009-04', 'period_2009-05', 'period_2009-06', 'period_2009-07', 'period_2009-08', 'period_2009-09']\n"
     ]
    }
   ],
   "source": [
    "print nodes_mensualized.get_node('input_mensualized')._v_children.keys()"
   ]
  },
  {
   "cell_type": "code",
   "execution_count": 33,
   "metadata": {
    "collapsed": false
   },
   "outputs": [],
   "source": [
    "data_frame = store['/input_mensualized/{}'.format(nodes_mensualized.get_node('input_mensualized')._v_children.keys()[3])]"
   ]
  },
  {
   "cell_type": "code",
   "execution_count": 41,
   "metadata": {
    "collapsed": false
   },
   "outputs": [
    {
     "data": {
      "text/plain": [
       "16711.333333333332"
      ]
     },
     "execution_count": 41,
     "metadata": {},
     "output_type": "execute_result"
    }
   ],
   "source": [
    "data_frame.choi.max()"
   ]
  },
  {
   "cell_type": "code",
   "execution_count": 6,
   "metadata": {
    "collapsed": false
   },
   "outputs": [],
   "source": [
    "indivi = pd.read_hdf(tmp_file_path,\"/indivim_2009\")\n",
    "foy_ind = pd.read_hdf(tmp_file_path,\"/foy_ind_2009\")\n",
    "tot2 = pd.read_hdf(tmp_file_path,\"/tot2_2009\")\n",
    "tot3 = pd.read_hdf(tmp_file_path,\"/tot3_2009\")"
   ]
  },
  {
   "cell_type": "code",
   "execution_count": 7,
   "metadata": {
    "collapsed": false
   },
   "outputs": [
    {
     "name": "stdout",
     "output_type": "stream",
     "text": [
      "926149352.0\n",
      "967516134.0\n",
      "967516134.0 0.0427556508324\n"
     ]
    }
   ],
   "source": [
    "\n",
    "print foy_ind.sali.sum() \n",
    "print tot2.sali.sum()\n",
    "print tot3.sali.sum() , 1 - (foy_ind.sali.sum()/tot3.sali.sum())"
   ]
  },
  {
   "cell_type": "code",
   "execution_count": 8,
   "metadata": {
    "collapsed": false
   },
   "outputs": [
    {
     "name": "stdout",
     "output_type": "stream",
     "text": [
      "45946320.0\n",
      "47545655.0\n",
      "47545655.0 0.0336378792131\n"
     ]
    }
   ],
   "source": [
    "print foy_ind.choi.sum() \n",
    "print tot2.choi.sum()\n",
    "print tot3.choi.sum(), 1 - (foy_ind.choi.sum()/tot3.choi.sum())"
   ]
  },
  {
   "cell_type": "code",
   "execution_count": 9,
   "metadata": {
    "collapsed": false
   },
   "outputs": [
    {
     "name": "stdout",
     "output_type": "stream",
     "text": [
      "450038745.0\n",
      "454750361.0\n",
      "454750361.0 0.0103608845733\n"
     ]
    }
   ],
   "source": [
    "print foy_ind.rsti.sum() \n",
    "print tot2.rsti.sum()\n",
    "print tot3.rsti.sum(), 1 - (foy_ind.rsti.sum()/tot3.rsti.sum())"
   ]
  },
  {
   "cell_type": "code",
   "execution_count": 10,
   "metadata": {
    "collapsed": false
   },
   "outputs": [
    {
     "data": {
      "text/plain": [
       "967516134.0"
      ]
     },
     "execution_count": 10,
     "metadata": {},
     "output_type": "execute_result"
    }
   ],
   "source": [
    "indivi.zsali.sum()"
   ]
  },
  {
   "cell_type": "code",
   "execution_count": 11,
   "metadata": {
    "collapsed": true
   },
   "outputs": [],
   "source": [
    "indivim = indivi.copy()"
   ]
  },
  {
   "cell_type": "code",
   "execution_count": 12,
   "metadata": {
    "collapsed": false
   },
   "outputs": [],
   "source": [
    "selection = pd.Series()\n",
    "for var_i in [\"zsali\", \"zchoi\", \"zrsti\", \"zalri\", \"zrtoi\", \"zragi\", \"zrici\", \"zrnci\"]:\n",
    "    var_o = var_i[:-1] + \"o\"\n",
    "    test = indivim[var_i] != indivim[var_o]\n",
    "    if selection.empty:\n",
    "        selection = test\n",
    "    else:\n",
    "        selection = test | selection"
   ]
  },
  {
   "cell_type": "code",
   "execution_count": 13,
   "metadata": {
    "collapsed": true
   },
   "outputs": [],
   "source": [
    "indivi_i = indivim[selection].copy()"
   ]
  },
  {
   "cell_type": "code",
   "execution_count": 14,
   "metadata": {
    "collapsed": false
   },
   "outputs": [
    {
     "data": {
      "text/plain": [
       "3487290.0"
      ]
     },
     "execution_count": 14,
     "metadata": {},
     "output_type": "execute_result"
    }
   ],
   "source": [
    "indivi_i.zsalo.sum()"
   ]
  },
  {
   "cell_type": "code",
   "execution_count": 18,
   "metadata": {
    "collapsed": false
   },
   "outputs": [
    {
     "data": {
      "text/plain": [
       "0          NaN\n",
       "1          NaN\n",
       "2         6156\n",
       "3          NaN\n",
       "4          NaN\n",
       "5          NaN\n",
       "6          NaN\n",
       "7          NaN\n",
       "8          NaN\n",
       "9          NaN\n",
       "10         NaN\n",
       "11         NaN\n",
       "12        4252\n",
       "13         NaN\n",
       "14         NaN\n",
       "15         NaN\n",
       "16         NaN\n",
       "17         NaN\n",
       "18         NaN\n",
       "19        1649\n",
       "20         NaN\n",
       "21         NaN\n",
       "22         NaN\n",
       "23         NaN\n",
       "24         NaN\n",
       "25         NaN\n",
       "26         NaN\n",
       "27         NaN\n",
       "28         NaN\n",
       "29         NaN\n",
       "30         NaN\n",
       "31         NaN\n",
       "32         NaN\n",
       "33         NaN\n",
       "34         NaN\n",
       "35         NaN\n",
       "36         NaN\n",
       "37         NaN\n",
       "38         NaN\n",
       "39         NaN\n",
       "40         NaN\n",
       "41         NaN\n",
       "42         NaN\n",
       "43         NaN\n",
       "44         NaN\n",
       "45         NaN\n",
       "46         NaN\n",
       "47         NaN\n",
       "48         NaN\n",
       "49         NaN\n",
       "         ...  \n",
       "76420      NaN\n",
       "76421      NaN\n",
       "76422      NaN\n",
       "76423      NaN\n",
       "76424      NaN\n",
       "76425      NaN\n",
       "76426      NaN\n",
       "76427      NaN\n",
       "76428      NaN\n",
       "76429      NaN\n",
       "76430      NaN\n",
       "76431      NaN\n",
       "76432      NaN\n",
       "76433     8465\n",
       "76434      NaN\n",
       "76435      NaN\n",
       "76436      NaN\n",
       "76437      NaN\n",
       "76438      NaN\n",
       "76439      NaN\n",
       "76440      NaN\n",
       "76441     8641\n",
       "76442      NaN\n",
       "76443    18288\n",
       "76444      NaN\n",
       "76445      NaN\n",
       "76446      NaN\n",
       "76447      NaN\n",
       "76448      NaN\n",
       "76449      NaN\n",
       "76450      NaN\n",
       "76451      NaN\n",
       "76452      NaN\n",
       "76453      NaN\n",
       "76454      NaN\n",
       "76455      NaN\n",
       "76456      NaN\n",
       "76457      NaN\n",
       "76458      NaN\n",
       "76459     2482\n",
       "76460      NaN\n",
       "76461      NaN\n",
       "76462      NaN\n",
       "76463      NaN\n",
       "76464      NaN\n",
       "76465      NaN\n",
       "76466     8108\n",
       "76467      NaN\n",
       "76468      NaN\n",
       "76469     7606\n",
       "Name: choi, dtype: float64"
      ]
     },
     "execution_count": 18,
     "metadata": {},
     "output_type": "execute_result"
    }
   ],
   "source": [
    "foy_ind.choi"
   ]
  },
  {
   "cell_type": "code",
   "execution_count": null,
   "metadata": {
    "collapsed": true
   },
   "outputs": [],
   "source": []
  }
 ],
 "metadata": {
  "kernelspec": {
   "display_name": "Python 2",
   "language": "python",
   "name": "python2"
  },
  "language_info": {
   "codemirror_mode": {
    "name": "ipython",
    "version": 2
   },
   "file_extension": ".py",
   "mimetype": "text/x-python",
   "name": "python",
   "nbconvert_exporter": "python",
   "pygments_lexer": "ipython2",
   "version": "2.7.10"
  },
  "toc": {
   "toc_cell": false,
   "toc_number_sections": true,
   "toc_threshold": 4,
   "toc_window_display": false
  }
 },
 "nbformat": 4,
 "nbformat_minor": 0
}
