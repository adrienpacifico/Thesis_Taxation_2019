{
 "cells": [
  {
   "cell_type": "code",
   "execution_count": 1,
   "metadata": {
    "collapsed": true
   },
   "outputs": [],
   "source": [
    "%matplotlib inline"
   ]
  },
  {
   "cell_type": "code",
   "execution_count": 194,
   "metadata": {
    "collapsed": true
   },
   "outputs": [],
   "source": [
    "from __future__ import division\n",
    "import pandas as pd\n",
    "import numpy as np"
   ]
  },
  {
   "cell_type": "markdown",
   "metadata": {},
   "source": [
    "# Import and create dataset"
   ]
  },
  {
   "cell_type": "code",
   "execution_count": 145,
   "metadata": {
    "collapsed": false,
    "scrolled": true
   },
   "outputs": [],
   "source": [
    "movies = pd.read_table(\"/Users/adrienpacifico/Downloads/ml-1m/movies.dat\" , sep=\"::\", names=[\"movie_id\",\"movie_name\", \"genre\"], index_col = False) \n",
    "#movies\n"
   ]
  },
  {
   "cell_type": "code",
   "execution_count": 146,
   "metadata": {
    "collapsed": false,
    "scrolled": true
   },
   "outputs": [],
   "source": [
    "ratings = pd.read_table(\"/Users/adrienpacifico/Downloads/ml-1m/ratings.dat\" , sep=\"::\", names=[ \"user_id\", \"movie_id\", \"rating\", \"timestamp\"] )#; ratings"
   ]
  },
  {
   "cell_type": "code",
   "execution_count": 147,
   "metadata": {
    "collapsed": false,
    "scrolled": true
   },
   "outputs": [],
   "source": [
    "users = pd.read_table(\"/Users/adrienpacifico/Downloads/ml-1m/users.dat\" , sep=\"::\", names=[ \"user_id\", \"gender\", \"age\", \"occupation_code\", \"zip\"])# ; users"
   ]
  },
  {
   "cell_type": "code",
   "execution_count": 148,
   "metadata": {
    "collapsed": false
   },
   "outputs": [],
   "source": [
    "movie_data = pd.merge(ratings, movies, on= \"movie_id\")"
   ]
  },
  {
   "cell_type": "code",
   "execution_count": 149,
   "metadata": {
    "collapsed": false
   },
   "outputs": [],
   "source": [
    "movie_data = pd.merge(movie_data, users, on= \"user_id\")"
   ]
  },
  {
   "cell_type": "code",
   "execution_count": 150,
   "metadata": {
    "collapsed": false
   },
   "outputs": [
    {
     "data": {
      "text/html": [
       "<div>\n",
       "<table border=\"1\" class=\"dataframe\">\n",
       "  <thead>\n",
       "    <tr style=\"text-align: right;\">\n",
       "      <th></th>\n",
       "      <th>user_id</th>\n",
       "      <th>movie_id</th>\n",
       "      <th>rating</th>\n",
       "      <th>timestamp</th>\n",
       "      <th>movie_name</th>\n",
       "      <th>genre</th>\n",
       "      <th>gender</th>\n",
       "      <th>age</th>\n",
       "      <th>occupation_code</th>\n",
       "      <th>zip</th>\n",
       "    </tr>\n",
       "  </thead>\n",
       "  <tbody>\n",
       "    <tr>\n",
       "      <th>0</th>\n",
       "      <td>1</td>\n",
       "      <td>1193</td>\n",
       "      <td>5</td>\n",
       "      <td>978300760</td>\n",
       "      <td>One Flew Over the Cuckoo's Nest (1975)</td>\n",
       "      <td>Drama</td>\n",
       "      <td>F</td>\n",
       "      <td>1</td>\n",
       "      <td>10</td>\n",
       "      <td>48067</td>\n",
       "    </tr>\n",
       "    <tr>\n",
       "      <th>1</th>\n",
       "      <td>1</td>\n",
       "      <td>661</td>\n",
       "      <td>3</td>\n",
       "      <td>978302109</td>\n",
       "      <td>James and the Giant Peach (1996)</td>\n",
       "      <td>Animation|Children's|Musical</td>\n",
       "      <td>F</td>\n",
       "      <td>1</td>\n",
       "      <td>10</td>\n",
       "      <td>48067</td>\n",
       "    </tr>\n",
       "    <tr>\n",
       "      <th>2</th>\n",
       "      <td>1</td>\n",
       "      <td>914</td>\n",
       "      <td>3</td>\n",
       "      <td>978301968</td>\n",
       "      <td>My Fair Lady (1964)</td>\n",
       "      <td>Musical|Romance</td>\n",
       "      <td>F</td>\n",
       "      <td>1</td>\n",
       "      <td>10</td>\n",
       "      <td>48067</td>\n",
       "    </tr>\n",
       "    <tr>\n",
       "      <th>3</th>\n",
       "      <td>1</td>\n",
       "      <td>3408</td>\n",
       "      <td>4</td>\n",
       "      <td>978300275</td>\n",
       "      <td>Erin Brockovich (2000)</td>\n",
       "      <td>Drama</td>\n",
       "      <td>F</td>\n",
       "      <td>1</td>\n",
       "      <td>10</td>\n",
       "      <td>48067</td>\n",
       "    </tr>\n",
       "    <tr>\n",
       "      <th>4</th>\n",
       "      <td>1</td>\n",
       "      <td>2355</td>\n",
       "      <td>5</td>\n",
       "      <td>978824291</td>\n",
       "      <td>Bug's Life, A (1998)</td>\n",
       "      <td>Animation|Children's|Comedy</td>\n",
       "      <td>F</td>\n",
       "      <td>1</td>\n",
       "      <td>10</td>\n",
       "      <td>48067</td>\n",
       "    </tr>\n",
       "  </tbody>\n",
       "</table>\n",
       "</div>"
      ],
      "text/plain": [
       "   user_id  movie_id  rating  timestamp  \\\n",
       "0        1      1193       5  978300760   \n",
       "1        1       661       3  978302109   \n",
       "2        1       914       3  978301968   \n",
       "3        1      3408       4  978300275   \n",
       "4        1      2355       5  978824291   \n",
       "\n",
       "                               movie_name                         genre  \\\n",
       "0  One Flew Over the Cuckoo's Nest (1975)                         Drama   \n",
       "1        James and the Giant Peach (1996)  Animation|Children's|Musical   \n",
       "2                     My Fair Lady (1964)               Musical|Romance   \n",
       "3                  Erin Brockovich (2000)                         Drama   \n",
       "4                    Bug's Life, A (1998)   Animation|Children's|Comedy   \n",
       "\n",
       "  gender  age  occupation_code    zip  \n",
       "0      F    1               10  48067  \n",
       "1      F    1               10  48067  \n",
       "2      F    1               10  48067  \n",
       "3      F    1               10  48067  \n",
       "4      F    1               10  48067  "
      ]
     },
     "execution_count": 150,
     "metadata": {},
     "output_type": "execute_result"
    }
   ],
   "source": [
    "movie_data.head()"
   ]
  },
  {
   "cell_type": "code",
   "execution_count": null,
   "metadata": {
    "collapsed": true
   },
   "outputs": [],
   "source": []
  },
  {
   "cell_type": "code",
   "execution_count": null,
   "metadata": {
    "collapsed": true
   },
   "outputs": [],
   "source": []
  },
  {
   "cell_type": "markdown",
   "metadata": {},
   "source": [
    "## Five most graded movies"
   ]
  },
  {
   "cell_type": "code",
   "execution_count": 152,
   "metadata": {
    "collapsed": false
   },
   "outputs": [],
   "source": [
    "movie_list = list(movie_data.movie_name.value_counts(ascending=False)[:5].index)\n",
    "\n",
    "movie_list_string = \"\"\n",
    "for i in range(len(movie_list)):\n",
    "    if i < len(movie_list)-1:\n",
    "        movie_list_string += \"{}, \".format(movie_list[i]) \n",
    "    else: \n",
    "        movie_list_string += \"and {}.\".format(movie_list[i]) "
   ]
  },
  {
   "cell_type": "code",
   "execution_count": 153,
   "metadata": {
    "collapsed": false
   },
   "outputs": [
    {
     "name": "stdout",
     "output_type": "stream",
     "text": [
      "The 5 most graded movies are American Beauty (1999), Star Wars: Episode IV - A New Hope (1977), Star Wars: Episode V - The Empire Strikes Back (1980), Star Wars: Episode VI - Return of the Jedi (1983), and Jurassic Park (1993).\n"
     ]
    }
   ],
   "source": [
    "print \"The {} most graded movies are \".format(len(movie_list)) + movie_list_string\n"
   ]
  },
  {
   "cell_type": "markdown",
   "metadata": {},
   "source": [
    "## Select only active movie (nb of grades >= 250)"
   ]
  },
  {
   "cell_type": "code",
   "execution_count": 156,
   "metadata": {
    "collapsed": false
   },
   "outputs": [],
   "source": [
    "active_list = list(movie_data.movie_name.value_counts(ascending=False)[movie_data.movie_name.value_counts(ascending=False).values>=250].index)"
   ]
  },
  {
   "cell_type": "code",
   "execution_count": 157,
   "metadata": {
    "collapsed": false
   },
   "outputs": [],
   "source": [
    "active_titles = movie_data.loc[movie_data['movie_name'].isin(active_list)]"
   ]
  },
  {
   "cell_type": "markdown",
   "metadata": {},
   "source": [
    "## The 3 movies with the highest average rating for females. Do the same for males."
   ]
  },
  {
   "cell_type": "code",
   "execution_count": 161,
   "metadata": {
    "collapsed": false
   },
   "outputs": [
    {
     "data": {
      "text/plain": [
       "movie_name\n",
       "Close Shave, A (1995)                                     4.644444\n",
       "Wrong Trousers, The (1993)                                4.588235\n",
       "Sunset Blvd. (a.k.a. Sunset Boulevard) (1950)             4.572650\n",
       "Wallace & Gromit: The Best of Aardman Animation (1996)    4.563107\n",
       "Schindler's List (1993)                                   4.562602\n",
       "Shawshank Redemption, The (1994)                          4.539075\n",
       "Grand Day Out, A (1992)                                   4.537879\n",
       "To Kill a Mockingbird (1962)                              4.536667\n",
       "Creature Comforts (1990)                                  4.513889\n",
       "Usual Suspects, The (1995)                                4.513317\n",
       "Name: rating, dtype: float64"
      ]
     },
     "execution_count": 161,
     "metadata": {},
     "output_type": "execute_result"
    }
   ],
   "source": [
    "active_titles[active_titles.gender==\"F\"].groupby(by=\"movie_name\").mean().sort( columns='rating', ascending = False).rating[:10]"
   ]
  },
  {
   "cell_type": "code",
   "execution_count": 162,
   "metadata": {
    "collapsed": false
   },
   "outputs": [
    {
     "data": {
      "text/plain": [
       "movie_name\n",
       "Godfather, The (1972)                                                  4.583333\n",
       "Seven Samurai (The Magnificent Seven) (Shichinin no samurai) (1954)    4.576628\n",
       "Shawshank Redemption, The (1994)                                       4.560625\n",
       "Raiders of the Lost Ark (1981)                                         4.520597\n",
       "Usual Suspects, The (1995)                                             4.518248\n",
       "Star Wars: Episode IV - A New Hope (1977)                              4.495307\n",
       "Schindler's List (1993)                                                4.491415\n",
       "Wrong Trousers, The (1993)                                             4.478261\n",
       "Close Shave, A (1995)                                                  4.473795\n",
       "Rear Window (1954)                                                     4.472991\n",
       "Name: rating, dtype: float64"
      ]
     },
     "execution_count": 162,
     "metadata": {},
     "output_type": "execute_result"
    }
   ],
   "source": [
    "active_titles[active_titles.gender==\"M\"].groupby(by=\"movie_name\").mean().sort( columns='rating', ascending = False).rating[:10]"
   ]
  },
  {
   "cell_type": "markdown",
   "metadata": {},
   "source": [
    "## The 10 movies with the most dissimilar grades"
   ]
  },
  {
   "cell_type": "code",
   "execution_count": 165,
   "metadata": {
    "collapsed": false,
    "scrolled": true
   },
   "outputs": [
    {
     "data": {
      "text/plain": [
       "movie_name\n",
       "Dirty Dancing (1987)                     0.830782\n",
       "Jumpin' Jack Flash (1986)                0.676359\n",
       "Grease (1978)                            0.608224\n",
       "Little Women (1994)                      0.548849\n",
       "Steel Magnolias (1989)                   0.535777\n",
       "Anastasia (1997)                         0.518391\n",
       "Rocky Horror Picture Show, The (1975)    0.512885\n",
       "Color Purple, The (1985)                 0.498851\n",
       "Age of Innocence, The (1993)             0.487561\n",
       "Free Willy (1993)                        0.482573\n",
       "Name: rating, dtype: float64"
      ]
     },
     "execution_count": 165,
     "metadata": {},
     "output_type": "execute_result"
    }
   ],
   "source": [
    "(active_titles[active_titles.gender==\"F\"].groupby(by=\"movie_name\").mean() - active_titles[active_titles.gender==\"M\"].groupby(by=\"movie_name\").mean()).sort(columns=\"rating\", ascending = False).rating[:10]"
   ]
  },
  {
   "cell_type": "code",
   "execution_count": 166,
   "metadata": {
    "collapsed": false,
    "scrolled": true
   },
   "outputs": [
    {
     "data": {
      "text/plain": [
       "movie_name\n",
       "Good, The Bad and The Ugly, The (1966)   -0.726351\n",
       "Kentucky Fried Movie, The (1977)         -0.676359\n",
       "Dumb & Dumber (1994)                     -0.638608\n",
       "Longest Day, The (1962)                  -0.619682\n",
       "Cable Guy, The (1996)                    -0.613787\n",
       "Evil Dead II (Dead By Dawn) (1987)       -0.611985\n",
       "Hidden, The (1987)                       -0.607167\n",
       "Rocky III (1982)                         -0.581801\n",
       "Caddyshack (1980)                        -0.573602\n",
       "For a Few Dollars More (1965)            -0.544704\n",
       "Name: rating, dtype: float64"
      ]
     },
     "execution_count": 166,
     "metadata": {},
     "output_type": "execute_result"
    }
   ],
   "source": [
    "(active_titles[active_titles.gender==\"F\"].groupby(by=\"movie_name\").mean() - active_titles[active_titles.gender==\"M\"].groupby(by=\"movie_name\").mean()).sort(columns=\"rating\", ascending = True).rating[:10]"
   ]
  },
  {
   "cell_type": "markdown",
   "metadata": {},
   "source": [
    "### The 5 movies that had the highest standard deviation in rating."
   ]
  },
  {
   "cell_type": "code",
   "execution_count": 167,
   "metadata": {
    "collapsed": false
   },
   "outputs": [
    {
     "data": {
      "text/plain": [
       "movie_name\n",
       "Dumb & Dumber (1994)                     1.321333\n",
       "Blair Witch Project, The (1999)          1.316368\n",
       "Natural Born Killers (1994)              1.307198\n",
       "Tank Girl (1995)                         1.277695\n",
       "Rocky Horror Picture Show, The (1975)    1.260177\n",
       "Eyes Wide Shut (1999)                    1.259624\n",
       "Evita (1996)                             1.253631\n",
       "Billy Madison (1995)                     1.249970\n",
       "Fear and Loathing in Las Vegas (1998)    1.246408\n",
       "Bicentennial Man (1999)                  1.245533\n",
       "Name: rating, dtype: float64"
      ]
     },
     "execution_count": 167,
     "metadata": {},
     "output_type": "execute_result"
    }
   ],
   "source": [
    "active_titles.groupby(by=\"movie_name\").rating.std().order(ascending = False)[:10]"
   ]
  },
  {
   "cell_type": "markdown",
   "metadata": {},
   "source": [
    "## Best grade per number of reviews"
   ]
  },
  {
   "cell_type": "code",
   "execution_count": 234,
   "metadata": {
    "collapsed": true
   },
   "outputs": [],
   "source": [
    "number_of_rating = active_titles.groupby(by=\"movie_name\").rating.count()\n",
    "average_rating = active_titles.groupby(by=\"movie_name\").rating.mean()\n",
    "std_rating = active_titles.groupby(by=\"movie_name\").rating.std()\n",
    "number_of_men = active_titles[active_titles.gender==\"M\"].groupby(by=\"movie_name\").rating.count()\n",
    "number_of_women = active_titles[active_titles.gender==\"F\"].groupby(by=\"movie_name\").rating.count()\n",
    "share_of_men_times_std = share_of_men * std_rating\n",
    "men_std = active_titles[active_titles.gender==\"M\"].groupby(by=\"movie_name\").rating.std()\n",
    "women_std = active_titles[active_titles.gender==\"F\"].groupby(by=\"movie_name\").rating.std()\n"
   ]
  },
  {
   "cell_type": "code",
   "execution_count": 197,
   "metadata": {
    "collapsed": true
   },
   "outputs": [],
   "source": [
    "share_of_men = active_titles[active_titles.gender==\"M\"].groupby(by=\"movie_name\").rating.count()/active_titles.groupby(by=\"movie_name\").rating.count()"
   ]
  },
  {
   "cell_type": "code",
   "execution_count": 204,
   "metadata": {
    "collapsed": false
   },
   "outputs": [
    {
     "data": {
      "text/plain": [
       "movie_name\n",
       "Heartbreak Ridge (1986)       0.950000\n",
       "High Plains Drifter (1972)    0.943218\n",
       "Where Eagles Dare (1969)      0.950943\n",
       "Name: rating, dtype: float64"
      ]
     },
     "execution_count": 204,
     "metadata": {},
     "output_type": "execute_result"
    }
   ],
   "source": [
    "share_of_men[share_of_men>0.94]"
   ]
  },
  {
   "cell_type": "code",
   "execution_count": 181,
   "metadata": {
    "collapsed": false
   },
   "outputs": [
    {
     "data": {
      "text/plain": [
       "movie_name\n",
       "'burbs, The (1989)                                                     303\n",
       "10 Things I Hate About You (1999)                                      700\n",
       "101 Dalmatians (1961)                                                  565\n",
       "101 Dalmatians (1996)                                                  364\n",
       "12 Angry Men (1957)                                                    616\n",
       "13th Warrior, The (1999)                                               750\n",
       "2 Days in the Valley (1996)                                            286\n",
       "20,000 Leagues Under the Sea (1954)                                    575\n",
       "2001: A Space Odyssey (1968)                                          1716\n",
       "2010 (1984)                                                            470\n",
       "28 Days (2000)                                                         505\n",
       "39 Steps, The (1935)                                                   253\n",
       "54 (1998)                                                              259\n",
       "7th Voyage of Sinbad, The (1958)                                       258\n",
       "8MM (1999)                                                             272\n",
       "About Last Night... (1986)                                             326\n",
       "Absent Minded Professor, The (1961)                                    380\n",
       "Absolute Power (1997)                                                  380\n",
       "Abyss, The (1989)                                                     1715\n",
       "Ace Ventura: Pet Detective (1994)                                      766\n",
       "Ace Ventura: When Nature Calls (1995)                                  389\n",
       "Addams Family Values (1993)                                            463\n",
       "Addams Family, The (1991)                                              714\n",
       "Adventures in Babysitting (1987)                                       541\n",
       "Adventures of Buckaroo Bonzai Across the 8th Dimension, The (1984)     611\n",
       "Adventures of Priscilla, Queen of the Desert, The (1994)               469\n",
       "Adventures of Robin Hood, The (1938)                                   378\n",
       "African Queen, The (1951)                                             1057\n",
       "Age of Innocence, The (1993)                                           295\n",
       "Agnes of God (1985)                                                    276\n",
       "                                                                      ... \n",
       "White Men Can't Jump (1992)                                            667\n",
       "Who Framed Roger Rabbit? (1988)                                       1799\n",
       "Who's Afraid of Virginia Woolf? (1966)                                 297\n",
       "Whole Nine Yards, The (2000)                                           602\n",
       "Wild Bunch, The (1969)                                                 264\n",
       "Wild Things (1998)                                                     626\n",
       "Wild Wild West (1999)                                                  902\n",
       "William Shakespeare's Romeo and Juliet (1996)                          479\n",
       "Willow (1988)                                                          802\n",
       "Willy Wonka and the Chocolate Factory (1971)                          1313\n",
       "Witness (1985)                                                        1046\n",
       "Wizard of Oz, The (1939)                                              1718\n",
       "Wolf (1994)                                                            272\n",
       "Women on the Verge of a Nervous Breakdown (1988)                       353\n",
       "Wonder Boys (2000)                                                     496\n",
       "Working Girl (1988)                                                    514\n",
       "World Is Not Enough, The (1999)                                        862\n",
       "Wrong Trousers, The (1993)                                             882\n",
       "Wyatt Earp (1994)                                                      270\n",
       "X-Files: Fight the Future, The (1998)                                  996\n",
       "X-Men (2000)                                                          1511\n",
       "Year of Living Dangerously (1982)                                      391\n",
       "Yellow Submarine (1968)                                                399\n",
       "You've Got Mail (1998)                                                 838\n",
       "Young Frankenstein (1974)                                             1193\n",
       "Young Guns (1988)                                                      562\n",
       "Young Guns II (1990)                                                   369\n",
       "Young Sherlock Holmes (1985)                                           379\n",
       "Zero Effect (1998)                                                     301\n",
       "eXistenZ (1999)                                                        410\n",
       "Name: rating, dtype: int64"
      ]
     },
     "execution_count": 181,
     "metadata": {},
     "output_type": "execute_result"
    }
   ],
   "source": [
    "active_titles.groupby(by=\"movie_name\").rating.count()"
   ]
  },
  {
   "cell_type": "code",
   "execution_count": 183,
   "metadata": {
    "collapsed": false
   },
   "outputs": [
    {
     "data": {
      "text/plain": [
       "\n",
       "-------------------------Summary of Regression Analysis-------------------------\n",
       "\n",
       "Formula: Y ~ <nb_of_ratings> + <intercept>\n",
       "\n",
       "Number of Observations:         1216\n",
       "Number of Degrees of Freedom:   2\n",
       "\n",
       "R-squared:         0.1361\n",
       "Adj R-squared:     0.1354\n",
       "\n",
       "Rmse:              0.4697\n",
       "\n",
       "F-stat (1, 1214):   191.2702, p-value:     0.0000\n",
       "\n",
       "Degrees of Freedom: model 1, resid 1214\n",
       "\n",
       "-----------------------Summary of Estimated Coefficients------------------------\n",
       "      Variable       Coef    Std Err     t-stat    p-value    CI 2.5%   CI 97.5%\n",
       "--------------------------------------------------------------------------------\n",
       " nb_of_ratings     0.0004     0.0000      13.83     0.0000     0.0004     0.0005\n",
       "     intercept     3.2804     0.0239     137.41     0.0000     3.2336     3.3272\n",
       "---------------------------------End of Summary---------------------------------"
      ]
     },
     "execution_count": 183,
     "metadata": {},
     "output_type": "execute_result"
    }
   ],
   "source": [
    "pd.stats.ols.OLS(average_rating, {\"nb_of_ratings\":number_of_rating})"
   ]
  },
  {
   "cell_type": "code",
   "execution_count": 217,
   "metadata": {
    "collapsed": false
   },
   "outputs": [
    {
     "data": {
      "text/plain": [
       "\n",
       "-------------------------Summary of Regression Analysis-------------------------\n",
       "\n",
       "Formula: Y ~ <nb_of_ratings> + <number_of_men> + <share_of_men> + <std_rating>\n",
       "             + <intercept>\n",
       "\n",
       "Number of Observations:         1216\n",
       "Number of Degrees of Freedom:   5\n",
       "\n",
       "R-squared:         0.4789\n",
       "Adj R-squared:     0.4772\n",
       "\n",
       "Rmse:              0.3653\n",
       "\n",
       "F-stat (4, 1211):   278.2333, p-value:     0.0000\n",
       "\n",
       "Degrees of Freedom: model 4, resid 1211\n",
       "\n",
       "-----------------------Summary of Estimated Coefficients------------------------\n",
       "      Variable       Coef    Std Err     t-stat    p-value    CI 2.5%   CI 97.5%\n",
       "--------------------------------------------------------------------------------\n",
       " nb_of_ratings     0.0001     0.0003       0.36     0.7163    -0.0005     0.0007\n",
       " number_of_men     0.0003     0.0004       0.72     0.4720    -0.0005     0.0011\n",
       "  share_of_men    -1.0297     0.2375      -4.34     0.0000    -1.4952    -0.5642\n",
       "    std_rating    -2.6431     0.0999     -26.47     0.0000    -2.8388    -2.4474\n",
       "     intercept     6.6679     0.2024      32.94     0.0000     6.2711     7.0647\n",
       "---------------------------------End of Summary---------------------------------"
      ]
     },
     "execution_count": 217,
     "metadata": {},
     "output_type": "execute_result"
    }
   ],
   "source": [
    "pd.stats.ols.OLS(average_rating, {\"nb_of_ratings\":number_of_rating,\"std_rating\":std_rating,\n",
    "                                  \"number_of_men\":number_of_men, \"share_of_men\": share_of_men,\n",
    "                                 })"
   ]
  },
  {
   "cell_type": "code",
   "execution_count": 218,
   "metadata": {
    "collapsed": false
   },
   "outputs": [
    {
     "data": {
      "text/plain": [
       "\n",
       "-------------------------Summary of Regression Analysis-------------------------\n",
       "\n",
       "Formula: Y ~ <nb_of_ratings> + <number_of_men> + <share x std> + <std_rating>\n",
       "             + <intercept>\n",
       "\n",
       "Number of Observations:         1216\n",
       "Number of Degrees of Freedom:   5\n",
       "\n",
       "R-squared:         0.4799\n",
       "Adj R-squared:     0.4781\n",
       "\n",
       "Rmse:              0.3649\n",
       "\n",
       "F-stat (4, 1211):   279.2959, p-value:     0.0000\n",
       "\n",
       "Degrees of Freedom: model 4, resid 1211\n",
       "\n",
       "-----------------------Summary of Estimated Coefficients------------------------\n",
       "      Variable       Coef    Std Err     t-stat    p-value    CI 2.5%   CI 97.5%\n",
       "--------------------------------------------------------------------------------\n",
       " nb_of_ratings     0.0001     0.0003       0.25     0.8026    -0.0005     0.0007\n",
       " number_of_men     0.0003     0.0004       0.85     0.3934    -0.0004     0.0011\n",
       "   share x std    -1.1001     0.2398      -4.59     0.0000    -1.5701    -0.6301\n",
       "    std_rating    -1.8030     0.2113      -8.53     0.0000    -2.2171    -1.3890\n",
       "     intercept     5.8822     0.1009      58.30     0.0000     5.6844     6.0799\n",
       "---------------------------------End of Summary---------------------------------"
      ]
     },
     "execution_count": 218,
     "metadata": {},
     "output_type": "execute_result"
    }
   ],
   "source": [
    "pd.stats.ols.OLS(average_rating, {\"nb_of_ratings\":number_of_rating,\"std_rating\":std_rating,\n",
    "                                  \"number_of_men\":number_of_men,\n",
    "                                 \"share x std\":share_of_men_times_std})"
   ]
  },
  {
   "cell_type": "code",
   "execution_count": 236,
   "metadata": {
    "collapsed": false
   },
   "outputs": [
    {
     "data": {
      "text/plain": [
       "\n",
       "-------------------------Summary of Regression Analysis-------------------------\n",
       "\n",
       "Formula: Y ~ <men_std> + <nb_of_ratings> + <number_of_men> + <share x std>\n",
       "             + <std_rating> + <women_std> + <intercept>\n",
       "\n",
       "Number of Observations:         1216\n",
       "Number of Degrees of Freedom:   7\n",
       "\n",
       "R-squared:         0.4826\n",
       "Adj R-squared:     0.4801\n",
       "\n",
       "Rmse:              0.3643\n",
       "\n",
       "F-stat (6, 1209):   187.9705, p-value:     0.0000\n",
       "\n",
       "Degrees of Freedom: model 6, resid 1209\n",
       "\n",
       "-----------------------Summary of Estimated Coefficients------------------------\n",
       "      Variable       Coef    Std Err     t-stat    p-value    CI 2.5%   CI 97.5%\n",
       "--------------------------------------------------------------------------------\n",
       "       men_std     2.1117     0.8448       2.50     0.0126     0.4559     3.7675\n",
       " nb_of_ratings     0.0001     0.0003       0.30     0.7605    -0.0005     0.0007\n",
       " number_of_men     0.0003     0.0004       0.82     0.4098    -0.0004     0.0011\n",
       "   share x std    -1.1803     0.2457      -4.80     0.0000    -1.6618    -0.6988\n",
       "    std_rating    -4.4981     1.0818      -4.16     0.0000    -6.6185    -2.3777\n",
       "--------------------------------------------------------------------------------\n",
       "     women_std     0.6750     0.2853       2.37     0.0181     0.1159     1.2342\n",
       "     intercept     5.8470     0.1017      57.47     0.0000     5.6476     6.0464\n",
       "---------------------------------End of Summary---------------------------------"
      ]
     },
     "execution_count": 236,
     "metadata": {},
     "output_type": "execute_result"
    }
   ],
   "source": [
    "pd.stats.ols.OLS(average_rating, {\"nb_of_ratings\":number_of_rating,\"std_rating\":std_rating,\n",
    "                                  \"number_of_men\":number_of_men, \"women_std\":women_std,\"men_std\":men_std,\n",
    "                                 \"share x std\":share_of_men_times_std})"
   ]
  },
  {
   "cell_type": "code",
   "execution_count": null,
   "metadata": {
    "collapsed": true
   },
   "outputs": [],
   "source": []
  },
  {
   "cell_type": "code",
   "execution_count": null,
   "metadata": {
    "collapsed": true
   },
   "outputs": [],
   "source": []
  },
  {
   "cell_type": "markdown",
   "metadata": {},
   "source": [
    "## Average grade men woman"
   ]
  },
  {
   "cell_type": "code",
   "execution_count": 212,
   "metadata": {
    "collapsed": false
   },
   "outputs": [
    {
     "name": "stdout",
     "output_type": "stream",
     "text": [
      "3.54109003553\n",
      "3.54858430205\n"
     ]
    }
   ],
   "source": [
    "print active_titles[active_titles.gender==\"M\"].groupby(by=\"movie_name\").rating.mean().mean()\n",
    "print active_titles[active_titles.gender==\"F\"].groupby(by=\"movie_name\").rating.mean().mean()"
   ]
  },
  {
   "cell_type": "code",
   "execution_count": null,
   "metadata": {
    "collapsed": true
   },
   "outputs": [],
   "source": []
  },
  {
   "cell_type": "code",
   "execution_count": null,
   "metadata": {
    "collapsed": true
   },
   "outputs": [],
   "source": [
    "pd.merge()"
   ]
  },
  {
   "cell_type": "code",
   "execution_count": null,
   "metadata": {
    "collapsed": true
   },
   "outputs": [],
   "source": []
  },
  {
   "cell_type": "code",
   "execution_count": null,
   "metadata": {
    "collapsed": true
   },
   "outputs": [],
   "source": []
  },
  {
   "cell_type": "code",
   "execution_count": 172,
   "metadata": {
    "collapsed": false
   },
   "outputs": [
    {
     "data": {
      "text/plain": [
       "movie_name\n",
       "'burbs, The (1989)                                                     882\n",
       "10 Things I Hate About You (1999)                                     2396\n",
       "101 Dalmatians (1961)                                                 2032\n",
       "101 Dalmatians (1996)                                                 1109\n",
       "12 Angry Men (1957)                                                   2646\n",
       "13th Warrior, The (1999)                                              2369\n",
       "2 Days in the Valley (1996)                                            939\n",
       "20,000 Leagues Under the Sea (1954)                                   2129\n",
       "2001: A Space Odyssey (1968)                                          6982\n",
       "2010 (1984)                                                           1606\n",
       "28 Days (2000)                                                        1548\n",
       "39 Steps, The (1935)                                                  1031\n",
       "54 (1998)                                                              716\n",
       "7th Voyage of Sinbad, The (1958)                                       933\n",
       "8MM (1999)                                                             779\n",
       "About Last Night... (1986)                                            1029\n",
       "Absent Minded Professor, The (1961)                                   1312\n",
       "Absolute Power (1997)                                                 1276\n",
       "Abyss, The (1989)                                                     6318\n",
       "Ace Ventura: Pet Detective (1994)                                     2412\n",
       "Ace Ventura: When Nature Calls (1995)                                  965\n",
       "Addams Family Values (1993)                                           1346\n",
       "Addams Family, The (1991)                                             2263\n",
       "Adventures in Babysitting (1987)                                      1772\n",
       "Adventures of Buckaroo Bonzai Across the 8th Dimension, The (1984)    2070\n",
       "Adventures of Priscilla, Queen of the Desert, The (1994)              1785\n",
       "Adventures of Robin Hood, The (1938)                                  1502\n",
       "African Queen, The (1951)                                             4494\n",
       "Age of Innocence, The (1993)                                          1050\n",
       "Agnes of God (1985)                                                    933\n",
       "                                                                      ... \n",
       "White Men Can't Jump (1992)                                           2127\n",
       "Who Framed Roger Rabbit? (1988)                                       6620\n",
       "Who's Afraid of Virginia Woolf? (1966)                                1210\n",
       "Whole Nine Yards, The (2000)                                          2034\n",
       "Wild Bunch, The (1969)                                                1079\n",
       "Wild Things (1998)                                                    2157\n",
       "Wild Wild West (1999)                                                 1947\n",
       "William Shakespeare's Romeo and Juliet (1996)                         1629\n",
       "Willow (1988)                                                         2804\n",
       "Willy Wonka and the Chocolate Factory (1971)                          5070\n",
       "Witness (1985)                                                        4180\n",
       "Wizard of Oz, The (1939)                                              7298\n",
       "Wolf (1994)                                                            798\n",
       "Women on the Verge of a Nervous Breakdown (1988)                      1374\n",
       "Wonder Boys (2000)                                                    1959\n",
       "Working Girl (1988)                                                   1755\n",
       "World Is Not Enough, The (1999)                                       2913\n",
       "Wrong Trousers, The (1993)                                            3976\n",
       "Wyatt Earp (1994)                                                      882\n",
       "X-Files: Fight the Future, The (1998)                                 3479\n",
       "X-Men (2000)                                                          5773\n",
       "Year of Living Dangerously (1982)                                     1523\n",
       "Yellow Submarine (1968)                                               1475\n",
       "You've Got Mail (1998)                                                2833\n",
       "Young Frankenstein (1974)                                             5071\n",
       "Young Guns (1988)                                                     1921\n",
       "Young Guns II (1990)                                                  1073\n",
       "Young Sherlock Holmes (1985)                                          1285\n",
       "Zero Effect (1998)                                                    1129\n",
       "eXistenZ (1999)                                                       1335\n",
       "Name: rating, dtype: int64"
      ]
     },
     "execution_count": 172,
     "metadata": {},
     "output_type": "execute_result"
    }
   ],
   "source": [
    "active_titles.groupby(by=\"movie_name\").rating.sum()"
   ]
  },
  {
   "cell_type": "code",
   "execution_count": null,
   "metadata": {
    "collapsed": true
   },
   "outputs": [],
   "source": []
  },
  {
   "cell_type": "code",
   "execution_count": null,
   "metadata": {
    "collapsed": true
   },
   "outputs": [],
   "source": []
  },
  {
   "cell_type": "code",
   "execution_count": null,
   "metadata": {
    "collapsed": true
   },
   "outputs": [],
   "source": []
  },
  {
   "cell_type": "code",
   "execution_count": null,
   "metadata": {
    "collapsed": true
   },
   "outputs": [],
   "source": []
  },
  {
   "cell_type": "code",
   "execution_count": null,
   "metadata": {
    "collapsed": true
   },
   "outputs": [],
   "source": []
  },
  {
   "cell_type": "code",
   "execution_count": null,
   "metadata": {
    "collapsed": true
   },
   "outputs": [],
   "source": []
  },
  {
   "cell_type": "code",
   "execution_count": null,
   "metadata": {
    "collapsed": true
   },
   "outputs": [],
   "source": []
  }
 ],
 "metadata": {
  "kernelspec": {
   "display_name": "Python 2",
   "language": "python",
   "name": "python2"
  },
  "language_info": {
   "codemirror_mode": {
    "name": "ipython",
    "version": 2
   },
   "file_extension": ".py",
   "mimetype": "text/x-python",
   "name": "python",
   "nbconvert_exporter": "python",
   "pygments_lexer": "ipython2",
   "version": "2.7.10"
  }
 },
 "nbformat": 4,
 "nbformat_minor": 0
}
