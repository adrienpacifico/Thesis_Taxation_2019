{
 "cells": [
  {
   "cell_type": "code",
   "execution_count": 1,
   "metadata": {
    "collapsed": false
   },
   "outputs": [
    {
     "name": "stdout",
     "output_type": "stream",
     "text": [
      "---This notebook have been runed with--- \n",
      "Openfisca-france : 95ffb8e07e50392271c91deca0e06a0da5080f02 \n",
      "\n",
      "Commit short SHA: 95ff\n",
      "Branch:  mensualisation_wip\n",
      "Date (y/m/d): 2016-05-17 11:50:45  \n",
      "\n",
      "Openfisca-core : 4076f591f4bcb571391b65a989e1603fdc4cb759  Date: 2016-02-24 16:11:57 \n",
      "Openfisca-france-data : 02bbb1c540c7f01924a70248140c803e66736c40  Date: 2016-05-17 11:54:53 \n",
      "OpenFisca-Aggregates : fd210d8cfdf6ed68f173d9d5c3eab4a4302ed2b9  Date: 2016-04-04 11:35:03 \n"
     ]
    }
   ],
   "source": [
    "import git  #Requires Gitpython installed, to install do \"$ pip install Gitpython\" in your terminal\n",
    "import pkg_resources\n",
    "openfisca_france_location = pkg_resources.get_distribution('openfisca-france').location\n",
    "repo = git.Repo(openfisca_france_location)\n",
    "repo.git.status()\n",
    "\n",
    "sha = repo.head.object.hexsha\n",
    "\n",
    "print \"---This notebook have been runed with--- \\n\",\"Openfisca-france :\", repo.head.object.hexsha, '\\n' \n",
    "print \"Commit short SHA:\", repo.git.rev_parse(sha, short=4)\n",
    "print \"Branch: \", repo.git.rev_parse('--abbrev-ref', \"HEAD\") #equivalent to: $git rev-parse --abbrev-ref HEAD\n",
    "print \"Date (y/m/d):\", repo.git.show(\"-s\", '--format=%ci', 'HEAD^')[:-5],\"\\n\"  # equivalent to: $git show -s --format=%ci HEAD^\n",
    "\n",
    "print \"Openfisca-core :\", git.Repo(pkg_resources.get_distribution('openfisca-core').location).head.object.hexsha, ' Date:', git.Repo(pkg_resources.get_distribution('openfisca-core').location).git.show(\"-s\", '--format=%ci', 'HEAD^')[:-5]\n",
    "print \"Openfisca-france-data :\", git.Repo(pkg_resources.get_distribution('openfisca-france-data').location).head.object.hexsha, ' Date:', git.Repo(pkg_resources.get_distribution('openfisca-france-data').location).git.show(\"-s\", '--format=%ci', 'HEAD^')[:-5]\n",
    "print \"OpenFisca-Aggregates :\", git.Repo(pkg_resources.get_distribution('OpenFisca-Aggregates').location).head.object.hexsha, ' Date:', git.Repo(pkg_resources.get_distribution('OpenFisca-Aggregates').location).git.show(\"-s\", '--format=%ci', 'HEAD^')[:-5]"
   ]
  },
  {
   "cell_type": "code",
   "execution_count": 2,
   "metadata": {
    "collapsed": false
   },
   "outputs": [],
   "source": [
    "%matplotlib inline\n",
    "from __future__ import division\n",
    "import matplotlib.pyplot as plt\n",
    "from openfisca_core import periods\n",
    "\n",
    "\n",
    "\n",
    "from openfisca_plugin_aggregates.tests.test_aggregates import create_survey_scenario as annual_create_survey_scenario\n",
    "from openfisca_plugin_aggregates.tests.test_monthly_aggregates import create_survey_scenario as monthly_create_survey_scenario\n",
    "\n",
    "\n",
    "import pandas as pd\n",
    "\n",
    "import numpy as np\n",
    "from numpy import (datetime64, logical_and as and_, logical_not as not_, logical_or as or_, logical_xor as xor_,\n",
    "maximum as max_, minimum as min_, round)\n",
    "\n",
    "\n",
    "#Faire des filtres pour Mahdi survey_scenario.create_data_frame_by_entity_key_plural\n",
    "\n",
    "pd.set_option('expand_frame_repr', False)  #utile quand on utilise pandas en mode console\n",
    "pd.set_option(\"display.max_rows\",201)\n",
    "pd.set_option(\"display.max_columns\",201)"
   ]
  },
  {
   "cell_type": "code",
   "execution_count": 3,
   "metadata": {
    "collapsed": true
   },
   "outputs": [],
   "source": [
    "period = periods.period(2009)"
   ]
  },
  {
   "cell_type": "code",
   "execution_count": 4,
   "metadata": {
    "collapsed": false
   },
   "outputs": [
    {
     "data": {
      "text/plain": [
       "<openfisca_core.simulations.Simulation at 0x10c006290>"
      ]
     },
     "execution_count": 4,
     "metadata": {},
     "output_type": "execute_result"
    }
   ],
   "source": [
    "annual_survey_scenario = annual_create_survey_scenario(2009)\n",
    "annual_survey_scenario.new_simulation()"
   ]
  },
  {
   "cell_type": "code",
   "execution_count": 5,
   "metadata": {
    "collapsed": false
   },
   "outputs": [
    {
     "data": {
      "text/plain": [
       "<openfisca_core.simulations.Simulation at 0x112c22510>"
      ]
     },
     "execution_count": 5,
     "metadata": {},
     "output_type": "execute_result"
    }
   ],
   "source": [
    "monthly_survey_scenario = monthly_create_survey_scenario(2009)\n",
    "monthly_survey_scenario.new_simulation()"
   ]
  },
  {
   "cell_type": "markdown",
   "metadata": {},
   "source": [
    "### IRPP censé être égaux (diff peut être dues aux arrondis)."
   ]
  },
  {
   "cell_type": "code",
   "execution_count": 6,
   "metadata": {
    "collapsed": false
   },
   "outputs": [
    {
     "name": "stdout",
     "output_type": "stream",
     "text": [
      "-48038862065.7\n",
      "-48038958442.0\n"
     ]
    },
    {
     "data": {
      "text/plain": [
       "-96376.301544189453"
      ]
     },
     "execution_count": 6,
     "metadata": {},
     "output_type": "execute_result"
    }
   ],
   "source": [
    "assert monthly_survey_scenario.simulation.calculate('irpp').shape == annual_survey_scenario.simulation.calculate('irpp').shape\n",
    "print monthly_survey_scenario.compute_aggregate('irpp')\n",
    "print annual_survey_scenario.compute_aggregate('irpp')\n",
    "(annual_survey_scenario.compute_aggregate('irpp')-monthly_survey_scenario.compute_aggregate('irpp'))"
   ]
  },
  {
   "cell_type": "code",
   "execution_count": 7,
   "metadata": {
    "collapsed": false
   },
   "outputs": [
    {
     "data": {
      "text/plain": [
       "array([ 0.0373952])"
      ]
     },
     "execution_count": 7,
     "metadata": {},
     "output_type": "execute_result"
    }
   ],
   "source": [
    "(monthly_survey_scenario.simulation.calculate('irpp') > 10).sum()/monthly_survey_scenario.simulation.calculate('irpp').shape"
   ]
  },
  {
   "cell_type": "code",
   "execution_count": 8,
   "metadata": {
    "collapsed": false
   },
   "outputs": [
    {
     "data": {
      "text/plain": [
       "array([ 0.0373952])"
      ]
     },
     "execution_count": 8,
     "metadata": {},
     "output_type": "execute_result"
    }
   ],
   "source": [
    "(annual_survey_scenario.simulation.calculate('irpp') > 10).sum()/monthly_survey_scenario.simulation.calculate('irpp').shape"
   ]
  },
  {
   "cell_type": "code",
   "execution_count": 9,
   "metadata": {
    "collapsed": false
   },
   "outputs": [
    {
     "data": {
      "text/plain": [
       "(-20000, 5000)"
      ]
     },
     "execution_count": 9,
     "metadata": {},
     "output_type": "execute_result"
    },
    {
     "data": {
      "image/png": "[encoded data removed]",
      "text/plain": [
       "<matplotlib.figure.Figure at 0x112da7750>"
      ]
     },
     "metadata": {},
     "output_type": "display_data"
    }
   ],
   "source": [
    "plt.hist(annual_survey_scenario.simulation.calculate('irpp'), bins = 1000, normed = True, stacked=True )\n",
    "plt.xlim(-20000,5000)"
   ]
  },
  {
   "cell_type": "code",
   "execution_count": 10,
   "metadata": {
    "collapsed": false
   },
   "outputs": [
    {
     "data": {
      "text/plain": [
       "(-20000, 5000)"
      ]
     },
     "execution_count": 10,
     "metadata": {},
     "output_type": "execute_result"
    },
    {
     "data": {
      "image/png": "[encoded data removed]",
      "text/plain": [
       "<matplotlib.figure.Figure at 0x1326ee550>"
      ]
     },
     "metadata": {},
     "output_type": "display_data"
    }
   ],
   "source": [
    "plt.hist(annual_survey_scenario.simulation.calculate('irpp')- monthly_survey_scenario.simulation.calculate('irpp'), bins = 1000, normed = True, stacked=True )\n",
    "plt.xlim(-20000,5000)"
   ]
  },
  {
   "cell_type": "code",
   "execution_count": 11,
   "metadata": {
    "collapsed": false
   },
   "outputs": [
    {
     "data": {
      "text/plain": [
       "(-20000, 5000)"
      ]
     },
     "execution_count": 11,
     "metadata": {},
     "output_type": "execute_result"
    },
    {
     "data": {
      "image/png": "[encoded data removed]",
      "text/plain": [
       "<matplotlib.figure.Figure at 0x1329614d0>"
      ]
     },
     "metadata": {},
     "output_type": "display_data"
    }
   ],
   "source": [
    "import math\n",
    "plt.hist((annual_survey_scenario.simulation.calculate('irpp')- monthly_survey_scenario.simulation.calculate('irpp'))[abs(annual_survey_scenario.simulation.calculate('irpp')- monthly_survey_scenario.simulation.calculate('irpp'))>1], bins = 1000, normed = True, stacked=True )\n",
    "plt.xlim(-20000,5000)"
   ]
  },
  {
   "cell_type": "code",
   "execution_count": 12,
   "metadata": {
    "collapsed": false
   },
   "outputs": [
    {
     "data": {
      "text/plain": [
       "array([-1713.89868164,  1713.89868164,  -273.        ], dtype=float32)"
      ]
     },
     "execution_count": 12,
     "metadata": {},
     "output_type": "execute_result"
    }
   ],
   "source": [
    "(annual_survey_scenario.simulation.calculate('irpp')- monthly_survey_scenario.simulation.calculate('irpp'))[abs(annual_survey_scenario.simulation.calculate('irpp')- monthly_survey_scenario.simulation.calculate('irpp'))>1]"
   ]
  },
  {
   "cell_type": "code",
   "execution_count": 13,
   "metadata": {
    "collapsed": false
   },
   "outputs": [
    {
     "name": "stdout",
     "output_type": "stream",
     "text": [
      "552.977876958\n",
      "552.97787683\n"
     ]
    }
   ],
   "source": [
    "print monthly_survey_scenario.compute_aggregate(\"salaire_imposable\")/10**9\n",
    "print annual_survey_scenario.compute_aggregate(\"salaire_imposable\")/10**9"
   ]
  },
  {
   "cell_type": "code",
   "execution_count": 14,
   "metadata": {
    "collapsed": false
   },
   "outputs": [
    {
     "name": "stdout",
     "output_type": "stream",
     "text": [
      "27.5220450404\n",
      "27.522045019\n"
     ]
    }
   ],
   "source": [
    "print monthly_survey_scenario.compute_aggregate(\"chomage_imposable\")/10**9\n",
    "print annual_survey_scenario.compute_aggregate(\"chomage_imposable\")/10**9"
   ]
  },
  {
   "cell_type": "code",
   "execution_count": 15,
   "metadata": {
    "collapsed": false
   },
   "outputs": [
    {
     "name": "stdout",
     "output_type": "stream",
     "text": [
      "224.870536833\n",
      "224.870536783\n"
     ]
    }
   ],
   "source": [
    "print monthly_survey_scenario.compute_aggregate(\"retraite_imposable\")/10**9\n",
    "print annual_survey_scenario.compute_aggregate(\"retraite_imposable\")/10**9"
   ]
  },
  {
   "cell_type": "code",
   "execution_count": null,
   "metadata": {
    "collapsed": true
   },
   "outputs": [],
   "source": []
  },
  {
   "cell_type": "code",
   "execution_count": null,
   "metadata": {
    "collapsed": true
   },
   "outputs": [],
   "source": []
  },
  {
   "cell_type": "code",
   "execution_count": 16,
   "metadata": {
    "collapsed": false
   },
   "outputs": [
    {
     "name": "stdout",
     "output_type": "stream",
     "text": [
      "13.6912680538\n",
      "10.05647854\n"
     ]
    }
   ],
   "source": [
    "print monthly_survey_scenario.compute_aggregate('rsa')/10**9\n",
    "print annual_survey_scenario.compute_aggregate('rsa')/10**9"
   ]
  },
  {
   "cell_type": "code",
   "execution_count": null,
   "metadata": {
    "collapsed": true
   },
   "outputs": [],
   "source": []
  },
  {
   "cell_type": "code",
   "execution_count": null,
   "metadata": {
    "collapsed": true
   },
   "outputs": [],
   "source": []
  },
  {
   "cell_type": "code",
   "execution_count": 17,
   "metadata": {
    "collapsed": false
   },
   "outputs": [
    {
     "name": "stdout",
     "output_type": "stream",
     "text": [
      "charges_deduc\n",
      "charges_deduc annuelle  9534574078.75\n",
      "0.0\n",
      "csg_deduc\n",
      "csg_deduc annuelle  1808067710.5\n",
      "-2.72003173828e-10\n",
      "rbg\n",
      "rbg annuelle  765980694486.0\n",
      "0.000322783259155\n"
     ]
    }
   ],
   "source": [
    "variable = ['charges_deduc', 'csg_deduc', 'rbg']\n",
    "for var in variable:\n",
    "    print var\n",
    "    print var + \" annuelle \", annual_survey_scenario.compute_aggregate(var)\n",
    "    print (annual_survey_scenario.compute_aggregate(var)-monthly_survey_scenario.compute_aggregate(var))/10**9"
   ]
  },
  {
   "cell_type": "code",
   "execution_count": null,
   "metadata": {
    "collapsed": true
   },
   "outputs": [],
   "source": []
  },
  {
   "cell_type": "markdown",
   "metadata": {
    "collapsed": true
   },
   "source": [
    "## Il y a une perte de revenu dans la moulinette"
   ]
  },
  {
   "cell_type": "code",
   "execution_count": 18,
   "metadata": {
    "collapsed": false
   },
   "outputs": [
    {
     "name": "stdout",
     "output_type": "stream",
     "text": [
      "deficit_ante\n",
      "1004060900.0\n",
      "0.0\n",
      "f6gh\n",
      "2173920.0\n",
      "0.0\n",
      "nacc_pvce\n",
      "14190396.0\n",
      "0.0\n",
      "nbic_impm\n",
      "0.0\n",
      "0.0\n",
      "rev_cat\n",
      "764860841574.0\n",
      "0.000323093150146\n"
     ]
    }
   ],
   "source": [
    "variable = ['deficit_ante', 'f6gh', 'nacc_pvce', 'nbic_impm', 'rev_cat']\n",
    "for var in variable:\n",
    "    print var\n",
    "    print annual_survey_scenario.compute_aggregate(var)\n",
    "    print (annual_survey_scenario.compute_aggregate(var)-monthly_survey_scenario.compute_aggregate(var))/10**9"
   ]
  },
  {
   "cell_type": "code",
   "execution_count": 13,
   "metadata": {
    "collapsed": false
   },
   "outputs": [
    {
     "name": "stdout",
     "output_type": "stream",
     "text": [
      "rev_cat_pv\n",
      "0.0\n",
      "0.0\n",
      "rev_cat_rfon\n",
      "0.0\n",
      "0.0\n",
      "rev_cat_rpns\n",
      "49754386450.6\n",
      "0.0\n",
      "rev_cat_rvcm\n",
      "0.0\n",
      "0.0\n",
      "rev_cat_tspr\n",
      "715106455131.0\n",
      "238.791215418\n"
     ]
    }
   ],
   "source": [
    "variable = ['rev_cat_pv', 'rev_cat_rfon', 'rev_cat_rpns', 'rev_cat_rvcm', \"rev_cat_tspr\"]\n",
    "for var in variable:\n",
    "    print var\n",
    "    print annual_survey_scenario.compute_aggregate(var)\n",
    "    print (annual_survey_scenario.compute_aggregate(var)-monthly_survey_scenario.compute_aggregate(var))/10**9"
   ]
  },
  {
   "cell_type": "code",
   "execution_count": 14,
   "metadata": {
    "collapsed": false
   },
   "outputs": [
    {
     "name": "stdout",
     "output_type": "stream",
     "text": [
      "indu_plaf_abat_pen\n",
      "1718168315.0\n",
      "1.710892913\n",
      "tspr\n",
      "713388286816.0\n",
      "237.080322441\n"
     ]
    }
   ],
   "source": [
    "\n",
    "variable = [\"indu_plaf_abat_pen\", \"tspr\"]\n",
    "for var in variable:\n",
    "    print var\n",
    "    print annual_survey_scenario.compute_aggregate(var)\n",
    "    print (annual_survey_scenario.compute_aggregate(var)-monthly_survey_scenario.compute_aggregate(var))/10**9"
   ]
  },
  {
   "cell_type": "code",
   "execution_count": 15,
   "metadata": {
    "collapsed": false
   },
   "outputs": [
    {
     "name": "stdout",
     "output_type": "stream",
     "text": [
      "retraite_imposable\n",
      "224870536783.0\n",
      "224.870536783\n"
     ]
    }
   ],
   "source": [
    "\n",
    "variable = [\"retraite_imposable\"]\n",
    "for var in variable:\n",
    "    print var\n",
    "    print annual_survey_scenario.compute_aggregate(var)\n",
    "    print (annual_survey_scenario.compute_aggregate(var)-monthly_survey_scenario.compute_aggregate(var))/10**9"
   ]
  },
  {
   "cell_type": "code",
   "execution_count": 16,
   "metadata": {
    "collapsed": false
   },
   "outputs": [
    {
     "name": "stdout",
     "output_type": "stream",
     "text": [
      "salaire_imposable\n",
      "552977876830.0\n",
      "11.2379955306\n"
     ]
    }
   ],
   "source": [
    "\n",
    "variable = [\"salaire_imposable\"]\n",
    "for var in variable:\n",
    "    print var\n",
    "    print annual_survey_scenario.compute_aggregate(var)\n",
    "    print (annual_survey_scenario.compute_aggregate(var)-monthly_survey_scenario.compute_aggregate(var))/10**9"
   ]
  },
  {
   "cell_type": "code",
   "execution_count": 17,
   "metadata": {
    "collapsed": false
   },
   "outputs": [
    {
     "name": "stdout",
     "output_type": "stream",
     "text": [
      "False    83727\n",
      "True     28632\n",
      "dtype: int64\n",
      "False    112359\n",
      "dtype: int64\n"
     ]
    }
   ],
   "source": [
    "print pd.Series((annual_survey_scenario.simulation.calculate('retraite_imposable')>10)).value_counts()\n",
    "print pd.Series((monthly_survey_scenario.simulation.calculate('retraite_imposable')>10)).value_counts()\n"
   ]
  },
  {
   "cell_type": "code",
   "execution_count": 18,
   "metadata": {
    "collapsed": false
   },
   "outputs": [
    {
     "name": "stdout",
     "output_type": "stream",
     "text": [
      "False    104470\n",
      "True       7889\n",
      "dtype: int64\n",
      "False    112359\n",
      "dtype: int64\n"
     ]
    }
   ],
   "source": [
    "print pd.Series((annual_survey_scenario.simulation.calculate('chomage_imposable')>10)).value_counts()\n",
    "print pd.Series((monthly_survey_scenario.simulation.calculate('chomage_imposable')>10)).value_counts()"
   ]
  },
  {
   "cell_type": "code",
   "execution_count": 19,
   "metadata": {
    "collapsed": false
   },
   "outputs": [
    {
     "name": "stdout",
     "output_type": "stream",
     "text": [
      "False    65344\n",
      "True     47015\n",
      "dtype: int64\n",
      "False    68972\n",
      "True     43387\n",
      "dtype: int64\n"
     ]
    }
   ],
   "source": [
    "print pd.Series((annual_survey_scenario.simulation.calculate('salaire_imposable')>10)).value_counts()\n",
    "print pd.Series((monthly_survey_scenario.simulation.calculate('salaire_imposable')>10)).value_counts()"
   ]
  },
  {
   "cell_type": "markdown",
   "metadata": {},
   "source": [
    "Chomage et retraite non prise en compte par le modèle, on perds 4 milles observations dans les salaires imposables..."
   ]
  },
  {
   "cell_type": "code",
   "execution_count": null,
   "metadata": {
    "collapsed": true
   },
   "outputs": [],
   "source": []
  },
  {
   "cell_type": "code",
   "execution_count": null,
   "metadata": {
    "collapsed": true
   },
   "outputs": [],
   "source": []
  },
  {
   "cell_type": "code",
   "execution_count": null,
   "metadata": {
    "collapsed": true
   },
   "outputs": [],
   "source": []
  },
  {
   "cell_type": "code",
   "execution_count": null,
   "metadata": {
    "collapsed": true
   },
   "outputs": [],
   "source": []
  },
  {
   "cell_type": "code",
   "execution_count": null,
   "metadata": {
    "collapsed": true
   },
   "outputs": [],
   "source": []
  },
  {
   "cell_type": "code",
   "execution_count": null,
   "metadata": {
    "collapsed": true
   },
   "outputs": [],
   "source": []
  },
  {
   "cell_type": "code",
   "execution_count": null,
   "metadata": {
    "collapsed": true
   },
   "outputs": [],
   "source": []
  },
  {
   "cell_type": "code",
   "execution_count": null,
   "metadata": {
    "collapsed": true
   },
   "outputs": [],
   "source": []
  },
  {
   "cell_type": "code",
   "execution_count": null,
   "metadata": {
    "collapsed": true
   },
   "outputs": [],
   "source": []
  },
  {
   "cell_type": "markdown",
   "metadata": {},
   "source": [
    "## TODO : "
   ]
  },
  {
   "cell_type": "markdown",
   "metadata": {},
   "source": [
    "### abat_spe est nul avec ERFS"
   ]
  },
  {
   "cell_type": "code",
   "execution_count": 20,
   "metadata": {
    "collapsed": false
   },
   "outputs": [
    {
     "name": "stdout",
     "output_type": "stream",
     "text": [
      "0.0\n"
     ]
    },
    {
     "data": {
      "text/plain": [
       "0.0"
      ]
     },
     "execution_count": 20,
     "metadata": {},
     "output_type": "execute_result"
    }
   ],
   "source": [
    "var = 'abat_spe'\n",
    "print annual_survey_scenario.compute_aggregate(var)\n",
    "(annual_survey_scenario.compute_aggregate(var)-monthly_survey_scenario.compute_aggregate(var))/10**9"
   ]
  },
  {
   "cell_type": "code",
   "execution_count": 21,
   "metadata": {
    "collapsed": false
   },
   "outputs": [
    {
     "name": "stdout",
     "output_type": "stream",
     "text": [
      "0.0\n"
     ]
    },
    {
     "data": {
      "text/plain": [
       "0.0"
      ]
     },
     "execution_count": 21,
     "metadata": {},
     "output_type": "execute_result"
    }
   ],
   "source": [
    "var = 'abat_spe'\n",
    "print annual_survey_scenario.compute_aggregate(var)\n",
    "(annual_survey_scenario.compute_aggregate(var)-monthly_survey_scenario.compute_aggregate(var))/10**9"
   ]
  },
  {
   "cell_type": "code",
   "execution_count": 22,
   "metadata": {
    "collapsed": false
   },
   "outputs": [
    {
     "name": "stdout",
     "output_type": "stream",
     "text": [
      "rev_cat_pv\n",
      "0.0\n",
      "0.0\n",
      "rev_cat_rfon\n",
      "0.0\n",
      "0.0\n",
      "rev_cat_rpns\n",
      "49754386450.6\n",
      "0.0\n",
      "rev_cat_rvcm\n",
      "0.0\n",
      "0.0\n",
      "rev_cat_tspr\n",
      "715106455131.0\n",
      "238.791215418\n"
     ]
    }
   ],
   "source": [
    "variable = ['rev_cat_pv', 'rev_cat_rfon', 'rev_cat_rpns', 'rev_cat_rvcm', \"rev_cat_tspr\"]\n",
    "for var in variable:\n",
    "    print var\n",
    "    print annual_survey_scenario.compute_aggregate(var)\n",
    "    print (annual_survey_scenario.compute_aggregate(var)-monthly_survey_scenario.compute_aggregate(var))/10**9"
   ]
  },
  {
   "cell_type": "markdown",
   "metadata": {
    "collapsed": true
   },
   "source": [
    "### "
   ]
  },
  {
   "cell_type": "code",
   "execution_count": 20,
   "metadata": {
    "collapsed": false
   },
   "outputs": [
    {
     "data": {
      "text/plain": [
       "True"
      ]
     },
     "execution_count": 20,
     "metadata": {},
     "output_type": "execute_result"
    }
   ],
   "source": [
    "np.all(annual_survey_scenario.simulation.calculate('chomeur_longue_duree'))"
   ]
  },
  {
   "cell_type": "code",
   "execution_count": null,
   "metadata": {
    "collapsed": true
   },
   "outputs": [],
   "source": []
  }
 ],
 "metadata": {
  "kernelspec": {
   "display_name": "Python 2",
   "language": "python",
   "name": "python2"
  },
  "language_info": {
   "codemirror_mode": {
    "name": "ipython",
    "version": 2
   },
   "file_extension": ".py",
   "mimetype": "text/x-python",
   "name": "python",
   "nbconvert_exporter": "python",
   "pygments_lexer": "ipython2",
   "version": "2.7.10"
  },
  "toc": {
   "toc_cell": false,
   "toc_number_sections": true,
   "toc_threshold": 4,
   "toc_window_display": false
  }
 },
 "nbformat": 4,
 "nbformat_minor": 0
}
