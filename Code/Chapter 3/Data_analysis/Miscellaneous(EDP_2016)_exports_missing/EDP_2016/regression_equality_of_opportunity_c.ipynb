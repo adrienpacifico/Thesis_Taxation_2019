{
 "cells": [
  {
   "cell_type": "markdown",
   "metadata": {},
   "source": [
    "We want to isolate households with two parents living under civil union with children being over (or not) 21/25 yo."
   ]
  },
  {
   "cell_type": "code",
   "execution_count": 2,
   "metadata": {},
   "outputs": [],
   "source": [
    "secret = False #Will be put to True for a CASD export"
   ]
  },
  {
   "cell_type": "code",
   "execution_count": 3,
   "metadata": {},
   "outputs": [],
   "source": [
    "from IPython.display import display\n",
    "import matplotlib.pyplot as plt\n",
    "import numpy as np\n",
    "import pandas as pd ; pd.set_option(\"display.max_columns\",200)\n",
    "import pickle"
   ]
  },
  {
   "cell_type": "code",
   "execution_count": 148,
   "metadata": {},
   "outputs": [],
   "source": [
    "store_path = 'C:/Users/IMPTEMP_A_PACIFIC/Desktop/EDP_2016/Data/hdf/edp_2016_final.h5'\n",
    "reaction_store_path = 'C:/Users/IMPTEMP_A_PACIFIC/Desktop/EDP_2016/Data/hdf/reaction.h5'\n",
    "pickles_path = 'C:/Users/IMPTEMP_A_PACIFIC/Desktop/EDP_2016/Data/pickles/'\n",
    "Store = pd.HDFStore(store_path)"
   ]
  },
  {
   "cell_type": "code",
   "execution_count": 149,
   "metadata": {},
   "outputs": [
    {
     "data": {
      "text/plain": [
       "<class 'pandas.io.pytables.HDFStore'>\n",
       "File path: C:/Users/IMPTEMP_A_PACIFIC/Desktop/EDP_2016/Data/hdf/edp_2016_final.h5"
      ]
     },
     "execution_count": 149,
     "metadata": {},
     "output_type": "execute_result"
    }
   ],
   "source": [
    "Store"
   ]
  },
  {
   "cell_type": "code",
   "execution_count": 150,
   "metadata": {},
   "outputs": [
    {
     "name": "stdout",
     "output_type": "stream",
     "text": [
      "/DECES\n",
      "/DESCENDANCE\n",
      "/EAR2004_FAMILLE\n",
      "/EAR2004_INDIVIDU\n",
      "/EAR2004_LOGEMENT\n",
      "/EAR2005_FAMILLE\n",
      "/EAR2005_INDIVIDU\n",
      "/EAR2005_LOGEMENT\n",
      "/EAR2006_FAMILLE\n",
      "/EAR2006_INDIVIDU\n",
      "/EAR2006_LOGEMENT\n",
      "/EAR2007_FAMILLE\n",
      "/EAR2007_INDIVIDU\n",
      "/EAR2007_LOGEMENT\n",
      "/EAR2008_FAMILLE\n",
      "/EAR2008_INDIVIDU\n",
      "/EAR2008_LOGEMENT\n",
      "/EAR2009_FAMILLE\n",
      "/EAR2009_INDIVIDU\n",
      "/EAR2009_LOGEMENT\n",
      "/EAR2010_FAMILLE\n",
      "/EAR2010_INDIVIDU\n",
      "/EAR2010_LOGEMENT\n",
      "/EAR2011_FAMILLE\n",
      "/EAR2011_INDIVIDU\n",
      "/EAR2011_LOGEMENT\n",
      "/EAR2012_FAMILLE\n",
      "/EAR2012_INDIVIDU\n",
      "/EAR2012_LOGEMENT\n",
      "/EAR2013_FAMILLE\n",
      "/EAR2013_INDIVIDU\n",
      "/EAR2013_LOGEMENT\n",
      "/EAR2014_FAMILLE\n",
      "/EAR2014_INDIVIDU\n",
      "/EAR2014_LOGEMENT\n",
      "/EAR2015_FAMILLE\n",
      "/EAR2015_INDIVIDU\n",
      "/EAR2015_LOGEMENT\n",
      "/EAR2016_FAMILLE\n",
      "/EAR2016_INDIVIDU\n",
      "/EAR2016_LOGEMENT\n",
      "/FE\n",
      "/FISC_INDIVIDU_2011\n",
      "/FISC_INDIVIDU_2012\n",
      "/FISC_INDIVIDU_2013\n",
      "/FISC_INDIVIDU_2014\n",
      "/FISC_INDIVIDU_2015\n",
      "/FISC_INDIVIDU_2016\n",
      "/FISC_LOGEMENT_2011\n",
      "/FISC_LOGEMENT_2012\n",
      "/FISC_LOGEMENT_2013\n",
      "/FISC_LOGEMENT_2014\n",
      "/FISC_LOGEMENT_2015\n",
      "/FISC_LOGEMENT_2016\n",
      "/FISC_REVDET_2011\n",
      "/FISC_REVDET_2012\n",
      "/FISC_REVDET_2013\n",
      "/FISC_REVDET_2014\n",
      "/FISC_REVDET_2015\n",
      "/FISC_REVDET_2016\n",
      "/FISC_REVENU_2011\n",
      "/FISC_REVENU_2012\n",
      "/FISC_REVENU_2013\n",
      "/FISC_REVENU_2014\n",
      "/FISC_REVENU_2015\n",
      "/FISC_REVENU_2016\n",
      "/INDIVIDU\n",
      "/MARIAGE\n",
      "/NAISSANCE\n",
      "/PANACT\n",
      "/RP1968\n",
      "/RP1975\n",
      "/RP1982\n",
      "/RP1990\n",
      "/RP1999\n",
      "/RP2012_MAYOTTE\n"
     ]
    }
   ],
   "source": [
    "for key in Store.keys(): print(key)\n",
    "Store.close()"
   ]
  },
  {
   "cell_type": "code",
   "execution_count": 7,
   "metadata": {},
   "outputs": [],
   "source": [
    "year = 2011"
   ]
  },
  {
   "cell_type": "code",
   "execution_count": 8,
   "metadata": {},
   "outputs": [],
   "source": [
    "Store.close()\n",
    "fisc_i = pd.read_hdf( store_path,\"FISC_INDIVIDU_2012\" )\n",
    "fisc_revdet = pd.read_hdf( store_path,\"FISC_REVDET_2012\" )\n",
    "fisc_revenu = pd.read_hdf(store_path,\"FISC_REVENU_2012\")\n",
    "fisc_individu = pd.read_hdf( store_path,\"FISC_INDIVIDU_2012\" )"
   ]
  },
  {
   "cell_type": "code",
   "execution_count": 9,
   "metadata": {},
   "outputs": [
    {
     "data": {
      "text/plain": [
       "(7521834, 32)"
      ]
     },
     "execution_count": 9,
     "metadata": {},
     "output_type": "execute_result"
    }
   ],
   "source": [
    "fisc_i.shape"
   ]
  },
  {
   "cell_type": "code",
   "execution_count": 9,
   "metadata": {},
   "outputs": [
    {
     "name": "stdout",
     "output_type": "stream",
     "text": [
      "(7521834, 32) (2380156, 100) (7521834, 32)\n"
     ]
    }
   ],
   "source": [
    "print(fisc_i.shape, fisc_revenu.shape, fisc_individu.shape)"
   ]
  },
  {
   "cell_type": "code",
   "execution_count": null,
   "metadata": {},
   "outputs": [],
   "source": []
  },
  {
   "cell_type": "markdown",
   "metadata": {},
   "source": [
    "## Data cleaning"
   ]
  },
  {
   "cell_type": "markdown",
   "metadata": {},
   "source": [
    "All operations needed to process raw data in a good way"
   ]
  },
  {
   "cell_type": "code",
   "execution_count": 10,
   "metadata": {},
   "outputs": [],
   "source": [
    "fisc_individu[\"CIDECI\"]= fisc_individu.CIDECI.astype(\"str\")"
   ]
  },
  {
   "cell_type": "code",
   "execution_count": 11,
   "metadata": {},
   "outputs": [],
   "source": [
    "fisc_revenu[\"ID_FISC_LOG_DIFF\"] = fisc_revenu.ID_FISC_LOG_DIFF.astype(\"float\")"
   ]
  },
  {
   "cell_type": "code",
   "execution_count": null,
   "metadata": {
    "scrolled": false
   },
   "outputs": [],
   "source": [
    "fisc_revenu.sort_values(\"ID_FISC_LOG_DIFF\").head()"
   ]
  },
  {
   "cell_type": "code",
   "execution_count": 13,
   "metadata": {},
   "outputs": [
    {
     "data": {
      "text/plain": [
       "2.0     1534517\n",
       "1.0      504107\n",
       "3.0      241666\n",
       "4.0       74490\n",
       "5.0       16729\n",
       "6.0        5352\n",
       "7.0        1779\n",
       "8.0         776\n",
       "9.0         347\n",
       "10.0        191\n",
       "11.0         98\n",
       "12.0         49\n",
       "13.0         26\n",
       "14.0         12\n",
       "16.0          6\n",
       "15.0          6\n",
       "0.5           3\n",
       "2.5           1\n",
       "18.0          1\n",
       "dtype: int64"
      ]
     },
     "execution_count": 13,
     "metadata": {},
     "output_type": "execute_result"
    }
   ],
   "source": [
    "(fisc_revenu.NBPERSM - fisc_revenu.NBPAC).value_counts() # 2, soit couples marié, soit célib avec enfant majeur, etc."
   ]
  },
  {
   "cell_type": "markdown",
   "metadata": {},
   "source": [
    "### Drop duplicates"
   ]
  },
  {
   "cell_type": "markdown",
   "metadata": {},
   "source": [
    "On droppe s'il y a plus d'un IDFISC_LOG_DIFF dans fisc_revenu"
   ]
  },
  {
   "cell_type": "code",
   "execution_count": 13,
   "metadata": {},
   "outputs": [],
   "source": [
    "#Test qu'il n'y a pas de duplicate dans la base\n",
    "assert (fisc_revenu.ID_FISC_LOG_DIFF.duplicated()).value_counts().index == False"
   ]
  },
  {
   "cell_type": "code",
   "execution_count": 14,
   "metadata": {},
   "outputs": [],
   "source": [
    "assert(fisc_individu[[\"ID_FISC_FOY_DIFF\", \"ORDREFIP\", \"TYPE_FISC\"]\n",
    "                    ].duplicated()).value_counts().index == False"
   ]
  },
  {
   "cell_type": "code",
   "execution_count": null,
   "metadata": {},
   "outputs": [],
   "source": []
  },
  {
   "cell_type": "code",
   "execution_count": null,
   "metadata": {},
   "outputs": [],
   "source": []
  },
  {
   "cell_type": "markdown",
   "metadata": {},
   "source": [
    "### Drop not same number of individuals"
   ]
  },
  {
   "cell_type": "markdown",
   "metadata": {},
   "source": [
    "- Compte le nombre d'individus par logement fiscal dans la table fiscindividu  \n",
    "- Regarde le nombre de personne dans le logement fiscal (variable NBFOYM)  \n",
    "- Droppe les logement fiscaux ou le nombre n'est pas exactement le même."
   ]
  },
  {
   "cell_type": "code",
   "execution_count": 15,
   "metadata": {},
   "outputs": [
    {
     "name": "stdout",
     "output_type": "stream",
     "text": [
      "True     2297044\n",
      "False      83112\n",
      "dtype: int64\n",
      "Wall time: 3.4 s\n"
     ]
    }
   ],
   "source": [
    "%%time\n",
    "#compte\n",
    "nb_pers_by_id_fisclog_in_fisci = fisc_individu.groupby(\"ID_FISC_LOG_DIFF\")[\"ANAIS\"].count();\n",
    "nb_pers_by_id_fisclog_in_fisci.name = \"Nbpers_in_fisci_by_fisclog\"\n",
    "#compare\n",
    "merge = pd.merge(nb_pers_by_id_fisclog_in_fisci.to_frame().reset_index(),\n",
    "                 fisc_revenu[[\"ID_FISC_LOG_DIFF\", \"NBPERSM\", \"NBFOYM\", \"NBPAC\"]],\n",
    "                 on = \"ID_FISC_LOG_DIFF\" )\n",
    "print(\n",
    "    (merge.NBPERSM == merge.Nbpers_in_fisci_by_fisclog).value_counts())\n",
    "id_fisc_log_to_keep = merge[merge.NBPERSM == merge.Nbpers_in_fisci_by_fisclog].ID_FISC_LOG_DIFF\n"
   ]
  },
  {
   "cell_type": "code",
   "execution_count": 16,
   "metadata": {},
   "outputs": [],
   "source": [
    "#fisc_revdet = fisc_revdet[~ fisc_revdet.ID_FISC_LOG_DIFF.isin(id_fisc_log_to_drop)]\n",
    "fisc_revenu = fisc_revenu[fisc_revenu.ID_FISC_LOG_DIFF.isin(id_fisc_log_to_keep)]\n",
    "fisc_individu = fisc_individu[ fisc_individu.ID_FISC_LOG_DIFF.isin(id_fisc_log_to_keep)]"
   ]
  },
  {
   "cell_type": "code",
   "execution_count": 17,
   "metadata": {},
   "outputs": [
    {
     "name": "stdout",
     "output_type": "stream",
     "text": [
      "(7521834, 32) (2297044, 100) (6879111, 32)\n"
     ]
    }
   ],
   "source": [
    "print(fisc_i.shape, fisc_revenu.shape, fisc_individu.shape)"
   ]
  },
  {
   "cell_type": "markdown",
   "metadata": {},
   "source": [
    "## Obtenir la structure familiale"
   ]
  },
  {
   "cell_type": "code",
   "execution_count": 256,
   "metadata": {},
   "outputs": [
    {
     "data": {
      "text/plain": [
       "234359"
      ]
     },
     "execution_count": 256,
     "metadata": {},
     "output_type": "execute_result"
    }
   ],
   "source": [
    "fiscr_2016 = pd.read_hdf(store_path,\"FISC_REVENU_2016\")\n",
    "fisci_2016 = pd.read_hdf( store_path,\"FISC_INDIVIDU_2016\" )\n",
    "\n",
    "id_log = fisci_2016[((fisci_2016.ANAIS.isin(list(range(1988,2012))))\n",
    "                    & (fisci_2016.TYPE_FISC.isin(['1','2']))\n",
    "                    & (fisci_2016.ID_DIFF.notnull()))].ID_FISC_LOG_DIFF\n",
    "id_diff = fisci_2016[((fisci_2016.ANAIS.isin(list(range(1988,2012))))\n",
    "                    & (fisci_2016.TYPE_FISC.isin(['1','2']))\n",
    "                    & (fisci_2016.ID_DIFF.notnull()))].ID_DIFF.values\n",
    "df = fiscr_2016[fiscr_2016.ID_FISC_LOG_DIFF.isin(id_log)]\n"
   ]
  },
  {
   "cell_type": "code",
   "execution_count": 271,
   "metadata": {},
   "outputs": [],
   "source": [
    "df1 = fisci_2016[fisci_2016.ID_DIFF.isin(id_diff)]"
   ]
  },
  {
   "cell_type": "code",
   "execution_count": 254,
   "metadata": {},
   "outputs": [],
   "source": [
    "df2 = fisc_individu[fisc_individu.ID_DIFF.isin(id_diff)]"
   ]
  },
  {
   "cell_type": "code",
   "execution_count": 258,
   "metadata": {},
   "outputs": [
    {
     "data": {
      "text/plain": [
       "True     77475\n",
       "False    66883\n",
       "Name: TYPE_FISC, dtype: int64"
      ]
     },
     "execution_count": 258,
     "metadata": {},
     "output_type": "execute_result"
    }
   ],
   "source": [
    "(df2.TYPE_FISC.isin(['A','B','C','D', 'E', '3', '4', '5', '6'])).value_counts()"
   ]
  },
  {
   "cell_type": "code",
   "execution_count": 261,
   "metadata": {},
   "outputs": [],
   "source": [
    "id_log_2011 = df2[df2.TYPE_FISC.isin(['A','B','C','D', 'E', '3', '4', '5', '6'])].ID_FISC_LOG_DIFF"
   ]
  },
  {
   "cell_type": "code",
   "execution_count": 263,
   "metadata": {},
   "outputs": [
    {
     "data": {
      "text/plain": [
       "0     92119\n",
       "4     82161\n",
       "16    49544\n",
       "28    58680\n",
       "38    82309\n",
       "Name: ZSALM, dtype: int64"
      ]
     },
     "execution_count": 263,
     "metadata": {},
     "output_type": "execute_result"
    }
   ],
   "source": [
    "fisc_revenu[fisc_revenu.ID_FISC_LOG_DIFF.isin(id_log_2011)].ZSALM.head()"
   ]
  },
  {
   "cell_type": "code",
   "execution_count": 264,
   "metadata": {},
   "outputs": [
    {
     "data": {
      "text/plain": [
       "13    57869\n",
       "18    71331\n",
       "32    17334\n",
       "33    66623\n",
       "43    92679\n",
       "Name: ZSALM, dtype: int64"
      ]
     },
     "execution_count": 264,
     "metadata": {},
     "output_type": "execute_result"
    }
   ],
   "source": [
    "fiscr_2016[fiscr_2016.ID_FISC_LOG_DIFF.isin(id_log)].ZSALM.head()"
   ]
  },
  {
   "cell_type": "code",
   "execution_count": 272,
   "metadata": {},
   "outputs": [],
   "source": [
    "#Merge fisc fiscr 2011 et 2016\n",
    "#2011\n",
    "result_2011 = pd.merge(fisc_revenu,df2[[\"ID_DIFF\", \"ID_FISC_LOG_DIFF\"]], on = \"ID_FISC_LOG_DIFF\")\n",
    "#2016\n",
    "result_2016 = pd.merge(fiscr_2016,df2[[\"ID_DIFF\", \"ID_FISC_LOG_DIFF\"]], on = \"ID_FISC_LOG_DIFF\")"
   ]
  },
  {
   "cell_type": "code",
   "execution_count": 283,
   "metadata": {},
   "outputs": [],
   "source": [
    "df_final_result = pd.merge(result_2011, result_2016, on = \"ID_DIFF\", suffixes = (\"_2011\", \"_2016\"))"
   ]
  },
  {
   "cell_type": "code",
   "execution_count": 296,
   "metadata": {},
   "outputs": [],
   "source": [
    "df_temp = df_final_result.query(\"NBFOYM_2016==1\")"
   ]
  },
  {
   "cell_type": "code",
   "execution_count": 297,
   "metadata": {},
   "outputs": [
    {
     "data": {
      "text/html": [
       "<table class=\"simpletable\">\n",
       "<caption>OLS Regression Results</caption>\n",
       "<tr>\n",
       "  <th>Dep. Variable:</th>       <td>ZSALM_2016</td>    <th>  R-squared:         </th>  <td>   0.493</td>  \n",
       "</tr>\n",
       "<tr>\n",
       "  <th>Model:</th>                   <td>OLS</td>       <th>  Adj. R-squared:    </th>  <td>   0.493</td>  \n",
       "</tr>\n",
       "<tr>\n",
       "  <th>Method:</th>             <td>Least Squares</td>  <th>  F-statistic:       </th>  <td>1.496e+04</td> \n",
       "</tr>\n",
       "<tr>\n",
       "  <th>Date:</th>             <td>Mon, 09 Jul 2018</td> <th>  Prob (F-statistic):</th>   <td>  0.00</td>   \n",
       "</tr>\n",
       "<tr>\n",
       "  <th>Time:</th>                 <td>07:05:02</td>     <th>  Log-Likelihood:    </th> <td>-1.8610e+05</td>\n",
       "</tr>\n",
       "<tr>\n",
       "  <th>No. Observations:</th>      <td> 15399</td>      <th>  AIC:               </th>  <td>3.722e+05</td> \n",
       "</tr>\n",
       "<tr>\n",
       "  <th>Df Residuals:</th>          <td> 15397</td>      <th>  BIC:               </th>  <td>3.722e+05</td> \n",
       "</tr>\n",
       "<tr>\n",
       "  <th>Df Model:</th>              <td>     1</td>      <th>                     </th>      <td> </td>     \n",
       "</tr>\n",
       "<tr>\n",
       "  <th>Covariance Type:</th>      <td>nonrobust</td>    <th>                     </th>      <td> </td>     \n",
       "</tr>\n",
       "</table>\n",
       "<table class=\"simpletable\">\n",
       "<tr>\n",
       "       <td></td>         <th>coef</th>     <th>std err</th>      <th>t</th>      <th>P>|t|</th>  <th>[0.025</th>    <th>0.975]</th>  \n",
       "</tr>\n",
       "<tr>\n",
       "  <th>Intercept</th>  <td>-5035.1049</td> <td>  503.007</td> <td>  -10.010</td> <td> 0.000</td> <td>-6021.059</td> <td>-4049.151</td>\n",
       "</tr>\n",
       "<tr>\n",
       "  <th>ZSALM_2011</th> <td>    1.1180</td> <td>    0.009</td> <td>  122.319</td> <td> 0.000</td> <td>    1.100</td> <td>    1.136</td>\n",
       "</tr>\n",
       "</table>\n",
       "<table class=\"simpletable\">\n",
       "<tr>\n",
       "  <th>Omnibus:</th>       <td>52896.884</td> <th>  Durbin-Watson:     </th>    <td>   1.987</td>    \n",
       "</tr>\n",
       "<tr>\n",
       "  <th>Prob(Omnibus):</th>  <td> 0.000</td>   <th>  Jarque-Bera (JB):  </th> <td>26720812949.666</td>\n",
       "</tr>\n",
       "<tr>\n",
       "  <th>Skew:</th>           <td>63.816</td>   <th>  Prob(JB):          </th>    <td>    0.00</td>    \n",
       "</tr>\n",
       "<tr>\n",
       "  <th>Kurtosis:</th>      <td>6455.072</td>  <th>  Cond. No.          </th>    <td>8.01e+04</td>    \n",
       "</tr>\n",
       "</table><br/><br/>Warnings:<br/>[1] Standard Errors assume that the covariance matrix of the errors is correctly specified.<br/>[2] The condition number is large, 8.01e+04. This might indicate that there are<br/>strong multicollinearity or other numerical problems."
      ],
      "text/plain": [
       "<class 'statsmodels.iolib.summary.Summary'>\n",
       "\"\"\"\n",
       "                            OLS Regression Results                            \n",
       "==============================================================================\n",
       "Dep. Variable:             ZSALM_2016   R-squared:                       0.493\n",
       "Model:                            OLS   Adj. R-squared:                  0.493\n",
       "Method:                 Least Squares   F-statistic:                 1.496e+04\n",
       "Date:                Mon, 09 Jul 2018   Prob (F-statistic):               0.00\n",
       "Time:                        07:05:02   Log-Likelihood:            -1.8610e+05\n",
       "No. Observations:               15399   AIC:                         3.722e+05\n",
       "Df Residuals:                   15397   BIC:                         3.722e+05\n",
       "Df Model:                           1                                         \n",
       "Covariance Type:            nonrobust                                         \n",
       "==============================================================================\n",
       "                 coef    std err          t      P>|t|      [0.025      0.975]\n",
       "------------------------------------------------------------------------------\n",
       "Intercept  -5035.1049    503.007    -10.010      0.000   -6021.059   -4049.151\n",
       "ZSALM_2011     1.1180      0.009    122.319      0.000       1.100       1.136\n",
       "==============================================================================\n",
       "Omnibus:                    52896.884   Durbin-Watson:                   1.987\n",
       "Prob(Omnibus):                  0.000   Jarque-Bera (JB):      26720812949.666\n",
       "Skew:                          63.816   Prob(JB):                         0.00\n",
       "Kurtosis:                    6455.072   Cond. No.                     8.01e+04\n",
       "==============================================================================\n",
       "\n",
       "Warnings:\n",
       "[1] Standard Errors assume that the covariance matrix of the errors is correctly specified.\n",
       "[2] The condition number is large, 8.01e+04. This might indicate that there are\n",
       "strong multicollinearity or other numerical problems.\n",
       "\"\"\""
      ]
     },
     "execution_count": 297,
     "metadata": {},
     "output_type": "execute_result"
    }
   ],
   "source": [
    "reg = sm.OLS.from_formula('ZSALM_2016 ~ ZSALM_2011', data = df_temp )\n",
    "reg.fit().summary()"
   ]
  },
  {
   "cell_type": "code",
   "execution_count": 288,
   "metadata": {},
   "outputs": [
    {
     "data": {
      "text/plain": [
       "True     65064\n",
       "False      224\n",
       "dtype: int64"
      ]
     },
     "execution_count": 288,
     "metadata": {},
     "output_type": "execute_result"
    }
   ],
   "source": [
    "(df_final_result.ID_FISC_LOG_DIFF_2011 == df_final_result.ID_FISC_LOG_DIFF_2016).value_counts()"
   ]
  },
  {
   "cell_type": "code",
   "execution_count": null,
   "metadata": {},
   "outputs": [],
   "source": []
  }
 ],
 "metadata": {
  "kernelspec": {
   "display_name": "Python 3",
   "language": "python",
   "name": "python3"
  },
  "language_info": {
   "codemirror_mode": {
    "name": "ipython",
    "version": 3
   },
   "file_extension": ".py",
   "mimetype": "text/x-python",
   "name": "python",
   "nbconvert_exporter": "python",
   "pygments_lexer": "ipython3",
   "version": "3.6.3"
  }
 },
 "nbformat": 4,
 "nbformat_minor": 2
}
