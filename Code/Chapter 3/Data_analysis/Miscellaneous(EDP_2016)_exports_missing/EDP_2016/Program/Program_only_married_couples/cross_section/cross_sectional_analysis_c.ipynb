{
 "cells": [
  {
   "cell_type": "code",
   "execution_count": 3,
   "metadata": {},
   "outputs": [],
   "source": [
    "import pandas as pd"
   ]
  },
  {
   "cell_type": "code",
   "execution_count": 1,
   "metadata": {},
   "outputs": [],
   "source": [
    "store_path = 'C:/Users/IMPTEMP_A_PACIFIC/Desktop/EDP_2016/Data/hdf/edp_2016_final.h5'"
   ]
  },
  {
   "cell_type": "code",
   "execution_count": 4,
   "metadata": {},
   "outputs": [],
   "source": [
    "fisc_revenu_2011 = pd.read_hdf( store_path,\"FISC_REVENU_{}\".format(2011+1) )\n",
    "fisc_revenu_2014 = pd.read_hdf( store_path,\"FISC_REVENU_{}\".format(2014+1) )"
   ]
  },
  {
   "cell_type": "code",
   "execution_count": 6,
   "metadata": {},
   "outputs": [],
   "source": [
    "fiscr_11 = fisc_revenu_2011.head()\n",
    "fiscr_14 = fisc_revenu_2014.head()"
   ]
  },
  {
   "cell_type": "code",
   "execution_count": 9,
   "metadata": {},
   "outputs": [],
   "source": [
    "df = pd.concat([fisc_revenu_2011,fisc_revenu_2014])"
   ]
  },
  {
   "cell_type": "code",
   "execution_count": 10,
   "metadata": {},
   "outputs": [],
   "source": [
    "df[\"Rbg\"] =(( df.ZTSAM*0.9) + df.ZRAGM + df.ZRACM + df.ZRNCM + df.ZFONM + df.ZPERM*0.9\n",
    "                    + df.ZRICM)"
   ]
  },
  {
   "cell_type": "code",
   "execution_count": 13,
   "metadata": {},
   "outputs": [],
   "source": [
    "threshold_byr_rbg = pd.DataFrame()\n",
    "threshold_byr_rbg[\"2011\"] = pd.Series([63233,73516,94451,115185,135941,150684])\n",
    "threshold_byr_rbg[\"2014\"] = pd.Series([58291,63530,73806,84103,94368,104633])"
   ]
  },
  {
   "cell_type": "code",
   "execution_count": 14,
   "metadata": {},
   "outputs": [],
   "source": [
    "for nb_enf in range(1,7): ### in modification\n",
    "    df[\"Between_threshold_{}_child\".format(nb_enf)\n",
    "          ] = ((df.Rbg>  threshold_byr_rbg[\"2014\"].iloc[nb_enf-1])\n",
    "               & (df.Rbg< threshold_byr_rbg[\"2011\"].iloc[nb_enf-1]))\n"
   ]
  },
  {
   "cell_type": "code",
   "execution_count": 15,
   "metadata": {},
   "outputs": [],
   "source": [
    "\n",
    "for nb_enf in range(1,7): ### in modification\n",
    "    df[\"Over_threshold_{}_child\".format(nb_enf)\n",
    "          ] =  (df.Rbg > threshold_byr_rbg[\"2011\"].iloc[nb_enf-1])\n",
    "for nb_enf in range(1,7): ### in modification\n",
    "    df[\"Below_thresholds_{}_child\".format(nb_enf)\n",
    "          ] =  (df.Rbg < threshold_byr_rbg[\"2011\"].iloc[nb_enf-1])"
   ]
  },
  {
   "cell_type": "code",
   "execution_count": 21,
   "metadata": {},
   "outputs": [
    {
     "name": "stderr",
     "output_type": "stream",
     "text": [
      "C:\\Users\\IMPTEMP_A_PACIFIC\\Desktop\\WinPython-64bit-3.6.3.0Qt5\\python-3.6.3.amd64\\lib\\site-packages\\pandas\\core\\computation\\expressions.py:179: UserWarning: evaluating in Python space because the '*' operator is not supported by numexpr for the bool dtype, use '&' instead\n",
      "  .format(op=op_str, alt_op=unsupported[op_str]))\n"
     ]
    }
   ],
   "source": [
    "for child in range(1,7):\n",
    "    df[\"Over_{}_X_{}_child\".format(child,child)] = df[\"Over_threshold_{}_child\".format(child)] * (df[\"NBPAC\"]==child)\n",
    "    df[\"Between_{}_X_{}_child\".format(child,child)] = df[\"Between_threshold_{}_child\".format(child)] * (df[\"NBPAC\"]==child)"
   ]
  },
  {
   "cell_type": "code",
   "execution_count": 68,
   "metadata": {},
   "outputs": [
    {
     "name": "stderr",
     "output_type": "stream",
     "text": [
      "C:\\Users\\IMPTEMP_A_PACIFIC\\Desktop\\WinPython-64bit-3.6.3.0Qt5\\python-3.6.3.amd64\\lib\\site-packages\\pandas\\core\\computation\\expressions.py:179: UserWarning: evaluating in Python space because the '*' operator is not supported by numexpr for the bool dtype, use '&' instead\n",
      "  .format(op=op_str, alt_op=unsupported[op_str]))\n"
     ]
    }
   ],
   "source": [
    "df[\"Below_thresholds\"] = (df.NBPAC == 0).astype(\"int\")\n",
    "for nb_enf in range(1,7): ### in modification\n",
    "    df[\"Below_thresholds\".format(nb_enf)\n",
    "          ] +=((df.Rbg<  threshold_byr_rbg[\"2014\"].iloc[nb_enf-1])\n",
    "                *( df.NBPAC == nb_enf)).astype(\"float\")"
   ]
  },
  {
   "cell_type": "code",
   "execution_count": 69,
   "metadata": {},
   "outputs": [
    {
     "name": "stderr",
     "output_type": "stream",
     "text": [
      "C:\\Users\\IMPTEMP_A_PACIFIC\\Desktop\\WinPython-64bit-3.6.3.0Qt5\\python-3.6.3.amd64\\lib\\site-packages\\pandas\\core\\computation\\expressions.py:179: UserWarning: evaluating in Python space because the '*' operator is not supported by numexpr for the bool dtype, use '&' instead\n",
      "  .format(op=op_str, alt_op=unsupported[op_str]))\n"
     ]
    }
   ],
   "source": [
    "df[\"Over_thresholds\"] = (df.NBPAC == 0).astype(\"int\")\n",
    "for nb_enf in range(1,7): ### in modification\n",
    "    df[\"Over_thresholds\".format(nb_enf)\n",
    "          ] +=((df.Rbg>  threshold_byr_rbg[\"2011\"].iloc[nb_enf-1])\n",
    "                *( df.NBPAC == nb_enf)).astype(\"float\")"
   ]
  },
  {
   "cell_type": "code",
   "execution_count": 70,
   "metadata": {},
   "outputs": [
    {
     "name": "stderr",
     "output_type": "stream",
     "text": [
      "C:\\Users\\IMPTEMP_A_PACIFIC\\Desktop\\WinPython-64bit-3.6.3.0Qt5\\python-3.6.3.amd64\\lib\\site-packages\\pandas\\core\\computation\\expressions.py:179: UserWarning: evaluating in Python space because the '*' operator is not supported by numexpr for the bool dtype, use '&' instead\n",
      "  .format(op=op_str, alt_op=unsupported[op_str]))\n"
     ]
    }
   ],
   "source": [
    "df[\"Between_thresholds\"] = (df.NBPAC == 0).astype(\"int\")\n",
    "for nb_enf in range(1,7): ### in modification\n",
    "    df[\"Between_thresholds\".format(nb_enf)\n",
    "          ] +=((df.Rbg>  threshold_byr_rbg[\"2014\"].iloc[nb_enf-1])*(df.Rbg<  threshold_byr_rbg[\"2011\"].iloc[nb_enf-1])\n",
    "                *( df.NBPAC == nb_enf)).astype(\"float\")"
   ]
  },
  {
   "cell_type": "code",
   "execution_count": 57,
   "metadata": {},
   "outputs": [
    {
     "data": {
      "text/plain": [
       "(2380156, 134)"
      ]
     },
     "execution_count": 57,
     "metadata": {},
     "output_type": "execute_result"
    }
   ],
   "source": [
    "df.query(\"AN_FISC == 2012\").shape"
   ]
  },
  {
   "cell_type": "code",
   "execution_count": 58,
   "metadata": {},
   "outputs": [
    {
     "data": {
      "text/plain": [
       "(2478701, 134)"
      ]
     },
     "execution_count": 58,
     "metadata": {},
     "output_type": "execute_result"
    }
   ],
   "source": [
    "df.query(\"AN_FISC == 2015\").shape"
   ]
  },
  {
   "cell_type": "code",
   "execution_count": 71,
   "metadata": {},
   "outputs": [],
   "source": [
    "df_2012 = df.query(\"AN_FISC == 2012 & (50000<Rbg<200000)&(NBPAC >=1)\")\n",
    "\n",
    "df_2015 = df.query(\"AN_FISC == 2015 & (50000<Rbg<200000)&(NBPAC >=1)\")"
   ]
  },
  {
   "cell_type": "code",
   "execution_count": 38,
   "metadata": {},
   "outputs": [
    {
     "data": {
      "text/plain": [
       "True     0.536903\n",
       "False    0.463097\n",
       "Name: Over_1_X_1_child, dtype: float64"
      ]
     },
     "execution_count": 38,
     "metadata": {},
     "output_type": "execute_result"
    }
   ],
   "source": [
    "df_2012.query(\"NBPAC == 1\").Over_1_X_1_child.value_counts(normalize = True)"
   ]
  },
  {
   "cell_type": "code",
   "execution_count": 39,
   "metadata": {},
   "outputs": [
    {
     "data": {
      "text/plain": [
       "True     0.556149\n",
       "False    0.443851\n",
       "Name: Over_1_X_1_child, dtype: float64"
      ]
     },
     "execution_count": 39,
     "metadata": {},
     "output_type": "execute_result"
    }
   ],
   "source": [
    "df_2015.query(\"NBPAC == 1\").Over_1_X_1_child.value_counts(normalize = True)"
   ]
  },
  {
   "cell_type": "code",
   "execution_count": 40,
   "metadata": {},
   "outputs": [
    {
     "data": {
      "text/plain": [
       "False    0.633041\n",
       "True     0.366959\n",
       "Name: Over_2_X_2_child, dtype: float64"
      ]
     },
     "execution_count": 40,
     "metadata": {},
     "output_type": "execute_result"
    }
   ],
   "source": [
    "df_2015.query(\"NBPAC == 2\").Over_2_X_2_child.value_counts(normalize = True)"
   ]
  },
  {
   "cell_type": "code",
   "execution_count": 41,
   "metadata": {},
   "outputs": [
    {
     "data": {
      "text/plain": [
       "False    0.633041\n",
       "True     0.366959\n",
       "Name: Over_2_X_2_child, dtype: float64"
      ]
     },
     "execution_count": 41,
     "metadata": {},
     "output_type": "execute_result"
    }
   ],
   "source": [
    "df_2015.query(\"NBPAC == 2\").Over_2_X_2_child.value_counts(normalize = True)"
   ]
  },
  {
   "cell_type": "code",
   "execution_count": null,
   "metadata": {},
   "outputs": [],
   "source": []
  },
  {
   "cell_type": "code",
   "execution_count": 33,
   "metadata": {},
   "outputs": [
    {
     "data": {
      "text/plain": [
       "False    0.929352\n",
       "True     0.070648\n",
       "Name: Over_3_X_3_child, dtype: float64"
      ]
     },
     "execution_count": 33,
     "metadata": {},
     "output_type": "execute_result"
    }
   ],
   "source": [
    "df_2012.query(\"NBPAC == 3\").Over_3_X_3_child.value_counts(normalize = True)"
   ]
  },
  {
   "cell_type": "code",
   "execution_count": 34,
   "metadata": {},
   "outputs": [
    {
     "data": {
      "text/plain": [
       "False    0.92293\n",
       "True     0.07707\n",
       "Name: Over_3_X_3_child, dtype: float64"
      ]
     },
     "execution_count": 34,
     "metadata": {},
     "output_type": "execute_result"
    }
   ],
   "source": [
    "df_2015.query(\"NBPAC == 3\").Over_3_X_3_child.value_counts(normalize = True)"
   ]
  },
  {
   "cell_type": "code",
   "execution_count": 54,
   "metadata": {},
   "outputs": [
    {
     "data": {
      "text/plain": [
       "1.0    0.63591\n",
       "0.0    0.36409\n",
       "Name: Below_thresholds, dtype: float64"
      ]
     },
     "execution_count": 54,
     "metadata": {},
     "output_type": "execute_result"
    }
   ],
   "source": [
    "df_2015.Below_thresholds.value_counts(normalize = True)"
   ]
  },
  {
   "cell_type": "code",
   "execution_count": 49,
   "metadata": {},
   "outputs": [
    {
     "data": {
      "text/plain": [
       "1.0    0.637674\n",
       "0.0    0.362326\n",
       "Name: Below_thresholds, dtype: float64"
      ]
     },
     "execution_count": 49,
     "metadata": {},
     "output_type": "execute_result"
    }
   ],
   "source": [
    "df_2012.Below_thresholds.value_counts(normalize = True)"
   ]
  },
  {
   "cell_type": "code",
   "execution_count": 72,
   "metadata": {},
   "outputs": [
    {
     "name": "stdout",
     "output_type": "stream",
     "text": [
      "0.0    0.617124\n",
      "1.0    0.382876\n",
      "Name: Over_thresholds, dtype: float64\n",
      "0.0    0.60979\n",
      "1.0    0.39021\n",
      "Name: Over_thresholds, dtype: float64\n"
     ]
    }
   ],
   "source": [
    "print(df_2012.Over_thresholds.value_counts(normalize = True))\n",
    "print(df_2015.Over_thresholds.value_counts(normalize = True))"
   ]
  },
  {
   "cell_type": "code",
   "execution_count": 73,
   "metadata": {},
   "outputs": [
    {
     "name": "stdout",
     "output_type": "stream",
     "text": [
      "0.0    0.832184\n",
      "1.0    0.167816\n",
      "Name: Between_thresholds, dtype: float64\n",
      "0.0    0.832657\n",
      "1.0    0.167343\n",
      "Name: Between_thresholds, dtype: float64\n"
     ]
    }
   ],
   "source": [
    "print(df_2012.Between_thresholds.value_counts(normalize = True))\n",
    "print(df_2015.Between_thresholds.value_counts(normalize = True))"
   ]
  },
  {
   "cell_type": "code",
   "execution_count": 74,
   "metadata": {},
   "outputs": [],
   "source": [
    "import statsmodels.api as sm"
   ]
  },
  {
   "cell_type": "code",
   "execution_count": 81,
   "metadata": {},
   "outputs": [
    {
     "name": "stdout",
     "output_type": "stream",
     "text": [
      "Optimization terminated successfully.\n",
      "         Current function value: 1.874382\n",
      "         Iterations 5\n"
     ]
    }
   ],
   "source": [
    "df_temp = df.query(\"(50000<Rbg<200000)\").head(1000)\n",
    "m = sm.MNLogit(df_temp[[\"Below_thresholds\",\"Over_thresholds\",\"Between_thresholds\"]], df_temp[[\"NBPAC\"]])\n",
    "fit = m.fit()\n",
    "summary = fit.summary()"
   ]
  },
  {
   "cell_type": "code",
   "execution_count": null,
   "metadata": {},
   "outputs": [],
   "source": []
  }
 ],
 "metadata": {
  "kernelspec": {
   "display_name": "Python 3",
   "language": "python",
   "name": "python3"
  },
  "language_info": {
   "codemirror_mode": {
    "name": "ipython",
    "version": 3
   },
   "file_extension": ".py",
   "mimetype": "text/x-python",
   "name": "python",
   "nbconvert_exporter": "python",
   "pygments_lexer": "ipython3",
   "version": "3.6.3"
  }
 },
 "nbformat": 4,
 "nbformat_minor": 2
}
