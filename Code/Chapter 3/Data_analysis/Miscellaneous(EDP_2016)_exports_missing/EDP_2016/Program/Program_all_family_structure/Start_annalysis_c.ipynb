{
 "cells": [
  {
   "cell_type": "code",
   "execution_count": 3,
   "metadata": {},
   "outputs": [
    {
     "name": "stdout",
     "output_type": "stream",
     "text": [
      "2018-09-19 14:41:39.311068\n"
     ]
    }
   ],
   "source": [
    "import datetime\n",
    "start_time = datetime.datetime.now(); print(start_time)"
   ]
  },
  {
   "cell_type": "code",
   "execution_count": 4,
   "metadata": {},
   "outputs": [
    {
     "data": {
      "text/html": [
       "<style>.container { width:100% !important; }<\\style>"
      ],
      "text/plain": [
       "<IPython.core.display.HTML object>"
      ]
     },
     "metadata": {},
     "output_type": "display_data"
    }
   ],
   "source": [
    "from IPython.core.display import display, HTML\n",
    "display(HTML(\"<style>.container { width:100% !important; }<\\style>\"))"
   ]
  },
  {
   "cell_type": "code",
   "execution_count": 17,
   "metadata": {},
   "outputs": [],
   "source": [
    "from IPython.display import display\n",
    "import matplotlib.pyplot as plt\n",
    "import numpy as np\n",
    "import pandas as pd ; pd.set_option(\"display.max_columns\",200)\n",
    "import pickle\n",
    "import statsmodels.api as sm"
   ]
  },
  {
   "cell_type": "code",
   "execution_count": 9,
   "metadata": {},
   "outputs": [],
   "source": [
    "data_prepared_for_analysis_store_path = u'C:/Users/IMPTEMP_A_PACIFIC/Desktop/EDP_2016/Data/hdf/result.h5'"
   ]
  },
  {
   "cell_type": "code",
   "execution_count": 6,
   "metadata": {},
   "outputs": [],
   "source": [
    "result_store_path_csv = 'C:/Users/IMPTEMP_A_PACIFIC/Desktop/EDP_2016/Data/result/csv/'"
   ]
  },
  {
   "cell_type": "code",
   "execution_count": 7,
   "metadata": {},
   "outputs": [
    {
     "name": "stderr",
     "output_type": "stream",
     "text": [
      "C:\\Users\\IMPTEMP_A_PACIFIC\\Desktop\\WinPython-64bit-3.6.3.0Qt5\\python-3.6.3.amd64\\lib\\site-packages\\IPython\\core\\interactiveshell.py:2728: DtypeWarning: Columns (141) have mixed types. Specify dtype option on import or set low_memory=False.\n",
      "  interactivity=interactivity, compiler=compiler, result=result)\n"
     ]
    }
   ],
   "source": [
    "df_2011 = pd.read_csv(result_store_path_csv+ \"step_3_{}.csv\".format(2011))"
   ]
  },
  {
   "cell_type": "code",
   "execution_count": 10,
   "metadata": {},
   "outputs": [
    {
     "name": "stderr",
     "output_type": "stream",
     "text": [
      "C:\\Users\\IMPTEMP_A_PACIFIC\\Desktop\\WinPython-64bit-3.6.3.0Qt5\\python-3.6.3.amd64\\lib\\site-packages\\IPython\\core\\interactiveshell.py:2728: DtypeWarning: Columns (141,160) have mixed types. Specify dtype option on import or set low_memory=False.\n",
      "  interactivity=interactivity, compiler=compiler, result=result)\n"
     ]
    }
   ],
   "source": [
    "df_2014 = pd.read_csv(result_store_path_csv+ \"step_3_{}.csv\".format(2014))"
   ]
  },
  {
   "cell_type": "code",
   "execution_count": 11,
   "metadata": {},
   "outputs": [
    {
     "data": {
      "text/plain": [
       "(2478701, 162)"
      ]
     },
     "execution_count": 11,
     "metadata": {},
     "output_type": "execute_result"
    }
   ],
   "source": [
    "df_2014.shape"
   ]
  },
  {
   "cell_type": "code",
   "execution_count": 42,
   "metadata": {},
   "outputs": [],
   "source": [
    "df = pd.merge(df_2011,df_2014, on = 'ID_FISC_LOG_DIFF', suffixes=(\"_2011\", (\"_2014\")))"
   ]
  },
  {
   "cell_type": "code",
   "execution_count": 43,
   "metadata": {},
   "outputs": [
    {
     "data": {
      "text/plain": [
       "(1741300, 323)"
      ]
     },
     "execution_count": 43,
     "metadata": {},
     "output_type": "execute_result"
    }
   ],
   "source": [
    "df.shape"
   ]
  },
  {
   "cell_type": "code",
   "execution_count": 48,
   "metadata": {},
   "outputs": [],
   "source": [
    "df_save = df.copy()"
   ]
  },
  {
   "cell_type": "code",
   "execution_count": 73,
   "metadata": {},
   "outputs": [],
   "source": [
    "df = df_save.copy()"
   ]
  },
  {
   "cell_type": "code",
   "execution_count": 74,
   "metadata": {},
   "outputs": [],
   "source": [
    "df[\"Rbg_2011\"] =(( df.ZTSAM_2011*0.9) + df.ZRAGM_2011 + df.ZRACM_2011 + df.ZRNCM_2011 + df.ZFONM_2011 + df.ZPERM_2011*0.9\n",
    "                    + df.ZRICM_2011)\n",
    "df[\"Rbg_2014\"] =(( df.ZTSAM_2014*0.9) + df.ZRAGM_2014 + df.ZRACM_2014 + df.ZRNCM_2014 + df.ZFONM_2014 + df.ZPERM_2014*0.9\n",
    "                    + df.ZRICM_2014)\n",
    "\n",
    "\n",
    "df[\"Delta_rbg\"] = df.Rbg_2014 - df.Rbg_2011\n",
    "df[\"Rbg_splines\"]  = pd.cut(df.Rbg_2011, 10)"
   ]
  },
  {
   "cell_type": "code",
   "execution_count": 75,
   "metadata": {},
   "outputs": [],
   "source": [
    "for nb_enf in range(1,7): ### in modification\n",
    "    df[\"Between_threshold_{}_child\".format(nb_enf)\n",
    "          ] = ((df.Rbg_2011>  threshold_byr_rbg[\"2014\"].iloc[nb_enf-1])\n",
    "               & (df.Rbg_2011< threshold_byr_rbg[\"2011\"].iloc[nb_enf-1]))"
   ]
  },
  {
   "cell_type": "code",
   "execution_count": 76,
   "metadata": {},
   "outputs": [
    {
     "data": {
      "text/plain": [
       "False    1689838\n",
       "True       51462\n",
       "Name: Between_threshold_1_child, dtype: int64"
      ]
     },
     "execution_count": 76,
     "metadata": {},
     "output_type": "execute_result"
    }
   ],
   "source": [
    "df.Between_threshold_1_child.value_counts()"
   ]
  },
  {
   "cell_type": "code",
   "execution_count": 77,
   "metadata": {},
   "outputs": [],
   "source": [
    "for nb_enf in range(1,7): ### in modification\n",
    "    df[\"Over_threshold_{}_child\".format(nb_enf)\n",
    "          ] =  (df.Rbg_2011 > threshold_byr_rbg[\"2011\"].iloc[nb_enf-1])"
   ]
  },
  {
   "cell_type": "code",
   "execution_count": null,
   "metadata": {},
   "outputs": [],
   "source": []
  },
  {
   "cell_type": "code",
   "execution_count": 78,
   "metadata": {},
   "outputs": [],
   "source": [
    "threshold_byr_rbg = pd.DataFrame()\n",
    "threshold_byr_rbg[\"2011\"] = pd.Series([63233,73516,94451,115185,135941,150684])\n",
    "threshold_byr_rbg[\"2014\"] = pd.Series([58291,63530,73806,84103,94368,104633])"
   ]
  },
  {
   "cell_type": "code",
   "execution_count": 79,
   "metadata": {},
   "outputs": [],
   "source": [
    "nb_enf_max_for_annalysis = 6 \n",
    "between_threshold_for_child_rank = [\"Between_threshold_{}_child\".format(nb_child) for nb_child in range(1,nb_enf_max_for_annalysis+1)]\n",
    "over_threshold_for_child_rank = [\"Over_threshold_{}_child\".format(nb_child) for nb_child in range(1,nb_enf_max_for_annalysis+1)]\n",
    "children_number =  [\"child_{}\".format(nb_child) for nb_child in range(1,nb_enf_max_for_annalysis+1)]"
   ]
  },
  {
   "cell_type": "code",
   "execution_count": 80,
   "metadata": {},
   "outputs": [],
   "source": [
    "interaction_child_between_threshold  = [\"{}:{}\".format(child,interaction) for child, interaction in zip(children_number, between_threshold_for_child_rank)]\n",
    "interaction_child_over_threshold  = [\"{}:{}\".format(child,interaction) for child, interaction in zip(children_number, over_threshold_for_child_rank)]"
   ]
  },
  {
   "cell_type": "code",
   "execution_count": 81,
   "metadata": {},
   "outputs": [
    {
     "name": "stdout",
     "output_type": "stream",
     "text": [
      "Unnamed: 0_2011\n",
      "level_0_2011\n",
      "index_2011\n",
      "ID_FISC_LOG_DIFF\n",
      "AN_FISC_x_2011\n",
      "AN_REVENU_2011\n",
      "REG_2011\n",
      "DEP_x_2011\n",
      "DEPCOM_2011\n",
      "TU10_2011\n",
      "NBFOYM_2011\n",
      "NBPERSM_2011\n",
      "INF14M_2011\n",
      "SUP14M_2011\n",
      "NBERAM_2011\n",
      "NB_UC_2011\n",
      "AGERF_2011\n",
      "SEXERF_2011\n",
      "OCCTYP_2011\n",
      "TYPMEN9_2011\n",
      "I_CHAMPM_2011\n",
      "I_PAUVRE50M_2011\n",
      "I_PAUVRE60M_2011\n",
      "NB_ALLOC_CNAF_2011\n",
      "NB_ALLOC_CNAV_2011\n",
      "NB_ALLOC_MSAF_2011\n",
      "NB_ALLOC_MSAV_2011\n",
      "NIVVIEM_2011\n",
      "CENTILE_2011\n",
      "REVDISPM_2011\n",
      "REVPERM_2011\n",
      "REVINIM_2011\n",
      "REVDECM_2011\n",
      "ZTSAM_2011\n",
      "ZSALM_2011\n",
      "ZCHOM_2011\n",
      "ZPERM_2011\n",
      "ZRETM_2011\n",
      "ZRSTM_2011\n",
      "ZALRM_2011\n",
      "ZRTOM_2011\n",
      "ZRAGM_2011\n",
      "ZRICM_2011\n",
      "ZRNCM_2011\n",
      "ZFONM_2011\n",
      "ZVAMM0_2011\n",
      "ZVAMM_2011\n",
      "ZVALM0_2011\n",
      "ZVALM_2011\n",
      "ZRACM_2011\n",
      "ZETRM_2011\n",
      "ZALVM_2011\n",
      "PSOCM_2011\n",
      "PFAMM_2011\n",
      "M_PNAM_2011\n",
      "M_PAJEM_2011\n",
      "M_CLCAM_2011\n",
      "M_COLCAM_2011\n",
      "M_AFM_2011\n",
      "M_CFM_2011\n",
      "M_ARSM_2011\n",
      "M_AEEHM_2011\n",
      "M_ASFM_2011\n",
      "MINIM_2011\n",
      "M_MINVM_2011\n",
      "M_RSAM_2011\n",
      "M_RSA_ACTM_2011\n",
      "M_RSA_SOCM_2011\n",
      "M_RSA_PFAM_2011\n",
      "M_AAH_CAAHM_2011\n",
      "LOGTM_2011\n",
      "M_ALFM_2011\n",
      "M_APLM_2011\n",
      "M_ALSM_2011\n",
      "M_ALSETM_2011\n",
      "M_PPEM_2011\n",
      "ZIMPOM_2011\n",
      "ZIMPVALM_2011\n",
      "ZTHABM_2011\n",
      "CSGIM_2011\n",
      "CSGISALM_2011\n",
      "CRDSM_2011\n",
      "CRDSSALM_2011\n",
      "CSGPATM_2011\n",
      "CSGVALM_2011\n",
      "CSGIMPM_2011\n",
      "CSGDM_2011\n",
      "CSGDSALM_2011\n",
      "PRODUITFIN_2011\n",
      "ZPPEM_2011\n",
      "ZQUOM_2011\n",
      "ZDIVM_2011\n",
      "ZGLOM_2011\n",
      "ZAVFM_2011\n",
      "ZIMPFORM_2011\n",
      "NBPAC_2011\n",
      "GARDEM_2011\n",
      "SERVDOMM_2011\n",
      "ZIMPOM_DECL_2011\n",
      "ZIMPOM_ANC_2011\n",
      "ZIMPOM_ANC_DECL_2011\n",
      "ZAVFM_DECL_2011\n",
      "ZTHABM_DECL_2011\n",
      "YSALI_2011\n",
      "YCHOI_2011\n",
      "YRSTI_2011\n",
      "YALRI_2011\n",
      "YRAGI_2011\n",
      "YBICI_2011\n",
      "YBNCI_2011\n",
      "YSALI_mere_2011\n",
      "YCHOI_mere_2011\n",
      "YRSTI_mere_2011\n",
      "YALRI_mere_2011\n",
      "YRAGI_mere_2011\n",
      "YBICI_mere_2011\n",
      "YBNCI_mere_2011\n",
      "YSALI_pere_2011\n",
      "YCHOI_pere_2011\n",
      "YRSTI_pere_2011\n",
      "YALRI_pere_2011\n",
      "YRAGI_pere_2011\n",
      "YBICI_pere_2011\n",
      "YBNCI_pere_2011\n",
      "Age_pere_2011\n",
      "Age_mere_2011\n",
      "ANAIS_pere_2011\n",
      "ANAIS_mere_2011\n",
      "AN_FISC_y_2011\n",
      "DEP_y_2011\n",
      "CNE_2011\n",
      "SECCAD_2011\n",
      "DATACHEV_2011\n",
      "HLMSEM_2011\n",
      "DATEACTE_2011\n",
      "DATEPERS_2011\n",
      "OCC_2011\n",
      "DNATLC_2011\n",
      "NATLOC_2011\n",
      "TAX_2011\n",
      "LOGEMENT_2011\n",
      "NLOC4_2011\n",
      "EAU_2011\n",
      "EGOUT_2011\n",
      "ELEC_2011\n",
      "GAZ_2011\n",
      "CHAUFF_2011\n",
      "ASCENSEUR_2011\n",
      "NBNIV_2011\n",
      "SURFTOT_2011\n",
      "NBPIEC_2011\n",
      "NBPP_2011\n",
      "NBSDB_2011\n",
      "NBBAIG_2011\n",
      "NBDOUC_2011\n",
      "NBWC_2011\n",
      "NBCUIS8_2011\n",
      "NBCUIS9_2011\n",
      "NBCH_2011\n",
      "NBSAM_2011\n",
      "NUM_IRIS_2011\n",
      "NUM_QPV_2011\n",
      "Unnamed: 0_2014\n",
      "level_0_2014\n",
      "index_2014\n",
      "AN_FISC_x_2014\n",
      "AN_REVENU_2014\n",
      "REG_2014\n",
      "DEP_x_2014\n",
      "DEPCOM_2014\n",
      "TU10_2014\n",
      "NBFOYM_2014\n",
      "NBPERSM_2014\n",
      "INF14M_2014\n",
      "SUP14M_2014\n",
      "NBERAM_2014\n",
      "NB_UC_2014\n",
      "AGERF_2014\n",
      "SEXERF_2014\n",
      "OCCTYP_2014\n",
      "TYPMEN9_2014\n",
      "I_CHAMPM_2014\n",
      "I_PAUVRE50M_2014\n",
      "I_PAUVRE60M_2014\n",
      "NB_ALLOC_CNAF_2014\n",
      "NB_ALLOC_CNAV_2014\n",
      "NB_ALLOC_MSAF_2014\n",
      "NB_ALLOC_MSAV_2014\n",
      "NIVVIEM_2014\n",
      "CENTILE_2014\n",
      "REVDISPM_2014\n",
      "REVPERM_2014\n",
      "REVINIM_2014\n",
      "REVDECM_2014\n",
      "ZTSAM_2014\n",
      "ZSALM_2014\n",
      "ZCHOM_2014\n",
      "ZPERM_2014\n",
      "ZRETM_2014\n",
      "ZRSTM_2014\n",
      "ZALRM_2014\n",
      "ZRTOM_2014\n",
      "ZRAGM_2014\n",
      "ZRICM_2014\n",
      "ZRNCM_2014\n",
      "ZFONM_2014\n",
      "ZVAMM0_2014\n",
      "ZVAMM_2014\n",
      "ZVALM0_2014\n",
      "ZVALM_2014\n",
      "ZRACM_2014\n",
      "ZETRM_2014\n",
      "ZALVM_2014\n",
      "PSOCM_2014\n",
      "PFAMM_2014\n",
      "M_PNAM_2014\n",
      "M_PAJEM_2014\n",
      "M_CLCAM_2014\n",
      "M_COLCAM_2014\n",
      "M_AFM_2014\n",
      "M_CFM_2014\n",
      "M_ARSM_2014\n",
      "M_AEEHM_2014\n",
      "M_ASFM_2014\n",
      "MINIM_2014\n",
      "M_MINVM_2014\n",
      "M_RSAM_2014\n",
      "M_RSA_ACTM_2014\n",
      "M_RSA_SOCM_2014\n",
      "M_RSA_PFAM_2014\n",
      "M_AAH_CAAHM_2014\n",
      "LOGTM_2014\n",
      "M_ALFM_2014\n",
      "M_APLM_2014\n",
      "M_ALSM_2014\n",
      "M_ALSETM_2014\n",
      "M_PPEM_2014\n",
      "ZIMPOM_2014\n",
      "ZIMPVALM_2014\n",
      "ZTHABM_2014\n",
      "CSGIM_2014\n",
      "CSGISALM_2014\n",
      "CRDSM_2014\n",
      "CRDSSALM_2014\n",
      "CSGPATM_2014\n",
      "CSGVALM_2014\n",
      "CSGIMPM_2014\n",
      "CSGDM_2014\n",
      "CSGDSALM_2014\n",
      "PRODUITFIN_2014\n",
      "ZPPEM_2014\n",
      "ZQUOM_2014\n",
      "ZDIVM_2014\n",
      "ZGLOM_2014\n",
      "ZAVFM_2014\n",
      "ZIMPFORM_2014\n",
      "NBPAC_2014\n",
      "GARDEM_2014\n",
      "SERVDOMM_2014\n",
      "ZIMPOM_DECL_2014\n",
      "ZIMPOM_ANC_2014\n",
      "ZIMPOM_ANC_DECL_2014\n",
      "ZAVFM_DECL_2014\n",
      "ZTHABM_DECL_2014\n",
      "YSALI_2014\n",
      "YCHOI_2014\n",
      "YRSTI_2014\n",
      "YALRI_2014\n",
      "YRAGI_2014\n",
      "YBICI_2014\n",
      "YBNCI_2014\n",
      "YSALI_mere_2014\n",
      "YCHOI_mere_2014\n",
      "YRSTI_mere_2014\n",
      "YALRI_mere_2014\n",
      "YRAGI_mere_2014\n",
      "YBICI_mere_2014\n",
      "YBNCI_mere_2014\n",
      "YSALI_pere_2014\n",
      "YCHOI_pere_2014\n",
      "YRSTI_pere_2014\n",
      "YALRI_pere_2014\n",
      "YRAGI_pere_2014\n",
      "YBICI_pere_2014\n",
      "YBNCI_pere_2014\n",
      "Age_pere_2014\n",
      "Age_mere_2014\n",
      "ANAIS_pere_2014\n",
      "ANAIS_mere_2014\n",
      "AN_FISC_y_2014\n",
      "DEP_y_2014\n",
      "CNE_2014\n",
      "SECCAD_2014\n",
      "DATACHEV_2014\n",
      "HLMSEM_2014\n",
      "DATEACTE_2014\n",
      "DATEPERS_2014\n",
      "OCC_2014\n",
      "DNATLC_2014\n",
      "NATLOC_2014\n",
      "TAX_2014\n",
      "LOGEMENT_2014\n",
      "NLOC4_2014\n",
      "EAU_2014\n",
      "EGOUT_2014\n",
      "ELEC_2014\n",
      "GAZ_2014\n",
      "CHAUFF_2014\n",
      "ASCENSEUR_2014\n",
      "NBNIV_2014\n",
      "SURFTOT_2014\n",
      "NBPIEC_2014\n",
      "NBPP_2014\n",
      "NBSDB_2014\n",
      "NBBAIG_2014\n",
      "NBDOUC_2014\n",
      "NBWC_2014\n",
      "NBCUIS8_2014\n",
      "NBCUIS9_2014\n",
      "NBCH_2014\n",
      "NBSAM_2014\n",
      "NUM_IRIS_2014\n",
      "NUM_QPV_2014\n",
      "Rbg_2011\n",
      "Rbg_2014\n",
      "Delta_rbg\n",
      "Rbg_splines\n",
      "Between_threshold_1_child\n",
      "Between_threshold_2_child\n",
      "Between_threshold_3_child\n",
      "Between_threshold_4_child\n",
      "Between_threshold_5_child\n",
      "Between_threshold_6_child\n",
      "Over_threshold_1_child\n",
      "Over_threshold_2_child\n",
      "Over_threshold_3_child\n",
      "Over_threshold_4_child\n",
      "Over_threshold_5_child\n",
      "Over_threshold_6_child\n"
     ]
    }
   ],
   "source": [
    "for col in df.columns: print(col) "
   ]
  },
  {
   "cell_type": "code",
   "execution_count": 82,
   "metadata": {},
   "outputs": [],
   "source": [
    "year = 2011\n",
    "to_load_id_log_2011 = [\"couple_child_detached_or_attached_id_fisc_log_{}.p\".format(year),\n",
    "                  \"couple_mar_pac_child_maj_ratach_id_fisc_log_{}.p\".format(year),\n",
    "                  \"couple_mar_pac_child_ss_maj_id_fisc_log_{}.p\".format(year),\n",
    "                  \"couple_mar_pac_ss_enf_id_fisc_log_{}.p\".format(year),\n",
    "                  \"celib_ss_enf_id_fisc_log_{}.p\".format(year),\n",
    "                  \"celib_ac_enf_ss_maj_id_fisc_log_{}.p\".format(year),\n",
    "                  \"celib_with_detached_child_id_fisc_log_{}.p\".format(year),\n",
    "                  \"single_ac_single_ac_enf_ac_maj_ratach_id_fisc_log_{}.p\".format(year),\n",
    "                  \"concubin_with_or_without_children_id_fisc_log_{}.p\".format(year),]\n",
    "year = 2014\n",
    "to_load_id_log_2014 = [\"couple_child_detached_or_attached_id_fisc_log_{}.p\".format(year),\n",
    "                  \"couple_mar_pac_child_maj_ratach_id_fisc_log_{}.p\".format(year),\n",
    "                  \"couple_mar_pac_child_ss_maj_id_fisc_log_{}.p\".format(year),\n",
    "                  \"couple_mar_pac_ss_enf_id_fisc_log_{}.p\".format(year),\n",
    "                  \"celib_ss_enf_id_fisc_log_{}.p\".format(year),\n",
    "                  \"celib_ac_enf_ss_maj_id_fisc_log_{}.p\".format(year),\n",
    "                  \"celib_with_detached_child_id_fisc_log_{}.p\".format(year),\n",
    "                  \"single_ac_single_ac_enf_ac_maj_ratach_id_fisc_log_{}.p\".format(year),\n",
    "                  \"concubin_with_or_without_children_id_fisc_log_{}.p\".format(year),]"
   ]
  },
  {
   "cell_type": "code",
   "execution_count": 83,
   "metadata": {},
   "outputs": [
    {
     "ename": "NameError",
     "evalue": "name 'to_load_id_log' is not defined",
     "output_type": "error",
     "traceback": [
      "\u001b[1;31m---------------------------------------------------------------------------\u001b[0m",
      "\u001b[1;31mNameError\u001b[0m                                 Traceback (most recent call last)",
      "\u001b[1;32m<ipython-input-83-961f0ce967c6>\u001b[0m in \u001b[0;36m<module>\u001b[1;34m()\u001b[0m\n\u001b[0;32m      1\u001b[0m \u001b[1;31m#Charge à la fois dans l'environnement de travail et dans un dictionnaire...\u001b[0m\u001b[1;33m\u001b[0m\u001b[1;33m\u001b[0m\u001b[0m\n\u001b[0;32m      2\u001b[0m \u001b[0mpickle_dict\u001b[0m \u001b[1;33m=\u001b[0m \u001b[0mdict\u001b[0m\u001b[1;33m(\u001b[0m\u001b[1;33m)\u001b[0m\u001b[1;33m\u001b[0m\u001b[0m\n\u001b[1;32m----> 3\u001b[1;33m \u001b[1;32mfor\u001b[0m \u001b[0mpickle_to_load\u001b[0m \u001b[1;32min\u001b[0m \u001b[0mto_load_id_log\u001b[0m\u001b[1;33m:\u001b[0m\u001b[1;33m\u001b[0m\u001b[0m\n\u001b[0m\u001b[0;32m      4\u001b[0m     \u001b[0mloaded_pickle\u001b[0m \u001b[1;33m=\u001b[0m  \u001b[0mpickle\u001b[0m\u001b[1;33m.\u001b[0m\u001b[0mload\u001b[0m\u001b[1;33m(\u001b[0m\u001b[0mopen\u001b[0m\u001b[1;33m(\u001b[0m\u001b[0mpickles_path\u001b[0m\u001b[1;33m+\u001b[0m\u001b[1;34m'{}'\u001b[0m\u001b[1;33m.\u001b[0m\u001b[0mformat\u001b[0m\u001b[1;33m(\u001b[0m\u001b[0mpickle_to_load\u001b[0m\u001b[1;33m)\u001b[0m\u001b[1;33m,\u001b[0m\u001b[1;34m'rb'\u001b[0m\u001b[1;33m)\u001b[0m \u001b[1;33m)\u001b[0m\u001b[1;33m\u001b[0m\u001b[0m\n\u001b[0;32m      5\u001b[0m     \u001b[0mglobals\u001b[0m\u001b[1;33m(\u001b[0m\u001b[1;33m)\u001b[0m\u001b[1;33m[\u001b[0m\u001b[0mpickle_to_load\u001b[0m\u001b[1;33m[\u001b[0m\u001b[1;33m:\u001b[0m\u001b[1;33m-\u001b[0m\u001b[1;36m2\u001b[0m\u001b[1;33m]\u001b[0m\u001b[1;33m]\u001b[0m \u001b[1;33m=\u001b[0m \u001b[0mloaded_pickle\u001b[0m\u001b[1;33m\u001b[0m\u001b[0m\n",
      "\u001b[1;31mNameError\u001b[0m: name 'to_load_id_log' is not defined"
     ]
    }
   ],
   "source": [
    "#Charge à la fois dans l'environnement de travail et dans un dictionnaire...\n",
    "pickle_dict = dict()\n",
    "for pickle_to_load in to_load_id_log:\n",
    "    loaded_pickle =  pickle.load(open(pickles_path+'{}'.format(pickle_to_load),'rb') )\n",
    "    globals()[pickle_to_load[:-2]] = loaded_pickle\n",
    "    print(pickle_to_load, \"len:\" , len(globals()[pickle_to_load[:-2]]));\n",
    "    pickle_dict[pickle_to_load[:-2]] = loaded_pickle"
   ]
  },
  {
   "cell_type": "code",
   "execution_count": 84,
   "metadata": {},
   "outputs": [],
   "source": [
    "df= df[df.TYPMEN9_2011 == df.TYPMEN9_2014]"
   ]
  },
  {
   "cell_type": "code",
   "execution_count": 85,
   "metadata": {},
   "outputs": [],
   "source": [
    "df = df[df.TYPMEN9_2011.isin([30,41,42,43])]"
   ]
  },
  {
   "cell_type": "code",
   "execution_count": 86,
   "metadata": {},
   "outputs": [],
   "source": [
    "df[\"Nb_child\"] =  df.NBPAC_2011"
   ]
  },
  {
   "cell_type": "code",
   "execution_count": null,
   "metadata": {},
   "outputs": [],
   "source": []
  },
  {
   "cell_type": "code",
   "execution_count": 96,
   "metadata": {},
   "outputs": [],
   "source": [
    "df = df[df.NBFOYM_2011 == 1 ]\n",
    "df = df[df.NBFOYM_2014 == 1 ]"
   ]
  },
  {
   "cell_type": "code",
   "execution_count": 97,
   "metadata": {},
   "outputs": [],
   "source": [
    "for nbpac in range(1,7):\n",
    "    df[\"child_{}\".format(nbpac)] = df.NBPAC_2011"
   ]
  },
  {
   "cell_type": "code",
   "execution_count": 98,
   "metadata": {},
   "outputs": [],
   "source": [
    "df = df.query(\"50000<Rbg_2011<200000\")"
   ]
  },
  {
   "cell_type": "code",
   "execution_count": 99,
   "metadata": {},
   "outputs": [
    {
     "name": "stdout",
     "output_type": "stream",
     "text": [
      "                            OLS Regression Results                            \n",
      "==============================================================================\n",
      "Dep. Variable:              Delta_rbg   R-squared:                       0.023\n",
      "Model:                            OLS   Adj. R-squared:                  0.023\n",
      "Method:                 Least Squares   F-statistic:                     166.5\n",
      "Date:                Wed, 19 Sep 2018   Prob (F-statistic):               0.00\n",
      "Time:                        16:23:13   Log-Likelihood:            -2.0185e+06\n",
      "No. Observations:              176189   AIC:                         4.037e+06\n",
      "Df Residuals:                  176163   BIC:                         4.037e+06\n",
      "Df Model:                          25                                         \n",
      "Covariance Type:            nonrobust                                         \n",
      "=============================================================================================================\n",
      "                                                coef    std err          t      P>|t|      [0.025      0.975]\n",
      "-------------------------------------------------------------------------------------------------------------\n",
      "Intercept                                  1538.1883    142.302     10.809      0.000    1259.280    1817.097\n",
      "Between_threshold_1_child[T.True]          -508.4749    268.024     -1.897      0.058   -1033.796      16.847\n",
      "Between_threshold_2_child[T.True]           683.3139   1006.379      0.679      0.497   -1289.166    2655.794\n",
      "Between_threshold_3_child[T.True]          -473.5837   1392.755     -0.340      0.734   -3203.352    2256.185\n",
      "Between_threshold_4_child[T.True]          -916.7260    425.751     -2.153      0.031   -1751.189     -82.263\n",
      "Between_threshold_5_child[T.True]          -696.0366   4112.087     -0.169      0.866   -8755.634    7363.561\n",
      "Between_threshold_6_child[T.True]         -2514.9267    635.327     -3.958      0.000   -3760.154   -1269.699\n",
      "Over_threshold_1_child[T.True]            -1474.4554    996.367     -1.480      0.139   -3427.312     478.402\n",
      "Over_threshold_2_child[T.True]              423.4401   1686.131      0.251      0.802   -2881.338    3728.219\n",
      "Over_threshold_3_child[T.True]             -218.1747   4348.407     -0.050      0.960   -8740.954    8304.605\n",
      "Over_threshold_4_child[T.True]            -3171.2783    776.720     -4.083      0.000   -4693.632   -1648.925\n",
      "Over_threshold_5_child[T.True]            -5327.2386   4188.717     -1.272      0.203   -1.35e+04    2882.551\n",
      "Over_threshold_6_child[T.True]            -5278.1245   1058.376     -4.987      0.000   -7352.518   -3203.731\n",
      "child_1                                     226.5499     13.259     17.086      0.000     200.562     252.537\n",
      "child_1:Between_threshold_1_child[T.True]   379.4077    147.513      2.572      0.010      90.286     668.529\n",
      "child_1:Over_threshold_1_child[T.True]      748.3911    528.671      1.416      0.157    -287.793    1784.575\n",
      "child_2                                     226.5499     13.259     17.086      0.000     200.562     252.537\n",
      "child_2:Between_threshold_2_child[T.True]  -104.0731    533.374     -0.195      0.845   -1149.474     941.328\n",
      "child_2:Over_threshold_2_child[T.True]     -400.2029    864.187     -0.463      0.643   -2093.991    1293.585\n",
      "child_3                                     226.5499     13.259     17.086      0.000     200.562     252.537\n",
      "child_3:Between_threshold_3_child[T.True]   716.8656    701.369      1.022      0.307    -657.801    2091.532\n",
      "child_3:Over_threshold_3_child[T.True]     1594.3627   2216.497      0.719      0.472   -2749.921    5938.647\n",
      "child_4                                     226.5499     13.259     17.086      0.000     200.562     252.537\n",
      "child_4:Between_threshold_4_child[T.True]   425.7135    213.557      1.993      0.046       7.146     844.281\n",
      "child_4:Over_threshold_4_child[T.True]     1209.5084    372.482      3.247      0.001     479.453    1939.564\n",
      "child_5                                     226.5499     13.259     17.086      0.000     200.562     252.537\n",
      "child_5:Between_threshold_5_child[T.True]  -714.3908   2099.561     -0.340      0.734   -4829.484    3400.702\n",
      "child_5:Over_threshold_5_child[T.True]      979.1852   2130.413      0.460      0.646   -3196.377    5154.747\n",
      "child_6                                     226.5499     13.259     17.086      0.000     200.562     252.537\n",
      "child_6:Between_threshold_6_child[T.True]   940.2651    304.264      3.090      0.002     343.914    1536.616\n",
      "child_6:Over_threshold_6_child[T.True]     1090.6742    487.413      2.238      0.025     135.356    2045.993\n",
      "==============================================================================\n",
      "Omnibus:                   263251.944   Durbin-Watson:                   1.998\n",
      "Prob(Omnibus):                  0.000   Jarque-Bera (JB):       2703037948.000\n",
      "Skew:                           8.045   Prob(JB):                         0.00\n",
      "Kurtosis:                     609.582   Cond. No.                     1.32e+16\n",
      "==============================================================================\n",
      "\n",
      "Warnings:\n",
      "[1] Standard Errors assume that the covariance matrix of the errors is correctly specified.\n",
      "[2] The smallest eigenvalue is 2.6e-26. This might indicate that there are\n",
      "strong multicollinearity problems or that the design matrix is singular.\n"
     ]
    }
   ],
   "source": [
    "m = sm.OLS.from_formula(\"(Delta_rbg)~   {}  \".format(\n",
    "        ' + '.join(children_number+ #below_threshold_for_child_rank+interaction_child_below_thresholds\n",
    "                  between_threshold_for_child_rank+children_number+ over_threshold_for_child_rank+\n",
    "                  interaction_child_between_threshold+interaction_child_over_threshold))\n",
    "                                                                                        , df.query(\"NBPAC_2011>=0\").sample(frac = 1))\n",
    "fit = m.fit()\n",
    "summary = fit.summary(); print(summary)"
   ]
  },
  {
   "cell_type": "code",
   "execution_count": 100,
   "metadata": {},
   "outputs": [],
   "source": [
    "df[\"Delta_ZIMPOM\"] = df.ZIMPOM_2014 - df.ZIMPFORM_2011"
   ]
  },
  {
   "cell_type": "code",
   "execution_count": 101,
   "metadata": {},
   "outputs": [
    {
     "name": "stdout",
     "output_type": "stream",
     "text": [
      "                            OLS Regression Results                            \n",
      "==============================================================================\n",
      "Dep. Variable:              Delta_rbg   R-squared:                       0.023\n",
      "Model:                            OLS   Adj. R-squared:                  0.023\n",
      "Method:                 Least Squares   F-statistic:                     166.5\n",
      "Date:                Wed, 19 Sep 2018   Prob (F-statistic):               0.00\n",
      "Time:                        16:24:19   Log-Likelihood:            -2.0185e+06\n",
      "No. Observations:              176189   AIC:                         4.037e+06\n",
      "Df Residuals:                  176163   BIC:                         4.037e+06\n",
      "Df Model:                          25                                         \n",
      "Covariance Type:            nonrobust                                         \n",
      "=============================================================================================================\n",
      "                                                coef    std err          t      P>|t|      [0.025      0.975]\n",
      "-------------------------------------------------------------------------------------------------------------\n",
      "Intercept                                  1538.1883    142.302     10.809      0.000    1259.280    1817.097\n",
      "Between_threshold_1_child[T.True]          -508.4749    268.024     -1.897      0.058   -1033.796      16.847\n",
      "Between_threshold_2_child[T.True]           683.3139   1006.379      0.679      0.497   -1289.166    2655.794\n",
      "Between_threshold_3_child[T.True]          -473.5837   1392.755     -0.340      0.734   -3203.352    2256.185\n",
      "Between_threshold_4_child[T.True]          -916.7260    425.751     -2.153      0.031   -1751.189     -82.263\n",
      "Between_threshold_5_child[T.True]          -696.0366   4112.087     -0.169      0.866   -8755.634    7363.561\n",
      "Between_threshold_6_child[T.True]         -2514.9267    635.327     -3.958      0.000   -3760.154   -1269.699\n",
      "Over_threshold_1_child[T.True]            -1474.4554    996.367     -1.480      0.139   -3427.312     478.402\n",
      "Over_threshold_2_child[T.True]              423.4401   1686.131      0.251      0.802   -2881.338    3728.219\n",
      "Over_threshold_3_child[T.True]             -218.1747   4348.407     -0.050      0.960   -8740.954    8304.605\n",
      "Over_threshold_4_child[T.True]            -3171.2783    776.720     -4.083      0.000   -4693.632   -1648.925\n",
      "Over_threshold_5_child[T.True]            -5327.2386   4188.717     -1.272      0.203   -1.35e+04    2882.551\n",
      "Over_threshold_6_child[T.True]            -5278.1245   1058.376     -4.987      0.000   -7352.518   -3203.731\n",
      "child_1                                     226.5499     13.259     17.086      0.000     200.562     252.537\n",
      "child_1:Between_threshold_1_child[T.True]   379.4077    147.513      2.572      0.010      90.286     668.529\n",
      "child_1:Over_threshold_1_child[T.True]      748.3911    528.671      1.416      0.157    -287.793    1784.575\n",
      "child_2                                     226.5499     13.259     17.086      0.000     200.562     252.537\n",
      "child_2:Between_threshold_2_child[T.True]  -104.0731    533.374     -0.195      0.845   -1149.474     941.328\n",
      "child_2:Over_threshold_2_child[T.True]     -400.2029    864.187     -0.463      0.643   -2093.991    1293.585\n",
      "child_3                                     226.5499     13.259     17.086      0.000     200.562     252.537\n",
      "child_3:Between_threshold_3_child[T.True]   716.8656    701.369      1.022      0.307    -657.801    2091.532\n",
      "child_3:Over_threshold_3_child[T.True]     1594.3627   2216.497      0.719      0.472   -2749.921    5938.647\n",
      "child_4                                     226.5499     13.259     17.086      0.000     200.562     252.537\n",
      "child_4:Between_threshold_4_child[T.True]   425.7135    213.557      1.993      0.046       7.146     844.281\n",
      "child_4:Over_threshold_4_child[T.True]     1209.5084    372.482      3.247      0.001     479.453    1939.564\n",
      "child_5                                     226.5499     13.259     17.086      0.000     200.562     252.537\n",
      "child_5:Between_threshold_5_child[T.True]  -714.3908   2099.561     -0.340      0.734   -4829.484    3400.702\n",
      "child_5:Over_threshold_5_child[T.True]      979.1852   2130.413      0.460      0.646   -3196.377    5154.747\n",
      "child_6                                     226.5499     13.259     17.086      0.000     200.562     252.537\n",
      "child_6:Between_threshold_6_child[T.True]   940.2651    304.264      3.090      0.002     343.914    1536.616\n",
      "child_6:Over_threshold_6_child[T.True]     1090.6742    487.413      2.238      0.025     135.356    2045.993\n",
      "==============================================================================\n",
      "Omnibus:                   263251.944   Durbin-Watson:                   2.001\n",
      "Prob(Omnibus):                  0.000   Jarque-Bera (JB):       2703037948.000\n",
      "Skew:                           8.045   Prob(JB):                         0.00\n",
      "Kurtosis:                     609.582   Cond. No.                     1.32e+16\n",
      "==============================================================================\n",
      "\n",
      "Warnings:\n",
      "[1] Standard Errors assume that the covariance matrix of the errors is correctly specified.\n",
      "[2] The smallest eigenvalue is 2.6e-26. This might indicate that there are\n",
      "strong multicollinearity problems or that the design matrix is singular.\n"
     ]
    }
   ],
   "source": [
    "m = sm.OLS.from_formula(\"(Delta_rbg)~   {}  \".format(\n",
    "        ' + '.join(children_number+ #below_threshold_for_child_rank+interaction_child_below_thresholds\n",
    "                  between_threshold_for_child_rank+children_number+ over_threshold_for_child_rank+\n",
    "                  interaction_child_between_threshold+interaction_child_over_threshold))\n",
    "                                                                                        , df.query(\"NBPAC_2011>=0\").sample(frac = 1))\n",
    "fit = m.fit()\n",
    "summary = fit.summary(); print(summary)"
   ]
  },
  {
   "cell_type": "code",
   "execution_count": null,
   "metadata": {},
   "outputs": [],
   "source": [
    "df[[\"Between_threshold_2_child\", \"Rbg_2011\", \"Delta_rbg\"]]"
   ]
  },
  {
   "cell_type": "code",
   "execution_count": null,
   "metadata": {},
   "outputs": [],
   "source": []
  }
 ],
 "metadata": {
  "kernelspec": {
   "display_name": "Python 3",
   "language": "python",
   "name": "python3"
  },
  "language_info": {
   "codemirror_mode": {
    "name": "ipython",
    "version": 3
   },
   "file_extension": ".py",
   "mimetype": "text/x-python",
   "name": "python",
   "nbconvert_exporter": "python",
   "pygments_lexer": "ipython3",
   "version": "3.6.3"
  }
 },
 "nbformat": 4,
 "nbformat_minor": 2
}
