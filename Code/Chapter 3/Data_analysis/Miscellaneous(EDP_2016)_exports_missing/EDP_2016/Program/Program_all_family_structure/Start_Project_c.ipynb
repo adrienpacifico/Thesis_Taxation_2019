{
 "cells": [
  {
   "cell_type": "code",
   "execution_count": 1,
   "metadata": {},
   "outputs": [
    {
     "name": "stdout",
     "output_type": "stream",
     "text": [
      "2018-07-22 15:54:15.043715\n"
     ]
    }
   ],
   "source": [
    "import datetime\n",
    "start_time = datetime.datetime.now(); print(start_time)"
   ]
  },
  {
   "cell_type": "code",
   "execution_count": 1,
   "metadata": {},
   "outputs": [
    {
     "name": "stdout",
     "output_type": "stream",
     "text": [
      "2018-09-18 19:47:09.706182\n"
     ]
    }
   ],
   "source": [
    "import datetime\n",
    "start_time = datetime.datetime.now(); print(start_time)"
   ]
  },
  {
   "cell_type": "code",
   "execution_count": 2,
   "metadata": {},
   "outputs": [],
   "source": [
    "import subprocess\n",
    "import os\n"
   ]
  },
  {
   "cell_type": "code",
   "execution_count": 3,
   "metadata": {},
   "outputs": [],
   "source": [
    "import pickle\n",
    "pickle_year_variable_path = \"C:/Users/IMPTEMP_A_PACIFIC/Desktop/EDP_2016/Program/year_variable/\""
   ]
  },
  {
   "cell_type": "code",
   "execution_count": 4,
   "metadata": {},
   "outputs": [],
   "source": [
    "pickle.dump(2011, open(pickle_year_variable_path+\"year_variable.p\", 'wb'))"
   ]
  },
  {
   "cell_type": "code",
   "execution_count": 5,
   "metadata": {},
   "outputs": [],
   "source": [
    "year =  pickle.load(open(pickle_year_variable_path+\"year_variable.p\",'rb'))"
   ]
  },
  {
   "cell_type": "markdown",
   "metadata": {},
   "source": [
    "### Data exportation"
   ]
  },
  {
   "cell_type": "markdown",
   "metadata": {},
   "source": [
    "The data are in a sas7bdat format (sas proprietary format), in order to escape the expensive non Foss software SAS we: \n",
    "1. Export sas file to .csv by running the script Data/Convert_EDP_sas_to_csv_2016.sas\n",
    "\n",
    "Then for performance issue we export data to the HDFS format (by chunks for memory realated issue).\n",
    "\n",
    "2. Run the script Data/csv_to_hdf_by_chunks_2016.py with python2 (may easily be adapted to python3). You may want to modify the size of chunks based on the RAM you have."
   ]
  },
  {
   "cell_type": "code",
   "execution_count": 6,
   "metadata": {},
   "outputs": [
    {
     "name": "stdout",
     "output_type": "stream",
     "text": [
      "2018-07-22 15:54:15.043715\n"
     ]
    }
   ],
   "source": [
    "\n",
    "start_time_data_creation_from_csv = datetime.datetime.now(); print(start_time)"
   ]
  },
  {
   "cell_type": "code",
   "execution_count": 7,
   "metadata": {
    "scrolled": true
   },
   "outputs": [
    {
     "name": "stdout",
     "output_type": "stream",
     "text": [
      "EDP_BE2016_DECES                .CSV\n"
     ]
    },
    {
     "name": "stderr",
     "output_type": "stream",
     "text": [
      "C:\\Users\\IMPTEMP_A_PACIFIC\\Desktop\\WinPython-64bit-3.6.3.0Qt5\\python-3.6.3.amd64\\lib\\site-packages\\IPython\\core\\magics\\execution.py:761: DtypeWarning: Columns (0,1,3,6,7,11,12) have mixed types. Specify dtype option on import or set low_memory=False.\n",
      "  exit_ignore=exit_ignore)\n",
      "C:\\Users\\IMPTEMP_A_PACIFIC\\Desktop\\WinPython-64bit-3.6.3.0Qt5\\python-3.6.3.amd64\\lib\\site-packages\\pandas\\core\\generic.py:1471: PerformanceWarning: \n",
      "your performance may suffer as PyTables will pickle object types that it cannot\n",
      "map directly to c-types [inferred_type->mixed-integer,key->block1_values] [items->['ID_DIFF', 'ID_EVT_DIFF', 'EVT_TYPE', 'DEF_IND_NAI_LIEU_DEPCOM', 'DEF_DEC_LIEU_DEPCOM', 'DEF_DOM_LIEU_DEPCOM', 'CTX_TYPE_LIEU', 'DEF_DEC_MAT_ETAT', 'DEF_IND_SEXE', 'DEF_IND_NAI_DATE', 'DEF_DEC_DATE', 'DEF_SSP_PRO_CODE', 'DEF_NAT_CODE']]\n",
      "\n",
      "  return pytables.to_hdf(path_or_buf, key, self, **kwargs)\n"
     ]
    },
    {
     "name": "stdout",
     "output_type": "stream",
     "text": [
      "0\n",
      "****************************************\n",
      "1 / 76 completed at: \n",
      " 2018-07-22 00:50:44.488562 \n",
      "EDP_BE2016_DESCENDANCE          .CSV\n"
     ]
    },
    {
     "name": "stderr",
     "output_type": "stream",
     "text": [
      "C:\\Users\\IMPTEMP_A_PACIFIC\\Desktop\\WinPython-64bit-3.6.3.0Qt5\\python-3.6.3.amd64\\lib\\site-packages\\IPython\\core\\magics\\execution.py:761: DtypeWarning: Columns (0,1,6,9,10,11,13,14,15,16,17,19,23,39) have mixed types. Specify dtype option on import or set low_memory=False.\n",
      "  exit_ignore=exit_ignore)\n",
      "C:\\Users\\IMPTEMP_A_PACIFIC\\Desktop\\WinPython-64bit-3.6.3.0Qt5\\python-3.6.3.amd64\\lib\\site-packages\\pandas\\core\\generic.py:1471: PerformanceWarning: \n",
      "your performance may suffer as PyTables will pickle object types that it cannot\n",
      "map directly to c-types [inferred_type->mixed-integer,key->block2_values] [items->['ID_DIFF', 'ID_EVT_DIFF', 'EVT_TYPE', 'OPE_TYPE', 'ENF_IND_SEXE', 'ENF_IND_NAI_DATE', 'ENF_IND_NAI_LIEU_DEPCOM', 'PERE_IND_NAI_DATE', 'MERE_IND_NAI_DATE', 'PERE_IND_NAI_LIEU_DEPCOM', 'MERE_IND_NAI_LIEU_DEPCOM', 'PERE_ADR_LIEU_DEPCOM', 'MERE_ADR_LIEU_DEPCOM', 'ADRDOMPAR', 'PERE_NAT_CODE', 'MERE_NAT_CODE', 'PERE_CS_CODE', 'MERE_CS_CODE', 'MAR_DATE', 'MAR_LIEU_DEPCOM', 'CTX_CATACC', 'CTX_MERE_VIVANT_ENF_PREC_NBR', 'CTX_NAV_PREC_DATE']]\n",
      "\n",
      "  return pytables.to_hdf(path_or_buf, key, self, **kwargs)\n"
     ]
    },
    {
     "name": "stdout",
     "output_type": "stream",
     "text": [
      "0\n",
      "****************************************\n",
      "2 / 76 completed at: \n",
      " 2018-07-22 00:50:55.023747 \n",
      "EDP_BE2016_EAR2004_FAMILLE      .CSV\n"
     ]
    },
    {
     "name": "stderr",
     "output_type": "stream",
     "text": [
      "C:\\Users\\IMPTEMP_A_PACIFIC\\Desktop\\WinPython-64bit-3.6.3.0Qt5\\python-3.6.3.amd64\\lib\\site-packages\\IPython\\core\\magics\\execution.py:761: DtypeWarning: Columns (1) have mixed types. Specify dtype option on import or set low_memory=False.\n",
      "  exit_ignore=exit_ignore)\n",
      "C:\\Users\\IMPTEMP_A_PACIFIC\\Desktop\\WinPython-64bit-3.6.3.0Qt5\\python-3.6.3.amd64\\lib\\site-packages\\pandas\\core\\generic.py:1471: PerformanceWarning: \n",
      "your performance may suffer as PyTables will pickle object types that it cannot\n",
      "map directly to c-types [inferred_type->mixed-integer,key->block2_values] [items->['ID_FAM_DIFF', 'ID_LOG_DIFF']]\n",
      "\n",
      "  return pytables.to_hdf(path_or_buf, key, self, **kwargs)\n"
     ]
    },
    {
     "name": "stdout",
     "output_type": "stream",
     "text": [
      "0\n",
      "****************************************\n",
      "3 / 76 completed at: \n",
      " 2018-07-22 00:50:55.418115 \n",
      "EDP_BE2016_EAR2004_INDIVIDU     .CSV\n"
     ]
    },
    {
     "name": "stderr",
     "output_type": "stream",
     "text": [
      "C:\\Users\\IMPTEMP_A_PACIFIC\\Desktop\\WinPython-64bit-3.6.3.0Qt5\\python-3.6.3.amd64\\lib\\site-packages\\IPython\\core\\magics\\execution.py:761: DtypeWarning: Columns (1,2,3,15,16,17,18,19,20,21,23,30,34,38,42,52,53,55,56,57,58,62,63,69) have mixed types. Specify dtype option on import or set low_memory=False.\n",
      "  exit_ignore=exit_ignore)\n",
      "C:\\Users\\IMPTEMP_A_PACIFIC\\Desktop\\WinPython-64bit-3.6.3.0Qt5\\python-3.6.3.amd64\\lib\\site-packages\\pandas\\core\\generic.py:1471: PerformanceWarning: \n",
      "your performance may suffer as PyTables will pickle object types that it cannot\n",
      "map directly to c-types [inferred_type->mixed-integer,key->block2_values] [items->['ID_FAM_DIFF', 'ID_LOG_DIFF', 'ID_DIFF', 'ID_BI_DIFF', 'ANAR', 'APAF', 'ARRIV', 'CIL', 'CPOP', 'CRP_C_C', 'CRP_C_R', 'CS', 'DCETUF', 'DCLT', 'DCNAI', 'DCRAN', 'DEPCOM_CODE', 'DIPL', 'DISTIL_CODE', 'EMPL', 'ETUD', 'FIL', 'ILETUD', 'ILTD', 'IMMI', 'INATCC', 'IPRM', 'IRAND', 'IRIS_ILOT', 'LIENF', 'LPRF', 'LPRM', 'MOCO', 'MODV', 'NAF', 'NATE', 'NATE_C_C', 'NATN', 'NATN_C_C', 'NUMF', 'PNAI', 'PNAI_C_C', 'POSP', 'PRAN', 'PRAN_C_C', 'PROF', 'RECH', 'REGNAI', 'TP']]\n",
      "\n",
      "  return pytables.to_hdf(path_or_buf, key, self, **kwargs)\n"
     ]
    },
    {
     "name": "stdout",
     "output_type": "stream",
     "text": [
      "0\n",
      "****************************************\n",
      "4 / 76 completed at: \n",
      " 2018-07-22 00:50:59.587825 \n",
      "EDP_BE2016_EAR2004_LOGEMENT     .CSV\n"
     ]
    },
    {
     "name": "stderr",
     "output_type": "stream",
     "text": [
      "C:\\Users\\IMPTEMP_A_PACIFIC\\Desktop\\WinPython-64bit-3.6.3.0Qt5\\python-3.6.3.amd64\\lib\\site-packages\\IPython\\core\\magics\\execution.py:761: DtypeWarning: Columns (0) have mixed types. Specify dtype option on import or set low_memory=False.\n",
      "  exit_ignore=exit_ignore)\n",
      "C:\\Users\\IMPTEMP_A_PACIFIC\\Desktop\\WinPython-64bit-3.6.3.0Qt5\\python-3.6.3.amd64\\lib\\site-packages\\pandas\\core\\generic.py:1471: PerformanceWarning: \n",
      "your performance may suffer as PyTables will pickle object types that it cannot\n",
      "map directly to c-types [inferred_type->mixed-integer,key->block2_values] [items->['ID_LOG_DIFF', 'ACHL', 'AEMM', 'AGERM', 'ARRIVM', 'CCOM', 'CHFL', 'COUPLEM', 'DIPLM', 'ETUDM', 'HLML', 'IMMIM', 'INAIM', 'INATM', 'IRANDM', 'MATRM', 'NATEM', 'NATNM', 'NBPI', 'NPER', 'PNAIM', 'PRANM', 'RECHM', 'SANI', 'SEXEM', 'SFM', 'STOC', 'TPM', 'TYPACTM', 'TYPMD']]\n",
      "\n",
      "  return pytables.to_hdf(path_or_buf, key, self, **kwargs)\n"
     ]
    },
    {
     "name": "stdout",
     "output_type": "stream",
     "text": [
      "0\n",
      "****************************************\n",
      "5 / 76 completed at: \n",
      " 2018-07-22 00:51:00.251834 \n",
      "EDP_BE2016_EAR2005_FAMILLE      .CSV\n",
      "0\n",
      "****************************************\n",
      "6 / 76 completed at: \n",
      " 2018-07-22 00:51:00.407835 \n",
      "EDP_BE2016_EAR2005_INDIVIDU     .CSV\n"
     ]
    },
    {
     "name": "stderr",
     "output_type": "stream",
     "text": [
      "C:\\Users\\IMPTEMP_A_PACIFIC\\Desktop\\WinPython-64bit-3.6.3.0Qt5\\python-3.6.3.amd64\\lib\\site-packages\\IPython\\core\\magics\\execution.py:761: DtypeWarning: Columns (0,1) have mixed types. Specify dtype option on import or set low_memory=False.\n",
      "  exit_ignore=exit_ignore)\n",
      "C:\\Users\\IMPTEMP_A_PACIFIC\\Desktop\\WinPython-64bit-3.6.3.0Qt5\\python-3.6.3.amd64\\lib\\site-packages\\IPython\\core\\magics\\execution.py:761: DtypeWarning: Columns (0,1,2,3,15,16,17,18,19,20,21,23,30,34,38,42,52,53,55,56,57,58,62,63) have mixed types. Specify dtype option on import or set low_memory=False.\n",
      "  exit_ignore=exit_ignore)\n",
      "C:\\Users\\IMPTEMP_A_PACIFIC\\Desktop\\WinPython-64bit-3.6.3.0Qt5\\python-3.6.3.amd64\\lib\\site-packages\\pandas\\core\\generic.py:1471: PerformanceWarning: \n",
      "your performance may suffer as PyTables will pickle object types that it cannot\n",
      "map directly to c-types [inferred_type->mixed-integer,key->block2_values] [items->['ID_FAM_DIFF', 'ID_LOG_DIFF', 'ID_DIFF', 'ID_BI_DIFF', 'ANAR', 'APAF', 'ARRIV', 'CIL', 'CPOP', 'CRP_C_C', 'CRP_C_R', 'CS', 'DCETUF', 'DCLT', 'DCNAI', 'DCRAN', 'DEPCOM_CODE', 'DIPL', 'DISTIL_CODE', 'EMPL', 'ETUD', 'FIL', 'ILETUD', 'ILTD', 'IMMI', 'INATCC', 'IPRM', 'IRAND', 'IRIS_ILOT', 'LIENF', 'LPRF', 'LPRM', 'MOCO', 'MODV', 'NAF', 'NATE', 'NATE_C_C', 'NATN', 'NATN_C_C', 'NUMF', 'PNAI', 'PNAI_C_C', 'POSP', 'PRAN', 'PROF', 'RECH', 'REGNAI', 'TP']]\n",
      "\n",
      "  return pytables.to_hdf(path_or_buf, key, self, **kwargs)\n"
     ]
    },
    {
     "name": "stdout",
     "output_type": "stream",
     "text": [
      "0\n",
      "****************************************\n",
      "7 / 76 completed at: \n",
      " 2018-07-22 00:51:04.522523 \n",
      "EDP_BE2016_EAR2005_LOGEMENT     .CSV\n",
      "0\n",
      "****************************************\n",
      "8 / 76 completed at: \n",
      " 2018-07-22 00:51:05.202532 \n",
      "EDP_BE2016_EAR2006_FAMILLE      .CSV\n",
      "0\n",
      "****************************************\n",
      "9 / 76 completed at: \n",
      " 2018-07-22 00:51:05.361536 \n",
      "EDP_BE2016_EAR2006_INDIVIDU     .CSV\n"
     ]
    },
    {
     "name": "stderr",
     "output_type": "stream",
     "text": [
      "C:\\Users\\IMPTEMP_A_PACIFIC\\Desktop\\WinPython-64bit-3.6.3.0Qt5\\python-3.6.3.amd64\\lib\\site-packages\\IPython\\core\\magics\\execution.py:761: DtypeWarning: Columns (0,1,2,3,15,16,17,18,19,20,21,23,30,34,38,42,52,53,55,56,57,58,62,63,69) have mixed types. Specify dtype option on import or set low_memory=False.\n",
      "  exit_ignore=exit_ignore)\n"
     ]
    },
    {
     "name": "stdout",
     "output_type": "stream",
     "text": [
      "0\n",
      "****************************************\n",
      "10 / 76 completed at: \n",
      " 2018-07-22 00:51:09.551096 \n",
      "EDP_BE2016_EAR2006_LOGEMENT     .CSV\n",
      "0\n",
      "****************************************\n",
      "11 / 76 completed at: \n",
      " 2018-07-22 00:51:10.216105 \n",
      "EDP_BE2016_EAR2007_FAMILLE      .CSV\n",
      "0\n",
      "****************************************\n",
      "12 / 76 completed at: \n",
      " 2018-07-22 00:51:10.370106 \n",
      "EDP_BE2016_EAR2007_INDIVIDU     .CSV\n"
     ]
    },
    {
     "name": "stderr",
     "output_type": "stream",
     "text": [
      "C:\\Users\\IMPTEMP_A_PACIFIC\\Desktop\\WinPython-64bit-3.6.3.0Qt5\\python-3.6.3.amd64\\lib\\site-packages\\IPython\\core\\magics\\execution.py:761: DtypeWarning: Columns (0,1,3,15,16,17,18,19,20,21,23,30,34,38,42,52,53,55,56,57,58,62,63,69) have mixed types. Specify dtype option on import or set low_memory=False.\n",
      "  exit_ignore=exit_ignore)\n"
     ]
    },
    {
     "name": "stdout",
     "output_type": "stream",
     "text": [
      "0\n",
      "****************************************\n",
      "13 / 76 completed at: \n",
      " 2018-07-22 00:51:14.397035 \n",
      "EDP_BE2016_EAR2007_LOGEMENT     .CSV\n",
      "0\n",
      "****************************************\n",
      "14 / 76 completed at: \n",
      " 2018-07-22 00:51:15.137618 \n",
      "EDP_BE2016_EAR2008_FAMILLE      .CSV\n",
      "0\n",
      "****************************************\n",
      "15 / 76 completed at: \n",
      " 2018-07-22 00:51:15.508078 \n",
      "EDP_BE2016_EAR2008_INDIVIDU     .CSV\n",
      "0\n",
      "****************************************\n",
      "16 / 76 completed at: \n",
      " 2018-07-22 00:51:29.567864 \n",
      "EDP_BE2016_EAR2008_LOGEMENT     .CSV\n",
      "0\n",
      "****************************************\n",
      "17 / 76 completed at: \n",
      " 2018-07-22 00:51:31.888893 \n",
      "EDP_BE2016_EAR2009_FAMILLE      .CSV\n",
      "0\n",
      "****************************************\n",
      "18 / 76 completed at: \n",
      " 2018-07-22 00:51:32.405845 \n",
      "EDP_BE2016_EAR2009_INDIVIDU     .CSV\n"
     ]
    },
    {
     "name": "stderr",
     "output_type": "stream",
     "text": [
      "C:\\Users\\IMPTEMP_A_PACIFIC\\Desktop\\WinPython-64bit-3.6.3.0Qt5\\python-3.6.3.amd64\\lib\\site-packages\\IPython\\core\\magics\\execution.py:761: DtypeWarning: Columns (0,1,2,3,9,15,16,17,18,19,20,21,23,30,34,38,39,42,45,46,47,52,53,55,56,57,58,62,63,69) have mixed types. Specify dtype option on import or set low_memory=False.\n",
      "  exit_ignore=exit_ignore)\n"
     ]
    },
    {
     "name": "stdout",
     "output_type": "stream",
     "text": [
      "0\n",
      "****************************************\n",
      "19 / 76 completed at: \n",
      " 2018-07-22 00:51:48.920259 \n",
      "EDP_BE2016_EAR2009_LOGEMENT     .CSV\n",
      "0\n",
      "****************************************\n",
      "20 / 76 completed at: \n",
      " 2018-07-22 00:51:51.476291 \n",
      "EDP_BE2016_EAR2010_FAMILLE      .CSV\n",
      "0\n",
      "****************************************\n",
      "21 / 76 completed at: \n",
      " 2018-07-22 00:51:51.884250 \n",
      "EDP_BE2016_EAR2010_INDIVIDU     .CSV\n"
     ]
    },
    {
     "name": "stderr",
     "output_type": "stream",
     "text": [
      "C:\\Users\\IMPTEMP_A_PACIFIC\\Desktop\\WinPython-64bit-3.6.3.0Qt5\\python-3.6.3.amd64\\lib\\site-packages\\IPython\\core\\magics\\execution.py:761: DtypeWarning: Columns (15,16,17,18,19,20,21,23,30,34,38,42,52,53,55,56,57,58,62,63,69) have mixed types. Specify dtype option on import or set low_memory=False.\n",
      "  exit_ignore=exit_ignore)\n",
      "C:\\Users\\IMPTEMP_A_PACIFIC\\Desktop\\WinPython-64bit-3.6.3.0Qt5\\python-3.6.3.amd64\\lib\\site-packages\\pandas\\core\\generic.py:1471: PerformanceWarning: \n",
      "your performance may suffer as PyTables will pickle object types that it cannot\n",
      "map directly to c-types [inferred_type->mixed-integer,key->block2_values] [items->['ANAR', 'APAF', 'ARRIV', 'CIL', 'CPOP', 'CRP_C_C', 'CRP_C_R', 'CS', 'DCETUF', 'DCLT', 'DCNAI', 'DCRAN', 'DEPCOM_CODE', 'DIPL', 'DISTIL_CODE', 'EMPL', 'ETUD', 'FIL', 'ILETUD', 'ILTD', 'IMMI', 'INATCC', 'IPRM', 'IRAND', 'IRIS_ILOT', 'LIENF', 'LPRF', 'LPRM', 'MOCO', 'MODV', 'NAF', 'NATE', 'NATE_C_C', 'NATN', 'NATN_C_C', 'NUMF', 'PNAI', 'PNAI_C_C', 'POSP', 'PRAN', 'PRAN_C_C', 'PROF', 'RECH', 'REGNAI', 'TP']]\n",
      "\n",
      "  return pytables.to_hdf(path_or_buf, key, self, **kwargs)\n"
     ]
    },
    {
     "name": "stdout",
     "output_type": "stream",
     "text": [
      "0\n",
      "****************************************\n",
      "22 / 76 completed at: \n",
      " 2018-07-22 00:52:07.340951 \n",
      "EDP_BE2016_EAR2010_LOGEMENT     .CSV\n"
     ]
    },
    {
     "name": "stderr",
     "output_type": "stream",
     "text": [
      "C:\\Users\\IMPTEMP_A_PACIFIC\\Desktop\\WinPython-64bit-3.6.3.0Qt5\\python-3.6.3.amd64\\lib\\site-packages\\IPython\\core\\magics\\execution.py:761: DtypeWarning: Columns (52,54) have mixed types. Specify dtype option on import or set low_memory=False.\n",
      "  exit_ignore=exit_ignore)\n",
      "C:\\Users\\IMPTEMP_A_PACIFIC\\Desktop\\WinPython-64bit-3.6.3.0Qt5\\python-3.6.3.amd64\\lib\\site-packages\\pandas\\core\\generic.py:1471: PerformanceWarning: \n",
      "your performance may suffer as PyTables will pickle object types that it cannot\n",
      "map directly to c-types [inferred_type->mixed-integer,key->block2_values] [items->['ACHL', 'AEMM', 'AGERM', 'ARRIVM', 'CCOM', 'CHFL', 'COUPLEM', 'DIPLM', 'ETUDM', 'HLML', 'IMMIM', 'INAIM', 'INATM', 'IRANDM', 'MATRM', 'NATEM', 'NATNM', 'NBPI', 'NPER', 'PNAIM', 'PRANM', 'RECHM', 'SANI', 'SEXEM', 'SFM', 'STOC', 'TPM', 'TYPACTM', 'TYPMD', 'DEPCOM_CODE', 'CIL', 'IRIS_ILOT', 'FIL']]\n",
      "\n",
      "  return pytables.to_hdf(path_or_buf, key, self, **kwargs)\n"
     ]
    },
    {
     "name": "stdout",
     "output_type": "stream",
     "text": [
      "0\n",
      "****************************************\n",
      "23 / 76 completed at: \n",
      " 2018-07-22 00:52:10.258989 \n",
      "EDP_BE2016_EAR2011_FAMILLE      .CSV\n"
     ]
    },
    {
     "name": "stderr",
     "output_type": "stream",
     "text": [
      "C:\\Users\\IMPTEMP_A_PACIFIC\\Desktop\\WinPython-64bit-3.6.3.0Qt5\\python-3.6.3.amd64\\lib\\site-packages\\pandas\\core\\generic.py:1471: PerformanceWarning: \n",
      "your performance may suffer as PyTables will pickle object types that it cannot\n",
      "map directly to c-types [inferred_type->mixed-integer,key->block2_values] [items->['ID_FAM_DIFF']]\n",
      "\n",
      "  return pytables.to_hdf(path_or_buf, key, self, **kwargs)\n"
     ]
    },
    {
     "name": "stdout",
     "output_type": "stream",
     "text": [
      "0\n",
      "****************************************\n",
      "24 / 76 completed at: \n",
      " 2018-07-22 00:52:10.671994 \n",
      "EDP_BE2016_EAR2011_INDIVIDU     .CSV\n"
     ]
    },
    {
     "name": "stderr",
     "output_type": "stream",
     "text": [
      "C:\\Users\\IMPTEMP_A_PACIFIC\\Desktop\\WinPython-64bit-3.6.3.0Qt5\\python-3.6.3.amd64\\lib\\site-packages\\IPython\\core\\magics\\execution.py:761: DtypeWarning: Columns (0,15,16,17,18,19,20,21,23,30,34,38,42,52,53,55,56,57,58,62,63,69) have mixed types. Specify dtype option on import or set low_memory=False.\n",
      "  exit_ignore=exit_ignore)\n",
      "C:\\Users\\IMPTEMP_A_PACIFIC\\Desktop\\WinPython-64bit-3.6.3.0Qt5\\python-3.6.3.amd64\\lib\\site-packages\\pandas\\core\\generic.py:1471: PerformanceWarning: \n",
      "your performance may suffer as PyTables will pickle object types that it cannot\n",
      "map directly to c-types [inferred_type->mixed-integer,key->block2_values] [items->['ID_FAM_DIFF', 'ANAR', 'APAF', 'ARRIV', 'CIL', 'CPOP', 'CRP_C_C', 'CRP_C_R', 'CS', 'DCETUF', 'DCLT', 'DCNAI', 'DCRAN', 'DEPCOM_CODE', 'DIPL', 'DISTIL_CODE', 'EMPL', 'ETUD', 'FIL', 'ILETUD', 'ILTD', 'IMMI', 'INATCC', 'IPRM', 'IRAND', 'IRIS_ILOT', 'LIENF', 'LPRF', 'LPRM', 'MOCO', 'MODV', 'NAF', 'NATE', 'NATE_C_C', 'NATN', 'NATN_C_C', 'NUMF', 'PNAI', 'PNAI_C_C', 'POSP', 'PRAN', 'PRAN_C_C', 'PROF', 'RECH', 'REGNAI', 'TP']]\n",
      "\n",
      "  return pytables.to_hdf(path_or_buf, key, self, **kwargs)\n"
     ]
    },
    {
     "name": "stdout",
     "output_type": "stream",
     "text": [
      "0\n",
      "****************************************\n",
      "25 / 76 completed at: \n",
      " 2018-07-22 00:52:26.181911 \n",
      "EDP_BE2016_EAR2011_LOGEMENT     .CSV\n",
      "0\n",
      "****************************************\n",
      "26 / 76 completed at: \n",
      " 2018-07-22 00:52:29.122950 \n",
      "EDP_BE2016_EAR2012_FAMILLE      .CSV\n",
      "0\n",
      "****************************************\n",
      "27 / 76 completed at: \n",
      " 2018-07-22 00:52:29.552424 \n",
      "EDP_BE2016_EAR2012_INDIVIDU     .CSV\n"
     ]
    },
    {
     "name": "stderr",
     "output_type": "stream",
     "text": [
      "C:\\Users\\IMPTEMP_A_PACIFIC\\Desktop\\WinPython-64bit-3.6.3.0Qt5\\python-3.6.3.amd64\\lib\\site-packages\\IPython\\core\\magics\\execution.py:761: DtypeWarning: Columns (0,15,16,17,18,19,20,21,23,30,34,38,42,52,53,55,56,57,58,62,63) have mixed types. Specify dtype option on import or set low_memory=False.\n",
      "  exit_ignore=exit_ignore)\n",
      "C:\\Users\\IMPTEMP_A_PACIFIC\\Desktop\\WinPython-64bit-3.6.3.0Qt5\\python-3.6.3.amd64\\lib\\site-packages\\pandas\\core\\generic.py:1471: PerformanceWarning: \n",
      "your performance may suffer as PyTables will pickle object types that it cannot\n",
      "map directly to c-types [inferred_type->mixed-integer,key->block2_values] [items->['ID_FAM_DIFF', 'ANAR', 'APAF', 'ARRIV', 'CIL', 'CPOP', 'CRP_C_C', 'CRP_C_R', 'CS', 'DCETUF', 'DCLT', 'DCNAI', 'DCRAN', 'DEPCOM_CODE', 'DIPL', 'DISTIL_CODE', 'EMPL', 'ETUD', 'FIL', 'ILETUD', 'ILTD', 'IMMI', 'INATCC', 'IPRM', 'IRAND', 'IRIS_ILOT', 'LIENF', 'LPRF', 'LPRM', 'MOCO', 'MODV', 'NAF', 'NATE', 'NATE_C_C', 'NATN', 'NATN_C_C', 'NUMF', 'PNAI', 'PNAI_C_C', 'POSP', 'PRAN', 'PROF', 'RECH', 'REGNAI', 'TP']]\n",
      "\n",
      "  return pytables.to_hdf(path_or_buf, key, self, **kwargs)\n"
     ]
    },
    {
     "name": "stdout",
     "output_type": "stream",
     "text": [
      "0\n",
      "****************************************\n",
      "28 / 76 completed at: \n",
      " 2018-07-22 00:52:44.912365 \n",
      "EDP_BE2016_EAR2012_LOGEMENT     .CSV\n",
      "0\n",
      "****************************************\n",
      "29 / 76 completed at: \n",
      " 2018-07-22 00:52:47.772404 \n",
      "EDP_BE2016_EAR2013_FAMILLE      .CSV\n",
      "0\n",
      "****************************************\n",
      "30 / 76 completed at: \n",
      " 2018-07-22 00:52:48.203292 \n",
      "EDP_BE2016_EAR2013_INDIVIDU     .CSV\n",
      "0\n",
      "****************************************\n",
      "31 / 76 completed at: \n",
      " 2018-07-22 00:53:03.874290 \n",
      "EDP_BE2016_EAR2013_LOGEMENT     .CSV\n",
      "0\n",
      "****************************************\n",
      "32 / 76 completed at: \n",
      " 2018-07-22 00:53:07.002330 \n",
      "EDP_BE2016_EAR2014_FAMILLE      .CSV\n",
      "0\n",
      "****************************************\n",
      "33 / 76 completed at: \n",
      " 2018-07-22 00:53:07.428336 \n",
      "EDP_BE2016_EAR2014_INDIVIDU     .CSV\n",
      "0\n",
      "****************************************\n",
      "34 / 76 completed at: \n",
      " 2018-07-22 00:53:22.788989 \n",
      "EDP_BE2016_EAR2014_LOGEMENT     .CSV\n",
      "0\n",
      "****************************************\n",
      "35 / 76 completed at: \n",
      " 2018-07-22 00:53:25.858031 \n",
      "EDP_BE2016_EAR2015_FAMILLE      .CSV\n",
      "0\n",
      "****************************************\n",
      "36 / 76 completed at: \n",
      " 2018-07-22 00:53:26.240403 \n",
      "EDP_BE2016_EAR2015_INDIVIDU     .CSV\n"
     ]
    },
    {
     "name": "stderr",
     "output_type": "stream",
     "text": [
      "C:\\Users\\IMPTEMP_A_PACIFIC\\Desktop\\WinPython-64bit-3.6.3.0Qt5\\python-3.6.3.amd64\\lib\\site-packages\\IPython\\core\\magics\\execution.py:761: DtypeWarning: Columns (13,16,17,18,19,21,23,30,34,36,38,42,52,53,55,56,58,62,63,69,80) have mixed types. Specify dtype option on import or set low_memory=False.\n",
      "  exit_ignore=exit_ignore)\n",
      "C:\\Users\\IMPTEMP_A_PACIFIC\\Desktop\\WinPython-64bit-3.6.3.0Qt5\\python-3.6.3.amd64\\lib\\site-packages\\pandas\\core\\generic.py:1471: PerformanceWarning: \n",
      "your performance may suffer as PyTables will pickle object types that it cannot\n",
      "map directly to c-types [inferred_type->mixed-integer,key->block2_values] [items->['ANAR', 'APAF', 'ARRIV', 'CIL', 'COUPLE', 'CRP_C_C', 'CRP_C_R', 'CS', 'DCETUF', 'DCLT', 'DCNAI', 'DCRAN', 'DEPCOM_CODE', 'DIPL', 'EMPL', 'ETUD', 'FIL', 'ILETUD', 'ILTD', 'IMMI', 'INAT', 'INATCC', 'IPRM', 'IRAND', 'IRIS_ILOT', 'LIENF', 'LPRF', 'LPRM', 'MOCO', 'MODV', 'NAF', 'NATE', 'NATE_C_C', 'NATN', 'NATN_C_C', 'NUMF', 'PNAI', 'PNAI_C_C', 'POSP', 'PRAN', 'PRAN_C_C', 'PROF', 'RECH', 'REGRAN', 'TP', 'TYPACT']]\n",
      "\n",
      "  return pytables.to_hdf(path_or_buf, key, self, **kwargs)\n"
     ]
    },
    {
     "name": "stdout",
     "output_type": "stream",
     "text": [
      "0\n",
      "****************************************\n",
      "37 / 76 completed at: \n",
      " 2018-07-22 00:53:41.828483 \n",
      "EDP_BE2016_EAR2015_LOGEMENT     .CSV\n"
     ]
    },
    {
     "name": "stderr",
     "output_type": "stream",
     "text": [
      "C:\\Users\\IMPTEMP_A_PACIFIC\\Desktop\\WinPython-64bit-3.6.3.0Qt5\\python-3.6.3.amd64\\lib\\site-packages\\pandas\\core\\generic.py:1471: PerformanceWarning: \n",
      "your performance may suffer as PyTables will pickle object types that it cannot\n",
      "map directly to c-types [inferred_type->mixed-integer,key->block2_values] [items->['ACHL', 'AEMM', 'AGERM', 'ARRIVM', 'CATL', 'CHFL', 'COUPLEM', 'DIPLM', 'ETUDM', 'HLML', 'ICM', 'IMMIM', 'INAIM', 'INATM', 'IRANDM', 'MATRM', 'NATEM', 'NATNM', 'NBPI', 'NPER', 'PNAIM', 'PRANM', 'RECHM', 'SANI', 'SEXEM', 'SFM', 'STOC', 'SURF', 'TPM', 'TYPACTM', 'TYPL', 'TYPMD', 'DEPCOM_CODE', 'CIL', 'IRIS_ILOT', 'FIL']]\n",
      "\n",
      "  return pytables.to_hdf(path_or_buf, key, self, **kwargs)\n"
     ]
    },
    {
     "name": "stdout",
     "output_type": "stream",
     "text": [
      "0\n",
      "****************************************\n",
      "38 / 76 completed at: \n",
      " 2018-07-22 00:53:44.892523 \n",
      "EDP_BE2016_EAR2016_FAMILLE      .CSV\n",
      "0\n",
      "****************************************\n",
      "39 / 76 completed at: \n",
      " 2018-07-22 00:53:45.265527 \n",
      "EDP_BE2016_EAR2016_INDIVIDU     .CSV\n"
     ]
    },
    {
     "name": "stderr",
     "output_type": "stream",
     "text": [
      "C:\\Users\\IMPTEMP_A_PACIFIC\\Desktop\\WinPython-64bit-3.6.3.0Qt5\\python-3.6.3.amd64\\lib\\site-packages\\pandas\\core\\generic.py:1471: PerformanceWarning: \n",
      "your performance may suffer as PyTables will pickle object types that it cannot\n",
      "map directly to c-types [inferred_type->mixed-integer,key->block2_values] [items->['ANAR', 'APAF', 'ARRIV', 'CIL', 'COUPLE', 'CRP_C_C', 'CRP_C_R', 'CS', 'DCETUF', 'DCLT', 'DCNAI', 'DCRAN', 'DEPCOM_CODE', 'DIPL', 'EMPL', 'ETUD', 'FIL', 'ILETUD', 'ILTD', 'IMMI', 'INAT', 'INATCC', 'IPRM', 'IRAND', 'IRIS_ILOT', 'LIENF', 'LPRF', 'LPRM', 'MOCO', 'MODV', 'NAF', 'NATE', 'NATE_C_C', 'NATN', 'NATN_C_C', 'NATN_C_R', 'NUMF', 'NUMF_R', 'PNAI', 'PNAI_C_C', 'POSP', 'PRAN', 'PRAN_C_C', 'PROF', 'RECH', 'REGRAN', 'TP', 'TYPACT', 'CSA', 'PROFA']]\n",
      "\n",
      "  return pytables.to_hdf(path_or_buf, key, self, **kwargs)\n"
     ]
    },
    {
     "name": "stdout",
     "output_type": "stream",
     "text": [
      "0\n",
      "****************************************\n",
      "40 / 76 completed at: \n",
      " 2018-07-22 00:54:01.591872 \n",
      "EDP_BE2016_EAR2016_LOGEMENT     .CSV\n"
     ]
    },
    {
     "name": "stderr",
     "output_type": "stream",
     "text": [
      "C:\\Users\\IMPTEMP_A_PACIFIC\\Desktop\\WinPython-64bit-3.6.3.0Qt5\\python-3.6.3.amd64\\lib\\site-packages\\pandas\\core\\generic.py:1471: PerformanceWarning: \n",
      "your performance may suffer as PyTables will pickle object types that it cannot\n",
      "map directly to c-types [inferred_type->mixed-integer,key->block2_values] [items->['ACHL', 'AEMM', 'AGERM', 'ARRIVM', 'CATL', 'CHFL', 'CHFL_R', 'COUPLEM', 'DIPLM', 'ETUDM', 'HLML', 'ICM', 'IMMIM', 'INAIM', 'INATM', 'IRANDM', 'MATRM', 'NATEM', 'NATNM', 'NBPI', 'NPER', 'PNAIM', 'PRANM', 'RECHM', 'SANI', 'SEXEM', 'SFM', 'STOC', 'SURF', 'TPM', 'TYPACTM', 'TYPL', 'TYPMD', 'DEPCOM_CODE', 'CIL', 'IRIS_ILOT', 'FIL']]\n",
      "\n",
      "  return pytables.to_hdf(path_or_buf, key, self, **kwargs)\n"
     ]
    },
    {
     "name": "stdout",
     "output_type": "stream",
     "text": [
      "0\n",
      "****************************************\n",
      "41 / 76 completed at: \n",
      " 2018-07-22 00:54:04.642548 \n",
      "EDP_BE2016_FE                   .CSV\n",
      "0\n",
      "****************************************\n",
      "42 / 76 completed at: \n",
      " 2018-07-22 00:54:11.090602 \n",
      "EDP_BE2016_FISC_INDIVIDU_2011   .CSV\n"
     ]
    },
    {
     "name": "stderr",
     "output_type": "stream",
     "text": [
      "C:\\Users\\IMPTEMP_A_PACIFIC\\Desktop\\WinPython-64bit-3.6.3.0Qt5\\python-3.6.3.amd64\\lib\\site-packages\\pandas\\core\\generic.py:1471: PerformanceWarning: \n",
      "your performance may suffer as PyTables will pickle object types that it cannot\n",
      "map directly to c-types [inferred_type->mixed,key->block2_values] [items->['ORDREFIP', 'TYPE_FISC', 'CODNAIS', 'CIDECI', 'ZOXYZD', 'T_CHARGE', 'CNCOIPV', 'CSDEP']]\n",
      "\n",
      "  return pytables.to_hdf(path_or_buf, key, self, **kwargs)\n"
     ]
    },
    {
     "name": "stdout",
     "output_type": "stream",
     "text": [
      "0\n",
      "****************************************\n",
      "43 / 76 completed at: \n",
      " 2018-07-22 00:54:37.268158 \n",
      "EDP_BE2016_FISC_INDIVIDU_2012   .CSV\n",
      "0\n",
      "****************************************\n",
      "44 / 76 completed at: \n",
      " 2018-07-22 00:55:04.237138 \n",
      "EDP_BE2016_FISC_INDIVIDU_2013   .CSV\n",
      "0\n",
      "****************************************\n",
      "45 / 76 completed at: \n",
      " 2018-07-22 00:55:31.768914 \n",
      "EDP_BE2016_FISC_INDIVIDU_2014   .CSV\n",
      "0\n",
      "****************************************\n",
      "46 / 76 completed at: \n",
      " 2018-07-22 00:55:59.815470 \n",
      "EDP_BE2016_FISC_INDIVIDU_2015   .CSV\n"
     ]
    },
    {
     "name": "stderr",
     "output_type": "stream",
     "text": [
      "C:\\Users\\IMPTEMP_A_PACIFIC\\Desktop\\WinPython-64bit-3.6.3.0Qt5\\python-3.6.3.amd64\\lib\\site-packages\\IPython\\core\\magics\\execution.py:761: DtypeWarning: Columns (5,6,10,12,14,15,16) have mixed types. Specify dtype option on import or set low_memory=False.\n",
      "  exit_ignore=exit_ignore)\n",
      "C:\\Users\\IMPTEMP_A_PACIFIC\\Desktop\\WinPython-64bit-3.6.3.0Qt5\\python-3.6.3.amd64\\lib\\site-packages\\pandas\\core\\generic.py:1471: PerformanceWarning: \n",
      "your performance may suffer as PyTables will pickle object types that it cannot\n",
      "map directly to c-types [inferred_type->mixed-integer,key->block2_values] [items->['ORDREFIP', 'TYPE_FISC', 'SEXE', 'CODNAIS', 'CIDECI', 'ZOXYZD', 'T_CHARGE', 'CNCOIPV', 'CSDEP']]\n",
      "\n",
      "  return pytables.to_hdf(path_or_buf, key, self, **kwargs)\n"
     ]
    },
    {
     "name": "stdout",
     "output_type": "stream",
     "text": [
      "0\n",
      "****************************************\n",
      "47 / 76 completed at: \n",
      " 2018-07-22 00:56:29.990224 \n",
      "EDP_BE2016_FISC_INDIVIDU_2016   .CSV\n"
     ]
    },
    {
     "name": "stderr",
     "output_type": "stream",
     "text": [
      "C:\\Users\\IMPTEMP_A_PACIFIC\\Desktop\\WinPython-64bit-3.6.3.0Qt5\\python-3.6.3.amd64\\lib\\site-packages\\IPython\\core\\magics\\execution.py:761: DtypeWarning: Columns (6) have mixed types. Specify dtype option on import or set low_memory=False.\n",
      "  exit_ignore=exit_ignore)\n",
      "C:\\Users\\IMPTEMP_A_PACIFIC\\Desktop\\WinPython-64bit-3.6.3.0Qt5\\python-3.6.3.amd64\\lib\\site-packages\\pandas\\core\\generic.py:1471: PerformanceWarning: \n",
      "your performance may suffer as PyTables will pickle object types that it cannot\n",
      "map directly to c-types [inferred_type->mixed,key->block2_values] [items->['ORDREFIP', 'TYPE_FISC', 'SEXE', 'CODNAIS', 'CIDECI', 'ZOXYZD', 'T_CHARGE', 'CNCOIPV', 'CSDEP']]\n",
      "\n",
      "  return pytables.to_hdf(path_or_buf, key, self, **kwargs)\n"
     ]
    },
    {
     "name": "stdout",
     "output_type": "stream",
     "text": [
      "0\n",
      "****************************************\n",
      "48 / 76 completed at: \n",
      " 2018-07-22 00:57:01.862748 \n",
      "EDP_BE2016_FISC_LOGEMENT_2011   .CSV\n"
     ]
    },
    {
     "name": "stderr",
     "output_type": "stream",
     "text": [
      "C:\\Users\\IMPTEMP_A_PACIFIC\\Desktop\\WinPython-64bit-3.6.3.0Qt5\\python-3.6.3.amd64\\lib\\site-packages\\pandas\\core\\generic.py:1471: PerformanceWarning: \n",
      "your performance may suffer as PyTables will pickle object types that it cannot\n",
      "map directly to c-types [inferred_type->mixed,key->block2_values] [items->['DEP', 'SECCAD', 'OCC', 'DNATLC', 'NATLOC', 'TAX', 'NLOC4', 'EAU', 'EGOUT', 'ELEC', 'GAZ', 'CHAUFF', 'ASCENSEUR']]\n",
      "\n",
      "  return pytables.to_hdf(path_or_buf, key, self, **kwargs)\n"
     ]
    },
    {
     "name": "stdout",
     "output_type": "stream",
     "text": [
      "0\n",
      "****************************************\n",
      "49 / 76 completed at: \n",
      " 2018-07-22 00:57:11.941990 \n",
      "EDP_BE2016_FISC_LOGEMENT_2012   .CSV\n",
      "0\n",
      "****************************************\n",
      "50 / 76 completed at: \n",
      " 2018-07-22 00:57:21.791713 \n",
      "EDP_BE2016_FISC_LOGEMENT_2013   .CSV\n",
      "0\n",
      "****************************************\n",
      "51 / 76 completed at: \n",
      " 2018-07-22 00:57:31.976465 \n",
      "EDP_BE2016_FISC_LOGEMENT_2014   .CSV\n",
      "0\n",
      "****************************************\n",
      "52 / 76 completed at: \n",
      " 2018-07-22 00:57:42.606062 \n",
      "EDP_BE2016_FISC_LOGEMENT_2015   .CSV\n"
     ]
    },
    {
     "name": "stderr",
     "output_type": "stream",
     "text": [
      "C:\\Users\\IMPTEMP_A_PACIFIC\\Desktop\\WinPython-64bit-3.6.3.0Qt5\\python-3.6.3.amd64\\lib\\site-packages\\IPython\\core\\magics\\execution.py:761: DtypeWarning: Columns (33) have mixed types. Specify dtype option on import or set low_memory=False.\n",
      "  exit_ignore=exit_ignore)\n",
      "C:\\Users\\IMPTEMP_A_PACIFIC\\Desktop\\WinPython-64bit-3.6.3.0Qt5\\python-3.6.3.amd64\\lib\\site-packages\\pandas\\core\\generic.py:1471: PerformanceWarning: \n",
      "your performance may suffer as PyTables will pickle object types that it cannot\n",
      "map directly to c-types [inferred_type->mixed,key->block2_values] [items->['DEP', 'SECCAD', 'OCC', 'DNATLC', 'NATLOC', 'TAX', 'NLOC4', 'EAU', 'EGOUT', 'ELEC', 'GAZ', 'CHAUFF', 'ASCENSEUR', 'NUM_IRIS', 'NUM_QPV']]\n",
      "\n",
      "  return pytables.to_hdf(path_or_buf, key, self, **kwargs)\n"
     ]
    },
    {
     "name": "stdout",
     "output_type": "stream",
     "text": [
      "0\n",
      "****************************************\n",
      "53 / 76 completed at: \n",
      " 2018-07-22 00:57:53.966835 \n",
      "EDP_BE2016_FISC_LOGEMENT_2016   .CSV\n"
     ]
    },
    {
     "name": "stderr",
     "output_type": "stream",
     "text": [
      "C:\\Users\\IMPTEMP_A_PACIFIC\\Desktop\\WinPython-64bit-3.6.3.0Qt5\\python-3.6.3.amd64\\lib\\site-packages\\pandas\\core\\generic.py:1471: PerformanceWarning: \n",
      "your performance may suffer as PyTables will pickle object types that it cannot\n",
      "map directly to c-types [inferred_type->mixed,key->block2_values] [items->['DEP', 'SECCAD', 'OCC', 'NATLOC', 'TAX', 'EAU', 'EGOUT', 'ELEC', 'GAZ', 'CHAUFF', 'ASCENSEUR', 'NUM_IRIS', 'NUM_QPV']]\n",
      "\n",
      "  return pytables.to_hdf(path_or_buf, key, self, **kwargs)\n"
     ]
    },
    {
     "name": "stdout",
     "output_type": "stream",
     "text": [
      "0\n",
      "****************************************\n",
      "54 / 76 completed at: \n",
      " 2018-07-22 00:58:05.214410 \n",
      "EDP_BE2016_FISC_REVDET_2011     .CSV\n",
      "0\n",
      "****************************************\n",
      "55 / 76 completed at: \n",
      " 2018-07-22 00:58:10.981871 \n",
      "EDP_BE2016_FISC_REVDET_2012     .CSV\n",
      "0\n",
      "****************************************\n",
      "56 / 76 completed at: \n",
      " 2018-07-22 00:58:16.584373 \n",
      "EDP_BE2016_FISC_REVDET_2013     .CSV\n",
      "0\n",
      "****************************************\n",
      "57 / 76 completed at: \n",
      " 2018-07-22 00:58:22.289717 \n",
      "EDP_BE2016_FISC_REVDET_2014     .CSV\n",
      "0\n",
      "****************************************\n",
      "58 / 76 completed at: \n",
      " 2018-07-22 00:58:27.937097 \n",
      "EDP_BE2016_FISC_REVDET_2015     .CSV\n",
      "0\n",
      "****************************************\n",
      "59 / 76 completed at: \n",
      " 2018-07-22 00:58:33.831756 \n",
      "EDP_BE2016_FISC_REVDET_2016     .CSV\n",
      "0\n",
      "****************************************\n",
      "60 / 76 completed at: \n",
      " 2018-07-22 00:58:39.646533 \n",
      "EDP_BE2016_FISC_REVENU_2011     .CSV\n",
      "0\n",
      "****************************************\n",
      "61 / 76 completed at: \n",
      " 2018-07-22 00:59:11.548624 \n",
      "EDP_BE2016_FISC_REVENU_2012     .CSV\n",
      "0\n",
      "****************************************\n",
      "62 / 76 completed at: \n",
      " 2018-07-22 00:59:43.843589 \n",
      "EDP_BE2016_FISC_REVENU_2013     .CSV\n",
      "0\n",
      "****************************************\n",
      "63 / 76 completed at: \n",
      " 2018-07-22 01:00:17.306163 \n",
      "EDP_BE2016_FISC_REVENU_2014     .CSV\n"
     ]
    },
    {
     "name": "stderr",
     "output_type": "stream",
     "text": [
      "C:\\Users\\IMPTEMP_A_PACIFIC\\Desktop\\WinPython-64bit-3.6.3.0Qt5\\python-3.6.3.amd64\\lib\\site-packages\\IPython\\core\\magics\\execution.py:761: DtypeWarning: Columns (4,5) have mixed types. Specify dtype option on import or set low_memory=False.\n",
      "  exit_ignore=exit_ignore)\n",
      "C:\\Users\\IMPTEMP_A_PACIFIC\\Desktop\\WinPython-64bit-3.6.3.0Qt5\\python-3.6.3.amd64\\lib\\site-packages\\pandas\\core\\generic.py:1471: PerformanceWarning: \n",
      "your performance may suffer as PyTables will pickle object types that it cannot\n",
      "map directly to c-types [inferred_type->mixed-integer,key->block2_values] [items->['DEP', 'DEPCOM', 'I_CHAMPM', 'I_PAUVRE50M', 'I_PAUVRE60M']]\n",
      "\n",
      "  return pytables.to_hdf(path_or_buf, key, self, **kwargs)\n"
     ]
    },
    {
     "name": "stdout",
     "output_type": "stream",
     "text": [
      "0\n",
      "****************************************\n",
      "64 / 76 completed at: \n",
      " 2018-07-22 01:00:50.947668 \n",
      "EDP_BE2016_FISC_REVENU_2015     .CSV\n",
      "0\n",
      "****************************************\n",
      "65 / 76 completed at: \n",
      " 2018-07-22 01:01:24.626141 \n",
      "EDP_BE2016_FISC_REVENU_2016     .CSV\n",
      "0\n",
      "****************************************\n",
      "66 / 76 completed at: \n",
      " 2018-07-22 01:01:57.585270 \n",
      "EDP_BE2016_INDIVIDU             .CSV\n"
     ]
    },
    {
     "name": "stderr",
     "output_type": "stream",
     "text": [
      "C:\\Users\\IMPTEMP_A_PACIFIC\\Desktop\\WinPython-64bit-3.6.3.0Qt5\\python-3.6.3.amd64\\lib\\site-packages\\IPython\\core\\magics\\execution.py:761: DtypeWarning: Columns (0,2,5,30,31,32,33,34,35,36) have mixed types. Specify dtype option on import or set low_memory=False.\n",
      "  exit_ignore=exit_ignore)\n",
      "C:\\Users\\IMPTEMP_A_PACIFIC\\Desktop\\WinPython-64bit-3.6.3.0Qt5\\python-3.6.3.amd64\\lib\\site-packages\\pandas\\core\\generic.py:1471: PerformanceWarning: \n",
      "your performance may suffer as PyTables will pickle object types that it cannot\n",
      "map directly to c-types [inferred_type->mixed-integer,key->block1_values] [items->['ID_DIFF', 'NAI_DATE', 'NAI_LIEU', 'SEXE', 'DEC_DATE', 'DEC_LIEU', 'MERE_LIEU_NAIS_DEPCOM', 'PERE_LIEU_NAIS_DEPCOM', 'MERE_LIEU_NAIS_INDIC', 'PERE_LIEU_NAIS_INDIC', 'MERE_IND_NAIS_DATE', 'PERE_IND_NAIS_DATE', 'IND_JUMEAU_INDIC']]\n",
      "\n",
      "  return pytables.to_hdf(path_or_buf, key, self, **kwargs)\n"
     ]
    },
    {
     "name": "stdout",
     "output_type": "stream",
     "text": [
      "0\n",
      "****************************************\n",
      "67 / 76 completed at: \n",
      " 2018-07-22 01:02:18.516812 \n",
      "EDP_BE2016_MARIAGE              .CSV\n"
     ]
    },
    {
     "name": "stderr",
     "output_type": "stream",
     "text": [
      "C:\\Users\\IMPTEMP_A_PACIFIC\\Desktop\\WinPython-64bit-3.6.3.0Qt5\\python-3.6.3.amd64\\lib\\site-packages\\IPython\\core\\magics\\execution.py:761: DtypeWarning: Columns (0,1,3,9,10,11,12) have mixed types. Specify dtype option on import or set low_memory=False.\n",
      "  exit_ignore=exit_ignore)\n",
      "C:\\Users\\IMPTEMP_A_PACIFIC\\Desktop\\WinPython-64bit-3.6.3.0Qt5\\python-3.6.3.amd64\\lib\\site-packages\\pandas\\core\\generic.py:1471: PerformanceWarning: \n",
      "your performance may suffer as PyTables will pickle object types that it cannot\n",
      "map directly to c-types [inferred_type->mixed-integer,key->block2_values] [items->['ID_DIFF', 'ID_EVT_DIFF', 'EVT_TYPE', 'MAR_LIEU_DEPCOM', 'MAR_DATE', 'EDP_SEXE', 'CONJ_SEXE', 'EDP_NAI_DATE', 'CONJ_NAI_DATE', 'EDP_NAI_LIEU_DEPCOM', 'CONJ_NAI_LIEU_DEPCOM', 'EDP_NAT_CODE', 'CONJ_NAT_CODE', 'EDP_AVANT_MAT_ETAT', 'CONJ_AVANT_MAT_ETAT', 'EDP_MAT_ETAT_PREC_DATE', 'CONJ_MAT_ETAT_PREC_DATE', 'CTX_LIEU_DEPCOM']]\n",
      "\n",
      "  return pytables.to_hdf(path_or_buf, key, self, **kwargs)\n"
     ]
    },
    {
     "name": "stdout",
     "output_type": "stream",
     "text": [
      "0\n",
      "****************************************\n",
      "68 / 76 completed at: \n",
      " 2018-07-22 01:02:21.843876 \n",
      "EDP_BE2016_NAISSANCE            .CSV\n"
     ]
    },
    {
     "name": "stderr",
     "output_type": "stream",
     "text": [
      "C:\\Users\\IMPTEMP_A_PACIFIC\\Desktop\\WinPython-64bit-3.6.3.0Qt5\\python-3.6.3.amd64\\lib\\site-packages\\IPython\\core\\magics\\execution.py:761: DtypeWarning: Columns (0,1,5,8,9,10,12,13,14,15,16,18,22,38) have mixed types. Specify dtype option on import or set low_memory=False.\n",
      "  exit_ignore=exit_ignore)\n",
      "C:\\Users\\IMPTEMP_A_PACIFIC\\Desktop\\WinPython-64bit-3.6.3.0Qt5\\python-3.6.3.amd64\\lib\\site-packages\\pandas\\core\\generic.py:1471: PerformanceWarning: \n",
      "your performance may suffer as PyTables will pickle object types that it cannot\n",
      "map directly to c-types [inferred_type->mixed-integer,key->block2_values] [items->['ID_DIFF', 'ID_EVT_DIFF', 'EVT_TYPE', 'ENF_IND_SEXE', 'ENF_IND_NAI_DATE', 'ENF_IND_NAI_LIEU_DEPCOM', 'PERE_IND_NAI_DATE', 'MERE_IND_NAI_DATE', 'PERE_IND_NAI_LIEU_DEPCOM', 'MERE_IND_NAI_LIEU_DEPCOM', 'PERE_ADR_LIEU_DEPCOM', 'MERE_ADR_LIEU_DEPCOM', 'ADRDOMPAR', 'PERE_NAT_CODE', 'MERE_NAT_CODE', 'PERE_CS_CODE', 'MERE_CS_CODE', 'MAR_DATE', 'MAR_LIEU_DEPCOM', 'CTX_CATACC', 'CTX_MERE_VIVANT_ENF_PREC_NBR', 'CTX_NAV_PREC_DATE']]\n",
      "\n",
      "  return pytables.to_hdf(path_or_buf, key, self, **kwargs)\n"
     ]
    },
    {
     "name": "stdout",
     "output_type": "stream",
     "text": [
      "0\n",
      "****************************************\n",
      "69 / 76 completed at: \n",
      " 2018-07-22 01:02:27.586569 \n",
      "EDP_BE2016_PANACT               .CSV\n"
     ]
    },
    {
     "name": "stderr",
     "output_type": "stream",
     "text": [
      "C:\\Users\\IMPTEMP_A_PACIFIC\\Desktop\\WinPython-64bit-3.6.3.0Qt5\\python-3.6.3.amd64\\lib\\site-packages\\IPython\\core\\magics\\execution.py:761: DtypeWarning: Columns (6,7,9,10,11,12,13,17,18,24,25,26) have mixed types. Specify dtype option on import or set low_memory=False.\n",
      "  exit_ignore=exit_ignore)\n",
      "C:\\Users\\IMPTEMP_A_PACIFIC\\Desktop\\WinPython-64bit-3.6.3.0Qt5\\python-3.6.3.amd64\\lib\\site-packages\\pandas\\core\\generic.py:1471: PerformanceWarning: \n",
      "your performance may suffer as PyTables will pickle object types that it cannot\n",
      "map directly to c-types [inferred_type->mixed-integer,key->block2_values] [items->['DEPR', 'COMR', 'DEPT', 'COMT', 'CONTRAT_TRAVAIL', 'CS1', 'CS2', 'PCS4', 'CAT', 'CE', 'A38', 'APE40', 'NES5']]\n",
      "\n",
      "  return pytables.to_hdf(path_or_buf, key, self, **kwargs)\n"
     ]
    },
    {
     "name": "stdout",
     "output_type": "stream",
     "text": [
      "0\n",
      "****************************************\n",
      "70 / 76 completed at: \n",
      " 2018-07-22 01:03:48.112172 \n",
      "EDP_BE2016_RP1968               .CSV\n"
     ]
    },
    {
     "name": "stderr",
     "output_type": "stream",
     "text": [
      "C:\\Users\\IMPTEMP_A_PACIFIC\\Desktop\\WinPython-64bit-3.6.3.0Qt5\\python-3.6.3.amd64\\lib\\site-packages\\IPython\\core\\magics\\execution.py:761: DtypeWarning: Columns (0,2,4,5,9,10,12,14,17,21,23,26,28,29,41,42,43,44,45,47) have mixed types. Specify dtype option on import or set low_memory=False.\n",
      "  exit_ignore=exit_ignore)\n",
      "C:\\Users\\IMPTEMP_A_PACIFIC\\Desktop\\WinPython-64bit-3.6.3.0Qt5\\python-3.6.3.amd64\\lib\\site-packages\\pandas\\core\\generic.py:1471: PerformanceWarning: \n",
      "your performance may suffer as PyTables will pickle object types that it cannot\n",
      "map directly to c-types [inferred_type->mixed-integer,key->block2_values] [items->['ID_DIFF', 'ID_EVT_DIFF', 'NUMBI68', 'CP68', 'L68', 'ILN68', 'DN68', 'N68', 'CRA68', 'AI68', 'CS68', 'AE68', 'DLT68', 'CLT68', 'D68', 'C68', 'FJ68', 'ILT68', 'MT68', 'P68', 'QLT68', 'SE68']]\n",
      "\n",
      "  return pytables.to_hdf(path_or_buf, key, self, **kwargs)\n"
     ]
    },
    {
     "name": "stdout",
     "output_type": "stream",
     "text": [
      "0\n",
      "****************************************\n",
      "71 / 76 completed at: \n",
      " 2018-07-22 01:03:53.252113 \n",
      "EDP_BE2016_RP1975               .CSV\n"
     ]
    },
    {
     "name": "stderr",
     "output_type": "stream",
     "text": [
      "C:\\Users\\IMPTEMP_A_PACIFIC\\Desktop\\WinPython-64bit-3.6.3.0Qt5\\python-3.6.3.amd64\\lib\\site-packages\\IPython\\core\\magics\\execution.py:761: DtypeWarning: Columns (0,2,8,19,23,26,27,34,38,40,42,45) have mixed types. Specify dtype option on import or set low_memory=False.\n",
      "  exit_ignore=exit_ignore)\n",
      "C:\\Users\\IMPTEMP_A_PACIFIC\\Desktop\\WinPython-64bit-3.6.3.0Qt5\\python-3.6.3.amd64\\lib\\site-packages\\pandas\\core\\generic.py:1471: PerformanceWarning: \n",
      "your performance may suffer as PyTables will pickle object types that it cannot\n",
      "map directly to c-types [inferred_type->mixed-integer,key->block2_values] [items->['ID_DIFF', 'ID_EVT_DIFF', 'NUMBI75', 'L75', 'DN75', 'PN_75', 'N75', 'DRA75', 'CRA75', 'TURA_75', 'DEG75', 'CS75', 'AE75', 'ST75', 'DLT75', 'CLT75', 'STDF_75', 'STDCJ_75', 'PNCJ_75', 'AICCJ_75', 'CRACJ_75', 'PRACJ_75']]\n",
      "\n",
      "  return pytables.to_hdf(path_or_buf, key, self, **kwargs)\n"
     ]
    },
    {
     "name": "stdout",
     "output_type": "stream",
     "text": [
      "0\n",
      "****************************************\n",
      "72 / 76 completed at: \n",
      " 2018-07-22 01:04:00.334356 \n",
      "EDP_BE2016_RP1982               .CSV\n"
     ]
    },
    {
     "name": "stderr",
     "output_type": "stream",
     "text": [
      "C:\\Users\\IMPTEMP_A_PACIFIC\\Desktop\\WinPython-64bit-3.6.3.0Qt5\\python-3.6.3.amd64\\lib\\site-packages\\IPython\\core\\magics\\execution.py:761: DtypeWarning: Columns (0,2,10,15,16,18,19,20,21,30,35,38,39,40,41,42,69,70) have mixed types. Specify dtype option on import or set low_memory=False.\n",
      "  exit_ignore=exit_ignore)\n",
      "C:\\Users\\IMPTEMP_A_PACIFIC\\Desktop\\WinPython-64bit-3.6.3.0Qt5\\python-3.6.3.amd64\\lib\\site-packages\\pandas\\core\\generic.py:1471: PerformanceWarning: \n",
      "your performance may suffer as PyTables will pickle object types that it cannot\n",
      "map directly to c-types [inferred_type->mixed-integer,key->block2_values] [items->['ID_DIFF', 'ID_EVT_DIFF', 'NUMBI82', 'ECH82', 'M82', 'DN82', 'RN_82', 'PN_82', 'IN82', 'N82', 'IRA82', 'DRA82', 'PRA_82', 'TURA_82', 'CM1_82', 'CM2_82', 'DES82', 'DIP_82', 'CS82', 'AE82', 'DLT82', 'DLT_82', 'CLT82', 'CLT_82', 'APRO7582', 'NPF_82', 'NMF_82', 'STDPF_82', 'STDMF_82', 'D82', 'D_82']]\n",
      "\n",
      "  return pytables.to_hdf(path_or_buf, key, self, **kwargs)\n"
     ]
    },
    {
     "name": "stdout",
     "output_type": "stream",
     "text": [
      "0\n",
      "****************************************\n",
      "73 / 76 completed at: \n",
      " 2018-07-22 01:04:06.604554 \n",
      "EDP_BE2016_RP1990               .CSV\n"
     ]
    },
    {
     "name": "stderr",
     "output_type": "stream",
     "text": [
      "C:\\Users\\IMPTEMP_A_PACIFIC\\Desktop\\WinPython-64bit-3.6.3.0Qt5\\python-3.6.3.amd64\\lib\\site-packages\\IPython\\core\\magics\\execution.py:761: DtypeWarning: Columns (0,2,4,16,18,20,24,26,27,29,34,38,45,49,59,81,82,102,142,143,144,145,146,147,148,171,172,173,174,175,176,177,178,180,186,187,188,189,190,191,192,218) have mixed types. Specify dtype option on import or set low_memory=False.\n",
      "  exit_ignore=exit_ignore)\n",
      "C:\\Users\\IMPTEMP_A_PACIFIC\\Desktop\\WinPython-64bit-3.6.3.0Qt5\\python-3.6.3.amd64\\lib\\site-packages\\pandas\\core\\generic.py:1471: PerformanceWarning: \n",
      "your performance may suffer as PyTables will pickle object types that it cannot\n",
      "map directly to c-types [inferred_type->mixed-integer,key->block2_values] [items->['ID_DIFF', 'ID_EVT_DIFF', 'NUMBI90', 'TYPBI90', 'M90', 'AN90', 'MN90', 'JN90', 'ILN90', 'DN90', 'DN_90', 'PN90', 'IN90', 'NC_90', 'IRA90', 'DRA_90', 'CRA_90', 'CCRA_90', 'CM290', 'DIP_90', 'RT90', 'DLT_90', 'CS_90', 'P90', 'INAC90', 'NBS90', 'CPF90', 'PA90', 'PUB90', 'SITP90', 'TRAP90', 'TTRAV90', 'ILNM90', 'DNM90', 'DNPF_90', 'DNMF_90', 'DRAPF_90', 'DRAMF_90', 'MN02E90', 'MN03E90', 'MN04E90', 'MN05E90', 'MN06E90', 'MN07E90', 'MN08E90', 'ILN01E90', 'ILN02E90', 'ILN03E90', 'ILN04E90', 'ILN05E90', 'ILN06E90', 'ILN07E90', 'ILN08E90', 'ILN10E90', 'DN01E90', 'DN02E90', 'DN03E90', 'DN04E90', 'DN05E90', 'DN06E90', 'DN07E90', 'D_90', 'TU_90', 'TYPO33']]\n",
      "\n",
      "  return pytables.to_hdf(path_or_buf, key, self, **kwargs)\n"
     ]
    },
    {
     "name": "stdout",
     "output_type": "stream",
     "text": [
      "0\n",
      "****************************************\n",
      "74 / 76 completed at: \n",
      " 2018-07-22 01:04:29.269129 \n",
      "EDP_BE2016_RP1999               .CSV\n"
     ]
    },
    {
     "name": "stderr",
     "output_type": "stream",
     "text": [
      "C:\\Users\\IMPTEMP_A_PACIFIC\\Desktop\\WinPython-64bit-3.6.3.0Qt5\\python-3.6.3.amd64\\lib\\site-packages\\IPython\\core\\magics\\execution.py:761: DtypeWarning: Columns (0,2,24,25,27,28,31,35,36,37,39,40,49,50,57,58,68,69,70,72,108,109,113,114,118,119,148,178,179,180,181,182,183,184,185,192,193,194,195,198,225,227,230,231,233,234,246,247,254,255,258,274,275,319) have mixed types. Specify dtype option on import or set low_memory=False.\n",
      "  exit_ignore=exit_ignore)\n",
      "C:\\Users\\IMPTEMP_A_PACIFIC\\Desktop\\WinPython-64bit-3.6.3.0Qt5\\python-3.6.3.amd64\\lib\\site-packages\\pandas\\core\\generic.py:1471: PerformanceWarning: \n",
      "your performance may suffer as PyTables will pickle object types that it cannot\n",
      "map directly to c-types [inferred_type->mixed-integer,key->block2_values] [items->['ID_DIFF', 'ID_EVT_DIFF', 'NUMBI99', 'TYPBI99', 'DN99', 'DN_99', 'PN99', 'PN_99', 'N99', 'N_99', 'DRA99', 'DRA_99', 'CRA99', 'PRA99', 'PRA_99', 'DETU99', 'CETU99', 'TUETU_99', 'DETU_99', 'NAF99', 'PFLT_99', 'DLT99', 'DLT_99', 'CLT99', 'TULT_99', 'POSP_99', 'NAF36_99', 'NAF_99', 'NAFSS_99', 'DNMF99', 'PNMF99', 'DNPF99', 'PNPF99', 'DNCJ99', 'PNCJ99', 'AN13E99', 'DN01E99', 'DN02E99', 'DN03E99', 'DN04E99', 'DN05E99', 'DN06E99', 'DN07E99', 'DN08E99', 'PN01E99', 'PN02E99', 'PN03E99', 'PN04E99', 'PN07E99', 'NPF_99', 'NMF_99', 'NAFPF_99', 'NAFMF_99', 'DNPF_99', 'PNPF_99', 'DNMF_99', 'PNMF_99', 'PRAF_99', 'DRAPF_99', 'PRAPF_99', 'DRAMF_99', 'PRAMF_99', 'DNM_99', 'DNMC_99', 'PNM_99', 'PNMC_99', 'NM_99', 'DRAM_99', 'DRAMC_99', 'PRAM_99', 'PRAMC_99', 'DLTM_99', 'DLTMC_99', 'POSPM_99', 'POSPC_99', 'NAFM_99', 'NAFMC_99', 'LTYP_99', 'MTYP_99', 'D99', 'TYPCOM27']]\n",
      "\n",
      "  return pytables.to_hdf(path_or_buf, key, self, **kwargs)\n"
     ]
    },
    {
     "name": "stdout",
     "output_type": "stream",
     "text": [
      "0\n",
      "****************************************\n",
      "75 / 76 completed at: \n",
      " 2018-07-22 01:05:01.704932 \n",
      "EDP_BE2016_RP2012_MAYOTTE       .CSV\n"
     ]
    },
    {
     "name": "stderr",
     "output_type": "stream",
     "text": [
      "C:\\Users\\IMPTEMP_A_PACIFIC\\Desktop\\WinPython-64bit-3.6.3.0Qt5\\python-3.6.3.amd64\\lib\\site-packages\\IPython\\core\\magics\\execution.py:761: DtypeWarning: Columns (14,20) have mixed types. Specify dtype option on import or set low_memory=False.\n",
      "  exit_ignore=exit_ignore)\n"
     ]
    },
    {
     "name": "stdout",
     "output_type": "stream",
     "text": [
      "0\n",
      "****************************************\n",
      "76 / 76 completed at: \n",
      " 2018-07-22 01:05:02.594949 \n"
     ]
    },
    {
     "name": "stderr",
     "output_type": "stream",
     "text": [
      "C:\\Users\\IMPTEMP_A_PACIFIC\\Desktop\\WinPython-64bit-3.6.3.0Qt5\\python-3.6.3.amd64\\lib\\site-packages\\pandas\\core\\generic.py:1471: PerformanceWarning: \n",
      "your performance may suffer as PyTables will pickle object types that it cannot\n",
      "map directly to c-types [inferred_type->mixed-integer,key->block2_values] [items->['ID_BI_MAY_DIFF', 'ID_LOG_MAY_DIFF', 'ID_FAM_MAY_DIFF', 'C_NUMF', 'ID_EVT_DIFF', 'FCATIRIS_RESID', 'ARRIV', 'COMMUNE_ETUD', 'COMMUNE_NAIS', 'COMMUNE_RESIDANTER', 'COMMUNE_TRAV', 'COUPLE', 'DEPT_NAIS', 'DEPT_RESIDANTER', 'DIPL_MAY', 'EMPL_COMPL', 'ILETUD_MAY', 'ILT_MAY', 'IRAN_MAY', 'MATR', 'NAFSC08', 'NUMF', 'POSP_MAY', 'PRAN_MAY', 'PROF', 'RECH_MAY', 'SITUAT_MAY', 'STAT_C', 'TP', 'TRANS_MAY', 'VILLAG_ETUD_MAY', 'VILLAG_RESIDANTER_MAY', 'VILLAG_TRAV_MAY']]\n",
      "\n",
      "  return pytables.to_hdf(path_or_buf, key, self, **kwargs)\n"
     ]
    }
   ],
   "source": [
    "%run C:/Users/IMPTEMP_A_PACIFIC/Desktop/EDP_2016/Data/csv_to_hdf_by_chunks_2016.py"
   ]
  },
  {
   "cell_type": "code",
   "execution_count": 8,
   "metadata": {},
   "outputs": [
    {
     "name": "stdout",
     "output_type": "stream",
     "text": [
      "now:  2018-07-22 01:05:02.602949\n",
      "execution_time:  0:14:20.107419\n"
     ]
    }
   ],
   "source": [
    "stop_time_data_creation_from_csv = datetime.datetime.now(); print(\"now: \",stop_time_data_creation_from_csv);\n",
    "execution_time = stop_time_data_creation_from_csv - start_time_data_creation_from_csv; print(\"execution_time: \",execution_time)\n",
    "stop_time = start_time"
   ]
  },
  {
   "cell_type": "markdown",
   "metadata": {},
   "source": [
    "### Data Preparation"
   ]
  },
  {
   "cell_type": "markdown",
   "metadata": {},
   "source": [
    "### Split Dads by years"
   ]
  },
  {
   "cell_type": "code",
   "execution_count": 18,
   "metadata": {},
   "outputs": [
    {
     "name": "stdout",
     "output_type": "stream",
     "text": [
      "2018-07-22 16:07:24.626551\n"
     ]
    }
   ],
   "source": [
    "import datetime\n",
    "start_time = datetime.datetime.now(); print(start_time)"
   ]
  },
  {
   "cell_type": "code",
   "execution_count": 19,
   "metadata": {},
   "outputs": [
    {
     "name": "stderr",
     "output_type": "stream",
     "text": [
      "[NbConvertApp] Converting notebook Data_split_DADS_by_year.ipynb to notebook\n",
      "[NbConvertApp] Executing notebook with kernel: python3\n",
      "[NbConvertApp] WARNING | Timeout waiting for IOPub output\n",
      "[NbConvertApp] Writing 7237 bytes to Data_split_DADS_by_year.ipynb\n"
     ]
    }
   ],
   "source": [
    "! jupyter nbconvert --to notebook Data_split_DADS_by_year --ExecutePreprocessor.timeout=-1 --execute Data_split_DADS_by_year"
   ]
  },
  {
   "cell_type": "code",
   "execution_count": 20,
   "metadata": {},
   "outputs": [
    {
     "name": "stdout",
     "output_type": "stream",
     "text": [
      "now:  2018-07-22 16:08:19.559632\n",
      "execution_time:  0:00:54.933081\n"
     ]
    }
   ],
   "source": [
    "stop_time = datetime.datetime.now(); print(\"now: \",stop_time);\n",
    "execution_time = stop_time - start_time; print(\"execution_time: \",execution_time)\n",
    "stop_time = start_time"
   ]
  },
  {
   "cell_type": "markdown",
   "metadata": {},
   "source": [
    "### Steps"
   ]
  },
  {
   "cell_type": "code",
   "execution_count": 7,
   "metadata": {},
   "outputs": [
    {
     "name": "stdout",
     "output_type": "stream",
     "text": [
      "C:\\Users\\IMPTEMP_A_PACIFIC\\Desktop\\EDP_2016\\Program\n"
     ]
    }
   ],
   "source": [
    "!cd"
   ]
  },
  {
   "cell_type": "code",
   "execution_count": 8,
   "metadata": {},
   "outputs": [
    {
     "name": "stdout",
     "output_type": "stream",
     "text": [
      " Le volume dans le lecteur C n'a pas de nom.\n",
      " Le num‚ro de s‚rie du volume est 4AD9-2360\n",
      "\n",
      " R‚pertoire de C:\\Users\\IMPTEMP_A_PACIFIC\\Desktop\\EDP_2016\\Program\n",
      "\n",
      "17/09/2018  12:57    <DIR>          .\n",
      "17/09/2018  12:57    <DIR>          ..\n",
      "22/07/2018  16:57    <DIR>          .ipynb_checkpoints\n",
      "20/07/2018  14:18    <DIR>          annalysis\n",
      "23/07/2018  15:28           318ÿ037 Data_preparation_comment_ca_fonctionne.ipynb\n",
      "22/07/2018  16:54             9ÿ879 Data_split_DADS_by_year.ipynb\n",
      "23/07/2018  15:28           175ÿ987 Data_step_2_put_family_structure.ipynb\n",
      "23/07/2018  15:28           118ÿ112 Data_step_3_add_fiscal_individual_data.ipynb\n",
      "23/07/2018  15:28            42ÿ039 Data_step_4_DADS.ipynb\n",
      "17/09/2018  12:49            13ÿ000 Data_step_5.ipynb\n",
      "16/07/2018  02:28           731ÿ582 final_2011_2014.ipynb\n",
      "20/07/2018  14:24            14ÿ442 merge_2014_2011.ipynb\n",
      "22/07/2018  01:05    <DIR>          notebooks_2010\n",
      "22/07/2018  16:52    <DIR>          notebooks_2011\n",
      "22/07/2018  01:05    <DIR>          notebooks_2012\n",
      "22/07/2018  01:05    <DIR>          notebooks_2013\n",
      "22/07/2018  15:55    <DIR>          notebooks_2014\n",
      "22/07/2018  01:05    <DIR>          notebooks_2015\n",
      "20/07/2018  14:36           717ÿ675 pre_final_process.ipynb\n",
      "16/07/2018  02:30    <DIR>          programs\n",
      "09/07/2018  08:19           526ÿ543 regression_equality_of_opportunity.ipynb\n",
      "22/07/2018  00:48    <DIR>          save\n",
      "17/09/2018  12:57            72ÿ355 Start_Project.ipynb\n",
      "20/07/2018  19:25             3ÿ243 to_test_run_subprocess.ipynb\n",
      "19/05/2018  18:01           932ÿ421 Triple_difference_full.ipynb\n",
      "19/05/2018  12:25                 0 untitled.txt\n",
      "20/07/2018  19:09    <DIR>          year_variable\n",
      "              14 fichier(s)        3ÿ675ÿ315 octets\n",
      "              13 R‚p(s)  243ÿ477ÿ860ÿ352 octets libres\n"
     ]
    }
   ],
   "source": [
    "!dir"
   ]
  },
  {
   "cell_type": "code",
   "execution_count": 9,
   "metadata": {},
   "outputs": [],
   "source": [
    "!cd programs"
   ]
  },
  {
   "cell_type": "code",
   "execution_count": 10,
   "metadata": {},
   "outputs": [
    {
     "name": "stdout",
     "output_type": "stream",
     "text": [
      "C:\\Users\\IMPTEMP_A_PACIFIC\\Desktop\\EDP_2016\\Program\n"
     ]
    }
   ],
   "source": [
    "!cd"
   ]
  },
  {
   "cell_type": "code",
   "execution_count": 7,
   "metadata": {},
   "outputs": [],
   "source": [
    "notebooks_list = [\"to_test_run_subprocess\"]\n",
    "notebooks_list = [\"to_test_run_subprocess\",\n",
    "                   \"Data_preparation_comment_ca_fonctionne\",  #Create pickles to determine what type of family\n",
    "                 \"Data_step_2_put_family_structure\",\"Data_step_3_add_fiscal_individual_data\",\n",
    "                 \"Data_step_4_DADS\"]\n"
   ]
  },
  {
   "cell_type": "code",
   "execution_count": 8,
   "metadata": {},
   "outputs": [],
   "source": [
    "pickles_path = 'C:/Users/IMPTEMP_A_PACIFIC/Desktop/EDP_2016/Data/pickles/'"
   ]
  },
  {
   "cell_type": "code",
   "execution_count": 9,
   "metadata": {},
   "outputs": [],
   "source": [
    "for year in range(2010,2016): #create directories for notebooks\n",
    "    try: os.mkdir(\"notebooks_{}\".format(year))\n",
    "    except FileExistsError: pass\n",
    "    try: os.mkdir(pickles_path+\"{}\".format(year))\n",
    "    except FileExistsError: pass"
   ]
  },
  {
   "cell_type": "code",
   "execution_count": 10,
   "metadata": {},
   "outputs": [],
   "source": [
    "space_string = \" \"*8"
   ]
  },
  {
   "cell_type": "code",
   "execution_count": 15,
   "metadata": {},
   "outputs": [
    {
     "name": "stdout",
     "output_type": "stream",
     "text": [
      "********************\n",
      "Start year 2011 2018-09-17 12:57:41.549671\n",
      "********************\n",
      "   to_test_run_subprocess\n",
      "        Start to_test_run_subprocess 2018-09-17 12:57:41.549671\n",
      "        Notebook time execution:\n",
      "        now:  2018-09-17 12:57:47.254906\n",
      "        execution_time :  0:00:05.705235\n",
      "   Data_preparation_comment_ca_fonctionne\n",
      "        Start Data_preparation_comment_ca_fonctionne 2018-09-17 12:57:47.254906\n",
      "        Notebook time execution:\n",
      "        now:  2018-09-17 12:58:08.977616\n",
      "        execution_time :  0:00:21.722710\n",
      "   Data_step_2_put_family_structure\n",
      "        Start Data_step_2_put_family_structure 2018-09-17 12:58:08.977616\n",
      "        Notebook time execution:\n",
      "        now:  2018-09-17 13:01:25.714059\n",
      "        execution_time :  0:03:16.736443\n",
      "   Data_step_3_add_fiscal_individual_data\n",
      "        Start Data_step_3_add_fiscal_individual_data 2018-09-17 13:01:25.714059\n",
      "        Notebook time execution:\n",
      "        now:  2018-09-17 13:06:01.008385\n",
      "        execution_time :  0:04:35.294326\n",
      "   Data_step_4_DADS\n",
      "        Start Data_step_4_DADS 2018-09-17 13:06:01.008385\n",
      "        Notebook time execution:\n",
      "        now:  2018-09-17 13:09:57.281729\n",
      "        execution_time :  0:03:56.273344\n",
      "********************\n",
      "Start year 2012 2018-09-17 13:09:57.281729\n",
      "********************\n",
      "   to_test_run_subprocess\n",
      "        Start to_test_run_subprocess 2018-09-17 13:09:57.281729\n",
      "        Notebook time execution:\n",
      "        now:  2018-09-17 13:10:05.475676\n",
      "        execution_time :  0:00:08.193947\n",
      "   Data_preparation_comment_ca_fonctionne\n",
      "        Start Data_preparation_comment_ca_fonctionne 2018-09-17 13:10:05.475676\n",
      "        Notebook time execution:\n",
      "        now:  2018-09-17 13:10:26.971549\n",
      "        execution_time :  0:00:21.495873\n",
      "   Data_step_2_put_family_structure\n",
      "        Start Data_step_2_put_family_structure 2018-09-17 13:10:26.971549\n",
      "        Notebook time execution:\n",
      "        now:  2018-09-17 13:10:54.950294\n",
      "        execution_time :  0:00:27.978745\n",
      "   Data_step_3_add_fiscal_individual_data\n",
      "        Start Data_step_3_add_fiscal_individual_data 2018-09-17 13:10:54.951294\n",
      "        Notebook time execution:\n",
      "        now:  2018-09-17 13:11:50.664807\n",
      "        execution_time :  0:00:55.713513\n",
      "   Data_step_4_DADS\n",
      "        Start Data_step_4_DADS 2018-09-17 13:11:50.665806\n",
      "        Notebook time execution:\n",
      "        now:  2018-09-17 13:12:05.160175\n",
      "        execution_time :  0:00:14.494369\n",
      "********************\n",
      "Start year 2013 2018-09-17 13:12:05.161175\n",
      "********************\n",
      "   to_test_run_subprocess\n",
      "        Start to_test_run_subprocess 2018-09-17 13:12:05.161175\n",
      "        Notebook time execution:\n",
      "        now:  2018-09-17 13:12:09.453578\n",
      "        execution_time :  0:00:04.292403\n",
      "   Data_preparation_comment_ca_fonctionne\n",
      "        Start Data_preparation_comment_ca_fonctionne 2018-09-17 13:12:09.453578\n",
      "        Notebook time execution:\n",
      "        now:  2018-09-17 13:12:27.859916\n",
      "        execution_time :  0:00:18.406338\n",
      "   Data_step_2_put_family_structure\n",
      "        Start Data_step_2_put_family_structure 2018-09-17 13:12:27.859916\n",
      "        Notebook time execution:\n",
      "        now:  2018-09-17 13:12:56.339508\n",
      "        execution_time :  0:00:28.479592\n",
      "   Data_step_3_add_fiscal_individual_data\n",
      "        Start Data_step_3_add_fiscal_individual_data 2018-09-17 13:12:56.340508\n",
      "        Notebook time execution:\n",
      "        now:  2018-09-17 13:13:54.328664\n",
      "        execution_time :  0:00:57.988156\n",
      "   Data_step_4_DADS\n",
      "        Start Data_step_4_DADS 2018-09-17 13:13:54.328664\n",
      "        Notebook time execution:\n",
      "        now:  2018-09-17 13:14:08.769568\n",
      "        execution_time :  0:00:14.440904\n",
      "********************\n",
      "Start year 2014 2018-09-17 13:14:08.769568\n",
      "********************\n",
      "   to_test_run_subprocess\n",
      "        Start to_test_run_subprocess 2018-09-17 13:14:08.769568\n",
      "        Notebook time execution:\n",
      "        now:  2018-09-17 13:14:13.022282\n",
      "        execution_time :  0:00:04.252714\n",
      "   Data_preparation_comment_ca_fonctionne\n",
      "        Start Data_preparation_comment_ca_fonctionne 2018-09-17 13:14:13.022282\n",
      "        Notebook time execution:\n",
      "        now:  2018-09-17 13:14:32.641800\n",
      "        execution_time :  0:00:19.619518\n",
      "   Data_step_2_put_family_structure\n",
      "        Start Data_step_2_put_family_structure 2018-09-17 13:14:32.641800\n",
      "        Notebook time execution:\n",
      "        now:  2018-09-17 13:17:38.886031\n",
      "        execution_time :  0:03:06.244231\n",
      "   Data_step_3_add_fiscal_individual_data\n",
      "        Start Data_step_3_add_fiscal_individual_data 2018-09-17 13:17:38.886031\n",
      "        Notebook time execution:\n",
      "        now:  2018-09-17 13:22:46.900863\n",
      "        execution_time :  0:05:08.014832\n",
      "   Data_step_4_DADS\n",
      "        Start Data_step_4_DADS 2018-09-17 13:22:46.900863\n",
      "        Notebook time execution:\n",
      "        now:  2018-09-17 13:23:10.422478\n",
      "        execution_time :  0:00:23.521615\n",
      "********************\n",
      "Start year 2015 2018-09-17 13:23:10.423477\n",
      "********************\n",
      "   to_test_run_subprocess\n",
      "        Start to_test_run_subprocess 2018-09-17 13:23:10.423477\n",
      "        Notebook time execution:\n",
      "        now:  2018-09-17 13:23:14.705881\n",
      "        execution_time :  0:00:04.282404\n",
      "   Data_preparation_comment_ca_fonctionne\n",
      "        Start Data_preparation_comment_ca_fonctionne 2018-09-17 13:23:14.705881\n",
      "        Notebook time execution:\n",
      "        now:  2018-09-17 13:23:36.450201\n",
      "        execution_time :  0:00:21.744320\n",
      "   Data_step_2_put_family_structure\n",
      "        Start Data_step_2_put_family_structure 2018-09-17 13:23:36.450201\n",
      "        Notebook time execution:\n",
      "        now:  2018-09-17 13:24:04.442990\n",
      "        execution_time :  0:00:27.992789\n",
      "   Data_step_3_add_fiscal_individual_data\n",
      "        Start Data_step_3_add_fiscal_individual_data 2018-09-17 13:24:04.442990\n",
      "        Notebook time execution:\n",
      "        now:  2018-09-17 13:25:06.034888\n",
      "        execution_time :  0:01:01.591898\n",
      "   Data_step_4_DADS\n",
      "        Start Data_step_4_DADS 2018-09-17 13:25:06.034888\n",
      "        Notebook time execution:\n",
      "        now:  2018-09-17 13:25:11.332901\n",
      "        execution_time :  0:00:05.298013\n",
      "********************\n",
      "Start year 2016 2018-09-17 13:25:11.332901\n",
      "********************\n",
      "   to_test_run_subprocess\n",
      "        Start to_test_run_subprocess 2018-09-17 13:25:11.332901\n",
      "        Notebook time execution:\n",
      "        now:  2018-09-17 13:25:15.576134\n",
      "        execution_time :  0:00:04.243233\n",
      "   Data_preparation_comment_ca_fonctionne\n",
      "        Start Data_preparation_comment_ca_fonctionne 2018-09-17 13:25:15.576134\n",
      "        Notebook time execution:\n",
      "        now:  2018-09-17 13:25:21.108008\n",
      "        execution_time :  0:00:05.531874\n",
      "   Data_step_2_put_family_structure\n",
      "        Start Data_step_2_put_family_structure 2018-09-17 13:25:21.108008\n",
      "        Notebook time execution:\n",
      "        now:  2018-09-17 13:25:49.081088\n",
      "        execution_time :  0:00:27.973080\n",
      "   Data_step_3_add_fiscal_individual_data\n",
      "        Start Data_step_3_add_fiscal_individual_data 2018-09-17 13:25:49.081088\n",
      "        Notebook time execution:\n",
      "        now:  2018-09-17 13:25:54.433939\n",
      "        execution_time :  0:00:05.352851\n",
      "   Data_step_4_DADS\n",
      "        Start Data_step_4_DADS 2018-09-17 13:25:54.433939\n",
      "        Notebook time execution:\n",
      "        now:  2018-09-17 13:25:59.733277\n",
      "        execution_time :  0:00:05.299338\n"
     ]
    }
   ],
   "source": [
    "for year in range(2011, 2017):\n",
    "    \n",
    "    pickle.dump(year, open(pickle_year_variable_path+\"year_variable.p\", 'wb')) #change global variable for all notebooks\n",
    "    #initialize time\n",
    "    print(\"*\"*20)\n",
    "    start_time_year = datetime.datetime.now(); print(\"Start year {}\".format(year), start_time_year)\n",
    "    print(\"*\"*20)\n",
    "    \n",
    "    ### Iterate over notebooks\n",
    "    for notebook in notebooks_list:\n",
    "        print(space_string[:3]+notebook)\n",
    "        start_time_notebook = datetime.datetime.now(); print(space_string + \"Start {}\".format(notebook), start_time_notebook)\n",
    "        #Run command\n",
    "        a = subprocess.run(\"jupyter nbconvert --to notebook {} --ExecutePreprocessor.timeout=-1 --execute --output notebooks_{}/{}_{}\".format(\n",
    "            notebook,year, notebook, year), stdout= subprocess.PIPE, stderr=subprocess.PIPE)\n",
    "        print(space_string + \"Notebook time execution:\")\n",
    "        stop_time_notebook = datetime.datetime.now(); print(space_string + \"now: \",stop_time_notebook);\n",
    "        execution_time_notebook = stop_time_notebook - start_time_notebook; print(space_string+\"execution_time : \",execution_time_notebook)\n",
    "        "
   ]
  },
  {
   "cell_type": "code",
   "execution_count": 19,
   "metadata": {},
   "outputs": [
    {
     "data": {
      "text/plain": [
       "['to_test_run_subprocess',\n",
       " 'Data_preparation_comment_ca_fonctionne',\n",
       " 'Data_step_2_put_family_structure',\n",
       " 'Data_step_3_add_fiscal_individual_data',\n",
       " 'Data_step_4_DADS']"
      ]
     },
     "execution_count": 19,
     "metadata": {},
     "output_type": "execute_result"
    }
   ],
   "source": [
    "notebooks_list"
   ]
  },
  {
   "cell_type": "code",
   "execution_count": 11,
   "metadata": {
    "scrolled": false
   },
   "outputs": [
    {
     "name": "stdout",
     "output_type": "stream",
     "text": [
      "********************\n",
      "Start year 2011 2018-09-18 19:47:54.601522\n",
      "********************\n",
      "   to_test_run_subprocess\n",
      "        Start to_test_run_subprocess 2018-09-18 19:47:54.601522\n",
      "        Notebook time execution:\n",
      "        now:  2018-09-18 19:47:59.617361\n",
      "        execution_time :  0:00:05.015839\n",
      "   Data_preparation_comment_ca_fonctionne\n",
      "        Start Data_preparation_comment_ca_fonctionne 2018-09-18 19:47:59.618362\n",
      "        Notebook time execution:\n",
      "        now:  2018-09-18 19:56:42.096695\n",
      "        execution_time :  0:08:42.478333\n",
      "   Data_step_2_put_family_structure\n",
      "        Start Data_step_2_put_family_structure 2018-09-18 19:56:42.096695\n",
      "        Notebook time execution:\n",
      "        now:  2018-09-18 20:00:04.242049\n",
      "        execution_time :  0:03:22.145354\n",
      "   Data_step_3_add_fiscal_individual_data\n",
      "        Start Data_step_3_add_fiscal_individual_data 2018-09-18 20:00:04.242049\n",
      "        Notebook time execution:\n",
      "        now:  2018-09-18 20:07:39.697315\n",
      "        execution_time :  0:07:35.455266\n",
      "   Data_step_4_DADS\n",
      "        Start Data_step_4_DADS 2018-09-18 20:07:39.697315\n",
      "        Notebook time execution:\n",
      "        now:  2018-09-18 20:11:23.989188\n",
      "        execution_time :  0:03:44.291873\n",
      "********************\n",
      "Start year 2014 2018-09-18 20:11:23.989188\n",
      "********************\n",
      "   to_test_run_subprocess\n",
      "        Start to_test_run_subprocess 2018-09-18 20:11:23.989188\n",
      "        Notebook time execution:\n",
      "        now:  2018-09-18 20:11:28.734810\n",
      "        execution_time :  0:00:04.745622\n",
      "   Data_preparation_comment_ca_fonctionne\n",
      "        Start Data_preparation_comment_ca_fonctionne 2018-09-18 20:11:28.734810\n",
      "        Notebook time execution:\n",
      "        now:  2018-09-18 20:20:30.338489\n",
      "        execution_time :  0:09:01.603679\n",
      "   Data_step_2_put_family_structure\n",
      "        Start Data_step_2_put_family_structure 2018-09-18 20:20:30.338489\n",
      "        Notebook time execution:\n",
      "        now:  2018-09-18 20:23:50.094681\n",
      "        execution_time :  0:03:19.756192\n",
      "   Data_step_3_add_fiscal_individual_data\n",
      "        Start Data_step_3_add_fiscal_individual_data 2018-09-18 20:23:50.094681\n",
      "        Notebook time execution:\n",
      "        now:  2018-09-18 20:31:55.379869\n",
      "        execution_time :  0:08:05.285188\n",
      "   Data_step_4_DADS\n",
      "        Start Data_step_4_DADS 2018-09-18 20:31:55.379869\n",
      "        Notebook time execution:\n",
      "        now:  2018-09-18 20:32:15.699652\n",
      "        execution_time :  0:00:20.319783\n"
     ]
    }
   ],
   "source": [
    "for year in [2011, 2014]:\n",
    "    \n",
    "    pickle.dump(year, open(pickle_year_variable_path+\"year_variable.p\", 'wb')) #change global variable for all notebooks\n",
    "    #initialize time\n",
    "    print(\"*\"*20)\n",
    "    start_time_year = datetime.datetime.now(); print(\"Start year {}\".format(year), start_time_year)\n",
    "    print(\"*\"*20)\n",
    "    \n",
    "    ### Iterate over notebooks\n",
    "    for notebook in notebooks_list:\n",
    "        print(space_string[:3]+notebook)\n",
    "        start_time_notebook = datetime.datetime.now(); print(space_string + \"Start {}\".format(notebook), start_time_notebook)\n",
    "        #Run command\n",
    "        a = subprocess.run(\"jupyter nbconvert --to notebook {} --ExecutePreprocessor.timeout=-1 --execute --output notebooks_{}/{}_{}\".format(\n",
    "            notebook,year, notebook, year), stdout= subprocess.PIPE, stderr=subprocess.PIPE)\n",
    "        print(space_string + \"Notebook time execution:\")\n",
    "        stop_time_notebook = datetime.datetime.now(); print(space_string + \"now: \",stop_time_notebook);\n",
    "        execution_time_notebook = stop_time_notebook - start_time_notebook; print(space_string+\"execution_time : \",execution_time_notebook)\n",
    "        "
   ]
  },
  {
   "cell_type": "code",
   "execution_count": 50,
   "metadata": {},
   "outputs": [
    {
     "name": "stdout",
     "output_type": "stream",
     "text": [
      "b'[NbConvertApp] Converting notebook Data_step_4_DADS.ipynb to notebook\\r\\n[NbConvertApp] Executing notebook with kernel: python3\\r\\n[NbConvertApp] Writing 41915 bytes to notebooks_2011/Data_step_4_DADS_2011.ipynb\\r\\n'\n"
     ]
    }
   ],
   "source": [
    "print(a.stderr)"
   ]
  },
  {
   "cell_type": "code",
   "execution_count": null,
   "metadata": {},
   "outputs": [],
   "source": []
  },
  {
   "cell_type": "code",
   "execution_count": 17,
   "metadata": {},
   "outputs": [
    {
     "data": {
      "text/plain": [
       "'a'"
      ]
     },
     "execution_count": 17,
     "metadata": {},
     "output_type": "execute_result"
    }
   ],
   "source": [
    "\"a\""
   ]
  },
  {
   "cell_type": "code",
   "execution_count": null,
   "metadata": {},
   "outputs": [],
   "source": []
  },
  {
   "cell_type": "code",
   "execution_count": null,
   "metadata": {},
   "outputs": [],
   "source": [
    "stop_time = datetime.datetime.now(); print(\"now: \",stop_time);\n",
    "execution_time = stop_time - start_time; print(\"execution_time: \",execution_time)\n",
    "stop_time = start_time"
   ]
  },
  {
   "cell_type": "code",
   "execution_count": null,
   "metadata": {},
   "outputs": [],
   "source": [
    "! jupyter nbconvert --to notebook Data_preparation_comment_ca_fonctionne --ExecutePreprocessor.timeout=-1 --execute Data_preparation_comment_ca_fonctionne"
   ]
  },
  {
   "cell_type": "code",
   "execution_count": null,
   "metadata": {},
   "outputs": [],
   "source": []
  },
  {
   "cell_type": "code",
   "execution_count": null,
   "metadata": {},
   "outputs": [],
   "source": [
    "stop_time = datetime.datetime.now(); print(\"now: \",stop_time);\n",
    "execution_time = stop_time - start_time; print(\"execution_time: \",execution_time)\n",
    "stop_time = start_time"
   ]
  },
  {
   "cell_type": "code",
   "execution_count": null,
   "metadata": {},
   "outputs": [],
   "source": [
    "! jupyter nbconvert --to notebook Data_step_2_put_family_structure --ExecutePreprocessor.timeout=-1 --execute Data_step_2_put_family_structure"
   ]
  },
  {
   "cell_type": "code",
   "execution_count": null,
   "metadata": {},
   "outputs": [],
   "source": [
    "stop_time = datetime.datetime.now(); print(\"now: \",stop_time);\n",
    "execution_time = stop_time - start_time; print(\"execution_time: \",execution_time)\n",
    "stop_time = start_time"
   ]
  },
  {
   "cell_type": "code",
   "execution_count": null,
   "metadata": {},
   "outputs": [],
   "source": [
    "! jupyter nbconvert --to notebook Data_step_3_add_fiscal_individual_data --ExecutePreprocessor.timeout=-1 --execute Data_step_3_add_fiscal_individual_data"
   ]
  },
  {
   "cell_type": "code",
   "execution_count": null,
   "metadata": {},
   "outputs": [],
   "source": [
    "stop_time = datetime.datetime.now(); print(\"now: \",stop_time);\n",
    "execution_time = stop_time - start_time; print(\"execution_time: \",execution_time)\n",
    "stop_time = start_time"
   ]
  },
  {
   "cell_type": "code",
   "execution_count": null,
   "metadata": {},
   "outputs": [],
   "source": [
    "! jupyter nbconvert --to notebook Data_step4_DADS --ExecutePreprocessor.timeout=-1 --execute Data_step4_DADS"
   ]
  },
  {
   "cell_type": "code",
   "execution_count": null,
   "metadata": {},
   "outputs": [],
   "source": [
    "stop_time = datetime.datetime.now(); print(\"now: \",stop_time);\n",
    "execution_time = stop_time - start_time; print(\"execution_time: \",execution_time)\n",
    "stop_time = start_time"
   ]
  },
  {
   "cell_type": "code",
   "execution_count": null,
   "metadata": {},
   "outputs": [],
   "source": []
  },
  {
   "cell_type": "code",
   "execution_count": null,
   "metadata": {},
   "outputs": [],
   "source": [
    "!dir"
   ]
  },
  {
   "cell_type": "code",
   "execution_count": null,
   "metadata": {},
   "outputs": [],
   "source": [
    "stop_time = datetime.datetime.now(); print(\"now: \",stop_time);\n",
    "execution_time = stop_time - start_time; print(\"execution_time: \",execution_time)"
   ]
  },
  {
   "cell_type": "code",
   "execution_count": null,
   "metadata": {},
   "outputs": [],
   "source": []
  },
  {
   "cell_type": "code",
   "execution_count": null,
   "metadata": {},
   "outputs": [],
   "source": [
    "import subprocess"
   ]
  },
  {
   "cell_type": "code",
   "execution_count": null,
   "metadata": {},
   "outputs": [],
   "source": [
    "year = 2011"
   ]
  },
  {
   "cell_type": "code",
   "execution_count": null,
   "metadata": {},
   "outputs": [],
   "source": [
    "!dir"
   ]
  },
  {
   "cell_type": "code",
   "execution_count": null,
   "metadata": {},
   "outputs": [],
   "source": [
    "\n",
    "year\n",
    "for notebooks in  notebooks_list:\n",
    "    try:\n",
    "        subprocess.run(\"jupyter nbconvert --to notebook {} --ExecutePreprocessor.timeout=-1 --execute {}\".format(notebooks_list, notebooks_list,year))\n",
    "    except:\n",
    "        boum"
   ]
  },
  {
   "cell_type": "code",
   "execution_count": null,
   "metadata": {},
   "outputs": [],
   "source": [
    "! jupyter nbconvert --to notebook to_test_run_subprocess --ExecutePreprocessor.timeout=-1 --execute to_test_run_subprocess"
   ]
  },
  {
   "cell_type": "code",
   "execution_count": null,
   "metadata": {},
   "outputs": [],
   "source": [
    "a = subprocess.run(\"jupyter nbconvert --to notebook {} --ExecutePreprocessor.timeout=-1 --execute --output 2011/{}_{}\".format(\n",
    "    notebooks_list[0], notebooks_list[0], year), stdout= subprocess.PIPE, stderr=subprocess.PIPE)"
   ]
  },
  {
   "cell_type": "code",
   "execution_count": null,
   "metadata": {},
   "outputs": [],
   "source": [
    "print(a.stderr)"
   ]
  },
  {
   "cell_type": "code",
   "execution_count": null,
   "metadata": {},
   "outputs": [],
   "source": [
    "a"
   ]
  },
  {
   "cell_type": "code",
   "execution_count": null,
   "metadata": {},
   "outputs": [],
   "source": [
    "subprocess.run(\"jupyter nbconvert --to notebook Data_preparation_comment_ca_fonctionne --ExecutePreprocessor.timeout=-1 --execute  Data_preparation_comment_ca_fonctionne\")"
   ]
  },
  {
   "cell_type": "code",
   "execution_count": null,
   "metadata": {},
   "outputs": [],
   "source": [
    "a = subprocess.check_output(\"cd\")"
   ]
  },
  {
   "cell_type": "code",
   "execution_count": null,
   "metadata": {},
   "outputs": [],
   "source": [
    "a"
   ]
  },
  {
   "cell_type": "code",
   "execution_count": null,
   "metadata": {},
   "outputs": [],
   "source": []
  }
 ],
 "metadata": {
  "kernelspec": {
   "display_name": "Python 3",
   "language": "python",
   "name": "python3"
  },
  "language_info": {
   "codemirror_mode": {
    "name": "ipython",
    "version": 3
   },
   "file_extension": ".py",
   "mimetype": "text/x-python",
   "name": "python",
   "nbconvert_exporter": "python",
   "pygments_lexer": "ipython3",
   "version": "3.6.3"
  }
 },
 "nbformat": 4,
 "nbformat_minor": 2
}
