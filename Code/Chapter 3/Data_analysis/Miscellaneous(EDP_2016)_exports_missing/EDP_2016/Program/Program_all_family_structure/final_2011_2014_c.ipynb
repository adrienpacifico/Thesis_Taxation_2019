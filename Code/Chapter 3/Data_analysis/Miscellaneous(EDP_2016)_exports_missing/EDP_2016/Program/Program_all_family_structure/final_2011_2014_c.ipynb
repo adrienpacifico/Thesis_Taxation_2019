{
 "cells": [
  {
   "cell_type": "code",
   "execution_count": 2,
   "metadata": {},
   "outputs": [
    {
     "name": "stdout",
     "output_type": "stream",
     "text": [
      "2018-07-16 02:24:17.987616\n"
     ]
    }
   ],
   "source": [
    "import datetime\n",
    "start_time = datetime.datetime.now(); print(start_time)"
   ]
  },
  {
   "cell_type": "code",
   "execution_count": 4,
   "metadata": {},
   "outputs": [],
   "source": [
    "secret = False #Will be put to True for a CASD export"
   ]
  },
  {
   "cell_type": "code",
   "execution_count": 5,
   "metadata": {},
   "outputs": [
    {
     "data": {
      "text/html": [
       "<style>.container { width:100% !important; }<\\style>"
      ],
      "text/plain": [
       "<IPython.core.display.HTML object>"
      ]
     },
     "metadata": {},
     "output_type": "display_data"
    }
   ],
   "source": [
    "from IPython.core.display import display, HTML\n",
    "display(HTML(\"<style>.container { width:100% !important; }<\\style>\"))"
   ]
  },
  {
   "cell_type": "code",
   "execution_count": 6,
   "metadata": {},
   "outputs": [],
   "source": [
    "import gc\n",
    "from IPython.display import display\n",
    "import matplotlib.pyplot as plt\n",
    "import numpy as np\n",
    "import pandas as pd ; pd.set_option(\"display.max_columns\",200)\n",
    "import pickle"
   ]
  },
  {
   "cell_type": "code",
   "execution_count": 7,
   "metadata": {},
   "outputs": [],
   "source": [
    "store_path = 'C:/Users/IMPTEMP_A_PACIFIC/Desktop/EDP_2016/Data/hdf/edp_2016_final.h5'\n",
    "reaction_store_path = 'C:/Users/IMPTEMP_A_PACIFIC/Desktop/EDP_2016/Data/hdf/reaction.h5'\n",
    "result_store_path = 'C:/Users/IMPTEMP_A_PACIFIC/Desktop/EDP_2016/Data/hdf/result.h5'\n",
    "dads_by_year_store_path = 'C:/Users/IMPTEMP_A_PACIFIC/Desktop/EDP_2016/Data/hdf/dads_by_year.h5'\n",
    "pickles_path = 'C:/Users/IMPTEMP_A_PACIFIC/Desktop/EDP_2016/Data/pickles/'\n",
    "Store = pd.HDFStore(result_store_path)"
   ]
  },
  {
   "cell_type": "code",
   "execution_count": 9,
   "metadata": {},
   "outputs": [
    {
     "name": "stdout",
     "output_type": "stream",
     "text": [
      "None\n"
     ]
    }
   ],
   "source": [
    "print(Store.close())"
   ]
  },
  {
   "cell_type": "code",
   "execution_count": 8,
   "metadata": {},
   "outputs": [],
   "source": [
    "# Store.close()\n",
    "# fisc_revdet = pd.read_hdf( store_path,\"FISC_REVDET_2012\")\n",
    "# fisc_revenu = pd.read_hdf(store_path,\"FISC_REVENU_2012\").sort_values(\"ID_FISC_LOG_DIFF\")\n",
    "# fisc_individu = pd.read_hdf( store_path,\"FISC_INDIVIDU_2012\" ).sort_values(\"ID_FISC_LOG_DIFF\")"
   ]
  },
  {
   "cell_type": "code",
   "execution_count": 9,
   "metadata": {},
   "outputs": [],
   "source": [
    "df_2011 = pd.read_hdf(result_store_path, \"step_4\")"
   ]
  },
  {
   "cell_type": "code",
   "execution_count": 12,
   "metadata": {},
   "outputs": [],
   "source": [
    "df_2011_step_2 =  pd.read_hdf(result_store_path, \"step_2\")"
   ]
  },
  {
   "cell_type": "code",
   "execution_count": 17,
   "metadata": {},
   "outputs": [],
   "source": [
    "df_2011 = pd.merge(df_2011, df_2011_step_2[\n",
    "    list(set(df_2011_step_2.columns)-set(df_2011.columns)) + [\"ID_FISC_LOG_DIFF\"]], on = \"ID_FISC_LOG_DIFF\")\n"
   ]
  },
  {
   "cell_type": "code",
   "execution_count": null,
   "metadata": {},
   "outputs": [],
   "source": []
  },
  {
   "cell_type": "code",
   "execution_count": null,
   "metadata": {},
   "outputs": [],
   "source": []
  },
  {
   "cell_type": "code",
   "execution_count": 10,
   "metadata": {},
   "outputs": [],
   "source": [
    "df_2014 = pd.read_hdf(result_store_path, \"step_4_2015\")\n",
    "df_2014_step_2 =  pd.read_hdf(result_store_path, \"step_2_2015\")\n",
    "df_2014 = pd.merge(df_2014, df_2014_step_2[\n",
    "    list(set(df_2014_step_2.columns)-set(df_2014.columns)) + [\"ID_FISC_LOG_DIFF\"]], on = \"ID_FISC_LOG_DIFF\")"
   ]
  },
  {
   "cell_type": "code",
   "execution_count": null,
   "metadata": {},
   "outputs": [],
   "source": []
  },
  {
   "cell_type": "code",
   "execution_count": 11,
   "metadata": {},
   "outputs": [
    {
     "data": {
      "text/plain": [
       "(1953790, 270)"
      ]
     },
     "execution_count": 11,
     "metadata": {},
     "output_type": "execute_result"
    }
   ],
   "source": [
    "df_2014.shape"
   ]
  },
  {
   "cell_type": "code",
   "execution_count": 36,
   "metadata": {},
   "outputs": [
    {
     "data": {
      "text/plain": [
       "couple_mar_pac_child_ss_maj          173832\n",
       "concubin_with_or_without_children     95646\n",
       "couple_child_detached_or_attached     79290\n",
       "couple_mar_pac_ss_enf                 68261\n",
       "celib_ss_enf                          57516\n",
       "couple_mar_pac_child_maj_ratach       48101\n",
       "celib_with_detached_child             24773\n",
       "celib_ac_enf_ss_maj                   11581\n",
       "Name: Type_menage2011, dtype: int64"
      ]
     },
     "execution_count": 36,
     "metadata": {},
     "output_type": "execute_result"
    }
   ],
   "source": []
  },
  {
   "cell_type": "code",
   "execution_count": null,
   "metadata": {},
   "outputs": [],
   "source": []
  },
  {
   "cell_type": "code",
   "execution_count": 19,
   "metadata": {},
   "outputs": [],
   "source": [
    "merge_final = pd.merge(df_2011, df_2014, on = \"ID_FISC_LOG_DIFF\", suffixes = {\"_2011\", \"_2014\"})"
   ]
  },
  {
   "cell_type": "code",
   "execution_count": null,
   "metadata": {},
   "outputs": [],
   "source": []
  },
  {
   "cell_type": "code",
   "execution_count": 37,
   "metadata": {},
   "outputs": [],
   "source": [
    "merge_final_select = merge_final.query(\"(200000>YSALI2011>50000)\")"
   ]
  },
  {
   "cell_type": "code",
   "execution_count": null,
   "metadata": {},
   "outputs": [],
   "source": [
    "merge_final_select.value_counts()"
   ]
  },
  {
   "cell_type": "code",
   "execution_count": 41,
   "metadata": {},
   "outputs": [],
   "source": [
    "merge_final_select_same_NBPAC = merge_final_select[merge_final_select.NBPAC2011 ==  merge_final_select.NBPAC2014]"
   ]
  },
  {
   "cell_type": "code",
   "execution_count": 43,
   "metadata": {},
   "outputs": [
    {
     "data": {
      "text/plain": [
       "2.0    28663\n",
       "1.0    10665\n",
       "3.0     9332\n",
       "4.0     1106\n",
       "5.0      136\n",
       "6.0       24\n",
       "Name: NBPAC2014, dtype: int64"
      ]
     },
     "execution_count": 43,
     "metadata": {},
     "output_type": "execute_result"
    }
   ],
   "source": [
    "merge_final_select_same_NBPAC.query(\"(Type_menage2011 == 'couple_mar_pac_child_ss_maj')\").NBPAC2014.value_counts()"
   ]
  },
  {
   "cell_type": "code",
   "execution_count": null,
   "metadata": {},
   "outputs": [],
   "source": [
    "merge_final_select_same_NBPAC.query(\"(Type_menage2011 == 'couple_mar_pac_child_ss_maj')\").NBPAC2014.value_counts()"
   ]
  },
  {
   "cell_type": "code",
   "execution_count": null,
   "metadata": {},
   "outputs": [],
   "source": []
  },
  {
   "cell_type": "code",
   "execution_count": null,
   "metadata": {},
   "outputs": [],
   "source": []
  },
  {
   "cell_type": "code",
   "execution_count": null,
   "metadata": {},
   "outputs": [],
   "source": []
  },
  {
   "cell_type": "code",
   "execution_count": 34,
   "metadata": {},
   "outputs": [
    {
     "data": {
      "image/png": "[encoded data removed]",
      "text/plain": [
       "<matplotlib.figure.Figure at 0x2efacace10>"
      ]
     },
     "metadata": {},
     "output_type": "display_data"
    }
   ],
   "source": [
    "plt.show()"
   ]
  },
  {
   "cell_type": "code",
   "execution_count": null,
   "metadata": {},
   "outputs": [],
   "source": []
  },
  {
   "cell_type": "code",
   "execution_count": null,
   "metadata": {},
   "outputs": [],
   "source": [
    "merge_final.query(\"200000>YSALI2011>50000\")[merge_final.Type_menage2011 == \"couple_mar_pac_child_ss_maj\"]"
   ]
  },
  {
   "cell_type": "code",
   "execution_count": null,
   "metadata": {},
   "outputs": [],
   "source": []
  },
  {
   "cell_type": "code",
   "execution_count": 10,
   "metadata": {},
   "outputs": [],
   "source": [
    "fisc_individu = pd.read_hdf( store_path,\"FISC_INDIVIDU_2012\" )"
   ]
  },
  {
   "cell_type": "code",
   "execution_count": 11,
   "metadata": {},
   "outputs": [],
   "source": [
    "df_step_3 = pd.read_hdf(result_store_path, \"step_3\")"
   ]
  },
  {
   "cell_type": "code",
   "execution_count": 12,
   "metadata": {},
   "outputs": [
    {
     "data": {
      "text/plain": [
       "0    2\n",
       "Name: ID_FISC_LOG_DIFF, dtype: object"
      ]
     },
     "execution_count": 12,
     "metadata": {},
     "output_type": "execute_result"
    }
   ],
   "source": [
    "df_step_3.ID_FISC_LOG_DIFF.head(1)"
   ]
  },
  {
   "cell_type": "code",
   "execution_count": 13,
   "metadata": {},
   "outputs": [],
   "source": [
    "df_dads_columns = df_dads.columns\n",
    "dads_columns = [\"DADS_\"+ col_name for col_name in df_dads_columns] \n",
    "df_dads.columns = [\"DADS_\"+ col_name for col_name in df_dads_columns] #Rename columns such that each column name has the DADS name in it"
   ]
  },
  {
   "cell_type": "code",
   "execution_count": 14,
   "metadata": {},
   "outputs": [],
   "source": [
    "fisci_sexe_id_diff = fisc_individu[[\"ID_DIFF\", \"SEXE\", 'ID_FISC_LOG_DIFF']].dropna(axis = 0)"
   ]
  },
  {
   "cell_type": "code",
   "execution_count": 16,
   "metadata": {},
   "outputs": [
    {
     "ename": "NameError",
     "evalue": "name 'fisc_individu' is not defined",
     "output_type": "error",
     "traceback": [
      "\u001b[1;31m---------------------------------------------------------------------------\u001b[0m",
      "\u001b[1;31mNameError\u001b[0m                                 Traceback (most recent call last)",
      "\u001b[1;32m<ipython-input-16-ab15034ed8a8>\u001b[0m in \u001b[0;36m<module>\u001b[1;34m()\u001b[0m\n\u001b[0;32m      1\u001b[0m \u001b[1;32mimport\u001b[0m \u001b[0mgc\u001b[0m\u001b[1;33m\u001b[0m\u001b[0m\n\u001b[1;32m----> 2\u001b[1;33m \u001b[1;32mdel\u001b[0m \u001b[0mfisc_individu\u001b[0m\u001b[1;33m;\u001b[0m \u001b[0mgc\u001b[0m\u001b[1;33m.\u001b[0m\u001b[0mcollect\u001b[0m\u001b[1;33m(\u001b[0m\u001b[1;33m)\u001b[0m\u001b[1;33m\u001b[0m\u001b[0m\n\u001b[0m",
      "\u001b[1;31mNameError\u001b[0m: name 'fisc_individu' is not defined"
     ]
    }
   ],
   "source": [
    "import gc\n",
    "del fisc_individu; gc.collect()"
   ]
  },
  {
   "cell_type": "code",
   "execution_count": 15,
   "metadata": {},
   "outputs": [],
   "source": [
    "merge = pd.merge(df_dads , fisci_sexe_id_diff, left_on= 'DADS_ID_DIFF', right_on=\"ID_DIFF\")"
   ]
  },
  {
   "cell_type": "code",
   "execution_count": 16,
   "metadata": {},
   "outputs": [],
   "source": [
    "dads_columns_pere = [\"DADS_\"+ col_name+\"_pere\" for col_name in df_dads_columns] #Rename columns such that each column name has the DADS name in it\n",
    "dads_columns_mere = [\"DADS_\"+ col_name+\"_mere\" for col_name in df_dads_columns] #Rename columns such that each column name has the DADS name in it"
   ]
  },
  {
   "cell_type": "code",
   "execution_count": null,
   "metadata": {},
   "outputs": [],
   "source": []
  },
  {
   "cell_type": "code",
   "execution_count": 17,
   "metadata": {},
   "outputs": [],
   "source": [
    "for col in dads_columns:\n",
    "    merge.loc[merge.SEXE == 1, (col+\"_pere\")] =  merge[col]\n",
    "    merge.loc[merge.SEXE == 2, (col+\"_mere\")] =  merge[col]"
   ]
  },
  {
   "cell_type": "code",
   "execution_count": null,
   "metadata": {},
   "outputs": [],
   "source": [
    "merge.head(5)"
   ]
  },
  {
   "cell_type": "code",
   "execution_count": 23,
   "metadata": {},
   "outputs": [],
   "source": [
    "merge_2 = pd.merge(df_step_3, merge, left_on = \"ID_FISC_LOG_DIFF\", right_on = \"ID_FISC_LOG_DIFF\")"
   ]
  },
  {
   "cell_type": "code",
   "execution_count": 35,
   "metadata": {},
   "outputs": [],
   "source": [
    "#merge.loc[merge.SEXE == 1, dads_columns_pere] = merge.where(merge.SEXE == 1)[dads_columns]"
   ]
  },
  {
   "cell_type": "code",
   "execution_count": 25,
   "metadata": {},
   "outputs": [
    {
     "name": "stderr",
     "output_type": "stream",
     "text": [
      "C:\\Users\\IMPTEMP_A_PACIFIC\\Desktop\\WinPython-64bit-3.6.3.0Qt5\\python-3.6.3.amd64\\lib\\site-packages\\pandas\\core\\generic.py:1471: PerformanceWarning: \n",
      "your performance may suffer as PyTables will pickle object types that it cannot\n",
      "map directly to c-types [inferred_type->mixed-integer,key->block2_values] [items->['ID_FISC_LOG_DIFF', 'DEP_x', 'DEPCOM', 'I_CHAMPM', 'I_PAUVRE50M', 'I_PAUVRE60M', 'DEP_y', 'SECCAD', 'OCC', 'DNATLC', 'NATLOC', 'TAX', 'NLOC4', 'EAU', 'EGOUT', 'ELEC', 'GAZ', 'CHAUFF', 'ASCENSEUR', 'DADS_ID_DIFF', 'DADS_DEPR', 'DADS_COMR', 'DADS_DEPT', 'DADS_COMT', 'DADS_CONTRAT_TRAVAIL', 'DADS_CS1', 'DADS_CS2', 'DADS_PCS4', 'DADS_CAT', 'DADS_CE', 'DADS_A38', 'DADS_APE40', 'DADS_NES5', 'DADS_ID_DIFF_pere', 'DADS_ID_DIFF_mere', 'DADS_DEPR_pere', 'DADS_DEPR_mere', 'DADS_COMR_pere', 'DADS_COMR_mere', 'DADS_DEPT_pere', 'DADS_DEPT_mere', 'DADS_COMT_pere', 'DADS_COMT_mere', 'DADS_CONTRAT_TRAVAIL_pere', 'DADS_CONTRAT_TRAVAIL_mere', 'DADS_CS1_pere', 'DADS_CS1_mere', 'DADS_CS2_pere', 'DADS_CS2_mere', 'DADS_PCS4_pere', 'DADS_PCS4_mere', 'DADS_CAT_pere', 'DADS_CAT_mere', 'DADS_CE_pere', 'DADS_CE_mere', 'DADS_A38_pere', 'DADS_A38_mere', 'DADS_APE40_pere', 'DADS_APE40_mere', 'DADS_NES5_pere', 'DADS_NES5_mere']]\n",
      "\n",
      "  return pytables.to_hdf(path_or_buf, key, self, **kwargs)\n"
     ]
    }
   ],
   "source": [
    "merge_2.to_hdf(result_store_path, \"step_4\")"
   ]
  },
  {
   "cell_type": "code",
   "execution_count": 26,
   "metadata": {},
   "outputs": [
    {
     "name": "stdout",
     "output_type": "stream",
     "text": [
      "now:  2018-07-13 19:46:37.610956\n",
      "execution_time:  0:21:59.758137\n"
     ]
    }
   ],
   "source": [
    "stop_time = datetime.datetime.now(); print(\"now: \",stop_time);\n",
    "execution_time = stop_time - start_time; print(\"execution_time: \",execution_time)"
   ]
  },
  {
   "cell_type": "code",
   "execution_count": 11,
   "metadata": {},
   "outputs": [],
   "source": []
  },
  {
   "cell_type": "code",
   "execution_count": 11,
   "metadata": {},
   "outputs": [],
   "source": []
  },
  {
   "cell_type": "code",
   "execution_count": 11,
   "metadata": {},
   "outputs": [],
   "source": []
  },
  {
   "cell_type": "code",
   "execution_count": 11,
   "metadata": {},
   "outputs": [],
   "source": []
  }
 ],
 "metadata": {
  "kernelspec": {
   "display_name": "Python 3",
   "language": "python",
   "name": "python3"
  },
  "language_info": {
   "codemirror_mode": {
    "name": "ipython",
    "version": 3
   },
   "file_extension": ".py",
   "mimetype": "text/x-python",
   "name": "python",
   "nbconvert_exporter": "python",
   "pygments_lexer": "ipython3",
   "version": "3.6.3"
  }
 },
 "nbformat": 4,
 "nbformat_minor": 2
}
