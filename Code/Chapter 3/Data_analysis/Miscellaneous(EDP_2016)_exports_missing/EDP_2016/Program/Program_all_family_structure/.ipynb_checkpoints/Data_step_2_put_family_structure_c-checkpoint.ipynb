{
 "cells": [
  {
   "cell_type": "code",
   "execution_count": 1,
   "metadata": {},
   "outputs": [
    {
     "name": "stdout",
     "output_type": "stream",
     "text": [
      "2018-07-22 21:30:32.219664\n"
     ]
    }
   ],
   "source": [
    "import datetime\n",
    "start_time = datetime.datetime.now(); print(start_time)"
   ]
  },
  {
   "cell_type": "code",
   "execution_count": 2,
   "metadata": {},
   "outputs": [],
   "source": [
    "secret = False #Will be put to True for a CASD export"
   ]
  },
  {
   "cell_type": "code",
   "execution_count": 3,
   "metadata": {},
   "outputs": [
    {
     "data": {
      "text/html": [
       "<style>.container { width:100% !important; }<\\style>"
      ],
      "text/plain": [
       "<IPython.core.display.HTML object>"
      ]
     },
     "metadata": {},
     "output_type": "display_data"
    }
   ],
   "source": [
    "from IPython.core.display import display, HTML\n",
    "display(HTML(\"<style>.container { width:100% !important; }<\\style>\"))"
   ]
  },
  {
   "cell_type": "code",
   "execution_count": 4,
   "metadata": {},
   "outputs": [],
   "source": [
    "from IPython.display import display\n",
    "import matplotlib.pyplot as plt\n",
    "import numpy as np\n",
    "import pandas as pd ; pd.set_option(\"display.max_columns\",200)\n",
    "import pickle"
   ]
  },
  {
   "cell_type": "code",
   "execution_count": 5,
   "metadata": {},
   "outputs": [
    {
     "name": "stdout",
     "output_type": "stream",
     "text": [
      "2011\n"
     ]
    }
   ],
   "source": [
    "pickle_year_variable_path = \"C:/Users/IMPTEMP_A_PACIFIC/Desktop/EDP_2016/Program/year_variable/\"\n",
    "year =  pickle.load(open(pickle_year_variable_path+\"year_variable.p\",'rb')); print(year)"
   ]
  },
  {
   "cell_type": "code",
   "execution_count": 6,
   "metadata": {},
   "outputs": [],
   "source": [
    "store_path = 'C:/Users/IMPTEMP_A_PACIFIC/Desktop/EDP_2016/Data/hdf/edp_2016_final.h5'\n",
    "reaction_store_path = 'C:/Users/IMPTEMP_A_PACIFIC/Desktop/EDP_2016/Data/hdf/reaction.h5'\n",
    "result_store_path = 'C:/Users/IMPTEMP_A_PACIFIC/Desktop/EDP_2016/Data/hdf/result.h5'\n",
    "pickles_path = 'C:/Users/IMPTEMP_A_PACIFIC/Desktop/EDP_2016/Data/pickles/{}/'.format(year)\n",
    "Store = pd.HDFStore(store_path)"
   ]
  },
  {
   "cell_type": "code",
   "execution_count": 7,
   "metadata": {},
   "outputs": [
    {
     "data": {
      "text/plain": [
       "<class 'pandas.io.pytables.HDFStore'>\n",
       "File path: C:/Users/IMPTEMP_A_PACIFIC/Desktop/EDP_2016/Data/hdf/edp_2016_final.h5"
      ]
     },
     "execution_count": 7,
     "metadata": {},
     "output_type": "execute_result"
    }
   ],
   "source": [
    "Store"
   ]
  },
  {
   "cell_type": "code",
   "execution_count": 8,
   "metadata": {},
   "outputs": [],
   "source": [
    "# for key in Store.keys(): print(key)\n",
    "# Store.close()"
   ]
  },
  {
   "cell_type": "code",
   "execution_count": 9,
   "metadata": {},
   "outputs": [],
   "source": [
    "Store.close()\n",
    "fisc_revdet = pd.read_hdf( store_path,\"FISC_REVDET_2012\")\n",
    "fisc_revenu = pd.read_hdf(store_path,\"FISC_REVENU_2012\").sort_values(\"ID_FISC_LOG_DIFF\")\n",
    "fisc_individu = pd.read_hdf( store_path,\"FISC_INDIVIDU_2012\" ).sort_values(\"ID_FISC_LOG_DIFF\")"
   ]
  },
  {
   "cell_type": "code",
   "execution_count": 10,
   "metadata": {},
   "outputs": [],
   "source": [
    "to_load_id_log = [\"couple_child_detached_or_attached_id_fisc_log_{}.p\".format(year),\n",
    "                  \"couple_mar_pac_child_maj_ratach_id_fisc_log_{}.p\".format(year),\n",
    "                  \"couple_mar_pac_child_ss_maj_id_fisc_log_{}.p\".format(year),\n",
    "                  \"couple_mar_pac_ss_enf_id_fisc_log_{}.p\".format(year),\n",
    "                  \"celib_ss_enf_id_fisc_log_{}.p\".format(year),\n",
    "                  \"celib_ac_enf_ss_maj_id_fisc_log_{}.p\".format(year),\n",
    "                  \"celib_with_detached_child_id_fisc_log_{}.p\".format(year),\n",
    "                  \"single_ac_single_ac_enf_ac_maj_ratach_id_fisc_log_{}.p\".format(year),\n",
    "                  \"concubin_with_or_without_children_id_fisc_log_{}.p\".format(year),]"
   ]
  },
  {
   "cell_type": "code",
   "execution_count": 11,
   "metadata": {},
   "outputs": [
    {
     "name": "stdout",
     "output_type": "stream",
     "text": [
      "couple_child_detached_or_attached_id_fisc_log_2011.p len: 209913\n",
      "couple_mar_pac_child_maj_ratach_id_fisc_log_2011.p len: 101089\n",
      "couple_mar_pac_child_ss_maj_id_fisc_log_2011.p len: 535703\n",
      "couple_mar_pac_ss_enf_id_fisc_log_2011.p len: 424582\n",
      "celib_ss_enf_id_fisc_log_2011.p len: 171821\n",
      "celib_ac_enf_ss_maj_id_fisc_log_2011.p len: 47080\n",
      "celib_with_detached_child_id_fisc_log_2011.p len: 97738\n",
      "single_ac_single_ac_enf_ac_maj_ratach_id_fisc_log_2011.p len: 5157\n",
      "concubin_with_or_without_children_id_fisc_log_2011.p len: 293475\n"
     ]
    }
   ],
   "source": [
    "#Charge à la fois dans l'environnement de travail et dans un dictionnaire...\n",
    "pickle_dict = dict()\n",
    "for pickle_to_load in to_load_id_log:\n",
    "    loaded_pickle =  pickle.load(open(pickles_path+'{}'.format(pickle_to_load),'rb') )\n",
    "    globals()[pickle_to_load[:-2]] = loaded_pickle\n",
    "    print(pickle_to_load, \"len:\" , len(globals()[pickle_to_load[:-2]]));\n",
    "    pickle_dict[pickle_to_load[:-2]] = loaded_pickle"
   ]
  },
  {
   "cell_type": "markdown",
   "metadata": {},
   "source": [
    "### Load or create typfisc sumed over households"
   ]
  },
  {
   "cell_type": "code",
   "execution_count": 12,
   "metadata": {},
   "outputs": [
    {
     "name": "stdout",
     "output_type": "stream",
     "text": [
      "Wall time: 338 ms\n"
     ]
    }
   ],
   "source": [
    "%%time\n",
    "try : dependent_groupby_TYPE_FISC = pd.read_hdf(pickles_path+\"/to_trash.h5\", \"groupby_fisc_individu_TYPE_FISC_{}\".format(year))\n",
    "except: \n",
    "    dependent_groupby_TYPE_FISC = fisc_individu.groupby('ID_FISC_LOG_DIFF').TYPE_FISC.apply(\"\".join)\n",
    "    dependent_groupby_TYPE_FISC.to_hdf(pickles_path+\"/to_trash.h5\", \"groupby_fisc_individu_TYPE_FISC_{}\".format(year))"
   ]
  },
  {
   "cell_type": "markdown",
   "metadata": {},
   "source": [
    "### Allocate household type to fiscr"
   ]
  },
  {
   "cell_type": "code",
   "execution_count": 13,
   "metadata": {},
   "outputs": [
    {
     "name": "stdout",
     "output_type": "stream",
     "text": [
      "couple_child_detached_or_attached_id_fisc_log_2011.p\n",
      "couple_child_detached_or_attached\n",
      "couple_mar_pac_child_maj_ratach_id_fisc_log_2011.p\n",
      "couple_mar_pac_child_maj_ratach\n",
      "couple_mar_pac_child_ss_maj_id_fisc_log_2011.p\n",
      "couple_mar_pac_child_ss_maj\n",
      "couple_mar_pac_ss_enf_id_fisc_log_2011.p\n",
      "couple_mar_pac_ss_enf\n",
      "celib_ss_enf_id_fisc_log_2011.p\n",
      "celib_ss_enf\n",
      "celib_ac_enf_ss_maj_id_fisc_log_2011.p\n",
      "celib_ac_enf_ss_maj\n",
      "celib_with_detached_child_id_fisc_log_2011.p\n",
      "celib_with_detached_child\n",
      "single_ac_single_ac_enf_ac_maj_ratach_id_fisc_log_2011.p\n",
      "single_ac_single_ac_enf_ac_maj_ratach\n",
      "concubin_with_or_without_children_id_fisc_log_2011.p\n",
      "concubin_with_or_without_children\n",
      "Wall time: 7.08 s\n"
     ]
    }
   ],
   "source": [
    "%%time\n",
    "### Create boolean filter\n",
    "for id_log_temp in to_load_id_log:\n",
    "    print(id_log_temp)\n",
    "    print(id_log_temp[:-19])\n",
    "    loaded_id_log = globals()[id_log_temp[:-2]]\n",
    "    bool_filter = fisc_revenu.ID_FISC_LOG_DIFF.isin(loaded_id_log)\n",
    "    fisc_revenu.loc[bool_filter, \"Type_menage\"] = id_log_temp[:-19]\n",
    "fisc_revenu[\"Type_menage\"] = fisc_revenu.Type_menage.astype('category')"
   ]
  },
  {
   "cell_type": "code",
   "execution_count": 14,
   "metadata": {},
   "outputs": [
    {
     "data": {
      "text/plain": [
       "couple_mar_pac_child_ss_maj              0.225071\n",
       "NaN                                      0.207381\n",
       "couple_mar_pac_ss_enf                    0.178384\n",
       "concubin_with_or_without_children        0.123301\n",
       "couple_child_detached_or_attached        0.088193\n",
       "celib_ss_enf                             0.072189\n",
       "couple_mar_pac_child_maj_ratach          0.042472\n",
       "celib_with_detached_child                0.041064\n",
       "celib_ac_enf_ss_maj                      0.019780\n",
       "single_ac_single_ac_enf_ac_maj_ratach    0.002167\n",
       "Name: Type_menage, dtype: float64"
      ]
     },
     "execution_count": 14,
     "metadata": {},
     "output_type": "execute_result"
    }
   ],
   "source": [
    "fisc_revenu.Type_menage.value_counts(normalize = True, dropna=False)"
   ]
  },
  {
   "cell_type": "code",
   "execution_count": 15,
   "metadata": {},
   "outputs": [
    {
     "data": {
      "text/plain": [
       "couple_mar_pac_child_ss_maj              535703\n",
       "NaN                                      493599\n",
       "couple_mar_pac_ss_enf                    424581\n",
       "concubin_with_or_without_children        293475\n",
       "couple_child_detached_or_attached        209913\n",
       "celib_ss_enf                             171821\n",
       "couple_mar_pac_child_maj_ratach          101089\n",
       "celib_with_detached_child                 97738\n",
       "celib_ac_enf_ss_maj                       47080\n",
       "single_ac_single_ac_enf_ac_maj_ratach      5157\n",
       "Name: Type_menage, dtype: int64"
      ]
     },
     "execution_count": 15,
     "metadata": {},
     "output_type": "execute_result"
    }
   ],
   "source": [
    "fisc_revenu[\"Type_menage\"].value_counts(dropna=False)"
   ]
  },
  {
   "cell_type": "code",
   "execution_count": null,
   "metadata": {},
   "outputs": [],
   "source": []
  },
  {
   "cell_type": "code",
   "execution_count": null,
   "metadata": {},
   "outputs": [],
   "source": []
  },
  {
   "cell_type": "code",
   "execution_count": null,
   "metadata": {},
   "outputs": [],
   "source": []
  },
  {
   "cell_type": "code",
   "execution_count": 16,
   "metadata": {},
   "outputs": [],
   "source": [
    "## Reconstruct family structure: number of dependent children, number of minor children, number of major attached children,\n",
    "# number of major detached childre."
   ]
  },
  {
   "cell_type": "code",
   "execution_count": 17,
   "metadata": {},
   "outputs": [],
   "source": [
    "dependent_groupby_TYPE_FISC.name = \"Type_fisc_sum_over_fisc_log\"\n",
    "dependent_groupby_TYPE_FISC = dependent_groupby_TYPE_FISC.to_frame()"
   ]
  },
  {
   "cell_type": "code",
   "execution_count": 18,
   "metadata": {},
   "outputs": [],
   "source": [
    "dependent_groupby_TYPE_FISC[\"nb_of_declarant_one_by_id_fisc_log\"] = dependent_groupby_TYPE_FISC.Type_fisc_sum_over_fisc_log.str.count('1')\n",
    "dependent_groupby_TYPE_FISC[\"declarant_two_in_id_fisc_log\"]  = dependent_groupby_TYPE_FISC.Type_fisc_sum_over_fisc_log.str.contains('2')"
   ]
  },
  {
   "cell_type": "code",
   "execution_count": 19,
   "metadata": {},
   "outputs": [],
   "source": [
    "df = dependent_groupby_TYPE_FISC"
   ]
  },
  {
   "cell_type": "code",
   "execution_count": 20,
   "metadata": {},
   "outputs": [],
   "source": [
    "dependent_groupby_TYPE_FISC[\"nb_of_declarant_one_by_id_fisc_log\"] = dependent_groupby_TYPE_FISC.Type_fisc_sum_over_fisc_log.str.count('1')\n",
    "dependent_groupby_TYPE_FISC[\"declarant_two_in_id_fisc_log\"]  = dependent_groupby_TYPE_FISC.Type_fisc_sum_over_fisc_log.str.contains('2')\n",
    "dependent_groupby_TYPE_FISC[\"is_concubin_household\"] = dependent_groupby_TYPE_FISC.index.isin(\n",
    "                                                                    pickle_dict[\"concubin_with_or_without_children_id_fisc_log_{}\".format(year)])\n",
    "dependent_groupby_TYPE_FISC[\"is_celib_with_detached_child\"] = dependent_groupby_TYPE_FISC.index.isin(\n",
    "pickle_dict[\"celib_with_detached_child_id_fisc_log_{}\".format(year)])\n",
    "dependent_groupby_TYPE_FISC[\"Nb_attached_minor_child\"] = dependent_groupby_TYPE_FISC.Type_fisc_sum_over_fisc_log.str.count(\"[A-Z]\")\n",
    "dependent_groupby_TYPE_FISC[\"Nb_attached_major_child\"]  = dependent_groupby_TYPE_FISC.Type_fisc_sum_over_fisc_log.str.count(\"[3-9]\")"
   ]
  },
  {
   "cell_type": "code",
   "execution_count": 21,
   "metadata": {},
   "outputs": [],
   "source": [
    "dependent_groupby_TYPE_FISC[\"is_concubin\"] = dependent_groupby_TYPE_FISC.index.isin(pickle_dict[\"concubin_with_or_without_children_id_fisc_log_{}\".format(year)])\n",
    "dependent_groupby_TYPE_FISC[\"is_celib_with_detached_child\"] = df.nb_of_declarant_one_by_id_fisc_log.index.isin(\n",
    "                                                                                                pickle_dict[\"celib_with_detached_child_id_fisc_log_{}\".format(year)])\n"
   ]
  },
  {
   "cell_type": "code",
   "execution_count": 22,
   "metadata": {},
   "outputs": [
    {
     "data": {
      "text/plain": [
       "0    2222905\n",
       "1     149649\n",
       "2      35586\n",
       "3       4005\n",
       "4        583\n",
       "6         26\n",
       "5          6\n",
       "8          4\n",
       "9          1\n",
       "7          1\n",
       "Name: Nb_attached_major_child, dtype: int64"
      ]
     },
     "execution_count": 22,
     "metadata": {},
     "output_type": "execute_result"
    }
   ],
   "source": [
    "dependent_groupby_TYPE_FISC.Nb_attached_major_child.value_counts()"
   ]
  },
  {
   "cell_type": "code",
   "execution_count": 23,
   "metadata": {},
   "outputs": [],
   "source": [
    "dependent_groupby_TYPE_FISC[\"Nb_detached_major_child\"] = (((df.nb_of_declarant_one_by_id_fisc_log-2) * df.is_concubin_household) \n",
    "                         + ((df.nb_of_declarant_one_by_id_fisc_log-1) * df.is_celib_with_detached_child)\n",
    "                         + (df.declarant_two_in_id_fisc_log * (df.nb_of_declarant_one_by_id_fisc_log-1))\n",
    "                        )"
   ]
  },
  {
   "cell_type": "code",
   "execution_count": 24,
   "metadata": {},
   "outputs": [],
   "source": [
    "fisc_revenu[\"Nb_parents\"] = ( fisc_revenu.Type_menage.isin([\"couple_mar_pac_child_ss_maj\",\n",
    "                                  \"couple_child_detached_or_attached\",\n",
    "                                  \"couple_mar_pac_ss_enf\", \"couple_mar_pac_child_maj_ratach\",\n",
    "                                  \"concubin_with_or_without_children\"]) * 2\n",
    "                            + fisc_revenu.Type_menage.isin([\"celib_ss_enf\",\n",
    "                                                          \"celib_with_detached_child\",\n",
    "                                                          \"celib_ac_enf_ss_maj\",]) * 1)"
   ]
  },
  {
   "cell_type": "code",
   "execution_count": 25,
   "metadata": {},
   "outputs": [],
   "source": [
    "merge = pd.merge(fisc_revenu.reset_index(),dependent_groupby_TYPE_FISC.reset_index(), on = 'ID_FISC_LOG_DIFF' )"
   ]
  },
  {
   "cell_type": "code",
   "execution_count": 26,
   "metadata": {},
   "outputs": [],
   "source": [
    "merge[\"Nb_child\"] = merge.Nb_detached_major_child + merge.Nb_attached_major_child + merge.Nb_attached_minor_child"
   ]
  },
  {
   "cell_type": "code",
   "execution_count": 27,
   "metadata": {},
   "outputs": [
    {
     "data": {
      "text/plain": [
       "True     0.793792\n",
       "False    0.206208\n",
       "dtype: float64"
      ]
     },
     "execution_count": 27,
     "metadata": {},
     "output_type": "execute_result"
    }
   ],
   "source": [
    "(merge.Nb_child +merge.Nb_parents == merge.NBPERSM).value_counts(normalize = True)"
   ]
  },
  {
   "cell_type": "code",
   "execution_count": 28,
   "metadata": {},
   "outputs": [
    {
     "data": {
      "text/plain": [
       "True     1889349\n",
       "False     490807\n",
       "dtype: int64"
      ]
     },
     "execution_count": 28,
     "metadata": {},
     "output_type": "execute_result"
    }
   ],
   "source": [
    "(merge.Nb_child +merge.Nb_parents == merge.NBPERSM).value_counts(normalize = False)"
   ]
  },
  {
   "cell_type": "code",
   "execution_count": 29,
   "metadata": {},
   "outputs": [],
   "source": [
    "### On vire les nans"
   ]
  },
  {
   "cell_type": "code",
   "execution_count": 30,
   "metadata": {},
   "outputs": [],
   "source": [
    "merge = merge[merge.Type_menage.notnull()]"
   ]
  },
  {
   "cell_type": "code",
   "execution_count": null,
   "metadata": {},
   "outputs": [],
   "source": []
  },
  {
   "cell_type": "code",
   "execution_count": 31,
   "metadata": {},
   "outputs": [
    {
     "data": {
      "text/plain": [
       "True     1881392\n",
       "False       5165\n",
       "dtype: int64"
      ]
     },
     "execution_count": 31,
     "metadata": {},
     "output_type": "execute_result"
    }
   ],
   "source": [
    "(merge.Nb_child +merge.Nb_parents == merge.NBPERSM).value_counts(normalize = False)"
   ]
  },
  {
   "cell_type": "code",
   "execution_count": 32,
   "metadata": {},
   "outputs": [],
   "source": [
    "# 8 annoamalies TODO: voir pourquoi..."
   ]
  },
  {
   "cell_type": "code",
   "execution_count": 33,
   "metadata": {},
   "outputs": [],
   "source": [
    "merge= merge[(merge.Nb_child +merge.Nb_parents == merge.NBPERSM)]"
   ]
  },
  {
   "cell_type": "code",
   "execution_count": 34,
   "metadata": {},
   "outputs": [
    {
     "name": "stderr",
     "output_type": "stream",
     "text": [
      "C:\\Users\\IMPTEMP_A_PACIFIC\\Desktop\\WinPython-64bit-3.6.3.0Qt5\\python-3.6.3.amd64\\lib\\site-packages\\ipykernel_launcher.py:1: FutureWarning: convert_objects is deprecated.  To re-infer data dtypes for object columns, use DataFrame.infer_objects()\n",
      "For all other conversions use the data-type specific converters pd.to_datetime, pd.to_timedelta and pd.to_numeric.\n",
      "  \"\"\"Entry point for launching an IPython kernel.\n"
     ]
    }
   ],
   "source": [
    "merge = merge.convert_objects()"
   ]
  },
  {
   "cell_type": "code",
   "execution_count": 35,
   "metadata": {},
   "outputs": [],
   "source": [
    "#result_store_path = 'C:/Users/IMPTEMP_A_PACIFIC/Desktop/EDP_2016/Data/hdf/result.h5'"
   ]
  },
  {
   "cell_type": "code",
   "execution_count": 36,
   "metadata": {},
   "outputs": [],
   "source": [
    "#merge.to_hdf(result_store_path, \"step_2\", format = \"t\")"
   ]
  },
  {
   "cell_type": "code",
   "execution_count": 37,
   "metadata": {},
   "outputs": [],
   "source": [
    "#pd.read_hdf(result_store_path, \"step_2\")"
   ]
  },
  {
   "cell_type": "code",
   "execution_count": null,
   "metadata": {},
   "outputs": [],
   "source": [
    "merge.head()"
   ]
  },
  {
   "cell_type": "code",
   "execution_count": 39,
   "metadata": {},
   "outputs": [
    {
     "data": {
      "text/plain": [
       "'C:/Users/IMPTEMP_A_PACIFIC/Desktop/EDP_2016/Data/hdf/result.h5'"
      ]
     },
     "execution_count": 39,
     "metadata": {},
     "output_type": "execute_result"
    }
   ],
   "source": [
    "result_store_path"
   ]
  },
  {
   "cell_type": "code",
   "execution_count": 40,
   "metadata": {},
   "outputs": [],
   "source": [
    "child_or_parent = pd.read_hdf(result_store_path,\"fisci_child_or_parent_{}\".format(year))"
   ]
  },
  {
   "cell_type": "code",
   "execution_count": 41,
   "metadata": {},
   "outputs": [],
   "source": [
    "child_or_parent[\"ID_FISC_FOY_DIFF\"] =child_or_parent[\"ID_FISC_FOY_DIFF_y\"]"
   ]
  },
  {
   "cell_type": "code",
   "execution_count": null,
   "metadata": {},
   "outputs": [],
   "source": [
    "child_or_parent.T"
   ]
  },
  {
   "cell_type": "code",
   "execution_count": 43,
   "metadata": {},
   "outputs": [],
   "source": [
    "hello = pd.merge(child_or_parent, fisc_individu, on = [\"ID_FISC_FOY_DIFF\",\"ORDREFIP\",\"TYPE_FISC\"] )"
   ]
  },
  {
   "cell_type": "code",
   "execution_count": 44,
   "metadata": {},
   "outputs": [],
   "source": [
    "hello2 = pd.merge(hello, merge, on = [\"ID_FISC_LOG_DIFF\"], how = \"left\")"
   ]
  },
  {
   "cell_type": "markdown",
   "metadata": {},
   "source": [
    "### Determine if child or parent"
   ]
  },
  {
   "cell_type": "code",
   "execution_count": 45,
   "metadata": {},
   "outputs": [],
   "source": [
    "fisc_individu2 = pd.merge(merge[[\"Type_menage\", \"ID_FISC_LOG_DIFF\"]], fisc_individu, on = [\"ID_FISC_LOG_DIFF\"], how = \"right\")"
   ]
  },
  {
   "cell_type": "code",
   "execution_count": null,
   "metadata": {},
   "outputs": [],
   "source": []
  },
  {
   "cell_type": "code",
   "execution_count": 46,
   "metadata": {},
   "outputs": [],
   "source": [
    "#On va dire que les deux plus vieux du ménage sont les parents"
   ]
  },
  {
   "cell_type": "code",
   "execution_count": 47,
   "metadata": {},
   "outputs": [],
   "source": [
    "fisc_individu2 = fisc_individu2.sort_values(\"ANAIS\", ascending=False) #On sort pour avoir les plus vieux en premier\n",
    "fisc_individu2[\"Age_rank_in_household\"] = fisc_individu2.groupby(\"ID_FISC_LOG_DIFF\").cumcount() + 1"
   ]
  },
  {
   "cell_type": "code",
   "execution_count": 48,
   "metadata": {},
   "outputs": [
    {
     "name": "stderr",
     "output_type": "stream",
     "text": [
      "C:\\Users\\IMPTEMP_A_PACIFIC\\Desktop\\WinPython-64bit-3.6.3.0Qt5\\python-3.6.3.amd64\\lib\\site-packages\\ipykernel_launcher.py:1: UserWarning: Boolean Series key will be reindexed to match DataFrame index.\n",
      "  \"\"\"Entry point for launching an IPython kernel.\n"
     ]
    }
   ],
   "source": [
    "fisc_individu2[\"Anais_2nd_Declarant\"] = fisc_individu[fisc_individu2.TYPE_FISC==\"2\"].ANAIS\n",
    "grpby_anais_2nd_declarant = fisc_individu2[[\"ID_FISC_LOG_DIFF\", \"Anais_2nd_Declarant\"]].groupby(\"ID_FISC_LOG_DIFF\").Anais_2nd_Declarant.sum()\n",
    "fisc_individu2.drop(columns = \"Anais_2nd_Declarant\", inplace = True)\n",
    "fisc_individu2 = pd.merge(fisc_individu2, grpby_anais_2nd_declarant.reset_index(), how = \"left\", on = \"ID_FISC_LOG_DIFF\" ).sort_values(\"ID_FISC_LOG_DIFF\")"
   ]
  },
  {
   "cell_type": "code",
   "execution_count": null,
   "metadata": {},
   "outputs": [],
   "source": [
    "grpby_anais_2nd_declarant"
   ]
  },
  {
   "cell_type": "code",
   "execution_count": 50,
   "metadata": {},
   "outputs": [],
   "source": [
    "#TODO remplacer par += pour vérifier que personne n'est égal à 2 !"
   ]
  },
  {
   "cell_type": "code",
   "execution_count": 51,
   "metadata": {},
   "outputs": [],
   "source": [
    "fisc_individu2[\"Parent\"] = False\n",
    "fisc_individu2[\"Child\"] = False"
   ]
  },
  {
   "cell_type": "code",
   "execution_count": 52,
   "metadata": {},
   "outputs": [
    {
     "name": "stderr",
     "output_type": "stream",
     "text": [
      "C:\\Users\\IMPTEMP_A_PACIFIC\\Desktop\\WinPython-64bit-3.6.3.0Qt5\\python-3.6.3.amd64\\lib\\site-packages\\pandas\\core\\computation\\expressions.py:179: UserWarning: evaluating in Python space because the '+' operator is not supported by numexpr for the bool dtype, use '|' instead\n",
      "  .format(op=op_str, alt_op=unsupported[op_str]))\n"
     ]
    }
   ],
   "source": [
    "#Parents\n",
    "is_declarant = (fisc_individu2.TYPE_FISC.str.contains(\"[1-2]\", regex=True)) #True only for 2 ! Make difference in age from the second declarant >= 18\n",
    "is_less_than_18_yrs_younger_than_2nd_declarant = fisc_individu2.Anais_2nd_Declarant >= fisc_individu2.ANAIS +18\n",
    "is_not_child = is_less_than_18_yrs_younger_than_2nd_declarant\n",
    "\n",
    "\n",
    "fisc_individu2.loc[((fisc_individu2.Type_menage == \"couple_mar_pac_ss_enf\")&is_not_child), 'Parent' ] = True\n",
    "fisc_individu2.loc[\n",
    "    ((fisc_individu2.Type_menage == \"couple_mar_pac_child_ss_maj\")& is_declarant & is_not_child), 'Parent' ] += True\n",
    "fisc_individu2.loc[\n",
    "    ((fisc_individu2.Type_menage == \"couple_mar_pac_child_maj_ratach\")& is_declarant & is_not_child), 'Parent' ] += True\n",
    "fisc_individu2.loc[\n",
    "    ((fisc_individu2.Type_menage == \"couple_child_detached_or_attached\")& is_declarant & is_not_child), 'Parent' ] += True\n",
    "\n",
    "fisc_individu2.loc[((fisc_individu2.Type_menage == \"celib_ss_enf\")&is_not_child), 'Parent' ] += True\n",
    "fisc_individu2.loc[((fisc_individu2.Type_menage == \"celib_ac_enf_ss_maj\")&is_not_child), 'Parent' ] += True\n",
    "fisc_individu2.loc[\n",
    "    ((fisc_individu2.Type_menage == \"single_ac_single_ac_enf_ac_maj_ratach\")\n",
    "     &(fisc_individu2.TYPE_FISC.str.contains(\"[1]\", regex=True))&is_not_child),\n",
    "                 'Parent' ] += True\n",
    "\n"
   ]
  },
  {
   "cell_type": "code",
   "execution_count": 53,
   "metadata": {},
   "outputs": [
    {
     "data": {
      "text/plain": [
       "False    6196508\n",
       "True     1325326\n",
       "Name: Parent, dtype: int64"
      ]
     },
     "execution_count": 53,
     "metadata": {},
     "output_type": "execute_result"
    }
   ],
   "source": [
    "fisc_individu2.Parent.value_counts(dropna= False)"
   ]
  },
  {
   "cell_type": "code",
   "execution_count": null,
   "metadata": {},
   "outputs": [],
   "source": [
    "### Mauvais merge !!! "
   ]
  },
  {
   "cell_type": "code",
   "execution_count": null,
   "metadata": {},
   "outputs": [],
   "source": [
    "fisc_individu2[[\"ID_FISC_LOG_DIFF\",\"Type_menage\",\"TYPE_FISC\",\n",
    "                \"SEXE\",\"JNAIS\",\"MNAIS\",\"ANAIS\",\"Parent\", \"Anais_2nd_Declarant\" ]]"
   ]
  },
  {
   "cell_type": "code",
   "execution_count": 55,
   "metadata": {},
   "outputs": [
    {
     "data": {
      "text/plain": [
       "False    6196508\n",
       "True     1325326\n",
       "Name: Parent, dtype: int64"
      ]
     },
     "execution_count": 55,
     "metadata": {},
     "output_type": "execute_result"
    }
   ],
   "source": [
    "fisc_individu2.Parent.value_counts(dropna= False)"
   ]
  },
  {
   "cell_type": "code",
   "execution_count": 56,
   "metadata": {},
   "outputs": [
    {
     "name": "stderr",
     "output_type": "stream",
     "text": [
      "C:\\Users\\IMPTEMP_A_PACIFIC\\Desktop\\WinPython-64bit-3.6.3.0Qt5\\python-3.6.3.amd64\\lib\\site-packages\\pandas\\core\\computation\\expressions.py:179: UserWarning: evaluating in Python space because the '+' operator is not supported by numexpr for the bool dtype, use '|' instead\n",
      "  .format(op=op_str, alt_op=unsupported[op_str]))\n"
     ]
    }
   ],
   "source": [
    "# Enfants\n",
    "is_major_attached = (fisc_individu2.TYPE_FISC.str.contains(\"[3-9]\", regex=True))\n",
    "is_minor_attached = (fisc_individu2.TYPE_FISC.str.contains(\"[A-K]\", regex=True))\n",
    "#Parents\n",
    "fisc_individu2.loc[fisc_individu2.Type_menage == \"couple_mar_pac_ss_enf\", 'Child' ] += True\n",
    "fisc_individu2.loc[(\n",
    "    (fisc_individu2.Type_menage == \"couple_mar_pac_child_ss_maj\")\n",
    "     & is_minor_attached ),'Child' ] += True\n",
    "\n",
    "\n",
    "\n",
    "fisc_individu2.loc[\n",
    "    ((fisc_individu2.Type_menage == \"couple_mar_pac_child_maj_ratach\") &(is_major_attached | is_minor_attached) ), 'Child' ] += True # Do not \n",
    "# fisc_individu2.loc[\n",
    "#     ((fisc_individu2.Type_menage == \"couple_child_detached_or_attached\")& is_declarant), 'Parent' ] += True\n",
    "\n",
    "# fisc_individu2.loc[fisc_individu2.Type_menage == \"celib_ss_enf\", 'Parent' ] += True\n",
    "# fisc_individu2.loc[fisc_individu2.Type_menage == \"celib_ac_enf_ss_maj\", 'Parent' ] += True\n",
    "# fisc_individu2.loc[\n",
    "#     ((fisc_individu2.Type_menage == \"single_ac_single_ac_enf_ac_maj_ratach\")\n",
    "#      &(fisc_individu2.TYPE_FISC.str.contains(\"[1]\", regex=True))),\n",
    "#                  'Parent' ] += True\n"
   ]
  },
  {
   "cell_type": "code",
   "execution_count": 57,
   "metadata": {},
   "outputs": [
    {
     "data": {
      "text/plain": [
       "couple_mar_pac_child_ss_maj              2215930\n",
       "concubin_with_or_without_children         968106\n",
       "couple_mar_pac_ss_enf                     849162\n",
       "couple_child_detached_or_attached         830255\n",
       "couple_mar_pac_child_maj_ratach           416606\n",
       "celib_with_detached_child                 275268\n",
       "celib_ss_enf                              171821\n",
       "celib_ac_enf_ss_maj                       122458\n",
       "single_ac_single_ac_enf_ac_maj_ratach          0\n",
       "Name: Type_menage, dtype: int64"
      ]
     },
     "execution_count": 57,
     "metadata": {},
     "output_type": "execute_result"
    }
   ],
   "source": [
    "fisc_individu2.Type_menage.value_counts()"
   ]
  },
  {
   "cell_type": "code",
   "execution_count": null,
   "metadata": {},
   "outputs": [],
   "source": []
  },
  {
   "cell_type": "code",
   "execution_count": 58,
   "metadata": {},
   "outputs": [
    {
     "name": "stdout",
     "output_type": "stream",
     "text": [
      "now:  2018-07-22 21:33:47.139916\n",
      "execution_time:  0:03:14.920252\n"
     ]
    }
   ],
   "source": [
    "stop_time = datetime.datetime.now(); print(\"now: \",stop_time);\n",
    "execution_time = stop_time - start_time; print(\"execution_time: \",execution_time)"
   ]
  },
  {
   "cell_type": "code",
   "execution_count": null,
   "metadata": {},
   "outputs": [],
   "source": []
  },
  {
   "cell_type": "code",
   "execution_count": null,
   "metadata": {},
   "outputs": [],
   "source": []
  },
  {
   "cell_type": "code",
   "execution_count": null,
   "metadata": {},
   "outputs": [],
   "source": []
  },
  {
   "cell_type": "code",
   "execution_count": null,
   "metadata": {},
   "outputs": [],
   "source": []
  }
 ],
 "metadata": {
  "kernelspec": {
   "display_name": "Python 3",
   "language": "python",
   "name": "python3"
  },
  "language_info": {
   "codemirror_mode": {
    "name": "ipython",
    "version": 3
   },
   "file_extension": ".py",
   "mimetype": "text/x-python",
   "name": "python",
   "nbconvert_exporter": "python",
   "pygments_lexer": "ipython3",
   "version": "3.6.3"
  }
 },
 "nbformat": 4,
 "nbformat_minor": 2
}
