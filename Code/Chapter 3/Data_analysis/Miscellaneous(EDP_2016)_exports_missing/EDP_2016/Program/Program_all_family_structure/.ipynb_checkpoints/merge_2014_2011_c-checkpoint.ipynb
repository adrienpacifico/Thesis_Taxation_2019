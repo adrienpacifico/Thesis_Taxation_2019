{
 "cells": [
  {
   "cell_type": "code",
   "execution_count": 1,
   "metadata": {},
   "outputs": [
    {
     "name": "stdout",
     "output_type": "stream",
     "text": [
      "2018-07-20 14:14:27.711643\n"
     ]
    }
   ],
   "source": [
    "import datetime\n",
    "start_time = datetime.datetime.now(); print(start_time)"
   ]
  },
  {
   "cell_type": "code",
   "execution_count": 2,
   "metadata": {},
   "outputs": [],
   "source": [
    "secret = False #Will be put to True for a CASD export"
   ]
  },
  {
   "cell_type": "code",
   "execution_count": 3,
   "metadata": {},
   "outputs": [
    {
     "data": {
      "text/html": [
       "<style>.container { width:100% !important; }<\\style>"
      ],
      "text/plain": [
       "<IPython.core.display.HTML object>"
      ]
     },
     "metadata": {},
     "output_type": "display_data"
    }
   ],
   "source": [
    "from IPython.core.display import display, HTML\n",
    "display(HTML(\"<style>.container { width:100% !important; }<\\style>\"))"
   ]
  },
  {
   "cell_type": "code",
   "execution_count": 4,
   "metadata": {},
   "outputs": [],
   "source": [
    "import gc\n",
    "from IPython.display import display\n",
    "import matplotlib.pyplot as plt\n",
    "import numpy as np\n",
    "import pandas as pd ; pd.set_option(\"display.max_columns\",200)\n",
    "import pickle"
   ]
  },
  {
   "cell_type": "code",
   "execution_count": 5,
   "metadata": {},
   "outputs": [],
   "source": [
    "store_path = 'C:/Users/IMPTEMP_A_PACIFIC/Desktop/EDP_2016/Data/hdf/edp_2016_final.h5'\n",
    "reaction_store_path = 'C:/Users/IMPTEMP_A_PACIFIC/Desktop/EDP_2016/Data/hdf/reaction.h5'\n",
    "result_store_path = 'C:/Users/IMPTEMP_A_PACIFIC/Desktop/EDP_2016/Data/hdf/result.h5'\n",
    "dads_by_year_store_path = 'C:/Users/IMPTEMP_A_PACIFIC/Desktop/EDP_2016/Data/hdf/dads_by_year.h5'\n",
    "pickles_path = 'C:/Users/IMPTEMP_A_PACIFIC/Desktop/EDP_2016/Data/pickles/'\n",
    "Store = pd.HDFStore(result_store_path)"
   ]
  },
  {
   "cell_type": "code",
   "execution_count": 6,
   "metadata": {},
   "outputs": [
    {
     "data": {
      "text/plain": [
       "<class 'pandas.io.pytables.HDFStore'>\n",
       "File path: C:/Users/IMPTEMP_A_PACIFIC/Desktop/EDP_2016/Data/hdf/result.h5"
      ]
     },
     "execution_count": 6,
     "metadata": {},
     "output_type": "execute_result"
    }
   ],
   "source": [
    "Store"
   ]
  },
  {
   "cell_type": "code",
   "execution_count": 9,
   "metadata": {},
   "outputs": [],
   "source": [
    "df_2011 = pd.read_hdf( result_store_path,\"step_4\" )"
   ]
  },
  {
   "cell_type": "code",
   "execution_count": 10,
   "metadata": {},
   "outputs": [],
   "source": [
    "df_2014 = pd.read_hdf( result_store_path,\"step_4_2015\" )"
   ]
  },
  {
   "cell_type": "code",
   "execution_count": 11,
   "metadata": {},
   "outputs": [
    {
     "data": {
      "text/plain": [
       "256"
      ]
     },
     "execution_count": 11,
     "metadata": {},
     "output_type": "execute_result"
    }
   ],
   "source": [
    "len(df_2014.columns)"
   ]
  },
  {
   "cell_type": "code",
   "execution_count": 12,
   "metadata": {},
   "outputs": [
    {
     "data": {
      "text/plain": [
       "256"
      ]
     },
     "execution_count": 12,
     "metadata": {},
     "output_type": "execute_result"
    }
   ],
   "source": [
    "len(df_2011.columns)"
   ]
  },
  {
   "cell_type": "code",
   "execution_count": 13,
   "metadata": {},
   "outputs": [
    {
     "data": {
      "text/plain": [
       "(1114270, 256)"
      ]
     },
     "execution_count": 13,
     "metadata": {},
     "output_type": "execute_result"
    }
   ],
   "source": [
    "df_2011.shape"
   ]
  },
  {
   "cell_type": "code",
   "execution_count": 14,
   "metadata": {},
   "outputs": [
    {
     "data": {
      "text/plain": [
       "(2513545, 256)"
      ]
     },
     "execution_count": 14,
     "metadata": {},
     "output_type": "execute_result"
    }
   ],
   "source": [
    "df_2014.shape"
   ]
  },
  {
   "cell_type": "code",
   "execution_count": 15,
   "metadata": {},
   "outputs": [],
   "source": [
    "df = pd.merge(df_2011, df_2014, on = \"ID_FISC_LOG_DIFF\", suffixes=(\"_2011\", \"_2014\"))"
   ]
  },
  {
   "cell_type": "code",
   "execution_count": 16,
   "metadata": {},
   "outputs": [],
   "source": [
    "try: del df_2011, df_2014\n",
    "except: pass"
   ]
  },
  {
   "cell_type": "code",
   "execution_count": 17,
   "metadata": {},
   "outputs": [
    {
     "data": {
      "text/plain": [
       "171"
      ]
     },
     "execution_count": 17,
     "metadata": {},
     "output_type": "execute_result"
    }
   ],
   "source": [
    "import gc; gc.collect()"
   ]
  },
  {
   "cell_type": "code",
   "execution_count": 18,
   "metadata": {},
   "outputs": [
    {
     "data": {
      "text/plain": [
       "(809819, 511)"
      ]
     },
     "execution_count": 18,
     "metadata": {},
     "output_type": "execute_result"
    }
   ],
   "source": [
    "df.shape"
   ]
  },
  {
   "cell_type": "code",
   "execution_count": 21,
   "metadata": {
    "scrolled": true
   },
   "outputs": [
    {
     "name": "stderr",
     "output_type": "stream",
     "text": [
      "C:\\Users\\IMPTEMP_A_PACIFIC\\Desktop\\WinPython-64bit-3.6.3.0Qt5\\python-3.6.3.amd64\\lib\\site-packages\\pandas\\core\\generic.py:1471: PerformanceWarning: \n",
      "your performance may suffer as PyTables will pickle object types that it cannot\n",
      "map directly to c-types [inferred_type->mixed-integer,key->block2_values] [items->['ID_FISC_LOG_DIFF', 'DEP_x_2011', 'DEPCOM_2011', 'I_CHAMPM_2011', 'I_PAUVRE50M_2011', 'I_PAUVRE60M_2011', 'DEP_y_2011', 'SECCAD_2011', 'OCC_2011', 'DNATLC_2011', 'NATLOC_2011', 'TAX_2011', 'NLOC4_2011', 'EAU_2011', 'EGOUT_2011', 'ELEC_2011', 'GAZ_2011', 'CHAUFF_2011', 'ASCENSEUR_2011', 'DADS_ID_DIFF_2011', 'DADS_DEPR_2011', 'DADS_COMR_2011', 'DADS_DEPT_2011', 'DADS_COMT_2011', 'DADS_CONTRAT_TRAVAIL_2011', 'DADS_CS1_2011', 'DADS_CS2_2011', 'DADS_PCS4_2011', 'DADS_CAT_2011', 'DADS_CE_2011', 'DADS_A38_2011', 'DADS_APE40_2011', 'DADS_NES5_2011', 'DADS_ID_DIFF_pere_2011', 'DADS_ID_DIFF_mere_2011', 'DADS_DEPR_pere_2011', 'DADS_DEPR_mere_2011', 'DADS_COMR_pere_2011', 'DADS_COMR_mere_2011', 'DADS_DEPT_pere_2011', 'DADS_DEPT_mere_2011', 'DADS_COMT_pere_2011', 'DADS_COMT_mere_2011', 'DADS_CONTRAT_TRAVAIL_pere_2011', 'DADS_CONTRAT_TRAVAIL_mere_2011', 'DADS_CS1_pere_2011', 'DADS_CS1_mere_2011', 'DADS_CS2_pere_2011', 'DADS_CS2_mere_2011', 'DADS_PCS4_pere_2011', 'DADS_PCS4_mere_2011', 'DADS_CAT_pere_2011', 'DADS_CAT_mere_2011', 'DADS_CE_pere_2011', 'DADS_CE_mere_2011', 'DADS_A38_pere_2011', 'DADS_A38_mere_2011', 'DADS_APE40_pere_2011', 'DADS_APE40_mere_2011', 'DADS_NES5_pere_2011', 'DADS_NES5_mere_2011', 'DEP_x_2014', 'DEPCOM_2014', 'I_PAUVRE50M_2014', 'I_PAUVRE60M_2014', 'DEP_y_2014', 'SECCAD_2014', 'OCC_2014', 'DNATLC_2014', 'NATLOC_2014', 'TAX_2014', 'NLOC4_2014', 'EAU_2014', 'EGOUT_2014', 'ELEC_2014', 'GAZ_2014', 'CHAUFF_2014', 'ASCENSEUR_2014', 'NUM_IRIS_2014', 'NUM_QPV_2014', 'DADS_ID_DIFF_2014', 'DADS_DEPR_2014', 'DADS_COMR_2014', 'DADS_DEPT_2014', 'DADS_COMT_2014', 'DADS_CONTRAT_TRAVAIL_2014', 'DADS_CS1_2014', 'DADS_CS2_2014', 'DADS_PCS4_2014', 'DADS_CAT_2014', 'DADS_CE_2014', 'DADS_A38_2014', 'DADS_APE40_2014', 'DADS_NES5_2014', 'SEXE_2014', 'DADS_ID_DIFF_pere_2014', 'DADS_ID_DIFF_mere_2014', 'DADS_DEPR_pere_2014', 'DADS_DEPR_mere_2014', 'DADS_COMR_pere_2014', 'DADS_COMR_mere_2014', 'DADS_DEPT_pere_2014', 'DADS_DEPT_mere_2014', 'DADS_COMT_pere_2014', 'DADS_COMT_mere_2014', 'DADS_CONTRAT_TRAVAIL_pere_2014', 'DADS_CONTRAT_TRAVAIL_mere_2014', 'DADS_CS1_pere_2014', 'DADS_CS1_mere_2014', 'DADS_CS2_pere_2014', 'DADS_CS2_mere_2014', 'DADS_PCS4_pere_2014', 'DADS_PCS4_mere_2014', 'DADS_CAT_pere_2014', 'DADS_CAT_mere_2014', 'DADS_CE_pere_2014', 'DADS_CE_mere_2014', 'DADS_A38_pere_2014', 'DADS_A38_mere_2014', 'DADS_APE40_pere_2014', 'DADS_APE40_mere_2014', 'DADS_NES5_pere_2014', 'DADS_NES5_mere_2014']]\n",
      "\n",
      "  return pytables.to_hdf(path_or_buf, key, self, **kwargs)\n"
     ]
    }
   ],
   "source": [
    "df.to_hdf(result_store_path, \"merge_2011_2014\")"
   ]
  },
  {
   "cell_type": "code",
   "execution_count": 19,
   "metadata": {},
   "outputs": [
    {
     "name": "stdout",
     "output_type": "stream",
     "text": [
      "now:  2018-07-20 14:16:50.006756\n",
      "execution_time:  0:02:22.295113\n"
     ]
    }
   ],
   "source": [
    "stop_time = datetime.datetime.now(); print(\"now: \",stop_time);\n",
    "execution_time = stop_time - start_time; print(\"execution_time: \",execution_time)"
   ]
  }
 ],
 "metadata": {
  "kernelspec": {
   "display_name": "Python 3",
   "language": "python",
   "name": "python3"
  },
  "language_info": {
   "codemirror_mode": {
    "name": "ipython",
    "version": 3
   },
   "file_extension": ".py",
   "mimetype": "text/x-python",
   "name": "python",
   "nbconvert_exporter": "python",
   "pygments_lexer": "ipython3",
   "version": "3.6.3"
  }
 },
 "nbformat": 4,
 "nbformat_minor": 2
}
