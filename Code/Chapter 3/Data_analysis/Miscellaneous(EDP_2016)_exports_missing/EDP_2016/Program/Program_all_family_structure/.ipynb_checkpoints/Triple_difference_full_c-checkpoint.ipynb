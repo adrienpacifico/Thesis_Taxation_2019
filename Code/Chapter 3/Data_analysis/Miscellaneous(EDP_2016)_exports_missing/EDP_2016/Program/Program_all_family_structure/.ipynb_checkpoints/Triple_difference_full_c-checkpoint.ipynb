{
 "cells": [
  {
   "cell_type": "markdown",
   "metadata": {},
   "source": [
    "# Inverstigation of EDP"
   ]
  },
  {
   "cell_type": "code",
   "execution_count": 1,
   "metadata": {},
   "outputs": [],
   "source": [
    "%matplotlib inline"
   ]
  },
  {
   "cell_type": "code",
   "execution_count": 2,
   "metadata": {
    "collapsed": true
   },
   "outputs": [],
   "source": [
    "import matplotlib.pyplot as plt"
   ]
  },
  {
   "cell_type": "code",
   "execution_count": 3,
   "metadata": {},
   "outputs": [],
   "source": [
    "from __future__ import division\n",
    "import pandas as pd ; pd.set_option(\"display.max_columns\",200)\n",
    "import numpy as np"
   ]
  },
  {
   "cell_type": "code",
   "execution_count": 4,
   "metadata": {},
   "outputs": [],
   "source": [
    "store_path = 'C:/Users/IMPTEMP_A_PACIFIC/Desktop/EDP_2015/Data/hdf/edp_2015_final.h5'\n",
    "reaction_store_path = 'C:/Users/IMPTEMP_A_PACIFIC/Desktop/EDP_2015/Data/hdf/reaction.h5'\n",
    "Store = pd.HDFStore(store_path)"
   ]
  },
  {
   "cell_type": "code",
   "execution_count": 5,
   "metadata": {},
   "outputs": [
    {
     "data": {
      "text/plain": [
       "<class 'pandas.io.pytables.HDFStore'>\n",
       "File path: C:/Users/IMPTEMP_A_PACIFIC/Desktop/EDP_2015/Data/hdf/edp_2015_final.h5\n",
       "/DECES                                 frame        (shape->[358338,19])   \n",
       "/DESCENDANCE                           frame        (shape->[1320391,41])  \n",
       "/EAR2004_FAMILLE                       frame        (shape->[48316,13])    \n",
       "/EAR2004_INDIVIDU                      frame        (shape->[277933,86])   \n",
       "/EAR2004_LOGEMENT                      frame        (shape->[89892,52])    \n",
       "/EAR2005_FAMILLE                       frame        (shape->[78041,13])    \n",
       "/EAR2005_INDIVIDU                      frame        (shape->[283781,86])   \n",
       "/EAR2005_LOGEMENT                      frame        (shape->[91733,52])    \n",
       "/EAR2006_FAMILLE                       frame        (shape->[78227,13])    \n",
       "/EAR2006_INDIVIDU                      frame        (shape->[287786,86])   \n",
       "/EAR2006_LOGEMENT                      frame        (shape->[92761,52])    \n",
       "/EAR2007_FAMILLE                       frame        (shape->[78230,13])    \n",
       "/EAR2007_INDIVIDU                      frame        (shape->[283228,86])   \n",
       "/EAR2007_LOGEMENT                      frame        (shape->[92892,52])    \n",
       "/EAR2008_FAMILLE                       frame        (shape->[272545,13])   \n",
       "/EAR2008_INDIVIDU                      frame        (shape->[976703,86])   \n",
       "/EAR2008_LOGEMENT                      frame        (shape->[318891,52])   \n",
       "/EAR2009_FAMILLE                       frame        (shape->[307169,13])   \n",
       "/EAR2009_INDIVIDU                      frame        (shape->[1100141,87])  \n",
       "/EAR2009_LOGEMENT                      frame        (shape->[364051,53])   \n",
       "/EAR2010_FAMILLE                       frame        (shape->[307974,13])   \n",
       "/EAR2010_INDIVIDU                      frame        (shape->[1101133,87])  \n",
       "/EAR2010_LOGEMENT                      frame        (shape->[365338,59])   \n",
       "/EAR2011_FAMILLE                       frame        (shape->[304799,13])   \n",
       "/EAR2011_INDIVIDU                      frame        (shape->[1103412,87])  \n",
       "/EAR2011_LOGEMENT                      frame        (shape->[365353,59])   \n",
       "/EAR2012_FAMILLE                       frame        (shape->[304623,13])   \n",
       "/EAR2012_INDIVIDU                      frame        (shape->[1088188,88])  \n",
       "/EAR2012_LOGEMENT                      frame        (shape->[364466,60])   \n",
       "/EAR2013_FAMILLE                       frame        (shape->[307313,13])   \n",
       "/EAR2013_INDIVIDU                      frame        (shape->[1095329,88])  \n",
       "/EAR2013_LOGEMENT                      frame        (shape->[368097,60])   \n",
       "/EAR2014_FAMILLE                       frame        (shape->[306704,13])   \n",
       "/EAR2014_INDIVIDU                      frame        (shape->[1094413,89])  \n",
       "/EAR2014_LOGEMENT                      frame        (shape->[368049,60])   \n",
       "/EAR2015_FAMILLE                       frame        (shape->[307607,13])   \n",
       "/EAR2015_INDIVIDU                      frame        (shape->[1096137,89])  \n",
       "/EAR2015_LOGEMENT                      frame        (shape->[369412,60])   \n",
       "/FE                                    frame        (shape->[4261066,7])   \n",
       "/FISCI_BIOLOGIC_DESCENDANCE            frame        (shape->[192434,80])   \n",
       "/FISC_INDIVIDU                         frame        (shape->[18157421,28]) \n",
       "/FISC_INDIVIDU_2010                    frame        (shape->[7443729,28])  \n",
       "/FISC_INDIVIDU_2011                    frame        (shape->[7521928,28])  \n",
       "/FISC_INDIVIDU_2012                    frame        (shape->[7606885,28])  \n",
       "/FISC_INDIVIDU_2013                    frame        (shape->[7687654,28])  \n",
       "/FISC_INDIVIDU_2014                    frame        (shape->[7897225,28])  \n",
       "/FISC_LOGEMENT                         frame        (shape->[12196848,36]) \n",
       "/FISC_LOGEMENT_2010                    frame        (shape->[2371126,36])  \n",
       "/FISC_LOGEMENT_2011                    frame        (shape->[2406495,36])  \n",
       "/FISC_LOGEMENT_2012                    frame        (shape->[2438524,36])  \n",
       "/FISC_LOGEMENT_2013                    frame        (shape->[2463418,36])  \n",
       "/FISC_LOGEMENT_2014                    frame        (shape->[2517285,36])  \n",
       "/FISC_REVDET                           frame        (shape->[6466735,12])  \n",
       "/FISC_REVDET_2010                      frame        (shape->[5187327,12])  \n",
       "/FISC_REVDET_2011                      frame        (shape->[5231237,12])  \n",
       "/FISC_REVDET_2012                      frame        (shape->[5278844,12])  \n",
       "/FISC_REVDET_2013                      frame        (shape->[5307821,12])  \n",
       "/FISC_REVDET_2014                      frame        (shape->[5461506,12])  \n",
       "/FISC_REVDET_2015                      frame        (shape->[5461506,12])  \n",
       "/FISC_REVENU                           frame        (shape->[12051219,100])\n",
       "/FISC_REVENU_2010                      frame        (shape->[2348114,100]) \n",
       "/FISC_REVENU_2011                      frame        (shape->[2380185,100]) \n",
       "/FISC_REVENU_2012                      frame        (shape->[2410915,100]) \n",
       "/FISC_REVENU_2013                      frame        (shape->[2433291,100]) \n",
       "/FISC_REVENU_2014                      frame        (shape->[2478714,100]) \n",
       "/FISC_REVENU_2348114                   frame        (shape->[1,100])       \n",
       "/FISC_REVENU_2380185                   frame        (shape->[1,100])       \n",
       "/FISC_REVENU_2410915                   frame        (shape->[1,100])       \n",
       "/FISC_REVENU_2433291                   frame        (shape->[1,100])       \n",
       "/FISC_REVENU_2478714                   frame        (shape->[1,100])       \n",
       "/INDIVIDU                              frame        (shape->[3571655,43])  \n",
       "/MARIAGE                               frame        (shape->[458354,34])   \n",
       "/NAISSANCE                             frame        (shape->[712962,40])   \n",
       "/PANACT                                frame        (shape->[17007824,31]) \n",
       "/RP1968                                frame        (shape->[484308,49])   \n",
       "/RP1975                                frame        (shape->[527025,95])   \n",
       "/RP1982                                frame        (shape->[552711,75])   \n",
       "/RP1990                                frame        (shape->[586037,228])  \n",
       "/RP1999                                frame        (shape->[617521,330])  "
      ]
     },
     "execution_count": 5,
     "metadata": {},
     "output_type": "execute_result"
    }
   ],
   "source": [
    "Store"
   ]
  },
  {
   "cell_type": "code",
   "execution_count": 6,
   "metadata": {
    "collapsed": true
   },
   "outputs": [],
   "source": [
    "def load_fisc_i_by_year(year = 2014):\n",
    "    df_fisci = pd.read_hdf(store_path, 'FISC_INDIVIDU_{}'.format(year))\n",
    "    return df_fisci\n",
    "def load_fisc_r_by_year(year = 2014):\n",
    "    df_fiscr = pd.read_hdf(store_path, 'FISC_REVENU_{}'.format(year))\n",
    "    return df_fiscr\n",
    "def load_fisc_l_by_year(year = 2014):\n",
    "    df_fiscr = pd.read_hdf(store_path, 'FISC_LOGEMENT_{}'.format(year))\n",
    "    return df_fiscr\n",
    "\n",
    "def load_df_fiscrevdet_by_year(year = 2015):\n",
    "    df_fiscrevdet = pd.read_hdf(store_path, 'FISC_REVDET_{}'.format(year))\n",
    "    return df_fiscrevdet\n",
    "    "
   ]
  },
  {
   "cell_type": "code",
   "execution_count": 7,
   "metadata": {},
   "outputs": [],
   "source": [
    "\n",
    "#df_panact = pd.read_hdf(store_path, 'PANACT')\n",
    "#df_panact_2005 = df_panact[df_panact.AN>=2005]\n",
    "#df_panact_2005.to_hdf('C:/Users/IMPTEMP_A_PACIFIC/Desktop/EDP_2015/Data/hdf/dads','start_2005' )"
   ]
  },
  {
   "cell_type": "code",
   "execution_count": 8,
   "metadata": {
    "collapsed": true
   },
   "outputs": [],
   "source": [
    "columns_to_drop_for_merge = ['REG','DEP','DEPCOM','TU10', # A rajouter après pour avoir des effets fixes\n",
    "                            'OCCTYP','I_PAUVRE50M','I_PAUVRE60M',\n",
    "                           'MINIM', 'M_RSAM','M_RSA_ACTM','LOGTM',\n",
    "                             \n",
    "                            ]"
   ]
  },
  {
   "cell_type": "markdown",
   "metadata": {},
   "source": [
    "### Select subsample"
   ]
  },
  {
   "cell_type": "markdown",
   "metadata": {},
   "source": [
    "On selectionne un certains nombre de logements fiscaux en 2011 que l'on va garder dans le sample. On en garde 400 000 ce qui devrait faire 20 000 individus par vingtile."
   ]
  },
  {
   "cell_type": "code",
   "execution_count": 9,
   "metadata": {},
   "outputs": [],
   "source": [
    "df_fiscr_2011 = load_fisc_r_by_year(year = 2011)\n",
    "#df_fiscr_2011 = df_fiscr_2011.sample(n=400000, replace =False,  random_state = 42 )\n"
   ]
  },
  {
   "cell_type": "code",
   "execution_count": 10,
   "metadata": {},
   "outputs": [],
   "source": [
    "selected_log_id = df_fiscr_2011.ID_FISC_LOG_DIFF"
   ]
  },
  {
   "cell_type": "code",
   "execution_count": null,
   "metadata": {},
   "outputs": [],
   "source": [
    "%%time\n",
    "fiscr_fisci_fiscrevdet_dict= dict()\n",
    "for year in [2011,2014]:\n",
    "    fisc_r = load_fisc_r_by_year(year)\n",
    "    fisc_r.drop(columns_to_drop_for_merge, axis = 1, inplace=True)\n",
    "    \n",
    "    df_fisci = load_fisc_i_by_year(year)\n",
    "    fisci = df_fisci[df_fisci.ID_FISC_LOG_DIFF.isin(selected_log_id)]\n",
    "    del df_fisci\n",
    "    df_fiscrevdet = load_df_fiscrevdet_by_year(year)\n",
    "    df_fiscrevdet['TYPE_FISC'] = df_fiscrevdet.TYPE_FISC.astype('str')\n",
    "    merge = pd.merge(fisci, df_fiscrevdet, on=[\n",
    "            'ID_FISC_FOY_DIFF','ORDREFIP', 'TYPE_FISC'])\n",
    "    del df_fiscrevdet\n",
    "    merge = pd.merge(merge, fisc_r, on='ID_FISC_LOG_DIFF', how='right')\n",
    "    fiscr_fisci_fiscrevdet_dict[year]=merge"
   ]
  },
  {
   "cell_type": "code",
   "execution_count": null,
   "metadata": {},
   "outputs": [],
   "source": [
    "fiscr_fisci_fiscrevdet_dict [2011].head()"
   ]
  },
  {
   "cell_type": "code",
   "execution_count": 14,
   "metadata": {},
   "outputs": [
    {
     "data": {
      "text/plain": [
       "False    5016790\n",
       "dtype: int64"
      ]
     },
     "execution_count": 14,
     "metadata": {},
     "output_type": "execute_result"
    }
   ],
   "source": [
    "fiscr_fisci_fiscrevdet_dict[2011].ORDREFIP.isnull().value_counts()"
   ]
  },
  {
   "cell_type": "code",
   "execution_count": 15,
   "metadata": {},
   "outputs": [],
   "source": [
    "fiscr_fisci_fiscrevdet_dict[2011] = fiscr_fisci_fiscrevdet_dict[2011][~fiscr_fisci_fiscrevdet_dict[2011].ORDREFIP.isnull()]"
   ]
  },
  {
   "cell_type": "code",
   "execution_count": 16,
   "metadata": {
    "collapsed": true
   },
   "outputs": [],
   "source": [
    "fiscr_fisci_fiscrevdet_dict[2014] = fiscr_fisci_fiscrevdet_dict[2014][~fiscr_fisci_fiscrevdet_dict[2014].ORDREFIP.isnull()]"
   ]
  },
  {
   "cell_type": "code",
   "execution_count": 17,
   "metadata": {
    "collapsed": true
   },
   "outputs": [],
   "source": [
    "df_2011 = fiscr_fisci_fiscrevdet_dict[2011]"
   ]
  },
  {
   "cell_type": "code",
   "execution_count": 18,
   "metadata": {
    "collapsed": true
   },
   "outputs": [],
   "source": [
    "df_2014 = fiscr_fisci_fiscrevdet_dict[2014]"
   ]
  },
  {
   "cell_type": "code",
   "execution_count": 19,
   "metadata": {
    "collapsed": true
   },
   "outputs": [],
   "source": [
    "del fiscr_fisci_fiscrevdet_dict"
   ]
  },
  {
   "cell_type": "code",
   "execution_count": 20,
   "metadata": {},
   "outputs": [
    {
     "data": {
      "text/plain": [
       "(3711395, 125)"
      ]
     },
     "execution_count": 20,
     "metadata": {},
     "output_type": "execute_result"
    }
   ],
   "source": [
    "df_2014.shape"
   ]
  },
  {
   "cell_type": "code",
   "execution_count": 21,
   "metadata": {},
   "outputs": [
    {
     "name": "stdout",
     "output_type": "stream",
     "text": [
      "1741312\n",
      "2380185\n"
     ]
    }
   ],
   "source": [
    "print df_2014.ID_FISC_LOG_DIFF.nunique()\n",
    "print df_2011.ID_FISC_LOG_DIFF.nunique()"
   ]
  },
  {
   "cell_type": "code",
   "execution_count": 22,
   "metadata": {},
   "outputs": [
    {
     "name": "stdout",
     "output_type": "stream",
     "text": [
      "Wall time: 4.39 s\n"
     ]
    }
   ],
   "source": [
    "%%time\n",
    "id_set_2014 = set(df_2014.ID_FISC_FOY_DIFF)"
   ]
  },
  {
   "cell_type": "code",
   "execution_count": 23,
   "metadata": {
    "collapsed": true
   },
   "outputs": [],
   "source": [
    "id_set_2011 = set(df_2011.ID_FISC_FOY_DIFF)"
   ]
  },
  {
   "cell_type": "code",
   "execution_count": 24,
   "metadata": {},
   "outputs": [
    {
     "name": "stdout",
     "output_type": "stream",
     "text": [
      "Wall time: 6.04 s\n"
     ]
    }
   ],
   "source": [
    "%%time\n",
    "intersect = id_set_2011.intersection(id_set_2014)"
   ]
  },
  {
   "cell_type": "code",
   "execution_count": 25,
   "metadata": {},
   "outputs": [
    {
     "data": {
      "text/plain": [
       "2097467"
      ]
     },
     "execution_count": 25,
     "metadata": {},
     "output_type": "execute_result"
    }
   ],
   "source": [
    "len(intersect)"
   ]
  },
  {
   "cell_type": "code",
   "execution_count": 26,
   "metadata": {
    "collapsed": true
   },
   "outputs": [],
   "source": [
    "df_2014_keep = df_2014[df_2014.ID_FISC_FOY_DIFF.isin(intersect)] "
   ]
  },
  {
   "cell_type": "code",
   "execution_count": 27,
   "metadata": {
    "collapsed": true
   },
   "outputs": [],
   "source": [
    "df_2011_keep = df_2011[df_2011.ID_FISC_FOY_DIFF.isin(intersect)] "
   ]
  },
  {
   "cell_type": "code",
   "execution_count": 28,
   "metadata": {},
   "outputs": [
    {
     "data": {
      "text/plain": [
       "3261946"
      ]
     },
     "execution_count": 28,
     "metadata": {},
     "output_type": "execute_result"
    }
   ],
   "source": [
    "len(id_set_2011)"
   ]
  },
  {
   "cell_type": "code",
   "execution_count": 29,
   "metadata": {},
   "outputs": [],
   "source": [
    "df_2014_keep = df_2014_keep[df_2014_keep.TYPE_FISC=='1']"
   ]
  },
  {
   "cell_type": "code",
   "execution_count": 30,
   "metadata": {},
   "outputs": [],
   "source": [
    "df_2011_keep = df_2011_keep[df_2011_keep.TYPE_FISC=='1']"
   ]
  },
  {
   "cell_type": "code",
   "execution_count": 31,
   "metadata": {},
   "outputs": [
    {
     "name": "stdout",
     "output_type": "stream",
     "text": [
      "Wall time: 4min 4s\n"
     ]
    }
   ],
   "source": [
    "%%time\n",
    "merge = pd.merge(df_2014_keep, df_2011_keep, how='inner',on = 'ID_FISC_FOY_DIFF', suffixes=('_2014',\"_2011\"))"
   ]
  },
  {
   "cell_type": "code",
   "execution_count": 32,
   "metadata": {},
   "outputs": [
    {
     "data": {
      "text/plain": [
       "(2124029, 249)"
      ]
     },
     "execution_count": 32,
     "metadata": {},
     "output_type": "execute_result"
    }
   ],
   "source": [
    "merge.shape"
   ]
  },
  {
   "cell_type": "code",
   "execution_count": 33,
   "metadata": {},
   "outputs": [
    {
     "data": {
      "text/plain": [
       "0    2795772\n",
       "1     175062\n",
       "2    3129312\n",
       "3    2245265\n",
       "4    2245265\n",
       "Name: ID_FISC_LOG_DIFF_2011, dtype: float64"
      ]
     },
     "execution_count": 33,
     "metadata": {},
     "output_type": "execute_result"
    }
   ],
   "source": [
    "merge.ID_FISC_LOG_DIFF_2011.head()"
   ]
  },
  {
   "cell_type": "code",
   "execution_count": null,
   "metadata": {},
   "outputs": [],
   "source": [
    "merge[[\"ZSALM_2014\", \"YSALI_2014\", \"ID_FISC_LOG_DIFF_2011\", \"ID_FISC_LOG_DIFF_2014\"]].head()"
   ]
  },
  {
   "cell_type": "code",
   "execution_count": 35,
   "metadata": {},
   "outputs": [
    {
     "data": {
      "text/plain": [
       "True     2102096\n",
       "False      21933\n",
       "dtype: int64"
      ]
     },
     "execution_count": 35,
     "metadata": {},
     "output_type": "execute_result"
    }
   ],
   "source": [
    "(merge.ID_FISC_LOG_DIFF_2011 == merge.ID_FISC_LOG_DIFF_2014).value_counts()"
   ]
  },
  {
   "cell_type": "code",
   "execution_count": 36,
   "metadata": {},
   "outputs": [],
   "source": [
    "merge[\"Rbg_2011\"] =(( merge.ZTSAM_2011*0.9) + merge.ZRAGM_2011 + merge.ZRACM_2011 + merge.ZRNCM_2011 + merge.ZFONM_2011 + merge.ZPERM_2011*0.9\n",
    "                    + merge.ZRICM_2011)\n",
    "merge[\"Rbg_2014\"] =(( merge.ZTSAM_2014*0.9) + merge.ZRAGM_2014 + merge.ZRACM_2014 + merge.ZRNCM_2014 + merge.ZFONM_2014 + merge.ZPERM_2014*0.9\n",
    "                    + merge.ZRICM_2014)"
   ]
  },
  {
   "cell_type": "code",
   "execution_count": 37,
   "metadata": {},
   "outputs": [
    {
     "data": {
      "text/plain": [
       "<matplotlib.axes._subplots.AxesSubplot at 0xc4f1dd8>"
      ]
     },
     "execution_count": 37,
     "metadata": {},
     "output_type": "execute_result"
    },
    {
     "data": {
      "image/png": "[encoded data removed]",
      "text/plain": [
       "<matplotlib.figure.Figure at 0xc2c0a20>"
      ]
     },
     "metadata": {},
     "output_type": "display_data"
    }
   ],
   "source": [
    "merge.Rbg_2011[((merge.Rbg_2011>50000)\n",
    "                &(merge.Rbg_2011<200000))].hist(bins = 100)\n",
    "merge.Rbg_2014[((merge.Rbg_2014>50000)\n",
    "                &(merge.Rbg_2014<200000))].hist(bins = 100)"
   ]
  },
  {
   "cell_type": "code",
   "execution_count": 38,
   "metadata": {
    "collapsed": true
   },
   "outputs": [],
   "source": [
    "import seaborn as sns"
   ]
  },
  {
   "cell_type": "code",
   "execution_count": 39,
   "metadata": {},
   "outputs": [
    {
     "data": {
      "text/plain": [
       "0    0\n",
       "1    0\n",
       "2    0\n",
       "3    0\n",
       "4    0\n",
       "Name: NBPAC_2011, dtype: float64"
      ]
     },
     "execution_count": 39,
     "metadata": {},
     "output_type": "execute_result"
    }
   ],
   "source": [
    "merge.NBPAC_2011.head()"
   ]
  },
  {
   "cell_type": "code",
   "execution_count": 40,
   "metadata": {},
   "outputs": [],
   "source": [
    "merge.Rbg_2011.fillna(0, inplace = True)\n",
    "merge.Rbg_2014.fillna(0, inplace = True)"
   ]
  },
  {
   "cell_type": "code",
   "execution_count": 41,
   "metadata": {},
   "outputs": [],
   "source": [
    "df_high_earner = merge[((merge.Rbg_2011>50000)\n",
    "                      &(merge.Rbg_2011<200000)\n",
    "                      &(merge.Rbg_2014>20000)\n",
    "                      & (merge.Rbg_2014<300000))]"
   ]
  },
  {
   "cell_type": "code",
   "execution_count": 42,
   "metadata": {},
   "outputs": [
    {
     "name": "stdout",
     "output_type": "stream",
     "text": [
      "3434.08729217\n",
      "1566.25628447\n"
     ]
    }
   ],
   "source": [
    "\n",
    "print (merge.Rbg_2014 - merge.Rbg_2011).mean()\n",
    "print (df_high_earner.Rbg_2014 - df_high_earner.Rbg_2011).mean()"
   ]
  },
  {
   "cell_type": "markdown",
   "metadata": {},
   "source": [
    "mean reversal or change in distribution ?"
   ]
  },
  {
   "cell_type": "code",
   "execution_count": 43,
   "metadata": {},
   "outputs": [],
   "source": [
    "df_grpby_first = merge.groupby('ID_FISC_LOG_DIFF_2011').first()\n",
    "df_high_grpby_first = df_high_earner.groupby('ID_FISC_LOG_DIFF_2011').first()"
   ]
  },
  {
   "cell_type": "code",
   "execution_count": 44,
   "metadata": {},
   "outputs": [
    {
     "name": "stdout",
     "output_type": "stream",
     "text": [
      "3133.21536349\n",
      "1572.33215891\n"
     ]
    }
   ],
   "source": [
    "print (df_grpby_first.Rbg_2014 - df_grpby_first.Rbg_2011).mean()\n",
    "print (df_high_grpby_first.Rbg_2014 - df_high_grpby_first.Rbg_2011).mean()"
   ]
  },
  {
   "cell_type": "code",
   "execution_count": 45,
   "metadata": {},
   "outputs": [
    {
     "data": {
      "text/plain": [
       "<matplotlib.axes._subplots.AxesSubplot at 0x1d89f4208>"
      ]
     },
     "execution_count": 45,
     "metadata": {},
     "output_type": "execute_result"
    },
    {
     "data": {
      "image/png": "[encoded data removed]",
      "text/plain": [
       "<matplotlib.figure.Figure at 0x1d89cdfd0>"
      ]
     },
     "metadata": {},
     "output_type": "display_data"
    }
   ],
   "source": [
    "df_high_grpby_first.Rbg_2011.hist(bins = 100)\n",
    "df_high_grpby_first.Rbg_2014.hist(bins = 100, alpha = 0.3)"
   ]
  },
  {
   "cell_type": "code",
   "execution_count": 46,
   "metadata": {},
   "outputs": [
    {
     "name": "stdout",
     "output_type": "stream",
     "text": [
      "count    369316.000000\n",
      "mean      75627.045665\n",
      "std       32695.199719\n",
      "min       20000.700000\n",
      "25%       55888.700000\n",
      "50%       67251.150000\n",
      "75%       86467.500000\n",
      "max      299758.300000\n",
      "Name: Rbg_2014, dtype: float64\n",
      "count    369316.000000\n",
      "mean      74054.713506\n",
      "std       26500.196674\n",
      "min       50000.100000\n",
      "25%       55978.975000\n",
      "50%       64838.900000\n",
      "75%       81858.025000\n",
      "max      199999.100000\n",
      "Name: Rbg_2011, dtype: float64\n"
     ]
    }
   ],
   "source": [
    "print df_high_grpby_first.Rbg_2014.describe()\n",
    "print df_high_grpby_first.Rbg_2011.describe()"
   ]
  },
  {
   "cell_type": "code",
   "execution_count": 47,
   "metadata": {},
   "outputs": [
    {
     "name": "stdout",
     "output_type": "stream",
     "text": [
      "True     236598\n",
      "False    132718\n",
      "dtype: int64\n",
      "True     0.640638\n",
      "False    0.359362\n",
      "dtype: float64\n"
     ]
    }
   ],
   "source": [
    "print (df_high_grpby_first.NBPAC_2011>0).value_counts()\n",
    "print (df_high_grpby_first.NBPAC_2011>0).value_counts(normalize = True)"
   ]
  },
  {
   "cell_type": "code",
   "execution_count": 48,
   "metadata": {},
   "outputs": [
    {
     "data": {
      "text/plain": [
       "True     282855\n",
       "False     86461\n",
       "dtype: int64"
      ]
     },
     "execution_count": 48,
     "metadata": {},
     "output_type": "execute_result"
    }
   ],
   "source": [
    "same_pac_nb = (df_high_grpby_first.NBPAC_2011 == df_high_grpby_first.NBPAC_2014)\n",
    "(df_high_grpby_first.NBPAC_2011 == df_high_grpby_first.NBPAC_2014).value_counts()"
   ]
  },
  {
   "cell_type": "code",
   "execution_count": 49,
   "metadata": {
    "scrolled": true
   },
   "outputs": [
    {
     "data": {
      "text/plain": [
       "1    186467\n",
       "2     70271\n",
       "3     20549\n",
       "4      4400\n",
       "5       896\n",
       "6       191\n",
       "7        51\n",
       "8        20\n",
       "9        10\n",
       "dtype: int64"
      ]
     },
     "execution_count": 49,
     "metadata": {},
     "output_type": "execute_result"
    }
   ],
   "source": [
    "df_high_grpby_first[same_pac_nb].NBFOYM_2011.value_counts()"
   ]
  },
  {
   "cell_type": "code",
   "execution_count": 50,
   "metadata": {
    "collapsed": true
   },
   "outputs": [],
   "source": [
    "one_tax_unit = (df_high_grpby_first.NBFOYM_2011 == 1)"
   ]
  },
  {
   "cell_type": "code",
   "execution_count": null,
   "metadata": {},
   "outputs": [],
   "source": [
    "df_high_grpby_first.NBPERSM_2011"
   ]
  },
  {
   "cell_type": "code",
   "execution_count": null,
   "metadata": {},
   "outputs": [],
   "source": [
    "df_high_grpby_first[same_pac_nb & one_tax_unit][[\"ID_FISC_FOY_DIFF\",\"Rbg_2011\",\"Rbg_2014\", \"NBPERSM_2011\", \"NBPERSM_2014\"]]"
   ]
  },
  {
   "cell_type": "code",
   "execution_count": 23,
   "metadata": {},
   "outputs": [],
   "source": [
    "threshold_byr_rbg = pd.DataFrame()\n",
    "threshold_byr_rbg[\"2011\"] = pd.Series([63233,73516,94451,115185,135941,150684])\n",
    "threshold_byr_rbg[\"2014\"] = pd.Series([58291,63530,73806,84103,94368,104633])"
   ]
  },
  {
   "cell_type": "code",
   "execution_count": 24,
   "metadata": {},
   "outputs": [
    {
     "data": {
      "text/html": [
       "<div>\n",
       "<table border=\"1\" class=\"dataframe\">\n",
       "  <thead>\n",
       "    <tr style=\"text-align: right;\">\n",
       "      <th></th>\n",
       "      <th>2011</th>\n",
       "      <th>2014</th>\n",
       "    </tr>\n",
       "    <tr>\n",
       "      <th>nb_enf</th>\n",
       "      <th></th>\n",
       "      <th></th>\n",
       "    </tr>\n",
       "  </thead>\n",
       "  <tbody>\n",
       "    <tr>\n",
       "      <th>1</th>\n",
       "      <td>63233</td>\n",
       "      <td>58291</td>\n",
       "    </tr>\n",
       "    <tr>\n",
       "      <th>2</th>\n",
       "      <td>73516</td>\n",
       "      <td>63530</td>\n",
       "    </tr>\n",
       "    <tr>\n",
       "      <th>3</th>\n",
       "      <td>94451</td>\n",
       "      <td>73806</td>\n",
       "    </tr>\n",
       "    <tr>\n",
       "      <th>4</th>\n",
       "      <td>115185</td>\n",
       "      <td>84103</td>\n",
       "    </tr>\n",
       "    <tr>\n",
       "      <th>5</th>\n",
       "      <td>135941</td>\n",
       "      <td>94368</td>\n",
       "    </tr>\n",
       "    <tr>\n",
       "      <th>6</th>\n",
       "      <td>150684</td>\n",
       "      <td>104633</td>\n",
       "    </tr>\n",
       "  </tbody>\n",
       "</table>\n",
       "</div>"
      ],
      "text/plain": [
       "          2011    2014\n",
       "nb_enf                \n",
       "1        63233   58291\n",
       "2        73516   63530\n",
       "3        94451   73806\n",
       "4       115185   84103\n",
       "5       135941   94368\n",
       "6       150684  104633"
      ]
     },
     "execution_count": 24,
     "metadata": {},
     "output_type": "execute_result"
    }
   ],
   "source": [
    "threshold_byr_rbg.index = range(1,7); threshold_byr_rbg.index.name = 'nb_enf'\n",
    "threshold_byr_rbg\n"
   ]
  },
  {
   "cell_type": "code",
   "execution_count": 57,
   "metadata": {},
   "outputs": [],
   "source": [
    "df = df_high_grpby_first"
   ]
  },
  {
   "cell_type": "code",
   "execution_count": 58,
   "metadata": {},
   "outputs": [],
   "source": [
    "for nb_enf in range(1,7): ### in modification\n",
    "    df[\"Between_threshold_{}_child\".format(nb_enf)\n",
    "          ] = ((df.Rbg_2011>  threshold_byr_rbg[\"2014\"].iloc[nb_enf-1])\n",
    "               & (df.Rbg_2011< threshold_byr_rbg[\"2011\"].iloc[nb_enf-1]))"
   ]
  },
  {
   "cell_type": "code",
   "execution_count": 59,
   "metadata": {
    "collapsed": true
   },
   "outputs": [],
   "source": [
    "for nb_enf in range(1,7): ### in modification\n",
    "    df[\"Over_threshold_{}_child\".format(nb_enf)\n",
    "          ] =  (df.Rbg_2011 > threshold_byr_rbg[\"2011\"].iloc[nb_enf-1])"
   ]
  },
  {
   "cell_type": "code",
   "execution_count": null,
   "metadata": {},
   "outputs": [],
   "source": [
    "df.head()"
   ]
  },
  {
   "cell_type": "code",
   "execution_count": 61,
   "metadata": {},
   "outputs": [
    {
     "data": {
      "text/plain": [
       "63233"
      ]
     },
     "execution_count": 61,
     "metadata": {},
     "output_type": "execute_result"
    }
   ],
   "source": [
    "threshold_byr_rbg[\"2011\"].iloc[0]"
   ]
  },
  {
   "cell_type": "code",
   "execution_count": 62,
   "metadata": {},
   "outputs": [],
   "source": [
    "df[\"Threshold\"] = np.zeros(len(df))\n",
    "df[\"Threshold_ex_post\"] = np.zeros(len(df))"
   ]
  },
  {
   "cell_type": "code",
   "execution_count": 63,
   "metadata": {},
   "outputs": [],
   "source": [
    "for nb_enf in range(1,7):\n",
    "    df[\"Threshold\"] += (df.NBPAC_2011 == nb_enf) * threshold_byr_rbg[\"2011\"].iloc[nb_enf-1]"
   ]
  },
  {
   "cell_type": "code",
   "execution_count": 64,
   "metadata": {
    "collapsed": true
   },
   "outputs": [],
   "source": [
    "for nb_enf in range(1,7):\n",
    "    df[\"Threshold_mordant_{}\".format(\n",
    "            threshold_byr_rbg[\"2011\"].iloc[nb_enf-1])\n",
    "          ] = (df.NBPAC_2011 == nb_enf) * threshold_byr_rbg[\"2011\"].iloc[nb_enf-1]"
   ]
  },
  {
   "cell_type": "code",
   "execution_count": 65,
   "metadata": {},
   "outputs": [],
   "source": [
    "for nb_enf in range(1,7):\n",
    "    df[\"Threshold_ex_post\"] += (df.NBPAC_2014 == nb_enf) * threshold_byr_rbg[\"2014\"].iloc[nb_enf-1]"
   ]
  },
  {
   "cell_type": "code",
   "execution_count": 66,
   "metadata": {},
   "outputs": [
    {
     "data": {
      "text/plain": [
       "0         135629\n",
       "73516     105435\n",
       "63233      75572\n",
       "94451      42295\n",
       "115185      8118\n",
       "135941      1717\n",
       "150684       550\n",
       "dtype: int64"
      ]
     },
     "execution_count": 66,
     "metadata": {},
     "output_type": "execute_result"
    }
   ],
   "source": [
    "df.Threshold.value_counts()"
   ]
  },
  {
   "cell_type": "code",
   "execution_count": null,
   "metadata": {},
   "outputs": [],
   "source": []
  },
  {
   "cell_type": "code",
   "execution_count": 246,
   "metadata": {},
   "outputs": [],
   "source": [
    "df.loc[ df.NBPAC_2011==0, \"Threshold\"] = 10**9 #met les gens sans enfants a un Overthreshold == 0\n",
    "df.loc[ df.NBPAC_2011==0, \"Threshold_ex_post\"] = 10**9 #met les gens sans enfants a un Overthreshold == 0\n",
    "df[\"Over_threshold\"] = (df.Rbg_2011>df.Threshold).astype('int')"
   ]
  },
  {
   "cell_type": "code",
   "execution_count": 68,
   "metadata": {
    "collapsed": true
   },
   "outputs": [],
   "source": [
    "df[\"Over_threshold_ex_post\"] = (df.Rbg_2011>df.Threshold_ex_post).astype('int')"
   ]
  },
  {
   "cell_type": "code",
   "execution_count": 69,
   "metadata": {
    "collapsed": true
   },
   "outputs": [],
   "source": [
    "df[\"Between_thresholds\"] = (df[\"Over_threshold_ex_post\"].astype('bool') & ~df[\"Over_threshold\"].astype('bool')).astype('int')"
   ]
  },
  {
   "cell_type": "code",
   "execution_count": 247,
   "metadata": {},
   "outputs": [
    {
     "name": "stdout",
     "output_type": "stream",
     "text": [
      "0    277758\n",
      "1     91558\n",
      "dtype: int64\n",
      "0    225934\n",
      "1    143382\n",
      "dtype: int64\n",
      "0    316774\n",
      "1     52542\n",
      "dtype: int64\n"
     ]
    }
   ],
   "source": [
    "print df.Over_threshold.value_counts(normalize = False)\n",
    "print df.Over_threshold_ex_post.value_counts(normalize = False)\n",
    "print (~df.Over_threshold& df.Over_threshold_ex_post).value_counts(normalize = False)"
   ]
  },
  {
   "cell_type": "code",
   "execution_count": 248,
   "metadata": {},
   "outputs": [
    {
     "name": "stdout",
     "output_type": "stream",
     "text": [
      "0    0.752088\n",
      "1    0.247912\n",
      "dtype: float64\n",
      "0    0.611763\n",
      "1    0.388237\n",
      "dtype: float64\n",
      "0    0.857732\n",
      "1    0.142268\n",
      "dtype: float64\n"
     ]
    }
   ],
   "source": [
    "print df.Over_threshold.value_counts(normalize = True)\n",
    "print df.Over_threshold_ex_post.value_counts(normalize = True)\n",
    "print ((~df.Over_threshold)& df.Over_threshold_ex_post).value_counts(normalize = True)"
   ]
  },
  {
   "cell_type": "code",
   "execution_count": 72,
   "metadata": {},
   "outputs": [
    {
     "data": {
      "text/html": [
       "<div>\n",
       "<table border=\"1\" class=\"dataframe\">\n",
       "  <thead>\n",
       "    <tr style=\"text-align: right;\">\n",
       "      <th>NBPAC_2011</th>\n",
       "      <th>0.0</th>\n",
       "      <th>1.0</th>\n",
       "      <th>2.0</th>\n",
       "      <th>3.0</th>\n",
       "      <th>4.0</th>\n",
       "      <th>5.0</th>\n",
       "      <th>6.0</th>\n",
       "    </tr>\n",
       "    <tr>\n",
       "      <th>Over_threshold</th>\n",
       "      <th></th>\n",
       "      <th></th>\n",
       "      <th></th>\n",
       "      <th></th>\n",
       "      <th></th>\n",
       "      <th></th>\n",
       "      <th></th>\n",
       "    </tr>\n",
       "  </thead>\n",
       "  <tbody>\n",
       "    <tr>\n",
       "      <th>0</th>\n",
       "      <td>132718</td>\n",
       "      <td>35328</td>\n",
       "      <td>68193</td>\n",
       "      <td>32719</td>\n",
       "      <td>6723</td>\n",
       "      <td>1558</td>\n",
       "      <td>519</td>\n",
       "    </tr>\n",
       "    <tr>\n",
       "      <th>1</th>\n",
       "      <td>0</td>\n",
       "      <td>40244</td>\n",
       "      <td>37242</td>\n",
       "      <td>9576</td>\n",
       "      <td>1395</td>\n",
       "      <td>159</td>\n",
       "      <td>31</td>\n",
       "    </tr>\n",
       "  </tbody>\n",
       "</table>\n",
       "</div>"
      ],
      "text/plain": [
       "NBPAC_2011           0      1      2      3     4     5    6\n",
       "Over_threshold                                              \n",
       "0               132718  35328  68193  32719  6723  1558  519\n",
       "1                    0  40244  37242   9576  1395   159   31"
      ]
     },
     "execution_count": 72,
     "metadata": {},
     "output_type": "execute_result"
    }
   ],
   "source": [
    "pd.crosstab(df[df.NBPAC_2011.isin([0,1,2,3,4,5,6])].Over_threshold, df[df.NBPAC_2011.isin([0,1,2,3,4,5,6])].NBPAC_2011)"
   ]
  },
  {
   "cell_type": "code",
   "execution_count": 73,
   "metadata": {},
   "outputs": [
    {
     "data": {
      "text/html": [
       "<div>\n",
       "<table border=\"1\" class=\"dataframe\">\n",
       "  <thead>\n",
       "    <tr style=\"text-align: right;\">\n",
       "      <th>NBPAC_2011</th>\n",
       "      <th>0.0</th>\n",
       "      <th>1.0</th>\n",
       "      <th>2.0</th>\n",
       "      <th>3.0</th>\n",
       "      <th>4.0</th>\n",
       "      <th>5.0</th>\n",
       "      <th>6.0</th>\n",
       "    </tr>\n",
       "    <tr>\n",
       "      <th>Over_threshold_ex_post</th>\n",
       "      <th></th>\n",
       "      <th></th>\n",
       "      <th></th>\n",
       "      <th></th>\n",
       "      <th></th>\n",
       "      <th></th>\n",
       "      <th></th>\n",
       "    </tr>\n",
       "  </thead>\n",
       "  <tbody>\n",
       "    <tr>\n",
       "      <th>0</th>\n",
       "      <td>132718</td>\n",
       "      <td>19424</td>\n",
       "      <td>45203</td>\n",
       "      <td>22135</td>\n",
       "      <td>4585</td>\n",
       "      <td>1067</td>\n",
       "      <td>345</td>\n",
       "    </tr>\n",
       "    <tr>\n",
       "      <th>1</th>\n",
       "      <td>0</td>\n",
       "      <td>56148</td>\n",
       "      <td>60232</td>\n",
       "      <td>20160</td>\n",
       "      <td>3533</td>\n",
       "      <td>650</td>\n",
       "      <td>205</td>\n",
       "    </tr>\n",
       "  </tbody>\n",
       "</table>\n",
       "</div>"
      ],
      "text/plain": [
       "NBPAC_2011                   0      1      2      3     4     5    6\n",
       "Over_threshold_ex_post                                              \n",
       "0                       132718  19424  45203  22135  4585  1067  345\n",
       "1                            0  56148  60232  20160  3533   650  205"
      ]
     },
     "execution_count": 73,
     "metadata": {},
     "output_type": "execute_result"
    }
   ],
   "source": [
    "pd.crosstab(df[df.NBPAC_2011.isin([0,1,2,3,4,5,6])].Over_threshold_ex_post, df[df.NBPAC_2011.isin([0,1,2,3,4,5,6])].NBPAC_2011)"
   ]
  },
  {
   "cell_type": "code",
   "execution_count": 74,
   "metadata": {},
   "outputs": [
    {
     "data": {
      "text/html": [
       "<div>\n",
       "<table border=\"1\" class=\"dataframe\">\n",
       "  <thead>\n",
       "    <tr style=\"text-align: right;\">\n",
       "      <th>NBPAC_2011</th>\n",
       "      <th>1.0</th>\n",
       "      <th>2.0</th>\n",
       "      <th>3.0</th>\n",
       "      <th>4.0</th>\n",
       "      <th>5.0</th>\n",
       "      <th>6.0</th>\n",
       "    </tr>\n",
       "    <tr>\n",
       "      <th>row_0</th>\n",
       "      <th></th>\n",
       "      <th></th>\n",
       "      <th></th>\n",
       "      <th></th>\n",
       "      <th></th>\n",
       "      <th></th>\n",
       "    </tr>\n",
       "  </thead>\n",
       "  <tbody>\n",
       "    <tr>\n",
       "      <th>0</th>\n",
       "      <td>59464</td>\n",
       "      <td>82389</td>\n",
       "      <td>31710</td>\n",
       "      <td>5980</td>\n",
       "      <td>1226</td>\n",
       "      <td>376</td>\n",
       "    </tr>\n",
       "    <tr>\n",
       "      <th>1</th>\n",
       "      <td>16108</td>\n",
       "      <td>23046</td>\n",
       "      <td>10585</td>\n",
       "      <td>2138</td>\n",
       "      <td>491</td>\n",
       "      <td>174</td>\n",
       "    </tr>\n",
       "  </tbody>\n",
       "</table>\n",
       "</div>"
      ],
      "text/plain": [
       "NBPAC_2011      1      2      3     4     5    6\n",
       "row_0                                           \n",
       "0           59464  82389  31710  5980  1226  376\n",
       "1           16108  23046  10585  2138   491  174"
      ]
     },
     "execution_count": 74,
     "metadata": {},
     "output_type": "execute_result"
    }
   ],
   "source": [
    "pd.crosstab((~df[df.NBPAC_2011.isin([1,2,3,4,5,6])].Over_threshold)&(df[df.NBPAC_2011.isin([1,2,3,4,5,6])].Over_threshold_ex_post)\n",
    "            \n",
    "            , df[df.NBPAC_2011.isin([1,2,3,4,5,6])].NBPAC_2011)"
   ]
  },
  {
   "cell_type": "code",
   "execution_count": 250,
   "metadata": {},
   "outputs": [
    {
     "data": {
      "text/html": [
       "<div>\n",
       "<table border=\"1\" class=\"dataframe\">\n",
       "  <thead>\n",
       "    <tr style=\"text-align: right;\">\n",
       "      <th>NBPAC_2011</th>\n",
       "      <th>1.0</th>\n",
       "      <th>2.0</th>\n",
       "      <th>3.0</th>\n",
       "      <th>4.0</th>\n",
       "      <th>5.0</th>\n",
       "      <th>6.0</th>\n",
       "    </tr>\n",
       "    <tr>\n",
       "      <th>Between_thresholds</th>\n",
       "      <th></th>\n",
       "      <th></th>\n",
       "      <th></th>\n",
       "      <th></th>\n",
       "      <th></th>\n",
       "      <th></th>\n",
       "    </tr>\n",
       "  </thead>\n",
       "  <tbody>\n",
       "    <tr>\n",
       "      <th>0</th>\n",
       "      <td>59464</td>\n",
       "      <td>82389</td>\n",
       "      <td>31710</td>\n",
       "      <td>5980</td>\n",
       "      <td>1226</td>\n",
       "      <td>376</td>\n",
       "    </tr>\n",
       "    <tr>\n",
       "      <th>1</th>\n",
       "      <td>16108</td>\n",
       "      <td>23046</td>\n",
       "      <td>10585</td>\n",
       "      <td>2138</td>\n",
       "      <td>491</td>\n",
       "      <td>174</td>\n",
       "    </tr>\n",
       "  </tbody>\n",
       "</table>\n",
       "</div>"
      ],
      "text/plain": [
       "NBPAC_2011              1      2      3     4     5    6\n",
       "Between_thresholds                                      \n",
       "0                   59464  82389  31710  5980  1226  376\n",
       "1                   16108  23046  10585  2138   491  174"
      ]
     },
     "execution_count": 250,
     "metadata": {},
     "output_type": "execute_result"
    }
   ],
   "source": [
    "pd.crosstab((df[df.NBPAC_2011.isin([1,2,3,4,5,6])].Between_thresholds)\n",
    "            \n",
    "            , df[df.NBPAC_2011.isin([1,2,3,4,5,6])].NBPAC_2011)"
   ]
  },
  {
   "cell_type": "code",
   "execution_count": 251,
   "metadata": {},
   "outputs": [
    {
     "data": {
      "text/plain": [
       "(369316, 297)"
      ]
     },
     "execution_count": 251,
     "metadata": {},
     "output_type": "execute_result"
    }
   ],
   "source": [
    "df.shape"
   ]
  },
  {
   "cell_type": "code",
   "execution_count": 76,
   "metadata": {},
   "outputs": [],
   "source": [
    "for child in range(1,10):\n",
    "    df[\"child_{}\".format(child)] = (df.NBPAC_2011 == child).astype('int')\n",
    "for child in range(1,10):\n",
    "    df[\"cumulative_child_{}\".format(child)] = (df.NBPAC_2011 >= child).astype('int')"
   ]
  },
  {
   "cell_type": "code",
   "execution_count": 16,
   "metadata": {
    "collapsed": true
   },
   "outputs": [],
   "source": [
    "child_bool_list = [\"child_{}\".format(child) for child in  np.arange(1,6)]\n",
    "cumulative_child_bool_list = [\"cumulative_child_{}\".format(child) for child in  np.arange(1,6)]"
   ]
  },
  {
   "cell_type": "code",
   "execution_count": 25,
   "metadata": {},
   "outputs": [
    {
     "ename": "NameError",
     "evalue": "name 'df' is not defined",
     "output_type": "error",
     "traceback": [
      "\u001b[1;31m---------------------------------------------------------------------------\u001b[0m",
      "\u001b[1;31mNameError\u001b[0m                                 Traceback (most recent call last)",
      "\u001b[1;32m<ipython-input-25-0f529a37de3d>\u001b[0m in \u001b[0;36m<module>\u001b[1;34m()\u001b[0m\n\u001b[0;32m      1\u001b[0m \u001b[1;32mfor\u001b[0m \u001b[0mthrsh\u001b[0m \u001b[1;32min\u001b[0m \u001b[0mthreshold_byr_rbg\u001b[0m\u001b[1;33m[\u001b[0m\u001b[1;34m\"2011\"\u001b[0m\u001b[1;33m]\u001b[0m\u001b[1;33m:\u001b[0m\u001b[1;33m\u001b[0m\u001b[0m\n\u001b[1;32m----> 2\u001b[1;33m     \u001b[0mdf\u001b[0m\u001b[1;33m[\u001b[0m\u001b[1;34m\"Threshold_{}\"\u001b[0m\u001b[1;33m.\u001b[0m\u001b[0mformat\u001b[0m\u001b[1;33m(\u001b[0m\u001b[0mthrsh\u001b[0m\u001b[1;33m)\u001b[0m\u001b[1;33m]\u001b[0m \u001b[1;33m=\u001b[0m \u001b[1;33m(\u001b[0m\u001b[1;33m(\u001b[0m\u001b[0mdf\u001b[0m\u001b[1;33m.\u001b[0m\u001b[0mRbg_2011\u001b[0m \u001b[1;33m>\u001b[0m \u001b[0mthrsh\u001b[0m\u001b[1;33m)\u001b[0m \u001b[1;33m&\u001b[0m\u001b[1;33m(\u001b[0m\u001b[1;33m~\u001b[0m\u001b[1;33m(\u001b[0m\u001b[0mdf\u001b[0m\u001b[1;33m[\u001b[0m\u001b[1;34m\"Threshold_mordant_{}\"\u001b[0m\u001b[1;33m.\u001b[0m\u001b[0mformat\u001b[0m\u001b[1;33m(\u001b[0m\u001b[0mthrsh\u001b[0m\u001b[1;33m)\u001b[0m\u001b[1;33m]\u001b[0m\u001b[1;33m)\u001b[0m\u001b[1;33m)\u001b[0m\u001b[1;33m)\u001b[0m\u001b[1;33m.\u001b[0m\u001b[0mastype\u001b[0m\u001b[1;33m(\u001b[0m\u001b[1;34m\"int\"\u001b[0m\u001b[1;33m)\u001b[0m\u001b[1;33m\u001b[0m\u001b[0m\n\u001b[0m",
      "\u001b[1;31mNameError\u001b[0m: name 'df' is not defined"
     ]
    }
   ],
   "source": [
    "for thrsh in threshold_byr_rbg[\"2011\"]:\n",
    "    df[\"Threshold_{}\".format(thrsh)] = ((df.Rbg_2011 > thrsh) &(~(df[\"Threshold_mordant_{}\".format(thrsh)]))).astype(\"int\")"
   ]
  },
  {
   "cell_type": "code",
   "execution_count": 26,
   "metadata": {},
   "outputs": [],
   "source": [
    "thrsh_bool_list = [\"Threshold_{}\".format(thrsh) for thrsh in  threshold_byr_rbg[\"2011\"]]"
   ]
  },
  {
   "cell_type": "code",
   "execution_count": 255,
   "metadata": {},
   "outputs": [
    {
     "name": "stdout",
     "output_type": "stream",
     "text": [
      "<class 'pandas.core.frame.DataFrame'>\n",
      "Float64Index: 365855 entries, 3.0 to 3667293.0\n",
      "Columns: 297 entries, ID_DIFF_2014 to Threshold_150684\n",
      "dtypes: bool(12), float64(168), int32(27), int64(71), object(19)\n",
      "memory usage: 764.8+ MB\n"
     ]
    }
   ],
   "source": [
    "reg_df.info()"
   ]
  },
  {
   "cell_type": "code",
   "execution_count": 319,
   "metadata": {},
   "outputs": [
    {
     "name": "stdout",
     "output_type": "stream",
     "text": [
      "Wall time: 2.71 s\n"
     ]
    }
   ],
   "source": [
    "%%time\n",
    "reg_df = df[df.NBPAC_2011.isin([0,1,2,3,4,5])]\n",
    "reg_df = reg_df[reg_df.AGERF_2011<50]"
   ]
  },
  {
   "cell_type": "code",
   "execution_count": 81,
   "metadata": {},
   "outputs": [],
   "source": [
    "reg_df[\"Log_rbg_2011\"] = np.log(reg_df.Rbg_2011)"
   ]
  },
  {
   "cell_type": "code",
   "execution_count": 320,
   "metadata": {},
   "outputs": [],
   "source": [
    "reg_df.to_hdf(\"C:\\Users\\IMPTEMP_A_PACIFIC\\Desktop\\EDP_2015\\Programme\\Réaction offre de travail\", \"to_reg.h5\")"
   ]
  },
  {
   "cell_type": "code",
   "execution_count": 83,
   "metadata": {
    "collapsed": true
   },
   "outputs": [],
   "source": [
    "reg_df[\"Over_threshold_1_child\"] = reg_df.Over_threshold * (reg_df.NBPAC_2011 == 1)"
   ]
  },
  {
   "cell_type": "code",
   "execution_count": 84,
   "metadata": {},
   "outputs": [],
   "source": []
  },
  {
   "cell_type": "code",
   "execution_count": 85,
   "metadata": {},
   "outputs": [
    {
     "name": "stdout",
     "output_type": "stream",
     "text": [
      "Wall time: 4.3 s\n"
     ]
    },
    {
     "data": {
      "text/plain": [
       "<matplotlib.figure.Figure at 0x17f477ef0>"
      ]
     },
     "metadata": {},
     "output_type": "display_data"
    },
    {
     "data": {
      "image/png": "[encoded data removed]",
      "text/plain": [
       "<matplotlib.figure.Figure at 0x17f620390>"
      ]
     },
     "metadata": {},
     "output_type": "display_data"
    }
   ],
   "source": [
    "%%time\n",
    "fig = plt.figure(figsize = (20,20))\n",
    "g = sns.pairplot(reg_df.head(10000).query(\"0<=NBPAC_2011<5\"),vars = [\"Rbg_2011\", \"Rbg_2014\"], hue =\"NBPAC_2011\", kind = \"reg\"  )\n",
    "g.fig.set_size_inches(20,20)"
   ]
  },
  {
   "cell_type": "code",
   "execution_count": 12,
   "metadata": {},
   "outputs": [],
   "source": [
    "reg_df = pd.read_hdf(\"C:\\Users\\IMPTEMP_A_PACIFIC\\Desktop\\EDP_2015\\Programme\\Réaction offre de travail\", \"to_reg.h5\")"
   ]
  },
  {
   "cell_type": "code",
   "execution_count": 27,
   "metadata": {},
   "outputs": [],
   "source": [
    "reg_df_1 = reg_df[[\"Over_threshold\", \"Between_thresholds\"]+cumulative_child_bool_list+thrsh_bool_list]"
   ]
  },
  {
   "cell_type": "code",
   "execution_count": 28,
   "metadata": {},
   "outputs": [
    {
     "data": {
      "text/html": [
       "<div>\n",
       "<table border=\"1\" class=\"dataframe\">\n",
       "  <thead>\n",
       "    <tr style=\"text-align: right;\">\n",
       "      <th></th>\n",
       "      <th>Over_threshold</th>\n",
       "      <th>Between_thresholds</th>\n",
       "      <th>cumulative_child_1</th>\n",
       "      <th>cumulative_child_2</th>\n",
       "      <th>cumulative_child_3</th>\n",
       "      <th>cumulative_child_4</th>\n",
       "      <th>cumulative_child_5</th>\n",
       "      <th>Threshold_63233</th>\n",
       "      <th>Threshold_73516</th>\n",
       "      <th>Threshold_94451</th>\n",
       "      <th>Threshold_115185</th>\n",
       "      <th>Threshold_135941</th>\n",
       "      <th>Threshold_150684</th>\n",
       "    </tr>\n",
       "  </thead>\n",
       "  <tbody>\n",
       "    <tr>\n",
       "      <th>3</th>\n",
       "      <td>0</td>\n",
       "      <td>1</td>\n",
       "      <td>1</td>\n",
       "      <td>1</td>\n",
       "      <td>0</td>\n",
       "      <td>0</td>\n",
       "      <td>0</td>\n",
       "      <td>1</td>\n",
       "      <td>0</td>\n",
       "      <td>0</td>\n",
       "      <td>0</td>\n",
       "      <td>0</td>\n",
       "      <td>0</td>\n",
       "    </tr>\n",
       "    <tr>\n",
       "      <th>4</th>\n",
       "      <td>1</td>\n",
       "      <td>0</td>\n",
       "      <td>1</td>\n",
       "      <td>0</td>\n",
       "      <td>0</td>\n",
       "      <td>0</td>\n",
       "      <td>0</td>\n",
       "      <td>0</td>\n",
       "      <td>1</td>\n",
       "      <td>0</td>\n",
       "      <td>0</td>\n",
       "      <td>0</td>\n",
       "      <td>0</td>\n",
       "    </tr>\n",
       "    <tr>\n",
       "      <th>5</th>\n",
       "      <td>0</td>\n",
       "      <td>0</td>\n",
       "      <td>0</td>\n",
       "      <td>0</td>\n",
       "      <td>0</td>\n",
       "      <td>0</td>\n",
       "      <td>0</td>\n",
       "      <td>0</td>\n",
       "      <td>0</td>\n",
       "      <td>0</td>\n",
       "      <td>0</td>\n",
       "      <td>0</td>\n",
       "      <td>0</td>\n",
       "    </tr>\n",
       "    <tr>\n",
       "      <th>11</th>\n",
       "      <td>1</td>\n",
       "      <td>0</td>\n",
       "      <td>1</td>\n",
       "      <td>0</td>\n",
       "      <td>0</td>\n",
       "      <td>0</td>\n",
       "      <td>0</td>\n",
       "      <td>0</td>\n",
       "      <td>0</td>\n",
       "      <td>0</td>\n",
       "      <td>0</td>\n",
       "      <td>0</td>\n",
       "      <td>0</td>\n",
       "    </tr>\n",
       "    <tr>\n",
       "      <th>37</th>\n",
       "      <td>0</td>\n",
       "      <td>0</td>\n",
       "      <td>1</td>\n",
       "      <td>1</td>\n",
       "      <td>1</td>\n",
       "      <td>0</td>\n",
       "      <td>0</td>\n",
       "      <td>1</td>\n",
       "      <td>0</td>\n",
       "      <td>0</td>\n",
       "      <td>0</td>\n",
       "      <td>0</td>\n",
       "      <td>0</td>\n",
       "    </tr>\n",
       "  </tbody>\n",
       "</table>\n",
       "</div>"
      ],
      "text/plain": [
       "    Over_threshold  Between_thresholds  cumulative_child_1  \\\n",
       "3                0                   1                   1   \n",
       "4                1                   0                   1   \n",
       "5                0                   0                   0   \n",
       "11               1                   0                   1   \n",
       "37               0                   0                   1   \n",
       "\n",
       "    cumulative_child_2  cumulative_child_3  cumulative_child_4  \\\n",
       "3                    1                   0                   0   \n",
       "4                    0                   0                   0   \n",
       "5                    0                   0                   0   \n",
       "11                   0                   0                   0   \n",
       "37                   1                   1                   0   \n",
       "\n",
       "    cumulative_child_5  Threshold_63233  Threshold_73516  Threshold_94451  \\\n",
       "3                    0                1                0                0   \n",
       "4                    0                0                1                0   \n",
       "5                    0                0                0                0   \n",
       "11                   0                0                0                0   \n",
       "37                   0                1                0                0   \n",
       "\n",
       "    Threshold_115185  Threshold_135941  Threshold_150684  \n",
       "3                  0                 0                 0  \n",
       "4                  0                 0                 0  \n",
       "5                  0                 0                 0  \n",
       "11                 0                 0                 0  \n",
       "37                 0                 0                 0  "
      ]
     },
     "execution_count": 28,
     "metadata": {},
     "output_type": "execute_result"
    }
   ],
   "source": [
    "reg_df_1.head()"
   ]
  },
  {
   "cell_type": "markdown",
   "metadata": {},
   "source": [
    "Just correlation with intercept"
   ]
  },
  {
   "cell_type": "code",
   "execution_count": 38,
   "metadata": {},
   "outputs": [
    {
     "data": {
      "text/plain": [
       "\n",
       "-------------------------Summary of Regression Analysis-------------------------\n",
       "\n",
       "Formula: Y ~ <Over_threshold> + <intercept>\n",
       "\n",
       "Number of Observations:         364169\n",
       "Number of Degrees of Freedom:   2\n",
       "\n",
       "R-squared:         0.0007\n",
       "Adj R-squared:     0.0007\n",
       "\n",
       "Rmse:          21309.6521\n",
       "\n",
       "F-stat (1, 364167):   253.5596, p-value:     0.0000\n",
       "\n",
       "Degrees of Freedom: model 1, resid 364167\n",
       "\n",
       "-----------------------Summary of Estimated Coefficients------------------------\n",
       "      Variable       Coef    Std Err     t-stat    p-value    CI 2.5%   CI 97.5%\n",
       "--------------------------------------------------------------------------------\n",
       "Over_threshold  1312.3556    82.4160      15.92     0.0000  1150.8203  1473.8909\n",
       "     intercept  1294.4229    40.5668      31.91     0.0000  1214.9120  1373.9338\n",
       "---------------------------------End of Summary---------------------------------"
      ]
     },
     "execution_count": 38,
     "metadata": {},
     "output_type": "execute_result"
    }
   ],
   "source": [
    "pd.stats.ols.OLS((reg_df.Rbg_2014 - reg_df.Rbg_2011), reg_df_1[[\"Over_threshold\"]])"
   ]
  },
  {
   "cell_type": "code",
   "execution_count": 39,
   "metadata": {},
   "outputs": [],
   "source": [
    "reg_df[\"Has_one_of_the_two_treatments\"] = (reg_df.Between_thresholds+reg_df.Over_threshold).astype(\"bool\")"
   ]
  },
  {
   "cell_type": "code",
   "execution_count": 41,
   "metadata": {},
   "outputs": [
    {
     "name": "stdout",
     "output_type": "stream",
     "text": [
      "3440.82791006\n",
      "465.139980694\n",
      "3440.82791006\n",
      "-2411.7163123\n",
      "881.550790471\n",
      "2383.9645795\n",
      "4766.11740902\n",
      "4655.82081577\n",
      "6374.86866707\n",
      "5943.49260034\n",
      "5726.16149015\n",
      "6543.72627769\n",
      "1648.44563863\n",
      "5456.12255639\n"
     ]
    }
   ],
   "source": [
    "print reg_df[reg_df.Has_one_of_the_two_treatments].Delta_rbg.mean()\n",
    "print reg_df[~reg_df.Has_one_of_the_two_treatments].Delta_rbg.mean()\n",
    "print reg_df[reg_df.Has_one_of_the_two_treatments].Delta_rbg.mean()\n",
    "print reg_df[~reg_df.Has_one_of_the_two_treatments].query(\"NBPAC_2011 == 0\").Delta_rbg.mean()\n",
    "print reg_df[reg_df.Has_one_of_the_two_treatments].query(\"NBPAC_2011 == 1\").Delta_rbg.mean()\n",
    "print reg_df[~reg_df.Has_one_of_the_two_treatments].query(\"NBPAC_2011 == 1\").Delta_rbg.mean()\n",
    "print reg_df[reg_df.Has_one_of_the_two_treatments].query(\"NBPAC_2011 == 2\").Delta_rbg.mean()\n",
    "print reg_df[~reg_df.Has_one_of_the_two_treatments].query(\"NBPAC_2011 == 2\").Delta_rbg.mean()\n",
    "print reg_df[reg_df.Has_one_of_the_two_treatments].query(\"NBPAC_2011 == 3\").Delta_rbg.mean()\n",
    "print reg_df[~reg_df.Has_one_of_the_two_treatments].query(\"NBPAC_2011 == 3\").Delta_rbg.mean()\n",
    "print reg_df[reg_df.Has_one_of_the_two_treatments].query(\"NBPAC_2011 == 4\").Delta_rbg.mean()\n",
    "print reg_df[~reg_df.Has_one_of_the_two_treatments].query(\"NBPAC_2011 == 4\").Delta_rbg.mean()\n",
    "print reg_df[reg_df.Has_one_of_the_two_treatments].query(\"NBPAC_2011 == 5\").Delta_rbg.mean()\n",
    "print reg_df[~reg_df.Has_one_of_the_two_treatments].query(\"NBPAC_2011 == 5\").Delta_rbg.mean()"
   ]
  },
  {
   "cell_type": "code",
   "execution_count": 42,
   "metadata": {},
   "outputs": [],
   "source": [
    "df_tableau = pd.DataFrame()\n",
    "df_tableau.loc[\"All\",\"Treated\"] =  reg_df[reg_df.Has_one_of_the_two_treatments].Delta_rbg.mean()\n",
    "df_tableau.loc[\"All\",\"Not Treated\"] =  reg_df[~reg_df.Has_one_of_the_two_treatments].Delta_rbg.mean()\n",
    "df_tableau.loc[\"All\",\"Spread\"] = df_tableau.loc[\"All\",\"Treated\"] - df_tableau.loc[\"All\",\"Not Treated\"]\n",
    "for nb_enf in range(0,6):\n",
    "    df_tableau.loc[nb_enf,\"Treated\"] =  reg_df[reg_df.Has_one_of_the_two_treatments\n",
    "                                                ].query(\"NBPAC_2011 == {}\".format(nb_enf)).Delta_rbg.mean()\n",
    "    df_tableau.loc[nb_enf,\"Not Treated\"] =  reg_df[~reg_df.Has_one_of_the_two_treatments\n",
    "                                                  ].query(\"NBPAC_2011 == {}\".format(nb_enf)).Delta_rbg.mean()\n",
    "    df_tableau.loc[nb_enf,\"Spread\"] = df_tableau.loc[nb_enf,\"Treated\"] - df_tableau.loc[nb_enf,\"Not Treated\"]\n",
    "    "
   ]
  },
  {
   "cell_type": "code",
   "execution_count": 44,
   "metadata": {},
   "outputs": [
    {
     "data": {
      "text/html": [
       "<div>\n",
       "<table border=\"1\" class=\"dataframe\">\n",
       "  <thead>\n",
       "    <tr style=\"text-align: right;\">\n",
       "      <th></th>\n",
       "      <th>Treated</th>\n",
       "      <th>Not Treated</th>\n",
       "      <th>Spread</th>\n",
       "    </tr>\n",
       "  </thead>\n",
       "  <tbody>\n",
       "    <tr>\n",
       "      <th>All</th>\n",
       "      <td>3440.827910</td>\n",
       "      <td>465.139981</td>\n",
       "      <td>2975.687929</td>\n",
       "    </tr>\n",
       "    <tr>\n",
       "      <th>0</th>\n",
       "      <td>NaN</td>\n",
       "      <td>-2411.716312</td>\n",
       "      <td>NaN</td>\n",
       "    </tr>\n",
       "    <tr>\n",
       "      <th>1</th>\n",
       "      <td>881.550790</td>\n",
       "      <td>2383.964580</td>\n",
       "      <td>-1502.413789</td>\n",
       "    </tr>\n",
       "    <tr>\n",
       "      <th>2</th>\n",
       "      <td>4766.117409</td>\n",
       "      <td>4655.820816</td>\n",
       "      <td>110.296593</td>\n",
       "    </tr>\n",
       "    <tr>\n",
       "      <th>3</th>\n",
       "      <td>6374.868667</td>\n",
       "      <td>5943.492600</td>\n",
       "      <td>431.376067</td>\n",
       "    </tr>\n",
       "    <tr>\n",
       "      <th>4</th>\n",
       "      <td>5726.161490</td>\n",
       "      <td>6543.726278</td>\n",
       "      <td>-817.564788</td>\n",
       "    </tr>\n",
       "    <tr>\n",
       "      <th>5</th>\n",
       "      <td>1648.445639</td>\n",
       "      <td>5456.122556</td>\n",
       "      <td>-3807.676918</td>\n",
       "    </tr>\n",
       "  </tbody>\n",
       "</table>\n",
       "</div>"
      ],
      "text/plain": [
       "         Treated  Not Treated       Spread\n",
       "All  3440.827910   465.139981  2975.687929\n",
       "0            NaN -2411.716312          NaN\n",
       "1     881.550790  2383.964580 -1502.413789\n",
       "2    4766.117409  4655.820816   110.296593\n",
       "3    6374.868667  5943.492600   431.376067\n",
       "4    5726.161490  6543.726278  -817.564788\n",
       "5    1648.445639  5456.122556 -3807.676918"
      ]
     },
     "execution_count": 44,
     "metadata": {},
     "output_type": "execute_result"
    }
   ],
   "source": [
    "df_tableau"
   ]
  },
  {
   "cell_type": "code",
   "execution_count": 45,
   "metadata": {},
   "outputs": [
    {
     "name": "stdout",
     "output_type": "stream",
     "text": [
      "count    131925.000000\n",
      "mean      -2411.716312\n",
      "std       20642.596323\n",
      "min     -172714.100000\n",
      "25%      -11420.100000\n",
      "50%         897.700000\n",
      "75%        6402.600000\n",
      "max      246722.200000\n",
      "Name: Delta_rbg, dtype: float64\n",
      "count     74953.000000\n",
      "mean       1263.142605\n",
      "std       21057.497005\n",
      "min     -165895.400000\n",
      "25%       -7761.400000\n",
      "50%        2567.700000\n",
      "75%       10165.300000\n",
      "max      228403.000000\n",
      "Name: Delta_rbg, dtype: float64\n",
      "count    104718.000000\n",
      "mean       4718.887615\n",
      "std       20198.449070\n",
      "min     -173839.500000\n",
      "25%       -2089.525000\n",
      "50%        4755.150000\n",
      "75%       11954.525000\n",
      "max      238944.000000\n",
      "Name: Delta_rbg, dtype: float64\n",
      "count     42047.000000\n",
      "mean       6149.152092\n",
      "std       22789.300743\n",
      "min     -176168.700000\n",
      "25%       -1957.450000\n",
      "50%        5516.700000\n",
      "75%       14198.700000\n",
      "max      230003.100000\n",
      "Name: Delta_rbg, dtype: float64\n",
      "count      8062.000000\n",
      "mean       6188.488192\n",
      "std       26106.587603\n",
      "min     -159803.500000\n",
      "25%       -4153.875000\n",
      "50%        5562.450000\n",
      "75%       16173.350000\n",
      "max      191128.400000\n",
      "Name: Delta_rbg, dtype: float64\n",
      "count      1706.000000\n",
      "mean       4023.221864\n",
      "std       27132.781116\n",
      "min     -128469.700000\n",
      "25%       -8558.100000\n",
      "50%        4502.250000\n",
      "75%       15378.075000\n",
      "max      181432.700000\n",
      "Name: Delta_rbg, dtype: float64\n"
     ]
    }
   ],
   "source": [
    "for nb_enf in range(0,6):\n",
    "    print reg_df.query(\"NBPAC_2011 == {}\".format(nb_enf)).Delta_rbg.describe()"
   ]
  },
  {
   "cell_type": "code",
   "execution_count": null,
   "metadata": {
    "collapsed": true
   },
   "outputs": [],
   "source": []
  },
  {
   "cell_type": "code",
   "execution_count": null,
   "metadata": {
    "collapsed": true
   },
   "outputs": [],
   "source": []
  },
  {
   "cell_type": "code",
   "execution_count": null,
   "metadata": {},
   "outputs": [],
   "source": [
    "df_temp_2013 = df2013\n",
    "df_temp_2014 = df2014\n",
    "do_not_optimize_2013 = pd.Series()\n",
    "do_not_optimize_2014 = pd.Series()\n",
    "do_not_optimize_2013_list = list()\n",
    "do_not_optimize_2014_list = list()\n",
    "\n",
    "for nb_enf in range(1,6):\n",
    "    try : \n",
    "        do_not_optimize_2013_list.append(df_temp_2013[df_temp_2013.Nb_enfants == nb_enf].Do_not_optimize.value_counts()[True])\n",
    "    except KeyError:\n",
    "        do_not_optimize_2013_list.append(0)\n",
    "    try : \n",
    "        do_not_optimize_2014_list.append(df_temp_2014[df_temp_2014.Nb_enfants == nb_enf].Do_not_optimize.value_counts()[True])\n",
    "    except KeyError:\n",
    "        do_not_optimize_2014_list.append(0)\n",
    "\n",
    "\n",
    "df = pd.DataFrame({\"Not_opt_2013\" :do_not_optimize_2013_list ,\"Not_opt_2014\" :do_not_optimize_2014_list })\n",
    "df.index = range(1,6)\n",
    "df[\"N_2013\"] = df_temp_2013.Nb_enfants.value_counts()\n",
    "df[\"N_2014\"] = df_temp_2014.Nb_enfants.value_counts()\n",
    "df[\"Share_2013\"] = df[\"Not_opt_2013\"]/df.N_2013\n",
    "df[\"Share_2014\"] = df[\"Not_opt_2014\"]/df.N_2014\n",
    "df.loc['Total'] = pd.Series(df[[\"N_2013\",\"N_2014\"]].sum())\n",
    "\n",
    "df.index.name = \"Nb_children\"\n",
    "return df[[ \"Share_2013\",\"N_2013\",\"Share_2014\",\"N_2014\"]]"
   ]
  },
  {
   "cell_type": "code",
   "execution_count": 32,
   "metadata": {
    "collapsed": true
   },
   "outputs": [],
   "source": [
    "import statsmodels.api as sm\n",
    "reg_df[\"Delta_rbg\"] = reg_df.Rbg_2014 - reg_df.Rbg_2011"
   ]
  },
  {
   "cell_type": "markdown",
   "metadata": {},
   "source": [
    "Just to show that we have the same results as above with patsy"
   ]
  },
  {
   "cell_type": "code",
   "execution_count": 33,
   "metadata": {},
   "outputs": [],
   "source": [
    "# m = sm.OLS.from_formula(\"(Delta_rbg)~ Over_threshold\", reg_df)\n",
    "# fit = m.fit()\n",
    "# summary = fit.summary(); summary"
   ]
  },
  {
   "cell_type": "code",
   "execution_count": 34,
   "metadata": {},
   "outputs": [
    {
     "data": {
      "text/plain": [
       "0    223768\n",
       "1    140401\n",
       "dtype: int64"
      ]
     },
     "execution_count": 34,
     "metadata": {},
     "output_type": "execute_result"
    }
   ],
   "source": [
    "(reg_df.Between_thresholds+reg_df.Over_threshold).value_counts()"
   ]
  },
  {
   "cell_type": "code",
   "execution_count": 35,
   "metadata": {},
   "outputs": [
    {
     "data": {
      "text/plain": [
       "(364169, 312)"
      ]
     },
     "execution_count": 35,
     "metadata": {},
     "output_type": "execute_result"
    }
   ],
   "source": [
    "reg_df.shape"
   ]
  },
  {
   "cell_type": "code",
   "execution_count": 36,
   "metadata": {},
   "outputs": [
    {
     "data": {
      "text/plain": [
       "0    131925\n",
       "2    104718\n",
       "1     74953\n",
       "3     42047\n",
       "4      8062\n",
       "5      1706\n",
       "6       545\n",
       "7       213\n",
       "dtype: int64"
      ]
     },
     "execution_count": 36,
     "metadata": {},
     "output_type": "execute_result"
    }
   ],
   "source": [
    "reg_df.NBPAC_2011.value_counts()"
   ]
  },
  {
   "cell_type": "code",
   "execution_count": null,
   "metadata": {
    "collapsed": true
   },
   "outputs": [],
   "source": []
  },
  {
   "cell_type": "code",
   "execution_count": null,
   "metadata": {
    "collapsed": true
   },
   "outputs": [],
   "source": []
  },
  {
   "cell_type": "code",
   "execution_count": null,
   "metadata": {
    "collapsed": true
   },
   "outputs": [],
   "source": []
  },
  {
   "cell_type": "code",
   "execution_count": 37,
   "metadata": {},
   "outputs": [
    {
     "data": {
      "text/plain": [
       "\n",
       "-------------------------Summary of Regression Analysis-------------------------\n",
       "\n",
       "Formula: Y ~ <Over_threshold> + <Between_thresholds> + <cumulative_child_1>\n",
       "             + <cumulative_child_2> + <cumulative_child_3> + <cumulative_child_4>\n",
       "             + <cumulative_child_5> + <Threshold_63233> + <Threshold_73516>\n",
       "             + <Threshold_94451> + <Threshold_115185> + <Threshold_135941>\n",
       "             + <Threshold_150684> + <intercept>\n",
       "\n",
       "Number of Observations:         364169\n",
       "Number of Degrees of Freedom:   14\n",
       "\n",
       "R-squared:         0.0364\n",
       "Adj R-squared:     0.0364\n",
       "\n",
       "Rmse:          20925.6249\n",
       "\n",
       "F-stat (13, 364155):  1058.7685, p-value:     0.0000\n",
       "\n",
       "Degrees of Freedom: model 13, resid 364155\n",
       "\n",
       "-----------------------Summary of Estimated Coefficients------------------------\n",
       "      Variable       Coef    Std Err     t-stat    p-value    CI 2.5%   CI 97.5%\n",
       "--------------------------------------------------------------------------------\n",
       "Over_threshold  3057.0371   136.0980      22.46     0.0000  2790.2850  3323.7892\n",
       "Between_thresholds  1602.6076   126.1314      12.71     0.0000  1355.3901  1849.8250\n",
       "cumulative_child_1  1397.2694   146.7490       9.52     0.0000  1109.6413  1684.8974\n",
       "cumulative_child_2  4569.8285   118.7932      38.47     0.0000  4336.9938  4802.6632\n",
       "cumulative_child_3  1796.9746   126.6327      14.19     0.0000  1548.7746  2045.1746\n",
       "--------------------------------------------------------------------------------\n",
       "cumulative_child_4   807.6235   260.8375       3.10     0.0020   296.3821  1318.8650\n",
       "cumulative_child_5 -2796.2371   483.9549      -5.78     0.0000 -3744.7887 -1847.6855\n",
       "Threshold_63233  -853.0986   105.7517      -8.07     0.0000 -1060.3720  -645.8252\n",
       "Threshold_73516 -1771.6695   122.5611     -14.46     0.0000 -2011.8892 -1531.4498\n",
       "Threshold_94451 -2132.3524   143.7389     -14.83     0.0000 -2414.0808 -1850.6241\n",
       "--------------------------------------------------------------------------------\n",
       "Threshold_115185 -1995.6061   202.2949      -9.86     0.0000 -2392.1041 -1599.1082\n",
       "Threshold_135941 -1708.2225   311.4101      -5.49     0.0000 -2318.5864 -1097.8586\n",
       "Threshold_150684 -4612.7266   335.8580     -13.73     0.0000 -5271.0083 -3954.4449\n",
       "     intercept  -862.3075    74.2315     -11.62     0.0000 -1007.8011  -716.8138\n",
       "---------------------------------End of Summary---------------------------------"
      ]
     },
     "execution_count": 37,
     "metadata": {},
     "output_type": "execute_result"
    }
   ],
   "source": [
    "pd.stats.ols.OLS((reg_df.Rbg_2014 - reg_df.Rbg_2011), reg_df_1)"
   ]
  },
  {
   "cell_type": "code",
   "execution_count": 213,
   "metadata": {},
   "outputs": [
    {
     "name": "stdout",
     "output_type": "stream",
     "text": [
      "                            OLS Regression Results                            \n",
      "==============================================================================\n",
      "Dep. Variable:              Delta_rbg   R-squared:                       0.009\n",
      "Model:                            OLS   Adj. R-squared:                  0.009\n",
      "Method:                 Least Squares   F-statistic:                     105.8\n",
      "Date:                Wed, 28 Feb 2018   Prob (F-statistic):          1.01e-306\n",
      "Time:                        17:33:20   Log-Likelihood:            -1.9399e+06\n",
      "No. Observations:              171086   AIC:                         3.880e+06\n",
      "Df Residuals:                  171071   BIC:                         3.880e+06\n",
      "Df Model:                          14                                         \n",
      "Covariance Type:            nonrobust                                         \n",
      "======================================================================================\n",
      "                         coef    std err          t      P>|t|      [95.0% Conf. Int.]\n",
      "--------------------------------------------------------------------------------------\n",
      "Intercept          -1.426e+05   1.43e+04     -9.995      0.000     -1.71e+05 -1.15e+05\n",
      "Over_threshold       910.0188    208.505      4.364      0.000       501.354  1318.684\n",
      "Between_thresholds   696.8066    169.796      4.104      0.000       364.011  1029.602\n",
      "cumulative_child_1   987.4449    241.714      4.085      0.000       513.691  1461.199\n",
      "cumulative_child_2  2368.9796    160.509     14.759      0.000      2054.386  2683.573\n",
      "cumulative_child_3  1439.1257    144.414      9.965      0.000      1156.077  1722.175\n",
      "cumulative_child_4   447.1481    297.176      1.505      0.132      -135.310  1029.606\n",
      "cumulative_child_5 -1955.6780    663.175     -2.949      0.003     -3255.487  -655.869\n",
      "Threshold_63233      219.6806    162.915      1.348      0.178       -99.630   538.991\n",
      "Threshold_73516        8.1601    194.217      0.042      0.966      -372.500   388.820\n",
      "Threshold_94451     -615.6795    209.748     -2.935      0.003     -1026.782  -204.577\n",
      "Threshold_115185    -728.6005    291.987     -2.495      0.013     -1300.888  -156.313\n",
      "Threshold_135941    -758.7874    462.562     -1.640      0.101     -1665.399   147.825\n",
      "Threshold_150684   -4386.0909    504.592     -8.692      0.000     -5375.080 -3397.102\n",
      "ANAIS_2011            73.1397      7.236     10.108      0.000        58.957    87.322\n",
      "==============================================================================\n",
      "Omnibus:                    42516.813   Durbin-Watson:                   1.996\n",
      "Prob(Omnibus):                  0.000   Jarque-Bera (JB):           884006.190\n",
      "Skew:                           0.688   Prob(JB):                         0.00\n",
      "Kurtosis:                      14.050   Cond. No.                     5.72e+05\n",
      "==============================================================================\n",
      "\n",
      "Warnings:\n",
      "[1] Standard Errors assume that the covariance matrix of the errors is correctly specified.\n",
      "[2] The condition number is large, 5.72e+05. This might indicate that there are\n",
      "strong multicollinearity or other numerical problems.\n"
     ]
    }
   ],
   "source": [
    "m = sm.OLS.from_formula(\"(Delta_rbg)~ Over_threshold + Between_thresholds +  {} + ANAIS_2011\".format(\n",
    "        ' + '.join(cumulative_child_bool_list+thrsh_bool_list))\n",
    "                                                                                        , reg_df)\n",
    "fit = m.fit()\n",
    "summary = fit.summary(); print(summary)"
   ]
  },
  {
   "cell_type": "code",
   "execution_count": 214,
   "metadata": {},
   "outputs": [
    {
     "data": {
      "text/plain": [
       "2.6375569623789484e-10"
      ]
     },
     "execution_count": 214,
     "metadata": {},
     "output_type": "execute_result"
    }
   ],
   "source": [
    "np.mean(fit.resid * reg_df.Between_thresholds)"
   ]
  },
  {
   "cell_type": "code",
   "execution_count": 215,
   "metadata": {},
   "outputs": [
    {
     "data": {
      "text/plain": [
       "-2.7739325793233752e-10"
      ]
     },
     "execution_count": 215,
     "metadata": {},
     "output_type": "execute_result"
    }
   ],
   "source": [
    "np.mean(fit.resid * reg_df.Over_threshold)"
   ]
  },
  {
   "cell_type": "code",
   "execution_count": 216,
   "metadata": {},
   "outputs": [
    {
     "name": "stdout",
     "output_type": "stream",
     "text": [
      "                    Robust linear Model Regression Results                    \n",
      "==============================================================================\n",
      "Dep. Variable:              Delta_rbg   No. Observations:               171086\n",
      "Model:                            RLM   Df Residuals:                   171071\n",
      "Method:                          IRLS   Df Model:                           14\n",
      "Norm:                          HuberT                                         \n",
      "Scale Est.:                       mad                                         \n",
      "Cov Type:                          H1                                         \n",
      "Date:                Wed, 28 Feb 2018                                         \n",
      "Time:                        17:33:39                                         \n",
      "No. Iterations:                    12                                         \n",
      "======================================================================================\n",
      "                         coef    std err          z      P>|z|      [95.0% Conf. Int.]\n",
      "--------------------------------------------------------------------------------------\n",
      "Intercept          -1.338e+05   9177.969    -14.579      0.000     -1.52e+05 -1.16e+05\n",
      "Over_threshold      1083.9745    134.090      8.084      0.000       821.163  1346.786\n",
      "Between_thresholds   934.7417    109.196      8.560      0.000       720.722  1148.762\n",
      "cumulative_child_1   744.6560    155.447      4.790      0.000       439.986  1049.326\n",
      "cumulative_child_2  2238.7840    103.223     21.689      0.000      2036.470  2441.098\n",
      "cumulative_child_3  1125.3921     92.873     12.118      0.000       943.364  1307.420\n",
      "cumulative_child_4   100.6439    191.114      0.527      0.598      -273.933   475.221\n",
      "cumulative_child_5  -915.2873    426.489     -2.146      0.032     -1751.191   -79.384\n",
      "Threshold_63233       77.3984    104.771      0.739      0.460      -127.949   282.746\n",
      "Threshold_73516      309.2628    124.901      2.476      0.013        64.461   554.064\n",
      "Threshold_94451      133.8524    134.890      0.992      0.321      -130.526   398.231\n",
      "Threshold_115185      75.9243    187.777      0.404      0.686      -292.112   443.961\n",
      "Threshold_135941     828.7961    297.475      2.786      0.005       245.757  1411.835\n",
      "Threshold_150684   -2752.2105    324.504     -8.481      0.000     -3388.226 -2116.195\n",
      "ANAIS_2011            68.6896      4.653     14.761      0.000        59.569    77.810\n",
      "======================================================================================\n",
      "\n",
      "If the model instance has been used for another fit with different fit\n",
      "parameters, then the fit options might not be the correct ones anymore .\n"
     ]
    }
   ],
   "source": [
    "m = sm.RLM.from_formula(\"(Delta_rbg)~ Over_threshold + Between_thresholds +  {} + ANAIS_2011\".format(\n",
    "        ' + '.join(cumulative_child_bool_list+thrsh_bool_list))\n",
    "                                                                                        , reg_df)\n",
    "fit = m.fit()\n",
    "summary = fit.summary(); print(summary)"
   ]
  },
  {
   "cell_type": "code",
   "execution_count": 96,
   "metadata": {},
   "outputs": [
    {
     "data": {
      "text/plain": [
       "<matplotlib.axes._subplots.AxesSubplot at 0x1d7df74e0>"
      ]
     },
     "execution_count": 96,
     "metadata": {},
     "output_type": "execute_result"
    },
    {
     "data": {
      "image/png": "[encoded data removed]",
      "text/plain": [
       "<matplotlib.figure.Figure at 0x17ed0ef28>"
      ]
     },
     "metadata": {},
     "output_type": "display_data"
    }
   ],
   "source": [
    "fit.resid.hist(bins = 100)"
   ]
  },
  {
   "cell_type": "code",
   "execution_count": 48,
   "metadata": {},
   "outputs": [],
   "source": [
    "between_threshold_for_child_rank = [\"Between_threshold_{}_child\".format(nb_child) for nb_child in range(1,6)]\n",
    "over_threshold_for_child_rank = [\"Over_threshold_{}_child\".format(nb_child) for nb_child in range(1,6)]\n",
    "children_number =  [\"child_{}\".format(nb_child) for nb_child in range(1,6)]"
   ]
  },
  {
   "cell_type": "code",
   "execution_count": 49,
   "metadata": {},
   "outputs": [],
   "source": [
    "interaction_child_between_threshold  = [\"{}:{}\".format(child,interaction) for child, interaction in zip(children_number, between_threshold_for_child_rank)]\n",
    "interaction_child_over_threshold  = [\"{}:{}\".format(child,interaction) for child, interaction in zip(children_number, over_threshold_for_child_rank)]"
   ]
  },
  {
   "cell_type": "code",
   "execution_count": 219,
   "metadata": {},
   "outputs": [
    {
     "data": {
      "text/plain": [
       "['child_1:Between_threshold_1_child',\n",
       " 'child_2:Between_threshold_2_child',\n",
       " 'child_3:Between_threshold_3_child',\n",
       " 'child_4:Between_threshold_4_child',\n",
       " 'child_5:Between_threshold_5_child']"
      ]
     },
     "execution_count": 219,
     "metadata": {},
     "output_type": "execute_result"
    }
   ],
   "source": [
    "[\"{}:{}\".format(child,interaction) for child, interaction in zip(children_number, between_threshold_for_child_rank)]"
   ]
  },
  {
   "cell_type": "code",
   "execution_count": 220,
   "metadata": {},
   "outputs": [
    {
     "name": "stdout",
     "output_type": "stream",
     "text": [
      "                            OLS Regression Results                            \n",
      "==============================================================================\n",
      "Dep. Variable:              Delta_rbg   R-squared:                       0.008\n",
      "Model:                            OLS   Adj. R-squared:                  0.008\n",
      "Method:                 Least Squares   F-statistic:                     54.04\n",
      "Date:                Wed, 28 Feb 2018   Prob (F-statistic):          1.46e-268\n",
      "Time:                        17:33:53   Log-Likelihood:            -1.9400e+06\n",
      "No. Observations:              171086   AIC:                         3.880e+06\n",
      "Df Residuals:                  171060   BIC:                         3.880e+06\n",
      "Df Model:                          25                                         \n",
      "Covariance Type:            nonrobust                                         \n",
      "=============================================================================================================\n",
      "                                                coef    std err          t      P>|t|      [95.0% Conf. Int.]\n",
      "-------------------------------------------------------------------------------------------------------------\n",
      "Intercept                                  1768.8089    185.589      9.531      0.000      1405.058  2132.559\n",
      "Between_threshold_1_child[T.True]           208.8653    176.737      1.182      0.237      -137.535   555.266\n",
      "Between_threshold_2_child[T.True]            16.9604    592.099      0.029      0.977     -1143.541  1177.462\n",
      "Between_threshold_3_child[T.True]           724.2676    779.671      0.929      0.353      -803.870  2252.405\n",
      "Between_threshold_4_child[T.True]            20.9230    245.346      0.085      0.932      -459.950   501.796\n",
      "Between_threshold_5_child[T.True]          -610.2715   2326.306     -0.262      0.793     -5169.779  3949.236\n",
      "Over_threshold_1_child[T.True]               67.1444    574.370      0.117      0.907     -1058.608  1192.896\n",
      "Over_threshold_2_child[T.True]            -1168.9115    958.098     -1.220      0.222     -3046.762   708.938\n",
      "Over_threshold_3_child[T.True]              843.3712   2453.217      0.344      0.731     -3964.880  5651.622\n",
      "Over_threshold_4_child[T.True]             -742.3420    403.417     -1.840      0.066     -1533.031    48.347\n",
      "Over_threshold_5_child[T.True]            -4356.3650   2354.175     -1.850      0.064     -8970.496   257.766\n",
      "child_1                                    1118.8029    256.008      4.370      0.000       617.033  1620.573\n",
      "child_1:Between_threshold_1_child[T.True]   321.7734    376.930      0.854      0.393      -417.000  1060.547\n",
      "child_1:Over_threshold_1_child[T.True]      325.4649    322.253      1.010      0.313      -306.144   957.074\n",
      "child_2                                    3023.8056    205.544     14.711      0.000      2620.945  3426.667\n",
      "child_2:Between_threshold_2_child[T.True]   624.9264    295.660      2.114      0.035        45.439  1204.414\n",
      "child_2:Over_threshold_2_child[T.True]     1447.4566    305.674      4.735      0.000       848.342  2046.571\n",
      "child_3                                    4163.1033    216.530     19.226      0.000      3738.710  4587.497\n",
      "child_3:Between_threshold_3_child[T.True]  1725.5753    384.505      4.488      0.000       971.954  2479.196\n",
      "child_3:Over_threshold_3_child[T.True]     2754.5665    394.305      6.986      0.000      1981.738  3527.395\n",
      "child_4                                    4437.6950    358.711     12.371      0.000      3734.630  5140.760\n",
      "child_4:Between_threshold_4_child[T.True]  2204.0718    733.177      3.006      0.003       767.061  3641.083\n",
      "child_4:Over_threshold_4_child[T.True]     3934.2371    800.822      4.913      0.000      2364.644  5503.830\n",
      "child_5                                    3602.6459    717.061      5.024      0.000      2197.223  5008.069\n",
      "child_5:Between_threshold_5_child[T.True]  -877.2758   1634.589     -0.537      0.591     -4081.034  2326.482\n",
      "child_5:Over_threshold_5_child[T.True]     -992.2240   2204.861     -0.450      0.653     -5313.702  3329.254\n",
      "==============================================================================\n",
      "Omnibus:                    42492.229   Durbin-Watson:                   1.996\n",
      "Prob(Omnibus):                  0.000   Jarque-Bera (JB):           890200.578\n",
      "Skew:                           0.685   Prob(JB):                         0.00\n",
      "Kurtosis:                      14.091   Cond. No.                         118.\n",
      "==============================================================================\n",
      "\n",
      "Warnings:\n",
      "[1] Standard Errors assume that the covariance matrix of the errors is correctly specified.\n"
     ]
    }
   ],
   "source": [
    "m = sm.OLS.from_formula(\"(Delta_rbg)~   {}  \".format(\n",
    "        ' + '.join(between_threshold_for_child_rank+children_number+ over_threshold_for_child_rank+\n",
    "                  interaction_child_between_threshold+interaction_child_over_threshold))\n",
    "                                                                                        , reg_df)\n",
    "fit = m.fit()\n",
    "summary = fit.summary(); print(summary)"
   ]
  },
  {
   "cell_type": "markdown",
   "metadata": {},
   "source": [
    "Only over those keeping the same number of children in the household"
   ]
  },
  {
   "cell_type": "code",
   "execution_count": 221,
   "metadata": {},
   "outputs": [
    {
     "data": {
      "text/plain": [
       "False    152025\n",
       "True      19061\n",
       "dtype: int64"
      ]
     },
     "execution_count": 221,
     "metadata": {},
     "output_type": "execute_result"
    }
   ],
   "source": [
    "reg_df[\"Birth\"] = (reg_df.NBPAC_2011 < reg_df.NBPAC_2014).astype('int')\n",
    "(reg_df.NBPAC_2011 < reg_df.NBPAC_2014).value_counts(normalize = False)"
   ]
  },
  {
   "cell_type": "code",
   "execution_count": 222,
   "metadata": {},
   "outputs": [],
   "source": [
    "# m = sm.Probit.from_formula(\"(Birth)~   {}  \".format(\n",
    "#         ' + '.join(between_threshold_for_child_rank+children_number+ over_threshold_for_child_rank+\n",
    "#                   interaction_child_between_threshold+interaction_child_over_threshold[:]))\n",
    "#                                                                                         , reg_df)\n",
    "# fit = m.fit()\n",
    "# summary = fit.summary(); print(summary)"
   ]
  },
  {
   "cell_type": "code",
   "execution_count": null,
   "metadata": {
    "collapsed": true
   },
   "outputs": [],
   "source": []
  },
  {
   "cell_type": "code",
   "execution_count": null,
   "metadata": {
    "collapsed": true
   },
   "outputs": [],
   "source": []
  },
  {
   "cell_type": "code",
   "execution_count": null,
   "metadata": {
    "collapsed": true
   },
   "outputs": [],
   "source": []
  },
  {
   "cell_type": "code",
   "execution_count": 55,
   "metadata": {},
   "outputs": [],
   "source": [
    "reg_df_same_NBPAC = reg_df[(reg_df.NBPAC_2011 == reg_df.NBPAC_2014)]"
   ]
  },
  {
   "cell_type": "code",
   "execution_count": 224,
   "metadata": {},
   "outputs": [
    {
     "name": "stdout",
     "output_type": "stream",
     "text": [
      "                            OLS Regression Results                            \n",
      "==============================================================================\n",
      "Dep. Variable:              Delta_rbg   R-squared:                       0.012\n",
      "Model:                            OLS   Adj. R-squared:                  0.011\n",
      "Method:                 Least Squares   F-statistic:                     61.23\n",
      "Date:                Wed, 28 Feb 2018   Prob (F-statistic):          3.28e-306\n",
      "Time:                        17:34:20   Log-Likelihood:            -1.4788e+06\n",
      "No. Observations:              130840   AIC:                         2.958e+06\n",
      "Df Residuals:                  130814   BIC:                         2.958e+06\n",
      "Df Model:                          25                                         \n",
      "Covariance Type:            nonrobust                                         \n",
      "=============================================================================================================\n",
      "                                                coef    std err          t      P>|t|      [95.0% Conf. Int.]\n",
      "-------------------------------------------------------------------------------------------------------------\n",
      "Intercept                                   788.1101    206.689      3.813      0.000       383.002  1193.218\n",
      "Between_threshold_1_child[T.True]           208.6456    190.735      1.094      0.274      -165.191   582.482\n",
      "Between_threshold_2_child[T.True]            69.1435    655.028      0.106      0.916     -1214.700  1352.987\n",
      "Between_threshold_3_child[T.True]          1087.5201    866.972      1.254      0.210      -611.729  2786.769\n",
      "Between_threshold_4_child[T.True]          -337.6999    268.887     -1.256      0.209      -864.714   189.315\n",
      "Between_threshold_5_child[T.True]          -749.4883   2439.812     -0.307      0.759     -5531.476  4032.499\n",
      "Over_threshold_1_child[T.True]               83.1984    632.394      0.132      0.895     -1156.282  1322.679\n",
      "Over_threshold_2_child[T.True]            -1552.9140   1064.069     -1.459      0.144     -3638.470   532.642\n",
      "Over_threshold_3_child[T.True]             1710.5907   2589.093      0.661      0.509     -3363.985  6785.166\n",
      "Over_threshold_4_child[T.True]            -1184.5084    439.203     -2.697      0.007     -2045.339  -323.678\n",
      "Over_threshold_5_child[T.True]            -4807.1426   2470.926     -1.945      0.052     -9650.112    35.827\n",
      "child_1                                    2128.9455    299.033      7.119      0.000      1542.845  2715.045\n",
      "child_1:Between_threshold_1_child[T.True]    75.2948    451.798      0.167      0.868      -810.221   960.811\n",
      "child_1:Over_threshold_1_child[T.True]      280.5677    379.119      0.740      0.459      -462.498  1023.633\n",
      "child_2                                    3902.3272    226.918     17.197      0.000      3457.572  4347.083\n",
      "child_2:Between_threshold_2_child[T.True]   580.7459    321.948      1.804      0.071       -50.266  1211.758\n",
      "child_2:Over_threshold_2_child[T.True]     1815.7844    341.526      5.317      0.000      1146.400  2485.169\n",
      "child_3                                    5220.3202    238.471     21.891      0.000      4752.921  5687.719\n",
      "child_3:Between_threshold_3_child[T.True]  2180.9403    423.142      5.154      0.000      1351.590  3010.291\n",
      "child_3:Over_threshold_3_child[T.True]     3295.4312    432.124      7.626      0.000      2448.476  4142.386\n",
      "child_4                                    6475.0647    413.494     15.659      0.000      5664.625  7285.505\n",
      "child_4:Between_threshold_4_child[T.True]  2795.4255    822.162      3.400      0.001      1184.003  4406.848\n",
      "child_4:Over_threshold_4_child[T.True]     3347.6122    881.126      3.799      0.000      1620.620  5074.604\n",
      "child_5                                    7314.5253    912.874      8.013      0.000      5525.309  9103.741\n",
      "child_5:Between_threshold_5_child[T.True] -3627.7734   2013.560     -1.802      0.072     -7574.315   318.768\n",
      "child_5:Over_threshold_5_child[T.True]     6147.5794   2836.382      2.167      0.030       588.321  1.17e+04\n",
      "==============================================================================\n",
      "Omnibus:                    35043.746   Durbin-Watson:                   2.001\n",
      "Prob(Omnibus):                  0.000   Jarque-Bera (JB):           871754.732\n",
      "Skew:                           0.729   Prob(JB):                         0.00\n",
      "Kurtosis:                      15.561   Cond. No.                         114.\n",
      "==============================================================================\n",
      "\n",
      "Warnings:\n",
      "[1] Standard Errors assume that the covariance matrix of the errors is correctly specified.\n"
     ]
    }
   ],
   "source": [
    "m = sm.OLS.from_formula(\"(Delta_rbg)~   {}  \".format(\n",
    "        ' + '.join(between_threshold_for_child_rank+children_number+ over_threshold_for_child_rank+\n",
    "                  interaction_child_between_threshold+interaction_child_over_threshold))\n",
    "                                                                                        , reg_df_same_NBPAC)\n",
    "fit = m.fit()\n",
    "summary = fit.summary(); print(summary)"
   ]
  },
  {
   "cell_type": "code",
   "execution_count": 225,
   "metadata": {},
   "outputs": [
    {
     "name": "stdout",
     "output_type": "stream",
     "text": [
      "                            OLS Regression Results                            \n",
      "==============================================================================\n",
      "Dep. Variable:              Delta_rbg   R-squared:                       0.012\n",
      "Model:                            OLS   Adj. R-squared:                  0.011\n",
      "Method:                 Least Squares   F-statistic:                     61.23\n",
      "Date:                Wed, 28 Feb 2018   Prob (F-statistic):          3.28e-306\n",
      "Time:                        17:36:51   Log-Likelihood:            -1.4788e+06\n",
      "No. Observations:              130840   AIC:                         2.958e+06\n",
      "Df Residuals:                  130814   BIC:                         2.958e+06\n",
      "Df Model:                          25                                         \n",
      "Covariance Type:            nonrobust                                         \n",
      "=============================================================================================================\n",
      "                                                coef    std err          t      P>|t|      [95.0% Conf. Int.]\n",
      "-------------------------------------------------------------------------------------------------------------\n",
      "Intercept                                   788.1101    206.689      3.813      0.000       383.002  1193.218\n",
      "Between_threshold_1_child[T.True]           208.6456    190.735      1.094      0.274      -165.191   582.482\n",
      "Between_threshold_2_child[T.True]            69.1435    655.028      0.106      0.916     -1214.700  1352.987\n",
      "Between_threshold_3_child[T.True]          1087.5201    866.972      1.254      0.210      -611.729  2786.769\n",
      "Between_threshold_4_child[T.True]          -337.6999    268.887     -1.256      0.209      -864.714   189.315\n",
      "Between_threshold_5_child[T.True]          -749.4883   2439.812     -0.307      0.759     -5531.476  4032.499\n",
      "Over_threshold_1_child[T.True]               83.1984    632.394      0.132      0.895     -1156.282  1322.679\n",
      "Over_threshold_2_child[T.True]            -1552.9140   1064.069     -1.459      0.144     -3638.470   532.642\n",
      "Over_threshold_3_child[T.True]             1710.5907   2589.093      0.661      0.509     -3363.985  6785.166\n",
      "Over_threshold_4_child[T.True]            -1184.5084    439.203     -2.697      0.007     -2045.339  -323.678\n",
      "Over_threshold_5_child[T.True]            -4807.1426   2470.926     -1.945      0.052     -9650.112    35.827\n",
      "child_1                                    2128.9455    299.033      7.119      0.000      1542.845  2715.045\n",
      "child_1:Between_threshold_1_child[T.True]    75.2948    451.798      0.167      0.868      -810.221   960.811\n",
      "child_1:Over_threshold_1_child[T.True]      280.5677    379.119      0.740      0.459      -462.498  1023.633\n",
      "child_2                                    3902.3272    226.918     17.197      0.000      3457.572  4347.083\n",
      "child_2:Between_threshold_2_child[T.True]   580.7459    321.948      1.804      0.071       -50.266  1211.758\n",
      "child_2:Over_threshold_2_child[T.True]     1815.7844    341.526      5.317      0.000      1146.400  2485.169\n",
      "child_3                                    5220.3202    238.471     21.891      0.000      4752.921  5687.719\n",
      "child_3:Between_threshold_3_child[T.True]  2180.9403    423.142      5.154      0.000      1351.590  3010.291\n",
      "child_3:Over_threshold_3_child[T.True]     3295.4312    432.124      7.626      0.000      2448.476  4142.386\n",
      "child_4                                    6475.0647    413.494     15.659      0.000      5664.625  7285.505\n",
      "child_4:Between_threshold_4_child[T.True]  2795.4255    822.162      3.400      0.001      1184.003  4406.848\n",
      "child_4:Over_threshold_4_child[T.True]     3347.6122    881.126      3.799      0.000      1620.620  5074.604\n",
      "child_5                                    7314.5253    912.874      8.013      0.000      5525.309  9103.741\n",
      "child_5:Between_threshold_5_child[T.True] -3627.7734   2013.560     -1.802      0.072     -7574.315   318.768\n",
      "child_5:Over_threshold_5_child[T.True]     6147.5794   2836.382      2.167      0.030       588.321  1.17e+04\n",
      "==============================================================================\n",
      "Omnibus:                    35043.746   Durbin-Watson:                   2.001\n",
      "Prob(Omnibus):                  0.000   Jarque-Bera (JB):           871754.732\n",
      "Skew:                           0.729   Prob(JB):                         0.00\n",
      "Kurtosis:                      15.561   Cond. No.                         114.\n",
      "==============================================================================\n",
      "\n",
      "Warnings:\n",
      "[1] Standard Errors assume that the covariance matrix of the errors is correctly specified.\n"
     ]
    }
   ],
   "source": [
    "m = sm.OLS.from_formula(\"(Delta_rbg)~   {}  \".format(\n",
    "        ' + '.join(between_threshold_for_child_rank+children_number+ over_threshold_for_child_rank+\n",
    "                  interaction_child_between_threshold+interaction_child_over_threshold[:]))\n",
    "                                                                                        , reg_df_same_NBPAC)\n",
    "fit = m.fit()\n",
    "summary = fit.summary(); print(summary)"
   ]
  },
  {
   "cell_type": "markdown",
   "metadata": {},
   "source": [
    "#### Possible interaction placebo:"
   ]
  },
  {
   "cell_type": "code",
   "execution_count": 228,
   "metadata": {
    "collapsed": true
   },
   "outputs": [],
   "source": [
    "child_1_between_acceptable_placebo = [\"Between_threshold_1_child:child_2\", \"Between_threshold_1_child:child_3\", \"Between_threshold_1_child:child_4\",\n",
    "                             \"Between_threshold_1_child:child_5\"]\n",
    "child_2_between_acceptable_placebo = [\"Between_threshold_2_child:child_3\",\"Between_threshold_2_child:child_3\", \"Between_threshold_2_child:child_4\",\n",
    "                                     \"Between_threshold_2_child:child_5\"]\n",
    "child_3_between_acceptable_placebo = [\"Between_threshold_3_child:child_5\",]"
   ]
  },
  {
   "cell_type": "code",
   "execution_count": 229,
   "metadata": {
    "collapsed": true
   },
   "outputs": [],
   "source": [
    "accptable_placebo_between_list = child_1_between_acceptable_placebo+child_2_between_acceptable_placebo+child_3_between_acceptable_placebo"
   ]
  },
  {
   "cell_type": "code",
   "execution_count": 241,
   "metadata": {
    "scrolled": false
   },
   "outputs": [
    {
     "name": "stdout",
     "output_type": "stream",
     "text": [
      "                    Robust linear Model Regression Results                    \n",
      "==============================================================================\n",
      "Dep. Variable:              Delta_rbg   No. Observations:               130840\n",
      "Model:                            RLM   Df Residuals:                   130806\n",
      "Method:                          IRLS   Df Model:                           33\n",
      "Norm:                          HuberT                                         \n",
      "Scale Est.:                       mad                                         \n",
      "Cov Type:                          H1                                         \n",
      "Date:                Wed, 28 Feb 2018                                         \n",
      "Time:                        18:02:43                                         \n",
      "No. Iterations:                    12                                         \n",
      "=============================================================================================================\n",
      "                                                coef    std err          z      P>|z|      [95.0% Conf. Int.]\n",
      "-------------------------------------------------------------------------------------------------------------\n",
      "Intercept                                  1437.9702    156.831      9.169      0.000      1130.587  1745.354\n",
      "Between_threshold_1_child[T.True]            39.6271    303.962      0.130      0.896      -556.127   635.381\n",
      "Between_threshold_2_child[T.True]          -650.7222    431.596     -1.508      0.132     -1496.634   195.190\n",
      "Between_threshold_3_child[T.True]           358.0417    530.696      0.675      0.500      -682.103  1398.187\n",
      "Between_threshold_4_child[T.True]           107.1822    164.417      0.652      0.514      -215.068   429.433\n",
      "Between_threshold_5_child[T.True]           225.0967   1490.442      0.151      0.880     -2696.116  3146.310\n",
      "Over_threshold_1_child[T.True]             -209.3914    386.912     -0.541      0.588      -967.725   548.942\n",
      "Over_threshold_2_child[T.True]             -838.5140    652.977     -1.284      0.199     -2118.325   441.297\n",
      "Over_threshold_3_child[T.True]              595.2861   1581.985      0.376      0.707     -2505.348  3695.920\n",
      "Over_threshold_4_child[T.True]              -64.8660    268.396     -0.242      0.809      -590.913   461.181\n",
      "Over_threshold_5_child[T.True]            -1053.5240   1509.448     -0.698      0.485     -4011.989  1904.941\n",
      "child_1                                    1363.4541    204.996      6.651      0.000       961.670  1765.239\n",
      "child_1:Between_threshold_1_child[T.True]   165.5890    393.687      0.421      0.674      -606.023   937.201\n",
      "child_1:Over_threshold_1_child[T.True]     1261.8341    269.633      4.680      0.000       733.363  1790.305\n",
      "child_2                                    2992.6035    174.945     17.106      0.000      2649.717  3335.490\n",
      "child_2:Between_threshold_2_child[T.True]  1622.5988    273.197      5.939      0.000      1087.143  2158.055\n",
      "child_2:Over_threshold_2_child[T.True]     2006.5488    243.523      8.240      0.000      1529.253  2483.844\n",
      "Between_threshold_1_child[T.True]:child_2   298.6188    338.412      0.882      0.378      -364.656   961.894\n",
      "child_3                                    3610.1530    204.335     17.668      0.000      3209.664  4010.642\n",
      "child_3:Between_threshold_3_child[T.True]  2703.7600    307.028      8.806      0.000      2101.996  3305.524\n",
      "child_3:Over_threshold_3_child[T.True]     3294.1671    312.051     10.557      0.000      2682.558  3905.776\n",
      "Between_threshold_1_child[T.True]:child_3   424.3634    391.808      1.083      0.279      -343.566  1192.293\n",
      "Between_threshold_2_child[T.True]:child_3  1917.8693    324.182      5.916      0.000      1282.485  2553.253\n",
      "child_4                                    4600.3717    330.052     13.938      0.000      3953.482  5247.261\n",
      "child_4:Between_threshold_4_child[T.True]  2597.6810    545.877      4.759      0.000      1527.783  3667.579\n",
      "child_4:Over_threshold_4_child[T.True]     3396.5650    579.273      5.863      0.000      2261.211  4531.919\n",
      "Between_threshold_1_child[T.True]:child_4  -587.7817    691.251     -0.850      0.395     -1942.609   767.046\n",
      "Between_threshold_2_child[T.True]:child_4  1546.7224    585.067      2.644      0.008       400.012  2693.433\n",
      "child_5                                    5086.6301    915.605      5.555      0.000      3292.078  6881.182\n",
      "child_5:Between_threshold_5_child[T.True] -2822.5585   1433.417     -1.969      0.049     -5632.005   -13.112\n",
      "child_5:Over_threshold_5_child[T.True]     6664.5257   1882.542      3.540      0.000      2974.811  1.04e+04\n",
      "Between_threshold_1_child[T.True]:child_5  -569.3945   1635.708     -0.348      0.728     -3775.322  2636.533\n",
      "Between_threshold_2_child[T.True]:child_5  1345.6519   1470.085      0.915      0.360     -1535.662  4226.965\n",
      "Between_threshold_3_child[T.True]:child_5  2987.9885   1475.718      2.025      0.043        95.634  5880.343\n",
      "=============================================================================================================\n",
      "\n",
      "If the model instance has been used for another fit with different fit\n",
      "parameters, then the fit options might not be the correct ones anymore .\n"
     ]
    }
   ],
   "source": [
    "m = sm.RLM.from_formula(\"(Delta_rbg)~   {}  \".format(\n",
    "        ' + '.join(between_threshold_for_child_rank+children_number+ over_threshold_for_child_rank+\n",
    "                  interaction_child_between_threshold+interaction_child_over_threshold+accptable_placebo_between_list\n",
    "                  )), reg_df_same_NBPAC)\n",
    "fit = m.fit()\n",
    "summary = fit.summary(); print(summary)"
   ]
  },
  {
   "cell_type": "markdown",
   "metadata": {},
   "source": [
    "Gros problème sur le Between_threshold_2_child[T.True]:child_4 qui est significatif, devrait être totalement nul...    \n",
    "\n",
    "Problème sur le Between_threshold_3_child[T.True]:child_5 qui est significatif, possibilité que ça capte due à l'évolution de revenu sur la période le traitement 1 de 5 child, mais l'effet de substitution est censé dominé dans ce cas là... Saut si effet de sélection: les persones qui sont passées du between threshold 3 au between threshold 5 entre 2011 et 2014 sont un profil ou l'élasticité du ménage (des femmes) est plus faible que le reste de la distribution qui a des revenus plus stable...."
   ]
  },
  {
   "cell_type": "code",
   "execution_count": null,
   "metadata": {
    "collapsed": true
   },
   "outputs": [],
   "source": []
  },
  {
   "cell_type": "code",
   "execution_count": null,
   "metadata": {
    "collapsed": true
   },
   "outputs": [],
   "source": []
  },
  {
   "cell_type": "code",
   "execution_count": null,
   "metadata": {
    "collapsed": true
   },
   "outputs": [],
   "source": []
  },
  {
   "cell_type": "code",
   "execution_count": null,
   "metadata": {
    "collapsed": true
   },
   "outputs": [],
   "source": []
  },
  {
   "cell_type": "code",
   "execution_count": null,
   "metadata": {
    "collapsed": true
   },
   "outputs": [],
   "source": []
  },
  {
   "cell_type": "code",
   "execution_count": null,
   "metadata": {
    "collapsed": true
   },
   "outputs": [],
   "source": []
  },
  {
   "cell_type": "code",
   "execution_count": null,
   "metadata": {
    "collapsed": true
   },
   "outputs": [],
   "source": []
  },
  {
   "cell_type": "code",
   "execution_count": 106,
   "metadata": {},
   "outputs": [
    {
     "data": {
      "text/plain": [
       "['child_2', 'child_4']"
      ]
     },
     "execution_count": 106,
     "metadata": {},
     "output_type": "execute_result"
    }
   ],
   "source": [
    "children_number[1:6:2]"
   ]
  },
  {
   "cell_type": "code",
   "execution_count": 107,
   "metadata": {},
   "outputs": [
    {
     "name": "stdout",
     "output_type": "stream",
     "text": [
      "                    Robust linear Model Regression Results                    \n",
      "==============================================================================\n",
      "Dep. Variable:              Delta_rbg   No. Observations:               130840\n",
      "Model:                            RLM   Df Residuals:                   130814\n",
      "Method:                          IRLS   Df Model:                           25\n",
      "Norm:                          HuberT                                         \n",
      "Scale Est.:                       mad                                         \n",
      "Cov Type:                          H1                                         \n",
      "Date:                Sat, 24 Feb 2018                                         \n",
      "Time:                        11:30:54                                         \n",
      "No. Iterations:                    16                                         \n",
      "=============================================================================================================\n",
      "                                                coef    std err          z      P>|z|      [95.0% Conf. Int.]\n",
      "-------------------------------------------------------------------------------------------------------------\n",
      "Intercept                                  8094.5965    304.699     26.566      0.000      7497.398  8691.795\n",
      "Between_threshold_1_child[T.True]           376.1605    115.664      3.252      0.001       149.463   602.858\n",
      "Between_threshold_2_child[T.True]           453.8382    151.236      3.001      0.003       157.420   750.256\n",
      "Between_threshold_3_child[T.True]           572.9245    527.611      1.086      0.278      -461.174  1607.023\n",
      "Between_threshold_4_child[T.True]           171.3438    163.645      1.047      0.295      -149.394   492.081\n",
      "Between_threshold_5_child[T.True]           230.4869   1484.797      0.155      0.877     -2679.662  3140.636\n",
      "Over_threshold_2_child[T.True]             -369.0982    533.309     -0.692      0.489     -1414.364   676.167\n",
      "Over_threshold_3_child[T.True]              831.5350   1575.644      0.528      0.598     -2256.670  3919.740\n",
      "Over_threshold_4_child[T.True]               55.5191    267.306      0.208      0.835      -468.391   579.429\n",
      "Over_threshold_5_child[T.True]            -1057.4289   1503.733     -0.703      0.482     -4004.690  1889.833\n",
      "child_1                                    1832.0610    181.557     10.091      0.000      1476.216  2187.906\n",
      "child_1:Between_threshold_1_child[T.True]  -111.9835    274.765     -0.408      0.684      -650.513   426.546\n",
      "child_2                                    3309.1146    138.059     23.969      0.000      3038.524  3579.705\n",
      "child_2:Between_threshold_2_child[T.True]   406.9637    195.795      2.079      0.038        23.213   790.715\n",
      "child_2:Over_threshold_2_child[T.True]     1275.9370    207.588      6.146      0.000       869.073  1682.801\n",
      "child_3                                    4270.8390    145.131     29.428      0.000      3986.388  4555.290\n",
      "child_3:Between_threshold_3_child[T.True]  1748.2723    257.405      6.792      0.000      1243.769  2252.776\n",
      "child_3:Over_threshold_3_child[T.True]     2319.0666    262.868      8.822      0.000      1803.856  2834.278\n",
      "child_4                                    4954.1766    251.685     19.684      0.000      4460.883  5447.470\n",
      "child_4:Between_threshold_4_child[T.True]  2014.8681    500.320      4.027      0.000      1034.258  2995.478\n",
      "child_4:Over_threshold_4_child[T.True]     2800.3821    536.206      5.223      0.000      1749.438  3851.326\n",
      "child_5                                    5985.3638    555.584     10.773      0.000      4896.439  7074.288\n",
      "child_5:Between_threshold_5_child[T.True] -3846.2078   1225.377     -3.139      0.002     -6247.903 -1444.513\n",
      "child_5:Over_threshold_5_child[T.True]     5792.8609   1726.131      3.356      0.001      2409.707  9176.015\n",
      "Over_threshold_1_child                     4.232e+13    114.759   3.69e+11      0.000      4.23e+13  4.23e+13\n",
      "child_1:Over_threshold_1_child            -4.232e+13    114.759  -3.69e+11      0.000     -4.23e+13 -4.23e+13\n",
      "AGERF_2011                                 -170.5306      6.741    -25.299      0.000      -183.742  -157.319\n",
      "=============================================================================================================\n",
      "\n",
      "If the model instance has been used for another fit with different fit\n",
      "parameters, then the fit options might not be the correct ones anymore .\n"
     ]
    }
   ],
   "source": [
    "m = sm.RLM.from_formula(\"(Delta_rbg)~   {} + AGERF_2011  \".format(\n",
    "        ' + '.join(between_threshold_for_child_rank+children_number+ over_threshold_for_child_rank+\n",
    "                  interaction_child_between_threshold+interaction_child_over_threshold[:]))\n",
    "                                                                                        , reg_df_same_NBPAC)\n",
    "fit = m.fit()\n",
    "summary = fit.summary(); print(summary)"
   ]
  },
  {
   "cell_type": "markdown",
   "metadata": {},
   "source": [
    "Drop children for robustness estimates"
   ]
  },
  {
   "cell_type": "code",
   "execution_count": 109,
   "metadata": {
    "collapsed": true
   },
   "outputs": [],
   "source": [
    "import copy"
   ]
  },
  {
   "cell_type": "code",
   "execution_count": 110,
   "metadata": {
    "collapsed": true
   },
   "outputs": [],
   "source": [
    "child_rank_to_eliminate = 2"
   ]
  },
  {
   "cell_type": "code",
   "execution_count": 111,
   "metadata": {},
   "outputs": [
    {
     "data": {
      "text/plain": [
       "['child_1:Over_threshold_1_child',\n",
       " 'child_3:Over_threshold_3_child',\n",
       " 'child_4:Over_threshold_4_child',\n",
       " 'child_5:Over_threshold_5_child']"
      ]
     },
     "execution_count": 111,
     "metadata": {},
     "output_type": "execute_result"
    }
   ],
   "source": [
    "between_threshold_for_child_rank_temp = copy.copy(between_threshold_for_child_rank)\n",
    "between_threshold_for_child_rank_temp.pop(child_rank_to_eliminate-1); between_threshold_for_child_rank_temp\n",
    "\n",
    "children_number_temp = copy.copy(children_number)\n",
    "children_number_temp.pop(child_rank_to_eliminate-1); children_number_temp\n",
    "\n",
    "over_threshold_for_child_rank_temp = copy.copy(over_threshold_for_child_rank)\n",
    "over_threshold_for_child_rank_temp.pop(child_rank_to_eliminate-1); over_threshold_for_child_rank_temp\n",
    "\n",
    "interaction_child_between_threshold_temp = copy.copy(interaction_child_between_threshold)\n",
    "interaction_child_between_threshold_temp.pop(child_rank_to_eliminate-1); interaction_child_between_threshold_temp\n",
    "\n",
    "interaction_child_over_threshold_temp = copy.copy(interaction_child_over_threshold)\n",
    "interaction_child_over_threshold_temp.pop(child_rank_to_eliminate-1); interaction_child_over_threshold_temp\n"
   ]
  },
  {
   "cell_type": "code",
   "execution_count": 112,
   "metadata": {},
   "outputs": [
    {
     "name": "stdout",
     "output_type": "stream",
     "text": [
      "                    Robust linear Model Regression Results                    \n",
      "==============================================================================\n",
      "Dep. Variable:              Delta_rbg   No. Observations:                66437\n",
      "Model:                            RLM   Df Residuals:                    66415\n",
      "Method:                          IRLS   Df Model:                           21\n",
      "Norm:                          HuberT                                         \n",
      "Scale Est.:                       mad                                         \n",
      "Cov Type:                          H1                                         \n",
      "Date:                Sat, 24 Feb 2018                                         \n",
      "Time:                        11:32:04                                         \n",
      "No. Iterations:                    11                                         \n",
      "=============================================================================================================\n",
      "                                                coef    std err          z      P>|z|      [95.0% Conf. Int.]\n",
      "-------------------------------------------------------------------------------------------------------------\n",
      "Intercept                                  9667.3294    429.269     22.520      0.000      8825.979  1.05e+04\n",
      "Between_threshold_1_child[T.True]           278.3899    201.295      1.383      0.167      -116.142   672.922\n",
      "Between_threshold_2_child[T.True]           387.1127    171.231      2.261      0.024        51.505   722.720\n",
      "Between_threshold_3_child[T.True]           568.7634    241.630      2.354      0.019        95.177  1042.349\n",
      "Between_threshold_4_child[T.True]          -393.8374    254.584     -1.547      0.122      -892.813   105.138\n",
      "Between_threshold_5_child[T.True]           309.7558   2258.357      0.137      0.891     -4116.542  4736.054\n",
      "Over_threshold_3_child[T.True]              322.9964   2272.474      0.142      0.887     -4130.971  4776.964\n",
      "Over_threshold_4_child[T.True]            -1027.2042    409.895     -2.506      0.012     -1830.584  -223.824\n",
      "Over_threshold_5_child[T.True]             -987.0893   2285.850     -0.432      0.666     -5467.273  3493.095\n",
      "child_1                                    1828.1958    204.058      8.959      0.000      1428.250  2228.141\n",
      "child_1:Between_threshold_1_child[T.True]     7.4802    340.092      0.022      0.982      -659.088   674.049\n",
      "child_3                                    4376.8474    159.805     27.389      0.000      4063.635  4690.059\n",
      "child_3:Between_threshold_3_child[T.True]  1569.9573    294.578      5.330      0.000       992.594  2147.320\n",
      "child_3:Over_threshold_3_child[T.True]     3170.2082    320.848      9.881      0.000      2541.357  3799.059\n",
      "child_4                                    5040.4617    277.576     18.159      0.000      4496.422  5584.501\n",
      "child_4:Between_threshold_4_child[T.True]  2494.4117    560.404      4.451      0.000      1396.040  3592.783\n",
      "child_4:Over_threshold_4_child[T.True]     3976.3021    618.447      6.429      0.000      2764.168  5188.436\n",
      "child_5                                    6153.8728    611.441     10.065      0.000      4955.471  7352.275\n",
      "child_5:Between_threshold_5_child[T.True] -3171.8931   1357.382     -2.337      0.019     -5832.314  -511.472\n",
      "child_5:Over_threshold_5_child[T.True]     6735.9235   1911.400      3.524      0.000      2989.649  1.05e+04\n",
      "Over_threshold_1_child                      226.2758    127.416      1.776      0.076       -23.456   476.007\n",
      "child_1:Over_threshold_1_child              226.2758    127.416      1.776      0.076       -23.456   476.007\n",
      "AGERF_2011                                 -209.5020      9.806    -21.365      0.000      -228.721  -190.283\n",
      "=============================================================================================================\n",
      "\n",
      "If the model instance has been used for another fit with different fit\n",
      "parameters, then the fit options might not be the correct ones anymore .\n"
     ]
    }
   ],
   "source": [
    "m = sm.RLM.from_formula(\"(Delta_rbg)~   {} + AGERF_2011  \".format(\n",
    "        ' + '.join(between_threshold_for_child_rank+children_number_temp+ over_threshold_for_child_rank_temp+\n",
    "                  interaction_child_between_threshold_temp+interaction_child_over_threshold_temp))\n",
    "                                        , reg_df_same_NBPAC.query(\"(Rbg_2011<200000)\\\n",
    "                                                                          &(NBPAC_2011!={})\".format(child_rank_to_eliminate)))\n",
    "fit = m.fit()\n",
    "summary = fit.summary(); print(summary)"
   ]
  },
  {
   "cell_type": "code",
   "execution_count": 113,
   "metadata": {},
   "outputs": [],
   "source": [
    "fake_interaction_child_between_threshold  = [\"{}:{}\".format(child,interaction) for child, interaction in zip(children_number[1:], \n",
    "                                                                                                             between_threshold_for_child_rank[:-1])]\n",
    "fake_interaction_child_over_threshold  = [\"{}:{}\".format(child,interaction) for child, interaction in zip(children_number, over_threshold_for_child_rank)]"
   ]
  },
  {
   "cell_type": "code",
   "execution_count": 114,
   "metadata": {
    "collapsed": true
   },
   "outputs": [],
   "source": [
    "fake_interaction_child_between_threshold  = [\"{}:{}\".format(child,interaction) for child, interaction in zip(children_number[1:], \n",
    "                                                                                                             between_threshold_for_child_rank[:-1])]"
   ]
  },
  {
   "cell_type": "code",
   "execution_count": 115,
   "metadata": {},
   "outputs": [
    {
     "data": {
      "text/plain": [
       "['child_2:Between_threshold_1_child',\n",
       " 'child_3:Between_threshold_2_child',\n",
       " 'child_4:Between_threshold_3_child',\n",
       " 'child_5:Between_threshold_4_child']"
      ]
     },
     "execution_count": 115,
     "metadata": {},
     "output_type": "execute_result"
    }
   ],
   "source": [
    "fake_interaction_child_between_threshold"
   ]
  },
  {
   "cell_type": "code",
   "execution_count": 51,
   "metadata": {
    "collapsed": true
   },
   "outputs": [],
   "source": [
    "any_rank_interation =  [\"{}:{}\".format(child,interaction) for child, interaction in zip(children_number[1:], \n",
    "                                                                                                             between_threshold_for_child_rank[:-1])]"
   ]
  },
  {
   "cell_type": "code",
   "execution_count": 52,
   "metadata": {
    "collapsed": true
   },
   "outputs": [],
   "source": [
    "any_rank_interation_between = list()\n",
    "for threshold in between_threshold_for_child_rank:\n",
    "    any_rank_interation_between +=  [\"{}:{}\".format(child,threshold) for child in children_number]\n",
    "any_rank_interation_over = list()\n",
    "for threshold in over_threshold_for_child_rank:\n",
    "    any_rank_interation_over +=  [\"{}:{}\".format(child,threshold) for child in children_number]"
   ]
  },
  {
   "cell_type": "code",
   "execution_count": 53,
   "metadata": {},
   "outputs": [
    {
     "ename": "NameError",
     "evalue": "name 'reg_df_same_NBPAC' is not defined",
     "output_type": "error",
     "traceback": [
      "\u001b[1;31m---------------------------------------------------------------------------\u001b[0m",
      "\u001b[1;31mNameError\u001b[0m                                 Traceback (most recent call last)",
      "\u001b[1;32m<ipython-input-53-3ae4ee35e27b>\u001b[0m in \u001b[0;36m<module>\u001b[1;34m()\u001b[0m\n\u001b[1;32m----> 1\u001b[1;33m reg_df_same_NBPAC[\"Mostly_wage\"]  =(((((reg_df_same_NBPAC.ZSALM_2011*0.9)/ reg_df_same_NBPAC.Rbg_2011)>0.9)&\n\u001b[0m\u001b[0;32m      2\u001b[0m                    ((reg_df_same_NBPAC.ZSALM_2011*0.9)/ reg_df_same_NBPAC.Rbg_2011)<1))\n",
      "\u001b[1;31mNameError\u001b[0m: name 'reg_df_same_NBPAC' is not defined"
     ]
    }
   ],
   "source": [
    "reg_df_same_NBPAC[\"Mostly_wage\"]  =(((((reg_df_same_NBPAC.ZSALM_2011*0.9)/ reg_df_same_NBPAC.Rbg_2011)>0.9)&\n",
    "                   ((reg_df_same_NBPAC.ZSALM_2011*0.9)/ reg_df_same_NBPAC.Rbg_2011)<1))"
   ]
  },
  {
   "cell_type": "code",
   "execution_count": 162,
   "metadata": {},
   "outputs": [
    {
     "name": "stdout",
     "output_type": "stream",
     "text": [
      "                    Robust linear Model Regression Results                    \n",
      "==============================================================================\n",
      "Dep. Variable:              Delta_rbg   No. Observations:                38252\n",
      "Model:                            RLM   Df Residuals:                    38222\n",
      "Method:                          IRLS   Df Model:                           29\n",
      "Norm:                          HuberT                                         \n",
      "Scale Est.:                       mad                                         \n",
      "Cov Type:                          H1                                         \n",
      "Date:                Tue, 27 Feb 2018                                         \n",
      "Time:                        09:31:43                                         \n",
      "No. Iterations:                     6                                         \n",
      "=============================================================================================================\n",
      "                                                coef    std err          z      P>|z|      [95.0% Conf. Int.]\n",
      "-------------------------------------------------------------------------------------------------------------\n",
      "Intercept                                  1568.7990    925.062      1.696      0.090      -244.290  3381.888\n",
      "Between_threshold_1_child[T.True]          -180.8263    542.448     -0.333      0.739     -1244.004   882.352\n",
      "Between_threshold_2_child[T.True]         -2055.4399    607.704     -3.382      0.001     -3246.518  -864.362\n",
      "Between_threshold_3_child[T.True]          1974.7844   1529.480      1.291      0.197     -1022.941  4972.510\n",
      "Between_threshold_4_child[T.True]          -171.4116    445.971     -0.384      0.701     -1045.498   702.675\n",
      "Between_threshold_5_child[T.True]         -2446.8665   4225.152     -0.579      0.563     -1.07e+04  5834.279\n",
      "Over_threshold_2_child[T.True]            -5055.7600   1559.800     -3.241      0.001     -8112.911 -1998.609\n",
      "Over_threshold_3_child[T.True]             2748.8923   4491.250      0.612      0.541     -6053.795  1.16e+04\n",
      "Over_threshold_4_child[T.True]             -552.7533    690.881     -0.800      0.424     -1906.856   801.349\n",
      "Over_threshold_5_child[T.True]            -4266.5813   4262.865     -1.001      0.317     -1.26e+04  4088.481\n",
      "child_1                                    1828.9985    592.311      3.088      0.002       668.091  2989.906\n",
      "child_1:Between_threshold_1_child[T.True]  1547.3974    945.945      1.636      0.102      -306.621  3401.416\n",
      "child_2                                    3843.8158    498.111      7.717      0.000      2867.537  4820.095\n",
      "child_2:Between_threshold_1_child[T.True]  -483.4301    729.305     -0.663      0.507     -1912.841   945.981\n",
      "child_2:Between_threshold_2_child[T.True]  1531.2560    744.096      2.058      0.040        72.855  2989.657\n",
      "child_2:Over_threshold_2_child[T.True]     2527.4741    669.460      3.775      0.000      1215.356  3839.592\n",
      "child_3                                    5224.2582    515.877     10.127      0.000      4213.157  6235.359\n",
      "child_3:Between_threshold_2_child[T.True]  2179.4104    853.035      2.555      0.011       507.492  3851.329\n",
      "child_3:Between_threshold_3_child[T.True]  3807.8102    808.741      4.708      0.000      2222.707  5392.913\n",
      "child_3:Over_threshold_3_child[T.True]     5564.3626    785.262      7.086      0.000      4025.277  7103.448\n",
      "child_4                                    6969.1199    753.184      9.253      0.000      5492.906  8445.333\n",
      "child_4:Between_threshold_3_child[T.True]  1694.9238   1375.342      1.232      0.218     -1000.697  4390.545\n",
      "child_4:Between_threshold_4_child[T.True]  3979.0339   1309.117      3.039      0.002      1413.211  6544.857\n",
      "child_4:Over_threshold_4_child[T.True]     6586.9924   1366.117      4.822      0.000      3909.452  9264.532\n",
      "child_5                                    7378.9468   1578.961      4.673      0.000      4284.240  1.05e+04\n",
      "child_5:Between_threshold_4_child[T.True]  6774.9733   3366.990      2.012      0.044       175.794  1.34e+04\n",
      "child_5:Between_threshold_5_child[T.True] -4084.5885   3318.784     -1.231      0.218     -1.06e+04  2420.108\n",
      "child_5:Over_threshold_5_child[T.True]     1.401e+04   4181.627      3.349      0.001      5809.692  2.22e+04\n",
      "Over_threshold_1_child                     1126.9424    372.884      3.022      0.003       396.103  1857.782\n",
      "child_1:Over_threshold_1_child             1126.9424    372.884      3.022      0.003       396.103  1857.782\n",
      "AGERF_2011                                  -70.0393     19.616     -3.571      0.000      -108.485   -31.593\n",
      "=============================================================================================================\n",
      "\n",
      "If the model instance has been used for another fit with different fit\n",
      "parameters, then the fit options might not be the correct ones anymore .\n"
     ]
    }
   ],
   "source": [
    "m = sm.RLM.from_formula(\"(Delta_rbg)~   {} + AGERF_2011  \".format(\n",
    "        ' + '.join(between_threshold_for_child_rank+children_number+ over_threshold_for_child_rank+\n",
    "                  fake_interaction_child_between_threshold+ interaction_child_between_threshold+interaction_child_over_threshold[:]))\n",
    "                                                                                        , reg_df_same_NBPAC.query(\"Mostly_wage\"))\n",
    "fit = m.fit()\n",
    "summary = fit.summary(); print(summary)"
   ]
  },
  {
   "cell_type": "code",
   "execution_count": 56,
   "metadata": {},
   "outputs": [
    {
     "name": "stdout",
     "output_type": "stream",
     "text": [
      "                    Robust linear Model Regression Results                    \n",
      "==============================================================================\n",
      "Dep. Variable:              Delta_rbg   No. Observations:               280389\n",
      "Model:                            RLM   Df Residuals:                   280324\n",
      "Method:                          IRLS   Df Model:                           64\n",
      "Norm:                          HuberT                                         \n",
      "Scale Est.:                       mad                                         \n",
      "Cov Type:                          H1                                         \n",
      "Date:                Mon, 12 Mar 2018                                         \n",
      "Time:                        19:22:27                                         \n",
      "No. Iterations:                    13                                         \n",
      "=============================================================================================================\n",
      "                                                coef    std err          z      P>|z|      [95.0% Conf. Int.]\n",
      "-------------------------------------------------------------------------------------------------------------\n",
      "Intercept                                   436.9899    179.160      2.439      0.015        85.843   788.137\n",
      "Between_threshold_1_child[T.True]          -829.1852    119.501     -6.939      0.000     -1063.402  -594.968\n",
      "Between_threshold_2_child[T.True]         -1759.3760    108.836    -16.165      0.000     -1972.690 -1546.062\n",
      "Between_threshold_3_child[T.True]            61.8133    622.108      0.099      0.921     -1157.495  1281.122\n",
      "Between_threshold_4_child[T.True]          -641.8292    191.341     -3.354      0.001     -1016.850  -266.808\n",
      "Between_threshold_5_child[T.True]          -320.6229   2171.360     -0.148      0.883     -4576.411  3935.165\n",
      "Over_threshold_2_child[T.True]            -2657.4073    614.410     -4.325      0.000     -3861.629 -1453.186\n",
      "Over_threshold_3_child[T.True]            -1205.4604   2258.454     -0.534      0.594     -5631.950  3221.029\n",
      "Over_threshold_4_child[T.True]            -3038.6024    321.065     -9.464      0.000     -3667.878 -2409.327\n",
      "Over_threshold_5_child[T.True]            -5546.4494   2191.304     -2.531      0.011     -9841.326 -1251.573\n",
      "child_1                                    2048.2424    134.975     15.175      0.000      1783.696  2312.788\n",
      "child_1:Between_threshold_1_child[T.True]   776.4574    242.275      3.205      0.001       301.607  1251.307\n",
      "child_1:Between_threshold_2_child[T.True]  2033.4317    809.631      2.512      0.012       446.584  3620.280\n",
      "child_1:Between_threshold_3_child[T.True]  1139.5066   1200.858      0.949      0.343     -1214.133  3493.146\n",
      "child_1:Between_threshold_4_child[T.True]   119.4644    376.707      0.317      0.751      -618.867   857.796\n",
      "child_1:Between_threshold_5_child[T.True]  2779.2659   3732.370      0.745      0.456     -4536.045  1.01e+04\n",
      "child_1:Over_threshold_1_child[T.True]     -407.8371    795.724     -0.513      0.608     -1967.428  1151.754\n",
      "child_1:Over_threshold_2_child[T.True]     1022.9272   1419.268      0.721      0.471     -1758.787  3804.641\n",
      "child_1:Over_threshold_3_child[T.True]      849.4126   3920.225      0.217      0.828     -6834.087  8532.912\n",
      "child_1:Over_threshold_4_child[T.True]     -356.3082    633.282     -0.563      0.574     -1597.517   884.901\n",
      "child_1:Over_threshold_5_child[T.True]     7446.5290   3776.996      1.972      0.049        43.752  1.48e+04\n",
      "child_2                                    4288.6640    117.056     36.638      0.000      4059.238  4518.090\n",
      "child_2:Between_threshold_1_child[T.True]  1055.9294    197.402      5.349      0.000       669.029  1442.829\n",
      "child_2:Between_threshold_2_child[T.True]  2720.8010    590.551      4.607      0.000      1563.343  3878.259\n",
      "child_2:Between_threshold_3_child[T.True]   636.6376    982.254      0.648      0.517     -1288.544  2561.820\n",
      "child_2:Between_threshold_4_child[T.True]  1147.9038    303.972      3.776      0.000       552.130  1743.678\n",
      "child_2:Between_threshold_5_child[T.True]   -88.4004   3072.578     -0.029      0.977     -6110.543  5933.742\n",
      "child_2:Over_threshold_1_child[T.True]     -496.9457    575.294     -0.864      0.388     -1624.502   630.610\n",
      "child_2:Over_threshold_2_child[T.True]     3161.2309   1121.399      2.819      0.005       963.330  5359.132\n",
      "child_2:Over_threshold_3_child[T.True]     2724.2151   3225.019      0.845      0.398     -3596.706  9045.136\n",
      "child_2:Over_threshold_4_child[T.True]     3494.3627    501.015      6.975      0.000      2512.391  4476.334\n",
      "child_2:Over_threshold_5_child[T.True]     3369.4067   3105.956      1.085      0.278     -2718.156  9456.969\n",
      "child_3                                    4911.1712    166.679     29.465      0.000      4584.486  5237.856\n",
      "child_3:Between_threshold_1_child[T.True]  1283.1786    291.698      4.399      0.000       711.461  1854.896\n",
      "child_3:Between_threshold_2_child[T.True]  1251.9138    951.788      1.315      0.188      -613.556  3117.383\n",
      "child_3:Between_threshold_3_child[T.True]  1565.1745   1401.330      1.117      0.264     -1181.382  4311.731\n",
      "child_3:Between_threshold_4_child[T.True]   855.2004    405.951      2.107      0.035        59.551  1650.849\n",
      "child_3:Between_threshold_5_child[T.True] -1817.7510   4028.316     -0.451      0.652     -9713.105  6077.603\n",
      "child_3:Over_threshold_1_child[T.True]     1602.9906    938.244      1.709      0.088      -235.933  3441.914\n",
      "child_3:Over_threshold_2_child[T.True]     1375.6764   1661.749      0.828      0.408     -1881.292  4632.645\n",
      "child_3:Over_threshold_3_child[T.True]     5742.7462   4263.091      1.347      0.178     -2612.759  1.41e+04\n",
      "child_3:Over_threshold_4_child[T.True]     2354.2512    631.962      3.725      0.000      1115.629  3592.873\n",
      "child_3:Over_threshold_5_child[T.True]     2867.8171   4063.335      0.706      0.480     -5096.173  1.08e+04\n",
      "child_4                                    5237.2702    402.176     13.022      0.000      4449.019  6025.522\n",
      "child_4:Between_threshold_1_child[T.True]  1040.0852    705.453      1.474      0.140      -342.577  2422.748\n",
      "child_4:Between_threshold_2_child[T.True]  3219.4303   2308.314      1.395      0.163     -1304.782  7743.643\n",
      "child_4:Between_threshold_3_child[T.True]    81.1868   2833.335      0.029      0.977     -5472.047  5634.421\n",
      "child_4:Between_threshold_4_child[T.True]   202.5446    905.041      0.224      0.823     -1571.302  1976.392\n",
      "child_4:Between_threshold_5_child[T.True]  7817.4367   9831.864      0.795      0.427     -1.15e+04  2.71e+04\n",
      "child_4:Over_threshold_1_child[T.True]       -8.1760   2288.719     -0.004      0.997     -4493.983  4477.631\n",
      "child_4:Over_threshold_2_child[T.True]     4790.8795   3574.837      1.340      0.180     -2215.672  1.18e+04\n",
      "child_4:Over_threshold_3_child[T.True]    -5209.3979   1.02e+04     -0.510      0.610     -2.52e+04  1.48e+04\n",
      "child_4:Over_threshold_4_child[T.True]     2757.2943   1280.511      2.153      0.031       247.538  5267.051\n",
      "child_4:Over_threshold_5_child[T.True]     1.306e+04   9877.602      1.323      0.186     -6296.504  3.24e+04\n",
      "child_5                                    5828.3716    964.530      6.043      0.000      3937.928  7718.815\n",
      "child_5:Between_threshold_1_child[T.True]   631.1124   1698.532      0.372      0.710     -2697.949  3960.174\n",
      "child_5:Between_threshold_2_child[T.True] -2259.7502   6856.387     -0.330      0.742     -1.57e+04  1.12e+04\n",
      "child_5:Between_threshold_3_child[T.True] -7523.0523   7975.692     -0.943      0.346     -2.32e+04  8109.017\n",
      "child_5:Between_threshold_4_child[T.True] -4795.5753   2201.192     -2.179      0.029     -9109.832  -481.319\n",
      "child_5:Between_threshold_5_child[T.True] -7715.3159   2865.727     -2.692      0.007     -1.33e+04 -2098.594\n",
      "child_5:Over_threshold_1_child[T.True]     4779.5435   6831.473      0.700      0.484     -8609.897  1.82e+04\n",
      "child_5:Over_threshold_2_child[T.True]     9098.6028   1.03e+04      0.879      0.379     -1.12e+04  2.94e+04\n",
      "child_5:Over_threshold_3_child[T.True]      180.6178   5559.915      0.032      0.974     -1.07e+04  1.11e+04\n",
      "child_5:Over_threshold_4_child[T.True]    -1299.2119   3119.317     -0.417      0.677     -7412.960  4814.536\n",
      "child_5:Over_threshold_5_child[T.True]     7895.9337   3185.795      2.478      0.013      1651.890  1.41e+04\n",
      "AGERF_2011                                  -11.3346      2.745     -4.129      0.000       -16.715    -5.955\n",
      "=============================================================================================================\n",
      "\n",
      "If the model instance has been used for another fit with different fit\n",
      "parameters, then the fit options might not be the correct ones anymore .\n"
     ]
    }
   ],
   "source": [
    "m = sm.RLM.from_formula(\"(Delta_rbg)~   {} + AGERF_2011  \".format(\n",
    "        ' + '.join(between_threshold_for_child_rank+children_number+ over_threshold_for_child_rank[1:]+ #Multicolinearité si non exclu\n",
    "                  any_rank_interation_between+ any_rank_interation_over))\n",
    "                                                                                        , reg_df_same_NBPAC)\n",
    "fit = m.fit()\n",
    "summary = fit.summary(); print(summary)"
   ]
  },
  {
   "cell_type": "code",
   "execution_count": null,
   "metadata": {
    "collapsed": true
   },
   "outputs": [],
   "source": []
  },
  {
   "cell_type": "markdown",
   "metadata": {},
   "source": [
    "#Women/men reaction"
   ]
  },
  {
   "cell_type": "markdown",
   "metadata": {},
   "source": [
    "1. Women not working anymore\n",
    "2. Men not working anymore\n",
    "3. Men working more when women not working anymore"
   ]
  },
  {
   "cell_type": "code",
   "execution_count": 302,
   "metadata": {},
   "outputs": [
    {
     "data": {
      "text/plain": [
       "2.0    1642620\n",
       "1.0    1607226\n",
       "2       233215\n",
       "1       228250\n",
       "C           14\n",
       "dtype: int64"
      ]
     },
     "execution_count": 302,
     "metadata": {},
     "output_type": "execute_result"
    }
   ],
   "source": [
    "df_2014.SEXE.value_counts()"
   ]
  },
  {
   "cell_type": "code",
   "execution_count": 303,
   "metadata": {
    "collapsed": true
   },
   "outputs": [],
   "source": [
    "df_2014.loc[(df_2014.SEXE == '1')|(df_2014.SEXE == 'C')|df_2014.SEXE.isnull()] = 1\n",
    "df_2014.loc[(df_2014.SEXE == '2')] = 2"
   ]
  },
  {
   "cell_type": "code",
   "execution_count": 304,
   "metadata": {},
   "outputs": [
    {
     "name": "stdout",
     "output_type": "stream",
     "text": [
      "(61162, 127)\n",
      "femmes\n"
     ]
    }
   ],
   "source": [
    "print df_2011_keep[(df_2011_keep.SEXE==2)&(df_2011_keep.YSALI == 0)&(df_2011_keep.YRSTI==0)].shape ;print \"femmes\""
   ]
  },
  {
   "cell_type": "code",
   "execution_count": 305,
   "metadata": {
    "scrolled": true
   },
   "outputs": [
    {
     "name": "stdout",
     "output_type": "stream",
     "text": [
      "Wall time: 7.78 s\n"
     ]
    }
   ],
   "source": [
    "%%time\n",
    "df_2011_keep[\"working_wo\"] = ((df_2011_keep.SEXE==2)&(df_2011_keep.YRSTI==0)&(df_2011_keep.YSALI>1000))\n",
    "df_2011_keep[\"working_me\"] = ((df_2011_keep.SEXE==1)&(df_2011_keep.YRSTI==0)&(df_2011_keep.YSALI>1000))"
   ]
  },
  {
   "cell_type": "code",
   "execution_count": 306,
   "metadata": {},
   "outputs": [
    {
     "name": "stdout",
     "output_type": "stream",
     "text": [
      "Wall time: 8.71 s\n"
     ]
    }
   ],
   "source": [
    "%%time\n",
    "df_2014_keep[\"working_wo\"] = ((df_2014_keep.SEXE==2)&(df_2014_keep.YRSTI==0)&(df_2014_keep.YSALI>1000))\n",
    "df_2014_keep[\"working_me\"] = ((df_2014_keep.SEXE==1)&(df_2014_keep.YRSTI==0)&(df_2014_keep.YSALI>1000))"
   ]
  },
  {
   "cell_type": "code",
   "execution_count": 307,
   "metadata": {},
   "outputs": [
    {
     "name": "stdout",
     "output_type": "stream",
     "text": [
      "Wall time: 2.89 s\n"
     ]
    }
   ],
   "source": [
    "%%time\n",
    "df_2011_keep_groupby = df_2011_keep[[\"working_wo\", \"working_me\",\"ID_FISC_LOG_DIFF\" ]].groupby(\"ID_FISC_LOG_DIFF\").sum()"
   ]
  },
  {
   "cell_type": "code",
   "execution_count": 308,
   "metadata": {},
   "outputs": [
    {
     "name": "stdout",
     "output_type": "stream",
     "text": [
      "Wall time: 2.04 s\n"
     ]
    }
   ],
   "source": [
    "%%time\n",
    "df_2014_keep_groupby = df_2014_keep[[\"working_wo\", \"working_me\",\"ID_FISC_LOG_DIFF\" ]].groupby(\"ID_FISC_LOG_DIFF\").sum()"
   ]
  },
  {
   "cell_type": "code",
   "execution_count": 309,
   "metadata": {},
   "outputs": [
    {
     "name": "stdout",
     "output_type": "stream",
     "text": [
      "Wall time: 848 ms\n"
     ]
    }
   ],
   "source": [
    "%%time\n",
    "df_working_by_log = pd.merge(df_2011_keep_groupby, df_2014_keep_groupby, left_index=True,right_index=True,\n",
    "                             suffixes=('_2011','_2014'))"
   ]
  },
  {
   "cell_type": "code",
   "execution_count": 310,
   "metadata": {},
   "outputs": [
    {
     "data": {
      "text/plain": [
       "1    847151\n",
       "0    791459\n",
       "2     46356\n",
       "3      3625\n",
       "4       331\n",
       "5        40\n",
       "6        13\n",
       "7         2\n",
       "dtype: int64"
      ]
     },
     "execution_count": 310,
     "metadata": {},
     "output_type": "execute_result"
    }
   ],
   "source": [
    "df_working_by_log.working_me_2011.value_counts() #Probleme double comptage..."
   ]
  },
  {
   "cell_type": "code",
   "execution_count": 311,
   "metadata": {},
   "outputs": [
    {
     "name": "stdout",
     "output_type": "stream",
     "text": [
      "Wall time: 13.3 s\n"
     ]
    }
   ],
   "source": [
    "%%time\n",
    "working_by_sex_reg = pd.merge(reg_df_same_NBPAC, df_working_by_log, left_index=True,right_index=True, )"
   ]
  },
  {
   "cell_type": "code",
   "execution_count": 312,
   "metadata": {},
   "outputs": [],
   "source": [
    "working_wo_2011 = working_by_sex_reg.working_me_2011.astype(\"bool\")\n",
    "not_working_wo_2014 =  ~working_by_sex_reg.working_me_2014.astype(\"bool\")"
   ]
  },
  {
   "cell_type": "code",
   "execution_count": 313,
   "metadata": {},
   "outputs": [],
   "source": [
    "working_by_sex_reg[\"Wo_stopped_working\"] =( working_wo_2011 & not_working_wo_2014).astype(\"int\")"
   ]
  },
  {
   "cell_type": "code",
   "execution_count": 314,
   "metadata": {
    "collapsed": true
   },
   "outputs": [],
   "source": [
    "working_by_sex_reg[\"Wo_started_working\"] =( ~working_wo_2011 & ~not_working_wo_2014).astype(\"int\")"
   ]
  },
  {
   "cell_type": "code",
   "execution_count": 315,
   "metadata": {},
   "outputs": [
    {
     "data": {
      "text/plain": [
       "0    128379\n",
       "1      1564\n",
       "dtype: int64"
      ]
     },
     "execution_count": 315,
     "metadata": {},
     "output_type": "execute_result"
    }
   ],
   "source": [
    "working_by_sex_reg.Wo_started_working.value_counts()"
   ]
  },
  {
   "cell_type": "code",
   "execution_count": 316,
   "metadata": {},
   "outputs": [
    {
     "data": {
      "text/plain": [
       "2    64011\n",
       "3    26188\n",
       "1    21107\n",
       "0    13767\n",
       "4     4219\n",
       "5      651\n",
       "dtype: int64"
      ]
     },
     "execution_count": 316,
     "metadata": {},
     "output_type": "execute_result"
    }
   ],
   "source": [
    "working_by_sex_reg.NBPAC_2011.value_counts()"
   ]
  },
  {
   "cell_type": "code",
   "execution_count": 317,
   "metadata": {},
   "outputs": [
    {
     "name": "stdout",
     "output_type": "stream",
     "text": [
      "Optimization terminated successfully.\n",
      "         Current function value: 0.378987\n",
      "         Iterations 5\n",
      "                          Probit Regression Results                           \n",
      "==============================================================================\n",
      "Dep. Variable:     Wo_stopped_working   No. Observations:               129943\n",
      "Model:                         Probit   Df Residuals:                   129921\n",
      "Method:                           MLE   Df Model:                           21\n",
      "Date:                Fri, 02 Mar 2018   Pseudo R-squ.:               0.0004602\n",
      "Time:                        16:59:16   Log-Likelihood:                -49247.\n",
      "converged:                       True   LL-Null:                       -49269.\n",
      "                                        LLR p-value:                  0.001557\n",
      "=============================================================================================================\n",
      "                                                coef    std err          z      P>|z|      [95.0% Conf. Int.]\n",
      "-------------------------------------------------------------------------------------------------------------\n",
      "Intercept                                    -1.0441      0.041    -25.584      0.000        -1.124    -0.964\n",
      "Between_threshold_1_child[T.True]             0.0265      0.015      1.730      0.084        -0.004     0.057\n",
      "Between_threshold_2_child[T.True]             0.0016      0.019      0.083      0.934        -0.036     0.039\n",
      "Between_threshold_3_child[T.True]             0.0041      0.021      0.195      0.846        -0.037     0.045\n",
      "Between_threshold_4_child[T.True]            -0.0082      0.018     -0.463      0.643        -0.043     0.026\n",
      "Between_threshold_5_child[T.True]             0.0113      0.024      0.478      0.633        -0.035     0.058\n",
      "child_1                                       0.0397      0.024      1.669      0.095        -0.007     0.086\n",
      "child_1:Over_threshold_1_child[T.True]       -0.0129      0.028     -0.460      0.645        -0.068     0.042\n",
      "child_1:Between_threshold_1_child[T.True]    -0.0621      0.037     -1.657      0.098        -0.135     0.011\n",
      "child_2                                       0.0570      0.018      3.210      0.001         0.022     0.092\n",
      "child_2:Over_threshold_2_child[T.True]       -0.0083      0.021     -0.386      0.700        -0.050     0.034\n",
      "child_2:Between_threshold_2_child[T.True]    -0.0030      0.026     -0.118      0.906        -0.053     0.047\n",
      "child_3                                       0.0486      0.019      2.512      0.012         0.011     0.086\n",
      "child_3:Over_threshold_3_child[T.True]       -0.0004      0.029     -0.013      0.990        -0.057     0.057\n",
      "child_3:Between_threshold_3_child[T.True]     0.0061      0.032      0.189      0.850        -0.057     0.069\n",
      "child_4                                       0.0114      0.034      0.332      0.740        -0.056     0.079\n",
      "child_4:Over_threshold_4_child[T.True]        0.1048      0.067      1.563      0.118        -0.027     0.236\n",
      "child_4:Between_threshold_4_child[T.True]     0.1146      0.065      1.757      0.079        -0.013     0.242\n",
      "child_5                                       0.0138      0.076      0.182      0.856        -0.135     0.162\n",
      "child_5:Over_threshold_5_child[T.True]       -0.0340      0.238     -0.143      0.886        -0.501     0.432\n",
      "child_5:Between_threshold_5_child[T.True]     0.2692      0.153      1.755      0.079        -0.031     0.570\n",
      "AGERF_2011                                   -0.0035      0.001     -3.898      0.000        -0.005    -0.002\n",
      "=============================================================================================================\n"
     ]
    }
   ],
   "source": [
    "m = sm.Probit.from_formula(\"(Wo_stopped_working)~   {} + AGERF_2011  \".format(\n",
    "        ' + '.join(children_number+between_threshold_for_child_rank+ interaction_child_over_threshold\n",
    "                 + interaction_child_between_threshold))\n",
    "                                        , working_by_sex_reg)\n",
    "fit = m.fit()\n",
    "summary = fit.summary(); print(summary)"
   ]
  },
  {
   "cell_type": "code",
   "execution_count": 175,
   "metadata": {},
   "outputs": [
    {
     "name": "stdout",
     "output_type": "stream",
     "text": [
      "Optimization terminated successfully.\n",
      "         Current function value: 0.064738\n",
      "         Iterations 8\n",
      "                          Probit Regression Results                           \n",
      "==============================================================================\n",
      "Dep. Variable:     Wo_started_working   No. Observations:               129943\n",
      "Model:                         Probit   Df Residuals:                   129929\n",
      "Method:                           MLE   Df Model:                           13\n",
      "Date:                Tue, 27 Feb 2018   Pseudo R-squ.:                0.006489\n",
      "Time:                        10:38:21   Log-Likelihood:                -8412.2\n",
      "converged:                       True   LL-Null:                       -8467.2\n",
      "                                        LLR p-value:                 1.959e-17\n",
      "=====================================================================================================\n",
      "                                        coef    std err          z      P>|z|      [95.0% Conf. Int.]\n",
      "-----------------------------------------------------------------------------------------------------\n",
      "Intercept                            -2.0927      0.088    -23.750      0.000        -2.265    -1.920\n",
      "Between_threshold_1_child[T.True]     0.0054      0.033      0.165      0.869        -0.059     0.069\n",
      "Between_threshold_2_child[T.True]    -0.0161      0.033     -0.483      0.629        -0.081     0.049\n",
      "Between_threshold_3_child[T.True]    -0.0429      0.038     -1.137      0.255        -0.117     0.031\n",
      "Between_threshold_4_child[T.True]     0.0140      0.035      0.406      0.685        -0.054     0.082\n",
      "Between_threshold_5_child[T.True]     0.0479      0.046      1.049      0.294        -0.042     0.137\n",
      "child_1                              -0.1237      0.044     -2.828      0.005        -0.209    -0.038\n",
      "child_2                              -0.1067      0.037     -2.907      0.004        -0.179    -0.035\n",
      "child_3                              -0.0453      0.039     -1.172      0.241        -0.121     0.030\n",
      "child_4                               0.0946      0.057      1.668      0.095        -0.017     0.206\n",
      "child_5                               0.0207      0.133      0.156      0.876        -0.241     0.282\n",
      "AGERF_2011                           -0.0041      0.002     -2.056      0.040        -0.008    -0.000\n",
      "Over_threshold                        0.2091      0.034      6.097      0.000         0.142     0.276\n",
      "Between_thresholds                    0.1076      0.036      3.009      0.003         0.038     0.178\n",
      "=====================================================================================================\n"
     ]
    }
   ],
   "source": [
    "m = sm.Probit.from_formula(\"(Wo_started_working)~   {} + AGERF_2011 + Over_threshold + Between_thresholds\".format(\n",
    "        ' + '.join(children_number+between_threshold_for_child_rank\n",
    "                  ))\n",
    "                                        , working_by_sex_reg)\n",
    "fit = m.fit()\n",
    "summary = fit.summary(); print(summary)"
   ]
  },
  {
   "cell_type": "code",
   "execution_count": 167,
   "metadata": {},
   "outputs": [
    {
     "name": "stdout",
     "output_type": "stream",
     "text": [
      "Optimization terminated successfully.\n",
      "         Current function value: 0.378986\n",
      "         Iterations 6\n",
      "                          Probit Regression Results                           \n",
      "==============================================================================\n",
      "Dep. Variable:     Wo_stopped_working   No. Observations:               129943\n",
      "Model:                         Probit   Df Residuals:                   129921\n",
      "Method:                           MLE   Df Model:                           21\n",
      "Date:                Tue, 27 Feb 2018   Pseudo R-squ.:               0.0004623\n",
      "Time:                        10:28:17   Log-Likelihood:                -49247.\n",
      "converged:                       True   LL-Null:                       -49269.\n",
      "                                        LLR p-value:                  0.001464\n",
      "=============================================================================================================\n",
      "                                                coef    std err          z      P>|z|      [95.0% Conf. Int.]\n",
      "-------------------------------------------------------------------------------------------------------------\n",
      "Intercept                                    -1.0428      0.040    -25.757      0.000        -1.122    -0.963\n",
      "Over_threshold_2_child[T.True]                0.0167      0.070      0.239      0.811        -0.120     0.153\n",
      "Over_threshold_3_child[T.True]                0.1665      0.229      0.727      0.467        -0.282     0.615\n",
      "Over_threshold_4_child[T.True]               -0.0100      0.036     -0.278      0.781        -0.080     0.060\n",
      "Over_threshold_5_child[T.True]               -0.2067      0.220     -0.938      0.348        -0.639     0.225\n",
      "Between_threshold_1_child[T.True]             0.0227      0.015      1.466      0.143        -0.008     0.053\n",
      "Between_threshold_2_child[T.True]            -0.0065      0.019     -0.342      0.732        -0.043     0.031\n",
      "Between_threshold_3_child[T.True]            -0.0196      0.071     -0.277      0.781        -0.158     0.119\n",
      "Between_threshold_4_child[T.True]            -0.0137      0.022     -0.620      0.535        -0.057     0.030\n",
      "Between_threshold_5_child[T.True]            -0.1704      0.218     -0.782      0.434        -0.598     0.257\n",
      "child_1                                       0.0348      0.024      1.474      0.140        -0.011     0.081\n",
      "child_1:Between_threshold_1_child[T.True]    -0.0583      0.038     -1.553      0.120        -0.132     0.015\n",
      "child_2                                       0.0538      0.016      3.381      0.001         0.023     0.085\n",
      "child_2:Between_threshold_2_child[T.True]     0.0035      0.024      0.147      0.883        -0.043     0.050\n",
      "child_3                                       0.0494      0.018      2.752      0.006         0.014     0.085\n",
      "child_3:Between_threshold_3_child[T.True]     0.0101      0.029      0.352      0.725        -0.046     0.066\n",
      "child_4                                       0.0370      0.031      1.192      0.233        -0.024     0.098\n",
      "child_4:Between_threshold_4_child[T.True]     0.0917      0.063      1.466      0.143        -0.031     0.214\n",
      "child_5                                       0.0130      0.072      0.181      0.857        -0.128     0.154\n",
      "child_5:Between_threshold_5_child[T.True]     0.2709      0.151      1.792      0.073        -0.025     0.567\n",
      "Over_threshold_1_child                       -0.0038      0.027     -0.142      0.887        -0.057     0.049\n",
      "AGERF_2011                                   -0.0035      0.001     -3.803      0.000        -0.005    -0.002\n",
      "=============================================================================================================\n"
     ]
    }
   ],
   "source": [
    "m = sm.Probit.from_formula(\"(Wo_stopped_working)~   {} + AGERF_2011  \".format(\n",
    "        ' + '.join(children_number+ over_threshold_for_child_rank+between_threshold_for_child_rank+\n",
    "                  interaction_child_between_threshold))\n",
    "                                        , working_by_sex_reg)\n",
    "fit = m.fit()\n",
    "summary = fit.summary(); print(summary)"
   ]
  },
  {
   "cell_type": "code",
   "execution_count": 163,
   "metadata": {},
   "outputs": [
    {
     "name": "stdout",
     "output_type": "stream",
     "text": [
      "Optimization terminated successfully.\n",
      "         Current function value: 0.379020\n",
      "         Iterations 6\n",
      "                          Probit Regression Results                           \n",
      "==============================================================================\n",
      "Dep. Variable:     Wo_stopped_working   No. Observations:               129943\n",
      "Model:                         Probit   Df Residuals:                   129921\n",
      "Method:                           MLE   Df Model:                           21\n",
      "Date:                Tue, 27 Feb 2018   Pseudo R-squ.:               0.0003727\n",
      "Time:                        10:25:17   Log-Likelihood:                -49251.\n",
      "converged:                       True   LL-Null:                       -49269.\n",
      "                                        LLR p-value:                   0.01809\n",
      "=============================================================================================================\n",
      "                                                coef    std err          z      P>|z|      [95.0% Conf. Int.]\n",
      "-------------------------------------------------------------------------------------------------------------\n",
      "Intercept                                    -0.9935      0.038    -26.090      0.000        -1.068    -0.919\n",
      "Between_threshold_1_child[T.True]             0.0224      0.015      1.455      0.146        -0.008     0.053\n",
      "Between_threshold_2_child[T.True]            -0.0045      0.014     -0.333      0.739        -0.031     0.022\n",
      "Between_threshold_3_child[T.True]            -0.0029      0.017     -0.169      0.866        -0.037     0.031\n",
      "Between_threshold_4_child[T.True]            -0.0144      0.022     -0.651      0.515        -0.058     0.029\n",
      "Between_threshold_5_child[T.True]            -0.1701      0.218     -0.781      0.435        -0.597     0.257\n",
      "Over_threshold_3_child[T.True]                0.1790      0.219      0.819      0.413        -0.249     0.607\n",
      "Over_threshold_4_child[T.True]               -0.0182      0.036     -0.504      0.614        -0.089     0.052\n",
      "Over_threshold_5_child[T.True]               -0.2077      0.220     -0.943      0.346        -0.639     0.224\n",
      "child_1                                      -0.0111      0.020     -0.558      0.577        -0.050     0.028\n",
      "child_1:Between_threshold_1_child[T.True]    -0.0580      0.037     -1.547      0.122        -0.132     0.015\n",
      "child_3                                       0.0004      0.014      0.027      0.979        -0.028     0.029\n",
      "child_3:Between_threshold_3_child[T.True]     0.0135      0.029      0.458      0.647        -0.044     0.071\n",
      "child_3:Over_threshold_3_child[T.True]        0.0200      0.030      0.672      0.502        -0.038     0.078\n",
      "child_4                                      -0.0359      0.032     -1.122      0.262        -0.099     0.027\n",
      "child_4:Between_threshold_4_child[T.True]     0.1219      0.064      1.892      0.059        -0.004     0.248\n",
      "child_4:Over_threshold_4_child[T.True]        0.1362      0.069      1.969      0.049         0.001     0.272\n",
      "child_5                                      -0.0326      0.075     -0.436      0.663        -0.179     0.114\n",
      "child_5:Between_threshold_5_child[T.True]     0.2784      0.153      1.817      0.069        -0.022     0.579\n",
      "child_5:Over_threshold_5_child[T.True]        0.0084      0.239      0.035      0.972        -0.460     0.477\n",
      "Over_threshold_1_child                       -0.0012   2.11e+06  -5.61e-10      1.000     -4.13e+06  4.13e+06\n",
      "child_1:Over_threshold_1_child               -0.0012   2.11e+06  -5.61e-10      1.000     -4.13e+06  4.13e+06\n",
      "AGERF_2011                                   -0.0035      0.001     -3.898      0.000        -0.005    -0.002\n",
      "=============================================================================================================\n"
     ]
    }
   ],
   "source": [
    "m = sm.Probit.from_formula(\"(Wo_stopped_working)~   {} + AGERF_2011  \".format(\n",
    "        ' + '.join(between_threshold_for_child_rank+children_number_temp+ over_threshold_for_child_rank_temp+\n",
    "                  interaction_child_between_threshold_temp+interaction_child_over_threshold_temp))\n",
    "                                        , working_by_sex_reg)\n",
    "fit = m.fit()\n",
    "summary = fit.summary(); print(summary)"
   ]
  },
  {
   "cell_type": "code",
   "execution_count": 161,
   "metadata": {},
   "outputs": [
    {
     "name": "stdout",
     "output_type": "stream",
     "text": [
      "Optimization terminated successfully.\n",
      "         Current function value: 0.064618\n",
      "         Iterations 8\n",
      "                          Probit Regression Results                           \n",
      "==============================================================================\n",
      "Dep. Variable:     Wo_started_working   No. Observations:               129943\n",
      "Model:                         Probit   Df Residuals:                   129921\n",
      "Method:                           MLE   Df Model:                           21\n",
      "Date:                Sat, 24 Feb 2018   Pseudo R-squ.:                0.008338\n",
      "Time:                        12:20:30   Log-Likelihood:                -8396.6\n",
      "converged:                       True   LL-Null:                       -8467.2\n",
      "                                        LLR p-value:                 8.125e-20\n",
      "=============================================================================================================\n",
      "                                                coef    std err          z      P>|z|      [95.0% Conf. Int.]\n",
      "-------------------------------------------------------------------------------------------------------------\n",
      "Intercept                                    -2.1842      0.084    -26.145      0.000        -2.348    -2.021\n",
      "Between_threshold_1_child[T.True]             0.0404      0.036      1.110      0.267        -0.031     0.112\n",
      "Between_threshold_2_child[T.True]             0.0907      0.031      2.933      0.003         0.030     0.151\n",
      "Between_threshold_3_child[T.True]             0.1324      0.038      3.466      0.001         0.058     0.207\n",
      "Between_threshold_4_child[T.True]             0.0308      0.046      0.670      0.503        -0.059     0.121\n",
      "Between_threshold_5_child[T.True]             0.0441      0.395      0.111      0.911        -0.731     0.819\n",
      "Over_threshold_3_child[T.True]                0.2044      0.397      0.515      0.606        -0.573     0.982\n",
      "Over_threshold_4_child[T.True]                0.0443      0.070      0.632      0.527        -0.093     0.182\n",
      "Over_threshold_5_child[T.True]                0.1179      0.400      0.295      0.768        -0.665     0.901\n",
      "child_1                                      -0.0040      0.049     -0.082      0.935        -0.099     0.091\n",
      "child_1:Between_threshold_1_child[T.True]     0.0425      0.086      0.494      0.622        -0.126     0.211\n",
      "child_3                                       0.0340      0.033      1.024      0.306        -0.031     0.099\n",
      "child_3:Between_threshold_3_child[T.True]    -0.0175      0.063     -0.277      0.782        -0.141     0.106\n",
      "child_3:Over_threshold_3_child[T.True]       -0.0575      0.058     -0.985      0.325        -0.172     0.057\n",
      "child_4                                       0.1052      0.066      1.588      0.112        -0.025     0.235\n",
      "child_4:Between_threshold_4_child[T.True]     0.0253      0.121      0.210      0.834        -0.211     0.262\n",
      "child_4:Over_threshold_4_child[T.True]        0.0541      0.120      0.450      0.653        -0.181     0.290\n",
      "child_5                                       0.1359      0.149      0.913      0.361        -0.156     0.428\n",
      "child_5:Between_threshold_5_child[T.True]    -0.4370      0.395     -1.105      0.269        -1.212     0.338\n",
      "child_5:Over_threshold_5_child[T.True]       -0.2012      0.433     -0.465      0.642        -1.049     0.647\n",
      "Over_threshold_1_child                        0.0147        nan        nan        nan           nan       nan\n",
      "child_1:Over_threshold_1_child                0.0147        nan        nan        nan           nan       nan\n",
      "AGERF_2011                                   -0.0045      0.002     -2.287      0.022        -0.008    -0.001\n",
      "=============================================================================================================\n"
     ]
    }
   ],
   "source": [
    "m = sm.Probit.from_formula(\"(Wo_started_working)~   {} + AGERF_2011  \".format(\n",
    "        ' + '.join(between_threshold_for_child_rank+children_number_temp+ over_threshold_for_child_rank_temp+\n",
    "                  interaction_child_between_threshold_temp+interaction_child_over_threshold_temp))\n",
    "                                        , working_by_sex_reg)\n",
    "fit = m.fit()\n",
    "summary = fit.summary(); print(summary)"
   ]
  },
  {
   "cell_type": "code",
   "execution_count": null,
   "metadata": {
    "collapsed": true
   },
   "outputs": [],
   "source": []
  },
  {
   "cell_type": "code",
   "execution_count": null,
   "metadata": {
    "collapsed": true
   },
   "outputs": [],
   "source": []
  },
  {
   "cell_type": "code",
   "execution_count": null,
   "metadata": {
    "collapsed": true
   },
   "outputs": [],
   "source": []
  },
  {
   "cell_type": "markdown",
   "metadata": {},
   "source": [
    "### Elasticities"
   ]
  },
  {
   "cell_type": "code",
   "execution_count": null,
   "metadata": {},
   "outputs": [],
   "source": [
    "reg_df_same_NBPAC[\"Rbg_ratio_2014_2011\"] = reg_df_same_NBPAC.Rbg_2014/ reg_df_same_NBPAC.Rbg_2011"
   ]
  },
  {
   "cell_type": "code",
   "execution_count": null,
   "metadata": {},
   "outputs": [],
   "source": [
    "m = sm.OLS.from_formula(\"Rbg_ratio_2014_2011~   {}  \".format(\n",
    "        ' + '.join(between_threshold_for_child_rank+children_number+ over_threshold_for_child_rank+\n",
    "                  interaction_child_between_threshold+interaction_child_over_threshold[:]))\n",
    "                                                                                        , reg_df_same_NBPAC)\n",
    "fit = m.fit()\n",
    "summary = fit.summary(); print(summary)"
   ]
  },
  {
   "cell_type": "code",
   "execution_count": null,
   "metadata": {
    "collapsed": true
   },
   "outputs": [],
   "source": [
    "ln"
   ]
  },
  {
   "cell_type": "code",
   "execution_count": null,
   "metadata": {
    "collapsed": true
   },
   "outputs": [],
   "source": []
  },
  {
   "cell_type": "code",
   "execution_count": null,
   "metadata": {},
   "outputs": [],
   "source": [
    "(reg_df_same_NBPAC.Over_threshold_1_child & reg_df_same_NBPAC.child_1).value_counts()"
   ]
  },
  {
   "cell_type": "code",
   "execution_count": null,
   "metadata": {},
   "outputs": [],
   "source": [
    "reg_df.NBPAC_2011.value_counts()"
   ]
  },
  {
   "cell_type": "code",
   "execution_count": null,
   "metadata": {},
   "outputs": [],
   "source": [
    "np.mean(fit.resid)"
   ]
  },
  {
   "cell_type": "code",
   "execution_count": null,
   "metadata": {},
   "outputs": [],
   "source": [
    "reg_df.Between_thresholds"
   ]
  },
  {
   "cell_type": "code",
   "execution_count": null,
   "metadata": {},
   "outputs": [],
   "source": [
    "reg_df.head()"
   ]
  },
  {
   "cell_type": "code",
   "execution_count": null,
   "metadata": {},
   "outputs": [],
   "source": [
    "reg_df_1_child = reg_df[reg_df.NBPAC_2011.isin(range(0,3))]\n",
    "pd.stats.ols.OLS(np.log(reg_df_1_child.Rbg_2014), reg_df_1_child[[\"Over_threshold\"]+cumulative_child_bool_list+thrsh_bool_list+[\"Log_rbg_2011\", \"AGERF_2011\"]])"
   ]
  },
  {
   "cell_type": "code",
   "execution_count": null,
   "metadata": {
    "collapsed": true
   },
   "outputs": [],
   "source": [
    "import statsmodels.api as sm"
   ]
  },
  {
   "cell_type": "code",
   "execution_count": null,
   "metadata": {},
   "outputs": [],
   "source": [
    "reg_df_1_child = reg_df[reg_df.NBPAC_2011.isin(range(0,5))]\n",
    "sm.OLS(np.log(reg_df_1_child.Rbg_2014), reg_df_1_child[[\"Over_threshold\"]+cumulative_child_bool_list+thrsh_bool_list+[\"Log_rbg_2011\", \"AGERF_2011\"]]\n",
    "      ).fit().summary()"
   ]
  },
  {
   "cell_type": "code",
   "execution_count": null,
   "metadata": {},
   "outputs": [],
   "source": [
    "reg_df_1_child = reg_df[reg_df.NBPAC_2011.isin(range(0,5))]\n",
    "reg_df_1_child[\"Intercept\"] = np.zeros(reg_df_1_child.shape[0])+1\n",
    "sm.OLS(np.log(reg_df_1_child.Rbg_2014), reg_df_1_child[[\"Over_threshold\", \"Between_thresholds\", \"Intercept\"]+cumulative_child_bool_list+thrsh_bool_list+[\"Log_rbg_2011\", \"AGERF_2011\"]]\n",
    "      ).fit().summary()"
   ]
  },
  {
   "cell_type": "code",
   "execution_count": null,
   "metadata": {},
   "outputs": [],
   "source": [
    "reg_df_1_child = reg_df[reg_df.NBPAC_2011.isin([0,3])]\n",
    "pd.stats.ols.OLS(np.log(reg_df_1_child.Rbg_2014), reg_df_1_child[[\"Over_threshold\"]+child_bool_list+thrsh_bool_list+[\"Log_rbg_2011\", \"AGERF_2011\"]])"
   ]
  },
  {
   "cell_type": "code",
   "execution_count": null,
   "metadata": {},
   "outputs": [],
   "source": [
    "reg_df_1_child[[\"Threshold_94451\", \"Over_threshold\",\"NBPAC_2011\"     ]]    "
   ]
  },
  {
   "cell_type": "code",
   "execution_count": null,
   "metadata": {},
   "outputs": [],
   "source": [
    "0.0433*3"
   ]
  },
  {
   "cell_type": "code",
   "execution_count": null,
   "metadata": {},
   "outputs": [],
   "source": [
    "pd.stats.ols.OLS(np.log(reg_df_1_child.Rbg_2014), reg_df_1_child[[\"Over_threshold\"]+cumulative_child_bool_list+thrsh_bool_list+[\"Log_rbg_2011\", \"AGERF_2011\"]])"
   ]
  },
  {
   "cell_type": "code",
   "execution_count": null,
   "metadata": {},
   "outputs": [],
   "source": [
    "pd.stats.ols.OLS(np.log(reg_df.Rbg_2014), reg_df[[\"Over_threshold\"]+cumulative_child_bool_list+thrsh_bool_list+[\"Log_rbg_2011\", \"AGERF_2011\"]])"
   ]
  },
  {
   "cell_type": "code",
   "execution_count": null,
   "metadata": {},
   "outputs": [],
   "source": [
    "pd.stats.ols.OLS(np.log(reg_df.Rbg_2014), reg_df[[\"Over_threshold\"]+child_bool_list+thrsh_bool_list+[\"Log_rbg_2011\", \"AGERF_2011\"]])"
   ]
  },
  {
   "cell_type": "code",
   "execution_count": null,
   "metadata": {},
   "outputs": [],
   "source": [
    "pd.stats.ols.OLS(np.log(reg_df.Rbg_2014), reg_df[[\"Over_threshold\"]+child_bool_list+thrsh_bool_list+[\"Log_rbg_2011\", \"AGERF_2011\"]])"
   ]
  },
  {
   "cell_type": "code",
   "execution_count": null,
   "metadata": {},
   "outputs": [],
   "source": [
    "pd.stats.ols.OLS(np.log(df.Rbg_2014), reg_df[[\"Over_threshold\"]+child_bool_list+thrsh_bool_list+[\"Log_rbg_2011\"]])"
   ]
  },
  {
   "cell_type": "markdown",
   "metadata": {},
   "source": [
    "Change for threshold when not concerned by threshold"
   ]
  },
  {
   "cell_type": "code",
   "execution_count": null,
   "metadata": {},
   "outputs": [],
   "source": [
    "df"
   ]
  },
  {
   "cell_type": "code",
   "execution_count": null,
   "metadata": {},
   "outputs": [],
   "source": [
    "pd.stats.ols.OLS(np.log(reg_df.Rbg_2014), reg_df[[\"Over_threshold\"]+child_bool_list+thrsh_bool_list+[\"Log_rbg_2011\"]])"
   ]
  },
  {
   "cell_type": "code",
   "execution_count": null,
   "metadata": {},
   "outputs": [],
   "source": [
    "df_reg_2 = reg_df[(reg_df.Over_threshold.astype(\"bool\") & reg_df.Over_threshold_ex_post.astype('bool'))]"
   ]
  },
  {
   "cell_type": "code",
   "execution_count": null,
   "metadata": {},
   "outputs": [],
   "source": [
    "(reg_df.Over_threshold & reg_df.Over_threshold_ex_post).value_counts()"
   ]
  },
  {
   "cell_type": "code",
   "execution_count": null,
   "metadata": {},
   "outputs": [],
   "source": [
    "pd.stats.ols.OLS(np.log(df_reg_2.Rbg_2014), df_reg_2[[\"Over_threshold\"]+child_bool_list+thrsh_bool_list+[\"Log_rbg_2011\"]])"
   ]
  },
  {
   "cell_type": "code",
   "execution_count": null,
   "metadata": {},
   "outputs": [],
   "source": [
    "np.log(df.Rbg_2014 - df.Rbg_2011)"
   ]
  },
  {
   "cell_type": "code",
   "execution_count": null,
   "metadata": {
    "collapsed": true
   },
   "outputs": [],
   "source": []
  },
  {
   "cell_type": "code",
   "execution_count": null,
   "metadata": {
    "collapsed": true
   },
   "outputs": [],
   "source": []
  },
  {
   "cell_type": "code",
   "execution_count": null,
   "metadata": {
    "collapsed": true
   },
   "outputs": [],
   "source": []
  },
  {
   "cell_type": "code",
   "execution_count": null,
   "metadata": {
    "collapsed": true
   },
   "outputs": [],
   "source": []
  },
  {
   "cell_type": "code",
   "execution_count": null,
   "metadata": {
    "collapsed": true
   },
   "outputs": [],
   "source": []
  },
  {
   "cell_type": "code",
   "execution_count": null,
   "metadata": {
    "collapsed": true
   },
   "outputs": [],
   "source": []
  },
  {
   "cell_type": "code",
   "execution_count": null,
   "metadata": {
    "collapsed": true
   },
   "outputs": [],
   "source": []
  },
  {
   "cell_type": "code",
   "execution_count": null,
   "metadata": {
    "collapsed": true
   },
   "outputs": [],
   "source": []
  },
  {
   "cell_type": "code",
   "execution_count": null,
   "metadata": {
    "collapsed": true
   },
   "outputs": [],
   "source": []
  },
  {
   "cell_type": "code",
   "execution_count": null,
   "metadata": {},
   "outputs": [],
   "source": [
    "(merge.Rbg_2014[((merge.Rbg_2014>50000)\n",
    "                &(merge.Rbg_2014<200000))] - merge.Rbg_2011[((merge.Rbg_2014>50000)\n",
    "                &(merge.Rbg_2014<200000))]).mean()"
   ]
  },
  {
   "cell_type": "code",
   "execution_count": null,
   "metadata": {
    "collapsed": true
   },
   "outputs": [],
   "source": []
  },
  {
   "cell_type": "code",
   "execution_count": null,
   "metadata": {},
   "outputs": [],
   "source": [
    "print df_fisci_2014.shape\n",
    "print df_fiscrevdet_2014.shape\n",
    "print merge_2014.shape"
   ]
  },
  {
   "cell_type": "code",
   "execution_count": null,
   "metadata": {},
   "outputs": [],
   "source": [
    "%%time\n",
    "year = 2011\n",
    "fisc_r_2011 = load_fisc_r_by_year(year)\n",
    "fisc_r_2011.drop(columns_to_drop_for_merge, axis = 1, inplace=True)\n",
    "df_fisci_2011 = load_fisc_i_by_year(year)\n",
    "df_fiscrevdet_2011 = load_df_fiscrevdet_by_year(year)\n",
    "df_fiscrevdet_2011['TYPE_FISC'] = df_fiscrevdet_2011.TYPE_FISC.astype('str')\n",
    "merge_2011 = pd.merge(df_fisci_2011, df_fiscrevdet_2011, on=[\n",
    "        'ID_FISC_FOY_DIFF','ORDREFIP', 'TYPE_FISC'])"
   ]
  },
  {
   "cell_type": "code",
   "execution_count": null,
   "metadata": {},
   "outputs": [],
   "source": [
    "merge_2014[merge_2014.ID_FISC_LOG_DIFF == 675651]"
   ]
  },
  {
   "cell_type": "code",
   "execution_count": null,
   "metadata": {},
   "outputs": [],
   "source": [
    "merge_2011[merge_2011.ID_FISC_LOG_DIFF == 675651]"
   ]
  },
  {
   "cell_type": "code",
   "execution_count": null,
   "metadata": {},
   "outputs": [],
   "source": [
    "merge_2014.shape"
   ]
  },
  {
   "cell_type": "code",
   "execution_count": null,
   "metadata": {},
   "outputs": [],
   "source": [
    "%time\n",
    "merge = pd.merge(merge_2014[~merge_2014.ID_DIFF.isnull()], merge_2011[~merge_2011.ID_DIFF.isnull()], on = 'ID_DIFF', how='inner')"
   ]
  },
  {
   "cell_type": "code",
   "execution_count": null,
   "metadata": {},
   "outputs": [],
   "source": [
    "merge.shape"
   ]
  },
  {
   "cell_type": "code",
   "execution_count": null,
   "metadata": {},
   "outputs": [],
   "source": [
    "(merge.YSALI_x - merge.YSALI_y).describe()"
   ]
  },
  {
   "cell_type": "code",
   "execution_count": null,
   "metadata": {},
   "outputs": [],
   "source": [
    "\n",
    "(merge[merge.SEXE_x == 1].YSALI_x - merge[merge.SEXE_x == 1].YSALI_y).describe()"
   ]
  },
  {
   "cell_type": "code",
   "execution_count": null,
   "metadata": {},
   "outputs": [],
   "source": [
    "\n",
    "(merge[merge.SEXE_x == 2].YSALI_x - merge[merge.SEXE_x == 2].YSALI_y).describe()"
   ]
  },
  {
   "cell_type": "code",
   "execution_count": null,
   "metadata": {},
   "outputs": [],
   "source": [
    "merge.head(20)"
   ]
  },
  {
   "cell_type": "code",
   "execution_count": null,
   "metadata": {},
   "outputs": [],
   "source": [
    "id_fisc_log_diff = merge[merge.SEXE_x == 1].ID_FISC_LOG_DIFF_x"
   ]
  },
  {
   "cell_type": "code",
   "execution_count": null,
   "metadata": {
    "collapsed": true
   },
   "outputs": [],
   "source": [
    "id_log_19_vingtile= fisc_r_2011[(fisc_r_2011.CENTILE>=90)&(fisc_r_2011.CENTILE<=95)].ID_FISC_LOG_DIFF\n",
    "id_log_18_vingtile = fisc_r_2011[(fisc_r_2011.CENTILE>=85)&(fisc_r_2011.CENTILE<=90)].ID_FISC_LOG_DIFF\n"
   ]
  },
  {
   "cell_type": "code",
   "execution_count": null,
   "metadata": {},
   "outputs": [],
   "source": [
    "#last_decile = merge.ID_FISC_LOG_DIFF_x.isin(id_log_last_decile)\n",
    "log_19_vingtile  = merge.ID_FISC_LOG_DIFF_x.isin(id_log_19_vingtile)\n",
    "log_18_vingtile  = merge.ID_FISC_LOG_DIFF_x.isin(id_log_18_vingtile)"
   ]
  },
  {
   "cell_type": "code",
   "execution_count": null,
   "metadata": {},
   "outputs": [],
   "source": [
    "merge['SEXE_x'] = merge['SEXE_x'].astype('float')\n",
    "merge['SEXE_y'] = merge['SEXE_y'].astype('float')"
   ]
  },
  {
   "cell_type": "code",
   "execution_count": null,
   "metadata": {},
   "outputs": [],
   "source": [
    "(merge.SEXE_x != merge.SEXE_y).value_counts(normalize = True)"
   ]
  },
  {
   "cell_type": "code",
   "execution_count": null,
   "metadata": {},
   "outputs": [],
   "source": [
    "(merge.YSALI_x - merge.YSALI_y).describe()"
   ]
  },
  {
   "cell_type": "code",
   "execution_count": null,
   "metadata": {},
   "outputs": [],
   "source": [
    "meme_salaire = (merge[(merge.SEXE_x == 2)&log_19_vingtile].YSALI_x == merge[(merge.SEXE_x == 2)&log_19_vingtile].YSALI_y)\n",
    "meme_salaire.value_counts()"
   ]
  },
  {
   "cell_type": "code",
   "execution_count": null,
   "metadata": {},
   "outputs": [],
   "source": [
    "meme_salaire = (merge[(merge.SEXE_x == 1)&log_19_vingtile].YSALI_x == merge[(merge.SEXE_x == 1)&log_19_vingtile].YSALI_y)\n",
    "meme_salaire.value_counts()"
   ]
  },
  {
   "cell_type": "code",
   "execution_count": null,
   "metadata": {},
   "outputs": [],
   "source": [
    "log_18_vingtile"
   ]
  },
  {
   "cell_type": "code",
   "execution_count": null,
   "metadata": {},
   "outputs": [],
   "source": [
    "merge[(merge.SEXE_x == 2)&log_19_vingtile][meme_salaire][[\"YSALI_x\", 'YSALI_y']]"
   ]
  },
  {
   "cell_type": "code",
   "execution_count": null,
   "metadata": {
    "collapsed": true
   },
   "outputs": [],
   "source": []
  },
  {
   "cell_type": "code",
   "execution_count": null,
   "metadata": {
    "collapsed": true
   },
   "outputs": [],
   "source": []
  },
  {
   "cell_type": "code",
   "execution_count": null,
   "metadata": {
    "scrolled": true
   },
   "outputs": [],
   "source": [
    "\n",
    "print (merge[(merge.SEXE_x == 2)&log_19_vingtile].YSALI_x - merge[(merge.SEXE_x == 2)&log_19_vingtile].YSALI_y).describe()\n",
    "print (merge[(merge.SEXE_x == 2)&log_18_vingtile].YSALI_x - merge[(merge.SEXE_x == 2)&log_18_vingtile].YSALI_y).describe()"
   ]
  },
  {
   "cell_type": "code",
   "execution_count": null,
   "metadata": {},
   "outputs": [],
   "source": [
    "\n",
    "print (merge[(merge.SEXE_x == 1)&log_19_vingtile].YSALI_x - merge[(merge.SEXE_x == 1)&log_19_vingtile].YSALI_y).describe()\n",
    "print (merge[(merge.SEXE_x == 1)&log_18_vingtile].YSALI_x - merge[(merge.SEXE_x == 1)&log_18_vingtile].YSALI_y).describe()"
   ]
  },
  {
   "cell_type": "markdown",
   "metadata": {},
   "source": [
    "## DIFF in DIFF"
   ]
  },
  {
   "cell_type": "code",
   "execution_count": null,
   "metadata": {},
   "outputs": [],
   "source": [
    "-1010--532"
   ]
  },
  {
   "cell_type": "code",
   "execution_count": null,
   "metadata": {},
   "outputs": [],
   "source": [
    "-671--561"
   ]
  },
  {
   "cell_type": "code",
   "execution_count": null,
   "metadata": {},
   "outputs": [],
   "source": [
    "-478--110"
   ]
  },
  {
   "cell_type": "code",
   "execution_count": null,
   "metadata": {
    "collapsed": true
   },
   "outputs": [],
   "source": []
  },
  {
   "cell_type": "code",
   "execution_count": null,
   "metadata": {},
   "outputs": [],
   "source": [
    "-671--1010"
   ]
  },
  {
   "cell_type": "code",
   "execution_count": null,
   "metadata": {},
   "outputs": [],
   "source": [
    "-561--532"
   ]
  },
  {
   "cell_type": "code",
   "execution_count": null,
   "metadata": {},
   "outputs": [],
   "source": [
    "-110--478"
   ]
  },
  {
   "cell_type": "code",
   "execution_count": null,
   "metadata": {},
   "outputs": [],
   "source": [
    "339--29"
   ]
  },
  {
   "cell_type": "code",
   "execution_count": null,
   "metadata": {
    "collapsed": true
   },
   "outputs": [],
   "source": []
  },
  {
   "cell_type": "code",
   "execution_count": null,
   "metadata": {
    "collapsed": true
   },
   "outputs": [],
   "source": []
  },
  {
   "cell_type": "code",
   "execution_count": null,
   "metadata": {
    "collapsed": true
   },
   "outputs": [],
   "source": []
  },
  {
   "cell_type": "code",
   "execution_count": null,
   "metadata": {},
   "outputs": [],
   "source": [
    "\n",
    "(merge[(merge.SEXE_x == 2)&log_18_vingtile].YSALI_x - merge[(merge.SEXE_x == 2)&log_18_vingtile].YSALI_y).describe()"
   ]
  },
  {
   "cell_type": "code",
   "execution_count": null,
   "metadata": {},
   "outputs": [],
   "source": [
    "\n",
    "(merge[(merge.SEXE_x == 1)&last_decile].YSALI_x - merge[(merge.SEXE_x == 1)&last_decile].YSALI_y).describe()"
   ]
  },
  {
   "cell_type": "code",
   "execution_count": null,
   "metadata": {
    "collapsed": true
   },
   "outputs": [],
   "source": []
  },
  {
   "cell_type": "code",
   "execution_count": null,
   "metadata": {
    "collapsed": true
   },
   "outputs": [],
   "source": []
  },
  {
   "cell_type": "code",
   "execution_count": null,
   "metadata": {
    "collapsed": true
   },
   "outputs": [],
   "source": []
  },
  {
   "cell_type": "code",
   "execution_count": null,
   "metadata": {
    "collapsed": true
   },
   "outputs": [],
   "source": []
  },
  {
   "cell_type": "code",
   "execution_count": null,
   "metadata": {
    "collapsed": true
   },
   "outputs": [],
   "source": []
  },
  {
   "cell_type": "code",
   "execution_count": null,
   "metadata": {
    "collapsed": true
   },
   "outputs": [],
   "source": []
  },
  {
   "cell_type": "code",
   "execution_count": null,
   "metadata": {
    "collapsed": true
   },
   "outputs": [],
   "source": []
  },
  {
   "cell_type": "code",
   "execution_count": null,
   "metadata": {
    "collapsed": true
   },
   "outputs": [],
   "source": []
  },
  {
   "cell_type": "code",
   "execution_count": null,
   "metadata": {
    "collapsed": true
   },
   "outputs": [],
   "source": [
    "merge = pd.merge(merge_2014[['ID_DIFF'\n",
    "                             , 'ID_FISC_FOY_DIFF','ORDREFIP', 'TYPE_FISC',\n",
    "                             \"YSALI\",\n",
    "                            \n",
    "                            \n",
    "                            ]][:10000], merge_2011[0:10000], on = 'ID_DIFF', how='inner')"
   ]
  },
  {
   "cell_type": "code",
   "execution_count": null,
   "metadata": {
    "collapsed": true
   },
   "outputs": [],
   "source": [
    "3"
   ]
  },
  {
   "cell_type": "code",
   "execution_count": null,
   "metadata": {},
   "outputs": [],
   "source": [
    "fisc_r_2014.df_fiscrevdet"
   ]
  },
  {
   "cell_type": "code",
   "execution_count": null,
   "metadata": {
    "collapsed": true
   },
   "outputs": [],
   "source": []
  },
  {
   "cell_type": "code",
   "execution_count": null,
   "metadata": {
    "collapsed": true
   },
   "outputs": [],
   "source": []
  },
  {
   "cell_type": "code",
   "execution_count": null,
   "metadata": {},
   "outputs": [],
   "source": [
    "fisc_r_2014.ZVAMM.head()"
   ]
  },
  {
   "cell_type": "code",
   "execution_count": null,
   "metadata": {},
   "outputs": [],
   "source": [
    "var_dict = {'Salaires': 'ZSALM', 'Chomage':'ZCHOM',\n",
    "           'Retraites' : 'ZRSTM', 'Pensions alimentaires':'ZALRM' ,\n",
    "           'Rente viagere':'ZRTOM',\n",
    "           'Rev agricole':'ZRAGM', 'Industriel et commerciaux' : 'ZRICM',\n",
    "           'Non commerciaux': 'ZRNCM', 'Fonciers':'ZFONM',\n",
    "           'Valeurs Mobiliere' : 'ZVAMM', 'Valeurs Mobiliere declar' :  'ZVAMM0', # Voir doc \n",
    "           'Valeurs Mob prel lib' : 'ZVALM0','Valeurs Mob prel lib imp' :  'ZVALM',\n",
    "            'Revenu accessoir':'ZRACM', 'REvenu etranger' : 'ZETRM',\n",
    "            #\"Credits et reductions d'impots\":\"ZAVFM14\",\n",
    "           \n",
    "           }"
   ]
  },
  {
   "cell_type": "code",
   "execution_count": null,
   "metadata": {
    "collapsed": true
   },
   "outputs": [],
   "source": []
  },
  {
   "cell_type": "code",
   "execution_count": null,
   "metadata": {},
   "outputs": [],
   "source": [
    "fisc_r_2014"
   ]
  },
  {
   "cell_type": "code",
   "execution_count": null,
   "metadata": {
    "collapsed": true
   },
   "outputs": [],
   "source": []
  },
  {
   "cell_type": "code",
   "execution_count": null,
   "metadata": {
    "collapsed": true
   },
   "outputs": [],
   "source": []
  },
  {
   "cell_type": "code",
   "execution_count": null,
   "metadata": {
    "collapsed": true
   },
   "outputs": [],
   "source": []
  },
  {
   "cell_type": "code",
   "execution_count": null,
   "metadata": {
    "collapsed": true
   },
   "outputs": [],
   "source": []
  },
  {
   "cell_type": "code",
   "execution_count": null,
   "metadata": {
    "collapsed": true
   },
   "outputs": [],
   "source": []
  },
  {
   "cell_type": "code",
   "execution_count": null,
   "metadata": {
    "collapsed": true
   },
   "outputs": [],
   "source": []
  },
  {
   "cell_type": "code",
   "execution_count": null,
   "metadata": {
    "collapsed": true
   },
   "outputs": [],
   "source": []
  },
  {
   "cell_type": "code",
   "execution_count": null,
   "metadata": {
    "collapsed": true
   },
   "outputs": [],
   "source": []
  },
  {
   "cell_type": "code",
   "execution_count": null,
   "metadata": {
    "collapsed": true
   },
   "outputs": [],
   "source": []
  },
  {
   "cell_type": "code",
   "execution_count": null,
   "metadata": {
    "collapsed": true
   },
   "outputs": [],
   "source": []
  },
  {
   "cell_type": "code",
   "execution_count": null,
   "metadata": {
    "collapsed": true
   },
   "outputs": [],
   "source": []
  },
  {
   "cell_type": "code",
   "execution_count": null,
   "metadata": {
    "collapsed": true
   },
   "outputs": [],
   "source": []
  },
  {
   "cell_type": "code",
   "execution_count": null,
   "metadata": {
    "collapsed": true
   },
   "outputs": [],
   "source": []
  },
  {
   "cell_type": "code",
   "execution_count": null,
   "metadata": {
    "collapsed": true
   },
   "outputs": [],
   "source": []
  },
  {
   "cell_type": "code",
   "execution_count": null,
   "metadata": {
    "collapsed": true
   },
   "outputs": [],
   "source": []
  },
  {
   "cell_type": "code",
   "execution_count": null,
   "metadata": {
    "collapsed": true
   },
   "outputs": [],
   "source": []
  },
  {
   "cell_type": "code",
   "execution_count": null,
   "metadata": {
    "collapsed": true
   },
   "outputs": [],
   "source": []
  },
  {
   "cell_type": "code",
   "execution_count": null,
   "metadata": {},
   "outputs": [],
   "source": [
    "inv_var_dict = {v: k for k, v in var_dict.iteritems()}"
   ]
  },
  {
   "cell_type": "code",
   "execution_count": null,
   "metadata": {},
   "outputs": [],
   "source": [
    "df.T.rename(columns=inv_var_dict)"
   ]
  },
  {
   "cell_type": "code",
   "execution_count": null,
   "metadata": {
    "collapsed": true
   },
   "outputs": [],
   "source": [
    "df[df.ZIMPOM14>70].ZIMPOM14"
   ]
  },
  {
   "cell_type": "code",
   "execution_count": null,
   "metadata": {},
   "outputs": [],
   "source": [
    "start = 0 \n",
    "stop = 10000\n",
    "step = 1000\n",
    "df = pd.DataFrame()\n",
    "for impo in xrange(start,stop,step):\n",
    "    print impo\n",
    "    total = np.zeros(1)\n",
    "    for var in var_dict.values():\n",
    "        total += fisc_r_2014[var][(fisc_r_2014.ZIMPOM14>impo)&((fisc_r_2014.ZIMPOM14<impo+step))].sum()\n",
    "    for var in var_dict.values():\n",
    "        #print var , fisc_r_2014[var][(fisc_r_2014.ZIMPOM14>impo)&((fisc_r_2014.ZIMPOM14<impo+step))].sum()/total\n",
    "        df.loc[var, impo] =  fisc_r_2014[var][(fisc_r_2014.ZIMPOM14>impo)&((fisc_r_2014.ZIMPOM14<impo+step))].sum()/total\n",
    "df.T.rename(columns=inv_var_dict)"
   ]
  },
  {
   "cell_type": "code",
   "execution_count": null,
   "metadata": {},
   "outputs": [],
   "source": [
    "print fisc_r_2014.ZSALM[fisc_r_2014.ZIMPOM14>2000].sum()/10**9\n",
    "print fisc_r_2014.ZRNCM[fisc_r_2014.ZIMPOM14>2000].sum()/10**9\n",
    "print fisc_r_2014.ZRICM[fisc_r_2014.ZIMPOM14>2000].sum()/10**9\n",
    "print fisc_r_2014.ZFONM[fisc_r_2014.ZIMPOM14>2000].sum()/10**9\n",
    "print fisc_r_2014.ZAVFM14[fisc_r_2014.ZIMPOM14>2000].sum()/10**9\n",
    "print fisc_r_2014.ZRACM[fisc_r_2014.ZIMPOM14>2000].sum()/10**9\n",
    "print fisc_r_2014.ZETRM[fisc_r_2014.ZIMPOM14>2000].sum()/10**9\n",
    "#plt.xlim(1,200000)"
   ]
  },
  {
   "cell_type": "code",
   "execution_count": null,
   "metadata": {},
   "outputs": [],
   "source": [
    "%%time\n",
    "fisc_r_2013 = load_fisc_r_by_year(2013)\n",
    "fisc_r_2013.drop(columns_to_drop_for_merge, axis = 1, inplace=True)"
   ]
  },
  {
   "cell_type": "code",
   "execution_count": null,
   "metadata": {},
   "outputs": [],
   "source": [
    "%%time\n",
    "fisc_r_2012 = load_fisc_r_by_year(2012)\n",
    "fisc_r_2012.drop(columns_to_drop_for_merge, axis = 1, inplace=True)\n"
   ]
  },
  {
   "cell_type": "code",
   "execution_count": null,
   "metadata": {},
   "outputs": [],
   "source": [
    "%%time\n",
    "fisc_r_2011 = load_fisc_r_by_year(2011)\n",
    "fisc_r_2011.drop(columns_to_drop_for_merge, axis = 1, inplace=True)\n"
   ]
  },
  {
   "cell_type": "code",
   "execution_count": null,
   "metadata": {},
   "outputs": [],
   "source": [
    "%%time\n",
    "fisc_r_2010 = load_fisc_r_by_year(2010)\n",
    "\n"
   ]
  },
  {
   "cell_type": "code",
   "execution_count": null,
   "metadata": {},
   "outputs": [],
   "source": [
    "ID_LOG_2011_last_decile = fisc_r_2011[fisc_r_2011.CENTILE>=90].ID_FISC_LOG_DIFF"
   ]
  },
  {
   "cell_type": "code",
   "execution_count": null,
   "metadata": {
    "collapsed": true
   },
   "outputs": [],
   "source": [
    "ID_LOG_2014 = fisc_r_2014.ID_FISC_LOG_DIFF"
   ]
  },
  {
   "cell_type": "code",
   "execution_count": null,
   "metadata": {
    "collapsed": true
   },
   "outputs": [],
   "source": [
    "ID_LOG_2011_last_decile_set = set(ID_LOG_2011_last_decile)"
   ]
  },
  {
   "cell_type": "code",
   "execution_count": null,
   "metadata": {},
   "outputs": [],
   "source": [
    "ID_LOG_2011_lastd_2014_intersect = ID_LOG_2011_last_decile_set.intersection(ID_LOG_2014)"
   ]
  },
  {
   "cell_type": "code",
   "execution_count": null,
   "metadata": {},
   "outputs": [],
   "source": [
    "len(ID_LOG_2011_lastd_2014_intersect)"
   ]
  },
  {
   "cell_type": "code",
   "execution_count": null,
   "metadata": {},
   "outputs": [],
   "source": [
    "%%time\n",
    "df_fiscr_2011_2014 = pd.merge(fisc_r_2014,fisc_r_2011, on='ID_FISC_LOG_DIFF', suffixes=('_2014','_2011') )"
   ]
  },
  {
   "cell_type": "code",
   "execution_count": null,
   "metadata": {},
   "outputs": [],
   "source": [
    "df_fiscr_2011_2014[['ZIMPOM_2011','ZIMPOM_2014', 'REVDECM_2011', 'REVDECM_2014','ZSALM_2011','ZSALM_2014', 'NBPERSM_2014', 'NBPERSM_2011']]"
   ]
  },
  {
   "cell_type": "code",
   "execution_count": null,
   "metadata": {
    "collapsed": true
   },
   "outputs": [],
   "source": []
  },
  {
   "cell_type": "code",
   "execution_count": null,
   "metadata": {},
   "outputs": [],
   "source": [
    "((df_fiscr_2011_2014.CENTILE_2011>=90)&(df_fiscr_2011_2014.CENTILE_2014>=90)).value_counts()"
   ]
  },
  {
   "cell_type": "code",
   "execution_count": null,
   "metadata": {
    "collapsed": true
   },
   "outputs": [],
   "source": [
    "last_decile_2011 =(df_fiscr_2011_2014.CENTILE_2011>=90)\n",
    "last_decile_2014 = (df_fiscr_2011_2014.CENTILE_2014>=90)"
   ]
  },
  {
   "cell_type": "code",
   "execution_count": null,
   "metadata": {},
   "outputs": [],
   "source": [
    "print (df_fiscr_2011_2014[last_decile_2011].CENTILE_2014>=90).value_counts()\n",
    "print (df_fiscr_2011_2014[last_decile_2011].CENTILE_2014>=90).value_counts(normalize = True)"
   ]
  },
  {
   "cell_type": "code",
   "execution_count": null,
   "metadata": {},
   "outputs": [],
   "source": [
    "(\n",
    "    df_fiscr_2011_2014[last_decile_2011&last_decile_2014].ZSALM_2014 - \n",
    "    df_fiscr_2011_2014[last_decile_2011&last_decile_2014].ZSALM_2011\n",
    "    ).describe()"
   ]
  },
  {
   "cell_type": "code",
   "execution_count": null,
   "metadata": {
    "collapsed": true
   },
   "outputs": [],
   "source": [
    "suffixes = fisc_r_2012.columns"
   ]
  },
  {
   "cell_type": "code",
   "execution_count": null,
   "metadata": {},
   "outputs": [],
   "source": [
    "len(fisc_r_2014.columns)"
   ]
  },
  {
   "cell_type": "code",
   "execution_count": null,
   "metadata": {},
   "outputs": [],
   "source": [
    "fisc_r_2012.columns = [fisc_r_2012.columns[0]]+[label+\"_2012\" for label in fisc_r_2012.columns[1:] ]\n",
    "fisc_r_2013.columns = [fisc_r_2012.columns[0]]+[label+\"_2013\" for label in fisc_r_2012.columns[1:] ]\n",
    "fisc_r_2010.columns = [fisc_r_2010.columns[0]]+[label+\"_2010\" for label in fisc_r_2010.columns[1:] ]"
   ]
  },
  {
   "cell_type": "code",
   "execution_count": null,
   "metadata": {},
   "outputs": [],
   "source": [
    "%%time\n",
    "df_fiscr_2010_to_2014 = pd.merge(df_fiscr_2011_2014,fisc_r_2010, on='ID_FISC_LOG_DIFF', suffixes=('ERROR','ERROR') )"
   ]
  },
  {
   "cell_type": "code",
   "execution_count": null,
   "metadata": {},
   "outputs": [],
   "source": [
    "%%time\n",
    "df_fiscr_2010_to_2014 = pd.merge(df_fiscr_2010_to_2014,fisc_r_2012, on='ID_FISC_LOG_DIFF', suffixes=('ERROR','ERROR') )"
   ]
  },
  {
   "cell_type": "code",
   "execution_count": null,
   "metadata": {},
   "outputs": [],
   "source": [
    "%%time\n",
    "df_fiscr_2010_to_2014 = pd.merge(df_fiscr_2010_to_2014,fisc_r_2013, on='ID_FISC_LOG_DIFF', suffixes=('ERROR','ERROR') )"
   ]
  },
  {
   "cell_type": "code",
   "execution_count": null,
   "metadata": {},
   "outputs": [],
   "source": [
    "(df_fiscr_2010_to_2014.ZIMPOM_2014 -(df_fiscr_2010_to_2014.ZIMPOM_2011)).describe()"
   ]
  },
  {
   "cell_type": "code",
   "execution_count": null,
   "metadata": {},
   "outputs": [],
   "source": [
    "(df_fiscr_2010_to_2014.ZIMPOM_2014 /(df_fiscr_2010_to_2014.ZIMPOM_2011)).describe()"
   ]
  },
  {
   "cell_type": "code",
   "execution_count": null,
   "metadata": {
    "collapsed": true
   },
   "outputs": [],
   "source": []
  },
  {
   "cell_type": "code",
   "execution_count": null,
   "metadata": {
    "collapsed": true
   },
   "outputs": [],
   "source": []
  },
  {
   "cell_type": "markdown",
   "metadata": {},
   "source": [
    "## Nombre d'individus potentiellement concernés."
   ]
  },
  {
   "cell_type": "markdown",
   "metadata": {},
   "source": [
    "## Avec 1 enfant"
   ]
  },
  {
   "cell_type": "code",
   "execution_count": null,
   "metadata": {},
   "outputs": [],
   "source": [
    "((df_fiscr_2010_to_2014.ZSALM_2011>36000) & (df_fiscr_2010_to_2014.ZSALM_2011<41000) \n",
    "&(df_fiscr_2010_to_2014.TYPMEN9_2011.isin([41]))).value_counts()"
   ]
  },
  {
   "cell_type": "code",
   "execution_count": null,
   "metadata": {},
   "outputs": [],
   "source": [
    "((df_fiscr_2010_to_2014.ZSALM_2011>41000)\n",
    "&(df_fiscr_2010_to_2014.TYPMEN9_2011.isin([41]))).value_counts()"
   ]
  },
  {
   "cell_type": "markdown",
   "metadata": {},
   "source": [
    "## Avec 2 enfants"
   ]
  },
  {
   "cell_type": "code",
   "execution_count": null,
   "metadata": {},
   "outputs": [],
   "source": [
    "((df_fiscr_2010_to_2014.ZSALM_2011>41000) & (df_fiscr_2010_to_2014.ZSALM_2011<52000) \n",
    "&(df_fiscr_2010_to_2014.TYPMEN9_2011.isin([42]))).value_counts()"
   ]
  },
  {
   "cell_type": "code",
   "execution_count": null,
   "metadata": {},
   "outputs": [],
   "source": [
    "((df_fiscr_2010_to_2014.ZSALM_2011>52000)\n",
    "&(df_fiscr_2010_to_2014.TYPMEN9_2011.isin([42]))).value_counts()"
   ]
  },
  {
   "cell_type": "markdown",
   "metadata": {},
   "source": [
    "## Avec 3 enfants"
   ]
  },
  {
   "cell_type": "code",
   "execution_count": null,
   "metadata": {},
   "outputs": [],
   "source": [
    "((df_fiscr_2010_to_2014.ZSALM_2011>53000) & (df_fiscr_2010_to_2014.ZSALM_2011<76000) \n",
    "&(df_fiscr_2010_to_2014.TYPMEN9_2011.isin([43]))).value_counts()"
   ]
  },
  {
   "cell_type": "code",
   "execution_count": null,
   "metadata": {},
   "outputs": [],
   "source": [
    "((df_fiscr_2010_to_2014.ZSALM_2011>76000)\n",
    "&(df_fiscr_2010_to_2014.TYPMEN9_2011.isin([43]))).value_counts()"
   ]
  },
  {
   "cell_type": "code",
   "execution_count": null,
   "metadata": {
    "collapsed": true
   },
   "outputs": [],
   "source": []
  },
  {
   "cell_type": "markdown",
   "metadata": {},
   "source": [
    "\n",
    "### Créer rapidement des variables binaires pour chaque groupe pour voir si ça a un impact sur zsalm d'apartenir au groupe..."
   ]
  },
  {
   "cell_type": "code",
   "execution_count": null,
   "metadata": {},
   "outputs": [],
   "source": [
    "df_fiscr_2010_to_2014[\"Groupe_1\"]=((df_fiscr_2010_to_2014.ZSALM_2011>36000) & (df_fiscr_2010_to_2014.ZSALM_2011<41000) \n",
    "&(df_fiscr_2010_to_2014.TYPMEN9_2011.isin([41])))"
   ]
  },
  {
   "cell_type": "code",
   "execution_count": null,
   "metadata": {},
   "outputs": [],
   "source": [
    "df_fiscr_2010_to_2014[\"Groupe_1\"] += ((df_fiscr_2010_to_2014.ZSALM_2011>41000) & (df_fiscr_2010_to_2014.ZSALM_2011<52000) \n",
    "&(df_fiscr_2010_to_2014.TYPMEN9_2011.isin([42])))"
   ]
  },
  {
   "cell_type": "code",
   "execution_count": null,
   "metadata": {
    "collapsed": true
   },
   "outputs": [],
   "source": [
    "df_fiscr_2010_to_2014[\"Groupe_1\"] +=((df_fiscr_2010_to_2014.ZSALM_2011>53000) & (df_fiscr_2010_to_2014.ZSALM_2011<76000) \n",
    "&(df_fiscr_2010_to_2014.TYPMEN9_2011.isin([43])))"
   ]
  },
  {
   "cell_type": "code",
   "execution_count": null,
   "metadata": {},
   "outputs": [],
   "source": [
    "df_fiscr_2010_to_2014[\"Groupe_1\"] = df_fiscr_2010_to_2014.Groupe_1.astype('int', inplace = True)"
   ]
  },
  {
   "cell_type": "code",
   "execution_count": null,
   "metadata": {
    "collapsed": true
   },
   "outputs": [],
   "source": []
  },
  {
   "cell_type": "code",
   "execution_count": null,
   "metadata": {},
   "outputs": [],
   "source": [
    "df_fiscr_2010_to_2014[\"Groupe_2\"]=((df_fiscr_2010_to_2014.ZSALM_2011>41000)  &\n",
    "                                   (df_fiscr_2010_to_2014.TYPMEN9_2011.isin([41])))"
   ]
  },
  {
   "cell_type": "code",
   "execution_count": null,
   "metadata": {
    "collapsed": true
   },
   "outputs": [],
   "source": [
    "df_fiscr_2010_to_2014[\"Groupe_2\"] += ((df_fiscr_2010_to_2014.ZSALM_2011>52000) \n",
    "                                &(df_fiscr_2010_to_2014.TYPMEN9_2011.isin([42])))"
   ]
  },
  {
   "cell_type": "code",
   "execution_count": null,
   "metadata": {},
   "outputs": [],
   "source": [
    "df_fiscr_2010_to_2014[\"Groupe_2\"] +=((df_fiscr_2010_to_2014.ZSALM_2011>76000) \n",
    "&(df_fiscr_2010_to_2014.TYPMEN9_2011.isin([43])))"
   ]
  },
  {
   "cell_type": "code",
   "execution_count": null,
   "metadata": {
    "collapsed": true
   },
   "outputs": [],
   "source": [
    "df_fiscr_2010_to_2014[\"Groupe_2\"] = df_fiscr_2010_to_2014.Groupe_2.astype('int', inplace = True)"
   ]
  },
  {
   "cell_type": "code",
   "execution_count": null,
   "metadata": {
    "collapsed": true
   },
   "outputs": [],
   "source": []
  },
  {
   "cell_type": "code",
   "execution_count": null,
   "metadata": {},
   "outputs": [],
   "source": [
    "df_fiscr_2010_to_2014[\"Groupe_1_enfant\"]=((df_fiscr_2010_to_2014.ZSALM_2011>36000) & (df_fiscr_2010_to_2014.ZSALM_2011<41000) \n",
    "&(df_fiscr_2010_to_2014.TYPMEN9_2011.isin([41]))).astype('int', inplace = True)\n",
    "df_fiscr_2010_to_2014[\"Groupe_1_2_enfants\"] = ((df_fiscr_2010_to_2014.ZSALM_2011>41000) & (df_fiscr_2010_to_2014.ZSALM_2011<52000) \n",
    "&(df_fiscr_2010_to_2014.TYPMEN9_2011.isin([42]))).astype('int', inplace = True)\n",
    "df_fiscr_2010_to_2014[\"Groupe_1_3enfants\"] =((df_fiscr_2010_to_2014.ZSALM_2011>53000) & (df_fiscr_2010_to_2014.ZSALM_2011<76000) \n",
    "&(df_fiscr_2010_to_2014.TYPMEN9_2011.isin([43]))).astype('int', inplace = True)"
   ]
  },
  {
   "cell_type": "code",
   "execution_count": null,
   "metadata": {},
   "outputs": [],
   "source": [
    "df_fiscr_2010_to_2014[\"Groupe_2_1_enfant\"]=((df_fiscr_2010_to_2014.ZSALM_2011>41000)  &\n",
    "                                   (df_fiscr_2010_to_2014.TYPMEN9_2011.isin([41]))).astype('int', inplace = True)\n",
    "df_fiscr_2010_to_2014[\"Groupe_2_2enfants\"] =((df_fiscr_2010_to_2014.ZSALM_2011>52000) \n",
    "&(df_fiscr_2010_to_2014.TYPMEN9_2011.isin([42]))).astype('int', inplace = True)\n",
    "df_fiscr_2010_to_2014[\"Groupe_2_3enfants\"] =((df_fiscr_2010_to_2014.ZSALM_2011>76000) \n",
    "&(df_fiscr_2010_to_2014.TYPMEN9_2011.isin([43]))).astype('int', inplace = True)\n"
   ]
  },
  {
   "cell_type": "code",
   "execution_count": null,
   "metadata": {
    "collapsed": true
   },
   "outputs": [],
   "source": []
  },
  {
   "cell_type": "code",
   "execution_count": null,
   "metadata": {
    "collapsed": true
   },
   "outputs": [],
   "source": [
    "diff_income  =df_fiscr_2010_to_2014.ZSALM_2014- df_fiscr_2010_to_2014.ZSALM_2010"
   ]
  },
  {
   "cell_type": "markdown",
   "metadata": {},
   "source": [
    "### ON controle très rapidement pour les mêmes income brackets mais sans prendre en compte la structure du ménage"
   ]
  },
  {
   "cell_type": "code",
   "execution_count": null,
   "metadata": {
    "collapsed": true
   },
   "outputs": [],
   "source": [
    "df_fiscr_2010_to_2014[\"Control_group_1_child_bracket\"]=((df_fiscr_2010_to_2014.ZSALM_2011>36000) & (df_fiscr_2010_to_2014.ZSALM_2011<41000) \n",
    "&(df_fiscr_2010_to_2014.TYPMEN9_2011.isin([41,42,43])))"
   ]
  },
  {
   "cell_type": "code",
   "execution_count": null,
   "metadata": {},
   "outputs": [],
   "source": [
    "((df_fiscr_2010_to_2014.ZSALM_2011>36000) & (df_fiscr_2010_to_2014.ZSALM_2011<41000) \n",
    "&(df_fiscr_2010_to_2014.TYPMEN9_2011.isin([41]))).value_counts()"
   ]
  },
  {
   "cell_type": "code",
   "execution_count": null,
   "metadata": {
    "collapsed": true
   },
   "outputs": [],
   "source": [
    "df_fiscr_2010_to_2014[\"Control_group_2_child_bracket\"]= ((df_fiscr_2010_to_2014.ZSALM_2011>41000) & (df_fiscr_2010_to_2014.ZSALM_2011<52000) \n",
    "&(df_fiscr_2010_to_2014.TYPMEN9_2011.isin([41,42,43])))"
   ]
  },
  {
   "cell_type": "code",
   "execution_count": null,
   "metadata": {
    "collapsed": true
   },
   "outputs": [],
   "source": [
    "df_fiscr_2010_to_2014[\"Control_group_3_child_bracket\"]=((df_fiscr_2010_to_2014.ZSALM_2011>53000) & (df_fiscr_2010_to_2014.ZSALM_2011<76000) \n",
    "&(df_fiscr_2010_to_2014.TYPMEN9_2011.isin([43])))"
   ]
  },
  {
   "cell_type": "code",
   "execution_count": null,
   "metadata": {
    "collapsed": true
   },
   "outputs": [],
   "source": []
  },
  {
   "cell_type": "code",
   "execution_count": null,
   "metadata": {
    "collapsed": true
   },
   "outputs": [],
   "source": [
    "df_fiscr_2010_to_2014[\"Control_group_over_1_child_bracket\"]=((df_fiscr_2010_to_2014.ZSALM_2011>41000) \n",
    "&(df_fiscr_2010_to_2014.TYPMEN9_2011.isin([41,42,43])))\n",
    "df_fiscr_2010_to_2014[\"Control_group_over_2_child_bracket\"]=((df_fiscr_2010_to_2014.ZSALM_2011>52000) \n",
    "&(df_fiscr_2010_to_2014.TYPMEN9_2011.isin([41,42,43])))\n",
    "df_fiscr_2010_to_2014[\"Control_group_over_3_child_bracket\"]=((df_fiscr_2010_to_2014.ZSALM_2011>76000) \n",
    "&(df_fiscr_2010_to_2014.TYPMEN9_2011.isin([41,42,43])))"
   ]
  },
  {
   "cell_type": "code",
   "execution_count": null,
   "metadata": {
    "collapsed": true
   },
   "outputs": [],
   "source": []
  },
  {
   "cell_type": "code",
   "execution_count": null,
   "metadata": {
    "collapsed": true
   },
   "outputs": [],
   "source": [
    "df_fiscr_2010_to_2014[\"Net_Control_group_over_1_child_bracket\"]=((df_fiscr_2010_to_2014.ZSALM_2011>41000) \n",
    "&(df_fiscr_2010_to_2014.TYPMEN9_2011.isin([42,43])))\n",
    "df_fiscr_2010_to_2014[\"Net_Control_group_over_2_child_bracket\"]=((df_fiscr_2010_to_2014.ZSALM_2011>52000) \n",
    "&(df_fiscr_2010_to_2014.TYPMEN9_2011.isin([41,43])))\n",
    "df_fiscr_2010_to_2014[\"Net_Control_group_over_3_child_bracket\"]=((df_fiscr_2010_to_2014.ZSALM_2011>76000) \n",
    "&(df_fiscr_2010_to_2014.TYPMEN9_2011.isin([41,42])))"
   ]
  },
  {
   "cell_type": "code",
   "execution_count": null,
   "metadata": {
    "collapsed": true
   },
   "outputs": [],
   "source": []
  },
  {
   "cell_type": "code",
   "execution_count": null,
   "metadata": {
    "collapsed": true
   },
   "outputs": [],
   "source": []
  },
  {
   "cell_type": "code",
   "execution_count": null,
   "metadata": {
    "collapsed": true
   },
   "outputs": [],
   "source": []
  },
  {
   "cell_type": "code",
   "execution_count": null,
   "metadata": {
    "collapsed": true
   },
   "outputs": [],
   "source": []
  },
  {
   "cell_type": "code",
   "execution_count": null,
   "metadata": {
    "collapsed": true
   },
   "outputs": [],
   "source": [
    "df_fiscr_2010_to_2014[\"Ctrl_grp_1\"] = df_fiscr_2010_to_2014.Control_group_1_child_bracket.astype('float', inplace = True)\n",
    "df_fiscr_2010_to_2014[\"Ctrl_grp_2\"] = df_fiscr_2010_to_2014.Control_group_2_child_bracket.astype('float', inplace = True)\n",
    "df_fiscr_2010_to_2014[\"Ctrl_grp_3\"] = df_fiscr_2010_to_2014.Control_group_3_child_bracket.astype('float', inplace = True)"
   ]
  },
  {
   "cell_type": "code",
   "execution_count": null,
   "metadata": {
    "collapsed": true
   },
   "outputs": [],
   "source": [
    "df_fiscr_2010_to_2014[\"Ctrl_over_grp_1\"] = df_fiscr_2010_to_2014.Control_group_over_1_child_bracket.astype('float', inplace = True)\n",
    "df_fiscr_2010_to_2014[\"Ctrl_over_grp_2\"] = df_fiscr_2010_to_2014.Control_group_over_2_child_bracket.astype('float', inplace = True)\n",
    "df_fiscr_2010_to_2014[\"Ctrl_over_grp_3\"] = df_fiscr_2010_to_2014.Control_group_over_3_child_bracket.astype('float', inplace = True)"
   ]
  },
  {
   "cell_type": "code",
   "execution_count": null,
   "metadata": {
    "collapsed": true
   },
   "outputs": [],
   "source": [
    "df_fiscr_2010_to_2014[\"Net_Ctrl_over_grp_1\"] = df_fiscr_2010_to_2014.Net_Control_group_over_1_child_bracket.astype('float', inplace = True)\n",
    "df_fiscr_2010_to_2014[\"Net_Ctrl_over_grp_2\"] = df_fiscr_2010_to_2014.Net_Control_group_over_2_child_bracket.astype('float', inplace = True)\n",
    "df_fiscr_2010_to_2014[\"Net_Ctrl_over_grp_3\"] = df_fiscr_2010_to_2014.Net_Control_group_over_3_child_bracket.astype('float', inplace = True)"
   ]
  },
  {
   "cell_type": "code",
   "execution_count": null,
   "metadata": {
    "collapsed": true
   },
   "outputs": [],
   "source": []
  },
  {
   "cell_type": "code",
   "execution_count": null,
   "metadata": {
    "collapsed": true
   },
   "outputs": [],
   "source": []
  },
  {
   "cell_type": "code",
   "execution_count": null,
   "metadata": {
    "collapsed": true
   },
   "outputs": [],
   "source": []
  },
  {
   "cell_type": "code",
   "execution_count": null,
   "metadata": {
    "collapsed": true
   },
   "outputs": [],
   "source": [
    "df_fiscr_2010_to_2014['Diff_income'] = df_fiscr_2010_to_2014.ZSALM_2014- df_fiscr_2010_to_2014.ZSALM_2010"
   ]
  },
  {
   "cell_type": "code",
   "execution_count": null,
   "metadata": {},
   "outputs": [],
   "source": [
    "df_fiscr_2010_to_2014['Comp_fam_1enf'] = df_fiscr_2010_to_2014.TYPMEN9_2011.isin([41]).astype('float', inplace = True)\n",
    "df_fiscr_2010_to_2014['Comp_fam_2enf'] = df_fiscr_2010_to_2014.TYPMEN9_2011.isin([42]).astype('float', inplace = True)\n",
    "df_fiscr_2010_to_2014['Comp_fam_3enf'] = df_fiscr_2010_to_2014.TYPMEN9_2011.isin([43]).astype('float', inplace = True)"
   ]
  },
  {
   "cell_type": "code",
   "execution_count": null,
   "metadata": {},
   "outputs": [],
   "source": [
    "df_fiscr_2010_to_2014['Comp_fam_1enf'].value_counts(dropna = False)"
   ]
  },
  {
   "cell_type": "code",
   "execution_count": null,
   "metadata": {},
   "outputs": [],
   "source": [
    "df_fiscr_2010_to_2014['Comp_fam_1enf'].value_counts(dropna = False)"
   ]
  },
  {
   "cell_type": "markdown",
   "metadata": {},
   "source": [
    "Variables d'interation"
   ]
  },
  {
   "cell_type": "code",
   "execution_count": null,
   "metadata": {},
   "outputs": [],
   "source": [
    "df_fiscr_2010_to_2014[\"Ctrl_grp_1_times_grp1\"] = df_fiscr_2010_to_2014[\"Ctrl_grp_1\"]* df_fiscr_2010_to_2014[\"Groupe_1\"]\n",
    "df_fiscr_2010_to_2014[\"Ctrl_grp_2_times_grp1\"] = df_fiscr_2010_to_2014[\"Ctrl_grp_2\"] * df_fiscr_2010_to_2014[\"Groupe_1\"]\n",
    "df_fiscr_2010_to_2014[\"Ctrl_grp_3_times_grp1\"] = df_fiscr_2010_to_2014[\"Ctrl_grp_3\"] *  df_fiscr_2010_to_2014[\"Groupe_1\"]\n",
    "\n",
    "\n",
    "### de la merde\n",
    "df_fiscr_2010_to_2014[\"Ctrl_grp_1_times_grp1_child1\"] = (df_fiscr_2010_to_2014[\"Ctrl_grp_1\"]* \n",
    "                                                         df_fiscr_2010_to_2014[\"Groupe_1\"] * df_fiscr_2010_to_2014['Comp_fam_1enf'])\n",
    "df_fiscr_2010_to_2014[\"Ctrl_grp_2_times_grp1_child2\"] = (df_fiscr_2010_to_2014[\"Ctrl_grp_2\"]\n",
    "                                                  * df_fiscr_2010_to_2014[\"Groupe_2\"] * df_fiscr_2010_to_2014['Comp_fam_2enf'])\n",
    "df_fiscr_2010_to_2014[\"Ctrl_grp_2_times_grp1_child3\"] = (df_fiscr_2010_to_2014[\"Ctrl_grp_3\"] *  df_fiscr_2010_to_2014[\"Groupe_2\"]\n",
    "                                                * df_fiscr_2010_to_2014['Comp_fam_3enf'])\n",
    "\n",
    "#########\n",
    "\n",
    "df_fiscr_2010_to_2014[\"Ctrl_grp_1_not_treated\"] = (df_fiscr_2010_to_2014[\"Ctrl_grp_1\"]) *  (~df_fiscr_2010_to_2014[\"Groupe_1\"])\n",
    "df_fiscr_2010_to_2014[\"Ctrl_grp_2_not_treated\"] = (df_fiscr_2010_to_2014[\"Ctrl_grp_2\"]) *  (~df_fiscr_2010_to_2014[\"Groupe_1\"])\n",
    "df_fiscr_2010_to_2014[\"Ctrl_grp_3_not_treated\"] = (df_fiscr_2010_to_2014[\"Ctrl_grp_3\"])  * (~df_fiscr_2010_to_2014[\"Groupe_1\"])\n",
    "\n",
    "\n",
    "\n",
    "df_fiscr_2010_to_2014[\"Ctrl_grp_1_not_treated\"] = (df_fiscr_2010_to_2014[\"Ctrl_grp_1\"]) *  (~df_fiscr_2010_to_2014[\"Groupe_1\"])\n",
    "df_fiscr_2010_to_2014[\"Ctrl_grp_2_not_treated\"] = (df_fiscr_2010_to_2014[\"Ctrl_grp_2\"]) *  (~df_fiscr_2010_to_2014[\"Groupe_1\"])\n",
    "df_fiscr_2010_to_2014[\"Ctrl_grp_3_not_treated\"] = (df_fiscr_2010_to_2014[\"Ctrl_grp_3\"])  * (~df_fiscr_2010_to_2014[\"Groupe_1\"])\n",
    "\n",
    "\n",
    "\n",
    "df_fiscr_2010_to_2014[\"Ctrl_2child_not_treated2\"] = (df_fiscr_2010_to_2014[\"Ctrl_grp_1\"]) *  (~df_fiscr_2010_to_2014[\"Groupe_2\"])\n",
    "df_fiscr_2010_to_2014[\"Ctrl_3_not_treated2\"] = (df_fiscr_2010_to_2014[\"Ctrl_grp_2\"]) *  (~df_fiscr_2010_to_2014[\"Groupe_2\"])\n",
    "df_fiscr_2010_to_2014[\"Ctrl_grp_3_not_treated2\"] = (df_fiscr_2010_to_2014[\"Ctrl_grp_3\"])  * (~df_fiscr_2010_to_2014[\"Groupe_2\"])\n"
   ]
  },
  {
   "cell_type": "code",
   "execution_count": null,
   "metadata": {},
   "outputs": [],
   "source": [
    "df_fiscr_2010_to_2014[\"Ctrl_grp_1_times_grp1\"].value_counts()"
   ]
  },
  {
   "cell_type": "code",
   "execution_count": null,
   "metadata": {},
   "outputs": [],
   "source": [
    "df_fiscr_2010_to_2014[\"Ctrl_grp_2_times_grp1_child2\"].value_counts()"
   ]
  },
  {
   "cell_type": "code",
   "execution_count": null,
   "metadata": {
    "collapsed": true
   },
   "outputs": [],
   "source": []
  },
  {
   "cell_type": "markdown",
   "metadata": {},
   "source": []
  },
  {
   "cell_type": "code",
   "execution_count": null,
   "metadata": {
    "collapsed": true
   },
   "outputs": [],
   "source": [
    "#Fake groups for robustness check\n",
    "df_fiscr_2010_to_2014[\"Control_group_1_child_bracket\"]=((df_fiscr_2010_to_2014.ZSALM_2011>36000) & (df_fiscr_2010_to_2014.ZSALM_2011<41000) \n",
    "&(df_fiscr_2010_to_2014.TYPMEN9_2011.isin([41,42,43])))\n",
    "\n",
    "\n",
    "df_fiscr_2010_to_2014[\"Control_group_2_child_bracket\"]= ((df_fiscr_2010_to_2014.ZSALM_2011>41000) & (df_fiscr_2010_to_2014.ZSALM_2011<52000) \n",
    "&(df_fiscr_2010_to_2014.TYPMEN9_2011.isin([41,42,43])))\n",
    "\n",
    "df_fiscr_2010_to_2014[\"Control_group_3_child_bracket\"]=((df_fiscr_2010_to_2014.ZSALM_2011>53000) & (df_fiscr_2010_to_2014.ZSALM_2011<76000) \n",
    "&(df_fiscr_2010_to_2014.TYPMEN9_2011.isin([43])))\n",
    "\n",
    "df_fiscr_2010_to_2014[\"Control_group_over_1_child_bracket\"]=((df_fiscr_2010_to_2014.ZSALM_2011>41000) \n",
    "&(df_fiscr_2010_to_2014.TYPMEN9_2011.isin([41,42,43])))\n",
    "df_fiscr_2010_to_2014[\"Control_group_over_2_child_bracket\"]=((df_fiscr_2010_to_2014.ZSALM_2011>52000) \n",
    "&(df_fiscr_2010_to_2014.TYPMEN9_2011.isin([41,42,43])))\n",
    "df_fiscr_2010_to_2014[\"Control_group_over_3_child_bracket\"]=((df_fiscr_2010_to_2014.ZSALM_2011>76000) \n",
    "&(df_fiscr_2010_to_2014.TYPMEN9_2011.isin([41,42,43])))\n",
    "\n",
    "\n",
    "df_fiscr_2010_to_2014[\"Net_Control_group_over_1_child_bracket\"]=((df_fiscr_2010_to_2014.ZSALM_2011>41000) \n",
    "&(df_fiscr_2010_to_2014.TYPMEN9_2011.isin([42,43])))\n",
    "df_fiscr_2010_to_2014[\"Net_Control_group_over_2_child_bracket\"]=((df_fiscr_2010_to_2014.ZSALM_2011>52000) \n",
    "&(df_fiscr_2010_to_2014.TYPMEN9_2011.isin([41,43])))\n",
    "df_fiscr_2010_to_2014[\"Net_Control_group_over_3_child_bracket\"]=((df_fiscr_2010_to_2014.ZSALM_2011>76000) \n",
    "&(df_fiscr_2010_to_2014.TYPMEN9_2011.isin([41,42])))\n",
    "\n",
    "df_fiscr_2010_to_2014[\"Ctrl_grp_1\"] = df_fiscr_2010_to_2014.Control_group_1_child_bracket.astype('float', inplace = True)\n",
    "df_fiscr_2010_to_2014[\"Ctrl_grp_2\"] = df_fiscr_2010_to_2014.Control_group_2_child_bracket.astype('float', inplace = True)\n",
    "df_fiscr_2010_to_2014[\"Ctrl_grp_3\"] = df_fiscr_2010_to_2014.Control_group_3_child_bracket.astype('float', inplace = True)\n",
    "\n",
    "df_fiscr_2010_to_2014[\"Ctrl_over_grp_1\"] = df_fiscr_2010_to_2014.Control_group_over_1_child_bracket.astype('float', inplace = True)\n",
    "df_fiscr_2010_to_2014[\"Ctrl_over_grp_2\"] = df_fiscr_2010_to_2014.Control_group_over_2_child_bracket.astype('float', inplace = True)\n",
    "df_fiscr_2010_to_2014[\"Ctrl_over_grp_3\"] = df_fiscr_2010_to_2014.Control_group_over_3_child_bracket.astype('float', inplace = True)\n",
    "\n",
    "df_fiscr_2010_to_2014[\"Net_Ctrl_over_grp_1\"] = df_fiscr_2010_to_2014.Net_Control_group_over_1_child_bracket.astype('float', inplace = True)\n",
    "df_fiscr_2010_to_2014[\"Net_Ctrl_over_grp_2\"] = df_fiscr_2010_to_2014.Net_Control_group_over_2_child_bracket.astype('float', inplace = True)\n",
    "df_fiscr_2010_to_2014[\"Net_Ctrl_over_grp_3\"] = df_fiscr_2010_to_2014.Net_Control_group_over_3_child_bracket.astype('float', inplace = True)\n",
    "\n",
    "\n",
    "df_fiscr_2010_to_2014[\"Ctrl_grp_1_times_grp1\"] = df_fiscr_2010_to_2014[\"Ctrl_grp_1\"]* df_fiscr_2010_to_2014[\"Groupe_1\"]\n",
    "df_fiscr_2010_to_2014[\"Ctrl_grp_2_times_grp1\"] = df_fiscr_2010_to_2014[\"Ctrl_grp_2\"] * df_fiscr_2010_to_2014[\"Groupe_1\"]\n",
    "df_fiscr_2010_to_2014[\"Ctrl_grp_3_times_grp1\"] = df_fiscr_2010_to_2014[\"Ctrl_grp_3\"] *  df_fiscr_2010_to_2014[\"Groupe_1\"]\n",
    "\n",
    "\n",
    "### de la merde\n",
    "df_fiscr_2010_to_2014[\"Ctrl_grp_1_times_grp1_child1\"] = (df_fiscr_2010_to_2014[\"Ctrl_grp_1\"]* \n",
    "                                                         df_fiscr_2010_to_2014[\"Groupe_1\"] * df_fiscr_2010_to_2014['Comp_fam_1enf'])\n",
    "df_fiscr_2010_to_2014[\"Ctrl_grp_2_times_grp1_child2\"] = (df_fiscr_2010_to_2014[\"Ctrl_grp_2\"]\n",
    "                                                  * df_fiscr_2010_to_2014[\"Groupe_2\"] * df_fiscr_2010_to_2014['Comp_fam_2enf'])\n",
    "df_fiscr_2010_to_2014[\"Ctrl_grp_2_times_grp1_child3\"] = (df_fiscr_2010_to_2014[\"Ctrl_grp_3\"] *  df_fiscr_2010_to_2014[\"Groupe_2\"]\n",
    "                                                * df_fiscr_2010_to_2014['Comp_fam_3enf'])\n",
    "\n",
    "#########\n",
    "\n",
    "df_fiscr_2010_to_2014[\"Ctrl_grp_1_not_treated\"] = (df_fiscr_2010_to_2014[\"Ctrl_grp_1\"]) *  (~df_fiscr_2010_to_2014[\"Groupe_1\"])\n",
    "df_fiscr_2010_to_2014[\"Ctrl_grp_2_not_treated\"] = (df_fiscr_2010_to_2014[\"Ctrl_grp_2\"]) *  (~df_fiscr_2010_to_2014[\"Groupe_1\"])\n",
    "df_fiscr_2010_to_2014[\"Ctrl_grp_3_not_treated\"] = (df_fiscr_2010_to_2014[\"Ctrl_grp_3\"])  * (~df_fiscr_2010_to_2014[\"Groupe_1\"])\n",
    "\n",
    "\n",
    "\n",
    "df_fiscr_2010_to_2014[\"Ctrl_grp_1_not_treated\"] = (df_fiscr_2010_to_2014[\"Ctrl_grp_1\"]) *  (~df_fiscr_2010_to_2014[\"Groupe_1\"])\n",
    "df_fiscr_2010_to_2014[\"Ctrl_grp_2_not_treated\"] = (df_fiscr_2010_to_2014[\"Ctrl_grp_2\"]) *  (~df_fiscr_2010_to_2014[\"Groupe_1\"])\n",
    "df_fiscr_2010_to_2014[\"Ctrl_grp_3_not_treated\"] = (df_fiscr_2010_to_2014[\"Ctrl_grp_3\"])  * (~df_fiscr_2010_to_2014[\"Groupe_1\"])\n",
    "\n",
    "\n",
    "\n",
    "df_fiscr_2010_to_2014[\"Ctrl_2child_not_treated2\"] = (df_fiscr_2010_to_2014[\"Ctrl_grp_1\"]) *  (~df_fiscr_2010_to_2014[\"Groupe_2\"])\n",
    "df_fiscr_2010_to_2014[\"Ctrl_3_not_treated2\"] = (df_fiscr_2010_to_2014[\"Ctrl_grp_2\"]) *  (~df_fiscr_2010_to_2014[\"Groupe_2\"])\n",
    "df_fiscr_2010_to_2014[\"Ctrl_grp_3_not_treated2\"] = (df_fiscr_2010_to_2014[\"Ctrl_grp_3\"])  * (~df_fiscr_2010_to_2014[\"Groupe_2\"])\n"
   ]
  },
  {
   "cell_type": "code",
   "execution_count": null,
   "metadata": {
    "collapsed": true
   },
   "outputs": [],
   "source": []
  },
  {
   "cell_type": "code",
   "execution_count": null,
   "metadata": {
    "collapsed": true
   },
   "outputs": [],
   "source": []
  },
  {
   "cell_type": "code",
   "execution_count": null,
   "metadata": {
    "collapsed": true
   },
   "outputs": [],
   "source": []
  },
  {
   "cell_type": "code",
   "execution_count": null,
   "metadata": {
    "collapsed": true
   },
   "outputs": [],
   "source": [
    "reaction_store_path = 'C:/Users/IMPTEMP_A_PACIFIC/Desktop/EDP_2015/Data/hdf/reaction.h5'"
   ]
  },
  {
   "cell_type": "code",
   "execution_count": null,
   "metadata": {},
   "outputs": [],
   "source": [
    "%%time\n",
    "df_fiscr_2010_to_2014.to_hdf(reaction_store_path, 'reaction_fiscr')"
   ]
  },
  {
   "cell_type": "code",
   "execution_count": null,
   "metadata": {
    "collapsed": true
   },
   "outputs": [],
   "source": [
    "df_fiscr_2010_to_2014 = pd.read_hdf(reaction_store_path,  'reaction_fiscr' )"
   ]
  },
  {
   "cell_type": "markdown",
   "metadata": {},
   "source": [
    "On selectionne que les menages traites"
   ]
  },
  {
   "cell_type": "code",
   "execution_count": null,
   "metadata": {},
   "outputs": [],
   "source": [
    "%%time\n",
    "df_selct = df_fiscr_2010_to_2014.iloc[0:100000][(df_fiscr_2010_to_2014.iloc[0:100000].TYPMEN9_2011.isin([41,42,43]))]"
   ]
  },
  {
   "cell_type": "code",
   "execution_count": null,
   "metadata": {},
   "outputs": [],
   "source": [
    "%%time\n",
    "df_selct = df_fiscr_2010_to_2014.iloc[0:100000][(df_fiscr_2010_to_2014.iloc[0:100000].TYPMEN9_2011.isin([41,42,43]))]"
   ]
  },
  {
   "cell_type": "code",
   "execution_count": null,
   "metadata": {},
   "outputs": [],
   "source": [
    "%%time\n",
    "df_selct = df_fiscr_2010_to_2014.iloc[0:100000].loc[(df_fiscr_2010_to_2014.iloc[0:100000].TYPMEN9_2011.isin([41,42,43]))]"
   ]
  },
  {
   "cell_type": "code",
   "execution_count": null,
   "metadata": {},
   "outputs": [],
   "source": [
    "%%time\n",
    "df_selct = df_fiscr_2010_to_2014.loc[(df_fiscr_2010_to_2014.TYPMEN9_2011.isin([41,42,43]))]\n",
    "df_selct = df_selct.loc[(df_selct.ZSALM_2011>0) & (df_selct.ZSALM_2014>0)]"
   ]
  },
  {
   "cell_type": "code",
   "execution_count": null,
   "metadata": {},
   "outputs": [],
   "source": [
    "%%time\n",
    "df_selct.to_hdf(reaction_store_path, 'fisci_fiscr_2010_2014')"
   ]
  },
  {
   "cell_type": "code",
   "execution_count": null,
   "metadata": {},
   "outputs": [],
   "source": [
    "df_selct.shape"
   ]
  },
  {
   "cell_type": "code",
   "execution_count": null,
   "metadata": {
    "collapsed": true
   },
   "outputs": [],
   "source": []
  },
  {
   "cell_type": "code",
   "execution_count": null,
   "metadata": {
    "collapsed": true
   },
   "outputs": [],
   "source": [
    "df_fiscr_2010_to_2014 = pd.read_hdf(reaction_store_path,  'fisci_fiscr_2010_2014' )"
   ]
  },
  {
   "cell_type": "code",
   "execution_count": null,
   "metadata": {
    "collapsed": true
   },
   "outputs": [],
   "source": []
  },
  {
   "cell_type": "code",
   "execution_count": null,
   "metadata": {},
   "outputs": [],
   "source": [
    "%%time\n",
    "pd.stats.ols.OLS(df_selct['Diff_income'], df_selct[[\"Groupe_2\", \"Groupe_1\", ]\n",
    "                                                   + [\"Ctrl_grp_1\",\"Ctrl_grp_2\",\"Ctrl_grp_3\"]\n",
    "                                                    + [\"ZIMPOM_2014\"]\n",
    "                                                   +['Comp_fam_1enf', 'Comp_fam_2enf', 'Comp_fam_3enf',]\n",
    "                                                   ] )"
   ]
  },
  {
   "cell_type": "code",
   "execution_count": null,
   "metadata": {
    "collapsed": true
   },
   "outputs": [],
   "source": [
    "df_selct_2 = df_selct.loc[df_selct.ZSALM_2011>2000*12]"
   ]
  },
  {
   "cell_type": "code",
   "execution_count": null,
   "metadata": {
    "collapsed": true
   },
   "outputs": [],
   "source": [
    "import statsmodels.api as sm"
   ]
  },
  {
   "cell_type": "code",
   "execution_count": null,
   "metadata": {
    "collapsed": true
   },
   "outputs": [],
   "source": [
    "import statsmodels.formula as statformula"
   ]
  },
  {
   "cell_type": "code",
   "execution_count": null,
   "metadata": {},
   "outputs": [],
   "source": [
    "X =  df_selct_2[[\"Groupe_2\", \"Groupe_1\",]\n",
    "                                                   + [\"Ctrl_grp_1\",\"Ctrl_grp_2\",\"Ctrl_grp_3\"]\n",
    "                                                    + [\"ZIMPOM_2014\"]\n",
    "                                                   +['Comp_fam_1enf', 'Comp_fam_2enf', 'Comp_fam_3enf']\n",
    "                                                   ]\n",
    "X = sm.add_constant(X)\n",
    "hello = statformula.api.OLS(df_selct_2['Diff_income'], X)\n",
    "hello = hello.fit()\n",
    "hello.summary()"
   ]
  },
  {
   "cell_type": "code",
   "execution_count": null,
   "metadata": {},
   "outputs": [],
   "source": [
    "summary =  hello.summary()"
   ]
  },
  {
   "cell_type": "code",
   "execution_count": null,
   "metadata": {},
   "outputs": [],
   "source": [
    "table = summary.tables[1]"
   ]
  },
  {
   "cell_type": "code",
   "execution_count": null,
   "metadata": {},
   "outputs": [],
   "source": [
    "table.data[3] = ['Groupe_18LOL',\n",
    " '  691.1210',\n",
    " '  149.856',\n",
    " '    4.612',\n",
    " ' 0.000',\n",
    " '  397.407   984.835']"
   ]
  },
  {
   "cell_type": "code",
   "execution_count": null,
   "metadata": {},
   "outputs": [],
   "source": [
    "statformula.api.OLS()"
   ]
  },
  {
   "cell_type": "code",
   "execution_count": null,
   "metadata": {},
   "outputs": [],
   "source": [
    "X =  df_selct_2[[\"Groupe_2\", \"Groupe_1\",]\n",
    "                                                  # + [\"Ctrl_grp_1\",\"Ctrl_grp_2\",\"Ctrl_grp_3\"]\n",
    "                                                    +  [\"Ctrl_grp_1_not_treated\",\"Ctrl_grp_2_not_treated\",\"Ctrl_grp_3_not_treated\"]\n",
    "                                                    + [\"ZIMPOM_2014\"]\n",
    "                                                   +['Comp_fam_1enf', 'Comp_fam_2enf', 'Comp_fam_3enf']\n",
    "                                                   ]\n",
    "X = sm.add_constant(X)\n",
    "hello = statformula.api.OLS(df_selct_2['Diff_income'], X)\n",
    "hello = hello.fit()\n",
    "hello.summary()"
   ]
  },
  {
   "cell_type": "code",
   "execution_count": null,
   "metadata": {
    "collapsed": true
   },
   "outputs": [],
   "source": [
    "df_selct_2['not_\"Ctrl_grp_1_times_grp1_child1'] = np.abs(df_selct_2['\"Ctrl_grp_1_times_grp1_child1\"']-1)"
   ]
  },
  {
   "cell_type": "code",
   "execution_count": null,
   "metadata": {},
   "outputs": [],
   "source": [
    "X =  df_selct_2[[\"Groupe_2\", \"Groupe_1\",]\n",
    "                                                   + [\"Ctrl_grp_1\",\"Ctrl_grp_2\",\"Ctrl_grp_3\"]\n",
    "                                                    + [ \"Ctrl_grp_2_times_grp1_child2\",\n",
    "                                                       'Ctrl_grp_2_times_grp1_child3']\n",
    "                                                    + [\"ZIMPOM_2014\"]\n",
    "                                                   +['Comp_fam_1enf', 'Comp_fam_2enf', 'Comp_fam_3enf']\n",
    "                                                   ]\n",
    "X = sm.add_constant(X)\n",
    "hello = statformula.api.OLS(df_selct_2['Diff_income'], X)\n",
    "hello = hello.fit()\n",
    "hello.summary()"
   ]
  },
  {
   "cell_type": "code",
   "execution_count": null,
   "metadata": {},
   "outputs": [],
   "source": [
    "X =  df_selct_2[[\"Groupe_2\", \"Groupe_1\",]\n",
    "                                                   + [\"Ctrl_grp_1\",\"Ctrl_grp_2\",\"Ctrl_grp_3\"]\n",
    "                                                    + [ \"Ctrl_grp_1_not_treated\", \"Ctrl_grp_2_not_treated\"\n",
    "                                                       'Ctrl_grp_3_not_treated']\n",
    "                                                    + [\"ZIMPOM_2014\"]\n",
    "                                                   +['Comp_fam_1enf', 'Comp_fam_2enf', 'Comp_fam_3enf']\n",
    "                                                   ]\n",
    "X = sm.add_constant(X)\n",
    "hello = statformula.api.OLS(df_selct_2['Diff_income'], X)\n",
    "hello = hello.fit()\n",
    "hello.summary()"
   ]
  },
  {
   "cell_type": "code",
   "execution_count": null,
   "metadata": {},
   "outputs": [],
   "source": [
    "X =  df_selct_2[[\"Groupe_2\", \"Groupe_1\",]\n",
    "                                                   #+ [\"Ctrl_grp_1\",\"Ctrl_grp_2\",\"Ctrl_grp_3\"]\n",
    "                                                    + [ \"Ctrl_grp_1_not_treated\", \"Ctrl_grp_2_not_treated\"\n",
    "                                                       'Ctrl_grp_3_not_treated']\n",
    "                                                    + [\"ZIMPOM_2014\"]\n",
    "                                                   +['Comp_fam_1enf', 'Comp_fam_2enf', 'Comp_fam_3enf']\n",
    "                                                   ]\n",
    "X = sm.add_constant(X)\n",
    "hello = statformula.api.OLS(df_selct_2['Diff_income'], X)\n",
    "hello = hello.fit()\n",
    "hello.summary()"
   ]
  },
  {
   "cell_type": "code",
   "execution_count": null,
   "metadata": {},
   "outputs": [],
   "source": [
    "df_selct_2.Groupe_1_3enfants"
   ]
  },
  {
   "cell_type": "code",
   "execution_count": null,
   "metadata": {},
   "outputs": [],
   "source": [
    "X =  df_selct_2[[\"Groupe_2_1_enfant\", \"Groupe_2_2enfants\",\"Groupe_2_3enfants\"]\n",
    "                +['Groupe_1_enfant','Groupe_1_2_enfants','Groupe_1_3enfants']\n",
    "                                                   + [\"Ctrl_grp_1\",\"Ctrl_grp_2\",\"Ctrl_grp_3\"]\n",
    "                                                    + [\"ZIMPOM_2014\"]\n",
    "                                                   +['Comp_fam_1enf', 'Comp_fam_2enf', 'Comp_fam_3enf']\n",
    "                                                   ]\n",
    "X = sm.add_constant(X)\n",
    "hello = statformula.api.OLS(df_selct_2['Diff_income'], X)\n",
    "hello = hello.fit()\n",
    "hello.summary()"
   ]
  },
  {
   "cell_type": "code",
   "execution_count": null,
   "metadata": {},
   "outputs": [],
   "source": []
  },
  {
   "cell_type": "code",
   "execution_count": null,
   "metadata": {},
   "outputs": [],
   "source": []
  },
  {
   "cell_type": "code",
   "execution_count": null,
   "metadata": {},
   "outputs": [],
   "source": []
  },
  {
   "cell_type": "code",
   "execution_count": null,
   "metadata": {
    "collapsed": true
   },
   "outputs": [],
   "source": []
  },
  {
   "cell_type": "code",
   "execution_count": null,
   "metadata": {},
   "outputs": [],
   "source": [
    "%%time\n",
    "pd.stats.ols.OLS(df_selct_2['Diff_income'], df_selct_2[[\"Groupe_2\", \"Groupe_1\", \"ZSALM_2011\", \"ZSALM_2014\"]\n",
    "                                                   + [\"Ctrl_grp_1\",\"Ctrl_grp_2\",\"Ctrl_grp_3\"]\n",
    "                                                    + [\"ZIMPOM_2014\"]\n",
    "                                                   +['Comp_fam_1enf', 'Comp_fam_2enf', 'Comp_fam_3enf']\n",
    "                                                   ] )"
   ]
  },
  {
   "cell_type": "code",
   "execution_count": null,
   "metadata": {},
   "outputs": [],
   "source": [
    "%%time\n",
    "pd.stats.ols.OLS(df_selct_2['ZSALM_2014'], df_selct_2[[\"Groupe_2\", \"Groupe_1\", \"ZSALM_2011\"]\n",
    "                                                   + [\"Ctrl_grp_1\",\"Ctrl_grp_2\",\"Ctrl_grp_3\"]\n",
    "                                                    + [\"ZIMPOM_2014\"]\n",
    "                                                   +['Comp_fam_1enf', 'Comp_fam_2enf', 'Comp_fam_3enf']\n",
    "                                                   ] )"
   ]
  },
  {
   "cell_type": "code",
   "execution_count": null,
   "metadata": {},
   "outputs": [],
   "source": [
    "df_selct.Comp_fam_1enf.value_counts()"
   ]
  },
  {
   "cell_type": "code",
   "execution_count": null,
   "metadata": {
    "collapsed": true
   },
   "outputs": [],
   "source": []
  },
  {
   "cell_type": "code",
   "execution_count": null,
   "metadata": {
    "collapsed": true
   },
   "outputs": [],
   "source": []
  },
  {
   "cell_type": "code",
   "execution_count": null,
   "metadata": {
    "collapsed": true
   },
   "outputs": [],
   "source": []
  },
  {
   "cell_type": "code",
   "execution_count": null,
   "metadata": {
    "collapsed": true
   },
   "outputs": [],
   "source": []
  },
  {
   "cell_type": "code",
   "execution_count": null,
   "metadata": {
    "collapsed": true
   },
   "outputs": [],
   "source": []
  },
  {
   "cell_type": "code",
   "execution_count": null,
   "metadata": {},
   "outputs": [],
   "source": [
    "pd.stats.ols.OLS(df_selct['ZSALM_2014']/df_selct['ZSALM_2011'],\n",
    "                df_selct[[\"Groupe_2\", \"Groupe_1\", \"ZSALM_2011\", \"ZSALM_2014\"]\n",
    "                                                   + [\"Ctrl_grp_1\",\"Ctrl_grp_2\",\"Ctrl_grp_3\"]\n",
    "                                                    + [\"ZIMPOM_2014\"]\n",
    "                                                   +['Comp_fam_1enf', 'Comp_fam_2enf', 'Comp_fam_3enf']\n",
    "                                                   ] )"
   ]
  },
  {
   "cell_type": "code",
   "execution_count": null,
   "metadata": {},
   "outputs": [],
   "source": [
    "pd.stats.ols.OLS(diff_income, df_fiscr_2010_to_2014[[\"Groupe_2\", \"Groupe_1\", \"ZSALM_2011\", \"ZSALM_2014\"]\n",
    "                                                   + [\"Ctrl_grp_1\",\"Ctrl_grp_2\",\"Ctrl_grp_3\"]\n",
    "                                                    + [\"ZIMPOM_2014\"]\n",
    "                                                   ] )"
   ]
  },
  {
   "cell_type": "code",
   "execution_count": null,
   "metadata": {},
   "outputs": [],
   "source": [
    "pd.stats.ols.OLS(diff_income, df_fiscr_2010_to_2014[[\"Groupe_2\", \"Groupe_1\", \"ZSALM_2011\", \"ZSALM_2014\"]] )"
   ]
  },
  {
   "cell_type": "code",
   "execution_count": null,
   "metadata": {},
   "outputs": [],
   "source": [
    "pd.stats.ols.OLS(diff_income, df_fiscr_2010_to_2014[[\"Groupe_2\", \"Groupe_1\", \"ZSALM_2014\"]] )"
   ]
  },
  {
   "cell_type": "code",
   "execution_count": null,
   "metadata": {},
   "outputs": [],
   "source": [
    "pd.stats.ols.OLS(pd.Series(diff_income.iloc[:50]), df_fiscr_2010_to_2014[[\"Groupe_2\", \"Groupe_1\"]].iloc[0:50] )"
   ]
  },
  {
   "cell_type": "code",
   "execution_count": null,
   "metadata": {},
   "outputs": [],
   "source": [
    "(diff_income.iloc[:50])"
   ]
  },
  {
   "cell_type": "code",
   "execution_count": null,
   "metadata": {
    "collapsed": true
   },
   "outputs": [],
   "source": []
  },
  {
   "cell_type": "code",
   "execution_count": null,
   "metadata": {},
   "outputs": [],
   "source": [
    "%%time\n",
    "df_panact = pd.read_hdf('C:/Users/IMPTEMP_A_PACIFIC/Desktop/EDP_2015/Data/hdf/dads','start_2005')"
   ]
  },
  {
   "cell_type": "code",
   "execution_count": null,
   "metadata": {},
   "outputs": [],
   "source": [
    "df_panact.head()"
   ]
  },
  {
   "cell_type": "code",
   "execution_count": null,
   "metadata": {},
   "outputs": [],
   "source": [
    "%%time\n",
    "df_panact[:500000].NBHEUR.plot(kind='hist', bins = 200)"
   ]
  },
  {
   "cell_type": "code",
   "execution_count": null,
   "metadata": {},
   "outputs": [],
   "source": [
    "df_panact.NETNETR.mean()/12"
   ]
  },
  {
   "cell_type": "code",
   "execution_count": null,
   "metadata": {},
   "outputs": [],
   "source": [
    "df_panact.head()"
   ]
  },
  {
   "cell_type": "code",
   "execution_count": null,
   "metadata": {
    "collapsed": true
   },
   "outputs": [],
   "source": [
    "df_fisci = load_fisc_i_by_year(2013);"
   ]
  },
  {
   "cell_type": "code",
   "execution_count": null,
   "metadata": {},
   "outputs": [],
   "source": [
    "print df_fisci.AN_FISC.value_counts()"
   ]
  },
  {
   "cell_type": "code",
   "execution_count": null,
   "metadata": {
    "collapsed": true
   },
   "outputs": [],
   "source": [
    "id_diff_fisci =  df_fisci.ID_DIFF.unique()"
   ]
  },
  {
   "cell_type": "code",
   "execution_count": null,
   "metadata": {
    "collapsed": true
   },
   "outputs": [],
   "source": [
    "id_diff_panact = df_panact.ID_DIFF.unique()"
   ]
  },
  {
   "cell_type": "code",
   "execution_count": null,
   "metadata": {},
   "outputs": [],
   "source": [
    "df_panact_2013 = df_panact[df_panact.AN == 2013]"
   ]
  },
  {
   "cell_type": "code",
   "execution_count": null,
   "metadata": {
    "collapsed": true
   },
   "outputs": [],
   "source": [
    "id_diff_panact_2013 = df_panact_2013.ID_DIFF.unique()"
   ]
  },
  {
   "cell_type": "code",
   "execution_count": null,
   "metadata": {
    "collapsed": true
   },
   "outputs": [],
   "source": [
    "#del df_panact"
   ]
  },
  {
   "cell_type": "code",
   "execution_count": null,
   "metadata": {},
   "outputs": [],
   "source": [
    "%time\n",
    "id_diff_panact = set(id_diff_panact)"
   ]
  },
  {
   "cell_type": "code",
   "execution_count": null,
   "metadata": {},
   "outputs": [],
   "source": [
    "%time\n",
    "id_diff_panact_2013 = set(id_diff_panact_2013)"
   ]
  },
  {
   "cell_type": "code",
   "execution_count": null,
   "metadata": {},
   "outputs": [],
   "source": [
    "%time\n",
    "id_diff_fisci = set(id_diff_fisci)"
   ]
  },
  {
   "cell_type": "code",
   "execution_count": null,
   "metadata": {},
   "outputs": [],
   "source": [
    "id_diff_intersect = id_diff_fisci.intersection(id_diff_panact)"
   ]
  },
  {
   "cell_type": "code",
   "execution_count": null,
   "metadata": {},
   "outputs": [],
   "source": [
    "len(id_diff_intersect)/10**6"
   ]
  },
  {
   "cell_type": "code",
   "execution_count": null,
   "metadata": {},
   "outputs": [],
   "source": [
    "id_diff_intersect_2013 = id_diff_fisci.intersection(id_diff_panact_2013)"
   ]
  },
  {
   "cell_type": "code",
   "execution_count": null,
   "metadata": {},
   "outputs": [],
   "source": [
    "len(id_diff_intersect_2013)/10**6"
   ]
  },
  {
   "cell_type": "code",
   "execution_count": null,
   "metadata": {},
   "outputs": [],
   "source": [
    "df_panact_2013.ID_DIFF.nunique()"
   ]
  },
  {
   "cell_type": "markdown",
   "metadata": {},
   "source": [
    "Voir si on retrouve les revenus individuels entre panact et revdet"
   ]
  },
  {
   "cell_type": "code",
   "execution_count": null,
   "metadata": {},
   "outputs": [],
   "source": [
    "df_fiscrevdet = load_df_fiscrevdet_by_year(2013)"
   ]
  },
  {
   "cell_type": "code",
   "execution_count": null,
   "metadata": {},
   "outputs": [],
   "source": [
    "df_fiscrevdet.ID_FISC_FOY_DIFF.head(2)"
   ]
  },
  {
   "cell_type": "code",
   "execution_count": null,
   "metadata": {},
   "outputs": [],
   "source": [
    "df_fiscrevdet.TYPE_FISC.value_counts()"
   ]
  },
  {
   "cell_type": "code",
   "execution_count": null,
   "metadata": {},
   "outputs": [],
   "source": [
    "df_fisci = df_fisci[df_fisci.TYPE_FISC.isin(['1','2','3','4','5','6'])]"
   ]
  },
  {
   "cell_type": "code",
   "execution_count": null,
   "metadata": {
    "collapsed": true
   },
   "outputs": [],
   "source": [
    "df_fisci['TYPE_FISC'] = df_fisci.TYPE_FISC.astype('float')"
   ]
  },
  {
   "cell_type": "code",
   "execution_count": null,
   "metadata": {},
   "outputs": [],
   "source": [
    "df_fisci_revdet = df_fisci.merge(df_fiscrevdet, on =['ID_FISC_FOY_DIFF','ORDREFIP', 'TYPE_FISC'])"
   ]
  },
  {
   "cell_type": "code",
   "execution_count": null,
   "metadata": {},
   "outputs": [],
   "source": [
    "df_fiscrevdet.columns"
   ]
  },
  {
   "cell_type": "code",
   "execution_count": null,
   "metadata": {},
   "outputs": [],
   "source": [
    "assert np.all(df_fisci_revdet.AN_FISC_x == df_fisci_revdet.AN_FISC_y)"
   ]
  },
  {
   "cell_type": "code",
   "execution_count": null,
   "metadata": {},
   "outputs": [],
   "source": [
    "df_fisci_revdet_to_merge = df_fisci_revdet[[\"ID_DIFF\",\"YSALI\"]]"
   ]
  },
  {
   "cell_type": "code",
   "execution_count": null,
   "metadata": {
    "collapsed": true
   },
   "outputs": [],
   "source": [
    "del df_fisci_revdet"
   ]
  },
  {
   "cell_type": "code",
   "execution_count": null,
   "metadata": {
    "collapsed": true
   },
   "outputs": [],
   "source": [
    "del df_fisci"
   ]
  },
  {
   "cell_type": "code",
   "execution_count": null,
   "metadata": {
    "collapsed": true
   },
   "outputs": [],
   "source": [
    "#panact_2014 = df_panact[df_panact.AN == 2013] ; "
   ]
  },
  {
   "cell_type": "code",
   "execution_count": null,
   "metadata": {
    "collapsed": true
   },
   "outputs": [],
   "source": [
    "del df_panact"
   ]
  },
  {
   "cell_type": "code",
   "execution_count": null,
   "metadata": {},
   "outputs": [],
   "source": [
    "df_fisci_revdet_to_merge[df_fisci_revdet_to_merge.ID_DIFF == 4855]"
   ]
  },
  {
   "cell_type": "code",
   "execution_count": null,
   "metadata": {},
   "outputs": [],
   "source": [
    "df_fisci_revdet_to_merge.shape"
   ]
  },
  {
   "cell_type": "code",
   "execution_count": null,
   "metadata": {},
   "outputs": [],
   "source": [
    "fsic_panact_merge = df_panact_2013.merge(df_fisci_revdet_to_merge, on = 'ID_DIFF')"
   ]
  },
  {
   "cell_type": "code",
   "execution_count": null,
   "metadata": {
    "scrolled": true
   },
   "outputs": [],
   "source": [
    "fsic_panact_merge[['YSALI','NETNET']]"
   ]
  },
  {
   "cell_type": "code",
   "execution_count": null,
   "metadata": {},
   "outputs": [],
   "source": [
    "(fsic_panact_merge['YSALI']/fsic_panact_merge['NETNET']).describe()"
   ]
  },
  {
   "cell_type": "markdown",
   "metadata": {},
   "source": [
    "\n",
    "Voir allègement fillon :"
   ]
  },
  {
   "cell_type": "code",
   "execution_count": null,
   "metadata": {},
   "outputs": [],
   "source": [
    "((fsic_panact_merge[fsic_panact_merge.YSALI >30000]['YSALI']/ fsic_panact_merge[fsic_panact_merge.YSALI >30000]['NETNET'])>1.1\n",
    ").value_counts()"
   ]
  },
  {
   "cell_type": "code",
   "execution_count": null,
   "metadata": {
    "collapsed": true
   },
   "outputs": [],
   "source": []
  },
  {
   "cell_type": "code",
   "execution_count": null,
   "metadata": {
    "collapsed": true
   },
   "outputs": [],
   "source": []
  },
  {
   "cell_type": "code",
   "execution_count": null,
   "metadata": {
    "collapsed": true
   },
   "outputs": [],
   "source": []
  },
  {
   "cell_type": "code",
   "execution_count": null,
   "metadata": {
    "collapsed": true
   },
   "outputs": [],
   "source": []
  },
  {
   "cell_type": "code",
   "execution_count": null,
   "metadata": {
    "collapsed": true
   },
   "outputs": [],
   "source": [
    "(fsic_panact_merge['YSALI']/fsic_panact_merge['NETNET']).describe()"
   ]
  },
  {
   "cell_type": "code",
   "execution_count": null,
   "metadata": {
    "collapsed": true
   },
   "outputs": [],
   "source": []
  },
  {
   "cell_type": "code",
   "execution_count": null,
   "metadata": {
    "collapsed": true
   },
   "outputs": [],
   "source": []
  },
  {
   "cell_type": "code",
   "execution_count": null,
   "metadata": {},
   "outputs": [],
   "source": [
    "fsic_panact_merge.NBHEUR.value_counts()"
   ]
  },
  {
   "cell_type": "markdown",
   "metadata": {},
   "source": [
    "\n",
    "Voir la différence du nombre d'heure d'une année sur l'autre du dernier décile."
   ]
  },
  {
   "cell_type": "code",
   "execution_count": null,
   "metadata": {
    "collapsed": true
   },
   "outputs": [],
   "source": []
  },
  {
   "cell_type": "code",
   "execution_count": null,
   "metadata": {
    "collapsed": true
   },
   "outputs": [],
   "source": []
  },
  {
   "cell_type": "code",
   "execution_count": null,
   "metadata": {
    "collapsed": true
   },
   "outputs": [],
   "source": []
  },
  {
   "cell_type": "code",
   "execution_count": null,
   "metadata": {
    "collapsed": true
   },
   "outputs": [],
   "source": []
  },
  {
   "cell_type": "code",
   "execution_count": null,
   "metadata": {
    "collapsed": true
   },
   "outputs": [],
   "source": []
  },
  {
   "cell_type": "code",
   "execution_count": null,
   "metadata": {
    "collapsed": true
   },
   "outputs": [],
   "source": []
  },
  {
   "cell_type": "code",
   "execution_count": null,
   "metadata": {},
   "outputs": [],
   "source": [
    "fsic_panact_merge[(((fsic_panact_merge['YSALI']/fsic_panact_merge['NETNET']))>0.9)&\n",
    "(((fsic_panact_merge['YSALI']/fsic_panact_merge['NETNET']))<1.1)]"
   ]
  },
  {
   "cell_type": "code",
   "execution_count": null,
   "metadata": {
    "collapsed": true
   },
   "outputs": [],
   "source": []
  },
  {
   "cell_type": "code",
   "execution_count": null,
   "metadata": {
    "collapsed": true
   },
   "outputs": [],
   "source": []
  },
  {
   "cell_type": "code",
   "execution_count": null,
   "metadata": {
    "collapsed": true
   },
   "outputs": [],
   "source": []
  },
  {
   "cell_type": "code",
   "execution_count": null,
   "metadata": {
    "collapsed": true
   },
   "outputs": [],
   "source": []
  }
 ],
 "metadata": {
  "kernelspec": {
   "display_name": "Python 3",
   "language": "python",
   "name": "python3"
  },
  "language_info": {
   "codemirror_mode": {
    "name": "ipython",
    "version": 3
   },
   "file_extension": ".py",
   "mimetype": "text/x-python",
   "name": "python",
   "nbconvert_exporter": "python",
   "pygments_lexer": "ipython3",
   "version": "3.6.3"
  }
 },
 "nbformat": 4,
 "nbformat_minor": 2
}
