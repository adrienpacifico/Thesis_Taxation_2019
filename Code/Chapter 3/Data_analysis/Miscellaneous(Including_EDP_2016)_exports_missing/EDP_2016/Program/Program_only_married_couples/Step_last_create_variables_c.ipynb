{
 "cells": [
  {
   "cell_type": "code",
   "execution_count": 1,
   "metadata": {},
   "outputs": [
    {
     "name": "stdout",
     "output_type": "stream",
     "text": [
      "2018-12-01 18:39:56.430394\n"
     ]
    }
   ],
   "source": [
    "import datetime\n",
    "start_time = datetime.datetime.now(); print(start_time)"
   ]
  },
  {
   "cell_type": "code",
   "execution_count": 2,
   "metadata": {},
   "outputs": [],
   "source": [
    "%matplotlib inline"
   ]
  },
  {
   "cell_type": "code",
   "execution_count": 3,
   "metadata": {},
   "outputs": [],
   "source": [
    "secret = False #Will be put to True for a CASD export"
   ]
  },
  {
   "cell_type": "code",
   "execution_count": 4,
   "metadata": {},
   "outputs": [],
   "source": [
    "from IPython.display import display\n",
    "import matplotlib.pyplot as plt\n",
    "import numpy as np\n",
    "import pandas as pd ; pd.set_option(\"display.max_columns\",1000)\n",
    "import pickle"
   ]
  },
  {
   "cell_type": "code",
   "execution_count": 5,
   "metadata": {},
   "outputs": [
    {
     "name": "stdout",
     "output_type": "stream",
     "text": [
      "2011\n"
     ]
    }
   ],
   "source": [
    "import pickle\n",
    "pickle_year_variable_path = \"C:/Users/IMPTEMP_A_PACIFIC/Desktop/EDP_2016/Program/Program_only_married_couples/year_variable/\"\n",
    "year =  pickle.load(open(pickle_year_variable_path+\"year_variable.p\",'rb')); print(year)"
   ]
  },
  {
   "cell_type": "code",
   "execution_count": 6,
   "metadata": {},
   "outputs": [],
   "source": [
    "store_path = 'C:/Users/IMPTEMP_A_PACIFIC/Desktop/EDP_2016/Data/hdf/edp_2016_final.h5'\n",
    "reaction_store_path = 'C:/Users/IMPTEMP_A_PACIFIC/Desktop/EDP_2016/Data/hdf/reaction.h5'\n",
    "pickles_path = 'C:/Users/IMPTEMP_A_PACIFIC/Desktop/EDP_2016/Data/pickles/{}'.format(year)"
   ]
  },
  {
   "cell_type": "code",
   "execution_count": 7,
   "metadata": {},
   "outputs": [],
   "source": [
    "result_path = u\"C:/Users/IMPTEMP_A_PACIFIC/Desktop/EDP_2016/Program/Program_only_married_couples/hdf_married_couples/\""
   ]
  },
  {
   "cell_type": "code",
   "execution_count": 8,
   "metadata": {},
   "outputs": [],
   "source": [
    "df = pd.read_hdf(result_path+\"married_couples_step_4.h5\", \"fiscr\")"
   ]
  },
  {
   "cell_type": "markdown",
   "metadata": {},
   "source": [
    "We define the taxable income (Revenu Brut Global) based on the 7 income categories present in the database."
   ]
  },
  {
   "cell_type": "code",
   "execution_count": 9,
   "metadata": {},
   "outputs": [],
   "source": [
    "df[\"Rbg_2011\"] =(( df.ZTSAM_2011*0.9) + df.ZRAGM_2011 + df.ZRACM_2011 + df.ZRNCM_2011 + df.ZFONM_2011 + df.ZPERM_2011*0.9\n",
    "                    + df.ZRICM_2011)\n",
    "df[\"Rbg_2014\"] =(( df.ZTSAM_2014*0.9) + df.ZRAGM_2014 + df.ZRACM_2014 + df.ZRNCM_2014 + df.ZFONM_2014 + df.ZPERM_2014*0.9\n",
    "                    + df.ZRICM_2014)\n",
    "df[\"Delta_Rbg\"] = df.Rbg_2014 - df.Rbg_2011\n",
    "df[\"Delta_rbg\"] = df.Rbg_2014 - df.Rbg_2011\n",
    "df[\"Delta_ZIMPOM\"] = df.ZIMPOM_DECL_2014 - df.ZIMPOM_2011"
   ]
  },
  {
   "cell_type": "code",
   "execution_count": 10,
   "metadata": {},
   "outputs": [],
   "source": [
    "threshold_byr_rbg = pd.DataFrame()\n",
    "threshold_byr_rbg[\"2011\"] = pd.Series([63233,73516,94451,115185,135941,150684])\n",
    "threshold_byr_rbg[\"2014\"] = pd.Series([58291,63530,73806,84103,94368,104633])"
   ]
  },
  {
   "cell_type": "code",
   "execution_count": 11,
   "metadata": {},
   "outputs": [],
   "source": [
    "all_thresholds = pd.concat([threshold_byr_rbg[\"2011\"], threshold_byr_rbg[\"2014\"]]).sort_values()\n",
    "thrsh_bool_list = [\"Threshold_{}\".format(thrsh) for thrsh in  all_thresholds ]\n",
    "for thrsh in all_thresholds:\n",
    "    df[\"Threshold_{}\".format(thrsh)] = df.Rbg_2011>= thrsh"
   ]
  },
  {
   "cell_type": "code",
   "execution_count": 12,
   "metadata": {},
   "outputs": [],
   "source": [
    "for nb_enf in range(1,7): ### in modification\n",
    "    df[\"Between_threshold_{}_child\".format(nb_enf)\n",
    "          ] = ((df.Rbg_2011>  threshold_byr_rbg[\"2014\"].iloc[nb_enf-1])\n",
    "               & (df.Rbg_2011< threshold_byr_rbg[\"2011\"].iloc[nb_enf-1]))\n"
   ]
  },
  {
   "cell_type": "code",
   "execution_count": 13,
   "metadata": {},
   "outputs": [],
   "source": [
    "\n",
    "for nb_enf in range(1,7): ### in modification\n",
    "    df[\"Over_threshold_{}_child\".format(nb_enf)\n",
    "          ] =  (df.Rbg_2011 > threshold_byr_rbg[\"2011\"].iloc[nb_enf-1])\n",
    "for nb_enf in range(1,7): ### in modification\n",
    "    df[\"Below_thresholds_{}_child\".format(nb_enf)\n",
    "          ] =  (df.Rbg_2011 < threshold_byr_rbg[\"2011\"].iloc[nb_enf-1])"
   ]
  },
  {
   "cell_type": "code",
   "execution_count": 14,
   "metadata": {},
   "outputs": [
    {
     "name": "stderr",
     "output_type": "stream",
     "text": [
      "C:\\Users\\IMPTEMP_A_PACIFIC\\Desktop\\WinPython-64bit-3.6.3.0Qt5\\python-3.6.3.amd64\\lib\\site-packages\\pandas\\core\\computation\\expressions.py:179: UserWarning: evaluating in Python space because the '+' operator is not supported by numexpr for the bool dtype, use '|' instead\n",
      "  .format(op=op_str, alt_op=unsupported[op_str]))\n"
     ]
    }
   ],
   "source": [
    "df[\"Over_threshold\"] = False\n",
    "df[\"Between_thresholds\"] = False\n",
    "for child in range(1,7): ### in modification\n",
    "    df[\"Over_threshold\"] +=  (df[\"Over_threshold_{}_child\".format(child)] & (df[\"NBPAC_2011\"] ==child))\n",
    "    df[\"Between_thresholds\"] +=  (df[\"Between_threshold_{}_child\".format(child)] & (df[\"NBPAC_2011\"] ==child))"
   ]
  },
  {
   "cell_type": "code",
   "execution_count": 15,
   "metadata": {},
   "outputs": [
    {
     "name": "stderr",
     "output_type": "stream",
     "text": [
      "C:\\Users\\IMPTEMP_A_PACIFIC\\Desktop\\WinPython-64bit-3.6.3.0Qt5\\python-3.6.3.amd64\\lib\\site-packages\\pandas\\core\\computation\\expressions.py:179: UserWarning: evaluating in Python space because the '*' operator is not supported by numexpr for the bool dtype, use '&' instead\n",
      "  .format(op=op_str, alt_op=unsupported[op_str]))\n"
     ]
    }
   ],
   "source": [
    "## Interactions hardcoded\n",
    "for child in range(1,7):\n",
    "    df[\"Over_{}_X_{}_child\".format(child,child)] = df[\"Over_threshold_{}_child\".format(child)] * (df[\"NBPAC_2011\"]==child)\n",
    "    df[\"Between_{}_X_{}_child\".format(child,child)] = df[\"Between_threshold_{}_child\".format(child)] * (df[\"NBPAC_2011\"]==child)"
   ]
  },
  {
   "cell_type": "code",
   "execution_count": 16,
   "metadata": {},
   "outputs": [],
   "source": [
    "df[\"Intercept\"] = 1 \n",
    "#df[\"Rbg_splines\"]  = pd.cut(df.Rbg_2011, 100)"
   ]
  },
  {
   "cell_type": "code",
   "execution_count": 17,
   "metadata": {},
   "outputs": [],
   "source": [
    "for child in range(0,7):\n",
    "    df[\"child_{}\".format(child)] = df.NBPAC_2011 == child"
   ]
  },
  {
   "cell_type": "code",
   "execution_count": 18,
   "metadata": {},
   "outputs": [
    {
     "name": "stderr",
     "output_type": "stream",
     "text": [
      "C:\\Users\\IMPTEMP_A_PACIFIC\\Desktop\\WinPython-64bit-3.6.3.0Qt5\\python-3.6.3.amd64\\lib\\site-packages\\pandas\\core\\computation\\expressions.py:179: UserWarning: evaluating in Python space because the '*' operator is not supported by numexpr for the bool dtype, use '&' instead\n",
      "  .format(op=op_str, alt_op=unsupported[op_str]))\n"
     ]
    }
   ],
   "source": [
    "interactions_rbg_between = [\"Interactions_rbg_child{}_between\".format(child) for child in range(1,7)]\n",
    "interactions_rbg_over = [\"Interactions_rbg_child{}_over\".format(child) for child in range(1,7)]\n",
    "interactions_child_over = [\"Interactions_child{}_over\".format(child) for child in range(1,7)]\n",
    "\n",
    "\n",
    "\n",
    "\n",
    "df[\"Interactions_rbg_child1_between\"] = df.eval(\"Delta_rbg*child_1*Between_threshold_1_child\")\n",
    "df[\"Interactions_rbg_child2_between\"] = df.eval(\"Delta_rbg*child_2*Between_threshold_2_child\")\n",
    "df[\"Interactions_rbg_child3_between\"] = df.eval(\"Delta_rbg*child_3*Between_threshold_3_child\")\n",
    "df[\"Interactions_rbg_child4_between\"] = df.eval(\"Delta_rbg*child_4*Between_threshold_4_child\")\n",
    "df[\"Interactions_rbg_child5_between\"] = df.eval(\"Delta_rbg*child_5*Between_threshold_5_child\")\n",
    "df[\"Interactions_rbg_child6_between\"] = df.eval(\"Delta_rbg*child_6*Between_threshold_6_child\")\n",
    "\n",
    "\n",
    "\n",
    "df[\"Interactions_rbg_child1_over\"] = df.eval(\"Delta_rbg*child_1*Over_threshold_1_child\")\n",
    "df[\"Interactions_rbg_child2_over\"] = df.eval(\"Delta_rbg*child_2*Over_threshold_2_child\")\n",
    "df[\"Interactions_rbg_child3_over\"] = df.eval(\"Delta_rbg*child_3*Over_threshold_3_child\")\n",
    "df[\"Interactions_rbg_child4_over\"] = df.eval(\"Delta_rbg*child_4*Over_threshold_4_child\")\n",
    "df[\"Interactions_rbg_child5_over\"] = df.eval(\"Delta_rbg*child_5*Over_threshold_5_child\")\n",
    "df[\"Interactions_rbg_child6_over\"] = df.eval(\"Delta_rbg*child_6*Over_threshold_6_child\")\n",
    "\n",
    "\n",
    "df[\"Interactions_child1_over\"] = (df[\"child_1\"]* df[\"Over_threshold_1_child\"]).astype(\"int\")\n",
    "df[\"Interactions_child2_over\"] = (df[\"child_2\"]* df[\"Over_threshold_2_child\"]).astype(\"int\")\n",
    "df[\"Interactions_child3_over\"] = (df[\"child_3\"]* df[\"Over_threshold_3_child\"]).astype(\"int\")\n",
    "df[\"Interactions_child4_over\"] = (df[\"child_4\"]* df[\"Over_threshold_4_child\"]).astype(\"int\")\n",
    "df[\"Interactions_child5_over\"] = (df[\"child_5\"]* df[\"Over_threshold_5_child\"]).astype(\"int\")\n",
    "df[\"Interactions_child6_over\"] = (df[\"child_6\"]* df[\"Over_threshold_6_child\"]).astype(\"int\")\n",
    "\n",
    "\n",
    "\n",
    "\n",
    "\n",
    "df[\"Not_touched_by_reform\"] = (df.NBPAC_2011 == 0).astype(\"int\")\n",
    "for nb_enf in range(1,7): ### in modification\n",
    "    df[\"Not_touched_by_reform\".format(nb_enf)\n",
    "          ] +=((df.Rbg_2011<  threshold_byr_rbg[\"2014\"].iloc[nb_enf-1])\n",
    "                *( df.NBPAC_2011 == nb_enf)).astype(\"float\")\n",
    "\n",
    "df[\"Delta_Rbg_times_not_touched_reform\"] = df.Not_touched_by_reform * df.Delta_rbg"
   ]
  },
  {
   "cell_type": "code",
   "execution_count": 19,
   "metadata": {},
   "outputs": [],
   "source": [
    "hello = pd.DataFrame()"
   ]
  },
  {
   "cell_type": "code",
   "execution_count": 20,
   "metadata": {},
   "outputs": [
    {
     "name": "stderr",
     "output_type": "stream",
     "text": [
      "C:\\Users\\IMPTEMP_A_PACIFIC\\Desktop\\WinPython-64bit-3.6.3.0Qt5\\python-3.6.3.amd64\\lib\\site-packages\\ipykernel_launcher.py:1: FutureWarning: consolidate is deprecated and will be removed in a future release.\n",
      "  \"\"\"Entry point for launching an IPython kernel.\n"
     ]
    },
    {
     "data": {
      "text/html": [
       "<div>\n",
       "<style scoped>\n",
       "    .dataframe tbody tr th:only-of-type {\n",
       "        vertical-align: middle;\n",
       "    }\n",
       "\n",
       "    .dataframe tbody tr th {\n",
       "        vertical-align: top;\n",
       "    }\n",
       "\n",
       "    .dataframe thead th {\n",
       "        text-align: right;\n",
       "    }\n",
       "</style>\n",
       "<table border=\"1\" class=\"dataframe\">\n",
       "  <thead>\n",
       "    <tr style=\"text-align: right;\">\n",
       "      <th></th>\n",
       "    </tr>\n",
       "  </thead>\n",
       "  <tbody>\n",
       "  </tbody>\n",
       "</table>\n",
       "</div>"
      ],
      "text/plain": [
       "Empty DataFrame\n",
       "Columns: []\n",
       "Index: []"
      ]
     },
     "execution_count": 20,
     "metadata": {},
     "output_type": "execute_result"
    }
   ],
   "source": [
    "hello.consolidate()"
   ]
  },
  {
   "cell_type": "code",
   "execution_count": 21,
   "metadata": {},
   "outputs": [
    {
     "name": "stderr",
     "output_type": "stream",
     "text": [
      "C:\\Users\\IMPTEMP_A_PACIFIC\\Desktop\\WinPython-64bit-3.6.3.0Qt5\\python-3.6.3.amd64\\lib\\site-packages\\ipykernel_launcher.py:1: FutureWarning: consolidate is deprecated and will be removed in a future release.\n",
      "  \"\"\"Entry point for launching an IPython kernel.\n"
     ]
    }
   ],
   "source": [
    "df.consolidate(inplace = True)"
   ]
  },
  {
   "cell_type": "code",
   "execution_count": 22,
   "metadata": {},
   "outputs": [
    {
     "name": "stdout",
     "output_type": "stream",
     "text": [
      "<class 'pandas.core.frame.DataFrame'>\n",
      "Int64Index: 789743 entries, 0 to 789742\n",
      "Columns: 513 entries, ID_FISC_LOG_DIFF to Delta_Rbg_times_not_touched_reform\n",
      "dtypes: bool(55), float64(231), int32(6), int64(127), object(94)\n",
      "memory usage: 2.7+ GB\n"
     ]
    }
   ],
   "source": [
    "df.info()"
   ]
  },
  {
   "cell_type": "code",
   "execution_count": 23,
   "metadata": {},
   "outputs": [
    {
     "data": {
      "text/html": [
       "<div>\n",
       "<style scoped>\n",
       "    .dataframe tbody tr th:only-of-type {\n",
       "        vertical-align: middle;\n",
       "    }\n",
       "\n",
       "    .dataframe tbody tr th {\n",
       "        vertical-align: top;\n",
       "    }\n",
       "\n",
       "    .dataframe thead th {\n",
       "        text-align: right;\n",
       "    }\n",
       "</style>\n",
       "<table border=\"1\" class=\"dataframe\">\n",
       "  <thead>\n",
       "    <tr style=\"text-align: right;\">\n",
       "      <th></th>\n",
       "    </tr>\n",
       "  </thead>\n",
       "  <tbody>\n",
       "    <tr>\n",
       "      <th>0</th>\n",
       "    </tr>\n",
       "    <tr>\n",
       "      <th>1</th>\n",
       "    </tr>\n",
       "    <tr>\n",
       "      <th>2</th>\n",
       "    </tr>\n",
       "    <tr>\n",
       "      <th>3</th>\n",
       "    </tr>\n",
       "    <tr>\n",
       "      <th>4</th>\n",
       "    </tr>\n",
       "    <tr>\n",
       "      <th>5</th>\n",
       "    </tr>\n",
       "    <tr>\n",
       "      <th>6</th>\n",
       "    </tr>\n",
       "    <tr>\n",
       "      <th>7</th>\n",
       "    </tr>\n",
       "    <tr>\n",
       "      <th>8</th>\n",
       "    </tr>\n",
       "    <tr>\n",
       "      <th>9</th>\n",
       "    </tr>\n",
       "    <tr>\n",
       "      <th>10</th>\n",
       "    </tr>\n",
       "    <tr>\n",
       "      <th>11</th>\n",
       "    </tr>\n",
       "    <tr>\n",
       "      <th>12</th>\n",
       "    </tr>\n",
       "    <tr>\n",
       "      <th>13</th>\n",
       "    </tr>\n",
       "    <tr>\n",
       "      <th>14</th>\n",
       "    </tr>\n",
       "    <tr>\n",
       "      <th>15</th>\n",
       "    </tr>\n",
       "    <tr>\n",
       "      <th>16</th>\n",
       "    </tr>\n",
       "    <tr>\n",
       "      <th>17</th>\n",
       "    </tr>\n",
       "    <tr>\n",
       "      <th>18</th>\n",
       "    </tr>\n",
       "    <tr>\n",
       "      <th>19</th>\n",
       "    </tr>\n",
       "    <tr>\n",
       "      <th>20</th>\n",
       "    </tr>\n",
       "    <tr>\n",
       "      <th>21</th>\n",
       "    </tr>\n",
       "    <tr>\n",
       "      <th>22</th>\n",
       "    </tr>\n",
       "    <tr>\n",
       "      <th>23</th>\n",
       "    </tr>\n",
       "    <tr>\n",
       "      <th>24</th>\n",
       "    </tr>\n",
       "    <tr>\n",
       "      <th>25</th>\n",
       "    </tr>\n",
       "    <tr>\n",
       "      <th>26</th>\n",
       "    </tr>\n",
       "    <tr>\n",
       "      <th>27</th>\n",
       "    </tr>\n",
       "    <tr>\n",
       "      <th>28</th>\n",
       "    </tr>\n",
       "    <tr>\n",
       "      <th>29</th>\n",
       "    </tr>\n",
       "    <tr>\n",
       "      <th>...</th>\n",
       "    </tr>\n",
       "    <tr>\n",
       "      <th>789713</th>\n",
       "    </tr>\n",
       "    <tr>\n",
       "      <th>789714</th>\n",
       "    </tr>\n",
       "    <tr>\n",
       "      <th>789715</th>\n",
       "    </tr>\n",
       "    <tr>\n",
       "      <th>789716</th>\n",
       "    </tr>\n",
       "    <tr>\n",
       "      <th>789717</th>\n",
       "    </tr>\n",
       "    <tr>\n",
       "      <th>789718</th>\n",
       "    </tr>\n",
       "    <tr>\n",
       "      <th>789719</th>\n",
       "    </tr>\n",
       "    <tr>\n",
       "      <th>789720</th>\n",
       "    </tr>\n",
       "    <tr>\n",
       "      <th>789721</th>\n",
       "    </tr>\n",
       "    <tr>\n",
       "      <th>789722</th>\n",
       "    </tr>\n",
       "    <tr>\n",
       "      <th>789723</th>\n",
       "    </tr>\n",
       "    <tr>\n",
       "      <th>789724</th>\n",
       "    </tr>\n",
       "    <tr>\n",
       "      <th>789725</th>\n",
       "    </tr>\n",
       "    <tr>\n",
       "      <th>789726</th>\n",
       "    </tr>\n",
       "    <tr>\n",
       "      <th>789727</th>\n",
       "    </tr>\n",
       "    <tr>\n",
       "      <th>789728</th>\n",
       "    </tr>\n",
       "    <tr>\n",
       "      <th>789729</th>\n",
       "    </tr>\n",
       "    <tr>\n",
       "      <th>789730</th>\n",
       "    </tr>\n",
       "    <tr>\n",
       "      <th>789731</th>\n",
       "    </tr>\n",
       "    <tr>\n",
       "      <th>789732</th>\n",
       "    </tr>\n",
       "    <tr>\n",
       "      <th>789733</th>\n",
       "    </tr>\n",
       "    <tr>\n",
       "      <th>789734</th>\n",
       "    </tr>\n",
       "    <tr>\n",
       "      <th>789735</th>\n",
       "    </tr>\n",
       "    <tr>\n",
       "      <th>789736</th>\n",
       "    </tr>\n",
       "    <tr>\n",
       "      <th>789737</th>\n",
       "    </tr>\n",
       "    <tr>\n",
       "      <th>789738</th>\n",
       "    </tr>\n",
       "    <tr>\n",
       "      <th>789739</th>\n",
       "    </tr>\n",
       "    <tr>\n",
       "      <th>789740</th>\n",
       "    </tr>\n",
       "    <tr>\n",
       "      <th>789741</th>\n",
       "    </tr>\n",
       "    <tr>\n",
       "      <th>789742</th>\n",
       "    </tr>\n",
       "  </tbody>\n",
       "</table>\n",
       "<p>789743 rows × 0 columns</p>\n",
       "</div>"
      ],
      "text/plain": [
       "Empty DataFrame\n",
       "Columns: []\n",
       "Index: [0, 1, 2, 3, 4, 5, 6, 7, 8, 9, 10, 11, 12, 13, 14, 15, 16, 17, 18, 19, 20, 21, 22, 23, 24, 25, 26, 27, 28, 29, 30, 31, 32, 33, 34, 35, 36, 37, 38, 39, 40, 41, 42, 43, 44, 45, 46, 47, 48, 49, 50, 51, 52, 53, 54, 55, 56, 57, 58, 59, 60, 61, 62, 63, 64, 65, 66, 67, 68, 69, 70, 71, 72, 73, 74, 75, 76, 77, 78, 79, 80, 81, 82, 83, 84, 85, 86, 87, 88, 89, 90, 91, 92, 93, 94, 95, 96, 97, 98, 99, ...]\n",
       "\n",
       "[789743 rows x 0 columns]"
      ]
     },
     "execution_count": 23,
     "metadata": {},
     "output_type": "execute_result"
    }
   ],
   "source": [
    "df.select_dtypes(\"category\")"
   ]
  },
  {
   "cell_type": "code",
   "execution_count": 24,
   "metadata": {},
   "outputs": [
    {
     "name": "stderr",
     "output_type": "stream",
     "text": [
      "C:\\Users\\IMPTEMP_A_PACIFIC\\Desktop\\WinPython-64bit-3.6.3.0Qt5\\python-3.6.3.amd64\\lib\\site-packages\\pandas\\core\\generic.py:1471: PerformanceWarning: \n",
      "your performance may suffer as PyTables will pickle object types that it cannot\n",
      "map directly to c-types [inferred_type->mixed-integer,key->block4_values] [items->['ID_FISC_LOG_DIFF', 'DEP_2011', 'DEPCOM_2011', 'I_CHAMPM_2011', 'I_PAUVRE50M_2011', 'I_PAUVRE60M_2011', 'DEP_2014', 'DEPCOM_2014', 'I_PAUVRE50M_2014', 'I_PAUVRE60M_2014', 'TYPE_FISC_2011', 'TYPE_FISC_2014', 'ID_DIFF_father', 'ID_DIFF_mother', 'DEP_2011_to_drop', 'SECCAD_2011', 'OCC_2011', 'DNATLC_2011', 'NATLOC_2011', 'TAX_2011', 'NLOC4_2011', 'EAU_2011', 'EGOUT_2011', 'ELEC_2011', 'GAZ_2011', 'CHAUFF_2011', 'ASCENSEUR_2011', 'DEP_2014_to_drop', 'SECCAD_2014', 'OCC_2014', 'DNATLC_2014', 'NATLOC_2014', 'TAX_2014', 'NLOC4_2014', 'EAU_2014', 'EGOUT_2014', 'ELEC_2014', 'GAZ_2014', 'CHAUFF_2014', 'ASCENSEUR_2014', 'NUM_IRIS_2014', 'NUM_QPV_2014', 'DEPR_2014_father', 'COMR_2014_father', 'DEPT_2014_father', 'COMT_2014_father', 'CONTRAT_TRAVAIL_2014_father', 'CS1_2014_father', 'CS2_2014_father', 'PCS4_2014_father', 'CAT_2014_father', 'CE_2014_father', 'A38_2014_father', 'APE40_2014_father', 'NES5_2014_father', 'DEPR_2011_father', 'COMR_2011_father', 'DEPT_2011_father', 'COMT_2011_father', 'CONTRAT_TRAVAIL_2011_father', 'CS1_2011_father', 'CS2_2011_father', 'PCS4_2011_father', 'CAT_2011_father', 'CE_2011_father', 'A38_2011_father', 'APE40_2011_father', 'NES5_2011_father', 'DEPR_2014_mother', 'COMR_2014_mother', 'DEPT_2014_mother', 'COMT_2014_mother', 'CONTRAT_TRAVAIL_2014_mother', 'CS1_2014_mother', 'CS2_2014_mother', 'PCS4_2014_mother', 'CAT_2014_mother', 'CE_2014_mother', 'A38_2014_mother', 'APE40_2014_mother', 'NES5_2014_mother', 'DEPR_2011_mother', 'COMR_2011_mother', 'DEPT_2011_mother', 'COMT_2011_mother', 'CONTRAT_TRAVAIL_2011_mother', 'CS1_2011_mother', 'CS2_2011_mother', 'PCS4_2011_mother', 'CAT_2011_mother', 'CE_2011_mother', 'A38_2011_mother', 'APE40_2011_mother', 'NES5_2011_mother']]\n",
      "\n",
      "  return pytables.to_hdf(path_or_buf, key, self, **kwargs)\n"
     ]
    }
   ],
   "source": [
    "df.to_hdf(result_path+\"married_couples_step_last.h5\", \"fiscr\")"
   ]
  },
  {
   "cell_type": "code",
   "execution_count": 25,
   "metadata": {},
   "outputs": [
    {
     "name": "stdout",
     "output_type": "stream",
     "text": [
      "now:  2018-12-01 18:40:32.844704\n",
      "execution_time:  0:00:36.414310\n"
     ]
    }
   ],
   "source": [
    "stop_time = datetime.datetime.now(); print(\"now: \",stop_time);\n",
    "execution_time = stop_time - start_time; print(\"execution_time: \",execution_time)"
   ]
  },
  {
   "cell_type": "code",
   "execution_count": null,
   "metadata": {},
   "outputs": [],
   "source": []
  }
 ],
 "metadata": {
  "kernelspec": {
   "display_name": "Python 3",
   "language": "python",
   "name": "python3"
  },
  "language_info": {
   "codemirror_mode": {
    "name": "ipython",
    "version": 3
   },
   "file_extension": ".py",
   "mimetype": "text/x-python",
   "name": "python",
   "nbconvert_exporter": "python",
   "pygments_lexer": "ipython3",
   "version": "3.6.3"
  }
 },
 "nbformat": 4,
 "nbformat_minor": 2
}
