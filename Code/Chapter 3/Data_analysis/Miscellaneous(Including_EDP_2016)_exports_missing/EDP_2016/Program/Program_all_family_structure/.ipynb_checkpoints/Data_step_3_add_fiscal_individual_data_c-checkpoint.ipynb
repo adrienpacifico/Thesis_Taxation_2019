{
 "cells": [
  {
   "cell_type": "code",
   "execution_count": 1,
   "metadata": {},
   "outputs": [
    {
     "name": "stdout",
     "output_type": "stream",
     "text": [
      "2018-09-18 19:00:47.085726\n"
     ]
    }
   ],
   "source": [
    "import datetime\n",
    "start_time = datetime.datetime.now(); print(start_time)"
   ]
  },
  {
   "cell_type": "code",
   "execution_count": 2,
   "metadata": {},
   "outputs": [],
   "source": [
    "secret = False #Will be put to True for a CASD export"
   ]
  },
  {
   "cell_type": "code",
   "execution_count": 3,
   "metadata": {},
   "outputs": [
    {
     "data": {
      "text/html": [
       "<style>.container { width:100% !important; }<\\style>"
      ],
      "text/plain": [
       "<IPython.core.display.HTML object>"
      ]
     },
     "metadata": {},
     "output_type": "display_data"
    }
   ],
   "source": [
    "from IPython.core.display import display, HTML\n",
    "display(HTML(\"<style>.container { width:100% !important; }<\\style>\"))"
   ]
  },
  {
   "cell_type": "code",
   "execution_count": 4,
   "metadata": {},
   "outputs": [],
   "source": [
    "from IPython.display import display\n",
    "import matplotlib.pyplot as plt\n",
    "import numpy as np\n",
    "import pandas as pd ; pd.set_option(\"display.max_columns\",200)\n",
    "import pickle"
   ]
  },
  {
   "cell_type": "code",
   "execution_count": 5,
   "metadata": {},
   "outputs": [
    {
     "name": "stdout",
     "output_type": "stream",
     "text": [
      "2014\n"
     ]
    }
   ],
   "source": [
    "pickle_year_variable_path = \"C:/Users/IMPTEMP_A_PACIFIC/Desktop/EDP_2016/Program/year_variable/\"\n",
    "year =  pickle.load(open(pickle_year_variable_path+\"year_variable.p\",'rb')); print(year)"
   ]
  },
  {
   "cell_type": "code",
   "execution_count": 6,
   "metadata": {},
   "outputs": [],
   "source": [
    "store_path = 'C:/Users/IMPTEMP_A_PACIFIC/Desktop/EDP_2016/Data/hdf/edp_2016_final.h5'\n",
    "reaction_store_path = 'C:/Users/IMPTEMP_A_PACIFIC/Desktop/EDP_2016/Data/hdf/reaction.h5'\n",
    "pickles_path = 'C:/Users/IMPTEMP_A_PACIFIC/Desktop/EDP_2016/Data/pickles/{}'.format(year)\n",
    "Store = pd.HDFStore(store_path)"
   ]
  },
  {
   "cell_type": "code",
   "execution_count": 7,
   "metadata": {},
   "outputs": [
    {
     "name": "stdout",
     "output_type": "stream",
     "text": [
      "/DECES\n",
      "/DESCENDANCE\n",
      "/EAR2004_FAMILLE\n",
      "/EAR2004_INDIVIDU\n",
      "/EAR2004_LOGEMENT\n",
      "/EAR2005_FAMILLE\n",
      "/EAR2005_INDIVIDU\n",
      "/EAR2005_LOGEMENT\n",
      "/EAR2006_FAMILLE\n",
      "/EAR2006_INDIVIDU\n",
      "/EAR2006_LOGEMENT\n",
      "/EAR2007_FAMILLE\n",
      "/EAR2007_INDIVIDU\n",
      "/EAR2007_LOGEMENT\n",
      "/EAR2008_FAMILLE\n",
      "/EAR2008_INDIVIDU\n",
      "/EAR2008_LOGEMENT\n",
      "/EAR2009_FAMILLE\n",
      "/EAR2009_INDIVIDU\n",
      "/EAR2009_LOGEMENT\n",
      "/EAR2010_FAMILLE\n",
      "/EAR2010_INDIVIDU\n",
      "/EAR2010_LOGEMENT\n",
      "/EAR2011_FAMILLE\n",
      "/EAR2011_INDIVIDU\n",
      "/EAR2011_LOGEMENT\n",
      "/EAR2012_FAMILLE\n",
      "/EAR2012_INDIVIDU\n",
      "/EAR2012_LOGEMENT\n",
      "/EAR2013_FAMILLE\n",
      "/EAR2013_INDIVIDU\n",
      "/EAR2013_LOGEMENT\n",
      "/EAR2014_FAMILLE\n",
      "/EAR2014_INDIVIDU\n",
      "/EAR2014_LOGEMENT\n",
      "/EAR2015_FAMILLE\n",
      "/EAR2015_INDIVIDU\n",
      "/EAR2015_LOGEMENT\n",
      "/EAR2016_FAMILLE\n",
      "/EAR2016_INDIVIDU\n",
      "/EAR2016_LOGEMENT\n",
      "/FE\n",
      "/FISC_INDIVIDU_2011\n",
      "/FISC_INDIVIDU_2012\n",
      "/FISC_INDIVIDU_2013\n",
      "/FISC_INDIVIDU_2014\n",
      "/FISC_INDIVIDU_2015\n",
      "/FISC_INDIVIDU_2016\n",
      "/FISC_LOGEMENT_2011\n",
      "/FISC_LOGEMENT_2012\n",
      "/FISC_LOGEMENT_2013\n",
      "/FISC_LOGEMENT_2014\n",
      "/FISC_LOGEMENT_2015\n",
      "/FISC_LOGEMENT_2016\n",
      "/FISC_REVDET_2011\n",
      "/FISC_REVDET_2012\n",
      "/FISC_REVDET_2013\n",
      "/FISC_REVDET_2014\n",
      "/FISC_REVDET_2015\n",
      "/FISC_REVDET_2016\n",
      "/FISC_REVENU_2011\n",
      "/FISC_REVENU_2012\n",
      "/FISC_REVENU_2013\n",
      "/FISC_REVENU_2014\n",
      "/FISC_REVENU_2015\n",
      "/FISC_REVENU_2016\n",
      "/INDIVIDU\n",
      "/MARIAGE\n",
      "/NAISSANCE\n",
      "/PANACT\n",
      "/RP1968\n",
      "/RP1975\n",
      "/RP1982\n",
      "/RP1990\n",
      "/RP1999\n",
      "/RP2012_MAYOTTE\n"
     ]
    }
   ],
   "source": [
    "for key in Store.keys(): print(key)\n",
    "Store.close()"
   ]
  },
  {
   "cell_type": "code",
   "execution_count": 8,
   "metadata": {},
   "outputs": [],
   "source": [
    "fisc_i = pd.read_hdf( store_path,\"FISC_INDIVIDU_{}\".format(year+1) )\n",
    "fisc_revdet = pd.read_hdf( store_path,\"FISC_REVDET_{}\".format(year+1) )"
   ]
  },
  {
   "cell_type": "code",
   "execution_count": 9,
   "metadata": {},
   "outputs": [],
   "source": [
    "fisc_revenu = pd.read_hdf(store_path,\"FISC_REVENU_{}\".format(year+1))"
   ]
  },
  {
   "cell_type": "code",
   "execution_count": 10,
   "metadata": {},
   "outputs": [],
   "source": [
    "fisc_individu = pd.read_hdf( store_path,\"FISC_INDIVIDU_{}\".format(year+1) )"
   ]
  },
  {
   "cell_type": "code",
   "execution_count": 11,
   "metadata": {},
   "outputs": [],
   "source": [
    "fisc_revdet.TYPE_FISC = fisc_revdet.TYPE_FISC.astype(\"str\")"
   ]
  },
  {
   "cell_type": "code",
   "execution_count": 12,
   "metadata": {},
   "outputs": [],
   "source": [
    "df_merge_fisci_revdet = pd.merge(fisc_individu, fisc_revdet,\n",
    "                              on = [\"ID_FISC_FOY_DIFF\",\"ORDREFIP\",\"TYPE_FISC\"]).sort_values(\"ID_FISC_LOG_DIFF\")"
   ]
  },
  {
   "cell_type": "code",
   "execution_count": null,
   "metadata": {},
   "outputs": [],
   "source": []
  },
  {
   "cell_type": "code",
   "execution_count": null,
   "metadata": {},
   "outputs": [],
   "source": []
  },
  {
   "cell_type": "code",
   "execution_count": 13,
   "metadata": {},
   "outputs": [
    {
     "data": {
      "text/plain": [
       "Index(['YSALI', 'YCHOI', 'YRSTI', 'YALRI', 'YRAGI', 'YBICI', 'YBNCI'], dtype='object')"
      ]
     },
     "execution_count": 13,
     "metadata": {},
     "output_type": "execute_result"
    }
   ],
   "source": [
    "fisc_revdet.columns[-7:]"
   ]
  },
  {
   "cell_type": "code",
   "execution_count": null,
   "metadata": {},
   "outputs": [],
   "source": []
  },
  {
   "cell_type": "code",
   "execution_count": null,
   "metadata": {},
   "outputs": [],
   "source": []
  },
  {
   "cell_type": "code",
   "execution_count": 14,
   "metadata": {},
   "outputs": [],
   "source": [
    "result_store_path = 'C:/Users/IMPTEMP_A_PACIFIC/Desktop/EDP_2016/Data/hdf/result.h5'\n",
    "df_fisci_child_parent = pd.read_hdf(result_store_path, \"fisci_child_or_parent_{}\".format(year))\n",
    "df_fisci_child_parent = df_fisci_child_parent.rename(columns={\"ID_FISC_FOY_DIFF_y\":\"ID_FISC_FOY_DIFF\"})"
   ]
  },
  {
   "cell_type": "code",
   "execution_count": 15,
   "metadata": {},
   "outputs": [],
   "source": [
    "## Add parents or children attributes (to determine if TYPEFISC == 1 are children detached or parents)\n",
    "df_merge_fisci_revdet2 = pd.merge(df_merge_fisci_revdet, df_fisci_child_parent, on = [\"ID_FISC_FOY_DIFF\",\"ORDREFIP\",\"TYPE_FISC\"], suffixes=(\"\", \"_y\"), how = \"left\")"
   ]
  },
  {
   "cell_type": "code",
   "execution_count": 16,
   "metadata": {},
   "outputs": [],
   "source": [
    "df = df_merge_fisci_revdet2"
   ]
  },
  {
   "cell_type": "code",
   "execution_count": 17,
   "metadata": {},
   "outputs": [
    {
     "data": {
      "text/plain": [
       "NaN      4486263\n",
       "False     731735\n",
       "True      200389\n",
       "Name: Child, dtype: int64"
      ]
     },
     "execution_count": 17,
     "metadata": {},
     "output_type": "execute_result"
    }
   ],
   "source": [
    "df.Child.value_counts(dropna = False)"
   ]
  },
  {
   "cell_type": "code",
   "execution_count": 18,
   "metadata": {},
   "outputs": [],
   "source": [
    "## Salaire_père Salaire_mère"
   ]
  },
  {
   "cell_type": "code",
   "execution_count": 19,
   "metadata": {},
   "outputs": [],
   "source": [
    "income_var = ['YSALI', 'YCHOI', 'YRSTI', 'YALRI', 'YRAGI', 'YBICI', 'YBNCI']"
   ]
  },
  {
   "cell_type": "code",
   "execution_count": 20,
   "metadata": {},
   "outputs": [
    {
     "name": "stdout",
     "output_type": "stream",
     "text": [
      "Wall time: 1min 33s\n"
     ]
    }
   ],
   "source": [
    "%%time\n",
    "for var in income_var:    \n",
    "    df[\"{}_pere\".format(var)] = df[(df.SEXE == 1) & (~(df.Child==True))][var]  #condition father and not child\n",
    "    df[\"{}_mere\".format(var)] = df[(df.SEXE == 2) & (~(df.Child==True))][var] #condition child\n",
    "    df[\"{}_children\".format(var)] = df[(df.Child == True)].groupby(\"ID_FISC_LOG_DIFF\").sum()[var] #sum all children income"
   ]
  },
  {
   "cell_type": "code",
   "execution_count": 21,
   "metadata": {},
   "outputs": [],
   "source": [
    "income_var_all = income_var + [var + \"_mere\" for var in income_var] + [var + \"_pere\" for var in income_var]"
   ]
  },
  {
   "cell_type": "code",
   "execution_count": 22,
   "metadata": {},
   "outputs": [],
   "source": [
    "df_income_by_log = df[income_var_all+ [\"ID_FISC_LOG_DIFF\"]].groupby(\"ID_FISC_LOG_DIFF\").sum()"
   ]
  },
  {
   "cell_type": "code",
   "execution_count": 23,
   "metadata": {},
   "outputs": [],
   "source": [
    "fisc_revenu2 = pd.merge(fisc_revenu.reset_index(), df_income_by_log.reset_index(), on = \"ID_FISC_LOG_DIFF\", how = \"left\" )"
   ]
  },
  {
   "cell_type": "code",
   "execution_count": null,
   "metadata": {},
   "outputs": [],
   "source": []
  },
  {
   "cell_type": "code",
   "execution_count": 24,
   "metadata": {},
   "outputs": [],
   "source": [
    "## Age père age mère"
   ]
  },
  {
   "cell_type": "code",
   "execution_count": 25,
   "metadata": {},
   "outputs": [],
   "source": [
    "df = df_merge_fisci_revdet2"
   ]
  },
  {
   "cell_type": "code",
   "execution_count": 26,
   "metadata": {},
   "outputs": [],
   "source": [
    "df[\"Age_pere\"] =year - df[(df.SEXE == 1) & (~(df.Child==True))].ANAIS\n",
    "df[\"Age_mere\"] = year - df[(df.SEXE == 2) & (~(df.Child==True))].ANAIS\n",
    "df[\"ANAIS_pere\"] = df[(df.SEXE == 1) & (~(df.Child==True))].ANAIS\n",
    "df[\"ANAIS_mere\"] = df[(df.SEXE == 2) & (~(df.Child==True))].ANAIS"
   ]
  },
  {
   "cell_type": "code",
   "execution_count": 27,
   "metadata": {},
   "outputs": [],
   "source": [
    "df[\"ID_DIFF_pere\"] = df[(df.SEXE == 1) & (~(df.Child==True))].ID_DIFF\n",
    "df[\"ID_DIFF_mere\"] = df[(df.SEXE == 2) & (~(df.Child==True))].ID_DIFF"
   ]
  },
  {
   "cell_type": "code",
   "execution_count": 28,
   "metadata": {},
   "outputs": [
    {
     "data": {
      "text/plain": [
       "114.0"
      ]
     },
     "execution_count": 28,
     "metadata": {},
     "output_type": "execute_result"
    }
   ],
   "source": [
    "df.Age_pere.max()"
   ]
  },
  {
   "cell_type": "code",
   "execution_count": 29,
   "metadata": {},
   "outputs": [
    {
     "data": {
      "text/plain": [
       "0          NaN\n",
       "1          NaN\n",
       "2          NaN\n",
       "3          NaN\n",
       "4          NaN\n",
       "5          NaN\n",
       "6          NaN\n",
       "7          NaN\n",
       "8          NaN\n",
       "9          NaN\n",
       "10         NaN\n",
       "11         NaN\n",
       "12         NaN\n",
       "13         NaN\n",
       "14         NaN\n",
       "15         NaN\n",
       "16         NaN\n",
       "17         NaN\n",
       "18         NaN\n",
       "19         NaN\n",
       "20         NaN\n",
       "21         NaN\n",
       "22         NaN\n",
       "23         NaN\n",
       "24         NaN\n",
       "25         NaN\n",
       "26         NaN\n",
       "27         NaN\n",
       "28         NaN\n",
       "29         NaN\n",
       "          ... \n",
       "5418357    NaN\n",
       "5418358    NaN\n",
       "5418359    NaN\n",
       "5418360    NaN\n",
       "5418361    NaN\n",
       "5418362    NaN\n",
       "5418363    NaN\n",
       "5418364    NaN\n",
       "5418365    NaN\n",
       "5418366    NaN\n",
       "5418367    NaN\n",
       "5418368    NaN\n",
       "5418369    NaN\n",
       "5418370    NaN\n",
       "5418371    NaN\n",
       "5418372    NaN\n",
       "5418373    NaN\n",
       "5418374    NaN\n",
       "5418375    NaN\n",
       "5418376    NaN\n",
       "5418377    NaN\n",
       "5418378    NaN\n",
       "5418379    NaN\n",
       "5418380    NaN\n",
       "5418381    NaN\n",
       "5418382    NaN\n",
       "5418383    NaN\n",
       "5418384    NaN\n",
       "5418385    NaN\n",
       "5418386    NaN\n",
       "Name: Parent, Length: 5418387, dtype: object"
      ]
     },
     "execution_count": 29,
     "metadata": {},
     "output_type": "execute_result"
    }
   ],
   "source": [
    "df.Parent"
   ]
  },
  {
   "cell_type": "code",
   "execution_count": 30,
   "metadata": {},
   "outputs": [],
   "source": [
    "df_age_by_log_count = df[[\"Age_pere\", \"Age_mere\",\n",
    "                    \"ANAIS_pere\", \"ANAIS_mere\",\n",
    "                    \"ID_FISC_LOG_DIFF\"]].groupby(\"ID_FISC_LOG_DIFF\").count()"
   ]
  },
  {
   "cell_type": "code",
   "execution_count": 31,
   "metadata": {},
   "outputs": [],
   "source": [
    "double_pere_id_log = df_age_by_log_count[df_age_by_log_count.Age_pere == 2].index"
   ]
  },
  {
   "cell_type": "code",
   "execution_count": null,
   "metadata": {},
   "outputs": [],
   "source": [
    "fisc_individu[fisc_individu.ID_FISC_LOG_DIFF.isin(double_pere_id_log)]"
   ]
  },
  {
   "cell_type": "code",
   "execution_count": null,
   "metadata": {},
   "outputs": [],
   "source": []
  },
  {
   "cell_type": "code",
   "execution_count": null,
   "metadata": {},
   "outputs": [],
   "source": []
  },
  {
   "cell_type": "code",
   "execution_count": 33,
   "metadata": {},
   "outputs": [],
   "source": [
    "df_age_by_log = df[[\"Age_pere\", \"Age_mere\",\n",
    "                    \"ANAIS_pere\", \"ANAIS_mere\",\n",
    "                    \"ID_FISC_LOG_DIFF\"]].groupby(\"ID_FISC_LOG_DIFF\").sum()"
   ]
  },
  {
   "cell_type": "code",
   "execution_count": 34,
   "metadata": {},
   "outputs": [],
   "source": [
    "fisc_revenu3 = pd.merge(fisc_revenu2.reset_index(), df_age_by_log.reset_index(), on = \"ID_FISC_LOG_DIFF\", how = \"left\" )"
   ]
  },
  {
   "cell_type": "code",
   "execution_count": null,
   "metadata": {},
   "outputs": [],
   "source": []
  },
  {
   "cell_type": "code",
   "execution_count": null,
   "metadata": {},
   "outputs": [],
   "source": []
  },
  {
   "cell_type": "code",
   "execution_count": 35,
   "metadata": {},
   "outputs": [],
   "source": [
    "### Add logement informations"
   ]
  },
  {
   "cell_type": "code",
   "execution_count": 36,
   "metadata": {},
   "outputs": [],
   "source": [
    "df_fisc_logement = pd.read_hdf( store_path,\"FISC_LOGEMENT_{}\".format(year+1))"
   ]
  },
  {
   "cell_type": "code",
   "execution_count": 37,
   "metadata": {},
   "outputs": [
    {
     "data": {
      "text/plain": [
       "{'how': 'left', 'on': 'ID_FISC_LOG_DIFF'}"
      ]
     },
     "execution_count": 37,
     "metadata": {},
     "output_type": "execute_result"
    }
   ],
   "source": [
    "dict(on = \"ID_FISC_LOG_DIFF\", how = \"left\" )"
   ]
  },
  {
   "cell_type": "code",
   "execution_count": 38,
   "metadata": {},
   "outputs": [
    {
     "name": "stdout",
     "output_type": "stream",
     "text": [
      "Wall time: 0 ns\n"
     ]
    }
   ],
   "source": [
    "%time\n",
    "merge4 = pd.merge(fisc_revenu3, df_fisc_logement, **dict(on = \"ID_FISC_LOG_DIFF\", how = \"left\" ))"
   ]
  },
  {
   "cell_type": "code",
   "execution_count": 39,
   "metadata": {},
   "outputs": [
    {
     "data": {
      "text/plain": [
       "O    0.832417\n",
       "N    0.167583\n",
       "Name: CHAUFF, dtype: float64"
      ]
     },
     "execution_count": 39,
     "metadata": {},
     "output_type": "execute_result"
    }
   ],
   "source": [
    "merge4.CHAUFF.value_counts(normalize=True)"
   ]
  },
  {
   "cell_type": "code",
   "execution_count": 49,
   "metadata": {},
   "outputs": [
    {
     "data": {
      "text/plain": [
       "'C:/Users/IMPTEMP_A_PACIFIC/Desktop/EDP_2016/Data/hdf/result.h5'"
      ]
     },
     "execution_count": 49,
     "metadata": {},
     "output_type": "execute_result"
    }
   ],
   "source": [
    "result_store_path"
   ]
  },
  {
   "cell_type": "code",
   "execution_count": 41,
   "metadata": {},
   "outputs": [
    {
     "data": {
      "text/plain": [
       "542.0"
      ]
     },
     "execution_count": 41,
     "metadata": {},
     "output_type": "execute_result"
    }
   ],
   "source": [
    "merge4.Age_pere.max()"
   ]
  },
  {
   "cell_type": "code",
   "execution_count": 42,
   "metadata": {},
   "outputs": [
    {
     "name": "stdout",
     "output_type": "stream",
     "text": [
      "2014\n"
     ]
    }
   ],
   "source": [
    "print(year)"
   ]
  },
  {
   "cell_type": "code",
   "execution_count": 69,
   "metadata": {},
   "outputs": [],
   "source": [
    "result_store_path_csv = 'C:/Users/IMPTEMP_A_PACIFIC/Desktop/EDP_2016/Data/result/csv/'"
   ]
  },
  {
   "cell_type": "code",
   "execution_count": null,
   "metadata": {},
   "outputs": [],
   "source": [
    "merge4.to_csv(result_store_path_csv+ \"step_3_{}.csv\".format(year))"
   ]
  },
  {
   "cell_type": "code",
   "execution_count": null,
   "metadata": {},
   "outputs": [],
   "source": []
  },
  {
   "cell_type": "code",
   "execution_count": null,
   "metadata": {},
   "outputs": [],
   "source": [
    "merge4.to_csv(result_store_path_csv)"
   ]
  },
  {
   "cell_type": "code",
   "execution_count": 48,
   "metadata": {},
   "outputs": [
    {
     "data": {
      "text/plain": [
       "2014"
      ]
     },
     "execution_count": 48,
     "metadata": {},
     "output_type": "execute_result"
    }
   ],
   "source": [
    "year"
   ]
  },
  {
   "cell_type": "code",
   "execution_count": 50,
   "metadata": {},
   "outputs": [
    {
     "data": {
      "text/plain": [
       "'C:/Users/IMPTEMP_A_PACIFIC/Desktop/EDP_2016/Data/hdf/result.h5'"
      ]
     },
     "execution_count": 50,
     "metadata": {},
     "output_type": "execute_result"
    }
   ],
   "source": [
    "result_store_path"
   ]
  },
  {
   "cell_type": "code",
   "execution_count": null,
   "metadata": {},
   "outputs": [],
   "source": []
  },
  {
   "cell_type": "code",
   "execution_count": 45,
   "metadata": {},
   "outputs": [
    {
     "name": "stdout",
     "output_type": "stream",
     "text": [
      "now:  2018-09-18 19:06:01.343156\n",
      "execution_time:  0:05:14.257430\n"
     ]
    }
   ],
   "source": [
    "stop_time = datetime.datetime.now(); print(\"now: \",stop_time);\n",
    "execution_time = stop_time - start_time; print(\"execution_time: \",execution_time)"
   ]
  },
  {
   "cell_type": "code",
   "execution_count": null,
   "metadata": {},
   "outputs": [],
   "source": [
    "merge4"
   ]
  },
  {
   "cell_type": "code",
   "execution_count": null,
   "metadata": {},
   "outputs": [],
   "source": []
  }
 ],
 "metadata": {
  "kernelspec": {
   "display_name": "Python 3",
   "language": "python",
   "name": "python3"
  },
  "language_info": {
   "codemirror_mode": {
    "name": "ipython",
    "version": 3
   },
   "file_extension": ".py",
   "mimetype": "text/x-python",
   "name": "python",
   "nbconvert_exporter": "python",
   "pygments_lexer": "ipython3",
   "version": "3.6.3"
  }
 },
 "nbformat": 4,
 "nbformat_minor": 2
}
