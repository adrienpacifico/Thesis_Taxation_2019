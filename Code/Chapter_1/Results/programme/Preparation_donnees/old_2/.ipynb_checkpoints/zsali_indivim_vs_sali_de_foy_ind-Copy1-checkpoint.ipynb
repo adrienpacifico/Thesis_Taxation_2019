{
 "cells": [
  {
   "cell_type": "code",
   "execution_count": 1,
   "metadata": {
    "collapsed": true
   },
   "outputs": [],
   "source": [
    "%matplotlib inline"
   ]
  },
  {
   "cell_type": "code",
   "execution_count": 2,
   "metadata": {
    "collapsed": true
   },
   "outputs": [],
   "source": [
    "from __future__ import division\n",
    "import numpy as np\n",
    "import pandas as pd\n",
    "pd.core.series.Series.value_counts.im_func.func_defaults = (True, False, False, None, False)\n",
    "pd.set_option('display.max_rows', 100)\n",
    "pd.set_option('display.max_columns', 50)\n",
    "#pd.set_option('display.width', 200)\n",
    "#pd.set_option('display.height', 100)"
   ]
  },
  {
   "cell_type": "code",
   "execution_count": 3,
   "metadata": {
    "collapsed": true
   },
   "outputs": [],
   "source": [
    "import matplotlib.pyplot as plt"
   ]
  },
  {
   "cell_type": "code",
   "execution_count": 4,
   "metadata": {
    "collapsed": true
   },
   "outputs": [],
   "source": [
    "file_path = \"/Users/adrienpacifico/openfisca/Data/openfisca_data_2009.h5\"\n",
    "tmp_file_path = \"/Users/adrienpacifico/openfisca/Data/ofsc/tmp/erfs_mensualized.h5\""
   ]
  },
  {
   "cell_type": "code",
   "execution_count": 5,
   "metadata": {
    "collapsed": false
   },
   "outputs": [
    {
     "data": {
      "text/plain": [
       "<class 'pandas.io.pytables.HDFStore'>\n",
       "File path: /Users/adrienpacifico/openfisca/Data/ofsc/tmp/erfs_mensualized.h5\n",
       "/enfants_a_naitre_2009                       frame        (shape->[1079,8])   \n",
       "/famc_2009                                   frame        (shape->[112769,2]) \n",
       "/final2                                      frame        (shape->[112360,9]) \n",
       "/final2bis                                   frame        (shape->[112359,9]) \n",
       "/final3                                      frame        (shape->[112359,24])\n",
       "/final4                                      frame        (shape->[112359,24])\n",
       "/final_2009                                  frame        (shape->[112360,8]) \n",
       "/fipDat_2009                                 frame        (shape->[2463,29])  \n",
       "/foy_ind_2009                                frame        (shape->[76470,237])\n",
       "/ind_vars_to_remove_2009                     series       (shape->[1])        \n",
       "/indivi_step_06_2009                         frame        (shape->[112846,2]) \n",
       "/indivim_2009                                frame        (shape->[112427,16])\n",
       "/input_2009                                  frame        (shape->[112359,35])\n",
       "/input_mensualized/period_2009               frame        (shape->[112359,35])\n",
       "/input_mensualized/period_2009-01            frame        (shape->[112359,10])\n",
       "/input_mensualized/period_2009-02            frame        (shape->[112359,10])\n",
       "/input_mensualized/period_2009-03            frame        (shape->[112359,10])\n",
       "/input_mensualized/period_2009-04            frame        (shape->[112359,10])\n",
       "/input_mensualized/period_2009-05            frame        (shape->[112359,10])\n",
       "/input_mensualized/period_2009-06            frame        (shape->[112359,10])\n",
       "/input_mensualized/period_2009-07            frame        (shape->[112359,10])\n",
       "/input_mensualized/period_2009-08            frame        (shape->[112359,10])\n",
       "/input_mensualized/period_2009-09            frame        (shape->[112359,10])\n",
       "/input_mensualized/period_2009-10            frame        (shape->[112359,10])\n",
       "/input_mensualized/period_2009-11            frame        (shape->[112359,10])\n",
       "/input_mensualized/period_2009-12            frame        (shape->[112359,10])\n",
       "/menagem_2009                                frame        (shape->[49016,4])  \n",
       "/pacIndiv_2009                               frame        (shape->[27090,3])  \n",
       "/sif_2009                                    frame        (shape->[58025,17]) \n",
       "/stat_des_adrien_2009                        frame        (shape->[112846,58])\n",
       "/tot2_2009                                   frame        (shape->[112360,4]) \n",
       "/tot3_2009                                   frame        (shape->[112360,4]) "
      ]
     },
     "execution_count": 5,
     "metadata": {},
     "output_type": "execute_result"
    }
   ],
   "source": [
    "pd.HDFStore(tmp_file_path)"
   ]
  },
  {
   "cell_type": "code",
   "execution_count": 6,
   "metadata": {
    "collapsed": false
   },
   "outputs": [],
   "source": [
    "indivi = pd.read_hdf(tmp_file_path,\"/indivim_2009\")\n",
    "foy_ind = pd.read_hdf(tmp_file_path,\"/foy_ind_2009\")\n",
    "tot2 = pd.read_hdf(tmp_file_path,\"/tot2_2009\")\n",
    "tot3 = pd.read_hdf(tmp_file_path,\"/tot3_2009\")"
   ]
  },
  {
   "cell_type": "code",
   "execution_count": 7,
   "metadata": {
    "collapsed": false
   },
   "outputs": [
    {
     "name": "stdout",
     "output_type": "stream",
     "text": [
      "926149352.0\n",
      "967516134.0\n",
      "967516134.0 0.0427556508324\n"
     ]
    }
   ],
   "source": [
    "\n",
    "print foy_ind.sali.sum() \n",
    "print tot2.sali.sum()\n",
    "print tot3.sali.sum() , 1 - (foy_ind.sali.sum()/tot3.sali.sum())"
   ]
  },
  {
   "cell_type": "code",
   "execution_count": 14,
   "metadata": {
    "collapsed": false
   },
   "outputs": [
    {
     "name": "stdout",
     "output_type": "stream",
     "text": [
      "45946320.0\n",
      "47545655.0\n",
      "47545655.0 0.0336378792131\n"
     ]
    }
   ],
   "source": [
    "print foy_ind.choi.sum() \n",
    "print tot2.choi.sum()\n",
    "print tot3.choi.sum(), 1 - (foy_ind.choi.sum()/tot3.choi.sum())"
   ]
  },
  {
   "cell_type": "code",
   "execution_count": 15,
   "metadata": {
    "collapsed": false
   },
   "outputs": [
    {
     "name": "stdout",
     "output_type": "stream",
     "text": [
      "450038745.0\n",
      "454750361.0\n",
      "454750361.0 0.0103608845733\n"
     ]
    }
   ],
   "source": [
    "print foy_ind.rsti.sum() \n",
    "print tot2.rsti.sum()\n",
    "print tot3.rsti.sum(), 1 - (foy_ind.rsti.sum()/tot3.rsti.sum())"
   ]
  },
  {
   "cell_type": "code",
   "execution_count": 17,
   "metadata": {
    "collapsed": false
   },
   "outputs": [
    {
     "data": {
      "text/plain": [
       "967516134.0"
      ]
     },
     "execution_count": 17,
     "metadata": {},
     "output_type": "execute_result"
    }
   ],
   "source": [
    "indivi.zsali.sum()"
   ]
  },
  {
   "cell_type": "code",
   "execution_count": 18,
   "metadata": {
    "collapsed": true
   },
   "outputs": [],
   "source": [
    "indivim = indivi.copy()"
   ]
  },
  {
   "cell_type": "code",
   "execution_count": 19,
   "metadata": {
    "collapsed": false
   },
   "outputs": [],
   "source": [
    "selection = pd.Series()\n",
    "for var_i in [\"zsali\", \"zchoi\", \"zrsti\", \"zalri\", \"zrtoi\", \"zragi\", \"zrici\", \"zrnci\"]:\n",
    "    var_o = var_i[:-1] + \"o\"\n",
    "    test = indivim[var_i] != indivim[var_o]\n",
    "    if selection.empty:\n",
    "        selection = test\n",
    "    else:\n",
    "        selection = test | selection"
   ]
  },
  {
   "cell_type": "code",
   "execution_count": 20,
   "metadata": {
    "collapsed": true
   },
   "outputs": [],
   "source": [
    "indivi_i = indivim[selection].copy()"
   ]
  },
  {
   "cell_type": "code",
   "execution_count": 21,
   "metadata": {
    "collapsed": false
   },
   "outputs": [
    {
     "data": {
      "text/plain": [
       "3487290.0"
      ]
     },
     "execution_count": 21,
     "metadata": {},
     "output_type": "execute_result"
    }
   ],
   "source": [
    "indivi_i.zsalo.sum()"
   ]
  },
  {
   "cell_type": "code",
   "execution_count": null,
   "metadata": {
    "collapsed": true
   },
   "outputs": [],
   "source": []
  }
 ],
 "metadata": {
  "kernelspec": {
   "display_name": "Python 2",
   "language": "python",
   "name": "python2"
  },
  "language_info": {
   "codemirror_mode": {
    "name": "ipython",
    "version": 2
   },
   "file_extension": ".py",
   "mimetype": "text/x-python",
   "name": "python",
   "nbconvert_exporter": "python",
   "pygments_lexer": "ipython2",
   "version": "2.7.10"
  },
  "toc": {
   "toc_cell": false,
   "toc_number_sections": true,
   "toc_threshold": 4,
   "toc_window_display": false
  }
 },
 "nbformat": 4,
 "nbformat_minor": 0
}
