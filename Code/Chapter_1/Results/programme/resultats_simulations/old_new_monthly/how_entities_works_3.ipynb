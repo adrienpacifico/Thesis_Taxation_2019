{
 "cells": [
  {
   "cell_type": "markdown",
   "metadata": {},
   "source": [
    "### Git versioning"
   ]
  },
  {
   "cell_type": "code",
   "execution_count": 1,
   "metadata": {
    "collapsed": false
   },
   "outputs": [
    {
     "name": "stdout",
     "output_type": "stream",
     "text": [
      "---This notebook have been runed with--- \n",
      "Openfisca-france : 03f19d8d1c056fec5562f592814f9526b3e6c0a2 \n",
      "\n",
      "Commit short SHA: 03f19\n",
      "Branch:  mensualisation_wip\n",
      "Date (y/m/d): 2016-06-01 08:56:21  \n",
      "\n",
      "Openfisca-core : 4076f591f4bcb571391b65a989e1603fdc4cb759  Date: 2016-02-24 16:11:57 \n",
      "Openfisca-france-data : 4581a82fd1456cbe0bdd86ab1b57db6fef37c8cf  Date: 2016-05-31 15:46:50 \n",
      "OpenFisca-Aggregates : fd210d8cfdf6ed68f173d9d5c3eab4a4302ed2b9  Date: 2016-04-04 11:35:03 \n",
      "OpenFisca-Survey-Manager : 868512d24307aa75cfa7bbbf8420542960963966  Date: 2016-04-04 11:35:03 \n"
     ]
    }
   ],
   "source": [
    "import git  #Requires Gitpython installed, to install do \"$ pip install Gitpython\" in your terminal\n",
    "import pkg_resources\n",
    "openfisca_france_location = pkg_resources.get_distribution('openfisca-france').location\n",
    "repo = git.Repo(openfisca_france_location)\n",
    "repo.git.status()\n",
    "\n",
    "sha = repo.head.object.hexsha\n",
    "\n",
    "print \"---This notebook have been runed with--- \\n\",\"Openfisca-france :\", repo.head.object.hexsha, '\\n' \n",
    "print \"Commit short SHA:\", repo.git.rev_parse(sha, short=4)\n",
    "print \"Branch: \", repo.git.rev_parse('--abbrev-ref', \"HEAD\") #equivalent to: $git rev-parse --abbrev-ref HEAD\n",
    "print \"Date (y/m/d):\", repo.git.show(\"-s\", '--format=%ci', 'HEAD^')[:-5],\"\\n\"  # equivalent to: $git show -s --format=%ci HEAD^\n",
    "\n",
    "print \"Openfisca-core :\", git.Repo(pkg_resources.get_distribution('openfisca-core').location).head.object.hexsha, ' Date:', git.Repo(pkg_resources.get_distribution('openfisca-core').location).git.show(\"-s\", '--format=%ci', 'HEAD^')[:-5]\n",
    "print \"Openfisca-france-data :\", git.Repo(pkg_resources.get_distribution('openfisca-france-data').location).head.object.hexsha, ' Date:', git.Repo(pkg_resources.get_distribution('openfisca-france-data').location).git.show(\"-s\", '--format=%ci', 'HEAD^')[:-5]\n",
    "print \"OpenFisca-Aggregates :\", git.Repo(pkg_resources.get_distribution('OpenFisca-Aggregates').location).head.object.hexsha, ' Date:', git.Repo(pkg_resources.get_distribution('OpenFisca-Aggregates').location).git.show(\"-s\", '--format=%ci', 'HEAD^')[:-5]\n",
    "print \"OpenFisca-Survey-Manager :\", git.Repo(pkg_resources.get_distribution('OpenFisca-Survey-Manager').location).head.object.hexsha, ' Date:', git.Repo(pkg_resources.get_distribution('OpenFisca-Aggregates').location).git.show(\"-s\", '--format=%ci', 'HEAD^')[:-5]"
   ]
  },
  {
   "cell_type": "markdown",
   "metadata": {},
   "source": [
    "### Imports"
   ]
  },
  {
   "cell_type": "code",
   "execution_count": 2,
   "metadata": {
    "collapsed": false
   },
   "outputs": [],
   "source": [
    "%matplotlib inline\n",
    "from __future__ import division\n",
    "\n",
    "from openfisca_core import periods\n",
    "from openfisca_plugin_aggregates.tests.reform.test_aggregates_mensualized import create_survey_scenario\n",
    "import pandas as pd\n",
    "\n",
    "import matplotlib.pyplot as plt\n",
    "\n",
    "import numpy as np\n",
    "from numpy import (datetime64, logical_and as and_, logical_not as not_, logical_or as or_, logical_xor as xor_,\n",
    "maximum as max_, minimum as min_, round)\n",
    "\n",
    "\n",
    "#Faire des filtres pour Mahdi survey_scenario.create_data_frame_by_entity_key_plural\n",
    "\n",
    "pd.set_option('expand_frame_repr', False)  #utile quand on utilise pandas en mode console\n",
    "pd.set_option(\"display.max_rows\",201)\n",
    "pd.set_option(\"display.max_columns\",201)"
   ]
  },
  {
   "cell_type": "markdown",
   "metadata": {},
   "source": [
    "# Create Survey Scenario"
   ]
  },
  {
   "cell_type": "code",
   "execution_count": 3,
   "metadata": {
    "collapsed": false
   },
   "outputs": [],
   "source": [
    "period = periods.period(2009)"
   ]
  },
  {
   "cell_type": "code",
   "execution_count": 4,
   "metadata": {
    "collapsed": false
   },
   "outputs": [
    {
     "data": {
      "text/plain": [
       "Period((u'month', Instant((2009, 1, 1)), 1))"
      ]
     },
     "execution_count": 4,
     "metadata": {},
     "output_type": "execute_result"
    }
   ],
   "source": [
    "period.this_year.this_month"
   ]
  },
  {
   "cell_type": "code",
   "execution_count": 5,
   "metadata": {
    "collapsed": false
   },
   "outputs": [],
   "source": [
    "survey_scenario = create_survey_scenario(2009)\n",
    "survey_scenario.new_simulation()\n",
    "\n",
    "weight_foyers = survey_scenario.simulation.calculate_add('weight_foyers', period = period).astype(float)\n",
    "weight_menages = survey_scenario.simulation.calculate_add('wprm', period = period).astype(float)\n",
    "weight_familles = survey_scenario.simulation.calculate_add('weight_familles', period = period).astype(float)\n",
    "weight_individus = survey_scenario.simulation.calculate_add('weight_individus', period = period).astype(float)"
   ]
  },
  {
   "cell_type": "code",
   "execution_count": 6,
   "metadata": {
    "collapsed": true
   },
   "outputs": [],
   "source": [
    "simulation = survey_scenario.simulation\n",
    "scenario = survey_scenario"
   ]
  },
  {
   "cell_type": "markdown",
   "metadata": {},
   "source": [
    "Entity can be accessed from the object simulation either by its plural or singular name. # TODO: Why do we have that difference ? "
   ]
  },
  {
   "cell_type": "code",
   "execution_count": 7,
   "metadata": {
    "collapsed": false
   },
   "outputs": [
    {
     "name": "stdout",
     "output_type": "stream",
     "text": [
      "{'foyers_fiscaux': <openfisca_core.reforms.FoyersFiscaux object at 0x118d79ad0>, 'individus': <openfisca_core.reforms.Individus object at 0x118d371d0>, 'familles': <openfisca_core.reforms.Familles object at 0x118d2bf50>, 'menages': <openfisca_core.reforms.Menages object at 0x118d2b0d0>} \n",
      "----------------------------------------\n",
      "\n",
      "{'foyer_fiscal': <openfisca_core.reforms.FoyersFiscaux object at 0x118d79ad0>, 'individu': <openfisca_core.reforms.Individus object at 0x118d371d0>, 'famille': <openfisca_core.reforms.Familles object at 0x118d2bf50>, 'menage': <openfisca_core.reforms.Menages object at 0x118d2b0d0>}\n"
     ]
    }
   ],
   "source": [
    "print simulation.entity_by_key_plural, \"\\n\" + \"--\"*20 + \"\\n\"\n",
    "print simulation.entity_by_key_singular"
   ]
  },
  {
   "cell_type": "markdown",
   "metadata": {},
   "source": [
    "\n"
   ]
  },
  {
   "cell_type": "markdown",
   "metadata": {},
   "source": [
    "Formulas are based on a specific entity : "
   ]
  },
  {
   "cell_type": "code",
   "execution_count": 8,
   "metadata": {
    "collapsed": false
   },
   "outputs": [
    {
     "data": {
      "text/plain": [
       "[u'nb_par',\n",
       " u'maries',\n",
       " u'concub',\n",
       " u'isol',\n",
       " u'proprietaire_proche_famille',\n",
       " u'residence_dom',\n",
       " u'residence_guadeloupe',\n",
       " u'residence_martinique',\n",
       " u'residence_guyane',\n",
       " u'residence_reunion',\n",
       " u'residence_mayotte',\n",
       " u'psoc',\n",
       " u'pfam',\n",
       " u'mini',\n",
       " u'aides_logement',\n",
       " u'crds_pfam',\n",
       " u'biact',\n",
       " u'br_pf',\n",
       " u'al_pac',\n",
       " u'aide_logement_base_ressources_eval_forfaitaire',\n",
       " u'aide_logement_neutralisation_rsa',\n",
       " u'aide_logement_base_ressources_defaut',\n",
       " u'aide_logement_base_ressources',\n",
       " u'aide_logement_montant_brut',\n",
       " u'aide_logement_montant',\n",
       " u'alf',\n",
       " u'als_nonet',\n",
       " u'alset',\n",
       " u'als',\n",
       " u'apl',\n",
       " u'aide_logement_non_calculable',\n",
       " u'aide_logement',\n",
       " u'crds_logement',\n",
       " u'statut_occupation_famille',\n",
       " u'zone_apl_famille',\n",
       " u'bourse_college',\n",
       " u'bourse_lycee_points_de_charge',\n",
       " u'bourse_lycee_nombre_parts',\n",
       " u'bourse_lycee',\n",
       " u'aah_base_ressources',\n",
       " u'aah_non_calculable',\n",
       " u'br_mv',\n",
       " u'asi_aspa_nb_alloc',\n",
       " u'asi',\n",
       " u'aspa_couple',\n",
       " u'aspa',\n",
       " u'ass',\n",
       " u'ass_base_ressources',\n",
       " u'acs_montant',\n",
       " u'cmu_forfait_logement_base',\n",
       " u'cmu_forfait_logement_al',\n",
       " u'cmu_nbp_foyer',\n",
       " u'cmu_eligible_majoration_dom',\n",
       " u'cmu_c_plafond',\n",
       " u'acs_plafond',\n",
       " u'cmu_base_ressources',\n",
       " u'cmu_nb_pac',\n",
       " u'cmu_c',\n",
       " u'acs',\n",
       " u'aefa',\n",
       " u'api',\n",
       " u'br_rmi',\n",
       " u'br_rmi_ms',\n",
       " u'br_rmi_pf',\n",
       " u'crds_mini',\n",
       " u'enceinte_fam',\n",
       " u'nb_enfant_rsa',\n",
       " u'psa',\n",
       " u'ra_rsa',\n",
       " u'rmi',\n",
       " u'rmi_nbp',\n",
       " u'rsa',\n",
       " u'rsa_act',\n",
       " u'rsa_eligibilite',\n",
       " u'rsa_eligibilite_tns',\n",
       " u'rsa_forfait_asf',\n",
       " u'rsa_forfait_logement',\n",
       " u'rsa_isolement_recent',\n",
       " u'rsa_majore',\n",
       " u'rsa_majore_eligibilite',\n",
       " u'rsa_non_calculable',\n",
       " u'rsa_non_majore',\n",
       " u'rsa_socle',\n",
       " u'rsa_socle_majore',\n",
       " u'aeeh',\n",
       " u'af_nbenf',\n",
       " u'af_coeff_garde_alternee',\n",
       " u'af_forf_nbenf',\n",
       " u'af_eligibilite_base',\n",
       " u'af_eligibilite_dom',\n",
       " u'af_base',\n",
       " u'af_taux_modulation',\n",
       " u'af_forf_taux_modulation',\n",
       " u'af_age_aine',\n",
       " u'af_majo',\n",
       " u'af_complement_degressif',\n",
       " u'af_forf_complement_degressif',\n",
       " u'af_forf',\n",
       " u'af',\n",
       " u'ars',\n",
       " u'asf_elig',\n",
       " u'asf',\n",
       " u'inactif',\n",
       " u'partiel1',\n",
       " u'partiel2',\n",
       " u'opt_colca',\n",
       " u'empl_dir',\n",
       " u'ass_mat',\n",
       " u'gar_dom',\n",
       " u'paje',\n",
       " u'paje_base_montant',\n",
       " u'paje_naissance',\n",
       " u'paje_clca',\n",
       " u'paje_prepare',\n",
       " u'paje_clca_taux_plein',\n",
       " u'paje_clca_taux_partiel',\n",
       " u'paje_clmg',\n",
       " u'paje_colca',\n",
       " u'paje_base',\n",
       " u'ape_temp',\n",
       " u'apje_temp',\n",
       " u'ape',\n",
       " u'apje',\n",
       " u'cf_plafond',\n",
       " u'cf_majore_plafond',\n",
       " u'cf_ressources',\n",
       " u'cf_eligibilite_base',\n",
       " u'cf_eligibilite_dom',\n",
       " u'cf_non_majore_avant_cumul',\n",
       " u'cf_majore_avant_cumul',\n",
       " u'cf_montant',\n",
       " u'cf',\n",
       " u'af_nbenf_fonc',\n",
       " u'mini_mensuel',\n",
       " u'psoc_mensuel',\n",
       " u'mini_mensuel_rsa_mensuel',\n",
       " u'psoc_mensuel_rsa_mensuel',\n",
       " u'ra_rsa_mensualise',\n",
       " u'rsa_non_majore_mensualise',\n",
       " u'rsa_socle_majore_mensualise',\n",
       " u'rsa_majore_mensualise',\n",
       " u'rsa_mensuel',\n",
       " u'rsa_lambda_compensation',\n",
       " u'rsa_compensated_annual',\n",
       " u'idfam_original',\n",
       " u'champm_familles',\n",
       " u'weight_familles']"
      ]
     },
     "execution_count": 8,
     "metadata": {},
     "output_type": "execute_result"
    }
   ],
   "source": [
    "famille = simulation.entity_by_key_singular[\"famille\"]\n",
    "famille_entity = simulation.entity_by_key_singular[\"famille\"]\n",
    "famille_entity.column_by_name.keys()"
   ]
  },
  {
   "cell_type": "markdown",
   "metadata": {},
   "source": [
    "Here is the list of all formulas contained in `famille` entity."
   ]
  },
  {
   "cell_type": "code",
   "execution_count": 9,
   "metadata": {
    "collapsed": false
   },
   "outputs": [],
   "source": [
    "individu = simulation.entity_by_key_singular[\"individu\"]\n",
    "famille = simulation.entity_by_key_singular[\"famille\"]\n",
    "foyer = simulation.entity_by_key_singular[\"foyer_fiscal\"]\n",
    "menage = simulation.entity_by_key_singular[\"menage\"]"
   ]
  },
  {
   "cell_type": "markdown",
   "metadata": {},
   "source": [
    "## Roles"
   ]
  },
  {
   "cell_type": "markdown",
   "metadata": {},
   "source": [
    "Individuals in entities can have different roles"
   ]
  },
  {
   "cell_type": "code",
   "execution_count": 10,
   "metadata": {
    "collapsed": false
   },
   "outputs": [
    {
     "name": "stdout",
     "output_type": "stream",
     "text": [
      "famille:  ['parents', 'enfants']\n",
      "foyer: ['declarants', 'personnes_a_charge']\n",
      "menage ['personne_de_reference', 'conjoint', 'enfants', 'autres']\n"
     ]
    }
   ],
   "source": [
    "print \"famille: \", famille.roles_key\n",
    "print \"foyer:\", foyer.roles_key\n",
    "print \"menage\", menage.roles_key"
   ]
  },
  {
   "cell_type": "markdown",
   "metadata": {},
   "source": [
    "Those are label role, that indicate the status of each member of an entity, those are used to construct simulation and are more low level than end_users notions. \n",
    "\n",
    "There exist also effective role, that are a bit more precise on one status."
   ]
  },
  {
   "cell_type": "code",
   "execution_count": 11,
   "metadata": {
    "collapsed": false
   },
   "outputs": [
    {
     "data": {
      "text/plain": [
       "{'autres': u'Autres',\n",
       " 'conjoint': u'Conjoint',\n",
       " 'enfants': u'Enfants',\n",
       " 'personne_de_reference': u'Personne de r\\xe9f\\xe9rence'}"
      ]
     },
     "execution_count": 11,
     "metadata": {},
     "output_type": "execute_result"
    }
   ],
   "source": [
    "menage.label_by_role_key"
   ]
  },
  {
   "cell_type": "code",
   "execution_count": 12,
   "metadata": {
    "collapsed": false
   },
   "outputs": [],
   "source": [
    "from openfisca_france.model.base import QUIFAM, QUIFOY, QUIMEN"
   ]
  },
  {
   "cell_type": "code",
   "execution_count": 13,
   "metadata": {
    "collapsed": false
   },
   "outputs": [
    {
     "name": "stdout",
     "output_type": "stream",
     "text": [
      "Famille:\n",
      "('chef', 0)\n",
      "('part', 1)\n",
      "('enf1', 2)\n",
      "('enf2', 3)\n",
      "('enf3', 4)\n",
      "('enf4', 5)\n",
      "('enf5', 6)\n",
      "('enf6', 7)\n",
      "('enf7', 8)\n",
      "('enf8', 9)\n",
      "('enf9', 10)\n",
      "---\n",
      "Ménage:\n",
      "('pref', 0)\n",
      "('cref', 1)\n",
      "('enf1', 2)\n",
      "('enf2', 3)\n",
      "('enf3', 4)\n",
      "('enf4', 5)\n",
      "('enf5', 6)\n",
      "('enf6', 7)\n",
      "('enf7', 8)\n",
      "('enf8', 9)\n",
      "('enf9', 10)\n",
      "---\n",
      "Foyers:\n",
      "('vous', 0)\n",
      "('conj', 1)\n",
      "('pac1', 2)\n",
      "('pac2', 3)\n",
      "('pac3', 4)\n",
      "('pac4', 5)\n",
      "('pac5', 6)\n",
      "('pac6', 7)\n",
      "('pac7', 8)\n",
      "('pac8', 9)\n",
      "('pac9', 10)\n"
     ]
    }
   ],
   "source": [
    "print \"Famille:\"\n",
    "for role in QUIFAM.itervars():\n",
    "    print role\n",
    "print \"---\"; print u\"Ménage:\"\n",
    "for role in QUIMEN.itervars():\n",
    "    print role\n",
    "print \"---\"; print u\"Foyers:\"\n",
    "for role in QUIFOY.itervars():\n",
    "    print role"
   ]
  },
  {
   "cell_type": "code",
   "execution_count": 14,
   "metadata": {
    "collapsed": false
   },
   "outputs": [
    {
     "data": {
      "text/plain": [
       "<openfisca_core.reforms.Familles at 0x118d2bf50>"
      ]
     },
     "execution_count": 14,
     "metadata": {},
     "output_type": "execute_result"
    }
   ],
   "source": [
    "simulation.entity_by_key_singular['famille']"
   ]
  },
  {
   "cell_type": "markdown",
   "metadata": {},
   "source": [
    "# Repérer par role"
   ]
  },
  {
   "cell_type": "markdown",
   "metadata": {},
   "source": [
    "## Repérer les chefs de familles"
   ]
  },
  {
   "cell_type": "code",
   "execution_count": 15,
   "metadata": {
    "collapsed": false
   },
   "outputs": [
    {
     "data": {
      "text/plain": [
       "array([ True, False,  True, ..., False, False, False], dtype=bool)"
      ]
     },
     "execution_count": 15,
     "metadata": {},
     "output_type": "execute_result"
    }
   ],
   "source": [
    "famille.role_for_person_variable_name\n",
    "simulation.holder_by_name[\"quifam\"].array == 0"
   ]
  },
  {
   "cell_type": "markdown",
   "metadata": {},
   "source": [
    "## Repérer les déclarants fiscaux"
   ]
  },
  {
   "cell_type": "code",
   "execution_count": 16,
   "metadata": {
    "collapsed": false
   },
   "outputs": [
    {
     "data": {
      "text/plain": [
       "array([ True, False,  True, ..., False, False, False], dtype=bool)"
      ]
     },
     "execution_count": 16,
     "metadata": {},
     "output_type": "execute_result"
    }
   ],
   "source": [
    "famille.role_for_person_variable_name\n",
    "simulation.holder_by_name[\"quifoy\"].array == 0"
   ]
  },
  {
   "cell_type": "markdown",
   "metadata": {},
   "source": [
    "## Repérer les personnes de références des ménages"
   ]
  },
  {
   "cell_type": "code",
   "execution_count": 17,
   "metadata": {
    "collapsed": false
   },
   "outputs": [
    {
     "data": {
      "text/plain": [
       "array([ True, False, False, ..., False, False, False], dtype=bool)"
      ]
     },
     "execution_count": 17,
     "metadata": {},
     "output_type": "execute_result"
    }
   ],
   "source": [
    "famille.role_for_person_variable_name\n",
    "simulation.holder_by_name[\"quimen\"].array == 0"
   ]
  },
  {
   "cell_type": "markdown",
   "metadata": {},
   "source": [
    "# Sélectionner par roles"
   ]
  },
  {
   "cell_type": "markdown",
   "metadata": {},
   "source": [
    "## Recupérer les chefs de familles"
   ]
  },
  {
   "cell_type": "code",
   "execution_count": 18,
   "metadata": {
    "collapsed": false
   },
   "outputs": [],
   "source": [
    "chefs_de_famille = simulation.holder_by_name[\"quifam\"].array == 0\n",
    "part = simulation.holder_by_name[\"quifam\"].array == 1\n",
    "enfants = simulation.holder_by_name[\"quifam\"].array >= 2"
   ]
  },
  {
   "cell_type": "markdown",
   "metadata": {},
   "source": [
    "On peut par exemple regarder leurs age comparé a leur partenaire"
   ]
  },
  {
   "cell_type": "code",
   "execution_count": 19,
   "metadata": {
    "collapsed": false
   },
   "outputs": [
    {
     "name": "stdout",
     "output_type": "stream",
     "text": [
      "50.4012042093\n",
      "49.1393133766\n",
      "9.25191081681\n"
     ]
    }
   ],
   "source": [
    "print pd.Series(simulation.calculate(\"age\"))[chefs_de_famille].mean()\n",
    "print pd.Series(simulation.calculate(\"age\"))[part].mean()\n",
    "print pd.Series(simulation.calculate(\"age\"))[enfants].mean()"
   ]
  },
  {
   "cell_type": "markdown",
   "metadata": {},
   "source": [
    "## Recupérer les déclarants fiscaux"
   ]
  },
  {
   "cell_type": "code",
   "execution_count": 20,
   "metadata": {
    "collapsed": true
   },
   "outputs": [],
   "source": [
    "declarant1 = simulation.holder_by_name[\"quifoy\"].array == 0\n",
    "declarant2 = simulation.holder_by_name[\"quifoy\"].array == 1\n",
    "enfants = simulation.holder_by_name[\"quifoy\"].array >= 2"
   ]
  },
  {
   "cell_type": "code",
   "execution_count": 21,
   "metadata": {
    "collapsed": false
   },
   "outputs": [
    {
     "name": "stdout",
     "output_type": "stream",
     "text": [
      "49.5778468116\n",
      "51.9249816976\n",
      "9.71900628759\n"
     ]
    }
   ],
   "source": [
    "print pd.Series(simulation.calculate(\"age\"))[declarant1].mean()\n",
    "print pd.Series(simulation.calculate(\"age\"))[declarant2].mean()\n",
    "print pd.Series(simulation.calculate(\"age\"))[enfants].mean()"
   ]
  },
  {
   "cell_type": "markdown",
   "metadata": {},
   "source": [
    "## Récupérer les chefs de menages"
   ]
  },
  {
   "cell_type": "code",
   "execution_count": 22,
   "metadata": {
    "collapsed": true
   },
   "outputs": [],
   "source": [
    "declarant1 = simulation.holder_by_name[\"quimen\"].array == 0\n",
    "declarant2 = simulation.holder_by_name[\"quimen\"].array == 1\n",
    "enfants = simulation.holder_by_name[\"quimen\"].array >= 2"
   ]
  },
  {
   "cell_type": "code",
   "execution_count": 23,
   "metadata": {
    "collapsed": false
   },
   "outputs": [
    {
     "name": "stdout",
     "output_type": "stream",
     "text": [
      "52.8236494206\n",
      "49.1401189227\n",
      "13.3649181366\n"
     ]
    }
   ],
   "source": [
    "print pd.Series(simulation.calculate(\"age\"))[declarant1].mean()\n",
    "print pd.Series(simulation.calculate(\"age\"))[declarant2].mean()\n",
    "print pd.Series(simulation.calculate(\"age\"))[enfants].mean()"
   ]
  },
  {
   "cell_type": "markdown",
   "metadata": {},
   "source": [
    "# Sum by entity"
   ]
  },
  {
   "cell_type": "markdown",
   "metadata": {},
   "source": [
    "## Individuals to any entity"
   ]
  },
  {
   "cell_type": "markdown",
   "metadata": {},
   "source": [
    "Let's say that we want to know how much a household (`Famille`) has earned in labor income ( which depend of `Individus`). We can then sum by entity."
   ]
  },
  {
   "cell_type": "code",
   "execution_count": 24,
   "metadata": {
    "collapsed": false
   },
   "outputs": [],
   "source": [
    "salaire_net_holder = simulation.compute_add(\"salaire_net\") #Computed by individus"
   ]
  },
  {
   "cell_type": "code",
   "execution_count": 25,
   "metadata": {
    "collapsed": false
   },
   "outputs": [
    {
     "data": {
      "text/plain": [
       "<openfisca_core.reforms.Individus at 0x118d371d0>"
      ]
     },
     "execution_count": 25,
     "metadata": {},
     "output_type": "execute_result"
    }
   ],
   "source": [
    "salaire_net_holder.entity"
   ]
  },
  {
   "cell_type": "code",
   "execution_count": 41,
   "metadata": {
    "collapsed": false
   },
   "outputs": [],
   "source": [
    "entity_index_array = simulation.holder_by_name[famille.index_for_person_variable_name].array "
   ]
  },
  {
   "cell_type": "markdown",
   "metadata": {},
   "source": [
    "Gives the entity index array that associate an individual id (which is its position in the array), with its idfam"
   ]
  },
  {
   "cell_type": "code",
   "execution_count": 27,
   "metadata": {
    "collapsed": false
   },
   "outputs": [
    {
     "data": {
      "text/plain": [
       "'idfam'"
      ]
     },
     "execution_count": 27,
     "metadata": {},
     "output_type": "execute_result"
    }
   ],
   "source": [
    "famille.index_for_person_variable_name"
   ]
  },
  {
   "cell_type": "code",
   "execution_count": 85,
   "metadata": {
    "collapsed": false
   },
   "outputs": [],
   "source": [
    "target_array = np.empty(famille.count)\n",
    "target_array.fill(0)\n",
    "for role in range(10):  #max cardinality of roles\n",
    "    boolean_filter = simulation.holder_by_name[famille.role_for_person_variable_name].array == role\n",
    "    \n",
    "    target_array[entity_index_array[boolean_filter]] += salaire_net_holder.array[boolean_filter]"
   ]
  },
  {
   "cell_type": "code",
   "execution_count": 87,
   "metadata": {
    "collapsed": false
   },
   "outputs": [
    {
     "data": {
      "text/plain": [
       "array([     0.        ,      0.        ,    212.00001526,      0.        ,\n",
       "        16087.        ,  16956.        ,  22405.99804688,  20803.        ,\n",
       "            0.        ,      0.        ])"
      ]
     },
     "execution_count": 87,
     "metadata": {},
     "output_type": "execute_result"
    }
   ],
   "source": [
    "target_array[:10]"
   ]
  },
  {
   "cell_type": "code",
   "execution_count": 30,
   "metadata": {
    "collapsed": false
   },
   "outputs": [
    {
     "data": {
      "text/plain": [
       "array([     0.        ,      0.        ,      0.        ,    212.00001526,\n",
       "            0.        ,      0.        ,   3667.        ,  12420.        ,\n",
       "            0.        ,  16956.        ], dtype=float32)"
      ]
     },
     "execution_count": 30,
     "metadata": {},
     "output_type": "execute_result"
    }
   ],
   "source": [
    "salaire_net_holder.array[:10]"
   ]
  },
  {
   "cell_type": "code",
   "execution_count": 31,
   "metadata": {
    "collapsed": false
   },
   "outputs": [
    {
     "data": {
      "text/plain": [
       "array([0, 0, 1, 2, 3, 3, 4, 4, 4, 5], dtype=int32)"
      ]
     },
     "execution_count": 31,
     "metadata": {},
     "output_type": "execute_result"
    }
   ],
   "source": [
    "entity_index_array[:10]"
   ]
  },
  {
   "cell_type": "code",
   "execution_count": 37,
   "metadata": {
    "collapsed": false
   },
   "outputs": [
    {
     "data": {
      "text/plain": [
       "[(0.0, 0),\n",
       " (0.0, 0),\n",
       " (0.0, 1),\n",
       " (212.00002, 2),\n",
       " (0.0, 3),\n",
       " (0.0, 3),\n",
       " (3667.0, 4),\n",
       " (12420.0, 4),\n",
       " (0.0, 4),\n",
       " (16956.0, 5),\n",
       " (22405.998, 6),\n",
       " (0.0, 6),\n",
       " (0.0, 6),\n",
       " (0.0, 6),\n",
       " (0.0, 7),\n",
       " (20803.0, 7),\n",
       " (0.0, 8),\n",
       " (0.0, 9),\n",
       " (9471.0, 10),\n",
       " (2708.0, 10)]"
      ]
     },
     "execution_count": 37,
     "metadata": {},
     "output_type": "execute_result"
    }
   ],
   "source": [
    "zip(salaire_net_holder.array[:20], entity_index_array[:20])"
   ]
  },
  {
   "cell_type": "code",
   "execution_count": 39,
   "metadata": {
    "collapsed": false
   },
   "outputs": [
    {
     "data": {
      "text/plain": [
       "array([], dtype=float64)"
      ]
     },
     "execution_count": 39,
     "metadata": {},
     "output_type": "execute_result"
    }
   ],
   "source": [
    "target_array[target_array == 16087]"
   ]
  },
  {
   "cell_type": "code",
   "execution_count": 40,
   "metadata": {
    "collapsed": false
   },
   "outputs": [
    {
     "data": {
      "text/plain": [
       "[(0.0, 0),\n",
       " (0.0, 1),\n",
       " (212.00001525878906, 2),\n",
       " (0.0, 3),\n",
       " (0.0, 4),\n",
       " (16956.0, 5),\n",
       " (0.0, 6),\n",
       " (20803.0, 7),\n",
       " (0.0, 8),\n",
       " (0.0, 9),\n",
       " (0.0, 10),\n",
       " (0.0, 11),\n",
       " (0.0, 12),\n",
       " (0.0, 13),\n",
       " (0.0, 14),\n",
       " (8907.0, 15),\n",
       " (0.0, 16),\n",
       " (0.0, 17),\n",
       " (30205.001953125, 18),\n",
       " (27331.994140625, 19),\n",
       " (0.0, 20),\n",
       " (0.0, 21),\n",
       " (24358.998046875, 22),\n",
       " (4275.0, 23),\n",
       " (0.0, 24),\n",
       " (15672.9990234375, 25),\n",
       " (0.0, 26),\n",
       " (0.0, 27),\n",
       " (25413.0, 28),\n",
       " (0.0, 29)]"
      ]
     },
     "execution_count": 40,
     "metadata": {},
     "output_type": "execute_result"
    }
   ],
   "source": [
    "zip(target_array[:30], range(30))"
   ]
  },
  {
   "cell_type": "code",
   "execution_count": 32,
   "metadata": {
    "collapsed": false
   },
   "outputs": [
    {
     "name": "stdout",
     "output_type": "stream",
     "text": [
      "(55306,)\n",
      "(112359,)\n",
      "(112359,)\n"
     ]
    }
   ],
   "source": [
    "print target_array.shape\n",
    "print salaire_net_holder.array.shape\n",
    "print entity_index_array.shape"
   ]
  },
  {
   "cell_type": "markdown",
   "metadata": {},
   "source": [
    "On voit bien que `target_array` est la somme des `salaire_net_holder.array` elements appartenants à un même foyer."
   ]
  },
  {
   "cell_type": "markdown",
   "metadata": {},
   "source": [
    "### Whith a condition."
   ]
  },
  {
   "cell_type": "markdown",
   "metadata": {},
   "source": [
    "Let's say we want to keep only the wage of the head of the household or of the concubine"
   ]
  },
  {
   "cell_type": "code",
   "execution_count": 33,
   "metadata": {
    "collapsed": true
   },
   "outputs": [],
   "source": [
    "\n",
    "boolean_filter = simulation.holder_by_name[\"quifam\"].array == 0\n",
    "target_array = np.empty(famille.count)\n",
    "target_array.fill(0)\n",
    "target_array[entity_index_array[boolean_filter]] += salaire_net_holder.array[boolean_filter]"
   ]
  },
  {
   "cell_type": "code",
   "execution_count": 34,
   "metadata": {
    "collapsed": false
   },
   "outputs": [],
   "source": [
    "head_of_household = target_array\n",
    "head_of_household_count = np.sum(boolean_filter)"
   ]
  },
  {
   "cell_type": "code",
   "execution_count": 35,
   "metadata": {
    "collapsed": false
   },
   "outputs": [],
   "source": [
    "head_average_income = (head_of_household.sum()/head_of_household_count)/12"
   ]
  },
  {
   "cell_type": "code",
   "execution_count": 36,
   "metadata": {
    "collapsed": false
   },
   "outputs": [],
   "source": [
    "head_average_income_w = ((head_of_household*weight_individus[boolean_filter]).sum()/(weight_individus[boolean_filter].sum()))/12"
   ]
  },
  {
   "cell_type": "code",
   "execution_count": 37,
   "metadata": {
    "collapsed": false
   },
   "outputs": [],
   "source": [
    "\n",
    "boolean_filter = simulation.holder_by_name[\"quifam\"].array == 1\n",
    "target_array = np.empty(famille.count)\n",
    "target_array.fill(0)\n",
    "target_array[entity_index_array[boolean_filter]] += salaire_net_holder.array[boolean_filter]"
   ]
  },
  {
   "cell_type": "code",
   "execution_count": 38,
   "metadata": {
    "collapsed": true
   },
   "outputs": [],
   "source": [
    "concubine = target_array\n",
    "concubine_count = np.sum(boolean_filter)"
   ]
  },
  {
   "cell_type": "code",
   "execution_count": 39,
   "metadata": {
    "collapsed": false
   },
   "outputs": [
    {
     "data": {
      "text/plain": [
       "28662"
      ]
     },
     "execution_count": 39,
     "metadata": {},
     "output_type": "execute_result"
    }
   ],
   "source": [
    "concubine_count"
   ]
  },
  {
   "cell_type": "code",
   "execution_count": 40,
   "metadata": {
    "collapsed": false
   },
   "outputs": [
    {
     "data": {
      "text/plain": [
       "811.95076977513099"
      ]
     },
     "execution_count": 40,
     "metadata": {},
     "output_type": "execute_result"
    }
   ],
   "source": [
    "(concubine.sum()/concubine_count)/12"
   ]
  },
  {
   "cell_type": "code",
   "execution_count": 41,
   "metadata": {
    "collapsed": false
   },
   "outputs": [
    {
     "data": {
      "text/plain": [
       "1076.5673021402527"
      ]
     },
     "execution_count": 41,
     "metadata": {},
     "output_type": "execute_result"
    }
   ],
   "source": [
    "head_average_income_w"
   ]
  },
  {
   "cell_type": "markdown",
   "metadata": {},
   "source": [
    "## From non individual entity to an other entity"
   ]
  },
  {
   "cell_type": "markdown",
   "metadata": {},
   "source": [
    "Let's try to put tax household income to household income."
   ]
  },
  {
   "cell_type": "markdown",
   "metadata": {},
   "source": [
    "Since different entities doesn't necessarily contain the same individuals. The trick is to attribute the entity amount to the head of that entity ( i.e head of entity means `simulation.holder_by_name[any_entity_holder_name].array == 0` ),"
   ]
  },
  {
   "cell_type": "code",
   "execution_count": 81,
   "metadata": {
    "collapsed": true
   },
   "outputs": [],
   "source": [
    "irpp_holder = simulation.compute(\"irpp\")"
   ]
  },
  {
   "cell_type": "code",
   "execution_count": 82,
   "metadata": {
    "collapsed": false
   },
   "outputs": [
    {
     "data": {
      "text/plain": [
       "(59874,)"
      ]
     },
     "execution_count": 82,
     "metadata": {},
     "output_type": "execute_result"
    }
   ],
   "source": [
    "irpp_holder.array.shape"
   ]
  },
  {
   "cell_type": "code",
   "execution_count": 83,
   "metadata": {
    "collapsed": false
   },
   "outputs": [
    {
     "data": {
      "text/plain": [
       "<openfisca_core.reforms.FoyersFiscaux at 0x110f02ad0>"
      ]
     },
     "execution_count": 83,
     "metadata": {},
     "output_type": "execute_result"
    }
   ],
   "source": [
    "irpp_holder.entity"
   ]
  },
  {
   "cell_type": "code",
   "execution_count": 84,
   "metadata": {
    "collapsed": false
   },
   "outputs": [
    {
     "data": {
      "text/plain": [
       "array([    0.        ,     0.        ,     0.        , -1378.82971191,\n",
       "        -108.48883057,  -792.61254883, -9160.15039062, -2966.81005859,\n",
       "           0.        ,     0.        ,   153.5       , -2335.95263672,\n",
       "           0.        , -1309.25500488,     0.        , -2104.82763672,\n",
       "           0.        ,   166.15258789, -4151.70703125, -3237.30004883], dtype=float32)"
      ]
     },
     "execution_count": 84,
     "metadata": {},
     "output_type": "execute_result"
    }
   ],
   "source": [
    "irpp_holder.array[:20]"
   ]
  },
  {
   "cell_type": "code",
   "execution_count": 116,
   "metadata": {
    "collapsed": true
   },
   "outputs": [],
   "source": [
    "del persons"
   ]
  },
  {
   "cell_type": "code",
   "execution_count": 134,
   "metadata": {
    "collapsed": false
   },
   "outputs": [
    {
     "data": {
      "text/plain": [
       "-433.72232055664062"
      ]
     },
     "execution_count": 134,
     "metadata": {},
     "output_type": "execute_result"
    }
   ],
   "source": [
    "\n",
    "entity_index_array = simulation.holder_by_name[\"quifoy\"].array\n",
    "\n",
    "entity_index_array = simulation.holder_by_name[\"quifoy\"].array\n",
    "roles = None\n",
    "entity = foyer\n",
    "\n",
    "\n",
    "target_array = np.empty(simulation.persons.count)\n",
    "target_array.fill(0)\n",
    "entity_index_array = simulation.persons.simulation.holder_by_name[foyer.index_for_person_variable_name].array\n",
    "\n",
    "if roles is None:\n",
    "    roles = range(entity.roles_count)\n",
    "for role in roles:\n",
    "    boolean_filter = simulation.holder_by_name[entity.role_for_person_variable_name].array == role\n",
    "\n",
    "    target_array[boolean_filter] = simulation.compute_add(\"irpp\").array[entity_index_array[boolean_filter]]\n",
    "\n",
    "    \n",
    "target_array[50]"
   ]
  },
  {
   "cell_type": "code",
   "execution_count": 135,
   "metadata": {
    "collapsed": false
   },
   "outputs": [],
   "source": [
    "index_for_person_variable_name = famille.index_for_person_variable_name"
   ]
  },
  {
   "cell_type": "code",
   "execution_count": null,
   "metadata": {
    "collapsed": true
   },
   "outputs": [],
   "source": []
  },
  {
   "cell_type": "code",
   "execution_count": 159,
   "metadata": {
    "collapsed": false
   },
   "outputs": [],
   "source": [
    "\n",
    "def cast_from_entity_to_role( var , entity_key, roles = None):\n",
    "    \n",
    "    entity = simulation.entity_by_key_singular[entity_key]\n",
    "    index_for_person_variable_name = entity.index_for_person_variable_name\n",
    "    \n",
    "    entity_index_array = simulation.holder_by_name[entity.index_for_person_variable_name].array\n",
    "    \n",
    "    if roles is None:\n",
    "        roles = range(entity.roles_count)\n",
    "\n",
    "        \n",
    "    target_array = np.empty(simulation.persons.count)\n",
    "    target_array.fill(0)\n",
    "    for role in roles:\n",
    "        boolean_filter = simulation.holder_by_name[entity.role_for_person_variable_name].array == role\n",
    "        \n",
    "        print boolean_filter\n",
    "\n",
    "\n",
    "        target_array[boolean_filter] = simulation.compute_add(var).array[entity_index_array[boolean_filter]]\n",
    "        \n",
    "        print entity_index_array[boolean_filter][::10]\n",
    "    return target_array\n",
    "\n",
    "    \n",
    "\n"
   ]
  },
  {
   "cell_type": "code",
   "execution_count": 147,
   "metadata": {
    "collapsed": false
   },
   "outputs": [
    {
     "data": {
      "text/plain": [
       "array([53, 53, 54, 54, 55, 56, 56, 57, 57, 57, 58, 58, 59, 59, 60, 60, 61,\n",
       "       61, 62, 62, 63, 64, 64, 65, 66, 67, 67, 68, 67, 69, 70, 71, 72, 73,\n",
       "       74, 75, 76, 76, 77, 78], dtype=int32)"
      ]
     },
     "execution_count": 147,
     "metadata": {},
     "output_type": "execute_result"
    }
   ],
   "source": [
    "simulation.holder_by_name[foyer.index_for_person_variable_name].array[110:150]"
   ]
  },
  {
   "cell_type": "code",
   "execution_count": 108,
   "metadata": {
    "collapsed": false
   },
   "outputs": [],
   "source": [
    "from openfisca_utils import manipulate_entities"
   ]
  },
  {
   "cell_type": "code",
   "execution_count": 109,
   "metadata": {
    "collapsed": false
   },
   "outputs": [
    {
     "ename": "NameError",
     "evalue": "global name 'simulation' is not defined",
     "output_type": "error",
     "traceback": [
      "\u001b[0;31m---------------------------------------------------------------------------\u001b[0m",
      "\u001b[0;31mNameError\u001b[0m                                 Traceback (most recent call last)",
      "\u001b[0;32m<ipython-input-109-9f4fdeec0cc7>\u001b[0m in \u001b[0;36m<module>\u001b[0;34m()\u001b[0m\n\u001b[0;32m----> 1\u001b[0;31m \u001b[0mmanipulate_entities\u001b[0m\u001b[0;34m.\u001b[0m\u001b[0msum_by_entity\u001b[0m\u001b[0;34m(\u001b[0m\u001b[0;34m\"irpp\"\u001b[0m\u001b[0;34m,\u001b[0m \u001b[0;34m'famille'\u001b[0m\u001b[0;34m)\u001b[0m\u001b[0;34m\u001b[0m\u001b[0m\n\u001b[0m",
      "\u001b[0;32m/Users/adrienpacifico/openfisca/openfisca-utils/openfisca_utils/manipulate_entities.py\u001b[0m in \u001b[0;36msum_by_entity\u001b[0;34m(var, entity_key, boolean_filter)\u001b[0m\n\u001b[1;32m      5\u001b[0m \u001b[0;34m\u001b[0m\u001b[0m\n\u001b[1;32m      6\u001b[0m \u001b[0;32mdef\u001b[0m \u001b[0msum_by_entity\u001b[0m\u001b[0;34m(\u001b[0m\u001b[0mvar\u001b[0m\u001b[0;34m,\u001b[0m \u001b[0mentity_key\u001b[0m\u001b[0;34m,\u001b[0m \u001b[0mboolean_filter\u001b[0m \u001b[0;34m=\u001b[0m \u001b[0mNone\u001b[0m\u001b[0;34m)\u001b[0m\u001b[0;34m:\u001b[0m\u001b[0;34m\u001b[0m\u001b[0m\n\u001b[0;32m----> 7\u001b[0;31m     \u001b[0mvar_holder\u001b[0m \u001b[0;34m=\u001b[0m \u001b[0msimulation\u001b[0m\u001b[0;34m.\u001b[0m\u001b[0mcompute_add\u001b[0m\u001b[0;34m(\u001b[0m\u001b[0mvar\u001b[0m\u001b[0;34m)\u001b[0m\u001b[0;34m\u001b[0m\u001b[0m\n\u001b[0m\u001b[1;32m      8\u001b[0m     \u001b[0mentity\u001b[0m \u001b[0;34m=\u001b[0m \u001b[0msimulation\u001b[0m\u001b[0;34m.\u001b[0m\u001b[0mentity_by_key_singular\u001b[0m\u001b[0;34m[\u001b[0m\u001b[0mentity_key\u001b[0m\u001b[0;34m]\u001b[0m\u001b[0;34m\u001b[0m\u001b[0m\n\u001b[1;32m      9\u001b[0m \u001b[0;34m\u001b[0m\u001b[0m\n",
      "\u001b[0;31mNameError\u001b[0m: global name 'simulation' is not defined"
     ]
    }
   ],
   "source": [
    "manipulate_entities.sum_by_entity(\"irpp\", 'famille')"
   ]
  },
  {
   "cell_type": "markdown",
   "metadata": {},
   "source": [
    "## Et après on somme sur la famille"
   ]
  },
  {
   "cell_type": "code",
   "execution_count": 107,
   "metadata": {
    "collapsed": false
   },
   "outputs": [
    {
     "data": {
      "text/plain": [
       "array([    0.        ,     0.        ,     0.        , -1378.82971191,\n",
       "        -108.48883057,  -792.61254883, -9160.15039062, -2966.81005859,\n",
       "           0.        ,     0.        ,   153.5       , -2335.95263672,\n",
       "           0.        , -1309.25500488,     0.        , -2104.82763672,\n",
       "           0.        ,   166.15258789, -4151.70703125, -3237.30004883,\n",
       "       -2124.67504883,  -877.31494141,  -601.9440918 ,   737.79998779,\n",
       "           0.        , -1072.57531738, -1089.63220215,  -433.72232056,\n",
       "           0.        ,     0.        ,     0.        , -1132.75500488,\n",
       "       -1087.48754883,     0.        ,     0.        ,   778.0402832 ,\n",
       "         -79.07733154, -5260.95019531,  -576.65887451, -1171.85229492,\n",
       "        -157.12251282, -1710.03051758, -8168.14990234,  -502.41864014,\n",
       "       -7868.875     , -7178.47509766, -7609.375     ,     0.        ,\n",
       "        -700.63287354,     0.        ])"
      ]
     },
     "execution_count": 107,
     "metadata": {},
     "output_type": "execute_result"
    }
   ],
   "source": [
    "sum_array_by_entity(target_array, 'famille')[:50]"
   ]
  },
  {
   "cell_type": "code",
   "execution_count": 104,
   "metadata": {
    "collapsed": false
   },
   "outputs": [
    {
     "data": {
      "text/plain": [
       "(59874,)"
      ]
     },
     "execution_count": 104,
     "metadata": {},
     "output_type": "execute_result"
    }
   ],
   "source": [
    "weight_foyers.shape"
   ]
  },
  {
   "cell_type": "code",
   "execution_count": 166,
   "metadata": {
    "collapsed": false
   },
   "outputs": [
    {
     "data": {
      "text/plain": [
       "(55306,)"
      ]
     },
     "execution_count": 166,
     "metadata": {},
     "output_type": "execute_result"
    }
   ],
   "source": [
    "sum_array_by_entity(target_array, 'famille').shape"
   ]
  },
  {
   "cell_type": "code",
   "execution_count": 77,
   "metadata": {
    "collapsed": false
   },
   "outputs": [],
   "source": [
    "target_array2 = np.empty(famille.count)\n",
    "target_array2.fill(0)\n",
    "\n",
    "boolean_filter = simulation.holder_by_name[\"quifam\"].array == 0\n",
    "\n",
    "target_array2[entity_index_array[boolean_filter]] += target_array[boolean_filter]"
   ]
  },
  {
   "cell_type": "code",
   "execution_count": 79,
   "metadata": {
    "collapsed": false
   },
   "outputs": [
    {
     "data": {
      "text/plain": [
       "array([ 0.,  0.,  0.,  0.,  0.,  0.,  0.,  0.,  0.,  0.,  0.,  0.,  0.,\n",
       "        0.,  0.,  0.,  0.,  0.,  0.,  0.])"
      ]
     },
     "execution_count": 79,
     "metadata": {},
     "output_type": "execute_result"
    }
   ],
   "source": [
    "target_array2[:20]"
   ]
  },
  {
   "cell_type": "code",
   "execution_count": 165,
   "metadata": {
    "collapsed": false
   },
   "outputs": [
    {
     "data": {
      "text/plain": [
       "55306"
      ]
     },
     "execution_count": 165,
     "metadata": {},
     "output_type": "execute_result"
    }
   ],
   "source": [
    "famille.count"
   ]
  },
  {
   "cell_type": "code",
   "execution_count": 167,
   "metadata": {
    "collapsed": true
   },
   "outputs": [],
   "source": [
    "\n",
    "def cast_from_entity_to_role( var , entity_key, roles = None):\n",
    "    \n",
    "    entity = simulation.entity_by_key_singular[entity_key]\n",
    "    index_for_person_variable_name = entity.index_for_person_variable_name\n",
    "    \n",
    "    entity_index_array = simulation.holder_by_name[entity.index_for_person_variable_name].array\n",
    "    \n",
    "    if roles is None:\n",
    "        roles = range(entity.roles_count)\n",
    "\n",
    "        \n",
    "    target_array = np.empty(simulation.persons.count)\n",
    "    target_array.fill(0)\n",
    "    for role in roles:\n",
    "        boolean_filter = simulation.holder_by_name[entity.role_for_person_variable_name].array == role\n",
    "        \n",
    "        print boolean_filter\n",
    "\n",
    "\n",
    "        target_array[boolean_filter] = simulation.compute_add(var).array[entity_index_array[boolean_filter]]\n",
    "        \n",
    "        print entity_index_array[boolean_filter][::10]\n",
    "    return target_array\n",
    "\n",
    "    \n",
    "\n"
   ]
  },
  {
   "cell_type": "code",
   "execution_count": 170,
   "metadata": {
    "collapsed": true
   },
   "outputs": [],
   "source": [
    "from openfisca_core import formulas"
   ]
  },
  {
   "cell_type": "code",
   "execution_count": null,
   "metadata": {
    "collapsed": true
   },
   "outputs": [],
   "source": [
    "formulas.SimpleFormula.cast_from_entity_to_role()"
   ]
  },
  {
   "cell_type": "code",
   "execution_count": 179,
   "metadata": {
    "collapsed": false
   },
   "outputs": [],
   "source": [
    "class EmptyClass:\n",
    "    pass"
   ]
  },
  {
   "cell_type": "code",
   "execution_count": 180,
   "metadata": {
    "collapsed": true
   },
   "outputs": [],
   "source": [
    "empty_attribute = EmptyClass"
   ]
  },
  {
   "cell_type": "code",
   "execution_count": 181,
   "metadata": {
    "collapsed": true
   },
   "outputs": [],
   "source": [
    "empty_attribute.holder = simulation.compute(\"irpp\")"
   ]
  },
  {
   "cell_type": "code",
   "execution_count": 183,
   "metadata": {
    "collapsed": false
   },
   "outputs": [
    {
     "ename": "TypeError",
     "evalue": "unbound method sum_by_entity() must be called with SimpleFormula instance as first argument (got classobj instance instead)",
     "output_type": "error",
     "traceback": [
      "\u001b[0;31m---------------------------------------------------------------------------\u001b[0m",
      "\u001b[0;31mTypeError\u001b[0m                                 Traceback (most recent call last)",
      "\u001b[0;32m<ipython-input-183-4572f9667a46>\u001b[0m in \u001b[0;36m<module>\u001b[0;34m()\u001b[0m\n\u001b[0;32m----> 1\u001b[0;31m \u001b[0mformulas\u001b[0m\u001b[0;34m.\u001b[0m\u001b[0mSimpleFormula\u001b[0m\u001b[0;34m.\u001b[0m\u001b[0msum_by_entity\u001b[0m\u001b[0;34m(\u001b[0m\u001b[0mempty_attribute\u001b[0m\u001b[0;34m)\u001b[0m\u001b[0;34m\u001b[0m\u001b[0m\n\u001b[0m",
      "\u001b[0;31mTypeError\u001b[0m: unbound method sum_by_entity() must be called with SimpleFormula instance as first argument (got classobj instance instead)"
     ]
    }
   ],
   "source": [
    "formulas.SimpleFormula.sum_by_entity(empty_attribute)"
   ]
  },
  {
   "cell_type": "code",
   "execution_count": null,
   "metadata": {
    "collapsed": true
   },
   "outputs": [],
   "source": []
  },
  {
   "cell_type": "code",
   "execution_count": null,
   "metadata": {
    "collapsed": true
   },
   "outputs": [],
   "source": [
    "simulation.holder_by_name[\"quifam\"].array == 0"
   ]
  },
  {
   "cell_type": "markdown",
   "metadata": {},
   "source": [
    "## Fonctions génériques :"
   ]
  },
  {
   "cell_type": "code",
   "execution_count": 92,
   "metadata": {
    "collapsed": true
   },
   "outputs": [],
   "source": [
    "def sum_by_entity(var, entity_key, boolean_filter = None):\n",
    "    var_holder = simulation.compute_add(var)\n",
    "    entity = simulation.entity_by_key_singular[entity_key]\n",
    "    \n",
    "    entity_index_array = simulation.holder_by_name[entity.index_for_person_variable_name].array\n",
    "    \n",
    "    if boolean_filter == None:\n",
    "        boolean_filter = np.ones(simulation.persons.count, dtype=bool)\n",
    "    else:\n",
    "        boolean_filter\n",
    "    \n",
    "    \n",
    "\n",
    "    target_array = np.empty(entity.count)\n",
    "    target_array.fill(0)\n",
    "    target_array[entity_index_array[boolean_filter]] += var_holder.array[boolean_filter]\n",
    "\n",
    "\n",
    "\n",
    "    \n",
    "    return target_array\n",
    "    "
   ]
  },
  {
   "cell_type": "code",
   "execution_count": 93,
   "metadata": {
    "collapsed": false
   },
   "outputs": [
    {
     "name": "stderr",
     "output_type": "stream",
     "text": [
      "/usr/local/lib/python2.7/site-packages/ipykernel/__main__.py:7: FutureWarning: comparison to `None` will result in an elementwise object comparison in the future.\n"
     ]
    },
    {
     "data": {
      "text/plain": [
       "array([    0.        ,     0.        ,   212.00001526, ...,  4790.        ,\n",
       "        1008.        ,     0.        ])"
      ]
     },
     "execution_count": 93,
     "metadata": {},
     "output_type": "execute_result"
    }
   ],
   "source": [
    "sum_by_entity(\"salaire_net\", 'foyer_fiscal', simulation.holder_by_name[\"quifoy\"].array == 0)"
   ]
  },
  {
   "cell_type": "code",
   "execution_count": 95,
   "metadata": {
    "collapsed": false
   },
   "outputs": [],
   "source": [
    "def sum_array_by_entity(array, entity_key, boolean_filter = None):\n",
    "\n",
    "    entity = simulation.entity_by_key_singular[entity_key]\n",
    "    \n",
    "    entity_index_array = simulation.holder_by_name[entity.index_for_person_variable_name].array\n",
    "    \n",
    "    if boolean_filter == None:\n",
    "        boolean_filter = np.ones(simulation.persons.count, dtype=bool)\n",
    "    else:\n",
    "        boolean_filter\n",
    "    \n",
    "    \n",
    "\n",
    "    target_array = np.empty(entity.count)\n",
    "    target_array.fill(0)\n",
    "    target_array[entity_index_array[boolean_filter]] += array[boolean_filter]\n",
    "\n",
    "\n",
    "\n",
    "    \n",
    "    return target_array\n",
    "    "
   ]
  },
  {
   "cell_type": "code",
   "execution_count": 217,
   "metadata": {
    "collapsed": true
   },
   "outputs": [],
   "source": [
    "\n",
    "def cast_from_entity_to_role( var , entity_key, roles = None):\n",
    "    \n",
    "    entity = simulation.entity_by_key_singular[entity_key]\n",
    "    index_for_person_variable_name = entity.index_for_person_variable_name\n",
    "    entity_index_array = simulation.holder_by_name[entity.index_for_person_variable_name].array\n",
    "    \n",
    "    if roles is None:\n",
    "        roles = range(entity.roles_count)\n",
    "\n",
    "        \n",
    "    target_array = np.empty(simulation.persons.count)\n",
    "    target_array.fill(0)\n",
    "    for role in roles:\n",
    "        boolean_filter = simulation.holder_by_name[entity.role_for_person_variable_name].array == role\n",
    "\n",
    "        target_array[boolean_filter] = simulation.compute_add(var).array[entity_index_array[boolean_filter]]\n",
    "\n",
    "    return target_array\n",
    "\n",
    "    \n",
    "\n"
   ]
  },
  {
   "cell_type": "code",
   "execution_count": 234,
   "metadata": {
    "collapsed": true
   },
   "outputs": [],
   "source": [
    "\n",
    "def cast_from_entity_to_role( var , roles = None):\n",
    "    \n",
    "    var_holder = simulation.compute_add(var)\n",
    "    entity = var_holder.entity\n",
    "    entity_index_array = simulation.holder_by_name[entity.index_for_person_variable_name].array\n",
    "    \n",
    "    if roles is None:\n",
    "        roles = range(entity.roles_count)\n",
    "\n",
    "        \n",
    "    target_array = np.empty(simulation.persons.count)\n",
    "    target_array.fill(0)\n",
    "    for role in roles:\n",
    "        boolean_filter = simulation.holder_by_name[entity.role_for_person_variable_name].array == role\n",
    "\n",
    "        target_array[boolean_filter] = simulation.compute_add(var).array[entity_index_array[boolean_filter]]\n",
    "\n",
    "    return target_array\n"
   ]
  },
  {
   "cell_type": "code",
   "execution_count": 236,
   "metadata": {
    "collapsed": false
   },
   "outputs": [
    {
     "data": {
      "text/plain": [
       "(112359,)"
      ]
     },
     "execution_count": 236,
     "metadata": {},
     "output_type": "execute_result"
    }
   ],
   "source": [
    "cast_from_entity_to_role('irpp').shape"
   ]
  },
  {
   "cell_type": "code",
   "execution_count": 232,
   "metadata": {
    "collapsed": false
   },
   "outputs": [
    {
     "data": {
      "text/plain": [
       "'idfoy'"
      ]
     },
     "execution_count": 232,
     "metadata": {},
     "output_type": "execute_result"
    }
   ],
   "source": [
    "impo = simulation.compute('irpp') ; impo.entity.index_for_person_variable_name"
   ]
  },
  {
   "cell_type": "code",
   "execution_count": 224,
   "metadata": {
    "collapsed": false
   },
   "outputs": [
    {
     "data": {
      "text/plain": [
       "<openfisca_core.reforms.FoyersFiscaux at 0x110f02ad0>"
      ]
     },
     "execution_count": 224,
     "metadata": {},
     "output_type": "execute_result"
    }
   ],
   "source": [
    "simulation.entity_by_key_singular['foyer_fiscal']"
   ]
  },
  {
   "cell_type": "code",
   "execution_count": 197,
   "metadata": {
    "collapsed": false
   },
   "outputs": [],
   "source": [
    "def switch_entity(var, target_entity  ,roles = [0]):\n",
    "    var_holder = simulation.compute_add(var)\n",
    "    entity = var_holder.entity\n",
    "    \n",
    "    target_array = cast_from_entity_to_role(var, entity.key_singular, roles = roles)\n",
    "    \n",
    "\n",
    "    target_array = sum_array_by_entity(target_array, entity_key = target_entity )\n",
    "    \n",
    "    return target_array\n",
    "    \n",
    "    \n",
    "    \n",
    "    \n",
    "    \n",
    "    "
   ]
  },
  {
   "cell_type": "code",
   "execution_count": 198,
   "metadata": {
    "collapsed": false
   },
   "outputs": [
    {
     "name": "stdout",
     "output_type": "stream",
     "text": [
      "[ True False  True ..., False False False]\n",
      "[    0    10    20 ..., 59850 59860 59870]\n"
     ]
    },
    {
     "data": {
      "text/plain": [
       "array([     0.        ,      0.        ,      0.        , ...,\n",
       "       -12667.37304688,      0.        ,      0.        ])"
      ]
     },
     "execution_count": 198,
     "metadata": {},
     "output_type": "execute_result"
    }
   ],
   "source": [
    "switch_entity('irpp', 'famille')"
   ]
  },
  {
   "cell_type": "code",
   "execution_count": 192,
   "metadata": {
    "collapsed": false
   },
   "outputs": [
    {
     "name": "stdout",
     "output_type": "stream",
     "text": [
      "> \u001b[0;32m<ipython-input-190-815b102ab333>\u001b[0m(5)\u001b[0;36mswitch_entity\u001b[0;34m()\u001b[0m\n",
      "\u001b[0;32m      4 \u001b[0;31m\u001b[0;34m\u001b[0m\u001b[0m\n",
      "\u001b[0m\u001b[0;32m----> 5 \u001b[0;31m    \u001b[0mtarget_array\u001b[0m \u001b[0;34m=\u001b[0m \u001b[0mcast_from_entity_to_role\u001b[0m\u001b[0;34m(\u001b[0m\u001b[0mvar\u001b[0m\u001b[0;34m,\u001b[0m \u001b[0mentity\u001b[0m\u001b[0;34m.\u001b[0m\u001b[0mkey\u001b[0m\u001b[0;34m,\u001b[0m \u001b[0mroles\u001b[0m \u001b[0;34m=\u001b[0m \u001b[0mroles\u001b[0m\u001b[0;34m)\u001b[0m\u001b[0;34m\u001b[0m\u001b[0m\n",
      "\u001b[0m\u001b[0;32m      6 \u001b[0;31m\u001b[0;34m\u001b[0m\u001b[0m\n",
      "\u001b[0m\n",
      "ipdb> entity\n",
      "<openfisca_core.reforms.FoyersFiscaux object at 0x110f02ad0>\n",
      "ipdb> type(entity)\n",
      "<class 'openfisca_core.reforms.FoyersFiscaux'>\n",
      "ipdb> q\n"
     ]
    }
   ],
   "source": [
    "%debug"
   ]
  },
  {
   "cell_type": "code",
   "execution_count": null,
   "metadata": {
    "collapsed": true
   },
   "outputs": [],
   "source": []
  },
  {
   "cell_type": "code",
   "execution_count": null,
   "metadata": {
    "collapsed": true
   },
   "outputs": [],
   "source": []
  },
  {
   "cell_type": "code",
   "execution_count": 184,
   "metadata": {
    "collapsed": false
   },
   "outputs": [
    {
     "data": {
      "text/plain": [
       "<openfisca_core.holders.DatedHolder at 0x10b939290>"
      ]
     },
     "execution_count": 184,
     "metadata": {},
     "output_type": "execute_result"
    }
   ],
   "source": [
    "simulation.compute(\"irpp\")"
   ]
  },
  {
   "cell_type": "code",
   "execution_count": 189,
   "metadata": {
    "collapsed": false
   },
   "outputs": [
    {
     "data": {
      "text/plain": [
       "<openfisca_core.reforms.FoyersFiscaux at 0x110f02ad0>"
      ]
     },
     "execution_count": 189,
     "metadata": {},
     "output_type": "execute_result"
    }
   ],
   "source": [
    "irpp_holder."
   ]
  },
  {
   "cell_type": "code",
   "execution_count": null,
   "metadata": {
    "collapsed": true
   },
   "outputs": [],
   "source": []
  },
  {
   "cell_type": "code",
   "execution_count": null,
   "metadata": {
    "collapsed": true
   },
   "outputs": [],
   "source": []
  },
  {
   "cell_type": "code",
   "execution_count": null,
   "metadata": {
    "collapsed": true
   },
   "outputs": [],
   "source": []
  },
  {
   "cell_type": "code",
   "execution_count": null,
   "metadata": {
    "collapsed": true
   },
   "outputs": [],
   "source": []
  },
  {
   "cell_type": "code",
   "execution_count": null,
   "metadata": {
    "collapsed": true
   },
   "outputs": [],
   "source": []
  },
  {
   "cell_type": "code",
   "execution_count": null,
   "metadata": {
    "collapsed": true
   },
   "outputs": [],
   "source": []
  },
  {
   "cell_type": "code",
   "execution_count": null,
   "metadata": {
    "collapsed": true
   },
   "outputs": [],
   "source": []
  },
  {
   "cell_type": "code",
   "execution_count": null,
   "metadata": {
    "collapsed": false
   },
   "outputs": [],
   "source": [
    "person_variable_holder = simulation.compute_add(\"salaire_net\")\n",
    "person_variable_holder.array.shape"
   ]
  },
  {
   "cell_type": "code",
   "execution_count": null,
   "metadata": {
    "collapsed": false
   },
   "outputs": [],
   "source": [
    "entity = simulation.entity_by_key_singular[\"famille\"]\n",
    "entity.index_for_person_variable_name"
   ]
  },
  {
   "cell_type": "code",
   "execution_count": null,
   "metadata": {
    "collapsed": false
   },
   "outputs": [],
   "source": [
    "simulation.holder_by_name[variable_holder.entity.index_for_person_variable_name].array"
   ]
  },
  {
   "cell_type": "code",
   "execution_count": null,
   "metadata": {
    "collapsed": false
   },
   "outputs": [],
   "source": [
    "sum_by_entity(\"salaire_net\", 'famille')"
   ]
  },
  {
   "cell_type": "code",
   "execution_count": null,
   "metadata": {
    "collapsed": true
   },
   "outputs": [],
   "source": [
    "simulation.entity_by_key_singular[entity]"
   ]
  },
  {
   "cell_type": "code",
   "execution_count": null,
   "metadata": {
    "collapsed": true
   },
   "outputs": [],
   "source": []
  },
  {
   "cell_type": "code",
   "execution_count": null,
   "metadata": {
    "collapsed": true
   },
   "outputs": [],
   "source": []
  },
  {
   "cell_type": "code",
   "execution_count": null,
   "metadata": {
    "collapsed": true
   },
   "outputs": [],
   "source": []
  },
  {
   "cell_type": "code",
   "execution_count": null,
   "metadata": {
    "collapsed": true
   },
   "outputs": [],
   "source": []
  },
  {
   "cell_type": "code",
   "execution_count": null,
   "metadata": {
    "collapsed": true
   },
   "outputs": [],
   "source": []
  },
  {
   "cell_type": "code",
   "execution_count": null,
   "metadata": {
    "collapsed": true
   },
   "outputs": [],
   "source": []
  },
  {
   "cell_type": "code",
   "execution_count": null,
   "metadata": {
    "collapsed": true
   },
   "outputs": [],
   "source": []
  },
  {
   "cell_type": "code",
   "execution_count": null,
   "metadata": {
    "collapsed": true
   },
   "outputs": [],
   "source": []
  },
  {
   "cell_type": "code",
   "execution_count": null,
   "metadata": {
    "collapsed": true
   },
   "outputs": [],
   "source": []
  },
  {
   "cell_type": "code",
   "execution_count": null,
   "metadata": {
    "collapsed": true
   },
   "outputs": [],
   "source": []
  }
 ],
 "metadata": {
  "kernelspec": {
   "display_name": "Python 2",
   "language": "python",
   "name": "python2"
  },
  "language_info": {
   "codemirror_mode": {
    "name": "ipython",
    "version": 2
   },
   "file_extension": ".py",
   "mimetype": "text/x-python",
   "name": "python",
   "nbconvert_exporter": "python",
   "pygments_lexer": "ipython2",
   "version": "2.7.10"
  },
  "toc": {
   "toc_cell": true,
   "toc_number_sections": true,
   "toc_threshold": 4,
   "toc_window_display": true
  },
  "toc_position": {
   "left": "2867.02px",
   "right": "20px",
   "top": "88px",
   "width": "300px"
  }
 },
 "nbformat": 4,
 "nbformat_minor": 0
}
