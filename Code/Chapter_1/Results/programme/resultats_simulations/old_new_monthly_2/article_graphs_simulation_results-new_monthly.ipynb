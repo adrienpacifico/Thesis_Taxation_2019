{
 "cells": [
  {
   "cell_type": "markdown",
   "metadata": {},
   "source": [
    "### Git versioning"
   ]
  },
  {
   "cell_type": "code",
   "execution_count": 1,
   "metadata": {
    "collapsed": false,
    "scrolled": true
   },
   "outputs": [
    {
     "name": "stdout",
     "output_type": "stream",
     "text": [
      "---This notebook have been runed with--- \n",
      "Openfisca-france : f710f63abb52a3395a126bd96e0f3f4bfd83d1a6 \n",
      "\n",
      "Commit short SHA: f710\n",
      "Branch:  mensualisation_wip\n",
      "Date (y/m/d): 2016-07-26 13:55:47  \n",
      "\n",
      "Openfisca-core : 4076f591f4bcb571391b65a989e1603fdc4cb759  Date: 2016-02-24 16:11:57 \n",
      "Openfisca-france-data : a6b02e6909ee9c27169cd5cf73c51df9b1640ef9  Date: 2016-05-31 15:54:47 \n",
      "OpenFisca-Aggregates : fd210d8cfdf6ed68f173d9d5c3eab4a4302ed2b9  Date: 2016-04-04 11:35:03 \n",
      "OpenFisca-Survey-Manager : 868512d24307aa75cfa7bbbf8420542960963966  Date: 2016-04-04 11:35:03 \n"
     ]
    }
   ],
   "source": [
    "import git  #Requires Gitpython installed, to install do \"$ pip install Gitpython\" in your terminal\n",
    "import pkg_resources\n",
    "openfisca_france_location = pkg_resources.get_distribution('openfisca-france').location\n",
    "repo = git.Repo(openfisca_france_location)\n",
    "repo.git.status()\n",
    "\n",
    "sha = repo.head.object.hexsha\n",
    "\n",
    "print \"---This notebook have been runed with--- \\n\",\"Openfisca-france :\", repo.head.object.hexsha, '\\n' \n",
    "print \"Commit short SHA:\", repo.git.rev_parse(sha, short=4)\n",
    "print \"Branch: \", repo.git.rev_parse('--abbrev-ref', \"HEAD\") #equivalent to: $git rev-parse --abbrev-ref HEAD\n",
    "print \"Date (y/m/d):\", repo.git.show(\"-s\", '--format=%ci', 'HEAD^')[:-5],\"\\n\"  # equivalent to: $git show -s --format=%ci HEAD^\n",
    "\n",
    "print \"Openfisca-core :\", git.Repo(pkg_resources.get_distribution('openfisca-core').location).head.object.hexsha, ' Date:', git.Repo(pkg_resources.get_distribution('openfisca-core').location).git.show(\"-s\", '--format=%ci', 'HEAD^')[:-5]\n",
    "print \"Openfisca-france-data :\", git.Repo(pkg_resources.get_distribution('openfisca-france-data').location).head.object.hexsha, ' Date:', git.Repo(pkg_resources.get_distribution('openfisca-france-data').location).git.show(\"-s\", '--format=%ci', 'HEAD^')[:-5]\n",
    "print \"OpenFisca-Aggregates :\", git.Repo(pkg_resources.get_distribution('OpenFisca-Aggregates').location).head.object.hexsha, ' Date:', git.Repo(pkg_resources.get_distribution('OpenFisca-Aggregates').location).git.show(\"-s\", '--format=%ci', 'HEAD^')[:-5]\n",
    "print \"OpenFisca-Survey-Manager :\", git.Repo(pkg_resources.get_distribution('OpenFisca-Survey-Manager').location).head.object.hexsha, ' Date:', git.Repo(pkg_resources.get_distribution('OpenFisca-Aggregates').location).git.show(\"-s\", '--format=%ci', 'HEAD^')[:-5]"
   ]
  },
  {
   "cell_type": "markdown",
   "metadata": {},
   "source": [
    "### Imports"
   ]
  },
  {
   "cell_type": "code",
   "execution_count": 2,
   "metadata": {
    "collapsed": false
   },
   "outputs": [
    {
     "name": "stderr",
     "output_type": "stream",
     "text": [
      "/usr/local/lib/python2.7/site-packages/rpy2/rinterface/__init__.py:185: RRuntimeWarning: During startup - \n",
      "  warnings.warn(x, RRuntimeWarning)\n",
      "/usr/local/lib/python2.7/site-packages/rpy2/rinterface/__init__.py:185: RRuntimeWarning: Warning messages:\n",
      "\n",
      "  warnings.warn(x, RRuntimeWarning)\n",
      "/usr/local/lib/python2.7/site-packages/rpy2/rinterface/__init__.py:185: RRuntimeWarning: 1: Setting LC_COLLATE failed, using \"C\" \n",
      "\n",
      "  warnings.warn(x, RRuntimeWarning)\n",
      "/usr/local/lib/python2.7/site-packages/rpy2/rinterface/__init__.py:185: RRuntimeWarning: 2: Setting LC_TIME failed, using \"C\" \n",
      "\n",
      "  warnings.warn(x, RRuntimeWarning)\n",
      "/usr/local/lib/python2.7/site-packages/rpy2/rinterface/__init__.py:185: RRuntimeWarning: 3: Setting LC_MESSAGES failed, using \"C\" \n",
      "\n",
      "  warnings.warn(x, RRuntimeWarning)\n",
      "/usr/local/lib/python2.7/site-packages/rpy2/rinterface/__init__.py:185: RRuntimeWarning: 4: Setting LC_MONETARY failed, using \"C\" \n",
      "\n",
      "  warnings.warn(x, RRuntimeWarning)\n"
     ]
    }
   ],
   "source": [
    "%matplotlib inline\n",
    "from __future__ import division\n",
    "\n",
    "import calendar\n",
    "\n",
    "from openfisca_core import periods\n",
    "from openfisca_plugin_aggregates.tests.reform.test_aggregates_mensualized import create_survey_scenario\n",
    "import pandas as pd\n",
    "\n",
    "import matplotlib.pyplot as plt\n",
    "from matplotlib.ticker import AutoMinorLocator\n",
    "\n",
    "\n",
    "import numpy as np\n",
    "from numpy import (datetime64, logical_and as and_, logical_not as not_, logical_or as or_, logical_xor as xor_,\n",
    "maximum as max_, minimum as min_, round)\n",
    "\n",
    "\n",
    "#Faire des filtres pour Mahdi survey_scenario.create_data_frame_by_entity_key_plural\n",
    "\n",
    "pd.set_option('expand_frame_repr', False)  #utile quand on utilise pandas en mode console\n",
    "pd.set_option(\"display.max_rows\",201)\n",
    "pd.set_option(\"display.max_columns\",201)"
   ]
  },
  {
   "cell_type": "markdown",
   "metadata": {},
   "source": [
    "# Create Survey Scenario"
   ]
  },
  {
   "cell_type": "code",
   "execution_count": 3,
   "metadata": {
    "collapsed": false
   },
   "outputs": [],
   "source": [
    "period = periods.period(2009)"
   ]
  },
  {
   "cell_type": "code",
   "execution_count": 4,
   "metadata": {
    "collapsed": false
   },
   "outputs": [
    {
     "data": {
      "text/plain": [
       "Period((u'month', Instant((2009, 1, 1)), 1))"
      ]
     },
     "execution_count": 4,
     "metadata": {},
     "output_type": "execute_result"
    }
   ],
   "source": [
    "period.this_year.this_month"
   ]
  },
  {
   "cell_type": "code",
   "execution_count": 5,
   "metadata": {
    "collapsed": false
   },
   "outputs": [
    {
     "name": "stdout",
     "output_type": "stream",
     "text": [
      "(52189,) (42709,) (48195,) (80431,)\n"
     ]
    }
   ],
   "source": [
    "survey_scenario = create_survey_scenario(2009)\n",
    "survey_scenario.new_simulation()\n",
    "\n",
    "\n",
    "simulation = survey_scenario.simulation\n",
    "scenario = survey_scenario\n",
    "\n",
    "weight_foyers = survey_scenario.simulation.calculate_add('weight_foyers', period = period).astype(float)\n",
    "weight_menages = survey_scenario.simulation.calculate_add('wprm', period = period).astype(float)\n",
    "weight_familles = survey_scenario.simulation.calculate_add('weight_familles', period = period).astype(float)\n",
    "weight_individus = survey_scenario.simulation.calculate_add('weight_individus', period = period).astype(float)\n",
    "print weight_foyers.shape, weight_menages.shape, weight_familles.shape, weight_individus.shape"
   ]
  },
  {
   "cell_type": "code",
   "execution_count": 6,
   "metadata": {
    "collapsed": false
   },
   "outputs": [],
   "source": [
    "def sum_by_entity(var, entity_key, roles = None):\n",
    "    var_holder = simulation.compute_add(var)\n",
    "    entity = simulation.entity_by_key_singular[entity_key]\n",
    "    \n",
    "    entity_index_array = simulation.holder_by_name[entity.index_for_person_variable_name].array\n",
    "    \n",
    "    if roles is None:\n",
    "        roles = range(10)\n",
    "    \n",
    "    target_array = np.empty(entity.count)\n",
    "    target_array.fill(0)            \n",
    "    for role in roles:  #max cardinality of roles\n",
    "        boolean_filter = simulation.holder_by_name[entity.role_for_person_variable_name].array == role\n",
    "        target_array[entity_index_array[boolean_filter]] += var_holder.array[boolean_filter]\n",
    "    return target_array\n",
    "\n",
    "\n",
    "\n",
    "def sum_array_by_entity(array, entity_key, roles = None):\n",
    "    entity = simulation.entity_by_key_singular[entity_key]\n",
    "    entity_index_array = simulation.holder_by_name[entity.index_for_person_variable_name].array\n",
    "    if roles is None:\n",
    "        roles = range(10)\n",
    "    \n",
    "    target_array = np.empty(entity.count)\n",
    "    target_array.fill(0)            \n",
    "    for role in roles:  #max cardinality of roles\n",
    "        boolean_filter = simulation.holder_by_name[entity.role_for_person_variable_name].array == role\n",
    "        target_array[entity_index_array[boolean_filter]] += array[boolean_filter]\n",
    "    return target_array\n",
    "    \n",
    "\n",
    "def cast_from_entity_to_role( var , roles = None):\n",
    "    var_holder = simulation.compute_add(var)\n",
    "    entity = var_holder.entity\n",
    "    entity_index_array = simulation.holder_by_name[entity.index_for_person_variable_name].array\n",
    "    if roles is None:\n",
    "        roles = range(entity.roles_count)\n",
    "    target_array = np.empty(simulation.persons.count)\n",
    "    target_array.fill(0)\n",
    "    for role in roles:\n",
    "        boolean_filter = simulation.holder_by_name[entity.role_for_person_variable_name].array == role\n",
    "        target_array[boolean_filter] = simulation.compute_add(var).array[entity_index_array[boolean_filter]]\n",
    "    return target_array\n",
    "\n",
    "def cast_array_from_entity_to_role( array, entity_key, roles = None):\n",
    "    entity = simulation.entity_by_key_singular[entity_key]\n",
    "    entity_index_array = simulation.holder_by_name[entity.index_for_person_variable_name].array\n",
    "    if roles is None:\n",
    "        roles = range(entity.roles_count)\n",
    "    target_array = np.empty(simulation.persons.count)\n",
    "    target_array.fill(0)\n",
    "    for role in roles:\n",
    "        boolean_filter = simulation.holder_by_name[entity.role_for_person_variable_name].array == role\n",
    "        target_array[boolean_filter] = array[entity_index_array[boolean_filter]]\n",
    "    return target_array\n",
    "\n",
    "\n",
    "def switch_entity(var, target_entity  ,roles = [0]):\n",
    "    var_holder = simulation.compute_add(var)\n",
    "    entity = var_holder.entity\n",
    "    \n",
    "    target_array = cast_from_entity_to_role(var, roles = roles)\n",
    "    target_array = sum_array_by_entity(target_array, entity_key = target_entity )\n",
    "    return target_array\n",
    "\n",
    "def switch_array_entity(array,entity, target_entity  ,roles = [0]):\n",
    "    \n",
    "    entity = entity\n",
    "    \n",
    "    target_array = cast_array_from_entity_to_role(array, entity,roles = roles)\n",
    "    target_array = sum_array_by_entity(target_array, entity_key = target_entity )\n",
    "    return target_array\n"
   ]
  },
  {
   "cell_type": "code",
   "execution_count": 7,
   "metadata": {
    "collapsed": false
   },
   "outputs": [],
   "source": [
    "#pd.value_counts(switch_array_entity(revdisp_negatif, 'menage',\"foyer_fiscal\", roles = range(10)))"
   ]
  },
  {
   "cell_type": "code",
   "execution_count": 8,
   "metadata": {
    "collapsed": true
   },
   "outputs": [],
   "source": [
    "    def split_by_roles(var, entity = None, roles = None):\n",
    "        \"\"\"dispatch a persons array to several entity arrays (one for each role).\"\"\"\n",
    "        holder = simulation.compute(var)\n",
    "        default = holder.column.default\n",
    "        array = holder.array\n",
    "        entity = simulation.entity_by_key_singular[entity]\n",
    "        \n",
    "        entity_index_array = simulation.holder_by_name[entity.index_for_person_variable_name].array\n",
    "        if roles is None:\n",
    "            roles = range(max(entity.roles_count, 11))\n",
    "        target_array_by_role = {}\n",
    "        for role in roles:\n",
    "            target_array_by_role[role] = target_array = np.empty(entity.count, dtype = 'int64')\n",
    "            target_array.fill(default)\n",
    "            boolean_filter = simulation.holder_by_name[entity.role_for_person_variable_name].array == role\n",
    "            try:\n",
    "                target_array[entity_index_array[boolean_filter]] = array[boolean_filter]\n",
    "            except:\n",
    "                log.error(u'An error occurred while filtering array for role {}[{}] in function {}'.format(\n",
    "                    entity.key_singular, role, holder.column.name))\n",
    "                raise\n",
    "            target_array_by_role[role] = array[boolean_filter]\n",
    "        return target_array_by_role"
   ]
  },
  {
   "cell_type": "code",
   "execution_count": 9,
   "metadata": {
    "collapsed": true
   },
   "outputs": [],
   "source": [
    "    def split_by_roles(var, entity = None, roles = None):\n",
    "        \"\"\"dispatch a persons array to several entity arrays (one for each role).\"\"\"\n",
    "        holder = simulation.compute(var)\n",
    "        default = holder.column.default\n",
    "        array = holder.array\n",
    "        entity = simulation.entity_by_key_singular[entity]\n",
    "\n",
    "        assert not entity.is_persons_entity\n",
    "\n",
    "        entity_index_array = simulation.holder_by_name[entity.index_for_person_variable_name].array\n",
    "        if roles is None:\n",
    "            # To ensure that existing formulas don't fail, ensure there is always at least 11 roles.\n",
    "            # roles = range(entity.roles_count)\n",
    "            roles = range(max(entity.roles_count, 11))\n",
    "        target_array_by_role = {}\n",
    "        for role in roles:\n",
    "            target_array_by_role[role] = target_array = np.empty(entity.count, dtype = array.dtype)\n",
    "            target_array.fill(default)\n",
    "            boolean_filter = simulation.holder_by_name[entity.role_for_person_variable_name].array == role\n",
    "            try:\n",
    "                target_array[entity_index_array[boolean_filter]] = array[boolean_filter]\n",
    "            except:\n",
    "                log.error(u'An error occurred while filtering array for role {}[{}] in function {}'.format(\n",
    "                    entity.key_singular, role, holder.column.name))\n",
    "                raise\n",
    "        return target_array_by_role\n"
   ]
  },
  {
   "cell_type": "code",
   "execution_count": 10,
   "metadata": {
    "collapsed": false
   },
   "outputs": [],
   "source": [
    "    def uc(entity):\n",
    "        '''\n",
    "        Calcule le nombre d'unités de consommation du ménage avec l'échelle de l'insee\n",
    "        'men'\n",
    "        '''\n",
    "\n",
    "\n",
    "        age_en_mois = split_by_roles(\"age_en_mois\", entity)\n",
    "\n",
    "        uc_adt = 0.5\n",
    "        uc_enf = 0.3\n",
    "        uc = 0.5\n",
    "        for agm in age_en_mois.itervalues():\n",
    "            age = np.floor(agm / 12)\n",
    "            adt = (15 <= age) & (age <= 150)\n",
    "            enf = (0 <= age) & (age <= 14)\n",
    "            uc += adt * uc_adt + enf * uc_enf\n",
    "        return uc\n"
   ]
  },
  {
   "cell_type": "code",
   "execution_count": 11,
   "metadata": {
    "collapsed": false
   },
   "outputs": [],
   "source": [
    "uc_famille =  uc('famille')\n",
    "uc_menage = uc('menage')"
   ]
  },
  {
   "cell_type": "code",
   "execution_count": 12,
   "metadata": {
    "collapsed": false
   },
   "outputs": [
    {
     "data": {
      "text/plain": [
       "(48195,)"
      ]
     },
     "execution_count": 12,
     "metadata": {},
     "output_type": "execute_result"
    }
   ],
   "source": [
    "uc_famille.shape"
   ]
  },
  {
   "cell_type": "code",
   "execution_count": 13,
   "metadata": {
    "collapsed": false
   },
   "outputs": [
    {
     "data": {
      "text/plain": [
       "(48195,)"
      ]
     },
     "execution_count": 13,
     "metadata": {},
     "output_type": "execute_result"
    }
   ],
   "source": [
    "weight_familles.shape"
   ]
  },
  {
   "cell_type": "code",
   "execution_count": 14,
   "metadata": {
    "collapsed": false
   },
   "outputs": [],
   "source": [
    "rev_disp_uc = simulation.calculate_add('revdisp_mensuel_annuel')/uc_menage"
   ]
  },
  {
   "cell_type": "code",
   "execution_count": 15,
   "metadata": {
    "collapsed": false
   },
   "outputs": [
    {
     "data": {
      "text/plain": [
       "array([    0.       ,     0.       ,     0.       , ..., -1824.6550293,\n",
       "           0.       ,     0.       ])"
      ]
     },
     "execution_count": 15,
     "metadata": {},
     "output_type": "execute_result"
    }
   ],
   "source": [
    "sum_by_entity(\"salaire_net\", 'foyer_fiscal')\n",
    "cast_from_entity_to_role('decote')\n",
    "switch_entity('irpp', 'famille')"
   ]
  },
  {
   "cell_type": "code",
   "execution_count": 16,
   "metadata": {
    "collapsed": false
   },
   "outputs": [],
   "source": [
    "revdisp_negatif = (rev_disp_uc < 0)"
   ]
  },
  {
   "cell_type": "code",
   "execution_count": 17,
   "metadata": {
    "collapsed": false
   },
   "outputs": [
    {
     "data": {
      "text/plain": [
       "False    42709\n",
       "dtype: int64"
      ]
     },
     "execution_count": 17,
     "metadata": {},
     "output_type": "execute_result"
    }
   ],
   "source": [
    "pd.value_counts(revdisp_negatif)"
   ]
  },
  {
   "cell_type": "code",
   "execution_count": 18,
   "metadata": {
    "collapsed": false
   },
   "outputs": [
    {
     "data": {
      "text/plain": [
       "False    80191\n",
       "True       240\n",
       "dtype: int64"
      ]
     },
     "execution_count": 18,
     "metadata": {},
     "output_type": "execute_result"
    }
   ],
   "source": [
    "pd.value_counts(simulation.calculate_add('rev_trav')<0)"
   ]
  },
  {
   "cell_type": "code",
   "execution_count": 19,
   "metadata": {
    "collapsed": false
   },
   "outputs": [
    {
     "data": {
      "text/plain": [
       "80431"
      ]
     },
     "execution_count": 19,
     "metadata": {},
     "output_type": "execute_result"
    }
   ],
   "source": [
    "simulation.persons.count"
   ]
  },
  {
   "cell_type": "code",
   "execution_count": 20,
   "metadata": {
    "collapsed": false
   },
   "outputs": [],
   "source": [
    "hello = simulation.entity_by_key_singular[\"menage\"]"
   ]
  },
  {
   "cell_type": "code",
   "execution_count": 21,
   "metadata": {
    "collapsed": false
   },
   "outputs": [
    {
     "data": {
      "text/plain": [
       "array([    0,     0,     0, ..., 22229, 39367,  5598], dtype=int32)"
      ]
     },
     "execution_count": 21,
     "metadata": {},
     "output_type": "execute_result"
    }
   ],
   "source": [
    "simulation.holder_by_name[hello.index_for_person_variable_name].array"
   ]
  },
  {
   "cell_type": "code",
   "execution_count": 22,
   "metadata": {
    "collapsed": false
   },
   "outputs": [
    {
     "data": {
      "text/plain": [
       "-45.916198083041756"
      ]
     },
     "execution_count": 22,
     "metadata": {},
     "output_type": "execute_result"
    }
   ],
   "source": [
    "survey_scenario.compute_aggregate(\"irpp\")/10**9"
   ]
  },
  {
   "cell_type": "markdown",
   "metadata": {},
   "source": [
    "## Share of more than 20% variation per decile"
   ]
  },
  {
   "cell_type": "code",
   "execution_count": 23,
   "metadata": {
    "collapsed": false
   },
   "outputs": [],
   "source": [
    "import pandas as pd\n"
   ]
  },
  {
   "cell_type": "code",
   "execution_count": 24,
   "metadata": {
    "collapsed": true
   },
   "outputs": [],
   "source": [
    "income_month_list = [\"income_month_{}\".format(month) for month in range(1,13)]"
   ]
  },
  {
   "cell_type": "code",
   "execution_count": 25,
   "metadata": {
    "collapsed": false
   },
   "outputs": [],
   "source": [
    "df = pd.DataFrame()\n",
    "\n",
    "for month in range(1,13):\n",
    "    month_income = np.zeros(simulation.persons.count)\n",
    "    for var in [\"salaire_imposable\", \"chomage_imposable\", \"retraite_imposable\" ]:\n",
    "        month_income += simulation.calculate(var,\"2009-{}\".format(month))\n",
    "    df[\"income_month_{}\".format(month)] = month_income"
   ]
  },
  {
   "cell_type": "code",
   "execution_count": 26,
   "metadata": {
    "collapsed": false
   },
   "outputs": [],
   "source": [
    "df[\"yearly_income\"] = df[income_month_list].sum(1)\n",
    "df[\"diff_rev\"] = df[income_month_list].max(1) - df[income_month_list].min(1)\n",
    "df[\"relative_var\"] = (df[income_month_list].max(1) - df[income_month_list].min(1))/df[income_month_list].max(1)"
   ]
  },
  {
   "cell_type": "code",
   "execution_count": 27,
   "metadata": {
    "collapsed": true
   },
   "outputs": [],
   "source": [
    "has_rev_filter = df[\"yearly_income\"]>1"
   ]
  },
  {
   "cell_type": "code",
   "execution_count": 28,
   "metadata": {
    "collapsed": false
   },
   "outputs": [
    {
     "name": "stdout",
     "output_type": "stream",
     "text": [
      "315.795882838\n",
      "392.298808459\n"
     ]
    }
   ],
   "source": [
    "print df[\"diff_rev\"].mean()\n",
    "print df[\"diff_rev\"][has_rev_filter].mean()"
   ]
  },
  {
   "cell_type": "code",
   "execution_count": 29,
   "metadata": {
    "collapsed": false
   },
   "outputs": [
    {
     "data": {
      "text/plain": [
       "0.9564760757421308"
      ]
     },
     "execution_count": 29,
     "metadata": {},
     "output_type": "execute_result"
    }
   ],
   "source": [
    "df[has_rev_filter & (df.diff_rev <2000)].shape[0]/df[has_rev_filter].shape[0]"
   ]
  },
  {
   "cell_type": "code",
   "execution_count": 30,
   "metadata": {
    "collapsed": false
   },
   "outputs": [
    {
     "name": "stdout",
     "output_type": "stream",
     "text": [
      "CPU times: user 3.88 s, sys: 1.75 s, total: 5.62 s\n",
      "Wall time: 5.96 s\n"
     ]
    }
   ],
   "source": [
    "%%time\n",
    "range_to_use = range(1,7000,20)\n",
    "income_rep_func =[df[has_rev_filter & (df.diff_rev<income)].shape[0]/df[has_rev_filter].shape[0] for income in range_to_use]"
   ]
  },
  {
   "cell_type": "code",
   "execution_count": 31,
   "metadata": {
    "collapsed": false
   },
   "outputs": [
    {
     "data": {
      "text/plain": [
       "[0.8603774750563742,\n",
       " 0.8614586229265129,\n",
       " 0.862292651283477,\n",
       " 0.8633583541840423,\n",
       " 0.8644858369629012,\n",
       " 0.8652735304111451,\n",
       " 0.8663701232508572,\n",
       " 0.8675902758471565,\n",
       " 0.8686096438390016,\n",
       " 0.869567231952553,\n",
       " 0.8705711549748247,\n",
       " 0.8716831927841102,\n",
       " 0.872918790349983,\n",
       " 0.8742933926420164,\n",
       " 0.8755135452383159,\n",
       " 0.8767800327433355,\n",
       " 0.8779229604917679,\n",
       " 0.8792357829055076,\n",
       " 0.8805022704105273,\n",
       " 0.8818305377938406,\n",
       " 0.88305069039014,\n",
       " 0.8841009483211318,\n",
       " 0.8850430914651098,\n",
       " 0.8864331387267167,\n",
       " 0.8873135019924011,\n",
       " 0.8885954344669941,\n",
       " 0.8897846971241467,\n",
       " 0.8907268402681247,\n",
       " 0.8921168875297316,\n",
       " 0.8933061501868841,\n",
       " 0.8942482933308621,\n",
       " 0.895715565440336,\n",
       " 0.897105612701943,\n",
       " 0.8984338800852563,\n",
       " 0.8996231427424088,\n",
       " 0.9010131900040157,\n",
       " 0.9022333426003151,\n",
       " 0.9032990455008804,\n",
       " 0.9043184134927255,\n",
       " 0.9053532264541438,\n",
       " 0.9066969388070305,\n",
       " 0.9078089766163161,\n",
       " 0.9088437895777345,\n",
       " 0.9101102770827542,\n",
       " 0.9111759799833195,\n",
       " 0.9122725728230315,\n",
       " 0.9133537206931702,\n",
       " 0.914512093411176,\n",
       " 0.915716801037902,\n",
       " 0.9167207240601736,\n",
       " 0.9178327618694592,\n",
       " 0.9187594600438637,\n",
       " 0.9198869428227227,\n",
       " 0.9210144256015815,\n",
       " 0.9221419083804405,\n",
       " 0.9232076112810058,\n",
       " 0.9242887591511445,\n",
       " 0.9253390170821364,\n",
       " 0.9265437247088624,\n",
       " 0.927887437061749,\n",
       " 0.9289222500231674,\n",
       " 0.9298798381367188,\n",
       " 0.9308219812806969,\n",
       " 0.9316868995768078,\n",
       " 0.9326135977512124,\n",
       " 0.9336329657430575,\n",
       " 0.9344515491304483,\n",
       " 0.9351311277916783,\n",
       " 0.9356717017267476,\n",
       " 0.936629289840299,\n",
       " 0.9376177678929972,\n",
       " 0.9385444660674018,\n",
       " 0.9393784944243659,\n",
       " 0.9401661878726099,\n",
       " 0.9411083310165879,\n",
       " 0.9417570197386711,\n",
       " 0.9424057084607543,\n",
       " 0.9431161770611312,\n",
       " 0.9438729805702283,\n",
       " 0.9445525592314583,\n",
       " 0.9451394680752478,\n",
       " 0.9458344917060514,\n",
       " 0.9464831804281345,\n",
       " 0.9470700892719242,\n",
       " 0.9477960028418744,\n",
       " 0.9484910264726778,\n",
       " 0.9492323850122015,\n",
       " 0.949850183795138,\n",
       " 0.9504834275476477,\n",
       " 0.9509931115435702,\n",
       " 0.9515027955394928,\n",
       " 0.9520124795354153,\n",
       " 0.952491273592191,\n",
       " 0.95293917770982,\n",
       " 0.9535106415840361,\n",
       " 0.954112995397399,\n",
       " 0.9545763444846014,\n",
       " 0.9550088036326568,\n",
       " 0.9554412627807123,\n",
       " 0.955920056837488,\n",
       " 0.9565069656812776,\n",
       " 0.9569857597380533,\n",
       " 0.957387328946962,\n",
       " 0.9578815679733111,\n",
       " 0.9583140271213666,\n",
       " 0.9587773762085688,\n",
       " 0.9591480554783307,\n",
       " 0.9595032897785192,\n",
       " 0.9599203039570012,\n",
       " 0.9603990980137769,\n",
       " 0.9609551169184196,\n",
       " 0.9613566861273283,\n",
       " 0.9616964754579433,\n",
       " 0.9621598245451456,\n",
       " 0.9625768387236278,\n",
       " 0.9629784079325364,\n",
       " 0.9633336422327248,\n",
       " 0.9636579865937664,\n",
       " 0.9640441108331017,\n",
       " 0.9642140054984092,\n",
       " 0.9644456800420104,\n",
       " 0.9647700244030519,\n",
       " 0.9650016989466531,\n",
       " 0.9653569332468415,\n",
       " 0.9655886077904426,\n",
       " 0.9660210669384981,\n",
       " 0.9662990763908195,\n",
       " 0.9666852006301547,\n",
       " 0.9670095449911964,\n",
       " 0.9673029994130912,\n",
       " 0.9675655638958391,\n",
       " 0.9677354585611466,\n",
       " 0.9680289129830414,\n",
       " 0.9682451425570692,\n",
       " 0.9684922620702437,\n",
       " 0.9687857164921385,\n",
       " 0.9691872857010472,\n",
       " 0.9694807401229419,\n",
       " 0.9697278596361165,\n",
       " 0.9700213140580113,\n",
       " 0.9702220986624657,\n",
       " 0.9704074382973465,\n",
       " 0.9705927779322274,\n",
       " 0.9708553424149754,\n",
       " 0.9709016773236957,\n",
       " 0.9710097921107096,\n",
       " 0.9712414666543107,\n",
       " 0.971442251258765,\n",
       " 0.9715812559849257,\n",
       " 0.9718283754981003,\n",
       " 0.9720137151329812,\n",
       " 0.9721836097982887,\n",
       " 0.9723226145244493,\n",
       " 0.9725388440984771,\n",
       " 0.9727550736725049,\n",
       " 0.9728940783986656,\n",
       " 0.9730485280943997,\n",
       " 0.9733110925771477,\n",
       " 0.9734500973033083,\n",
       " 0.973666326877336,\n",
       " 0.9738207765730702,\n",
       " 0.9740215611775245,\n",
       " 0.9742377907515523,\n",
       " 0.974531245173447,\n",
       " 0.974608470021314,\n",
       " 0.9746856948691811,\n",
       " 0.9748555895344886,\n",
       " 0.9749791492910759,\n",
       " 0.9751027090476632,\n",
       " 0.9752571587433972,\n",
       " 0.9753343835912643,\n",
       " 0.9755351681957186,\n",
       " 0.9756896178914527,\n",
       " 0.9758904024959071,\n",
       " 0.9760139622524944,\n",
       " 0.9761684119482285,\n",
       " 0.9763228616439625,\n",
       " 0.9764309764309764,\n",
       " 0.9765390912179903,\n",
       " 0.9767244308528712,\n",
       " 0.9768479906094585,\n",
       " 0.9770333302443395,\n",
       " 0.9770796651530597,\n",
       " 0.977203224909647,\n",
       " 0.9772804497575139,\n",
       " 0.9773731195749544,\n",
       " 0.9774348994532481,\n",
       " 0.9775893491489822,\n",
       " 0.9776356840577024,\n",
       " 0.9777437988447163,\n",
       " 0.9779136935100238,\n",
       " 0.9780063633274643,\n",
       " 0.978145368053625,\n",
       " 0.9782380378710654,\n",
       " 0.9784388224755197,\n",
       " 0.9785160473233868,\n",
       " 0.9785469372625336,\n",
       " 0.9787168319278411,\n",
       " 0.9788403916844284,\n",
       " 0.9789948413801625,\n",
       " 0.9790720662280296,\n",
       " 0.9791956259846168,\n",
       " 0.9793191857412041,\n",
       " 0.9794736354369382,\n",
       " 0.9795971951935255,\n",
       " 0.979767089858833,\n",
       " 0.9798597596762735,\n",
       " 0.9799215395545671,\n",
       " 0.9800142093720076,\n",
       " 0.9801068791894479,\n",
       " 0.980184104037315,\n",
       " 0.9802922188243289,\n",
       " 0.9804157785809162,\n",
       " 0.9805238933679301,\n",
       " 0.9806165631853705,\n",
       " 0.9807246779723844,\n",
       " 0.9808327927593983,\n",
       " 0.9809100176072653,\n",
       " 0.980971797485559,\n",
       " 0.9810026874247058,\n",
       " 0.9810799122725729,\n",
       " 0.9811571371204398,\n",
       " 0.9812189169987335,\n",
       " 0.9812498069378803,\n",
       " 0.9813424767553208,\n",
       " 0.9814197016031878,\n",
       " 0.9814969264510549,\n",
       " 0.9815741512989219,\n",
       " 0.9816668211163624,\n",
       " 0.9817903808729497,\n",
       " 0.9818212708120965,\n",
       " 0.9818830506903902,\n",
       " 0.9819293855991104,\n",
       " 0.9819602755382572,\n",
       " 0.9820529453556976,\n",
       " 0.9821147252339912,\n",
       " 0.9821456151731381,\n",
       " 0.982253729960152,\n",
       " 0.9823000648688722,\n",
       " 0.9824081796558861,\n",
       " 0.9824699595341797,\n",
       " 0.9825317394124734,\n",
       " 0.9826244092299138,\n",
       " 0.9826398541994872,\n",
       " 0.9827016340777809,\n",
       " 0.9827788589256479,\n",
       " 0.9828406388039416,\n",
       " 0.9829333086213821,\n",
       " 0.983010533469249,\n",
       " 0.9830723133475427,\n",
       " 0.9831649831649831,\n",
       " 0.9832576529824236,\n",
       " 0.9832885429215704,\n",
       " 0.9833657677694375,\n",
       " 0.9833966577085843,\n",
       " 0.983458437586878,\n",
       " 0.9834893275260248,\n",
       " 0.9835511074043184,\n",
       " 0.9835819973434652,\n",
       " 0.9836437772217589,\n",
       " 0.9837055571000525,\n",
       " 0.9837518920087728,\n",
       " 0.9838291168566398,\n",
       " 0.9839372316436537,\n",
       " 0.9839835665523738,\n",
       " 0.9840299014610941,\n",
       " 0.9840607914002409,\n",
       " 0.984138016248108,\n",
       " 0.9841689061872548,\n",
       " 0.9842306860655484,\n",
       " 0.9843233558829889,\n",
       " 0.9843388008525623,\n",
       " 0.9843542458221357,\n",
       " 0.9844932505482964,\n",
       " 0.9845086955178698,\n",
       " 0.9845241404874432,\n",
       " 0.9845704753961635,\n",
       " 0.9846322552744571,\n",
       " 0.9846785901831774,\n",
       " 0.984740370061471,\n",
       " 0.9847867049701912,\n",
       " 0.9847867049701912,\n",
       " 0.9848021499397647,\n",
       " 0.9848793747876317,\n",
       " 0.9849102647267785,\n",
       " 0.9849257096963518,\n",
       " 0.9850029345442189,\n",
       " 0.9850183795137923,\n",
       " 0.9850647144225125,\n",
       " 0.9851419392703796,\n",
       " 0.9851882741790998,\n",
       " 0.9852654990269669,\n",
       " 0.9852809439965403,\n",
       " 0.9853118339356871,\n",
       " 0.9853736138139808,\n",
       " 0.9854353936922744,\n",
       " 0.9854971735705681,\n",
       " 0.9855898433880085,\n",
       " 0.9856207333271554,\n",
       " 0.9856670682358756,\n",
       " 0.985682513205449,\n",
       " 0.9857288481141692,\n",
       " 0.9857597380533161,\n",
       " 0.9858215179316097,\n",
       " 0.9858369629011831,\n",
       " 0.9858832978099034,\n",
       " 0.985945077688197,\n",
       " 0.9859759676273437,\n",
       " 0.9860377475056374,\n",
       " 0.986099527383931,\n",
       " 0.9861149723535044,\n",
       " 0.9861304173230778,\n",
       " 0.9862076421709449,\n",
       " 0.9862385321100917,\n",
       " 0.9862385321100917,\n",
       " 0.9862694220492385,\n",
       " 0.9863466468971056,\n",
       " 0.9864238717449727,\n",
       " 0.9864856516232663,\n",
       " 0.9865165415624131,\n",
       " 0.9865937664102802,\n",
       " 0.986624656349427,\n",
       " 0.9867173261668675,\n",
       " 0.9867482161060143,\n",
       " 0.986809995984308,\n",
       " 0.9868408859234548,\n",
       " 0.9868408859234548,\n",
       " 0.9869026658017483,\n",
       " 0.986964445680042,\n",
       " 0.9870725604670558,\n",
       " 0.9870880054366293,\n",
       " 0.9871343403453495,\n",
       " 0.9872115651932166,\n",
       " 0.9872115651932166,\n",
       " 0.98722701016279,\n",
       " 0.9872424551323634,\n",
       " 0.9872733450715102,\n",
       " 0.9872887900410836,\n",
       " 0.9873196799802304,\n",
       " 0.9873660148889507,\n",
       " 0.9874123497976709,\n",
       " 0.9874277947672443,\n",
       " 0.987489574645538,\n",
       " 0.987489574645538,\n",
       " 0.9875204645846848,\n",
       " 0.9875204645846848,\n",
       " 0.9875359095542582,\n",
       " 0.987566799493405,\n",
       " 0.9875822444629784,\n",
       " 0.9876440243412721]"
      ]
     },
     "execution_count": 31,
     "metadata": {},
     "output_type": "execute_result"
    }
   ],
   "source": [
    "income_rep_func"
   ]
  },
  {
   "cell_type": "code",
   "execution_count": 32,
   "metadata": {
    "collapsed": false
   },
   "outputs": [],
   "source": [
    "df_m = pd.DataFrame()\n",
    "\n",
    "for month in range(1,13):\n",
    "    month_income = np.zeros(simulation.persons.count)\n",
    "    for var in [\"salaire_imposable\", \"chomage_imposable\", \"retraite_imposable\" ]:\n",
    "        month_income += simulation.calculate(var,\"2009-{}\".format(month))\n",
    "    df_m[\"income_month_{}\".format(month)] = sum_array_by_entity(month_income, 'menage')\n",
    "    \n",
    "df_m[\"yearly_income\"] = df_m[income_month_list].sum(1)\n",
    "df_m[\"diff_rev\"] = df_m[income_month_list].max(1) - df_m[income_month_list].min(1)\n",
    "df_m[\"relative_var\"] = (df_m[income_month_list].max(1) - df_m[income_month_list].min(1))/df_m[income_month_list].max(1)\n",
    "\n",
    "has_rev_filter_m = df_m[\"yearly_income\"]>1\n",
    "\n",
    "range_to_use = range(1,7000,20)\n",
    "income_rep_func_m =[df_m[has_rev_filter_m & (df_m.diff_rev<income)].shape[0]/df_m[has_rev_filter_m].shape[0] for income in range_to_use]"
   ]
  },
  {
   "cell_type": "code",
   "execution_count": 33,
   "metadata": {
    "collapsed": true
   },
   "outputs": [],
   "source": [
    "df_f = pd.DataFrame()\n",
    "\n",
    "for month in range(1,13):\n",
    "    month_income = np.zeros(simulation.persons.count)\n",
    "    for var in [\"salaire_imposable\", \"chomage_imposable\", \"retraite_imposable\" ]:\n",
    "        month_income += simulation.calculate(var,\"2009-{}\".format(month))\n",
    "    df_f[\"income_month_{}\".format(month)] = sum_array_by_entity(month_income, 'foyer_fiscal')\n",
    "    \n",
    "df_f[\"yearly_income\"] = df_f[income_month_list].sum(1)\n",
    "df_f[\"diff_rev\"] = df_f[income_month_list].max(1) - df_f[income_month_list].min(1)\n",
    "df_f[\"relative_var\"] = (df_f[income_month_list].max(1) - df_f[income_month_list].min(1))/df_f[income_month_list].max(1)\n",
    "\n",
    "\n",
    "has_rev_filter_f = df_f[\"yearly_income\"]>1\n",
    "\n",
    "range_to_use = range(1,7000,20)\n",
    "income_rep_func_f =[df_f[has_rev_filter_f & (df_f.diff_rev<income)].shape[0]/df_f[has_rev_filter_f].shape[0] for income in range_to_use]"
   ]
  },
  {
   "cell_type": "code",
   "execution_count": 34,
   "metadata": {
    "collapsed": false
   },
   "outputs": [
    {
     "data": {
      "text/plain": [
       "(52189, 15)"
      ]
     },
     "execution_count": 34,
     "metadata": {},
     "output_type": "execute_result"
    }
   ],
   "source": [
    "df_f.shape"
   ]
  },
  {
   "cell_type": "code",
   "execution_count": 35,
   "metadata": {
    "collapsed": false,
    "scrolled": false
   },
   "outputs": [
    {
     "data": {
      "text/plain": [
       "<matplotlib.figure.Figure at 0x1b71a5390>"
      ]
     },
     "execution_count": 35,
     "metadata": {},
     "output_type": "execute_result"
    },
    {
     "data": {
      "image/png": "[encoded data removed]",
      "text/plain": [
       "<matplotlib.figure.Figure at 0x19906c610>"
      ]
     },
     "metadata": {},
     "output_type": "display_data"
    },
    {
     "data": {
      "text/plain": [
       "<matplotlib.figure.Figure at 0x1b71a5390>"
      ]
     },
     "metadata": {},
     "output_type": "display_data"
    }
   ],
   "source": [
    "\n",
    "plt.figure(figsize=(15,9))\n",
    "plt.plot(range_to_use,income_rep_func,label = 'Individuals')\n",
    "plt.plot(range_to_use,income_rep_func_f,label = 'Fiscal households')\n",
    "plt.plot(range_to_use,income_rep_func_m,label = 'Households')\n",
    "\n",
    "\n",
    "plt.ylabel(\"share of the population\", fontsize=20 )\n",
    "plt.xlabel(\"euro\", fontsize=20)\n",
    "plt.title('Cumulative distribution of \\n the maximum variation within year', fontsize = 25)\n",
    "\n",
    "plt.legend(bbox_to_anchor=(1, 0.2), fontsize=15)\n",
    "plt.grid()\n",
    "plt.figure(figsize = (10,20))"
   ]
  },
  {
   "cell_type": "markdown",
   "metadata": {},
   "source": [
    "### Cumulative only for those with a unique income for each month (with no null income)"
   ]
  },
  {
   "cell_type": "code",
   "execution_count": 36,
   "metadata": {
    "collapsed": true
   },
   "outputs": [],
   "source": [
    "revenu_diff_0_per_month = np.zeros(weight_individus.shape)\n",
    "for var in ['salaire_imposable', 'chomage_imposable', 'retraite_imposable']:\n",
    "    for month in range(1,13):\n",
    "        revenu_diff_0_per_month += pd.Series(simulation.calculate('{}'.format(var), '2009-{}'.format(month))) != 0 "
   ]
  },
  {
   "cell_type": "code",
   "execution_count": 37,
   "metadata": {
    "collapsed": true
   },
   "outputs": [],
   "source": [
    "unique_income = (revenu_diff_0_per_month == 12)"
   ]
  },
  {
   "cell_type": "code",
   "execution_count": 38,
   "metadata": {
    "collapsed": true
   },
   "outputs": [],
   "source": [
    "filter_rev_but_not_unique = (pd.Series(has_rev_filter) & (~ pd.Series(unique_income)))"
   ]
  },
  {
   "cell_type": "code",
   "execution_count": 39,
   "metadata": {
    "collapsed": true
   },
   "outputs": [],
   "source": [
    "un_seul_revenu_m = sum_array_by_entity(month_income, 'menage')"
   ]
  },
  {
   "cell_type": "code",
   "execution_count": 40,
   "metadata": {
    "collapsed": false
   },
   "outputs": [],
   "source": [
    "has_rev_unic_each_month_filter = (df[\"yearly_income\"]>1) & unique_income\n",
    "has_rev_unic_each_month_filter_m = sum_array_by_entity(filter_rev_but_not_unique, 'menage')\n",
    "has_rev_unic_each_month_filter_m = ~ has_rev_unic_each_month_filter_m.astype('bool')"
   ]
  },
  {
   "cell_type": "code",
   "execution_count": 41,
   "metadata": {
    "collapsed": false
   },
   "outputs": [],
   "source": [
    "has_rev_unic_each_month_filter_f = sum_array_by_entity(filter_rev_but_not_unique, 'foyer_fiscal')\n",
    "has_rev_unic_each_month_filter_f = ~ has_rev_unic_each_month_filter_f.astype('bool')"
   ]
  },
  {
   "cell_type": "code",
   "execution_count": 42,
   "metadata": {
    "collapsed": false
   },
   "outputs": [
    {
     "name": "stdout",
     "output_type": "stream",
     "text": [
      "CPU times: user 2.37 s, sys: 63.7 ms, total: 2.44 s\n",
      "Wall time: 3.57 s\n"
     ]
    }
   ],
   "source": [
    "%%time\n",
    "range_to_use = range(1,7000,20)\n",
    "income_rep_func_unique_m =[df_m[has_rev_unic_each_month_filter_m & (df_m.diff_rev<income)].shape[0]/df_m[has_rev_unic_each_month_filter_m].shape[0] for income in range_to_use]\n"
   ]
  },
  {
   "cell_type": "code",
   "execution_count": 43,
   "metadata": {
    "collapsed": false
   },
   "outputs": [],
   "source": [
    "\n",
    "range_to_use = range(1,7000,20)\n",
    "income_rep_func_unique_f =[df_f[has_rev_unic_each_month_filter_f & (df_f.diff_rev<income)].shape[0]/df_f[has_rev_unic_each_month_filter_f].shape[0] \n",
    "                           for income in range_to_use]\n"
   ]
  },
  {
   "cell_type": "code",
   "execution_count": 44,
   "metadata": {
    "collapsed": false
   },
   "outputs": [
    {
     "name": "stdout",
     "output_type": "stream",
     "text": [
      "CPU times: user 6.51 s, sys: 2.19 s, total: 8.7 s\n",
      "Wall time: 10.8 s\n"
     ]
    }
   ],
   "source": [
    "%%time\n",
    "range_to_use = range(1,7000,20)\n",
    "income_rep_func_unique =[df[has_rev_unic_each_month_filter & (df.diff_rev<income)].shape[0]/df[has_rev_unic_each_month_filter].shape[0]\n",
    "                         for income in range_to_use]\n"
   ]
  },
  {
   "cell_type": "code",
   "execution_count": 45,
   "metadata": {
    "collapsed": false
   },
   "outputs": [
    {
     "data": {
      "text/plain": [
       "<matplotlib.figure.Figure at 0x1b7104650>"
      ]
     },
     "execution_count": 45,
     "metadata": {},
     "output_type": "execute_result"
    },
    {
     "data": {
      "image/png": "[encoded data removed]",
      "text/plain": [
       "<matplotlib.figure.Figure at 0x1b7331510>"
      ]
     },
     "metadata": {},
     "output_type": "display_data"
    },
    {
     "data": {
      "text/plain": [
       "<matplotlib.figure.Figure at 0x1b7104650>"
      ]
     },
     "metadata": {},
     "output_type": "display_data"
    }
   ],
   "source": [
    "\n",
    "plt.figure(figsize=(15,9))\n",
    "plt.plot(range_to_use,income_rep_func_unique,label = 'Individuals')\n",
    "plt.plot(range_to_use,income_rep_func_unique_f,label = 'Fiscal households')\n",
    "plt.plot(range_to_use,income_rep_func_unique_m,label = 'Households')\n",
    "\n",
    "\n",
    "plt.ylabel(\"share of the population\", fontsize=20 )\n",
    "plt.xlabel(\"euro\", fontsize=20)\n",
    "plt.title('Cumulative distribution of \\n the maximum variation within year', fontsize = 25)\n",
    "plt.xlim((0,3500))\n",
    "\n",
    "plt.legend(bbox_to_anchor=(1, 0.2), fontsize=15)\n",
    "plt.grid()\n",
    "plt.figure(figsize = (10,20))\n"
   ]
  },
  {
   "cell_type": "code",
   "execution_count": 46,
   "metadata": {
    "collapsed": false
   },
   "outputs": [
    {
     "ename": "NameError",
     "evalue": "name 'filter_neg' is not defined",
     "output_type": "error",
     "traceback": [
      "\u001b[0;31m---------------------------------------------------------------------------\u001b[0m",
      "\u001b[0;31mNameError\u001b[0m                                 Traceback (most recent call last)",
      "\u001b[0;32m<ipython-input-46-a316d273800e>\u001b[0m in \u001b[0;36m<module>\u001b[0;34m()\u001b[0m\n\u001b[0;32m----> 1\u001b[0;31m \u001b[0mfilter_neg\u001b[0m\u001b[0;34m.\u001b[0m\u001b[0mvalue_counts\u001b[0m\u001b[0;34m(\u001b[0m\u001b[0;34m)\u001b[0m\u001b[0;34m\u001b[0m\u001b[0m\n\u001b[0m",
      "\u001b[0;31mNameError\u001b[0m: name 'filter_neg' is not defined"
     ]
    }
   ],
   "source": [
    "filter_neg.value_counts()"
   ]
  },
  {
   "cell_type": "code",
   "execution_count": null,
   "metadata": {
    "collapsed": false
   },
   "outputs": [],
   "source": [
    "unique_income_with_rev = has_rev_filter & unique_income"
   ]
  },
  {
   "cell_type": "code",
   "execution_count": null,
   "metadata": {
    "collapsed": false
   },
   "outputs": [],
   "source": [
    "pd.Series(has_rev_filter).value_counts()"
   ]
  },
  {
   "cell_type": "code",
   "execution_count": null,
   "metadata": {
    "collapsed": false
   },
   "outputs": [],
   "source": [
    "has_rev_filter.shape"
   ]
  },
  {
   "cell_type": "code",
   "execution_count": null,
   "metadata": {
    "collapsed": true
   },
   "outputs": [],
   "source": []
  },
  {
   "cell_type": "code",
   "execution_count": null,
   "metadata": {
    "collapsed": false
   },
   "outputs": [],
   "source": [
    "df_m = pd.DataFrame()\n",
    "\n",
    "for month in range(1,13):\n",
    "    month_income = np.zeros(simulation.calculate(\"revdisp_mensuel_annuel\",\"2009-01\").shape[0])\n",
    "    month_income += simulation.calculate(\"revdisp_mensuel_annuel\",\"2009-{}\".format(month))\n",
    "    df_m[\"income_month_{}\".format(month)] = month_income\n",
    "    \n",
    "df_m[\"yearly_income\"] = df_f[income_month_list].sum(1)\n",
    "df_m[\"diff_rev\"] = df_f[income_month_list].max(1) - df_f[income_month_list].min(1)\n",
    "df_m[\"relative_var\"] = (df_m[income_month_list].max(1) - df_m[income_month_list].min(1))/df_m[income_month_list].max(1)\n",
    "\n",
    "\n",
    "has_rev_filter_m = df_m[\"yearly_income\"]>1\n",
    "\n",
    "range_to_use = range(1,7000,20)\n",
    "income_rep_func_m =[df_m[has_rev_filter_m & (df_m.diff_rev<income)].shape[0]/df_m[has_rev_filter_m].shape[0] for income in range_to_use]"
   ]
  },
  {
   "cell_type": "code",
   "execution_count": null,
   "metadata": {
    "collapsed": false
   },
   "outputs": [],
   "source": [
    "\n",
    "plt.figure(figsize=(15,9))\n",
    "\n",
    "plt.plot(range_to_use,income_rep_func_m,label = 'Households')\n",
    "\n",
    "\n",
    "plt.ylabel(\"share of the population\", fontsize=20 )\n",
    "plt.xlabel(\"euro\", fontsize=20)\n",
    "plt.title('Cumulative distribution of \\n the maximum variation within year after tax and transfers', fontsize = 25)\n",
    "\n",
    "plt.legend(bbox_to_anchor=(1, 0.2), fontsize=15)\n",
    "plt.grid()\n",
    "plt.xlim(0,1000)\n",
    "plt.figure(figsize = (10,20))\n"
   ]
  },
  {
   "cell_type": "code",
   "execution_count": null,
   "metadata": {
    "collapsed": false
   },
   "outputs": [],
   "source": [
    "print (pd.Series(simulation.calculate('salaire_imposable'))[(df[\"diff_rev\"]>1000)]>0).value_counts()\n",
    "print (pd.Series(simulation.calculate('retraite_imposable'))[(df[\"diff_rev\"]>1000)]>0).value_counts()\n",
    "print (pd.Series(simulation.calculate('chomage_imposable'))[(df[\"diff_rev\"]>1000)]>0).value_counts()"
   ]
  },
  {
   "cell_type": "code",
   "execution_count": null,
   "metadata": {
    "collapsed": false
   },
   "outputs": [],
   "source": [
    "pd.Series(simulation.calculate('retraite_imposable')).value_counts()"
   ]
  },
  {
   "cell_type": "code",
   "execution_count": null,
   "metadata": {
    "collapsed": false
   },
   "outputs": [],
   "source": [
    "\n",
    "for month in range(1,13):\n",
    "    month_income = np.zeros(simulation.persons.count)\n",
    "    for var in [\"salaire_imposable\", \"chomage_imposable\", \"retraite_imposable\" ]:\n",
    "        month_income += simulation.calculate(var,\"2009-{}\".format(month))\n",
    "    df['revenu_mois{}'.format(month)] = month_income"
   ]
  },
  {
   "cell_type": "code",
   "execution_count": null,
   "metadata": {
    "collapsed": true
   },
   "outputs": [],
   "source": [
    "del month_income"
   ]
  },
  {
   "cell_type": "code",
   "execution_count": null,
   "metadata": {
    "collapsed": false,
    "scrolled": false
   },
   "outputs": [],
   "source": [
    "df[(df[\"diff_rev\"]>5000)].head()"
   ]
  },
  {
   "cell_type": "code",
   "execution_count": null,
   "metadata": {
    "collapsed": true
   },
   "outputs": [],
   "source": []
  },
  {
   "cell_type": "code",
   "execution_count": null,
   "metadata": {
    "collapsed": true
   },
   "outputs": [],
   "source": [
    "count,division = np.histogram(df[(df.yearly_income>0)].yearly_income,bins=10)\n",
    "bins = df[(df.yearly_income>0)&(df.yearly_income<175000)].yearly_income.quantile(np.arange(0,1.1,0.1))"
   ]
  },
  {
   "cell_type": "code",
   "execution_count": null,
   "metadata": {
    "collapsed": false
   },
   "outputs": [],
   "source": [
    "#### Marginal rates\n",
    "from openfisca_utils import make_ready_to_use_simulation\n",
    "from openfisca_core import rates\n",
    "test_case_simulation = make_ready_to_use_simulation.make_ready_to_use_simulation(2009,False)\n",
    "rbg_test_case = test_case_simulation.calculate('rbg')\n",
    "irpp_test_case = test_case_simulation.calculate('irpp')\n",
    "revdisp_test_case = test_case_simulation.calculate('revdisp')\n",
    "marginal_rate = rates.marginal_rate(irpp_test_case, rbg_test_case)-1\n",
    "global_marginal_rate = rates.marginal_rate(revdisp_test_case, rbg_test_case)\n",
    "to_change = pd.Series(marginal_rate)[marginal_rate>1].index\n",
    "#to_change = pd.Series(rates.marginal_rate(irpp_test_case, rbg_test_case)-1)[rates.marginal_rate(irpp_test_case, rbg_test_case)-1>1].index\n",
    "marginal_rate[to_change] = marginal_rate[to_change+1]\n",
    "\n",
    "#Average\n",
    "global_average_rate = rates.average_rate(revdisp_test_case[76:] - revdisp_test_case[0], rbg_test_case[76:])\n",
    "average_rate = rates.average_rate(irpp_test_case[76:] , rbg_test_case[76:])"
   ]
  },
  {
   "cell_type": "code",
   "execution_count": null,
   "metadata": {
    "collapsed": false
   },
   "outputs": [],
   "source": [
    "rbg_test_case[:48]"
   ]
  },
  {
   "cell_type": "code",
   "execution_count": null,
   "metadata": {
    "collapsed": false
   },
   "outputs": [],
   "source": [
    "plt.plot( rbg_test_case[::10], global_marginal_rate[::10])\n",
    "plt.plot(rbg_test_case[::10], marginal_rate[::10])\n",
    "plt.plot(rbg_test_case[76:], global_average_rate, '--b')\n",
    "plt.plot(rbg_test_case[76:], average_rate-1, '--r')\n",
    "plt.ylim(-1,1)\n",
    "plt.xlim(0,50000)"
   ]
  },
  {
   "cell_type": "code",
   "execution_count": null,
   "metadata": {
    "collapsed": false
   },
   "outputs": [],
   "source": [
    "plt.plot(rbg_test_case[76:], average_rate, '--r')"
   ]
  },
  {
   "cell_type": "code",
   "execution_count": null,
   "metadata": {
    "collapsed": false
   },
   "outputs": [],
   "source": [
    "survey_scenario.simulation.calculate(\"rbg\")"
   ]
  },
  {
   "cell_type": "code",
   "execution_count": null,
   "metadata": {
    "collapsed": false
   },
   "outputs": [],
   "source": [
    "income_by_fisal_shares = (survey_scenario.simulation.calculate(\"rbg\")/survey_scenario.simulation.calculate(\"nbptr\"))  \n",
    "                                                           \n",
    "df_m[\"income_by_fiscalshares\"] =  switch_array_entity(income_by_fisal_shares,  \"foyer_fiscal\", \"menage\")  #income_by_fiscal_shares\n",
    "df_f.shape\n",
    "                                                                     \n",
    "                              "
   ]
  },
  {
   "cell_type": "code",
   "execution_count": null,
   "metadata": {
    "collapsed": false
   },
   "outputs": [],
   "source": [
    "plt.hist(survey_scenario.simulation.calculate(\"rbg\")/survey_scenario.simulation.calculate(\"nbptr\"), bins = 1000)\n",
    "plt.xlim(0,20000)"
   ]
  },
  {
   "cell_type": "code",
   "execution_count": null,
   "metadata": {
    "collapsed": false
   },
   "outputs": [],
   "source": [
    "plt.figure(figsize=(10,5))\n",
    "ax = df_m.income_by_fiscalshares.hist(bins =1000, alpha = 0.2, color = 'k')\n",
    "\n",
    "ax2 = ax.twinx()\n",
    "#ax2.plot( rbg_test_case[::35], global_marginal_rate[::35])\n",
    "ax2.plot( rbg_test_case[::15], global_marginal_rate[::15], '-b',label = \"Piecewize linear tax scheme\")\n",
    "ax2.plot(rbg_test_case[::10], marginal_rate[::10],  '-g',label = \"Effective marginal tax rates\")\n",
    "ax2.plot(rbg_test_case[76:], global_average_rate, '--b', label = \"Average rate from tax scheme\")\n",
    "ax2.plot(rbg_test_case[76:], average_rate-1, '--g', label = \"Effective average tax rates\")\n",
    "ax2.legend(loc = 1)\n",
    "plt.xlim(0,120000)\n",
    "ax.set_ylabel('Number of households', fontsize=15)\n",
    "ax.set_xlabel('Household income by fiscal share \\n (in euros)', fontsize=15)\n",
    "ax2.set_ylabel('Marginal rate', fontsize=15)\n",
    "ax2.set_ylim(0,1)"
   ]
  },
  {
   "cell_type": "code",
   "execution_count": null,
   "metadata": {
    "collapsed": false
   },
   "outputs": [],
   "source": []
  },
  {
   "cell_type": "code",
   "execution_count": null,
   "metadata": {
    "collapsed": false
   },
   "outputs": [],
   "source": [
    "simulation.calculate('rbg_mensuel_times_12', '2009-01')"
   ]
  },
  {
   "cell_type": "code",
   "execution_count": null,
   "metadata": {
    "collapsed": false
   },
   "outputs": [],
   "source": [
    "rbg_month_by_fs_list = [\"rbg_month_by_fs_{}\".format(month) for month in range(1,13)]\n",
    "df_m = pd.DataFrame()\n",
    "\n",
    "for month in range(1,13):\n",
    "    month_rbg = np.zeros(52189)\n",
    "    for var in ['rni_mensuel_times_12']:\n",
    "        month_rbg += (simulation.calculate(var,\"2009-{}\".format(month))/12)\n",
    "    df_m[\"rbg_month_by_fs_{}\".format(month)] = switch_array_entity(month_rbg, 'foyer_fiscal','menage')/switch_entity('nbptr', 'menage')\n",
    "    \n",
    "\n",
    "df_m[\"yearly_rbg_by_fs\"] = df_m[rbg_month_by_fs_list].sum(1)\n",
    "df_m[\"diff_rbg\"] = df_m[rbg_month_by_fs_list].max(1) - df_m[rbg_month_by_fs_list].min(1)\n",
    "df_m[\"rbg_relative_var\"] = (df_m[rbg_month_by_fs_list].max(1) - df_m[rbg_month_by_fs_list].min(1))/df_m[rbg_month_by_fs_list].max(1)\n",
    "\n",
    "has_rbg_filter_m = df_m[\"yearly_rbg_by_fs\"]>1\n",
    "\n",
    "range_to_use = range(1,7000,20)"
   ]
  },
  {
   "cell_type": "code",
   "execution_count": null,
   "metadata": {
    "collapsed": false
   },
   "outputs": [],
   "source": [
    "rbg_month_by_fs_list = [\"rbg_month_by_fs_{}\".format(month) for month in range(1,13)]\n",
    "df_f = pd.DataFrame()\n",
    "\n",
    "for month in range(1,13):\n",
    "    month_rbg = np.zeros(52189)\n",
    "    for var in ['rni_mensuel_times_12']:\n",
    "        month_rbg += (simulation.calculate(var,\"2009-{}\".format(month))/12)\n",
    "    df_f[\"rbg_month_by_fs_{}\".format(month)] = month_rbg/simulation.calculate(\"nbptr\")\n",
    "    \n",
    "\n",
    "df_f[\"yearly_rbg_by_fs\"] = df_m[rbg_month_by_fs_list].sum(1)\n",
    "df_f[\"diff_rbg\"] = df_m[rbg_month_by_fs_list].max(1) - df_m[rbg_month_by_fs_list].min(1)\n",
    "df_f[\"rbg_relative_var\"] = (df_m[rbg_month_by_fs_list].max(1) - df_m[rbg_month_by_fs_list].min(1))/df_m[rbg_month_by_fs_list].max(1)\n",
    "\n",
    "has_rbg_filter_f = df_m[\"yearly_rbg_by_fs\"]>1\n",
    "\n",
    "range_to_use = range(1,7000,20)"
   ]
  },
  {
   "cell_type": "code",
   "execution_count": null,
   "metadata": {
    "collapsed": false
   },
   "outputs": [],
   "source": [
    "switch_entity('nbptr', 'menage')"
   ]
  },
  {
   "cell_type": "code",
   "execution_count": null,
   "metadata": {
    "collapsed": false
   },
   "outputs": [],
   "source": [
    "switch_array_entity(month_rbg, 'foyer_fiscal','menage').shape"
   ]
  },
  {
   "cell_type": "code",
   "execution_count": null,
   "metadata": {
    "collapsed": false
   },
   "outputs": [],
   "source": [
    "\n",
    "\n",
    "\n",
    "#TODO: vérifier que ça prend bien en compte les 10% d'abbatement, bref que rbg est bien la bonne base taxable à prendre en considération.\n",
    "\n",
    "#(survey_scenario.simulation.calculate(\"rbg\")/survey_scenario.simulation.calculate(\"nbptr\")\n",
    "\n",
    "fig = plt.figure(figsize=(16, 12))\n",
    "\n",
    "\n",
    "ax1 = plt.subplot2grid((2,2), (1,0), colspan=1) ; plt.figure()\n",
    "\n",
    "rev_max = 175000\n",
    "bins_to_graph = df_m[(df_m.yearly_rbg_by_fs>0)&(df_m.yearly_rbg_by_fs<175000)].yearly_rbg_by_fs.quantile(np.arange(0,1.1,0.1))\n",
    "\n",
    "n,bins,patches = plt.hist(df_m[((df_m.yearly_rbg_by_fs>0)&(df_m.yearly_rbg_by_fs<rev_max)) & \n",
    "                             (df_m.rbg_relative_var>0.2)].yearly_rbg_by_fs.values, \n",
    "                              bins= bins_to_graph.values\n",
    "                         )\n",
    "plt.close() #do not display first plots\n",
    "\n",
    "plt.figure()\n",
    "rev_max = 175000\n",
    "bins_to_graph = df_m[(df_m.yearly_rbg_by_fs>0)&(df_m.yearly_rbg_by_fs<175000)].yearly_rbg_by_fs.quantile(np.arange(0,1.1,0.1))\n",
    "n2,bins2,patches2 = plt.hist(df_m[((df_m.yearly_rbg_by_fs>0)&\n",
    "                                 (df_m.yearly_rbg_by_fs<rev_max))].yearly_rbg_by_fs.values,\n",
    "                             bins= bins_to_graph.values)\n",
    "plt.close() #do not display first plots\n",
    "width_list = []\n",
    "for i in range(0,bins2.shape[0]-1):\n",
    "    width_list.append(bins2[i]-bins2[i+1])\n",
    "ax1.bar( bins2[1::], n/n2,width = width_list, alpha = 0.5)\n",
    "ax1.grid()\n",
    "ax1.set_xlim([0,100000])\n",
    "ax1.set_title(\"Households\")\n",
    "ax1_2 = ax1.twinx()\n",
    "ax1_2.plot(rbg_test_case[1:],marginal_rate, 'k', label = \"marginal tax rate\")\n",
    "ax1.set_xlim(0,75000)\n",
    "\n",
    "ax1.set_xlabel('Tax base divided by fiscal share')\n",
    "\n",
    "\n",
    "\n",
    "\n",
    "\n",
    "\n",
    "ax2 = plt.subplot2grid((2,2), (0,0), colspan=2,  sharey=ax1)\n",
    "\n",
    "\n",
    "plt.figure()\n",
    "rev_max = 175000\n",
    "bins_to_graph = df_f[(df_f.yearly_rbg_by_fs>0)&(df_f.yearly_rbg_by_fs<175000)].yearly_rbg_by_fs.quantile(np.arange(0,1.1,0.1))\n",
    "n,bins,patches = plt.hist(df_f[((df_f.yearly_rbg_by_fs>0)&(df_f.yearly_rbg_by_fs<rev_max)) & \n",
    "                             (df_f.rbg_relative_var>0.2)].yearly_rbg_by_fs.values, \n",
    "                              bins= bins_to_graph.values\n",
    "                         )\n",
    "plt.close() #do not display first plots\n",
    "\n",
    "plt.figure()\n",
    "rev_max = 175000\n",
    "bins_to_graph = df_f[(df_f.yearly_rbg_by_fs>0)&(df_f.yearly_rbg_by_fs<175000)].yearly_rbg_by_fs.quantile(np.arange(0,1.1,0.1))\n",
    "n2,bins2,patches2 = plt.hist(df_f[((df_f.yearly_rbg_by_fs>0)&\n",
    "                                 (df_f.yearly_rbg_by_fs<rev_max))].yearly_rbg_by_fs.values,\n",
    "                             bins= bins_to_graph.values)\n",
    "plt.close() #do not display first plots\n",
    "width_list = []\n",
    "for i in range(0,bins2.shape[0]-1):\n",
    "    width_list.append(bins2[i]-bins2[i+1])\n",
    "ax2.bar( bins2[1::], n/n2,width = width_list, alpha = 0.5)\n",
    "ax2.grid()\n",
    "ax2_2 = ax2.twinx()\n",
    "ax2_2.plot(rbg_test_case[1:],marginal_rate, 'k', label = \"Marginal tax rate\")\n",
    "\n",
    "ax2.set_xlim([0,75000])\n",
    "ax2.set_title(\"Fiscal Households\")\n",
    "ax2.set_xlabel('Tax base divided by fiscal share')\n",
    "\n",
    "\n",
    "\n",
    "\n",
    "ax3 = plt.subplot2grid((2,2), (1,1), colspan=1, sharey=ax1)\n",
    "plt.figure()\n",
    "rev_max = 175000\n",
    "bins_to_graph = df[(df.yearly_income>0)&(df.yearly_income<175000)].yearly_income.quantile(np.arange(0,1.1,0.1))\n",
    "n,bins,patches = plt.hist(df[((df.yearly_income>0)&(df.yearly_income<rev_max)) & \n",
    "                             (df.relative_var>0.2)].yearly_income.values, \n",
    "                              bins= bins_to_graph.values\n",
    "                         )\n",
    "plt.close() #do not display first plots\n",
    "\n",
    "plt.figure()\n",
    "rev_max = 175000\n",
    "bins_to_graph = df[(df.yearly_income>0)&(df.yearly_income<175000)].yearly_income.quantile(np.arange(0,1.1,0.1))\n",
    "n2,bins2,patches2 = plt.hist(df[((df.yearly_income>0)&\n",
    "                                 (df.yearly_income<rev_max))].yearly_income.values,\n",
    "                             bins= bins_to_graph.values)\n",
    "plt.close() #do not display first plots\n",
    "width_list = []\n",
    "for i in range(0,bins2.shape[0]-1):\n",
    "    width_list.append(bins2[i]-bins2[i+1])\n",
    "ax3.bar( bins2[1::], n/n2,width = width_list, alpha = 0.5)\n",
    "ax3.grid()\n",
    "ax3_2 = ax3.twinx()\n",
    "ax3_2.plot(rbg_test_case[1:],marginal_rate, 'k', label = \"marginal tax rate\")\n",
    "ax3_2.legend()\n",
    "\n",
    "ax3.set_xlim([0,75000])\n",
    "ax3.set_title(\"Individuals\")\n",
    "ax3.set_xlabel('Tax base divided by fiscal share')"
   ]
  },
  {
   "cell_type": "code",
   "execution_count": null,
   "metadata": {
    "collapsed": false
   },
   "outputs": [],
   "source": [
    "\n",
    "\n",
    "\n",
    "#TODO: vérifier que ça prend bien en compte les 10% d'abbatement, bref que rbg est bien la bonne base taxable à prendre en considération.\n",
    "\n",
    "#(survey_scenario.simulation.calculate(\"rbg\")/survey_scenario.simulation.calculate(\"nbptr\")\n",
    "\n",
    "fig = plt.figure(figsize=(10, 7))\n",
    "\n",
    "\n",
    "\n",
    "\n",
    "\n",
    "\n",
    "\n",
    "\n",
    "ax2 = plt.subplot2grid((1,1), (0,0), colspan=2)\n",
    "\n",
    "\n",
    "plt.figure()\n",
    "rev_max = 175000\n",
    "bins_to_graph = df_f[(df_f.yearly_rbg_by_fs>0)&(df_f.yearly_rbg_by_fs<175000)].yearly_rbg_by_fs.quantile(np.arange(0,1.1,0.1))\n",
    "n,bins,patches = plt.hist(df_f[((df_f.yearly_rbg_by_fs>0)&(df_f.yearly_rbg_by_fs<rev_max)) & \n",
    "                             (df_f.rbg_relative_var>0.2)].yearly_rbg_by_fs.values, \n",
    "                              bins= bins_to_graph.values\n",
    "                         )\n",
    "plt.close() #do not display first plots\n",
    "\n",
    "plt.figure()\n",
    "rev_max = 175000\n",
    "bins_to_graph = df_f[(df_f.yearly_rbg_by_fs>0)&(df_f.yearly_rbg_by_fs<175000)].yearly_rbg_by_fs.quantile(np.arange(0,1.1,0.1))\n",
    "n2,bins2,patches2 = plt.hist(df_f[((df_f.yearly_rbg_by_fs>0)&\n",
    "                                 (df_f.yearly_rbg_by_fs<rev_max))].yearly_rbg_by_fs.values,\n",
    "                             bins= bins_to_graph.values)\n",
    "plt.close() #do not display first plots\n",
    "width_list = []\n",
    "for i in range(0,bins2.shape[0]-1):\n",
    "    width_list.append(bins2[i]-bins2[i+1])\n",
    "ax2.bar( bins2[1::], n/n2,width = width_list, alpha = 0.5)\n",
    "ax2.grid()\n",
    "ax2_2 = ax2.twinx()\n",
    "ax2_2.plot(rbg_test_case[1:],marginal_rate, 'k', label = \"Marginal tax rate\")\n",
    "\n",
    "ax2.set_xlim([0,75000])\n",
    "ax2.set_title(\"Fiscal Households\")\n",
    "ax2.set_xlabel('Tax base divided by fiscal share')\n",
    "ax2_2.legend()\n",
    "\n",
    "\n"
   ]
  },
  {
   "cell_type": "markdown",
   "metadata": {},
   "source": [
    "### Reforme"
   ]
  },
  {
   "cell_type": "code",
   "execution_count": null,
   "metadata": {
    "collapsed": false
   },
   "outputs": [],
   "source": [
    "nb_minor_ticks = 5\n",
    "\n",
    "\n",
    "weights = weight_foyers/sum(weight_foyers)\n",
    "\n",
    "bins= range(-100,100, 2)\n",
    "\n",
    "lambda_compensation = survey_scenario.simulation.calculate(\"lambda_compensation\", period.this_year)\n",
    "lambda_compensation_household = switch_array_entity(lambda_compensation,'foyer_fiscal', 'menage')\n",
    "graph_filter = (np.abs(lambda_compensation)>.1)&(np.abs(lambda_compensation)<100)\n",
    "graph_filter_household = switch_array_entity(graph_filter, 'foyer_fiscal', 'menage').astype('bool')\n",
    "\n",
    "fig, ax = plt.subplots(1,2,sharey = True, figsize = (15, 5), tight_layout = True)\n",
    "\n",
    "\n",
    "ax[0].xaxis.set_minor_locator(AutoMinorLocator(nb_minor_ticks))\n",
    "ax[0].yaxis.set_minor_locator(AutoMinorLocator(nb_minor_ticks))\n",
    "\n",
    "ax[1].xaxis.set_minor_locator(AutoMinorLocator(nb_minor_ticks))\n",
    "ax[1].yaxis.set_minor_locator(AutoMinorLocator(nb_minor_ticks))\n",
    "\n",
    "\n",
    "weights = weight_foyers[graph_filter]/sum(weight_foyers[graph_filter])\n",
    "ax[0].hist(lambda_compensation[graph_filter], bins = bins, weights = weights)\n",
    "ax[0].set_ylim(0,0.21)\n",
    "ax[0].set_xlim(-50,100)\n",
    "ax[0].set_title(\"Fiscal Households\", weight = \"bold\")\n",
    "ax[0].set_ylabel('Share of households')\n",
    "ax[0].set_xlabel('$\\lambda$')\n",
    "ax[0].grid(which = 'both')\n",
    "ax[1].grid(which = 'both')\n",
    "\n",
    "\n",
    "weights = weight_menages[graph_filter_household & ~np.isnan(lambda_compensation_household)]/sum(weight_menages[graph_filter_household& ~np.isnan(lambda_compensation_household)])\n",
    "ax[1].hist(pd.Series(lambda_compensation_household[graph_filter_household]).dropna(), bins = bins, weights= weights)\n",
    "ax[1].set_xlim(-50,100)\n",
    "\n",
    "ax[1].set_xlabel('$\\lambda$')\n",
    "ax[1].set_title(\"Households\", weight = \"bold\")\n",
    "\n"
   ]
  },
  {
   "cell_type": "code",
   "execution_count": null,
   "metadata": {
    "collapsed": false
   },
   "outputs": [],
   "source": [
    "\n",
    "\n",
    "weights1 = weight_foyers[survey_scenario.simulation.calculate_add(\"irpp\")-survey_scenario.simulation.calculate_add(\"irpp_mensuel\")>1]\n",
    "weights2 = weight_foyers[survey_scenario.simulation.calculate_add(\"irpp\")-survey_scenario.simulation.calculate_add(\"irpp_mensuel\")<-1]\n",
    "\n",
    "fig, ax1 = plt.subplots(figsize=(20, 10))\n",
    "\n",
    "\n",
    "ax1.hist(    (survey_scenario.simulation.calculate(\"rbg\")/survey_scenario.simulation.calculate(\"nbptr\"))\\\n",
    "    [(survey_scenario.simulation.calculate_add(\"irpp\")-survey_scenario.simulation.calculate_add(\"irpp_mensuel\"))>1], bins = 400, label = \"Paying more on monthly basis\", \n",
    "         weights= weights1)\n",
    "ax1.hist(    (survey_scenario.simulation.calculate(\"rbg\")/survey_scenario.simulation.calculate(\"nbptr\"))\\\n",
    "    [(survey_scenario.simulation.calculate_add(\"irpp\")-survey_scenario.simulation.calculate_add(\"irpp_mensuel\"))<-1], bins = 130, color= 'r', label = \"Paying less on monthly basis\",\n",
    "         weights= weights2)\n",
    "\n",
    "\n",
    "ax1.set_xlim(0,50000)\n",
    "ax2 = plt.twinx()\n",
    "ax2.plot(rbg_test_case[1:],marginal_rate, 'k', label = \"marginal tax rate\")\n",
    "ax2.set_xlim(0,50000)\n",
    "ax2.legend()\n",
    "ax1.legend(bbox_to_anchor=(0.22, 1))\n",
    "ax1.grid(which = 'both')\n",
    "ax1.text(11000,500000, u\"minimum wage\", weight = 'bold',)\n",
    "ax2.set_ylabel(\"marginal tax rate\")\n",
    "ax1.set_xlabel(\"Gross global income divided by fiscal shares\")\n",
    "ax1.set_ylabel(\"number of taxunit\")\n",
    "ax1.set_title(\"\")\n"
   ]
  },
  {
   "cell_type": "code",
   "execution_count": null,
   "metadata": {
    "collapsed": true
   },
   "outputs": [],
   "source": [
    "winners_condition = [(survey_scenario.simulation.calculate_add(\"irpp\")-survey_scenario.simulation.calculate_add(\"irpp_mensuel\"))>1]\n",
    "winners = (survey_scenario.simulation.calculate(\"rbg\")/survey_scenario.simulation.calculate(\"nbptr\"))[winners_condition]\n",
    "\n",
    "loosers_condition = [(survey_scenario.simulation.calculate_add(\"irpp\")-survey_scenario.simulation.calculate_add(\"irpp_mensuel\"))<-1]\n",
    "loosers = (survey_scenario.simulation.calculate(\"rbg\")/survey_scenario.simulation.calculate(\"nbptr\"))[loosers_condition]\n"
   ]
  },
  {
   "cell_type": "code",
   "execution_count": null,
   "metadata": {
    "collapsed": false
   },
   "outputs": [],
   "source": [
    "\n",
    "###One euro\n",
    "weights1 = weight_foyers[survey_scenario.simulation.calculate_add(\"irpp\")-survey_scenario.simulation.calculate_add(\"irpp_mensuel\")>1]\n",
    "weights2 = weight_foyers[survey_scenario.simulation.calculate_add(\"irpp\")-survey_scenario.simulation.calculate_add(\"irpp_mensuel\")<-1]\n",
    "\n",
    "fig, ax1 = plt.subplots(figsize=(20, 10))\n",
    "\n",
    "\n",
    "bins = np.histogram(np.hstack((winners,loosers)), bins = 400)[1]\n",
    "\n",
    "ax1.hist(    (survey_scenario.simulation.calculate(\"rbg\")/survey_scenario.simulation.calculate(\"nbptr\"))\\\n",
    "    [(survey_scenario.simulation.calculate_add(\"irpp\")-survey_scenario.simulation.calculate_add(\"irpp_mensuel\"))>1], bins = bins, label = \"Paying more on monthly basis\", weights= weights1)\n",
    "ax1.hist(    (survey_scenario.simulation.calculate(\"rbg\")/survey_scenario.simulation.calculate(\"nbptr\"))\\\n",
    "    [(survey_scenario.simulation.calculate_add(\"irpp\")-survey_scenario.simulation.calculate_add(\"irpp_mensuel\"))<-1], bins = bins, color= 'r', label = \"Paying less on monthly basis\",weights= weights2)\n",
    "\n",
    "\n",
    "ax1.set_xlim(0,50000)\n",
    "ax2 = plt.twinx()\n",
    "ax2.plot(rbg_test_case[1:],marginal_rate, 'k', label = \"marginal tax rate\")\n",
    "ax2.set_xlim(0,50000)\n",
    "ax2.legend()\n",
    "ax1.legend(bbox_to_anchor=(0.22, 1))\n",
    "ax1.grid(which = 'both')\n",
    "ax1.text(11000,500000, u\"minimum wage\", weight = 'bold',)\n",
    "ax2.set_ylabel(\"marginal tax rate\")\n",
    "ax1.set_xlabel(\"Gross global income divided by fiscal shares\")\n",
    "ax1.set_ylabel(\"number of taxunit\")\n",
    "ax1.set_title(\"\")\n",
    "fig.text(0.8,0.8,'Bin size is {} euros'.format(np.rint((bins[1:] - bins[:-1])).astype('int')[0]))"
   ]
  },
  {
   "cell_type": "code",
   "execution_count": null,
   "metadata": {
    "collapsed": false
   },
   "outputs": [],
   "source": [
    "import matplotlib\n",
    "matplotlib.rcParams.update({'font.size': 20})\n",
    "#5 euros\n",
    "weights1 = weight_foyers[survey_scenario.simulation.calculate_add(\"irpp\")-survey_scenario.simulation.calculate_add(\"irpp_mensuel\")>5]\n",
    "weights2 = weight_foyers[survey_scenario.simulation.calculate_add(\"irpp\")-survey_scenario.simulation.calculate_add(\"irpp_mensuel\")<-5]\n",
    "\n",
    "fig, ax1 = plt.subplots(figsize=(20, 10))\n",
    "\n",
    "\n",
    "bins = np.histogram(np.hstack((winners,loosers)), bins = 400)[1]\n",
    "\n",
    "ax1.hist(    (survey_scenario.simulation.calculate(\"rbg\")/survey_scenario.simulation.calculate(\"nbptr\"))\\\n",
    "    [(survey_scenario.simulation.calculate_add(\"irpp\")-survey_scenario.simulation.calculate_add(\"irpp_mensuel\"))>5], bins = bins, label = \"Paying more on monthly basis\", weights= weights1)\n",
    "ax1.hist(    (survey_scenario.simulation.calculate(\"rbg\")/survey_scenario.simulation.calculate(\"nbptr\"))\\\n",
    "    [(survey_scenario.simulation.calculate_add(\"irpp\")-survey_scenario.simulation.calculate_add(\"irpp_mensuel\"))<-5], bins = bins, color= 'r', label = \"Paying less on monthly basis\",weights= weights2)\n",
    "\n",
    "\n",
    "ax1.set_xlim(0,50000)\n",
    "ax2 = plt.twinx()\n",
    "ax2.plot(rbg_test_case[1:],marginal_rate, 'k', label = \"marginal tax rate\")\n",
    "ax2.set_xlim(0,50000)\n",
    "ax2.legend()\n",
    "legend = ax1.legend(bbox_to_anchor=(0.43, 1))\n",
    "ax1.grid(which = 'both')\n",
    "#ax1.text(11000,500000, u\"minimum wage\", weight = 'bold',)\n",
    "ax2.set_ylabel(\"marginal tax rate\")\n",
    "ax1.set_xlabel(\"Gross global income divided by fiscal shares\")\n",
    "ax1.set_ylabel(\"number of taxunit\")\n",
    "ax1.set_title(\"\")\n",
    "legend.get_frame().set_alpha(0.5)\n",
    "ax1.set_ylim(0,300000)\n",
    "fig.text(0.7,0.8,'Bin size is {} euros'.format(np.rint((bins[1:] - bins[:-1])).astype('int')[0]))"
   ]
  },
  {
   "cell_type": "code",
   "execution_count": null,
   "metadata": {
    "collapsed": false
   },
   "outputs": [],
   "source": [
    "matplotlib.rcParams.update({'font.size': 10})\n",
    "fig, ax = plt.subplots(1,2,sharey = True, figsize = (20, 7), tight_layout = True)\n",
    "\n",
    "\n",
    "###One euro\n",
    "weights1 = weight_foyers[survey_scenario.simulation.calculate_add(\"irpp\")-survey_scenario.simulation.calculate_add(\"irpp_mensuel\")>1]\n",
    "weights2 = weight_foyers[survey_scenario.simulation.calculate_add(\"irpp\")-survey_scenario.simulation.calculate_add(\"irpp_mensuel\")<-1]\n",
    "\n",
    "\n",
    "bins = np.histogram(np.hstack((winners,loosers)), bins = 400)[1]\n",
    "\n",
    "hist_1 = ax[0].hist(    (survey_scenario.simulation.calculate(\"rbg\")/survey_scenario.simulation.calculate(\"nbptr\"))\\\n",
    "    [(survey_scenario.simulation.calculate_add(\"irpp\")-survey_scenario.simulation.calculate_add(\"irpp_mensuel\"))>1], bins = bins, label = \"Paying more on monthly basis\", weights= weights1)\n",
    "hist_2 = ax[0].hist(    (survey_scenario.simulation.calculate(\"rbg\")/survey_scenario.simulation.calculate(\"nbptr\"))\\\n",
    "    [(survey_scenario.simulation.calculate_add(\"irpp\")-survey_scenario.simulation.calculate_add(\"irpp_mensuel\"))<-1], bins = bins, color= 'r', label = \"Paying less on monthly basis\",weights= weights2)\n",
    "\n",
    "\n",
    "ax[0].set_xlim(0,50000)\n",
    "ax2 = ax[0].twinx()\n",
    "ax2.plot(rbg_test_case[1:],marginal_rate, 'k', label = \"marginal tax rate\")\n",
    "ax2.set_xlim(0,50000)\n",
    "#ax2.legend()\n",
    "\n",
    "ax[0].grid(which = 'both')\n",
    "ax[0].text(11000,500000, u\"minimum wage\", weight = 'bold',)\n",
    "ax2.set_ylabel(\"marginal tax rate\")\n",
    "ax[0].set_xlabel(\"Gross global income divided by fiscal shares\")\n",
    "ax[0].set_ylabel(\"number of taxunit\")\n",
    "ax[0].set_title(\"\")\n",
    "#fig.text(0.8,0.8,'Bin size is {} euros'.format(np.rint((bins[1:] - bins[:-1])).astype('int')[0]))\n",
    "\n",
    "#50 euros\n",
    "weights1 = weight_foyers[survey_scenario.simulation.calculate_add(\"irpp\")-survey_scenario.simulation.calculate_add(\"irpp_mensuel\")>50]\n",
    "weights2 = weight_foyers[survey_scenario.simulation.calculate_add(\"irpp\")-survey_scenario.simulation.calculate_add(\"irpp_mensuel\")<-50]\n",
    "\n",
    "\n",
    "\n",
    "bins = np.histogram(np.hstack((winners,loosers)), bins = 400)[1]\n",
    "\n",
    "ax[1].hist(    (survey_scenario.simulation.calculate(\"rbg\")/survey_scenario.simulation.calculate(\"nbptr\"))\\\n",
    "    [(survey_scenario.simulation.calculate_add(\"irpp\")-survey_scenario.simulation.calculate_add(\"irpp_mensuel\"))>50], bins = bins, label = \"Paying more on monthly basis\", weights= weights1)\n",
    "ax[1].hist(    (survey_scenario.simulation.calculate(\"rbg\")/survey_scenario.simulation.calculate(\"nbptr\"))\\\n",
    "    [(survey_scenario.simulation.calculate_add(\"irpp\")-survey_scenario.simulation.calculate_add(\"irpp_mensuel\"))<-50], bins = bins, color= 'r', label = \"Paying less on monthly basis\",weights= weights2)\n",
    "\n",
    "\n",
    "ax[1].set_xlim(0,50000)\n",
    "ax2 = ax[1].twinx()\n",
    "ax2.plot(rbg_test_case[1:],marginal_rate, 'k', label = \"marginal tax rate\")\n",
    "ax2.set_xlim(0,50000)\n",
    "ax2.legend()\n",
    "#legend = ax[1].legend(bbox_to_anchor=(0.22, 1))\n",
    "ax[1].grid(which = 'both')\n",
    "#ax1.text(11000,500000, u\"minimum wage\", weight = 'bold',)\n",
    "ax2.set_ylabel(\"marginal tax rate\")\n",
    "ax[1].set_xlabel(\"Gross global income divided by fiscal shares\")\n",
    "ax[1].set_ylabel(\"number of taxunit\")\n",
    "ax[1].set_title(\"More thant 50 euros\")\n",
    "legend.get_frame().set_alpha(0.5)\n",
    "ax[1].set_ylim(0,550000)\n",
    "\n",
    "ax[0].legend(bbox_to_anchor=(0.72, -0.1), ncol = 3)\n",
    "fig.text(0.038,-0.1,'Bins sizes are {} euros'.format(np.rint((bins[1:] - bins[:-1])).astype('int')[0]))\n",
    "#fig.text(.38,-0.05,'Bins sizes are {} euros'.format(np.rint((bins[1:] - bins[:-1])).astype('int')[0]))"
   ]
  },
  {
   "cell_type": "markdown",
   "metadata": {},
   "source": [
    "##  Utility analysis"
   ]
  },
  {
   "cell_type": "code",
   "execution_count": null,
   "metadata": {
    "collapsed": false
   },
   "outputs": [],
   "source": [
    "u_ir_m_rsa_m = pd.Series(survey_scenario.simulation.calculate_add('utility_ir_mensuel_rsa_mensuel','2009'))\n",
    "u_c_ir = pd.Series(survey_scenario.simulation.calculate_add('utility_compensated_ir_mensuel','2009'))\n",
    "u_ir_m = pd.Series(survey_scenario.simulation.calculate_add('utility_ir_mensuel','2009'))\n",
    "u_ir_a = pd.Series(survey_scenario.simulation.calculate_add('utility_ir_annuel','2009'))\n",
    "u_vickrey = pd.Series(survey_scenario.simulation.calculate_add('utility_ir_vickrey_mensuel','2009'))\n"
   ]
  },
  {
   "cell_type": "code",
   "execution_count": null,
   "metadata": {
    "collapsed": false
   },
   "outputs": [],
   "source": [
    "hist1 = ((u_ir_m - u_ir_a)).hist(bins = 200, figsize = (25,12), weights = weight_menages, zorder=10, color = 'c', alpha = 0.4, label = \"Monthly\")\n",
    "hist2 = ((u_c_ir - u_ir_a)).hist(bins = 200, figsize = (25,12), weights = weight_menages,zorder=1, color = 'k',alpha = 1, label = \"Compensated Monthly\")\n",
    "\n",
    "plt.axvline(x=0, ymax = 10**6, linewidth=4, color = 'r', alpha = 1, linestyle='dashed')\n",
    "plt.ylim(0,20*10**4)\n",
    "plt.xlim(-0.0005, 0.0005)\n",
    "plt.legend()\n",
    "plt.title(\"Difference in utility w.r.t annual basis\", size = 15)\n",
    "plt.xlabel('utility')\n",
    "plt.ylabel('headcounts')"
   ]
  },
  {
   "cell_type": "code",
   "execution_count": null,
   "metadata": {
    "collapsed": false
   },
   "outputs": [],
   "source": [
    "execute_time_consuming_graph = True\n",
    "if execute_time_consuming_graph == True : \n",
    "\n",
    "    weight_1 = pd.Series(weight_menages)[((u_ir_m - u_ir_a))!=0].values\n",
    "    weight_2 = pd.Series(weight_menages)[((u_c_ir - u_ir_a))!=0].values\n",
    "    bins = np.histogram(np.hstack((weight_1,weight_2)), bins = 7000)[1]\n",
    "    \n",
    "    hist1 = ((u_ir_m - u_ir_a))[((u_ir_m - u_ir_a))!=0].hist(figsize = (25,12), bins=7000,\n",
    "                                                             weights = weight_1, zorder=10, color = 'c', alpha = 0.4, label = \"Monthly\")\n",
    "    hist2 = ((u_c_ir - u_ir_a))[((u_c_ir - u_ir_a))!=0].hist(figsize = (25,12), bins=7000,\n",
    "                                                             weights = weight_2,zorder=1, color = 'k',alpha = 1, label = \"Compensated Monthly\")\n",
    "\n",
    "    plt.axvline(x=0, ymax = 10**6, linewidth=4, color = 'r', alpha = 1, linestyle='dashed')\n",
    "    plt.ylim(0,35*10**4)\n",
    "    plt.xlim(-0.00002, 0.00002)\n",
    "    plt.legend()\n",
    "    plt.title(\"Difference in utility w.r.t annual basis \\n no variation in utility taken out\", size = 15)\n",
    "    plt.xlabel('utility', size = 15)\n",
    "    plt.ylabel('headcounts', size = 15)"
   ]
  },
  {
   "cell_type": "code",
   "execution_count": null,
   "metadata": {
    "collapsed": false
   },
   "outputs": [],
   "source": [
    "execute_time_consuming_graph = True\n",
    "if execute_time_consuming_graph == True : \n",
    "\n",
    "    weight_1 = pd.Series(weight_menages)[((u_ir_m - u_ir_a))!=0].values\n",
    "    weight_2 = pd.Series(weight_menages)[((u_c_ir - u_ir_a))!=0].values\n",
    "    bins = np.histogram(np.hstack(((u_ir_m - u_ir_a)[((u_ir_m - u_ir_a))!=0]\n",
    "                                    ,(u_c_ir - u_ir_a)[((u_c_ir - u_ir_a))!=0]\n",
    "            )), bins = 2000)[1]\n",
    "    \n",
    "    hist1 = ((u_ir_m - u_ir_a))[((u_ir_m - u_ir_a))!=0].hist(figsize = (25,12), bins=bins,\n",
    "                                                             weights = weight_1, zorder=10, color = 'c', alpha = 0.4, label = \"Monthly\")\n",
    "    hist2 = ((u_c_ir - u_ir_a))[((u_c_ir - u_ir_a))!=0].hist(figsize = (25,12), bins=bins,\n",
    "                                                             weights = weight_2,zorder=1, color = 'k',alpha = 1, label = \"Compensated Monthly\")\n",
    "\n",
    "    plt.axvline(x=0, ymax = 10**6, linewidth=4, color = 'r', alpha = 1, linestyle='dashed')\n",
    "    plt.ylim(0,35*10**4)\n",
    "    plt.xlim(-0.00002, 0.00002)\n",
    "    plt.legend()\n",
    "    plt.title(\"Difference in utility w.r.t annual basis \\n no variation in utility taken out\", size = 15)\n",
    "    plt.xlabel('utility', size = 15)\n",
    "    plt.ylabel('headcounts', size = 15)"
   ]
  },
  {
   "cell_type": "code",
   "execution_count": null,
   "metadata": {
    "collapsed": false
   },
   "outputs": [],
   "source": [
    "## Avec Echelles d'équivalences\n",
    "#u_es_ir_m_rsa_m = pd.Series(survey_scenario.simulation.calculate_add('utility_es_ir_mensuel_rsa_mensuel','2009'))\n",
    "u_es_c_ir = pd.Series(survey_scenario.simulation.calculate_add('utility_es_compensated_ir_mensuel','2009'))\n",
    "u_es_ir_m = pd.Series(survey_scenario.simulation.calculate_add('utility_es_ir_mensuel','2009'))\n",
    "u_es_ir_a = pd.Series(survey_scenario.simulation.calculate_add('utility_es_ir_annuel','2009'))\n",
    "\n",
    "execute_time_consuming_graph = True\n",
    "if execute_time_consuming_graph == True : \n",
    "\n",
    "    weight_1 = pd.Series(weight_menages)[((u_es_ir_m - u_es_ir_a))!=0].values\n",
    "    weight_2 = pd.Series(weight_menages)[((u_es_c_ir - u_es_ir_a))!=0].values\n",
    "    bins = np.histogram(np.hstack(((u_es_ir_m - u_es_ir_a)[((u_es_ir_m - u_es_ir_a))!=0]\n",
    "                                    ,(u_es_c_ir - u_es_ir_a)[((u_es_c_ir - u_es_ir_a))!=0]\n",
    "            )), bins = 14000)[1]\n",
    "    \n",
    "    hist1 = ((u_es_ir_m - u_es_ir_a))[((u_es_ir_m - u_es_ir_a))!=0].hist(figsize = (25,12), bins=bins,\n",
    "                                                             weights = weight_1, zorder=10, color = 'c', alpha = 0.4, label = \"Monthly\")\n",
    "    hist2 = ((u_es_c_ir - u_es_ir_a))[((u_es_c_ir - u_es_ir_a))!=0].hist(figsize = (25,12), bins=bins,\n",
    "                                                             weights = weight_2,zorder=1, color = 'k',alpha = 1, label = \"Compensated Monthly\")\n",
    "\n",
    "    plt.axvline(x=0, ymax = 10**6, linewidth=4, color = 'r', alpha = 1, linestyle='dashed')\n",
    "    plt.ylim(0,35*10**4)\n",
    "    plt.xlim(-0.00002, 0.00002)\n",
    "    plt.legend()\n",
    "    plt.title(\"Difference in utility with equivalent scale w.r.t annual basis \\n no variation in utility taken out\", size = 15)\n",
    "    plt.xlabel('utility', size = 15)\n",
    "    plt.ylabel('headcounts', size = 15)"
   ]
  },
  {
   "cell_type": "code",
   "execution_count": null,
   "metadata": {
    "collapsed": false
   },
   "outputs": [],
   "source": [
    "## Avec Echelles d'équivalences\n",
    "#u_es_ir_m_rsa_m = pd.Series(survey_scenario.simulation.calculate_add('utility_es_ir_mensuel_rsa_mensuel','2009'))\n",
    "u_es_c_ir = pd.Series(survey_scenario.simulation.calculate_add('utility_es_compensated_ir_mensuel','2009'))\n",
    "u_es_ir_m = pd.Series(survey_scenario.simulation.calculate_add('utility_es_ir_mensuel','2009'))\n",
    "u_es_ir_a = pd.Series(survey_scenario.simulation.calculate_add('utility_es_ir_annuel','2009'))\n",
    "\n",
    "execute_time_consuming_graph = True\n",
    "if execute_time_consuming_graph == True : \n",
    "\n",
    "    weight_1 = pd.Series(weight_menages)[((u_es_ir_m - u_es_ir_a))!=0].values\n",
    "    weight_2 = pd.Series(weight_menages)[((u_es_c_ir - u_es_ir_a))!=0].values\n",
    "    bins = np.histogram(np.hstack(((u_es_ir_m - u_es_ir_a)[((u_es_ir_m - u_es_ir_a))!=0]\n",
    "                                    ,(u_es_c_ir - u_es_ir_a)[((u_es_c_ir - u_es_ir_a))!=0]\n",
    "            )), bins = 700)[1]\n",
    "    \n",
    "    hist1 = ((u_es_ir_m - u_es_ir_a))[((u_es_ir_m - u_es_ir_a))!=0].hist(figsize = (25,12), bins=bins,\n",
    "                                                             weights = weight_1, zorder=10, color = 'c', alpha = 0.4, label = \"Monthly\")\n",
    "    hist2 = ((u_es_c_ir - u_es_ir_a))[((u_es_c_ir - u_es_ir_a))!=0].hist(figsize = (25,12), bins=bins,\n",
    "                                                             weights = weight_2,zorder=1, color = 'k',alpha = 1, label = \"Compensated Monthly\")\n",
    "\n",
    "    plt.axvline(x=0, ymax = 10**6, linewidth=4, color = 'r', alpha = 1, linestyle='dashed')\n",
    "    plt.ylim(0,35*10**4)\n",
    "    plt.xlim(-0.002, 0.002)\n",
    "    plt.legend()\n",
    "    plt.title(\"Difference in utility with equivalent scale w.r.t annual basis \\n no variation in utility taken out\", size = 15)\n",
    "    plt.xlabel('utility', size = 15)\n",
    "    plt.ylabel('headcounts', size = 15)"
   ]
  },
  {
   "cell_type": "code",
   "execution_count": null,
   "metadata": {
    "collapsed": false
   },
   "outputs": [],
   "source": [
    "## Avec Echelles d'équivalences\n",
    "#u_es_ir_m_rsa_m = pd.Series(survey_scenario.simulation.calculate_add('utility_es_ir_mensuel_rsa_mensuel','2009'))\n",
    "u_es_c_ir = pd.Series(survey_scenario.simulation.calculate_add('utility_es_compensated_ir_mensuel','2009'))\n",
    "u_es_ir_m = pd.Series(survey_scenario.simulation.calculate_add('utility_es_ir_mensuel','2009'))\n",
    "u_es_ir_a = pd.Series(survey_scenario.simulation.calculate_add('utility_es_ir_annuel','2009'))\n",
    "\n",
    "execute_time_consuming_graph = True\n",
    "if execute_time_consuming_graph == True : \n",
    "\n",
    "    value_near_zero = 0.0000009\n",
    "    weight_1 = pd.Series(weight_menages)[(np.abs((u_es_ir_m - u_es_ir_a)))>value_near_zero].values\n",
    "    weight_2 = pd.Series(weight_menages)[np.abs(u_es_c_ir - u_es_ir_a)> value_near_zero].values\n",
    "    bins = np.histogram(np.hstack(((u_es_ir_m - u_es_ir_a)[(np.abs(u_es_ir_m - u_es_ir_a))>value_near_zero]\n",
    "                                    ,(u_es_c_ir - u_es_ir_a)[np.abs((u_es_c_ir - u_es_ir_a))>value_near_zero]\n",
    "            )), bins = 600)[1]\n",
    "    \n",
    "    hist1 = ((u_es_ir_m - u_es_ir_a))[(np.abs(u_es_ir_m - u_es_ir_a))>value_near_zero].hist(figsize = (25,12), bins=bins,\n",
    "                                                             weights = weight_1, zorder=10, color = 'c', alpha = 0.4, label = \"Monthly\")\n",
    "    hist2 = ((u_es_c_ir - u_es_ir_a))[(np.abs(u_es_c_ir - u_es_ir_a))>value_near_zero].hist(figsize = (25,12), bins=bins,\n",
    "                                                             weights = weight_2,zorder=1, color = 'k',alpha = 1, label = \"Compensated Monthly\")\n",
    "\n",
    "    plt.axvline(x=0, ymax = 10**6, linewidth=4, color = 'r', alpha = 1, linestyle='dashed')\n",
    "    plt.ylim(0,35*10**4)\n",
    "    plt.xlim(-0.002, 0.002)\n",
    "    plt.legend()    \n",
    "\n",
    "    plt.title(\"Difference in utility with equivalent scale w.r.t annual basis \\n no variation in utility taken out\", size = 15)\n",
    "    plt.xlabel('utility', size = 15)\n",
    "    plt.ylabel('headcounts', size = 15)"
   ]
  },
  {
   "cell_type": "markdown",
   "metadata": {},
   "source": [
    "##### Ce qui est fait pour le graph with equivalent scale : \n",
    " - $u( \\frac{\\sum(y)}{ES})$ donne l'utilités d'un ménage, ou l'utilité moyenne des individus composant le ménage.\n",
    " - $u( \\frac{\\sum(y)}{ES})*ES $ donne l'utilité totale d'un ménage\n",
    " - et $u(\\frac{\\sum(y)}{ES})$ donnerait l'utilité d'un seul individu du ménage\n",
    " \n",
    "###### Si on veut comparer une diff d'uilité entre deux système de taxe $u_1$ et $u_2$ : \n",
    " - $u_1( \\frac{\\sum(y)}{ES}) * ES - u_2( \\frac{\\sum(y)}{ES}) *ES = ES [u_1( \\frac{\\sum(y)}{ES}) - u_2( \\frac{\\sum(y)}{ES})]  $ et créerai des écarts plus grand pour des ménages plus grands, alors que l'écart d'utilité moyenne serait la même.\n",
    " - Pour avoir une information individuelle, il faut prendre l'écart d'utilité pour chaque individus $u(\\frac{\\sum(y)}{ES})$ et multiplier le poids de l'observation par le nombre d'individus du ménage.\n"
   ]
  },
  {
   "cell_type": "code",
   "execution_count": null,
   "metadata": {
    "collapsed": false,
    "scrolled": true
   },
   "outputs": [],
   "source": [
    "## Avec Echelles d'équivalences\n",
    "#u_es_ir_m_rsa_m = pd.Series(survey_scenario.simulation.calculate_add('utility_es_ir_mensuel_rsa_mensuel','2009'))\n",
    "u_es_c_ir = pd.Series(survey_scenario.simulation.calculate_add('utility_es_compensated_ir_mensuel','2009'))\n",
    "u_es_ir_m = pd.Series(survey_scenario.simulation.calculate_add('utility_es_ir_mensuel','2009'))\n",
    "u_es_ir_a = pd.Series(survey_scenario.simulation.calculate_add('utility_es_ir_annuel','2009'))\n",
    "\n",
    "execute_time_consuming_graph = True\n",
    "if execute_time_consuming_graph == True : \n",
    "\n",
    "    value_near_zero = 0.0000009\n",
    "    weight_1 = pd.Series(weight_menages*uc('menage'))[(np.abs((u_es_ir_m - u_es_ir_a)))>value_near_zero].values\n",
    "    weight_2 = pd.Series(weight_menages*uc('menage'))[np.abs(u_es_c_ir - u_es_ir_a)> value_near_zero].values\n",
    "    bins = np.histogram(np.hstack(((u_es_ir_m - u_es_ir_a)[(np.abs(u_es_ir_m - u_es_ir_a))>value_near_zero]\n",
    "                                    ,(u_es_c_ir - u_es_ir_a)[np.abs((u_es_c_ir - u_es_ir_a))>value_near_zero]\n",
    "            )), bins = 600)[1]\n",
    "    \n",
    "    hist1 = ((u_es_ir_m - u_es_ir_a))[(np.abs(u_es_ir_m - u_es_ir_a))>value_near_zero].hist(figsize = (25,12), bins=bins,\n",
    "                                                             weights = weight_1, zorder=10, color = 'c', alpha = 0.4, label = \"Monthly\")\n",
    "    hist2 = ((u_es_c_ir - u_es_ir_a))[(np.abs(u_es_c_ir - u_es_ir_a))>value_near_zero].hist(figsize = (25,12), bins=bins,\n",
    "                                                             weights = weight_2,zorder=1, color = 'k',alpha = 1, label = \"Compensated Monthly\")\n",
    "\n",
    "    plt.axvline(x=0, ymax = 10**6, linewidth=4, color = 'r', alpha = 1, linestyle='dashed')\n",
    "    plt.ylim(0,35*10**4)\n",
    "    plt.xlim(-0.002, 0.002)\n",
    "    plt.legend()    \n",
    "\n",
    "    plt.title(\"Difference in utility with equivalent scale w.r.t annual basis \\n no variation in utility taken out\", size = 15)\n",
    "    plt.xlabel('utility', size = 15)\n",
    "    plt.ylabel('headcounts', size = 15)"
   ]
  },
  {
   "cell_type": "code",
   "execution_count": null,
   "metadata": {
    "collapsed": false
   },
   "outputs": [],
   "source": [
    "## Avec Echelles d'équivalences\n",
    "#u_es_ir_m_rsa_m = pd.Series(survey_scenario.simulation.calculate_add('utility_es_ir_mensuel_rsa_mensuel','2009'))\n",
    "u_es_c_ir = pd.Series(survey_scenario.simulation.calculate_add('utility_es_compensated_ir_mensuel','2009'))\n",
    "u_es_ir_m = pd.Series(survey_scenario.simulation.calculate_add('utility_es_ir_mensuel','2009'))\n",
    "u_es_ir_a = pd.Series(survey_scenario.simulation.calculate_add('utility_es_ir_annuel','2009'))\n",
    "\n",
    "execute_time_consuming_graph = True\n",
    "if execute_time_consuming_graph == True : \n",
    "\n",
    "    weight_1 = pd.Series(weight_menages)[((u_es_ir_m - u_es_ir_a))!=0].values\n",
    "    weight_2 = pd.Series(weight_menages)[((u_es_c_ir - u_es_ir_a))!=0].values\n",
    "    bins = np.histogram(np.hstack(((u_es_ir_m - u_es_ir_a)[((u_es_ir_m - u_es_ir_a))!=0]\n",
    "                                    ,(u_es_c_ir - u_es_ir_a)[((u_es_c_ir - u_es_ir_a))!=0]\n",
    "            )), bins = 7000)[1]\n",
    "    \n",
    "    hist1 = ((u_es_ir_m - u_es_ir_a))[((u_es_ir_m - u_es_ir_a))!=0].hist(figsize = (25,12), bins=bins,\n",
    "                                                             weights = weight_1, zorder=10, color = 'c', alpha = 0.4, label = \"Monthly\")\n",
    "    hist2 = ((u_es_c_ir - u_es_ir_a))[((u_es_c_ir - u_es_ir_a))!=0].hist(figsize = (25,12), bins=bins,\n",
    "                                                             weights = weight_2,zorder=1, color = 'k',alpha = 1, label = \"Compensated Monthly\")\n",
    "\n",
    "    plt.axvline(x=0, ymax = 10**6, linewidth=4, color = 'r', alpha = 1, linestyle='dashed')\n",
    "    plt.ylim(0,35*10**4)\n",
    "    plt.xlim(-0.00004, 0.00004)\n",
    "    plt.legend()\n",
    "    plt.title(\"Difference in utility with equivalent scale w.r.t annual basis \\n no variation in utility taken out\", size = 15)\n",
    "    plt.xlabel('utility', size = 15)\n",
    "    plt.ylabel('headcounts', size = 15)"
   ]
  },
  {
   "cell_type": "code",
   "execution_count": null,
   "metadata": {
    "collapsed": false
   },
   "outputs": [],
   "source": [
    "## Avec Echelles d'équivalences\n",
    "#u_es_ir_m_rsa_m = pd.Series(survey_scenario.simulation.calculate_add('utility_es_ir_mensuel_rsa_mensuel','2009'))\n",
    "u_es_c_ir = pd.Series(survey_scenario.simulation.calculate_add('utility_es_compensated_ir_mensuel','2009'))\n",
    "u_es_ir_m = pd.Series(survey_scenario.simulation.calculate_add('utility_es_ir_mensuel','2009'))\n",
    "u_es_ir_a = pd.Series(survey_scenario.simulation.calculate_add('utility_es_ir_annuel','2009'))\n",
    "\n",
    "execute_time_consuming_graph = True\n",
    "if execute_time_consuming_graph == True : \n",
    "\n",
    "    weight_1 = pd.Series(weight_menages)[((u_es_ir_m - u_es_ir_a))!=0].values\n",
    "    weight_2 = pd.Series(weight_menages)[((u_es_c_ir - u_es_ir_a))!=0].values\n",
    "    bins = np.histogram(np.hstack(((u_es_ir_m - u_es_ir_a)[((u_es_ir_m - u_es_ir_a))!=0]\n",
    "                                    ,(u_es_c_ir - u_es_ir_a)[((u_es_c_ir - u_es_ir_a))!=0]\n",
    "            )), bins = 2000)[1]\n",
    "    \n",
    "    hist1 = ((u_es_ir_m - u_es_ir_a))[((u_es_ir_m - u_es_ir_a))!=0].hist(figsize = (25,12), bins=bins,\n",
    "                                                             weights = weight_1, zorder=10, color = 'c', alpha = 0.4, label = \"Monthly\")\n",
    "    hist2 = ((u_es_c_ir - u_es_ir_a))[((u_es_c_ir - u_es_ir_a))!=0].hist(figsize = (25,12), bins=bins,\n",
    "                                                             weights = weight_2,zorder=1, color = 'k',alpha = 1, label = \"Compensated Monthly\")\n",
    "\n",
    "    plt.axvline(x=0, ymax = 10**6, linewidth=4, color = 'r', alpha = 1, linestyle='dashed')\n",
    "    plt.ylim(0,35*10**4)\n",
    "    plt.xlim(-0.00008, 0.00008)\n",
    "    plt.legend()\n",
    "    plt.title(\"Difference in utility with equivalent scale w.r.t annual basis \\n no variation in utility taken out\", size = 15)\n",
    "    plt.xlabel('utility', size = 15)\n",
    "    plt.ylabel('headcounts', size = 15)"
   ]
  },
  {
   "cell_type": "code",
   "execution_count": null,
   "metadata": {
    "collapsed": false
   },
   "outputs": [],
   "source": [
    "## Avec Echelles d'équivalences\n",
    "#u_es_ir_m_rsa_m = pd.Series(survey_scenario.simulation.calculate_add('utility_es_ir_mensuel_rsa_mensuel','2009'))\n",
    "u_es_c_ir = pd.Series(survey_scenario.simulation.calculate_add('utility_es_compensated_ir_mensuel','2009'))\n",
    "u_es_ir_m = pd.Series(survey_scenario.simulation.calculate_add('utility_es_ir_mensuel','2009'))\n",
    "u_es_ir_a = pd.Series(survey_scenario.simulation.calculate_add('utility_es_ir_annuel','2009'))\n",
    "\n",
    "execute_time_consuming_graph = True\n",
    "if execute_time_consuming_graph == True : \n",
    "\n",
    "    weight_1 = pd.Series(weight_menages)[((u_es_ir_m - u_es_ir_a))!=0].values\n",
    "    weight_2 = pd.Series(weight_menages)[((u_es_c_ir - u_es_ir_a))!=0].values\n",
    "    bins = np.histogram(np.hstack(((u_es_ir_m - u_es_ir_a)[((u_es_ir_m - u_es_ir_a))!=0]\n",
    "                                    ,(u_es_c_ir - u_es_ir_a)[((u_es_c_ir - u_es_ir_a))!=0]\n",
    "            )), bins = 7000)[1]\n",
    "    \n",
    "    hist1 = ((u_es_ir_m - u_es_ir_a))[((u_es_ir_m - u_es_ir_a))!=0].hist(figsize = (25,12), bins=bins,\n",
    "                                                             weights = weight_1, zorder=10, color = 'c', alpha = 0.4, label = \"Monthly\")\n",
    "    hist2 = ((u_es_c_ir - u_es_ir_a))[((u_es_c_ir - u_es_ir_a))!=0].hist(figsize = (25,12), bins=bins,\n",
    "                                                             weights = weight_2,zorder=1, color = 'k',alpha = 1, label = \"Compensated Monthly\")\n",
    "\n",
    "    plt.axvline(x=0, ymax = 10**6, linewidth=4, color = 'r', alpha = 1, linestyle='dashed')\n",
    "    plt.ylim(0,35*10**4)\n",
    "    plt.xlim(-0.00008, 0.00008)\n",
    "    plt.legend()\n",
    "    plt.title(\"Difference in utility with equivalent scale w.r.t annual basis \\n no variation in utility taken out\", size = 15)\n",
    "    plt.xlabel('utility', size = 15)\n",
    "    plt.ylabel('headcounts', size = 15)"
   ]
  },
  {
   "cell_type": "markdown",
   "metadata": {},
   "source": [
    "### Vickrey utility "
   ]
  },
  {
   "cell_type": "code",
   "execution_count": null,
   "metadata": {
    "collapsed": false
   },
   "outputs": [],
   "source": [
    "execute_time_consuming_graph = True\n",
    "if execute_time_consuming_graph == True : \n",
    "\n",
    "    weight_1 = pd.Series(weight_menages)[((u_ir_m - u_ir_a))!=0].values\n",
    "    weight_2 = pd.Series(weight_menages)[((u_c_ir - u_ir_a))!=0].values\n",
    "    weight_3 = pd.Series(weight_menages)[((u_vickrey - u_ir_a))!=0].values\n",
    "    bins = np.histogram(np.hstack(((u_ir_m - u_ir_a)[((u_ir_m - u_ir_a))!=0]\n",
    "                                    ,(u_c_ir - u_ir_a)[((u_c_ir - u_ir_a))!=0], (u_vickrey - u_ir_a)[((u_vickrey - u_ir_a))!=0]\n",
    "            )), bins = 2200)[1]\n",
    "    \n",
    "#    hist1 = ((u_ir_m - u_ir_a))[((u_ir_m - u_ir_a))!=0].hist(figsize = (25,12), bins=bins,\n",
    "#                                                             weights = weight_1, zorder=10, color = 'c', alpha = 0.4, label = \"Monthly\")\n",
    "    hist2 = ((u_c_ir - u_ir_a))[((u_c_ir - u_ir_a))!=0].hist(figsize = (25,12), bins=bins,\n",
    "                                                             weights = weight_2,zorder=10, color = 'c',alpha = 0.4, label = \"Compensated Monthly\")\n",
    "    hist3 = ((u_vickrey - u_ir_a))[((u_vickrey - u_ir_a))!=0].hist(figsize = (25,12), bins=bins,\n",
    "                                                             weights = weight_3,zorder=1, color = 'k',alpha = 1, label = \"Vickrey Scheme\")\n",
    "\n",
    "    plt.axvline(x=0, ymax = 10**6, linewidth=4, color = 'r', alpha = 1, linestyle='dashed')\n",
    "    plt.ylim(0,65*10**4)\n",
    "    plt.xlim(-0.00001, 0.00001)\n",
    "    plt.legend()\n",
    "    plt.title(\"Difference in utility w.r.t annual basis \\n no variation in utility taken out\", size = 15)\n",
    "    plt.xlabel('utility', size = 15)\n",
    "    plt.ylabel('headcounts', size = 15)"
   ]
  },
  {
   "cell_type": "code",
   "execution_count": null,
   "metadata": {
    "collapsed": false
   },
   "outputs": [],
   "source": [
    "print (((u_c_ir - u_ir_a)) < -0.0000001).value_counts()\n",
    "print (((u_vickrey - u_ir_a))< -0.0000001).value_counts()\n",
    "print (((u_c_ir - u_ir_a))[((u_c_ir - u_ir_a))!=0] < -0.0000001).value_counts()\n",
    "print (((u_vickrey - u_ir_a))[((u_vickrey - u_ir_a))!=0] < -0.0000001).value_counts()"
   ]
  },
  {
   "cell_type": "markdown",
   "metadata": {},
   "source": []
  },
  {
   "cell_type": "code",
   "execution_count": null,
   "metadata": {
    "collapsed": false
   },
   "outputs": [],
   "source": [
    "print 284 / (48732+284), \"% of the individuals loose with compensated tax scheme (if variation is over 0.0000001)\"\n",
    "print 704/(10958+704), \"% of the individuals loose with Vickrey tax scheme (if variation is over 0.0000001)\"\n",
    "\n",
    "print 284 / (5598+284), \"% of the individuals having a variation in utility with  loose with compensated tax scheme\"\n",
    "print 704/(10958+704), \"% of the individuals having a variation in utility with Vickrey loose with Vickrey tax scheme\"\n",
    " "
   ]
  },
  {
   "cell_type": "markdown",
   "metadata": {},
   "source": [
    "### TODO : regarder combien font en moyenne les - 0.0000001 utility points de différence en monney metric."
   ]
  },
  {
   "cell_type": "code",
   "execution_count": null,
   "metadata": {
    "collapsed": false
   },
   "outputs": [],
   "source": [
    "print ((u_c_ir - u_ir_a))[(\n",
    "                            ((u_c_ir - u_ir_a)!=0)&\n",
    "                            (np.abs(u_c_ir - u_ir_a))<.00002)\n",
    "                               ].shape\n",
    "\n",
    "weight_2 = pd.Series(weight_menages)[(\n",
    "                            ((u_c_ir - u_ir_a)!=0)&\n",
    "                            (np.abs(u_c_ir - u_ir_a))<.00002)].values\n",
    "print weight_2.shape"
   ]
  },
  {
   "cell_type": "code",
   "execution_count": null,
   "metadata": {
    "collapsed": false
   },
   "outputs": [],
   "source": [
    "(((u_c_ir - u_ir_a)!=0)&\n",
    "                                (np.abs(u_c_ir - u_ir_a))<.00002).value_counts()"
   ]
  },
  {
   "cell_type": "code",
   "execution_count": null,
   "metadata": {
    "collapsed": false
   },
   "outputs": [],
   "source": [
    "(((u_c_ir - u_ir_a)!=0)&\n",
    "    (np.abs(u_c_ir - u_ir_a))<.00002).value_counts()"
   ]
  },
  {
   "cell_type": "code",
   "execution_count": null,
   "metadata": {
    "collapsed": false
   },
   "outputs": [],
   "source": [
    "bins-100"
   ]
  },
  {
   "cell_type": "markdown",
   "metadata": {},
   "source": [
    "## Annexes"
   ]
  },
  {
   "cell_type": "code",
   "execution_count": null,
   "metadata": {
    "collapsed": false
   },
   "outputs": [],
   "source": [
    "nb_minor_ticks = 5\n",
    "\n",
    "lambda_compensation = survey_scenario.simulation.calculate(\"lambda_compensation\", period.this_year)\n",
    "nb_parts_list = [1,1.5,2,2.5,3,4]\n",
    "graph_filter = (np.abs(lambda_compensation)>.1)&(np.abs(lambda_compensation)<100)\n",
    "\n",
    "nb_subplots_lines = len(nb_parts_list)//2 + len(nb_parts_list)%2 \n",
    "\n",
    "fig, ax = plt.subplots(nb_subplots_lines,2,sharey = True, figsize = (20, 15), tight_layout = True)\n",
    "count = 0\n",
    "for parts in nb_parts_list:\n",
    "    graph_filter = (np.abs(lambda_compensation)>.001)&(np.abs(lambda_compensation)<100) & (simulation.calculate('nbptr') == parts)\n",
    "    i = count//2\n",
    "    j = count %2\n",
    "    \n",
    "    ax[i,j].hist(lambda_compensation[graph_filter], bins = 100, normed = True)#, weights = poids.values)\n",
    "    ax[i,j].set_xlabel(r'$\\lambda$',fontsize = 20 )\n",
    "    ax[i,j].set_ylabel('Headcount',fontsize = 17)\n",
    "    ax[i,j].set_title('{} fiscal shares'.format(parts))\n",
    "    ax[i,j].xaxis.set_minor_locator(AutoMinorLocator(nb_minor_ticks))\n",
    "    ax[i,j].yaxis.set_minor_locator(AutoMinorLocator(nb_minor_ticks))\n",
    "    ax[i,j].grid(which = 'both')\n",
    "    count +=1\n",
    "#plt.savefig(\"image_result_of_mensualisation/lambda_compensation_by_fiscal_shares.png\")"
   ]
  },
  {
   "cell_type": "code",
   "execution_count": null,
   "metadata": {
    "collapsed": false
   },
   "outputs": [],
   "source": [
    "nb_minor_ticks = 5\n",
    "\n",
    "\n",
    "weights = weight_foyers/sum(weight_foyers)\n",
    "\n",
    "\n",
    "\n",
    "lambda_compensation = survey_scenario.simulation.calculate(\"lambda_compensation\", period.this_year)\n",
    "lambda_compensation_household = switch_array_entity(lambda_compensation,'foyer_fiscal', 'menage')\n",
    "\n",
    "graph_filter = (np.abs(lambda_compensation)>.1)&(np.abs(lambda_compensation)<100)\n",
    "graph_filter_household = switch_array_entity(graph_filter, 'foyer_fiscal', 'menage').astype('bool')\n",
    "fig, ax = plt.subplots(1,2,sharey = True, figsize = (15, 5), tight_layout = True)\n",
    "\n",
    "weights = weight_foyers[graph_filter]/sum(weight_foyers[graph_filter])\n",
    "ax[0].hist(lambda_compensation[graph_filter], bins = 100)\n",
    "ax[0].set_title(\"Fiscal Households\", weight = \"bold\")\n",
    "ax[1].hist(pd.Series(lambda_compensation_household[graph_filter_household]).dropna(), bins = 100)\n",
    "ax[1].set_title(\"Households\", weight = \"bold\")"
   ]
  },
  {
   "cell_type": "code",
   "execution_count": null,
   "metadata": {
    "collapsed": true
   },
   "outputs": [],
   "source": [
    "df_m = pd.DataFrame()\n",
    "\n",
    "for month in range(1,13):\n",
    "    month_income = np.zeros(simulation.persons.count)\n",
    "    for var in [\"salaire_imposable\", \"chomage_imposable\", \"retraite_imposable\" ]:\n",
    "        month_income += simulation.calculate(var,\"2009-{}\".format(month))\n",
    "    df_m[\"income_month_{}\".format(month)] = sum_array_by_entity(month_income, 'menage')\n",
    "    \n",
    "df_m[\"yearly_income\"] = df_m[income_month_list].sum(1)\n",
    "df_m[\"diff_rev\"] = df_m[income_month_list].max(1) - df_m[income_month_list].min(1)\n",
    "df_m[\"relative_var\"] = (df_m[income_month_list].max(1) - df_m[income_month_list].min(1))/df_m[income_month_list].max(1)\n",
    "\n",
    "has_rev_filter_m = df_m[\"yearly_income\"]>1\n",
    "\n",
    "range_to_use = range(1,7000,20)\n",
    "income_rep_func_m =[df_m[has_rev_filter_m & (df_m.diff_rev<income)].shape[0]/df_m[has_rev_filter_m].shape[0] for income in range_to_use]"
   ]
  },
  {
   "cell_type": "code",
   "execution_count": null,
   "metadata": {
    "collapsed": false
   },
   "outputs": [],
   "source": [
    "df_f = pd.DataFrame()\n",
    "\n",
    "for month in range(1,13):\n",
    "    month_income = np.zeros(simulation.persons.count)\n",
    "    for var in [\"salaire_imposable\", \"chomage_imposable\", \"retraite_imposable\" ]:\n",
    "        month_income += simulation.calculate(var,\"2009-{}\".format(month))\n",
    "    df_f[\"income_month_{}\".format(month)] = sum_array_by_entity(month_income, 'foyer_fiscal')\n",
    "    \n",
    "df_f[\"yearly_income\"] = df_f[income_month_list].sum(1)\n",
    "df_f[\"diff_rev\"] = df_f[income_month_list].max(1) - df_f[income_month_list].min(1)\n",
    "df_f[\"relative_var\"] = (df_f[income_month_list].max(1) - df_f[income_month_list].min(1))/df_f[income_month_list].max(1)\n",
    "\n",
    "\n",
    "has_rev_filter_f = df_f[\"yearly_income\"]>1\n",
    "\n",
    "range_to_use = range(1,7000,20)\n",
    "income_rep_func_f =[df_f[has_rev_filter_f & (df_f.diff_rev<income)].shape[0]/df_f[has_rev_filter_f].shape[0] for income in range_to_use]"
   ]
  },
  {
   "cell_type": "code",
   "execution_count": null,
   "metadata": {
    "collapsed": false
   },
   "outputs": [],
   "source": [
    "\n",
    "smooth =4\n",
    "\n",
    "fig = plt.figure(figsize=(16, 12))\n",
    "ax1 = plt.subplot2grid((2,2), (0,0), colspan=2)\n",
    "\n",
    "plt.figure()\n",
    "rev_max = 175000\n",
    "bins_to_graph = df_m[(df_m.yearly_income>0)&(df_m.yearly_income<175000)].yearly_income.quantile(np.arange(0,1.1,0.1))\n",
    "n,bins,patches = plt.hist(df_m[((df_m.yearly_income>0)&(df_m.yearly_income<rev_max)) & \n",
    "                             (df_m.relative_var>0.2)].yearly_income.values, \n",
    "                              bins= bins_to_graph.values\n",
    "                         )\n",
    "plt.close() #do not display first plots\n",
    "\n",
    "plt.figure()\n",
    "rev_max = 175000\n",
    "bins_to_graph = df_m[(df_m.yearly_income>0)&(df_m.yearly_income<175000)].yearly_income.quantile(np.arange(0,1.1,0.1))\n",
    "n2,bins2,patches2 = plt.hist(df_m[((df_m.yearly_income>0)&\n",
    "                                 (df_m.yearly_income<rev_max))].yearly_income.values,\n",
    "                             bins= bins_to_graph.values)\n",
    "plt.close() #do not display first plots\n",
    "width_list = []\n",
    "for i in range(0,bins2.shape[0]-1):\n",
    "    width_list.append(bins2[i]-bins2[i+1])\n",
    "ax1.bar( bins2[1::], n/n2,width = width_list, alpha = 0.5)\n",
    "ax1.grid()\n",
    "ax1.set_xlim([0,100000])\n",
    "ax1.set_title(\"Households\")\n",
    "ax1_2 = ax1.twinx()\n",
    "ax1_2.plot(rbg_test_case[1:][::smooth],global_marginal_rate[::smooth], 'k', label = \"global marginal tax rate\")\n",
    "ax1_2.set_ylim(0,1)\n",
    "ax1.set_xlim(0,70000)\n",
    "\n",
    "\n",
    "\n",
    "ax3 = plt.subplot2grid((2,2), (1,0), colspan=1)\n",
    "\n",
    "\n",
    "plt.figure()\n",
    "rev_max = 175000\n",
    "bins_to_graph = df[(df.yearly_income>0)&(df.yearly_income<175000)].yearly_income.quantile(np.arange(0,1.1,0.1))\n",
    "n,bins,patches = plt.hist(df[((df.yearly_income>0)&(df.yearly_income<rev_max)) & \n",
    "                             (df.relative_var>0.2)].yearly_income.values, \n",
    "                              bins= bins_to_graph.values\n",
    "                         )\n",
    "plt.close() #do not display first plots\n",
    "\n",
    "plt.figure()\n",
    "rev_max = 175000\n",
    "bins_to_graph = df[(df.yearly_income>0)&(df.yearly_income<175000)].yearly_income.quantile(np.arange(0,1.1,0.1))\n",
    "n2,bins2,patches2 = plt.hist(df[((df.yearly_income>0)&\n",
    "                                 (df.yearly_income<rev_max))].yearly_income.values,\n",
    "                             bins= bins_to_graph.values)\n",
    "plt.close() #do not display first plots\n",
    "width_list = []\n",
    "for i in range(0,bins2.shape[0]-1):\n",
    "    width_list.append(bins2[i]-bins2[i+1])\n",
    "ax3.bar( bins2[1::], n/n2,width = width_list, alpha = 0.5)\n",
    "ax3.grid()\n",
    "ax3_2 = ax3.twinx()\n",
    "ax3_2.plot(rbg_test_case[1:][::smooth],global_marginal_rate[::smooth], 'k', label = \"global marginal tax rate\")\n",
    "ax3_2.set_ylim(0,1)\n",
    "\n",
    "ax3.set_xlim([0,75000])\n",
    "ax3.set_title(\"Individuals\")\n",
    "\n",
    "\n",
    "ax2 = plt.subplot2grid((2,2), (1,1), colspan=1)\n",
    "\n",
    "\n",
    "plt.figure()\n",
    "rev_max = 175000\n",
    "bins_to_graph = df_f[(df_f.yearly_income>0)&(df_f.yearly_income<175000)].yearly_income.quantile(np.arange(0,1.1,0.1))\n",
    "n,bins,patches = plt.hist(df_f[((df_f.yearly_income>0)&(df_f.yearly_income<rev_max)) & \n",
    "                             (df_f.relative_var>0.2)].yearly_income.values, \n",
    "                              bins= bins_to_graph.values\n",
    "                         )\n",
    "plt.close() #do not display first plots\n",
    "\n",
    "plt.figure()\n",
    "rev_max = 175000\n",
    "bins_to_graph = df_f[(df_f.yearly_income>0)&(df_f.yearly_income<175000)].yearly_income.quantile(np.arange(0,1.1,0.1))\n",
    "n2,bins2,patches2 = plt.hist(df_f[((df_f.yearly_income>0)&\n",
    "                                 (df_f.yearly_income<rev_max))].yearly_income.values,\n",
    "                             bins= bins_to_graph.values)\n",
    "plt.close() #do not display first plots\n",
    "width_list = []\n",
    "for i in range(0,bins2.shape[0]-1):\n",
    "    width_list.append(bins2[i]-bins2[i+1])\n",
    "ax2.bar( bins2[1::], n/n2,width = width_list, alpha = 0.5)\n",
    "ax2.grid()\n",
    "ax2_2 = ax2.twinx()\n",
    "ax2_2.plot(rbg_test_case[1:][::smooth],global_marginal_rate[::smooth], 'k', label = \"global marginal tax rate\")\n",
    "ax2_2.set_ylim(0,1)\n",
    "\n",
    "ax2.set_xlim([0,75000])\n",
    "ax2.set_title(\"Fiscal Households\")\n"
   ]
  },
  {
   "cell_type": "code",
   "execution_count": null,
   "metadata": {
    "collapsed": false,
    "scrolled": false
   },
   "outputs": [],
   "source": [
    "fig, axe = plt.subplots(6,2,figsize=(20, 20))\n",
    "fig.subplots_adjust(left=None, bottom=None, right=None, top=None, wspace=None, hspace=0.5)\n",
    "for month in range(1,13):\n",
    "    i = (month-1)//2 ; j= (month-1)%2\n",
    "    ax = axe[i,j]\n",
    "    \n",
    "    gain_u = (pd.Series(\n",
    "     survey_scenario.simulation.calculate(\"utility_ir_mensuel_rsa_mensuel\", \"2009-{}\".format(month)) - \n",
    "survey_scenario.simulation.calculate(\"utility_ir_annuel\", \"2009-{}\".format(month))\n",
    "        ))\n",
    "    gain_m =  (\n",
    "        survey_scenario.simulation.calculate(\"inverted_utility_compenstaed_ir_mensuel_rsa_mensuel\", \"2009\") - \n",
    "        survey_scenario.simulation.calculate(\"inverted_utility_ir_annuel\", \"2009\"))\n",
    "    pd.DataFrame({'gain_utilite':gain_u, 'gain_argent':gain_m})\n",
    "    ax.hist((gain_m)[(gain_m!=0)&(np.abs(gain_m)<300)], bins = 100)\n",
    "    #ax.hist((gain_m)[(gain_m!=0)], bins = 1500)\n",
    "    #print pd.Series(gain_m)[gain_m!=0].shape\n",
    "    ax.set_xlim(-300,300)\n",
    "    ax.set_xlabel(\"equivalent monetary gains in euros \")\n",
    "    ax.set_ylabel('frequency')\n",
    "    ax.set_title('{}'.format(calendar.month_name[month]), weight = 'bold')\n",
    "#TODO: problème sur les 3 derniers mois !"
   ]
  },
  {
   "cell_type": "code",
   "execution_count": null,
   "metadata": {
    "collapsed": false
   },
   "outputs": [],
   "source": [
    "#TODO trouver pourquoi il n'y a pas de différences.\n",
    "execute_time_consuming_graph = True\n",
    "if execute_time_consuming_graph == True : \n",
    "\n",
    "    weight_1 = pd.Series(weight_menages)[((((u_ir_m - u_ir_a))!=0) &\n",
    "                                (np.abs(u_ir_m - u_ir_a))<.00002) ].values\n",
    "    weight_2 = pd.Series(weight_menages)[((((u_c_ir - u_ir_a))!=0)\n",
    "                                        & (np.abs(u_c_ir - u_ir_a)<.00002))].values\n",
    "    bins = np.histogram(np.hstack(((u_ir_m - u_ir_a)[((((u_ir_m - u_ir_a))!=0)\n",
    "                                        & (np.abs(u_ir_m - u_ir_a)<.00002))]\n",
    "                                    ,(u_c_ir - u_ir_a)[((((u_c_ir - u_ir_a))!=0)\n",
    "                                        & (np.abs(u_c_ir - u_ir_a)<.00002))])\n",
    "                                 ), bins = 140)[1]\n",
    "    \n",
    "    hist1 = ((u_ir_m - u_ir_a))[(((u_ir_m - u_ir_a)!=0)&\n",
    "                                (np.abs(u_ir_m - u_ir_a))<.00002)\n",
    "                               ].hist(figsize = (25,12), bins=bins,\n",
    "                                            weights = weight_1, zorder=10, color = 'c', alpha = 0.4, label = \"Monthly\")\n",
    "    hist2 = ((u_c_ir - u_ir_a))[((((u_c_ir - u_ir_a))!=0)\n",
    "                                        & (np.abs(u_c_ir - u_ir_a)<.00002))\n",
    "                               ].hist(figsize = (25,12), bins=bins,\n",
    "                                                             weights = weight_2,zorder=1, color = 'k',alpha = 1, label = \"Compensated Monthly\")\n",
    "\n",
    "    #plt.axvline(x=0, ymax = 10**6, linewidth=4, color = 'r', alpha = 1, linestyle='dashed')\n",
    "    plt.ylim(0,35*10**4)\n",
    "    plt.xlim(-0.00002, 0.00002)\n",
    "    plt.legend()\n",
    "    plt.title(\"Difference in utility w.r.t annual basis \\n no variation in utility taken out\", size = 15)\n",
    "    plt.xlabel('utility', size = 15)\n",
    "    plt.ylabel('headcounts', size = 15)"
   ]
  },
  {
   "cell_type": "markdown",
   "metadata": {
    "collapsed": true
   },
   "source": [
    "# Numbers and tables"
   ]
  },
  {
   "cell_type": "markdown",
   "metadata": {},
   "source": [
    "## Welfare section"
   ]
  },
  {
   "cell_type": "markdown",
   "metadata": {},
   "source": [
    "### Utility"
   ]
  },
  {
   "cell_type": "markdown",
   "metadata": {},
   "source": [
    "#### Without ES"
   ]
  },
  {
   "cell_type": "code",
   "execution_count": null,
   "metadata": {
    "collapsed": false
   },
   "outputs": [],
   "source": [
    "print \"annual tax: \", simulation.calculate(\"utility_ir_annuel\").sum()\n",
    "print \"monthly tax: \", simulation.calculate(\"utility_ir_mensuel\").sum()\n",
    "print \"monthly c tax: \",simulation.calculate(\"utility_compensated_ir_mensuel\").sum()\n",
    "print \"Vickrey tax: \",simulation.calculate(\"utility_ir_vickrey_mensuel\").sum()"
   ]
  },
  {
   "cell_type": "code",
   "execution_count": null,
   "metadata": {
    "collapsed": false
   },
   "outputs": [],
   "source": [
    "print \"annual tax: \",survey_scenario.compute_aggregate(\"utility_ir_annuel\")\n",
    "print \"monthly tax: \",survey_scenario.compute_aggregate(\"utility_ir_mensuel\")\n",
    "print \"monthly c tax: \",survey_scenario.compute_aggregate(\"utility_compensated_ir_mensuel\")\n",
    "print \"Vickrey tax: \",survey_scenario.compute_aggregate(\"utility_ir_vickrey_mensuel\")"
   ]
  },
  {
   "cell_type": "code",
   "execution_count": null,
   "metadata": {
    "collapsed": true
   },
   "outputs": [],
   "source": []
  },
  {
   "cell_type": "code",
   "execution_count": null,
   "metadata": {
    "collapsed": true
   },
   "outputs": [],
   "source": []
  },
  {
   "cell_type": "markdown",
   "metadata": {},
   "source": [
    "#### With ES"
   ]
  },
  {
   "cell_type": "code",
   "execution_count": null,
   "metadata": {
    "collapsed": false
   },
   "outputs": [],
   "source": [
    "print survey_scenario.compute_aggregate(\"utility_es_ir_annuel\")\n",
    "print survey_scenario.compute_aggregate(\"utility_es_ir_mensuel\")\n",
    "print survey_scenario.compute_aggregate(\"utility_es_compensated_ir_mensuel\")\n",
    "print survey_scenario.compute_aggregate(\"utility_es_compensated_ir_mensuel\")"
   ]
  },
  {
   "cell_type": "code",
   "execution_count": null,
   "metadata": {
    "collapsed": false
   },
   "outputs": [],
   "source": [
    "print(survey_scenario.simulation.calculate_add(\"utility_es_ir_annuel\")* uc('menage') ).sum() \n",
    "print(survey_scenario.simulation.calculate_add(\"utility_es_ir_mensuel\")* uc('menage') ).sum() \n",
    "print(survey_scenario.simulation.calculate_add(\"utility_es_compensated_ir_mensuel\") * uc('menage') ).sum() "
   ]
  },
  {
   "cell_type": "code",
   "execution_count": null,
   "metadata": {
    "collapsed": false
   },
   "outputs": [],
   "source": [
    "print survey_scenario.compute_aggregate(\"utility_es_ir_annuel\")\n",
    "print survey_scenario.compute_aggregate(\"utility_es_ir_mensuel\")\n",
    "print survey_scenario.compute_aggregate(\"utility_es_compensated_ir_mensuel\")\n"
   ]
  },
  {
   "cell_type": "code",
   "execution_count": null,
   "metadata": {
    "collapsed": false
   },
   "outputs": [],
   "source": [
    "print(survey_scenario.simulation.calculate_add(\"utility_es_ir_annuel\")* uc('menage') ).sum() \n",
    "print(survey_scenario.simulation.calculate_add(\"utility_es_ir_mensuel\")* uc('menage') ).sum() \n",
    "print(survey_scenario.simulation.calculate_add(\"utility_es_compensated_ir_mensuel\") * uc('menage') ).sum() "
   ]
  },
  {
   "cell_type": "markdown",
   "metadata": {
    "collapsed": true
   },
   "source": [
    "### Graph Olivier"
   ]
  },
  {
   "cell_type": "code",
   "execution_count": null,
   "metadata": {
    "collapsed": false
   },
   "outputs": [],
   "source": [
    "basic_money_metric = (simulation.calculate(\"inverted_utility_ir_annuel\")*weight_menages)"
   ]
  },
  {
   "cell_type": "code",
   "execution_count": null,
   "metadata": {
    "collapsed": false
   },
   "outputs": [],
   "source": [
    "mensuel_money_metric = (simulation.calculate(\"inverted_utility_ir_mensuel\")*weight_menages)\n",
    "compensated_money_metric = (simulation.calculate(\"inverted_utility_compensated_ir_mensuel\")*weight_menages)\n",
    "vickrey_money_metric = (simulation.calculate(\"inverted_utility_ir_vickrey_mensuel\")*weight_menages)"
   ]
  },
  {
   "cell_type": "code",
   "execution_count": null,
   "metadata": {
    "collapsed": false
   },
   "outputs": [],
   "source": [
    "print basic_money_metric.sum()\n",
    "print mensuel_money_metric.sum()\n",
    "print compensated_money_metric.sum()\n",
    "print vickrey_money_metric.sum()\n"
   ]
  },
  {
   "cell_type": "code",
   "execution_count": null,
   "metadata": {
    "collapsed": false
   },
   "outputs": [],
   "source": [
    "ratio = pd.Series(mensuel_money_metric/basic_money_metric)\n",
    "ratio_compensated = pd.Series(compensated_money_metric/basic_money_metric)\n",
    "ratio_vickrey = pd.Series(vickrey_money_metric/basic_money_metric)"
   ]
  },
  {
   "cell_type": "code",
   "execution_count": null,
   "metadata": {
    "collapsed": false
   },
   "outputs": [],
   "source": [
    "plt.hist(ratio[np.abs(ratio-1) > 0.0002], bins = 2000)\n",
    "plt.xlim(0.98,1.04)"
   ]
  },
  {
   "cell_type": "code",
   "execution_count": null,
   "metadata": {
    "collapsed": true
   },
   "outputs": [],
   "source": [
    "df0 = pd.DataFrame()"
   ]
  },
  {
   "cell_type": "code",
   "execution_count": null,
   "metadata": {
    "collapsed": false
   },
   "outputs": [],
   "source": [
    "df0['revdisp'] = simulation.calculate('revdisp')"
   ]
  },
  {
   "cell_type": "code",
   "execution_count": null,
   "metadata": {
    "collapsed": false
   },
   "outputs": [],
   "source": [
    "df0.shape"
   ]
  },
  {
   "cell_type": "code",
   "execution_count": null,
   "metadata": {
    "collapsed": false
   },
   "outputs": [],
   "source": [
    "df = df0[df0.revdisp>0]"
   ]
  },
  {
   "cell_type": "code",
   "execution_count": null,
   "metadata": {
    "collapsed": false
   },
   "outputs": [],
   "source": [
    "df.shape"
   ]
  },
  {
   "cell_type": "code",
   "execution_count": null,
   "metadata": {
    "collapsed": false
   },
   "outputs": [],
   "source": [
    "ratio.shape"
   ]
  },
  {
   "cell_type": "code",
   "execution_count": null,
   "metadata": {
    "collapsed": false
   },
   "outputs": [],
   "source": [
    "ratio[df0.revdisp>0].shape"
   ]
  },
  {
   "cell_type": "code",
   "execution_count": null,
   "metadata": {
    "collapsed": false
   },
   "outputs": [],
   "source": [
    "df0['ratio'] = ratio[df0.revdisp>0]\n",
    "df0['ratio_compensated'] = ratio_compensated[df0.revdisp>0]\n",
    "df0[\"ratio_vickrey\"] = ratio_vickrey[df0.revdisp>0]\n",
    "\n",
    "df['ratio'] = ratio[df0.revdisp>0]\n",
    "df['ratio_compensated'] = ratio_compensated[df0.revdisp>0]\n",
    "df[\"ratio_vickrey\"] = ratio_vickrey[df0.revdisp>0]"
   ]
  },
  {
   "cell_type": "code",
   "execution_count": null,
   "metadata": {
    "collapsed": true
   },
   "outputs": [],
   "source": []
  },
  {
   "cell_type": "code",
   "execution_count": null,
   "metadata": {
    "collapsed": false
   },
   "outputs": [],
   "source": [
    "df.shape"
   ]
  },
  {
   "cell_type": "code",
   "execution_count": null,
   "metadata": {
    "collapsed": false
   },
   "outputs": [],
   "source": [
    "decile_of_disposable_income = df[df.revdisp>0].revdisp.quantile(np.arange(0,1.1,0.1)); print  decile_of_disposable_income\n",
    "decile_of_disposable_income = np.array(decile_of_disposable_income)"
   ]
  },
  {
   "cell_type": "code",
   "execution_count": null,
   "metadata": {
    "collapsed": false
   },
   "outputs": [],
   "source": [
    "decile_of_disposable_income[3]"
   ]
  },
  {
   "cell_type": "code",
   "execution_count": null,
   "metadata": {
    "collapsed": false
   },
   "outputs": [],
   "source": [
    "print (df[(df.revdisp >= decile_of_disposable_income[0]) \n",
    "   & (df.revdisp < decile_of_disposable_income[1]) ].ratio>1.05).value_counts()\n",
    "print (df[(df.revdisp >= decile_of_disposable_income[0]) \n",
    "   & (df.revdisp < decile_of_disposable_income[1]) ].ratio<0.95).value_counts()"
   ]
  },
  {
   "cell_type": "code",
   "execution_count": null,
   "metadata": {
    "collapsed": false,
    "scrolled": true
   },
   "outputs": [],
   "source": [
    "(df[(df.revdisp >= decile_of_disposable_income[0]) \n",
    "       & (df.revdisp < decile_of_disposable_income[1]) ].ratio>1.05)\n"
   ]
  },
  {
   "cell_type": "code",
   "execution_count": null,
   "metadata": {
    "collapsed": false
   },
   "outputs": [],
   "source": [
    "(df[(df.revdisp >= decile_of_disposable_income[0]) \n",
    "       & (df.revdisp < decile_of_disposable_income[1]) ].ratio>1.05)\n"
   ]
  },
  {
   "cell_type": "code",
   "execution_count": null,
   "metadata": {
    "collapsed": false
   },
   "outputs": [],
   "source": []
  },
  {
   "cell_type": "code",
   "execution_count": null,
   "metadata": {
    "collapsed": true
   },
   "outputs": [],
   "source": [
    "import matplotlib.pyplot as plt"
   ]
  },
  {
   "cell_type": "code",
   "execution_count": null,
   "metadata": {
    "collapsed": false
   },
   "outputs": [],
   "source": [
    "count = 0\n",
    "\n",
    "fig, ax = plt.subplots(figsize = (12,7))\n",
    "colo= ['r','g','b']\n",
    "for var in [\"ratio\",\"ratio_compensated\",\"ratio_vickrey\"]:\n",
    "    to_plot_array = list()\n",
    "    for decile in range(10):\n",
    "        condition = (df.revdisp >= decile_of_disposable_income[decile]) & (df.revdisp < decile_of_disposable_income[decile+1])\n",
    "        condition0 = (df0.revdisp >= decile_of_disposable_income[decile]) & (df0.revdisp < decile_of_disposable_income[decile+1])\n",
    "        to_plot_array.append(np.sum((df[condition ][var]>1.05)* pd.Series(weight_menages)[(df0.revdisp >0) & condition0]))\n",
    "\n",
    "    hello = ax.bar(0.4+ np.array(range(10))+count/5,to_plot_array,0.4, color = colo[count], alpha = 0.7, label = var)\n",
    "    count +=1\n",
    "plt.legend(loc = 0)\n",
    "plt.xticks(np.arange(0,11, 1.0)) \n",
    "plt.yticks()\n",
    "plt.ylabel(\"number of households\") ; plt.xlabel(\"deciles\") \n",
    "plt.xlim((0.5,10.5))\n"
   ]
  },
  {
   "cell_type": "markdown",
   "metadata": {},
   "source": [
    "Les gains en money metric sont faible sur les premiers déciles car ils sont peu touchés par l'impôt sur le revenu, et donc un changement de celui-ci a peu d'impact.\n",
    "Sur les déciles plus élevés ont voir que le gain augmente au fur à mesure que l'on monte dans les déciles. Ce qui semble en opposition avec le fait que les gains monétaires et d'utilités sont principalement du aux plus pauvres. C'est sans oublier que les gains en money metric sont une inversion du gains de la fonction d'utilité, et donc que pour un très riche un tout petit gain d'utilité nécessitera beaucoup d'argent, se traduisant par un gros gain en money metric ; tandis qu'un pauvre pourra avoir un gros gain d'utilité avec très peu d'argent (une réforme impliquant le passage de zéro à 1 euro de revenu disponible fait un gain infini d'utilité, mais impliquerait un gain en money metric d'uniquement 1 euros)."
   ]
  },
  {
   "cell_type": "code",
   "execution_count": null,
   "metadata": {
    "collapsed": false
   },
   "outputs": [],
   "source": [
    "# En poucentage\n",
    "\n",
    "count = 0\n",
    "\n",
    "fig, ax = plt.subplots(figsize = (12,7))\n",
    "colo= ['r','g','b']\n",
    "for var in [\"ratio\",\"ratio_compensated\",\"ratio_vickrey\"]:\n",
    "    to_plot_array = list()\n",
    "    for decile in range(10):\n",
    "        condition = (df.revdisp >= decile_of_disposable_income[decile]) & (df.revdisp < decile_of_disposable_income[decile+1])\n",
    "        condition0 = (df0.revdisp >= decile_of_disposable_income[decile]) & (df0.revdisp < decile_of_disposable_income[decile+1])\n",
    "        to_plot_array.append(np.sum((df[condition ][var]>1.05)* pd.Series(weight_menages)[(df0.revdisp >0) & condition0]))\n",
    "\n",
    "    hello = ax.bar(0.4+ np.array(range(10))+count/5,(to_plot_array/np.sum(weight_menages[condition])),0.4, color = colo[count], alpha = 0.7, label = var)\n",
    "    count +=1\n",
    "plt.legend(bbox_to_anchor=(0.5, -0.15) ,loc = 0)\n",
    "plt.xticks(np.arange(0,11, 1.0)) \n",
    "plt.yticks()\n",
    "plt.ylabel(u\"% of households\") ; plt.xlabel(\"deciles\") \n",
    "plt.xlim((0.5,10.5))\n"
   ]
  },
  {
   "cell_type": "code",
   "execution_count": null,
   "metadata": {
    "collapsed": true
   },
   "outputs": [],
   "source": [
    "from matplotlib.patches import Patch\n",
    "import matplotlib.pyplot as plt\n",
    "import matplotlib.patches as mpatches"
   ]
  },
  {
   "cell_type": "code",
   "execution_count": null,
   "metadata": {
    "collapsed": false
   },
   "outputs": [],
   "source": [
    "count = 0\n",
    "\n",
    "fig, ax = plt.subplots(figsize = (12,7))\n",
    "colo= ['r','g','b']\n",
    "to_plot_array = None\n",
    "\n",
    "\n",
    "count0 = 0\n",
    "for var in [\"ratio\",\"ratio_compensated\",\"ratio_vickrey\"]:#,\"ratio_compensated\",\"ratio_vickrey\"]:\n",
    "    to_plot_array = list()\n",
    "    for decile in range(10):\n",
    "        condition = (df.revdisp >= decile_of_disposable_income[decile]) & (df.revdisp < decile_of_disposable_income[decile+1])\n",
    "        condition0 = (df0.revdisp >= decile_of_disposable_income[decile]) & (df0.revdisp < decile_of_disposable_income[decile+1])\n",
    "        to_plot_array.append(np.sum((df[condition ][var]>taux)* pd.Series(weight_menages)[(df0.revdisp >0) & condition0]))\n",
    "\n",
    "    last_plot_array = np.zeros(10) \n",
    "    for taux in [1.5, 1.2, 1.1, 1.05]:\n",
    "        hatch_dict = {1.05: \"*\", 1.1 : \"/\", 1.2 :\"o\" , 1.5 : \"\\\\\"}\n",
    "        count1 = 0\n",
    "\n",
    "\n",
    "\n",
    "\n",
    "        to_plot_np_array = np.array(to_plot_array)\n",
    "        hello = ax.bar(0.4+ np.array(range(10))+count0/5,to_plot_np_array,0.3, color = colo[count0], alpha = 0.7, label = var, hatch = hatch_dict[taux], bottom=last_plot_array)\n",
    "        last_plot_array = to_plot_np_array + last_plot_array\n",
    "        \n",
    "        count1 +=1\n",
    "        \n",
    "    count0 += 1\n",
    "    #plt.legend(loc = 0)\n",
    "    plt.xticks(np.arange(0,11, 1.0)) \n",
    "    plt.yticks()\n",
    "    plt.ylabel(\"number of households\") ; plt.xlabel(\"deciles\") \n",
    "    plt.xlim((0.5,10.5))\n",
    "\n",
    "\n",
    "near_patch = Patch(facecolor='w', \n",
    "                   label='5%', hatch ='*')\n",
    "near_patch2 = Patch(facecolor='w', \n",
    "                   label='10%', hatch ='/')\n",
    "near_patch3 = Patch(facecolor='w', \n",
    "                   label='20%', hatch ='o')\n",
    "near_patch4 = Patch(facecolor='w', \n",
    "                   label='50%', hatch ='\\\\')\n",
    "\n",
    "legend_1 = ax.legend(bbox_to_anchor=(0.5, -0.13),handles=[near_patch, near_patch2, near_patch3, near_patch4], ncol = 4)\n",
    "plt.gca().add_artist(legend_1)\n",
    "\n",
    "red_patch = mpatches.Patch(color='red', label='ratio')\n",
    "green_patch = mpatches.Patch(color='green', label='ratio compensated')\n",
    "blue_patch = mpatches.Patch(color='blue', label='ratio vickrey')\n",
    "color_legend = ax.legend(bbox_to_anchor=(0.59, -0.22),handles=[red_patch, green_patch, blue_patch], ncol = 4)\n",
    "\n"
   ]
  },
  {
   "cell_type": "code",
   "execution_count": null,
   "metadata": {
    "collapsed": false
   },
   "outputs": [],
   "source": [
    "import itertools\n",
    "from matplotlib import pyplot\n",
    "\n",
    "colors = ['b', 'r', 'g', 'c']\n",
    "cc = itertools.cycle(colors)\n",
    "plot_lines = []\n",
    "for p in parameters:\n",
    "\n",
    "    d1 = algo1(p)\n",
    "    d2 = algo2(p)\n",
    "    d3 = algo3(p)\n",
    "\n",
    "    pyplot.hold(True)\n",
    "    c = next(cc)\n",
    "    l1, = pyplot.plot(d1, '-', color=c)\n",
    "    l2, = pyplot.plot(d2, '--', color=c)\n",
    "    l3, = pyplot.plot(d3, '.-', color=c)\n",
    "\n",
    "    plot_lines.append([l1, l2, l3])\n",
    "\n",
    "legend1 = pyplot.legend(plot_lines[0], [\"algo1\", \"algo2\", \"algo3\"], loc=1)\n",
    "pyplot.legend([l[0] for l in plot_lines], parameters, loc=4)\n",
    "pyplot.gca().add_artist(legend1)"
   ]
  },
  {
   "cell_type": "code",
   "execution_count": null,
   "metadata": {
    "collapsed": false
   },
   "outputs": [],
   "source": [
    "[near_patch, near_patch2]"
   ]
  },
  {
   "cell_type": "code",
   "execution_count": null,
   "metadata": {
    "collapsed": false
   },
   "outputs": [],
   "source": [
    "near_patch"
   ]
  },
  {
   "cell_type": "code",
   "execution_count": null,
   "metadata": {
    "collapsed": false
   },
   "outputs": [],
   "source": [
    "count = 0\n",
    "\n",
    "fig, ax = plt.subplots(figsize = (12,7))\n",
    "colo= ['r','g','b']\n",
    "to_plot_array = None\n",
    "\n",
    "last_plot_array = np.zeros(10) \n",
    "for taux in [1.5, 1.2, 1.1, 1.05]:\n",
    "    hatch_dict = {1.05: \"*\", 1.1 : \"/\", 1.2 :\"o\" , 1.5 : \"\\\\\"}\n",
    "    count1 = 0\n",
    "\n",
    "\n",
    "    count0 = 0\n",
    "    for var in [\"ratio_vickrey\"]:#,\"ratio_compensated\",\"ratio_vickrey\"]:\n",
    "        to_plot_array = list()\n",
    "        for decile in range(10):\n",
    "            condition = (df.revdisp >= decile_of_disposable_income[decile]) & (df.revdisp < decile_of_disposable_income[decile+1])\n",
    "            condition0 = (df0.revdisp >= decile_of_disposable_income[decile]) & (df0.revdisp < decile_of_disposable_income[decile+1])\n",
    "            to_plot_array.append(np.sum((df[condition ][var]>taux)* pd.Series(weight_menages)[(df0.revdisp >0) & condition0]))\n",
    "        #print count\n",
    "\n",
    "        to_plot_np_array = np.array(to_plot_array)\n",
    "        #last_plot_array = to_plot_np_array last_plot_array\n",
    "        print to_plot_array\n",
    "        print last_plot_array\n",
    "        hello = ax.bar(0.4+ np.array(range(10))+count0/5,to_plot_np_array,0.3, color = colo[count0], alpha = 0.7, label = var, hatch = hatch_dict[taux], bottom=last_plot_array)\n",
    "        last_plot_array = to_plot_np_array + last_plot_array\n",
    "        \n",
    "        count0 +=1\n",
    "        \n",
    "    count1 += 1\n",
    "    #plt.legend(loc = 0)\n",
    "    plt.xticks(np.arange(0,11, 1.0)) \n",
    "    plt.yticks()\n",
    "    plt.ylabel(\"number of households\") ; plt.xlabel(\"deciles\") \n",
    "    plt.xlim((0.5,10.5))"
   ]
  },
  {
   "cell_type": "code",
   "execution_count": null,
   "metadata": {
    "collapsed": false
   },
   "outputs": [],
   "source": [
    "to_plot_array"
   ]
  },
  {
   "cell_type": "code",
   "execution_count": null,
   "metadata": {
    "collapsed": false,
    "scrolled": false
   },
   "outputs": [],
   "source": [
    "count = 0\n",
    "\n",
    "colo= ['r','g','b']\n",
    "to_plot_array = None\n",
    "for taux in [1.5, 1.2, 1.1, 1.05]:\n",
    "    fig, ax = plt.subplots(figsize = (12,7))\n",
    "    hatch_dict = {1.05: \"*\", 1.1 : \"/\", 1.2 :\"o\" , 1.5 : \"\\\\\"}\n",
    "    count1 = 0\n",
    "    last_plot_array = to_plot_array\n",
    "\n",
    "#[‘/’ | ‘\\’ | ‘|’ | ‘-‘ | ‘+’ | ‘x’ | ‘o’ | ‘O’ | ‘.’ | ‘*’]\n",
    "    count0 = 0\n",
    "    for var in [\"ratio_vickrey\"]:#,\"ratio_compensated\",\"ratio_vickrey\"]:\n",
    "        to_plot_array = list()\n",
    "        for decile in range(10):\n",
    "            condition = (df.revdisp >= decile_of_disposable_income[decile]) & (df.revdisp < decile_of_disposable_income[decile+1])\n",
    "            condition0 = (df0.revdisp >= decile_of_disposable_income[decile]) & (df0.revdisp < decile_of_disposable_income[decile+1])\n",
    "            to_plot_array.append(np.sum((df[condition ][var]>taux)* pd.Series(weight_menages)[(df0.revdisp >0) & condition0]))\n",
    "        hello = ax.bar(0.4+ np.array(range(10))+count0/5,to_plot_array,0.3, color = colo[count0], alpha = 0.7, label = var, hatch = hatch_dict[taux], bottom=last_plot_array)\n",
    "        \n",
    "        count0 +=1\n",
    "        \n",
    "    count1 += 1\n",
    "    #plt.legend(loc = 0)\n",
    "    plt.xticks(np.arange(0,11, 1.0)) \n",
    "    plt.yticks()\n",
    "    plt.ylabel(\"number of households\") ; plt.xlabel(\"deciles\") \n",
    "    plt.xlim((0.5,10.5))\n",
    "    plt.ylim(-1000,160000)"
   ]
  },
  {
   "cell_type": "code",
   "execution_count": null,
   "metadata": {
    "collapsed": false
   },
   "outputs": [],
   "source": [
    "count = 0\n",
    "\n",
    "fig, ax = plt.subplots(figsize = (12,7))\n",
    "colo= ['r','g','b']\n",
    "for taux in [1.5, 1.2, 1.1, 1.05]:\n",
    "    hatch_dict = {1.05: \"*\", 1.1 : \"/\", 1.2 :\"o\" , 1.5 : \"\\\\\"}\n",
    "\n",
    "#[‘/’ | ‘\\’ | ‘|’ | ‘-‘ | ‘+’ | ‘x’ | ‘o’ | ‘O’ | ‘.’ | ‘*’]\n",
    "    count0 = 0\n",
    "    for var in [\"ratio_vickrey\",\"ratio_compensated\",\"ratio_vickrey\"]:\n",
    "        to_plot_array = list()\n",
    "        for decile in range(10):\n",
    "            condition = (df.revdisp >= decile_of_disposable_income[decile]) & (df.revdisp < decile_of_disposable_income[decile+1])\n",
    "            condition0 = (df0.revdisp >= decile_of_disposable_income[decile]) & (df0.revdisp < decile_of_disposable_income[decile+1])\n",
    "            to_plot_array.append(np.sum((df[condition ][var]>taux)* pd.Series(weight_menages)[(df0.revdisp >0) & condition0]))\n",
    "        #print count\n",
    "        #print to_plot_array\n",
    "        \n",
    "        if count == 0 :\n",
    "            hello = ax.bar(0.4+ np.array(range(10))+count0/5,to_plot_array,0.3, color = colo[count0], alpha = 0.7, label = var, hatch = hatch_dict[taux])\n",
    "        else : hello = ax.bar(0.4+ np.array(range(10))+count0/5,to_plot_array,0.3, color = colo[count0], alpha = 0.7, label = var, hatch = hatch_dict[taux], bottom=last_plot_array)\n",
    "        \n",
    "        count +=1\n",
    "        last_plot_array = to_plot_array\n",
    "        \n",
    "    #plt.legend(loc = 0)\n",
    "    plt.xticks(np.arange(0,11, 1.0)) \n",
    "    plt.yticks()\n",
    "    plt.ylabel(\"number of households\") ; plt.xlabel(\"deciles\") \n",
    "    plt.xlim((0.5,10.5))\n",
    "\n"
   ]
  },
  {
   "cell_type": "code",
   "execution_count": null,
   "metadata": {
    "collapsed": false
   },
   "outputs": [],
   "source": [
    "    hatch_dict = {1.05: \"*\", 1.1 : \"/\", 1.2 :\"x\" , 1.5 : \"\\\\\"}"
   ]
  },
  {
   "cell_type": "code",
   "execution_count": null,
   "metadata": {
    "collapsed": false
   },
   "outputs": [],
   "source": [
    "{16 : 'hello', 18 :\"goodbye\"}"
   ]
  },
  {
   "cell_type": "code",
   "execution_count": null,
   "metadata": {
    "collapsed": false
   },
   "outputs": [],
   "source": [
    "salaire_not_null = (pd.Series(simulation.calculate_add(\"rev_sal\"))>0); print salaire_not_null.value_counts()\n",
    "chomage_not_null = (pd.Series(simulation.calculate_add(\"chomage_imposable\"))>0); print chomage_not_null.value_counts()\n",
    "retraite_not_null = (pd.Series(simulation.calculate_add(\"retraite_imposable\"))>0); retraite_not_null.value_counts()"
   ]
  },
  {
   "cell_type": "code",
   "execution_count": null,
   "metadata": {
    "collapsed": false
   },
   "outputs": [],
   "source": [
    "print weight_individus.shape\n",
    "print weight_foyers.shape\n",
    "print weight_familles.shape\n",
    "print weight_menages.shape"
   ]
  },
  {
   "cell_type": "code",
   "execution_count": null,
   "metadata": {
    "collapsed": false
   },
   "outputs": [],
   "source": [
    "passage_retraite = salaire_not_null & retraite_not_null ; print passage_retraite.value_counts()\n",
    "passage_chomage = salaire_not_null & chomage_not_null ; print passage_chomage.value_counts()\n",
    "passage_cho_ret_emp = salaire_not_null & retraite_not_null & chomage_not_null ; print passage_cho_ret_emp.value_counts()\n",
    "passage_cho_ret = retraite_not_null & chomage_not_null ; print passage_cho_ret.value_counts()\n"
   ]
  },
  {
   "cell_type": "code",
   "execution_count": null,
   "metadata": {
    "collapsed": true
   },
   "outputs": [],
   "source": [
    "changement_situation = retraite_not_null & chomage_not_null"
   ]
  },
  {
   "cell_type": "code",
   "execution_count": null,
   "metadata": {
    "collapsed": false
   },
   "outputs": [],
   "source": [
    "df0['passage_retraite'] = sum_array_by_entity(passage_retraite,  'menage')\n",
    "df0['passage_chomage'] = sum_array_by_entity(passage_chomage,  'menage')\n",
    "#df0['passage_retraite'] = passage_retraite\n",
    "#df0['passage_chomage'] = passage_chomage\n"
   ]
  },
  {
   "cell_type": "code",
   "execution_count": null,
   "metadata": {
    "collapsed": false
   },
   "outputs": [],
   "source": [
    "count = 0\n",
    "\n",
    "fig, ax = plt.subplots(figsize = (12,7))\n",
    "colo= ['r','g','b']\n",
    "for var in [\"ratio\",\"ratio_compensated\",\"ratio_vickrey\"]:\n",
    "    to_plot_array = list()\n",
    "    \n",
    "    \n",
    "    to_plot_array.append(np.sum((df0[df0.revdisp >0][var]>1.05)* pd.Series(weight_menages)[(df0.revdisp >0)]))\n",
    "    \n",
    "    condition = passage_chomage & (df0.revdisp >0)\n",
    "    condition0 = passage_chomage & (df0.revdisp >0)\n",
    "    to_plot_array.append(np.sum((df0[condition ][var]>1.05)* pd.Series(weight_menages)[(df0.revdisp >0) & condition0]))\n",
    "    condition = passage_retraite\n",
    "    condition0 = passage_retraite\n",
    "    to_plot_array.append(np.sum((df0[condition ][var]>1.05)* pd.Series(weight_menages)[(df0.revdisp >0) & condition0]))\n",
    "    \n",
    "\n",
    "    hello = ax.bar(0.4+ np.array(range(3))+count/5,to_plot_array,0.3, color = colo[count], alpha = 0.7, label = var)\n",
    "    count +=1\n",
    "plt.legend(loc = 0)\n",
    "plt.xticks(np.arange(0,11, 1.0)) \n",
    "plt.yticks()\n",
    "plt.ylabel(\"number of households\")  \n",
    "plt.xlim((0.5,3.5))\n",
    "ax.set_xticklabels(('','all','unemployed sequence', 'get retired'))\n"
   ]
  },
  {
   "cell_type": "code",
   "execution_count": null,
   "metadata": {
    "collapsed": false
   },
   "outputs": [],
   "source": [
    "count = 0\n",
    "\n",
    "fig, ax = plt.subplots(figsize = (12,7))\n",
    "colo= ['r','g','b']\n",
    "for var in [\"ratio\",\"ratio_compensated\",\"ratio_vickrey\"]:\n",
    "    to_plot_array = list()\n",
    "    \n",
    "    \n",
    "    to_plot_array.append(np.sum((df0[df0.revdisp >0][var]>1.05)))\n",
    "    \n",
    "    condition = passage_chomage & (df0.revdisp >0)\n",
    "    condition0 = passage_chomage & (df0.revdisp >0)\n",
    "    to_plot_array.append(np.sum((df0[condition ][var]>1.05)))\n",
    "    print df0[condition].shape ; print condition.shape\n",
    "    condition = passage_retraite\n",
    "    condition0 = passage_retraite\n",
    "    to_plot_array.append(np.sum((df0[condition ][var]>1.05)))\n",
    "    \n",
    "\n",
    "    hello = ax.bar(0.4+ np.array(range(3))+count/5,to_plot_array,0.3, color = colo[count], alpha = 0.7, label = var)\n",
    "    count +=1\n",
    "plt.legend(loc = 0)\n",
    "plt.xticks(np.arange(0,11, 1.0)) \n",
    "plt.yticks()\n",
    "plt.ylabel(\"number of households\")\n",
    "plt.xlim((0.5,3.5))\n",
    "ax.set_xticklabels(('','all','unemployed sequence', 'get retired'))\n"
   ]
  },
  {
   "cell_type": "markdown",
   "metadata": {},
   "source": [
    "17% du sample à un ratio différent de 1 soit 7309 personnes sur 42709 ; parmis eux 952 ont eu un passage à la retraite dans le ménage (33% des ménages ayant eu un passage à la retraite), et 622 un pagge au chomage(17%)."
   ]
  },
  {
   "cell_type": "code",
   "execution_count": null,
   "metadata": {
    "collapsed": false
   },
   "outputs": [],
   "source": [
    "print simulation.calculate(\"revdisp\").shape\n",
    "print ratio.shape\n",
    "print pd.Series(ratio != 1).value_counts()\n",
    "print pd.Series(ratio != 1)[passage_retraite].value_counts()\n",
    "print pd.Series(ratio != 1)[passage_chomage].value_counts()\n",
    "print 952+622"
   ]
  },
  {
   "cell_type": "code",
   "execution_count": null,
   "metadata": {
    "collapsed": false
   },
   "outputs": [],
   "source": [
    "print simulation.calculate(\"revdisp\").shape\n",
    "print ratio.shape\n",
    "print pd.Series(ratio != 1).value_counts(normalize = True)\n",
    "print pd.Series(ratio != 1)[passage_retraite].value_counts(normalize = True)\n",
    "print pd.Series(ratio != 1)[passage_chomage].value_counts(normalize = True)"
   ]
  },
  {
   "cell_type": "code",
   "execution_count": null,
   "metadata": {
    "collapsed": false
   },
   "outputs": [],
   "source": [
    "print simulation.calculate(\"revdisp\").shape\n",
    "print ratio.shape\n",
    "print pd.Series(ratio > 1.002).value_counts()\n",
    "print pd.Series(ratio > 1.002)[passage_retraite].value_counts()\n",
    "print pd.Series(ratio > 1.002)[passage_chomage].value_counts()\n",
    "print 952+622"
   ]
  },
  {
   "cell_type": "code",
   "execution_count": null,
   "metadata": {
    "collapsed": false
   },
   "outputs": [],
   "source": [
    "print simulation.calculate(\"revdisp\").shape\n",
    "print ratio.shape\n",
    "print pd.Series(ratio > 1.05).value_counts()\n",
    "print pd.Series(ratio > 1.05)[passage_retraite].value_counts()\n",
    "print pd.Series(ratio > 1.05)[passage_chomage].value_counts()\n",
    "print "
   ]
  },
  {
   "cell_type": "code",
   "execution_count": null,
   "metadata": {
    "collapsed": false
   },
   "outputs": [],
   "source": [
    "Series_list = [simulation.calculate(\"revdisp_mensuel_annuel\", \"2009-{}\".format(month)) for month in range(1,13)]"
   ]
  },
  {
   "cell_type": "code",
   "execution_count": null,
   "metadata": {
    "collapsed": false
   },
   "outputs": [],
   "source": [
    "coucou = pd.DataFrame(Series_list).T"
   ]
  },
  {
   "cell_type": "code",
   "execution_count": null,
   "metadata": {
    "collapsed": false
   },
   "outputs": [],
   "source": [
    "coucou.T*weight_menages"
   ]
  },
  {
   "cell_type": "code",
   "execution_count": null,
   "metadata": {
    "collapsed": false
   },
   "outputs": [],
   "source": [
    "(pd.Series(simulation.calculate(\"revdisp\")*weight_menages).sum()- (coucou.T*weight_menages).sum(1).sum())/10**9"
   ]
  },
  {
   "cell_type": "code",
   "execution_count": null,
   "metadata": {
    "collapsed": false
   },
   "outputs": [],
   "source": [
    "print pd.Series(simulation.calculate(\"revdisp\")*weight_menages).sum()/10**9\n",
    "print (coucou.T*weight_menages).sum(1).sum()/10**9"
   ]
  },
  {
   "cell_type": "code",
   "execution_count": null,
   "metadata": {
    "collapsed": false
   },
   "outputs": [],
   "source": [
    "to_plot_array"
   ]
  },
  {
   "cell_type": "code",
   "execution_count": null,
   "metadata": {
    "collapsed": false
   },
   "outputs": [],
   "source": [
    "(df0.revdisp>5500).value_counts()"
   ]
  },
  {
   "cell_type": "code",
   "execution_count": null,
   "metadata": {
    "collapsed": false
   },
   "outputs": [],
   "source": [
    "2700*0.3 + 6000*0.14"
   ]
  },
  {
   "cell_type": "code",
   "execution_count": null,
   "metadata": {
    "collapsed": false
   },
   "outputs": [],
   "source": [
    "passage_retraite.value_counts()"
   ]
  },
  {
   "cell_type": "code",
   "execution_count": null,
   "metadata": {
    "collapsed": false
   },
   "outputs": [],
   "source": [
    "print df0.passage_chomage.value_counts(normalize=True)\n",
    "print df0.passage_retraite.value_counts(normalize=True)\n",
    "print df0.passage_chomage.value_counts()\n",
    "print df0.passage_retraite.value_counts()"
   ]
  },
  {
   "cell_type": "code",
   "execution_count": null,
   "metadata": {
    "collapsed": false
   },
   "outputs": [],
   "source": [
    "passage_retraite = df0.passage_retraite.astype(\"bool\")\n",
    "\n",
    "print (ratio[passage_retraite] != 1).value_counts(normalize =True)\n",
    "print (ratio_compensated[passage_retraite] != 1).value_counts(normalize =True)\n",
    "print (ratio_vickrey[passage_retraite] != 1).value_counts(normalize =True)"
   ]
  },
  {
   "cell_type": "code",
   "execution_count": null,
   "metadata": {
    "collapsed": false
   },
   "outputs": [],
   "source": [
    "passage_chomage = df0.passage_retraite.astype(\"bool\")\n",
    "\n",
    "print (ratio[passage_retraite] != 1).value_counts(normalize =True)\n",
    "print (ratio_compensated[passage_retraite] != 1).value_counts(normalize =True)\n",
    "print (ratio_vickrey[passage_retraite] != 1).value_counts(normalize =True)"
   ]
  },
  {
   "cell_type": "code",
   "execution_count": null,
   "metadata": {
    "collapsed": true
   },
   "outputs": [],
   "source": [
    "df = pd.DataFrame()"
   ]
  },
  {
   "cell_type": "code",
   "execution_count": null,
   "metadata": {
    "collapsed": false
   },
   "outputs": [],
   "source": [
    "#no_income_on_one_month\n",
    "\n",
    "array = np.zeros(simulation.calculate(\"salaire_imposable\").shape)\n",
    "for month in range(1,13):\n",
    "\n",
    "        retraite = pd.Series(simulation.calculate(var, '2009-{}'.format(month))==0)\n",
    "        chomage = pd.Series(simulation.calculate(var, '2009-{}'.format(month))==0)\n",
    "        salaire = pd.Series(simulation.calculate(var, '2009-{}'.format(month))==0)\n",
    "        \n",
    "        array += retraite & chomage & salaire\n",
    "\n",
    "\n",
    "\n",
    "\n",
    "\n"
   ]
  },
  {
   "cell_type": "code",
   "execution_count": null,
   "metadata": {
    "collapsed": false
   },
   "outputs": [],
   "source": [
    "pd.Series(array).value_counts()"
   ]
  },
  {
   "cell_type": "code",
   "execution_count": null,
   "metadata": {
    "collapsed": false
   },
   "outputs": [],
   "source": [
    "pd.Series(array).value_counts()"
   ]
  },
  {
   "cell_type": "code",
   "execution_count": null,
   "metadata": {
    "collapsed": true
   },
   "outputs": [],
   "source": [
    "# salaire_imposable_all_year\n",
    "\n",
    "salaire = np.zeros(simulation.calculate(\"salaire_imposable\").shape)\n",
    "for month in range(1,13):\n",
    "        salaire += (pd.Series(simulation.calculate(\"salaire_imposable\", '2009-{}'.format(month)))>0)\n",
    "# salaire_imposable_all_year\n",
    "\n",
    "chomage = np.zeros(simulation.calculate(\"chomage_imposable\").shape)\n",
    "for month in range(1,13):\n",
    "        chomage += (pd.Series(simulation.calculate(\"chomage_imposable\", '2009-{}'.format(month)))>0)\n",
    "retraite = np.zeros(simulation.calculate(\"retraite_imposable\").shape)\n",
    "for month in range(1,13):\n",
    "        retraite += (pd.Series(simulation.calculate(\"retraite_imposable\", '2009-{}'.format(month)))>0)\n",
    "        \n",
    "        "
   ]
  },
  {
   "cell_type": "code",
   "execution_count": null,
   "metadata": {
    "collapsed": false
   },
   "outputs": [],
   "source": [
    "pd.Series(salaire).value_counts()"
   ]
  },
  {
   "cell_type": "code",
   "execution_count": null,
   "metadata": {
    "collapsed": false
   },
   "outputs": [],
   "source": [
    "pd.Series(retraite).value_counts()"
   ]
  },
  {
   "cell_type": "code",
   "execution_count": null,
   "metadata": {
    "collapsed": false
   },
   "outputs": [],
   "source": [
    "pd.Series(chomage).value_counts()"
   ]
  },
  {
   "cell_type": "code",
   "execution_count": null,
   "metadata": {
    "collapsed": false
   },
   "outputs": [],
   "source": [
    "var"
   ]
  },
  {
   "cell_type": "code",
   "execution_count": null,
   "metadata": {
    "collapsed": false
   },
   "outputs": [],
   "source": [
    "(pd.Series(simulation.calculate_add('salaire_imposable'))>0).value_counts()"
   ]
  },
  {
   "cell_type": "code",
   "execution_count": null,
   "metadata": {
    "collapsed": false
   },
   "outputs": [],
   "source": [
    "pd.Series(array).value_counts()"
   ]
  },
  {
   "cell_type": "code",
   "execution_count": null,
   "metadata": {
    "collapsed": false
   },
   "outputs": [],
   "source": [
    "condition = (df.revdisp >= decile_of_disposable_income[decile]) & (df.revdisp < decile_of_disposable_income[decile+1])\n",
    "condition0 = (df0.revdisp >= decile_of_disposable_income[decile]) & (df0.revdisp < decile_of_disposable_income[decile+1])\n",
    "((df[condition ][var]>1.05)* pd.Series(weight_menages)[(df0.revdisp >0) & condition0])"
   ]
  },
  {
   "cell_type": "code",
   "execution_count": null,
   "metadata": {
    "collapsed": false
   },
   "outputs": [],
   "source": [
    "pd.Series(weight_menages)[(df0.revdisp >0) & condition0].shape"
   ]
  },
  {
   "cell_type": "code",
   "execution_count": null,
   "metadata": {
    "collapsed": false
   },
   "outputs": [],
   "source": [
    "df0.weight_familles[((df0.revdisp >0) & condition0)].shape"
   ]
  },
  {
   "cell_type": "code",
   "execution_count": null,
   "metadata": {
    "collapsed": false
   },
   "outputs": [],
   "source": [
    "hello = list()\n",
    "hello.append(4) ; hello"
   ]
  },
  {
   "cell_type": "code",
   "execution_count": null,
   "metadata": {
    "collapsed": false
   },
   "outputs": [],
   "source": [
    "pd.Series(weight_familles).shape\n",
    "(df.revdisp >0).shape"
   ]
  },
  {
   "cell_type": "code",
   "execution_count": null,
   "metadata": {
    "collapsed": false
   },
   "outputs": [],
   "source": [
    "\n",
    "import numpy as np\n",
    "import matplotlib.pyplot as plt\n",
    "\n",
    "a = range(1,10)\n",
    "b = range(4,13)\n",
    "ind = np.arange(len(a))\n",
    "width = 0.65\n",
    "\n",
    "fig = plt.figure()\n",
    "ax = fig.add_subplot(111)\n",
    "ax.bar(ind+width+0.35, b, 0.45, color='#deb0b0')\n",
    "\n",
    "ax2 = ax.twinx()\n",
    "ax2.bar(ind+width, a, width, color='#b0c4de')\n",
    "\n",
    "ax.set_xticks(ind+width+(width/2))\n",
    "ax.set_xticklabels(a)\n",
    "\n",
    "ax.yaxis.set_ticks_position(\"right\")\n",
    "ax2.yaxis.set_ticks_position(\"left\")\n",
    "\n",
    "plt.tight_layout()\n",
    "plt.show()"
   ]
  },
  {
   "cell_type": "code",
   "execution_count": null,
   "metadata": {
    "collapsed": true
   },
   "outputs": [],
   "source": []
  },
  {
   "cell_type": "code",
   "execution_count": null,
   "metadata": {
    "collapsed": false
   },
   "outputs": [],
   "source": [
    "decile_of_disposable_income[0]"
   ]
  },
  {
   "cell_type": "markdown",
   "metadata": {
    "collapsed": true
   },
   "source": [
    "# End selected for article"
   ]
  },
  {
   "cell_type": "code",
   "execution_count": null,
   "metadata": {
    "collapsed": true
   },
   "outputs": [],
   "source": []
  },
  {
   "cell_type": "code",
   "execution_count": null,
   "metadata": {
    "collapsed": false
   },
   "outputs": [],
   "source": [
    "for month in range(1,13):\n",
    "    gain_u = (pd.Series(\n",
    "     survey_scenario.simulation.calculate(\"utility_ir_mensuel_rsa_mensuel\", \"2009-{}\".format(month)) - \n",
    "survey_scenario.simulation.calculate(\"utility_ir_annuel\", \"2009-{}\".format(month))\n",
    "        ))\n",
    "    gain_m =  (\n",
    "        survey_scenario.simulation.calculate(\"inverted_utility_compenstaed_ir_mensuel_rsa_mensuel\", \"2009-{}\".format(month)) - \n",
    "        survey_scenario.simulation.calculate(\"inverted_utility_ir_annuel\", \"2009-{}\".format(month)))\n",
    "    pd.DataFrame({'gain_utilite':gain_u, 'gain_argent':gain_m})\n",
    "    plt.figure()\n",
    "    pd.Series(gain_m)[(gain_m!=0)&(np.abs(gain_m)<300)].hist(bins = 100)\n",
    "    #pd.Series(gain_m)[(gain_m!=0)].hist(bins = 1500)\n",
    "    #print pd.Series(gain_m)[gain_m!=0].shape\n",
    "    plt.xlim(-300,300)\n",
    "    plt.xlabel(\"equivalent monetary gains in euros \")\n",
    "    plt.ylabel('frequency')\n",
    "#TODO: problème sur les 3 derniers mois !"
   ]
  },
  {
   "cell_type": "code",
   "execution_count": null,
   "metadata": {
    "collapsed": false
   },
   "outputs": [],
   "source": [
    "fig = plt.figure(figsize=(10, 9))\n",
    "ax1 = plt.subplot2grid((2,2), (0,0), colspan=2)\n",
    "\n",
    "ax1.plot(range_to_use,income_rep_func)\n",
    "\n",
    "\n",
    "\n",
    "\n",
    "ax2 = plt.subplot2grid((2,2), (1,0), colspan=1)\n",
    "ax2.plot(range_to_use,income_rep_func_f)\n",
    "ax3 = plt.subplot2grid((2,2), (1,1), colspan=2)\n",
    "ax3.plot(range_to_use,income_rep_func_m)\n"
   ]
  },
  {
   "cell_type": "code",
   "execution_count": null,
   "metadata": {
    "collapsed": false
   },
   "outputs": [],
   "source": [
    "sum_array_by_entity(month_income, 'menage')"
   ]
  },
  {
   "cell_type": "code",
   "execution_count": null,
   "metadata": {
    "collapsed": false
   },
   "outputs": [],
   "source": [
    "sum_array_by_entity(month_income, 'menage')"
   ]
  },
  {
   "cell_type": "code",
   "execution_count": null,
   "metadata": {
    "collapsed": false
   },
   "outputs": [],
   "source": [
    "plt.subplots()"
   ]
  },
  {
   "cell_type": "code",
   "execution_count": null,
   "metadata": {
    "collapsed": true
   },
   "outputs": [],
   "source": []
  },
  {
   "cell_type": "code",
   "execution_count": null,
   "metadata": {
    "collapsed": true
   },
   "outputs": [],
   "source": []
  },
  {
   "cell_type": "code",
   "execution_count": null,
   "metadata": {
    "collapsed": true
   },
   "outputs": [],
   "source": []
  },
  {
   "cell_type": "code",
   "execution_count": null,
   "metadata": {
    "collapsed": true
   },
   "outputs": [],
   "source": []
  },
  {
   "cell_type": "code",
   "execution_count": null,
   "metadata": {
    "collapsed": false
   },
   "outputs": [],
   "source": [
    "decote = simulation.calculate('decote')\n",
    "decote_mensuel = simulation.calculate_add('decote_mensuel_times_12')/12\n",
    "\n",
    "\n",
    "has_decote_difference = (np.abs(decote -decote_mensuel)>0.1).astype(bool)\n",
    "has_decote_difference = cast_array_from_entity_to_role(has_decote_difference, 'foyer_fiscal', roles = [0])\n",
    "\n",
    "fam_has_decote_diff = sum_array_by_entity(has_decote_difference, 'famille')\n",
    "\n",
    "print pd.value_counts(fam_has_decote_diff)\n",
    "\n",
    "\n",
    "#utility_loss = condition((u_c_ir - u_ir_a)<-0.00000001)\n",
    "#utility_loss = cast_array_from_entity_to_role(utility_loss, roles = [0])\n"
   ]
  },
  {
   "cell_type": "code",
   "execution_count": null,
   "metadata": {
    "collapsed": true
   },
   "outputs": [],
   "source": []
  },
  {
   "cell_type": "code",
   "execution_count": null,
   "metadata": {
    "collapsed": true
   },
   "outputs": [],
   "source": []
  },
  {
   "cell_type": "markdown",
   "metadata": {},
   "source": [
    "##### weights"
   ]
  },
  {
   "cell_type": "code",
   "execution_count": null,
   "metadata": {
    "collapsed": false
   },
   "outputs": [],
   "source": [
    "weight_foyers = survey_scenario.simulation.calculate_add('weight_foyers', period = period).astype(float)\n",
    "weight_menages = survey_scenario.simulation.calculate_add('wprm', period = period).astype(float)\n",
    "weight_familles = survey_scenario.simulation.calculate_add('weight_familles', period = period).astype(float)\n",
    "weight_individus = survey_scenario.simulation.calculate_add('weight_individus', period = period).astype(float)"
   ]
  },
  {
   "cell_type": "code",
   "execution_count": null,
   "metadata": {
    "collapsed": false
   },
   "outputs": [],
   "source": [
    "print weight_foyers.shape , \"foyers fiscaux\"\n",
    "print weight_menages.shape , \"ménages\"\n",
    "print weight_familles.shape, \"familles\"\n",
    "print weight_individus.shape, \"individus\""
   ]
  },
  {
   "cell_type": "code",
   "execution_count": null,
   "metadata": {
    "collapsed": false
   },
   "outputs": [],
   "source": [
    "print weight_foyers.sum() , \"foyers fiscaux\"\n",
    "print weight_menages.sum() , \"ménages\"\n",
    "print weight_familles.sum(), \"familles\"\n",
    "print weight_individus.sum(), \"individus\""
   ]
  },
  {
   "cell_type": "code",
   "execution_count": null,
   "metadata": {
    "collapsed": false,
    "scrolled": false
   },
   "outputs": [],
   "source": [
    "variable = 'revdisp_mensuel_ir_mensuel'\n",
    "monthly_df = pd.DataFrame(\n",
    "                dict((column_name+\"_\"+period, survey_scenario.simulation.calculate_add(column_name, period)) \n",
    "                for period in ['{}-{}'.format( 2009, str(month).zfill(2)) for month in range(1, 13)] for column_name in [variable]) #TODO mensualize : allow for periods\n",
    "                )\n",
    "#monthly_df.T"
   ]
  },
  {
   "cell_type": "code",
   "execution_count": null,
   "metadata": {
    "collapsed": false
   },
   "outputs": [],
   "source": [
    "#monthly_df.T\n",
    "monthly_df['revdisp_mensuel_ir_mensuel_2009-09'].mean()"
   ]
  },
  {
   "cell_type": "code",
   "execution_count": null,
   "metadata": {
    "collapsed": false
   },
   "outputs": [],
   "source": [
    "survey_scenario.compute_aggregate('revdisp_mensuel_annuel')/27000000"
   ]
  },
  {
   "cell_type": "code",
   "execution_count": null,
   "metadata": {
    "collapsed": false
   },
   "outputs": [],
   "source": [
    "survey_scenario.compute_aggregate('revdisp_mensuel_ir_mensuel')/27000000"
   ]
  },
  {
   "cell_type": "code",
   "execution_count": null,
   "metadata": {
    "collapsed": false
   },
   "outputs": [],
   "source": [
    "survey_scenario.compute_aggregate('revdisp_mensuel_ir_mensuel')/27000000"
   ]
  },
  {
   "cell_type": "markdown",
   "metadata": {},
   "source": [
    "#### Pourcentage du sample entre -20 et 20"
   ]
  },
  {
   "cell_type": "code",
   "execution_count": null,
   "metadata": {
    "collapsed": false
   },
   "outputs": [],
   "source": [
    "lambda_compensation = pd.Series(survey_scenario.simulation.calculate(\"lambda_compensation\"))\n",
    "lambda_compensation.loc[(lambda_compensation == -np.inf)|lambda_compensation.isnull()]=0\n",
    "lambda_compensation.loc[(lambda_compensation == np.inf)|lambda_compensation.isnull()]=0\n",
    "prct1 = lambda_compensation[np.abs(lambda_compensation)>70].shape[0]/lambda_compensation.shape[0]\n",
    "print \"{} % du sample à un lambda supérieur  à 70 \".format(round(prct1,2)*100)"
   ]
  },
  {
   "cell_type": "markdown",
   "metadata": {
    "collapsed": true
   },
   "source": [
    "#### Lambda compensation négatif du à la décote ?"
   ]
  },
  {
   "cell_type": "code",
   "execution_count": null,
   "metadata": {
    "collapsed": false
   },
   "outputs": [],
   "source": [
    "pd.Series(survey_scenario.simulation.calculate_add(\"decote_mensuel_times_12\")/12).mean()"
   ]
  },
  {
   "cell_type": "code",
   "execution_count": null,
   "metadata": {
    "collapsed": false
   },
   "outputs": [],
   "source": [
    "decote_monthly = pd.Series(survey_scenario.simulation.calculate_add(\"decote_mensuel_times_12\")/12)\n",
    "decote_annual =  pd.Series(survey_scenario.simulation.calculate_add(\"decote\"))"
   ]
  },
  {
   "cell_type": "code",
   "execution_count": null,
   "metadata": {
    "collapsed": true
   },
   "outputs": [],
   "source": [
    "filtre_unequal_decote = decote_monthly != decote_annual"
   ]
  },
  {
   "cell_type": "code",
   "execution_count": null,
   "metadata": {
    "collapsed": false
   },
   "outputs": [],
   "source": [
    "lambda_compensation[filtre_unequal_decote].shape"
   ]
  },
  {
   "cell_type": "code",
   "execution_count": null,
   "metadata": {
    "collapsed": false
   },
   "outputs": [],
   "source": [
    "lambda_compensation[filtre_unequal_decote&\n",
    "                    (np.abs(lambda_compensation)>.1)&\n",
    "                    (np.abs(lambda_compensation)<100)].hist(bins = 500)\n",
    "plt.xlim(-20,20)"
   ]
  },
  {
   "cell_type": "code",
   "execution_count": null,
   "metadata": {
    "collapsed": false
   },
   "outputs": [],
   "source": [
    "graph_filter = filtre_unequal_decote & (np.abs(lambda_compensation)>.1) & (np.abs(lambda_compensation)<100)\n",
    "\n",
    "\n",
    "to_graph_foyer = lambda_compensation[graph_filter]\n",
    "poids = pd.Series(weight_foyers)[graph_filter]\n",
    "\n",
    "plt.figure(figsize=(15,10))\n",
    "plt.hist(to_graph_foyer.values, bins = 100, weights = poids.values)\n",
    "plt.xlabel(r'$\\lambda$',fontsize = 20 )\n",
    "plt.ylabel('Headcount',fontsize = 17)"
   ]
  },
  {
   "cell_type": "code",
   "execution_count": null,
   "metadata": {
    "collapsed": false
   },
   "outputs": [],
   "source": [
    "graph_filter = filtre_unequal_decote & (np.abs(lambda_compensation)>.1)&(np.abs(lambda_compensation)<100)\n",
    "\n",
    "\n",
    "to_graph_foyer = lambda_compensation[filtre_unequal_decote&\n",
    "                    (np.abs(lambda_compensation)>.1)&\n",
    "                    (np.abs(lambda_compensation)<100)]\n",
    "poids = pd.Series(weight_foyers)[\n",
    "        filtre_unequal_decote&\n",
    "        (np.abs(lambda_compensation)>.1)&\n",
    "        (np.abs(lambda_compensation)<100)]\n",
    "\n",
    "plt.figure(figsize=(15,10))\n",
    "plt.hist(to_graph_foyer.values, bins = 100, weights = poids.values)\n",
    "plt.xlabel(r'$\\lambda$',fontsize = 20 )\n",
    "plt.ylabel('Headcount',fontsize = 17)"
   ]
  },
  {
   "cell_type": "code",
   "execution_count": null,
   "metadata": {
    "collapsed": false
   },
   "outputs": [],
   "source": [
    "#weights = np.ones_like(myarray)/float()\n"
   ]
  },
  {
   "cell_type": "code",
   "execution_count": null,
   "metadata": {
    "collapsed": false
   },
   "outputs": [],
   "source": [
    "lambda_compensation = survey_scenario.simulation.calculate(\"lambda_compensation\", period.this_year)\n",
    "nb_parts_list = [1,1.5,2,2.5,3,4]\n",
    "graph_filter = (np.abs(lambda_compensation)>.1)&(np.abs(lambda_compensation)<100)\n",
    "\n",
    "nb_subplots_lines = len(nb_parts_list)//2 + len(nb_parts_list)%2 \n",
    "\n",
    "fig, ax = plt.subplots(nb_subplots_lines,2,sharey = True, figsize = (20, 15), tight_layout = True)\n",
    "count = 0\n",
    "for parts in nb_parts_list:\n",
    "    graph_filter = (np.abs(lambda_compensation)>.001)&(np.abs(lambda_compensation)<100) & (simulation.calculate('nbptr') == parts)\n",
    "    i = count//2\n",
    "    j = count %2\n",
    "    \n",
    "    ax[i,j].hist(lambda_compensation[graph_filter].values, bins = 100, normed = True)#, weights = poids.values)\n",
    "    ax[i,j].set_xlabel(r'$\\lambda$',fontsize = 20 )\n",
    "    ax[i,j].set_ylabel('Headcount',fontsize = 17)\n",
    "    ax[i,j].set_title('{} fiscal shares'.format(parts))\n",
    "    ax[i,j].xaxis.set_minor_locator(AutoMinorLocator(nb_minor_ticks))\n",
    "    ax[i,j].yaxis.set_minor_locator(AutoMinorLocator(nb_minor_ticks))\n",
    "    ax[i,j].grid(which = 'both')\n",
    "    count +=1\n",
    "plt.savefig(\"image_result_of_mensualisation/lambda_compensation_by_fiscal_shares.png\")"
   ]
  },
  {
   "cell_type": "code",
   "execution_count": null,
   "metadata": {
    "collapsed": false
   },
   "outputs": [],
   "source": [
    "lambda_compensation_menage = pd.Series(switch_entity('lambda_compensation', 'menage'))\n",
    "graph_filter_menage =  (np.abs(lambda_compensation_menage)>.1)&(np.abs(lambda_compensation_menage)<100)"
   ]
  },
  {
   "cell_type": "code",
   "execution_count": null,
   "metadata": {
    "collapsed": false
   },
   "outputs": [],
   "source": [
    "to_graph_foyer = lambda_compensation[graph_filter]\n",
    "poids_menage = pd.Series(weight_menages)[graph_filter_menage]\n",
    "\n",
    "plt.figure(figsize=(15,10))\n",
    "plt.hist(to_graph_foyer.values, bins = 100, weights = poids.values)\n",
    "plt.xlabel(r'$\\lambda$',fontsize = 20 )\n",
    "plt.ylabel('Headcount',fontsize = 17)"
   ]
  },
  {
   "cell_type": "code",
   "execution_count": null,
   "metadata": {
    "collapsed": false
   },
   "outputs": [],
   "source": [
    "from matplotlib.ticker import AutoMinorLocator\n",
    "nb_minor_ticks = 5\n",
    "fig, ax = plt.subplots(1,2,sharey = True, figsize = (20, 7), tight_layout = True)\n",
    "\n",
    "to_graph_menage = lambda_compensation_menage[graph_filter_menage]\n",
    "poids_menage = pd.Series(weight_menages)[graph_filter_menage]\n",
    "\n",
    "\n",
    "ax[0].hist(to_graph_foyer.values, bins = 100, weights = poids.values)\n",
    "ax[0].set_xlabel(r'$\\lambda$',fontsize = 20 )\n",
    "ax[0].set_ylabel('Headcount',fontsize = 17)\n",
    "ax[0].set_title('Fiscal Household')\n",
    "ax[0].xaxis.set_minor_locator(AutoMinorLocator(nb_minor_ticks))\n",
    "ax[0].yaxis.set_minor_locator(AutoMinorLocator(nb_minor_ticks))\n",
    "ax[0].grid(which = 'both')\n",
    "\n",
    "\n",
    "\n",
    "ax[1].hist(to_graph_menage.values, bins = 100, weights = poids_menage.values)\n",
    "ax[1].set_xlabel(r'$\\lambda$',fontsize = 20)\n",
    "#ax[1].set_ylabel('Headcount',fontsize = 17)\n",
    "ax[1].set_title('Household')\n",
    "ax[1].xaxis.set_minor_locator(AutoMinorLocator(nb_minor_ticks))\n",
    "ax[1].yaxis.set_minor_locator(AutoMinorLocator(nb_minor_ticks))\n",
    "ax[1].grid(which = 'both')"
   ]
  },
  {
   "cell_type": "code",
   "execution_count": null,
   "metadata": {
    "collapsed": false
   },
   "outputs": [],
   "source": [
    "from matplotlib.ticker import AutoMinorLocator\n",
    "nb_minor_ticks = 5\n",
    "fig, ax = plt.subplots(1,2,sharey = True, figsize = (20, 7), tight_layout = True)\n",
    "\n",
    "to_graph_menage = lambda_compensation_menage[graph_filter_menage]\n",
    "poids_menage = pd.Series(weight_menages)[graph_filter_menage]\n",
    "ax_nb = 0\n",
    "ax[ax_nb].hist(to_graph_foyer.values, bins = 100,normed = True, weights = poids.values)\n",
    "ax[ax_nb].set_xlabel(r'$\\lambda$',fontsize = 20 )\n",
    "ax[ax_nb].set_ylabel('Headcount',fontsize = 17)\n",
    "ax[ax_nb].set_title('Fiscal Household')\n",
    "ax[ax_nb].xaxis.set_minor_locator(AutoMinorLocator(nb_minor_ticks))\n",
    "ax[ax_nb].yaxis.set_minor_locator(AutoMinorLocator(nb_minor_ticks))\n",
    "ax[ax_nb].grid(which = 'both')\n",
    "\n",
    "\n",
    "ax_nb = 1\n",
    "ax[ax_nb].hist(to_graph_menage.values, bins = 100, normed = True ,weights = poids_menage.values)\n",
    "ax[ax_nb].set_xlabel(r'$\\lambda$',fontsize = 20)\n",
    "#ax[1].set_ylabel('Headcount',fontsize = 17)\n",
    "ax[ax_nb].set_title('Household')\n",
    "ax[ax_nb].xaxis.set_minor_locator(AutoMinorLocator(nb_minor_ticks))\n",
    "ax[ax_nb].yaxis.set_minor_locator(AutoMinorLocator(nb_minor_ticks))\n",
    "ax[ax_nb].grid(which = 'both')"
   ]
  },
  {
   "cell_type": "code",
   "execution_count": null,
   "metadata": {
    "collapsed": true
   },
   "outputs": [],
   "source": []
  },
  {
   "cell_type": "code",
   "execution_count": null,
   "metadata": {
    "collapsed": false
   },
   "outputs": [],
   "source": [
    "index_exceptional_lambda = lambda_compensation[np.abs(lambda_compensation)>100].index"
   ]
  },
  {
   "cell_type": "code",
   "execution_count": null,
   "metadata": {
    "collapsed": false
   },
   "outputs": [],
   "source": [
    "df = survey_scenario.create_data_frame_by_entity_key_plural(['decote_gain_fiscal','decote_gain_fiscal_mensuel_times_12',\"irpp\",'irpp_mensuel', 'lambda_compensation'])['foyers_fiscaux']\n",
    "df['decote_gain_fiscal_mensuel'] = df.decote_gain_fiscal_mensuel_times_12/12\n",
    "df.iloc[index_exceptional_lambda]"
   ]
  },
  {
   "cell_type": "code",
   "execution_count": null,
   "metadata": {
    "collapsed": false
   },
   "outputs": [],
   "source": [
    "survey_scenario.simulation.calculate(\"irpp_mensuel\",\"2009-08\")[4]"
   ]
  },
  {
   "cell_type": "code",
   "execution_count": null,
   "metadata": {
    "collapsed": false
   },
   "outputs": [],
   "source": [
    "df[\"difference\"] = np.abs(df.decote_gain_fiscal- df.decote_gain_fiscal_mensuel)>0.01\n",
    "df[lambda_compensation == -12].difference.value_counts()"
   ]
  },
  {
   "cell_type": "code",
   "execution_count": null,
   "metadata": {
    "collapsed": false
   },
   "outputs": [],
   "source": [
    "df.shape"
   ]
  },
  {
   "cell_type": "code",
   "execution_count": null,
   "metadata": {
    "collapsed": false
   },
   "outputs": [],
   "source": [
    "df[lambda_compensation == -12][['decote_gain_fiscal', 'decote_gain_fiscal_mensuel', 'lambda_compensation',\"irpp\",'irpp_mensuel' ]]"
   ]
  },
  {
   "cell_type": "code",
   "execution_count": null,
   "metadata": {
    "collapsed": false
   },
   "outputs": [],
   "source": [
    "df = survey_scenario.create_data_frame_by_entity_key_plural(['decote_gain_fiscal','decote_gain_fiscal_mensuel_times_12',\"irpp\",'irpp_mensuel', 'lambda_compensation'])['foyers_fiscaux']\n",
    "df.decote_gain_fiscal_mensuel_times_12 = df.decote_gain_fiscal_mensuel_times_12/12\n",
    "df.lambda_compensation[df.lambda_compensation>70] = 0 #autrement les histogrames prennent trois heures à grapher pour quelques observations\n",
    "df.lambda_compensation[df.lambda_compensation< -70] = 0"
   ]
  },
  {
   "cell_type": "code",
   "execution_count": null,
   "metadata": {
    "collapsed": false
   },
   "outputs": [],
   "source": [
    "df[np.abs(df.decote_gain_fiscal-df.decote_gain_fiscal_mensuel_times_12)+1>0].shape"
   ]
  },
  {
   "cell_type": "code",
   "execution_count": null,
   "metadata": {
    "collapsed": false
   },
   "outputs": [],
   "source": [
    "df.lambda_compensation[(np.abs(df.decote_gain_fiscal-df.decote_gain_fiscal_mensuel_times_12)-1<0)\n",
    "                      & (np.abs(df.lambda_compensation)>0.1)].hist(bins = 100)\n",
    "plt.xlim(-20,20)"
   ]
  },
  {
   "cell_type": "code",
   "execution_count": null,
   "metadata": {
    "collapsed": false
   },
   "outputs": [],
   "source": [
    "df.lambda_compensation[(np.abs(df.decote_gain_fiscal-df.decote_gain_fiscal_mensuel_times_12)-0.1>0)\n",
    "                      & (np.abs(df.lambda_compensation)>0.1)].mean()"
   ]
  },
  {
   "cell_type": "code",
   "execution_count": null,
   "metadata": {
    "collapsed": false
   },
   "outputs": [],
   "source": [
    "df[(np.abs(df.decote_gain_fiscal-df.decote_gain_fiscal_mensuel_times_12)-0.1>0)\n",
    "                      & (np.abs(df.lambda_compensation)>0.1)]"
   ]
  },
  {
   "cell_type": "code",
   "execution_count": null,
   "metadata": {
    "collapsed": false
   },
   "outputs": [],
   "source": [
    "df[df.lambda_compensation<-1]"
   ]
  },
  {
   "cell_type": "code",
   "execution_count": null,
   "metadata": {
    "collapsed": false
   },
   "outputs": [],
   "source": [
    "df[df.lambda_compensation<-1][df.decote_gain_fiscal> df.decote_gain_fiscal_mensuel_times_12]"
   ]
  },
  {
   "cell_type": "markdown",
   "metadata": {
    "collapsed": true
   },
   "source": [
    "## Compensated irpp"
   ]
  },
  {
   "cell_type": "code",
   "execution_count": null,
   "metadata": {
    "collapsed": false
   },
   "outputs": [],
   "source": [
    "print max(pd.Series(survey_scenario.simulation.calculate_add('compensated_irpp_mensuel') -  survey_scenario.simulation.calculate_add('irpp')))\n",
    "print min(pd.Series(survey_scenario.simulation.calculate_add('compensated_irpp_mensuel') -  survey_scenario.simulation.calculate_add('irpp')))"
   ]
  },
  {
   "cell_type": "code",
   "execution_count": null,
   "metadata": {
    "collapsed": false
   },
   "outputs": [],
   "source": [
    "df = survey_scenario.create_data_frame_by_entity_key_plural(['decote_gain_fiscal','decote_gain_fiscal_mensuel_times_12',\"irpp\",'irpp_mensuel', 'lambda_compensation', 'compensated_irpp_mensuel'])['foyers_fiscaux']\n",
    "df.decote_gain_fiscal_mensuel_times_12 = df.decote_gain_fiscal_mensuel_times_12/12\n",
    "#df.lambda_compensation[df.lambda_compensation>70] = 0 #autrement les histogrames prennent trois heures à grapher pour quelques observations\n",
    "#df.lambda_compensation[df.lambda_compensation< -70] = 0\n",
    "#df.compensated_irpp_mensuel = df.compensated_irpp_mensuel\n",
    "df"
   ]
  },
  {
   "cell_type": "code",
   "execution_count": null,
   "metadata": {
    "collapsed": false
   },
   "outputs": [],
   "source": [
    "df = survey_scenario.create_data_frame_by_entity_key_plural(['decote_gain_fiscal','decote_gain_fiscal_mensuel_times_12',\"irpp\",'irpp_mensuel', 'lambda_compensation', 'compensated_irpp_mensuel'])['foyers_fiscaux']\n",
    "df.decote_gain_fiscal_mensuel_times_12 = df.decote_gain_fiscal_mensuel_times_12/12\n",
    "#df.lambda_compensation[df.lambda_compensation>70] = 0 #autrement les histogrames prennent trois heures à grapher pour quelques observations\n",
    "#df.lambda_compensation[df.lambda_compensation< -70] = 0\n",
    "#df.compensated_irpp_mensuel = df.compensated_irpp_mensuel\n",
    "df"
   ]
  },
  {
   "cell_type": "code",
   "execution_count": null,
   "metadata": {
    "collapsed": false
   },
   "outputs": [],
   "source": [
    "df[df.compensated_irpp_mensuel - df.irpp<2][['irpp', 'compensated_irpp_mensuel', 'irpp_mensuel']]"
   ]
  },
  {
   "cell_type": "code",
   "execution_count": null,
   "metadata": {
    "collapsed": false
   },
   "outputs": [],
   "source": [
    "print survey_scenario.compute_aggregate('compensated_irpp_mensuel')\n",
    "print survey_scenario.compute_aggregate('irpp')"
   ]
  },
  {
   "cell_type": "code",
   "execution_count": null,
   "metadata": {
    "collapsed": true
   },
   "outputs": [],
   "source": [
    "impot_mensuel_times_12 = survey_scenario.simulation.calculate(\"irpp_mensuel\", period)*12\n",
    "lambda_compensation = survey_scenario.simulation.calculate(\"lambda_compensation\", period.this_year)\n",
    "\n",
    "\n",
    "\n",
    "compensated_irpp = impot_mensuel_times_12/(12 + lambda_compensation)"
   ]
  },
  {
   "cell_type": "code",
   "execution_count": null,
   "metadata": {
    "collapsed": false
   },
   "outputs": [],
   "source": [
    "compensated_irpp[743]"
   ]
  },
  {
   "cell_type": "code",
   "execution_count": null,
   "metadata": {
    "collapsed": false
   },
   "outputs": [],
   "source": [
    "(survey_scenario.simulation.calculate(\"irpp\", period.this_year) == 0)*0"
   ]
  },
  {
   "cell_type": "code",
   "execution_count": null,
   "metadata": {
    "collapsed": false
   },
   "outputs": [],
   "source": [
    "compensated_irpp = (survey_scenario.simulation.calculate(\"irpp\", period.this_year) == 0) * 0 + \\\n",
    "                ~(survey_scenario.simulation.calculate(\"irpp\", period.this_year) == 0) * np.nan_to_num(compensated_irpp) ;compensated_irpp[[4,743]]"
   ]
  },
  {
   "cell_type": "code",
   "execution_count": null,
   "metadata": {
    "collapsed": false
   },
   "outputs": [],
   "source": []
  },
  {
   "cell_type": "code",
   "execution_count": null,
   "metadata": {
    "collapsed": true
   },
   "outputs": [],
   "source": []
  },
  {
   "cell_type": "code",
   "execution_count": null,
   "metadata": {
    "collapsed": false
   },
   "outputs": [],
   "source": [
    "compensated_irpp = (\n",
    "                (survey_scenario.simulation.calculate_add(\"irpp_mensuel\", period) == 0) * #Condition\n",
    "                (survey_scenario.simulation.calculate(\"irpp\", period.this_year)/12) # on répartit sur l'année\n",
    "            ) + ~(survey_scenario.simulation.calculate_add(\"irpp_mensuel\", period) == 0) * compensated_irpp #condition opposée\n",
    "compensated_irpp[[4,743]]"
   ]
  },
  {
   "cell_type": "code",
   "execution_count": null,
   "metadata": {
    "collapsed": false
   },
   "outputs": [],
   "source": [
    "df[df.lambda_compensation.isnull()]"
   ]
  },
  {
   "cell_type": "code",
   "execution_count": null,
   "metadata": {
    "collapsed": false
   },
   "outputs": [],
   "source": [
    "survey_scenario.simulation.calculate_add('irpp')"
   ]
  },
  {
   "cell_type": "code",
   "execution_count": null,
   "metadata": {
    "collapsed": false
   },
   "outputs": [],
   "source": [
    "survey_scenario.compute_aggregate('compensated_irpp_mensuel')"
   ]
  },
  {
   "cell_type": "code",
   "execution_count": null,
   "metadata": {
    "collapsed": false
   },
   "outputs": [],
   "source": [
    "lambda_compensation = survey_scenario.simulation.calculate('lambda_compensation')\n",
    "np.all(lambda_compensation != np.nan)\n",
    "lambda_compensation != np.nan\n",
    "hello = lambda_compensation[1]\n",
    "assert np.all(np.isfinite(lambda_compensation))\n"
   ]
  },
  {
   "cell_type": "code",
   "execution_count": null,
   "metadata": {
    "collapsed": false
   },
   "outputs": [],
   "source": [
    "sal_pen_df = survey_scenario.create_data_frame_by_entity_key_plural_with_monthly_basis_selector(['irpp'], ['irpp_mensuel','compensated_irpp_mensuel'])['foyers_fiscaux']\n",
    "\n",
    "sal_pen_df.T"
   ]
  },
  {
   "cell_type": "code",
   "execution_count": null,
   "metadata": {
    "collapsed": false
   },
   "outputs": [],
   "source": [
    "survey_scenario.compute_aggregate('compensated_irpp_mensuel')"
   ]
  },
  {
   "cell_type": "markdown",
   "metadata": {},
   "source": [
    "## Utility annalysis "
   ]
  },
  {
   "cell_type": "code",
   "execution_count": null,
   "metadata": {
    "collapsed": false
   },
   "outputs": [],
   "source": [
    "survey_scenario.compute_aggregate(\"utility_ir_annuel\") #TODO : find why Nan"
   ]
  },
  {
   "cell_type": "code",
   "execution_count": null,
   "metadata": {
    "collapsed": false
   },
   "outputs": [],
   "source": [
    "print pd.Series(survey_scenario.simulation.calculate_add('utility_ir_annuel','2009')).mean()\n",
    "print pd.Series(survey_scenario.simulation.calculate_add('utility_ir_mensuel','2009')).mean()\n",
    "print pd.Series(survey_scenario.simulation.calculate_add('utility_compensated_ir_mensuel','2009')).mean()\n",
    "print pd.Series(survey_scenario.simulation.calculate_add('utility_ir_mensuel_rsa_mensuel','2009')).mean()"
   ]
  },
  {
   "cell_type": "code",
   "execution_count": null,
   "metadata": {
    "collapsed": true
   },
   "outputs": [],
   "source": [
    "u_ir_m_rsa_m = pd.Series(survey_scenario.simulation.calculate_add('utility_ir_mensuel_rsa_mensuel','2009'))\n",
    "u_c_ir = pd.Series(survey_scenario.simulation.calculate_add('utility_compensated_ir_mensuel','2009'))\n",
    "u_ir_m = pd.Series(survey_scenario.simulation.calculate_add('utility_ir_mensuel','2009'))\n",
    "u_ir_a = pd.Series(survey_scenario.simulation.calculate_add('utility_ir_annuel','2009'))\n"
   ]
  },
  {
   "cell_type": "code",
   "execution_count": null,
   "metadata": {
    "collapsed": false
   },
   "outputs": [],
   "source": [
    "print u_ir_m_rsa_m.mean(),1/u_ir_m_rsa_m.mean()\n",
    "print u_c_ir.mean(),1/u_c_ir.mean()\n",
    "print u_ir_m.mean(),1/u_ir_m.mean()\n",
    "print u_ir_a.mean(),1/u_ir_a.mean()"
   ]
  },
  {
   "cell_type": "code",
   "execution_count": null,
   "metadata": {
    "collapsed": false
   },
   "outputs": [],
   "source": [
    "print u_c_ir.describe()\n",
    "print u_ir_m.describe()\n",
    "print u_ir_a.describe()"
   ]
  },
  {
   "cell_type": "code",
   "execution_count": null,
   "metadata": {
    "collapsed": false
   },
   "outputs": [],
   "source": [
    "print 1/u_c_ir.describe()\n",
    "print 1/u_ir_m.describe()\n",
    "print 1/u_ir_a.describe()"
   ]
  },
  {
   "cell_type": "code",
   "execution_count": null,
   "metadata": {
    "collapsed": false
   },
   "outputs": [],
   "source": [
    "((u_ir_m - u_ir_a)).hist(bins = 500, figsize = (25,12))\n",
    "plt.ylim(0,200)"
   ]
  },
  {
   "cell_type": "code",
   "execution_count": null,
   "metadata": {
    "collapsed": false
   },
   "outputs": [],
   "source": [
    "((u_ir_m - u_ir_a)<-0.0000001).value_counts()"
   ]
  },
  {
   "cell_type": "code",
   "execution_count": null,
   "metadata": {
    "collapsed": false
   },
   "outputs": [],
   "source": [
    "((u_c_ir - u_ir_a)).hist(bins = 500, figsize = (25,12))\n",
    "plt.ylim(0,200)"
   ]
  },
  {
   "cell_type": "code",
   "execution_count": null,
   "metadata": {
    "collapsed": false
   },
   "outputs": [],
   "source": [
    "((u_c_ir - u_ir_a)<-0.0000001).value_counts()"
   ]
  },
  {
   "cell_type": "markdown",
   "metadata": {},
   "source": [
    "##### Graphs with weights"
   ]
  },
  {
   "cell_type": "code",
   "execution_count": null,
   "metadata": {
    "collapsed": false
   },
   "outputs": [],
   "source": [
    "((u_ir_m - u_ir_a)).hist(bins = 500, figsize = (25,12), zorder=1, alpha = 0.7, weights = weight_menages,)\n",
    "((u_c_ir - u_ir_a)).hist(bins = 500, figsize = (25,12), weights = weight_menages,zorder=10, alpha = 1)\n",
    "plt.ylim(0,5*10**4)\n",
    "plt.xlabel('utility')\n",
    "plt.ylabel('headcounts')"
   ]
  },
  {
   "cell_type": "code",
   "execution_count": null,
   "metadata": {
    "collapsed": false
   },
   "outputs": [],
   "source": [
    "hist1 = ((u_ir_m - u_ir_a)).hist(bins = 200, figsize = (25,12), weights = weight_menages, zorder=10, color = 'c', alpha = 0.4, label = \"Monthly\")\n",
    "hist2 = ((u_c_ir - u_ir_a)).hist(bins = 200, figsize = (25,12), weights = weight_menages,zorder=1, color = 'k',alpha = 1, label = \"Compensated Monthly\")\n",
    "\n",
    "plt.axvline(x=0, ymax = 10**6, linewidth=4, color = 'r', alpha = 1, linestyle='dashed')\n",
    "plt.ylim(0,20*10**4)\n",
    "plt.xlim(-0.0005, 0.0005)\n",
    "plt.legend()\n",
    "plt.title(\"Difference in utility w.r.t annual basis\", size = 15)\n",
    "plt.xlabel('utility')\n",
    "plt.ylabel('headcounts')"
   ]
  },
  {
   "cell_type": "code",
   "execution_count": null,
   "metadata": {
    "collapsed": false
   },
   "outputs": [],
   "source": [
    "hist1 = ((u_ir_m - u_ir_a)).hist(bins = 3000, figsize = (25,12), weights = weight_menages, zorder=10, color = 'c', alpha = 0.4, label = \"Monthly\")\n",
    "hist2 = ((u_c_ir - u_ir_a)).hist(bins = 3000, figsize = (25,12), weights = weight_menages,zorder=1, color = 'k',alpha = 1, label = \"Compensated Monthly\")\n",
    "\n",
    "plt.axvline(x=0, ymax = 10**6, linewidth=4, color = 'r', alpha = 1, linestyle='dashed')\n",
    "#plt.ylim(0,70*10**5)\n",
    "plt.xlim(-0.00002, 0.00002)\n",
    "plt.legend()\n",
    "plt.title(\"Difference in utility w.r.t annual basis\", size = 15)\n",
    "plt.xlabel('utility')\n",
    "plt.ylabel('headcounts')"
   ]
  },
  {
   "cell_type": "code",
   "execution_count": null,
   "metadata": {
    "collapsed": true
   },
   "outputs": [],
   "source": [
    "weight_menages = pd.Series(weight_menages)"
   ]
  },
  {
   "cell_type": "code",
   "execution_count": null,
   "metadata": {
    "collapsed": false
   },
   "outputs": [],
   "source": [
    "execute_time_consuming_graph = True\n",
    "if execute_time_consuming_graph == True : \n",
    "\n",
    "    hist1 = ((u_ir_m - u_ir_a))[((u_ir_m - u_ir_a))!=0].hist(bins = 7000, figsize = (25,12), weights = pd.Series(weight_menages)[((u_ir_m - u_ir_a))!=0].values, zorder=10, color = 'c', alpha = 0.4, label = \"Monthly\")\n",
    "    hist2 = ((u_c_ir - u_ir_a))[((u_c_ir - u_ir_a))!=0].hist(bins = 7000, figsize = (25,12), weights = pd.Series(weight_menages)[((u_c_ir - u_ir_a))!=0].values,zorder=1, color = 'k',alpha = 1, label = \"Compensated Monthly\")\n",
    "\n",
    "    plt.axvline(x=0, ymax = 10**6, linewidth=4, color = 'r', alpha = 1, linestyle='dashed')\n",
    "    plt.ylim(0,35*10**4)\n",
    "    plt.xlim(-0.00002, 0.00002)\n",
    "    plt.legend()\n",
    "    plt.title(\"Difference in utility w.r.t annual basis \\n no variation in utility taken out\", size = 15)\n",
    "    plt.xlabel('utility', size = 15)\n",
    "    plt.ylabel('headcounts', size = 15)"
   ]
  },
  {
   "cell_type": "code",
   "execution_count": null,
   "metadata": {
    "collapsed": false
   },
   "outputs": [],
   "source": [
    "outliers = pd.Series(np.abs(((u_ir_m - u_ir_a))[((u_ir_m - u_ir_a))!=0])>0.00002).value_counts(normalize = True); outliers"
   ]
  },
  {
   "cell_type": "code",
   "execution_count": null,
   "metadata": {
    "collapsed": false
   },
   "outputs": [],
   "source": [
    "\"This graph represent {}% of the tax-unit with varying utility, {}% of that sample are over 0.0002 utility points variation\".format(outliers[0], outliers[1])"
   ]
  },
  {
   "cell_type": "code",
   "execution_count": null,
   "metadata": {
    "collapsed": false
   },
   "outputs": [],
   "source": [
    "pd.Series(weight_menages).shape"
   ]
  },
  {
   "cell_type": "code",
   "execution_count": null,
   "metadata": {
    "collapsed": true
   },
   "outputs": [],
   "source": [
    "decote = survey_scenario.simulation.calculate('decote_menage')\n",
    "decote_mensuel = survey_scenario.simulation.calculate_add('decote_mensuel_menage')"
   ]
  },
  {
   "cell_type": "code",
   "execution_count": null,
   "metadata": {
    "collapsed": false
   },
   "outputs": [],
   "source": [
    "(pd.Series(survey_scenario.simulation.calculate_add('revdisp_mensuel_annuel'))[((u_c_ir - u_ir_a)<0)]).hist(bins = 100)"
   ]
  },
  {
   "cell_type": "code",
   "execution_count": null,
   "metadata": {
    "collapsed": false
   },
   "outputs": [],
   "source": [
    "pay_irpp = (simulation.calculate('irpp') > 0)\n",
    "print pay_irpp.shape\n",
    "pd.value_counts(cast_array_from_entity_to_role(pay_irpp, 'foyer_fiscal', roles = [0]))"
   ]
  },
  {
   "cell_type": "code",
   "execution_count": null,
   "metadata": {
    "collapsed": false
   },
   "outputs": [],
   "source": [
    "decote_mensuel = simulation.calculate_add(\"decote_gain_fiscal_mensuel_times_12\")/12\n",
    "decote = simulation.calculate_add(\"decote_gain_fiscal\")\n",
    "\n",
    "\n",
    "has_decote_difference = (np.abs(decote -decote_mensuel)>0.1).astype(int)\n",
    "has_decote_difference = cast_array_from_entity_to_role(has_decote_difference, 'foyer_fiscal', roles = [0])\n",
    "\n",
    "nb_decote_diff_menage = sum_array_by_entity(has_decote_difference, 'menage')\n",
    "\n",
    "print pd.value_counts(nb_decote_diff_menage)\n",
    "\n",
    "\n",
    "utility_loss = (u_c_ir - u_ir_a)<-0.00000001\n",
    "pd.value_counts(nb_decote_diff_menage[utility_loss])\n",
    "\n",
    "#utility_loss = condition((u_c_ir - u_ir_a)<-0.00000001)\n",
    "#utility_loss = cast_array_from_entity_to_role(utility_loss, roles = [0])\n"
   ]
  },
  {
   "cell_type": "code",
   "execution_count": null,
   "metadata": {
    "collapsed": false
   },
   "outputs": [],
   "source": [
    "revdisp_loss = (simulation.calculate_add('revdisp_mensuel_compensated_ir_mensuel') - simulation.calculate_add('revdisp_mensuel_annuel')) < -1\n",
    "#no_decote_or_payment_threshold_concern =  \n",
    "good_rev_trav = switch_entity('rfr', 'menage')/switch_entity('nbptr', 'menage') > 20000\n",
    "pd.value_counts(pd.Series(revdisp_loss)[good_rev_trav])"
   ]
  },
  {
   "cell_type": "code",
   "execution_count": null,
   "metadata": {
    "collapsed": false
   },
   "outputs": [],
   "source": [
    "dico = {} #bizare, qu'est-ce qu'il se passe exactement ?\n",
    "a = 7\n",
    "for month in range(1,13):\n",
    "    dico[month] = zip(pd.Series(simulation.calculate(\"revdisp_mensuel_compensated_ir_mensuel\", period = \"2009-{}\".format(month)))[good_rev_trav&revdisp_loss][a:a+1], \n",
    "                      pd.Series(simulation.calculate_add('revdisp_mensuel_compensated_ir_mensuel') - simulation.calculate_add('revdisp_mensuel_annuel'))[good_rev_trav&revdisp_loss][a:a+1],\n",
    "                      pd.Series(switch_entity('irpp', 'famille'))[good_rev_trav&revdisp_loss][a:a+1],\n",
    "                      \n",
    "                     \n",
    "                     )"
   ]
  },
  {
   "cell_type": "code",
   "execution_count": null,
   "metadata": {
    "collapsed": false
   },
   "outputs": [],
   "source": [
    "dico"
   ]
  },
  {
   "cell_type": "code",
   "execution_count": null,
   "metadata": {
    "collapsed": false
   },
   "outputs": [],
   "source": []
  },
  {
   "cell_type": "code",
   "execution_count": null,
   "metadata": {
    "collapsed": false
   },
   "outputs": [],
   "source": [
    "good_rev_trav.shape"
   ]
  },
  {
   "cell_type": "code",
   "execution_count": null,
   "metadata": {
    "collapsed": false
   },
   "outputs": [],
   "source": [
    "pd.Series(nb_decote_diff_menage.astype('bool'))[utility_loss == True].value_counts(normalize = True) #Parmis les ménages ayant eu une perte d'utilité 56% ont eu une différence de décote."
   ]
  },
  {
   "cell_type": "code",
   "execution_count": null,
   "metadata": {
    "collapsed": false
   },
   "outputs": [],
   "source": [
    "pd.Series(nb_decote_diff_menage.astype('bool'))[utility_loss == True].value_counts(normalize = True) #Parmis les ménages ayant eu une perte d'utilité 56% ont eu une différence de décote."
   ]
  },
  {
   "cell_type": "code",
   "execution_count": null,
   "metadata": {
    "collapsed": false
   },
   "outputs": [],
   "source": [
    "(nb_decote_diff_menage.astype('bool')*weight_menages.values).sum()/weight_menages.sum()"
   ]
  },
  {
   "cell_type": "code",
   "execution_count": null,
   "metadata": {
    "collapsed": true
   },
   "outputs": [],
   "source": []
  },
  {
   "cell_type": "code",
   "execution_count": null,
   "metadata": {
    "collapsed": false
   },
   "outputs": [],
   "source": [
    "nb_decote_diff_menage"
   ]
  },
  {
   "cell_type": "code",
   "execution_count": null,
   "metadata": {
    "collapsed": false
   },
   "outputs": [],
   "source": [
    "pd.Series(utility_loss)[nb_decote_diff_menage.astype('bool')].value_counts(normalize = True) #Parmis les ménages ayant eu une différence de décote 5% ont eu une perte d'utilité"
   ]
  },
  {
   "cell_type": "code",
   "execution_count": null,
   "metadata": {
    "collapsed": false
   },
   "outputs": [],
   "source": [
    "pd.Series(nb_decote_diff_menage.astype('bool'))[utility_loss == True].value_counts()"
   ]
  },
  {
   "cell_type": "code",
   "execution_count": null,
   "metadata": {
    "collapsed": false
   },
   "outputs": [],
   "source": [
    "u_c_ir.shape"
   ]
  },
  {
   "cell_type": "code",
   "execution_count": null,
   "metadata": {
    "collapsed": false
   },
   "outputs": [],
   "source": [
    "pd.value_counts(sum_array_by_entity(has_decote_difference, 'menage'))"
   ]
  },
  {
   "cell_type": "code",
   "execution_count": null,
   "metadata": {
    "collapsed": false
   },
   "outputs": [],
   "source": [
    "ax = ((pd.Series(np.abs(decote -decote_mensuel)>0.1)[((u_c_ir - u_ir_a)<-0.00000001)]).value_counts( normalize = True)*100).plot(kind = \"bar\",)\n",
    "plt.ylim((0,100))\n",
    "\n",
    "labels = [\"{}%\".format(np.round(i,2)) for i in ((pd.Series(np.abs(decote -decote_mensuel)>0.1)[((u_c_ir - u_ir_a)<-0.0000001)]).value_counts( normalize = True)*100) ] #0.000001 pour éviter les erreurs d'arrondis.\n",
    "rects = ax.patches\n",
    "\n",
    "for rect, label in zip(rects, labels):\n",
    "    height = rect.get_height()\n",
    "    ax.text(rect.get_x() + rect.get_width()/2, height + 5, label, ha='center', va='bottom')"
   ]
  },
  {
   "cell_type": "code",
   "execution_count": null,
   "metadata": {
    "collapsed": false
   },
   "outputs": [],
   "source": [
    "survey_scenario.simulation.persons.count"
   ]
  },
  {
   "cell_type": "code",
   "execution_count": null,
   "metadata": {
    "collapsed": false
   },
   "outputs": [],
   "source": [
    "is_decote_different = pd.Series(np.abs(decote -decote_mensuel)>0.1)[((u_c_ir - u_ir_a)<-0.00000001)]"
   ]
  },
  {
   "cell_type": "code",
   "execution_count": null,
   "metadata": {
    "collapsed": false
   },
   "outputs": [],
   "source": [
    "#TODO for famille and check if it coorrespond to the 46.43%\n",
    "below_collection_thrshld = np.zeros(weight_foyers.shape[0], dtype=bool)\n",
    "for month in range(1,13):\n",
    "    irpp_mensuel = pd.Series(survey_scenario.simulation.calculate(\"irpp_mensuel\", '2009-{}'.format(month)))\n",
    "    below_collection_thrshld += (irpp_mensuel>1) & (irpp_mensuel<5.16)\n",
    "    "
   ]
  },
  {
   "cell_type": "code",
   "execution_count": null,
   "metadata": {
    "collapsed": false
   },
   "outputs": [],
   "source": [
    "pd.Series(below_collection_thrshld).value_counts()"
   ]
  },
  {
   "cell_type": "code",
   "execution_count": null,
   "metadata": {
    "collapsed": false
   },
   "outputs": [],
   "source": [
    "np.array([True, False])+np.array([True, True])"
   ]
  },
  {
   "cell_type": "code",
   "execution_count": null,
   "metadata": {
    "collapsed": false
   },
   "outputs": [],
   "source": [
    "#Qui sont les gagnants ? :\n"
   ]
  },
  {
   "cell_type": "code",
   "execution_count": null,
   "metadata": {
    "collapsed": false
   },
   "outputs": [],
   "source": [
    "is_decote_different[is_decote_different==False]"
   ]
  },
  {
   "cell_type": "code",
   "execution_count": null,
   "metadata": {
    "collapsed": false
   },
   "outputs": [],
   "source": [
    "pd.Series(np.abs(decote -decote_mensuel)>0.1)[((u_c_ir - u_ir_a)<0.000001)].value_counts(normalize = True)"
   ]
  },
  {
   "cell_type": "code",
   "execution_count": null,
   "metadata": {
    "collapsed": false
   },
   "outputs": [],
   "source": [
    "(pd.Series(decote!= decote_mensuel)[((u_c_ir - u_ir_a)<0)]).hist(bins = 100)"
   ]
  },
  {
   "cell_type": "code",
   "execution_count": null,
   "metadata": {
    "collapsed": false
   },
   "outputs": [],
   "source": [
    "revdisp[(u_c_ir>=u_ir_a)]"
   ]
  },
  {
   "cell_type": "code",
   "execution_count": null,
   "metadata": {
    "collapsed": false
   },
   "outputs": [],
   "source": [
    "print u_c_ir[(decote_annual==0) & (decote_monthly==0)].mean()\n",
    "print u_ir_m[(decote_annual==0) & (decote_monthly==0)].mean()\n",
    "print u_ir_a[(decote_annual==0) & (decote_monthly==0)].mean()"
   ]
  },
  {
   "cell_type": "markdown",
   "metadata": {},
   "source": [
    "## Qui sont les gagnants ?"
   ]
  },
  {
   "cell_type": "code",
   "execution_count": null,
   "metadata": {
    "collapsed": false
   },
   "outputs": [],
   "source": [
    "print pd.value_counts((survey_scenario.simulation.calculate_add(\"revdisp_mensuel_annuel\")-survey_scenario.simulation.calculate_add(\"revdisp_mensuel_ir_mensuel\"))>1)\n",
    "print pd.value_counts((survey_scenario.simulation.calculate_add(\"revdisp_mensuel_annuel\")-survey_scenario.simulation.calculate_add(\"revdisp_mensuel_ir_mensuel\"))<-1)"
   ]
  },
  {
   "cell_type": "code",
   "execution_count": null,
   "metadata": {
    "collapsed": false
   },
   "outputs": [],
   "source": [
    "print pd.Series(((survey_scenario.simulation.calculate_add(\"revdisp_mensuel_annuel\")-survey_scenario.simulation.calculate_add(\"revdisp_mensuel_ir_mensuel\"))>1)\n",
    "                     *weight_menages).sum()\n",
    "print pd.Series(((survey_scenario.simulation.calculate_add(\"revdisp_mensuel_annuel\")-survey_scenario.simulation.calculate_add(\"revdisp_mensuel_ir_mensuel\"))<-1)\n",
    "                      *weight_menages).sum()"
   ]
  },
  {
   "cell_type": "code",
   "execution_count": null,
   "metadata": {
    "collapsed": false
   },
   "outputs": [],
   "source": [
    "np.mean(\n",
    "    (survey_scenario.simulation.calculate(\"rbg\")/survey_scenario.simulation.calculate(\"nbptr\"))\\\n",
    "    [survey_scenario.simulation.calculate_add(\"irpp\")-survey_scenario.simulation.calculate_add(\"irpp_mensuel\")>1]\n",
    "    )"
   ]
  },
  {
   "cell_type": "code",
   "execution_count": null,
   "metadata": {
    "collapsed": false
   },
   "outputs": [],
   "source": [
    "plt.figure(figsize=(15,10))\n",
    "plt.hist(    (survey_scenario.simulation.calculate(\"rbg\")/survey_scenario.simulation.calculate(\"nbptr\"))\\\n",
    "    [survey_scenario.simulation.calculate_add(\"irpp\")-survey_scenario.simulation.calculate_add(\"irpp_mensuel\")>1], bins = 200, label = \"Paying less on monthly basis\")\n",
    "plt.hist(    (survey_scenario.simulation.calculate(\"rbg\")/survey_scenario.simulation.calculate(\"nbptr\"))\\\n",
    "    [survey_scenario.simulation.calculate_add(\"irpp\")-survey_scenario.simulation.calculate_add(\"irpp_mensuel\")<-1], bins = 65, color= 'r', label = \"Paying more on monthly basis\")\n",
    "plt.xlim(0,50000)\n",
    "plt.title(\"paying more or less\")"
   ]
  },
  {
   "cell_type": "code",
   "execution_count": null,
   "metadata": {
    "collapsed": true
   },
   "outputs": [],
   "source": []
  },
  {
   "cell_type": "markdown",
   "metadata": {},
   "source": [
    "###### Weighted"
   ]
  },
  {
   "cell_type": "code",
   "execution_count": null,
   "metadata": {
    "collapsed": false
   },
   "outputs": [],
   "source": [
    "from openfisca_utils import make_ready_to_use_simulation\n",
    "from openfisca_core import rates\n",
    "simulation = make_ready_to_use_simulation.make_ready_to_use_simulation(2009,False)\n",
    "rbg_test_case = simulation.calculate('rbg')\n",
    "irpp_test_case = simulation.calculate('irpp')\n",
    "marginal_rate = rates.marginal_rate(irpp_test_case, rbg_test_case)-1\n",
    "to_change = pd.Series(marginal_rate)[marginal_rate>1].index\n",
    "#to_change = pd.Series(rates.marginal_rate(irpp_test_case, rbg_test_case)-1)[rates.marginal_rate(irpp_test_case, rbg_test_case)-1>1].index\n",
    "marginal_rate[to_change] = marginal_rate[to_change+1]\n",
    "plt.plot(marginal_rate)"
   ]
  },
  {
   "cell_type": "code",
   "execution_count": null,
   "metadata": {
    "collapsed": false
   },
   "outputs": [],
   "source": [
    "to_change = pd.Series(rates.marginal_rate(irpp_test_case, rbg_test_case)-1)[rates.marginal_rate(irpp_test_case, rbg_test_case)-1>1].index\n"
   ]
  },
  {
   "cell_type": "code",
   "execution_count": null,
   "metadata": {
    "collapsed": false
   },
   "outputs": [],
   "source": [
    "pd.Series(marginal_rate)[marginal_rate>1]"
   ]
  },
  {
   "cell_type": "code",
   "execution_count": null,
   "metadata": {
    "collapsed": false
   },
   "outputs": [],
   "source": [
    "np.mean(survey_scenario.simulation.calculate(\"rbg\"))"
   ]
  },
  {
   "cell_type": "code",
   "execution_count": null,
   "metadata": {
    "collapsed": false
   },
   "outputs": [],
   "source": []
  },
  {
   "cell_type": "code",
   "execution_count": null,
   "metadata": {
    "collapsed": false
   },
   "outputs": [],
   "source": [
    "np.array([True,True,False]) *np.array([2,3,4])"
   ]
  },
  {
   "cell_type": "code",
   "execution_count": null,
   "metadata": {
    "collapsed": false
   },
   "outputs": [],
   "source": [
    "pd.value_counts((survey_scenario.simulation.calculate_add(\"revdisp_mensuel_annuel\") - survey_scenario.simulation.calculate_add(\"revdisp_mensuel_compensated_ir_mensuel\")>1))"
   ]
  },
  {
   "cell_type": "code",
   "execution_count": null,
   "metadata": {
    "collapsed": true
   },
   "outputs": [],
   "source": []
  },
  {
   "cell_type": "code",
   "execution_count": null,
   "metadata": {
    "collapsed": false,
    "scrolled": false
   },
   "outputs": [],
   "source": [
    "\n",
    "\n",
    "weights1 = weight_foyers[survey_scenario.simulation.calculate_add(\"irpp\")-survey_scenario.simulation.calculate_add(\"irpp_mensuel\")>1]\n",
    "weights2 = weight_foyers[survey_scenario.simulation.calculate_add(\"irpp\")-survey_scenario.simulation.calculate_add(\"irpp_mensuel\")<-1]\n",
    "\n",
    "fig, ax1 = plt.subplots(figsize=(20, 10))\n",
    "\n",
    "\n",
    "ax1.hist(    (survey_scenario.simulation.calculate(\"rbg\")/survey_scenario.simulation.calculate(\"nbptr\"))\\\n",
    "    [(survey_scenario.simulation.calculate_add(\"irpp\")-survey_scenario.simulation.calculate_add(\"irpp_mensuel\"))>1], bins = 400, label = \"Paying more on monthly basis\", weights= weights1)\n",
    "ax1.hist(    (survey_scenario.simulation.calculate(\"rbg\")/survey_scenario.simulation.calculate(\"nbptr\"))\\\n",
    "    [(survey_scenario.simulation.calculate_add(\"irpp\")-survey_scenario.simulation.calculate_add(\"irpp_mensuel\"))<-1], bins = 130, color= 'r', label = \"Paying less on monthly basis\",weights= weights2)\n",
    "\n",
    "\n",
    "ax1.set_xlim(0,50000)\n",
    "ax2 = plt.twinx()\n",
    "ax2.plot(rbg_test_case[1:],marginal_rate, 'k', label = \"marginal tax rate\")\n",
    "ax2.set_xlim(0,50000)\n",
    "ax2.legend()\n",
    "ax1.legend(bbox_to_anchor=(0.22, 1))\n",
    "ax1.grid(which = 'both')\n",
    "ax1.text(11000,500000, u\"minimum wage\", weight = 'bold',)\n",
    "ax2.set_ylabel(\"marginal tax rate\")\n",
    "ax1.set_xlabel(\"Gross global income divided by fiscal shares\")\n",
    "ax1.set_ylabel(\"number of taxunit\")\n",
    "#plt.title(\"\")\n"
   ]
  },
  {
   "cell_type": "code",
   "execution_count": null,
   "metadata": {
    "collapsed": false
   },
   "outputs": [],
   "source": [
    "-(100 -  110)"
   ]
  },
  {
   "cell_type": "code",
   "execution_count": null,
   "metadata": {
    "collapsed": false
   },
   "outputs": [],
   "source": [
    "survey_scenario.simulation.calculate_add(\"irpp_mensuel\").mean()"
   ]
  },
  {
   "cell_type": "markdown",
   "metadata": {
    "collapsed": true
   },
   "source": [
    "### Gains monetaires"
   ]
  },
  {
   "cell_type": "markdown",
   "metadata": {},
   "source": [
    "#### Same annalysis with benefits"
   ]
  },
  {
   "cell_type": "code",
   "execution_count": null,
   "metadata": {
    "collapsed": false
   },
   "outputs": [],
   "source": [
    "survey_scenario.compute_aggregate(\"rsa_socle_majore_mensualise\")"
   ]
  },
  {
   "cell_type": "code",
   "execution_count": null,
   "metadata": {
    "collapsed": false
   },
   "outputs": [],
   "source": [
    "survey_scenario.compute_aggregate(\"rsa_non_majore\")"
   ]
  },
  {
   "cell_type": "code",
   "execution_count": null,
   "metadata": {
    "collapsed": false
   },
   "outputs": [],
   "source": [
    "pd.Series(survey_scenario.simulation.calculate(\"rsa_eligibilite_tns\", \"2009-01\")).value_counts()"
   ]
  },
  {
   "cell_type": "code",
   "execution_count": null,
   "metadata": {
    "collapsed": true
   },
   "outputs": [],
   "source": []
  },
  {
   "cell_type": "code",
   "execution_count": null,
   "metadata": {
    "collapsed": true
   },
   "outputs": [],
   "source": []
  },
  {
   "cell_type": "markdown",
   "metadata": {},
   "source": [
    "# Utilitarian monetary gains"
   ]
  },
  {
   "cell_type": "code",
   "execution_count": null,
   "metadata": {
    "collapsed": true
   },
   "outputs": [],
   "source": []
  },
  {
   "cell_type": "code",
   "execution_count": null,
   "metadata": {
    "collapsed": false
   },
   "outputs": [],
   "source": [
    "monetary_gain_ir = np.zeros(weight_menages.shape[0])\n",
    "for month in range(1,10):\n",
    "    monetary_gain_ir += (\n",
    "    survey_scenario.simulation.calculate(\"inverted_utility_compensated_ir_mensuel\", \"2009-{}\".format(month)) - \n",
    "    survey_scenario.simulation.calculate(\"inverted_utility_ir_annuel\", \"2009-{}\".format(month))\n",
    "    )*weight_menages"
   ]
  },
  {
   "cell_type": "code",
   "execution_count": null,
   "metadata": {
    "collapsed": false
   },
   "outputs": [],
   "source": [
    "((monetary_gain_ir.sum(0)/10)*12)/10**9"
   ]
  },
  {
   "cell_type": "markdown",
   "metadata": {},
   "source": [
    "Gains moyens par ménages."
   ]
  },
  {
   "cell_type": "code",
   "execution_count": null,
   "metadata": {
    "collapsed": false
   },
   "outputs": [],
   "source": [
    "monetary_gain_ir = pd.Series(monetary_gain_ir)\n",
    "monetary_gains_ir_0 = monetary_gain_ir[monetary_gain_ir != 0]\n",
    "monetary_gains_ir_0.hist(bins = 500, weights = (pd.Series(weight_menages)[monetary_gain_ir != 0]).values)\n",
    "plt.xlim(-10000,10000)"
   ]
  },
  {
   "cell_type": "code",
   "execution_count": null,
   "metadata": {
    "collapsed": false
   },
   "outputs": [],
   "source": [
    "print pd.Series(monetary_gain_ir<-10).value_counts()\n",
    "print pd.Series(monetary_gain_ir>10).value_counts()\n",
    "pd.Series(monetary_gain_ir)[monetary_gain_ir>10].shape"
   ]
  },
  {
   "cell_type": "code",
   "execution_count": null,
   "metadata": {
    "collapsed": false
   },
   "outputs": [],
   "source": [
    "month = 7\n",
    "gain = pd.Series(survey_scenario.simulation.calculate(\"inverted_utility_compensated_ir_mensuel\", \"2009-{}\".format(month)) - \n",
    "    survey_scenario.simulation.calculate(\"inverted_utility_ir_annuel\", \"2009-{}\".format(month))\n",
    "    )\n",
    "gain[np.abs(gain)>1].mean()\n"
   ]
  },
  {
   "cell_type": "code",
   "execution_count": null,
   "metadata": {
    "collapsed": false
   },
   "outputs": [],
   "source": [
    " diff_in_income = pd.Series(\n",
    "    np.abs(survey_scenario.simulation.calculate(\"revdisp_mensuel_annuel\", \"2009-{}\".format(month))\n",
    "          - survey_scenario.simulation.calculate(\"revdisp_mensuel_compensated_ir_mensuel\", \"2009-{}\".format(month)))>1\n",
    "    )"
   ]
  },
  {
   "cell_type": "code",
   "execution_count": null,
   "metadata": {
    "collapsed": true
   },
   "outputs": [],
   "source": []
  },
  {
   "cell_type": "code",
   "execution_count": null,
   "metadata": {
    "collapsed": false
   },
   "outputs": [],
   "source": [
    "weight_menages.sum(0)"
   ]
  },
  {
   "cell_type": "code",
   "execution_count": null,
   "metadata": {
    "collapsed": true
   },
   "outputs": [],
   "source": []
  },
  {
   "cell_type": "code",
   "execution_count": null,
   "metadata": {
    "collapsed": false
   },
   "outputs": [],
   "source": [
    "#monetary_gain.sum(0)/10**9"
   ]
  },
  {
   "cell_type": "markdown",
   "metadata": {},
   "source": [
    "#### Non compensated"
   ]
  },
  {
   "cell_type": "code",
   "execution_count": null,
   "metadata": {
    "collapsed": false,
    "scrolled": true
   },
   "outputs": [],
   "source": [
    "for month in range(1,13):\n",
    "    gain_u = (pd.Series(\n",
    "     survey_scenario.simulation.calculate(\"utility_ir_mensuel\", \"2009-{}\".format(month)) - \n",
    "survey_scenario.simulation.calculate(\"utility_ir_annuel\", \"2009-{}\".format(month))\n",
    "        ))\n",
    "    gain_m =  (\n",
    "        survey_scenario.simulation.calculate(\"inverted_utility_compensated_ir_mensuel\", \"2009-{}\".format(month)) - \n",
    "        survey_scenario.simulation.calculate(\"inverted_utility_ir_annuel\", \"2009-{}\".format(month)))\n",
    "    pd.DataFrame({'gain_utilite':gain_u, 'gain_argent':gain_m})\n",
    "    plt.figure()\n",
    "    pd.Series(gain_m)[gain_m!=0].hist(bins = 1500)\n",
    "    plt.xlim(-200,200)\n",
    "    plt.xlabel(\"equivalent monetary gains in euros \")\n",
    "    plt.ylabel('frequency')\n",
    "#TODO: problème sur les 3 derniers mois !"
   ]
  },
  {
   "cell_type": "code",
   "execution_count": null,
   "metadata": {
    "collapsed": true
   },
   "outputs": [],
   "source": [
    "u_monetary_gain_ir = np.zeros(weight_menages.shape[0])\n",
    "for month in range(1,10):\n",
    "    u_monetary_gain_ir += (\n",
    "    survey_scenario.simulation.calculate(\"inverted_utility_ir_mensuel\", \"2009-{}\".format(month)) - \n",
    "    survey_scenario.simulation.calculate(\"inverted_utility_ir_annuel\", \"2009-{}\".format(month))\n",
    "    )*weight_menages"
   ]
  },
  {
   "cell_type": "code",
   "execution_count": null,
   "metadata": {
    "collapsed": false
   },
   "outputs": [],
   "source": [
    "((u_monetary_gain_ir.sum(0)/10)*12)/10**9"
   ]
  },
  {
   "cell_type": "code",
   "execution_count": null,
   "metadata": {
    "collapsed": true
   },
   "outputs": [],
   "source": [
    "u_monetary_gain_ir = np.zeros(weight_menages.shape[0])\n",
    "for month in range(1,10):\n",
    "    u_monetary_gain_ir += np.mean(\n",
    "    (survey_scenario.simulation.calculate(\"inverted_utility_ir_mensuel\", \"2009-{}\".format(month)) - \n",
    "    survey_scenario.simulation.calculate(\"inverted_utility_ir_annuel\", \"2009-{}\".format(month)))*weight_menages\n",
    "    )"
   ]
  },
  {
   "cell_type": "code",
   "execution_count": null,
   "metadata": {
    "collapsed": false
   },
   "outputs": [],
   "source": [
    "((u_monetary_gain_ir.sum(0)/10)*12)/10**9"
   ]
  },
  {
   "cell_type": "code",
   "execution_count": null,
   "metadata": {
    "collapsed": true
   },
   "outputs": [],
   "source": [
    "u_monetary_gain_ir = np.zeros(weight_menages.shape[0])\n",
    "for month in range(1,12):\n",
    "    u_monetary_gain_ir += (\n",
    "    survey_scenario.simulation.calculate(\"inverted_utility_ir_mensuel\", \"2009-{}\".format(month)) - \n",
    "    survey_scenario.simulation.calculate(\"inverted_utility_ir_annuel\", \"2009-{}\".format(month))\n",
    "    )*weight_menages"
   ]
  },
  {
   "cell_type": "code",
   "execution_count": null,
   "metadata": {
    "collapsed": false
   },
   "outputs": [],
   "source": [
    "(u_monetary_gain_ir.sum(0))/10**9"
   ]
  },
  {
   "cell_type": "code",
   "execution_count": null,
   "metadata": {
    "collapsed": false
   },
   "outputs": [],
   "source": [
    "month = 6\n",
    "gain = pd.Series(survey_scenario.simulation.calculate(\"inverted_utility_ir_mensuel\", \"2009-{}\".format(month)) - \n",
    "    survey_scenario.simulation.calculate(\"inverted_utility_ir_annuel\", \"2009-{}\".format(month))\n",
    "    )\n",
    "mean_gain = gain[np.abs(gain)>1].mean()\n",
    "print('{} gain on average'.format(mean_gain))"
   ]
  },
  {
   "cell_type": "code",
   "execution_count": null,
   "metadata": {
    "collapsed": false
   },
   "outputs": [],
   "source": [
    "u_monetary_gain = np.zeros(weight_menages.shape[0])\n",
    "for month in range(1,10):\n",
    "    u_monetary_gain +=np.mean(\n",
    "        pd.Series(survey_scenario.simulation.calculate(\"inverted_utility_compensated_ir_mensuel\", \"2009-{}\".format(month)) - \n",
    "        survey_scenario.simulation.calculate(\"inverted_utility_ir_annuel\", \"2009-{}\".format(month)))\n",
    "               )\n",
    "(((u_monetary_gain_ir/10)*12)/10**9).mean()  "
   ]
  },
  {
   "cell_type": "markdown",
   "metadata": {},
   "source": [
    "#### mean monetary equivalent utility gain for each month"
   ]
  },
  {
   "cell_type": "code",
   "execution_count": null,
   "metadata": {
    "collapsed": false
   },
   "outputs": [],
   "source": [
    "u_money_gain = np.zeros(weight_menages.shape[0])\n",
    "mean_gain = np.zeros(1)\n",
    "for month in range(1,13):\n",
    "    u_money_gain = pd.Series(survey_scenario.simulation.calculate(\"inverted_utility_ir_mensuel\", \"2009-{}\".format(month)) - \n",
    "        survey_scenario.simulation.calculate(\"inverted_utility_ir_annuel\", \"2009-{}\".format(month))\n",
    "        )\n",
    "    mean_gain += (u_money_gain[np.abs(u_money_gain)>1]).mean()\n",
    "print('{} gain on average'.format(mean_gain[0]))"
   ]
  },
  {
   "cell_type": "code",
   "execution_count": null,
   "metadata": {
    "collapsed": false
   },
   "outputs": [],
   "source": [
    "#mean_gain = (u_gain[np.abs(u_gain)>1]).mean()"
   ]
  },
  {
   "cell_type": "markdown",
   "metadata": {},
   "source": [
    "#### mean monetary equivalent utility gain over the year"
   ]
  },
  {
   "cell_type": "code",
   "execution_count": null,
   "metadata": {
    "collapsed": false
   },
   "outputs": [],
   "source": [
    "u_annuelle = pd.Series(np.zeros(weight_menages.shape[0]))\n",
    "u_mensuelle = pd.Series(np.zeros(weight_menages.shape[0]))\n",
    "mean_gain = np.zeros(1)\n",
    "for month in range(1,13):\n",
    "    u_annuelle += pd.Series(\n",
    "        survey_scenario.simulation.calculate(\"utility_ir_annuel\", \"2009-{}\".format(month))\n",
    "        )\n",
    "    u_mensuelle += pd.Series(survey_scenario.simulation.calculate(\"utility_ir_mensuel\", \"2009-{}\".format(month)) \n",
    "        )\n",
    "eq_money_u_annuelle = np.exp((np.log(-u_annuelle))/-.87)\n",
    "eq_money_u_mensuelle = np.exp((np.log(-u_mensuelle))/-.87)\n",
    "impact_filter = (u_annuelle != u_mensuelle)\n",
    "\n",
    "print('{} gain on average'.format(eq_money_u_mensuelle.mean() - eq_money_u_annuelle.mean()))\n",
    "print('{} gain on average for concerned taxunits'.format(eq_money_u_mensuelle[impact_filter].mean() - eq_money_u_annuelle[impact_filter].mean()))"
   ]
  },
  {
   "cell_type": "markdown",
   "metadata": {},
   "source": [
    "#### Compensated"
   ]
  },
  {
   "cell_type": "code",
   "execution_count": null,
   "metadata": {
    "collapsed": false,
    "scrolled": true
   },
   "outputs": [],
   "source": [
    "for month in range(1,13):\n",
    "    gain_u = (pd.Series(\n",
    "     survey_scenario.simulation.calculate(\"utility_compensated_ir_mensuel\", \"2009-{}\".format(month)) - \n",
    "survey_scenario.simulation.calculate(\"utility_ir_annuel\", \"2009-{}\".format(month))\n",
    "        ))\n",
    "    gain_m =  (\n",
    "        survey_scenario.simulation.calculate(\"inverted_utility_compensated_ir_mensuel\", \"2009-{}\".format(month)) - \n",
    "        survey_scenario.simulation.calculate(\"inverted_utility_ir_annuel\", \"2009-{}\".format(month)))\n",
    "    pd.DataFrame({'gain_utilite':gain_u, 'gain_argent':gain_m})\n",
    "    plt.figure()\n",
    "    pd.Series(gain_m)[gain_m!=0].hist(bins = 1500)\n",
    "    plt.xlim(-200,200)\n",
    "    plt.xlabel(\"equivalent monetary gains in euros \")\n",
    "    plt.ylabel('frequency')\n",
    "#TODO: problème sur les 3 derniers mois !"
   ]
  },
  {
   "cell_type": "code",
   "execution_count": null,
   "metadata": {
    "collapsed": false
   },
   "outputs": [],
   "source": [
    "u_monetary_gain_ir = np.zeros(weight_menages.shape[0])\n",
    "for month in range(1,10):\n",
    "    u_monetary_gain_ir += (\n",
    "    survey_scenario.simulation.calculate(\"utility_compensated_ir_mensuel\", \"2009-{}\".format(month)) - \n",
    "    survey_scenario.simulation.calculate(\"inverted_utility_ir_annuel\", \"2009-{}\".format(month))\n",
    "    )*weight_menages"
   ]
  },
  {
   "cell_type": "code",
   "execution_count": null,
   "metadata": {
    "collapsed": false
   },
   "outputs": [],
   "source": [
    "((u_monetary_gain_ir.sum(0)/10)*12)/10**9"
   ]
  },
  {
   "cell_type": "code",
   "execution_count": null,
   "metadata": {
    "collapsed": true
   },
   "outputs": [],
   "source": [
    "u_monetary_gain_ir = np.zeros(weight_menages.shape[0])\n",
    "for month in range(1,10):\n",
    "    u_monetary_gain_ir += np.mean(\n",
    "    (survey_scenario.simulation.calculate(\"utility_compensated_ir_mensuel\", \"2009-{}\".format(month)) - \n",
    "    survey_scenario.simulation.calculate(\"inverted_utility_ir_annuel\", \"2009-{}\".format(month)))*weight_menages\n",
    "    )"
   ]
  },
  {
   "cell_type": "code",
   "execution_count": null,
   "metadata": {
    "collapsed": false
   },
   "outputs": [],
   "source": [
    "((u_monetary_gain_ir.sum(0)/10)*12)/10**9"
   ]
  },
  {
   "cell_type": "code",
   "execution_count": null,
   "metadata": {
    "collapsed": false
   },
   "outputs": [],
   "source": [
    "month = 7\n",
    "gain = pd.Series(survey_scenario.simulation.calculate(\"inverted_utility_compensated_ir_mensuel\", \"2009-{}\".format(month)) - \n",
    "    survey_scenario.simulation.calculate(\"inverted_utility_ir_annuel\", \"2009-{}\".format(month))\n",
    "    )\n",
    "mean_gain = gain[np.abs(gain)>1].mean()\n",
    "print('{} gain on average'.format(mean_gain))"
   ]
  },
  {
   "cell_type": "code",
   "execution_count": null,
   "metadata": {
    "collapsed": false
   },
   "outputs": [],
   "source": [
    "u_monetary_gain = np.zeros(weight_menages.shape[0])\n",
    "for month in range(1,10):\n",
    "    u_monetary_gain +=np.mean(\n",
    "        pd.Series(survey_scenario.simulation.calculate(\"inverted_utility_compensated_ir_mensuel\", \"2009-{}\".format(month)) - \n",
    "        survey_scenario.simulation.calculate(\"inverted_utility_ir_annuel\", \"2009-{}\".format(month)))\n",
    "               )\n",
    "(((u_monetary_gain_ir/10)*12)/10**9).mean()  "
   ]
  },
  {
   "cell_type": "code",
   "execution_count": null,
   "metadata": {
    "collapsed": true
   },
   "outputs": [],
   "source": []
  },
  {
   "cell_type": "markdown",
   "metadata": {},
   "source": [
    "#### mean monetary equivalent utility gain over the year"
   ]
  },
  {
   "cell_type": "code",
   "execution_count": null,
   "metadata": {
    "collapsed": false
   },
   "outputs": [],
   "source": [
    "u_annuelle = pd.Series(np.zeros(weight_menages.shape[0]))\n",
    "u_mensuelle = pd.Series(np.zeros(weight_menages.shape[0]))\n",
    "mean_gain = np.zeros(1)\n",
    "for month in range(1,13):\n",
    "    u_annuelle += pd.Series(\n",
    "        survey_scenario.simulation.calculate(\"utility_ir_annuel\", \"2009-{}\".format(month))\n",
    "        )\n",
    "    u_mensuelle += pd.Series(survey_scenario.simulation.calculate(\"utility_compensated_ir_mensuel\", \"2009-{}\".format(month)) \n",
    "        )\n",
    "eq_money_u_annuelle = np.exp((np.log(-u_annuelle))/-.87)\n",
    "eq_money_u_mensuelle = np.exp((np.log(-u_mensuelle))/-.87)\n",
    "impact_filter = (u_annuelle != u_mensuelle)\n",
    "\n",
    "print('{} gain on average'.format(eq_money_u_mensuelle.mean() - eq_money_u_annuelle.mean()))\n",
    "print('{} gain on average for concerned taxunits'.format(eq_money_u_mensuelle[impact_filter].mean() - eq_money_u_annuelle[impact_filter].mean()))\n"
   ]
  },
  {
   "cell_type": "code",
   "execution_count": null,
   "metadata": {
    "collapsed": false
   },
   "outputs": [],
   "source": [
    "u_annuelle = pd.Series(np.zeros(weight_menages.shape[0]))\n",
    "u_mensuelle = pd.Series(np.zeros(weight_menages.shape[0]))\n",
    "mean_gain = np.zeros(1)\n",
    "for month in range(1,13):\n",
    "    u_annuelle += pd.Series(\n",
    "        survey_scenario.simulation.calculate(\"utility_ir_annuel\", \"2009-{}\".format(month))\n",
    "        )\n",
    "    u_mensuelle += pd.Series(survey_scenario.simulation.calculate(\"utility_ir_mensuel_rsa_mensuel\", \"2009-{}\".format(month)) \n",
    "        )\n",
    "eq_money_u_annuelle = np.exp((np.log(-u_annuelle))/-.87)\n",
    "eq_money_u_mensuelle = np.exp((np.log(-u_mensuelle))/-.87)\n",
    "impact_filter = (u_annuelle != u_mensuelle)\n",
    "\n",
    "print('{} gain on average'.format(eq_money_u_mensuelle.mean() - eq_money_u_annuelle.mean()))\n",
    "print('{} gain on average for concerned taxunits'.format(eq_money_u_mensuelle[impact_filter].mean() - eq_money_u_annuelle[impact_filter].mean()))\n"
   ]
  },
  {
   "cell_type": "markdown",
   "metadata": {},
   "source": [
    "### RSA+IR"
   ]
  },
  {
   "cell_type": "code",
   "execution_count": null,
   "metadata": {
    "collapsed": false
   },
   "outputs": [],
   "source": [
    "for month in range(1,13):\n",
    "    gain_u = (pd.Series(\n",
    "     survey_scenario.simulation.calculate(\"utility_ir_mensuel_rsa_mensuel\", \"2009-{}\".format(month)) - \n",
    "survey_scenario.simulation.calculate(\"utility_ir_annuel\", \"2009-{}\".format(month))\n",
    "        ))\n",
    "    gain_m =  (\n",
    "        survey_scenario.simulation.calculate(\"inverted_utility_compenstaed_ir_mensuel_rsa_mensuel\", \"2009-{}\".format(month)) - \n",
    "        survey_scenario.simulation.calculate(\"inverted_utility_ir_annuel\", \"2009-{}\".format(month)))\n",
    "    pd.DataFrame({'gain_utilite':gain_u, 'gain_argent':gain_m})\n",
    "    plt.figure()\n",
    "    pd.Series(gain_m)[(gain_m!=0)&(np.abs(gain_m)<300)].hist(bins = 100)\n",
    "    #pd.Series(gain_m)[(gain_m!=0)].hist(bins = 1500)\n",
    "    print pd.Series(gain_m)[gain_m!=0].shape\n",
    "    plt.xlim(-300,300)\n",
    "    plt.xlabel(\"equivalent monetary gains in euros \")\n",
    "    plt.ylabel('frequency')\n",
    "#TODO: problème sur les 3 derniers mois !"
   ]
  },
  {
   "cell_type": "code",
   "execution_count": null,
   "metadata": {
    "collapsed": false
   },
   "outputs": [],
   "source": [
    "temp = pd.Series(gain_m)"
   ]
  },
  {
   "cell_type": "code",
   "execution_count": null,
   "metadata": {
    "collapsed": false
   },
   "outputs": [],
   "source": [
    "pd.Series(survey_scenario.simulation.calculate(\"inverted_utility_compenstaed_ir_mensuel_rsa_mensuel\", \"2009-{}\".format(month))).value_counts()"
   ]
  },
  {
   "cell_type": "code",
   "execution_count": null,
   "metadata": {
    "collapsed": false
   },
   "outputs": [],
   "source": [
    "pd.Series(survey_scenario.simulation.calculate(\"utility_compensated_ir_mensuel_rsa_mensuel\", \"2009-{}\".format(month))).value_counts()"
   ]
  },
  {
   "cell_type": "code",
   "execution_count": null,
   "metadata": {
    "collapsed": false
   },
   "outputs": [],
   "source": [
    "monetary_gain_ir_rsa = np.zeros(weight_menages.shape[0])\n",
    "for month in range(1,10):\n",
    "    monetary_gain_ir_rsa += (\n",
    "    survey_scenario.simulation.calculate(\"inverted_utility_compensated_ir_mensuel_rsa_mensuel\", \"2009-{}\".format(month)) - \n",
    "    survey_scenario.simulation.calculate(\"inverted_utility_ir_annuel\", \"2009-{}\".format(month))\n",
    "    )*weight_menages"
   ]
  },
  {
   "cell_type": "code",
   "execution_count": null,
   "metadata": {
    "collapsed": false
   },
   "outputs": [],
   "source": [
    "((monetary_gain_ir_rsa.sum(0)/10)*12)/10**9"
   ]
  },
  {
   "cell_type": "markdown",
   "metadata": {},
   "source": [
    "## Gains et perte passage à la retraite."
   ]
  },
  {
   "cell_type": "code",
   "execution_count": null,
   "metadata": {
    "collapsed": false
   },
   "outputs": [],
   "source": [
    "print survey_scenario.simulation.persons.simulation.entity_by_key_plural"
   ]
  },
  {
   "cell_type": "code",
   "execution_count": null,
   "metadata": {
    "collapsed": false
   },
   "outputs": [],
   "source": [
    "coucou.entity.simulation"
   ]
  },
  {
   "cell_type": "code",
   "execution_count": null,
   "metadata": {
    "collapsed": false
   },
   "outputs": [],
   "source": [
    "c = np.zeros(1)\n",
    "a = np.array([1,2,3])\n",
    "b = np.array([True,True,False])\n",
    "c += a[b]; c"
   ]
  },
  {
   "cell_type": "code",
   "execution_count": null,
   "metadata": {
    "collapsed": false,
    "scrolled": true
   },
   "outputs": [],
   "source": [
    "is_retired = np.zeros(weight_individus.shape[0])\n",
    "is_active = np.zeros(weight_individus.shape[0])\n",
    "is_inactive = np.zeros(weight_individus.shape[0])\n",
    "for month in range(1,13):\n",
    "    is_retired += survey_scenario.simulation.calculate(\"retraite_imposable\", \"2009-{}\".format(month))>0\n",
    "    is_active += survey_scenario.simulation.calculate(\"salaire_imposable\", \"2009-{}\".format(month))>0\n",
    "    is_inactive += (survey_scenario.simulation.calculate(\"salaire_imposable\", \"2009-{}\".format(month)) + survey_scenario.simulation.calculate(\"retraite_imposable\", \"2009-{}\".format(month))) == 0"
   ]
  },
  {
   "cell_type": "code",
   "execution_count": null,
   "metadata": {
    "collapsed": false
   },
   "outputs": [],
   "source": [
    "(pd.Series(is_retired + is_active + is_inactive).hist(bins= 12))"
   ]
  },
  {
   "cell_type": "code",
   "execution_count": null,
   "metadata": {
    "collapsed": false
   },
   "outputs": [],
   "source": [
    "is_retired = np.zeros(weight_individus.shape[0])\n",
    "is_active = np.zeros(weight_individus.shape[0])\n",
    "is_inactive = np.zeros(weight_individus.shape[0])\n",
    "is_retire_active = np.zeros(weight_individus.shape[0])\n",
    "\n",
    "for month in range(1,13):\n",
    "    retraite_imposable = survey_scenario.simulation.compute(\"retraite_imposable\", \"2009-{}\".format(month))\n",
    "    salaire_imposable = survey_scenario.simulation.compute(\"salaire_imposable\", \"2009-{}\".format(month))\n",
    "    is_retired += retraite_imposable.array >0\n",
    "    is_active += salaire_imposable.array > 0 \n",
    "    is_retire_active += (retraite_imposable.array >0) & (salaire_imposable.array > 0 )\n",
    "    is_inactive += (retraite_imposable.array == 0) & (salaire_imposable.array == 0 )\n",
    "    "
   ]
  },
  {
   "cell_type": "code",
   "execution_count": null,
   "metadata": {
    "collapsed": false
   },
   "outputs": [],
   "source": [
    "is_retire_is_active_not_retire_active = ((is_retire_active == 0)\n",
    "                                         & (is_active>0)\n",
    "                                         & (is_inactive >0)\n",
    "                                         )"
   ]
  },
  {
   "cell_type": "code",
   "execution_count": null,
   "metadata": {
    "collapsed": false
   },
   "outputs": [],
   "source": [
    "survey_scenario.simulation.tax_benefit_system.Variable.formula_class.sum_by_entity(retraite_imposable)"
   ]
  },
  {
   "cell_type": "code",
   "execution_count": null,
   "metadata": {
    "collapsed": false
   },
   "outputs": [],
   "source": [
    "survey_scenario.simulation.tax_benefit_system.Variable.formula_class.sum_by_entity('h')"
   ]
  },
  {
   "cell_type": "code",
   "execution_count": null,
   "metadata": {
    "collapsed": true
   },
   "outputs": [],
   "source": [
    " type(class_name.encode('utf-8'), (Reform.DatedVariable,), definitions_by_name)"
   ]
  },
  {
   "cell_type": "code",
   "execution_count": null,
   "metadata": {
    "collapsed": false
   },
   "outputs": [],
   "source": [
    "pd.Series(is_retire_is_active_not_retire_active).value_counts()"
   ]
  },
  {
   "cell_type": "code",
   "execution_count": null,
   "metadata": {
    "collapsed": false
   },
   "outputs": [],
   "source": [
    "(pd.Series(is_retired + is_active + is_inactive)).value_counts()"
   ]
  },
  {
   "cell_type": "code",
   "execution_count": null,
   "metadata": {
    "collapsed": false
   },
   "outputs": [],
   "source": [
    "passage_a_la_retraite = pd.Series(is_retired) & pd.Series(is_not_retired)"
   ]
  },
  {
   "cell_type": "code",
   "execution_count": null,
   "metadata": {
    "collapsed": true
   },
   "outputs": [],
   "source": []
  },
  {
   "cell_type": "markdown",
   "metadata": {},
   "source": [
    "## Revdisp over the year"
   ]
  },
  {
   "cell_type": "markdown",
   "metadata": {},
   "source": [
    "## Annual IR Basis"
   ]
  },
  {
   "cell_type": "code",
   "execution_count": null,
   "metadata": {
    "collapsed": false
   },
   "outputs": [],
   "source": [
    "revdisp_oy = pd.DataFrame()\n",
    "temp = pd.DataFrame()\n",
    "for month in range(1,13):\n",
    "    for var in ['salaire_imposable', 'chomage_imposable', 'pen_mensuel', 'psoc_mensuel', 'ppe']:\n",
    "        temp[var] = pd.Series(np.sum(survey_scenario.simulation.calculate(var, \"2009-{}\".format(month))))\n",
    "    temp['impo'] = pd.Series(np.sum(survey_scenario.simulation.calculate('impo', \"2009\".format(month))))/12\n",
    "    temp['rev_cap'] = pd.Series(np.sum(survey_scenario.simulation.calculate('rev_cap', \"2009\".format(month))))/12\n",
    "    revdisp_oy = revdisp_oy.append(temp, ignore_index=True)\n",
    "revdisp_oy.index = range(1,13)\n",
    "revdisp_oy"
   ]
  },
  {
   "cell_type": "markdown",
   "metadata": {},
   "source": [
    "#### With weight"
   ]
  },
  {
   "cell_type": "code",
   "execution_count": null,
   "metadata": {
    "collapsed": false
   },
   "outputs": [],
   "source": [
    "revdisp_oy = pd.DataFrame()\n",
    "temp = pd.DataFrame()\n",
    "for month in range(1,13):\n",
    "    for var in ['salaire_imposable', 'chomage_imposable', 'pen_mensuel',]:\n",
    "        temp[var] = pd.Series(np.sum(survey_scenario.simulation.calculate(var, \"2009-{}\".format(month))* weight_individus))\n",
    "    for var in ['psoc_mensuel']:\n",
    "        temp[var] = pd.Series(np.sum(survey_scenario.simulation.calculate(var, \"2009-{}\".format(month))* weight_familles))      \n",
    "    temp['impo'] = pd.Series(np.sum(survey_scenario.simulation.calculate('impo', \"2009\".format(month))* weight_menages))/12\n",
    "    temp['rev_cap'] = pd.Series(np.sum(survey_scenario.simulation.calculate('rev_cap', \"2009\".format(month))))/12\n",
    "    revdisp_oy = revdisp_oy.append(temp, ignore_index=True)\n",
    "    \n",
    "\n",
    "revdisp_oy.index = range(1,13)\n",
    "revdisp_oy/10**9"
   ]
  },
  {
   "cell_type": "code",
   "execution_count": null,
   "metadata": {
    "collapsed": false
   },
   "outputs": [],
   "source": [
    "print (revdisp_oy/10**9).to_latex()"
   ]
  },
  {
   "cell_type": "code",
   "execution_count": null,
   "metadata": {
    "collapsed": false
   },
   "outputs": [],
   "source": [
    "ax = revdisp_oy.plot(kind = 'bar', stacked = 'True',alpha = 0.6, figsize=(15,9) )\n",
    "#ax = fig.add_subplot(111)\n",
    "\n",
    "plt.hlines(0,-1,13, linestyles='dashed', linewidth = 3, alpha = 0.9)\n",
    "\n",
    "plt.xlabel(\"months\", fontsize = 15)\n",
    "plt.ylabel(\"euros\", fontsize = 15)\n",
    "plt.legend( bbox_to_anchor=(1, 0, 1, 1), loc=3,)\n",
    "plt.savefig(\"image_result_of_mensualisation/revdisp_ir_annual.png\")"
   ]
  },
  {
   "cell_type": "markdown",
   "metadata": {},
   "source": [
    "## Monthly Basis"
   ]
  },
  {
   "cell_type": "code",
   "execution_count": null,
   "metadata": {
    "collapsed": false
   },
   "outputs": [],
   "source": [
    "revdisp_oy = pd.DataFrame()\n",
    "temp = pd.DataFrame()\n",
    "for month in range(1,13):\n",
    "    for var in ['salaire_imposable', 'chomage_imposable', 'pen_mensuel', 'psoc_mensuel', 'ppe']:\n",
    "        temp[var] = pd.Series(np.sum(survey_scenario.simulation.calculate(var, \"2009-{}\".format(month))))\n",
    "    temp['impo_mensuel'] = pd.Series(np.sum(survey_scenario.simulation.calculate('impo_mensuel', \"2009-{}\".format(month))))\n",
    "    temp['rev_cap'] = pd.Series(np.sum(survey_scenario.simulation.calculate('rev_cap', \"2009\".format(month))))/12\n",
    "    revdisp_oy = revdisp_oy.append(temp, ignore_index=True)\n",
    "revdisp_oy.index = range(1,13)\n",
    "revdisp_oy"
   ]
  },
  {
   "cell_type": "markdown",
   "metadata": {},
   "source": [
    "### With weight"
   ]
  },
  {
   "cell_type": "code",
   "execution_count": null,
   "metadata": {
    "collapsed": false
   },
   "outputs": [],
   "source": [
    "revdisp_oy = pd.DataFrame()\n",
    "temp = pd.DataFrame()\n",
    "for month in range(1,13):\n",
    "    for var in ['salaire_imposable', 'chomage_imposable', 'pen_mensuel']:\n",
    "        temp[var] = pd.Series(np.sum(survey_scenario.simulation.calculate(var, \"2009-{}\".format(month))* weight_individus))\n",
    "    for var in ['psoc_mensuel']:\n",
    "        temp[var] = pd.Series(np.sum(survey_scenario.simulation.calculate(var, \"2009-{}\".format(month))* weight_familles))      \n",
    "    temp['impo_mensuel'] = pd.Series(np.sum(survey_scenario.simulation.calculate('impo_mensuel', \"2009-{}\".format(month))* weight_menages))\n",
    "    temp['rev_cap'] = pd.Series(np.sum(survey_scenario.simulation.calculate('rev_cap', \"2009\".format(month))*weight_individus))/12\n",
    "    revdisp_oy = revdisp_oy.append(temp, ignore_index=True)\n",
    "\n",
    "revdisp_oy.index = range(1,13)\n",
    "revdisp_oy/10**9"
   ]
  },
  {
   "cell_type": "code",
   "execution_count": null,
   "metadata": {
    "collapsed": false
   },
   "outputs": [],
   "source": [
    "ax = revdisp_oy.plot(kind = 'bar', stacked = 'True',alpha = 0.6, figsize=(15,9) )\n",
    "#ax = fig.add_subplot(111)\n",
    "\n",
    "plt.hlines(0,-1,13, linestyles='dashed', linewidth = 3, alpha = 0.9)\n",
    "\n",
    "plt.xlabel(\"months\", fontsize = 15)\n",
    "plt.ylabel(\"euros\", fontsize = 15)\n",
    "plt.legend( bbox_to_anchor=(1, 0, 1, 1), loc=3,)\n",
    "plt.savefig(\"image_result_of_mensualisation/revdisp_ir_monthly.png\")"
   ]
  },
  {
   "cell_type": "code",
   "execution_count": null,
   "metadata": {
    "collapsed": false
   },
   "outputs": [],
   "source": [
    "revdisp_oy['total'] = revdisp_oy.sum(1)\n",
    "print (revdisp_oy/10**9).to_latex()"
   ]
  },
  {
   "cell_type": "markdown",
   "metadata": {},
   "source": [
    "## Compensated Monthly Basis"
   ]
  },
  {
   "cell_type": "code",
   "execution_count": null,
   "metadata": {
    "collapsed": false
   },
   "outputs": [],
   "source": [
    "revdisp_oy = pd.DataFrame()\n",
    "temp = pd.DataFrame()\n",
    "for month in range(1,13):\n",
    "    for var in ['salaire_imposable', 'chomage_imposable', 'pen_mensuel', 'psoc_mensuel', 'ppe']:\n",
    "        temp[var] = pd.Series(np.sum(survey_scenario.simulation.calculate(var, \"2009-{}\".format(month))))\n",
    "    temp['impo_mensuel'] = pd.Series(np.sum(survey_scenario.simulation.calculate('compensated_impo_mensuel', \"2009-{}\".format(month))))\n",
    "    temp['rev_cap'] = pd.Series(np.sum(survey_scenario.simulation.calculate('rev_cap', \"2009\".format(month))))/12\n",
    "    revdisp_oy = revdisp_oy.append(temp, ignore_index=True)\n",
    "revdisp_oy.index = range(1,13)\n",
    "revdisp_oy"
   ]
  },
  {
   "cell_type": "markdown",
   "metadata": {},
   "source": [
    "### With weight"
   ]
  },
  {
   "cell_type": "code",
   "execution_count": null,
   "metadata": {
    "collapsed": true
   },
   "outputs": [],
   "source": []
  },
  {
   "cell_type": "code",
   "execution_count": null,
   "metadata": {
    "collapsed": false
   },
   "outputs": [],
   "source": [
    "revdisp_oy = pd.DataFrame()\n",
    "temp = pd.DataFrame()\n",
    "for month in range(1,13):\n",
    "    for var in ['salaire_imposable', 'chomage_imposable', 'pen_mensuel']:\n",
    "        temp[var] = pd.Series(np.sum(survey_scenario.simulation.calculate(var, \"2009-{}\".format(month))* weight_individus))\n",
    "    for var in ['psoc_mensuel']:\n",
    "        temp[var] = pd.Series(np.sum(survey_scenario.simulation.calculate(var, \"2009-{}\".format(month))* weight_familles))      \n",
    "    temp['impo_mensuel'] = pd.Series(np.sum(survey_scenario.simulation.calculate('compensated_impo_mensuel', \"2009-{}\".format(month))* weight_menages))\n",
    "    temp['rev_cap'] = pd.Series(np.sum(survey_scenario.simulation.calculate('rev_cap', \"2009\".format(month))*weight_individus))/12\n",
    "    revdisp_oy = revdisp_oy.append(temp, ignore_index=True)\n",
    "revdisp_oy.index = range(1,13)\n",
    "revdisp_oy/10**9"
   ]
  },
  {
   "cell_type": "code",
   "execution_count": null,
   "metadata": {
    "collapsed": false
   },
   "outputs": [],
   "source": [
    "ax = revdisp_oy.plot(kind = 'bar', stacked = 'True',alpha = 0.6, figsize=(15,9) )\n",
    "#ax = fig.add_subplot(111)\n",
    "\n",
    "plt.hlines(0,-1,13, linestyles='dashed', linewidth = 3, alpha = 0.9)\n",
    "\n",
    "plt.xlabel(\"months\", fontsize = 15)\n",
    "plt.ylabel(\"euros\", fontsize = 15)\n",
    "plt.legend( bbox_to_anchor=(1, 0, 1, 1), loc=3,)\n",
    "plt.savefig(\"image_result_of_mensualisation/revdisp_ir_comp_monthly.png\")"
   ]
  },
  {
   "cell_type": "code",
   "execution_count": null,
   "metadata": {
    "collapsed": false
   },
   "outputs": [],
   "source": [
    "revdisp_oy['total'] = revdisp_oy.sum(1)\n",
    "print (revdisp_oy/10**9).to_latex()"
   ]
  },
  {
   "cell_type": "markdown",
   "metadata": {},
   "source": [
    "## Compensated Rsa monthly"
   ]
  },
  {
   "cell_type": "code",
   "execution_count": null,
   "metadata": {
    "collapsed": false
   },
   "outputs": [],
   "source": [
    "revdisp_oy = pd.DataFrame()\n",
    "temp = pd.DataFrame()\n",
    "for month in range(1,13):\n",
    "    for var in ['salaire_imposable', 'chomage_imposable', 'pen_mensuel', 'psoc_mensuel_rsa_mensuel', 'ppe']:\n",
    "        temp[var] = pd.Series(np.sum(survey_scenario.simulation.calculate(var, \"2009-{}\".format(month))))\n",
    "    temp['impo_mensuel'] = pd.Series(np.sum(survey_scenario.simulation.calculate('compensated_impo_mensuel', \"2009-{}\".format(month))))\n",
    "    temp['rev_cap'] = pd.Series(np.sum(survey_scenario.simulation.calculate('rev_cap', \"2009\".format(month))))/12\n",
    "    revdisp_oy = revdisp_oy.append(temp, ignore_index=True)\n",
    "revdisp_oy.index = range(1,13)\n",
    "revdisp_oy"
   ]
  },
  {
   "cell_type": "markdown",
   "metadata": {},
   "source": [
    "### With weight"
   ]
  },
  {
   "cell_type": "code",
   "execution_count": null,
   "metadata": {
    "collapsed": false
   },
   "outputs": [],
   "source": [
    "revdisp_oy = pd.DataFrame()\n",
    "temp = pd.DataFrame()\n",
    "for month in range(1,13):\n",
    "    for var in ['salaire_imposable', 'chomage_imposable', 'pen_mensuel']:\n",
    "        temp[var] = pd.Series(np.sum(survey_scenario.simulation.calculate(var, \"2009-{}\".format(month))* weight_individus))\n",
    "    for var in ['psoc_mensuel_rsa_mensuel']:\n",
    "        temp[var] = pd.Series(np.sum(survey_scenario.simulation.calculate(var, \"2009-{}\".format(month))* weight_familles))      \n",
    "    temp['impo_mensuel'] = pd.Series(np.sum(survey_scenario.simulation.calculate('compensated_impo_mensuel', \"2009-{}\".format(month))* weight_menages))\n",
    "    temp['rev_cap'] = pd.Series(np.sum(survey_scenario.simulation.calculate('rev_cap', \"2009\".format(month))*weight_individus))/12\n",
    "    revdisp_oy = revdisp_oy.append(temp, ignore_index=True)\n",
    "revdisp_oy.index = range(1,13)\n",
    "revdisp_oy/10**9"
   ]
  },
  {
   "cell_type": "code",
   "execution_count": null,
   "metadata": {
    "collapsed": false
   },
   "outputs": [],
   "source": [
    "ax = revdisp_oy.plot(kind = 'bar', stacked = 'True',alpha = 0.6, figsize=(15,9) )\n",
    "#ax = fig.add_subplot(111)\n",
    "\n",
    "plt.hlines(0,-1,13, linestyles='dashed', linewidth = 3, alpha = 0.9)\n",
    "\n",
    "plt.xlabel(\"months\", fontsize = 15)\n",
    "plt.ylabel(\"euros\", fontsize = 15)\n",
    "plt.legend( bbox_to_anchor=(1, 0, 1, 1), loc=3,)\n",
    "plt.savefig(\"image_result_of_mensualisation/revdisp_rsa_ir_comp_monthly.png\")"
   ]
  },
  {
   "cell_type": "code",
   "execution_count": null,
   "metadata": {
    "collapsed": false
   },
   "outputs": [],
   "source": [
    "revdisp_oy['total'] = revdisp_oy.sum(1)\n",
    "print (revdisp_oy/10**9).to_latex()"
   ]
  },
  {
   "cell_type": "code",
   "execution_count": null,
   "metadata": {
    "collapsed": true
   },
   "outputs": [],
   "source": []
  },
  {
   "cell_type": "code",
   "execution_count": null,
   "metadata": {
    "collapsed": true
   },
   "outputs": [],
   "source": []
  },
  {
   "cell_type": "code",
   "execution_count": null,
   "metadata": {
    "collapsed": true
   },
   "outputs": [],
   "source": []
  },
  {
   "cell_type": "code",
   "execution_count": null,
   "metadata": {
    "collapsed": true
   },
   "outputs": [],
   "source": []
  },
  {
   "cell_type": "code",
   "execution_count": null,
   "metadata": {
    "collapsed": true
   },
   "outputs": [],
   "source": []
  },
  {
   "cell_type": "code",
   "execution_count": null,
   "metadata": {
    "collapsed": true
   },
   "outputs": [],
   "source": []
  },
  {
   "cell_type": "code",
   "execution_count": null,
   "metadata": {
    "collapsed": true
   },
   "outputs": [],
   "source": []
  },
  {
   "cell_type": "code",
   "execution_count": null,
   "metadata": {
    "collapsed": true
   },
   "outputs": [],
   "source": []
  },
  {
   "cell_type": "code",
   "execution_count": null,
   "metadata": {
    "collapsed": true
   },
   "outputs": [],
   "source": []
  },
  {
   "cell_type": "code",
   "execution_count": null,
   "metadata": {
    "collapsed": true
   },
   "outputs": [],
   "source": []
  },
  {
   "cell_type": "code",
   "execution_count": null,
   "metadata": {
    "collapsed": true
   },
   "outputs": [],
   "source": []
  },
  {
   "cell_type": "code",
   "execution_count": null,
   "metadata": {
    "collapsed": true
   },
   "outputs": [],
   "source": []
  },
  {
   "cell_type": "code",
   "execution_count": null,
   "metadata": {
    "collapsed": true
   },
   "outputs": [],
   "source": []
  },
  {
   "cell_type": "code",
   "execution_count": null,
   "metadata": {
    "collapsed": true
   },
   "outputs": [],
   "source": []
  },
  {
   "cell_type": "code",
   "execution_count": null,
   "metadata": {
    "collapsed": true
   },
   "outputs": [],
   "source": []
  },
  {
   "cell_type": "code",
   "execution_count": null,
   "metadata": {
    "collapsed": false
   },
   "outputs": [],
   "source": [
    "revdisp_oy = pd.DataFrame()\n",
    "temp = pd.DataFrame()\n",
    "for month in range(1,13):\n",
    "    for var in ['rev_trav_mensuel', 'pen_mensuel', 'chomage_imposable', 'pen_mensuel', 'ppe']:\n",
    "        temp[var] = pd.Series(np.sum(survey_scenario.simulation.calculate(var, \"2009-{}\".format(month))))\n",
    "    temp['psoc_mensuel'] = - pd.Series(np.sum(survey_scenario.simulation.calculate('psoc_mensuel', \"2009-{}\".format(month))))\n",
    "    temp['impo'] = pd.Series(np.sum(survey_scenario.simulation.calculate('impo', \"2009\".format(month))))/12\n",
    "    revdisp_oy = revdisp_oy.append(temp, ignore_index=True)\n",
    "revdisp_oy.index = range(1,13)\n",
    "revdisp_oy"
   ]
  },
  {
   "cell_type": "code",
   "execution_count": null,
   "metadata": {
    "collapsed": true
   },
   "outputs": [],
   "source": [
    "\n",
    "undecompsed_revdisp = pd.DataFrame()\n",
    "temp = pd.DataFrame()\n",
    "for month in range(1,13):\n",
    "    temp['revdisp_mensuel_annuel'] = pd.Series(np.sum(survey_scenario.simulation.calculate('revdisp_mensuel_annuel', \"2009-{}\".format(month))))\n",
    "    undecompsed_revdisp = undecompsed_revdisp.append(temp, ignore_index=True)\n",
    "    "
   ]
  },
  {
   "cell_type": "code",
   "execution_count": null,
   "metadata": {
    "collapsed": false
   },
   "outputs": [],
   "source": [
    "undecompsed_revdisp.index = range(1,13)"
   ]
  },
  {
   "cell_type": "code",
   "execution_count": null,
   "metadata": {
    "collapsed": false
   },
   "outputs": [],
   "source": [
    "df1 = pd.DataFrame({'revdisp_mensuel_annuel':revdisp_oy.sum(1).values}) \n",
    "df1.index = range(1,13)\n",
    "(df1 - undecompsed_revdisp)/10**9"
   ]
  },
  {
   "cell_type": "code",
   "execution_count": null,
   "metadata": {
    "collapsed": false
   },
   "outputs": [],
   "source": [
    "undecompsed_revdisp.index = np.arange(-0.5,11.5,1)"
   ]
  },
  {
   "cell_type": "code",
   "execution_count": null,
   "metadata": {
    "collapsed": false
   },
   "outputs": [],
   "source": [
    "undecompsed_revdisp.index = np.arange(-0.5,11.5, 1) #TODO: pouruoi une différence ?\n",
    "ax = revdisp_oy.plot(kind = 'bar', stacked = 'True',alpha = 0.2, figsize=(15,9) )\n",
    "#ax = fig.add_subplot(111)\n",
    "plt.bar(undecompsed_revdisp.index, undecompsed_revdisp.values, color = 'k', alpha = 0.4)\n",
    "plt.hlines(0,-1,13, linestyles='dashed', linewidth = 3, alpha = 0.5)\n",
    "\n",
    "plt.xlabel(\"months\", fontsize = 15)\n",
    "plt.ylabel(\"headcount\", fontsize = 15)\n",
    "plt.legend( bbox_to_anchor=(1, 0, 1, 1), loc=3,)"
   ]
  },
  {
   "cell_type": "code",
   "execution_count": null,
   "metadata": {
    "collapsed": false
   },
   "outputs": [],
   "source": [
    "undecompsed_revdisp.index = np.arange(-0.5,11.5, 1) #TODO: pouruoi une différence ?\n",
    "ax = revdisp_oy.plot(kind = 'bar', stacked = 'True',alpha = 0.6, figsize=(15,9) )\n",
    "#ax = fig.add_subplot(111)\n",
    "\n",
    "plt.hlines(0,-1,13, linestyles='dashed', linewidth = 3, alpha = 0.9)\n",
    "\n",
    "plt.xlabel(\"months\", fontsize = 15)\n",
    "plt.ylabel(\"headcount\", fontsize = 15)\n",
    "plt.legend( bbox_to_anchor=(1, 0, 1, 1), loc=3,)"
   ]
  },
  {
   "cell_type": "code",
   "execution_count": null,
   "metadata": {
    "collapsed": false
   },
   "outputs": [],
   "source": [
    "undecompsed_revdisp\n"
   ]
  },
  {
   "cell_type": "markdown",
   "metadata": {},
   "source": [
    "## Monthly IR basis "
   ]
  },
  {
   "cell_type": "code",
   "execution_count": null,
   "metadata": {
    "collapsed": false
   },
   "outputs": [],
   "source": [
    "revdisp_oy = pd.DataFrame()\n",
    "temp = pd.DataFrame()\n",
    "for month in range(1,13):\n",
    "    for var in ['salaire_imposable', 'chomage_imposable', 'pen_mensuel', 'psoc_mensuel', 'ppe', 'impo_mensuel']:\n",
    "        temp[var] = pd.Series(np.sum(survey_scenario.simulation.calculate(var, \"2009-{}\".format(month))))\n",
    "        temp['psoc_mensuel'] = - pd.Series(np.sum(survey_scenario.simulation.calculate('psoc_mensuel', \"2009-{}\".format(month))))\n",
    "    revdisp_oy = revdisp_oy.append(temp, ignore_index=True)\n",
    "revdisp_oy.index = range(1,13)\n",
    "revdisp_oy\n",
    "revdisp_oy.plot(kind = 'bar', stacked = 'True', figsize=(15,9) )\n",
    "plt.hlines(0,-1,13, linestyles='dashed', linewidth = 3, alpha = 0.5)\n",
    "plt.xlabel(\"months\", fontsize = 15)\n",
    "plt.ylabel(\"headcount\", fontsize = 15)\n",
    "plt.legend( loc=2)"
   ]
  },
  {
   "cell_type": "code",
   "execution_count": null,
   "metadata": {
    "collapsed": false
   },
   "outputs": [],
   "source": [
    "plt.close()\n",
    "plt.figure()"
   ]
  },
  {
   "cell_type": "markdown",
   "metadata": {},
   "source": [
    "#### With weight"
   ]
  },
  {
   "cell_type": "code",
   "execution_count": null,
   "metadata": {
    "collapsed": false
   },
   "outputs": [],
   "source": [
    "revdisp_oy = pd.DataFrame()\n",
    "temp = pd.DataFrame()\n",
    "for month in range(1,13):\n",
    "    for var in ['salaire_imposable', 'chomage_imposable', 'pen_mensuel']:\n",
    "        temp[var] = pd.Series(np.sum(survey_scenario.simulation.calculate(var, \"2009-{}\".format(month))* weight_individus))\n",
    "    for var in ['psoc_mensuel']:\n",
    "        temp[var] = pd.Series(np.sum(survey_scenario.simulation.calculate(var, \"2009-{}\".format(month))* weight_familles))      \n",
    "    temp['impo_mensuel'] = pd.Series(np.sum(survey_scenario.simulation.calculate('impo_mensuel', \"2009\".format(month))* weight_menages))/12\n",
    "    temp['rev_cap'] = pd.Series(np.sum(survey_scenario.simulation.calculate('rev_cap', \"2009\".format(month))*weight_individus))/12\n",
    "    revdisp_oy = revdisp_oy.append(temp, ignore_index=True)\n",
    "revdisp_oy.index = range(1,13)\n",
    "revdisp_oy.index = range(1,13)\n",
    "\n",
    "revdisp_oy.plot(kind = 'bar', stacked = 'True', figsize=(15,9) )\n",
    "plt.hlines(0,-1,13, linestyles='dashed', linewidth = 3, alpha = 0.5)\n",
    "plt.xlabel(\"months\", fontsize = 15)\n",
    "plt.ylabel(\"headcount\", fontsize = 15)\n",
    "plt.legend( loc=2)"
   ]
  },
  {
   "cell_type": "code",
   "execution_count": null,
   "metadata": {
    "collapsed": false
   },
   "outputs": [],
   "source": [
    "revdisp_oy = pd.DataFrame()\n",
    "temp = pd.DataFrame()\n",
    "for month in range(1,13):\n",
    "    for var in ['salaire_imposable', 'chomage_imposable', 'pen_mensuel']:\n",
    "        temp[var] = pd.Series(np.sum(survey_scenario.simulation.calculate(var, \"2009-{}\".format(month))* weight_individus))\n",
    "    for var in ['psoc_mensuel']:\n",
    "        temp[var] = pd.Series(np.sum(survey_scenario.simulation.calculate(var, \"2009-{}\".format(month))* weight_familles))      \n",
    "    temp['impo_mensuel'] = pd.Series(np.sum(survey_scenario.simulation.calculate('impo', \"2009\".format(month))* weight_menages))/12\n",
    "    temp['rev_cap'] = pd.Series(np.sum(survey_scenario.simulation.calculate('rev_cap', \"2009\".format(month))))/12\n",
    "    revdisp_oy = revdisp_oy.append(temp, ignore_index=True)\n",
    "revdisp_oy.index = range(1,13)\n",
    "revdisp_oy/10**9"
   ]
  },
  {
   "cell_type": "code",
   "execution_count": null,
   "metadata": {
    "collapsed": false
   },
   "outputs": [],
   "source": [
    "revdisp_oy.index = range(1,13)\n",
    "revdisp_oy.index = range(1,13)\n",
    "\n",
    "revdisp_oy.plot(kind = 'bar', stacked = 'True', figsize=(15,9) )\n",
    "plt.hlines(0,-1,13, linestyles='dashed', linewidth = 3, alpha = 0.5)\n",
    "plt.xlabel(\"months\", fontsize = 15)\n",
    "plt.ylabel(\"headcount\", fontsize = 15)\n",
    "plt.legend( loc=2)"
   ]
  },
  {
   "cell_type": "code",
   "execution_count": null,
   "metadata": {
    "collapsed": false
   },
   "outputs": [],
   "source": [
    "revdisp_oy/10**9"
   ]
  },
  {
   "cell_type": "code",
   "execution_count": null,
   "metadata": {
    "collapsed": false
   },
   "outputs": [],
   "source": [
    "print (revdisp_oy/10**9).to_latex()"
   ]
  },
  {
   "cell_type": "code",
   "execution_count": null,
   "metadata": {
    "collapsed": true
   },
   "outputs": [],
   "source": []
  },
  {
   "cell_type": "code",
   "execution_count": null,
   "metadata": {
    "collapsed": true
   },
   "outputs": [],
   "source": []
  },
  {
   "cell_type": "code",
   "execution_count": null,
   "metadata": {
    "collapsed": true
   },
   "outputs": [],
   "source": []
  },
  {
   "cell_type": "markdown",
   "metadata": {},
   "source": [
    "## Monthly IR compensated"
   ]
  },
  {
   "cell_type": "code",
   "execution_count": null,
   "metadata": {
    "collapsed": false
   },
   "outputs": [],
   "source": [
    "revdisp_oy = pd.DataFrame()\n",
    "temp = pd.DataFrame()\n",
    "for month in range(1,13):\n",
    "    for var in ['salaire_imposable', 'chomage_imposable', 'pen_mensuel', 'psoc_mensuel', 'ppe', 'compensated_impo_mensuel']:\n",
    "        temp[var] = pd.Series(np.sum(survey_scenario.simulation.calculate(var, \"2009-{}\".format(month))))\n",
    "    revdisp_oy = revdisp_oy.append(temp, ignore_index=True)\n",
    "revdisp_oy.index = range(1,13)\n",
    "revdisp_oy\n",
    "revdisp_oy.plot(kind = 'bar', stacked = 'True', figsize=(15,9) )\n",
    "plt.xlabel(\"months\", fontsize = 15)\n",
    "plt.ylabel(\"headcount\", fontsize = 15)\n",
    "plt.legend( loc=2)"
   ]
  },
  {
   "cell_type": "code",
   "execution_count": null,
   "metadata": {
    "collapsed": true
   },
   "outputs": [],
   "source": []
  },
  {
   "cell_type": "code",
   "execution_count": null,
   "metadata": {
    "collapsed": false
   },
   "outputs": [],
   "source": [
    "revdisp_oy = pd.DataFrame()\n",
    "for month in range(1,13):\n",
    "    revdisp_oy['{}'.format(month)] = pd.Series(survey_scenario.simulation.calculate(\"rev_trav_mensuel\", \"2009-{}\".format(month)))"
   ]
  },
  {
   "cell_type": "code",
   "execution_count": null,
   "metadata": {
    "collapsed": false
   },
   "outputs": [],
   "source": [
    "'a'"
   ]
  },
  {
   "cell_type": "code",
   "execution_count": null,
   "metadata": {
    "collapsed": false
   },
   "outputs": [],
   "source": [
    "revdisp_oy.sum(0).plot(kind = 'bar', color = 'b')"
   ]
  },
  {
   "cell_type": "markdown",
   "metadata": {},
   "source": [
    "#### By income type"
   ]
  },
  {
   "cell_type": "code",
   "execution_count": null,
   "metadata": {
    "collapsed": false
   },
   "outputs": [],
   "source": [
    "revdisp_oy = pd.DataFrame()\n",
    "for month in range(1,13):\n",
    "    revdisp_oy['{}'.format(month)] = pd.Series(survey_scenario.simulation.calculate(\"salaire_imposable\", \"2009-{}\".format(month)))\n",
    "\n",
    "revdisp_oy.sum(0).plot(kind = 'bar')\n",
    "plt.ylim(8*10**7)\n"
   ]
  },
  {
   "cell_type": "code",
   "execution_count": null,
   "metadata": {
    "collapsed": false
   },
   "outputs": [],
   "source": [
    "revdisp_oy = pd.DataFrame()\n",
    "for month in range(1,13):\n",
    "    revdisp_oy['{}'.format(month)] = pd.Series(survey_scenario.simulation.calculate(\"pen_mensuel\", \"2009-{}\".format(month)))\n",
    "\n",
    "revdisp_oy.sum(0).plot(kind = 'bar')\n"
   ]
  },
  {
   "cell_type": "code",
   "execution_count": null,
   "metadata": {
    "collapsed": false
   },
   "outputs": [],
   "source": [
    "revdisp_oy = pd.DataFrame()\n",
    "for month in range(1,13):\n",
    "    revdisp_oy['{}'.format(month)] = pd.Series(survey_scenario.simulation.calculate(\"psoc_mensuel\", \"2009-{}\".format(month)))\n",
    "\n",
    "revdisp_oy.sum(0).plot(kind = 'bar')\n"
   ]
  },
  {
   "cell_type": "code",
   "execution_count": null,
   "metadata": {
    "collapsed": false
   },
   "outputs": [],
   "source": [
    "revdisp_oy = pd.DataFrame()\n",
    "for month in range(1,13):\n",
    "    revdisp_oy['{}'.format(month)] = pd.Series(survey_scenario.simulation.calculate(\"ppe\", \"2009-{}\".format(month)))\n",
    "\n",
    "revdisp_oy.sum(0).plot(kind = 'bar')\n"
   ]
  },
  {
   "cell_type": "code",
   "execution_count": null,
   "metadata": {
    "collapsed": false
   },
   "outputs": [],
   "source": [
    "revdisp_oy = pd.DataFrame()\n",
    "for month in range(1,13):\n",
    "    revdisp_oy['{}'.format(month)] = pd.Series(survey_scenario.simulation.calculate(\"impo_mensuel\", \"2009-{}\".format(month)))\n",
    "\n",
    "revdisp_oy.sum(0).plot(kind = 'bar')\n"
   ]
  },
  {
   "cell_type": "code",
   "execution_count": null,
   "metadata": {
    "collapsed": false
   },
   "outputs": [],
   "source": [
    "revdisp_oy = pd.DataFrame()\n",
    "for month in range(1,13):\n",
    "    revdisp_oy['{}'.format(month)] = pd.Series(survey_scenario.simulation.calculate(\"retraite_imposable\", \"2009-{}\".format(month)))\n",
    "\n",
    "revdisp_oy.sum(0).plot(kind = 'bar')\n"
   ]
  },
  {
   "cell_type": "code",
   "execution_count": null,
   "metadata": {
    "collapsed": false
   },
   "outputs": [],
   "source": [
    "survey_scenario.simulation.calculate(\"retraite_imposable\", \"2009-{}\".format(month))"
   ]
  },
  {
   "cell_type": "markdown",
   "metadata": {},
   "source": [
    "# END"
   ]
  },
  {
   "cell_type": "markdown",
   "metadata": {},
   "source": [
    "### Taux d'intérêt"
   ]
  },
  {
   "cell_type": "code",
   "execution_count": null,
   "metadata": {
    "collapsed": false
   },
   "outputs": [],
   "source": [
    "def revdisp_tx(var = None, taux = None):\n",
    "    revdisp_i = 0\n",
    "    for month in range(0,12):\n",
    "        monthly_taux = ((1+taux)**(1/12)) \n",
    "        revdisp_i += (\n",
    "            survey_scenario.simulation.calculate(var, survey_scenario.simulation.period.offset(month, 'month').this_month) \n",
    "            / (monthly_taux)**month \n",
    "                      )\n",
    "    return revdisp_i\n"
   ]
  },
  {
   "cell_type": "code",
   "execution_count": null,
   "metadata": {
    "collapsed": false
   },
   "outputs": [],
   "source": [
    "revdisp_tx('revdisp_mensuel_ir_mensuel', 1.6)"
   ]
  },
  {
   "cell_type": "code",
   "execution_count": null,
   "metadata": {
    "collapsed": false
   },
   "outputs": [],
   "source": [
    "survey_scenario.simulation.period.offset(2, 'month').this_month"
   ]
  }
 ],
 "metadata": {
  "kernelspec": {
   "display_name": "Python 2",
   "language": "python",
   "name": "python2"
  },
  "language_info": {
   "codemirror_mode": {
    "name": "ipython",
    "version": 2
   },
   "file_extension": ".py",
   "mimetype": "text/x-python",
   "name": "python",
   "nbconvert_exporter": "python",
   "pygments_lexer": "ipython2",
   "version": "2.7.10"
  },
  "toc": {
   "toc_cell": true,
   "toc_number_sections": true,
   "toc_threshold": 4,
   "toc_window_display": true
  },
  "toc_position": {
   "left": "2867.02px",
   "right": "20px",
   "top": "88px",
   "width": "300px"
  }
 },
 "nbformat": 4,
 "nbformat_minor": 0
}
