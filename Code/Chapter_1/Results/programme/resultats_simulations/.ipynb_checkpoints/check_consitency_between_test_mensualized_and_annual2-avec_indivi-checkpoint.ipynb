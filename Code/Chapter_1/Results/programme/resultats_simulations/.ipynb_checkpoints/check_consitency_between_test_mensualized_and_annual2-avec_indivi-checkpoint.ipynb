{
 "cells": [
  {
   "cell_type": "code",
   "execution_count": 1,
   "metadata": {
    "collapsed": false
   },
   "outputs": [
    {
     "name": "stdout",
     "output_type": "stream",
     "text": [
      "---This notebook have been runed with--- \n",
      "Openfisca-france : f667d205fac835e41ef3feaaf251ab0cd1df75b7 \n",
      "\n",
      "Commit short SHA: f667d\n",
      "Branch:  heads/remotes/openfisca/master\n",
      "Date (y/m/d): 2016-02-24 16:12:06  \n",
      "\n",
      "Openfisca-core : 4076f591f4bcb571391b65a989e1603fdc4cb759  Date: 2016-02-24 16:11:57 \n",
      "Openfisca-france-data : 17cbc089c43399b7f3e5ecb5078386f17b8db262  Date: 2016-03-01 12:45:33 \n",
      "OpenFisca-Aggregates : 79715d009b35180d9cfd542fee778042ea950d55  Date: 2016-02-15 17:42:07 \n"
     ]
    }
   ],
   "source": [
    "import git  #Requires Gitpython installed, to install do \"$ pip install Gitpython\" in your terminal\n",
    "import pkg_resources\n",
    "openfisca_france_location = pkg_resources.get_distribution('openfisca-france').location\n",
    "repo = git.Repo(openfisca_france_location)\n",
    "repo.git.status()\n",
    "\n",
    "sha = repo.head.object.hexsha\n",
    "\n",
    "print \"---This notebook have been runed with--- \\n\",\"Openfisca-france :\", repo.head.object.hexsha, '\\n' \n",
    "print \"Commit short SHA:\", repo.git.rev_parse(sha, short=4)\n",
    "print \"Branch: \", repo.git.rev_parse('--abbrev-ref', \"HEAD\") #equivalent to: $git rev-parse --abbrev-ref HEAD\n",
    "print \"Date (y/m/d):\", repo.git.show(\"-s\", '--format=%ci', 'HEAD^')[:-5],\"\\n\"  # equivalent to: $git show -s --format=%ci HEAD^\n",
    "\n",
    "print \"Openfisca-core :\", git.Repo(pkg_resources.get_distribution('openfisca-core').location).head.object.hexsha, ' Date:', git.Repo(pkg_resources.get_distribution('openfisca-core').location).git.show(\"-s\", '--format=%ci', 'HEAD^')[:-5]\n",
    "print \"Openfisca-france-data :\", git.Repo(pkg_resources.get_distribution('openfisca-france-data').location).head.object.hexsha, ' Date:', git.Repo(pkg_resources.get_distribution('openfisca-france-data').location).git.show(\"-s\", '--format=%ci', 'HEAD^')[:-5]\n",
    "print \"OpenFisca-Aggregates :\", git.Repo(pkg_resources.get_distribution('OpenFisca-Aggregates').location).head.object.hexsha, ' Date:', git.Repo(pkg_resources.get_distribution('OpenFisca-Aggregates').location).git.show(\"-s\", '--format=%ci', 'HEAD^')[:-5]"
   ]
  },
  {
   "cell_type": "code",
   "execution_count": 2,
   "metadata": {
    "collapsed": false
   },
   "outputs": [],
   "source": [
    "%matplotlib inline\n",
    "from __future__ import division\n",
    "\n",
    "import matplotlib.pyplot as plt\n",
    "\n",
    "from openfisca_core import periods\n",
    "\n",
    "\n",
    "\n",
    "from openfisca_plugin_aggregates.tests.test_aggregates import create_survey_scenario as annual_create_survey_scenario\n",
    "from openfisca_plugin_aggregates.tests.test_monthly_aggregates import create_survey_scenario as monthly_create_survey_scenario\n",
    "\n",
    "\n",
    "import pandas as pd\n",
    "\n",
    "import numpy as np\n",
    "from numpy import (datetime64, logical_and as and_, logical_not as not_, logical_or as or_, logical_xor as xor_,\n",
    "maximum as max_, minimum as min_, round)\n",
    "\n",
    "\n",
    "#Faire des filtres pour Mahdi survey_scenario.create_data_frame_by_entity_key_plural\n",
    "\n",
    "pd.set_option('expand_frame_repr', False)  #utile quand on utilise pandas en mode console\n",
    "pd.set_option(\"display.max_rows\",201)\n",
    "pd.set_option(\"display.max_columns\",201)"
   ]
  },
  {
   "cell_type": "code",
   "execution_count": 3,
   "metadata": {
    "collapsed": true
   },
   "outputs": [],
   "source": [
    "period = periods.period(2009)"
   ]
  },
  {
   "cell_type": "code",
   "execution_count": 4,
   "metadata": {
    "collapsed": false
   },
   "outputs": [
    {
     "data": {
      "text/plain": [
       "<openfisca_core.simulations.Simulation at 0x108dbc6d0>"
      ]
     },
     "execution_count": 4,
     "metadata": {},
     "output_type": "execute_result"
    }
   ],
   "source": [
    "annual_survey_scenario = annual_create_survey_scenario(2009)\n",
    "annual_survey_scenario.new_simulation()"
   ]
  },
  {
   "cell_type": "code",
   "execution_count": 5,
   "metadata": {
    "collapsed": false
   },
   "outputs": [
    {
     "name": "stdout",
     "output_type": "stream",
     "text": [
      "2009-11\n",
      "2009-02\n",
      "2009\n",
      "2009-04\n",
      "2009-10\n",
      "2009-01\n",
      "2009-06\n",
      "2009-07\n",
      "2009-12\n",
      "2009-03\n",
      "2009-08\n",
      "2009-09\n",
      "2009-05\n"
     ]
    },
    {
     "data": {
      "text/plain": [
       "<openfisca_core.simulations.Simulation at 0x10f8060d0>"
      ]
     },
     "execution_count": 5,
     "metadata": {},
     "output_type": "execute_result"
    }
   ],
   "source": [
    "monthly_survey_scenario = monthly_create_survey_scenario(2009)\n",
    "monthly_survey_scenario.new_simulation()"
   ]
  },
  {
   "cell_type": "markdown",
   "metadata": {},
   "source": [
    "### IRPP censé être égaux, chercher l'erreur"
   ]
  },
  {
   "cell_type": "code",
   "execution_count": 6,
   "metadata": {
    "collapsed": false
   },
   "outputs": [
    {
     "name": "stdout",
     "output_type": "stream",
     "text": [
      "-48038862065.7\n",
      "-48038958442.0\n"
     ]
    },
    {
     "data": {
      "text/plain": [
       "-9.6376301544189453e-05"
      ]
     },
     "execution_count": 6,
     "metadata": {},
     "output_type": "execute_result"
    }
   ],
   "source": [
    "assert monthly_survey_scenario.simulation.calculate('irpp').shape == annual_survey_scenario.simulation.calculate('irpp').shape\n",
    "print monthly_survey_scenario.compute_aggregate('irpp')\n",
    "print annual_survey_scenario.compute_aggregate('irpp')\n",
    "(annual_survey_scenario.compute_aggregate('irpp')-monthly_survey_scenario.compute_aggregate('irpp'))/10**9"
   ]
  },
  {
   "cell_type": "code",
   "execution_count": 7,
   "metadata": {
    "collapsed": false
   },
   "outputs": [
    {
     "name": "stdout",
     "output_type": "stream",
     "text": [
      "552.977876958\n",
      "552.97787683\n"
     ]
    }
   ],
   "source": [
    "print monthly_survey_scenario.compute_aggregate(\"salaire_imposable\")/10**9\n",
    "print annual_survey_scenario.compute_aggregate(\"salaire_imposable\")/10**9"
   ]
  },
  {
   "cell_type": "code",
   "execution_count": 8,
   "metadata": {
    "collapsed": false
   },
   "outputs": [
    {
     "name": "stdout",
     "output_type": "stream",
     "text": [
      "27.5220450404\n",
      "27.522045019\n"
     ]
    }
   ],
   "source": [
    "print monthly_survey_scenario.compute_aggregate(\"chomage_imposable\")/10**9\n",
    "print annual_survey_scenario.compute_aggregate(\"chomage_imposable\")/10**9"
   ]
  },
  {
   "cell_type": "code",
   "execution_count": 9,
   "metadata": {
    "collapsed": false
   },
   "outputs": [
    {
     "name": "stdout",
     "output_type": "stream",
     "text": [
      "4.75457e+07\n",
      "4.75457e+07\n"
     ]
    }
   ],
   "source": [
    "print monthly_survey_scenario.simulation.calculate(\"chomage_imposable\").sum()\n",
    "print annual_survey_scenario.simulation.calculate(\"chomage_imposable\").sum()"
   ]
  },
  {
   "cell_type": "code",
   "execution_count": 10,
   "metadata": {
    "collapsed": false
   },
   "outputs": [
    {
     "name": "stdout",
     "output_type": "stream",
     "text": [
      "(112359,)\n",
      "(112359,)\n"
     ]
    }
   ],
   "source": [
    "print monthly_survey_scenario.simulation.calculate(\"chomage_imposable\").shape\n",
    "print annual_survey_scenario.simulation.calculate(\"chomage_imposable\").shape"
   ]
  },
  {
   "cell_type": "code",
   "execution_count": 11,
   "metadata": {
    "collapsed": false
   },
   "outputs": [
    {
     "data": {
      "text/plain": [
       "<matplotlib.axes._subplots.AxesSubplot at 0x11eb54350>"
      ]
     },
     "execution_count": 11,
     "metadata": {},
     "output_type": "execute_result"
    },
    {
     "data": {
      "image/png": "[encoded data removed]",
      "text/plain": [
       "<matplotlib.figure.Figure at 0x12deedf50>"
      ]
     },
     "metadata": {},
     "output_type": "display_data"
    }
   ],
   "source": [
    "pd.Series(annual_survey_scenario.simulation.calculate(\"chomage_imposable\"))[\n",
    "    pd.Series(annual_survey_scenario.simulation.calculate(\"chomage_imposable\"))>10].hist(bins = 100)"
   ]
  },
  {
   "cell_type": "code",
   "execution_count": 20,
   "metadata": {
    "collapsed": false
   },
   "outputs": [
    {
     "data": {
      "text/plain": [
       "<matplotlib.axes._subplots.AxesSubplot at 0x12fb01110>"
      ]
     },
     "execution_count": 20,
     "metadata": {},
     "output_type": "execute_result"
    },
    {
     "data": {
      "image/png": "[encoded data removed]",
      "text/plain": [
       "<matplotlib.figure.Figure at 0x12fb01590>"
      ]
     },
     "metadata": {},
     "output_type": "display_data"
    }
   ],
   "source": [
    "pd.Series(monthly_survey_scenario.simulation.calculate(\"chomage_imposable\"))[\n",
    "    pd.Series(monthly_survey_scenario.simulation.calculate(\"chomage_imposable\"))>10].hist(bins = 100)"
   ]
  },
  {
   "cell_type": "code",
   "execution_count": 26,
   "metadata": {
    "collapsed": false
   },
   "outputs": [
    {
     "data": {
      "image/png": "[encoded data removed]",
      "text/plain": [
       "<matplotlib.figure.Figure at 0x14bc90f90>"
      ]
     },
     "metadata": {},
     "output_type": "display_data"
    },
    {
     "data": {
      "image/png": "[encoded data removed]",
      "text/plain": [
       "<matplotlib.figure.Figure at 0x14bc83bd0>"
      ]
     },
     "metadata": {},
     "output_type": "display_data"
    },
    {
     "data": {
      "image/png": "[encoded data removed]",
      "text/plain": [
       "<matplotlib.figure.Figure at 0x135364590>"
      ]
     },
     "metadata": {},
     "output_type": "display_data"
    },
    {
     "data": {
      "image/png": "[encoded data removed]",
      "text/plain": [
       "<matplotlib.figure.Figure at 0x134c3fc50>"
      ]
     },
     "metadata": {},
     "output_type": "display_data"
    },
    {
     "data": {
      "image/png": "[encoded data removed]",
      "text/plain": [
       "<matplotlib.figure.Figure at 0x1355aebd0>"
      ]
     },
     "metadata": {},
     "output_type": "display_data"
    },
    {
     "data": {
      "image/png": "[encoded data removed]",
      "text/plain": [
       "<matplotlib.figure.Figure at 0x14bdcf210>"
      ]
     },
     "metadata": {},
     "output_type": "display_data"
    },
    {
     "data": {
      "image/png": "[encoded data removed]",
      "text/plain": [
       "<matplotlib.figure.Figure at 0x13562fed0>"
      ]
     },
     "metadata": {},
     "output_type": "display_data"
    },
    {
     "data": {
      "image/png": "[encoded data removed]",
      "text/plain": [
       "<matplotlib.figure.Figure at 0x14b620f90>"
      ]
     },
     "metadata": {},
     "output_type": "display_data"
    },
    {
     "data": {
      "image/png": "[encoded data removed]",
      "text/plain": [
       "<matplotlib.figure.Figure at 0x135421a10>"
      ]
     },
     "metadata": {},
     "output_type": "display_data"
    },
    {
     "data": {
      "image/png": "[encoded data removed]",
      "text/plain": [
       "<matplotlib.figure.Figure at 0x14525bf10>"
      ]
     },
     "metadata": {},
     "output_type": "display_data"
    },
    {
     "data": {
      "image/png": "[encoded data removed]",
      "text/plain": [
       "<matplotlib.figure.Figure at 0x14ad62ed0>"
      ]
     },
     "metadata": {},
     "output_type": "display_data"
    },
    {
     "data": {
      "image/png": "[encoded data removed]",
      "text/plain": [
       "<matplotlib.figure.Figure at 0x1450740d0>"
      ]
     },
     "metadata": {},
     "output_type": "display_data"
    },
    {
     "data": {
      "text/plain": [
       "<matplotlib.figure.Figure at 0x144ef4b50>"
      ]
     },
     "metadata": {},
     "output_type": "display_data"
    }
   ],
   "source": [
    "for month in range(1,13):\n",
    "    pd.Series(monthly_survey_scenario.simulation.calculate(\"chomage_imposable\", period = \"2009-{}\".format(month)))[\n",
    "        pd.Series(monthly_survey_scenario.simulation.calculate(\"chomage_imposable\", period = \"2009-{}\".format(month)))>10].hist(bins = 100)\n",
    "    plt.figure()"
   ]
  },
  {
   "cell_type": "code",
   "execution_count": 9,
   "metadata": {
    "collapsed": false
   },
   "outputs": [
    {
     "name": "stdout",
     "output_type": "stream",
     "text": [
      "nan\n",
      "224.870536783\n"
     ]
    }
   ],
   "source": [
    "print monthly_survey_scenario.compute_aggregate(\"retraite_imposable\")/10**9\n",
    "print annual_survey_scenario.compute_aggregate(\"retraite_imposable\")/10**9"
   ]
  },
  {
   "cell_type": "code",
   "execution_count": 12,
   "metadata": {
    "collapsed": false
   },
   "outputs": [
    {
     "data": {
      "text/plain": [
       "0.000000e+00    112244\n",
       "inf                111\n",
       "7.912200e+04         1\n",
       "3.857700e+04         1\n",
       "1.908000e+03         1\n",
       "2.919800e+04         1\n",
       "dtype: int64"
      ]
     },
     "execution_count": 12,
     "metadata": {},
     "output_type": "execute_result"
    }
   ],
   "source": [
    "pd.Series(monthly_survey_scenario.simulation.calculate(\"retraite_imposable\")).value_counts()"
   ]
  },
  {
   "cell_type": "code",
   "execution_count": 20,
   "metadata": {
    "collapsed": false
   },
   "outputs": [
    {
     "name": "stdout",
     "output_type": "stream",
     "text": [
      "charges_deduc\n",
      "charges_deduc annuelle  9534574078.75\n",
      "0.0\n",
      "csg_deduc\n",
      "csg_deduc annuelle  1808067710.5\n",
      "0.840435307658\n",
      "rbg\n",
      "rbg annuelle  765980694486.0\n",
      "237.896575704\n"
     ]
    }
   ],
   "source": [
    "variable = ['charges_deduc', 'csg_deduc', 'rbg']\n",
    "for var in variable:\n",
    "    print var\n",
    "    print var + \" annuelle \", annual_survey_scenario.compute_aggregate(var)\n",
    "    print (annual_survey_scenario.compute_aggregate(var)-monthly_survey_scenario.compute_aggregate(var))/10**9"
   ]
  },
  {
   "cell_type": "markdown",
   "metadata": {
    "collapsed": true
   },
   "source": [
    "## Il y a une perte de revenu dans la moulinette"
   ]
  },
  {
   "cell_type": "code",
   "execution_count": 8,
   "metadata": {
    "collapsed": false
   },
   "outputs": [
    {
     "name": "stdout",
     "output_type": "stream",
     "text": [
      "deficit_ante\n",
      "1004060900.0\n",
      "0.0\n",
      "f6gh\n",
      "2173920.0\n",
      "0.0\n",
      "nacc_pvce\n",
      "14190396.0\n",
      "0.0\n",
      "nbic_impm\n",
      "0.0\n",
      "0.0\n",
      "rev_cat\n",
      "764860841574.0\n",
      "238.645269717\n"
     ]
    }
   ],
   "source": [
    "variable = ['deficit_ante', 'f6gh', 'nacc_pvce', 'nbic_impm', 'rev_cat']\n",
    "for var in variable:\n",
    "    print var\n",
    "    print annual_survey_scenario.compute_aggregate(var)\n",
    "    print (annual_survey_scenario.compute_aggregate(var)-monthly_survey_scenario.compute_aggregate(var))/10**9"
   ]
  },
  {
   "cell_type": "code",
   "execution_count": 9,
   "metadata": {
    "collapsed": false
   },
   "outputs": [
    {
     "name": "stdout",
     "output_type": "stream",
     "text": [
      "rev_cat_pv\n",
      "0.0\n",
      "0.0\n",
      "rev_cat_rfon\n",
      "0.0\n",
      "0.0\n",
      "rev_cat_rpns\n",
      "49754386450.6\n",
      "0.0\n",
      "rev_cat_rvcm\n",
      "0.0\n",
      "0.0\n",
      "rev_cat_tspr\n",
      "715106455131.0\n",
      "238.645269683\n"
     ]
    }
   ],
   "source": [
    "variable = ['rev_cat_pv', 'rev_cat_rfon', 'rev_cat_rpns', 'rev_cat_rvcm', \"rev_cat_tspr\"]\n",
    "for var in variable:\n",
    "    print var\n",
    "    print annual_survey_scenario.compute_aggregate(var)\n",
    "    print (annual_survey_scenario.compute_aggregate(var)-monthly_survey_scenario.compute_aggregate(var))/10**9"
   ]
  },
  {
   "cell_type": "code",
   "execution_count": 10,
   "metadata": {
    "collapsed": false
   },
   "outputs": [
    {
     "name": "stdout",
     "output_type": "stream",
     "text": [
      "indu_plaf_abat_pen\n",
      "1718168315.0\n",
      "1.710892913\n",
      "tspr\n",
      "713388286816.0\n",
      "236.934376706\n"
     ]
    }
   ],
   "source": [
    "\n",
    "variable = [\"indu_plaf_abat_pen\", \"tspr\"]\n",
    "for var in variable:\n",
    "    print var\n",
    "    print annual_survey_scenario.compute_aggregate(var)\n",
    "    print (annual_survey_scenario.compute_aggregate(var)-monthly_survey_scenario.compute_aggregate(var))/10**9"
   ]
  },
  {
   "cell_type": "code",
   "execution_count": 54,
   "metadata": {
    "collapsed": false
   },
   "outputs": [
    {
     "name": "stdout",
     "output_type": "stream",
     "text": [
      "retraite_imposable\n",
      "224870536783.0\n",
      "224.870536783\n"
     ]
    }
   ],
   "source": [
    "\n",
    "variable = [\"retraite_imposable\"]\n",
    "for var in variable:\n",
    "    print var\n",
    "    print annual_survey_scenario.compute_aggregate(var)\n",
    "    print (annual_survey_scenario.compute_aggregate(var)-monthly_survey_scenario.compute_aggregate(var))/10**9"
   ]
  },
  {
   "cell_type": "code",
   "execution_count": 53,
   "metadata": {
    "collapsed": false
   },
   "outputs": [
    {
     "name": "stdout",
     "output_type": "stream",
     "text": [
      "salaire_imposable\n",
      "552977876830.0\n",
      "11.2379955306\n"
     ]
    }
   ],
   "source": [
    "\n",
    "variable = [\"salaire_imposable\"]\n",
    "for var in variable:\n",
    "    print var\n",
    "    print annual_survey_scenario.compute_aggregate(var)\n",
    "    print (annual_survey_scenario.compute_aggregate(var)-monthly_survey_scenario.compute_aggregate(var))/10**9"
   ]
  },
  {
   "cell_type": "code",
   "execution_count": 65,
   "metadata": {
    "collapsed": false
   },
   "outputs": [
    {
     "name": "stdout",
     "output_type": "stream",
     "text": [
      "False    83727\n",
      "True     28632\n",
      "dtype: int64\n",
      "False    112359\n",
      "dtype: int64\n"
     ]
    }
   ],
   "source": [
    "print pd.Series((annual_survey_scenario.simulation.calculate('retraite_imposable')>10)).value_counts()\n",
    "print pd.Series((monthly_survey_scenario.simulation.calculate('retraite_imposable')>10)).value_counts()\n"
   ]
  },
  {
   "cell_type": "code",
   "execution_count": 66,
   "metadata": {
    "collapsed": false
   },
   "outputs": [
    {
     "name": "stdout",
     "output_type": "stream",
     "text": [
      "False    104470\n",
      "True       7889\n",
      "dtype: int64\n",
      "False    112359\n",
      "dtype: int64\n"
     ]
    }
   ],
   "source": [
    "print pd.Series((annual_survey_scenario.simulation.calculate('chomage_imposable')>10)).value_counts()\n",
    "print pd.Series((monthly_survey_scenario.simulation.calculate('chomage_imposable')>10)).value_counts()"
   ]
  },
  {
   "cell_type": "code",
   "execution_count": 67,
   "metadata": {
    "collapsed": false
   },
   "outputs": [
    {
     "name": "stdout",
     "output_type": "stream",
     "text": [
      "False    65344\n",
      "True     47015\n",
      "dtype: int64\n",
      "False    68972\n",
      "True     43387\n",
      "dtype: int64\n"
     ]
    }
   ],
   "source": [
    "print pd.Series((annual_survey_scenario.simulation.calculate('salaire_imposable')>10)).value_counts()\n",
    "print pd.Series((monthly_survey_scenario.simulation.calculate('salaire_imposable')>10)).value_counts()"
   ]
  },
  {
   "cell_type": "markdown",
   "metadata": {},
   "source": [
    "Chomage et retraite non prise en compte par le modèle, on perds 4 milles observations dans les salaires imposables..."
   ]
  },
  {
   "cell_type": "code",
   "execution_count": null,
   "metadata": {
    "collapsed": true
   },
   "outputs": [],
   "source": []
  },
  {
   "cell_type": "code",
   "execution_count": null,
   "metadata": {
    "collapsed": true
   },
   "outputs": [],
   "source": []
  },
  {
   "cell_type": "code",
   "execution_count": null,
   "metadata": {
    "collapsed": true
   },
   "outputs": [],
   "source": []
  },
  {
   "cell_type": "code",
   "execution_count": null,
   "metadata": {
    "collapsed": true
   },
   "outputs": [],
   "source": []
  },
  {
   "cell_type": "code",
   "execution_count": null,
   "metadata": {
    "collapsed": true
   },
   "outputs": [],
   "source": []
  },
  {
   "cell_type": "code",
   "execution_count": null,
   "metadata": {
    "collapsed": true
   },
   "outputs": [],
   "source": []
  },
  {
   "cell_type": "code",
   "execution_count": null,
   "metadata": {
    "collapsed": true
   },
   "outputs": [],
   "source": []
  },
  {
   "cell_type": "code",
   "execution_count": null,
   "metadata": {
    "collapsed": true
   },
   "outputs": [],
   "source": []
  },
  {
   "cell_type": "code",
   "execution_count": null,
   "metadata": {
    "collapsed": true
   },
   "outputs": [],
   "source": []
  },
  {
   "cell_type": "markdown",
   "metadata": {},
   "source": [
    "## TODO : "
   ]
  },
  {
   "cell_type": "markdown",
   "metadata": {},
   "source": [
    "### abat_spe est nul avec ERFS"
   ]
  },
  {
   "cell_type": "code",
   "execution_count": 34,
   "metadata": {
    "collapsed": false
   },
   "outputs": [
    {
     "name": "stdout",
     "output_type": "stream",
     "text": [
      "0.0\n"
     ]
    },
    {
     "data": {
      "text/plain": [
       "0.0"
      ]
     },
     "execution_count": 34,
     "metadata": {},
     "output_type": "execute_result"
    }
   ],
   "source": [
    "var = 'abat_spe'\n",
    "print annual_survey_scenario.compute_aggregate(var)\n",
    "(annual_survey_scenario.compute_aggregate(var)-monthly_survey_scenario.compute_aggregate(var))/10**9"
   ]
  },
  {
   "cell_type": "code",
   "execution_count": 50,
   "metadata": {
    "collapsed": false
   },
   "outputs": [
    {
     "name": "stdout",
     "output_type": "stream",
     "text": [
      "0.0\n"
     ]
    },
    {
     "data": {
      "text/plain": [
       "0.0"
      ]
     },
     "execution_count": 50,
     "metadata": {},
     "output_type": "execute_result"
    }
   ],
   "source": [
    "var = 'abat_spe'\n",
    "print annual_survey_scenario.compute_aggregate(var)\n",
    "(annual_survey_scenario.compute_aggregate(var)-monthly_survey_scenario.compute_aggregate(var))/10**9"
   ]
  },
  {
   "cell_type": "code",
   "execution_count": 51,
   "metadata": {
    "collapsed": false
   },
   "outputs": [
    {
     "name": "stdout",
     "output_type": "stream",
     "text": [
      "rev_cat_pv\n",
      "0.0\n",
      "0.0\n",
      "rev_cat_rfon\n",
      "0.0\n",
      "0.0\n",
      "rev_cat_rpns\n",
      "49754386450.6\n",
      "0.0\n",
      "rev_cat_rvcm\n",
      "0.0\n",
      "0.0\n",
      "rev_cat_tspr\n",
      "715106455131.0\n",
      "238.645269683\n"
     ]
    }
   ],
   "source": [
    "variable = ['rev_cat_pv', 'rev_cat_rfon', 'rev_cat_rpns', 'rev_cat_rvcm', \"rev_cat_tspr\"]\n",
    "for var in variable:\n",
    "    print var\n",
    "    print annual_survey_scenario.compute_aggregate(var)\n",
    "    print (annual_survey_scenario.compute_aggregate(var)-monthly_survey_scenario.compute_aggregate(var))/10**9"
   ]
  },
  {
   "cell_type": "code",
   "execution_count": null,
   "metadata": {
    "collapsed": true
   },
   "outputs": [],
   "source": []
  }
 ],
 "metadata": {
  "kernelspec": {
   "display_name": "Python 2",
   "language": "python",
   "name": "python2"
  },
  "language_info": {
   "codemirror_mode": {
    "name": "ipython",
    "version": 2
   },
   "file_extension": ".py",
   "mimetype": "text/x-python",
   "name": "python",
   "nbconvert_exporter": "python",
   "pygments_lexer": "ipython2",
   "version": "2.7.10"
  },
  "toc": {
   "toc_cell": false,
   "toc_number_sections": true,
   "toc_threshold": 4,
   "toc_window_display": false
  }
 },
 "nbformat": 4,
 "nbformat_minor": 0
}
