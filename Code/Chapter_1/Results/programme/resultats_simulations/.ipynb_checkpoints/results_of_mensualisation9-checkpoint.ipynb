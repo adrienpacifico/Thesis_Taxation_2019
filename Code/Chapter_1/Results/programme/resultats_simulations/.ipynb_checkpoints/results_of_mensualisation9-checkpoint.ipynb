{
 "cells": [
  {
   "cell_type": "markdown",
   "metadata": {},
   "source": [
    "### Git versioning"
   ]
  },
  {
   "cell_type": "code",
   "execution_count": 1,
   "metadata": {
    "collapsed": false
   },
   "outputs": [
    {
     "name": "stdout",
     "output_type": "stream",
     "text": [
      "---This notebook have been runed with--- \n",
      "Openfisca-france : 884e029dd9ec0f5dc8129a52e9a61f5cc87770aa \n",
      "\n",
      "Commit short SHA: 884e0\n",
      "Branch:  mensualisation_wip\n",
      "Date (y/m/d): 2016-05-30 16:54:22  \n",
      "\n",
      "Openfisca-core : 4076f591f4bcb571391b65a989e1603fdc4cb759  Date: 2016-02-24 16:11:57 \n",
      "Openfisca-france-data : 4581a82fd1456cbe0bdd86ab1b57db6fef37c8cf  Date: 2016-05-31 15:46:50 \n",
      "OpenFisca-Aggregates : fd210d8cfdf6ed68f173d9d5c3eab4a4302ed2b9  Date: 2016-04-04 11:35:03 \n",
      "OpenFisca-Survey-Manager : 868512d24307aa75cfa7bbbf8420542960963966  Date: 2016-04-04 11:35:03 \n"
     ]
    }
   ],
   "source": [
    "import git  #Requires Gitpython installed, to install do \"$ pip install Gitpython\" in your terminal\n",
    "import pkg_resources\n",
    "openfisca_france_location = pkg_resources.get_distribution('openfisca-france').location\n",
    "repo = git.Repo(openfisca_france_location)\n",
    "repo.git.status()\n",
    "\n",
    "sha = repo.head.object.hexsha\n",
    "\n",
    "print \"---This notebook have been runed with--- \\n\",\"Openfisca-france :\", repo.head.object.hexsha, '\\n' \n",
    "print \"Commit short SHA:\", repo.git.rev_parse(sha, short=4)\n",
    "print \"Branch: \", repo.git.rev_parse('--abbrev-ref', \"HEAD\") #equivalent to: $git rev-parse --abbrev-ref HEAD\n",
    "print \"Date (y/m/d):\", repo.git.show(\"-s\", '--format=%ci', 'HEAD^')[:-5],\"\\n\"  # equivalent to: $git show -s --format=%ci HEAD^\n",
    "\n",
    "print \"Openfisca-core :\", git.Repo(pkg_resources.get_distribution('openfisca-core').location).head.object.hexsha, ' Date:', git.Repo(pkg_resources.get_distribution('openfisca-core').location).git.show(\"-s\", '--format=%ci', 'HEAD^')[:-5]\n",
    "print \"Openfisca-france-data :\", git.Repo(pkg_resources.get_distribution('openfisca-france-data').location).head.object.hexsha, ' Date:', git.Repo(pkg_resources.get_distribution('openfisca-france-data').location).git.show(\"-s\", '--format=%ci', 'HEAD^')[:-5]\n",
    "print \"OpenFisca-Aggregates :\", git.Repo(pkg_resources.get_distribution('OpenFisca-Aggregates').location).head.object.hexsha, ' Date:', git.Repo(pkg_resources.get_distribution('OpenFisca-Aggregates').location).git.show(\"-s\", '--format=%ci', 'HEAD^')[:-5]\n",
    "print \"OpenFisca-Survey-Manager :\", git.Repo(pkg_resources.get_distribution('OpenFisca-Survey-Manager').location).head.object.hexsha, ' Date:', git.Repo(pkg_resources.get_distribution('OpenFisca-Aggregates').location).git.show(\"-s\", '--format=%ci', 'HEAD^')[:-5]"
   ]
  },
  {
   "cell_type": "markdown",
   "metadata": {},
   "source": [
    "### Imports"
   ]
  },
  {
   "cell_type": "code",
   "execution_count": 1,
   "metadata": {
    "collapsed": false
   },
   "outputs": [],
   "source": [
    "%matplotlib inline\n",
    "from __future__ import division\n",
    "\n",
    "from openfisca_core import periods\n",
    "from openfisca_plugin_aggregates.tests.reform.test_aggregates_mensualized import create_survey_scenario\n",
    "import pandas as pd\n",
    "\n",
    "import matplotlib.pyplot as plt\n",
    "\n",
    "import numpy as np\n",
    "from numpy import (datetime64, logical_and as and_, logical_not as not_, logical_or as or_, logical_xor as xor_,\n",
    "maximum as max_, minimum as min_, round)\n",
    "\n",
    "\n",
    "#Faire des filtres pour Mahdi survey_scenario.create_data_frame_by_entity_key_plural\n",
    "\n",
    "pd.set_option('expand_frame_repr', False)  #utile quand on utilise pandas en mode console\n",
    "pd.set_option(\"display.max_rows\",201)\n",
    "pd.set_option(\"display.max_columns\",201)"
   ]
  },
  {
   "cell_type": "markdown",
   "metadata": {},
   "source": [
    "# Create Survey Scenario"
   ]
  },
  {
   "cell_type": "code",
   "execution_count": 2,
   "metadata": {
    "collapsed": false
   },
   "outputs": [],
   "source": [
    "period = periods.period(2009)"
   ]
  },
  {
   "cell_type": "code",
   "execution_count": 3,
   "metadata": {
    "collapsed": false
   },
   "outputs": [
    {
     "data": {
      "text/plain": [
       "Period((u'month', Instant((2009, 1, 1)), 1))"
      ]
     },
     "execution_count": 3,
     "metadata": {},
     "output_type": "execute_result"
    }
   ],
   "source": [
    "period.this_year.this_month"
   ]
  },
  {
   "cell_type": "code",
   "execution_count": 4,
   "metadata": {
    "collapsed": false
   },
   "outputs": [
    {
     "data": {
      "text/plain": [
       "<openfisca_core.simulations.Simulation at 0x1104f03d0>"
      ]
     },
     "execution_count": 4,
     "metadata": {},
     "output_type": "execute_result"
    }
   ],
   "source": [
    "survey_scenario = create_survey_scenario(2009)\n",
    "survey_scenario.new_simulation()"
   ]
  },
  {
   "cell_type": "code",
   "execution_count": 5,
   "metadata": {
    "collapsed": false,
    "scrolled": true
   },
   "outputs": [
    {
     "data": {
      "text/html": [
       "<div>\n",
       "<table border=\"1\" class=\"dataframe\">\n",
       "  <thead>\n",
       "    <tr style=\"text-align: right;\">\n",
       "      <th></th>\n",
       "      <th>gain_argent</th>\n",
       "      <th>gain_utilite</th>\n",
       "    </tr>\n",
       "  </thead>\n",
       "  <tbody>\n",
       "    <tr>\n",
       "      <th>0</th>\n",
       "      <td>0.000000</td>\n",
       "      <td>0.000000e+00</td>\n",
       "    </tr>\n",
       "    <tr>\n",
       "      <th>1</th>\n",
       "      <td>0.000000</td>\n",
       "      <td>0.000000e+00</td>\n",
       "    </tr>\n",
       "    <tr>\n",
       "      <th>2</th>\n",
       "      <td>0.000000</td>\n",
       "      <td>0.000000e+00</td>\n",
       "    </tr>\n",
       "    <tr>\n",
       "      <th>3</th>\n",
       "      <td>11.335938</td>\n",
       "      <td>4.145841e-07</td>\n",
       "    </tr>\n",
       "    <tr>\n",
       "      <th>4</th>\n",
       "      <td>0.000000</td>\n",
       "      <td>0.000000e+00</td>\n",
       "    </tr>\n",
       "    <tr>\n",
       "      <th>5</th>\n",
       "      <td>303.910156</td>\n",
       "      <td>1.295056e-05</td>\n",
       "    </tr>\n",
       "    <tr>\n",
       "      <th>6</th>\n",
       "      <td>0.000000</td>\n",
       "      <td>0.000000e+00</td>\n",
       "    </tr>\n",
       "    <tr>\n",
       "      <th>7</th>\n",
       "      <td>0.000000</td>\n",
       "      <td>0.000000e+00</td>\n",
       "    </tr>\n",
       "    <tr>\n",
       "      <th>8</th>\n",
       "      <td>-74.833008</td>\n",
       "      <td>-3.805413e-06</td>\n",
       "    </tr>\n",
       "    <tr>\n",
       "      <th>9</th>\n",
       "      <td>0.000000</td>\n",
       "      <td>0.000000e+00</td>\n",
       "    </tr>\n",
       "    <tr>\n",
       "      <th>10</th>\n",
       "      <td>137.788574</td>\n",
       "      <td>7.040479e-06</td>\n",
       "    </tr>\n",
       "    <tr>\n",
       "      <th>11</th>\n",
       "      <td>0.000000</td>\n",
       "      <td>0.000000e+00</td>\n",
       "    </tr>\n",
       "    <tr>\n",
       "      <th>12</th>\n",
       "      <td>0.000000</td>\n",
       "      <td>0.000000e+00</td>\n",
       "    </tr>\n",
       "    <tr>\n",
       "      <th>13</th>\n",
       "      <td>0.000000</td>\n",
       "      <td>0.000000e+00</td>\n",
       "    </tr>\n",
       "    <tr>\n",
       "      <th>14</th>\n",
       "      <td>0.000000</td>\n",
       "      <td>0.000000e+00</td>\n",
       "    </tr>\n",
       "    <tr>\n",
       "      <th>15</th>\n",
       "      <td>0.000000</td>\n",
       "      <td>0.000000e+00</td>\n",
       "    </tr>\n",
       "    <tr>\n",
       "      <th>16</th>\n",
       "      <td>98.299316</td>\n",
       "      <td>6.815186e-06</td>\n",
       "    </tr>\n",
       "    <tr>\n",
       "      <th>17</th>\n",
       "      <td>0.000000</td>\n",
       "      <td>0.000000e+00</td>\n",
       "    </tr>\n",
       "    <tr>\n",
       "      <th>18</th>\n",
       "      <td>0.000000</td>\n",
       "      <td>0.000000e+00</td>\n",
       "    </tr>\n",
       "    <tr>\n",
       "      <th>19</th>\n",
       "      <td>0.000000</td>\n",
       "      <td>0.000000e+00</td>\n",
       "    </tr>\n",
       "    <tr>\n",
       "      <th>20</th>\n",
       "      <td>0.000000</td>\n",
       "      <td>0.000000e+00</td>\n",
       "    </tr>\n",
       "    <tr>\n",
       "      <th>21</th>\n",
       "      <td>0.000000</td>\n",
       "      <td>0.000000e+00</td>\n",
       "    </tr>\n",
       "    <tr>\n",
       "      <th>22</th>\n",
       "      <td>0.000000</td>\n",
       "      <td>0.000000e+00</td>\n",
       "    </tr>\n",
       "    <tr>\n",
       "      <th>23</th>\n",
       "      <td>0.000000</td>\n",
       "      <td>0.000000e+00</td>\n",
       "    </tr>\n",
       "    <tr>\n",
       "      <th>24</th>\n",
       "      <td>0.000000</td>\n",
       "      <td>0.000000e+00</td>\n",
       "    </tr>\n",
       "    <tr>\n",
       "      <th>25</th>\n",
       "      <td>0.000000</td>\n",
       "      <td>0.000000e+00</td>\n",
       "    </tr>\n",
       "    <tr>\n",
       "      <th>26</th>\n",
       "      <td>0.000000</td>\n",
       "      <td>0.000000e+00</td>\n",
       "    </tr>\n",
       "    <tr>\n",
       "      <th>27</th>\n",
       "      <td>0.000000</td>\n",
       "      <td>0.000000e+00</td>\n",
       "    </tr>\n",
       "    <tr>\n",
       "      <th>28</th>\n",
       "      <td>0.000000</td>\n",
       "      <td>0.000000e+00</td>\n",
       "    </tr>\n",
       "    <tr>\n",
       "      <th>29</th>\n",
       "      <td>0.000000</td>\n",
       "      <td>0.000000e+00</td>\n",
       "    </tr>\n",
       "    <tr>\n",
       "      <th>30</th>\n",
       "      <td>0.000000</td>\n",
       "      <td>0.000000e+00</td>\n",
       "    </tr>\n",
       "    <tr>\n",
       "      <th>31</th>\n",
       "      <td>-65.134766</td>\n",
       "      <td>-9.362557e-07</td>\n",
       "    </tr>\n",
       "    <tr>\n",
       "      <th>32</th>\n",
       "      <td>0.000000</td>\n",
       "      <td>0.000000e+00</td>\n",
       "    </tr>\n",
       "    <tr>\n",
       "      <th>33</th>\n",
       "      <td>0.000000</td>\n",
       "      <td>0.000000e+00</td>\n",
       "    </tr>\n",
       "    <tr>\n",
       "      <th>34</th>\n",
       "      <td>0.000000</td>\n",
       "      <td>0.000000e+00</td>\n",
       "    </tr>\n",
       "    <tr>\n",
       "      <th>35</th>\n",
       "      <td>0.000000</td>\n",
       "      <td>0.000000e+00</td>\n",
       "    </tr>\n",
       "    <tr>\n",
       "      <th>36</th>\n",
       "      <td>0.000000</td>\n",
       "      <td>0.000000e+00</td>\n",
       "    </tr>\n",
       "    <tr>\n",
       "      <th>37</th>\n",
       "      <td>0.000000</td>\n",
       "      <td>0.000000e+00</td>\n",
       "    </tr>\n",
       "    <tr>\n",
       "      <th>38</th>\n",
       "      <td>0.000000</td>\n",
       "      <td>0.000000e+00</td>\n",
       "    </tr>\n",
       "    <tr>\n",
       "      <th>39</th>\n",
       "      <td>0.000000</td>\n",
       "      <td>0.000000e+00</td>\n",
       "    </tr>\n",
       "    <tr>\n",
       "      <th>40</th>\n",
       "      <td>0.000000</td>\n",
       "      <td>0.000000e+00</td>\n",
       "    </tr>\n",
       "    <tr>\n",
       "      <th>41</th>\n",
       "      <td>0.000000</td>\n",
       "      <td>0.000000e+00</td>\n",
       "    </tr>\n",
       "    <tr>\n",
       "      <th>42</th>\n",
       "      <td>0.000000</td>\n",
       "      <td>0.000000e+00</td>\n",
       "    </tr>\n",
       "    <tr>\n",
       "      <th>43</th>\n",
       "      <td>0.000000</td>\n",
       "      <td>0.000000e+00</td>\n",
       "    </tr>\n",
       "    <tr>\n",
       "      <th>44</th>\n",
       "      <td>0.000000</td>\n",
       "      <td>0.000000e+00</td>\n",
       "    </tr>\n",
       "    <tr>\n",
       "      <th>45</th>\n",
       "      <td>0.000000</td>\n",
       "      <td>0.000000e+00</td>\n",
       "    </tr>\n",
       "    <tr>\n",
       "      <th>46</th>\n",
       "      <td>0.000000</td>\n",
       "      <td>0.000000e+00</td>\n",
       "    </tr>\n",
       "    <tr>\n",
       "      <th>47</th>\n",
       "      <td>0.000000</td>\n",
       "      <td>0.000000e+00</td>\n",
       "    </tr>\n",
       "    <tr>\n",
       "      <th>48</th>\n",
       "      <td>0.000000</td>\n",
       "      <td>0.000000e+00</td>\n",
       "    </tr>\n",
       "    <tr>\n",
       "      <th>49</th>\n",
       "      <td>123.084961</td>\n",
       "      <td>4.686648e-06</td>\n",
       "    </tr>\n",
       "    <tr>\n",
       "      <th>50</th>\n",
       "      <td>0.000000</td>\n",
       "      <td>0.000000e+00</td>\n",
       "    </tr>\n",
       "    <tr>\n",
       "      <th>51</th>\n",
       "      <td>0.000000</td>\n",
       "      <td>0.000000e+00</td>\n",
       "    </tr>\n",
       "    <tr>\n",
       "      <th>52</th>\n",
       "      <td>84.484375</td>\n",
       "      <td>2.383167e-06</td>\n",
       "    </tr>\n",
       "    <tr>\n",
       "      <th>53</th>\n",
       "      <td>0.000000</td>\n",
       "      <td>0.000000e+00</td>\n",
       "    </tr>\n",
       "    <tr>\n",
       "      <th>54</th>\n",
       "      <td>0.000000</td>\n",
       "      <td>0.000000e+00</td>\n",
       "    </tr>\n",
       "    <tr>\n",
       "      <th>55</th>\n",
       "      <td>48.456055</td>\n",
       "      <td>2.093730e-06</td>\n",
       "    </tr>\n",
       "    <tr>\n",
       "      <th>56</th>\n",
       "      <td>0.000000</td>\n",
       "      <td>0.000000e+00</td>\n",
       "    </tr>\n",
       "    <tr>\n",
       "      <th>57</th>\n",
       "      <td>0.000000</td>\n",
       "      <td>0.000000e+00</td>\n",
       "    </tr>\n",
       "    <tr>\n",
       "      <th>58</th>\n",
       "      <td>0.000000</td>\n",
       "      <td>0.000000e+00</td>\n",
       "    </tr>\n",
       "    <tr>\n",
       "      <th>59</th>\n",
       "      <td>0.000000</td>\n",
       "      <td>0.000000e+00</td>\n",
       "    </tr>\n",
       "    <tr>\n",
       "      <th>60</th>\n",
       "      <td>0.000000</td>\n",
       "      <td>0.000000e+00</td>\n",
       "    </tr>\n",
       "    <tr>\n",
       "      <th>61</th>\n",
       "      <td>0.000000</td>\n",
       "      <td>0.000000e+00</td>\n",
       "    </tr>\n",
       "    <tr>\n",
       "      <th>62</th>\n",
       "      <td>0.000000</td>\n",
       "      <td>0.000000e+00</td>\n",
       "    </tr>\n",
       "    <tr>\n",
       "      <th>63</th>\n",
       "      <td>0.000000</td>\n",
       "      <td>0.000000e+00</td>\n",
       "    </tr>\n",
       "    <tr>\n",
       "      <th>64</th>\n",
       "      <td>0.000000</td>\n",
       "      <td>0.000000e+00</td>\n",
       "    </tr>\n",
       "    <tr>\n",
       "      <th>65</th>\n",
       "      <td>15.807129</td>\n",
       "      <td>1.151406e-06</td>\n",
       "    </tr>\n",
       "    <tr>\n",
       "      <th>66</th>\n",
       "      <td>-58.888672</td>\n",
       "      <td>-1.979293e-06</td>\n",
       "    </tr>\n",
       "    <tr>\n",
       "      <th>67</th>\n",
       "      <td>0.000000</td>\n",
       "      <td>0.000000e+00</td>\n",
       "    </tr>\n",
       "    <tr>\n",
       "      <th>68</th>\n",
       "      <td>0.000000</td>\n",
       "      <td>0.000000e+00</td>\n",
       "    </tr>\n",
       "    <tr>\n",
       "      <th>69</th>\n",
       "      <td>0.000000</td>\n",
       "      <td>0.000000e+00</td>\n",
       "    </tr>\n",
       "    <tr>\n",
       "      <th>70</th>\n",
       "      <td>0.000000</td>\n",
       "      <td>0.000000e+00</td>\n",
       "    </tr>\n",
       "    <tr>\n",
       "      <th>71</th>\n",
       "      <td>0.000000</td>\n",
       "      <td>0.000000e+00</td>\n",
       "    </tr>\n",
       "    <tr>\n",
       "      <th>72</th>\n",
       "      <td>0.000000</td>\n",
       "      <td>0.000000e+00</td>\n",
       "    </tr>\n",
       "    <tr>\n",
       "      <th>73</th>\n",
       "      <td>0.000000</td>\n",
       "      <td>0.000000e+00</td>\n",
       "    </tr>\n",
       "    <tr>\n",
       "      <th>74</th>\n",
       "      <td>0.000000</td>\n",
       "      <td>0.000000e+00</td>\n",
       "    </tr>\n",
       "    <tr>\n",
       "      <th>75</th>\n",
       "      <td>0.000000</td>\n",
       "      <td>0.000000e+00</td>\n",
       "    </tr>\n",
       "    <tr>\n",
       "      <th>76</th>\n",
       "      <td>0.000000</td>\n",
       "      <td>0.000000e+00</td>\n",
       "    </tr>\n",
       "    <tr>\n",
       "      <th>77</th>\n",
       "      <td>-7.093262</td>\n",
       "      <td>-3.100431e-07</td>\n",
       "    </tr>\n",
       "    <tr>\n",
       "      <th>78</th>\n",
       "      <td>0.000000</td>\n",
       "      <td>0.000000e+00</td>\n",
       "    </tr>\n",
       "    <tr>\n",
       "      <th>79</th>\n",
       "      <td>0.000000</td>\n",
       "      <td>-2.910383e-11</td>\n",
       "    </tr>\n",
       "    <tr>\n",
       "      <th>80</th>\n",
       "      <td>0.000000</td>\n",
       "      <td>0.000000e+00</td>\n",
       "    </tr>\n",
       "    <tr>\n",
       "      <th>81</th>\n",
       "      <td>0.000000</td>\n",
       "      <td>0.000000e+00</td>\n",
       "    </tr>\n",
       "    <tr>\n",
       "      <th>82</th>\n",
       "      <td>-16.089844</td>\n",
       "      <td>-5.671754e-07</td>\n",
       "    </tr>\n",
       "    <tr>\n",
       "      <th>83</th>\n",
       "      <td>0.000000</td>\n",
       "      <td>0.000000e+00</td>\n",
       "    </tr>\n",
       "    <tr>\n",
       "      <th>84</th>\n",
       "      <td>0.000000</td>\n",
       "      <td>0.000000e+00</td>\n",
       "    </tr>\n",
       "    <tr>\n",
       "      <th>85</th>\n",
       "      <td>0.000000</td>\n",
       "      <td>0.000000e+00</td>\n",
       "    </tr>\n",
       "    <tr>\n",
       "      <th>86</th>\n",
       "      <td>0.000000</td>\n",
       "      <td>0.000000e+00</td>\n",
       "    </tr>\n",
       "    <tr>\n",
       "      <th>87</th>\n",
       "      <td>0.000000</td>\n",
       "      <td>0.000000e+00</td>\n",
       "    </tr>\n",
       "    <tr>\n",
       "      <th>88</th>\n",
       "      <td>0.000000</td>\n",
       "      <td>0.000000e+00</td>\n",
       "    </tr>\n",
       "    <tr>\n",
       "      <th>89</th>\n",
       "      <td>0.000000</td>\n",
       "      <td>0.000000e+00</td>\n",
       "    </tr>\n",
       "    <tr>\n",
       "      <th>90</th>\n",
       "      <td>0.000000</td>\n",
       "      <td>0.000000e+00</td>\n",
       "    </tr>\n",
       "    <tr>\n",
       "      <th>91</th>\n",
       "      <td>0.000000</td>\n",
       "      <td>0.000000e+00</td>\n",
       "    </tr>\n",
       "    <tr>\n",
       "      <th>92</th>\n",
       "      <td>0.000000</td>\n",
       "      <td>0.000000e+00</td>\n",
       "    </tr>\n",
       "    <tr>\n",
       "      <th>93</th>\n",
       "      <td>37.795898</td>\n",
       "      <td>1.003093e-06</td>\n",
       "    </tr>\n",
       "    <tr>\n",
       "      <th>94</th>\n",
       "      <td>0.000000</td>\n",
       "      <td>0.000000e+00</td>\n",
       "    </tr>\n",
       "    <tr>\n",
       "      <th>95</th>\n",
       "      <td>0.000000</td>\n",
       "      <td>0.000000e+00</td>\n",
       "    </tr>\n",
       "    <tr>\n",
       "      <th>96</th>\n",
       "      <td>0.000000</td>\n",
       "      <td>0.000000e+00</td>\n",
       "    </tr>\n",
       "    <tr>\n",
       "      <th>97</th>\n",
       "      <td>0.000000</td>\n",
       "      <td>0.000000e+00</td>\n",
       "    </tr>\n",
       "    <tr>\n",
       "      <th>98</th>\n",
       "      <td>0.000000</td>\n",
       "      <td>0.000000e+00</td>\n",
       "    </tr>\n",
       "    <tr>\n",
       "      <th>99</th>\n",
       "      <td>0.000000</td>\n",
       "      <td>0.000000e+00</td>\n",
       "    </tr>\n",
       "    <tr>\n",
       "      <th>...</th>\n",
       "      <td>...</td>\n",
       "      <td>...</td>\n",
       "    </tr>\n",
       "    <tr>\n",
       "      <th>48916</th>\n",
       "      <td>9.591797</td>\n",
       "      <td>2.710731e-07</td>\n",
       "    </tr>\n",
       "    <tr>\n",
       "      <th>48917</th>\n",
       "      <td>0.000000</td>\n",
       "      <td>0.000000e+00</td>\n",
       "    </tr>\n",
       "    <tr>\n",
       "      <th>48918</th>\n",
       "      <td>0.000000</td>\n",
       "      <td>0.000000e+00</td>\n",
       "    </tr>\n",
       "    <tr>\n",
       "      <th>48919</th>\n",
       "      <td>0.000000</td>\n",
       "      <td>0.000000e+00</td>\n",
       "    </tr>\n",
       "    <tr>\n",
       "      <th>48920</th>\n",
       "      <td>0.000000</td>\n",
       "      <td>0.000000e+00</td>\n",
       "    </tr>\n",
       "    <tr>\n",
       "      <th>48921</th>\n",
       "      <td>0.000000</td>\n",
       "      <td>0.000000e+00</td>\n",
       "    </tr>\n",
       "    <tr>\n",
       "      <th>48922</th>\n",
       "      <td>0.000000</td>\n",
       "      <td>0.000000e+00</td>\n",
       "    </tr>\n",
       "    <tr>\n",
       "      <th>48923</th>\n",
       "      <td>0.000000</td>\n",
       "      <td>0.000000e+00</td>\n",
       "    </tr>\n",
       "    <tr>\n",
       "      <th>48924</th>\n",
       "      <td>0.000000</td>\n",
       "      <td>0.000000e+00</td>\n",
       "    </tr>\n",
       "    <tr>\n",
       "      <th>48925</th>\n",
       "      <td>30.374023</td>\n",
       "      <td>1.172593e-06</td>\n",
       "    </tr>\n",
       "    <tr>\n",
       "      <th>48926</th>\n",
       "      <td>0.000000</td>\n",
       "      <td>0.000000e+00</td>\n",
       "    </tr>\n",
       "    <tr>\n",
       "      <th>48927</th>\n",
       "      <td>0.000000</td>\n",
       "      <td>0.000000e+00</td>\n",
       "    </tr>\n",
       "    <tr>\n",
       "      <th>48928</th>\n",
       "      <td>0.000000</td>\n",
       "      <td>0.000000e+00</td>\n",
       "    </tr>\n",
       "    <tr>\n",
       "      <th>48929</th>\n",
       "      <td>-18.179688</td>\n",
       "      <td>-6.077171e-07</td>\n",
       "    </tr>\n",
       "    <tr>\n",
       "      <th>48930</th>\n",
       "      <td>0.000000</td>\n",
       "      <td>0.000000e+00</td>\n",
       "    </tr>\n",
       "    <tr>\n",
       "      <th>48931</th>\n",
       "      <td>24.340820</td>\n",
       "      <td>1.034408e-06</td>\n",
       "    </tr>\n",
       "    <tr>\n",
       "      <th>48932</th>\n",
       "      <td>0.000000</td>\n",
       "      <td>0.000000e+00</td>\n",
       "    </tr>\n",
       "    <tr>\n",
       "      <th>48933</th>\n",
       "      <td>0.000000</td>\n",
       "      <td>0.000000e+00</td>\n",
       "    </tr>\n",
       "    <tr>\n",
       "      <th>48934</th>\n",
       "      <td>0.000000</td>\n",
       "      <td>0.000000e+00</td>\n",
       "    </tr>\n",
       "    <tr>\n",
       "      <th>48935</th>\n",
       "      <td>0.000000</td>\n",
       "      <td>0.000000e+00</td>\n",
       "    </tr>\n",
       "    <tr>\n",
       "      <th>48936</th>\n",
       "      <td>0.000000</td>\n",
       "      <td>0.000000e+00</td>\n",
       "    </tr>\n",
       "    <tr>\n",
       "      <th>48937</th>\n",
       "      <td>0.000000</td>\n",
       "      <td>0.000000e+00</td>\n",
       "    </tr>\n",
       "    <tr>\n",
       "      <th>48938</th>\n",
       "      <td>0.000000</td>\n",
       "      <td>0.000000e+00</td>\n",
       "    </tr>\n",
       "    <tr>\n",
       "      <th>48939</th>\n",
       "      <td>0.000000</td>\n",
       "      <td>0.000000e+00</td>\n",
       "    </tr>\n",
       "    <tr>\n",
       "      <th>48940</th>\n",
       "      <td>-50.526367</td>\n",
       "      <td>-1.444656e-06</td>\n",
       "    </tr>\n",
       "    <tr>\n",
       "      <th>48941</th>\n",
       "      <td>0.000000</td>\n",
       "      <td>0.000000e+00</td>\n",
       "    </tr>\n",
       "    <tr>\n",
       "      <th>48942</th>\n",
       "      <td>0.000000</td>\n",
       "      <td>0.000000e+00</td>\n",
       "    </tr>\n",
       "    <tr>\n",
       "      <th>48943</th>\n",
       "      <td>0.000000</td>\n",
       "      <td>0.000000e+00</td>\n",
       "    </tr>\n",
       "    <tr>\n",
       "      <th>48944</th>\n",
       "      <td>0.000000</td>\n",
       "      <td>0.000000e+00</td>\n",
       "    </tr>\n",
       "    <tr>\n",
       "      <th>48945</th>\n",
       "      <td>0.000000</td>\n",
       "      <td>0.000000e+00</td>\n",
       "    </tr>\n",
       "    <tr>\n",
       "      <th>48946</th>\n",
       "      <td>0.000000</td>\n",
       "      <td>0.000000e+00</td>\n",
       "    </tr>\n",
       "    <tr>\n",
       "      <th>48947</th>\n",
       "      <td>403.521484</td>\n",
       "      <td>1.576397e-05</td>\n",
       "    </tr>\n",
       "    <tr>\n",
       "      <th>48948</th>\n",
       "      <td>159.695801</td>\n",
       "      <td>7.457827e-06</td>\n",
       "    </tr>\n",
       "    <tr>\n",
       "      <th>48949</th>\n",
       "      <td>0.000000</td>\n",
       "      <td>0.000000e+00</td>\n",
       "    </tr>\n",
       "    <tr>\n",
       "      <th>48950</th>\n",
       "      <td>21.134766</td>\n",
       "      <td>8.667994e-07</td>\n",
       "    </tr>\n",
       "    <tr>\n",
       "      <th>48951</th>\n",
       "      <td>0.000000</td>\n",
       "      <td>0.000000e+00</td>\n",
       "    </tr>\n",
       "    <tr>\n",
       "      <th>48952</th>\n",
       "      <td>0.000000</td>\n",
       "      <td>0.000000e+00</td>\n",
       "    </tr>\n",
       "    <tr>\n",
       "      <th>48953</th>\n",
       "      <td>0.000000</td>\n",
       "      <td>0.000000e+00</td>\n",
       "    </tr>\n",
       "    <tr>\n",
       "      <th>48954</th>\n",
       "      <td>0.000000</td>\n",
       "      <td>0.000000e+00</td>\n",
       "    </tr>\n",
       "    <tr>\n",
       "      <th>48955</th>\n",
       "      <td>0.000000</td>\n",
       "      <td>0.000000e+00</td>\n",
       "    </tr>\n",
       "    <tr>\n",
       "      <th>48956</th>\n",
       "      <td>0.000000</td>\n",
       "      <td>0.000000e+00</td>\n",
       "    </tr>\n",
       "    <tr>\n",
       "      <th>48957</th>\n",
       "      <td>0.000000</td>\n",
       "      <td>0.000000e+00</td>\n",
       "    </tr>\n",
       "    <tr>\n",
       "      <th>48958</th>\n",
       "      <td>0.000000</td>\n",
       "      <td>0.000000e+00</td>\n",
       "    </tr>\n",
       "    <tr>\n",
       "      <th>48959</th>\n",
       "      <td>0.000000</td>\n",
       "      <td>0.000000e+00</td>\n",
       "    </tr>\n",
       "    <tr>\n",
       "      <th>48960</th>\n",
       "      <td>17.132812</td>\n",
       "      <td>1.176028e-06</td>\n",
       "    </tr>\n",
       "    <tr>\n",
       "      <th>48961</th>\n",
       "      <td>0.000000</td>\n",
       "      <td>0.000000e+00</td>\n",
       "    </tr>\n",
       "    <tr>\n",
       "      <th>48962</th>\n",
       "      <td>-96.308594</td>\n",
       "      <td>-1.985376e-06</td>\n",
       "    </tr>\n",
       "    <tr>\n",
       "      <th>48963</th>\n",
       "      <td>0.000000</td>\n",
       "      <td>0.000000e+00</td>\n",
       "    </tr>\n",
       "    <tr>\n",
       "      <th>48964</th>\n",
       "      <td>0.000000</td>\n",
       "      <td>0.000000e+00</td>\n",
       "    </tr>\n",
       "    <tr>\n",
       "      <th>48965</th>\n",
       "      <td>0.000000</td>\n",
       "      <td>0.000000e+00</td>\n",
       "    </tr>\n",
       "    <tr>\n",
       "      <th>48966</th>\n",
       "      <td>0.000000</td>\n",
       "      <td>0.000000e+00</td>\n",
       "    </tr>\n",
       "    <tr>\n",
       "      <th>48967</th>\n",
       "      <td>0.000000</td>\n",
       "      <td>0.000000e+00</td>\n",
       "    </tr>\n",
       "    <tr>\n",
       "      <th>48968</th>\n",
       "      <td>515.120117</td>\n",
       "      <td>1.676715e-05</td>\n",
       "    </tr>\n",
       "    <tr>\n",
       "      <th>48969</th>\n",
       "      <td>0.000000</td>\n",
       "      <td>0.000000e+00</td>\n",
       "    </tr>\n",
       "    <tr>\n",
       "      <th>48970</th>\n",
       "      <td>0.000000</td>\n",
       "      <td>0.000000e+00</td>\n",
       "    </tr>\n",
       "    <tr>\n",
       "      <th>48971</th>\n",
       "      <td>43.045410</td>\n",
       "      <td>2.948742e-06</td>\n",
       "    </tr>\n",
       "    <tr>\n",
       "      <th>48972</th>\n",
       "      <td>0.000000</td>\n",
       "      <td>0.000000e+00</td>\n",
       "    </tr>\n",
       "    <tr>\n",
       "      <th>48973</th>\n",
       "      <td>0.000000</td>\n",
       "      <td>0.000000e+00</td>\n",
       "    </tr>\n",
       "    <tr>\n",
       "      <th>48974</th>\n",
       "      <td>0.000000</td>\n",
       "      <td>0.000000e+00</td>\n",
       "    </tr>\n",
       "    <tr>\n",
       "      <th>48975</th>\n",
       "      <td>0.000000</td>\n",
       "      <td>-2.910383e-11</td>\n",
       "    </tr>\n",
       "    <tr>\n",
       "      <th>48976</th>\n",
       "      <td>0.000000</td>\n",
       "      <td>0.000000e+00</td>\n",
       "    </tr>\n",
       "    <tr>\n",
       "      <th>48977</th>\n",
       "      <td>0.000000</td>\n",
       "      <td>0.000000e+00</td>\n",
       "    </tr>\n",
       "    <tr>\n",
       "      <th>48978</th>\n",
       "      <td>0.000000</td>\n",
       "      <td>0.000000e+00</td>\n",
       "    </tr>\n",
       "    <tr>\n",
       "      <th>48979</th>\n",
       "      <td>0.000000</td>\n",
       "      <td>0.000000e+00</td>\n",
       "    </tr>\n",
       "    <tr>\n",
       "      <th>48980</th>\n",
       "      <td>0.000000</td>\n",
       "      <td>0.000000e+00</td>\n",
       "    </tr>\n",
       "    <tr>\n",
       "      <th>48981</th>\n",
       "      <td>0.000000</td>\n",
       "      <td>0.000000e+00</td>\n",
       "    </tr>\n",
       "    <tr>\n",
       "      <th>48982</th>\n",
       "      <td>0.000000</td>\n",
       "      <td>0.000000e+00</td>\n",
       "    </tr>\n",
       "    <tr>\n",
       "      <th>48983</th>\n",
       "      <td>94.904297</td>\n",
       "      <td>6.263988e-06</td>\n",
       "    </tr>\n",
       "    <tr>\n",
       "      <th>48984</th>\n",
       "      <td>0.000000</td>\n",
       "      <td>0.000000e+00</td>\n",
       "    </tr>\n",
       "    <tr>\n",
       "      <th>48985</th>\n",
       "      <td>0.000000</td>\n",
       "      <td>0.000000e+00</td>\n",
       "    </tr>\n",
       "    <tr>\n",
       "      <th>48986</th>\n",
       "      <td>0.000000</td>\n",
       "      <td>0.000000e+00</td>\n",
       "    </tr>\n",
       "    <tr>\n",
       "      <th>48987</th>\n",
       "      <td>0.000000</td>\n",
       "      <td>0.000000e+00</td>\n",
       "    </tr>\n",
       "    <tr>\n",
       "      <th>48988</th>\n",
       "      <td>0.000000</td>\n",
       "      <td>0.000000e+00</td>\n",
       "    </tr>\n",
       "    <tr>\n",
       "      <th>48989</th>\n",
       "      <td>-115.885742</td>\n",
       "      <td>-2.337882e-06</td>\n",
       "    </tr>\n",
       "    <tr>\n",
       "      <th>48990</th>\n",
       "      <td>0.000000</td>\n",
       "      <td>0.000000e+00</td>\n",
       "    </tr>\n",
       "    <tr>\n",
       "      <th>48991</th>\n",
       "      <td>0.000000</td>\n",
       "      <td>0.000000e+00</td>\n",
       "    </tr>\n",
       "    <tr>\n",
       "      <th>48992</th>\n",
       "      <td>0.000000</td>\n",
       "      <td>0.000000e+00</td>\n",
       "    </tr>\n",
       "    <tr>\n",
       "      <th>48993</th>\n",
       "      <td>0.000000</td>\n",
       "      <td>0.000000e+00</td>\n",
       "    </tr>\n",
       "    <tr>\n",
       "      <th>48994</th>\n",
       "      <td>0.000000</td>\n",
       "      <td>0.000000e+00</td>\n",
       "    </tr>\n",
       "    <tr>\n",
       "      <th>48995</th>\n",
       "      <td>14.648438</td>\n",
       "      <td>3.954920e-07</td>\n",
       "    </tr>\n",
       "    <tr>\n",
       "      <th>48996</th>\n",
       "      <td>-11.225586</td>\n",
       "      <td>-4.139147e-07</td>\n",
       "    </tr>\n",
       "    <tr>\n",
       "      <th>48997</th>\n",
       "      <td>0.000000</td>\n",
       "      <td>0.000000e+00</td>\n",
       "    </tr>\n",
       "    <tr>\n",
       "      <th>48998</th>\n",
       "      <td>0.000000</td>\n",
       "      <td>0.000000e+00</td>\n",
       "    </tr>\n",
       "    <tr>\n",
       "      <th>48999</th>\n",
       "      <td>0.000000</td>\n",
       "      <td>0.000000e+00</td>\n",
       "    </tr>\n",
       "    <tr>\n",
       "      <th>49000</th>\n",
       "      <td>0.000000</td>\n",
       "      <td>0.000000e+00</td>\n",
       "    </tr>\n",
       "    <tr>\n",
       "      <th>49001</th>\n",
       "      <td>0.000000</td>\n",
       "      <td>0.000000e+00</td>\n",
       "    </tr>\n",
       "    <tr>\n",
       "      <th>49002</th>\n",
       "      <td>0.000000</td>\n",
       "      <td>0.000000e+00</td>\n",
       "    </tr>\n",
       "    <tr>\n",
       "      <th>49003</th>\n",
       "      <td>0.000000</td>\n",
       "      <td>0.000000e+00</td>\n",
       "    </tr>\n",
       "    <tr>\n",
       "      <th>49004</th>\n",
       "      <td>0.000000</td>\n",
       "      <td>0.000000e+00</td>\n",
       "    </tr>\n",
       "    <tr>\n",
       "      <th>49005</th>\n",
       "      <td>-17.673828</td>\n",
       "      <td>-2.697343e-07</td>\n",
       "    </tr>\n",
       "    <tr>\n",
       "      <th>49006</th>\n",
       "      <td>32.766602</td>\n",
       "      <td>1.906941e-06</td>\n",
       "    </tr>\n",
       "    <tr>\n",
       "      <th>49007</th>\n",
       "      <td>0.000000</td>\n",
       "      <td>0.000000e+00</td>\n",
       "    </tr>\n",
       "    <tr>\n",
       "      <th>49008</th>\n",
       "      <td>0.000000</td>\n",
       "      <td>0.000000e+00</td>\n",
       "    </tr>\n",
       "    <tr>\n",
       "      <th>49009</th>\n",
       "      <td>0.000000</td>\n",
       "      <td>0.000000e+00</td>\n",
       "    </tr>\n",
       "    <tr>\n",
       "      <th>49010</th>\n",
       "      <td>0.000000</td>\n",
       "      <td>0.000000e+00</td>\n",
       "    </tr>\n",
       "    <tr>\n",
       "      <th>49011</th>\n",
       "      <td>-1.677734</td>\n",
       "      <td>-3.125751e-08</td>\n",
       "    </tr>\n",
       "    <tr>\n",
       "      <th>49012</th>\n",
       "      <td>0.000000</td>\n",
       "      <td>-2.910383e-11</td>\n",
       "    </tr>\n",
       "    <tr>\n",
       "      <th>49013</th>\n",
       "      <td>0.000000</td>\n",
       "      <td>0.000000e+00</td>\n",
       "    </tr>\n",
       "    <tr>\n",
       "      <th>49014</th>\n",
       "      <td>0.000000</td>\n",
       "      <td>0.000000e+00</td>\n",
       "    </tr>\n",
       "    <tr>\n",
       "      <th>49015</th>\n",
       "      <td>0.000000</td>\n",
       "      <td>0.000000e+00</td>\n",
       "    </tr>\n",
       "  </tbody>\n",
       "</table>\n",
       "<p>49016 rows × 2 columns</p>\n",
       "</div>"
      ],
      "text/plain": [
       "       gain_argent  gain_utilite\n",
       "0         0.000000  0.000000e+00\n",
       "1         0.000000  0.000000e+00\n",
       "2         0.000000  0.000000e+00\n",
       "3        11.335938  4.145841e-07\n",
       "4         0.000000  0.000000e+00\n",
       "5       303.910156  1.295056e-05\n",
       "6         0.000000  0.000000e+00\n",
       "7         0.000000  0.000000e+00\n",
       "8       -74.833008 -3.805413e-06\n",
       "9         0.000000  0.000000e+00\n",
       "10      137.788574  7.040479e-06\n",
       "11        0.000000  0.000000e+00\n",
       "12        0.000000  0.000000e+00\n",
       "13        0.000000  0.000000e+00\n",
       "14        0.000000  0.000000e+00\n",
       "15        0.000000  0.000000e+00\n",
       "16       98.299316  6.815186e-06\n",
       "17        0.000000  0.000000e+00\n",
       "18        0.000000  0.000000e+00\n",
       "19        0.000000  0.000000e+00\n",
       "20        0.000000  0.000000e+00\n",
       "21        0.000000  0.000000e+00\n",
       "22        0.000000  0.000000e+00\n",
       "23        0.000000  0.000000e+00\n",
       "24        0.000000  0.000000e+00\n",
       "25        0.000000  0.000000e+00\n",
       "26        0.000000  0.000000e+00\n",
       "27        0.000000  0.000000e+00\n",
       "28        0.000000  0.000000e+00\n",
       "29        0.000000  0.000000e+00\n",
       "30        0.000000  0.000000e+00\n",
       "31      -65.134766 -9.362557e-07\n",
       "32        0.000000  0.000000e+00\n",
       "33        0.000000  0.000000e+00\n",
       "34        0.000000  0.000000e+00\n",
       "35        0.000000  0.000000e+00\n",
       "36        0.000000  0.000000e+00\n",
       "37        0.000000  0.000000e+00\n",
       "38        0.000000  0.000000e+00\n",
       "39        0.000000  0.000000e+00\n",
       "40        0.000000  0.000000e+00\n",
       "41        0.000000  0.000000e+00\n",
       "42        0.000000  0.000000e+00\n",
       "43        0.000000  0.000000e+00\n",
       "44        0.000000  0.000000e+00\n",
       "45        0.000000  0.000000e+00\n",
       "46        0.000000  0.000000e+00\n",
       "47        0.000000  0.000000e+00\n",
       "48        0.000000  0.000000e+00\n",
       "49      123.084961  4.686648e-06\n",
       "50        0.000000  0.000000e+00\n",
       "51        0.000000  0.000000e+00\n",
       "52       84.484375  2.383167e-06\n",
       "53        0.000000  0.000000e+00\n",
       "54        0.000000  0.000000e+00\n",
       "55       48.456055  2.093730e-06\n",
       "56        0.000000  0.000000e+00\n",
       "57        0.000000  0.000000e+00\n",
       "58        0.000000  0.000000e+00\n",
       "59        0.000000  0.000000e+00\n",
       "60        0.000000  0.000000e+00\n",
       "61        0.000000  0.000000e+00\n",
       "62        0.000000  0.000000e+00\n",
       "63        0.000000  0.000000e+00\n",
       "64        0.000000  0.000000e+00\n",
       "65       15.807129  1.151406e-06\n",
       "66      -58.888672 -1.979293e-06\n",
       "67        0.000000  0.000000e+00\n",
       "68        0.000000  0.000000e+00\n",
       "69        0.000000  0.000000e+00\n",
       "70        0.000000  0.000000e+00\n",
       "71        0.000000  0.000000e+00\n",
       "72        0.000000  0.000000e+00\n",
       "73        0.000000  0.000000e+00\n",
       "74        0.000000  0.000000e+00\n",
       "75        0.000000  0.000000e+00\n",
       "76        0.000000  0.000000e+00\n",
       "77       -7.093262 -3.100431e-07\n",
       "78        0.000000  0.000000e+00\n",
       "79        0.000000 -2.910383e-11\n",
       "80        0.000000  0.000000e+00\n",
       "81        0.000000  0.000000e+00\n",
       "82      -16.089844 -5.671754e-07\n",
       "83        0.000000  0.000000e+00\n",
       "84        0.000000  0.000000e+00\n",
       "85        0.000000  0.000000e+00\n",
       "86        0.000000  0.000000e+00\n",
       "87        0.000000  0.000000e+00\n",
       "88        0.000000  0.000000e+00\n",
       "89        0.000000  0.000000e+00\n",
       "90        0.000000  0.000000e+00\n",
       "91        0.000000  0.000000e+00\n",
       "92        0.000000  0.000000e+00\n",
       "93       37.795898  1.003093e-06\n",
       "94        0.000000  0.000000e+00\n",
       "95        0.000000  0.000000e+00\n",
       "96        0.000000  0.000000e+00\n",
       "97        0.000000  0.000000e+00\n",
       "98        0.000000  0.000000e+00\n",
       "99        0.000000  0.000000e+00\n",
       "...            ...           ...\n",
       "48916     9.591797  2.710731e-07\n",
       "48917     0.000000  0.000000e+00\n",
       "48918     0.000000  0.000000e+00\n",
       "48919     0.000000  0.000000e+00\n",
       "48920     0.000000  0.000000e+00\n",
       "48921     0.000000  0.000000e+00\n",
       "48922     0.000000  0.000000e+00\n",
       "48923     0.000000  0.000000e+00\n",
       "48924     0.000000  0.000000e+00\n",
       "48925    30.374023  1.172593e-06\n",
       "48926     0.000000  0.000000e+00\n",
       "48927     0.000000  0.000000e+00\n",
       "48928     0.000000  0.000000e+00\n",
       "48929   -18.179688 -6.077171e-07\n",
       "48930     0.000000  0.000000e+00\n",
       "48931    24.340820  1.034408e-06\n",
       "48932     0.000000  0.000000e+00\n",
       "48933     0.000000  0.000000e+00\n",
       "48934     0.000000  0.000000e+00\n",
       "48935     0.000000  0.000000e+00\n",
       "48936     0.000000  0.000000e+00\n",
       "48937     0.000000  0.000000e+00\n",
       "48938     0.000000  0.000000e+00\n",
       "48939     0.000000  0.000000e+00\n",
       "48940   -50.526367 -1.444656e-06\n",
       "48941     0.000000  0.000000e+00\n",
       "48942     0.000000  0.000000e+00\n",
       "48943     0.000000  0.000000e+00\n",
       "48944     0.000000  0.000000e+00\n",
       "48945     0.000000  0.000000e+00\n",
       "48946     0.000000  0.000000e+00\n",
       "48947   403.521484  1.576397e-05\n",
       "48948   159.695801  7.457827e-06\n",
       "48949     0.000000  0.000000e+00\n",
       "48950    21.134766  8.667994e-07\n",
       "48951     0.000000  0.000000e+00\n",
       "48952     0.000000  0.000000e+00\n",
       "48953     0.000000  0.000000e+00\n",
       "48954     0.000000  0.000000e+00\n",
       "48955     0.000000  0.000000e+00\n",
       "48956     0.000000  0.000000e+00\n",
       "48957     0.000000  0.000000e+00\n",
       "48958     0.000000  0.000000e+00\n",
       "48959     0.000000  0.000000e+00\n",
       "48960    17.132812  1.176028e-06\n",
       "48961     0.000000  0.000000e+00\n",
       "48962   -96.308594 -1.985376e-06\n",
       "48963     0.000000  0.000000e+00\n",
       "48964     0.000000  0.000000e+00\n",
       "48965     0.000000  0.000000e+00\n",
       "48966     0.000000  0.000000e+00\n",
       "48967     0.000000  0.000000e+00\n",
       "48968   515.120117  1.676715e-05\n",
       "48969     0.000000  0.000000e+00\n",
       "48970     0.000000  0.000000e+00\n",
       "48971    43.045410  2.948742e-06\n",
       "48972     0.000000  0.000000e+00\n",
       "48973     0.000000  0.000000e+00\n",
       "48974     0.000000  0.000000e+00\n",
       "48975     0.000000 -2.910383e-11\n",
       "48976     0.000000  0.000000e+00\n",
       "48977     0.000000  0.000000e+00\n",
       "48978     0.000000  0.000000e+00\n",
       "48979     0.000000  0.000000e+00\n",
       "48980     0.000000  0.000000e+00\n",
       "48981     0.000000  0.000000e+00\n",
       "48982     0.000000  0.000000e+00\n",
       "48983    94.904297  6.263988e-06\n",
       "48984     0.000000  0.000000e+00\n",
       "48985     0.000000  0.000000e+00\n",
       "48986     0.000000  0.000000e+00\n",
       "48987     0.000000  0.000000e+00\n",
       "48988     0.000000  0.000000e+00\n",
       "48989  -115.885742 -2.337882e-06\n",
       "48990     0.000000  0.000000e+00\n",
       "48991     0.000000  0.000000e+00\n",
       "48992     0.000000  0.000000e+00\n",
       "48993     0.000000  0.000000e+00\n",
       "48994     0.000000  0.000000e+00\n",
       "48995    14.648438  3.954920e-07\n",
       "48996   -11.225586 -4.139147e-07\n",
       "48997     0.000000  0.000000e+00\n",
       "48998     0.000000  0.000000e+00\n",
       "48999     0.000000  0.000000e+00\n",
       "49000     0.000000  0.000000e+00\n",
       "49001     0.000000  0.000000e+00\n",
       "49002     0.000000  0.000000e+00\n",
       "49003     0.000000  0.000000e+00\n",
       "49004     0.000000  0.000000e+00\n",
       "49005   -17.673828 -2.697343e-07\n",
       "49006    32.766602  1.906941e-06\n",
       "49007     0.000000  0.000000e+00\n",
       "49008     0.000000  0.000000e+00\n",
       "49009     0.000000  0.000000e+00\n",
       "49010     0.000000  0.000000e+00\n",
       "49011    -1.677734 -3.125751e-08\n",
       "49012     0.000000 -2.910383e-11\n",
       "49013     0.000000  0.000000e+00\n",
       "49014     0.000000  0.000000e+00\n",
       "49015     0.000000  0.000000e+00\n",
       "\n",
       "[49016 rows x 2 columns]"
      ]
     },
     "execution_count": 5,
     "metadata": {},
     "output_type": "execute_result"
    }
   ],
   "source": [
    "for month in range(3,4):\n",
    "    gain_u = (pd.Series(\n",
    "     survey_scenario.simulation.calculate(\"utility_compensated_ir_mensuel\", \"2009-{}\".format(month)) - \n",
    "survey_scenario.simulation.calculate(\"utility_ir_annuel\", \"2009-{}\".format(month))\n",
    "        ))\n",
    "    gain_m =  (\n",
    "        survey_scenario.simulation.calculate(\"inverted_utility_compensated_ir_mensuel\", \"2009-{}\".format(month)) - \n",
    "        survey_scenario.simulation.calculate(\"inverted_utility_ir_annuel\", \"2009-{}\".format(month)))\n",
    "pd.DataFrame({'gain_utilite':gain_u, 'gain_argent':gain_m})"
   ]
  },
  {
   "cell_type": "code",
   "execution_count": 6,
   "metadata": {
    "collapsed": false,
    "scrolled": false
   },
   "outputs": [
    {
     "data": {
      "image/png": "[encoded data removed]",
      "text/plain": [
       "<matplotlib.figure.Figure at 0x117822550>"
      ]
     },
     "metadata": {},
     "output_type": "display_data"
    },
    {
     "data": {
      "image/png": "[encoded data removed]",
      "text/plain": [
       "<matplotlib.figure.Figure at 0x1177ac990>"
      ]
     },
     "metadata": {},
     "output_type": "display_data"
    },
    {
     "data": {
      "image/png": "[encoded data removed]",
      "text/plain": [
       "<matplotlib.figure.Figure at 0x1f32bbe90>"
      ]
     },
     "metadata": {},
     "output_type": "display_data"
    },
    {
     "data": {
      "image/png": "[encoded data removed]",
      "text/plain": [
       "<matplotlib.figure.Figure at 0x1f590d310>"
      ]
     },
     "metadata": {},
     "output_type": "display_data"
    },
    {
     "data": {
      "image/png": "[encoded data removed]",
      "text/plain": [
       "<matplotlib.figure.Figure at 0x1f7a1c5d0>"
      ]
     },
     "metadata": {},
     "output_type": "display_data"
    },
    {
     "data": {
      "image/png": "[encoded data removed]",
      "text/plain": [
       "<matplotlib.figure.Figure at 0x1fa0fd050>"
      ]
     },
     "metadata": {},
     "output_type": "display_data"
    },
    {
     "data": {
      "image/png": "[encoded data removed]",
      "text/plain": [
       "<matplotlib.figure.Figure at 0x1fc50f190>"
      ]
     },
     "metadata": {},
     "output_type": "display_data"
    },
    {
     "data": {
      "image/png": "[encoded data removed]",
      "text/plain": [
       "<matplotlib.figure.Figure at 0x1f9f3d150>"
      ]
     },
     "metadata": {},
     "output_type": "display_data"
    },
    {
     "data": {
      "image/png": "[encoded data removed]",
      "text/plain": [
       "<matplotlib.figure.Figure at 0x200ff8a10>"
      ]
     },
     "metadata": {},
     "output_type": "display_data"
    },
    {
     "data": {
      "image/png": "[encoded data removed]",
      "text/plain": [
       "<matplotlib.figure.Figure at 0x20116f9d0>"
      ]
     },
     "metadata": {},
     "output_type": "display_data"
    },
    {
     "data": {
      "image/png": "[encoded data removed]",
      "text/plain": [
       "<matplotlib.figure.Figure at 0x205add810>"
      ]
     },
     "metadata": {},
     "output_type": "display_data"
    },
    {
     "data": {
      "image/png": "[encoded data removed]",
      "text/plain": [
       "<matplotlib.figure.Figure at 0x208039950>"
      ]
     },
     "metadata": {},
     "output_type": "display_data"
    }
   ],
   "source": [
    "for month in range(1,13):\n",
    "    gain_u = (pd.Series(\n",
    "     survey_scenario.simulation.calculate(\"utility_compensated_ir_mensuel\", \"2009-{}\".format(month)) - \n",
    "survey_scenario.simulation.calculate(\"utility_ir_annuel\", \"2009-{}\".format(month))\n",
    "        ))\n",
    "    gain_m =  (\n",
    "        survey_scenario.simulation.calculate(\"inverted_utility_compensated_ir_mensuel\", \"2009-{}\".format(month)) - \n",
    "        survey_scenario.simulation.calculate(\"inverted_utility_ir_annuel\", \"2009-{}\".format(month)))\n",
    "    pd.DataFrame({'gain_utilite':gain_u, 'gain_argent':gain_m})\n",
    "    plt.figure()\n",
    "    pd.Series(gain_m)[gain_m!=0].hist(bins = 1500)\n",
    "    plt.xlim(-200,200)\n",
    "    plt.xlabel(\"equivalent monetary gains in euros \")\n",
    "    plt.ylabel('frequency')\n",
    "#TODO: problème sur les 3 derniers mois !"
   ]
  },
  {
   "cell_type": "code",
   "execution_count": 48,
   "metadata": {
    "collapsed": false
   },
   "outputs": [],
   "source": [
    "monetary_gain_ir = np.zeros(weight_menages.shape[0])\n",
    "for month in range(1,10):\n",
    "    monetary_gain_ir += (\n",
    "    survey_scenario.simulation.calculate(\"inverted_utility_compensated_ir_mensuel\", \"2009-{}\".format(month)) - \n",
    "    survey_scenario.simulation.calculate(\"inverted_utility_ir_annuel\", \"2009-{}\".format(month))\n",
    "    )*weight_menages"
   ]
  },
  {
   "cell_type": "code",
   "execution_count": 49,
   "metadata": {
    "collapsed": false
   },
   "outputs": [
    {
     "data": {
      "text/plain": [
       "1.2469275961916018"
      ]
     },
     "execution_count": 49,
     "metadata": {},
     "output_type": "execute_result"
    }
   ],
   "source": [
    "((monetary_gain_ir.sum(0)/10)*12)/10**9"
   ]
  },
  {
   "cell_type": "code",
   "execution_count": 6,
   "metadata": {
    "collapsed": true
   },
   "outputs": [],
   "source": [
    "monetary_gain_ir_rsa = np.zeros(weight_menages.shape[0])\n",
    "for month in range(1,10):\n",
    "    monetary_gain_ir_rsa += (\n",
    "    survey_scenario.simulation.calculate(\"inverted_utility_compensated_ir_mensuel_rsa_mensuel\", \"2009-{}\".format(month)) - \n",
    "    survey_scenario.simulation.calculate(\"inverted_utility_ir_annuel\", \"2009-{}\".format(month))\n",
    "    )*weight_menages"
   ]
  },
  {
   "cell_type": "code",
   "execution_count": 7,
   "metadata": {
    "collapsed": false
   },
   "outputs": [
    {
     "data": {
      "text/plain": [
       "2.8068383460878907"
      ]
     },
     "execution_count": 7,
     "metadata": {},
     "output_type": "execute_result"
    }
   ],
   "source": [
    "((monetary_gain_ir_rsa.sum(0)/10)*12)/10**9"
   ]
  },
  {
   "cell_type": "markdown",
   "metadata": {},
   "source": [
    "Gains moyens par ménages."
   ]
  },
  {
   "cell_type": "code",
   "execution_count": null,
   "metadata": {
    "collapsed": false
   },
   "outputs": [],
   "source": [
    "month = 7\n",
    "gain = pd.Series(survey_scenario.simulation.calculate(\"inverted_utility_compensated_ir_mensuel\", \"2009-{}\".format(month)) - \n",
    "    survey_scenario.simulation.calculate(\"inverted_utility_ir_annuel\", \"2009-{}\".format(month))\n",
    "    )\n",
    "gain[np.abs(gain)>1].mean()"
   ]
  },
  {
   "cell_type": "code",
   "execution_count": null,
   "metadata": {
    "collapsed": true
   },
   "outputs": [],
   "source": [
    "print pd.Series(monetary_gain<-10).value_counts()\n",
    "print pd.Series(monetary_gain>10).value_counts()\n",
    "pd.Series(monetary_gain)[monetary_gain>10]"
   ]
  },
  {
   "cell_type": "code",
   "execution_count": null,
   "metadata": {
    "collapsed": false
   },
   "outputs": [],
   "source": [
    "print pd.Series(weight_menages)[monetary_gains != 0].shape\n",
    "print monetary_gains_0.shape\n",
    "pd.Series(weight_menages)[monetary_gains != 0]).shape"
   ]
  },
  {
   "cell_type": "code",
   "execution_count": null,
   "metadata": {
    "collapsed": false
   },
   "outputs": [],
   "source": [
    "monetary_gains = pd.Series(monetary_gain)\n",
    "monetary_gains_0 = monetary_gains[monetary_gains != 0]\n",
    "monetary_gains_0.hist(bins = 500, weights = (pd.Series(weight_menages)[monetary_gains != 0]).values)\n",
    "plt.xlim(-10000,10000)"
   ]
  },
  {
   "cell_type": "code",
   "execution_count": null,
   "metadata": {
    "collapsed": false
   },
   "outputs": [],
   "source": [
    " diff_in_income = pd.Series(\n",
    "    np.abs(survey_scenario.simulation.calculate(\"revdisp_mensuel_annuel\", \"2009-{}\".format(month))\n",
    "          - survey_scenario.simulation.calculate(\"revdisp_mensuel_compensated_ir_mensuel\", \"2009-{}\".format(month)))>1\n",
    "    )"
   ]
  },
  {
   "cell_type": "code",
   "execution_count": null,
   "metadata": {
    "collapsed": true
   },
   "outputs": [],
   "source": [
    "pd.Series(monetary_gain)[diff_in_income].value_counts()"
   ]
  },
  {
   "cell_type": "code",
   "execution_count": null,
   "metadata": {
    "collapsed": true
   },
   "outputs": [],
   "source": [
    "weight_menages.sum(0)"
   ]
  },
  {
   "cell_type": "code",
   "execution_count": null,
   "metadata": {
    "collapsed": true
   },
   "outputs": [],
   "source": []
  },
  {
   "cell_type": "code",
   "execution_count": null,
   "metadata": {
    "collapsed": true
   },
   "outputs": [],
   "source": []
  },
  {
   "cell_type": "code",
   "execution_count": null,
   "metadata": {
    "collapsed": true
   },
   "outputs": [],
   "source": []
  },
  {
   "cell_type": "code",
   "execution_count": null,
   "metadata": {
    "collapsed": true
   },
   "outputs": [],
   "source": []
  },
  {
   "cell_type": "code",
   "execution_count": null,
   "metadata": {
    "collapsed": false
   },
   "outputs": [],
   "source": [
    "monetary_gain.sum(0)/10**9"
   ]
  },
  {
   "cell_type": "code",
   "execution_count": null,
   "metadata": {
    "collapsed": true
   },
   "outputs": [],
   "source": [
    "print survey_scenario.compute_aggregate('rsa_mensuel')/10**9\n",
    "print survey_scenario.compute_aggregate('rsa')/10**9"
   ]
  },
  {
   "cell_type": "code",
   "execution_count": null,
   "metadata": {
    "collapsed": false
   },
   "outputs": [],
   "source": [
    "for month in range(1,13):\n",
    "    var = 'rsa_socle_majore_mensualise'\n",
    "    print var, pd.Series(survey_scenario.simulation.calculate(var,'2009-{}'.format(month))*weight_familles).sum()/10**9\n",
    "    var = 'nb_enfant_rsa'\n",
    "    print var, pd.Series(survey_scenario.simulation.calculate(var,'2009-{}'.format(month))*weight_familles).sum()/10**9\n",
    "    var = 'rsa_majore_eligibilite'\n",
    "    print var, pd.Series(survey_scenario.simulation.calculate(var,'2009-{}'.format(month))*weight_familles).sum()"
   ]
  },
  {
   "cell_type": "code",
   "execution_count": null,
   "metadata": {
    "collapsed": false
   },
   "outputs": [],
   "source": [
    "for month in range(1,13):\n",
    "    print pd.Series(survey_scenario.simulation.calculate('rsa_mensuel','2009-{}'.format(month))*weight_familles).sum()/10**9\n",
    "    print pd.Series(survey_scenario.simulation.calculate('rsa','2009-{}'.format(month))*weight_familles).sum()/10**9"
   ]
  },
  {
   "cell_type": "code",
   "execution_count": null,
   "metadata": {
    "collapsed": false
   },
   "outputs": [],
   "source": [
    "for month in range(1,13):\n",
    "    print np.sum(survey_scenario.simulation.calculate('nb_enfant_rsa', '2009-{}'.format(month))*weight_familles)/10**9\n",
    "    print np.sum(survey_scenario.simulation.calculate('rsa_non_majore_mensualise', '2009-{}'.format(month))*weight_familles)/10**9\n",
    "    print np.sum(survey_scenario.simulation.calculate('rsa_non_majore', '2009-{}'.format(month))*weight_familles)/10**9\n",
    "    print '.'*10"
   ]
  },
  {
   "cell_type": "code",
   "execution_count": null,
   "metadata": {
    "collapsed": false
   },
   "outputs": [],
   "source": [
    "for month in range(1,13):\n",
    "    print np.sum(survey_scenario.simulation.calculate('rsa_majore_mensualise', '2009-{}'.format(month))*weight_familles)/10**9\n",
    "    print np.sum(survey_scenario.simulation.calculate('rsa_majore', '2009-{}'.format(month))*weight_familles)/10**9"
   ]
  },
  {
   "cell_type": "code",
   "execution_count": null,
   "metadata": {
    "collapsed": true
   },
   "outputs": [],
   "source": [
    "for month in range(1,13):\n",
    "    print np.sum(survey_scenario.simulation.calculate('rsa_majore_mensualise', '2009-{}'.format(month))*weight_familles)/10**9\n",
    "    print np.sum(survey_scenario.simulation.calculate('rsa_majore', '2009-{}'.format(month))*weight_familles)/10**9"
   ]
  },
  {
   "cell_type": "code",
   "execution_count": null,
   "metadata": {
    "collapsed": false
   },
   "outputs": [],
   "source": [
    "for month in range(1,13):\n",
    "    filter_0 = (pd.Series(survey_scenario.simulation.calculate('ra_rsa', '2009-{}'.format(month)))<0)\n",
    "    print pd.Series(survey_scenario.simulation.calculate('ra_rsa', '2009-{}'.format(month))).sum()\n",
    "    print pd.Series(survey_scenario.simulation.calculate('ra_rsa', '2009-{}'.format(month)))[filter_0].sum()\n",
    "    \n"
   ]
  },
  {
   "cell_type": "code",
   "execution_count": null,
   "metadata": {
    "collapsed": false
   },
   "outputs": [],
   "source": [
    "for month in range(1,13):\n",
    "    print np.sum(survey_scenario.simulation.calculate('rsa_mensuel', '2009-{}'.format(month))*weight_familles)/10**9\n",
    "    print np.sum(survey_scenario.simulation.calculate('rsa', '2009-{}'.format(month))*weight_familles)/10**9"
   ]
  },
  {
   "cell_type": "code",
   "execution_count": null,
   "metadata": {
    "collapsed": true
   },
   "outputs": [],
   "source": []
  },
  {
   "cell_type": "code",
   "execution_count": null,
   "metadata": {
    "collapsed": false
   },
   "outputs": [],
   "source": [
    "((pd.Series(survey_scenario.simulation.calculate_add('rsa', '2009'.format(month))))*weight_familles).sum()/10**9"
   ]
  },
  {
   "cell_type": "code",
   "execution_count": null,
   "metadata": {
    "collapsed": false
   },
   "outputs": [],
   "source": [
    "survey_scenario.compute_aggregate('rsa')/10**9"
   ]
  },
  {
   "cell_type": "code",
   "execution_count": null,
   "metadata": {
    "collapsed": false
   },
   "outputs": [],
   "source": [
    "print pd.Series(survey_scenario.simulation.calculate('irpp')* weight_foyers).sum()\n",
    "print survey_scenario.compute_aggregate('irpp')"
   ]
  },
  {
   "cell_type": "code",
   "execution_count": null,
   "metadata": {
    "collapsed": false
   },
   "outputs": [],
   "source": [
    "print survey_scenario.compute_aggregate.__getattribute__"
   ]
  },
  {
   "cell_type": "code",
   "execution_count": null,
   "metadata": {
    "collapsed": false
   },
   "outputs": [],
   "source": [
    "month = 8\n",
    "print np.sum(survey_scenario.simulation.calculate('rsa_mensuel', '2009-{}'.format(month))*weight_familles)*12/10**9\n",
    "print np.sum(survey_scenario.simulation.calculate('rsa', '2009-{}'.format(month))*weight_familles)*12/10**9"
   ]
  },
  {
   "cell_type": "markdown",
   "metadata": {},
   "source": [
    "##### weights"
   ]
  },
  {
   "cell_type": "code",
   "execution_count": 5,
   "metadata": {
    "collapsed": false
   },
   "outputs": [],
   "source": [
    "weight_foyers = survey_scenario.simulation.calculate_add('weight_foyers', period = period).astype(float)\n",
    "weight_menages = survey_scenario.simulation.calculate_add('wprm', period = period).astype(float)\n",
    "weight_familles = survey_scenario.simulation.calculate_add('weight_familles', period = period).astype(float)\n",
    "weight_individus = survey_scenario.simulation.calculate_add('weight_individus', period = period).astype(float)"
   ]
  },
  {
   "cell_type": "code",
   "execution_count": 9,
   "metadata": {
    "collapsed": false
   },
   "outputs": [
    {
     "name": "stdout",
     "output_type": "stream",
     "text": [
      "(59874,) foyers fiscaux\n",
      "(49016,) ménages\n",
      "(55306,) familles\n",
      "(112359,) individus\n"
     ]
    }
   ],
   "source": [
    "print weight_foyers.shape , \"foyers fiscaux\"\n",
    "print weight_menages.shape , \"ménages\"\n",
    "print weight_familles.shape, \"familles\"\n",
    "print weight_individus.shape, \"individus\""
   ]
  },
  {
   "cell_type": "code",
   "execution_count": 10,
   "metadata": {
    "collapsed": false
   },
   "outputs": [
    {
     "name": "stdout",
     "output_type": "stream",
     "text": [
      "33262201.0 foyers fiscaux\n",
      "27299608.0 ménages\n",
      "30475517.0 familles\n",
      "61228244.0 individus\n"
     ]
    }
   ],
   "source": [
    "print weight_foyers.sum() , \"foyers fiscaux\"\n",
    "print weight_menages.sum() , \"ménages\"\n",
    "print weight_familles.sum(), \"familles\"\n",
    "print weight_individus.sum(), \"individus\""
   ]
  },
  {
   "cell_type": "code",
   "execution_count": 11,
   "metadata": {
    "collapsed": false,
    "scrolled": false
   },
   "outputs": [],
   "source": [
    "variable = 'revdisp_mensuel_ir_mensuel'\n",
    "monthly_df = pd.DataFrame(\n",
    "                dict((column_name+\"_\"+period, survey_scenario.simulation.calculate_add(column_name, period)) \n",
    "                for period in ['{}-{}'.format( 2009, str(month).zfill(2)) for month in range(1, 13)] for column_name in [variable]) #TODO mensualize : allow for periods\n",
    "                )\n",
    "#monthly_df.T"
   ]
  },
  {
   "cell_type": "code",
   "execution_count": 12,
   "metadata": {
    "collapsed": false
   },
   "outputs": [
    {
     "data": {
      "text/plain": [
       "2562.1338"
      ]
     },
     "execution_count": 12,
     "metadata": {},
     "output_type": "execute_result"
    }
   ],
   "source": [
    "#monthly_df.T\n",
    "monthly_df['revdisp_mensuel_ir_mensuel_2009-09'].mean()"
   ]
  },
  {
   "cell_type": "code",
   "execution_count": 13,
   "metadata": {
    "collapsed": false
   },
   "outputs": [
    {
     "data": {
      "text/plain": [
       "30971.156008867594"
      ]
     },
     "execution_count": 13,
     "metadata": {},
     "output_type": "execute_result"
    }
   ],
   "source": [
    "survey_scenario.compute_aggregate('revdisp_mensuel_annuel')/27000000"
   ]
  },
  {
   "cell_type": "code",
   "execution_count": 14,
   "metadata": {
    "collapsed": false
   },
   "outputs": [
    {
     "data": {
      "text/plain": [
       "30749.742025517487"
      ]
     },
     "execution_count": 14,
     "metadata": {},
     "output_type": "execute_result"
    }
   ],
   "source": [
    "survey_scenario.compute_aggregate('revdisp_mensuel_ir_mensuel')/27000000"
   ]
  },
  {
   "cell_type": "code",
   "execution_count": 15,
   "metadata": {
    "collapsed": false
   },
   "outputs": [
    {
     "data": {
      "text/plain": [
       "30749.742025517487"
      ]
     },
     "execution_count": 15,
     "metadata": {},
     "output_type": "execute_result"
    }
   ],
   "source": [
    "survey_scenario.compute_aggregate('revdisp_mensuel_ir_mensuel')/27000000"
   ]
  },
  {
   "cell_type": "code",
   "execution_count": 16,
   "metadata": {
    "collapsed": false
   },
   "outputs": [
    {
     "data": {
      "text/plain": [
       " 0.000000e+00    37530\n",
       " 1.220703e-04     2228\n",
       "-1.220703e-04     2199\n",
       " 6.103516e-05     1800\n",
       " 2.441406e-04     1791\n",
       "-6.103516e-05     1662\n",
       "-2.441406e-04     1591\n",
       "-3.051758e-05     1246\n",
       "-4.882812e-04      948\n",
       " 3.051758e-05      946\n",
       " 4.882812e-04      879\n",
       " 1.525879e-05      654\n",
       "-1.525879e-05      530\n",
       "-9.765625e-04      506\n",
       "-3.662109e-04      499\n",
       " 3.662109e-04      438\n",
       " 9.155273e-05      372\n",
       "-1.831055e-04      360\n",
       " 9.765625e-04      356\n",
       " 1.831055e-04      291\n",
       " 7.324219e-04      273\n",
       "-7.629395e-06      270\n",
       "-7.324219e-04      269\n",
       " 7.629395e-06      262\n",
       "-4.577637e-05      209\n",
       " 1.953125e-03      183\n",
       "-1.953125e-03      139\n",
       "-9.155273e-05      122\n",
       "-1.464844e-03      109\n",
       " 1.464844e-03      106\n",
       " 2.288818e-05       93\n",
       "-3.051758e-04       78\n",
       "-3.906250e-03       62\n",
       " 3.051758e-04       62\n",
       " 4.577637e-05       58\n",
       " 3.906250e-03       56\n",
       " 6.103516e-04       52\n",
       "-6.103516e-04       50\n",
       "-2.929688e-03       48\n",
       "-1.220703e-03       46\n",
       " 2.929688e-03       41\n",
       " 1.192093e-07       37\n",
       "-3.814697e-06       35\n",
       " 3.814697e-06       33\n",
       "-2.288818e-05       32\n",
       " 1.220703e-03       28\n",
       "-2.441406e-03       23\n",
       " 5.859375e-03       19\n",
       "-5.859375e-03       15\n",
       " 2.441406e-03       15\n",
       " 1.907349e-06       15\n",
       " 7.812500e-03       14\n",
       "-1.907349e-06       13\n",
       "-7.812500e-03       11\n",
       "-1.525879e-04       11\n",
       "-1.144409e-05        9\n",
       " 1.525879e-04        9\n",
       " 9.536743e-07        8\n",
       " 2.980232e-08        8\n",
       "-7.629395e-05        7\n",
       "-4.882812e-03        7\n",
       " 4.882812e-03        6\n",
       " 7.629395e-05        5\n",
       " 1.144409e-05        5\n",
       " 4.768372e-07        4\n",
       "-9.536743e-07        4\n",
       "-1.708984e-03        4\n",
       "-2.343750e-02        3\n",
       "-1.562500e-02        3\n",
       " 5.960464e-08        3\n",
       "-4.768372e-07        3\n",
       "-3.125000e-02        3\n",
       "-5.960464e-08        3\n",
       "-4.272461e-04        3\n",
       " 9.765625e-03        3\n",
       " 1.562500e-02        3\n",
       "-2.861023e-06        3\n",
       "-1.171875e-02        3\n",
       " 2.861023e-06        2\n",
       " 2.343750e-02        2\n",
       " 1.953125e-02        2\n",
       " 5.722046e-06        2\n",
       " 2.384186e-07        2\n",
       " 1.788139e-07        2\n",
       "-2.593994e-04        2\n",
       " 3.814697e-05        2\n",
       "-2.136230e-04        2\n",
       " 5.493164e-04        2\n",
       "-1.098633e-03        1\n",
       " 9.375000e-02        1\n",
       " 1.171875e-02        1\n",
       " 1.430511e-06        1\n",
       "-2.746582e-04        1\n",
       "-3.974915e-03        1\n",
       " 1.708984e-03        1\n",
       "-3.967285e-04        1\n",
       " 1.251221e-03        1\n",
       "-1.068115e-04        1\n",
       "-8.940697e-08        1\n",
       " 1.586914e-03        1\n",
       "-8.544922e-04        1\n",
       " 2.746582e-03        1\n",
       "-1.907349e-05        1\n",
       " 1.907349e-05        1\n",
       " 6.250000e-02        1\n",
       " 3.125000e-02        1\n",
       " 1.049042e-05        1\n",
       "-1.373291e-04        1\n",
       "-6.713867e-03        1\n",
       "-3.814697e-05        1\n",
       "-9.765625e-03        1\n",
       " 2.838135e-03        1\n",
       "-2.734375e-02        1\n",
       " 2.136230e-04        1\n",
       "-1.342773e-03        1\n",
       " 1.037598e-03        1\n",
       " 7.934570e-04        1\n",
       "-6.835938e-03        1\n",
       "dtype: int64"
      ]
     },
     "execution_count": 16,
     "metadata": {},
     "output_type": "execute_result"
    }
   ],
   "source": [
    "pd.Series(survey_scenario.simulation.calculate_add('compensated_irpp_mensuel') -  survey_scenario.simulation.calculate_add('irpp')).value_counts()#TODO !"
   ]
  },
  {
   "cell_type": "code",
   "execution_count": 17,
   "metadata": {
    "collapsed": false
   },
   "outputs": [
    {
     "data": {
      "text/plain": [
       "-48038862065.683533"
      ]
     },
     "execution_count": 17,
     "metadata": {},
     "output_type": "execute_result"
    }
   ],
   "source": [
    "survey_scenario.compute_aggregate('irpp')"
   ]
  },
  {
   "cell_type": "code",
   "execution_count": 18,
   "metadata": {
    "collapsed": false
   },
   "outputs": [
    {
     "name": "stdout",
     "output_type": "stream",
     "text": [
      "124.687\n",
      "66.3229\n",
      "114.181\n",
      "180.594\n",
      "136.797\n",
      "135.994\n",
      "136.076\n",
      "134.618\n",
      "133.74\n",
      "140.21\n",
      "129.986\n",
      "130.273\n"
     ]
    }
   ],
   "source": [
    "for month in range(1,13):\n",
    "    print pd.Series(survey_scenario.simulation.calculate('mini_mensuel','2009-{}'.format(month))).mean()\n"
   ]
  },
  {
   "cell_type": "code",
   "execution_count": 19,
   "metadata": {
    "collapsed": false
   },
   "outputs": [
    {
     "name": "stdout",
     "output_type": "stream",
     "text": [
      "2552.75\n",
      "2483.99\n",
      "2540.7\n",
      "2547.51\n",
      "2507.43\n",
      "2517.38\n",
      "2523.58\n",
      "2538.83\n",
      "2567.66\n",
      "2590.56\n",
      "3199.38\n",
      "2600.03\n"
     ]
    }
   ],
   "source": [
    "for month in range(1,13):\n",
    "    print pd.Series(survey_scenario.simulation.calculate('revdisp_mensuel_annuel','2009-{}'.format(month))).mean()\n"
   ]
  },
  {
   "cell_type": "code",
   "execution_count": 20,
   "metadata": {
    "collapsed": false
   },
   "outputs": [
    {
     "name": "stdout",
     "output_type": "stream",
     "text": [
      "2551.58\n",
      "2484.06\n",
      "2540.94\n",
      "2549.31\n",
      "2508.64\n",
      "2517.8\n",
      "2523.75\n",
      "2537.29\n",
      "2562.13\n",
      "2582.3\n",
      "3021.07\n",
      "2586.95\n"
     ]
    }
   ],
   "source": [
    "for month in range(1,13):\n",
    "    print pd.Series(survey_scenario.simulation.calculate('revdisp_mensuel_ir_mensuel','2009-{}'.format(month))).mean()\n"
   ]
  },
  {
   "cell_type": "code",
   "execution_count": 21,
   "metadata": {
    "collapsed": false
   },
   "outputs": [
    {
     "name": "stdout",
     "output_type": "stream",
     "text": [
      "annuel -0.000369867\n",
      "mensuel -0.000369675\n",
      "annuel -0.000373569\n",
      "mensuel -0.000373396\n",
      "annuel -0.00037033\n",
      "mensuel -0.000370159\n",
      "annuel -0.000368888\n",
      "mensuel -0.000368697\n",
      "annuel -0.000371163\n",
      "mensuel -0.000370982\n",
      "annuel -0.000370823\n",
      "mensuel -0.000370672\n",
      "annuel -0.000370587\n",
      "mensuel -0.000370441\n",
      "annuel -0.000370088\n",
      "mensuel -0.000369984\n",
      "annuel -0.000369374\n",
      "mensuel -0.000369326\n",
      "annuel -0.000369142\n",
      "mensuel -0.000369079\n",
      "annuel -0.000358717\n",
      "mensuel -0.000359862\n",
      "annuel -0.000369153\n",
      "mensuel -0.000369172\n"
     ]
    }
   ],
   "source": [
    "for month in range(1,13):\n",
    "    print 'annuel', pd.Series(survey_scenario.simulation.calculate('utility_ir_annuel','2009-{}'.format(month))).mean()\n",
    "    print 'mensuel', pd.Series(survey_scenario.simulation.calculate('utility_ir_mensuel','2009-{}'.format(month))).mean()"
   ]
  },
  {
   "cell_type": "code",
   "execution_count": 22,
   "metadata": {
    "collapsed": true
   },
   "outputs": [],
   "source": [
    "decote_monthly = pd.Series(survey_scenario.simulation.calculate_add(\"decote_gain_fiscal_mensuel_times_12\")/12)\n",
    "decote_annual =  pd.Series(survey_scenario.simulation.calculate_add('decote_gain_fiscal'))"
   ]
  },
  {
   "cell_type": "code",
   "execution_count": 23,
   "metadata": {
    "collapsed": false
   },
   "outputs": [
    {
     "data": {
      "text/plain": [
       "False    49016\n",
       "dtype: int64"
      ]
     },
     "execution_count": 23,
     "metadata": {},
     "output_type": "execute_result"
    }
   ],
   "source": [
    "(pd.Series(survey_scenario.simulation.calculate_add('revdisp_mensuel_annuel','2009')) < 0 ).value_counts()"
   ]
  },
  {
   "cell_type": "code",
   "execution_count": 24,
   "metadata": {
    "collapsed": false
   },
   "outputs": [],
   "source": [
    "revdisp = pd.Series(survey_scenario.simulation.calculate_add('revdisp_mensuel_annuel','2009'))\n",
    "revdisp = pd.Series(survey_scenario.simulation.calculate_add('revdisp_mensuel_annuel','2009'))\n",
    "#revdisp[revdisp<0]"
   ]
  },
  {
   "cell_type": "code",
   "execution_count": 25,
   "metadata": {
    "collapsed": false
   },
   "outputs": [],
   "source": [
    "decote = survey_scenario.simulation.calculate('decote_menage')\n",
    "decote_mensuel = survey_scenario.simulation.calculate_add('decote_mensuel_menage')"
   ]
  },
  {
   "cell_type": "code",
   "execution_count": 26,
   "metadata": {
    "collapsed": false
   },
   "outputs": [
    {
     "data": {
      "text/plain": [
       "-118364.70183011307"
      ]
     },
     "execution_count": 26,
     "metadata": {},
     "output_type": "execute_result"
    }
   ],
   "source": [
    "survey_scenario.compute_aggregate(\"utility_ir_annuel\")"
   ]
  },
  {
   "cell_type": "code",
   "execution_count": 27,
   "metadata": {
    "collapsed": false
   },
   "outputs": [
    {
     "data": {
      "text/plain": [
       "552969854465.4801"
      ]
     },
     "execution_count": 27,
     "metadata": {},
     "output_type": "execute_result"
    }
   ],
   "source": [
    "survey_scenario.compute_aggregate(\"ra_rsa_i_mensualise\")"
   ]
  },
  {
   "cell_type": "code",
   "execution_count": null,
   "metadata": {
    "collapsed": true
   },
   "outputs": [],
   "source": []
  },
  {
   "cell_type": "code",
   "execution_count": 28,
   "metadata": {
    "collapsed": false
   },
   "outputs": [
    {
     "name": "stdout",
     "output_type": "stream",
     "text": [
      "rev_trav_mensuel\n",
      "813.492\n",
      "810.8\n",
      "811.185\n",
      "810.757\n",
      "811.691\n",
      "813.136\n",
      "814.277\n",
      "817.74\n",
      "824.117\n",
      "835.849\n",
      "836.74\n",
      "841.17\n",
      "pen_mensuel\n",
      "241.897\n",
      "242.088\n",
      "243.89\n",
      "242.802\n",
      "245.302\n",
      "248.539\n",
      "250.039\n",
      "254.043\n",
      "260.873\n",
      "255.497\n",
      "526.99\n",
      "258.776\n",
      "psoc_mensuel\n",
      "181.405\n",
      "123.034\n",
      "170.863\n",
      "182.062\n",
      "138.264\n",
      "137.477\n",
      "137.529\n",
      "136.075\n",
      "135.177\n",
      "141.63\n",
      "131.38\n",
      "131.637\n",
      "ppe\n",
      "6.49515\n",
      "6.49515\n",
      "6.49515\n",
      "6.49515\n",
      "6.49515\n",
      "6.49515\n",
      "6.49515\n",
      "6.49515\n",
      "6.49515\n",
      "6.49515\n",
      "6.49515\n",
      "6.49515\n"
     ]
    }
   ],
   "source": [
    "for presta in ['rev_trav_mensuel' , 'pen_mensuel' , 'psoc_mensuel','ppe']:\n",
    "    print presta\n",
    "    for month in range(1,13):\n",
    "        print pd.Series(survey_scenario.simulation.calculate(presta,'2009-{}'.format(month))).mean()\n"
   ]
  },
  {
   "cell_type": "markdown",
   "metadata": {},
   "source": [
    "## Compare IRPP on monthly basis vs. on annual basis"
   ]
  },
  {
   "cell_type": "code",
   "execution_count": 29,
   "metadata": {
    "collapsed": false
   },
   "outputs": [
    {
     "name": "stdout",
     "output_type": "stream",
     "text": [
      "-48.0388620657\n",
      "-53.8233637481\n",
      "l'impôt mensuel mène à un prélèvement de -5784501682.38 euros en plus\n"
     ]
    }
   ],
   "source": [
    "print survey_scenario.compute_aggregate('irpp')/10**9\n",
    "print survey_scenario.compute_aggregate('irpp_mensuel')/10**9\n",
    "print u\"l'impôt mensuel mène à un prélèvement de {} euros en plus\".format(survey_scenario.compute_aggregate('irpp_mensuel')-survey_scenario.compute_aggregate('irpp') )"
   ]
  },
  {
   "cell_type": "code",
   "execution_count": 30,
   "metadata": {
    "collapsed": false
   },
   "outputs": [
    {
     "data": {
      "text/plain": [
       "False    35248\n",
       "True     24626\n",
       "dtype: int64"
      ]
     },
     "execution_count": 30,
     "metadata": {},
     "output_type": "execute_result"
    }
   ],
   "source": [
    "pd.Series(survey_scenario.simulation.calculate(\"irpp\") == survey_scenario.simulation.calculate(\"irpp_mensuel\")).value_counts()"
   ]
  },
  {
   "cell_type": "code",
   "execution_count": null,
   "metadata": {
    "collapsed": false
   },
   "outputs": [],
   "source": [
    "#np.testing.assert_array_almost_equal(survey_scenario.simulation.calculate('irpp'),survey_scenario.simulation.calculate_add(\"irpp_mensuel\"), decimal = -0,\n",
    "#                                    )"
   ]
  },
  {
   "cell_type": "markdown",
   "metadata": {},
   "source": [
    "#### Lambda compensation"
   ]
  },
  {
   "cell_type": "code",
   "execution_count": null,
   "metadata": {
    "collapsed": true
   },
   "outputs": [],
   "source": [
    "lambda_compensation = pd.Series(survey_scenario.simulation.calculate(\"lambda_compensation\"))"
   ]
  },
  {
   "cell_type": "code",
   "execution_count": null,
   "metadata": {
    "collapsed": false,
    "scrolled": true
   },
   "outputs": [],
   "source": [
    "execute_time_consuming_graph = False\n",
    "if execute_time_consuming_graph == True : \n",
    "    lambda_compensation = pd.Series(survey_scenario.simulation.calculate(\"lambda_compensation\"))\n",
    "    lambda_compensation.loc[(lambda_compensation == -np.inf)|lambda_compensation.isnull()]=0\n",
    "    lambda_compensation.loc[(lambda_compensation == np.inf)|lambda_compensation.isnull()]=0\n",
    "    filtr_near0 = np.abs(lambda_compensation)-0.2 >= 0\n",
    "    lambda_compensation[filtr_near0 ].hist(bins = 70000, weights = pd.Series(weight_foyers)[filtr_near0 ].values)\n",
    "    plt.xlim(-20,20)"
   ]
  },
  {
   "cell_type": "code",
   "execution_count": null,
   "metadata": {
    "collapsed": false,
    "scrolled": true
   },
   "outputs": [],
   "source": [
    "if execute_time_consuming_graph == True :\n",
    "    lambda_compensation = pd.Series(survey_scenario.simulation.calculate(\"lambda_compensation\"))\n",
    "    lambda_compensation.loc[(lambda_compensation == -np.inf)|lambda_compensation.isnull()]=0\n",
    "    lambda_compensation.loc[(lambda_compensation == np.inf)|lambda_compensation.isnull()]=0\n",
    "    lambda_compensation[np.abs(lambda_compensation)-0.2 >= 0 ].hist(bins = 700000)\n",
    "    plt.xlim(-20,20)"
   ]
  },
  {
   "cell_type": "code",
   "execution_count": null,
   "metadata": {
    "collapsed": false
   },
   "outputs": [],
   "source": [
    "lambda_compensation = pd.Series(survey_scenario.simulation.calculate(\"lambda_compensation\"))\n",
    "lambda_compensation.loc[(lambda_compensation == -np.inf)|lambda_compensation.isnull()]=0\n",
    "lambda_compensation.loc[(lambda_compensation == np.inf)|lambda_compensation.isnull()]=0\n",
    "lambda_compensation[np.abs(lambda_compensation)-2000 >= 0 ].hist(bins = 10)\n",
    "#plt.xlim(-20,20)"
   ]
  },
  {
   "cell_type": "markdown",
   "metadata": {},
   "source": [
    "#### Pourcentage du sample à 0"
   ]
  },
  {
   "cell_type": "code",
   "execution_count": null,
   "metadata": {
    "collapsed": false
   },
   "outputs": [],
   "source": [
    "lambda_compensation = pd.Series(survey_scenario.simulation.calculate(\"lambda_compensation\"))\n",
    "#lambda_compensation.loc[(lambda_compensation == -np.inf)|lambda_compensation.isnull()]=0\n",
    "#lambda_compensation.loc[(lambda_compensation == np.inf)|lambda_compensation.isnull()]=0\n",
    "prct1 = lambda_compensation[np.abs(lambda_compensation)==0].shape[0]/lambda_compensation.shape[0]\n",
    "print \"{} % du sample à un lambda égal à 0 \".format(round(prct1,2)*100)"
   ]
  },
  {
   "cell_type": "markdown",
   "metadata": {},
   "source": [
    "#### Pourcentage du sample presque à 0"
   ]
  },
  {
   "cell_type": "code",
   "execution_count": null,
   "metadata": {
    "collapsed": false
   },
   "outputs": [],
   "source": [
    "lambda_compensation = pd.Series(survey_scenario.simulation.calculate(\"lambda_compensation\"))\n",
    "lambda_compensation.loc[(lambda_compensation == -np.inf)|lambda_compensation.isnull()]=0\n",
    "lambda_compensation.loc[(lambda_compensation == np.inf)|lambda_compensation.isnull()]=0\n",
    "prct1 = lambda_compensation[np.abs(lambda_compensation)<0.01].shape[0]/lambda_compensation.shape[0]\n",
    "print \"{} % du sample à un lambda égal à 0 \".format(round(prct1,2)*100)"
   ]
  },
  {
   "cell_type": "markdown",
   "metadata": {},
   "source": [
    "#### Pourcentage du sample > ou < à  0"
   ]
  },
  {
   "cell_type": "code",
   "execution_count": null,
   "metadata": {
    "collapsed": false
   },
   "outputs": [],
   "source": [
    "lambda_compensation = pd.Series(survey_scenario.simulation.calculate(\"lambda_compensation\"))\n",
    "lambda_compensation.loc[(lambda_compensation == -np.inf)|lambda_compensation.isnull()]=0\n",
    "lambda_compensation.loc[(lambda_compensation == np.inf)|lambda_compensation.isnull()]=0\n",
    "prct1 = lambda_compensation[lambda_compensation<0].shape[0]/lambda_compensation.shape[0]\n",
    "prct2 = lambda_compensation[lambda_compensation>0].shape[0]/lambda_compensation.shape[0]\n",
    "print \"{} % du sample à un lambda < à 0 \".format(round(prct1,2)*100)\n",
    "print \"{} % du sample à un lambda > à 0 \".format(round(prct2,2)*100)"
   ]
  },
  {
   "cell_type": "code",
   "execution_count": null,
   "metadata": {
    "collapsed": false
   },
   "outputs": [],
   "source": [
    "lambda_compensation = pd.Series(survey_scenario.simulation.calculate(\"lambda_compensation\"))\n",
    "lambda_compensation.loc[(lambda_compensation == -np.inf)|lambda_compensation.isnull()]=0\n",
    "lambda_compensation.loc[(lambda_compensation == np.inf)|lambda_compensation.isnull()]=0\n",
    "prct1 = lambda_compensation[lambda_compensation<-0.01].shape[0]/lambda_compensation.shape[0]\n",
    "prct2 = lambda_compensation[lambda_compensation>0.01].shape[0]/lambda_compensation.shape[0]\n",
    "print \"{} % du sample à un lambda < à -0.01 \".format(round(prct1,2)*100)\n",
    "print \"{} % du sample à un lambda > à 0.01 \".format(round(prct2,2)*100)"
   ]
  },
  {
   "cell_type": "code",
   "execution_count": null,
   "metadata": {
    "collapsed": false
   },
   "outputs": [],
   "source": [
    "lambda_compensation = pd.Series(survey_scenario.simulation.calculate(\"lambda_compensation\"))\n",
    "lambda_compensation.loc[(lambda_compensation == -np.inf)|lambda_compensation.isnull()]=0\n",
    "lambda_compensation.loc[(lambda_compensation == np.inf)|lambda_compensation.isnull()]=0\n",
    "prct1 = lambda_compensation[lambda_compensation<-0.01].shape[0]/lambda_compensation[np.abs(lambda_compensation)>0.01].shape[0]\n",
    "prct2 = lambda_compensation[lambda_compensation>0.01].shape[0]/lambda_compensation[np.abs(lambda_compensation)>0.01].shape[0]\n",
    "print \"{} % du sample à un lambda < à -0.01 \".format(round(prct1,2)*100)\n",
    "print \"{} % du sample à un lambda > à 0.01 \".format(round(prct2,2)*100)"
   ]
  },
  {
   "cell_type": "markdown",
   "metadata": {},
   "source": [
    "#### Pourcentage du sample entre -20 et 20"
   ]
  },
  {
   "cell_type": "code",
   "execution_count": null,
   "metadata": {
    "collapsed": false
   },
   "outputs": [],
   "source": [
    "lambda_compensation = pd.Series(survey_scenario.simulation.calculate(\"lambda_compensation\"))\n",
    "lambda_compensation.loc[(lambda_compensation == -np.inf)|lambda_compensation.isnull()]=0\n",
    "lambda_compensation.loc[(lambda_compensation == np.inf)|lambda_compensation.isnull()]=0\n",
    "prct1 = lambda_compensation[np.abs(lambda_compensation)>70].shape[0]/lambda_compensation.shape[0]\n",
    "print \"{} % du sample à un lambda supérieur  à 70 \".format(round(prct1,2)*100)"
   ]
  },
  {
   "cell_type": "markdown",
   "metadata": {
    "collapsed": true
   },
   "source": [
    "#### Lambda compensation négatif du à la décote ?"
   ]
  },
  {
   "cell_type": "code",
   "execution_count": null,
   "metadata": {
    "collapsed": false
   },
   "outputs": [],
   "source": [
    "pd.Series(survey_scenario.simulation.calculate_add(\"decote_mensuel_times_12\")/12).mean()"
   ]
  },
  {
   "cell_type": "code",
   "execution_count": null,
   "metadata": {
    "collapsed": false
   },
   "outputs": [],
   "source": [
    "decote_monthly = pd.Series(survey_scenario.simulation.calculate_add(\"decote_mensuel_times_12\")/12)\n",
    "decote_annual =  pd.Series(survey_scenario.simulation.calculate_add(\"decote\"))"
   ]
  },
  {
   "cell_type": "code",
   "execution_count": null,
   "metadata": {
    "collapsed": true
   },
   "outputs": [],
   "source": [
    "filtre_unequal_decote = decote_monthly != decote_annual"
   ]
  },
  {
   "cell_type": "code",
   "execution_count": null,
   "metadata": {
    "collapsed": false
   },
   "outputs": [],
   "source": [
    "lambda_compensation[filtre_unequal_decote].shape"
   ]
  },
  {
   "cell_type": "code",
   "execution_count": null,
   "metadata": {
    "collapsed": false
   },
   "outputs": [],
   "source": [
    "lambda_compensation[filtre_unequal_decote&\n",
    "                    (np.abs(lambda_compensation)>.1)&\n",
    "                    (np.abs(lambda_compensation)<100)].hist(bins = 500)\n",
    "plt.xlim(-20,20)"
   ]
  },
  {
   "cell_type": "code",
   "execution_count": null,
   "metadata": {
    "collapsed": false
   },
   "outputs": [],
   "source": [
    "to_graph = lambda_compensation[filtre_unequal_decote&\n",
    "                    (np.abs(lambda_compensation)>.1)&\n",
    "                    (np.abs(lambda_compensation)<100)]\n"
   ]
  },
  {
   "cell_type": "code",
   "execution_count": null,
   "metadata": {
    "collapsed": false
   },
   "outputs": [],
   "source": [
    "poids = pd.Series(weight_foyers)[\n",
    "        filtre_unequal_decote&\n",
    "        (np.abs(lambda_compensation)>.1)&\n",
    "        (np.abs(lambda_compensation)<100)]"
   ]
  },
  {
   "cell_type": "markdown",
   "metadata": {},
   "source": []
  },
  {
   "cell_type": "code",
   "execution_count": null,
   "metadata": {
    "collapsed": false
   },
   "outputs": [],
   "source": [
    "plt.figure(figsize=(15,10))\n",
    "plt.hist(to_graph.values, bins = 100, weights = poids.values)\n",
    "plt.xlabel(r'$\\lambda$',fontsize = 20 )\n",
    "plt.ylabel('Headcount',fontsize = 17)"
   ]
  },
  {
   "cell_type": "code",
   "execution_count": null,
   "metadata": {
    "collapsed": false
   },
   "outputs": [],
   "source": [
    "lambda_zero = pd.Series(lambda_compensation == 0 )\n",
    "pd.Series(weight_foyers)[lambda_zero].sum()\n",
    "\n"
   ]
  },
  {
   "cell_type": "code",
   "execution_count": null,
   "metadata": {
    "collapsed": false
   },
   "outputs": [],
   "source": [
    "index_exceptional_lambda = lambda_compensation[np.abs(lambda_compensation)>100].index"
   ]
  },
  {
   "cell_type": "code",
   "execution_count": null,
   "metadata": {
    "collapsed": false
   },
   "outputs": [],
   "source": [
    "df = survey_scenario.create_data_frame_by_entity_key_plural(['decote_gain_fiscal','decote_gain_fiscal_mensuel_times_12',\"irpp\",'irpp_mensuel', 'lambda_compensation'])['foyers_fiscaux']\n",
    "df['decote_gain_fiscal_mensuel'] = df.decote_gain_fiscal_mensuel_times_12/12\n",
    "df.iloc[index_exceptional_lambda]"
   ]
  },
  {
   "cell_type": "code",
   "execution_count": null,
   "metadata": {
    "collapsed": false
   },
   "outputs": [],
   "source": [
    "survey_scenario.simulation.calculate(\"irpp_mensuel\",\"2009-08\")[4]"
   ]
  },
  {
   "cell_type": "code",
   "execution_count": null,
   "metadata": {
    "collapsed": false
   },
   "outputs": [],
   "source": [
    "df[\"difference\"] = np.abs(df.decote_gain_fiscal- df.decote_gain_fiscal_mensuel)>0.01\n",
    "df[lambda_compensation == -12].difference.value_counts()"
   ]
  },
  {
   "cell_type": "code",
   "execution_count": null,
   "metadata": {
    "collapsed": false
   },
   "outputs": [],
   "source": [
    "df.shape"
   ]
  },
  {
   "cell_type": "code",
   "execution_count": null,
   "metadata": {
    "collapsed": false
   },
   "outputs": [],
   "source": [
    "df[lambda_compensation == -12][['decote_gain_fiscal', 'decote_gain_fiscal_mensuel', 'lambda_compensation',\"irpp\",'irpp_mensuel' ]]"
   ]
  },
  {
   "cell_type": "code",
   "execution_count": null,
   "metadata": {
    "collapsed": false
   },
   "outputs": [],
   "source": [
    "df = survey_scenario.create_data_frame_by_entity_key_plural(['decote_gain_fiscal','decote_gain_fiscal_mensuel_times_12',\"irpp\",'irpp_mensuel', 'lambda_compensation'])['foyers_fiscaux']\n",
    "df.decote_gain_fiscal_mensuel_times_12 = df.decote_gain_fiscal_mensuel_times_12/12\n",
    "df.lambda_compensation[df.lambda_compensation>70] = 0 #autrement les histogrames prennent trois heures à grapher pour quelques observations\n",
    "df.lambda_compensation[df.lambda_compensation< -70] = 0"
   ]
  },
  {
   "cell_type": "code",
   "execution_count": null,
   "metadata": {
    "collapsed": false
   },
   "outputs": [],
   "source": [
    "df[np.abs(df.decote_gain_fiscal-df.decote_gain_fiscal_mensuel_times_12)+1>0].shape"
   ]
  },
  {
   "cell_type": "code",
   "execution_count": null,
   "metadata": {
    "collapsed": false
   },
   "outputs": [],
   "source": [
    "df.lambda_compensation[(np.abs(df.decote_gain_fiscal-df.decote_gain_fiscal_mensuel_times_12)-1<0)\n",
    "                      & (np.abs(df.lambda_compensation)>0.1)].hist(bins = 100)\n",
    "plt.xlim(-20,20)"
   ]
  },
  {
   "cell_type": "code",
   "execution_count": null,
   "metadata": {
    "collapsed": false
   },
   "outputs": [],
   "source": [
    "df.lambda_compensation[(np.abs(df.decote_gain_fiscal-df.decote_gain_fiscal_mensuel_times_12)-0.1>0)\n",
    "                      & (np.abs(df.lambda_compensation)>0.1)].mean()"
   ]
  },
  {
   "cell_type": "code",
   "execution_count": null,
   "metadata": {
    "collapsed": false
   },
   "outputs": [],
   "source": [
    "df[(np.abs(df.decote_gain_fiscal-df.decote_gain_fiscal_mensuel_times_12)-0.1>0)\n",
    "                      & (np.abs(df.lambda_compensation)>0.1)]"
   ]
  },
  {
   "cell_type": "code",
   "execution_count": null,
   "metadata": {
    "collapsed": false
   },
   "outputs": [],
   "source": [
    "df[df.lambda_compensation<-1]"
   ]
  },
  {
   "cell_type": "code",
   "execution_count": null,
   "metadata": {
    "collapsed": false
   },
   "outputs": [],
   "source": [
    "df[df.lambda_compensation<-1][df.decote_gain_fiscal> df.decote_gain_fiscal_mensuel_times_12]"
   ]
  },
  {
   "cell_type": "markdown",
   "metadata": {
    "collapsed": true
   },
   "source": [
    "## Compensated irpp"
   ]
  },
  {
   "cell_type": "code",
   "execution_count": null,
   "metadata": {
    "collapsed": false
   },
   "outputs": [],
   "source": [
    "print max(pd.Series(survey_scenario.simulation.calculate_add('compensated_irpp_mensuel') -  survey_scenario.simulation.calculate_add('irpp')))\n",
    "print min(pd.Series(survey_scenario.simulation.calculate_add('compensated_irpp_mensuel') -  survey_scenario.simulation.calculate_add('irpp')))"
   ]
  },
  {
   "cell_type": "code",
   "execution_count": null,
   "metadata": {
    "collapsed": false
   },
   "outputs": [],
   "source": [
    "df = survey_scenario.create_data_frame_by_entity_key_plural(['decote_gain_fiscal','decote_gain_fiscal_mensuel_times_12',\"irpp\",'irpp_mensuel', 'lambda_compensation', 'compensated_irpp_mensuel'])['foyers_fiscaux']\n",
    "df.decote_gain_fiscal_mensuel_times_12 = df.decote_gain_fiscal_mensuel_times_12/12\n",
    "#df.lambda_compensation[df.lambda_compensation>70] = 0 #autrement les histogrames prennent trois heures à grapher pour quelques observations\n",
    "#df.lambda_compensation[df.lambda_compensation< -70] = 0\n",
    "#df.compensated_irpp_mensuel = df.compensated_irpp_mensuel\n",
    "df"
   ]
  },
  {
   "cell_type": "code",
   "execution_count": null,
   "metadata": {
    "collapsed": false
   },
   "outputs": [],
   "source": [
    "df = survey_scenario.create_data_frame_by_entity_key_plural(['decote_gain_fiscal','decote_gain_fiscal_mensuel_times_12',\"irpp\",'irpp_mensuel', 'lambda_compensation', 'compensated_irpp_mensuel'])['foyers_fiscaux']\n",
    "df.decote_gain_fiscal_mensuel_times_12 = df.decote_gain_fiscal_mensuel_times_12/12\n",
    "#df.lambda_compensation[df.lambda_compensation>70] = 0 #autrement les histogrames prennent trois heures à grapher pour quelques observations\n",
    "#df.lambda_compensation[df.lambda_compensation< -70] = 0\n",
    "#df.compensated_irpp_mensuel = df.compensated_irpp_mensuel\n",
    "df"
   ]
  },
  {
   "cell_type": "code",
   "execution_count": null,
   "metadata": {
    "collapsed": false
   },
   "outputs": [],
   "source": [
    "df[df.compensated_irpp_mensuel - df.irpp<2][['irpp', 'compensated_irpp_mensuel', 'irpp_mensuel']]"
   ]
  },
  {
   "cell_type": "code",
   "execution_count": null,
   "metadata": {
    "collapsed": false
   },
   "outputs": [],
   "source": [
    "print survey_scenario.compute_aggregate('compensated_irpp_mensuel')\n",
    "print survey_scenario.compute_aggregate('irpp')"
   ]
  },
  {
   "cell_type": "code",
   "execution_count": null,
   "metadata": {
    "collapsed": true
   },
   "outputs": [],
   "source": [
    "impot_mensuel_times_12 = survey_scenario.simulation.calculate(\"irpp_mensuel\", period)*12\n",
    "lambda_compensation = survey_scenario.simulation.calculate(\"lambda_compensation\", period.this_year)\n",
    "\n",
    "\n",
    "\n",
    "compensated_irpp = impot_mensuel_times_12/(12 + lambda_compensation)"
   ]
  },
  {
   "cell_type": "code",
   "execution_count": null,
   "metadata": {
    "collapsed": false
   },
   "outputs": [],
   "source": [
    "compensated_irpp[743]"
   ]
  },
  {
   "cell_type": "code",
   "execution_count": null,
   "metadata": {
    "collapsed": false
   },
   "outputs": [],
   "source": [
    "(survey_scenario.simulation.calculate(\"irpp\", period.this_year) == 0)*0"
   ]
  },
  {
   "cell_type": "code",
   "execution_count": null,
   "metadata": {
    "collapsed": false
   },
   "outputs": [],
   "source": [
    "compensated_irpp = (survey_scenario.simulation.calculate(\"irpp\", period.this_year) == 0) * 0 + \\\n",
    "                ~(survey_scenario.simulation.calculate(\"irpp\", period.this_year) == 0) * np.nan_to_num(compensated_irpp) ;compensated_irpp[[4,743]]"
   ]
  },
  {
   "cell_type": "code",
   "execution_count": null,
   "metadata": {
    "collapsed": false
   },
   "outputs": [],
   "source": []
  },
  {
   "cell_type": "code",
   "execution_count": null,
   "metadata": {
    "collapsed": true
   },
   "outputs": [],
   "source": []
  },
  {
   "cell_type": "code",
   "execution_count": null,
   "metadata": {
    "collapsed": false
   },
   "outputs": [],
   "source": [
    "compensated_irpp = (\n",
    "                (survey_scenario.simulation.calculate_add(\"irpp_mensuel\", period) == 0) * #Condition\n",
    "                (survey_scenario.simulation.calculate(\"irpp\", period.this_year)/12) # on répartit sur l'année\n",
    "            ) + ~(survey_scenario.simulation.calculate_add(\"irpp_mensuel\", period) == 0) * compensated_irpp #condition opposée\n",
    "compensated_irpp[[4,743]]"
   ]
  },
  {
   "cell_type": "code",
   "execution_count": null,
   "metadata": {
    "collapsed": false
   },
   "outputs": [],
   "source": [
    "df[df.lambda_compensation.isnull()]"
   ]
  },
  {
   "cell_type": "code",
   "execution_count": null,
   "metadata": {
    "collapsed": false
   },
   "outputs": [],
   "source": [
    "survey_scenario.simulation.calculate_add('irpp')"
   ]
  },
  {
   "cell_type": "code",
   "execution_count": null,
   "metadata": {
    "collapsed": false
   },
   "outputs": [],
   "source": [
    "survey_scenario.compute_aggregate('compensated_irpp_mensuel')"
   ]
  },
  {
   "cell_type": "code",
   "execution_count": null,
   "metadata": {
    "collapsed": false
   },
   "outputs": [],
   "source": [
    "lambda_compensation = survey_scenario.simulation.calculate('lambda_compensation')\n",
    "np.all(lambda_compensation != np.nan)\n",
    "lambda_compensation != np.nan\n",
    "hello = lambda_compensation[1]\n",
    "assert np.all(np.isfinite(lambda_compensation))\n"
   ]
  },
  {
   "cell_type": "code",
   "execution_count": null,
   "metadata": {
    "collapsed": false
   },
   "outputs": [],
   "source": [
    "sal_pen_df = survey_scenario.create_data_frame_by_entity_key_plural_with_monthly_basis_selector(['irpp'], ['irpp_mensuel','compensated_irpp_mensuel'])['foyers_fiscaux']\n",
    "\n",
    "sal_pen_df.T"
   ]
  },
  {
   "cell_type": "code",
   "execution_count": null,
   "metadata": {
    "collapsed": false
   },
   "outputs": [],
   "source": [
    "survey_scenario.compute_aggregate('compensated_irpp_mensuel')"
   ]
  },
  {
   "cell_type": "markdown",
   "metadata": {},
   "source": [
    "## Utility annalysis "
   ]
  },
  {
   "cell_type": "code",
   "execution_count": 31,
   "metadata": {
    "collapsed": false
   },
   "outputs": [
    {
     "data": {
      "text/plain": [
       "-118364.70183011307"
      ]
     },
     "execution_count": 31,
     "metadata": {},
     "output_type": "execute_result"
    }
   ],
   "source": [
    "survey_scenario.compute_aggregate(\"utility_ir_annuel\") #TODO : find why Nan"
   ]
  },
  {
   "cell_type": "code",
   "execution_count": 38,
   "metadata": {
    "collapsed": false
   },
   "outputs": [
    {
     "name": "stdout",
     "output_type": "stream",
     "text": [
      "-0.0044317\n",
      "-0.00443144\n",
      "-0.0044296\n",
      "-0.00442503\n"
     ]
    }
   ],
   "source": [
    "print pd.Series(survey_scenario.simulation.calculate_add('utility_ir_annuel','2009')).mean()\n",
    "print pd.Series(survey_scenario.simulation.calculate_add('utility_ir_mensuel','2009')).mean()\n",
    "print pd.Series(survey_scenario.simulation.calculate_add('utility_compensated_ir_mensuel','2009')).mean()\n",
    "print pd.Series(survey_scenario.simulation.calculate_add('utility_ir_mensuel_rsa_mensuel','2009')).mean()"
   ]
  },
  {
   "cell_type": "code",
   "execution_count": 39,
   "metadata": {
    "collapsed": true
   },
   "outputs": [],
   "source": [
    "u_ir_m_rsa_m = pd.Series(survey_scenario.simulation.calculate_add('utility_ir_mensuel_rsa_mensuel','2009'))\n",
    "u_c_ir = pd.Series(survey_scenario.simulation.calculate_add('utility_compensated_ir_mensuel','2009'))\n",
    "u_ir_m = pd.Series(survey_scenario.simulation.calculate_add('utility_ir_mensuel','2009'))\n",
    "u_ir_a = pd.Series(survey_scenario.simulation.calculate_add('utility_ir_annuel','2009'))\n"
   ]
  },
  {
   "cell_type": "code",
   "execution_count": 40,
   "metadata": {
    "collapsed": false
   },
   "outputs": [
    {
     "name": "stdout",
     "output_type": "stream",
     "text": [
      "-0.00442503 -225.987086805\n",
      "-0.0044296 -225.754150544\n",
      "-0.00443144 -225.66006708\n",
      "-0.0044317 -225.646954762\n"
     ]
    }
   ],
   "source": [
    "print u_ir_m_rsa_m.mean(),1/u_ir_m_rsa_m.mean()\n",
    "print u_c_ir.mean(),1/u_c_ir.mean()\n",
    "print u_ir_m.mean(),1/u_ir_m.mean()\n",
    "print u_ir_a.mean(),1/u_ir_a.mean()"
   ]
  },
  {
   "cell_type": "code",
   "execution_count": 35,
   "metadata": {
    "collapsed": false
   },
   "outputs": [
    {
     "name": "stdout",
     "output_type": "stream",
     "text": [
      "count    49016.000000\n",
      "mean        -0.004430\n",
      "std          0.000801\n",
      "min         -0.006125\n",
      "25%         -0.004956\n",
      "50%         -0.004458\n",
      "75%         -0.003898\n",
      "max         -0.000247\n",
      "dtype: float64\n",
      "count    49016.000000\n",
      "mean        -0.004431\n",
      "std          0.000801\n",
      "min         -0.006125\n",
      "25%         -0.004958\n",
      "50%         -0.004460\n",
      "75%         -0.003899\n",
      "max         -0.000247\n",
      "dtype: float64\n",
      "count    49016.000000\n",
      "mean        -0.004432\n",
      "std          0.000801\n",
      "min         -0.006125\n",
      "25%         -0.004957\n",
      "50%         -0.004461\n",
      "75%         -0.003900\n",
      "max         -0.000247\n",
      "dtype: float64\n"
     ]
    }
   ],
   "source": [
    "print u_c_ir.describe()\n",
    "print u_ir_m.describe()\n",
    "print u_ir_a.describe()"
   ]
  },
  {
   "cell_type": "code",
   "execution_count": 36,
   "metadata": {
    "collapsed": false
   },
   "outputs": [
    {
     "name": "stdout",
     "output_type": "stream",
     "text": [
      "count       0.000020\n",
      "mean     -225.754151\n",
      "std      1248.919032\n",
      "min      -163.268352\n",
      "25%      -201.778805\n",
      "50%      -224.292949\n",
      "75%      -256.509733\n",
      "max     -4055.660513\n",
      "dtype: float64\n",
      "count       0.000020\n",
      "mean     -225.660067\n",
      "std      1248.181781\n",
      "min      -163.268352\n",
      "25%      -201.708609\n",
      "50%      -224.211819\n",
      "75%      -256.444102\n",
      "max     -4055.660513\n",
      "dtype: float64\n",
      "count       0.000020\n",
      "mean     -225.646955\n",
      "std      1248.757988\n",
      "min      -163.268352\n",
      "25%      -201.730532\n",
      "50%      -224.156762\n",
      "75%      -256.427650\n",
      "max     -4055.660513\n",
      "dtype: float64\n"
     ]
    }
   ],
   "source": [
    "print 1/u_c_ir.describe()\n",
    "print 1/u_ir_m.describe()\n",
    "print 1/u_ir_a.describe()"
   ]
  },
  {
   "cell_type": "code",
   "execution_count": 41,
   "metadata": {
    "collapsed": false
   },
   "outputs": [
    {
     "data": {
      "text/plain": [
       "(0, 200)"
      ]
     },
     "execution_count": 41,
     "metadata": {},
     "output_type": "execute_result"
    },
    {
     "data": {
      "image/png": "[encoded data removed]",
      "text/plain": [
       "<matplotlib.figure.Figure at 0x206d012d0>"
      ]
     },
     "metadata": {},
     "output_type": "display_data"
    }
   ],
   "source": [
    "((u_ir_m - u_ir_a)).hist(bins = 500, figsize = (25,12))\n",
    "plt.ylim(0,200)"
   ]
  },
  {
   "cell_type": "code",
   "execution_count": 42,
   "metadata": {
    "collapsed": false
   },
   "outputs": [
    {
     "data": {
      "text/plain": [
       "False    42292\n",
       "True      6724\n",
       "dtype: int64"
      ]
     },
     "execution_count": 42,
     "metadata": {},
     "output_type": "execute_result"
    }
   ],
   "source": [
    "((u_ir_m - u_ir_a)<-0.0000001).value_counts()"
   ]
  },
  {
   "cell_type": "code",
   "execution_count": 43,
   "metadata": {
    "collapsed": false
   },
   "outputs": [
    {
     "data": {
      "text/plain": [
       "(0, 200)"
      ]
     },
     "execution_count": 43,
     "metadata": {},
     "output_type": "execute_result"
    },
    {
     "data": {
      "image/png": "[encoded data removed]",
      "text/plain": [
       "<matplotlib.figure.Figure at 0x209a93a90>"
      ]
     },
     "metadata": {},
     "output_type": "display_data"
    }
   ],
   "source": [
    "((u_c_ir - u_ir_a)).hist(bins = 500, figsize = (25,12))\n",
    "plt.ylim(0,200)"
   ]
  },
  {
   "cell_type": "code",
   "execution_count": 44,
   "metadata": {
    "collapsed": false
   },
   "outputs": [
    {
     "data": {
      "text/plain": [
       "False    48401\n",
       "True       615\n",
       "dtype: int64"
      ]
     },
     "execution_count": 44,
     "metadata": {},
     "output_type": "execute_result"
    }
   ],
   "source": [
    "((u_c_ir - u_ir_a)<-0.0000001).value_counts()"
   ]
  },
  {
   "cell_type": "markdown",
   "metadata": {},
   "source": [
    "##### Graphs with weights"
   ]
  },
  {
   "cell_type": "code",
   "execution_count": 45,
   "metadata": {
    "collapsed": false
   },
   "outputs": [
    {
     "data": {
      "text/plain": [
       "<matplotlib.text.Text at 0x20603cbd0>"
      ]
     },
     "execution_count": 45,
     "metadata": {},
     "output_type": "execute_result"
    },
    {
     "data": {
      "image/png": "[encoded data removed]",
      "text/plain": [
       "<matplotlib.figure.Figure at 0x1bcd61f90>"
      ]
     },
     "metadata": {},
     "output_type": "display_data"
    }
   ],
   "source": [
    "((u_ir_m - u_ir_a)).hist(bins = 500, figsize = (25,12), zorder=1, alpha = 0.7, weights = weight_menages,)\n",
    "((u_c_ir - u_ir_a)).hist(bins = 500, figsize = (25,12), weights = weight_menages,zorder=10, alpha = 1)\n",
    "plt.ylim(0,5*10**4)\n",
    "plt.xlabel('utility')\n",
    "plt.ylabel('headcounts')"
   ]
  },
  {
   "cell_type": "code",
   "execution_count": null,
   "metadata": {
    "collapsed": false
   },
   "outputs": [],
   "source": [
    "hist1 = ((u_ir_m - u_ir_a)).hist(bins = 200, figsize = (25,12), weights = weight_menages, zorder=10, color = 'c', alpha = 0.4, label = \"Monthly\")\n",
    "hist2 = ((u_c_ir - u_ir_a)).hist(bins = 200, figsize = (25,12), weights = weight_menages,zorder=1, color = 'k',alpha = 1, label = \"Compensated Monthly\")\n",
    "\n",
    "plt.axvline(x=0, ymax = 10**6, linewidth=4, color = 'r', alpha = 1, linestyle='dashed')\n",
    "plt.ylim(0,20*10**4)\n",
    "plt.xlim(-0.0005, 0.0005)\n",
    "plt.legend()\n",
    "plt.title(\"Difference in utility w.r.t annual basis\", size = 15)\n",
    "plt.xlabel('utility')\n",
    "plt.ylabel('headcounts')"
   ]
  },
  {
   "cell_type": "code",
   "execution_count": null,
   "metadata": {
    "collapsed": false
   },
   "outputs": [],
   "source": [
    "hist1 = ((u_ir_m - u_ir_a)).hist(bins = 3000, figsize = (25,12), weights = weight_menages, zorder=10, color = 'c', alpha = 0.4, label = \"Monthly\")\n",
    "hist2 = ((u_c_ir - u_ir_a)).hist(bins = 3000, figsize = (25,12), weights = weight_menages,zorder=1, color = 'k',alpha = 1, label = \"Compensated Monthly\")\n",
    "\n",
    "plt.axvline(x=0, ymax = 10**6, linewidth=4, color = 'r', alpha = 1, linestyle='dashed')\n",
    "#plt.ylim(0,70*10**5)\n",
    "plt.xlim(-0.00002, 0.00002)\n",
    "plt.legend()\n",
    "plt.title(\"Difference in utility w.r.t annual basis\", size = 15)\n",
    "plt.xlabel('utility')\n",
    "plt.ylabel('headcounts')"
   ]
  },
  {
   "cell_type": "code",
   "execution_count": null,
   "metadata": {
    "collapsed": true
   },
   "outputs": [],
   "source": [
    "weight_menages = pd.Series(weight_menages)"
   ]
  },
  {
   "cell_type": "code",
   "execution_count": null,
   "metadata": {
    "collapsed": false
   },
   "outputs": [],
   "source": [
    "execute_time_consuming_graph = True\n",
    "if execute_time_consuming_graph == True : \n",
    "\n",
    "    hist1 = ((u_ir_m - u_ir_a))[((u_ir_m - u_ir_a))!=0].hist(bins = 7000, figsize = (25,12), weights = pd.Series(weight_menages)[((u_ir_m - u_ir_a))!=0].values, zorder=10, color = 'c', alpha = 0.4, label = \"Monthly\")\n",
    "    hist2 = ((u_c_ir - u_ir_a))[((u_c_ir - u_ir_a))!=0].hist(bins = 7000, figsize = (25,12), weights = pd.Series(weight_menages)[((u_c_ir - u_ir_a))!=0].values,zorder=1, color = 'k',alpha = 1, label = \"Compensated Monthly\")\n",
    "\n",
    "    plt.axvline(x=0, ymax = 10**6, linewidth=4, color = 'r', alpha = 1, linestyle='dashed')\n",
    "    plt.ylim(0,35*10**4)\n",
    "    plt.xlim(-0.00002, 0.00002)\n",
    "    plt.legend()\n",
    "    plt.title(\"Difference in utility w.r.t annual basis \\n no variation in utility taken out\", size = 15)\n",
    "    plt.xlabel('utility', size = 15)\n",
    "    plt.ylabel('headcounts', size = 15)"
   ]
  },
  {
   "cell_type": "code",
   "execution_count": null,
   "metadata": {
    "collapsed": false
   },
   "outputs": [],
   "source": [
    "outliers = pd.Series(np.abs(((u_ir_m - u_ir_a))[((u_ir_m - u_ir_a))!=0])>0.00002).value_counts(normalize = True); outliers"
   ]
  },
  {
   "cell_type": "code",
   "execution_count": null,
   "metadata": {
    "collapsed": false
   },
   "outputs": [],
   "source": [
    "\"This graph represent {}% of the tax-unit with varying utility, {}% of that sample are over 0.0002 utility points variation\".format(outliers[0], outliers[1])"
   ]
  },
  {
   "cell_type": "code",
   "execution_count": null,
   "metadata": {
    "collapsed": false
   },
   "outputs": [],
   "source": [
    "pd.Series(weight_menages).shape"
   ]
  },
  {
   "cell_type": "code",
   "execution_count": null,
   "metadata": {
    "collapsed": true
   },
   "outputs": [],
   "source": [
    "decote = survey_scenario.simulation.calculate('decote_menage')\n",
    "decote_mensuel = survey_scenario.simulation.calculate_add('decote_mensuel_menage')"
   ]
  },
  {
   "cell_type": "code",
   "execution_count": null,
   "metadata": {
    "collapsed": false
   },
   "outputs": [],
   "source": [
    "(pd.Series(survey_scenario.simulation.calculate_add('revdisp_mensuel_annuel'))[((u_c_ir - u_ir_a)<0)]).hist(bins = 100)"
   ]
  },
  {
   "cell_type": "code",
   "execution_count": null,
   "metadata": {
    "collapsed": false
   },
   "outputs": [],
   "source": [
    "ax = ((pd.Series(np.abs(decote -decote_mensuel)>0.1)[((u_c_ir - u_ir_a)<-0.00000001)]).value_counts( normalize = True)*100).plot(kind = \"bar\",)\n",
    "plt.ylim((0,100))\n",
    "\n",
    "labels = [\"{}%\".format(np.round(i,2)) for i in ((pd.Series(np.abs(decote -decote_mensuel)>0.1)[((u_c_ir - u_ir_a)<-0.0000001)]).value_counts( normalize = True)*100) ] #0.000001 pour éviter les erreurs d'arrondis.\n",
    "rects = ax.patches\n",
    "\n",
    "for rect, label in zip(rects, labels):\n",
    "    height = rect.get_height()\n",
    "    ax.text(rect.get_x() + rect.get_width()/2, height + 5, label, ha='center', va='bottom')"
   ]
  },
  {
   "cell_type": "code",
   "execution_count": null,
   "metadata": {
    "collapsed": false
   },
   "outputs": [],
   "source": [
    "is_decote_different = pd.Series(np.abs(decote -decote_mensuel)>0.1)[((u_c_ir - u_ir_a)<-0.00000001)]"
   ]
  },
  {
   "cell_type": "code",
   "execution_count": null,
   "metadata": {
    "collapsed": false
   },
   "outputs": [],
   "source": [
    "#TODO for famille and check if it coorrespond to the 46.43%\n",
    "below_collection_thrshld = np.zeros(weight_foyers.shape[0], dtype=bool)\n",
    "for month in range(1,13):\n",
    "    irpp_mensuel = pd.Series(survey_scenario.simulation.calculate(\"irpp_mensuel\", '2009-{}'.format(month)))\n",
    "    below_collection_thrshld += (irpp_mensuel>1) & (irpp_mensuel<5.16)\n",
    "    "
   ]
  },
  {
   "cell_type": "code",
   "execution_count": null,
   "metadata": {
    "collapsed": false
   },
   "outputs": [],
   "source": [
    "pd.Series(below_collection_thrshld).value_counts()"
   ]
  },
  {
   "cell_type": "code",
   "execution_count": null,
   "metadata": {
    "collapsed": false
   },
   "outputs": [],
   "source": [
    "np.array([True, False])+np.array([True, True])"
   ]
  },
  {
   "cell_type": "code",
   "execution_count": null,
   "metadata": {
    "collapsed": false
   },
   "outputs": [],
   "source": [
    "#Qui sont les gagnants ? :\n"
   ]
  },
  {
   "cell_type": "code",
   "execution_count": null,
   "metadata": {
    "collapsed": false
   },
   "outputs": [],
   "source": [
    "is_decote_different[is_decote_different==False]"
   ]
  },
  {
   "cell_type": "code",
   "execution_count": null,
   "metadata": {
    "collapsed": false
   },
   "outputs": [],
   "source": [
    "pd.Series(np.abs(decote -decote_mensuel)>0.1)[((u_c_ir - u_ir_a)<0.000001)].value_counts(normalize = True)"
   ]
  },
  {
   "cell_type": "code",
   "execution_count": null,
   "metadata": {
    "collapsed": false
   },
   "outputs": [],
   "source": [
    "(pd.Series(decote!= decote_mensuel)[((u_c_ir - u_ir_a)<0)]).hist(bins = 100)"
   ]
  },
  {
   "cell_type": "code",
   "execution_count": null,
   "metadata": {
    "collapsed": false
   },
   "outputs": [],
   "source": [
    "revdisp[(u_c_ir>=u_ir_a)]"
   ]
  },
  {
   "cell_type": "code",
   "execution_count": null,
   "metadata": {
    "collapsed": false
   },
   "outputs": [],
   "source": [
    "print u_c_ir[(decote_annual==0) & (decote_monthly==0)].mean()\n",
    "print u_ir_m[(decote_annual==0) & (decote_monthly==0)].mean()\n",
    "print u_ir_a[(decote_annual==0) & (decote_monthly==0)].mean()"
   ]
  },
  {
   "cell_type": "markdown",
   "metadata": {},
   "source": [
    "## Qui sont les gagnants ?"
   ]
  },
  {
   "cell_type": "code",
   "execution_count": 7,
   "metadata": {
    "collapsed": false
   },
   "outputs": [
    {
     "name": "stdout",
     "output_type": "stream",
     "text": [
      "False    40490\n",
      "True      8526\n",
      "dtype: int64\n",
      "False    47832\n",
      "True      1184\n",
      "dtype: int64\n"
     ]
    }
   ],
   "source": [
    "print pd.value_counts((survey_scenario.simulation.calculate_add(\"revdisp_mensuel_annuel\")-survey_scenario.simulation.calculate_add(\"revdisp_mensuel_ir_mensuel\"))>1)\n",
    "print pd.value_counts((survey_scenario.simulation.calculate_add(\"revdisp_mensuel_annuel\")-survey_scenario.simulation.calculate_add(\"revdisp_mensuel_ir_mensuel\"))<-1)"
   ]
  },
  {
   "cell_type": "code",
   "execution_count": 8,
   "metadata": {
    "collapsed": false
   },
   "outputs": [
    {
     "ename": "NameError",
     "evalue": "name 'weight_menages' is not defined",
     "output_type": "error",
     "traceback": [
      "\u001b[0;31m---------------------------------------------------------------------------\u001b[0m",
      "\u001b[0;31mNameError\u001b[0m                                 Traceback (most recent call last)",
      "\u001b[0;32m<ipython-input-8-6f70e297607f>\u001b[0m in \u001b[0;36m<module>\u001b[0;34m()\u001b[0m\n\u001b[1;32m      1\u001b[0m print pd.Series(((survey_scenario.simulation.calculate_add(\"revdisp_mensuel_annuel\")-survey_scenario.simulation.calculate_add(\"revdisp_mensuel_ir_mensuel\"))>1)\n\u001b[0;32m----> 2\u001b[0;31m                      *weight_menages).sum()\n\u001b[0m\u001b[1;32m      3\u001b[0m print pd.Series(((survey_scenario.simulation.calculate_add(\"revdisp_mensuel_annuel\")-survey_scenario.simulation.calculate_add(\"revdisp_mensuel_ir_mensuel\"))<-1)\n\u001b[1;32m      4\u001b[0m                       *weight_menages).sum()\n",
      "\u001b[0;31mNameError\u001b[0m: name 'weight_menages' is not defined"
     ]
    }
   ],
   "source": [
    "print pd.Series(((survey_scenario.simulation.calculate_add(\"revdisp_mensuel_annuel\")-survey_scenario.simulation.calculate_add(\"revdisp_mensuel_ir_mensuel\"))>1)\n",
    "                     *weight_menages).sum()\n",
    "print pd.Series(((survey_scenario.simulation.calculate_add(\"revdisp_mensuel_annuel\")-survey_scenario.simulation.calculate_add(\"revdisp_mensuel_ir_mensuel\"))<-1)\n",
    "                      *weight_menages).sum()"
   ]
  },
  {
   "cell_type": "code",
   "execution_count": 178,
   "metadata": {
    "collapsed": false
   },
   "outputs": [
    {
     "data": {
      "text/plain": [
       "12579.479"
      ]
     },
     "execution_count": 178,
     "metadata": {},
     "output_type": "execute_result"
    }
   ],
   "source": [
    "np.mean(\n",
    "    (survey_scenario.simulation.calculate(\"rbg\")/survey_scenario.simulation.calculate(\"nbptr\"))\\\n",
    "    [survey_scenario.simulation.calculate_add(\"irpp\")-survey_scenario.simulation.calculate_add(\"irpp_mensuel\")>1]\n",
    "    )"
   ]
  },
  {
   "cell_type": "code",
   "execution_count": 194,
   "metadata": {
    "collapsed": false
   },
   "outputs": [
    {
     "data": {
      "text/plain": [
       "<matplotlib.text.Text at 0x21db94e50>"
      ]
     },
     "execution_count": 194,
     "metadata": {},
     "output_type": "execute_result"
    },
    {
     "data": {
      "image/png": "[encoded data removed]",
      "text/plain": [
       "<matplotlib.figure.Figure at 0x21e31f390>"
      ]
     },
     "metadata": {},
     "output_type": "display_data"
    }
   ],
   "source": [
    "plt.figure(figsize=(15,10))\n",
    "plt.hist(    (survey_scenario.simulation.calculate(\"rbg\")/survey_scenario.simulation.calculate(\"nbptr\"))\\\n",
    "    [survey_scenario.simulation.calculate_add(\"irpp\")-survey_scenario.simulation.calculate_add(\"irpp_mensuel\")>1], bins = 200, label = \"Paying less on monthly basis\")\n",
    "plt.hist(    (survey_scenario.simulation.calculate(\"rbg\")/survey_scenario.simulation.calculate(\"nbptr\"))\\\n",
    "    [survey_scenario.simulation.calculate_add(\"irpp\")-survey_scenario.simulation.calculate_add(\"irpp_mensuel\")<-1], bins = 65, color= 'r', label = \"Paying more on monthly basis\")\n",
    "plt.xlim(0,50000)\n",
    "plt.title(\"paying more or less\")"
   ]
  },
  {
   "cell_type": "markdown",
   "metadata": {},
   "source": [
    "###### Weighted"
   ]
  },
  {
   "cell_type": "code",
   "execution_count": 294,
   "metadata": {
    "collapsed": false,
    "scrolled": true
   },
   "outputs": [
    {
     "data": {
      "text/plain": [
       "<matplotlib.text.Text at 0x24248d250>"
      ]
     },
     "execution_count": 294,
     "metadata": {},
     "output_type": "execute_result"
    },
    {
     "data": {
      "image/png": "[encoded data removed]",
      "text/plain": [
       "<matplotlib.figure.Figure at 0x24271be50>"
      ]
     },
     "metadata": {},
     "output_type": "display_data"
    }
   ],
   "source": [
    "\n",
    "\n",
    "weights1 = weight_foyers[survey_scenario.simulation.calculate_add(\"irpp\")-survey_scenario.simulation.calculate_add(\"irpp_mensuel\")>1]\n",
    "weights2 = weight_foyers[survey_scenario.simulation.calculate_add(\"irpp\")-survey_scenario.simulation.calculate_add(\"irpp_mensuel\")<-1]\n",
    "\n",
    "fig, ax1 = plt.subplots(figsize=(20, 10))\n",
    "\n",
    "\n",
    "ax1.hist(    (survey_scenario.simulation.calculate(\"rbg\")/survey_scenario.simulation.calculate(\"nbptr\"))\\\n",
    "    [survey_scenario.simulation.calculate_add(\"irpp\")-survey_scenario.simulation.calculate_add(\"irpp_mensuel\")>1], bins = 400, label = \"Paying less on monthly basis\", weights= weights1)\n",
    "ax1.hist(    (survey_scenario.simulation.calculate(\"rbg\")/survey_scenario.simulation.calculate(\"nbptr\"))\\\n",
    "    [survey_scenario.simulation.calculate_add(\"irpp\")-survey_scenario.simulation.calculate_add(\"irpp_mensuel\")<-1], bins = 130, color= 'r', label = \"Paying more on monthly basis\",weights= weights2)\n",
    "\n",
    "\n",
    "ax1.set_xlim(0,50000)\n",
    "ax2 = plt.twinx()\n",
    "ax2.plot(rbg_test_case[1:],marginal_rate, 'k', label = \"marginal tax rate\")\n",
    "ax2.set_xlim(0,50000)\n",
    "ax2.legend()\n",
    "ax1.legend(bbox_to_anchor=(0.22, 1))\n",
    "ax1.grid(which = 'both')\n",
    "ax1.text(11000,500000, u\"minimum wage\", weight = 'bold',)\n",
    "ax2.set_ylabel(\"marginal tax rate\")\n",
    "ax1.set_xlabel(\"Gross global income divided by fiscal shares\")\n",
    "ax1.set_ylabel(\"number of taxunit\")\n",
    "#plt.title(\"\")\n"
   ]
  },
  {
   "cell_type": "code",
   "execution_count": 258,
   "metadata": {
    "collapsed": false
   },
   "outputs": [
    {
     "data": {
      "text/plain": [
       "[<matplotlib.lines.Line2D at 0x22b2283d0>]"
      ]
     },
     "execution_count": 258,
     "metadata": {},
     "output_type": "execute_result"
    },
    {
     "data": {
      "image/png": "[encoded data removed]",
      "text/plain": [
       "<matplotlib.figure.Figure at 0x22b16fb50>"
      ]
     },
     "metadata": {},
     "output_type": "display_data"
    }
   ],
   "source": [
    "from openfisca_utils import make_ready_to_use_simulation\n",
    "from openfisca_core import rates\n",
    "simulation = make_ready_to_use_simulation.make_ready_to_use_simulation(2009,False)\n",
    "rbg_test_case = simulation.calculate('rbg')\n",
    "irpp_test_case = simulation.calculate('irpp')\n",
    "marginal_rate = rates.marginal_rate(irpp_test_case, rbg_test_case)-1\n",
    "to_change = pd.Series(marginal_rate)[marginal_rate>1].index\n",
    "#to_change = pd.Series(rates.marginal_rate(irpp_test_case, rbg_test_case)-1)[rates.marginal_rate(irpp_test_case, rbg_test_case)-1>1].index\n",
    "marginal_rate[to_change] = marginal_rate[to_change+1]\n",
    "plt.plot(marginal_rate)"
   ]
  },
  {
   "cell_type": "code",
   "execution_count": 247,
   "metadata": {
    "collapsed": false
   },
   "outputs": [],
   "source": [
    "to_change = pd.Series(rates.marginal_rate(irpp_test_case, rbg_test_case)-1)[rates.marginal_rate(irpp_test_case, rbg_test_case)-1>1].index\n"
   ]
  },
  {
   "cell_type": "code",
   "execution_count": 254,
   "metadata": {
    "collapsed": false
   },
   "outputs": [
    {
     "data": {
      "text/plain": [
       "<matplotlib.axes._subplots.AxesSubplot at 0x22b2f8290>"
      ]
     },
     "execution_count": 254,
     "metadata": {},
     "output_type": "execute_result"
    },
    {
     "data": {
      "image/png": "[encoded data removed]",
      "text/plain": [
       "<matplotlib.figure.Figure at 0x22b0c6f50>"
      ]
     },
     "metadata": {},
     "output_type": "display_data"
    }
   ],
   "source": [
    "pd.Series(marginal_rate)[marginal_rate>1]"
   ]
  },
  {
   "cell_type": "code",
   "execution_count": 174,
   "metadata": {
    "collapsed": false
   },
   "outputs": [
    {
     "data": {
      "text/plain": [
       "23384.496"
      ]
     },
     "execution_count": 174,
     "metadata": {},
     "output_type": "execute_result"
    }
   ],
   "source": [
    "np.mean(survey_scenario.simulation.calculate(\"rbg\"))"
   ]
  },
  {
   "cell_type": "code",
   "execution_count": 176,
   "metadata": {
    "collapsed": false
   },
   "outputs": [
    {
     "data": {
      "text/plain": [
       "array([ 2.,  1.,  1., ...,  1.,  1.,  1.], dtype=float32)"
      ]
     },
     "execution_count": 176,
     "metadata": {},
     "output_type": "execute_result"
    }
   ],
   "source": []
  },
  {
   "cell_type": "code",
   "execution_count": 161,
   "metadata": {
    "collapsed": false
   },
   "outputs": [
    {
     "data": {
      "text/plain": [
       "array([2, 3, 0])"
      ]
     },
     "execution_count": 161,
     "metadata": {},
     "output_type": "execute_result"
    }
   ],
   "source": [
    "np.array([True,True,False]) *np.array([2,3,4])"
   ]
  },
  {
   "cell_type": "code",
   "execution_count": 145,
   "metadata": {
    "collapsed": false
   },
   "outputs": [
    {
     "data": {
      "text/plain": [
       "False    48252\n",
       "True       764\n",
       "dtype: int64"
      ]
     },
     "execution_count": 145,
     "metadata": {},
     "output_type": "execute_result"
    }
   ],
   "source": [
    "pd.value_counts((survey_scenario.simulation.calculate_add(\"revdisp_mensuel_annuel\") - survey_scenario.simulation.calculate_add(\"revdisp_mensuel_compensated_ir_mensuel\")>1)"
   ]
  },
  {
   "cell_type": "code",
   "execution_count": null,
   "metadata": {
    "collapsed": true
   },
   "outputs": [],
   "source": []
  },
  {
   "cell_type": "code",
   "execution_count": null,
   "metadata": {
    "collapsed": true
   },
   "outputs": [],
   "source": []
  },
  {
   "cell_type": "code",
   "execution_count": null,
   "metadata": {
    "collapsed": true
   },
   "outputs": [],
   "source": []
  },
  {
   "cell_type": "markdown",
   "metadata": {},
   "source": [
    "#### Same annalysis with benefits"
   ]
  },
  {
   "cell_type": "code",
   "execution_count": null,
   "metadata": {
    "collapsed": false
   },
   "outputs": [],
   "source": [
    "survey_scenario.compute_aggregate(\"rsa_socle_majore_mensualise\")"
   ]
  },
  {
   "cell_type": "code",
   "execution_count": null,
   "metadata": {
    "collapsed": false
   },
   "outputs": [],
   "source": [
    "survey_scenario.compute_aggregate(\"rsa_non_majore\")"
   ]
  },
  {
   "cell_type": "code",
   "execution_count": null,
   "metadata": {
    "collapsed": false
   },
   "outputs": [],
   "source": [
    "pd.Series(survey_scenario.simulation.calculate(\"rsa_eligibilite_tns\", \"2009-01\")).value_counts()"
   ]
  },
  {
   "cell_type": "code",
   "execution_count": null,
   "metadata": {
    "collapsed": true
   },
   "outputs": [],
   "source": []
  },
  {
   "cell_type": "markdown",
   "metadata": {},
   "source": [
    "# END"
   ]
  },
  {
   "cell_type": "markdown",
   "metadata": {},
   "source": [
    "### Utility :"
   ]
  },
  {
   "cell_type": "code",
   "execution_count": null,
   "metadata": {
    "collapsed": true
   },
   "outputs": [],
   "source": [
    "def utility(array = None, hp_young_coef = 0.89):\n",
    "    reference = mesures.revdisp\n",
    "    label = u\"Revenu disponible du ménage\"\n",
    "    def function(self, simulation, period):\n",
    "        '''\n",
    "        Revenu disponible - ménage\n",
    "        'men'\n",
    "        '''\n",
    "        utility = -(array + 5000) **-hp_young_coef #on ajoute 5000 pour pas avoir les familles à 0 de revdisp qui font - inf\n",
    "\n",
    "        return utility"
   ]
  },
  {
   "cell_type": "code",
   "execution_count": null,
   "metadata": {
    "collapsed": true
   },
   "outputs": [],
   "source": []
  },
  {
   "cell_type": "markdown",
   "metadata": {},
   "source": [
    "### Taux d'intérêt"
   ]
  },
  {
   "cell_type": "code",
   "execution_count": null,
   "metadata": {
    "collapsed": false
   },
   "outputs": [],
   "source": [
    "def revdisp_tx(var = None, taux = None):\n",
    "    revdisp_i = 0\n",
    "    for month in range(0,12):\n",
    "        monthly_taux = ((1+taux)**(1/12)) \n",
    "        revdisp_i += (\n",
    "            survey_scenario.simulation.calculate(var, survey_scenario.simulation.period.offset(month, 'month').this_month) \n",
    "            / (monthly_taux)**month \n",
    "                      )\n",
    "    return revdisp_i\n"
   ]
  },
  {
   "cell_type": "code",
   "execution_count": null,
   "metadata": {
    "collapsed": false
   },
   "outputs": [],
   "source": [
    "revdisp_tx('revdisp_mensuel_ir_mensuel', 1.6)"
   ]
  },
  {
   "cell_type": "code",
   "execution_count": null,
   "metadata": {
    "collapsed": false
   },
   "outputs": [],
   "source": [
    "survey_scenario.simulation.period.offset(2, 'month').this_month"
   ]
  },
  {
   "cell_type": "code",
   "execution_count": null,
   "metadata": {
    "collapsed": true
   },
   "outputs": [],
   "source": []
  },
  {
   "cell_type": "code",
   "execution_count": null,
   "metadata": {
    "collapsed": true
   },
   "outputs": [],
   "source": [
    "variable = 'rsa'\n",
    "monthly_df = pd.DataFrame(\n",
    "                dict((column_name+\"_\"+period, survey_scenario.simulation.calculate_add(column_name, period)) \n",
    "                for period in ['{}-{}'.format( 2009, str(month).zfill(2)) for month in range(1, 13)] for column_name in [variable]) #TODO mensualize : allow for periods\n",
    "                )\n",
    "monthly_df.T"
   ]
  },
  {
   "cell_type": "code",
   "execution_count": null,
   "metadata": {
    "collapsed": true
   },
   "outputs": [],
   "source": []
  },
  {
   "cell_type": "code",
   "execution_count": null,
   "metadata": {
    "collapsed": true
   },
   "outputs": [],
   "source": []
  },
  {
   "cell_type": "code",
   "execution_count": null,
   "metadata": {
    "collapsed": true
   },
   "outputs": [],
   "source": [
    "ir_comp_df = pd.DataFrame({'diference':(survey_scenario.simulation.calculate(\"irpp\") - (survey_scenario.simulation.calculate_add(\"irpp_mensuel\")/(lambda_compensation+12))*12),\n",
    "                           'ir_annuel' : survey_scenario.simulation.calculate(\"irpp\"),\n",
    "                           'ir_mensuel' :  survey_scenario.simulation.calculate(\"irpp_mensuel\"),\n",
    "                           'ir_mensuel_compensated' :  (survey_scenario.simulation.calculate_add(\"irpp_mensuel\")/(lambda_compensation+12))*12,\n",
    "                           'lambda_c' : survey_scenario.simulation.calculate(\"lambda_compensation\"),\n",
    "                           })\n",
    "ir_comp_df[ir_comp_df.diference > 10]\n",
    "#ir_comp_df[ir_comp_df.lambda_c > 1]"
   ]
  },
  {
   "cell_type": "code",
   "execution_count": null,
   "metadata": {
    "collapsed": true
   },
   "outputs": [],
   "source": [
    "print (ir_comp_df[np.abs(ir_comp_df.difence )>10].ir_annuel == 0).value_counts()\n",
    "ir_comp_df[np.abs(ir_comp_df.difence )>10] # Tout les Ir_mensuel dif"
   ]
  },
  {
   "cell_type": "markdown",
   "metadata": {},
   "source": [
    "## Tests of conformity"
   ]
  },
  {
   "cell_type": "code",
   "execution_count": null,
   "metadata": {
    "collapsed": false
   },
   "outputs": [],
   "source": [
    "np.testing.assert_array_almost_equal(survey_scenario.simulation.calculate('rev_sal'),survey_scenario.simulation.calculate_add(\"rev_sal_mensuel_times_12\")/12, decimal = 1,\n",
    "                                    ) #Good\n"
   ]
  },
  {
   "cell_type": "code",
   "execution_count": null,
   "metadata": {
    "collapsed": false,
    "scrolled": true
   },
   "outputs": [],
   "source": [
    "np.testing.assert_array_almost_equal(survey_scenario.simulation.calculate('salcho_imp'),survey_scenario.simulation.calculate_add(\"salcho_imp_mensuel_times_12\")/12, decimal = 0,\n",
    "                                    )  #Semble normal, ce sont les 4% qui touchent les plafonds tspr.abat_pro min et max TODO: à vérifier que c'est bien celà, voir tout en bas.\n"
   ]
  },
  {
   "cell_type": "code",
   "execution_count": null,
   "metadata": {
    "collapsed": false
   },
   "outputs": [],
   "source": [
    "print survey_scenario.compute_aggregate('salcho_imp')/10**9\n",
    "print survey_scenario.compute_aggregate('salcho_imp_mensuel_times_12')/12/10**9"
   ]
  },
  {
   "cell_type": "code",
   "execution_count": null,
   "metadata": {
    "collapsed": false
   },
   "outputs": [],
   "source": [
    "filter_salcho_imp = ~(np.abs(survey_scenario.simulation.calculate('salcho_imp')- survey_scenario.simulation.calculate_add(\"salcho_imp_mensuel_times_12\")/12)>2)"
   ]
  },
  {
   "cell_type": "code",
   "execution_count": null,
   "metadata": {
    "collapsed": false
   },
   "outputs": [],
   "source": [
    "\n",
    "np.testing.assert_array_almost_equal(survey_scenario.simulation.calculate_add('sal_pen_net'),\n",
    "                                     survey_scenario.simulation.calculate_add('sal_pen_net_mensuel_times_12')/12, decimal = -1,\n",
    "                                    )"
   ]
  },
  {
   "cell_type": "code",
   "execution_count": null,
   "metadata": {
    "collapsed": false
   },
   "outputs": [],
   "source": [
    "print survey_scenario.compute_aggregate('sal_pen_net')/10**9\n",
    "print survey_scenario.compute_aggregate('sal_pen_net_mensuel_times_12')/12/10**9"
   ]
  },
  {
   "cell_type": "code",
   "execution_count": null,
   "metadata": {
    "collapsed": false
   },
   "outputs": [],
   "source": [
    "print survey_scenario.compute_aggregate('retraite_imposable')/10**9 +  survey_scenario.compute_aggregate('pen_net')/10**9\n"
   ]
  },
  {
   "cell_type": "code",
   "execution_count": null,
   "metadata": {
    "collapsed": false
   },
   "outputs": [],
   "source": [
    "np.testing.assert_array_almost_equal(pd.Series(survey_scenario.simulation.calculate_add('sal_pen_net'))[filter_salcho_imp],\n",
    "                                     pd.Series(survey_scenario.simulation.calculate_add('sal_pen_net_mensuel_times_12')/12)[filter_salcho_imp], decimal = -1,\n",
    "                                    )"
   ]
  },
  {
   "cell_type": "code",
   "execution_count": null,
   "metadata": {
    "collapsed": false
   },
   "outputs": [],
   "source": [
    "print survey_scenario.compute_aggregate('sal_pen_net')/10**9\n",
    "print survey_scenario.compute_aggregate('sal_pen_net_mensuel_times_12')/12/10**9"
   ]
  },
  {
   "cell_type": "code",
   "execution_count": null,
   "metadata": {
    "collapsed": false
   },
   "outputs": [],
   "source": [
    "print survey_scenario.simulation.calculate_add(\"sal_pen_net_mensuel_times_12\").sum()/12\n",
    "print ((survey_scenario.simulation.calculate(\"sal_pen_net\").sum()/1)*survey_scenario.simulation.calculate(\"wprm\").sum())\n",
    "print (survey_scenario.simulation.calculate(\"sal_pen_net\").sum()/1 - survey_scenario.simulation.calculate_add(\"sal_pen_net_mensuel_times_12\").sum()/12)"
   ]
  },
  {
   "cell_type": "code",
   "execution_count": null,
   "metadata": {
    "collapsed": false
   },
   "outputs": [],
   "source": [
    "survey_scenario.compute_aggregate('sal_pen_net')/10**9"
   ]
  },
  {
   "cell_type": "code",
   "execution_count": null,
   "metadata": {
    "collapsed": true
   },
   "outputs": [],
   "source": [
    "np.testing.assert_array_almost_equal(pd.Series(survey_scenario.simulation.calculate_add('sal_pen_net'))[filter_salcho_imp],\n",
    "                                     pd.Series(survey_scenario.simulation.calculate_add('sal_pen_net_mensuel_times_12')/12)[filter_salcho_imp], decimal = -1,\n",
    "                                    )"
   ]
  },
  {
   "cell_type": "code",
   "execution_count": null,
   "metadata": {
    "collapsed": false
   },
   "outputs": [],
   "source": [
    "df = pd.DataFrame({'annuel':survey_scenario.simulation.calculate('salcho_imp'),'mensuel':survey_scenario.simulation.calculate_add(\"salcho_imp_mensuel_times_12\")/12,\n",
    "                  'frais_reels': survey_scenario.simulation.calculate('frais_reels', \"2009\"),\n",
    "                  \n",
    "                  })\n",
    "df = df[np.abs(df.annuel - df.mensuel)>1]\n",
    "print df.shape\n",
    "df"
   ]
  },
  {
   "cell_type": "code",
   "execution_count": null,
   "metadata": {
    "collapsed": false
   },
   "outputs": [],
   "source": [
    "survey_scenario.compute_aggregate('compensated_irpp_mensuel')/10**9"
   ]
  },
  {
   "cell_type": "code",
   "execution_count": null,
   "metadata": {
    "collapsed": false
   },
   "outputs": [],
   "source": [
    "lambdac = survey_scenario.simulation.calculate('lambda_compensation')"
   ]
  },
  {
   "cell_type": "code",
   "execution_count": null,
   "metadata": {
    "collapsed": false
   },
   "outputs": [],
   "source": [
    "survey_scenario.simulation.calculate('irpp_mensuel','2009-01')"
   ]
  },
  {
   "cell_type": "code",
   "execution_count": null,
   "metadata": {
    "collapsed": false
   },
   "outputs": [],
   "source": [
    "print survey_scenario.simulation.period"
   ]
  },
  {
   "cell_type": "code",
   "execution_count": null,
   "metadata": {
    "collapsed": true
   },
   "outputs": [],
   "source": [
    "variable ='salaire_imposable'\n",
    "pd.DataFrame({'tspr':survey_scenario.simulation.calculate(variable,'2009'), variable: survey_scenario.simulation.calculate_add(variable)})"
   ]
  },
  {
   "cell_type": "code",
   "execution_count": null,
   "metadata": {
    "collapsed": true
   },
   "outputs": [],
   "source": [
    "\n",
    "#survey_scenario = create_survey_scenario(2009)\n",
    "df1 = survey_scenario.create_data_frame_by_entity_key_plural_with_monthly_basis_selector(['irpp','irpp_mensuel','rng','rng_mensuel_times_12'], ['irpp_mensuel'])['foyers_fiscaux']; df1"
   ]
  },
  {
   "cell_type": "code",
   "execution_count": null,
   "metadata": {
    "collapsed": false
   },
   "outputs": [],
   "source": [
    "df1[df1.irpp == df1.irpp_mensuel].shape"
   ]
  },
  {
   "cell_type": "code",
   "execution_count": null,
   "metadata": {
    "collapsed": true
   },
   "outputs": [],
   "source": [
    "df1[df1.irpp != df1.irpp_mensuel]"
   ]
  },
  {
   "cell_type": "code",
   "execution_count": null,
   "metadata": {
    "collapsed": false
   },
   "outputs": [],
   "source": [
    "np.testing.assert_array_almost_equal(survey_scenario.simulation.calculate('salcho_imp'),survey_scenario.simulation.calculate_add(\"salcho_imp_mensuel_times_12\")/12, decimal = -2,\n",
    "                                    )\n"
   ]
  },
  {
   "cell_type": "code",
   "execution_count": null,
   "metadata": {
    "collapsed": false
   },
   "outputs": [],
   "source": [
    "variable = 'frais_reels'\n",
    "df1 = survey_scenario.create_data_frame_by_entity_key_plural_with_monthly_basis_selector([variable, '{}'.format(variable)], ['{}'.format(variable)])['individus']; \n",
    "df1['{}'.format(variable)] = df1['{}'.format(variable)]/12\n",
    "df1.T"
   ]
  },
  {
   "cell_type": "code",
   "execution_count": null,
   "metadata": {
    "collapsed": false
   },
   "outputs": [],
   "source": [
    "survey_scenario.simulation.calculate_add(\"salcho_imp_mensuel_times_12\")"
   ]
  },
  {
   "cell_type": "code",
   "execution_count": null,
   "metadata": {
    "collapsed": false
   },
   "outputs": [],
   "source": [
    "np.testing.assert_array_almost_equal(survey_scenario.simulation.calculate('rng'),survey_scenario.simulation.calculate_add('rng_mensuel_times_12')/12, decimal = -2,\n",
    "                                    )\n"
   ]
  },
  {
   "cell_type": "code",
   "execution_count": null,
   "metadata": {
    "collapsed": false
   },
   "outputs": [],
   "source": [
    "np.testing.assert_array_almost_equal(survey_scenario.simulation.calculate('rbg'),survey_scenario.simulation.calculate_add('rbg_mensuel_times_12')/12, decimal = -2,\n",
    "                                    )"
   ]
  },
  {
   "cell_type": "code",
   "execution_count": null,
   "metadata": {
    "collapsed": false
   },
   "outputs": [],
   "source": [
    "\n",
    "np.testing.assert_array_almost_equal(survey_scenario.simulation.calculate('rev_cat_tspr'),survey_scenario.simulation.calculate_add('rev_cat_tspr_mensuel_times_12')/12, decimal = -2,\n",
    "                                    )"
   ]
  },
  {
   "cell_type": "code",
   "execution_count": null,
   "metadata": {
    "collapsed": false
   },
   "outputs": [],
   "source": [
    "\n",
    "np.testing.assert_array_almost_equal(survey_scenario.simulation.calculate_add('sal_pen_net'),survey_scenario.simulation.calculate_add('sal_pen_net_mensuel_times_12')/12, decimal = -2,\n",
    "                                    )"
   ]
  },
  {
   "cell_type": "code",
   "execution_count": null,
   "metadata": {
    "collapsed": true
   },
   "outputs": [],
   "source": [
    "np.testing.assert_array_almost_equal(survey_scenario.simulation.calculate_add('sal_pen_net'),survey_scenario.simulation.calculate_add('sal_pen_net_mensuel_times_12')/12, decimal = -2,\n",
    "                                    )"
   ]
  },
  {
   "cell_type": "code",
   "execution_count": null,
   "metadata": {
    "collapsed": false
   },
   "outputs": [],
   "source": [
    "pd.Series(survey_scenario.simulation.calculate('chomage_imposable','2009-02')).value_counts()"
   ]
  },
  {
   "cell_type": "code",
   "execution_count": null,
   "metadata": {
    "collapsed": false
   },
   "outputs": [],
   "source": [
    "pd.Series(survey_scenario.simulation.calculate('chomage_imposable')==0).value_counts()"
   ]
  },
  {
   "cell_type": "code",
   "execution_count": null,
   "metadata": {
    "collapsed": false
   },
   "outputs": [],
   "source": [
    "sal_pen_df = survey_scenario.create_data_frame_by_entity_key_plural_with_monthly_basis_selector(['sal_pen_net','sal_pen_net_mensuel_times_12'], ['sal_pen_net_mensuel_times_12'])['individus']\n",
    "sal_pen_df[sal_pen_df.sal_pen_net != sal_pen_df.sal_pen_net_mensuel_times_12/12].T"
   ]
  },
  {
   "cell_type": "code",
   "execution_count": null,
   "metadata": {
    "collapsed": false
   },
   "outputs": [],
   "source": [
    "variable = 'salaire_imposable'\n",
    "df1 = survey_scenario.create_data_frame_by_entity_key_plural_with_monthly_basis_selector([variable, '{}'.format(variable)], ['{}'.format(variable)])['individus']; \n",
    "df1['{}'.format(variable)] = df1['{}'.format(variable)]/12\n",
    "df1.T"
   ]
  },
  {
   "cell_type": "code",
   "execution_count": null,
   "metadata": {
    "collapsed": false
   },
   "outputs": [],
   "source": [
    "#RTO déclarant 1 tous nul\n",
    "pd.Series(survey_scenario.simulation.calculate('rto_net_declarant1') == 0).value_counts()"
   ]
  },
  {
   "cell_type": "code",
   "execution_count": null,
   "metadata": {
    "collapsed": true
   },
   "outputs": [],
   "source": []
  },
  {
   "cell_type": "code",
   "execution_count": null,
   "metadata": {
    "collapsed": false
   },
   "outputs": [],
   "source": [
    "variable = 'salcho_imp'\n",
    "df1 = survey_scenario.create_data_frame_by_entity_key_plural_with_monthly_basis_selector([variable, '{}_mensuel_times_12'.format(variable)], ['{}_mensuel_times_12'.format(variable)])['individus']; \n",
    "df1['{}_mensuel_times_12'.format(variable)] = df1['{}_mensuel_times_12'.format(variable)]/12\n",
    "df1.T"
   ]
  },
  {
   "cell_type": "code",
   "execution_count": null,
   "metadata": {
    "collapsed": false
   },
   "outputs": [],
   "source": []
  },
  {
   "cell_type": "code",
   "execution_count": null,
   "metadata": {
    "collapsed": false
   },
   "outputs": [],
   "source": [
    "pd.DataFrame({'1absolute':survey_scenario.simulation.calculate('rev_cat_tspr')- survey_scenario.simulation.calculate('rev_cat_tspr_mensuel_times_12')/12,\n",
    "              '2relatif': (survey_scenario.simulation.calculate('rev_cat_tspr') - survey_scenario.simulation.calculate('rev_cat_tspr_mensuel_times_12')/12) /survey_scenario.simulation.calculate('rev_cat_tspr'),\n",
    "              '3annuel': survey_scenario.simulation.calculate('rev_cat_tspr'),\n",
    "              '4mensuel': survey_scenario.simulation.calculate('rev_cat_tspr_mensuel_times_12')/12,\n",
    "             \n",
    "             \n",
    "             })"
   ]
  },
  {
   "cell_type": "code",
   "execution_count": null,
   "metadata": {
    "collapsed": false
   },
   "outputs": [],
   "source": [
    "df1 = survey_scenario.create_data_frame_by_entity_key_plural_with_monthly_basis_selector(['rng'], ['rng_mensuel_times_12'])['foyers_fiscaux']; df1.T"
   ]
  },
  {
   "cell_type": "code",
   "execution_count": null,
   "metadata": {
    "collapsed": false
   },
   "outputs": [],
   "source": [
    "variable = 'rbg'\n",
    "df1 = survey_scenario.create_data_frame_by_entity_key_plural_with_monthly_basis_selector([variable, '{}_mensuel_times_12'.format(variable)], ['{}_mensuel_times_12'.format(variable)])['foyers_fiscaux']; \n",
    "df1['{}_mensuel_times_12'.format(variable)] = df1['{}_mensuel_times_12'.format(variable)]/12\n",
    "df1.T"
   ]
  },
  {
   "cell_type": "code",
   "execution_count": null,
   "metadata": {
    "collapsed": false
   },
   "outputs": [],
   "source": [
    "variable = 'rev_cat_tspr'\n",
    "df1 = survey_scenario.create_data_frame_by_entity_key_plural_with_monthly_basis_selector([variable, '{}_mensuel_times_12'.format(variable)], ['{}_mensuel_times_12'.format(variable)])['foyers_fiscaux']; \n",
    "df1['{}_mensuel_times_12'.format(variable)] = df1['{}_mensuel_times_12'.format(variable)]/12\n",
    "df1.T"
   ]
  },
  {
   "cell_type": "code",
   "execution_count": null,
   "metadata": {
    "collapsed": false
   },
   "outputs": [],
   "source": [
    "pd.DataFrame({'tspr':survey_scenario.simulation.calculate(\"tspr\"), 'tspr_mensuel_times12': survey_scenario.simulation.calculate_add('tspr_mensuel_times_12')/12})"
   ]
  },
  {
   "cell_type": "code",
   "execution_count": null,
   "metadata": {
    "collapsed": false
   },
   "outputs": [],
   "source": [
    "variable ='salaire_imposable'\n",
    "pd.DataFrame({'tspr':survey_scenario.simulation.calculate(variable,'2009'), variable: survey_scenario.simulation.calculate_add(variable)})"
   ]
  },
  {
   "cell_type": "code",
   "execution_count": null,
   "metadata": {
    "collapsed": false
   },
   "outputs": [],
   "source": [
    "survey_scenario.simulation.calculate(\"tspr_mensuel_times_12\", '2009-01')"
   ]
  },
  {
   "cell_type": "code",
   "execution_count": null,
   "metadata": {
    "collapsed": false
   },
   "outputs": [],
   "source": [
    "df = survey_scenario.create_data_frame_by_entity_key_plural_by_period(['irpp_mensuel'], periods_list = ['2009-01','2009-02','2009-03'])['foyers_fiscaux'];df.concat(df1)"
   ]
  },
  {
   "cell_type": "code",
   "execution_count": null,
   "metadata": {
    "collapsed": false
   },
   "outputs": [],
   "source": [
    "trash_2 = survey_scenario.create_data_frame_by_entity_key_plural_by_period(['salaire_net'], periods_list = ['a','2013'])"
   ]
  },
  {
   "cell_type": "code",
   "execution_count": null,
   "metadata": {
    "collapsed": false
   },
   "outputs": [],
   "source": [
    "trash['foyers_fiscaux']"
   ]
  },
  {
   "cell_type": "code",
   "execution_count": null,
   "metadata": {
    "collapsed": false
   },
   "outputs": [],
   "source": [
    "import logging\n",
    "\n",
    "log = logging.getLogger(__name__)"
   ]
  },
  {
   "cell_type": "code",
   "execution_count": null,
   "metadata": {
    "collapsed": false
   },
   "outputs": [],
   "source": [
    "log.error('boum')"
   ]
  },
  {
   "cell_type": "code",
   "execution_count": null,
   "metadata": {
    "collapsed": false
   },
   "outputs": [],
   "source": [
    "periods_list = [\"20126\"]\n",
    "for period in periods_list:\n",
    "            try:\n",
    "                periods.period(period)\n",
    "                print 'good'\n",
    "            except ValueError:\n",
    "                #log.info(\"{} in your periods dict is not an OpenFisca period\".format(period))\n",
    "                raise\n",
    "                print'bad'\n",
    "                pass"
   ]
  },
  {
   "cell_type": "code",
   "execution_count": null,
   "metadata": {
    "collapsed": false
   },
   "outputs": [],
   "source": [
    "df = survey_scenario.create_data_frame_by_entity_key_plural(variables = ['irpp','irpp_mensuel','rng', 'blob'])['foyers_fiscaux'];df"
   ]
  },
  {
   "cell_type": "code",
   "execution_count": null,
   "metadata": {
    "collapsed": false
   },
   "outputs": [],
   "source": [
    "survey_scenario.tax_benefit_system."
   ]
  },
  {
   "cell_type": "code",
   "execution_count": null,
   "metadata": {
    "collapsed": false
   },
   "outputs": [],
   "source": [
    "survey_scenario.create_data_frame_by_entity_key_plural(variables = ['irpp','irpp_mensuel', 'sali'])"
   ]
  },
  {
   "cell_type": "code",
   "execution_count": null,
   "metadata": {
    "collapsed": false
   },
   "outputs": [],
   "source": [
    "df[df.irpp +0.05 > df.irpp_mensuel]"
   ]
  },
  {
   "cell_type": "code",
   "execution_count": null,
   "metadata": {
    "collapsed": false
   },
   "outputs": [],
   "source": [
    "pd.Series((survey_scenario.simulation.calculate('salaire_imposable')>0)).value_counts()"
   ]
  },
  {
   "cell_type": "code",
   "execution_count": null,
   "metadata": {
    "collapsed": true
   },
   "outputs": [],
   "source": [
    "%matplotlib inline\n",
    "import matplotlib.pyplot as plt"
   ]
  },
  {
   "cell_type": "code",
   "execution_count": null,
   "metadata": {
    "collapsed": true
   },
   "outputs": [],
   "source": [
    "lambdac = pd.Series(lambdac)"
   ]
  },
  {
   "cell_type": "code",
   "execution_count": null,
   "metadata": {
    "collapsed": false
   },
   "outputs": [],
   "source": [
    "lambdac.loc[(lambdac == -np.inf)|lambdac.isnull()]=0"
   ]
  },
  {
   "cell_type": "code",
   "execution_count": null,
   "metadata": {
    "collapsed": false
   },
   "outputs": [],
   "source": [
    "#lambdac.drop(lambdac.loc[((lambdac<0.1) & (lambdac>-0.1))].index, inplace = True)"
   ]
  },
  {
   "cell_type": "code",
   "execution_count": null,
   "metadata": {
    "collapsed": false
   },
   "outputs": [],
   "source": [
    "lambdac.drop(lambdac.loc[((lambdac>200) | (lambdac<-200))].index, inplace = True)"
   ]
  },
  {
   "cell_type": "code",
   "execution_count": null,
   "metadata": {
    "collapsed": false
   },
   "outputs": [],
   "source": [
    "lambdac.min()"
   ]
  },
  {
   "cell_type": "code",
   "execution_count": null,
   "metadata": {
    "collapsed": false
   },
   "outputs": [],
   "source": [
    "lambdac.hist(bins=100)\n",
    "plt.xlim(-50,150)\n",
    "plt.ylim(0,2700)"
   ]
  },
  {
   "cell_type": "code",
   "execution_count": null,
   "metadata": {
    "collapsed": false
   },
   "outputs": [],
   "source": [
    "lambdac[((lambdac>40) & (lambdac<55))].hist(bins = 100)"
   ]
  },
  {
   "cell_type": "code",
   "execution_count": null,
   "metadata": {
    "collapsed": false
   },
   "outputs": [],
   "source": [
    "pd.Series(survey_scenario.simulation.calculate_add('compensated_irpp_mensuel')-survey_scenario.simulation.calculate_add('irpp')).hist(bins = 10**4)\n",
    "#plt.ylim(0,100)\n",
    "plt.xlim(0,100)"
   ]
  },
  {
   "cell_type": "code",
   "execution_count": null,
   "metadata": {
    "collapsed": true
   },
   "outputs": [],
   "source": []
  },
  {
   "cell_type": "code",
   "execution_count": null,
   "metadata": {
    "collapsed": true
   },
   "outputs": [],
   "source": []
  },
  {
   "cell_type": "code",
   "execution_count": null,
   "metadata": {
    "collapsed": false
   },
   "outputs": [],
   "source": [
    "print survey_scenario.weight_column_name_by_entity_key_plural\n",
    "survey_scenario.simulation.calculate_add(survey_scenario.weight_column_name_by_entity_key_plural['foyers_fiscaux'], period = period).astype(float)"
   ]
  },
  {
   "cell_type": "code",
   "execution_count": null,
   "metadata": {
    "collapsed": true
   },
   "outputs": [],
   "source": []
  },
  {
   "cell_type": "code",
   "execution_count": null,
   "metadata": {
    "collapsed": false
   },
   "outputs": [],
   "source": [
    "weight_foyers = survey_scenario.simulation.calculate_add('weight_foyers', period = period).astype(float)"
   ]
  },
  {
   "cell_type": "markdown",
   "metadata": {},
   "source": [
    "### Stat de Base sur la différence"
   ]
  },
  {
   "cell_type": "code",
   "execution_count": null,
   "metadata": {
    "collapsed": false
   },
   "outputs": [],
   "source": [
    "# We put positive value for income tax (negative in openfisca output)\n",
    "impot_annuel =  -survey_scenario.simulation.calculate('irpp')\n",
    "impot_mensuel =  -survey_scenario.simulation.calculate_add('irpp_mensuel')"
   ]
  },
  {
   "cell_type": "code",
   "execution_count": null,
   "metadata": {
    "collapsed": false
   },
   "outputs": [],
   "source": [
    "print \"il y a {}/{} cas ou l'impot annuel est null soit {}%\".format((impot_annuel == 0).sum(),impot_mensuel.shape[0],(impot_annuel == 0).sum()/impot_mensuel.shape[0] )"
   ]
  },
  {
   "cell_type": "code",
   "execution_count": null,
   "metadata": {
    "collapsed": false
   },
   "outputs": [],
   "source": [
    "impot_annuel = survey_scenario.simulation.calculate('irpp')\n",
    "impot_mensuel = survey_scenario.simulation.calculate_add('irpp_mensuel')\n",
    "print \"il y a {}/{} cas ou l'impot annuel et mensuel est null soit {}%\".format(((impot_annuel == 0) & (impot_mensuel == 0)).sum(),impot_mensuel.shape[0],((impot_annuel == 0) & (impot_mensuel == 0)).sum()/impot_mensuel.shape[0] )\n",
    "print \"il y a {}/{} cas ou l'impot mensuel est null, mais pas l'annuel soit {}% (pas possible ?)\".format(((impot_annuel != 0) & (impot_mensuel == 0)).sum(), impot_mensuel.shape[0],((impot_annuel != 0) & (impot_mensuel == 0)).sum()/impot_mensuel.shape[0])\n",
    "print \"il y a {}/{} cas ou l'impot mensuel est inférieur à l'annuel soit {}% (pas possible ?)\".format((impot_annuel > impot_mensuel).sum(), impot_mensuel.shape[0], (impot_annuel > impot_mensuel).sum()/ impot_mensuel.shape[0])\n"
   ]
  },
  {
   "cell_type": "markdown",
   "metadata": {},
   "source": [
    "#### Annuel == mensuel "
   ]
  },
  {
   "cell_type": "code",
   "execution_count": null,
   "metadata": {
    "collapsed": false,
    "scrolled": true
   },
   "outputs": [],
   "source": [
    "print \"il y a {}/{} cas ou l'impot mensuel est égal à l'annuel soit {}% \".format((np.abs(impot_annuel - impot_mensuel)==0).sum(), impot_mensuel.shape[0], (np.abs(impot_annuel - impot_mensuel)==0).sum()/ impot_mensuel.shape[0])\n",
    "print \"il y a {}/{} cas ou l'impot mensuel est égal à l'annuel (à 1 cents près) soit {}% \".format((np.abs(impot_annuel - impot_mensuel)<0.01).sum(), impot_mensuel.shape[0], (np.abs(impot_annuel - impot_mensuel)<0.01).sum()/ impot_mensuel.shape[0])\n",
    "print \"il y a {}/{} cas ou l'impot mensuel est égal à l'annuel (à 1 euros près) soit {}% \".format((np.abs(impot_annuel - impot_mensuel)<1).sum(), impot_mensuel.shape[0], (np.abs(impot_annuel - impot_mensuel)<1).sum()/ impot_mensuel.shape[0])\n",
    "print \"il y a {}/{} cas ou l'impot mensuel est égal à l'annuel (à 10 euros près) soit {}% \".format((np.abs(impot_annuel - impot_mensuel)<10).sum(), impot_mensuel.shape[0], (np.abs(impot_annuel - impot_mensuel)<10).sum()/ impot_mensuel.shape[0])"
   ]
  },
  {
   "cell_type": "markdown",
   "metadata": {},
   "source": [
    "####  mensuel < annuel (supposé être l'exception)"
   ]
  },
  {
   "cell_type": "code",
   "execution_count": null,
   "metadata": {
    "collapsed": false
   },
   "outputs": [],
   "source": [
    "print \"il y a {}/{} cas ou l'impot mensuel est inférieur à l'annuel soit {}% (pas possible ?)\".format((impot_annuel > impot_mensuel).sum(), impot_mensuel.shape[0], (impot_annuel > impot_mensuel).sum()/ impot_mensuel.shape[0])\n",
    "print \"il y a {}/{} cas ou l'impot mensuel est inférieur à l'annuel (à 10 euros près) soit {}% (pas possible ?)\".format((impot_annuel-impot_mensuel >10 ).sum(), impot_mensuel.shape[0], ((impot_annuel-impot_mensuel >10)).sum()/ impot_mensuel.shape[0])"
   ]
  },
  {
   "cell_type": "code",
   "execution_count": null,
   "metadata": {
    "collapsed": false
   },
   "outputs": [],
   "source": [
    "print \"il y a {}/{} cas ou l'impot mensuel est inférieur à l'annuel (à 10 euros près) soit {}% (pas possible ?)\".format((impot_annuel-impot_mensuel >10 ).sum(), impot_mensuel.shape[0], ((impot_annuel-impot_mensuel >10)).sum()/ impot_mensuel.shape[0])"
   ]
  },
  {
   "cell_type": "markdown",
   "metadata": {},
   "source": [
    "####  mensuel < annuel (supposé être la norme)"
   ]
  },
  {
   "cell_type": "code",
   "execution_count": null,
   "metadata": {
    "collapsed": false
   },
   "outputs": [],
   "source": [
    "print \"il y a {}/{} cas ou l'impot mensuel est supérieur à l'annuel soit {}% (pas possible ?)\".format((impot_annuel < impot_mensuel).sum(), impot_mensuel.shape[0], (impot_annuel < impot_mensuel).sum()/ impot_mensuel.shape[0])\n",
    "print \"il y a {}/{} cas ou l'impot mensuel est supérieur à l'annuel (à 10 euros près) soit {}% (pas possible ?)\".format((impot_mensuel-impot_annuel >10 ).sum(), impot_mensuel.shape[0], ((impot_mensuel-impot_annuel >10)).sum()/ impot_mensuel.shape[0])"
   ]
  },
  {
   "cell_type": "code",
   "execution_count": null,
   "metadata": {
    "collapsed": true
   },
   "outputs": [],
   "source": [
    "irpp_mois_list = 'ir'"
   ]
  },
  {
   "cell_type": "markdown",
   "metadata": {},
   "source": [
    "## Différence annuel vs. mensuel"
   ]
  },
  {
   "cell_type": "markdown",
   "metadata": {},
   "source": [
    "### Perdants"
   ]
  },
  {
   "cell_type": "code",
   "execution_count": null,
   "metadata": {
    "collapsed": true
   },
   "outputs": [],
   "source": [
    "simulation.calculate"
   ]
  },
  {
   "cell_type": "markdown",
   "metadata": {},
   "source": [
    "####  mensuel < annuel"
   ]
  },
  {
   "cell_type": "code",
   "execution_count": null,
   "metadata": {
    "collapsed": true
   },
   "outputs": [],
   "source": [
    "survey_scenario.weight_column_name_by_entity_key_plural"
   ]
  },
  {
   "cell_type": "markdown",
   "metadata": {},
   "source": [
    "### Nul du à la décote"
   ]
  },
  {
   "cell_type": "code",
   "execution_count": null,
   "metadata": {
    "collapsed": false
   },
   "outputs": [],
   "source": [
    "decote = survey_scenario.simulation.calculate_add('decote')\n",
    "ir_plaf_qf = survey_scenario.simulation.calculate_add('ir_plaf_qf')\n",
    "\n",
    "decote_m = survey_scenario.simulation.calculate_add('decote_mensuel_times_12')\n",
    "ir_plaf_qf_m = survey_scenario.simulation.calculate_add('ir_plaf_qf_mensuel_times_12')\n",
    "\n",
    "decote = min_(decote, ir_plaf_qf)\n",
    "decote_m = min_(decote_m, ir_plaf_qf)"
   ]
  },
  {
   "cell_type": "code",
   "execution_count": null,
   "metadata": {
    "collapsed": true
   },
   "outputs": [],
   "source": [
    "irpp_mois_list = ['irpp_mois{}'.format(month) for month in range(1,13)]"
   ]
  },
  {
   "cell_type": "markdown",
   "metadata": {
    "collapsed": true
   },
   "source": [
    "### DIfférence de décote"
   ]
  },
  {
   "cell_type": "code",
   "execution_count": null,
   "metadata": {
    "collapsed": false
   },
   "outputs": [],
   "source": [
    "(survey_scenario.compute_aggregate('decote_mensuel_times_12')/12) - (survey_scenario.compute_aggregate('decote'))"
   ]
  },
  {
   "cell_type": "markdown",
   "metadata": {},
   "source": [
    "## ANnalyse"
   ]
  },
  {
   "cell_type": "code",
   "execution_count": null,
   "metadata": {
    "collapsed": false
   },
   "outputs": [],
   "source": [
    "df = survey_scenario.create_data_frame_by_entity_key_plural(['decote_gain_fiscal','decote_gain_fiscal_mensuel_times_12',\"irpp\",'irpp_mensuel'])['foyers_fiscaux']"
   ]
  },
  {
   "cell_type": "code",
   "execution_count": null,
   "metadata": {
    "collapsed": false
   },
   "outputs": [],
   "source": [
    "irpp_month = survey_scenario.simulation.calculate('irpp_mensuel', '2009-{}'.format(month))\n",
    "\n",
    "for month in range(1,13):\n",
    "    irpp_month = survey_scenario.simulation.calculate('irpp_mensuel', '2009-{}'.format(month))\n",
    "    irpp_serie = pd.Series(irpp_month, name = 'irpp_{}'.format(month))\n",
    "    df = df.T.append(irpp_serie).T"
   ]
  },
  {
   "cell_type": "code",
   "execution_count": null,
   "metadata": {
    "collapsed": false
   },
   "outputs": [],
   "source": [
    "df.T"
   ]
  },
  {
   "cell_type": "markdown",
   "metadata": {},
   "source": [
    "### Droppe les cas où la différence d'impôt est inférieure à 10 euros"
   ]
  },
  {
   "cell_type": "code",
   "execution_count": null,
   "metadata": {
    "collapsed": false
   },
   "outputs": [],
   "source": [
    "import numpy as np"
   ]
  },
  {
   "cell_type": "code",
   "execution_count": null,
   "metadata": {
    "collapsed": false
   },
   "outputs": [],
   "source": [
    "df_ir_1 = df[(np.abs(df.irpp - df.irpp_mensuel) - 5)> 0 ]"
   ]
  },
  {
   "cell_type": "code",
   "execution_count": null,
   "metadata": {
    "collapsed": false
   },
   "outputs": [],
   "source": [
    "df_ir_1.shape"
   ]
  },
  {
   "cell_type": "code",
   "execution_count": null,
   "metadata": {
    "collapsed": false
   },
   "outputs": [],
   "source": [
    "(df.decote_gain_fiscal> df.decote_gain_fiscal_mensuel_times_12/12).shape"
   ]
  },
  {
   "cell_type": "markdown",
   "metadata": {},
   "source": [
    "### Droppe les cas où l'impôt mensuel est supérieur à l'annuel"
   ]
  },
  {
   "cell_type": "code",
   "execution_count": null,
   "metadata": {
    "collapsed": false
   },
   "outputs": [],
   "source": [
    "df_ir_sup_ir_m = df_ir_1[df_ir_1.irpp < df_ir_1.irpp_mensuel ]"
   ]
  },
  {
   "cell_type": "code",
   "execution_count": null,
   "metadata": {
    "collapsed": false
   },
   "outputs": [],
   "source": [
    "df_ir_sup_ir_m.T"
   ]
  },
  {
   "cell_type": "code",
   "execution_count": null,
   "metadata": {
    "collapsed": false
   },
   "outputs": [],
   "source": [
    "print \"il y a {} cas ou l'impôt annuel est supérieur au mensuel\".format(df_ir_sup_ir_m.shape[0])"
   ]
  },
  {
   "cell_type": "markdown",
   "metadata": {},
   "source": [
    "#### Différence due à la décote"
   ]
  },
  {
   "cell_type": "code",
   "execution_count": null,
   "metadata": {
    "collapsed": false
   },
   "outputs": [],
   "source": [
    "df_ir_sup_ir_m.irpp + df_"
   ]
  },
  {
   "cell_type": "code",
   "execution_count": null,
   "metadata": {
    "collapsed": true
   },
   "outputs": [],
   "source": []
  },
  {
   "cell_type": "code",
   "execution_count": null,
   "metadata": {
    "collapsed": true
   },
   "outputs": [],
   "source": []
  },
  {
   "cell_type": "code",
   "execution_count": null,
   "metadata": {
    "collapsed": false
   },
   "outputs": [],
   "source": [
    "df_ir_sup_ir_m.T"
   ]
  },
  {
   "cell_type": "code",
   "execution_count": null,
   "metadata": {
    "collapsed": false
   },
   "outputs": [],
   "source": [
    "df.irpp"
   ]
  },
  {
   "cell_type": "code",
   "execution_count": null,
   "metadata": {
    "collapsed": true
   },
   "outputs": [],
   "source": []
  },
  {
   "cell_type": "code",
   "execution_count": null,
   "metadata": {
    "collapsed": true
   },
   "outputs": [],
   "source": []
  },
  {
   "cell_type": "code",
   "execution_count": null,
   "metadata": {
    "collapsed": true
   },
   "outputs": [],
   "source": []
  },
  {
   "cell_type": "code",
   "execution_count": null,
   "metadata": {
    "collapsed": true
   },
   "outputs": [],
   "source": []
  },
  {
   "cell_type": "code",
   "execution_count": null,
   "metadata": {
    "collapsed": true
   },
   "outputs": [],
   "source": []
  },
  {
   "cell_type": "code",
   "execution_count": null,
   "metadata": {
    "collapsed": true
   },
   "outputs": [],
   "source": []
  },
  {
   "cell_type": "code",
   "execution_count": null,
   "metadata": {
    "collapsed": false
   },
   "outputs": [],
   "source": [
    "survey_scenario.create_data_frame_by_entity_key_plural(['irpp','ip_net', ])['foyers_fiscaux']"
   ]
  },
  {
   "cell_type": "code",
   "execution_count": null,
   "metadata": {
    "collapsed": true
   },
   "outputs": [],
   "source": []
  },
  {
   "cell_type": "code",
   "execution_count": null,
   "metadata": {
    "collapsed": false
   },
   "outputs": [],
   "source": [
    "survey_scenario.compute_aggregate('irpp')/10**9"
   ]
  },
  {
   "cell_type": "code",
   "execution_count": null,
   "metadata": {
    "collapsed": false
   },
   "outputs": [],
   "source": [
    "survey_scenario.compute_aggregate('irpp')/10**9"
   ]
  },
  {
   "cell_type": "code",
   "execution_count": null,
   "metadata": {
    "collapsed": false
   },
   "outputs": [],
   "source": [
    "survey_scenario.compute_aggregate('irpp_mensuel')/10**9"
   ]
  },
  {
   "cell_type": "code",
   "execution_count": null,
   "metadata": {
    "collapsed": false
   },
   "outputs": [],
   "source": [
    "((impot_annuel == 0) & (impot_mensuel == 0)).sum()"
   ]
  },
  {
   "cell_type": "code",
   "execution_count": null,
   "metadata": {
    "collapsed": true
   },
   "outputs": [],
   "source": []
  },
  {
   "cell_type": "code",
   "execution_count": null,
   "metadata": {
    "collapsed": true
   },
   "outputs": [],
   "source": []
  },
  {
   "cell_type": "code",
   "execution_count": null,
   "metadata": {
    "collapsed": true
   },
   "outputs": [],
   "source": []
  },
  {
   "cell_type": "code",
   "execution_count": null,
   "metadata": {
    "collapsed": true
   },
   "outputs": [],
   "source": []
  },
  {
   "cell_type": "code",
   "execution_count": null,
   "metadata": {
    "collapsed": true
   },
   "outputs": [],
   "source": []
  },
  {
   "cell_type": "code",
   "execution_count": null,
   "metadata": {
    "collapsed": true
   },
   "outputs": [],
   "source": []
  },
  {
   "cell_type": "code",
   "execution_count": null,
   "metadata": {
    "collapsed": false
   },
   "outputs": [],
   "source": [
    "survey_scenario.compute_pivot_table(columns = ['nbF'], values = [\"irpp\"])"
   ]
  },
  {
   "cell_type": "code",
   "execution_count": null,
   "metadata": {
    "collapsed": false,
    "scrolled": true
   },
   "outputs": [],
   "source": [
    "df = survey_scenario.create_data_frame_by_entity_key_plural(['irpp','ip_net', ])['foyers_fiscaux']"
   ]
  },
  {
   "cell_type": "code",
   "execution_count": null,
   "metadata": {
    "collapsed": true
   },
   "outputs": [],
   "source": [
    "#### Modified Adrien\n",
    "\n",
    "\n",
    "from numpy import (datetime64, logical_and as and_, logical_not as not_, logical_or as or_, logical_xor as xor_,\n",
    "maximum as max_, minimum as min_, round)\n",
    "\n",
    "\n",
    "lambda_compensation = simulation.calculate_add(\"lambda_compensation\")\n",
    "import pandas as pd\n",
    "lambda_compensation = pd.Series(lambda_compensation)\n",
    "print lambda_compensation.isnull().value_counts() #on devrait avoir autant de lambda compensation null que d'IR\n",
    "\n",
    "higher_mensual = pd.Series((simulation.calculate_add(\"irpp_mensuel\")> simulation.calculate_add('irpp'))).value_counts(dropna = False)\n",
    "print \"There is {} higher mensual then annual IR (not supposed to happened)\".format(higher_mensual)\n",
    "\n",
    "impot_annuel = simulation.calculate(\"irpp\")\n",
    "impot_mensuel = simulation.calculate_add(\"irpp_mensuel\")\n",
    "print \"il y a {}/{} cas ou l'impot annuel et mensuel est null soit {}%\".format(((impot_annuel == 0) & (impot_mensuel == 0)).sum(),impot_mensuel.shape[0],((impot_annuel == 0) & (impot_mensuel == 0)).sum()/impot_mensuel.shape[0] )\n",
    "print \"il y a {}/{} cas ou l'impot mensuel est null, mais pas l'annuel soit {}% (pas possible ?)\".format(((impot_annuel != 0) & (impot_mensuel == 0)).sum(), impot_mensuel.shape[0],((impot_annuel != 0) & (impot_mensuel == 0)).sum()/impot_mensuel.shape[0])\n",
    "print \"il y a {}/{} cas ou l'impot mensuel est inférieur à l'annuel soit {}% (pas possible ?)\".format((impot_annuel > impot_mensuel).sum(), impot_mensuel.shape[0], (impot_annuel > impot_mensuel).sum()/ impot_mensuel.shape[0])\n",
    "\n",
    "\n",
    "irpp = pd.Series(simulation.calculate(\"irpp\"), name = \"irpp\")\n",
    "irpp_mensuel = pd.Series(simulation.calculate(\"irpp_mensuel\"),name = 'irpp_mensuel')\n",
    "decote = pd.Series(simulation.calculate(\"decote\"), name = \"decote\")\n",
    "ir_plaf_qf = pd.Series(simulation.calculate(\"ir_plaf_qf\"))\n",
    "decote = min_(decote, ir_plaf_qf)\n",
    "\n",
    "\n",
    "ir_plaf_qf_m = pd.Series(simulation.calculate_add(\"ir_plaf_qf_mensuel_times_12\"))\n",
    "decote_m = pd.Series(simulation.calculate_add(\"decote_mensuel_times_12\"))\n",
    "decote_m = min_(decote_m, ir_plaf_qf_m)/12\n",
    "\n",
    "print u\"le gain fiscal de la décote est {}% plus élevé en mensuel\".format(((decote_m.sum()/decote.sum()-1))*100)\n",
    "\n",
    "\n",
    "\n",
    "\n",
    "ppe = pd.Series(simulation.calculate(\"ppe\"), name=\"ppe\")\n",
    "\n",
    "#Qui sont ceux qui payent de l'impôt en trop en mensuel ?\n",
    "\n",
    "\n",
    "#7657 ;\n",
    "annomalie = (impot_mensuel<impot_annuel +1) | (impot_mensuel<impot_annuel - 1) #gérer les tout petits problèmes d'arrondis\n",
    "\n",
    "print u\"{}% payent plus en annuel à cause de la décote (ou tout du moins en partie)\".format((decote_m[annomalie]==0).value_counts(normalize = True)[0])\n",
    "print (decote_m[annomalie]==0).value_counts(normalize = True)\n",
    "#D'ou viennent les autres annomalies, pourquoi plus d'ir en annuel\n",
    "\n",
    "\n",
    "\n",
    "df_ir_mois = pd.DataFrame()\n",
    "for mois in range(1,13):\n",
    "    tempo = pd.Series(simulation.calculate('irpp_mensuel', '2009-{}'.format(mois)))\n",
    "    tempo.name = 'irpp_mois_{}'.format(mois)\n",
    "    df_ir_mois = df_ir_mois.append(tempo)\n",
    "\n",
    "df_ir_mois = df_ir_mois.append(irpp)\n",
    "df_ir_mois = df_ir_mois.append(irpp_mensuel)\n",
    "\n",
    "decote.name = \"decote\"\n",
    "df_ir_mois = df_ir_mois.append(decote)\n",
    "\n",
    "decote_m.name = \"decote_m\"\n",
    "df_ir_mois = df_ir_mois.append(decote_m)\n",
    "\n",
    "\n",
    "df_ir_mois.to_hdf('/Users/adrienpacifico/Desktop/to_trash.h5', 'df_ir_mois')\n",
    "\n",
    "\n",
    "mr = 17352\n"
   ]
  },
  {
   "cell_type": "code",
   "execution_count": null,
   "metadata": {
    "collapsed": true
   },
   "outputs": [],
   "source": []
  },
  {
   "cell_type": "code",
   "execution_count": null,
   "metadata": {
    "collapsed": true
   },
   "outputs": [],
   "source": []
  },
  {
   "cell_type": "markdown",
   "metadata": {},
   "source": [
    "# Controle"
   ]
  },
  {
   "cell_type": "markdown",
   "metadata": {},
   "source": []
  },
  {
   "cell_type": "code",
   "execution_count": null,
   "metadata": {
    "collapsed": false
   },
   "outputs": [],
   "source": [
    "variable = 'salcho_imp'\n",
    "df1 = survey_scenario.create_data_frame_by_entity_key_plural_with_monthly_basis_selector([variable, '{}'.format(variable)], ['{}_mensuel_times_12'.format(variable)])['individus']; \n",
    "#df1 = df1[df1['{}'.format(variable)] != df1['{}'.format(variable)]]\n",
    "df1[\"somme_annuelle\"] = (df1.sum(axis = 1) - df1.salcho_imp)/12\n",
    "df1 = df1[ np.abs(df1['{}'.format(\"somme_annuelle\")] - df1['{}'.format(variable)] >2)]\n",
    "df1.T"
   ]
  },
  {
   "cell_type": "code",
   "execution_count": null,
   "metadata": {
    "collapsed": false
   },
   "outputs": [],
   "source": [
    "df = pd.DataFrame({'annuel':survey_scenario.simulation.calculate('salcho_imp'),'mensuel':survey_scenario.simulation.calculate_add(\"salcho_imp_mensuel_times_12\")/12,\n",
    "                  'frais_reels': survey_scenario.simulation.calculate('frais_reels', \"2009\"),\n",
    "                  \n",
    "                  })\n",
    "df = df[np.abs(df.annuel - df.mensuel)>1]\n",
    "print df.shape\n",
    "df"
   ]
  },
  {
   "cell_type": "code",
   "execution_count": null,
   "metadata": {
    "collapsed": true
   },
   "outputs": [],
   "source": []
  }
 ],
 "metadata": {
  "kernelspec": {
   "display_name": "Python 2",
   "language": "python",
   "name": "python2"
  },
  "language_info": {
   "codemirror_mode": {
    "name": "ipython",
    "version": 2
   },
   "file_extension": ".py",
   "mimetype": "text/x-python",
   "name": "python",
   "nbconvert_exporter": "python",
   "pygments_lexer": "ipython2",
   "version": "2.7.10"
  },
  "toc": {
   "toc_cell": true,
   "toc_number_sections": true,
   "toc_threshold": 4,
   "toc_window_display": true
  },
  "toc_position": {
   "left": "2867.02px",
   "right": "20px",
   "top": "88px",
   "width": "300px"
  }
 },
 "nbformat": 4,
 "nbformat_minor": 0
}
