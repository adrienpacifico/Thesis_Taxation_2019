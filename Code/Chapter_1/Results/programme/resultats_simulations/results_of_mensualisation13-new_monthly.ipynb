{
 "cells": [
  {
   "cell_type": "markdown",
   "metadata": {},
   "source": [
    "### Git versioning"
   ]
  },
  {
   "cell_type": "code",
   "execution_count": 1,
   "metadata": {
    "collapsed": false
   },
   "outputs": [
    {
     "name": "stdout",
     "output_type": "stream",
     "text": [
      "---This notebook have been runed with--- \n",
      "Openfisca-france : f710f63abb52a3395a126bd96e0f3f4bfd83d1a6 \n",
      "\n",
      "Commit short SHA: f710\n",
      "Branch:  mensualisation_wip\n",
      "Date (y/m/d): 2016-07-26 13:55:47  \n",
      "\n",
      "Openfisca-core : 4076f591f4bcb571391b65a989e1603fdc4cb759  Date: 2016-02-24 16:11:57 \n",
      "Openfisca-france-data : a6b02e6909ee9c27169cd5cf73c51df9b1640ef9  Date: 2016-05-31 15:54:47 \n",
      "OpenFisca-Aggregates : fd210d8cfdf6ed68f173d9d5c3eab4a4302ed2b9  Date: 2016-04-04 11:35:03 \n",
      "OpenFisca-Survey-Manager : 868512d24307aa75cfa7bbbf8420542960963966  Date: 2016-04-04 11:35:03 \n"
     ]
    }
   ],
   "source": [
    "import git  #Requires Gitpython installed, to install do \"$ pip install Gitpython\" in your terminal\n",
    "import pkg_resources\n",
    "openfisca_france_location = pkg_resources.get_distribution('openfisca-france').location\n",
    "repo = git.Repo(openfisca_france_location)\n",
    "repo.git.status()\n",
    "\n",
    "sha = repo.head.object.hexsha\n",
    "\n",
    "print \"---This notebook have been runed with--- \\n\",\"Openfisca-france :\", repo.head.object.hexsha, '\\n' \n",
    "print \"Commit short SHA:\", repo.git.rev_parse(sha, short=4)\n",
    "print \"Branch: \", repo.git.rev_parse('--abbrev-ref', \"HEAD\") #equivalent to: $git rev-parse --abbrev-ref HEAD\n",
    "print \"Date (y/m/d):\", repo.git.show(\"-s\", '--format=%ci', 'HEAD^')[:-5],\"\\n\"  # equivalent to: $git show -s --format=%ci HEAD^\n",
    "\n",
    "print \"Openfisca-core :\", git.Repo(pkg_resources.get_distribution('openfisca-core').location).head.object.hexsha, ' Date:', git.Repo(pkg_resources.get_distribution('openfisca-core').location).git.show(\"-s\", '--format=%ci', 'HEAD^')[:-5]\n",
    "print \"Openfisca-france-data :\", git.Repo(pkg_resources.get_distribution('openfisca-france-data').location).head.object.hexsha, ' Date:', git.Repo(pkg_resources.get_distribution('openfisca-france-data').location).git.show(\"-s\", '--format=%ci', 'HEAD^')[:-5]\n",
    "print \"OpenFisca-Aggregates :\", git.Repo(pkg_resources.get_distribution('OpenFisca-Aggregates').location).head.object.hexsha, ' Date:', git.Repo(pkg_resources.get_distribution('OpenFisca-Aggregates').location).git.show(\"-s\", '--format=%ci', 'HEAD^')[:-5]\n",
    "print \"OpenFisca-Survey-Manager :\", git.Repo(pkg_resources.get_distribution('OpenFisca-Survey-Manager').location).head.object.hexsha, ' Date:', git.Repo(pkg_resources.get_distribution('OpenFisca-Aggregates').location).git.show(\"-s\", '--format=%ci', 'HEAD^')[:-5]"
   ]
  },
  {
   "cell_type": "markdown",
   "metadata": {},
   "source": [
    "### Imports"
   ]
  },
  {
   "cell_type": "code",
   "execution_count": 2,
   "metadata": {
    "collapsed": false
   },
   "outputs": [
    {
     "name": "stderr",
     "output_type": "stream",
     "text": [
      "/usr/local/lib/python2.7/site-packages/rpy2/rinterface/__init__.py:185: RRuntimeWarning: During startup - \n",
      "  warnings.warn(x, RRuntimeWarning)\n",
      "/usr/local/lib/python2.7/site-packages/rpy2/rinterface/__init__.py:185: RRuntimeWarning: Warning messages:\n",
      "\n",
      "  warnings.warn(x, RRuntimeWarning)\n",
      "/usr/local/lib/python2.7/site-packages/rpy2/rinterface/__init__.py:185: RRuntimeWarning: 1: Setting LC_COLLATE failed, using \"C\" \n",
      "\n",
      "  warnings.warn(x, RRuntimeWarning)\n",
      "/usr/local/lib/python2.7/site-packages/rpy2/rinterface/__init__.py:185: RRuntimeWarning: 2: Setting LC_TIME failed, using \"C\" \n",
      "\n",
      "  warnings.warn(x, RRuntimeWarning)\n",
      "/usr/local/lib/python2.7/site-packages/rpy2/rinterface/__init__.py:185: RRuntimeWarning: 3: Setting LC_MESSAGES failed, using \"C\" \n",
      "\n",
      "  warnings.warn(x, RRuntimeWarning)\n",
      "/usr/local/lib/python2.7/site-packages/rpy2/rinterface/__init__.py:185: RRuntimeWarning: 4: Setting LC_MONETARY failed, using \"C\" \n",
      "\n",
      "  warnings.warn(x, RRuntimeWarning)\n"
     ]
    }
   ],
   "source": [
    "%matplotlib inline\n",
    "from __future__ import division\n",
    "\n",
    "from openfisca_core import periods\n",
    "from openfisca_plugin_aggregates.tests.reform.test_aggregates_mensualized import create_survey_scenario\n",
    "import pandas as pd\n",
    "\n",
    "import matplotlib.pyplot as plt\n",
    "\n",
    "import numpy as np\n",
    "from numpy import (datetime64, logical_and as and_, logical_not as not_, logical_or as or_, logical_xor as xor_,\n",
    "maximum as max_, minimum as min_, round)\n",
    "\n",
    "\n",
    "#Faire des filtres pour Mahdi survey_scenario.create_data_frame_by_entity_key_plural\n",
    "\n",
    "pd.set_option('expand_frame_repr', False)  #utile quand on utilise pandas en mode console\n",
    "pd.set_option(\"display.max_rows\",201)\n",
    "pd.set_option(\"display.max_columns\",201)"
   ]
  },
  {
   "cell_type": "markdown",
   "metadata": {},
   "source": [
    "# Create Survey Scenario"
   ]
  },
  {
   "cell_type": "code",
   "execution_count": 3,
   "metadata": {
    "collapsed": false
   },
   "outputs": [],
   "source": [
    "period = periods.period(2009)"
   ]
  },
  {
   "cell_type": "code",
   "execution_count": 4,
   "metadata": {
    "collapsed": false
   },
   "outputs": [
    {
     "data": {
      "text/plain": [
       "Period((u'month', Instant((2009, 1, 1)), 1))"
      ]
     },
     "execution_count": 4,
     "metadata": {},
     "output_type": "execute_result"
    }
   ],
   "source": [
    "period.this_year.this_month"
   ]
  },
  {
   "cell_type": "code",
   "execution_count": 5,
   "metadata": {
    "collapsed": false
   },
   "outputs": [
    {
     "name": "stdout",
     "output_type": "stream",
     "text": [
      "(52189,) (42709,) (48195,) (80431,)\n"
     ]
    }
   ],
   "source": [
    "survey_scenario = create_survey_scenario(2009)\n",
    "survey_scenario.new_simulation()\n",
    "\n",
    "\n",
    "simulation = survey_scenario.simulation\n",
    "scenario = survey_scenario\n",
    "\n",
    "weight_foyers = survey_scenario.simulation.calculate_add('weight_foyers', period = period).astype(float)\n",
    "weight_menages = survey_scenario.simulation.calculate_add('wprm', period = period).astype(float)\n",
    "weight_familles = survey_scenario.simulation.calculate_add('weight_familles', period = period).astype(float)\n",
    "weight_individus = survey_scenario.simulation.calculate_add('weight_individus', period = period).astype(float)\n",
    "print weight_foyers.shape, weight_menages.shape, weight_familles.shape, weight_individus.shape"
   ]
  },
  {
   "cell_type": "code",
   "execution_count": 6,
   "metadata": {
    "collapsed": false
   },
   "outputs": [],
   "source": [
    "def sum_by_entity(var, entity_key, roles = None):\n",
    "    var_holder = simulation.compute_add(var)\n",
    "    entity = simulation.entity_by_key_singular[entity_key]\n",
    "    \n",
    "    entity_index_array = simulation.holder_by_name[entity.index_for_person_variable_name].array\n",
    "    \n",
    "    if roles is None:\n",
    "        roles = range(10)\n",
    "    \n",
    "    target_array = np.empty(entity.count)\n",
    "    target_array.fill(0)            \n",
    "    for role in roles:  #max cardinality of roles\n",
    "        boolean_filter = simulation.holder_by_name[entity.role_for_person_variable_name].array == role\n",
    "        target_array[entity_index_array[boolean_filter]] += var_holder.array[boolean_filter]\n",
    "    return target_array\n",
    "\n",
    "\n",
    "\n",
    "def sum_array_by_entity(array, entity_key, roles = None):\n",
    "    entity = simulation.entity_by_key_singular[entity_key]\n",
    "    entity_index_array = simulation.holder_by_name[entity.index_for_person_variable_name].array\n",
    "    if roles is None:\n",
    "        roles = range(10)\n",
    "    \n",
    "    target_array = np.empty(entity.count)\n",
    "    target_array.fill(0)            \n",
    "    for role in roles:  #max cardinality of roles\n",
    "        boolean_filter = simulation.holder_by_name[entity.role_for_person_variable_name].array == role\n",
    "        target_array[entity_index_array[boolean_filter]] += array[boolean_filter]\n",
    "    return target_array\n",
    "    \n",
    "\n",
    "def cast_from_entity_to_role( var , roles = None):\n",
    "    var_holder = simulation.compute_add(var)\n",
    "    entity = var_holder.entity\n",
    "    entity_index_array = simulation.holder_by_name[entity.index_for_person_variable_name].array\n",
    "    if roles is None:\n",
    "        roles = range(entity.roles_count)\n",
    "    target_array = np.empty(simulation.persons.count)\n",
    "    target_array.fill(0)\n",
    "    for role in roles:\n",
    "        boolean_filter = simulation.holder_by_name[entity.role_for_person_variable_name].array == role\n",
    "        target_array[boolean_filter] = simulation.compute_add(var).array[entity_index_array[boolean_filter]]\n",
    "    return target_array\n",
    "\n",
    "def cast_array_from_entity_to_role( array, entity_key, roles = None):\n",
    "    entity = simulation.entity_by_key_singular[entity_key]\n",
    "    entity_index_array = simulation.holder_by_name[entity.index_for_person_variable_name].array\n",
    "    if roles is None:\n",
    "        roles = range(entity.roles_count)\n",
    "    target_array = np.empty(simulation.persons.count)\n",
    "    target_array.fill(0)\n",
    "    for role in roles:\n",
    "        boolean_filter = simulation.holder_by_name[entity.role_for_person_variable_name].array == role\n",
    "        target_array[boolean_filter] = array[entity_index_array[boolean_filter]]\n",
    "    return target_array\n",
    "\n",
    "\n",
    "def switch_entity(var, target_entity  ,roles = [0]):\n",
    "    var_holder = simulation.compute_add(var)\n",
    "    entity = var_holder.entity\n",
    "    \n",
    "    target_array = cast_from_entity_to_role(var, roles = roles)\n",
    "    target_array = sum_array_by_entity(target_array, entity_key = target_entity )\n",
    "    return target_array\n",
    "\n",
    "def switch_array_entity(array,entity, target_entity  ,roles = [0]):\n",
    "    \n",
    "    entity = entity\n",
    "    \n",
    "    target_array = cast_array_from_entity_to_role(array, entity,roles = roles)\n",
    "    target_array = sum_array_by_entity(target_array, entity_key = target_entity )\n",
    "    return target_array\n"
   ]
  },
  {
   "cell_type": "code",
   "execution_count": 7,
   "metadata": {
    "collapsed": false
   },
   "outputs": [],
   "source": [
    "#pd.value_counts(switch_array_entity(revdisp_negatif, 'menage',\"foyer_fiscal\", roles = range(10)))"
   ]
  },
  {
   "cell_type": "code",
   "execution_count": 8,
   "metadata": {
    "collapsed": true
   },
   "outputs": [],
   "source": [
    "    def split_by_roles(var, entity = None, roles = None):\n",
    "        \"\"\"dispatch a persons array to several entity arrays (one for each role).\"\"\"\n",
    "        holder = simulation.compute(var)\n",
    "        default = holder.column.default\n",
    "        array = holder.array\n",
    "        entity = simulation.entity_by_key_singular[entity]\n",
    "        \n",
    "        entity_index_array = simulation.holder_by_name[entity.index_for_person_variable_name].array\n",
    "        if roles is None:\n",
    "            roles = range(max(entity.roles_count, 11))\n",
    "        target_array_by_role = {}\n",
    "        for role in roles:\n",
    "            target_array_by_role[role] = target_array = np.empty(entity.count, dtype = 'int64')\n",
    "            target_array.fill(default)\n",
    "            boolean_filter = simulation.holder_by_name[entity.role_for_person_variable_name].array == role\n",
    "            try:\n",
    "                target_array[entity_index_array[boolean_filter]] = array[boolean_filter]\n",
    "            except:\n",
    "                log.error(u'An error occurred while filtering array for role {}[{}] in function {}'.format(\n",
    "                    entity.key_singular, role, holder.column.name))\n",
    "                raise\n",
    "            target_array_by_role[role] = array[boolean_filter]\n",
    "        return target_array_by_role"
   ]
  },
  {
   "cell_type": "code",
   "execution_count": 9,
   "metadata": {
    "collapsed": true
   },
   "outputs": [],
   "source": [
    "    def split_by_roles(var, entity = None, roles = None):\n",
    "        \"\"\"dispatch a persons array to several entity arrays (one for each role).\"\"\"\n",
    "        holder = simulation.compute(var)\n",
    "        default = holder.column.default\n",
    "        array = holder.array\n",
    "        entity = simulation.entity_by_key_singular[entity]\n",
    "\n",
    "        assert not entity.is_persons_entity\n",
    "\n",
    "        entity_index_array = simulation.holder_by_name[entity.index_for_person_variable_name].array\n",
    "        if roles is None:\n",
    "            # To ensure that existing formulas don't fail, ensure there is always at least 11 roles.\n",
    "            # roles = range(entity.roles_count)\n",
    "            roles = range(max(entity.roles_count, 11))\n",
    "        target_array_by_role = {}\n",
    "        for role in roles:\n",
    "            target_array_by_role[role] = target_array = np.empty(entity.count, dtype = array.dtype)\n",
    "            target_array.fill(default)\n",
    "            boolean_filter = simulation.holder_by_name[entity.role_for_person_variable_name].array == role\n",
    "            try:\n",
    "                target_array[entity_index_array[boolean_filter]] = array[boolean_filter]\n",
    "            except:\n",
    "                log.error(u'An error occurred while filtering array for role {}[{}] in function {}'.format(\n",
    "                    entity.key_singular, role, holder.column.name))\n",
    "                raise\n",
    "        return target_array_by_role\n"
   ]
  },
  {
   "cell_type": "code",
   "execution_count": 10,
   "metadata": {
    "collapsed": false
   },
   "outputs": [
    {
     "data": {
      "text/plain": [
       "{0: array([950, 737, 348, ..., 799, 551, 281], dtype=int32),\n",
       " 1: array([  916, -9999, -9999, ..., -9999,   539,   270], dtype=int32),\n",
       " 2: array([-9999, -9999, -9999, ..., -9999,   222, -9999], dtype=int32),\n",
       " 3: array([-9999, -9999, -9999, ..., -9999, -9999, -9999], dtype=int32),\n",
       " 4: array([-9999, -9999, -9999, ..., -9999, -9999, -9999], dtype=int32),\n",
       " 5: array([-9999, -9999, -9999, ..., -9999, -9999, -9999], dtype=int32),\n",
       " 6: array([-9999, -9999, -9999, ..., -9999, -9999, -9999], dtype=int32),\n",
       " 7: array([-9999, -9999, -9999, ..., -9999, -9999, -9999], dtype=int32),\n",
       " 8: array([-9999, -9999, -9999, ..., -9999, -9999, -9999], dtype=int32),\n",
       " 9: array([-9999, -9999, -9999, ..., -9999, -9999, -9999], dtype=int32),\n",
       " 10: array([-9999, -9999, -9999, ..., -9999, -9999, -9999], dtype=int32)}"
      ]
     },
     "execution_count": 10,
     "metadata": {},
     "output_type": "execute_result"
    }
   ],
   "source": [
    "split_by_roles('age_en_mois', 'famille')"
   ]
  },
  {
   "cell_type": "code",
   "execution_count": 11,
   "metadata": {
    "collapsed": false
   },
   "outputs": [],
   "source": [
    "    def uc(entity):\n",
    "        '''\n",
    "        Calcule le nombre d'unités de consommation du ménage avec l'échelle de l'insee\n",
    "        'men'\n",
    "        '''\n",
    "\n",
    "\n",
    "        age_en_mois = split_by_roles(\"age_en_mois\", entity)\n",
    "\n",
    "        uc_adt = 0.5\n",
    "        uc_enf = 0.3\n",
    "        uc = 0.5\n",
    "        for agm in age_en_mois.itervalues():\n",
    "            age = np.floor(agm / 12)\n",
    "            adt = (15 <= age) & (age <= 150)\n",
    "            enf = (0 <= age) & (age <= 14)\n",
    "            uc += adt * uc_adt + enf * uc_enf\n",
    "        return uc\n"
   ]
  },
  {
   "cell_type": "code",
   "execution_count": 12,
   "metadata": {
    "collapsed": false
   },
   "outputs": [],
   "source": [
    "uc_famille =  uc('famille')\n",
    "uc_menage = uc('menage')"
   ]
  },
  {
   "cell_type": "code",
   "execution_count": 13,
   "metadata": {
    "collapsed": false
   },
   "outputs": [
    {
     "data": {
      "text/plain": [
       "(48195,)"
      ]
     },
     "execution_count": 13,
     "metadata": {},
     "output_type": "execute_result"
    }
   ],
   "source": [
    "uc_famille.shape"
   ]
  },
  {
   "cell_type": "code",
   "execution_count": 14,
   "metadata": {
    "collapsed": false
   },
   "outputs": [
    {
     "data": {
      "text/plain": [
       "(48195,)"
      ]
     },
     "execution_count": 14,
     "metadata": {},
     "output_type": "execute_result"
    }
   ],
   "source": [
    "weight_familles.shape"
   ]
  },
  {
   "cell_type": "code",
   "execution_count": 15,
   "metadata": {
    "collapsed": false
   },
   "outputs": [
    {
     "name": "stdout",
     "output_type": "stream",
     "text": [
      "-45927376087.3\n",
      "-45916198083.0\n",
      "-48787541864.1\n"
     ]
    }
   ],
   "source": [
    "print pd.Series(survey_scenario.simulation.calculate('irpp')* weight_foyers).sum()\n",
    "print survey_scenario.compute_aggregate('irpp')\n",
    "\n",
    "print survey_scenario.compute_aggregate('irpp_mensuel')"
   ]
  },
  {
   "cell_type": "code",
   "execution_count": 16,
   "metadata": {
    "collapsed": false
   },
   "outputs": [
    {
     "name": "stderr",
     "output_type": "stream",
     "text": [
      "ERROR:openfisca_core.formulas:An error occurred while calling formula rsa@familles<2009-01> in module openfisca_france.reforms.mensualisation.mensualisation_ir_8\n",
      "ERROR:openfisca_core.formulas:An error occurred while calling formula mini_mensuel@familles<2009-01> in module openfisca_france.reforms.mensualisation.mensualisation_ir_8\n",
      "ERROR:openfisca_core.formulas:An error occurred while calling formula psoc_mensuel@familles<2009-01> in module openfisca_france.reforms.mensualisation.mensualisation_ir_8\n",
      "ERROR:openfisca_core.formulas:An error occurred while calling formula revdisp_mensuel_annuel@menages<2009> in module openfisca_france.reforms.mensualisation.mensualisation_ir_8\n"
     ]
    },
    {
     "name": "stdout",
     "output_type": "stream",
     "text": [
      "période 2009-01\n"
     ]
    },
    {
     "ename": "NameError",
     "evalue": "global name 'boum' is not defined",
     "output_type": "error",
     "traceback": [
      "\u001b[0;31m---------------------------------------------------------------------------\u001b[0m",
      "\u001b[0;31mNameError\u001b[0m                                 Traceback (most recent call last)",
      "\u001b[0;32m<ipython-input-16-74b392822a76>\u001b[0m in \u001b[0;36m<module>\u001b[0;34m()\u001b[0m\n\u001b[0;32m----> 1\u001b[0;31m \u001b[0mrev_disp_uc\u001b[0m \u001b[0;34m=\u001b[0m \u001b[0msimulation\u001b[0m\u001b[0;34m.\u001b[0m\u001b[0mcalculate_add\u001b[0m\u001b[0;34m(\u001b[0m\u001b[0;34m'revdisp_mensuel_annuel'\u001b[0m\u001b[0;34m)\u001b[0m\u001b[0;34m/\u001b[0m\u001b[0muc_menage\u001b[0m\u001b[0;34m\u001b[0m\u001b[0m\n\u001b[0m",
      "\u001b[0;32m/Users/adrienpacifico/openfisca/openfisca-core/openfisca_core/simulations.pyc\u001b[0m in \u001b[0;36mcalculate_add\u001b[0;34m(self, column_name, period, **parameters)\u001b[0m\n\u001b[1;32m     79\u001b[0m         \u001b[0;32mif\u001b[0m \u001b[0mperiod\u001b[0m \u001b[0;32mis\u001b[0m \u001b[0mNone\u001b[0m\u001b[0;34m:\u001b[0m\u001b[0;34m\u001b[0m\u001b[0m\n\u001b[1;32m     80\u001b[0m             \u001b[0mperiod\u001b[0m \u001b[0;34m=\u001b[0m \u001b[0mself\u001b[0m\u001b[0;34m.\u001b[0m\u001b[0mperiod\u001b[0m\u001b[0;34m\u001b[0m\u001b[0m\n\u001b[0;32m---> 81\u001b[0;31m         \u001b[0;32mreturn\u001b[0m \u001b[0mself\u001b[0m\u001b[0;34m.\u001b[0m\u001b[0mcompute_add\u001b[0m\u001b[0;34m(\u001b[0m\u001b[0mcolumn_name\u001b[0m\u001b[0;34m,\u001b[0m \u001b[0mperiod\u001b[0m \u001b[0;34m=\u001b[0m \u001b[0mperiod\u001b[0m\u001b[0;34m,\u001b[0m \u001b[0;34m**\u001b[0m\u001b[0mparameters\u001b[0m\u001b[0;34m)\u001b[0m\u001b[0;34m.\u001b[0m\u001b[0marray\u001b[0m\u001b[0;34m\u001b[0m\u001b[0m\n\u001b[0m\u001b[1;32m     82\u001b[0m \u001b[0;34m\u001b[0m\u001b[0m\n\u001b[1;32m     83\u001b[0m     \u001b[0;32mdef\u001b[0m \u001b[0mcalculate_add_divide\u001b[0m\u001b[0;34m(\u001b[0m\u001b[0mself\u001b[0m\u001b[0;34m,\u001b[0m \u001b[0mcolumn_name\u001b[0m\u001b[0;34m,\u001b[0m \u001b[0mperiod\u001b[0m \u001b[0;34m=\u001b[0m \u001b[0mNone\u001b[0m\u001b[0;34m,\u001b[0m \u001b[0;34m**\u001b[0m\u001b[0mparameters\u001b[0m\u001b[0;34m)\u001b[0m\u001b[0;34m:\u001b[0m\u001b[0;34m\u001b[0m\u001b[0m\n",
      "\u001b[0;32m/Users/adrienpacifico/openfisca/openfisca-core/openfisca_core/simulations.pyc\u001b[0m in \u001b[0;36mcompute_add\u001b[0;34m(self, column_name, period, **parameters)\u001b[0m\n\u001b[1;32m    183\u001b[0m                 \u001b[0mcaller_input_variables_infos\u001b[0m\u001b[0;34m.\u001b[0m\u001b[0mappend\u001b[0m\u001b[0;34m(\u001b[0m\u001b[0mvariable_infos\u001b[0m\u001b[0;34m)\u001b[0m\u001b[0;34m\u001b[0m\u001b[0m\n\u001b[1;32m    184\u001b[0m         \u001b[0mholder\u001b[0m \u001b[0;34m=\u001b[0m \u001b[0mself\u001b[0m\u001b[0;34m.\u001b[0m\u001b[0mget_or_new_holder\u001b[0m\u001b[0;34m(\u001b[0m\u001b[0mcolumn_name\u001b[0m\u001b[0;34m)\u001b[0m\u001b[0;34m\u001b[0m\u001b[0m\n\u001b[0;32m--> 185\u001b[0;31m         \u001b[0;32mreturn\u001b[0m \u001b[0mholder\u001b[0m\u001b[0;34m.\u001b[0m\u001b[0mcompute_add\u001b[0m\u001b[0;34m(\u001b[0m\u001b[0mperiod\u001b[0m \u001b[0;34m=\u001b[0m \u001b[0mperiod\u001b[0m\u001b[0;34m,\u001b[0m \u001b[0;34m**\u001b[0m\u001b[0mparameters\u001b[0m\u001b[0;34m)\u001b[0m\u001b[0;34m\u001b[0m\u001b[0m\n\u001b[0m\u001b[1;32m    186\u001b[0m \u001b[0;34m\u001b[0m\u001b[0m\n\u001b[1;32m    187\u001b[0m     \u001b[0;32mdef\u001b[0m \u001b[0mcompute_add_divide\u001b[0m\u001b[0;34m(\u001b[0m\u001b[0mself\u001b[0m\u001b[0;34m,\u001b[0m \u001b[0mcolumn_name\u001b[0m\u001b[0;34m,\u001b[0m \u001b[0mperiod\u001b[0m \u001b[0;34m=\u001b[0m \u001b[0mNone\u001b[0m\u001b[0;34m,\u001b[0m \u001b[0;34m**\u001b[0m\u001b[0mparameters\u001b[0m\u001b[0;34m)\u001b[0m\u001b[0;34m:\u001b[0m\u001b[0;34m\u001b[0m\u001b[0m\n",
      "\u001b[0;32m/Users/adrienpacifico/openfisca/openfisca-core/openfisca_core/holders.pyc\u001b[0m in \u001b[0;36mcompute_add\u001b[0;34m(self, period, **parameters)\u001b[0m\n\u001b[1;32m    157\u001b[0m         \u001b[0mparameters\u001b[0m\u001b[0;34m[\u001b[0m\u001b[0;34m'accept_other_period'\u001b[0m\u001b[0;34m]\u001b[0m \u001b[0;34m=\u001b[0m \u001b[0mTrue\u001b[0m \u001b[0;31m# We expect the compute calls to return a period different than the requested one.\u001b[0m\u001b[0;34m\u001b[0m\u001b[0m\n\u001b[1;32m    158\u001b[0m         \u001b[0;32mwhile\u001b[0m \u001b[0mTrue\u001b[0m\u001b[0;34m:\u001b[0m\u001b[0;34m\u001b[0m\u001b[0m\n\u001b[0;32m--> 159\u001b[0;31m             \u001b[0mdated_holder\u001b[0m \u001b[0;34m=\u001b[0m \u001b[0mself\u001b[0m\u001b[0;34m.\u001b[0m\u001b[0mcompute\u001b[0m\u001b[0;34m(\u001b[0m\u001b[0mperiod\u001b[0m \u001b[0;34m=\u001b[0m \u001b[0mrequested_period\u001b[0m\u001b[0;34m,\u001b[0m \u001b[0;34m**\u001b[0m\u001b[0mparameters\u001b[0m\u001b[0;34m)\u001b[0m\u001b[0;34m\u001b[0m\u001b[0m\n\u001b[0m\u001b[1;32m    160\u001b[0m             \u001b[0mrequested_start\u001b[0m \u001b[0;34m=\u001b[0m \u001b[0mrequested_period\u001b[0m\u001b[0;34m.\u001b[0m\u001b[0mstart\u001b[0m\u001b[0;34m\u001b[0m\u001b[0m\n\u001b[1;32m    161\u001b[0m             \u001b[0mreturned_period\u001b[0m \u001b[0;34m=\u001b[0m \u001b[0mdated_holder\u001b[0m\u001b[0;34m.\u001b[0m\u001b[0mperiod\u001b[0m\u001b[0;34m\u001b[0m\u001b[0m\n",
      "\u001b[0;32m/Users/adrienpacifico/openfisca/openfisca-core/openfisca_core/holders.pyc\u001b[0m in \u001b[0;36mcompute\u001b[0;34m(self, period, **parameters)\u001b[0m\n\u001b[1;32m    131\u001b[0m         \u001b[0;32mif\u001b[0m \u001b[0;34m(\u001b[0m\u001b[0mcolumn_start_instant\u001b[0m \u001b[0;32mis\u001b[0m \u001b[0mNone\u001b[0m \u001b[0;32mor\u001b[0m \u001b[0mcolumn_start_instant\u001b[0m \u001b[0;34m<=\u001b[0m \u001b[0mperiod\u001b[0m\u001b[0;34m.\u001b[0m\u001b[0mstart\u001b[0m\u001b[0;34m)\u001b[0m\u001b[0;31m \u001b[0m\u001b[0;31m\\\u001b[0m\u001b[0;34m\u001b[0m\u001b[0m\n\u001b[1;32m    132\u001b[0m                 \u001b[0;32mand\u001b[0m \u001b[0;34m(\u001b[0m\u001b[0mcolumn_stop_instant\u001b[0m \u001b[0;32mis\u001b[0m \u001b[0mNone\u001b[0m \u001b[0;32mor\u001b[0m \u001b[0mperiod\u001b[0m\u001b[0;34m.\u001b[0m\u001b[0mstart\u001b[0m \u001b[0;34m<=\u001b[0m \u001b[0mcolumn_stop_instant\u001b[0m\u001b[0;34m)\u001b[0m\u001b[0;34m:\u001b[0m\u001b[0;34m\u001b[0m\u001b[0m\n\u001b[0;32m--> 133\u001b[0;31m             \u001b[0mformula_dated_holder\u001b[0m \u001b[0;34m=\u001b[0m \u001b[0mself\u001b[0m\u001b[0;34m.\u001b[0m\u001b[0mformula\u001b[0m\u001b[0;34m.\u001b[0m\u001b[0mcompute\u001b[0m\u001b[0;34m(\u001b[0m\u001b[0mperiod\u001b[0m \u001b[0;34m=\u001b[0m \u001b[0mperiod\u001b[0m\u001b[0;34m,\u001b[0m \u001b[0;34m**\u001b[0m\u001b[0mparameters\u001b[0m\u001b[0;34m)\u001b[0m\u001b[0;34m\u001b[0m\u001b[0m\n\u001b[0m\u001b[1;32m    134\u001b[0m             \u001b[0;32massert\u001b[0m \u001b[0mformula_dated_holder\u001b[0m \u001b[0;32mis\u001b[0m \u001b[0;32mnot\u001b[0m \u001b[0mNone\u001b[0m\u001b[0;34m\u001b[0m\u001b[0m\n\u001b[1;32m    135\u001b[0m             \u001b[0;32mif\u001b[0m \u001b[0;32mnot\u001b[0m \u001b[0mcolumn\u001b[0m\u001b[0;34m.\u001b[0m\u001b[0mis_permanent\u001b[0m\u001b[0;34m:\u001b[0m\u001b[0;34m\u001b[0m\u001b[0m\n",
      "\u001b[0;32m/Users/adrienpacifico/openfisca/openfisca-core/openfisca_core/formulas.pyc\u001b[0m in \u001b[0;36mcompute\u001b[0;34m(self, period, **parameters)\u001b[0m\n\u001b[1;32m    547\u001b[0m                 \u001b[0mformula_result\u001b[0m \u001b[0;34m=\u001b[0m \u001b[0mself\u001b[0m\u001b[0;34m.\u001b[0m\u001b[0mbase_function\u001b[0m\u001b[0;34m(\u001b[0m\u001b[0msimulation\u001b[0m\u001b[0;34m,\u001b[0m \u001b[0mperiod\u001b[0m\u001b[0;34m,\u001b[0m \u001b[0;34m*\u001b[0m\u001b[0mextra_params\u001b[0m\u001b[0;34m)\u001b[0m\u001b[0;34m\u001b[0m\u001b[0m\n\u001b[1;32m    548\u001b[0m             \u001b[0;32melse\u001b[0m\u001b[0;34m:\u001b[0m\u001b[0;34m\u001b[0m\u001b[0m\n\u001b[0;32m--> 549\u001b[0;31m                 \u001b[0mformula_result\u001b[0m \u001b[0;34m=\u001b[0m \u001b[0mself\u001b[0m\u001b[0;34m.\u001b[0m\u001b[0mbase_function\u001b[0m\u001b[0;34m(\u001b[0m\u001b[0msimulation\u001b[0m\u001b[0;34m,\u001b[0m \u001b[0mperiod\u001b[0m\u001b[0;34m)\u001b[0m\u001b[0;34m\u001b[0m\u001b[0m\n\u001b[0m\u001b[1;32m    550\u001b[0m         \u001b[0;32mexcept\u001b[0m \u001b[0mCycleError\u001b[0m\u001b[0;34m:\u001b[0m\u001b[0;34m\u001b[0m\u001b[0m\n\u001b[1;32m    551\u001b[0m             \u001b[0mself\u001b[0m\u001b[0;34m.\u001b[0m\u001b[0mclean_cycle_detection_data\u001b[0m\u001b[0;34m(\u001b[0m\u001b[0;34m)\u001b[0m\u001b[0;34m\u001b[0m\u001b[0m\n",
      "\u001b[0;32m/Users/adrienpacifico/openfisca/openfisca-core/openfisca_core/base_functions.pyc\u001b[0m in \u001b[0;36mrequested_period_default_value\u001b[0;34m(formula, simulation, period, *extra_params)\u001b[0m\n\u001b[1;32m     52\u001b[0m \u001b[0;32mdef\u001b[0m \u001b[0mrequested_period_default_value\u001b[0m\u001b[0;34m(\u001b[0m\u001b[0mformula\u001b[0m\u001b[0;34m,\u001b[0m \u001b[0msimulation\u001b[0m\u001b[0;34m,\u001b[0m \u001b[0mperiod\u001b[0m\u001b[0;34m,\u001b[0m \u001b[0;34m*\u001b[0m\u001b[0mextra_params\u001b[0m\u001b[0;34m)\u001b[0m\u001b[0;34m:\u001b[0m\u001b[0;34m\u001b[0m\u001b[0m\n\u001b[1;32m     53\u001b[0m     \u001b[0;32mif\u001b[0m \u001b[0mformula\u001b[0m\u001b[0;34m.\u001b[0m\u001b[0mfunction\u001b[0m \u001b[0;32mis\u001b[0m \u001b[0;32mnot\u001b[0m \u001b[0mNone\u001b[0m\u001b[0;34m:\u001b[0m\u001b[0;34m\u001b[0m\u001b[0m\n\u001b[0;32m---> 54\u001b[0;31m         \u001b[0;32mreturn\u001b[0m \u001b[0mformula\u001b[0m\u001b[0;34m.\u001b[0m\u001b[0mfunction\u001b[0m\u001b[0;34m(\u001b[0m\u001b[0msimulation\u001b[0m\u001b[0;34m,\u001b[0m \u001b[0mperiod\u001b[0m\u001b[0;34m,\u001b[0m \u001b[0;34m*\u001b[0m\u001b[0mextra_params\u001b[0m\u001b[0;34m)\u001b[0m\u001b[0;34m\u001b[0m\u001b[0m\n\u001b[0m\u001b[1;32m     55\u001b[0m     \u001b[0mholder\u001b[0m \u001b[0;34m=\u001b[0m \u001b[0mformula\u001b[0m\u001b[0;34m.\u001b[0m\u001b[0mholder\u001b[0m\u001b[0;34m\u001b[0m\u001b[0m\n\u001b[1;32m     56\u001b[0m     \u001b[0mcolumn\u001b[0m \u001b[0;34m=\u001b[0m \u001b[0mholder\u001b[0m\u001b[0;34m.\u001b[0m\u001b[0mcolumn\u001b[0m\u001b[0;34m\u001b[0m\u001b[0m\n",
      "\u001b[0;32m/Users/adrienpacifico/openfisca/openfisca-france/openfisca_france/reforms/mensualisation/mensualisation_ir_8.pyc\u001b[0m in \u001b[0;36mfunction\u001b[0;34m(self, simulation, period)\u001b[0m\n\u001b[1;32m    965\u001b[0m             \u001b[0mpen_holder\u001b[0m \u001b[0;34m=\u001b[0m \u001b[0msimulation\u001b[0m\u001b[0;34m.\u001b[0m\u001b[0mcompute\u001b[0m\u001b[0;34m(\u001b[0m\u001b[0;34m'pen_mensuel'\u001b[0m\u001b[0;34m,\u001b[0m \u001b[0mperiod\u001b[0m\u001b[0;34m)\u001b[0m\u001b[0;34m\u001b[0m\u001b[0m\n\u001b[1;32m    966\u001b[0m             \u001b[0mrev_cap_holder\u001b[0m \u001b[0;34m=\u001b[0m \u001b[0msimulation\u001b[0m\u001b[0;34m.\u001b[0m\u001b[0mcompute\u001b[0m\u001b[0;34m(\u001b[0m\u001b[0;34m'rev_cap'\u001b[0m\u001b[0;34m,\u001b[0m \u001b[0mperiod\u001b[0m\u001b[0;34m.\u001b[0m\u001b[0mthis_year\u001b[0m\u001b[0;34m)\u001b[0m\u001b[0;34m\u001b[0m\u001b[0m\n\u001b[0;32m--> 967\u001b[0;31m             \u001b[0mpsoc_holder\u001b[0m \u001b[0;34m=\u001b[0m \u001b[0msimulation\u001b[0m\u001b[0;34m.\u001b[0m\u001b[0mcompute_add_divide\u001b[0m\u001b[0;34m(\u001b[0m\u001b[0;34m'psoc_mensuel'\u001b[0m\u001b[0;34m,\u001b[0m \u001b[0mperiod\u001b[0m\u001b[0;34m)\u001b[0m\u001b[0;34m\u001b[0m\u001b[0m\n\u001b[0m\u001b[1;32m    968\u001b[0m             \u001b[0mppe_holder\u001b[0m \u001b[0;34m=\u001b[0m \u001b[0msimulation\u001b[0m\u001b[0;34m.\u001b[0m\u001b[0mcompute_add_divide\u001b[0m\u001b[0;34m(\u001b[0m\u001b[0;34m'ppe'\u001b[0m\u001b[0;34m,\u001b[0m \u001b[0mperiod\u001b[0m\u001b[0;34m)\u001b[0m\u001b[0;34m\u001b[0m\u001b[0m\n\u001b[1;32m    969\u001b[0m             \u001b[0mimpo\u001b[0m \u001b[0;34m=\u001b[0m \u001b[0msimulation\u001b[0m\u001b[0;34m.\u001b[0m\u001b[0mcalculate_add\u001b[0m\u001b[0;34m(\u001b[0m\u001b[0;34m'impo'\u001b[0m\u001b[0;34m,\u001b[0m \u001b[0mperiod\u001b[0m\u001b[0;34m.\u001b[0m\u001b[0mthis_year\u001b[0m\u001b[0;34m)\u001b[0m\u001b[0;34m/\u001b[0m\u001b[0;36m12\u001b[0m\u001b[0;34m\u001b[0m\u001b[0m\n",
      "\u001b[0;32m/Users/adrienpacifico/openfisca/openfisca-core/openfisca_core/simulations.pyc\u001b[0m in \u001b[0;36mcompute_add_divide\u001b[0;34m(self, column_name, period, **parameters)\u001b[0m\n\u001b[1;32m    197\u001b[0m                 \u001b[0mcaller_input_variables_infos\u001b[0m\u001b[0;34m.\u001b[0m\u001b[0mappend\u001b[0m\u001b[0;34m(\u001b[0m\u001b[0mvariable_infos\u001b[0m\u001b[0;34m)\u001b[0m\u001b[0;34m\u001b[0m\u001b[0m\n\u001b[1;32m    198\u001b[0m         \u001b[0mholder\u001b[0m \u001b[0;34m=\u001b[0m \u001b[0mself\u001b[0m\u001b[0;34m.\u001b[0m\u001b[0mget_or_new_holder\u001b[0m\u001b[0;34m(\u001b[0m\u001b[0mcolumn_name\u001b[0m\u001b[0;34m)\u001b[0m\u001b[0;34m\u001b[0m\u001b[0m\n\u001b[0;32m--> 199\u001b[0;31m         \u001b[0;32mreturn\u001b[0m \u001b[0mholder\u001b[0m\u001b[0;34m.\u001b[0m\u001b[0mcompute_add_divide\u001b[0m\u001b[0;34m(\u001b[0m\u001b[0mperiod\u001b[0m \u001b[0;34m=\u001b[0m \u001b[0mperiod\u001b[0m\u001b[0;34m,\u001b[0m \u001b[0;34m**\u001b[0m\u001b[0mparameters\u001b[0m\u001b[0;34m)\u001b[0m\u001b[0;34m\u001b[0m\u001b[0m\n\u001b[0m\u001b[1;32m    200\u001b[0m \u001b[0;34m\u001b[0m\u001b[0m\n\u001b[1;32m    201\u001b[0m     \u001b[0;32mdef\u001b[0m \u001b[0mcompute_divide\u001b[0m\u001b[0;34m(\u001b[0m\u001b[0mself\u001b[0m\u001b[0;34m,\u001b[0m \u001b[0mcolumn_name\u001b[0m\u001b[0;34m,\u001b[0m \u001b[0mperiod\u001b[0m \u001b[0;34m=\u001b[0m \u001b[0mNone\u001b[0m\u001b[0;34m,\u001b[0m \u001b[0;34m**\u001b[0m\u001b[0mparameters\u001b[0m\u001b[0;34m)\u001b[0m\u001b[0;34m:\u001b[0m\u001b[0;34m\u001b[0m\u001b[0m\n",
      "\u001b[0;32m/Users/adrienpacifico/openfisca/openfisca-core/openfisca_core/holders.pyc\u001b[0m in \u001b[0;36mcompute_add_divide\u001b[0;34m(self, period, **parameters)\u001b[0m\n\u001b[1;32m    208\u001b[0m         \u001b[0mparameters\u001b[0m\u001b[0;34m[\u001b[0m\u001b[0;34m'accept_other_period'\u001b[0m\u001b[0;34m]\u001b[0m \u001b[0;34m=\u001b[0m \u001b[0mTrue\u001b[0m \u001b[0;31m# We expect the compute calls to return a period different than the requested one.\u001b[0m\u001b[0;34m\u001b[0m\u001b[0m\n\u001b[1;32m    209\u001b[0m         \u001b[0;32mwhile\u001b[0m \u001b[0mTrue\u001b[0m\u001b[0;34m:\u001b[0m\u001b[0;34m\u001b[0m\u001b[0m\n\u001b[0;32m--> 210\u001b[0;31m             \u001b[0mdated_holder\u001b[0m \u001b[0;34m=\u001b[0m \u001b[0mself\u001b[0m\u001b[0;34m.\u001b[0m\u001b[0mcompute\u001b[0m\u001b[0;34m(\u001b[0m\u001b[0mperiod\u001b[0m \u001b[0;34m=\u001b[0m \u001b[0mrequested_period\u001b[0m\u001b[0;34m,\u001b[0m \u001b[0;34m**\u001b[0m\u001b[0mparameters\u001b[0m\u001b[0;34m)\u001b[0m\u001b[0;34m\u001b[0m\u001b[0m\n\u001b[0m\u001b[1;32m    211\u001b[0m             \u001b[0mrequested_start\u001b[0m \u001b[0;34m=\u001b[0m \u001b[0mrequested_period\u001b[0m\u001b[0;34m.\u001b[0m\u001b[0mstart\u001b[0m\u001b[0;34m\u001b[0m\u001b[0m\n\u001b[1;32m    212\u001b[0m             \u001b[0mreturned_period\u001b[0m \u001b[0;34m=\u001b[0m \u001b[0mdated_holder\u001b[0m\u001b[0;34m.\u001b[0m\u001b[0mperiod\u001b[0m\u001b[0;34m\u001b[0m\u001b[0m\n",
      "\u001b[0;32m/Users/adrienpacifico/openfisca/openfisca-core/openfisca_core/holders.pyc\u001b[0m in \u001b[0;36mcompute\u001b[0;34m(self, period, **parameters)\u001b[0m\n\u001b[1;32m    131\u001b[0m         \u001b[0;32mif\u001b[0m \u001b[0;34m(\u001b[0m\u001b[0mcolumn_start_instant\u001b[0m \u001b[0;32mis\u001b[0m \u001b[0mNone\u001b[0m \u001b[0;32mor\u001b[0m \u001b[0mcolumn_start_instant\u001b[0m \u001b[0;34m<=\u001b[0m \u001b[0mperiod\u001b[0m\u001b[0;34m.\u001b[0m\u001b[0mstart\u001b[0m\u001b[0;34m)\u001b[0m\u001b[0;31m \u001b[0m\u001b[0;31m\\\u001b[0m\u001b[0;34m\u001b[0m\u001b[0m\n\u001b[1;32m    132\u001b[0m                 \u001b[0;32mand\u001b[0m \u001b[0;34m(\u001b[0m\u001b[0mcolumn_stop_instant\u001b[0m \u001b[0;32mis\u001b[0m \u001b[0mNone\u001b[0m \u001b[0;32mor\u001b[0m \u001b[0mperiod\u001b[0m\u001b[0;34m.\u001b[0m\u001b[0mstart\u001b[0m \u001b[0;34m<=\u001b[0m \u001b[0mcolumn_stop_instant\u001b[0m\u001b[0;34m)\u001b[0m\u001b[0;34m:\u001b[0m\u001b[0;34m\u001b[0m\u001b[0m\n\u001b[0;32m--> 133\u001b[0;31m             \u001b[0mformula_dated_holder\u001b[0m \u001b[0;34m=\u001b[0m \u001b[0mself\u001b[0m\u001b[0;34m.\u001b[0m\u001b[0mformula\u001b[0m\u001b[0;34m.\u001b[0m\u001b[0mcompute\u001b[0m\u001b[0;34m(\u001b[0m\u001b[0mperiod\u001b[0m \u001b[0;34m=\u001b[0m \u001b[0mperiod\u001b[0m\u001b[0;34m,\u001b[0m \u001b[0;34m**\u001b[0m\u001b[0mparameters\u001b[0m\u001b[0;34m)\u001b[0m\u001b[0;34m\u001b[0m\u001b[0m\n\u001b[0m\u001b[1;32m    134\u001b[0m             \u001b[0;32massert\u001b[0m \u001b[0mformula_dated_holder\u001b[0m \u001b[0;32mis\u001b[0m \u001b[0;32mnot\u001b[0m \u001b[0mNone\u001b[0m\u001b[0;34m\u001b[0m\u001b[0m\n\u001b[1;32m    135\u001b[0m             \u001b[0;32mif\u001b[0m \u001b[0;32mnot\u001b[0m \u001b[0mcolumn\u001b[0m\u001b[0;34m.\u001b[0m\u001b[0mis_permanent\u001b[0m\u001b[0;34m:\u001b[0m\u001b[0;34m\u001b[0m\u001b[0m\n",
      "\u001b[0;32m/Users/adrienpacifico/openfisca/openfisca-core/openfisca_core/formulas.pyc\u001b[0m in \u001b[0;36mcompute\u001b[0;34m(self, period, **parameters)\u001b[0m\n\u001b[1;32m    547\u001b[0m                 \u001b[0mformula_result\u001b[0m \u001b[0;34m=\u001b[0m \u001b[0mself\u001b[0m\u001b[0;34m.\u001b[0m\u001b[0mbase_function\u001b[0m\u001b[0;34m(\u001b[0m\u001b[0msimulation\u001b[0m\u001b[0;34m,\u001b[0m \u001b[0mperiod\u001b[0m\u001b[0;34m,\u001b[0m \u001b[0;34m*\u001b[0m\u001b[0mextra_params\u001b[0m\u001b[0;34m)\u001b[0m\u001b[0;34m\u001b[0m\u001b[0m\n\u001b[1;32m    548\u001b[0m             \u001b[0;32melse\u001b[0m\u001b[0;34m:\u001b[0m\u001b[0;34m\u001b[0m\u001b[0m\n\u001b[0;32m--> 549\u001b[0;31m                 \u001b[0mformula_result\u001b[0m \u001b[0;34m=\u001b[0m \u001b[0mself\u001b[0m\u001b[0;34m.\u001b[0m\u001b[0mbase_function\u001b[0m\u001b[0;34m(\u001b[0m\u001b[0msimulation\u001b[0m\u001b[0;34m,\u001b[0m \u001b[0mperiod\u001b[0m\u001b[0;34m)\u001b[0m\u001b[0;34m\u001b[0m\u001b[0m\n\u001b[0m\u001b[1;32m    550\u001b[0m         \u001b[0;32mexcept\u001b[0m \u001b[0mCycleError\u001b[0m\u001b[0;34m:\u001b[0m\u001b[0;34m\u001b[0m\u001b[0m\n\u001b[1;32m    551\u001b[0m             \u001b[0mself\u001b[0m\u001b[0;34m.\u001b[0m\u001b[0mclean_cycle_detection_data\u001b[0m\u001b[0;34m(\u001b[0m\u001b[0;34m)\u001b[0m\u001b[0;34m\u001b[0m\u001b[0m\n",
      "\u001b[0;32m/Users/adrienpacifico/openfisca/openfisca-core/openfisca_core/base_functions.pyc\u001b[0m in \u001b[0;36mrequested_period_default_value\u001b[0;34m(formula, simulation, period, *extra_params)\u001b[0m\n\u001b[1;32m     52\u001b[0m \u001b[0;32mdef\u001b[0m \u001b[0mrequested_period_default_value\u001b[0m\u001b[0;34m(\u001b[0m\u001b[0mformula\u001b[0m\u001b[0;34m,\u001b[0m \u001b[0msimulation\u001b[0m\u001b[0;34m,\u001b[0m \u001b[0mperiod\u001b[0m\u001b[0;34m,\u001b[0m \u001b[0;34m*\u001b[0m\u001b[0mextra_params\u001b[0m\u001b[0;34m)\u001b[0m\u001b[0;34m:\u001b[0m\u001b[0;34m\u001b[0m\u001b[0m\n\u001b[1;32m     53\u001b[0m     \u001b[0;32mif\u001b[0m \u001b[0mformula\u001b[0m\u001b[0;34m.\u001b[0m\u001b[0mfunction\u001b[0m \u001b[0;32mis\u001b[0m \u001b[0;32mnot\u001b[0m \u001b[0mNone\u001b[0m\u001b[0;34m:\u001b[0m\u001b[0;34m\u001b[0m\u001b[0m\n\u001b[0;32m---> 54\u001b[0;31m         \u001b[0;32mreturn\u001b[0m \u001b[0mformula\u001b[0m\u001b[0;34m.\u001b[0m\u001b[0mfunction\u001b[0m\u001b[0;34m(\u001b[0m\u001b[0msimulation\u001b[0m\u001b[0;34m,\u001b[0m \u001b[0mperiod\u001b[0m\u001b[0;34m,\u001b[0m \u001b[0;34m*\u001b[0m\u001b[0mextra_params\u001b[0m\u001b[0;34m)\u001b[0m\u001b[0;34m\u001b[0m\u001b[0m\n\u001b[0m\u001b[1;32m     55\u001b[0m     \u001b[0mholder\u001b[0m \u001b[0;34m=\u001b[0m \u001b[0mformula\u001b[0m\u001b[0;34m.\u001b[0m\u001b[0mholder\u001b[0m\u001b[0;34m\u001b[0m\u001b[0m\n\u001b[1;32m     56\u001b[0m     \u001b[0mcolumn\u001b[0m \u001b[0;34m=\u001b[0m \u001b[0mholder\u001b[0m\u001b[0;34m.\u001b[0m\u001b[0mcolumn\u001b[0m\u001b[0;34m\u001b[0m\u001b[0m\n",
      "\u001b[0;32m/Users/adrienpacifico/openfisca/openfisca-france/openfisca_france/reforms/mensualisation/mensualisation_ir_8.pyc\u001b[0m in \u001b[0;36mfunction\u001b[0;34m(self, simulation, period)\u001b[0m\n\u001b[1;32m    880\u001b[0m             \u001b[0mperiod\u001b[0m \u001b[0;34m=\u001b[0m \u001b[0mperiod\u001b[0m\u001b[0;34m.\u001b[0m\u001b[0mthis_month\u001b[0m\u001b[0;34m\u001b[0m\u001b[0m\n\u001b[1;32m    881\u001b[0m             \u001b[0mpfam\u001b[0m \u001b[0;34m=\u001b[0m \u001b[0msimulation\u001b[0m\u001b[0;34m.\u001b[0m\u001b[0mcalculate\u001b[0m\u001b[0;34m(\u001b[0m\u001b[0;34m'pfam'\u001b[0m\u001b[0;34m,\u001b[0m \u001b[0mperiod\u001b[0m\u001b[0;34m)\u001b[0m\u001b[0;34m\u001b[0m\u001b[0m\n\u001b[0;32m--> 882\u001b[0;31m             \u001b[0mmini\u001b[0m \u001b[0;34m=\u001b[0m \u001b[0msimulation\u001b[0m\u001b[0;34m.\u001b[0m\u001b[0mcalculate\u001b[0m\u001b[0;34m(\u001b[0m\u001b[0;34m'mini_mensuel'\u001b[0m\u001b[0;34m,\u001b[0m \u001b[0mperiod\u001b[0m\u001b[0;34m)\u001b[0m\u001b[0;34m\u001b[0m\u001b[0m\n\u001b[0m\u001b[1;32m    883\u001b[0m             \u001b[0maides_logement\u001b[0m \u001b[0;34m=\u001b[0m \u001b[0msimulation\u001b[0m\u001b[0;34m.\u001b[0m\u001b[0mcalculate_add_divide\u001b[0m\u001b[0;34m(\u001b[0m\u001b[0;34m'aides_logement'\u001b[0m\u001b[0;34m,\u001b[0m \u001b[0mperiod\u001b[0m\u001b[0;34m)\u001b[0m\u001b[0;34m\u001b[0m\u001b[0m\n\u001b[1;32m    884\u001b[0m \u001b[0;34m\u001b[0m\u001b[0m\n",
      "\u001b[0;32m/Users/adrienpacifico/openfisca/openfisca-core/openfisca_core/simulations.pyc\u001b[0m in \u001b[0;36mcalculate\u001b[0;34m(self, column_name, period, **parameters)\u001b[0m\n\u001b[1;32m     74\u001b[0m         \u001b[0;32mif\u001b[0m \u001b[0mperiod\u001b[0m \u001b[0;32mis\u001b[0m \u001b[0mNone\u001b[0m\u001b[0;34m:\u001b[0m\u001b[0;34m\u001b[0m\u001b[0m\n\u001b[1;32m     75\u001b[0m             \u001b[0mperiod\u001b[0m \u001b[0;34m=\u001b[0m \u001b[0mself\u001b[0m\u001b[0;34m.\u001b[0m\u001b[0mperiod\u001b[0m\u001b[0;34m\u001b[0m\u001b[0m\n\u001b[0;32m---> 76\u001b[0;31m         \u001b[0;32mreturn\u001b[0m \u001b[0mself\u001b[0m\u001b[0;34m.\u001b[0m\u001b[0mcompute\u001b[0m\u001b[0;34m(\u001b[0m\u001b[0mcolumn_name\u001b[0m\u001b[0;34m,\u001b[0m \u001b[0mperiod\u001b[0m \u001b[0;34m=\u001b[0m \u001b[0mperiod\u001b[0m\u001b[0;34m,\u001b[0m \u001b[0;34m**\u001b[0m\u001b[0mparameters\u001b[0m\u001b[0;34m)\u001b[0m\u001b[0;34m.\u001b[0m\u001b[0marray\u001b[0m\u001b[0;34m\u001b[0m\u001b[0m\n\u001b[0m\u001b[1;32m     77\u001b[0m \u001b[0;34m\u001b[0m\u001b[0m\n\u001b[1;32m     78\u001b[0m     \u001b[0;32mdef\u001b[0m \u001b[0mcalculate_add\u001b[0m\u001b[0;34m(\u001b[0m\u001b[0mself\u001b[0m\u001b[0;34m,\u001b[0m \u001b[0mcolumn_name\u001b[0m\u001b[0;34m,\u001b[0m \u001b[0mperiod\u001b[0m \u001b[0;34m=\u001b[0m \u001b[0mNone\u001b[0m\u001b[0;34m,\u001b[0m \u001b[0;34m**\u001b[0m\u001b[0mparameters\u001b[0m\u001b[0;34m)\u001b[0m\u001b[0;34m:\u001b[0m\u001b[0;34m\u001b[0m\u001b[0m\n",
      "\u001b[0;32m/Users/adrienpacifico/openfisca/openfisca-core/openfisca_core/simulations.pyc\u001b[0m in \u001b[0;36mcompute\u001b[0;34m(self, column_name, period, **parameters)\u001b[0m\n\u001b[1;32m    155\u001b[0m                 \u001b[0mcaller_input_variables_infos\u001b[0m\u001b[0;34m.\u001b[0m\u001b[0mappend\u001b[0m\u001b[0;34m(\u001b[0m\u001b[0mvariable_infos\u001b[0m\u001b[0;34m)\u001b[0m\u001b[0;34m\u001b[0m\u001b[0m\n\u001b[1;32m    156\u001b[0m         \u001b[0mholder\u001b[0m \u001b[0;34m=\u001b[0m \u001b[0mself\u001b[0m\u001b[0;34m.\u001b[0m\u001b[0mget_or_new_holder\u001b[0m\u001b[0;34m(\u001b[0m\u001b[0mcolumn_name\u001b[0m\u001b[0;34m)\u001b[0m\u001b[0;34m\u001b[0m\u001b[0m\n\u001b[0;32m--> 157\u001b[0;31m         \u001b[0;32mreturn\u001b[0m \u001b[0mholder\u001b[0m\u001b[0;34m.\u001b[0m\u001b[0mcompute\u001b[0m\u001b[0;34m(\u001b[0m\u001b[0mperiod\u001b[0m \u001b[0;34m=\u001b[0m \u001b[0mperiod\u001b[0m\u001b[0;34m,\u001b[0m \u001b[0;34m**\u001b[0m\u001b[0mparameters\u001b[0m\u001b[0;34m)\u001b[0m\u001b[0;34m\u001b[0m\u001b[0m\n\u001b[0m\u001b[1;32m    158\u001b[0m \u001b[0;34m\u001b[0m\u001b[0m\n\u001b[1;32m    159\u001b[0m     \u001b[0;32mdef\u001b[0m \u001b[0mcompute_on_family\u001b[0m\u001b[0;34m(\u001b[0m\u001b[0mself\u001b[0m\u001b[0;34m,\u001b[0m \u001b[0mcolumn_name\u001b[0m\u001b[0;34m,\u001b[0m \u001b[0mperiod\u001b[0m \u001b[0;34m=\u001b[0m \u001b[0mNone\u001b[0m\u001b[0;34m,\u001b[0m \u001b[0;34m**\u001b[0m\u001b[0mparameters\u001b[0m\u001b[0;34m)\u001b[0m\u001b[0;34m:\u001b[0m\u001b[0;34m\u001b[0m\u001b[0m\n",
      "\u001b[0;32m/Users/adrienpacifico/openfisca/openfisca-core/openfisca_core/holders.pyc\u001b[0m in \u001b[0;36mcompute\u001b[0;34m(self, period, **parameters)\u001b[0m\n\u001b[1;32m    131\u001b[0m         \u001b[0;32mif\u001b[0m \u001b[0;34m(\u001b[0m\u001b[0mcolumn_start_instant\u001b[0m \u001b[0;32mis\u001b[0m \u001b[0mNone\u001b[0m \u001b[0;32mor\u001b[0m \u001b[0mcolumn_start_instant\u001b[0m \u001b[0;34m<=\u001b[0m \u001b[0mperiod\u001b[0m\u001b[0;34m.\u001b[0m\u001b[0mstart\u001b[0m\u001b[0;34m)\u001b[0m\u001b[0;31m \u001b[0m\u001b[0;31m\\\u001b[0m\u001b[0;34m\u001b[0m\u001b[0m\n\u001b[1;32m    132\u001b[0m                 \u001b[0;32mand\u001b[0m \u001b[0;34m(\u001b[0m\u001b[0mcolumn_stop_instant\u001b[0m \u001b[0;32mis\u001b[0m \u001b[0mNone\u001b[0m \u001b[0;32mor\u001b[0m \u001b[0mperiod\u001b[0m\u001b[0;34m.\u001b[0m\u001b[0mstart\u001b[0m \u001b[0;34m<=\u001b[0m \u001b[0mcolumn_stop_instant\u001b[0m\u001b[0;34m)\u001b[0m\u001b[0;34m:\u001b[0m\u001b[0;34m\u001b[0m\u001b[0m\n\u001b[0;32m--> 133\u001b[0;31m             \u001b[0mformula_dated_holder\u001b[0m \u001b[0;34m=\u001b[0m \u001b[0mself\u001b[0m\u001b[0;34m.\u001b[0m\u001b[0mformula\u001b[0m\u001b[0;34m.\u001b[0m\u001b[0mcompute\u001b[0m\u001b[0;34m(\u001b[0m\u001b[0mperiod\u001b[0m \u001b[0;34m=\u001b[0m \u001b[0mperiod\u001b[0m\u001b[0;34m,\u001b[0m \u001b[0;34m**\u001b[0m\u001b[0mparameters\u001b[0m\u001b[0;34m)\u001b[0m\u001b[0;34m\u001b[0m\u001b[0m\n\u001b[0m\u001b[1;32m    134\u001b[0m             \u001b[0;32massert\u001b[0m \u001b[0mformula_dated_holder\u001b[0m \u001b[0;32mis\u001b[0m \u001b[0;32mnot\u001b[0m \u001b[0mNone\u001b[0m\u001b[0;34m\u001b[0m\u001b[0m\n\u001b[1;32m    135\u001b[0m             \u001b[0;32mif\u001b[0m \u001b[0;32mnot\u001b[0m \u001b[0mcolumn\u001b[0m\u001b[0;34m.\u001b[0m\u001b[0mis_permanent\u001b[0m\u001b[0;34m:\u001b[0m\u001b[0;34m\u001b[0m\u001b[0m\n",
      "\u001b[0;32m/Users/adrienpacifico/openfisca/openfisca-core/openfisca_core/formulas.pyc\u001b[0m in \u001b[0;36mcompute\u001b[0;34m(self, period, **parameters)\u001b[0m\n\u001b[1;32m    547\u001b[0m                 \u001b[0mformula_result\u001b[0m \u001b[0;34m=\u001b[0m \u001b[0mself\u001b[0m\u001b[0;34m.\u001b[0m\u001b[0mbase_function\u001b[0m\u001b[0;34m(\u001b[0m\u001b[0msimulation\u001b[0m\u001b[0;34m,\u001b[0m \u001b[0mperiod\u001b[0m\u001b[0;34m,\u001b[0m \u001b[0;34m*\u001b[0m\u001b[0mextra_params\u001b[0m\u001b[0;34m)\u001b[0m\u001b[0;34m\u001b[0m\u001b[0m\n\u001b[1;32m    548\u001b[0m             \u001b[0;32melse\u001b[0m\u001b[0;34m:\u001b[0m\u001b[0;34m\u001b[0m\u001b[0m\n\u001b[0;32m--> 549\u001b[0;31m                 \u001b[0mformula_result\u001b[0m \u001b[0;34m=\u001b[0m \u001b[0mself\u001b[0m\u001b[0;34m.\u001b[0m\u001b[0mbase_function\u001b[0m\u001b[0;34m(\u001b[0m\u001b[0msimulation\u001b[0m\u001b[0;34m,\u001b[0m \u001b[0mperiod\u001b[0m\u001b[0;34m)\u001b[0m\u001b[0;34m\u001b[0m\u001b[0m\n\u001b[0m\u001b[1;32m    550\u001b[0m         \u001b[0;32mexcept\u001b[0m \u001b[0mCycleError\u001b[0m\u001b[0;34m:\u001b[0m\u001b[0;34m\u001b[0m\u001b[0m\n\u001b[1;32m    551\u001b[0m             \u001b[0mself\u001b[0m\u001b[0;34m.\u001b[0m\u001b[0mclean_cycle_detection_data\u001b[0m\u001b[0;34m(\u001b[0m\u001b[0;34m)\u001b[0m\u001b[0;34m\u001b[0m\u001b[0m\n",
      "\u001b[0;32m/Users/adrienpacifico/openfisca/openfisca-core/openfisca_core/base_functions.pyc\u001b[0m in \u001b[0;36mrequested_period_default_value\u001b[0;34m(formula, simulation, period, *extra_params)\u001b[0m\n\u001b[1;32m     52\u001b[0m \u001b[0;32mdef\u001b[0m \u001b[0mrequested_period_default_value\u001b[0m\u001b[0;34m(\u001b[0m\u001b[0mformula\u001b[0m\u001b[0;34m,\u001b[0m \u001b[0msimulation\u001b[0m\u001b[0;34m,\u001b[0m \u001b[0mperiod\u001b[0m\u001b[0;34m,\u001b[0m \u001b[0;34m*\u001b[0m\u001b[0mextra_params\u001b[0m\u001b[0;34m)\u001b[0m\u001b[0;34m:\u001b[0m\u001b[0;34m\u001b[0m\u001b[0m\n\u001b[1;32m     53\u001b[0m     \u001b[0;32mif\u001b[0m \u001b[0mformula\u001b[0m\u001b[0;34m.\u001b[0m\u001b[0mfunction\u001b[0m \u001b[0;32mis\u001b[0m \u001b[0;32mnot\u001b[0m \u001b[0mNone\u001b[0m\u001b[0;34m:\u001b[0m\u001b[0;34m\u001b[0m\u001b[0m\n\u001b[0;32m---> 54\u001b[0;31m         \u001b[0;32mreturn\u001b[0m \u001b[0mformula\u001b[0m\u001b[0;34m.\u001b[0m\u001b[0mfunction\u001b[0m\u001b[0;34m(\u001b[0m\u001b[0msimulation\u001b[0m\u001b[0;34m,\u001b[0m \u001b[0mperiod\u001b[0m\u001b[0;34m,\u001b[0m \u001b[0;34m*\u001b[0m\u001b[0mextra_params\u001b[0m\u001b[0;34m)\u001b[0m\u001b[0;34m\u001b[0m\u001b[0m\n\u001b[0m\u001b[1;32m     55\u001b[0m     \u001b[0mholder\u001b[0m \u001b[0;34m=\u001b[0m \u001b[0mformula\u001b[0m\u001b[0;34m.\u001b[0m\u001b[0mholder\u001b[0m\u001b[0;34m\u001b[0m\u001b[0m\n\u001b[1;32m     56\u001b[0m     \u001b[0mcolumn\u001b[0m \u001b[0;34m=\u001b[0m \u001b[0mholder\u001b[0m\u001b[0;34m.\u001b[0m\u001b[0mcolumn\u001b[0m\u001b[0;34m\u001b[0m\u001b[0m\n",
      "\u001b[0;32m/Users/adrienpacifico/openfisca/openfisca-france/openfisca_france/reforms/mensualisation/mensualisation_ir_8.pyc\u001b[0m in \u001b[0;36mfunction\u001b[0;34m(self, simulation, period)\u001b[0m\n\u001b[1;32m    855\u001b[0m             \u001b[0mcaah_holder\u001b[0m \u001b[0;34m=\u001b[0m \u001b[0msimulation\u001b[0m\u001b[0;34m.\u001b[0m\u001b[0mcompute_add\u001b[0m\u001b[0;34m(\u001b[0m\u001b[0;34m'caah'\u001b[0m\u001b[0;34m,\u001b[0m \u001b[0mperiod\u001b[0m\u001b[0;34m.\u001b[0m\u001b[0mthis_month\u001b[0m\u001b[0;34m)\u001b[0m  \u001b[0;31m# TODO: put on monthly basis\u001b[0m\u001b[0;34m\u001b[0m\u001b[0m\n\u001b[1;32m    856\u001b[0m             \u001b[0masi\u001b[0m \u001b[0;34m=\u001b[0m \u001b[0msimulation\u001b[0m\u001b[0;34m.\u001b[0m\u001b[0mcalculate_add\u001b[0m\u001b[0;34m(\u001b[0m\u001b[0;34m'asi'\u001b[0m\u001b[0;34m,\u001b[0m \u001b[0mperiod\u001b[0m\u001b[0;34m.\u001b[0m\u001b[0mthis_month\u001b[0m\u001b[0;34m)\u001b[0m  \u001b[0;31m# TODO: put on monthly basis\u001b[0m\u001b[0;34m\u001b[0m\u001b[0m\n\u001b[0;32m--> 857\u001b[0;31m             \u001b[0mrsa\u001b[0m \u001b[0;34m=\u001b[0m \u001b[0msimulation\u001b[0m\u001b[0;34m.\u001b[0m\u001b[0mcalculate_add\u001b[0m\u001b[0;34m(\u001b[0m\u001b[0;34m'rsa'\u001b[0m\u001b[0;34m,\u001b[0m \u001b[0mperiod\u001b[0m\u001b[0;34m.\u001b[0m\u001b[0mthis_month\u001b[0m\u001b[0;34m)\u001b[0m \u001b[0;31m# TODO: put on monthly basis\u001b[0m\u001b[0;34m\u001b[0m\u001b[0m\n\u001b[0m\u001b[1;32m    858\u001b[0m             \u001b[0maefa\u001b[0m \u001b[0;34m=\u001b[0m \u001b[0msimulation\u001b[0m\u001b[0;34m.\u001b[0m\u001b[0mcalculate\u001b[0m\u001b[0;34m(\u001b[0m\u001b[0;34m'aefa'\u001b[0m\u001b[0;34m,\u001b[0m \u001b[0mperiod\u001b[0m\u001b[0;34m.\u001b[0m\u001b[0mthis_year\u001b[0m\u001b[0;34m)\u001b[0m\u001b[0;34m/\u001b[0m\u001b[0;36m12\u001b[0m \u001b[0;31m#TODO : put on monthly basis\u001b[0m\u001b[0;34m\u001b[0m\u001b[0m\n\u001b[1;32m    859\u001b[0m             \u001b[0mapi\u001b[0m \u001b[0;34m=\u001b[0m \u001b[0msimulation\u001b[0m\u001b[0;34m.\u001b[0m\u001b[0mcalculate_add\u001b[0m\u001b[0;34m(\u001b[0m\u001b[0;34m'api'\u001b[0m\u001b[0;34m,\u001b[0m \u001b[0mperiod\u001b[0m\u001b[0;34m.\u001b[0m\u001b[0mthis_month\u001b[0m\u001b[0;34m)\u001b[0m  \u001b[0;31m# TODO: put on monthly basis\u001b[0m\u001b[0;34m\u001b[0m\u001b[0m\n",
      "\u001b[0;32m/Users/adrienpacifico/openfisca/openfisca-core/openfisca_core/simulations.pyc\u001b[0m in \u001b[0;36mcalculate_add\u001b[0;34m(self, column_name, period, **parameters)\u001b[0m\n\u001b[1;32m     79\u001b[0m         \u001b[0;32mif\u001b[0m \u001b[0mperiod\u001b[0m \u001b[0;32mis\u001b[0m \u001b[0mNone\u001b[0m\u001b[0;34m:\u001b[0m\u001b[0;34m\u001b[0m\u001b[0m\n\u001b[1;32m     80\u001b[0m             \u001b[0mperiod\u001b[0m \u001b[0;34m=\u001b[0m \u001b[0mself\u001b[0m\u001b[0;34m.\u001b[0m\u001b[0mperiod\u001b[0m\u001b[0;34m\u001b[0m\u001b[0m\n\u001b[0;32m---> 81\u001b[0;31m         \u001b[0;32mreturn\u001b[0m \u001b[0mself\u001b[0m\u001b[0;34m.\u001b[0m\u001b[0mcompute_add\u001b[0m\u001b[0;34m(\u001b[0m\u001b[0mcolumn_name\u001b[0m\u001b[0;34m,\u001b[0m \u001b[0mperiod\u001b[0m \u001b[0;34m=\u001b[0m \u001b[0mperiod\u001b[0m\u001b[0;34m,\u001b[0m \u001b[0;34m**\u001b[0m\u001b[0mparameters\u001b[0m\u001b[0;34m)\u001b[0m\u001b[0;34m.\u001b[0m\u001b[0marray\u001b[0m\u001b[0;34m\u001b[0m\u001b[0m\n\u001b[0m\u001b[1;32m     82\u001b[0m \u001b[0;34m\u001b[0m\u001b[0m\n\u001b[1;32m     83\u001b[0m     \u001b[0;32mdef\u001b[0m \u001b[0mcalculate_add_divide\u001b[0m\u001b[0;34m(\u001b[0m\u001b[0mself\u001b[0m\u001b[0;34m,\u001b[0m \u001b[0mcolumn_name\u001b[0m\u001b[0;34m,\u001b[0m \u001b[0mperiod\u001b[0m \u001b[0;34m=\u001b[0m \u001b[0mNone\u001b[0m\u001b[0;34m,\u001b[0m \u001b[0;34m**\u001b[0m\u001b[0mparameters\u001b[0m\u001b[0;34m)\u001b[0m\u001b[0;34m:\u001b[0m\u001b[0;34m\u001b[0m\u001b[0m\n",
      "\u001b[0;32m/Users/adrienpacifico/openfisca/openfisca-core/openfisca_core/simulations.pyc\u001b[0m in \u001b[0;36mcompute_add\u001b[0;34m(self, column_name, period, **parameters)\u001b[0m\n\u001b[1;32m    183\u001b[0m                 \u001b[0mcaller_input_variables_infos\u001b[0m\u001b[0;34m.\u001b[0m\u001b[0mappend\u001b[0m\u001b[0;34m(\u001b[0m\u001b[0mvariable_infos\u001b[0m\u001b[0;34m)\u001b[0m\u001b[0;34m\u001b[0m\u001b[0m\n\u001b[1;32m    184\u001b[0m         \u001b[0mholder\u001b[0m \u001b[0;34m=\u001b[0m \u001b[0mself\u001b[0m\u001b[0;34m.\u001b[0m\u001b[0mget_or_new_holder\u001b[0m\u001b[0;34m(\u001b[0m\u001b[0mcolumn_name\u001b[0m\u001b[0;34m)\u001b[0m\u001b[0;34m\u001b[0m\u001b[0m\n\u001b[0;32m--> 185\u001b[0;31m         \u001b[0;32mreturn\u001b[0m \u001b[0mholder\u001b[0m\u001b[0;34m.\u001b[0m\u001b[0mcompute_add\u001b[0m\u001b[0;34m(\u001b[0m\u001b[0mperiod\u001b[0m \u001b[0;34m=\u001b[0m \u001b[0mperiod\u001b[0m\u001b[0;34m,\u001b[0m \u001b[0;34m**\u001b[0m\u001b[0mparameters\u001b[0m\u001b[0;34m)\u001b[0m\u001b[0;34m\u001b[0m\u001b[0m\n\u001b[0m\u001b[1;32m    186\u001b[0m \u001b[0;34m\u001b[0m\u001b[0m\n\u001b[1;32m    187\u001b[0m     \u001b[0;32mdef\u001b[0m \u001b[0mcompute_add_divide\u001b[0m\u001b[0;34m(\u001b[0m\u001b[0mself\u001b[0m\u001b[0;34m,\u001b[0m \u001b[0mcolumn_name\u001b[0m\u001b[0;34m,\u001b[0m \u001b[0mperiod\u001b[0m \u001b[0;34m=\u001b[0m \u001b[0mNone\u001b[0m\u001b[0;34m,\u001b[0m \u001b[0;34m**\u001b[0m\u001b[0mparameters\u001b[0m\u001b[0;34m)\u001b[0m\u001b[0;34m:\u001b[0m\u001b[0;34m\u001b[0m\u001b[0m\n",
      "\u001b[0;32m/Users/adrienpacifico/openfisca/openfisca-core/openfisca_core/holders.pyc\u001b[0m in \u001b[0;36mcompute_add\u001b[0;34m(self, period, **parameters)\u001b[0m\n\u001b[1;32m    157\u001b[0m         \u001b[0mparameters\u001b[0m\u001b[0;34m[\u001b[0m\u001b[0;34m'accept_other_period'\u001b[0m\u001b[0;34m]\u001b[0m \u001b[0;34m=\u001b[0m \u001b[0mTrue\u001b[0m \u001b[0;31m# We expect the compute calls to return a period different than the requested one.\u001b[0m\u001b[0;34m\u001b[0m\u001b[0m\n\u001b[1;32m    158\u001b[0m         \u001b[0;32mwhile\u001b[0m \u001b[0mTrue\u001b[0m\u001b[0;34m:\u001b[0m\u001b[0;34m\u001b[0m\u001b[0m\n\u001b[0;32m--> 159\u001b[0;31m             \u001b[0mdated_holder\u001b[0m \u001b[0;34m=\u001b[0m \u001b[0mself\u001b[0m\u001b[0;34m.\u001b[0m\u001b[0mcompute\u001b[0m\u001b[0;34m(\u001b[0m\u001b[0mperiod\u001b[0m \u001b[0;34m=\u001b[0m \u001b[0mrequested_period\u001b[0m\u001b[0;34m,\u001b[0m \u001b[0;34m**\u001b[0m\u001b[0mparameters\u001b[0m\u001b[0;34m)\u001b[0m\u001b[0;34m\u001b[0m\u001b[0m\n\u001b[0m\u001b[1;32m    160\u001b[0m             \u001b[0mrequested_start\u001b[0m \u001b[0;34m=\u001b[0m \u001b[0mrequested_period\u001b[0m\u001b[0;34m.\u001b[0m\u001b[0mstart\u001b[0m\u001b[0;34m\u001b[0m\u001b[0m\n\u001b[1;32m    161\u001b[0m             \u001b[0mreturned_period\u001b[0m \u001b[0;34m=\u001b[0m \u001b[0mdated_holder\u001b[0m\u001b[0;34m.\u001b[0m\u001b[0mperiod\u001b[0m\u001b[0;34m\u001b[0m\u001b[0m\n",
      "\u001b[0;32m/Users/adrienpacifico/openfisca/openfisca-core/openfisca_core/holders.pyc\u001b[0m in \u001b[0;36mcompute\u001b[0;34m(self, period, **parameters)\u001b[0m\n\u001b[1;32m    131\u001b[0m         \u001b[0;32mif\u001b[0m \u001b[0;34m(\u001b[0m\u001b[0mcolumn_start_instant\u001b[0m \u001b[0;32mis\u001b[0m \u001b[0mNone\u001b[0m \u001b[0;32mor\u001b[0m \u001b[0mcolumn_start_instant\u001b[0m \u001b[0;34m<=\u001b[0m \u001b[0mperiod\u001b[0m\u001b[0;34m.\u001b[0m\u001b[0mstart\u001b[0m\u001b[0;34m)\u001b[0m\u001b[0;31m \u001b[0m\u001b[0;31m\\\u001b[0m\u001b[0;34m\u001b[0m\u001b[0m\n\u001b[1;32m    132\u001b[0m                 \u001b[0;32mand\u001b[0m \u001b[0;34m(\u001b[0m\u001b[0mcolumn_stop_instant\u001b[0m \u001b[0;32mis\u001b[0m \u001b[0mNone\u001b[0m \u001b[0;32mor\u001b[0m \u001b[0mperiod\u001b[0m\u001b[0;34m.\u001b[0m\u001b[0mstart\u001b[0m \u001b[0;34m<=\u001b[0m \u001b[0mcolumn_stop_instant\u001b[0m\u001b[0;34m)\u001b[0m\u001b[0;34m:\u001b[0m\u001b[0;34m\u001b[0m\u001b[0m\n\u001b[0;32m--> 133\u001b[0;31m             \u001b[0mformula_dated_holder\u001b[0m \u001b[0;34m=\u001b[0m \u001b[0mself\u001b[0m\u001b[0;34m.\u001b[0m\u001b[0mformula\u001b[0m\u001b[0;34m.\u001b[0m\u001b[0mcompute\u001b[0m\u001b[0;34m(\u001b[0m\u001b[0mperiod\u001b[0m \u001b[0;34m=\u001b[0m \u001b[0mperiod\u001b[0m\u001b[0;34m,\u001b[0m \u001b[0;34m**\u001b[0m\u001b[0mparameters\u001b[0m\u001b[0;34m)\u001b[0m\u001b[0;34m\u001b[0m\u001b[0m\n\u001b[0m\u001b[1;32m    134\u001b[0m             \u001b[0;32massert\u001b[0m \u001b[0mformula_dated_holder\u001b[0m \u001b[0;32mis\u001b[0m \u001b[0;32mnot\u001b[0m \u001b[0mNone\u001b[0m\u001b[0;34m\u001b[0m\u001b[0m\n\u001b[1;32m    135\u001b[0m             \u001b[0;32mif\u001b[0m \u001b[0;32mnot\u001b[0m \u001b[0mcolumn\u001b[0m\u001b[0;34m.\u001b[0m\u001b[0mis_permanent\u001b[0m\u001b[0;34m:\u001b[0m\u001b[0;34m\u001b[0m\u001b[0m\n",
      "\u001b[0;32m/Users/adrienpacifico/openfisca/openfisca-core/openfisca_core/formulas.pyc\u001b[0m in \u001b[0;36mcompute\u001b[0;34m(self, period, **parameters)\u001b[0m\n\u001b[1;32m    261\u001b[0m             \u001b[0;32mif\u001b[0m \u001b[0moutput_period\u001b[0m \u001b[0;32mis\u001b[0m \u001b[0mNone\u001b[0m\u001b[0;34m:\u001b[0m\u001b[0;34m\u001b[0m\u001b[0m\n\u001b[1;32m    262\u001b[0m                 \u001b[0;32mcontinue\u001b[0m\u001b[0;34m\u001b[0m\u001b[0m\n\u001b[0;32m--> 263\u001b[0;31m             \u001b[0mdated_holder\u001b[0m \u001b[0;34m=\u001b[0m \u001b[0mdated_formula\u001b[0m\u001b[0;34m[\u001b[0m\u001b[0;34m'formula'\u001b[0m\u001b[0;34m]\u001b[0m\u001b[0;34m.\u001b[0m\u001b[0mcompute\u001b[0m\u001b[0;34m(\u001b[0m\u001b[0mperiod\u001b[0m \u001b[0;34m=\u001b[0m \u001b[0moutput_period\u001b[0m\u001b[0;34m,\u001b[0m \u001b[0;34m**\u001b[0m\u001b[0mparameters\u001b[0m\u001b[0;34m)\u001b[0m\u001b[0;34m\u001b[0m\u001b[0m\n\u001b[0m\u001b[1;32m    264\u001b[0m             \u001b[0;32mif\u001b[0m \u001b[0mdated_holder\u001b[0m\u001b[0;34m.\u001b[0m\u001b[0marray\u001b[0m \u001b[0;32mis\u001b[0m \u001b[0mNone\u001b[0m\u001b[0;34m:\u001b[0m\u001b[0;34m\u001b[0m\u001b[0m\n\u001b[1;32m    265\u001b[0m                 \u001b[0;32mbreak\u001b[0m\u001b[0;34m\u001b[0m\u001b[0m\n",
      "\u001b[0;32m/Users/adrienpacifico/openfisca/openfisca-core/openfisca_core/formulas.pyc\u001b[0m in \u001b[0;36mcompute\u001b[0;34m(self, period, **parameters)\u001b[0m\n\u001b[1;32m    547\u001b[0m                 \u001b[0mformula_result\u001b[0m \u001b[0;34m=\u001b[0m \u001b[0mself\u001b[0m\u001b[0;34m.\u001b[0m\u001b[0mbase_function\u001b[0m\u001b[0;34m(\u001b[0m\u001b[0msimulation\u001b[0m\u001b[0;34m,\u001b[0m \u001b[0mperiod\u001b[0m\u001b[0;34m,\u001b[0m \u001b[0;34m*\u001b[0m\u001b[0mextra_params\u001b[0m\u001b[0;34m)\u001b[0m\u001b[0;34m\u001b[0m\u001b[0m\n\u001b[1;32m    548\u001b[0m             \u001b[0;32melse\u001b[0m\u001b[0;34m:\u001b[0m\u001b[0;34m\u001b[0m\u001b[0m\n\u001b[0;32m--> 549\u001b[0;31m                 \u001b[0mformula_result\u001b[0m \u001b[0;34m=\u001b[0m \u001b[0mself\u001b[0m\u001b[0;34m.\u001b[0m\u001b[0mbase_function\u001b[0m\u001b[0;34m(\u001b[0m\u001b[0msimulation\u001b[0m\u001b[0;34m,\u001b[0m \u001b[0mperiod\u001b[0m\u001b[0;34m)\u001b[0m\u001b[0;34m\u001b[0m\u001b[0m\n\u001b[0m\u001b[1;32m    550\u001b[0m         \u001b[0;32mexcept\u001b[0m \u001b[0mCycleError\u001b[0m\u001b[0;34m:\u001b[0m\u001b[0;34m\u001b[0m\u001b[0m\n\u001b[1;32m    551\u001b[0m             \u001b[0mself\u001b[0m\u001b[0;34m.\u001b[0m\u001b[0mclean_cycle_detection_data\u001b[0m\u001b[0;34m(\u001b[0m\u001b[0;34m)\u001b[0m\u001b[0;34m\u001b[0m\u001b[0m\n",
      "\u001b[0;32m/Users/adrienpacifico/openfisca/openfisca-core/openfisca_core/base_functions.pyc\u001b[0m in \u001b[0;36mrequested_period_default_value\u001b[0;34m(formula, simulation, period, *extra_params)\u001b[0m\n\u001b[1;32m     52\u001b[0m \u001b[0;32mdef\u001b[0m \u001b[0mrequested_period_default_value\u001b[0m\u001b[0;34m(\u001b[0m\u001b[0mformula\u001b[0m\u001b[0;34m,\u001b[0m \u001b[0msimulation\u001b[0m\u001b[0;34m,\u001b[0m \u001b[0mperiod\u001b[0m\u001b[0;34m,\u001b[0m \u001b[0;34m*\u001b[0m\u001b[0mextra_params\u001b[0m\u001b[0;34m)\u001b[0m\u001b[0;34m:\u001b[0m\u001b[0;34m\u001b[0m\u001b[0m\n\u001b[1;32m     53\u001b[0m     \u001b[0;32mif\u001b[0m \u001b[0mformula\u001b[0m\u001b[0;34m.\u001b[0m\u001b[0mfunction\u001b[0m \u001b[0;32mis\u001b[0m \u001b[0;32mnot\u001b[0m \u001b[0mNone\u001b[0m\u001b[0;34m:\u001b[0m\u001b[0;34m\u001b[0m\u001b[0m\n\u001b[0;32m---> 54\u001b[0;31m         \u001b[0;32mreturn\u001b[0m \u001b[0mformula\u001b[0m\u001b[0;34m.\u001b[0m\u001b[0mfunction\u001b[0m\u001b[0;34m(\u001b[0m\u001b[0msimulation\u001b[0m\u001b[0;34m,\u001b[0m \u001b[0mperiod\u001b[0m\u001b[0;34m,\u001b[0m \u001b[0;34m*\u001b[0m\u001b[0mextra_params\u001b[0m\u001b[0;34m)\u001b[0m\u001b[0;34m\u001b[0m\u001b[0m\n\u001b[0m\u001b[1;32m     55\u001b[0m     \u001b[0mholder\u001b[0m \u001b[0;34m=\u001b[0m \u001b[0mformula\u001b[0m\u001b[0;34m.\u001b[0m\u001b[0mholder\u001b[0m\u001b[0;34m\u001b[0m\u001b[0m\n\u001b[1;32m     56\u001b[0m     \u001b[0mcolumn\u001b[0m \u001b[0;34m=\u001b[0m \u001b[0mholder\u001b[0m\u001b[0;34m.\u001b[0m\u001b[0mcolumn\u001b[0m\u001b[0;34m\u001b[0m\u001b[0m\n",
      "\u001b[0;32m/Users/adrienpacifico/openfisca/openfisca-france/openfisca_france/reforms/mensualisation/mensualisation_ir_8.pyc\u001b[0m in \u001b[0;36mfunction\u001b[0;34m(self, simulation, period)\u001b[0m\n\u001b[1;32m   1544\u001b[0m             \u001b[0mrsa_non_calculable\u001b[0m \u001b[0;34m=\u001b[0m \u001b[0msimulation\u001b[0m\u001b[0;34m.\u001b[0m\u001b[0mcalculate\u001b[0m\u001b[0;34m(\u001b[0m\u001b[0;34m'rsa_non_calculable'\u001b[0m\u001b[0;34m,\u001b[0m \u001b[0mperiod\u001b[0m\u001b[0;34m)\u001b[0m\u001b[0;34m\u001b[0m\u001b[0m\n\u001b[1;32m   1545\u001b[0m             \u001b[0;32mprint\u001b[0m \u001b[0;34m\"période\"\u001b[0m\u001b[0;34m,\u001b[0m \u001b[0mperiod\u001b[0m \u001b[0;31m#, rsa_majore,rsa_non_majore,rsa_non_calculable\u001b[0m\u001b[0;34m\u001b[0m\u001b[0m\n\u001b[0;32m-> 1546\u001b[0;31m             \u001b[0mboum\u001b[0m\u001b[0;34m\u001b[0m\u001b[0m\n\u001b[0m\u001b[1;32m   1547\u001b[0m             \u001b[0mrsa\u001b[0m \u001b[0;34m=\u001b[0m \u001b[0;34m(\u001b[0m\u001b[0;36m1\u001b[0m \u001b[0;34m-\u001b[0m \u001b[0mrsa_non_calculable\u001b[0m\u001b[0;34m)\u001b[0m \u001b[0;34m*\u001b[0m \u001b[0mmax_\u001b[0m\u001b[0;34m(\u001b[0m\u001b[0mrsa_majore\u001b[0m\u001b[0;34m,\u001b[0m \u001b[0mrsa_non_majore\u001b[0m\u001b[0;34m)\u001b[0m\u001b[0;34m\u001b[0m\u001b[0m\n\u001b[1;32m   1548\u001b[0m \u001b[0;34m\u001b[0m\u001b[0m\n",
      "\u001b[0;31mNameError\u001b[0m: global name 'boum' is not defined"
     ]
    }
   ],
   "source": [
    "rev_disp_uc = simulation.calculate_add('revdisp_mensuel_annuel')/uc_menage"
   ]
  },
  {
   "cell_type": "code",
   "execution_count": null,
   "metadata": {
    "collapsed": false
   },
   "outputs": [],
   "source": [
    "sum_by_entity(\"salaire_net\", 'foyer_fiscal')\n",
    "cast_from_entity_to_role('decote')\n",
    "switch_entity('irpp', 'famille')"
   ]
  },
  {
   "cell_type": "code",
   "execution_count": null,
   "metadata": {
    "collapsed": false
   },
   "outputs": [],
   "source": [
    "revdisp_negatif = (rev_disp_uc < 0)"
   ]
  },
  {
   "cell_type": "code",
   "execution_count": null,
   "metadata": {
    "collapsed": false
   },
   "outputs": [],
   "source": [
    "array = np.zeros(len(weight_menages))\n",
    "zip_2 = simulation.calculate_add('revdisp_mensuel_annuel')\n",
    "for var in [\"rev_trav_mensuel\", \"pen_mensuel\", \"rev_cap\",\"psoc_mensuel\", \"ppe\", \"impo_mensuel\"]:\n",
    "    if var in [\"rev_trav_mensuel\", \"pen_mensuel\", \"rev_cap\"]:\n",
    "        zip_1 = sum_by_entity(var, \"menage\", roles = None)\n",
    "\n",
    "    else:\n",
    "        zip_1 = switch_entity(var, 'menage' , range(12))\n",
    "        \n",
    "    assert zip_1.shape == zip_2.shape == revdisp_negatif.shape, '{}{}{}'.format(zip_1.shape, zip_2.shape , revdisp_negatif.shape)\n",
    "    print var, zip(zip_1[revdisp_negatif][:50], zip_2[revdisp_negatif][:50]), \"\\n\"\n"
   ]
  },
  {
   "cell_type": "code",
   "execution_count": null,
   "metadata": {
    "collapsed": false
   },
   "outputs": [],
   "source": [
    "pd.value_counts(revdisp_negatif)"
   ]
  },
  {
   "cell_type": "code",
   "execution_count": null,
   "metadata": {
    "collapsed": false
   },
   "outputs": [],
   "source": [
    "pd.value_counts(simulation.calculate_add('rev_trav')<0)"
   ]
  },
  {
   "cell_type": "code",
   "execution_count": null,
   "metadata": {
    "collapsed": true
   },
   "outputs": [],
   "source": []
  },
  {
   "cell_type": "code",
   "execution_count": null,
   "metadata": {
    "collapsed": true
   },
   "outputs": [],
   "source": []
  },
  {
   "cell_type": "code",
   "execution_count": null,
   "metadata": {
    "collapsed": true
   },
   "outputs": [],
   "source": []
  },
  {
   "cell_type": "code",
   "execution_count": null,
   "metadata": {
    "collapsed": false
   },
   "outputs": [],
   "source": [
    "decote = simulation.calculate('decote')\n",
    "decote_mensuel = simulation.calculate_add('decote_mensuel_times_12')/12\n",
    "\n",
    "\n",
    "has_decote_difference = (np.abs(decote -decote_mensuel)>0.1).astype(bool)\n",
    "has_decote_difference = cast_array_from_entity_to_role(has_decote_difference, 'foyer_fiscal', roles = [0])\n",
    "\n",
    "fam_has_decote_diff = sum_array_by_entity(has_decote_difference, 'famille')\n",
    "\n",
    "print pd.value_counts(fam_has_decote_diff)\n",
    "\n",
    "\n",
    "#utility_loss = condition((u_c_ir - u_ir_a)<-0.00000001)\n",
    "#utility_loss = cast_array_from_entity_to_role(utility_loss, roles = [0])\n"
   ]
  },
  {
   "cell_type": "code",
   "execution_count": null,
   "metadata": {
    "collapsed": false,
    "scrolled": true
   },
   "outputs": [],
   "source": [
    "#for month in range(3,4):\n",
    "#    gain_u = (pd.Series(\n",
    "#     survey_scenario.simulation.calculate(\"utility_compensated_ir_mensuel\", \"2009-{}\".format(month)) - \n",
    "#survey_scenario.simulation.calculate(\"utility_ir_annuel\", \"2009-{}\".format(month))\n",
    "#        ))\n",
    "#    gain_m =  (\n",
    "#        survey_scenario.simulation.calculate(\"inverted_utility_compensated_ir_mensuel\", \"2009-{}\".format(month)) - \n",
    "#        survey_scenario.simulation.calculate(\"inverted_utility_ir_annuel\", \"2009-{}\".format(month)))\n",
    "#pd.DataFrame({'gain_utilite':gain_u, 'gain_argent':gain_m})"
   ]
  },
  {
   "cell_type": "code",
   "execution_count": null,
   "metadata": {
    "collapsed": true
   },
   "outputs": [],
   "source": []
  },
  {
   "cell_type": "code",
   "execution_count": null,
   "metadata": {
    "collapsed": true
   },
   "outputs": [],
   "source": []
  },
  {
   "cell_type": "code",
   "execution_count": null,
   "metadata": {
    "collapsed": true
   },
   "outputs": [],
   "source": [
    "#   def sum_by_entity(self, array_or_dated_holder, entity = None, roles = None):\n",
    "#        holder = self.holder\n",
    "#        target_entity = holder.entity\n",
    "#        simulation = target_entity.simulation\n",
    "#        persons = simulation.persons\n",
    "#        if entity is None:\n",
    "#            entity = holder.entity\n",
    "#        else:\n",
    "#            assert entity in simulation.entity_by_key_singular, u\"Unknown entity: {}\".format(entity).encode('utf-8')\n",
    "#            entity = simulation.entity_by_key_singular[entity]\n",
    "#        assert not entity.is_persons_entity\n",
    "#        if isinstance(array_or_dated_holder, (holders.DatedHolder, holders.Holder)):\n",
    "#            assert array_or_dated_holder.entity.is_persons_entity\n",
    "#            array = array_or_dated_holder.array\n",
    "#        else:\n",
    "#            array = array_or_dated_holder\n",
    "#            assert isinstance(array, np.ndarray), u\"Expected a holder or a Numpy array. Got: {}\".format(array).encode(\n",
    "#                'utf-8')\n",
    "#            assert array.size == persons.count, u\"Expected an array of size {}. Got: {}\".format(persons.count,\n",
    "#                array.size)\n",
    "#        entity_index_array = persons.simulation.holder_by_name[entity.index_for_person_variable_name].array\n",
    "#        if roles is None:\n",
    "#            roles = range(entity.roles_count)\n",
    "#        target_array = self.zeros(dtype = array.dtype if array.dtype != np.bool else np.int16)\n",
    "#        for role in roles:\n",
    "#            # TODO: Mettre les filtres en cache dans la simulation\n",
    "#            boolean_filter = persons.simulation.holder_by_name[entity.role_for_person_variable_name].array == role\n",
    "#            target_array[entity_index_array[boolean_filter]] += array[boolean_filter]\n",
    "#        return target_array"
   ]
  },
  {
   "cell_type": "code",
   "execution_count": null,
   "metadata": {
    "collapsed": false
   },
   "outputs": [],
   "source": [
    "print survey_scenario.compute_aggregate('rsa_mensuel')/10**9\n",
    "print survey_scenario.compute_aggregate('rsa')/10**9"
   ]
  },
  {
   "cell_type": "markdown",
   "metadata": {},
   "source": [
    "##### weights"
   ]
  },
  {
   "cell_type": "code",
   "execution_count": null,
   "metadata": {
    "collapsed": false
   },
   "outputs": [],
   "source": [
    "weight_foyers = survey_scenario.simulation.calculate_add('weight_foyers', period = period).astype(float)\n",
    "weight_menages = survey_scenario.simulation.calculate_add('wprm', period = period).astype(float)\n",
    "weight_familles = survey_scenario.simulation.calculate_add('weight_familles', period = period).astype(float)\n",
    "weight_individus = survey_scenario.simulation.calculate_add('weight_individus', period = period).astype(float)"
   ]
  },
  {
   "cell_type": "code",
   "execution_count": null,
   "metadata": {
    "collapsed": false
   },
   "outputs": [],
   "source": [
    "print weight_foyers.shape , \"foyers fiscaux\"\n",
    "print weight_menages.shape , \"ménages\"\n",
    "print weight_familles.shape, \"familles\"\n",
    "print weight_individus.shape, \"individus\""
   ]
  },
  {
   "cell_type": "code",
   "execution_count": null,
   "metadata": {
    "collapsed": false
   },
   "outputs": [],
   "source": [
    "print weight_foyers.sum() , \"foyers fiscaux\"\n",
    "print weight_menages.sum() , \"ménages\"\n",
    "print weight_familles.sum(), \"familles\"\n",
    "print weight_individus.sum(), \"individus\""
   ]
  },
  {
   "cell_type": "code",
   "execution_count": null,
   "metadata": {
    "collapsed": false,
    "scrolled": false
   },
   "outputs": [],
   "source": [
    "variable = 'revdisp_mensuel_ir_mensuel'\n",
    "monthly_df = pd.DataFrame(\n",
    "                dict((column_name+\"_\"+period, survey_scenario.simulation.calculate_add(column_name, period)) \n",
    "                for period in ['{}-{}'.format( 2009, str(month).zfill(2)) for month in range(1, 13)] for column_name in [variable]) #TODO mensualize : allow for periods\n",
    "                )\n",
    "#monthly_df.T"
   ]
  },
  {
   "cell_type": "code",
   "execution_count": null,
   "metadata": {
    "collapsed": false
   },
   "outputs": [],
   "source": [
    "#monthly_df.T\n",
    "monthly_df['revdisp_mensuel_ir_mensuel_2009-09'].mean()"
   ]
  },
  {
   "cell_type": "code",
   "execution_count": null,
   "metadata": {
    "collapsed": false
   },
   "outputs": [],
   "source": [
    "survey_scenario.compute_aggregate('revdisp_mensuel_annuel')/27000000"
   ]
  },
  {
   "cell_type": "code",
   "execution_count": null,
   "metadata": {
    "collapsed": false
   },
   "outputs": [],
   "source": [
    "survey_scenario.compute_aggregate('revdisp_mensuel_ir_mensuel')/27000000"
   ]
  },
  {
   "cell_type": "code",
   "execution_count": null,
   "metadata": {
    "collapsed": false
   },
   "outputs": [],
   "source": [
    "survey_scenario.compute_aggregate('revdisp_mensuel_ir_mensuel')/27000000"
   ]
  },
  {
   "cell_type": "code",
   "execution_count": null,
   "metadata": {
    "collapsed": false,
    "scrolled": true
   },
   "outputs": [],
   "source": [
    "pd.Series(survey_scenario.simulation.calculate_add('compensated_irpp_mensuel') -  survey_scenario.simulation.calculate_add('irpp')).value_counts()#TODO !"
   ]
  },
  {
   "cell_type": "code",
   "execution_count": null,
   "metadata": {
    "collapsed": false
   },
   "outputs": [],
   "source": [
    "survey_scenario.compute_aggregate('irpp')"
   ]
  },
  {
   "cell_type": "code",
   "execution_count": null,
   "metadata": {
    "collapsed": false
   },
   "outputs": [],
   "source": [
    "for month in range(1,13):\n",
    "    print pd.Series(survey_scenario.simulation.calculate('mini_mensuel','2009-{}'.format(month))).mean()\n"
   ]
  },
  {
   "cell_type": "code",
   "execution_count": null,
   "metadata": {
    "collapsed": false
   },
   "outputs": [],
   "source": [
    "for month in range(1,13):\n",
    "    print pd.Series(survey_scenario.simulation.calculate('revdisp_mensuel_annuel','2009-{}'.format(month))).mean()\n"
   ]
  },
  {
   "cell_type": "code",
   "execution_count": null,
   "metadata": {
    "collapsed": false
   },
   "outputs": [],
   "source": [
    "for month in range(1,13):\n",
    "    print pd.Series(survey_scenario.simulation.calculate('revdisp_mensuel_ir_mensuel','2009-{}'.format(month))).mean()\n"
   ]
  },
  {
   "cell_type": "code",
   "execution_count": null,
   "metadata": {
    "collapsed": false
   },
   "outputs": [],
   "source": [
    "for month in range(1,13):\n",
    "    print 'annuel', pd.Series(survey_scenario.simulation.calculate('utility_ir_annuel','2009-{}'.format(month))).mean()\n",
    "    print 'mensuel', pd.Series(survey_scenario.simulation.calculate('utility_ir_mensuel','2009-{}'.format(month))).mean()"
   ]
  },
  {
   "cell_type": "code",
   "execution_count": null,
   "metadata": {
    "collapsed": true
   },
   "outputs": [],
   "source": [
    "decote_monthly = pd.Series(survey_scenario.simulation.calculate_add(\"decote_gain_fiscal_mensuel_times_12\")/12)\n",
    "decote_annual =  pd.Series(survey_scenario.simulation.calculate_add('decote_gain_fiscal'))"
   ]
  },
  {
   "cell_type": "code",
   "execution_count": null,
   "metadata": {
    "collapsed": false
   },
   "outputs": [],
   "source": [
    "(pd.Series(survey_scenario.simulation.calculate_add('revdisp_mensuel_annuel','2009')) < 0 ).value_counts()"
   ]
  },
  {
   "cell_type": "code",
   "execution_count": null,
   "metadata": {
    "collapsed": false
   },
   "outputs": [],
   "source": [
    "revdisp = pd.Series(survey_scenario.simulation.calculate_add('revdisp_mensuel_annuel','2009'))\n",
    "revdisp = pd.Series(survey_scenario.simulation.calculate_add('revdisp_mensuel_annuel','2009'))\n",
    "#revdisp[revdisp<0]"
   ]
  },
  {
   "cell_type": "code",
   "execution_count": null,
   "metadata": {
    "collapsed": false
   },
   "outputs": [],
   "source": [
    "decote = survey_scenario.simulation.calculate('decote_menage')\n",
    "decote_mensuel = survey_scenario.simulation.calculate_add('decote_mensuel_menage')"
   ]
  },
  {
   "cell_type": "code",
   "execution_count": null,
   "metadata": {
    "collapsed": false
   },
   "outputs": [],
   "source": [
    "survey_scenario.compute_aggregate(\"utility_ir_annuel\")"
   ]
  },
  {
   "cell_type": "code",
   "execution_count": null,
   "metadata": {
    "collapsed": false
   },
   "outputs": [],
   "source": [
    "survey_scenario.compute_aggregate(\"ra_rsa_i_mensualise\")"
   ]
  },
  {
   "cell_type": "code",
   "execution_count": null,
   "metadata": {
    "collapsed": true
   },
   "outputs": [],
   "source": []
  },
  {
   "cell_type": "code",
   "execution_count": null,
   "metadata": {
    "collapsed": false
   },
   "outputs": [],
   "source": [
    "for presta in ['rev_trav_mensuel' , 'pen_mensuel' , 'psoc_mensuel','ppe']:\n",
    "    print presta\n",
    "    for month in range(1,13):\n",
    "        print pd.Series(survey_scenario.simulation.calculate(presta,'2009-{}'.format(month))).mean()\n"
   ]
  },
  {
   "cell_type": "code",
   "execution_count": null,
   "metadata": {
    "collapsed": false
   },
   "outputs": [],
   "source": [
    "print pd.Series(survey_scenario.simulation.calculate('irpp')* weight_foyers).sum()\n",
    "print survey_scenario.compute_aggregate('irpp')\n",
    "\n",
    "print survey_scenario.compute_aggregate('irpp_mensuel')"
   ]
  },
  {
   "cell_type": "markdown",
   "metadata": {},
   "source": [
    "## Compare IRPP on monthly basis vs. on annual basis"
   ]
  },
  {
   "cell_type": "code",
   "execution_count": null,
   "metadata": {
    "collapsed": false
   },
   "outputs": [],
   "source": [
    "print survey_scenario.compute_aggregate('irpp')/10**9\n",
    "print survey_scenario.compute_aggregate('irpp_mensuel')/10**9\n",
    "print u\"l'impôt mensuel mène à un prélèvement de {} euros en plus\".format(survey_scenario.compute_aggregate('irpp_mensuel')-survey_scenario.compute_aggregate('irpp') )"
   ]
  },
  {
   "cell_type": "code",
   "execution_count": null,
   "metadata": {
    "collapsed": false
   },
   "outputs": [],
   "source": [
    "pd.Series(survey_scenario.simulation.calculate(\"irpp\") == survey_scenario.simulation.calculate(\"irpp_mensuel\")).value_counts()"
   ]
  },
  {
   "cell_type": "code",
   "execution_count": null,
   "metadata": {
    "collapsed": false
   },
   "outputs": [],
   "source": [
    "#np.testing.assert_array_almost_equal(survey_scenario.simulation.calculate('irpp'),survey_scenario.simulation.calculate_add(\"irpp_mensuel\"), decimal = -0,\n",
    "#                                    )"
   ]
  },
  {
   "cell_type": "markdown",
   "metadata": {},
   "source": [
    "#### Lambda compensation"
   ]
  },
  {
   "cell_type": "code",
   "execution_count": null,
   "metadata": {
    "collapsed": true
   },
   "outputs": [],
   "source": [
    "lambda_compensation = pd.Series(survey_scenario.simulation.calculate(\"lambda_compensation\"))"
   ]
  },
  {
   "cell_type": "code",
   "execution_count": null,
   "metadata": {
    "collapsed": false,
    "scrolled": true
   },
   "outputs": [],
   "source": [
    "execute_time_consuming_graph = False\n",
    "if execute_time_consuming_graph == True : \n",
    "    lambda_compensation = pd.Series(survey_scenario.simulation.calculate(\"lambda_compensation\"))\n",
    "    lambda_compensation.loc[(lambda_compensation == -np.inf)|lambda_compensation.isnull()]=0\n",
    "    lambda_compensation.loc[(lambda_compensation == np.inf)|lambda_compensation.isnull()]=0\n",
    "    filtr_near0 = np.abs(lambda_compensation)-0.2 >= 0\n",
    "    lambda_compensation[filtr_near0 ].hist(bins = 70000, weights = pd.Series(weight_foyers)[filtr_near0 ].values)\n",
    "    plt.xlim(-20,20)"
   ]
  },
  {
   "cell_type": "code",
   "execution_count": null,
   "metadata": {
    "collapsed": false,
    "scrolled": true
   },
   "outputs": [],
   "source": [
    "if execute_time_consuming_graph == True :\n",
    "    lambda_compensation = pd.Series(survey_scenario.simulation.calculate(\"lambda_compensation\"))\n",
    "    lambda_compensation.loc[(lambda_compensation == -np.inf)|lambda_compensation.isnull()]=0\n",
    "    lambda_compensation.loc[(lambda_compensation == np.inf)|lambda_compensation.isnull()]=0\n",
    "    lambda_compensation[np.abs(lambda_compensation)-0.2 >= 0 ].hist(bins = 700000)\n",
    "    plt.xlim(-20,20)"
   ]
  },
  {
   "cell_type": "code",
   "execution_count": null,
   "metadata": {
    "collapsed": false
   },
   "outputs": [],
   "source": [
    "lambda_compensation = pd.Series(survey_scenario.simulation.calculate(\"lambda_compensation\"))\n",
    "lambda_compensation.loc[(lambda_compensation == -np.inf)|lambda_compensation.isnull()]=0\n",
    "lambda_compensation.loc[(lambda_compensation == np.inf)|lambda_compensation.isnull()]=0\n",
    "lambda_compensation[np.abs(lambda_compensation)-2000 >= 0 ].hist(bins = 10)\n",
    "#plt.xlim(-20,20)"
   ]
  },
  {
   "cell_type": "markdown",
   "metadata": {},
   "source": [
    "#### Pourcentage du sample à 0"
   ]
  },
  {
   "cell_type": "code",
   "execution_count": null,
   "metadata": {
    "collapsed": false
   },
   "outputs": [],
   "source": [
    "lambda_compensation = pd.Series(survey_scenario.simulation.calculate(\"lambda_compensation\"))\n",
    "#lambda_compensation.loc[(lambda_compensation == -np.inf)|lambda_compensation.isnull()]=0\n",
    "#lambda_compensation.loc[(lambda_compensation == np.inf)|lambda_compensation.isnull()]=0\n",
    "prct1 = lambda_compensation[np.abs(lambda_compensation)==0].shape[0]/lambda_compensation.shape[0]\n",
    "print \"{} % du sample à un lambda égal à 0 \".format(round(prct1,2)*100)"
   ]
  },
  {
   "cell_type": "markdown",
   "metadata": {},
   "source": [
    "#### Pourcentage du sample presque à 0"
   ]
  },
  {
   "cell_type": "code",
   "execution_count": null,
   "metadata": {
    "collapsed": false
   },
   "outputs": [],
   "source": [
    "lambda_compensation = pd.Series(survey_scenario.simulation.calculate(\"lambda_compensation\"))\n",
    "lambda_compensation.loc[(lambda_compensation == -np.inf)|lambda_compensation.isnull()]=0\n",
    "lambda_compensation.loc[(lambda_compensation == np.inf)|lambda_compensation.isnull()]=0\n",
    "prct1 = lambda_compensation[np.abs(lambda_compensation)<0.01].shape[0]/lambda_compensation.shape[0]\n",
    "print \"{} % du sample à un lambda égal à 0 \".format(round(prct1,2)*100)"
   ]
  },
  {
   "cell_type": "markdown",
   "metadata": {},
   "source": [
    "#### Pourcentage du sample > ou < à  0"
   ]
  },
  {
   "cell_type": "code",
   "execution_count": null,
   "metadata": {
    "collapsed": false
   },
   "outputs": [],
   "source": [
    "lambda_compensation = pd.Series(survey_scenario.simulation.calculate(\"lambda_compensation\"))\n",
    "lambda_compensation.loc[(lambda_compensation == -np.inf)|lambda_compensation.isnull()]=0\n",
    "lambda_compensation.loc[(lambda_compensation == np.inf)|lambda_compensation.isnull()]=0\n",
    "prct1 = lambda_compensation[lambda_compensation<0].shape[0]/lambda_compensation.shape[0]\n",
    "prct2 = lambda_compensation[lambda_compensation>0].shape[0]/lambda_compensation.shape[0]\n",
    "print \"{} % du sample à un lambda < à 0 \".format(round(prct1,2)*100)\n",
    "print \"{} % du sample à un lambda > à 0 \".format(round(prct2,2)*100)"
   ]
  },
  {
   "cell_type": "code",
   "execution_count": null,
   "metadata": {
    "collapsed": false
   },
   "outputs": [],
   "source": [
    "lambda_compensation = pd.Series(survey_scenario.simulation.calculate(\"lambda_compensation\"))\n",
    "lambda_compensation.loc[(lambda_compensation == -np.inf)|lambda_compensation.isnull()]=0\n",
    "lambda_compensation.loc[(lambda_compensation == np.inf)|lambda_compensation.isnull()]=0\n",
    "prct1 = lambda_compensation[lambda_compensation<-0.01].shape[0]/lambda_compensation.shape[0]\n",
    "prct2 = lambda_compensation[lambda_compensation>0.01].shape[0]/lambda_compensation.shape[0]\n",
    "print \"{} % du sample à un lambda < à -0.01 \".format(round(prct1,2)*100)\n",
    "print \"{} % du sample à un lambda > à 0.01 \".format(round(prct2,2)*100)"
   ]
  },
  {
   "cell_type": "code",
   "execution_count": null,
   "metadata": {
    "collapsed": false
   },
   "outputs": [],
   "source": [
    "lambda_compensation = pd.Series(survey_scenario.simulation.calculate(\"lambda_compensation\"))\n",
    "lambda_compensation.loc[(lambda_compensation == -np.inf)|lambda_compensation.isnull()]=0\n",
    "lambda_compensation.loc[(lambda_compensation == np.inf)|lambda_compensation.isnull()]=0\n",
    "prct1 = lambda_compensation[lambda_compensation<-0.01].shape[0]/lambda_compensation[np.abs(lambda_compensation)>0.01].shape[0]\n",
    "prct2 = lambda_compensation[lambda_compensation>0.01].shape[0]/lambda_compensation[np.abs(lambda_compensation)>0.01].shape[0]\n",
    "print \"{} % du sample à un lambda < à -0.01 \".format(round(prct1,2)*100)\n",
    "print \"{} % du sample à un lambda > à 0.01 \".format(round(prct2,2)*100)"
   ]
  },
  {
   "cell_type": "markdown",
   "metadata": {},
   "source": [
    "#### Pourcentage du sample entre -20 et 20"
   ]
  },
  {
   "cell_type": "code",
   "execution_count": null,
   "metadata": {
    "collapsed": false
   },
   "outputs": [],
   "source": [
    "lambda_compensation = pd.Series(survey_scenario.simulation.calculate(\"lambda_compensation\"))\n",
    "lambda_compensation.loc[(lambda_compensation == -np.inf)|lambda_compensation.isnull()]=0\n",
    "lambda_compensation.loc[(lambda_compensation == np.inf)|lambda_compensation.isnull()]=0\n",
    "prct1 = lambda_compensation[np.abs(lambda_compensation)>70].shape[0]/lambda_compensation.shape[0]\n",
    "print \"{} % du sample à un lambda supérieur  à 70 \".format(round(prct1,2)*100)"
   ]
  },
  {
   "cell_type": "markdown",
   "metadata": {
    "collapsed": true
   },
   "source": [
    "#### Lambda compensation négatif du à la décote ?"
   ]
  },
  {
   "cell_type": "code",
   "execution_count": null,
   "metadata": {
    "collapsed": false
   },
   "outputs": [],
   "source": [
    "pd.Series(survey_scenario.simulation.calculate_add(\"decote_mensuel_times_12\")/12).mean()"
   ]
  },
  {
   "cell_type": "code",
   "execution_count": null,
   "metadata": {
    "collapsed": false
   },
   "outputs": [],
   "source": [
    "decote_monthly = pd.Series(survey_scenario.simulation.calculate_add(\"decote_mensuel_times_12\")/12)\n",
    "decote_annual =  pd.Series(survey_scenario.simulation.calculate_add(\"decote\"))"
   ]
  },
  {
   "cell_type": "code",
   "execution_count": null,
   "metadata": {
    "collapsed": true
   },
   "outputs": [],
   "source": [
    "filtre_unequal_decote = decote_monthly != decote_annual"
   ]
  },
  {
   "cell_type": "code",
   "execution_count": null,
   "metadata": {
    "collapsed": false
   },
   "outputs": [],
   "source": [
    "lambda_compensation[filtre_unequal_decote].shape"
   ]
  },
  {
   "cell_type": "code",
   "execution_count": null,
   "metadata": {
    "collapsed": false
   },
   "outputs": [],
   "source": [
    "lambda_compensation[filtre_unequal_decote&\n",
    "                    (np.abs(lambda_compensation)>.1)&\n",
    "                    (np.abs(lambda_compensation)<100)].hist(bins = 500)\n",
    "plt.xlim(-20,20)"
   ]
  },
  {
   "cell_type": "code",
   "execution_count": null,
   "metadata": {
    "collapsed": false
   },
   "outputs": [],
   "source": [
    "graph_filter = filtre_unequal_decote & (np.abs(lambda_compensation)>.1) & (np.abs(lambda_compensation)<100)\n",
    "\n",
    "\n",
    "to_graph_foyer = lambda_compensation[graph_filter]\n",
    "poids = pd.Series(weight_foyers)[graph_filter]\n",
    "\n",
    "plt.figure(figsize=(15,10))\n",
    "plt.hist(to_graph_foyer.values, bins = 100, weights = poids.values)\n",
    "plt.xlabel(r'$\\lambda$',fontsize = 20 )\n",
    "plt.ylabel('Headcount',fontsize = 17)"
   ]
  },
  {
   "cell_type": "code",
   "execution_count": null,
   "metadata": {
    "collapsed": false
   },
   "outputs": [],
   "source": [
    "graph_filter = filtre_unequal_decote & (np.abs(lambda_compensation)>.1)&(np.abs(lambda_compensation)<100)\n",
    "\n",
    "\n",
    "to_graph_foyer = lambda_compensation[filtre_unequal_decote&\n",
    "                    (np.abs(lambda_compensation)>.1)&\n",
    "                    (np.abs(lambda_compensation)<100)]\n",
    "poids = pd.Series(weight_foyers)[\n",
    "        filtre_unequal_decote&\n",
    "        (np.abs(lambda_compensation)>.1)&\n",
    "        (np.abs(lambda_compensation)<100)]\n",
    "\n",
    "plt.figure(figsize=(15,10))\n",
    "plt.hist(to_graph_foyer.values, bins = 100, weights = poids.values)\n",
    "plt.xlabel(r'$\\lambda$',fontsize = 20 )\n",
    "plt.ylabel('Headcount',fontsize = 17)"
   ]
  },
  {
   "cell_type": "code",
   "execution_count": null,
   "metadata": {
    "collapsed": false
   },
   "outputs": [],
   "source": [
    "lambda_compensation_menage = pd.Series(switch_entity('lambda_compensation', 'menage'))\n",
    "graph_filter_menage =  (np.abs(lambda_compensation_menage)>.1)&(np.abs(lambda_compensation_menage)<100)"
   ]
  },
  {
   "cell_type": "code",
   "execution_count": null,
   "metadata": {
    "collapsed": true
   },
   "outputs": [],
   "source": []
  },
  {
   "cell_type": "code",
   "execution_count": null,
   "metadata": {
    "collapsed": false
   },
   "outputs": [],
   "source": [
    "\n",
    "nb_minor_ticks = 5\n",
    "fig, ax = plt.subplots(1,2,sharey = True, figsize = (20, 7), tight_layout = True)\n",
    "\n",
    "to_graph_menage = lambda_compensation_menage[graph_filter_menage]\n",
    "poids_menage = pd.Series(weight_menages)[graph_filter_menage]\n",
    "\n",
    "\n",
    "ax[0].hist(to_graph_foyer.values, bins = 100, weights = poids.values)\n",
    "ax[0].set_xlabel(r'$\\lambda$',fontsize = 20 )\n",
    "ax[0].set_ylabel('Headcount',fontsize = 17)\n",
    "ax[0].set_title('Fiscal Household')\n",
    "ax[0].xaxis.set_minor_locator(AutoMinorLocator(nb_minor_ticks))\n",
    "ax[0].yaxis.set_minor_locator(AutoMinorLocator(nb_minor_ticks))\n",
    "ax[0].grid(which = 'both')\n",
    "\n",
    "\n",
    "\n",
    "ax[1].hist(to_graph_menage.values, bins = 100, weights = poids_menage.values)\n",
    "ax[1].set_xlabel(r'$\\lambda$',fontsize = 20)\n",
    "#ax[1].set_ylabel('Headcount',fontsize = 17)\n",
    "ax[1].set_title('Household')\n",
    "ax[1].xaxis.set_minor_locator(AutoMinorLocator(nb_minor_ticks))\n",
    "ax[1].yaxis.set_minor_locator(AutoMinorLocator(nb_minor_ticks))\n",
    "ax[1].grid(which = 'both')"
   ]
  },
  {
   "cell_type": "code",
   "execution_count": null,
   "metadata": {
    "collapsed": false
   },
   "outputs": [],
   "source": [
    "from matplotlib.ticker import AutoMinorLocator\n",
    "nb_parts_list = [1,1.5,2,2.5,3,4]\n",
    "graph_filter = (np.abs(lambda_compensation)>.1)&(np.abs(lambda_compensation)<100)\n",
    "\n",
    "nb_subplots_lines = len(nb_parts_list)//2 + len(nb_parts_list)%2 \n",
    "\n",
    "fig, ax = plt.subplots(nb_subplots_lines,2,sharey = True, figsize = (20, 15), tight_layout = True)\n",
    "count = 0\n",
    "for parts in nb_parts_list:\n",
    "    graph_filter = (np.abs(lambda_compensation)>.001)&(np.abs(lambda_compensation)<100) & (simulation.calculate('nbptr') == parts)\n",
    "    i = count//2\n",
    "    j = count %2\n",
    "    \n",
    "    ax[i,j].hist(lambda_compensation[graph_filter].values, bins = 100, normed = True)#, weights = poids.values)\n",
    "    ax[i,j].set_xlabel(r'$\\lambda$',fontsize = 20 )\n",
    "    ax[i,j].set_ylabel('Headcount',fontsize = 17)\n",
    "    ax[i,j].set_title('{} fiscal shares'.format(parts))\n",
    "    ax[i,j].xaxis.set_minor_locator(AutoMinorLocator(nb_minor_ticks))\n",
    "    ax[i,j].yaxis.set_minor_locator(AutoMinorLocator(nb_minor_ticks))\n",
    "    ax[i,j].grid(which = 'both')\n",
    "    count +=1\n",
    "plt.savefig(\"image_result_of_mensualisation/lambda_compensation_by_fiscal_shares.png\")"
   ]
  },
  {
   "cell_type": "code",
   "execution_count": null,
   "metadata": {
    "collapsed": false
   },
   "outputs": [],
   "source": [
    "print to_graph_foyer.shape\n",
    "print poids_menage.shape"
   ]
  },
  {
   "cell_type": "code",
   "execution_count": null,
   "metadata": {
    "collapsed": false
   },
   "outputs": [],
   "source": [
    "#to_graph_foyer = lambda_compensation[graph_filter]\n",
    "#poids_menage = pd.Series(weight_menages)[graph_filter_menage]\n",
    "\n",
    "#plt.figure(figsize=(15,10))\n",
    "#plt.hist(to_graph_foyer.values, bins = 100, weights = poids.values)\n",
    "#plt.xlabel(r'$\\lambda$',fontsize = 20 )\n",
    "#plt.ylabel('Headcount',fontsize = 17)"
   ]
  },
  {
   "cell_type": "code",
   "execution_count": null,
   "metadata": {
    "collapsed": true
   },
   "outputs": [],
   "source": []
  },
  {
   "cell_type": "code",
   "execution_count": null,
   "metadata": {
    "collapsed": false
   },
   "outputs": [],
   "source": [
    "#from matplotlib.ticker import AutoMinorLocator\n",
    "#nb_minor_ticks = 5\n",
    "#fig, ax = plt.subplots(1,2,sharey = True, figsize = (20, 7), tight_layout = True)\n",
    "\n",
    "#to_graph_menage = lambda_compensation_menage[graph_filter_menage]\n",
    "#poids_menage = pd.Series(weight_menages)[graph_filter_menage]\n",
    "#ax_nb = 0\n",
    "#ax[ax_nb].hist(to_graph_foyer.values, bins = 100,normed = True, weights = poids.values)\n",
    "#ax[ax_nb].set_xlabel(r'$\\lambda$',fontsize = 20 )\n",
    "#ax[ax_nb].set_ylabel('Headcount',fontsize = 17)\n",
    "#ax[ax_nb].set_title('Fiscal Household')\n",
    "#ax[ax_nb].xaxis.set_minor_locator(AutoMinorLocator(nb_minor_ticks))\n",
    "#ax[ax_nb].yaxis.set_minor_locator(AutoMinorLocator(nb_minor_ticks))\n",
    "#ax[ax_nb].grid(which = 'both')\n",
    "\n",
    "\n",
    "#ax_nb = 1\n",
    "#ax[ax_nb].hist(to_graph_menage.values, bins = 100, normed = True ,weights = poids_menage.values)\n",
    "#ax[ax_nb].set_xlabel(r'$\\lambda$',fontsize = 20)\n",
    "##ax[1].set_ylabel('Headcount',fontsize = 17)\n",
    "#ax[ax_nb].set_title('Household')\n",
    "#ax[ax_nb].xaxis.set_minor_locator(AutoMinorLocator(nb_minor_ticks))\n",
    "#ax[ax_nb].yaxis.set_minor_locator(AutoMinorLocator(nb_minor_ticks))\n",
    "#ax[ax_nb].grid(which = 'both')"
   ]
  },
  {
   "cell_type": "code",
   "execution_count": null,
   "metadata": {
    "collapsed": true
   },
   "outputs": [],
   "source": []
  },
  {
   "cell_type": "code",
   "execution_count": null,
   "metadata": {
    "collapsed": false
   },
   "outputs": [],
   "source": [
    "to_graph_menage = lambda_compensation[filtre_unequal_decote&\n",
    "                    (np.abs(lambda_compensation)>.1)&\n",
    "                    (np.abs(lambda_compensation)<100)]"
   ]
  },
  {
   "cell_type": "code",
   "execution_count": null,
   "metadata": {
    "collapsed": true
   },
   "outputs": [],
   "source": []
  },
  {
   "cell_type": "code",
   "execution_count": null,
   "metadata": {
    "collapsed": true
   },
   "outputs": [],
   "source": []
  },
  {
   "cell_type": "code",
   "execution_count": null,
   "metadata": {
    "collapsed": true
   },
   "outputs": [],
   "source": []
  },
  {
   "cell_type": "code",
   "execution_count": null,
   "metadata": {
    "collapsed": true
   },
   "outputs": [],
   "source": []
  },
  {
   "cell_type": "code",
   "execution_count": null,
   "metadata": {
    "collapsed": true
   },
   "outputs": [],
   "source": []
  },
  {
   "cell_type": "code",
   "execution_count": null,
   "metadata": {
    "collapsed": true
   },
   "outputs": [],
   "source": []
  },
  {
   "cell_type": "code",
   "execution_count": null,
   "metadata": {
    "collapsed": false
   },
   "outputs": [],
   "source": [
    "lambda_zero = pd.Series(lambda_compensation == 0 )\n",
    "pd.Series(weight_foyers)[lambda_zero].sum()\n",
    "\n"
   ]
  },
  {
   "cell_type": "code",
   "execution_count": null,
   "metadata": {
    "collapsed": false
   },
   "outputs": [],
   "source": [
    "index_exceptional_lambda = lambda_compensation[np.abs(lambda_compensation)>100].index"
   ]
  },
  {
   "cell_type": "code",
   "execution_count": null,
   "metadata": {
    "collapsed": false
   },
   "outputs": [],
   "source": [
    "df = survey_scenario.create_data_frame_by_entity_key_plural(['decote_gain_fiscal','decote_gain_fiscal_mensuel_times_12',\"irpp\",'irpp_mensuel', 'lambda_compensation'])['foyers_fiscaux']\n",
    "df['decote_gain_fiscal_mensuel'] = df.decote_gain_fiscal_mensuel_times_12/12\n",
    "df.iloc[index_exceptional_lambda]"
   ]
  },
  {
   "cell_type": "code",
   "execution_count": null,
   "metadata": {
    "collapsed": false
   },
   "outputs": [],
   "source": [
    "survey_scenario.simulation.calculate(\"irpp_mensuel\",\"2009-08\")[4]"
   ]
  },
  {
   "cell_type": "code",
   "execution_count": null,
   "metadata": {
    "collapsed": false
   },
   "outputs": [],
   "source": [
    "df[\"difference\"] = np.abs(df.decote_gain_fiscal- df.decote_gain_fiscal_mensuel)>0.01\n",
    "df[lambda_compensation == -12].difference.value_counts()"
   ]
  },
  {
   "cell_type": "code",
   "execution_count": null,
   "metadata": {
    "collapsed": false
   },
   "outputs": [],
   "source": [
    "df.shape"
   ]
  },
  {
   "cell_type": "code",
   "execution_count": null,
   "metadata": {
    "collapsed": false
   },
   "outputs": [],
   "source": [
    "df[lambda_compensation == -12][['decote_gain_fiscal', 'decote_gain_fiscal_mensuel', 'lambda_compensation',\"irpp\",'irpp_mensuel' ]]"
   ]
  },
  {
   "cell_type": "code",
   "execution_count": null,
   "metadata": {
    "collapsed": false
   },
   "outputs": [],
   "source": [
    "df = survey_scenario.create_data_frame_by_entity_key_plural(['decote_gain_fiscal','decote_gain_fiscal_mensuel_times_12',\"irpp\",'irpp_mensuel', 'lambda_compensation'])['foyers_fiscaux']\n",
    "df.decote_gain_fiscal_mensuel_times_12 = df.decote_gain_fiscal_mensuel_times_12/12\n",
    "df.lambda_compensation[df.lambda_compensation>70] = 0 #autrement les histogrames prennent trois heures à grapher pour quelques observations\n",
    "df.lambda_compensation[df.lambda_compensation< -70] = 0"
   ]
  },
  {
   "cell_type": "code",
   "execution_count": null,
   "metadata": {
    "collapsed": false
   },
   "outputs": [],
   "source": [
    "df[np.abs(df.decote_gain_fiscal-df.decote_gain_fiscal_mensuel_times_12)+1>0].shape"
   ]
  },
  {
   "cell_type": "code",
   "execution_count": null,
   "metadata": {
    "collapsed": false
   },
   "outputs": [],
   "source": [
    "df.lambda_compensation[(np.abs(df.decote_gain_fiscal-df.decote_gain_fiscal_mensuel_times_12)-1<0)\n",
    "                      & (np.abs(df.lambda_compensation)>0.1)].hist(bins = 100)\n",
    "plt.xlim(-20,20)"
   ]
  },
  {
   "cell_type": "code",
   "execution_count": null,
   "metadata": {
    "collapsed": false
   },
   "outputs": [],
   "source": [
    "df.lambda_compensation[(np.abs(df.decote_gain_fiscal-df.decote_gain_fiscal_mensuel_times_12)-0.1>0)\n",
    "                      & (np.abs(df.lambda_compensation)>0.1)].mean()"
   ]
  },
  {
   "cell_type": "code",
   "execution_count": null,
   "metadata": {
    "collapsed": false
   },
   "outputs": [],
   "source": [
    "df[(np.abs(df.decote_gain_fiscal-df.decote_gain_fiscal_mensuel_times_12)-0.1>0)\n",
    "                      & (np.abs(df.lambda_compensation)>0.1)]"
   ]
  },
  {
   "cell_type": "code",
   "execution_count": null,
   "metadata": {
    "collapsed": false
   },
   "outputs": [],
   "source": [
    "df[df.lambda_compensation<-1]"
   ]
  },
  {
   "cell_type": "code",
   "execution_count": null,
   "metadata": {
    "collapsed": false
   },
   "outputs": [],
   "source": [
    "df[df.lambda_compensation<-1][df.decote_gain_fiscal> df.decote_gain_fiscal_mensuel_times_12]"
   ]
  },
  {
   "cell_type": "markdown",
   "metadata": {
    "collapsed": true
   },
   "source": [
    "## Compensated irpp"
   ]
  },
  {
   "cell_type": "code",
   "execution_count": null,
   "metadata": {
    "collapsed": false
   },
   "outputs": [],
   "source": [
    "print max(pd.Series(survey_scenario.simulation.calculate_add('compensated_irpp_mensuel') -  survey_scenario.simulation.calculate_add('irpp')))\n",
    "print min(pd.Series(survey_scenario.simulation.calculate_add('compensated_irpp_mensuel') -  survey_scenario.simulation.calculate_add('irpp')))"
   ]
  },
  {
   "cell_type": "code",
   "execution_count": null,
   "metadata": {
    "collapsed": false
   },
   "outputs": [],
   "source": [
    "df = survey_scenario.create_data_frame_by_entity_key_plural(['decote_gain_fiscal','decote_gain_fiscal_mensuel_times_12',\"irpp\",'irpp_mensuel', 'lambda_compensation', 'compensated_irpp_mensuel'])['foyers_fiscaux']\n",
    "df.decote_gain_fiscal_mensuel_times_12 = df.decote_gain_fiscal_mensuel_times_12/12\n",
    "#df.lambda_compensation[df.lambda_compensation>70] = 0 #autrement les histogrames prennent trois heures à grapher pour quelques observations\n",
    "#df.lambda_compensation[df.lambda_compensation< -70] = 0\n",
    "#df.compensated_irpp_mensuel = df.compensated_irpp_mensuel\n",
    "df"
   ]
  },
  {
   "cell_type": "code",
   "execution_count": null,
   "metadata": {
    "collapsed": false
   },
   "outputs": [],
   "source": [
    "df = survey_scenario.create_data_frame_by_entity_key_plural(['decote_gain_fiscal','decote_gain_fiscal_mensuel_times_12',\"irpp\",'irpp_mensuel', 'lambda_compensation', 'compensated_irpp_mensuel'])['foyers_fiscaux']\n",
    "df.decote_gain_fiscal_mensuel_times_12 = df.decote_gain_fiscal_mensuel_times_12/12\n",
    "#df.lambda_compensation[df.lambda_compensation>70] = 0 #autrement les histogrames prennent trois heures à grapher pour quelques observations\n",
    "#df.lambda_compensation[df.lambda_compensation< -70] = 0\n",
    "#df.compensated_irpp_mensuel = df.compensated_irpp_mensuel\n",
    "df"
   ]
  },
  {
   "cell_type": "code",
   "execution_count": null,
   "metadata": {
    "collapsed": false
   },
   "outputs": [],
   "source": [
    "df[df.compensated_irpp_mensuel - df.irpp<2][['irpp', 'compensated_irpp_mensuel', 'irpp_mensuel']]"
   ]
  },
  {
   "cell_type": "code",
   "execution_count": null,
   "metadata": {
    "collapsed": false
   },
   "outputs": [],
   "source": [
    "print survey_scenario.compute_aggregate('compensated_irpp_mensuel')\n",
    "print survey_scenario.compute_aggregate('irpp')"
   ]
  },
  {
   "cell_type": "code",
   "execution_count": null,
   "metadata": {
    "collapsed": true
   },
   "outputs": [],
   "source": [
    "impot_mensuel_times_12 = survey_scenario.simulation.calculate(\"irpp_mensuel\", period)*12\n",
    "lambda_compensation = survey_scenario.simulation.calculate(\"lambda_compensation\", period.this_year)\n",
    "\n",
    "\n",
    "\n",
    "compensated_irpp = impot_mensuel_times_12/(12 + lambda_compensation)"
   ]
  },
  {
   "cell_type": "code",
   "execution_count": null,
   "metadata": {
    "collapsed": false
   },
   "outputs": [],
   "source": [
    "compensated_irpp[743]"
   ]
  },
  {
   "cell_type": "code",
   "execution_count": null,
   "metadata": {
    "collapsed": false
   },
   "outputs": [],
   "source": [
    "(survey_scenario.simulation.calculate(\"irpp\", period.this_year) == 0)*0"
   ]
  },
  {
   "cell_type": "code",
   "execution_count": null,
   "metadata": {
    "collapsed": false
   },
   "outputs": [],
   "source": [
    "compensated_irpp = (survey_scenario.simulation.calculate(\"irpp\", period.this_year) == 0) * 0 + \\\n",
    "                ~(survey_scenario.simulation.calculate(\"irpp\", period.this_year) == 0) * np.nan_to_num(compensated_irpp) ;compensated_irpp[[4,743]]"
   ]
  },
  {
   "cell_type": "code",
   "execution_count": null,
   "metadata": {
    "collapsed": false
   },
   "outputs": [],
   "source": []
  },
  {
   "cell_type": "code",
   "execution_count": null,
   "metadata": {
    "collapsed": true
   },
   "outputs": [],
   "source": []
  },
  {
   "cell_type": "code",
   "execution_count": null,
   "metadata": {
    "collapsed": false
   },
   "outputs": [],
   "source": [
    "compensated_irpp = (\n",
    "                (survey_scenario.simulation.calculate_add(\"irpp_mensuel\", period) == 0) * #Condition\n",
    "                (survey_scenario.simulation.calculate(\"irpp\", period.this_year)/12) # on répartit sur l'année\n",
    "            ) + ~(survey_scenario.simulation.calculate_add(\"irpp_mensuel\", period) == 0) * compensated_irpp #condition opposée\n",
    "compensated_irpp[[4,743]]"
   ]
  },
  {
   "cell_type": "code",
   "execution_count": null,
   "metadata": {
    "collapsed": false
   },
   "outputs": [],
   "source": [
    "df[df.lambda_compensation.isnull()]"
   ]
  },
  {
   "cell_type": "code",
   "execution_count": null,
   "metadata": {
    "collapsed": false
   },
   "outputs": [],
   "source": [
    "survey_scenario.simulation.calculate_add('irpp')"
   ]
  },
  {
   "cell_type": "code",
   "execution_count": null,
   "metadata": {
    "collapsed": false
   },
   "outputs": [],
   "source": [
    "survey_scenario.compute_aggregate('compensated_irpp_mensuel')"
   ]
  },
  {
   "cell_type": "code",
   "execution_count": null,
   "metadata": {
    "collapsed": false
   },
   "outputs": [],
   "source": [
    "lambda_compensation = survey_scenario.simulation.calculate('lambda_compensation')\n",
    "np.all(lambda_compensation != np.nan)\n",
    "lambda_compensation != np.nan\n",
    "hello = lambda_compensation[1]\n",
    "assert np.all(np.isfinite(lambda_compensation))\n"
   ]
  },
  {
   "cell_type": "code",
   "execution_count": null,
   "metadata": {
    "collapsed": false
   },
   "outputs": [],
   "source": [
    "sal_pen_df = survey_scenario.create_data_frame_by_entity_key_plural_with_monthly_basis_selector(['irpp'], ['irpp_mensuel','compensated_irpp_mensuel'])['foyers_fiscaux']\n",
    "\n",
    "sal_pen_df.T"
   ]
  },
  {
   "cell_type": "code",
   "execution_count": null,
   "metadata": {
    "collapsed": false
   },
   "outputs": [],
   "source": [
    "survey_scenario.compute_aggregate('compensated_irpp_mensuel')"
   ]
  },
  {
   "cell_type": "markdown",
   "metadata": {},
   "source": [
    "## Utility annalysis "
   ]
  },
  {
   "cell_type": "code",
   "execution_count": null,
   "metadata": {
    "collapsed": false
   },
   "outputs": [],
   "source": [
    "survey_scenario.compute_aggregate(\"utility_ir_annuel\") #TODO : find why Nan"
   ]
  },
  {
   "cell_type": "code",
   "execution_count": null,
   "metadata": {
    "collapsed": false
   },
   "outputs": [],
   "source": [
    "print pd.Series(survey_scenario.simulation.calculate_add('utility_ir_annuel','2009')).mean()\n",
    "print pd.Series(survey_scenario.simulation.calculate_add('utility_ir_mensuel','2009')).mean()\n",
    "print pd.Series(survey_scenario.simulation.calculate_add('utility_compensated_ir_mensuel','2009')).mean()\n",
    "print pd.Series(survey_scenario.simulation.calculate_add('utility_ir_mensuel_rsa_mensuel','2009')).mean()"
   ]
  },
  {
   "cell_type": "code",
   "execution_count": null,
   "metadata": {
    "collapsed": true
   },
   "outputs": [],
   "source": [
    "u_ir_m_rsa_m = pd.Series(survey_scenario.simulation.calculate_add('utility_ir_mensuel_rsa_mensuel','2009'))\n",
    "u_c_ir = pd.Series(survey_scenario.simulation.calculate_add('utility_compensated_ir_mensuel','2009'))\n",
    "u_ir_m = pd.Series(survey_scenario.simulation.calculate_add('utility_ir_mensuel','2009'))\n",
    "u_ir_a = pd.Series(survey_scenario.simulation.calculate_add('utility_ir_annuel','2009'))\n"
   ]
  },
  {
   "cell_type": "code",
   "execution_count": null,
   "metadata": {
    "collapsed": false
   },
   "outputs": [],
   "source": [
    "print u_ir_m_rsa_m.mean(),1/u_ir_m_rsa_m.mean()\n",
    "print u_c_ir.mean(),1/u_c_ir.mean()\n",
    "print u_ir_m.mean(),1/u_ir_m.mean()\n",
    "print u_ir_a.mean(),1/u_ir_a.mean()"
   ]
  },
  {
   "cell_type": "code",
   "execution_count": null,
   "metadata": {
    "collapsed": false
   },
   "outputs": [],
   "source": [
    "print u_c_ir.describe()\n",
    "print u_ir_m.describe()\n",
    "print u_ir_a.describe()"
   ]
  },
  {
   "cell_type": "code",
   "execution_count": null,
   "metadata": {
    "collapsed": false
   },
   "outputs": [],
   "source": [
    "print 1/u_c_ir.describe()\n",
    "print 1/u_ir_m.describe()\n",
    "print 1/u_ir_a.describe()"
   ]
  },
  {
   "cell_type": "code",
   "execution_count": null,
   "metadata": {
    "collapsed": false
   },
   "outputs": [],
   "source": [
    "((u_ir_m - u_ir_a)).hist(bins = 500, figsize = (25,12))\n",
    "plt.ylim(0,200)"
   ]
  },
  {
   "cell_type": "code",
   "execution_count": null,
   "metadata": {
    "collapsed": false
   },
   "outputs": [],
   "source": [
    "((u_ir_m - u_ir_a)<-0.0000001).value_counts()"
   ]
  },
  {
   "cell_type": "code",
   "execution_count": null,
   "metadata": {
    "collapsed": false
   },
   "outputs": [],
   "source": [
    "((u_c_ir - u_ir_a)).hist(bins = 500, figsize = (25,12))\n",
    "plt.ylim(0,200)"
   ]
  },
  {
   "cell_type": "code",
   "execution_count": null,
   "metadata": {
    "collapsed": false
   },
   "outputs": [],
   "source": [
    "((u_c_ir - u_ir_a)<-0.0000001).value_counts()"
   ]
  },
  {
   "cell_type": "markdown",
   "metadata": {},
   "source": [
    "##### Graphs with weights"
   ]
  },
  {
   "cell_type": "code",
   "execution_count": null,
   "metadata": {
    "collapsed": false
   },
   "outputs": [],
   "source": [
    "((u_ir_m - u_ir_a)).hist(bins = 500, figsize = (25,12), zorder=1, alpha = 0.7, weights = weight_menages,)\n",
    "((u_c_ir - u_ir_a)).hist(bins = 500, figsize = (25,12), weights = weight_menages,zorder=10, alpha = 1)\n",
    "plt.ylim(0,5*10**4)\n",
    "plt.xlabel('utility')\n",
    "plt.ylabel('headcounts')"
   ]
  },
  {
   "cell_type": "code",
   "execution_count": null,
   "metadata": {
    "collapsed": false
   },
   "outputs": [],
   "source": [
    "hist1 = ((u_ir_m - u_ir_a)).hist(bins = 200, figsize = (25,12), weights = weight_menages, zorder=10, color = 'c', alpha = 0.4, label = \"Monthly\")\n",
    "hist2 = ((u_c_ir - u_ir_a)).hist(bins = 200, figsize = (25,12), weights = weight_menages,zorder=1, color = 'k',alpha = 1, label = \"Compensated Monthly\")\n",
    "\n",
    "plt.axvline(x=0, ymax = 10**6, linewidth=4, color = 'r', alpha = 1, linestyle='dashed')\n",
    "plt.ylim(0,20*10**4)\n",
    "plt.xlim(-0.0005, 0.0005)\n",
    "plt.legend()\n",
    "plt.title(\"Difference in utility w.r.t annual basis\", size = 15)\n",
    "plt.xlabel('utility')\n",
    "plt.ylabel('headcounts')"
   ]
  },
  {
   "cell_type": "code",
   "execution_count": null,
   "metadata": {
    "collapsed": false
   },
   "outputs": [],
   "source": [
    "hist1 = ((u_ir_m - u_ir_a)).hist(bins = 3000, figsize = (25,12), weights = weight_menages, zorder=10, color = 'c', alpha = 0.4, label = \"Monthly\")\n",
    "hist2 = ((u_c_ir - u_ir_a)).hist(bins = 3000, figsize = (25,12), weights = weight_menages,zorder=1, color = 'k',alpha = 1, label = \"Compensated Monthly\")\n",
    "\n",
    "plt.axvline(x=0, ymax = 10**6, linewidth=4, color = 'r', alpha = 1, linestyle='dashed')\n",
    "#plt.ylim(0,70*10**5)\n",
    "plt.xlim(-0.00002, 0.00002)\n",
    "plt.legend()\n",
    "plt.title(\"Difference in utility w.r.t annual basis\", size = 15)\n",
    "plt.xlabel('utility')\n",
    "plt.ylabel('headcounts')"
   ]
  },
  {
   "cell_type": "code",
   "execution_count": null,
   "metadata": {
    "collapsed": true
   },
   "outputs": [],
   "source": [
    "weight_menages = pd.Series(weight_menages)"
   ]
  },
  {
   "cell_type": "code",
   "execution_count": null,
   "metadata": {
    "collapsed": false
   },
   "outputs": [],
   "source": [
    "execute_time_consuming_graph = True\n",
    "if execute_time_consuming_graph == True : \n",
    "\n",
    "    hist1 = ((u_ir_m - u_ir_a))[((u_ir_m - u_ir_a))!=0].hist(bins = 7000, figsize = (25,12), weights = pd.Series(weight_menages)[((u_ir_m - u_ir_a))!=0].values, zorder=10, color = 'c', alpha = 0.4, label = \"Monthly\")\n",
    "    hist2 = ((u_c_ir - u_ir_a))[((u_c_ir - u_ir_a))!=0].hist(bins = 7000, figsize = (25,12), weights = pd.Series(weight_menages)[((u_c_ir - u_ir_a))!=0].values,zorder=1, color = 'k',alpha = 1, label = \"Compensated Monthly\")\n",
    "\n",
    "    plt.axvline(x=0, ymax = 10**6, linewidth=4, color = 'r', alpha = 1, linestyle='dashed')\n",
    "    plt.ylim(0,35*10**4)\n",
    "    plt.xlim(-0.00002, 0.00002)\n",
    "    plt.legend()\n",
    "    plt.title(\"Difference in utility w.r.t annual basis \\n no variation in utility taken out\", size = 15)\n",
    "    plt.xlabel('utility', size = 15)\n",
    "    plt.ylabel('headcounts', size = 15)"
   ]
  },
  {
   "cell_type": "code",
   "execution_count": null,
   "metadata": {
    "collapsed": false
   },
   "outputs": [],
   "source": [
    "outliers = pd.Series(np.abs(((u_ir_m - u_ir_a))[((u_ir_m - u_ir_a))!=0])>0.00002).value_counts(normalize = True); outliers"
   ]
  },
  {
   "cell_type": "code",
   "execution_count": null,
   "metadata": {
    "collapsed": false
   },
   "outputs": [],
   "source": [
    "\"This graph represent {}% of the tax-unit with varying utility, {}% of that sample are over 0.0002 utility points variation\".format(outliers[0], outliers[1])"
   ]
  },
  {
   "cell_type": "code",
   "execution_count": null,
   "metadata": {
    "collapsed": false
   },
   "outputs": [],
   "source": [
    "pd.Series(weight_menages).shape"
   ]
  },
  {
   "cell_type": "code",
   "execution_count": null,
   "metadata": {
    "collapsed": true
   },
   "outputs": [],
   "source": [
    "decote = survey_scenario.simulation.calculate('decote_menage')\n",
    "decote_mensuel = survey_scenario.simulation.calculate_add('decote_mensuel_menage')"
   ]
  },
  {
   "cell_type": "code",
   "execution_count": null,
   "metadata": {
    "collapsed": false
   },
   "outputs": [],
   "source": [
    "(pd.Series(survey_scenario.simulation.calculate_add('revdisp_mensuel_annuel'))[((u_c_ir - u_ir_a)<0)]).hist(bins = 100)"
   ]
  },
  {
   "cell_type": "code",
   "execution_count": null,
   "metadata": {
    "collapsed": false
   },
   "outputs": [],
   "source": [
    "pay_irpp = (simulation.calculate('irpp') > 0)\n",
    "print pay_irpp.shape\n",
    "pd.value_counts(cast_array_from_entity_to_role(pay_irpp, 'foyer_fiscal', roles = [0]))"
   ]
  },
  {
   "cell_type": "code",
   "execution_count": null,
   "metadata": {
    "collapsed": false
   },
   "outputs": [],
   "source": [
    "decote_mensuel = simulation.calculate_add(\"decote_gain_fiscal_mensuel_times_12\")/12\n",
    "decote = simulation.calculate_add(\"decote_gain_fiscal\")\n",
    "\n",
    "\n",
    "has_decote_difference = (np.abs(decote -decote_mensuel)>0.1).astype(int)\n",
    "has_decote_difference = cast_array_from_entity_to_role(has_decote_difference, 'foyer_fiscal', roles = [0])\n",
    "\n",
    "nb_decote_diff_menage = sum_array_by_entity(has_decote_difference, 'menage')\n",
    "\n",
    "print pd.value_counts(nb_decote_diff_menage)\n",
    "\n",
    "\n",
    "utility_loss = (u_c_ir - u_ir_a)<-0.00000001\n",
    "pd.value_counts(nb_decote_diff_menage[utility_loss])\n",
    "\n",
    "#utility_loss = condition((u_c_ir - u_ir_a)<-0.00000001)\n",
    "#utility_loss = cast_array_from_entity_to_role(utility_loss, roles = [0])\n"
   ]
  },
  {
   "cell_type": "code",
   "execution_count": null,
   "metadata": {
    "collapsed": false
   },
   "outputs": [],
   "source": [
    "revdisp_loss = (simulation.calculate_add('revdisp_mensuel_compensated_ir_mensuel') - simulation.calculate_add('revdisp_mensuel_annuel')) < -1\n",
    "#no_decote_or_payment_threshold_concern =  \n",
    "good_rev_trav = switch_entity('rfr', 'menage')/switch_entity('nbptr', 'menage') > 20000\n",
    "pd.value_counts(pd.Series(revdisp_loss)[good_rev_trav])"
   ]
  },
  {
   "cell_type": "code",
   "execution_count": null,
   "metadata": {
    "collapsed": false
   },
   "outputs": [],
   "source": [
    "dico = {} #bizare, qu'est-ce qu'il se passe exactement ?\n",
    "a = 7\n",
    "for month in range(1,13):\n",
    "    dico[month] = zip(pd.Series(simulation.calculate(\"revdisp_mensuel_compensated_ir_mensuel\", period = \"2009-{}\".format(month)))[good_rev_trav&revdisp_loss][a:a+1], \n",
    "                      pd.Series(simulation.calculate_add('revdisp_mensuel_compensated_ir_mensuel') - simulation.calculate_add('revdisp_mensuel_annuel'))[good_rev_trav&revdisp_loss][a:a+1],\n",
    "                      pd.Series(switch_entity('irpp', 'famille'))[good_rev_trav&revdisp_loss][a:a+1],\n",
    "                      \n",
    "                     \n",
    "                     )"
   ]
  },
  {
   "cell_type": "code",
   "execution_count": null,
   "metadata": {
    "collapsed": false
   },
   "outputs": [],
   "source": [
    "dico"
   ]
  },
  {
   "cell_type": "code",
   "execution_count": null,
   "metadata": {
    "collapsed": false
   },
   "outputs": [],
   "source": []
  },
  {
   "cell_type": "code",
   "execution_count": null,
   "metadata": {
    "collapsed": false
   },
   "outputs": [],
   "source": [
    "good_rev_trav.shape"
   ]
  },
  {
   "cell_type": "code",
   "execution_count": null,
   "metadata": {
    "collapsed": false
   },
   "outputs": [],
   "source": [
    "pd.Series(nb_decote_diff_menage.astype('bool'))[utility_loss == True].value_counts(normalize = True) #Parmis les ménages ayant eu une perte d'utilité 56% ont eu une différence de décote."
   ]
  },
  {
   "cell_type": "code",
   "execution_count": null,
   "metadata": {
    "collapsed": false
   },
   "outputs": [],
   "source": [
    "pd.Series(nb_decote_diff_menage.astype('bool'))[utility_loss == True].value_counts(normalize = True) #Parmis les ménages ayant eu une perte d'utilité 56% ont eu une différence de décote."
   ]
  },
  {
   "cell_type": "code",
   "execution_count": null,
   "metadata": {
    "collapsed": false
   },
   "outputs": [],
   "source": [
    "(nb_decote_diff_menage.astype('bool')*weight_menages.values).sum()/weight_menages.sum()"
   ]
  },
  {
   "cell_type": "code",
   "execution_count": null,
   "metadata": {
    "collapsed": true
   },
   "outputs": [],
   "source": []
  },
  {
   "cell_type": "code",
   "execution_count": null,
   "metadata": {
    "collapsed": false
   },
   "outputs": [],
   "source": [
    "nb_decote_diff_menage"
   ]
  },
  {
   "cell_type": "code",
   "execution_count": null,
   "metadata": {
    "collapsed": false
   },
   "outputs": [],
   "source": [
    "pd.Series(utility_loss)[nb_decote_diff_menage.astype('bool')].value_counts(normalize = True) #Parmis les ménages ayant eu une différence de décote 5% ont eu une perte d'utilité"
   ]
  },
  {
   "cell_type": "code",
   "execution_count": null,
   "metadata": {
    "collapsed": false
   },
   "outputs": [],
   "source": [
    "pd.Series(nb_decote_diff_menage.astype('bool'))[utility_loss == True].value_counts()"
   ]
  },
  {
   "cell_type": "code",
   "execution_count": null,
   "metadata": {
    "collapsed": false
   },
   "outputs": [],
   "source": [
    "u_c_ir.shape"
   ]
  },
  {
   "cell_type": "code",
   "execution_count": null,
   "metadata": {
    "collapsed": false
   },
   "outputs": [],
   "source": [
    "pd.value_counts(sum_array_by_entity(has_decote_difference, 'menage'))"
   ]
  },
  {
   "cell_type": "code",
   "execution_count": null,
   "metadata": {
    "collapsed": false
   },
   "outputs": [],
   "source": [
    "diff_decote_f = switch_array_entity(decote -decote_mensuel,\"foyer_fiscal\", \"menage\")"
   ]
  },
  {
   "cell_type": "code",
   "execution_count": null,
   "metadata": {
    "collapsed": false
   },
   "outputs": [],
   "source": [
    "ax = ((pd.Series(np.abs(diff_decote_f)>0.1)[((u_c_ir - u_ir_a)<-0.00000001)]).value_counts( normalize = True)*100).plot(kind = \"bar\",)\n",
    "plt.ylim((0,100))\n",
    "\n",
    "labels = [\"{}%\".format(np.round(i,2)) for i in ((pd.Series(np.abs(diff_decote_f)>0.1)[((u_c_ir - u_ir_a)<-0.0000001)]).value_counts( normalize = True)*100) ] #0.000001 pour éviter les erreurs d'arrondis.\n",
    "rects = ax.patches\n",
    "\n",
    "for rect, label in zip(rects, labels):\n",
    "    height = rect.get_height()\n",
    "    ax.text(rect.get_x() + rect.get_width()/2, height + 5, label, ha='center', va='bottom')"
   ]
  },
  {
   "cell_type": "code",
   "execution_count": null,
   "metadata": {
    "collapsed": false
   },
   "outputs": [],
   "source": [
    "survey_scenario.simulation.persons.count"
   ]
  },
  {
   "cell_type": "code",
   "execution_count": null,
   "metadata": {
    "collapsed": false
   },
   "outputs": [],
   "source": [
    "weight_menages.shape"
   ]
  },
  {
   "cell_type": "code",
   "execution_count": null,
   "metadata": {
    "collapsed": false
   },
   "outputs": [],
   "source": [
    "is_decote_different = pd.Series(np.abs(diff_decote_f)>0.1)[((u_c_ir - u_ir_a)<-0.00000001)]"
   ]
  },
  {
   "cell_type": "code",
   "execution_count": null,
   "metadata": {
    "collapsed": false
   },
   "outputs": [],
   "source": [
    "#TODO for famille and check if it coorrespond to the 46.43%\n",
    "below_collection_thrshld = np.zeros(weight_foyers.shape[0], dtype=bool)\n",
    "for month in range(1,13):\n",
    "    irpp_mensuel = pd.Series(survey_scenario.simulation.calculate(\"irpp_mensuel\", '2009-{}'.format(month)))\n",
    "    below_collection_thrshld += (irpp_mensuel>1) & (irpp_mensuel<5.16)\n",
    "    "
   ]
  },
  {
   "cell_type": "code",
   "execution_count": null,
   "metadata": {
    "collapsed": false
   },
   "outputs": [],
   "source": [
    "pd.Series(below_collection_thrshld).value_counts()"
   ]
  },
  {
   "cell_type": "code",
   "execution_count": null,
   "metadata": {
    "collapsed": false
   },
   "outputs": [],
   "source": [
    "np.array([True, False])+np.array([True, True])"
   ]
  },
  {
   "cell_type": "code",
   "execution_count": null,
   "metadata": {
    "collapsed": false
   },
   "outputs": [],
   "source": [
    "#Qui sont les gagnants ? :\n"
   ]
  },
  {
   "cell_type": "code",
   "execution_count": null,
   "metadata": {
    "collapsed": false
   },
   "outputs": [],
   "source": [
    "is_decote_different[is_decote_different==False]"
   ]
  },
  {
   "cell_type": "code",
   "execution_count": null,
   "metadata": {
    "collapsed": false
   },
   "outputs": [],
   "source": [
    "pd.Series(np.abs(decote -decote_mensuel)>0.1)[((u_c_ir - u_ir_a)<0.000001)].value_counts(normalize = True)"
   ]
  },
  {
   "cell_type": "code",
   "execution_count": null,
   "metadata": {
    "collapsed": false
   },
   "outputs": [],
   "source": [
    "(pd.Series(decote!= decote_mensuel)[((u_c_ir - u_ir_a)<0)]).hist(bins = 100)"
   ]
  },
  {
   "cell_type": "code",
   "execution_count": null,
   "metadata": {
    "collapsed": false
   },
   "outputs": [],
   "source": [
    "revdisp[(u_c_ir>=u_ir_a)]"
   ]
  },
  {
   "cell_type": "code",
   "execution_count": null,
   "metadata": {
    "collapsed": false
   },
   "outputs": [],
   "source": [
    "print u_c_ir[(decote_annual==0) & (decote_monthly==0)].mean()\n",
    "print u_ir_m[(decote_annual==0) & (decote_monthly==0)].mean()\n",
    "print u_ir_a[(decote_annual==0) & (decote_monthly==0)].mean()"
   ]
  },
  {
   "cell_type": "markdown",
   "metadata": {},
   "source": [
    "## Qui sont les gagnants ?"
   ]
  },
  {
   "cell_type": "code",
   "execution_count": null,
   "metadata": {
    "collapsed": false
   },
   "outputs": [],
   "source": [
    "print pd.value_counts((survey_scenario.simulation.calculate_add(\"revdisp_mensuel_annuel\")-survey_scenario.simulation.calculate_add(\"revdisp_mensuel_ir_mensuel\"))>1)\n",
    "print pd.value_counts((survey_scenario.simulation.calculate_add(\"revdisp_mensuel_annuel\")-survey_scenario.simulation.calculate_add(\"revdisp_mensuel_ir_mensuel\"))<-1)"
   ]
  },
  {
   "cell_type": "code",
   "execution_count": null,
   "metadata": {
    "collapsed": false
   },
   "outputs": [],
   "source": [
    "print pd.Series(((survey_scenario.simulation.calculate_add(\"revdisp_mensuel_annuel\")-survey_scenario.simulation.calculate_add(\"revdisp_mensuel_ir_mensuel\"))>1)\n",
    "                     *weight_menages).sum()\n",
    "print pd.Series(((survey_scenario.simulation.calculate_add(\"revdisp_mensuel_annuel\")-survey_scenario.simulation.calculate_add(\"revdisp_mensuel_ir_mensuel\"))<-1)\n",
    "                      *weight_menages).sum()"
   ]
  },
  {
   "cell_type": "code",
   "execution_count": null,
   "metadata": {
    "collapsed": false
   },
   "outputs": [],
   "source": [
    "np.mean(\n",
    "    (survey_scenario.simulation.calculate(\"rbg\")/survey_scenario.simulation.calculate(\"nbptr\"))\\\n",
    "    [survey_scenario.simulation.calculate_add(\"irpp\")-survey_scenario.simulation.calculate_add(\"irpp_mensuel\")>1]\n",
    "    )"
   ]
  },
  {
   "cell_type": "code",
   "execution_count": null,
   "metadata": {
    "collapsed": false
   },
   "outputs": [],
   "source": [
    "plt.figure(figsize=(15,10))\n",
    "plt.hist(    (survey_scenario.simulation.calculate(\"rbg\")/survey_scenario.simulation.calculate(\"nbptr\"))\\\n",
    "    [survey_scenario.simulation.calculate_add(\"irpp\")-survey_scenario.simulation.calculate_add(\"irpp_mensuel\")>1], bins = 200, label = \"Paying less on monthly basis\")\n",
    "plt.hist(    (survey_scenario.simulation.calculate(\"rbg\")/survey_scenario.simulation.calculate(\"nbptr\"))\\\n",
    "    [survey_scenario.simulation.calculate_add(\"irpp\")-survey_scenario.simulation.calculate_add(\"irpp_mensuel\")<-1], bins = 65, color= 'r', label = \"Paying more on monthly basis\")\n",
    "plt.xlim(0,50000)\n",
    "plt.title(\"paying more or less\")"
   ]
  },
  {
   "cell_type": "code",
   "execution_count": null,
   "metadata": {
    "collapsed": true
   },
   "outputs": [],
   "source": []
  },
  {
   "cell_type": "markdown",
   "metadata": {},
   "source": [
    "###### Weighted"
   ]
  },
  {
   "cell_type": "code",
   "execution_count": null,
   "metadata": {
    "collapsed": false
   },
   "outputs": [],
   "source": [
    "from openfisca_utils import make_ready_to_use_simulation\n",
    "from openfisca_core import rates\n",
    "simulation = make_ready_to_use_simulation.make_ready_to_use_simulation(2009,False)\n",
    "rbg_test_case = simulation.calculate('rbg')\n",
    "irpp_test_case = simulation.calculate('irpp')\n",
    "marginal_rate = rates.marginal_rate(irpp_test_case, rbg_test_case)-1\n",
    "to_change = pd.Series(marginal_rate)[marginal_rate>1].index\n",
    "#to_change = pd.Series(rates.marginal_rate(irpp_test_case, rbg_test_case)-1)[rates.marginal_rate(irpp_test_case, rbg_test_case)-1>1].index\n",
    "marginal_rate[to_change] = marginal_rate[to_change+1]\n",
    "plt.plot(marginal_rate)"
   ]
  },
  {
   "cell_type": "code",
   "execution_count": null,
   "metadata": {
    "collapsed": false
   },
   "outputs": [],
   "source": [
    "to_change = pd.Series(rates.marginal_rate(irpp_test_case, rbg_test_case)-1)[rates.marginal_rate(irpp_test_case, rbg_test_case)-1>1].index\n"
   ]
  },
  {
   "cell_type": "code",
   "execution_count": null,
   "metadata": {
    "collapsed": false
   },
   "outputs": [],
   "source": [
    "pd.Series(marginal_rate)[marginal_rate>1]"
   ]
  },
  {
   "cell_type": "code",
   "execution_count": null,
   "metadata": {
    "collapsed": false
   },
   "outputs": [],
   "source": [
    "np.mean(survey_scenario.simulation.calculate(\"rbg\"))"
   ]
  },
  {
   "cell_type": "code",
   "execution_count": null,
   "metadata": {
    "collapsed": false
   },
   "outputs": [],
   "source": []
  },
  {
   "cell_type": "code",
   "execution_count": null,
   "metadata": {
    "collapsed": false
   },
   "outputs": [],
   "source": [
    "np.array([True,True,False]) *np.array([2,3,4])"
   ]
  },
  {
   "cell_type": "code",
   "execution_count": null,
   "metadata": {
    "collapsed": false
   },
   "outputs": [],
   "source": [
    "pd.value_counts((survey_scenario.simulation.calculate_add(\"revdisp_mensuel_annuel\") - survey_scenario.simulation.calculate_add(\"revdisp_mensuel_compensated_ir_mensuel\")>1))"
   ]
  },
  {
   "cell_type": "code",
   "execution_count": null,
   "metadata": {
    "collapsed": true
   },
   "outputs": [],
   "source": []
  },
  {
   "cell_type": "code",
   "execution_count": null,
   "metadata": {
    "collapsed": false,
    "scrolled": false
   },
   "outputs": [],
   "source": [
    "\n",
    "\n",
    "weights1 = weight_foyers[survey_scenario.simulation.calculate_add(\"irpp\")-survey_scenario.simulation.calculate_add(\"irpp_mensuel\")>1]\n",
    "weights2 = weight_foyers[survey_scenario.simulation.calculate_add(\"irpp\")-survey_scenario.simulation.calculate_add(\"irpp_mensuel\")<-1]\n",
    "\n",
    "fig, ax1 = plt.subplots(figsize=(20, 10))\n",
    "\n",
    "\n",
    "ax1.hist(    (survey_scenario.simulation.calculate(\"rbg\")/survey_scenario.simulation.calculate(\"nbptr\"))\\\n",
    "    [(survey_scenario.simulation.calculate_add(\"irpp\")-survey_scenario.simulation.calculate_add(\"irpp_mensuel\"))>1], bins = 400, label = \"Paying more on monthly basis\", weights= weights1)\n",
    "ax1.hist(    (survey_scenario.simulation.calculate(\"rbg\")/survey_scenario.simulation.calculate(\"nbptr\"))\\\n",
    "    [(survey_scenario.simulation.calculate_add(\"irpp\")-survey_scenario.simulation.calculate_add(\"irpp_mensuel\"))<-1], bins = 130, color= 'r', label = \"Paying less on monthly basis\",weights= weights2)\n",
    "\n",
    "\n",
    "ax1.set_xlim(0,50000)\n",
    "ax2 = plt.twinx()\n",
    "ax2.plot(rbg_test_case[1:],marginal_rate, 'k', label = \"marginal tax rate\")\n",
    "ax2.set_xlim(0,50000)\n",
    "ax2.legend()\n",
    "ax1.legend(bbox_to_anchor=(0.22, 1))\n",
    "ax1.grid(which = 'both')\n",
    "ax1.text(11000,500000, u\"minimum wage\", weight = 'bold',)\n",
    "ax2.set_ylabel(\"marginal tax rate\")\n",
    "ax1.set_xlabel(\"Gross global income divided by fiscal shares\")\n",
    "ax1.set_ylabel(\"number of taxunit\")\n",
    "#plt.title(\"\")\n"
   ]
  },
  {
   "cell_type": "code",
   "execution_count": null,
   "metadata": {
    "collapsed": false
   },
   "outputs": [],
   "source": [
    "-(100 -  110)"
   ]
  },
  {
   "cell_type": "code",
   "execution_count": null,
   "metadata": {
    "collapsed": false
   },
   "outputs": [],
   "source": [
    "survey_scenario.simulation.calculate_add(\"irpp_mensuel\").mean()"
   ]
  },
  {
   "cell_type": "markdown",
   "metadata": {
    "collapsed": true
   },
   "source": [
    "### Gains monetaires"
   ]
  },
  {
   "cell_type": "markdown",
   "metadata": {},
   "source": [
    "#### Same annalysis with benefits"
   ]
  },
  {
   "cell_type": "code",
   "execution_count": null,
   "metadata": {
    "collapsed": false
   },
   "outputs": [],
   "source": [
    "survey_scenario.compute_aggregate(\"rsa_socle_majore_mensualise\")"
   ]
  },
  {
   "cell_type": "code",
   "execution_count": null,
   "metadata": {
    "collapsed": false
   },
   "outputs": [],
   "source": [
    "survey_scenario.compute_aggregate(\"rsa_non_majore\")"
   ]
  },
  {
   "cell_type": "code",
   "execution_count": null,
   "metadata": {
    "collapsed": false
   },
   "outputs": [],
   "source": [
    "pd.Series(survey_scenario.simulation.calculate(\"rsa_eligibilite_tns\", \"2009-01\")).value_counts()"
   ]
  },
  {
   "cell_type": "code",
   "execution_count": null,
   "metadata": {
    "collapsed": true
   },
   "outputs": [],
   "source": []
  },
  {
   "cell_type": "code",
   "execution_count": null,
   "metadata": {
    "collapsed": true
   },
   "outputs": [],
   "source": []
  },
  {
   "cell_type": "markdown",
   "metadata": {},
   "source": [
    "# Utilitarian monetary gains"
   ]
  },
  {
   "cell_type": "code",
   "execution_count": null,
   "metadata": {
    "collapsed": true
   },
   "outputs": [],
   "source": []
  },
  {
   "cell_type": "code",
   "execution_count": null,
   "metadata": {
    "collapsed": false
   },
   "outputs": [],
   "source": [
    "monetary_gain_ir = np.zeros(weight_menages.shape[0])\n",
    "for month in range(1,10):\n",
    "    monetary_gain_ir += (\n",
    "    survey_scenario.simulation.calculate(\"inverted_utility_compensated_ir_mensuel\", \"2009\") - \n",
    "    survey_scenario.simulation.calculate(\"inverted_utility_ir_annuel\", \"2009\")\n",
    "    )*weight_menages"
   ]
  },
  {
   "cell_type": "code",
   "execution_count": null,
   "metadata": {
    "collapsed": false
   },
   "outputs": [],
   "source": [
    "((monetary_gain_ir.sum(0)/10)*12)/10**9"
   ]
  },
  {
   "cell_type": "markdown",
   "metadata": {},
   "source": [
    "Gains moyens par ménages."
   ]
  },
  {
   "cell_type": "code",
   "execution_count": null,
   "metadata": {
    "collapsed": false
   },
   "outputs": [],
   "source": [
    "monetary_gain_ir = pd.Series(monetary_gain_ir)\n",
    "monetary_gains_ir_0 = monetary_gain_ir[monetary_gain_ir != 0]\n",
    "monetary_gains_ir_0.hist(bins = 500, weights = (pd.Series(weight_menages)[monetary_gain_ir != 0]).values)\n",
    "plt.xlim(-10000,10000)"
   ]
  },
  {
   "cell_type": "code",
   "execution_count": null,
   "metadata": {
    "collapsed": false
   },
   "outputs": [],
   "source": [
    "print pd.Series(monetary_gain_ir<-10).value_counts()\n",
    "print pd.Series(monetary_gain_ir>10).value_counts()\n",
    "pd.Series(monetary_gain_ir)[monetary_gain_ir>10].shape"
   ]
  },
  {
   "cell_type": "code",
   "execution_count": null,
   "metadata": {
    "collapsed": false
   },
   "outputs": [],
   "source": [
    "month = 7\n",
    "gain = pd.Series(survey_scenario.simulation.calculate(\"inverted_utility_compensated_ir_mensuel\", \"2009\") - \n",
    "    survey_scenario.simulation.calculate(\"inverted_utility_ir_annuel\", \"2009\")\n",
    "    )\n",
    "gain[np.abs(gain)>1].mean()\n"
   ]
  },
  {
   "cell_type": "code",
   "execution_count": null,
   "metadata": {
    "collapsed": false
   },
   "outputs": [],
   "source": [
    " diff_in_income = pd.Series(\n",
    "    np.abs(survey_scenario.simulation.calculate(\"revdisp_mensuel_annuel\", \"2009-{}\".format(month))\n",
    "          - survey_scenario.simulation.calculate(\"revdisp_mensuel_compensated_ir_mensuel\", \"2009-{}\".format(month)))>1\n",
    "    )"
   ]
  },
  {
   "cell_type": "code",
   "execution_count": null,
   "metadata": {
    "collapsed": true
   },
   "outputs": [],
   "source": []
  },
  {
   "cell_type": "code",
   "execution_count": null,
   "metadata": {
    "collapsed": false
   },
   "outputs": [],
   "source": [
    "weight_menages.sum(0)"
   ]
  },
  {
   "cell_type": "code",
   "execution_count": null,
   "metadata": {
    "collapsed": true
   },
   "outputs": [],
   "source": []
  },
  {
   "cell_type": "code",
   "execution_count": null,
   "metadata": {
    "collapsed": false
   },
   "outputs": [],
   "source": [
    "#monetary_gain.sum(0)/10**9"
   ]
  },
  {
   "cell_type": "markdown",
   "metadata": {},
   "source": [
    "#### Non compensated"
   ]
  },
  {
   "cell_type": "code",
   "execution_count": null,
   "metadata": {
    "collapsed": false,
    "scrolled": true
   },
   "outputs": [],
   "source": [
    "for month in range(1,13):\n",
    "    gain_u = (pd.Series(\n",
    "     survey_scenario.simulation.calculate(\"utility_ir_mensuel\", \"2009\") - \n",
    "survey_scenario.simulation.calculate(\"utility_ir_annuel\", \"2009\")\n",
    "        ))\n",
    "    gain_m =  (\n",
    "        survey_scenario.simulation.calculate(\"inverted_utility_compensated_ir_mensuel\", \"2009\") - \n",
    "        survey_scenario.simulation.calculate(\"inverted_utility_ir_annuel\", \"2009\"))\n",
    "    pd.DataFrame({'gain_utilite':gain_u, 'gain_argent':gain_m})\n",
    "    plt.figure()\n",
    "    pd.Series(gain_m)[gain_m!=0].hist(bins = 1500)\n",
    "    plt.xlim(-200,200)\n",
    "    plt.xlabel(\"equivalent monetary gains in euros \")\n",
    "    plt.ylabel('frequency')"
   ]
  },
  {
   "cell_type": "code",
   "execution_count": null,
   "metadata": {
    "collapsed": false
   },
   "outputs": [],
   "source": [
    "u_monetary_gain_ir = np.zeros(weight_menages.shape[0])\n",
    "for month in range(1,10):\n",
    "    u_monetary_gain_ir += (\n",
    "    survey_scenario.simulation.calculate(\"inverted_utility_ir_mensuel\", \"2009\") - \n",
    "    survey_scenario.simulation.calculate(\"inverted_utility_ir_annuel\", \"2009\")\n",
    "    )*weight_menages"
   ]
  },
  {
   "cell_type": "code",
   "execution_count": null,
   "metadata": {
    "collapsed": false
   },
   "outputs": [],
   "source": [
    "((u_monetary_gain_ir.sum(0)/10)*12)/10**9"
   ]
  },
  {
   "cell_type": "code",
   "execution_count": null,
   "metadata": {
    "collapsed": false
   },
   "outputs": [],
   "source": [
    "u_monetary_gain_ir = np.zeros(weight_menages.shape[0])\n",
    "for month in range(1,10):\n",
    "    u_monetary_gain_ir += np.mean(\n",
    "    (survey_scenario.simulation.calculate(\"inverted_utility_ir_mensuel\", \"2009\") - \n",
    "    survey_scenario.simulation.calculate(\"inverted_utility_ir_annuel\", \"2009\"))*weight_menages\n",
    "    )"
   ]
  },
  {
   "cell_type": "code",
   "execution_count": null,
   "metadata": {
    "collapsed": false
   },
   "outputs": [],
   "source": [
    "((u_monetary_gain_ir.sum(0)/10)*12)/10**9"
   ]
  },
  {
   "cell_type": "code",
   "execution_count": null,
   "metadata": {
    "collapsed": false
   },
   "outputs": [],
   "source": [
    "u_monetary_gain_ir = np.zeros(weight_menages.shape[0])\n",
    "for month in range(1,12):\n",
    "    u_monetary_gain_ir += (\n",
    "    survey_scenario.simulation.calculate(\"inverted_utility_ir_mensuel\", \"2009\") - \n",
    "    survey_scenario.simulation.calculate(\"inverted_utility_ir_annuel\", \"2009\")\n",
    "    )*weight_menages"
   ]
  },
  {
   "cell_type": "code",
   "execution_count": null,
   "metadata": {
    "collapsed": false
   },
   "outputs": [],
   "source": [
    "(u_monetary_gain_ir.sum(0))/10**9"
   ]
  },
  {
   "cell_type": "code",
   "execution_count": null,
   "metadata": {
    "collapsed": false
   },
   "outputs": [],
   "source": [
    "month = 6\n",
    "gain = pd.Series(survey_scenario.simulation.calculate(\"inverted_utility_ir_mensuel\", \"2009\") - \n",
    "    survey_scenario.simulation.calculate(\"inverted_utility_ir_annuel\", \"2009\")\n",
    "    )\n",
    "mean_gain = gain[np.abs(gain)>1].mean()\n",
    "print('{} gain on average'.format(mean_gain))"
   ]
  },
  {
   "cell_type": "code",
   "execution_count": null,
   "metadata": {
    "collapsed": false
   },
   "outputs": [],
   "source": [
    "u_monetary_gain = np.zeros(weight_menages.shape[0])\n",
    "for month in range(1,10):\n",
    "    u_monetary_gain +=np.mean(\n",
    "        pd.Series(survey_scenario.simulation.calculate(\"inverted_utility_compensated_ir_mensuel\", \"2009\") - \n",
    "        survey_scenario.simulation.calculate(\"inverted_utility_ir_annuel\", \"2009\"))\n",
    "               )\n",
    "(((u_monetary_gain_ir/10)*12)/10**9).mean()  "
   ]
  },
  {
   "cell_type": "markdown",
   "metadata": {},
   "source": [
    "#### mean monetary equivalent utility gain for each month"
   ]
  },
  {
   "cell_type": "code",
   "execution_count": null,
   "metadata": {
    "collapsed": false
   },
   "outputs": [],
   "source": [
    "u_money_gain = np.zeros(weight_menages.shape[0])\n",
    "mean_gain = np.zeros(1)\n",
    "for month in range(1,13):\n",
    "    u_money_gain = pd.Series(survey_scenario.simulation.calculate(\"inverted_utility_ir_mensuel\", \"2009\") - \n",
    "        survey_scenario.simulation.calculate(\"inverted_utility_ir_annuel\", \"2009\")\n",
    "        )\n",
    "    mean_gain += (u_money_gain[np.abs(u_money_gain)>1]).mean()\n",
    "print('{} gain on average'.format(mean_gain[0]))"
   ]
  },
  {
   "cell_type": "markdown",
   "metadata": {},
   "source": [
    "#### mean monetary equivalent utility gain over the year"
   ]
  },
  {
   "cell_type": "code",
   "execution_count": null,
   "metadata": {
    "collapsed": false
   },
   "outputs": [],
   "source": [
    "u_annuelle = pd.Series(np.zeros(weight_menages.shape[0]))\n",
    "u_mensuelle = pd.Series(np.zeros(weight_menages.shape[0]))\n",
    "mean_gain = np.zeros(1)\n",
    "for month in range(1,13):\n",
    "    u_annuelle += pd.Series(\n",
    "        survey_scenario.simulation.calculate(\"utility_ir_annuel\", \"2009-{}\".format(month))\n",
    "        )\n",
    "    u_mensuelle += pd.Series(survey_scenario.simulation.calculate(\"utility_ir_mensuel\", \"2009-{}\".format(month)) \n",
    "        )\n",
    "eq_money_u_annuelle = np.exp((np.log(-u_annuelle))/-.87)\n",
    "eq_money_u_mensuelle = np.exp((np.log(-u_mensuelle))/-.87)\n",
    "impact_filter = (u_annuelle != u_mensuelle)\n",
    "\n",
    "print('{} gain on average'.format(eq_money_u_mensuelle.mean() - eq_money_u_annuelle.mean()))\n",
    "print('{} gain on average for concerned taxunits'.format(eq_money_u_mensuelle[impact_filter].mean() - eq_money_u_annuelle[impact_filter].mean()))"
   ]
  },
  {
   "cell_type": "markdown",
   "metadata": {},
   "source": [
    "#### Compensated"
   ]
  },
  {
   "cell_type": "code",
   "execution_count": null,
   "metadata": {
    "collapsed": false,
    "scrolled": true
   },
   "outputs": [],
   "source": [
    "for month in range(1,13):\n",
    "    gain_u = (pd.Series(\n",
    "     survey_scenario.simulation.calculate(\"utility_compensated_ir_mensuel\", \"2009\") - \n",
    "survey_scenario.simulation.calculate(\"utility_ir_annuel\", \"2009\")\n",
    "        ))\n",
    "    gain_m =  (\n",
    "        survey_scenario.simulation.calculate(\"inverted_utility_compensated_ir_mensuel\", \"2009\") - \n",
    "        survey_scenario.simulation.calculate(\"inverted_utility_ir_annuel\", \"2009\"))\n",
    "    pd.DataFrame({'gain_utilite':gain_u, 'gain_argent':gain_m})\n",
    "    plt.figure()\n",
    "    pd.Series(gain_m)[gain_m!=0].hist(bins = 1500)\n",
    "    plt.xlim(-200,200)\n",
    "    plt.xlabel(\"equivalent monetary gains in euros \")\n",
    "    plt.ylabel('frequency')\n",
    "#TODO: problème sur les 3 derniers mois !"
   ]
  },
  {
   "cell_type": "code",
   "execution_count": null,
   "metadata": {
    "collapsed": false
   },
   "outputs": [],
   "source": [
    "u_monetary_gain_ir = np.zeros(weight_menages.shape[0])\n",
    "for month in range(1,10):\n",
    "    u_monetary_gain_ir += (\n",
    "    survey_scenario.simulation.calculate(\"utility_compensated_ir_mensuel\", \"2009\") - \n",
    "    survey_scenario.simulation.calculate(\"inverted_utility_ir_annuel\", \"2009\")\n",
    "    )*weight_menages"
   ]
  },
  {
   "cell_type": "code",
   "execution_count": null,
   "metadata": {
    "collapsed": false
   },
   "outputs": [],
   "source": [
    "((u_monetary_gain_ir.sum(0)/10)*12)/10**9"
   ]
  },
  {
   "cell_type": "code",
   "execution_count": null,
   "metadata": {
    "collapsed": false
   },
   "outputs": [],
   "source": [
    "u_monetary_gain_ir = np.zeros(weight_menages.shape[0])\n",
    "for month in range(1,10):\n",
    "    u_monetary_gain_ir += np.mean(\n",
    "    (survey_scenario.simulation.calculate(\"utility_compensated_ir_mensuel\", \"2009\") - \n",
    "    survey_scenario.simulation.calculate(\"inverted_utility_ir_annuel\", \"2009\"))*weight_menages\n",
    "    )"
   ]
  },
  {
   "cell_type": "code",
   "execution_count": null,
   "metadata": {
    "collapsed": false
   },
   "outputs": [],
   "source": [
    "((u_monetary_gain_ir.sum(0)/10)*12)/10**9"
   ]
  },
  {
   "cell_type": "code",
   "execution_count": null,
   "metadata": {
    "collapsed": false
   },
   "outputs": [],
   "source": [
    "month = 7\n",
    "gain = pd.Series(survey_scenario.simulation.calculate(\"inverted_utility_compensated_ir_mensuel\", \"2009\") - \n",
    "    survey_scenario.simulation.calculate(\"inverted_utility_ir_annuel\", \"2009\")\n",
    "    )\n",
    "mean_gain = gain[np.abs(gain)>1].mean()\n",
    "print('{} gain on average'.format(mean_gain))"
   ]
  },
  {
   "cell_type": "code",
   "execution_count": null,
   "metadata": {
    "collapsed": false
   },
   "outputs": [],
   "source": [
    "u_monetary_gain = np.zeros(weight_menages.shape[0])\n",
    "for month in range(1,10):\n",
    "    u_monetary_gain +=np.mean(\n",
    "        pd.Series(survey_scenario.simulation.calculate(\"inverted_utility_compensated_ir_mensuel\", \"2009\") - \n",
    "        survey_scenario.simulation.calculate(\"inverted_utility_ir_annuel\", \"2009\"))\n",
    "               )\n",
    "(((u_monetary_gain_ir/10)*12)/10**9).mean()  "
   ]
  },
  {
   "cell_type": "code",
   "execution_count": null,
   "metadata": {
    "collapsed": true
   },
   "outputs": [],
   "source": []
  },
  {
   "cell_type": "markdown",
   "metadata": {},
   "source": [
    "#### mean monetary equivalent utility gain over the year"
   ]
  },
  {
   "cell_type": "code",
   "execution_count": null,
   "metadata": {
    "collapsed": false
   },
   "outputs": [],
   "source": [
    "u_annuelle = pd.Series(np.zeros(weight_menages.shape[0]))\n",
    "u_mensuelle = pd.Series(np.zeros(weight_menages.shape[0]))\n",
    "mean_gain = np.zeros(1)\n",
    "for month in range(1,13):\n",
    "    u_annuelle += pd.Series(\n",
    "        survey_scenario.simulation.calculate(\"utility_ir_annuel\", \"2009-{}\".format(month))\n",
    "        )\n",
    "    u_mensuelle += pd.Series(survey_scenario.simulation.calculate(\"utility_compensated_ir_mensuel\", \"2009-{}\".format(month)) \n",
    "        )\n",
    "eq_money_u_annuelle = np.exp((np.log(-u_annuelle))/-.87)\n",
    "eq_money_u_mensuelle = np.exp((np.log(-u_mensuelle))/-.87)\n",
    "impact_filter = (u_annuelle != u_mensuelle)\n",
    "\n",
    "print('{} gain on average'.format(eq_money_u_mensuelle.mean() - eq_money_u_annuelle.mean()))\n",
    "print('{} gain on average for concerned taxunits'.format(eq_money_u_mensuelle[impact_filter].mean() - eq_money_u_annuelle[impact_filter].mean()))\n"
   ]
  },
  {
   "cell_type": "code",
   "execution_count": null,
   "metadata": {
    "collapsed": false
   },
   "outputs": [],
   "source": [
    "u_annuelle = pd.Series(np.zeros(weight_menages.shape[0]))\n",
    "u_mensuelle = pd.Series(np.zeros(weight_menages.shape[0]))\n",
    "mean_gain = np.zeros(1)\n",
    "for month in range(1,13):\n",
    "    u_annuelle += pd.Series(\n",
    "        survey_scenario.simulation.calculate(\"utility_ir_annuel\", \"2009-{}\".format(month))\n",
    "        )\n",
    "    u_mensuelle += pd.Series(survey_scenario.simulation.calculate(\"utility_ir_mensuel_rsa_mensuel\", \"2009-{}\".format(month)) \n",
    "        )\n",
    "eq_money_u_annuelle = np.exp((np.log(-u_annuelle))/-.87)\n",
    "eq_money_u_mensuelle = np.exp((np.log(-u_mensuelle))/-.87)\n",
    "impact_filter = (u_annuelle != u_mensuelle)\n",
    "\n",
    "print('{} gain on average'.format(eq_money_u_mensuelle.mean() - eq_money_u_annuelle.mean()))\n",
    "print('{} gain on average for concerned taxunits'.format(eq_money_u_mensuelle[impact_filter].mean() - eq_money_u_annuelle[impact_filter].mean()))\n"
   ]
  },
  {
   "cell_type": "code",
   "execution_count": null,
   "metadata": {
    "collapsed": false
   },
   "outputs": [],
   "source": [
    "u_mensuelle"
   ]
  },
  {
   "cell_type": "markdown",
   "metadata": {},
   "source": [
    "### RSA+IR"
   ]
  },
  {
   "cell_type": "code",
   "execution_count": null,
   "metadata": {
    "collapsed": true
   },
   "outputs": [],
   "source": []
  },
  {
   "cell_type": "code",
   "execution_count": null,
   "metadata": {
    "collapsed": false
   },
   "outputs": [],
   "source": [
    "for month in range(1,13):\n",
    "    gain_u = (pd.Series(\n",
    "     survey_scenario.simulation.calculate(\"utility_ir_mensuel_rsa_mensuel\", \"2009\") - \n",
    "survey_scenario.simulation.calculate(\"utility_ir_annuel\", \"2009\")\n",
    "        ))\n",
    "    gain_m =  (\n",
    "        survey_scenario.simulation.calculate(\"inverted_utility_compensated_ir_mensuel_rsa_mensuel\", \"2009\") - \n",
    "        survey_scenario.simulation.calculate(\"inverted_utility_ir_annuel\", \"2009\"))\n",
    "    pd.DataFrame({'gain_utilite':gain_u, 'gain_argent':gain_m})\n",
    "    plt.figure()\n",
    "    pd.Series(gain_m)[gain_m!=0].hist(bins = 1500)\n",
    "    plt.xlim(-200,200)\n",
    "    plt.xlabel(\"equivalent monetary gains in euros \")\n",
    "    plt.ylabel('frequency')\n",
    "#TODO: problème sur les 3 derniers mois !"
   ]
  },
  {
   "cell_type": "code",
   "execution_count": null,
   "metadata": {
    "collapsed": true
   },
   "outputs": [],
   "source": []
  },
  {
   "cell_type": "code",
   "execution_count": null,
   "metadata": {
    "collapsed": true
   },
   "outputs": [],
   "source": []
  },
  {
   "cell_type": "code",
   "execution_count": null,
   "metadata": {
    "collapsed": false
   },
   "outputs": [],
   "source": [
    "monetary_gain_ir_rsa = np.zeros(weight_menages.shape[0])\n",
    "for month in range(1,10):\n",
    "    monetary_gain_ir_rsa += (\n",
    "    survey_scenario.simulation.calculate(\"inverted_utility_compenstaed_ir_mensuel_rsa_mensuel\", \"2009-{}\".format(month)) - \n",
    "    survey_scenario.simulation.calculate(\"inverted_utility_ir_annuel\", \"2009-{}\".format(month))\n",
    "    )*weight_menages"
   ]
  },
  {
   "cell_type": "code",
   "execution_count": null,
   "metadata": {
    "collapsed": false
   },
   "outputs": [],
   "source": [
    "((monetary_gain_ir_rsa.sum(0)/10)*12)/10**9"
   ]
  },
  {
   "cell_type": "markdown",
   "metadata": {},
   "source": [
    "## Gains et perte passage à la retraite."
   ]
  },
  {
   "cell_type": "code",
   "execution_count": null,
   "metadata": {
    "collapsed": false
   },
   "outputs": [],
   "source": [
    "print survey_scenario.simulation.persons.simulation.entity_by_key_plural"
   ]
  },
  {
   "cell_type": "code",
   "execution_count": null,
   "metadata": {
    "collapsed": false
   },
   "outputs": [],
   "source": [
    "coucou.entity.simulation"
   ]
  },
  {
   "cell_type": "code",
   "execution_count": null,
   "metadata": {
    "collapsed": false
   },
   "outputs": [],
   "source": [
    "c = np.zeros(1)\n",
    "a = np.array([1,2,3])\n",
    "b = np.array([True,True,False])\n",
    "c += a[b]; c"
   ]
  },
  {
   "cell_type": "code",
   "execution_count": null,
   "metadata": {
    "collapsed": false,
    "scrolled": true
   },
   "outputs": [],
   "source": [
    "is_retired = np.zeros(weight_individus.shape[0])\n",
    "is_active = np.zeros(weight_individus.shape[0])\n",
    "is_inactive = np.zeros(weight_individus.shape[0])\n",
    "for month in range(1,13):\n",
    "    is_retired += survey_scenario.simulation.calculate(\"retraite_imposable\", \"2009-{}\".format(month))>0\n",
    "    is_active += survey_scenario.simulation.calculate(\"salaire_imposable\", \"2009-{}\".format(month))>0\n",
    "    is_inactive += (survey_scenario.simulation.calculate(\"salaire_imposable\", \"2009-{}\".format(month)) + survey_scenario.simulation.calculate(\"retraite_imposable\", \"2009-{}\".format(month))) == 0"
   ]
  },
  {
   "cell_type": "code",
   "execution_count": null,
   "metadata": {
    "collapsed": false
   },
   "outputs": [],
   "source": [
    "(pd.Series(is_retired + is_active + is_inactive).hist(bins= 12))"
   ]
  },
  {
   "cell_type": "code",
   "execution_count": null,
   "metadata": {
    "collapsed": false
   },
   "outputs": [],
   "source": [
    "is_retired = np.zeros(weight_individus.shape[0])\n",
    "is_active = np.zeros(weight_individus.shape[0])\n",
    "is_inactive = np.zeros(weight_individus.shape[0])\n",
    "is_retire_active = np.zeros(weight_individus.shape[0])\n",
    "\n",
    "for month in range(1,13):\n",
    "    retraite_imposable = survey_scenario.simulation.compute(\"retraite_imposable\", \"2009-{}\".format(month))\n",
    "    salaire_imposable = survey_scenario.simulation.compute(\"salaire_imposable\", \"2009-{}\".format(month))\n",
    "    is_retired += retraite_imposable.array >0\n",
    "    is_active += salaire_imposable.array > 0 \n",
    "    is_retire_active += (retraite_imposable.array >0) & (salaire_imposable.array > 0 )\n",
    "    is_inactive += (retraite_imposable.array == 0) & (salaire_imposable.array == 0 )\n",
    "    "
   ]
  },
  {
   "cell_type": "code",
   "execution_count": null,
   "metadata": {
    "collapsed": false
   },
   "outputs": [],
   "source": [
    "is_retire_is_active_not_retire_active = ((is_retire_active == 0)\n",
    "                                         & (is_active>0)\n",
    "                                         & (is_inactive >0)\n",
    "                                         )"
   ]
  },
  {
   "cell_type": "code",
   "execution_count": null,
   "metadata": {
    "collapsed": false
   },
   "outputs": [],
   "source": [
    "survey_scenario.simulation.tax_benefit_system.Variable.formula_class.sum_by_entity(retraite_imposable)"
   ]
  },
  {
   "cell_type": "code",
   "execution_count": null,
   "metadata": {
    "collapsed": false
   },
   "outputs": [],
   "source": [
    "survey_scenario.simulation.tax_benefit_system.Variable.formula_class.sum_by_entity('h')"
   ]
  },
  {
   "cell_type": "code",
   "execution_count": null,
   "metadata": {
    "collapsed": false
   },
   "outputs": [],
   "source": [
    " type(class_name.encode('utf-8'), (Reform.DatedVariable,), definitions_by_name)"
   ]
  },
  {
   "cell_type": "code",
   "execution_count": null,
   "metadata": {
    "collapsed": false
   },
   "outputs": [],
   "source": [
    "pd.Series(is_retire_is_active_not_retire_active).value_counts()"
   ]
  },
  {
   "cell_type": "code",
   "execution_count": null,
   "metadata": {
    "collapsed": false
   },
   "outputs": [],
   "source": [
    "(pd.Series(is_retired + is_active + is_inactive)).value_counts()"
   ]
  },
  {
   "cell_type": "code",
   "execution_count": null,
   "metadata": {
    "collapsed": false
   },
   "outputs": [],
   "source": [
    "passage_a_la_retraite = pd.Series(is_retired) & pd.Series(is_not_retired)"
   ]
  },
  {
   "cell_type": "code",
   "execution_count": null,
   "metadata": {
    "collapsed": true
   },
   "outputs": [],
   "source": []
  },
  {
   "cell_type": "markdown",
   "metadata": {},
   "source": [
    "## Revdisp over the year"
   ]
  },
  {
   "cell_type": "markdown",
   "metadata": {},
   "source": [
    "## Annual IR Basis"
   ]
  },
  {
   "cell_type": "code",
   "execution_count": null,
   "metadata": {
    "collapsed": false
   },
   "outputs": [],
   "source": [
    "revdisp_oy = pd.DataFrame()\n",
    "temp = pd.DataFrame()\n",
    "for month in range(1,13):\n",
    "    for var in ['salaire_imposable', 'chomage_imposable', 'pen_mensuel', 'psoc_mensuel', 'ppe']:\n",
    "        temp[var] = pd.Series(np.sum(survey_scenario.simulation.calculate(var, \"2009-{}\".format(month))))\n",
    "    temp['impo'] = pd.Series(np.sum(survey_scenario.simulation.calculate('impo', \"2009\".format(month))))/12\n",
    "    temp['rev_cap'] = pd.Series(np.sum(survey_scenario.simulation.calculate('rev_cap', \"2009\".format(month))))/12\n",
    "    revdisp_oy = revdisp_oy.append(temp, ignore_index=True)\n",
    "revdisp_oy.index = range(1,13)\n",
    "revdisp_oy"
   ]
  },
  {
   "cell_type": "markdown",
   "metadata": {},
   "source": [
    "#### With weight"
   ]
  },
  {
   "cell_type": "code",
   "execution_count": null,
   "metadata": {
    "collapsed": false
   },
   "outputs": [],
   "source": [
    "revdisp_oy = pd.DataFrame()\n",
    "temp = pd.DataFrame()\n",
    "for month in range(1,13):\n",
    "    for var in ['salaire_imposable', 'chomage_imposable', 'pen_mensuel',]:\n",
    "        temp[var] = pd.Series(np.sum(survey_scenario.simulation.calculate(var, \"2009-{}\".format(month))* weight_individus))\n",
    "    for var in ['psoc_mensuel']:\n",
    "        temp[var] = pd.Series(np.sum(survey_scenario.simulation.calculate(var, \"2009-{}\".format(month))* weight_familles))      \n",
    "    temp['impo'] = pd.Series(np.sum(survey_scenario.simulation.calculate('impo', \"2009\".format(month))* weight_menages))/12\n",
    "    temp['rev_cap'] = pd.Series(np.sum(survey_scenario.simulation.calculate('rev_cap', \"2009\".format(month))))/12\n",
    "    revdisp_oy = revdisp_oy.append(temp, ignore_index=True)\n",
    "    \n",
    "\n",
    "revdisp_oy.index = range(1,13)\n",
    "revdisp_oy/10**9"
   ]
  },
  {
   "cell_type": "code",
   "execution_count": null,
   "metadata": {
    "collapsed": false
   },
   "outputs": [],
   "source": [
    "print (revdisp_oy/10**9).to_latex()"
   ]
  },
  {
   "cell_type": "code",
   "execution_count": null,
   "metadata": {
    "collapsed": false
   },
   "outputs": [],
   "source": [
    "ax = revdisp_oy.plot(kind = 'bar', stacked = 'True',alpha = 0.6, figsize=(15,9) )\n",
    "#ax = fig.add_subplot(111)\n",
    "\n",
    "plt.hlines(0,-1,13, linestyles='dashed', linewidth = 3, alpha = 0.9)\n",
    "\n",
    "plt.xlabel(\"months\", fontsize = 15)\n",
    "plt.ylabel(\"euros\", fontsize = 15)\n",
    "plt.legend( bbox_to_anchor=(1, 0, 1, 1), loc=3,)\n",
    "plt.savefig(\"image_result_of_mensualisation/revdisp_ir_annual.png\")"
   ]
  },
  {
   "cell_type": "markdown",
   "metadata": {},
   "source": [
    "## Monthly Basis"
   ]
  },
  {
   "cell_type": "code",
   "execution_count": null,
   "metadata": {
    "collapsed": false
   },
   "outputs": [],
   "source": [
    "revdisp_oy = pd.DataFrame()\n",
    "temp = pd.DataFrame()\n",
    "for month in range(1,13):\n",
    "    for var in ['salaire_imposable', 'chomage_imposable', 'pen_mensuel', 'psoc_mensuel', 'ppe']:\n",
    "        temp[var] = pd.Series(np.sum(survey_scenario.simulation.calculate(var, \"2009-{}\".format(month))))\n",
    "    temp['impo_mensuel'] = pd.Series(np.sum(survey_scenario.simulation.calculate('impo_mensuel', \"2009-{}\".format(month))))\n",
    "    temp['rev_cap'] = pd.Series(np.sum(survey_scenario.simulation.calculate('rev_cap', \"2009\".format(month))))/12\n",
    "    revdisp_oy = revdisp_oy.append(temp, ignore_index=True)\n",
    "revdisp_oy.index = range(1,13)\n",
    "revdisp_oy"
   ]
  },
  {
   "cell_type": "markdown",
   "metadata": {},
   "source": [
    "### With weight"
   ]
  },
  {
   "cell_type": "code",
   "execution_count": null,
   "metadata": {
    "collapsed": false
   },
   "outputs": [],
   "source": [
    "revdisp_oy = pd.DataFrame()\n",
    "temp = pd.DataFrame()\n",
    "for month in range(1,13):\n",
    "    for var in ['salaire_imposable', 'chomage_imposable', 'pen_mensuel']:\n",
    "        temp[var] = pd.Series(np.sum(survey_scenario.simulation.calculate(var, \"2009-{}\".format(month))* weight_individus))\n",
    "    for var in ['psoc_mensuel']:\n",
    "        temp[var] = pd.Series(np.sum(survey_scenario.simulation.calculate(var, \"2009-{}\".format(month))* weight_familles))      \n",
    "    temp['impo_mensuel'] = pd.Series(np.sum(survey_scenario.simulation.calculate('impo_mensuel', \"2009-{}\".format(month))* weight_menages))\n",
    "    temp['rev_cap'] = pd.Series(np.sum(survey_scenario.simulation.calculate('rev_cap', \"2009\".format(month))*weight_individus))/12\n",
    "    revdisp_oy = revdisp_oy.append(temp, ignore_index=True)\n",
    "\n",
    "revdisp_oy.index = range(1,13)\n",
    "revdisp_oy/10**9"
   ]
  },
  {
   "cell_type": "code",
   "execution_count": null,
   "metadata": {
    "collapsed": false
   },
   "outputs": [],
   "source": [
    "ax = revdisp_oy.plot(kind = 'bar', stacked = 'True',alpha = 0.6, figsize=(15,9) )\n",
    "#ax = fig.add_subplot(111)\n",
    "\n",
    "plt.hlines(0,-1,13, linestyles='dashed', linewidth = 3, alpha = 0.9)\n",
    "\n",
    "plt.xlabel(\"months\", fontsize = 15)\n",
    "plt.ylabel(\"euros\", fontsize = 15)\n",
    "plt.legend( bbox_to_anchor=(1, 0, 1, 1), loc=3,)\n",
    "plt.savefig(\"image_result_of_mensualisation/revdisp_ir_monthly.png\")"
   ]
  },
  {
   "cell_type": "code",
   "execution_count": null,
   "metadata": {
    "collapsed": false
   },
   "outputs": [],
   "source": [
    "revdisp_oy['total'] = revdisp_oy.sum(1)\n",
    "print (revdisp_oy/10**9).to_latex()"
   ]
  },
  {
   "cell_type": "markdown",
   "metadata": {},
   "source": [
    "## Compensated Monthly Basis"
   ]
  },
  {
   "cell_type": "code",
   "execution_count": null,
   "metadata": {
    "collapsed": false
   },
   "outputs": [],
   "source": [
    "revdisp_oy = pd.DataFrame()\n",
    "temp = pd.DataFrame()\n",
    "for month in range(1,13):\n",
    "    for var in ['salaire_imposable', 'chomage_imposable', 'pen_mensuel', 'psoc_mensuel', 'ppe']:\n",
    "        temp[var] = pd.Series(np.sum(survey_scenario.simulation.calculate(var, \"2009-{}\".format(month))))\n",
    "    temp['impo_mensuel'] = pd.Series(np.sum(survey_scenario.simulation.calculate('compensated_impo_mensuel', \"2009-{}\".format(month))))\n",
    "    temp['rev_cap'] = pd.Series(np.sum(survey_scenario.simulation.calculate('rev_cap', \"2009\".format(month))))/12\n",
    "    revdisp_oy = revdisp_oy.append(temp, ignore_index=True)\n",
    "revdisp_oy.index = range(1,13)\n",
    "revdisp_oy"
   ]
  },
  {
   "cell_type": "markdown",
   "metadata": {},
   "source": [
    "### With weight"
   ]
  },
  {
   "cell_type": "code",
   "execution_count": null,
   "metadata": {
    "collapsed": true
   },
   "outputs": [],
   "source": []
  },
  {
   "cell_type": "code",
   "execution_count": null,
   "metadata": {
    "collapsed": false
   },
   "outputs": [],
   "source": [
    "revdisp_oy = pd.DataFrame()\n",
    "temp = pd.DataFrame()\n",
    "for month in range(1,13):\n",
    "    for var in ['salaire_imposable', 'chomage_imposable', 'pen_mensuel']:\n",
    "        temp[var] = pd.Series(np.sum(survey_scenario.simulation.calculate(var, \"2009-{}\".format(month))* weight_individus))\n",
    "    for var in ['psoc_mensuel']:\n",
    "        temp[var] = pd.Series(np.sum(survey_scenario.simulation.calculate(var, \"2009-{}\".format(month))* weight_familles))      \n",
    "    temp['impo_mensuel'] = pd.Series(np.sum(survey_scenario.simulation.calculate('compensated_impo_mensuel', \"2009-{}\".format(month))* weight_menages))\n",
    "    temp['rev_cap'] = pd.Series(np.sum(survey_scenario.simulation.calculate('rev_cap', \"2009\".format(month))*weight_individus))/12\n",
    "    revdisp_oy = revdisp_oy.append(temp, ignore_index=True)\n",
    "revdisp_oy.index = range(1,13)\n",
    "revdisp_oy/10**9"
   ]
  },
  {
   "cell_type": "code",
   "execution_count": null,
   "metadata": {
    "collapsed": false
   },
   "outputs": [],
   "source": [
    "ax = revdisp_oy.plot(kind = 'bar', stacked = 'True',alpha = 0.6, figsize=(15,9) )\n",
    "#ax = fig.add_subplot(111)\n",
    "\n",
    "plt.hlines(0,-1,13, linestyles='dashed', linewidth = 3, alpha = 0.9)\n",
    "\n",
    "plt.xlabel(\"months\", fontsize = 15)\n",
    "plt.ylabel(\"euros\", fontsize = 15)\n",
    "plt.legend( bbox_to_anchor=(1, 0, 1, 1), loc=3,)\n",
    "plt.savefig(\"image_result_of_mensualisation/revdisp_ir_comp_monthly.png\")"
   ]
  },
  {
   "cell_type": "code",
   "execution_count": null,
   "metadata": {
    "collapsed": false
   },
   "outputs": [],
   "source": [
    "revdisp_oy['total'] = revdisp_oy.sum(1)\n",
    "print (revdisp_oy/10**9).to_latex()"
   ]
  },
  {
   "cell_type": "markdown",
   "metadata": {},
   "source": [
    "## Compensated Rsa monthly"
   ]
  },
  {
   "cell_type": "code",
   "execution_count": null,
   "metadata": {
    "collapsed": false
   },
   "outputs": [],
   "source": [
    "revdisp_oy = pd.DataFrame()\n",
    "temp = pd.DataFrame()\n",
    "for month in range(1,13):\n",
    "    for var in ['salaire_imposable', 'chomage_imposable', 'pen_mensuel', 'psoc_mensuel_rsa_mensuel', 'ppe']:\n",
    "        temp[var] = pd.Series(np.sum(survey_scenario.simulation.calculate(var, \"2009-{}\".format(month))))\n",
    "    temp['impo_mensuel'] = pd.Series(np.sum(survey_scenario.simulation.calculate('compensated_impo_mensuel', \"2009-{}\".format(month))))\n",
    "    temp['rev_cap'] = pd.Series(np.sum(survey_scenario.simulation.calculate('rev_cap', \"2009\".format(month))))/12\n",
    "    revdisp_oy = revdisp_oy.append(temp, ignore_index=True)\n",
    "revdisp_oy.index = range(1,13)\n",
    "revdisp_oy"
   ]
  },
  {
   "cell_type": "markdown",
   "metadata": {},
   "source": [
    "### With weight"
   ]
  },
  {
   "cell_type": "code",
   "execution_count": null,
   "metadata": {
    "collapsed": false
   },
   "outputs": [],
   "source": [
    "revdisp_oy = pd.DataFrame()\n",
    "temp = pd.DataFrame()\n",
    "for month in range(1,13):\n",
    "    for var in ['salaire_imposable', 'chomage_imposable', 'pen_mensuel']:\n",
    "        temp[var] = pd.Series(np.sum(survey_scenario.simulation.calculate(var, \"2009-{}\".format(month))* weight_individus))\n",
    "    for var in ['psoc_mensuel_rsa_mensuel']:\n",
    "        temp[var] = pd.Series(np.sum(survey_scenario.simulation.calculate(var, \"2009-{}\".format(month))* weight_familles))      \n",
    "    temp['impo_mensuel'] = pd.Series(np.sum(survey_scenario.simulation.calculate('compensated_impo_mensuel', \"2009-{}\".format(month))* weight_menages))\n",
    "    temp['rev_cap'] = pd.Series(np.sum(survey_scenario.simulation.calculate('rev_cap', \"2009\".format(month))*weight_individus))/12\n",
    "    revdisp_oy = revdisp_oy.append(temp, ignore_index=True)\n",
    "revdisp_oy.index = range(1,13)\n",
    "revdisp_oy/10**9"
   ]
  },
  {
   "cell_type": "code",
   "execution_count": null,
   "metadata": {
    "collapsed": false
   },
   "outputs": [],
   "source": [
    "ax = revdisp_oy.plot(kind = 'bar', stacked = 'True',alpha = 0.6, figsize=(15,9) )\n",
    "#ax = fig.add_subplot(111)\n",
    "\n",
    "plt.hlines(0,-1,13, linestyles='dashed', linewidth = 3, alpha = 0.9)\n",
    "\n",
    "plt.xlabel(\"months\", fontsize = 15)\n",
    "plt.ylabel(\"euros\", fontsize = 15)\n",
    "plt.legend( bbox_to_anchor=(1, 0, 1, 1), loc=3,)\n",
    "plt.savefig(\"image_result_of_mensualisation/revdisp_rsa_ir_comp_monthly.png\")"
   ]
  },
  {
   "cell_type": "code",
   "execution_count": null,
   "metadata": {
    "collapsed": false
   },
   "outputs": [],
   "source": [
    "revdisp_oy['total'] = revdisp_oy.sum(1)\n",
    "print (revdisp_oy/10**9).to_latex()"
   ]
  },
  {
   "cell_type": "code",
   "execution_count": null,
   "metadata": {
    "collapsed": true
   },
   "outputs": [],
   "source": []
  },
  {
   "cell_type": "code",
   "execution_count": null,
   "metadata": {
    "collapsed": true
   },
   "outputs": [],
   "source": []
  },
  {
   "cell_type": "code",
   "execution_count": null,
   "metadata": {
    "collapsed": true
   },
   "outputs": [],
   "source": []
  },
  {
   "cell_type": "code",
   "execution_count": null,
   "metadata": {
    "collapsed": true
   },
   "outputs": [],
   "source": []
  },
  {
   "cell_type": "code",
   "execution_count": null,
   "metadata": {
    "collapsed": true
   },
   "outputs": [],
   "source": []
  },
  {
   "cell_type": "code",
   "execution_count": null,
   "metadata": {
    "collapsed": true
   },
   "outputs": [],
   "source": []
  },
  {
   "cell_type": "code",
   "execution_count": null,
   "metadata": {
    "collapsed": true
   },
   "outputs": [],
   "source": []
  },
  {
   "cell_type": "code",
   "execution_count": null,
   "metadata": {
    "collapsed": true
   },
   "outputs": [],
   "source": []
  },
  {
   "cell_type": "code",
   "execution_count": null,
   "metadata": {
    "collapsed": true
   },
   "outputs": [],
   "source": []
  },
  {
   "cell_type": "code",
   "execution_count": null,
   "metadata": {
    "collapsed": true
   },
   "outputs": [],
   "source": []
  },
  {
   "cell_type": "code",
   "execution_count": null,
   "metadata": {
    "collapsed": true
   },
   "outputs": [],
   "source": []
  },
  {
   "cell_type": "code",
   "execution_count": null,
   "metadata": {
    "collapsed": true
   },
   "outputs": [],
   "source": []
  },
  {
   "cell_type": "code",
   "execution_count": null,
   "metadata": {
    "collapsed": true
   },
   "outputs": [],
   "source": []
  },
  {
   "cell_type": "code",
   "execution_count": null,
   "metadata": {
    "collapsed": true
   },
   "outputs": [],
   "source": []
  },
  {
   "cell_type": "code",
   "execution_count": null,
   "metadata": {
    "collapsed": true
   },
   "outputs": [],
   "source": []
  },
  {
   "cell_type": "code",
   "execution_count": null,
   "metadata": {
    "collapsed": false
   },
   "outputs": [],
   "source": [
    "revdisp_oy = pd.DataFrame()\n",
    "temp = pd.DataFrame()\n",
    "for month in range(1,13):\n",
    "    for var in ['rev_trav_mensuel', 'pen_mensuel', 'chomage_imposable', 'pen_mensuel', 'ppe']:\n",
    "        temp[var] = pd.Series(np.sum(survey_scenario.simulation.calculate(var, \"2009-{}\".format(month))))\n",
    "    temp['psoc_mensuel'] = - pd.Series(np.sum(survey_scenario.simulation.calculate('psoc_mensuel', \"2009-{}\".format(month))))\n",
    "    temp['impo'] = pd.Series(np.sum(survey_scenario.simulation.calculate('impo', \"2009\".format(month))))/12\n",
    "    revdisp_oy = revdisp_oy.append(temp, ignore_index=True)\n",
    "revdisp_oy.index = range(1,13)\n",
    "revdisp_oy"
   ]
  },
  {
   "cell_type": "code",
   "execution_count": null,
   "metadata": {
    "collapsed": true
   },
   "outputs": [],
   "source": [
    "\n",
    "undecompsed_revdisp = pd.DataFrame()\n",
    "temp = pd.DataFrame()\n",
    "for month in range(1,13):\n",
    "    temp['revdisp_mensuel_annuel'] = pd.Series(np.sum(survey_scenario.simulation.calculate('revdisp_mensuel_annuel', \"2009-{}\".format(month))))\n",
    "    undecompsed_revdisp = undecompsed_revdisp.append(temp, ignore_index=True)\n",
    "    "
   ]
  },
  {
   "cell_type": "code",
   "execution_count": null,
   "metadata": {
    "collapsed": false
   },
   "outputs": [],
   "source": [
    "undecompsed_revdisp.index = range(1,13)"
   ]
  },
  {
   "cell_type": "code",
   "execution_count": null,
   "metadata": {
    "collapsed": false
   },
   "outputs": [],
   "source": [
    "df1 = pd.DataFrame({'revdisp_mensuel_annuel':revdisp_oy.sum(1).values}) \n",
    "df1.index = range(1,13)\n",
    "(df1 - undecompsed_revdisp)/10**9"
   ]
  },
  {
   "cell_type": "code",
   "execution_count": null,
   "metadata": {
    "collapsed": false
   },
   "outputs": [],
   "source": [
    "undecompsed_revdisp.index = np.arange(-0.5,11.5,1)"
   ]
  },
  {
   "cell_type": "code",
   "execution_count": null,
   "metadata": {
    "collapsed": false
   },
   "outputs": [],
   "source": [
    "undecompsed_revdisp.index = np.arange(-0.5,11.5, 1) #TODO: pouruoi une différence ?\n",
    "ax = revdisp_oy.plot(kind = 'bar', stacked = 'True',alpha = 0.2, figsize=(15,9) )\n",
    "#ax = fig.add_subplot(111)\n",
    "plt.bar(undecompsed_revdisp.index, undecompsed_revdisp.values, color = 'k', alpha = 0.4)\n",
    "plt.hlines(0,-1,13, linestyles='dashed', linewidth = 3, alpha = 0.5)\n",
    "\n",
    "plt.xlabel(\"months\", fontsize = 15)\n",
    "plt.ylabel(\"headcount\", fontsize = 15)\n",
    "plt.legend( bbox_to_anchor=(1, 0, 1, 1), loc=3,)"
   ]
  },
  {
   "cell_type": "code",
   "execution_count": null,
   "metadata": {
    "collapsed": false
   },
   "outputs": [],
   "source": [
    "undecompsed_revdisp.index = np.arange(-0.5,11.5, 1) #TODO: pouruoi une différence ?\n",
    "ax = revdisp_oy.plot(kind = 'bar', stacked = 'True',alpha = 0.6, figsize=(15,9) )\n",
    "#ax = fig.add_subplot(111)\n",
    "\n",
    "plt.hlines(0,-1,13, linestyles='dashed', linewidth = 3, alpha = 0.9)\n",
    "\n",
    "plt.xlabel(\"months\", fontsize = 15)\n",
    "plt.ylabel(\"headcount\", fontsize = 15)\n",
    "plt.legend( bbox_to_anchor=(1, 0, 1, 1), loc=3,)"
   ]
  },
  {
   "cell_type": "code",
   "execution_count": null,
   "metadata": {
    "collapsed": false
   },
   "outputs": [],
   "source": [
    "undecompsed_revdisp\n"
   ]
  },
  {
   "cell_type": "markdown",
   "metadata": {},
   "source": [
    "## Monthly IR basis "
   ]
  },
  {
   "cell_type": "code",
   "execution_count": null,
   "metadata": {
    "collapsed": false
   },
   "outputs": [],
   "source": [
    "revdisp_oy = pd.DataFrame()\n",
    "temp = pd.DataFrame()\n",
    "for month in range(1,13):\n",
    "    for var in ['salaire_imposable', 'chomage_imposable', 'pen_mensuel', 'psoc_mensuel', 'ppe', 'impo_mensuel']:\n",
    "        temp[var] = pd.Series(np.sum(survey_scenario.simulation.calculate(var, \"2009-{}\".format(month))))\n",
    "        temp['psoc_mensuel'] = - pd.Series(np.sum(survey_scenario.simulation.calculate('psoc_mensuel', \"2009-{}\".format(month))))\n",
    "    revdisp_oy = revdisp_oy.append(temp, ignore_index=True)\n",
    "revdisp_oy.index = range(1,13)\n",
    "revdisp_oy\n",
    "revdisp_oy.plot(kind = 'bar', stacked = 'True', figsize=(15,9) )\n",
    "plt.hlines(0,-1,13, linestyles='dashed', linewidth = 3, alpha = 0.5)\n",
    "plt.xlabel(\"months\", fontsize = 15)\n",
    "plt.ylabel(\"headcount\", fontsize = 15)\n",
    "plt.legend( loc=2)"
   ]
  },
  {
   "cell_type": "code",
   "execution_count": null,
   "metadata": {
    "collapsed": false
   },
   "outputs": [],
   "source": [
    "plt.close()\n",
    "plt.figure()"
   ]
  },
  {
   "cell_type": "markdown",
   "metadata": {},
   "source": [
    "#### With weight"
   ]
  },
  {
   "cell_type": "code",
   "execution_count": null,
   "metadata": {
    "collapsed": false
   },
   "outputs": [],
   "source": [
    "revdisp_oy = pd.DataFrame()\n",
    "temp = pd.DataFrame()\n",
    "for month in range(1,13):\n",
    "    for var in ['salaire_imposable', 'chomage_imposable', 'pen_mensuel']:\n",
    "        temp[var] = pd.Series(np.sum(survey_scenario.simulation.calculate(var, \"2009-{}\".format(month))* weight_individus))\n",
    "    for var in ['psoc_mensuel']:\n",
    "        temp[var] = pd.Series(np.sum(survey_scenario.simulation.calculate(var, \"2009-{}\".format(month))* weight_familles))      \n",
    "    temp['impo_mensuel'] = pd.Series(np.sum(survey_scenario.simulation.calculate('impo_mensuel', \"2009\".format(month))* weight_menages))/12\n",
    "    temp['rev_cap'] = pd.Series(np.sum(survey_scenario.simulation.calculate('rev_cap', \"2009\".format(month))*weight_individus))/12\n",
    "    revdisp_oy = revdisp_oy.append(temp, ignore_index=True)\n",
    "revdisp_oy.index = range(1,13)\n",
    "revdisp_oy.index = range(1,13)\n",
    "\n",
    "revdisp_oy.plot(kind = 'bar', stacked = 'True', figsize=(15,9) )\n",
    "plt.hlines(0,-1,13, linestyles='dashed', linewidth = 3, alpha = 0.5)\n",
    "plt.xlabel(\"months\", fontsize = 15)\n",
    "plt.ylabel(\"headcount\", fontsize = 15)\n",
    "plt.legend( loc=2)"
   ]
  },
  {
   "cell_type": "code",
   "execution_count": null,
   "metadata": {
    "collapsed": false
   },
   "outputs": [],
   "source": [
    "revdisp_oy = pd.DataFrame()\n",
    "temp = pd.DataFrame()\n",
    "for month in range(1,13):\n",
    "    for var in ['salaire_imposable', 'chomage_imposable', 'pen_mensuel']:\n",
    "        temp[var] = pd.Series(np.sum(survey_scenario.simulation.calculate(var, \"2009-{}\".format(month))* weight_individus))\n",
    "    for var in ['psoc_mensuel']:\n",
    "        temp[var] = pd.Series(np.sum(survey_scenario.simulation.calculate(var, \"2009-{}\".format(month))* weight_familles))      \n",
    "    temp['impo_mensuel'] = pd.Series(np.sum(survey_scenario.simulation.calculate('impo', \"2009\".format(month))* weight_menages))/12\n",
    "    temp['rev_cap'] = pd.Series(np.sum(survey_scenario.simulation.calculate('rev_cap', \"2009\".format(month))))/12\n",
    "    revdisp_oy = revdisp_oy.append(temp, ignore_index=True)\n",
    "revdisp_oy.index = range(1,13)\n",
    "revdisp_oy/10**9"
   ]
  },
  {
   "cell_type": "code",
   "execution_count": null,
   "metadata": {
    "collapsed": false
   },
   "outputs": [],
   "source": [
    "revdisp_oy.index = range(1,13)\n",
    "revdisp_oy.index = range(1,13)\n",
    "\n",
    "revdisp_oy.plot(kind = 'bar', stacked = 'True', figsize=(15,9) )\n",
    "plt.hlines(0,-1,13, linestyles='dashed', linewidth = 3, alpha = 0.5)\n",
    "plt.xlabel(\"months\", fontsize = 15)\n",
    "plt.ylabel(\"headcount\", fontsize = 15)\n",
    "plt.legend( loc=2)"
   ]
  },
  {
   "cell_type": "code",
   "execution_count": null,
   "metadata": {
    "collapsed": false
   },
   "outputs": [],
   "source": [
    "revdisp_oy/10**9"
   ]
  },
  {
   "cell_type": "code",
   "execution_count": null,
   "metadata": {
    "collapsed": false
   },
   "outputs": [],
   "source": [
    "print (revdisp_oy/10**9).to_latex()"
   ]
  },
  {
   "cell_type": "code",
   "execution_count": null,
   "metadata": {
    "collapsed": true
   },
   "outputs": [],
   "source": []
  },
  {
   "cell_type": "code",
   "execution_count": null,
   "metadata": {
    "collapsed": true
   },
   "outputs": [],
   "source": []
  },
  {
   "cell_type": "code",
   "execution_count": null,
   "metadata": {
    "collapsed": true
   },
   "outputs": [],
   "source": []
  },
  {
   "cell_type": "markdown",
   "metadata": {},
   "source": [
    "## Monthly IR compensated"
   ]
  },
  {
   "cell_type": "code",
   "execution_count": null,
   "metadata": {
    "collapsed": false
   },
   "outputs": [],
   "source": [
    "revdisp_oy = pd.DataFrame()\n",
    "temp = pd.DataFrame()\n",
    "for month in range(1,13):\n",
    "    for var in ['salaire_imposable', 'chomage_imposable', 'pen_mensuel', 'psoc_mensuel', 'ppe', 'compensated_impo_mensuel']:\n",
    "        temp[var] = pd.Series(np.sum(survey_scenario.simulation.calculate(var, \"2009-{}\".format(month))))\n",
    "    revdisp_oy = revdisp_oy.append(temp, ignore_index=True)\n",
    "revdisp_oy.index = range(1,13)\n",
    "revdisp_oy\n",
    "revdisp_oy.plot(kind = 'bar', stacked = 'True', figsize=(15,9) )\n",
    "plt.xlabel(\"months\", fontsize = 15)\n",
    "plt.ylabel(\"headcount\", fontsize = 15)\n",
    "plt.legend( loc=2)"
   ]
  },
  {
   "cell_type": "code",
   "execution_count": null,
   "metadata": {
    "collapsed": true
   },
   "outputs": [],
   "source": []
  },
  {
   "cell_type": "code",
   "execution_count": null,
   "metadata": {
    "collapsed": false
   },
   "outputs": [],
   "source": [
    "revdisp_oy = pd.DataFrame()\n",
    "for month in range(1,13):\n",
    "    revdisp_oy['{}'.format(month)] = pd.Series(survey_scenario.simulation.calculate(\"rev_trav_mensuel\", \"2009-{}\".format(month)))"
   ]
  },
  {
   "cell_type": "code",
   "execution_count": null,
   "metadata": {
    "collapsed": false
   },
   "outputs": [],
   "source": [
    "'a'"
   ]
  },
  {
   "cell_type": "code",
   "execution_count": null,
   "metadata": {
    "collapsed": false
   },
   "outputs": [],
   "source": [
    "revdisp_oy.sum(0).plot(kind = 'bar', color = 'b')"
   ]
  },
  {
   "cell_type": "markdown",
   "metadata": {},
   "source": [
    "#### By income type"
   ]
  },
  {
   "cell_type": "code",
   "execution_count": null,
   "metadata": {
    "collapsed": false
   },
   "outputs": [],
   "source": [
    "revdisp_oy = pd.DataFrame()\n",
    "for month in range(1,13):\n",
    "    revdisp_oy['{}'.format(month)] = pd.Series(survey_scenario.simulation.calculate(\"salaire_imposable\", \"2009-{}\".format(month)))\n",
    "\n",
    "revdisp_oy.sum(0).plot(kind = 'bar')\n",
    "plt.ylim(8*10**7)\n"
   ]
  },
  {
   "cell_type": "code",
   "execution_count": null,
   "metadata": {
    "collapsed": false
   },
   "outputs": [],
   "source": [
    "revdisp_oy = pd.DataFrame()\n",
    "for month in range(1,13):\n",
    "    revdisp_oy['{}'.format(month)] = pd.Series(survey_scenario.simulation.calculate(\"pen_mensuel\", \"2009-{}\".format(month)))\n",
    "\n",
    "revdisp_oy.sum(0).plot(kind = 'bar')\n"
   ]
  },
  {
   "cell_type": "code",
   "execution_count": null,
   "metadata": {
    "collapsed": false
   },
   "outputs": [],
   "source": [
    "revdisp_oy = pd.DataFrame()\n",
    "for month in range(1,13):\n",
    "    revdisp_oy['{}'.format(month)] = pd.Series(survey_scenario.simulation.calculate(\"psoc_mensuel\", \"2009-{}\".format(month)))\n",
    "\n",
    "revdisp_oy.sum(0).plot(kind = 'bar')\n"
   ]
  },
  {
   "cell_type": "code",
   "execution_count": null,
   "metadata": {
    "collapsed": false
   },
   "outputs": [],
   "source": [
    "revdisp_oy = pd.DataFrame()\n",
    "for month in range(1,13):\n",
    "    revdisp_oy['{}'.format(month)] = pd.Series(survey_scenario.simulation.calculate(\"ppe\", \"2009-{}\".format(month)))\n",
    "\n",
    "revdisp_oy.sum(0).plot(kind = 'bar')\n"
   ]
  },
  {
   "cell_type": "code",
   "execution_count": null,
   "metadata": {
    "collapsed": false
   },
   "outputs": [],
   "source": [
    "revdisp_oy = pd.DataFrame()\n",
    "for month in range(1,13):\n",
    "    revdisp_oy['{}'.format(month)] = pd.Series(survey_scenario.simulation.calculate(\"impo_mensuel\", \"2009-{}\".format(month)))\n",
    "\n",
    "revdisp_oy.sum(0).plot(kind = 'bar')\n"
   ]
  },
  {
   "cell_type": "code",
   "execution_count": null,
   "metadata": {
    "collapsed": false
   },
   "outputs": [],
   "source": [
    "revdisp_oy = pd.DataFrame()\n",
    "for month in range(1,13):\n",
    "    revdisp_oy['{}'.format(month)] = pd.Series(survey_scenario.simulation.calculate(\"retraite_imposable\", \"2009-{}\".format(month)))\n",
    "\n",
    "revdisp_oy.sum(0).plot(kind = 'bar')\n"
   ]
  },
  {
   "cell_type": "code",
   "execution_count": null,
   "metadata": {
    "collapsed": false
   },
   "outputs": [],
   "source": [
    "survey_scenario.simulation.calculate(\"retraite_imposable\", \"2009-{}\".format(month))"
   ]
  },
  {
   "cell_type": "markdown",
   "metadata": {},
   "source": [
    "# END"
   ]
  },
  {
   "cell_type": "markdown",
   "metadata": {},
   "source": [
    "### Taux d'intérêt"
   ]
  },
  {
   "cell_type": "code",
   "execution_count": null,
   "metadata": {
    "collapsed": false
   },
   "outputs": [],
   "source": [
    "def revdisp_tx(var = None, taux = None):\n",
    "    revdisp_i = 0\n",
    "    for month in range(0,12):\n",
    "        monthly_taux = ((1+taux)**(1/12)) \n",
    "        revdisp_i += (\n",
    "            survey_scenario.simulation.calculate(var, survey_scenario.simulation.period.offset(month, 'month').this_month) \n",
    "            / (monthly_taux)**month \n",
    "                      )\n",
    "    return revdisp_i\n"
   ]
  },
  {
   "cell_type": "code",
   "execution_count": null,
   "metadata": {
    "collapsed": false
   },
   "outputs": [],
   "source": [
    "revdisp_tx('revdisp_mensuel_ir_mensuel', 1.6)"
   ]
  },
  {
   "cell_type": "code",
   "execution_count": null,
   "metadata": {
    "collapsed": false
   },
   "outputs": [],
   "source": [
    "survey_scenario.simulation.period.offset(2, 'month').this_month"
   ]
  }
 ],
 "metadata": {
  "kernelspec": {
   "display_name": "Python 2",
   "language": "python",
   "name": "python2"
  },
  "language_info": {
   "codemirror_mode": {
    "name": "ipython",
    "version": 2
   },
   "file_extension": ".py",
   "mimetype": "text/x-python",
   "name": "python",
   "nbconvert_exporter": "python",
   "pygments_lexer": "ipython2",
   "version": "2.7.10"
  },
  "toc": {
   "toc_cell": true,
   "toc_number_sections": true,
   "toc_threshold": 4,
   "toc_window_display": true
  },
  "toc_position": {
   "left": "2867.02px",
   "right": "20px",
   "top": "88px",
   "width": "300px"
  }
 },
 "nbformat": 4,
 "nbformat_minor": 0
}
