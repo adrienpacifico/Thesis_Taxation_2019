{
 "cells": [
  {
   "cell_type": "markdown",
   "metadata": {},
   "source": [
    "### Git versioning"
   ]
  },
  {
   "cell_type": "code",
   "execution_count": 7,
   "metadata": {
    "collapsed": false
   },
   "outputs": [
    {
     "name": "stdout",
     "output_type": "stream",
     "text": [
      "---This notebook have been runed with--- \n",
      "Openfisca-france : 03f19d8d1c056fec5562f592814f9526b3e6c0a2 \n",
      "\n",
      "Commit short SHA: 03f19\n",
      "Branch:  mensualisation_wip\n",
      "Date (y/m/d): 2016-06-01 08:56:21  \n",
      "\n",
      "Openfisca-core : 4076f591f4bcb571391b65a989e1603fdc4cb759  Date: 2016-02-24 16:11:57 \n",
      "Openfisca-france-data : 4581a82fd1456cbe0bdd86ab1b57db6fef37c8cf  Date: 2016-05-31 15:46:50 \n",
      "OpenFisca-Aggregates : fd210d8cfdf6ed68f173d9d5c3eab4a4302ed2b9  Date: 2016-04-04 11:35:03 \n",
      "OpenFisca-Survey-Manager : 868512d24307aa75cfa7bbbf8420542960963966  Date: 2016-04-04 11:35:03 \n"
     ]
    }
   ],
   "source": [
    "import git  #Requires Gitpython installed, to install do \"$ pip install Gitpython\" in your terminal\n",
    "import pkg_resources\n",
    "openfisca_france_location = pkg_resources.get_distribution('openfisca-france').location\n",
    "repo = git.Repo(openfisca_france_location)\n",
    "repo.git.status()\n",
    "\n",
    "sha = repo.head.object.hexsha\n",
    "\n",
    "print \"---This notebook have been runed with--- \\n\",\"Openfisca-france :\", repo.head.object.hexsha, '\\n' \n",
    "print \"Commit short SHA:\", repo.git.rev_parse(sha, short=4)\n",
    "print \"Branch: \", repo.git.rev_parse('--abbrev-ref', \"HEAD\") #equivalent to: $git rev-parse --abbrev-ref HEAD\n",
    "print \"Date (y/m/d):\", repo.git.show(\"-s\", '--format=%ci', 'HEAD^')[:-5],\"\\n\"  # equivalent to: $git show -s --format=%ci HEAD^\n",
    "\n",
    "print \"Openfisca-core :\", git.Repo(pkg_resources.get_distribution('openfisca-core').location).head.object.hexsha, ' Date:', git.Repo(pkg_resources.get_distribution('openfisca-core').location).git.show(\"-s\", '--format=%ci', 'HEAD^')[:-5]\n",
    "print \"Openfisca-france-data :\", git.Repo(pkg_resources.get_distribution('openfisca-france-data').location).head.object.hexsha, ' Date:', git.Repo(pkg_resources.get_distribution('openfisca-france-data').location).git.show(\"-s\", '--format=%ci', 'HEAD^')[:-5]\n",
    "print \"OpenFisca-Aggregates :\", git.Repo(pkg_resources.get_distribution('OpenFisca-Aggregates').location).head.object.hexsha, ' Date:', git.Repo(pkg_resources.get_distribution('OpenFisca-Aggregates').location).git.show(\"-s\", '--format=%ci', 'HEAD^')[:-5]\n",
    "print \"OpenFisca-Survey-Manager :\", git.Repo(pkg_resources.get_distribution('OpenFisca-Survey-Manager').location).head.object.hexsha, ' Date:', git.Repo(pkg_resources.get_distribution('OpenFisca-Aggregates').location).git.show(\"-s\", '--format=%ci', 'HEAD^')[:-5]"
   ]
  },
  {
   "cell_type": "code",
   "execution_count": 1,
   "metadata": {
    "collapsed": true
   },
   "outputs": [],
   "source": [
    "from openfisca_core import base_functions\n",
    "\n",
    "def requested_period_default_value_on_family(formula, simulation, period, *extra_params):\n",
    "    if formula.function is not None:\n",
    "        return formula.function(simulation, period, *extra_params)\n",
    "    holder = formula.holder\n",
    "    import ipdb; ipdb.set_trace()\n",
    "    column = holder.column\n",
    "    array = np.empty(holder.entity.count, dtype = column.dtype)\n",
    "    array.fill(column.default)\n",
    "    return period, array\n",
    "\n",
    " \n",
    "base_functions.requested_period_default_value = requested_period_default_value_on_family "
   ]
  },
  {
   "cell_type": "code",
   "execution_count": 2,
   "metadata": {
    "collapsed": true
   },
   "outputs": [],
   "source": [
    "#del base_functions"
   ]
  },
  {
   "cell_type": "markdown",
   "metadata": {},
   "source": [
    "### Imports"
   ]
  },
  {
   "cell_type": "code",
   "execution_count": 3,
   "metadata": {
    "collapsed": false
   },
   "outputs": [],
   "source": [
    "%matplotlib inline\n",
    "from __future__ import division\n",
    "\n",
    "from openfisca_core import periods\n",
    "from openfisca_plugin_aggregates.tests.reform.test_aggregates_mensualized import create_survey_scenario\n",
    "import pandas as pd\n",
    "\n",
    "import matplotlib.pyplot as plt\n",
    "\n",
    "import numpy as np\n",
    "from numpy import (datetime64, logical_and as and_, logical_not as not_, logical_or as or_, logical_xor as xor_,\n",
    "maximum as max_, minimum as min_, round)\n",
    "\n",
    "\n",
    "#Faire des filtres pour Mahdi survey_scenario.create_data_frame_by_entity_key_plural\n",
    "\n",
    "pd.set_option('expand_frame_repr', False)  #utile quand on utilise pandas en mode console\n",
    "pd.set_option(\"display.max_rows\",201)\n",
    "pd.set_option(\"display.max_columns\",201)"
   ]
  },
  {
   "cell_type": "markdown",
   "metadata": {},
   "source": [
    "# Create Survey Scenario"
   ]
  },
  {
   "cell_type": "code",
   "execution_count": 4,
   "metadata": {
    "collapsed": false
   },
   "outputs": [],
   "source": [
    "period = periods.period(2009)"
   ]
  },
  {
   "cell_type": "code",
   "execution_count": 5,
   "metadata": {
    "collapsed": false
   },
   "outputs": [
    {
     "data": {
      "text/plain": [
       "Period((u'month', Instant((2009, 1, 1)), 1))"
      ]
     },
     "execution_count": 5,
     "metadata": {},
     "output_type": "execute_result"
    }
   ],
   "source": [
    "period.this_year.this_month"
   ]
  },
  {
   "cell_type": "code",
   "execution_count": 6,
   "metadata": {
    "collapsed": false
   },
   "outputs": [
    {
     "data": {
      "text/plain": [
       "<openfisca_core.simulations.Simulation at 0x10fb38510>"
      ]
     },
     "execution_count": 6,
     "metadata": {},
     "output_type": "execute_result"
    }
   ],
   "source": [
    "survey_scenario = create_survey_scenario(2009)\n",
    "survey_scenario.new_simulation()"
   ]
  },
  {
   "cell_type": "code",
   "execution_count": 9,
   "metadata": {
    "collapsed": false
   },
   "outputs": [],
   "source": [
    "\n",
    "reload(base_functions)\n",
    "base_functions.requested_period_default_value = base_functions.requested_period_default_value"
   ]
  },
  {
   "cell_type": "code",
   "execution_count": 10,
   "metadata": {
    "collapsed": false
   },
   "outputs": [
    {
     "name": "stderr",
     "output_type": "stream",
     "text": [
      "ERROR:openfisca_core.formulas:An error occurred while calling formula revdisp_mensuel_compensated_ir_mensuel@menages<2009> in module openfisca_france.reforms.mensualisation.mensualisation_ir_8\n"
     ]
    },
    {
     "ename": "AssertionError",
     "evalue": "Circular definition detected on formula revdisp_mensuel_compensated_ir_mensuel<2009>. Formulas and periods involved: chomage_brut<2009-01>, csg_imposable_chomage<2009-01>, pen_mensuel<2009-01>, revdisp_mensuel_compensated_ir_mensuel<2009>.",
     "output_type": "error",
     "traceback": [
      "\u001b[0;31m---------------------------------------------------------------------------\u001b[0m",
      "\u001b[0;31mAssertionError\u001b[0m                            Traceback (most recent call last)",
      "\u001b[0;32m<ipython-input-10-c2a04fbc167e>\u001b[0m in \u001b[0;36m<module>\u001b[0;34m()\u001b[0m\n\u001b[1;32m      1\u001b[0m \u001b[0;31m#%pdb\u001b[0m\u001b[0;34m\u001b[0m\u001b[0;34m\u001b[0m\u001b[0m\n\u001b[0;32m----> 2\u001b[0;31m \u001b[0msurvey_scenario\u001b[0m\u001b[0;34m.\u001b[0m\u001b[0msimulation\u001b[0m\u001b[0;34m.\u001b[0m\u001b[0mcalculate_add\u001b[0m\u001b[0;34m(\u001b[0m\u001b[0;34m\"revdisp_mensuel_compensated_ir_mensuel\"\u001b[0m\u001b[0;34m)\u001b[0m\u001b[0;34m\u001b[0m\u001b[0m\n\u001b[0m",
      "\u001b[0;32m/Users/adrienpacifico/openfisca/openfisca-core/openfisca_core/simulations.pyc\u001b[0m in \u001b[0;36mcalculate_add\u001b[0;34m(self, column_name, period, **parameters)\u001b[0m\n\u001b[1;32m     79\u001b[0m         \u001b[0;32mif\u001b[0m \u001b[0mperiod\u001b[0m \u001b[0;32mis\u001b[0m \u001b[0mNone\u001b[0m\u001b[0;34m:\u001b[0m\u001b[0;34m\u001b[0m\u001b[0m\n\u001b[1;32m     80\u001b[0m             \u001b[0mperiod\u001b[0m \u001b[0;34m=\u001b[0m \u001b[0mself\u001b[0m\u001b[0;34m.\u001b[0m\u001b[0mperiod\u001b[0m\u001b[0;34m\u001b[0m\u001b[0m\n\u001b[0;32m---> 81\u001b[0;31m         \u001b[0;32mreturn\u001b[0m \u001b[0mself\u001b[0m\u001b[0;34m.\u001b[0m\u001b[0mcompute_add\u001b[0m\u001b[0;34m(\u001b[0m\u001b[0mcolumn_name\u001b[0m\u001b[0;34m,\u001b[0m \u001b[0mperiod\u001b[0m \u001b[0;34m=\u001b[0m \u001b[0mperiod\u001b[0m\u001b[0;34m,\u001b[0m \u001b[0;34m**\u001b[0m\u001b[0mparameters\u001b[0m\u001b[0;34m)\u001b[0m\u001b[0;34m.\u001b[0m\u001b[0marray\u001b[0m\u001b[0;34m\u001b[0m\u001b[0m\n\u001b[0m\u001b[1;32m     82\u001b[0m \u001b[0;34m\u001b[0m\u001b[0m\n\u001b[1;32m     83\u001b[0m     \u001b[0;32mdef\u001b[0m \u001b[0mcalculate_add_divide\u001b[0m\u001b[0;34m(\u001b[0m\u001b[0mself\u001b[0m\u001b[0;34m,\u001b[0m \u001b[0mcolumn_name\u001b[0m\u001b[0;34m,\u001b[0m \u001b[0mperiod\u001b[0m \u001b[0;34m=\u001b[0m \u001b[0mNone\u001b[0m\u001b[0;34m,\u001b[0m \u001b[0;34m**\u001b[0m\u001b[0mparameters\u001b[0m\u001b[0;34m)\u001b[0m\u001b[0;34m:\u001b[0m\u001b[0;34m\u001b[0m\u001b[0m\n",
      "\u001b[0;32m/Users/adrienpacifico/openfisca/openfisca-core/openfisca_core/simulations.pyc\u001b[0m in \u001b[0;36mcompute_add\u001b[0;34m(self, column_name, period, **parameters)\u001b[0m\n\u001b[1;32m    183\u001b[0m                 \u001b[0mcaller_input_variables_infos\u001b[0m\u001b[0;34m.\u001b[0m\u001b[0mappend\u001b[0m\u001b[0;34m(\u001b[0m\u001b[0mvariable_infos\u001b[0m\u001b[0;34m)\u001b[0m\u001b[0;34m\u001b[0m\u001b[0m\n\u001b[1;32m    184\u001b[0m         \u001b[0mholder\u001b[0m \u001b[0;34m=\u001b[0m \u001b[0mself\u001b[0m\u001b[0;34m.\u001b[0m\u001b[0mget_or_new_holder\u001b[0m\u001b[0;34m(\u001b[0m\u001b[0mcolumn_name\u001b[0m\u001b[0;34m)\u001b[0m\u001b[0;34m\u001b[0m\u001b[0m\n\u001b[0;32m--> 185\u001b[0;31m         \u001b[0;32mreturn\u001b[0m \u001b[0mholder\u001b[0m\u001b[0;34m.\u001b[0m\u001b[0mcompute_add\u001b[0m\u001b[0;34m(\u001b[0m\u001b[0mperiod\u001b[0m \u001b[0;34m=\u001b[0m \u001b[0mperiod\u001b[0m\u001b[0;34m,\u001b[0m \u001b[0;34m**\u001b[0m\u001b[0mparameters\u001b[0m\u001b[0;34m)\u001b[0m\u001b[0;34m\u001b[0m\u001b[0m\n\u001b[0m\u001b[1;32m    186\u001b[0m \u001b[0;34m\u001b[0m\u001b[0m\n\u001b[1;32m    187\u001b[0m     \u001b[0;32mdef\u001b[0m \u001b[0mcompute_add_divide\u001b[0m\u001b[0;34m(\u001b[0m\u001b[0mself\u001b[0m\u001b[0;34m,\u001b[0m \u001b[0mcolumn_name\u001b[0m\u001b[0;34m,\u001b[0m \u001b[0mperiod\u001b[0m \u001b[0;34m=\u001b[0m \u001b[0mNone\u001b[0m\u001b[0;34m,\u001b[0m \u001b[0;34m**\u001b[0m\u001b[0mparameters\u001b[0m\u001b[0;34m)\u001b[0m\u001b[0;34m:\u001b[0m\u001b[0;34m\u001b[0m\u001b[0m\n",
      "\u001b[0;32m/Users/adrienpacifico/openfisca/openfisca-core/openfisca_core/holders.pyc\u001b[0m in \u001b[0;36mcompute_add\u001b[0;34m(self, period, **parameters)\u001b[0m\n\u001b[1;32m    157\u001b[0m         \u001b[0mparameters\u001b[0m\u001b[0;34m[\u001b[0m\u001b[0;34m'accept_other_period'\u001b[0m\u001b[0;34m]\u001b[0m \u001b[0;34m=\u001b[0m \u001b[0mTrue\u001b[0m \u001b[0;31m# We expect the compute calls to return a period different than the requested one.\u001b[0m\u001b[0;34m\u001b[0m\u001b[0m\n\u001b[1;32m    158\u001b[0m         \u001b[0;32mwhile\u001b[0m \u001b[0mTrue\u001b[0m\u001b[0;34m:\u001b[0m\u001b[0;34m\u001b[0m\u001b[0m\n\u001b[0;32m--> 159\u001b[0;31m             \u001b[0mdated_holder\u001b[0m \u001b[0;34m=\u001b[0m \u001b[0mself\u001b[0m\u001b[0;34m.\u001b[0m\u001b[0mcompute\u001b[0m\u001b[0;34m(\u001b[0m\u001b[0mperiod\u001b[0m \u001b[0;34m=\u001b[0m \u001b[0mrequested_period\u001b[0m\u001b[0;34m,\u001b[0m \u001b[0;34m**\u001b[0m\u001b[0mparameters\u001b[0m\u001b[0;34m)\u001b[0m\u001b[0;34m\u001b[0m\u001b[0m\n\u001b[0m\u001b[1;32m    160\u001b[0m             \u001b[0mrequested_start\u001b[0m \u001b[0;34m=\u001b[0m \u001b[0mrequested_period\u001b[0m\u001b[0;34m.\u001b[0m\u001b[0mstart\u001b[0m\u001b[0;34m\u001b[0m\u001b[0m\n\u001b[1;32m    161\u001b[0m             \u001b[0mreturned_period\u001b[0m \u001b[0;34m=\u001b[0m \u001b[0mdated_holder\u001b[0m\u001b[0;34m.\u001b[0m\u001b[0mperiod\u001b[0m\u001b[0;34m\u001b[0m\u001b[0m\n",
      "\u001b[0;32m/Users/adrienpacifico/openfisca/openfisca-core/openfisca_core/holders.pyc\u001b[0m in \u001b[0;36mcompute\u001b[0;34m(self, period, **parameters)\u001b[0m\n\u001b[1;32m    131\u001b[0m         \u001b[0;32mif\u001b[0m \u001b[0;34m(\u001b[0m\u001b[0mcolumn_start_instant\u001b[0m \u001b[0;32mis\u001b[0m \u001b[0mNone\u001b[0m \u001b[0;32mor\u001b[0m \u001b[0mcolumn_start_instant\u001b[0m \u001b[0;34m<=\u001b[0m \u001b[0mperiod\u001b[0m\u001b[0;34m.\u001b[0m\u001b[0mstart\u001b[0m\u001b[0;34m)\u001b[0m\u001b[0;31m \u001b[0m\u001b[0;31m\\\u001b[0m\u001b[0;34m\u001b[0m\u001b[0m\n\u001b[1;32m    132\u001b[0m                 \u001b[0;32mand\u001b[0m \u001b[0;34m(\u001b[0m\u001b[0mcolumn_stop_instant\u001b[0m \u001b[0;32mis\u001b[0m \u001b[0mNone\u001b[0m \u001b[0;32mor\u001b[0m \u001b[0mperiod\u001b[0m\u001b[0;34m.\u001b[0m\u001b[0mstart\u001b[0m \u001b[0;34m<=\u001b[0m \u001b[0mcolumn_stop_instant\u001b[0m\u001b[0;34m)\u001b[0m\u001b[0;34m:\u001b[0m\u001b[0;34m\u001b[0m\u001b[0m\n\u001b[0;32m--> 133\u001b[0;31m             \u001b[0mformula_dated_holder\u001b[0m \u001b[0;34m=\u001b[0m \u001b[0mself\u001b[0m\u001b[0;34m.\u001b[0m\u001b[0mformula\u001b[0m\u001b[0;34m.\u001b[0m\u001b[0mcompute\u001b[0m\u001b[0;34m(\u001b[0m\u001b[0mperiod\u001b[0m \u001b[0;34m=\u001b[0m \u001b[0mperiod\u001b[0m\u001b[0;34m,\u001b[0m \u001b[0;34m**\u001b[0m\u001b[0mparameters\u001b[0m\u001b[0;34m)\u001b[0m\u001b[0;34m\u001b[0m\u001b[0m\n\u001b[0m\u001b[1;32m    134\u001b[0m             \u001b[0;32massert\u001b[0m \u001b[0mformula_dated_holder\u001b[0m \u001b[0;32mis\u001b[0m \u001b[0;32mnot\u001b[0m \u001b[0mNone\u001b[0m\u001b[0;34m\u001b[0m\u001b[0m\n\u001b[1;32m    135\u001b[0m             \u001b[0;32mif\u001b[0m \u001b[0;32mnot\u001b[0m \u001b[0mcolumn\u001b[0m\u001b[0;34m.\u001b[0m\u001b[0mis_permanent\u001b[0m\u001b[0;34m:\u001b[0m\u001b[0;34m\u001b[0m\u001b[0m\n",
      "\u001b[0;32m/Users/adrienpacifico/openfisca/openfisca-core/openfisca_core/formulas.pyc\u001b[0m in \u001b[0;36mcompute\u001b[0;34m(self, period, **parameters)\u001b[0m\n\u001b[1;32m    537\u001b[0m \u001b[0;34m\u001b[0m\u001b[0m\n\u001b[1;32m    538\u001b[0m         \u001b[0;32mtry\u001b[0m\u001b[0;34m:\u001b[0m\u001b[0;34m\u001b[0m\u001b[0m\n\u001b[0;32m--> 539\u001b[0;31m             \u001b[0mself\u001b[0m\u001b[0;34m.\u001b[0m\u001b[0mcheck_for_cycle\u001b[0m\u001b[0;34m(\u001b[0m\u001b[0mperiod\u001b[0m\u001b[0;34m)\u001b[0m\u001b[0;34m\u001b[0m\u001b[0m\n\u001b[0m\u001b[1;32m    540\u001b[0m             \u001b[0;32mif\u001b[0m \u001b[0mdebug\u001b[0m \u001b[0;32mor\u001b[0m \u001b[0mtrace\u001b[0m\u001b[0;34m:\u001b[0m\u001b[0;34m\u001b[0m\u001b[0m\n\u001b[1;32m    541\u001b[0m                 simulation.stack_trace.append(dict(\n",
      "\u001b[0;32m/Users/adrienpacifico/openfisca/openfisca-core/openfisca_core/formulas.pyc\u001b[0m in \u001b[0;36mcheck_for_cycle\u001b[0;34m(self, period)\u001b[0m\n\u001b[1;32m    482\u001b[0m             \u001b[0;31m# It would be a pure circular definition.\u001b[0m\u001b[0;34m\u001b[0m\u001b[0;34m\u001b[0m\u001b[0m\n\u001b[1;32m    483\u001b[0m             \u001b[0mrequested_periods\u001b[0m \u001b[0;34m=\u001b[0m \u001b[0mrequested_periods_by_variable_name\u001b[0m\u001b[0;34m[\u001b[0m\u001b[0mvariable_name\u001b[0m\u001b[0;34m]\u001b[0m\u001b[0;34m\u001b[0m\u001b[0m\n\u001b[0;32m--> 484\u001b[0;31m             \u001b[0;32massert\u001b[0m \u001b[0mperiod\u001b[0m \u001b[0;32mnot\u001b[0m \u001b[0;32min\u001b[0m \u001b[0mrequested_periods\u001b[0m \u001b[0;32mand\u001b[0m \u001b[0;32mnot\u001b[0m \u001b[0mcolumn\u001b[0m\u001b[0;34m.\u001b[0m\u001b[0mis_permanent\u001b[0m\u001b[0;34m,\u001b[0m \u001b[0mget_error_message\u001b[0m\u001b[0;34m(\u001b[0m\u001b[0;34m)\u001b[0m\u001b[0;34m\u001b[0m\u001b[0m\n\u001b[0m\u001b[1;32m    485\u001b[0m             \u001b[0;32mif\u001b[0m \u001b[0msimulation\u001b[0m\u001b[0;34m.\u001b[0m\u001b[0mmax_nb_cycles\u001b[0m \u001b[0;32mis\u001b[0m \u001b[0mNone\u001b[0m \u001b[0;32mor\u001b[0m \u001b[0mlen\u001b[0m\u001b[0;34m(\u001b[0m\u001b[0mrequested_periods\u001b[0m\u001b[0;34m)\u001b[0m \u001b[0;34m>\u001b[0m \u001b[0msimulation\u001b[0m\u001b[0;34m.\u001b[0m\u001b[0mmax_nb_cycles\u001b[0m\u001b[0;34m:\u001b[0m\u001b[0;34m\u001b[0m\u001b[0m\n\u001b[1;32m    486\u001b[0m                 \u001b[0mmessage\u001b[0m \u001b[0;34m=\u001b[0m \u001b[0mget_error_message\u001b[0m\u001b[0;34m(\u001b[0m\u001b[0;34m)\u001b[0m\u001b[0;34m\u001b[0m\u001b[0m\n",
      "\u001b[0;31mAssertionError\u001b[0m: Circular definition detected on formula revdisp_mensuel_compensated_ir_mensuel<2009>. Formulas and periods involved: chomage_brut<2009-01>, csg_imposable_chomage<2009-01>, pen_mensuel<2009-01>, revdisp_mensuel_compensated_ir_mensuel<2009>."
     ]
    }
   ],
   "source": [
    "#%pdb\n",
    "survey_scenario.simulation.calculate_add(\"revdisp_mensuel_compensated_ir_mensuel\")"
   ]
  },
  {
   "cell_type": "code",
   "execution_count": null,
   "metadata": {
    "collapsed": true
   },
   "outputs": [],
   "source": [
    "formula.function(simulation, period, extra_params)\n",
    "\n"
   ]
  },
  {
   "cell_type": "code",
   "execution_count": null,
   "metadata": {
    "collapsed": true
   },
   "outputs": [],
   "source": []
  },
  {
   "cell_type": "code",
   "execution_count": null,
   "metadata": {
    "collapsed": true
   },
   "outputs": [],
   "source": []
  },
  {
   "cell_type": "code",
   "execution_count": null,
   "metadata": {
    "collapsed": true
   },
   "outputs": [],
   "source": []
  },
  {
   "cell_type": "code",
   "execution_count": null,
   "metadata": {
    "collapsed": true
   },
   "outputs": [],
   "source": []
  },
  {
   "cell_type": "code",
   "execution_count": null,
   "metadata": {
    "collapsed": true
   },
   "outputs": [],
   "source": []
  },
  {
   "cell_type": "code",
   "execution_count": null,
   "metadata": {
    "collapsed": true
   },
   "outputs": [],
   "source": []
  },
  {
   "cell_type": "code",
   "execution_count": null,
   "metadata": {
    "collapsed": true
   },
   "outputs": [],
   "source": []
  },
  {
   "cell_type": "code",
   "execution_count": null,
   "metadata": {
    "collapsed": true
   },
   "outputs": [],
   "source": []
  },
  {
   "cell_type": "code",
   "execution_count": null,
   "metadata": {
    "collapsed": true
   },
   "outputs": [],
   "source": []
  },
  {
   "cell_type": "code",
   "execution_count": null,
   "metadata": {
    "collapsed": true
   },
   "outputs": [],
   "source": []
  },
  {
   "cell_type": "code",
   "execution_count": null,
   "metadata": {
    "collapsed": true
   },
   "outputs": [],
   "source": []
  },
  {
   "cell_type": "code",
   "execution_count": null,
   "metadata": {
    "collapsed": true
   },
   "outputs": [],
   "source": []
  },
  {
   "cell_type": "code",
   "execution_count": null,
   "metadata": {
    "collapsed": true
   },
   "outputs": [],
   "source": []
  },
  {
   "cell_type": "code",
   "execution_count": null,
   "metadata": {
    "collapsed": true
   },
   "outputs": [],
   "source": [
    "print survey_scenario.simulation.persons.simulation.entity_by_key_plural"
   ]
  },
  {
   "cell_type": "code",
   "execution_count": null,
   "metadata": {
    "collapsed": true
   },
   "outputs": [],
   "source": [
    "simulation.entity_by_key_singular['menage'].count"
   ]
  },
  {
   "cell_type": "code",
   "execution_count": null,
   "metadata": {
    "collapsed": true
   },
   "outputs": [],
   "source": [
    "from openfisca_core import holders\n",
    "\n",
    "\n",
    "def sum_by_entity( array_or_dated_holder, entity, roles = None, simulation = simulation):\n",
    "    #1# Sert juste à récupérer la simulation.\n",
    "    simulation\n",
    "    persons = simulation.persons\n",
    "\n",
    "\n",
    "    #2#\n",
    "    assert entity in simulation.entity_by_key_singular, u\"Unknown entity: {}\".format(entity).encode('utf-8')\n",
    "    entity = simulation.entity_by_key_singular[entity]\n",
    "    assert not entity.is_persons_entity\n",
    "\n",
    "\n",
    "    #3#\n",
    "    if isinstance(array_or_dated_holder, (holders.DatedHolder, holders.Holder)):\n",
    "        assert array_or_dated_holder.entity.is_persons_entity\n",
    "        array = array_or_dated_holder.array\n",
    "    else:\n",
    "        array = array_or_dated_holder\n",
    "        assert isinstance(array, np.ndarray), u\"Expected a holder or a Numpy array. Got: {}\".format(array).encode(\n",
    "            'utf-8')\n",
    "        assert array.size == persons.count, u\"Expected an array of size {}. Got: {}\".format(persons.count,\n",
    "            array.size)\n",
    "\n",
    "    entity_index_array = persons.simulation.holder_by_name[entity.index_for_person_variable_name].array\n",
    "    if roles is None:\n",
    "        roles = range(entity.roles_count)\n",
    "    target_array = np.zeros( entity.count ,dtype = array.dtype if array.dtype != np.bool else np.int16)\n",
    "    for role in roles:\n",
    "        # TODO: Mettre les filtres en cache dans la simulation\n",
    "        boolean_filter = persons.simulation.holder_by_name[entity.role_for_person_variable_name].array == role\n",
    "        target_array[entity_index_array[boolean_filter]] += array[boolean_filter]\n",
    "    return target_array"
   ]
  },
  {
   "cell_type": "code",
   "execution_count": null,
   "metadata": {
    "collapsed": true
   },
   "outputs": [],
   "source": [
    "irpp = simulation.calculate('irpp')\n",
    "\n",
    "sum_by_entity(weight_individus, 'foyer_fiscal')"
   ]
  },
  {
   "cell_type": "code",
   "execution_count": null,
   "metadata": {
    "collapsed": true
   },
   "outputs": [],
   "source": [
    "print simulation.calculate('idfam').shape\n",
    "print simulation.calculate('idfam').shape\n",
    "print simulation.calculate('idfam').shape"
   ]
  },
  {
   "cell_type": "code",
   "execution_count": null,
   "metadata": {
    "collapsed": true
   },
   "outputs": [],
   "source": [
    "#simulation.calculate('idfam')\n",
    "pd.Series(simulation.calculate('champm_individus')).value_counts()"
   ]
  },
  {
   "cell_type": "code",
   "execution_count": null,
   "metadata": {
    "collapsed": true
   },
   "outputs": [],
   "source": [
    "#simulation.calculate('idfam')\n",
    "pd.Series(simulation.calculate('champm_foyers_fiscaux')).value_counts()"
   ]
  },
  {
   "cell_type": "code",
   "execution_count": null,
   "metadata": {
    "collapsed": true
   },
   "outputs": [],
   "source": [
    "\n",
    "def any_by_roles(array_or_dated_holder_input, array_or_dated_holder_target, entity = None, roles = None):\n",
    "    holder = array_or_dated_holder_input.holder\n",
    "    target_entity = holder.entity\n",
    "    simulation = target_entity.simulation\n",
    "    persons = simulation.persons\n",
    "    if entity is None:\n",
    "        entity = holder.entity\n",
    "    else:\n",
    "        assert entity in simulation.entity_by_key_singular, u\"Unknown entity: {}\".format(entity).encode('utf-8')\n",
    "        entity = simulation.entity_by_key_singular[entity]\n",
    "    assert not entity.is_persons_entity\n",
    "    if isinstance(array_or_dated_holder_target, (holders.DatedHolder, holders.Holder)):\n",
    "        assert array_or_dated_holder_target.entity.is_persons_entity\n",
    "        array = array_or_dated_holder_target.array\n",
    "    else:\n",
    "        array = array_or_dated_holder_target\n",
    "        assert isinstance(array, np.ndarray), u\"Expected a holder or a Numpy array. Got: {}\".format(array).encode(\n",
    "            'utf-8')\n",
    "        assert array.size == persons.count, u\"Expected an array of size {}. Got: {}\".format(persons.count,\n",
    "            array.size)\n",
    "    entity_index_array = persons.simulation.holder_by_name[entity.index_for_person_variable_name].array\n",
    "    if roles is None:\n",
    "        roles = range(entity.roles_count)\n",
    "    target_array = self.zeros(dtype = np.bool)\n",
    "    for role in roles:\n",
    "        # TODO Mettre les filtres en cache dans la simulation\n",
    "        boolean_filter = persons.simulation.holder_by_name[entity.role_for_person_variable_name].array == role\n",
    "        target_array[entity_index_array[boolean_filter]] += array[boolean_filter]\n",
    "    return target_array"
   ]
  },
  {
   "cell_type": "code",
   "execution_count": null,
   "metadata": {
    "collapsed": true
   },
   "outputs": [],
   "source": [
    "irpp = simulation.compute('irpp')\n",
    "\n",
    "any_by_roles(irpp, weight_menages.values)"
   ]
  },
  {
   "cell_type": "code",
   "execution_count": null,
   "metadata": {
    "collapsed": true
   },
   "outputs": [],
   "source": [
    "import ipdb; ipdb.set_trace()\n",
    "survey_scenario.simulation.calculate(\"noindiv\")"
   ]
  },
  {
   "cell_type": "code",
   "execution_count": null,
   "metadata": {
    "collapsed": true
   },
   "outputs": [],
   "source": [
    "\n",
    "\n",
    "def function_creator(postes_coicop, year_start = None, year_stop = None):\n",
    "    start = date(year_start, 1, 1) if year_start is not None else None\n",
    "    stop = date(year_stop, 12, 31) if year_stop is not None else None\n",
    "    if len(postes_coicop) != 0:\n",
    "        @dated_function(start = start, stop = stop)\n",
    "        def func(self, simulation, period):\n",
    "            return period, sum(simulation.calculate(\n",
    "                'poste_' + slugify(poste, separator = u'_'), period) for poste in postes_coicop\n",
    "                )\n",
    "        func.__name__ = \"function_{year_start}_{year_stop}\".format(year_start = year_start, year_stop = year_stop)\n",
    "        return func\n",
    "\n",
    "    else:  # To deal with Reform emptying some fiscal categories\n",
    "        @dated_function(start = start, stop = stop)\n",
    "        def func(self, simulation, period):\n",
    "            return period, self.zeros()\n",
    "\n",
    "        func.__name__ = \"function_{year_start}_{year_stop}\".format(year_start = year_start, year_stop = year_stop)\n",
    "        return func\n",
    "\n",
    "\n",
    "\n",
    "def generate_variables(categories_fiscales = None, Reform = None, tax_benefit_system = None):\n",
    "    assert categories_fiscales is not None\n",
    "    original_categories = sorted(categories_fiscales_data_frame['categorie_fiscale'].drop_duplicates())\n",
    "    removed_categories = set()\n",
    "    if Reform:\n",
    "        removed_categories = set(original_categories).difference(\n",
    "            set(categories_fiscales['categorie_fiscale'].drop_duplicates()))\n",
    "\n",
    "    for categorie_fiscale in original_categories:\n",
    "        year_start = 1994\n",
    "        year_final_stop = 2014\n",
    "        functions_by_name = dict()\n",
    "        for year in range(year_start, year_final_stop + 1):\n",
    "            postes_coicop = sorted(\n",
    "                categories_fiscales.query(\n",
    "                    'start <= @year and stop >= @year and categorie_fiscale == @categorie_fiscale'\n",
    "                    )['code_coicop'].astype(str))\n",
    "            if year == year_start:\n",
    "                previous_postes_coicop = postes_coicop\n",
    "                continue\n",
    "\n",
    "            if previous_postes_coicop == postes_coicop and year != year_final_stop:\n",
    "                continue\n",
    "            else:\n",
    "                year_stop = year - 1 if year != year_final_stop else year_final_stop\n",
    "\n",
    "                dated_func = function_creator(previous_postes_coicop, year_start = year_start, year_stop = year_stop)\n",
    "                dated_function_name = u\"function_{year_start}_{year_stop}\".format(\n",
    "                    year_start = year_start, year_stop = year_stop)\n",
    "                log.info(u'Creating fiscal category {} ({}-{}) with the following products {}'.format(\n",
    "                    categorie_fiscale, year_start, year_stop, postes_coicop))\n",
    "\n",
    "                if len(previous_postes_coicop) != 0:\n",
    "                    functions_by_name[dated_function_name] = dated_func\n",
    "\n",
    "                if len(previous_postes_coicop) == 0 and categorie_fiscale in removed_categories:\n",
    "                    functions_by_name[dated_function_name] = dated_func\n",
    "\n",
    "                year_start = year\n",
    "\n",
    "            previous_postes_coicop = postes_coicop\n",
    "\n",
    "        class_name = u'depenses_{}'.format(categorie_fiscale)\n",
    "        # Trick to create a class with a dynamic name.\n",
    "        if not Reform:\n",
    "            definitions_by_name = dict(\n",
    "                column = FloatCol,\n",
    "                entity_class = Menages,\n",
    "                label = u\"Categorie fiscale {0}\".format(categorie_fiscale),\n",
    "                )\n",
    "            definitions_by_name.update(functions_by_name)\n",
    "            type(class_name.encode('utf-8'), (DatedVariable,), definitions_by_name)\n",
    "        else:\n",
    "            definitions_by_name = dict(\n",
    "                reference = tax_benefit_system.column_by_name[class_name.encode('utf-8')]\n",
    "                )\n",
    "            definitions_by_name.update(functions_by_name)\n",
    "            type(class_name.encode('utf-8'), (Reform.DatedVariable,), definitions_by_name)\n",
    "\n",
    "        del definitions_by_name"
   ]
  },
  {
   "cell_type": "code",
   "execution_count": null,
   "metadata": {
    "collapsed": true
   },
   "outputs": [],
   "source": [
    "generate_variables(categories_fiscales = None, Reform = None, tax_benefit_system = simulation.tax_benefit_system)"
   ]
  },
  {
   "cell_type": "code",
   "execution_count": null,
   "metadata": {
    "collapsed": true
   },
   "outputs": [],
   "source": [
    "simulation.tax_benefit_system"
   ]
  },
  {
   "cell_type": "code",
   "execution_count": null,
   "metadata": {
    "collapsed": true
   },
   "outputs": [],
   "source": [
    "sum_by_entity(weight_individus, 'individu')"
   ]
  },
  {
   "cell_type": "code",
   "execution_count": null,
   "metadata": {
    "collapsed": true
   },
   "outputs": [],
   "source": [
    "entity = simulation.entity_by_key_singular['famille']\n",
    "entity.count"
   ]
  },
  {
   "cell_type": "code",
   "execution_count": null,
   "metadata": {
    "collapsed": true
   },
   "outputs": [],
   "source": [
    "survey_scenario.simulation.calculate(\"noindiv\")"
   ]
  },
  {
   "cell_type": "code",
   "execution_count": null,
   "metadata": {
    "collapsed": true
   },
   "outputs": [],
   "source": [
    "entity.iter_member_persons_role_and_id()"
   ]
  },
  {
   "cell_type": "code",
   "execution_count": null,
   "metadata": {
    "collapsed": true
   },
   "outputs": [],
   "source": [
    "from openfisca_utils import make_ready_to_use_scenario"
   ]
  },
  {
   "cell_type": "code",
   "execution_count": null,
   "metadata": {
    "collapsed": true
   },
   "outputs": [],
   "source": [
    "scenario = make_ready_to_use_scenario.make_single_with_child_scenario(year = 2009)"
   ]
  },
  {
   "cell_type": "code",
   "execution_count": null,
   "metadata": {
    "collapsed": true
   },
   "outputs": [],
   "source": [
    "scenario.test_case\n"
   ]
  },
  {
   "cell_type": "code",
   "execution_count": null,
   "metadata": {
    "collapsed": true
   },
   "outputs": [],
   "source": [
    "c = np.zeros(1)\n",
    "a = np.array([1,2,3])\n",
    "b = np.array([True,True,False])\n",
    "c += a[b]; c"
   ]
  },
  {
   "cell_type": "code",
   "execution_count": null,
   "metadata": {
    "collapsed": true
   },
   "outputs": [],
   "source": [
    "simulation = survey_scenario.simulation"
   ]
  },
  {
   "cell_type": "code",
   "execution_count": null,
   "metadata": {
    "collapsed": true
   },
   "outputs": [],
   "source": [
    "entity=  simulation.holder_by_name['aah'].entity\n",
    "entity.key_singular"
   ]
  },
  {
   "cell_type": "code",
   "execution_count": null,
   "metadata": {
    "collapsed": true
   },
   "outputs": [],
   "source": [
    "coucou = survey_scenario.simulation.compute(\"retraite_imposable\", \"2009-{}\".format(month))"
   ]
  },
  {
   "cell_type": "code",
   "execution_count": null,
   "metadata": {
    "collapsed": true
   },
   "outputs": [],
   "source": [
    "coucou.entity"
   ]
  },
  {
   "cell_type": "code",
   "execution_count": null,
   "metadata": {
    "collapsed": true
   },
   "outputs": [],
   "source": [
    "simulation.entity_by_key_singular"
   ]
  }
 ],
 "metadata": {
  "kernelspec": {
   "display_name": "Python 2",
   "language": "python",
   "name": "python2"
  },
  "language_info": {
   "codemirror_mode": {
    "name": "ipython",
    "version": 2
   },
   "file_extension": ".py",
   "mimetype": "text/x-python",
   "name": "python",
   "nbconvert_exporter": "python",
   "pygments_lexer": "ipython2",
   "version": "2.7.10"
  },
  "toc": {
   "toc_cell": true,
   "toc_number_sections": true,
   "toc_threshold": 4,
   "toc_window_display": true
  },
  "toc_position": {
   "left": "2867.02px",
   "right": "20px",
   "top": "88px",
   "width": "300px"
  }
 },
 "nbformat": 4,
 "nbformat_minor": 0
}
