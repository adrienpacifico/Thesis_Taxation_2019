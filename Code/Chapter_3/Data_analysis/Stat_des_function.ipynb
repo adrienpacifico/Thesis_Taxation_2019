{
 "cells": [
  {
   "cell_type": "code",
   "execution_count": 2,
   "metadata": {
    "collapsed": true
   },
   "outputs": [],
   "source": [
    "import pandas as pd"
   ]
  },
  {
   "cell_type": "code",
   "execution_count": 3,
   "metadata": {
    "collapsed": true
   },
   "outputs": [],
   "source": [
    "pd.options.mode.chained_assignment = None"
   ]
  },
  {
   "cell_type": "code",
   "execution_count": 4,
   "metadata": {
    "collapsed": true
   },
   "outputs": [],
   "source": [
    "if __name__ != '__main__': BOUM"
   ]
  },
  {
   "cell_type": "code",
   "execution_count": 20,
   "metadata": {
    "collapsed": true
   },
   "outputs": [],
   "source": [
    "# if __name__ == '__main__':\n",
    "#     result_path = u\"C:/Users/IMPTEMP_A_PACIFIC/Desktop/EDP_2016/Program/Program_only_married_couples/hdf_married_couples/\"\n",
    "\n",
    "#     df = pd.read_hdf(result_path+\"married_couples_step_last.h5\", \"fiscr\").sample(10_000)\n",
    "#     df[[\"Delta_Rbg\", \"Age_wo\"]].describe().loc[[\"mean\", \"std\"]].T\n",
    "#     variables_stat_des = [\"Rbg_2011\", \"Delta_Rbg\",\n",
    "#                       \"Father_is_working_2011_(income)\", \"Mother_is_working_2011_(income)\",\n",
    "#                       \"YSALI_wo_2011\", \"YSALI_me_2011\"\n",
    "#                     ]\n",
    "#     df[\"Mother_is_working_2011_(income)\"] = ((df.YSALI_wo_2011 > 6000) &( df.YRSTI_wo_2011 < 6000))\n",
    "#     df[\"Father_is_working_2011_(income)\"] = ((df.YSALI_me_2011 > 6000) &( df.YRSTI_me_2011 < 6000))"
   ]
  },
  {
   "cell_type": "code",
   "execution_count": null,
   "metadata": {
    "collapsed": true
   },
   "outputs": [],
   "source": []
  },
  {
   "cell_type": "code",
   "execution_count": 16,
   "metadata": {
    "collapsed": false
   },
   "outputs": [
    {
     "data": {
      "text/html": [
       "<div>\n",
       "<style scoped>\n",
       "    .dataframe tbody tr th:only-of-type {\n",
       "        vertical-align: middle;\n",
       "    }\n",
       "\n",
       "    .dataframe tbody tr th {\n",
       "        vertical-align: top;\n",
       "    }\n",
       "\n",
       "    .dataframe thead th {\n",
       "        text-align: right;\n",
       "    }\n",
       "</style>\n",
       "<table border=\"1\" class=\"dataframe\">\n",
       "  <thead>\n",
       "    <tr style=\"text-align: right;\">\n",
       "      <th></th>\n",
       "      <th>mean</th>\n",
       "      <th>std</th>\n",
       "    </tr>\n",
       "  </thead>\n",
       "  <tbody>\n",
       "    <tr>\n",
       "      <th>Delta_Rbg</th>\n",
       "      <td>2704.048290</td>\n",
       "      <td>22813.759128</td>\n",
       "    </tr>\n",
       "    <tr>\n",
       "      <th>Age_wo</th>\n",
       "      <td>49.651077</td>\n",
       "      <td>14.948488</td>\n",
       "    </tr>\n",
       "  </tbody>\n",
       "</table>\n",
       "</div>"
      ],
      "text/plain": [
       "                   mean           std\n",
       "Delta_Rbg   2704.048290  22813.759128\n",
       "Age_wo    49.651077     14.948488"
      ]
     },
     "execution_count": 16,
     "metadata": {},
     "output_type": "execute_result"
    }
   ],
   "source": []
  },
  {
   "cell_type": "code",
   "execution_count": 3,
   "metadata": {
    "collapsed": false
   },
   "outputs": [],
   "source": [
    "individualized_income_var = [ 'YSALI', 'YCHOI', 'YRSTI', # Salaire, chomage, retraite\n",
    "                             'YRAGI', 'YBICI', 'YBNCI',# Benefices Agricoles, Benefices industriels et commerciaux, Benefices non commerciaux\n",
    "                            ] \n"
   ]
  },
  {
   "cell_type": "code",
   "execution_count": 4,
   "metadata": {
    "collapsed": false
   },
   "outputs": [
    {
     "data": {
      "text/plain": [
       "['Delta_YSALI_wo',\n",
       " 'Delta_YSALI_me',\n",
       " 'Delta_YCHOI_wo',\n",
       " 'Delta_YCHOI_me',\n",
       " 'Delta_YRSTI_wo',\n",
       " 'Delta_YRSTI_me',\n",
       " 'Delta_YRAGI_wo',\n",
       " 'Delta_YRAGI_me',\n",
       " 'Delta_YBICI_wo',\n",
       " 'Delta_YBICI_me',\n",
       " 'Delta_YBNCI_wo',\n",
       " 'Delta_YBNCI_me']"
      ]
     },
     "execution_count": 4,
     "metadata": {},
     "output_type": "execute_result"
    }
   ],
   "source": [
    "[\"Delta_{}_{}\".format(var, parent) for var in individualized_income_var for parent in [\"wo\", \"me\"]]"
   ]
  },
  {
   "cell_type": "code",
   "execution_count": 8,
   "metadata": {
    "collapsed": true
   },
   "outputs": [],
   "source": [
    "\n",
    "variables_stat_des = [\"Rbg_2011\", \"Delta_Rbg\",\n",
    "                      \"Father_is_working_2011_(income)\", \"Mother_is_working_2011_(income)\",\n",
    "                      \"Father_is_retired_2011_(income)\", \"Mother_is_retired_2011_(income)\",\"Father_is_retired_2014_(income)\", \"Mother_is_retired_2014_(income)\",\n",
    "                      \"Father_is_employed_2011_(income)\", \"Mother_is_employed_2011_(income)\", \"Father_is_employed_2014_(income)\", \"Mother_is_employed_2014_(income)\",\n",
    "                      \"Wo_is_independant_worker_2011\", \"Me_is_independant_worker_2011\", \n",
    "                      \"Wo_start_working\", \"Me_start_working\", \"Wo_stop_working_not_retired\", \"Me_stop_working_not_retired\", \"Wo_get_retired\", \"Me_get_retired\",\n",
    "                      \"Delta_YSALI_mother\", \"Delta_YSALI_father\", \"YSALI_me_2011\",\"YSALI_me_2014\", \"YSALI_wo_2011\",\"YSALI_wo_2014\",\n",
    "                      \"YALRI_me_2011\", \"YALRI_wo_2011\",\"YALRI_me_2014\", \"YALRI_wo_2014\",\n",
    "                      \"CENTILE_2011\", \"CENTILE_2014\",\n",
    "                      \"ZIMPOM14_2014\",\"Irpp_2014\",\n",
    "                      \"ZIMPOM_2011\", \"Irpp_2011\",\n",
    "                      \"Real_MTR_from_Zimpom\",\n",
    "                      \"MTR_2011\", \"MTR_2014\", \"Counterfactual_MTR_2014\", \"Counterfactual_MTR_2011\",\n",
    "                    ] + [\"Share_{}\".format(child) for child in range(0,6)] \\\n",
    "                    + [\"Age_me\",\"Age_wo\", \"Age_Elder_child\",\"Age_Youngest_child\"  ] \\\n",
    "                    + [\"Delta_{}_{}\".format(var, parent) for var in individualized_income_var for parent in [\"wo\", \"me\"]]\n"
   ]
  },
  {
   "cell_type": "code",
   "execution_count": 12,
   "metadata": {
    "collapsed": true
   },
   "outputs": [],
   "source": [
    "def stat_des_simple(df = df, variables_stat_des = variables_stat_des):\n",
    "    df[\"Mother_is_working_2011_(income)\"] = ((df.YSALI_wo_2011 > 6000) &( df.YRSTI_wo_2011 < 6000))\n",
    "    df[\"Father_is_working_2011_(income)\"] = ((df.YSALI_me_2011 > 6000) &( df.YRSTI_me_2011 < 6000))\n",
    "    return df[variables_stat_des].astype(\"float\").describe().loc[[\"mean\", \"std\",\"count\" ]].T"
   ]
  },
  {
   "cell_type": "code",
   "execution_count": 8,
   "metadata": {
    "collapsed": true
   },
   "outputs": [],
   "source": [
    "def stat_des_simple(df = df, variables_stat_des = variables_stat_des, \n",
    "                    which_stats = [\"mean\", \"std\",\"count\" ]):\n",
    "    \n",
    "    \n",
    "    df[\"Mother_is_retired_2011_(income)\"] = (((df.YSALI_wo_2011 + df.YBICI_wo_2011+df.YBICI_wo_2011+df.YRAGI_wo_2011\n",
    "                                              )< 6000)\n",
    "                                             &( df.YRSTI_wo_2011 > 6000))\n",
    "    df[\"Father_is_retired_2011_(income)\"] = (((df.YSALI_me_2011 + df.YBICI_me_2011+df.YBNCI_me_2011+df.YRAGI_me_2011\n",
    "                                              )< 6000)\n",
    "                                             &( df.YRSTI_me_2011 > 6000))\n",
    "    df[\"Mother_is_retired_2014_(income)\"] = (((df.YSALI_wo_2014 + df.YBICI_wo_2014+df.YBNCI_wo_2014+df.YRAGI_wo_2014\n",
    "                                              )< 6000)\n",
    "                                             &( df.YRSTI_wo_2014 > 6000))\n",
    "    df[\"Father_is_retired_2014_(income)\"] = (((df.YSALI_me_2014 + df.YBICI_me_2014+df.YBNCI_me_2014+df.YRAGI_me_2014\n",
    "                                              )< 6000)\n",
    "                                             &( df.YRSTI_me_2014 > 6000))\n",
    "\n",
    "    df[\"Mother_is_unemployed_2011_(income)\"] = (((df.YSALI_wo_2011 + df.YBICI_wo_2011+df.YBICI_wo_2011+df.YRAGI_wo_2011\n",
    "                                              )< 6000)\n",
    "                                             &( df.YCHOI_wo_2014 > 6000))\n",
    "    df[\"Father_is_unemployed_2011_(income)\"] = (((df.YSALI_me_2011 + df.YBICI_me_2011+df.YBNCI_me_2011+df.YRAGI_me_2011\n",
    "                                              )< 6000)\n",
    "                                             &( df.YCHOI_me_2014 > 6000))\n",
    "    \n",
    "    for parent in [\"me\", \"wo\"]:\n",
    "        for var in individualized_income_var:\n",
    "            df[\"Delta_{}_{}\".format(var, parent)] = df[\"{}_{}_2014\".format(var,parent)] - df[\"{}_{}_2011\".format(var, parent)]\n",
    "    \n",
    "    df[\"Delta_YSALI_mother\"] = df.YSALI_wo_2014 - df.YSALI_wo_2011\n",
    "    df[\"Delta_YSALI_father\"] = df.YSALI_me_2014 - df.YSALI_me_2011\n",
    "    \n",
    "    \n",
    "\n",
    "    for child in range(0,6):\n",
    "        df[\"Share_{}\".format(child)] = (df.NBPAC_2011 == child).mean()\n",
    "    \n",
    "    \n",
    "    df[\"Mother_is_working_2011_(income)\"] = (((df.YSALI_wo_2011 + df.YBICI_wo_2011+df.YBICI_wo_2011+df.YRAGI_wo_2011\n",
    "                                              )> 6000)\n",
    "                                             &( df.YRSTI_wo_2011+df.YCHOI_wo_2014 < 6000))\n",
    "    df[\"Father_is_working_2011_(income)\"] = (((df.YSALI_me_2011 + df.YBICI_me_2011+df.YBNCI_me_2011+df.YRAGI_me_2011\n",
    "                                              )> 6000)\n",
    "                                             &( df.YRSTI_me_2011+df.YCHOI_me_2014 < 6000))\n",
    "    \n",
    "    \n",
    "    df[\"Mother_is_employed_2011_(income)\"] = ((df.YSALI_wo_2011 > 6000) &( df.YRSTI_wo_2011 < 6000))\n",
    "    df[\"Father_is_employed_2011_(income)\"] = ((df.YSALI_me_2011 > 6000) &( df.YRSTI_me_2011 < 6000))\n",
    "    df[\"Mother_is_employed_2014_(income)\"] = ((df.YSALI_wo_2014 > 6000) &( df.YRSTI_wo_2014 < 6000))\n",
    "    df[\"Father_is_employed_2014_(income)\"] = ((df.YSALI_me_2014 > 6000) &( df.YRSTI_me_2014 < 6000))\n",
    "    return df[variables_stat_des].astype(\"float\").describe().loc[which_stats].T"
   ]
  },
  {
   "cell_type": "code",
   "execution_count": 14,
   "metadata": {
    "collapsed": true
   },
   "outputs": [],
   "source": [
    "def stat_des_by_treatment_group(df = df, variables_stat_des = variables_stat_des):\n",
    "    df_all = stat_des_simple(df = df, variables_stat_des = variables_stat_des)\n",
    "    df_treatment_0 = stat_des_simple(df = df[df.Treatment_0_2011], variables_stat_des = variables_stat_des)\n",
    "    df_treatment_1 = stat_des_simple(df = df[df.Treatment_1_2011], variables_stat_des = variables_stat_des)\n",
    "    df_treatment_2 = stat_des_simple(df = df[df.Treatment_2_2011], variables_stat_des = variables_stat_des)\n",
    "    \n",
    "    ### Add multi index to identify groups\n",
    "    df_all = pd.concat([df_all], keys = ['All'], names = [\"Group\"],axis = 1)\n",
    "    df_treatment_0 = pd.concat([df_treatment_0], keys = ['Treatment_0'], names = [\"Group\"],axis = 1)\n",
    "    df_treatment_1 = pd.concat([df_treatment_1], keys = ['Treatment_1'], names = [\"Group\"],axis = 1)\n",
    "    df_treatment_2 = pd.concat([df_treatment_2], keys = ['Treatment_2'], names = [\"Group\"],axis = 1)\n",
    "    \n",
    "    \n",
    "    return df_all.join([df_treatment_0, df_treatment_1, df_treatment_2])\n",
    "    "
   ]
  },
  {
   "cell_type": "code",
   "execution_count": 15,
   "metadata": {
    "collapsed": true
   },
   "outputs": [],
   "source": [
    "def stat_des_by_treatment_group(df = df, variables_stat_des = variables_stat_des):\n",
    "    df_all = stat_des_simple(df = df, variables_stat_des = variables_stat_des)\n",
    "    df_treatment_0 = stat_des_simple(df = df[df.Treatment_0_2011], variables_stat_des = variables_stat_des)\n",
    "    df_treatment_1 = stat_des_simple(df = df[df.Treatment_1_2011], variables_stat_des = variables_stat_des)\n",
    "    df_treatment_2 = stat_des_simple(df = df[df.Treatment_2_2011], variables_stat_des = variables_stat_des)\n",
    "    \n",
    "    ### Add multi index to identify groups\n",
    "    df_all = pd.concat([df_all], keys = ['All'], names = [\"Group\"],axis = 1)\n",
    "    df_treatment_0 = pd.concat([df_treatment_0], keys = ['Treatment_0'], names = [\"Group\"],axis = 1)\n",
    "    df_treatment_1 = pd.concat([df_treatment_1], keys = ['Treatment_1'], names = [\"Group\"],axis = 1)\n",
    "    df_treatment_2 = pd.concat([df_treatment_2], keys = ['Treatment_2'], names = [\"Group\"],axis = 1)\n",
    "    \n",
    "    \n",
    "    return df_all.join([df_treatment_0, df_treatment_1, df_treatment_2])\n",
    "    "
   ]
  },
  {
   "cell_type": "code",
   "execution_count": 33,
   "metadata": {
    "collapsed": true
   },
   "outputs": [],
   "source": [
    "def stat_des_by_income_location(df = df, variables_stat_des = variables_stat_des):\n",
    "    df_all = stat_des_simple(df = df, variables_stat_des = variables_stat_des)\n",
    "    df_between_1 = stat_des_simple(df = df[df.Between_threshold_1_child], \n",
    "                                 variables_stat_des = variables_stat_des)\n",
    "    df_between_2 = stat_des_simple(df = df[df.Between_threshold_2_child], \n",
    "                                 variables_stat_des = variables_stat_des)\n",
    "    df_between_3 = stat_des_simple(df = df[df.Between_threshold_3_child], \n",
    "                                 variables_stat_des = variables_stat_des)\n",
    "    df_between_4 = stat_des_simple(df = df[df.Between_threshold_4_child], \n",
    "                                 variables_stat_des = variables_stat_des)\n",
    "\n",
    "    df_over_1 = stat_des_simple(df = df[df.Over_threshold_1_child], variables_stat_des = variables_stat_des)\n",
    "    df_over_2 = stat_des_simple(df = df[df.Over_threshold_2_child], variables_stat_des = variables_stat_des)\n",
    "    df_over_3 = stat_des_simple(df = df[df.Over_threshold_3_child], variables_stat_des = variables_stat_des)\n",
    "    \n",
    "    \n",
    "    ### Add multi index to identify groups\n",
    "    df_all = pd.concat([df_all], keys = ['All'], names = [\"Group\"],axis = 1)\n",
    "    df_over_1 = pd.concat([df_between_1], keys = ['Treatment_0'], names = [\"Group\"],axis = 1)\n",
    "    df_over_2 = pd.concat([df_between_2], keys = ['Treatment_1'], names = [\"Group\"],axis = 1)\n",
    "    df_over_3 = pd.concat([df_between_3], keys = ['Treatment_2'], names = [\"Group\"],axis = 1)\n",
    "    df_over_4 = pd.concat([df_between_4], keys = ['Treatment_2'], names = [\"Group\"],axis = 1)\n",
    "    \n",
    "    \n",
    "    return df_all.join([df_over_1,df_over_2,df_over_3])\n",
    "    "
   ]
  },
  {
   "cell_type": "code",
   "execution_count": 39,
   "metadata": {
    "collapsed": false
   },
   "outputs": [
    {
     "data": {
      "text/html": [
       "<div>\n",
       "<style scoped>\n",
       "    .dataframe tbody tr th:only-of-type {\n",
       "        vertical-align: middle;\n",
       "    }\n",
       "\n",
       "    .dataframe tbody tr th {\n",
       "        vertical-align: top;\n",
       "    }\n",
       "\n",
       "    .dataframe thead tr th {\n",
       "        text-align: left;\n",
       "    }\n",
       "</style>\n",
       "<table border=\"1\" class=\"dataframe\">\n",
       "  <thead>\n",
       "    <tr>\n",
       "      <th>Group</th>\n",
       "      <th colspan=\"3\" halign=\"left\">All</th>\n",
       "      <th colspan=\"3\" halign=\"left\">Treatment_0</th>\n",
       "      <th colspan=\"3\" halign=\"left\">Treatment_1</th>\n",
       "      <th colspan=\"3\" halign=\"left\">Treatment_2</th>\n",
       "    </tr>\n",
       "    <tr>\n",
       "      <th></th>\n",
       "      <th>mean</th>\n",
       "      <th>std</th>\n",
       "      <th>count</th>\n",
       "      <th>mean</th>\n",
       "      <th>std</th>\n",
       "      <th>count</th>\n",
       "      <th>mean</th>\n",
       "      <th>std</th>\n",
       "      <th>count</th>\n",
       "      <th>mean</th>\n",
       "      <th>std</th>\n",
       "      <th>count</th>\n",
       "    </tr>\n",
       "  </thead>\n",
       "  <tbody>\n",
       "    <tr>\n",
       "      <th>Delta_Rbg</th>\n",
       "      <td>2810.11153</td>\n",
       "      <td>17587.663238</td>\n",
       "      <td>9887.0</td>\n",
       "      <td>3992.322581</td>\n",
       "      <td>12625.514577</td>\n",
       "      <td>372.0</td>\n",
       "      <td>3390.607176</td>\n",
       "      <td>23473.415845</td>\n",
       "      <td>432.0</td>\n",
       "      <td>4421.507036</td>\n",
       "      <td>21456.909234</td>\n",
       "      <td>469.0</td>\n",
       "    </tr>\n",
       "  </tbody>\n",
       "</table>\n",
       "</div>"
      ],
      "text/plain": [
       "Group             All                        Treatment_0                       \\\n",
       "                 mean           std   count         mean           std  count   \n",
       "Delta_Rbg  2810.11153  17587.663238  9887.0  3992.322581  12625.514577  372.0   \n",
       "\n",
       "Group      Treatment_1                       Treatment_2                       \n",
       "                  mean           std  count         mean           std  count  \n",
       "Delta_Rbg  3390.607176  23473.415845  432.0  4421.507036  21456.909234  469.0  "
      ]
     },
     "execution_count": 39,
     "metadata": {},
     "output_type": "execute_result"
    }
   ],
   "source": [
    "#stat_des_by_income_location(df = df, variables_stat_des=[\"Delta_Rbg\"])"
   ]
  },
  {
   "cell_type": "code",
   "execution_count": 238,
   "metadata": {
    "collapsed": false
   },
   "outputs": [
    {
     "data": {
      "text/plain": [
       "['B_1', 'B_2', 'B_3', 'B_4', 'B_5', 'O_1', 'O_2', 'O_3', 'O_4', 'O_5']"
      ]
     },
     "execution_count": 238,
     "metadata": {},
     "output_type": "execute_result"
    }
   ],
   "source": []
  },
  {
   "cell_type": "code",
   "execution_count": 11,
   "metadata": {
    "collapsed": true
   },
   "outputs": [],
   "source": [
    "def stat_des_by_child_by_income_location(df = df, variables_stat_des = variables_stat_des, \n",
    "                                         nb_child_max =5,\n",
    "                                         which_stats = [\"mean\", \"std\",\"count\" ]):\n",
    "    df_all = stat_des_simple(df = df, variables_stat_des = variables_stat_des)\n",
    "    \n",
    "    # Line ALL\n",
    "    between_dict_all = dict()\n",
    "    over_dict_all = dict()\n",
    "    for child_income_span in range(1,nb_child_max+1):\n",
    "        between_dict_all[child_income_span] = stat_des_simple(\n",
    "            df = df[df[\"Between_threshold_{}_child\".format(child_income_span)]], \n",
    "            variables_stat_des = variables_stat_des, which_stats=which_stats)\n",
    "        over_dict_all[child_income_span] =  stat_des_simple(\n",
    "            df = df[df[\"Over_threshold_{}_child\".format(child_income_span)]], \n",
    "            variables_stat_des=variables_stat_des, which_stats=which_stats)\n",
    "    \n",
    "    line_all_df = pd.concat(list(between_dict_all.values()) + list(over_dict_all.values()), \n",
    "                            keys = [\"{}_{}\".format(treatment,child) for treatment in [\"B\", \"O\"] for child in range(1,nb_child_max+1) ],\n",
    "                            axis = 1)\n",
    "    line_all_df = pd.concat([line_all_df], keys = [\"All\"])\n",
    "    \n",
    "    \n",
    "    ### Children lines\n",
    "    line_by_child_dict = dict()\n",
    "    for child_line in range(0,nb_child_max+1):\n",
    "        \n",
    "        between_dict = dict()\n",
    "        over_dict = dict()\n",
    "        df_temp = df.query(\"NBPAC_2011 == {}\".format(child_line))\n",
    "        for child_income_span in range(1,nb_child_max+1):\n",
    "            between_dict[child_income_span] = stat_des_simple(\n",
    "                df = df_temp[df_temp[\"Between_threshold_{}_child\".format(child_income_span)]], \n",
    "                variables_stat_des = variables_stat_des, which_stats=which_stats)\n",
    "            over_dict[child_income_span] =  stat_des_simple(\n",
    "                df = df_temp[df_temp[\"Over_threshold_{}_child\".format(child_income_span)]], \n",
    "                variables_stat_des = variables_stat_des, which_stats=which_stats)\n",
    "\n",
    "        line_df = pd.concat(list(between_dict.values()) + list(over_dict.values()), \n",
    "                      keys = [\"{}_{}\".format(treatment,child) for treatment in [\"B\", \"O\"] for child in range(1,nb_child_max+1) ], axis = 1)\n",
    "        line_by_child_dict[\"{}\".format(child_line)] = line_df\n",
    "\n",
    "\n",
    "        \n",
    "\n",
    "    \n",
    "    df_line_by_child = pd.concat(line_by_child_dict.values(), \n",
    "        keys = [\"{} child\".format(child) for child in range(0,6)],\n",
    "        axis = 0)\n",
    "    \n",
    "    return line_all_df.append(df_line_by_child)\n",
    "    "
   ]
  },
  {
   "cell_type": "code",
   "execution_count": 11,
   "metadata": {
    "collapsed": true
   },
   "outputs": [],
   "source": [
    "from collections import OrderedDict\n",
    "def stat_des_by_child_by_income_location(df = df, variables_stat_des = variables_stat_des, \n",
    "                                         nb_child_max =6,\n",
    "                                         which_stats = [\"mean\", \"std\",\"count\" ]):\n",
    "    df_all = stat_des_simple(df = df, variables_stat_des = variables_stat_des)\n",
    "    \n",
    "    # Line ALL\n",
    "    between_dict_all = OrderedDict()\n",
    "    over_dict_all = OrderedDict()\n",
    "    for child_income_span in range(1,nb_child_max+1):\n",
    "        between_dict_all[child_income_span] = stat_des_simple(\n",
    "            df = df[df[\"Between_threshold_{}_child\".format(child_income_span)]], \n",
    "            variables_stat_des = variables_stat_des, which_stats=which_stats)\n",
    "        over_dict_all[child_income_span] =  stat_des_simple(\n",
    "            df = df[df[\"Over_threshold_{}_child\".format(child_income_span)]], \n",
    "            variables_stat_des=variables_stat_des, which_stats=which_stats)\n",
    "    \n",
    "    line_all_df = pd.concat(list(between_dict_all.values()) + list(over_dict_all.values()), \n",
    "                            keys = [\"{}_{}\".format(treatment,child) for treatment in [\"B\", \"O\"] for child in range(1,nb_child_max+1) ],\n",
    "                            axis = 1)\n",
    "    line_all_df = pd.concat([line_all_df], keys = [\"All\"])\n",
    "    \n",
    "    \n",
    "    ### Children lines\n",
    "    line_by_child_dict = OrderedDict()\n",
    "    for child_line in range(0,nb_child_max+1):\n",
    "        \n",
    "        between_dict = OrderedDict()\n",
    "        over_dict = OrderedDict()\n",
    "        df_temp = df.query(\"NBPAC_2011 == {}\".format(child_line))\n",
    "        for child_income_span in range(1,nb_child_max+1):\n",
    "            between_dict[child_income_span] = stat_des_simple(\n",
    "                df = df_temp[df_temp[\"Between_threshold_{}_child\".format(child_income_span)]], \n",
    "                variables_stat_des = variables_stat_des, which_stats=which_stats)\n",
    "            over_dict[child_income_span] =  stat_des_simple(\n",
    "                df = df_temp[df_temp[\"Over_threshold_{}_child\".format(child_income_span)]], \n",
    "                variables_stat_des = variables_stat_des, which_stats=which_stats)\n",
    "\n",
    "        line_df = pd.concat(list(between_dict.values()) + list(over_dict.values()), \n",
    "                      keys = [\"{}_{}\".format(treatment,child) for treatment in [\"B\", \"O\"] for child in range(1,nb_child_max+1) ], axis = 1)\n",
    "        line_by_child_dict[\"{}\".format(child_line)] = line_df\n",
    "\n",
    "\n",
    "        \n",
    "\n",
    "    \n",
    "    df_line_by_child = pd.concat(line_by_child_dict.values(), \n",
    "        keys = [\"{} child\".format(child) for child in range(0,6)],\n",
    "        axis = 0)\n",
    "    \n",
    "    return line_all_df.append(df_line_by_child)\n",
    "    "
   ]
  },
  {
   "cell_type": "code",
   "execution_count": 12,
   "metadata": {
    "collapsed": false
   },
   "outputs": [
    {
     "data": {
      "text/html": [
       "<div>\n",
       "<style scoped>\n",
       "    .dataframe tbody tr th:only-of-type {\n",
       "        vertical-align: middle;\n",
       "    }\n",
       "\n",
       "    .dataframe tbody tr th {\n",
       "        vertical-align: top;\n",
       "    }\n",
       "\n",
       "    .dataframe thead tr th {\n",
       "        text-align: left;\n",
       "    }\n",
       "</style>\n",
       "<table border=\"1\" class=\"dataframe\">\n",
       "  <thead>\n",
       "    <tr>\n",
       "      <th></th>\n",
       "      <th></th>\n",
       "      <th>B_1</th>\n",
       "      <th>B_2</th>\n",
       "      <th>B_3</th>\n",
       "      <th>B_4</th>\n",
       "      <th>B_5</th>\n",
       "      <th>O_1</th>\n",
       "      <th>O_2</th>\n",
       "      <th>O_3</th>\n",
       "      <th>O_4</th>\n",
       "      <th>O_5</th>\n",
       "    </tr>\n",
       "    <tr>\n",
       "      <th></th>\n",
       "      <th></th>\n",
       "      <th>mean</th>\n",
       "      <th>mean</th>\n",
       "      <th>mean</th>\n",
       "      <th>mean</th>\n",
       "      <th>mean</th>\n",
       "      <th>mean</th>\n",
       "      <th>mean</th>\n",
       "      <th>mean</th>\n",
       "      <th>mean</th>\n",
       "      <th>mean</th>\n",
       "    </tr>\n",
       "  </thead>\n",
       "  <tbody>\n",
       "    <tr>\n",
       "      <th>All</th>\n",
       "      <th>Delta_Rbg</th>\n",
       "      <td>3020.451576</td>\n",
       "      <td>4949.894421</td>\n",
       "      <td>3665.352727</td>\n",
       "      <td>4706.097832</td>\n",
       "      <td>3512.264217</td>\n",
       "      <td>3131.911208</td>\n",
       "      <td>2258.547680</td>\n",
       "      <td>718.005336</td>\n",
       "      <td>-2860.093590</td>\n",
       "      <td>-3889.516410</td>\n",
       "    </tr>\n",
       "    <tr>\n",
       "      <th>0 child</th>\n",
       "      <th>Delta_Rbg</th>\n",
       "      <td>21.128037</td>\n",
       "      <td>3464.251333</td>\n",
       "      <td>-1537.078571</td>\n",
       "      <td>668.393000</td>\n",
       "      <td>1952.662500</td>\n",
       "      <td>-4174.795550</td>\n",
       "      <td>-8312.427899</td>\n",
       "      <td>-15794.690840</td>\n",
       "      <td>-29422.093243</td>\n",
       "      <td>-52114.855814</td>\n",
       "    </tr>\n",
       "    <tr>\n",
       "      <th>1 child</th>\n",
       "      <th>Delta_Rbg</th>\n",
       "      <td>3671.131746</td>\n",
       "      <td>716.239706</td>\n",
       "      <td>5043.693443</td>\n",
       "      <td>11044.713462</td>\n",
       "      <td>8128.442222</td>\n",
       "      <td>2839.034762</td>\n",
       "      <td>3741.588406</td>\n",
       "      <td>2710.050649</td>\n",
       "      <td>-4724.091304</td>\n",
       "      <td>-5624.381818</td>\n",
       "    </tr>\n",
       "    <tr>\n",
       "      <th>2 child</th>\n",
       "      <th>Delta_Rbg</th>\n",
       "      <td>3924.892437</td>\n",
       "      <td>6983.734146</td>\n",
       "      <td>3838.460622</td>\n",
       "      <td>4363.218978</td>\n",
       "      <td>4620.058654</td>\n",
       "      <td>6687.989623</td>\n",
       "      <td>6544.611050</td>\n",
       "      <td>9617.160606</td>\n",
       "      <td>10935.023529</td>\n",
       "      <td>17942.198387</td>\n",
       "    </tr>\n",
       "    <tr>\n",
       "      <th>3 child</th>\n",
       "      <th>Delta_Rbg</th>\n",
       "      <td>4217.343750</td>\n",
       "      <td>5555.530435</td>\n",
       "      <td>11832.235802</td>\n",
       "      <td>5031.049231</td>\n",
       "      <td>-525.998361</td>\n",
       "      <td>5137.143561</td>\n",
       "      <td>4943.769948</td>\n",
       "      <td>-616.534545</td>\n",
       "      <td>-2225.214865</td>\n",
       "      <td>-729.242857</td>\n",
       "    </tr>\n",
       "    <tr>\n",
       "      <th>4 child</th>\n",
       "      <th>Delta_Rbg</th>\n",
       "      <td>15063.700000</td>\n",
       "      <td>15824.361538</td>\n",
       "      <td>2731.100000</td>\n",
       "      <td>15759.700000</td>\n",
       "      <td>5427.018182</td>\n",
       "      <td>9765.860870</td>\n",
       "      <td>7379.178788</td>\n",
       "      <td>10563.583333</td>\n",
       "      <td>7049.678571</td>\n",
       "      <td>18635.328571</td>\n",
       "    </tr>\n",
       "    <tr>\n",
       "      <th>5 child</th>\n",
       "      <th>Delta_Rbg</th>\n",
       "      <td>-147.050000</td>\n",
       "      <td>1964.050000</td>\n",
       "      <td>-5584.280000</td>\n",
       "      <td>6059.260000</td>\n",
       "      <td>17240.600000</td>\n",
       "      <td>2772.850000</td>\n",
       "      <td>2975.050000</td>\n",
       "      <td>17240.600000</td>\n",
       "      <td>-8165.100000</td>\n",
       "      <td>NaN</td>\n",
       "    </tr>\n",
       "  </tbody>\n",
       "</table>\n",
       "</div>"
      ],
      "text/plain": [
       "                            B_1           B_2           B_3           B_4  \\\n",
       "                           mean          mean          mean          mean   \n",
       "All     Delta_Rbg   3020.451576   4949.894421   3665.352727   4706.097832   \n",
       "0 child Delta_Rbg     21.128037   3464.251333  -1537.078571    668.393000   \n",
       "1 child Delta_Rbg   3671.131746    716.239706   5043.693443  11044.713462   \n",
       "2 child Delta_Rbg   3924.892437   6983.734146   3838.460622   4363.218978   \n",
       "3 child Delta_Rbg   4217.343750   5555.530435  11832.235802   5031.049231   \n",
       "4 child Delta_Rbg  15063.700000  15824.361538   2731.100000  15759.700000   \n",
       "5 child Delta_Rbg   -147.050000   1964.050000  -5584.280000   6059.260000   \n",
       "\n",
       "                            B_5          O_1          O_2           O_3  \\\n",
       "                           mean         mean         mean          mean   \n",
       "All     Delta_Rbg   3512.264217  3131.911208  2258.547680    718.005336   \n",
       "0 child Delta_Rbg   1952.662500 -4174.795550 -8312.427899 -15794.690840   \n",
       "1 child Delta_Rbg   8128.442222  2839.034762  3741.588406   2710.050649   \n",
       "2 child Delta_Rbg   4620.058654  6687.989623  6544.611050   9617.160606   \n",
       "3 child Delta_Rbg   -525.998361  5137.143561  4943.769948   -616.534545   \n",
       "4 child Delta_Rbg   5427.018182  9765.860870  7379.178788  10563.583333   \n",
       "5 child Delta_Rbg  17240.600000  2772.850000  2975.050000  17240.600000   \n",
       "\n",
       "                            O_4           O_5  \n",
       "                           mean          mean  \n",
       "All     Delta_Rbg  -2860.093590  -3889.516410  \n",
       "0 child Delta_Rbg -29422.093243 -52114.855814  \n",
       "1 child Delta_Rbg  -4724.091304  -5624.381818  \n",
       "2 child Delta_Rbg  10935.023529  17942.198387  \n",
       "3 child Delta_Rbg  -2225.214865   -729.242857  \n",
       "4 child Delta_Rbg   7049.678571  18635.328571  \n",
       "5 child Delta_Rbg  -8165.100000           NaN  "
      ]
     },
     "execution_count": 12,
     "metadata": {},
     "output_type": "execute_result"
    }
   ],
   "source": [
    "#stat_des_by_child_by_income_location(df = df, variables_stat_des=[\"Delta_Rbg\"], nb_child_max =5, which_stats = [\"mean\"])"
   ]
  },
  {
   "cell_type": "code",
   "execution_count": 32,
   "metadata": {
    "collapsed": true
   },
   "outputs": [],
   "source": [
    "def stat_des_by_treatment_and_income_location(df = df, variables_stat_des = variables_stat_des, \n",
    "                                         nb_child_max =5,\n",
    "                                         which_stats = [\"mean\", \"std\",\"count\" ]):\n",
    "    df_all = stat_des_simple(df = df, variables_stat_des = variables_stat_des)\n",
    "    \n",
    "    # Line ALL\n",
    "    between_dict_all = OrderedDict()\n",
    "    over_dict_all = OrderedDict()\n",
    "    for child_income_span in range(1,nb_child_max+1):\n",
    "        between_dict_all[child_income_span] = stat_des_simple(\n",
    "            df = df[df[\"Between_threshold_{}_child\".format(child_income_span)]], \n",
    "            variables_stat_des = variables_stat_des, which_stats=which_stats)\n",
    "        over_dict_all[child_income_span] =  stat_des_simple(\n",
    "            df = df[df[\"Over_threshold_{}_child\".format(child_income_span)]], \n",
    "            variables_stat_des=variables_stat_des, which_stats=which_stats)\n",
    "    \n",
    "    line_all_df = pd.concat(list(between_dict_all.values()) + list(over_dict_all.values()), \n",
    "                            keys = [\"{}_{}\".format(treatment,child) for treatment in [\"B\", \"O\"] for child in range(1,nb_child_max+1) ],\n",
    "                            axis = 1)\n",
    "    line_all_df = pd.concat([line_all_df], keys = [\"All\"])\n",
    "    \n",
    "    \n",
    "    ### Treatments\n",
    "    line_by_treatment_dict = OrderedDict()\n",
    "    for treatment in [\"Treatment_0\", \"Treatment_1\",\"Treatment_2\"]:\n",
    "        \n",
    "        between_dict = OrderedDict()\n",
    "        over_dict = OrderedDict()\n",
    "        df_temp = df.query(\"True == {}_2011\".format(treatment))\n",
    "        for child_income_span in range(1,nb_child_max+1):\n",
    "            between_dict[child_income_span] = stat_des_simple(\n",
    "                df = df_temp[df_temp[\"Between_threshold_{}_child\".format(child_income_span)]], \n",
    "                variables_stat_des = variables_stat_des, which_stats=which_stats)\n",
    "            over_dict[child_income_span] =  stat_des_simple(\n",
    "                df = df_temp[df_temp[\"Over_threshold_{}_child\".format(child_income_span)]], \n",
    "                variables_stat_des = variables_stat_des, which_stats=which_stats)\n",
    "\n",
    "        line_df = pd.concat(list(between_dict.values()) + list(over_dict.values()), \n",
    "                      keys = [\"{}_{}\".format(treatment1,child) for treatment1 in [\"B\", \"O\"] for child in range(1,nb_child_max+1) ], axis = 1)\n",
    "        line_by_treatment_dict[\"{}\".format(treatment)] = line_df\n",
    "\n",
    "    ### All with and without children\n",
    "    line_by_child_dict_all = OrderedDict()\n",
    "    for child_line in [\"No child\", \"Children\"]:\n",
    "        \n",
    "        between_dict = OrderedDict()\n",
    "        over_dict = OrderedDict()\n",
    "        \n",
    "        if child_line == \"No child\": \n",
    "            df_temp = df.query(\"NBPAC_2011 == 0\")\n",
    "        elif child_line == \"Children\":\n",
    "            df_temp = df.query(\"NBPAC_2011 != 0\")\n",
    "        else: BOUM\n",
    "            \n",
    "\n",
    "        for child_income_span in range(1,nb_child_max+1):\n",
    "            between_dict[child_income_span] = stat_des_simple(\n",
    "                df = df_temp[df_temp[\"Between_threshold_{}_child\".format(child_income_span)]], \n",
    "                variables_stat_des = variables_stat_des, which_stats=which_stats)\n",
    "            over_dict[child_income_span] =  stat_des_simple(\n",
    "                df = df_temp[df_temp[\"Over_threshold_{}_child\".format(child_income_span)]], \n",
    "                variables_stat_des = variables_stat_des, which_stats=which_stats)\n",
    "\n",
    "        line_df = pd.concat(list(between_dict.values()) + list(over_dict.values()), \n",
    "                      keys = [\"{}_{}\".format(treatment,child) for treatment in [\"B\", \"O\"] for child in range(1,nb_child_max+1) ], axis = 1)\n",
    "        line_by_child_dict_all[\"{}\".format(child_line)] = line_df\n",
    "\n",
    "    ### Treated/non treated with children\n",
    "    line_by_child_dict_treated = OrderedDict()\n",
    "    for child_line in [\"Treated\", \"Non Treated\"]:\n",
    "        \n",
    "        between_dict = OrderedDict()\n",
    "        over_dict = OrderedDict()\n",
    "        \n",
    "        if child_line == \"Treated\": \n",
    "            df_temp = df.query(\"(Treatment_1_2011 == True)|(Treatment_2_2011 == True)& (NBPAC_2011 != 0)\")\n",
    "        elif child_line == \"Non Treated\":\n",
    "            df_temp = df.query(\"(Treatment_0_2011 == True) &(NBPAC_2011 != 0)\")\n",
    "        else: BOUM\n",
    "            \n",
    "\n",
    "        for child_income_span in range(1,nb_child_max+1):\n",
    "            between_dict[child_income_span] = stat_des_simple(\n",
    "                df = df_temp[df_temp[\"Between_threshold_{}_child\".format(child_income_span)]], \n",
    "                variables_stat_des = variables_stat_des, which_stats=which_stats)\n",
    "            over_dict[child_income_span] =  stat_des_simple(\n",
    "                df = df_temp[df_temp[\"Over_threshold_{}_child\".format(child_income_span)]], \n",
    "                variables_stat_des = variables_stat_des, which_stats=which_stats)\n",
    "\n",
    "        line_df = pd.concat(list(between_dict.values()) + list(over_dict.values()), \n",
    "                      keys = [\"{}_{}\".format(treatment,child) for treatment in [\"B\", \"O\"] for child in range(1,nb_child_max+1) ], axis = 1)\n",
    "        line_by_child_dict_treated[\"{}\".format(child_line)] = line_df\n",
    "        \n",
    "    ### Treatment 1,2\n",
    "    line_by_child_dict_treatment = OrderedDict()\n",
    "    for child_line in [\"Treatment 2\", \"Treatment 1\"]:\n",
    "        \n",
    "        between_dict = OrderedDict()\n",
    "        over_dict = OrderedDict()\n",
    "        \n",
    "        if child_line == \"Treatment 1\": \n",
    "            df_temp = df.query(\"(Treatment_1_2011 == True)& (NBPAC_2011 != 0)\")\n",
    "        elif child_line == \"Treatment 2\":\n",
    "            df_temp = df.query(\"(Treatment_2_2011 == True) &(NBPAC_2011 != 0)\")\n",
    "        else: BOUM\n",
    "            \n",
    "\n",
    "        for child_income_span in range(1,nb_child_max+1):\n",
    "            between_dict[child_income_span] = stat_des_simple(\n",
    "                df = df_temp[df_temp[\"Between_threshold_{}_child\".format(child_income_span)]], \n",
    "                variables_stat_des = variables_stat_des, which_stats=which_stats)\n",
    "            over_dict[child_income_span] =  stat_des_simple(\n",
    "                df = df_temp[df_temp[\"Over_threshold_{}_child\".format(child_income_span)]], \n",
    "                variables_stat_des = variables_stat_des, which_stats=which_stats)\n",
    "\n",
    "        line_df = pd.concat(list(between_dict.values()) + list(over_dict.values()), \n",
    "                      keys = [\"{}_{}\".format(treatment,child) for treatment in [\"B\", \"O\"] for child in range(1,nb_child_max+1) ], axis = 1)\n",
    "        line_by_child_dict_treatment[\"{}\".format(child_line)] = line_df\n",
    "\n",
    "\n",
    "        \n",
    "\n",
    "    \n",
    "    df_line_by_treatment = pd.concat(line_by_treatment_dict.values(), \n",
    "        keys = [\"Treatment_0\", \"Treatment_1\",\"Treatment_2\"],\n",
    "        axis = 0)\n",
    "    \n",
    "#     return ( line_all_df.append(df_line_by_treatment), \n",
    "#             line_by_child_dict_all, \n",
    "#             line_by_child_dict_treated,\n",
    "#             line_by_child_dict_treatment\n",
    "#           )\n",
    "    return (pd.concat([line_all_df.append(df_line_by_treatment),\n",
    "                       pd.concat(line_by_child_dict_all),\n",
    "                       pd.concat(line_by_child_dict_treated), \n",
    "                       pd.concat(line_by_child_dict_treatment)], \n",
    "                      keys = [\"\", \"All\", \"With children\", \"With children \"])\n",
    "                    )\n",
    "    "
   ]
  },
  {
   "cell_type": "code",
   "execution_count": 26,
   "metadata": {
    "collapsed": false
   },
   "outputs": [
    {
     "ename": "NameError",
     "evalue": "name 'BAM' is not defined",
     "output_type": "error",
     "traceback": [
      "\u001b[1;31m---------------------------------------------------------------------------\u001b[0m",
      "\u001b[1;31mNameError\u001b[0m                                 Traceback (most recent call last)",
      "\u001b[1;32m<ipython-input-26-b316b30a91c7>\u001b[0m in \u001b[0;36m<module>\u001b[1;34m()\u001b[0m\n\u001b[0;32m      1\u001b[0m \u001b[1;32mif\u001b[0m \u001b[1;32mFalse\u001b[0m \u001b[1;33m==\u001b[0m \u001b[1;32mTrue\u001b[0m\u001b[1;33m:\u001b[0m \u001b[0mBOUM\u001b[0m\u001b[1;33m\u001b[0m\u001b[0m\n\u001b[1;32m----> 2\u001b[1;33m \u001b[1;32melse\u001b[0m\u001b[1;33m:\u001b[0m \u001b[0mBAM\u001b[0m\u001b[1;33m\u001b[0m\u001b[0m\n\u001b[0m",
      "\u001b[1;31mNameError\u001b[0m: name 'BAM' is not defined"
     ]
    }
   ],
   "source": [
    "# if False == True: BOUM\n",
    "# else: BAM"
   ]
  },
  {
   "cell_type": "code",
   "execution_count": 30,
   "metadata": {
    "collapsed": true
   },
   "outputs": [],
   "source": [
    "child_line = \"Children\""
   ]
  },
  {
   "cell_type": "code",
   "execution_count": 31,
   "metadata": {
    "collapsed": false
   },
   "outputs": [
    {
     "ename": "NameError",
     "evalue": "name 'BAM' is not defined",
     "output_type": "error",
     "traceback": [
      "\u001b[1;31m---------------------------------------------------------------------------\u001b[0m",
      "\u001b[1;31mNameError\u001b[0m                                 Traceback (most recent call last)",
      "\u001b[1;32m<ipython-input-31-149b61383bc6>\u001b[0m in \u001b[0;36m<module>\u001b[1;34m()\u001b[0m\n\u001b[0;32m      2\u001b[0m     \u001b[0mBOM\u001b[0m\u001b[1;33m\u001b[0m\u001b[0m\n\u001b[0;32m      3\u001b[0m \u001b[1;32melif\u001b[0m \u001b[0mchild_line\u001b[0m \u001b[1;33m==\u001b[0m \u001b[1;34m\"Children\"\u001b[0m\u001b[1;33m:\u001b[0m\u001b[1;33m\u001b[0m\u001b[0m\n\u001b[1;32m----> 4\u001b[1;33m     \u001b[0mBAM\u001b[0m\u001b[1;33m\u001b[0m\u001b[0m\n\u001b[0m\u001b[0;32m      5\u001b[0m \u001b[1;32melse\u001b[0m\u001b[1;33m:\u001b[0m \u001b[0mBOF\u001b[0m\u001b[1;33m\u001b[0m\u001b[0m\n",
      "\u001b[1;31mNameError\u001b[0m: name 'BAM' is not defined"
     ]
    }
   ],
   "source": [
    "#         if child_line == \"No child\": \n",
    "#             BOM\n",
    "#         elif child_line == \"Children\":\n",
    "#             BAM\n",
    "#         else: BOF"
   ]
  },
  {
   "cell_type": "code",
   "execution_count": 18,
   "metadata": {
    "collapsed": false,
    "scrolled": false
   },
   "outputs": [
    {
     "ename": "UndefinedVariableError",
     "evalue": "name 'Treatment_0_2011' is not defined",
     "output_type": "error",
     "traceback": [
      "\u001b[1;31m---------------------------------------------------------------------------\u001b[0m",
      "\u001b[1;31mKeyError\u001b[0m                                  Traceback (most recent call last)",
      "\u001b[1;32mC:\\Users\\IMPTEMP_A_PACIFIC\\Desktop\\WinPython-64bit-3.6.3.0Qt5\\python-3.6.3.amd64\\lib\\site-packages\\pandas\\core\\computation\\scope.py\u001b[0m in \u001b[0;36mresolve\u001b[1;34m(self, key, is_local)\u001b[0m\n\u001b[0;32m    180\u001b[0m             \u001b[1;32mif\u001b[0m \u001b[0mself\u001b[0m\u001b[1;33m.\u001b[0m\u001b[0mhas_resolvers\u001b[0m\u001b[1;33m:\u001b[0m\u001b[1;33m\u001b[0m\u001b[0m\n\u001b[1;32m--> 181\u001b[1;33m                 \u001b[1;32mreturn\u001b[0m \u001b[0mself\u001b[0m\u001b[1;33m.\u001b[0m\u001b[0mresolvers\u001b[0m\u001b[1;33m[\u001b[0m\u001b[0mkey\u001b[0m\u001b[1;33m]\u001b[0m\u001b[1;33m\u001b[0m\u001b[0m\n\u001b[0m\u001b[0;32m    182\u001b[0m \u001b[1;33m\u001b[0m\u001b[0m\n",
      "\u001b[1;32mC:\\Users\\IMPTEMP_A_PACIFIC\\Desktop\\WinPython-64bit-3.6.3.0Qt5\\python-3.6.3.amd64\\lib\\collections\\__init__.py\u001b[0m in \u001b[0;36m__getitem__\u001b[1;34m(self, key)\u001b[0m\n\u001b[0;32m    882\u001b[0m                 \u001b[1;32mpass\u001b[0m\u001b[1;33m\u001b[0m\u001b[0m\n\u001b[1;32m--> 883\u001b[1;33m         \u001b[1;32mreturn\u001b[0m \u001b[0mself\u001b[0m\u001b[1;33m.\u001b[0m\u001b[0m__missing__\u001b[0m\u001b[1;33m(\u001b[0m\u001b[0mkey\u001b[0m\u001b[1;33m)\u001b[0m            \u001b[1;31m# support subclasses that define __missing__\u001b[0m\u001b[1;33m\u001b[0m\u001b[0m\n\u001b[0m\u001b[0;32m    884\u001b[0m \u001b[1;33m\u001b[0m\u001b[0m\n",
      "\u001b[1;32mC:\\Users\\IMPTEMP_A_PACIFIC\\Desktop\\WinPython-64bit-3.6.3.0Qt5\\python-3.6.3.amd64\\lib\\collections\\__init__.py\u001b[0m in \u001b[0;36m__missing__\u001b[1;34m(self, key)\u001b[0m\n\u001b[0;32m    874\u001b[0m     \u001b[1;32mdef\u001b[0m \u001b[0m__missing__\u001b[0m\u001b[1;33m(\u001b[0m\u001b[0mself\u001b[0m\u001b[1;33m,\u001b[0m \u001b[0mkey\u001b[0m\u001b[1;33m)\u001b[0m\u001b[1;33m:\u001b[0m\u001b[1;33m\u001b[0m\u001b[0m\n\u001b[1;32m--> 875\u001b[1;33m         \u001b[1;32mraise\u001b[0m \u001b[0mKeyError\u001b[0m\u001b[1;33m(\u001b[0m\u001b[0mkey\u001b[0m\u001b[1;33m)\u001b[0m\u001b[1;33m\u001b[0m\u001b[0m\n\u001b[0m\u001b[0;32m    876\u001b[0m \u001b[1;33m\u001b[0m\u001b[0m\n",
      "\u001b[1;31mKeyError\u001b[0m: 'Treatment_0_2011'",
      "\nDuring handling of the above exception, another exception occurred:\n",
      "\u001b[1;31mKeyError\u001b[0m                                  Traceback (most recent call last)",
      "\u001b[1;32mC:\\Users\\IMPTEMP_A_PACIFIC\\Desktop\\WinPython-64bit-3.6.3.0Qt5\\python-3.6.3.amd64\\lib\\site-packages\\pandas\\core\\computation\\scope.py\u001b[0m in \u001b[0;36mresolve\u001b[1;34m(self, key, is_local)\u001b[0m\n\u001b[0;32m    191\u001b[0m                 \u001b[1;31m# e.g., df[df > 0]\u001b[0m\u001b[1;33m\u001b[0m\u001b[1;33m\u001b[0m\u001b[0m\n\u001b[1;32m--> 192\u001b[1;33m                 \u001b[1;32mreturn\u001b[0m \u001b[0mself\u001b[0m\u001b[1;33m.\u001b[0m\u001b[0mtemps\u001b[0m\u001b[1;33m[\u001b[0m\u001b[0mkey\u001b[0m\u001b[1;33m]\u001b[0m\u001b[1;33m\u001b[0m\u001b[0m\n\u001b[0m\u001b[0;32m    193\u001b[0m             \u001b[1;32mexcept\u001b[0m \u001b[0mKeyError\u001b[0m\u001b[1;33m:\u001b[0m\u001b[1;33m\u001b[0m\u001b[0m\n",
      "\u001b[1;31mKeyError\u001b[0m: 'Treatment_0_2011'",
      "\nDuring handling of the above exception, another exception occurred:\n",
      "\u001b[1;31mUndefinedVariableError\u001b[0m                    Traceback (most recent call last)",
      "\u001b[1;32m<ipython-input-18-820ddd8da514>\u001b[0m in \u001b[0;36m<module>\u001b[1;34m()\u001b[0m\n\u001b[1;32m----> 1\u001b[1;33m \u001b[0mstat_des_by_treatment_and_income_location\u001b[0m\u001b[1;33m(\u001b[0m\u001b[0mdf\u001b[0m \u001b[1;33m=\u001b[0m \u001b[0mdf\u001b[0m\u001b[1;33m,\u001b[0m \u001b[0mvariables_stat_des\u001b[0m\u001b[1;33m=\u001b[0m\u001b[1;33m[\u001b[0m\u001b[1;34m\"Delta_Rbg\"\u001b[0m\u001b[1;33m]\u001b[0m\u001b[1;33m,\u001b[0m \u001b[0mnb_child_max\u001b[0m \u001b[1;33m=\u001b[0m\u001b[1;36m5\u001b[0m\u001b[1;33m,\u001b[0m \u001b[0mwhich_stats\u001b[0m \u001b[1;33m=\u001b[0m \u001b[1;33m[\u001b[0m\u001b[1;34m\"mean\"\u001b[0m\u001b[1;33m]\u001b[0m\u001b[1;33m)\u001b[0m\u001b[1;33m\u001b[0m\u001b[0m\n\u001b[0m",
      "\u001b[1;32m<ipython-input-17-59c83321ea25>\u001b[0m in \u001b[0;36mstat_des_by_treatment_and_income_location\u001b[1;34m(df, variables_stat_des, nb_child_max, which_stats)\u001b[0m\n\u001b[0;32m     27\u001b[0m         \u001b[0mbetween_dict\u001b[0m \u001b[1;33m=\u001b[0m \u001b[0mdict\u001b[0m\u001b[1;33m(\u001b[0m\u001b[1;33m)\u001b[0m\u001b[1;33m\u001b[0m\u001b[0m\n\u001b[0;32m     28\u001b[0m         \u001b[0mover_dict\u001b[0m \u001b[1;33m=\u001b[0m \u001b[0mdict\u001b[0m\u001b[1;33m(\u001b[0m\u001b[1;33m)\u001b[0m\u001b[1;33m\u001b[0m\u001b[0m\n\u001b[1;32m---> 29\u001b[1;33m         \u001b[0mdf_temp\u001b[0m \u001b[1;33m=\u001b[0m \u001b[0mdf\u001b[0m\u001b[1;33m.\u001b[0m\u001b[0mquery\u001b[0m\u001b[1;33m(\u001b[0m\u001b[1;34m\"True == {}_2011\"\u001b[0m\u001b[1;33m.\u001b[0m\u001b[0mformat\u001b[0m\u001b[1;33m(\u001b[0m\u001b[0mtreatment\u001b[0m\u001b[1;33m)\u001b[0m\u001b[1;33m)\u001b[0m\u001b[1;33m\u001b[0m\u001b[0m\n\u001b[0m\u001b[0;32m     30\u001b[0m         \u001b[1;32mfor\u001b[0m \u001b[0mchild_income_span\u001b[0m \u001b[1;32min\u001b[0m \u001b[0mrange\u001b[0m\u001b[1;33m(\u001b[0m\u001b[1;36m1\u001b[0m\u001b[1;33m,\u001b[0m\u001b[0mnb_child_max\u001b[0m\u001b[1;33m+\u001b[0m\u001b[1;36m1\u001b[0m\u001b[1;33m)\u001b[0m\u001b[1;33m:\u001b[0m\u001b[1;33m\u001b[0m\u001b[0m\n\u001b[0;32m     31\u001b[0m             between_dict[child_income_span] = stat_des_simple(\n",
      "\u001b[1;32mC:\\Users\\IMPTEMP_A_PACIFIC\\Desktop\\WinPython-64bit-3.6.3.0Qt5\\python-3.6.3.amd64\\lib\\site-packages\\pandas\\core\\frame.py\u001b[0m in \u001b[0;36mquery\u001b[1;34m(self, expr, inplace, **kwargs)\u001b[0m\n\u001b[0;32m   2295\u001b[0m         \u001b[0mkwargs\u001b[0m\u001b[1;33m[\u001b[0m\u001b[1;34m'level'\u001b[0m\u001b[1;33m]\u001b[0m \u001b[1;33m=\u001b[0m \u001b[0mkwargs\u001b[0m\u001b[1;33m.\u001b[0m\u001b[0mpop\u001b[0m\u001b[1;33m(\u001b[0m\u001b[1;34m'level'\u001b[0m\u001b[1;33m,\u001b[0m \u001b[1;36m0\u001b[0m\u001b[1;33m)\u001b[0m \u001b[1;33m+\u001b[0m \u001b[1;36m1\u001b[0m\u001b[1;33m\u001b[0m\u001b[0m\n\u001b[0;32m   2296\u001b[0m         \u001b[0mkwargs\u001b[0m\u001b[1;33m[\u001b[0m\u001b[1;34m'target'\u001b[0m\u001b[1;33m]\u001b[0m \u001b[1;33m=\u001b[0m \u001b[1;32mNone\u001b[0m\u001b[1;33m\u001b[0m\u001b[0m\n\u001b[1;32m-> 2297\u001b[1;33m         \u001b[0mres\u001b[0m \u001b[1;33m=\u001b[0m \u001b[0mself\u001b[0m\u001b[1;33m.\u001b[0m\u001b[0meval\u001b[0m\u001b[1;33m(\u001b[0m\u001b[0mexpr\u001b[0m\u001b[1;33m,\u001b[0m \u001b[1;33m**\u001b[0m\u001b[0mkwargs\u001b[0m\u001b[1;33m)\u001b[0m\u001b[1;33m\u001b[0m\u001b[0m\n\u001b[0m\u001b[0;32m   2298\u001b[0m \u001b[1;33m\u001b[0m\u001b[0m\n\u001b[0;32m   2299\u001b[0m         \u001b[1;32mtry\u001b[0m\u001b[1;33m:\u001b[0m\u001b[1;33m\u001b[0m\u001b[0m\n",
      "\u001b[1;32mC:\\Users\\IMPTEMP_A_PACIFIC\\Desktop\\WinPython-64bit-3.6.3.0Qt5\\python-3.6.3.amd64\\lib\\site-packages\\pandas\\core\\frame.py\u001b[0m in \u001b[0;36meval\u001b[1;34m(self, expr, inplace, **kwargs)\u001b[0m\n\u001b[0;32m   2364\u001b[0m             \u001b[0mkwargs\u001b[0m\u001b[1;33m[\u001b[0m\u001b[1;34m'target'\u001b[0m\u001b[1;33m]\u001b[0m \u001b[1;33m=\u001b[0m \u001b[0mself\u001b[0m\u001b[1;33m\u001b[0m\u001b[0m\n\u001b[0;32m   2365\u001b[0m         \u001b[0mkwargs\u001b[0m\u001b[1;33m[\u001b[0m\u001b[1;34m'resolvers'\u001b[0m\u001b[1;33m]\u001b[0m \u001b[1;33m=\u001b[0m \u001b[0mkwargs\u001b[0m\u001b[1;33m.\u001b[0m\u001b[0mget\u001b[0m\u001b[1;33m(\u001b[0m\u001b[1;34m'resolvers'\u001b[0m\u001b[1;33m,\u001b[0m \u001b[1;33m(\u001b[0m\u001b[1;33m)\u001b[0m\u001b[1;33m)\u001b[0m \u001b[1;33m+\u001b[0m \u001b[0mtuple\u001b[0m\u001b[1;33m(\u001b[0m\u001b[0mresolvers\u001b[0m\u001b[1;33m)\u001b[0m\u001b[1;33m\u001b[0m\u001b[0m\n\u001b[1;32m-> 2366\u001b[1;33m         \u001b[1;32mreturn\u001b[0m \u001b[0m_eval\u001b[0m\u001b[1;33m(\u001b[0m\u001b[0mexpr\u001b[0m\u001b[1;33m,\u001b[0m \u001b[0minplace\u001b[0m\u001b[1;33m=\u001b[0m\u001b[0minplace\u001b[0m\u001b[1;33m,\u001b[0m \u001b[1;33m**\u001b[0m\u001b[0mkwargs\u001b[0m\u001b[1;33m)\u001b[0m\u001b[1;33m\u001b[0m\u001b[0m\n\u001b[0m\u001b[0;32m   2367\u001b[0m \u001b[1;33m\u001b[0m\u001b[0m\n\u001b[0;32m   2368\u001b[0m     \u001b[1;32mdef\u001b[0m \u001b[0mselect_dtypes\u001b[0m\u001b[1;33m(\u001b[0m\u001b[0mself\u001b[0m\u001b[1;33m,\u001b[0m \u001b[0minclude\u001b[0m\u001b[1;33m=\u001b[0m\u001b[1;32mNone\u001b[0m\u001b[1;33m,\u001b[0m \u001b[0mexclude\u001b[0m\u001b[1;33m=\u001b[0m\u001b[1;32mNone\u001b[0m\u001b[1;33m)\u001b[0m\u001b[1;33m:\u001b[0m\u001b[1;33m\u001b[0m\u001b[0m\n",
      "\u001b[1;32mC:\\Users\\IMPTEMP_A_PACIFIC\\Desktop\\WinPython-64bit-3.6.3.0Qt5\\python-3.6.3.amd64\\lib\\site-packages\\pandas\\core\\computation\\eval.py\u001b[0m in \u001b[0;36meval\u001b[1;34m(expr, parser, engine, truediv, local_dict, global_dict, resolvers, level, target, inplace)\u001b[0m\n\u001b[0;32m    288\u001b[0m \u001b[1;33m\u001b[0m\u001b[0m\n\u001b[0;32m    289\u001b[0m         parsed_expr = Expr(expr, engine=engine, parser=parser, env=env,\n\u001b[1;32m--> 290\u001b[1;33m                            truediv=truediv)\n\u001b[0m\u001b[0;32m    291\u001b[0m \u001b[1;33m\u001b[0m\u001b[0m\n\u001b[0;32m    292\u001b[0m         \u001b[1;31m# construct the engine and evaluate the parsed expression\u001b[0m\u001b[1;33m\u001b[0m\u001b[1;33m\u001b[0m\u001b[0m\n",
      "\u001b[1;32mC:\\Users\\IMPTEMP_A_PACIFIC\\Desktop\\WinPython-64bit-3.6.3.0Qt5\\python-3.6.3.amd64\\lib\\site-packages\\pandas\\core\\computation\\expr.py\u001b[0m in \u001b[0;36m__init__\u001b[1;34m(self, expr, engine, parser, env, truediv, level)\u001b[0m\n\u001b[0;32m    730\u001b[0m         \u001b[0mself\u001b[0m\u001b[1;33m.\u001b[0m\u001b[0menv\u001b[0m\u001b[1;33m.\u001b[0m\u001b[0mscope\u001b[0m\u001b[1;33m[\u001b[0m\u001b[1;34m'truediv'\u001b[0m\u001b[1;33m]\u001b[0m \u001b[1;33m=\u001b[0m \u001b[0mtruediv\u001b[0m\u001b[1;33m\u001b[0m\u001b[0m\n\u001b[0;32m    731\u001b[0m         \u001b[0mself\u001b[0m\u001b[1;33m.\u001b[0m\u001b[0m_visitor\u001b[0m \u001b[1;33m=\u001b[0m \u001b[0m_parsers\u001b[0m\u001b[1;33m[\u001b[0m\u001b[0mparser\u001b[0m\u001b[1;33m]\u001b[0m\u001b[1;33m(\u001b[0m\u001b[0mself\u001b[0m\u001b[1;33m.\u001b[0m\u001b[0menv\u001b[0m\u001b[1;33m,\u001b[0m \u001b[0mself\u001b[0m\u001b[1;33m.\u001b[0m\u001b[0mengine\u001b[0m\u001b[1;33m,\u001b[0m \u001b[0mself\u001b[0m\u001b[1;33m.\u001b[0m\u001b[0mparser\u001b[0m\u001b[1;33m)\u001b[0m\u001b[1;33m\u001b[0m\u001b[0m\n\u001b[1;32m--> 732\u001b[1;33m         \u001b[0mself\u001b[0m\u001b[1;33m.\u001b[0m\u001b[0mterms\u001b[0m \u001b[1;33m=\u001b[0m \u001b[0mself\u001b[0m\u001b[1;33m.\u001b[0m\u001b[0mparse\u001b[0m\u001b[1;33m(\u001b[0m\u001b[1;33m)\u001b[0m\u001b[1;33m\u001b[0m\u001b[0m\n\u001b[0m\u001b[0;32m    733\u001b[0m \u001b[1;33m\u001b[0m\u001b[0m\n\u001b[0;32m    734\u001b[0m     \u001b[1;33m@\u001b[0m\u001b[0mproperty\u001b[0m\u001b[1;33m\u001b[0m\u001b[0m\n",
      "\u001b[1;32mC:\\Users\\IMPTEMP_A_PACIFIC\\Desktop\\WinPython-64bit-3.6.3.0Qt5\\python-3.6.3.amd64\\lib\\site-packages\\pandas\\core\\computation\\expr.py\u001b[0m in \u001b[0;36mparse\u001b[1;34m(self)\u001b[0m\n\u001b[0;32m    747\u001b[0m     \u001b[1;32mdef\u001b[0m \u001b[0mparse\u001b[0m\u001b[1;33m(\u001b[0m\u001b[0mself\u001b[0m\u001b[1;33m)\u001b[0m\u001b[1;33m:\u001b[0m\u001b[1;33m\u001b[0m\u001b[0m\n\u001b[0;32m    748\u001b[0m         \u001b[1;34m\"\"\"Parse an expression\"\"\"\u001b[0m\u001b[1;33m\u001b[0m\u001b[0m\n\u001b[1;32m--> 749\u001b[1;33m         \u001b[1;32mreturn\u001b[0m \u001b[0mself\u001b[0m\u001b[1;33m.\u001b[0m\u001b[0m_visitor\u001b[0m\u001b[1;33m.\u001b[0m\u001b[0mvisit\u001b[0m\u001b[1;33m(\u001b[0m\u001b[0mself\u001b[0m\u001b[1;33m.\u001b[0m\u001b[0mexpr\u001b[0m\u001b[1;33m)\u001b[0m\u001b[1;33m\u001b[0m\u001b[0m\n\u001b[0m\u001b[0;32m    750\u001b[0m \u001b[1;33m\u001b[0m\u001b[0m\n\u001b[0;32m    751\u001b[0m     \u001b[1;33m@\u001b[0m\u001b[0mproperty\u001b[0m\u001b[1;33m\u001b[0m\u001b[0m\n",
      "\u001b[1;32mC:\\Users\\IMPTEMP_A_PACIFIC\\Desktop\\WinPython-64bit-3.6.3.0Qt5\\python-3.6.3.amd64\\lib\\site-packages\\pandas\\core\\computation\\expr.py\u001b[0m in \u001b[0;36mvisit\u001b[1;34m(self, node, **kwargs)\u001b[0m\n\u001b[0;32m    312\u001b[0m         \u001b[0mmethod\u001b[0m \u001b[1;33m=\u001b[0m \u001b[1;34m'visit_'\u001b[0m \u001b[1;33m+\u001b[0m \u001b[0mnode\u001b[0m\u001b[1;33m.\u001b[0m\u001b[0m__class__\u001b[0m\u001b[1;33m.\u001b[0m\u001b[0m__name__\u001b[0m\u001b[1;33m\u001b[0m\u001b[0m\n\u001b[0;32m    313\u001b[0m         \u001b[0mvisitor\u001b[0m \u001b[1;33m=\u001b[0m \u001b[0mgetattr\u001b[0m\u001b[1;33m(\u001b[0m\u001b[0mself\u001b[0m\u001b[1;33m,\u001b[0m \u001b[0mmethod\u001b[0m\u001b[1;33m)\u001b[0m\u001b[1;33m\u001b[0m\u001b[0m\n\u001b[1;32m--> 314\u001b[1;33m         \u001b[1;32mreturn\u001b[0m \u001b[0mvisitor\u001b[0m\u001b[1;33m(\u001b[0m\u001b[0mnode\u001b[0m\u001b[1;33m,\u001b[0m \u001b[1;33m**\u001b[0m\u001b[0mkwargs\u001b[0m\u001b[1;33m)\u001b[0m\u001b[1;33m\u001b[0m\u001b[0m\n\u001b[0m\u001b[0;32m    315\u001b[0m \u001b[1;33m\u001b[0m\u001b[0m\n\u001b[0;32m    316\u001b[0m     \u001b[1;32mdef\u001b[0m \u001b[0mvisit_Module\u001b[0m\u001b[1;33m(\u001b[0m\u001b[0mself\u001b[0m\u001b[1;33m,\u001b[0m \u001b[0mnode\u001b[0m\u001b[1;33m,\u001b[0m \u001b[1;33m**\u001b[0m\u001b[0mkwargs\u001b[0m\u001b[1;33m)\u001b[0m\u001b[1;33m:\u001b[0m\u001b[1;33m\u001b[0m\u001b[0m\n",
      "\u001b[1;32mC:\\Users\\IMPTEMP_A_PACIFIC\\Desktop\\WinPython-64bit-3.6.3.0Qt5\\python-3.6.3.amd64\\lib\\site-packages\\pandas\\core\\computation\\expr.py\u001b[0m in \u001b[0;36mvisit_Module\u001b[1;34m(self, node, **kwargs)\u001b[0m\n\u001b[0;32m    318\u001b[0m             \u001b[1;32mraise\u001b[0m \u001b[0mSyntaxError\u001b[0m\u001b[1;33m(\u001b[0m\u001b[1;34m'only a single expression is allowed'\u001b[0m\u001b[1;33m)\u001b[0m\u001b[1;33m\u001b[0m\u001b[0m\n\u001b[0;32m    319\u001b[0m         \u001b[0mexpr\u001b[0m \u001b[1;33m=\u001b[0m \u001b[0mnode\u001b[0m\u001b[1;33m.\u001b[0m\u001b[0mbody\u001b[0m\u001b[1;33m[\u001b[0m\u001b[1;36m0\u001b[0m\u001b[1;33m]\u001b[0m\u001b[1;33m\u001b[0m\u001b[0m\n\u001b[1;32m--> 320\u001b[1;33m         \u001b[1;32mreturn\u001b[0m \u001b[0mself\u001b[0m\u001b[1;33m.\u001b[0m\u001b[0mvisit\u001b[0m\u001b[1;33m(\u001b[0m\u001b[0mexpr\u001b[0m\u001b[1;33m,\u001b[0m \u001b[1;33m**\u001b[0m\u001b[0mkwargs\u001b[0m\u001b[1;33m)\u001b[0m\u001b[1;33m\u001b[0m\u001b[0m\n\u001b[0m\u001b[0;32m    321\u001b[0m \u001b[1;33m\u001b[0m\u001b[0m\n\u001b[0;32m    322\u001b[0m     \u001b[1;32mdef\u001b[0m \u001b[0mvisit_Expr\u001b[0m\u001b[1;33m(\u001b[0m\u001b[0mself\u001b[0m\u001b[1;33m,\u001b[0m \u001b[0mnode\u001b[0m\u001b[1;33m,\u001b[0m \u001b[1;33m**\u001b[0m\u001b[0mkwargs\u001b[0m\u001b[1;33m)\u001b[0m\u001b[1;33m:\u001b[0m\u001b[1;33m\u001b[0m\u001b[0m\n",
      "\u001b[1;32mC:\\Users\\IMPTEMP_A_PACIFIC\\Desktop\\WinPython-64bit-3.6.3.0Qt5\\python-3.6.3.amd64\\lib\\site-packages\\pandas\\core\\computation\\expr.py\u001b[0m in \u001b[0;36mvisit\u001b[1;34m(self, node, **kwargs)\u001b[0m\n\u001b[0;32m    312\u001b[0m         \u001b[0mmethod\u001b[0m \u001b[1;33m=\u001b[0m \u001b[1;34m'visit_'\u001b[0m \u001b[1;33m+\u001b[0m \u001b[0mnode\u001b[0m\u001b[1;33m.\u001b[0m\u001b[0m__class__\u001b[0m\u001b[1;33m.\u001b[0m\u001b[0m__name__\u001b[0m\u001b[1;33m\u001b[0m\u001b[0m\n\u001b[0;32m    313\u001b[0m         \u001b[0mvisitor\u001b[0m \u001b[1;33m=\u001b[0m \u001b[0mgetattr\u001b[0m\u001b[1;33m(\u001b[0m\u001b[0mself\u001b[0m\u001b[1;33m,\u001b[0m \u001b[0mmethod\u001b[0m\u001b[1;33m)\u001b[0m\u001b[1;33m\u001b[0m\u001b[0m\n\u001b[1;32m--> 314\u001b[1;33m         \u001b[1;32mreturn\u001b[0m \u001b[0mvisitor\u001b[0m\u001b[1;33m(\u001b[0m\u001b[0mnode\u001b[0m\u001b[1;33m,\u001b[0m \u001b[1;33m**\u001b[0m\u001b[0mkwargs\u001b[0m\u001b[1;33m)\u001b[0m\u001b[1;33m\u001b[0m\u001b[0m\n\u001b[0m\u001b[0;32m    315\u001b[0m \u001b[1;33m\u001b[0m\u001b[0m\n\u001b[0;32m    316\u001b[0m     \u001b[1;32mdef\u001b[0m \u001b[0mvisit_Module\u001b[0m\u001b[1;33m(\u001b[0m\u001b[0mself\u001b[0m\u001b[1;33m,\u001b[0m \u001b[0mnode\u001b[0m\u001b[1;33m,\u001b[0m \u001b[1;33m**\u001b[0m\u001b[0mkwargs\u001b[0m\u001b[1;33m)\u001b[0m\u001b[1;33m:\u001b[0m\u001b[1;33m\u001b[0m\u001b[0m\n",
      "\u001b[1;32mC:\\Users\\IMPTEMP_A_PACIFIC\\Desktop\\WinPython-64bit-3.6.3.0Qt5\\python-3.6.3.amd64\\lib\\site-packages\\pandas\\core\\computation\\expr.py\u001b[0m in \u001b[0;36mvisit_Expr\u001b[1;34m(self, node, **kwargs)\u001b[0m\n\u001b[0;32m    321\u001b[0m \u001b[1;33m\u001b[0m\u001b[0m\n\u001b[0;32m    322\u001b[0m     \u001b[1;32mdef\u001b[0m \u001b[0mvisit_Expr\u001b[0m\u001b[1;33m(\u001b[0m\u001b[0mself\u001b[0m\u001b[1;33m,\u001b[0m \u001b[0mnode\u001b[0m\u001b[1;33m,\u001b[0m \u001b[1;33m**\u001b[0m\u001b[0mkwargs\u001b[0m\u001b[1;33m)\u001b[0m\u001b[1;33m:\u001b[0m\u001b[1;33m\u001b[0m\u001b[0m\n\u001b[1;32m--> 323\u001b[1;33m         \u001b[1;32mreturn\u001b[0m \u001b[0mself\u001b[0m\u001b[1;33m.\u001b[0m\u001b[0mvisit\u001b[0m\u001b[1;33m(\u001b[0m\u001b[0mnode\u001b[0m\u001b[1;33m.\u001b[0m\u001b[0mvalue\u001b[0m\u001b[1;33m,\u001b[0m \u001b[1;33m**\u001b[0m\u001b[0mkwargs\u001b[0m\u001b[1;33m)\u001b[0m\u001b[1;33m\u001b[0m\u001b[0m\n\u001b[0m\u001b[0;32m    324\u001b[0m \u001b[1;33m\u001b[0m\u001b[0m\n\u001b[0;32m    325\u001b[0m     \u001b[1;32mdef\u001b[0m \u001b[0m_rewrite_membership_op\u001b[0m\u001b[1;33m(\u001b[0m\u001b[0mself\u001b[0m\u001b[1;33m,\u001b[0m \u001b[0mnode\u001b[0m\u001b[1;33m,\u001b[0m \u001b[0mleft\u001b[0m\u001b[1;33m,\u001b[0m \u001b[0mright\u001b[0m\u001b[1;33m)\u001b[0m\u001b[1;33m:\u001b[0m\u001b[1;33m\u001b[0m\u001b[0m\n",
      "\u001b[1;32mC:\\Users\\IMPTEMP_A_PACIFIC\\Desktop\\WinPython-64bit-3.6.3.0Qt5\\python-3.6.3.amd64\\lib\\site-packages\\pandas\\core\\computation\\expr.py\u001b[0m in \u001b[0;36mvisit\u001b[1;34m(self, node, **kwargs)\u001b[0m\n\u001b[0;32m    312\u001b[0m         \u001b[0mmethod\u001b[0m \u001b[1;33m=\u001b[0m \u001b[1;34m'visit_'\u001b[0m \u001b[1;33m+\u001b[0m \u001b[0mnode\u001b[0m\u001b[1;33m.\u001b[0m\u001b[0m__class__\u001b[0m\u001b[1;33m.\u001b[0m\u001b[0m__name__\u001b[0m\u001b[1;33m\u001b[0m\u001b[0m\n\u001b[0;32m    313\u001b[0m         \u001b[0mvisitor\u001b[0m \u001b[1;33m=\u001b[0m \u001b[0mgetattr\u001b[0m\u001b[1;33m(\u001b[0m\u001b[0mself\u001b[0m\u001b[1;33m,\u001b[0m \u001b[0mmethod\u001b[0m\u001b[1;33m)\u001b[0m\u001b[1;33m\u001b[0m\u001b[0m\n\u001b[1;32m--> 314\u001b[1;33m         \u001b[1;32mreturn\u001b[0m \u001b[0mvisitor\u001b[0m\u001b[1;33m(\u001b[0m\u001b[0mnode\u001b[0m\u001b[1;33m,\u001b[0m \u001b[1;33m**\u001b[0m\u001b[0mkwargs\u001b[0m\u001b[1;33m)\u001b[0m\u001b[1;33m\u001b[0m\u001b[0m\n\u001b[0m\u001b[0;32m    315\u001b[0m \u001b[1;33m\u001b[0m\u001b[0m\n\u001b[0;32m    316\u001b[0m     \u001b[1;32mdef\u001b[0m \u001b[0mvisit_Module\u001b[0m\u001b[1;33m(\u001b[0m\u001b[0mself\u001b[0m\u001b[1;33m,\u001b[0m \u001b[0mnode\u001b[0m\u001b[1;33m,\u001b[0m \u001b[1;33m**\u001b[0m\u001b[0mkwargs\u001b[0m\u001b[1;33m)\u001b[0m\u001b[1;33m:\u001b[0m\u001b[1;33m\u001b[0m\u001b[0m\n",
      "\u001b[1;32mC:\\Users\\IMPTEMP_A_PACIFIC\\Desktop\\WinPython-64bit-3.6.3.0Qt5\\python-3.6.3.amd64\\lib\\site-packages\\pandas\\core\\computation\\expr.py\u001b[0m in \u001b[0;36mvisit_Compare\u001b[1;34m(self, node, **kwargs)\u001b[0m\n\u001b[0;32m    647\u001b[0m             \u001b[0mop\u001b[0m \u001b[1;33m=\u001b[0m \u001b[0mself\u001b[0m\u001b[1;33m.\u001b[0m\u001b[0mtranslate_In\u001b[0m\u001b[1;33m(\u001b[0m\u001b[0mops\u001b[0m\u001b[1;33m[\u001b[0m\u001b[1;36m0\u001b[0m\u001b[1;33m]\u001b[0m\u001b[1;33m)\u001b[0m\u001b[1;33m\u001b[0m\u001b[0m\n\u001b[0;32m    648\u001b[0m             \u001b[0mbinop\u001b[0m \u001b[1;33m=\u001b[0m \u001b[0mast\u001b[0m\u001b[1;33m.\u001b[0m\u001b[0mBinOp\u001b[0m\u001b[1;33m(\u001b[0m\u001b[0mop\u001b[0m\u001b[1;33m=\u001b[0m\u001b[0mop\u001b[0m\u001b[1;33m,\u001b[0m \u001b[0mleft\u001b[0m\u001b[1;33m=\u001b[0m\u001b[0mnode\u001b[0m\u001b[1;33m.\u001b[0m\u001b[0mleft\u001b[0m\u001b[1;33m,\u001b[0m \u001b[0mright\u001b[0m\u001b[1;33m=\u001b[0m\u001b[0mcomps\u001b[0m\u001b[1;33m[\u001b[0m\u001b[1;36m0\u001b[0m\u001b[1;33m]\u001b[0m\u001b[1;33m)\u001b[0m\u001b[1;33m\u001b[0m\u001b[0m\n\u001b[1;32m--> 649\u001b[1;33m             \u001b[1;32mreturn\u001b[0m \u001b[0mself\u001b[0m\u001b[1;33m.\u001b[0m\u001b[0mvisit\u001b[0m\u001b[1;33m(\u001b[0m\u001b[0mbinop\u001b[0m\u001b[1;33m)\u001b[0m\u001b[1;33m\u001b[0m\u001b[0m\n\u001b[0m\u001b[0;32m    650\u001b[0m \u001b[1;33m\u001b[0m\u001b[0m\n\u001b[0;32m    651\u001b[0m         \u001b[1;31m# recursive case: we have a chained comparison, a CMP b CMP c, etc.\u001b[0m\u001b[1;33m\u001b[0m\u001b[1;33m\u001b[0m\u001b[0m\n",
      "\u001b[1;32mC:\\Users\\IMPTEMP_A_PACIFIC\\Desktop\\WinPython-64bit-3.6.3.0Qt5\\python-3.6.3.amd64\\lib\\site-packages\\pandas\\core\\computation\\expr.py\u001b[0m in \u001b[0;36mvisit\u001b[1;34m(self, node, **kwargs)\u001b[0m\n\u001b[0;32m    312\u001b[0m         \u001b[0mmethod\u001b[0m \u001b[1;33m=\u001b[0m \u001b[1;34m'visit_'\u001b[0m \u001b[1;33m+\u001b[0m \u001b[0mnode\u001b[0m\u001b[1;33m.\u001b[0m\u001b[0m__class__\u001b[0m\u001b[1;33m.\u001b[0m\u001b[0m__name__\u001b[0m\u001b[1;33m\u001b[0m\u001b[0m\n\u001b[0;32m    313\u001b[0m         \u001b[0mvisitor\u001b[0m \u001b[1;33m=\u001b[0m \u001b[0mgetattr\u001b[0m\u001b[1;33m(\u001b[0m\u001b[0mself\u001b[0m\u001b[1;33m,\u001b[0m \u001b[0mmethod\u001b[0m\u001b[1;33m)\u001b[0m\u001b[1;33m\u001b[0m\u001b[0m\n\u001b[1;32m--> 314\u001b[1;33m         \u001b[1;32mreturn\u001b[0m \u001b[0mvisitor\u001b[0m\u001b[1;33m(\u001b[0m\u001b[0mnode\u001b[0m\u001b[1;33m,\u001b[0m \u001b[1;33m**\u001b[0m\u001b[0mkwargs\u001b[0m\u001b[1;33m)\u001b[0m\u001b[1;33m\u001b[0m\u001b[0m\n\u001b[0m\u001b[0;32m    315\u001b[0m \u001b[1;33m\u001b[0m\u001b[0m\n\u001b[0;32m    316\u001b[0m     \u001b[1;32mdef\u001b[0m \u001b[0mvisit_Module\u001b[0m\u001b[1;33m(\u001b[0m\u001b[0mself\u001b[0m\u001b[1;33m,\u001b[0m \u001b[0mnode\u001b[0m\u001b[1;33m,\u001b[0m \u001b[1;33m**\u001b[0m\u001b[0mkwargs\u001b[0m\u001b[1;33m)\u001b[0m\u001b[1;33m:\u001b[0m\u001b[1;33m\u001b[0m\u001b[0m\n",
      "\u001b[1;32mC:\\Users\\IMPTEMP_A_PACIFIC\\Desktop\\WinPython-64bit-3.6.3.0Qt5\\python-3.6.3.amd64\\lib\\site-packages\\pandas\\core\\computation\\expr.py\u001b[0m in \u001b[0;36mvisit_BinOp\u001b[1;34m(self, node, **kwargs)\u001b[0m\n\u001b[0;32m    416\u001b[0m \u001b[1;33m\u001b[0m\u001b[0m\n\u001b[0;32m    417\u001b[0m     \u001b[1;32mdef\u001b[0m \u001b[0mvisit_BinOp\u001b[0m\u001b[1;33m(\u001b[0m\u001b[0mself\u001b[0m\u001b[1;33m,\u001b[0m \u001b[0mnode\u001b[0m\u001b[1;33m,\u001b[0m \u001b[1;33m**\u001b[0m\u001b[0mkwargs\u001b[0m\u001b[1;33m)\u001b[0m\u001b[1;33m:\u001b[0m\u001b[1;33m\u001b[0m\u001b[0m\n\u001b[1;32m--> 418\u001b[1;33m         \u001b[0mop\u001b[0m\u001b[1;33m,\u001b[0m \u001b[0mop_class\u001b[0m\u001b[1;33m,\u001b[0m \u001b[0mleft\u001b[0m\u001b[1;33m,\u001b[0m \u001b[0mright\u001b[0m \u001b[1;33m=\u001b[0m \u001b[0mself\u001b[0m\u001b[1;33m.\u001b[0m\u001b[0m_maybe_transform_eq_ne\u001b[0m\u001b[1;33m(\u001b[0m\u001b[0mnode\u001b[0m\u001b[1;33m)\u001b[0m\u001b[1;33m\u001b[0m\u001b[0m\n\u001b[0m\u001b[0;32m    419\u001b[0m         \u001b[0mleft\u001b[0m\u001b[1;33m,\u001b[0m \u001b[0mright\u001b[0m \u001b[1;33m=\u001b[0m \u001b[0mself\u001b[0m\u001b[1;33m.\u001b[0m\u001b[0m_maybe_downcast_constants\u001b[0m\u001b[1;33m(\u001b[0m\u001b[0mleft\u001b[0m\u001b[1;33m,\u001b[0m \u001b[0mright\u001b[0m\u001b[1;33m)\u001b[0m\u001b[1;33m\u001b[0m\u001b[0m\n\u001b[0;32m    420\u001b[0m         \u001b[1;32mreturn\u001b[0m \u001b[0mself\u001b[0m\u001b[1;33m.\u001b[0m\u001b[0m_maybe_evaluate_binop\u001b[0m\u001b[1;33m(\u001b[0m\u001b[0mop\u001b[0m\u001b[1;33m,\u001b[0m \u001b[0mop_class\u001b[0m\u001b[1;33m,\u001b[0m \u001b[0mleft\u001b[0m\u001b[1;33m,\u001b[0m \u001b[0mright\u001b[0m\u001b[1;33m)\u001b[0m\u001b[1;33m\u001b[0m\u001b[0m\n",
      "\u001b[1;32mC:\\Users\\IMPTEMP_A_PACIFIC\\Desktop\\WinPython-64bit-3.6.3.0Qt5\\python-3.6.3.amd64\\lib\\site-packages\\pandas\\core\\computation\\expr.py\u001b[0m in \u001b[0;36m_maybe_transform_eq_ne\u001b[1;34m(self, node, left, right)\u001b[0m\n\u001b[0;32m    355\u001b[0m             \u001b[0mleft\u001b[0m \u001b[1;33m=\u001b[0m \u001b[0mself\u001b[0m\u001b[1;33m.\u001b[0m\u001b[0mvisit\u001b[0m\u001b[1;33m(\u001b[0m\u001b[0mnode\u001b[0m\u001b[1;33m.\u001b[0m\u001b[0mleft\u001b[0m\u001b[1;33m,\u001b[0m \u001b[0mside\u001b[0m\u001b[1;33m=\u001b[0m\u001b[1;34m'left'\u001b[0m\u001b[1;33m)\u001b[0m\u001b[1;33m\u001b[0m\u001b[0m\n\u001b[0;32m    356\u001b[0m         \u001b[1;32mif\u001b[0m \u001b[0mright\u001b[0m \u001b[1;32mis\u001b[0m \u001b[1;32mNone\u001b[0m\u001b[1;33m:\u001b[0m\u001b[1;33m\u001b[0m\u001b[0m\n\u001b[1;32m--> 357\u001b[1;33m             \u001b[0mright\u001b[0m \u001b[1;33m=\u001b[0m \u001b[0mself\u001b[0m\u001b[1;33m.\u001b[0m\u001b[0mvisit\u001b[0m\u001b[1;33m(\u001b[0m\u001b[0mnode\u001b[0m\u001b[1;33m.\u001b[0m\u001b[0mright\u001b[0m\u001b[1;33m,\u001b[0m \u001b[0mside\u001b[0m\u001b[1;33m=\u001b[0m\u001b[1;34m'right'\u001b[0m\u001b[1;33m)\u001b[0m\u001b[1;33m\u001b[0m\u001b[0m\n\u001b[0m\u001b[0;32m    358\u001b[0m         op, op_class, left, right = self._rewrite_membership_op(node, left,\n\u001b[0;32m    359\u001b[0m                                                                 right)\n",
      "\u001b[1;32mC:\\Users\\IMPTEMP_A_PACIFIC\\Desktop\\WinPython-64bit-3.6.3.0Qt5\\python-3.6.3.amd64\\lib\\site-packages\\pandas\\core\\computation\\expr.py\u001b[0m in \u001b[0;36mvisit\u001b[1;34m(self, node, **kwargs)\u001b[0m\n\u001b[0;32m    312\u001b[0m         \u001b[0mmethod\u001b[0m \u001b[1;33m=\u001b[0m \u001b[1;34m'visit_'\u001b[0m \u001b[1;33m+\u001b[0m \u001b[0mnode\u001b[0m\u001b[1;33m.\u001b[0m\u001b[0m__class__\u001b[0m\u001b[1;33m.\u001b[0m\u001b[0m__name__\u001b[0m\u001b[1;33m\u001b[0m\u001b[0m\n\u001b[0;32m    313\u001b[0m         \u001b[0mvisitor\u001b[0m \u001b[1;33m=\u001b[0m \u001b[0mgetattr\u001b[0m\u001b[1;33m(\u001b[0m\u001b[0mself\u001b[0m\u001b[1;33m,\u001b[0m \u001b[0mmethod\u001b[0m\u001b[1;33m)\u001b[0m\u001b[1;33m\u001b[0m\u001b[0m\n\u001b[1;32m--> 314\u001b[1;33m         \u001b[1;32mreturn\u001b[0m \u001b[0mvisitor\u001b[0m\u001b[1;33m(\u001b[0m\u001b[0mnode\u001b[0m\u001b[1;33m,\u001b[0m \u001b[1;33m**\u001b[0m\u001b[0mkwargs\u001b[0m\u001b[1;33m)\u001b[0m\u001b[1;33m\u001b[0m\u001b[0m\n\u001b[0m\u001b[0;32m    315\u001b[0m \u001b[1;33m\u001b[0m\u001b[0m\n\u001b[0;32m    316\u001b[0m     \u001b[1;32mdef\u001b[0m \u001b[0mvisit_Module\u001b[0m\u001b[1;33m(\u001b[0m\u001b[0mself\u001b[0m\u001b[1;33m,\u001b[0m \u001b[0mnode\u001b[0m\u001b[1;33m,\u001b[0m \u001b[1;33m**\u001b[0m\u001b[0mkwargs\u001b[0m\u001b[1;33m)\u001b[0m\u001b[1;33m:\u001b[0m\u001b[1;33m\u001b[0m\u001b[0m\n",
      "\u001b[1;32mC:\\Users\\IMPTEMP_A_PACIFIC\\Desktop\\WinPython-64bit-3.6.3.0Qt5\\python-3.6.3.amd64\\lib\\site-packages\\pandas\\core\\computation\\expr.py\u001b[0m in \u001b[0;36mvisit_Name\u001b[1;34m(self, node, **kwargs)\u001b[0m\n\u001b[0;32m    430\u001b[0m \u001b[1;33m\u001b[0m\u001b[0m\n\u001b[0;32m    431\u001b[0m     \u001b[1;32mdef\u001b[0m \u001b[0mvisit_Name\u001b[0m\u001b[1;33m(\u001b[0m\u001b[0mself\u001b[0m\u001b[1;33m,\u001b[0m \u001b[0mnode\u001b[0m\u001b[1;33m,\u001b[0m \u001b[1;33m**\u001b[0m\u001b[0mkwargs\u001b[0m\u001b[1;33m)\u001b[0m\u001b[1;33m:\u001b[0m\u001b[1;33m\u001b[0m\u001b[0m\n\u001b[1;32m--> 432\u001b[1;33m         \u001b[1;32mreturn\u001b[0m \u001b[0mself\u001b[0m\u001b[1;33m.\u001b[0m\u001b[0mterm_type\u001b[0m\u001b[1;33m(\u001b[0m\u001b[0mnode\u001b[0m\u001b[1;33m.\u001b[0m\u001b[0mid\u001b[0m\u001b[1;33m,\u001b[0m \u001b[0mself\u001b[0m\u001b[1;33m.\u001b[0m\u001b[0menv\u001b[0m\u001b[1;33m,\u001b[0m \u001b[1;33m**\u001b[0m\u001b[0mkwargs\u001b[0m\u001b[1;33m)\u001b[0m\u001b[1;33m\u001b[0m\u001b[0m\n\u001b[0m\u001b[0;32m    433\u001b[0m \u001b[1;33m\u001b[0m\u001b[0m\n\u001b[0;32m    434\u001b[0m     \u001b[1;32mdef\u001b[0m \u001b[0mvisit_NameConstant\u001b[0m\u001b[1;33m(\u001b[0m\u001b[0mself\u001b[0m\u001b[1;33m,\u001b[0m \u001b[0mnode\u001b[0m\u001b[1;33m,\u001b[0m \u001b[1;33m**\u001b[0m\u001b[0mkwargs\u001b[0m\u001b[1;33m)\u001b[0m\u001b[1;33m:\u001b[0m\u001b[1;33m\u001b[0m\u001b[0m\n",
      "\u001b[1;32mC:\\Users\\IMPTEMP_A_PACIFIC\\Desktop\\WinPython-64bit-3.6.3.0Qt5\\python-3.6.3.amd64\\lib\\site-packages\\pandas\\core\\computation\\ops.py\u001b[0m in \u001b[0;36m__init__\u001b[1;34m(self, name, env, side, encoding)\u001b[0m\n\u001b[0;32m     56\u001b[0m         self.is_local = (tname.startswith(_LOCAL_TAG) or\n\u001b[0;32m     57\u001b[0m                          tname in _DEFAULT_GLOBALS)\n\u001b[1;32m---> 58\u001b[1;33m         \u001b[0mself\u001b[0m\u001b[1;33m.\u001b[0m\u001b[0m_value\u001b[0m \u001b[1;33m=\u001b[0m \u001b[0mself\u001b[0m\u001b[1;33m.\u001b[0m\u001b[0m_resolve_name\u001b[0m\u001b[1;33m(\u001b[0m\u001b[1;33m)\u001b[0m\u001b[1;33m\u001b[0m\u001b[0m\n\u001b[0m\u001b[0;32m     59\u001b[0m         \u001b[0mself\u001b[0m\u001b[1;33m.\u001b[0m\u001b[0mencoding\u001b[0m \u001b[1;33m=\u001b[0m \u001b[0mencoding\u001b[0m\u001b[1;33m\u001b[0m\u001b[0m\n\u001b[0;32m     60\u001b[0m \u001b[1;33m\u001b[0m\u001b[0m\n",
      "\u001b[1;32mC:\\Users\\IMPTEMP_A_PACIFIC\\Desktop\\WinPython-64bit-3.6.3.0Qt5\\python-3.6.3.amd64\\lib\\site-packages\\pandas\\core\\computation\\ops.py\u001b[0m in \u001b[0;36m_resolve_name\u001b[1;34m(self)\u001b[0m\n\u001b[0;32m     73\u001b[0m \u001b[1;33m\u001b[0m\u001b[0m\n\u001b[0;32m     74\u001b[0m     \u001b[1;32mdef\u001b[0m \u001b[0m_resolve_name\u001b[0m\u001b[1;33m(\u001b[0m\u001b[0mself\u001b[0m\u001b[1;33m)\u001b[0m\u001b[1;33m:\u001b[0m\u001b[1;33m\u001b[0m\u001b[0m\n\u001b[1;32m---> 75\u001b[1;33m         \u001b[0mres\u001b[0m \u001b[1;33m=\u001b[0m \u001b[0mself\u001b[0m\u001b[1;33m.\u001b[0m\u001b[0menv\u001b[0m\u001b[1;33m.\u001b[0m\u001b[0mresolve\u001b[0m\u001b[1;33m(\u001b[0m\u001b[0mself\u001b[0m\u001b[1;33m.\u001b[0m\u001b[0mlocal_name\u001b[0m\u001b[1;33m,\u001b[0m \u001b[0mis_local\u001b[0m\u001b[1;33m=\u001b[0m\u001b[0mself\u001b[0m\u001b[1;33m.\u001b[0m\u001b[0mis_local\u001b[0m\u001b[1;33m)\u001b[0m\u001b[1;33m\u001b[0m\u001b[0m\n\u001b[0m\u001b[0;32m     76\u001b[0m         \u001b[0mself\u001b[0m\u001b[1;33m.\u001b[0m\u001b[0mupdate\u001b[0m\u001b[1;33m(\u001b[0m\u001b[0mres\u001b[0m\u001b[1;33m)\u001b[0m\u001b[1;33m\u001b[0m\u001b[0m\n\u001b[0;32m     77\u001b[0m \u001b[1;33m\u001b[0m\u001b[0m\n",
      "\u001b[1;32mC:\\Users\\IMPTEMP_A_PACIFIC\\Desktop\\WinPython-64bit-3.6.3.0Qt5\\python-3.6.3.amd64\\lib\\site-packages\\pandas\\core\\computation\\scope.py\u001b[0m in \u001b[0;36mresolve\u001b[1;34m(self, key, is_local)\u001b[0m\n\u001b[0;32m    192\u001b[0m                 \u001b[1;32mreturn\u001b[0m \u001b[0mself\u001b[0m\u001b[1;33m.\u001b[0m\u001b[0mtemps\u001b[0m\u001b[1;33m[\u001b[0m\u001b[0mkey\u001b[0m\u001b[1;33m]\u001b[0m\u001b[1;33m\u001b[0m\u001b[0m\n\u001b[0;32m    193\u001b[0m             \u001b[1;32mexcept\u001b[0m \u001b[0mKeyError\u001b[0m\u001b[1;33m:\u001b[0m\u001b[1;33m\u001b[0m\u001b[0m\n\u001b[1;32m--> 194\u001b[1;33m                 \u001b[1;32mraise\u001b[0m \u001b[0mcompu\u001b[0m\u001b[1;33m.\u001b[0m\u001b[0mops\u001b[0m\u001b[1;33m.\u001b[0m\u001b[0mUndefinedVariableError\u001b[0m\u001b[1;33m(\u001b[0m\u001b[0mkey\u001b[0m\u001b[1;33m,\u001b[0m \u001b[0mis_local\u001b[0m\u001b[1;33m)\u001b[0m\u001b[1;33m\u001b[0m\u001b[0m\n\u001b[0m\u001b[0;32m    195\u001b[0m \u001b[1;33m\u001b[0m\u001b[0m\n\u001b[0;32m    196\u001b[0m     \u001b[1;32mdef\u001b[0m \u001b[0mswapkey\u001b[0m\u001b[1;33m(\u001b[0m\u001b[0mself\u001b[0m\u001b[1;33m,\u001b[0m \u001b[0mold_key\u001b[0m\u001b[1;33m,\u001b[0m \u001b[0mnew_key\u001b[0m\u001b[1;33m,\u001b[0m \u001b[0mnew_value\u001b[0m\u001b[1;33m=\u001b[0m\u001b[1;32mNone\u001b[0m\u001b[1;33m)\u001b[0m\u001b[1;33m:\u001b[0m\u001b[1;33m\u001b[0m\u001b[0m\n",
      "\u001b[1;31mUndefinedVariableError\u001b[0m: name 'Treatment_0_2011' is not defined"
     ]
    }
   ],
   "source": [
    "#stat_des_by_treatment_and_income_location(df = df, variables_stat_des=[\"Delta_Rbg\"], nb_child_max =5, which_stats = [\"mean\"])"
   ]
  },
  {
   "cell_type": "code",
   "execution_count": 196,
   "metadata": {
    "collapsed": false
   },
   "outputs": [
    {
     "data": {
      "text/plain": [
       "-331.2504273504267"
      ]
     },
     "execution_count": 196,
     "metadata": {},
     "output_type": "execute_result"
    }
   ],
   "source": [
    "#df.query(\"(NBPAC_2011 == 0)& (Between_threshold_1_child==True)\").Delta_Rbg.mean()"
   ]
  },
  {
   "cell_type": "code",
   "execution_count": 94,
   "metadata": {
    "collapsed": false
   },
   "outputs": [
    {
     "data": {
      "text/plain": [
       "['B_1', 'B_2', 'B_3', 'B_4', 'B_5']"
      ]
     },
     "execution_count": 94,
     "metadata": {},
     "output_type": "execute_result"
    }
   ],
   "source": [
    "[\"B_{}\".format(child) for child in range(1,6)]"
   ]
  },
  {
   "cell_type": "code",
   "execution_count": null,
   "metadata": {
    "collapsed": true
   },
   "outputs": [],
   "source": []
  },
  {
   "cell_type": "code",
   "execution_count": 91,
   "metadata": {
    "collapsed": true
   },
   "outputs": [],
   "source": [
    "# stat_des_simple(df = df, variables_stat_des = variables_stat_des)"
   ]
  },
  {
   "cell_type": "code",
   "execution_count": 88,
   "metadata": {
    "collapsed": true,
    "scrolled": false
   },
   "outputs": [],
   "source": [
    "#for col in df.columns: print(col)"
   ]
  }
 ],
 "metadata": {
  "kernelspec": {
   "display_name": "Python 2",
   "language": "python",
   "name": "python2"
  },
  "language_info": {
   "codemirror_mode": {
    "name": "ipython",
    "version": 2
   },
   "file_extension": ".py",
   "mimetype": "text/x-python",
   "name": "python",
   "nbconvert_exporter": "python",
   "pygments_lexer": "ipython2",
   "version": "2.7.10"
  }
 },
 "nbformat": 4,
 "nbformat_minor": 2
}
