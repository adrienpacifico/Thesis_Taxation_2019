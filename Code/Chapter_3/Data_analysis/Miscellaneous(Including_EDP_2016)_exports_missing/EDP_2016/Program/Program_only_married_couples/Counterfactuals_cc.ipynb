{
 "cells": [
  {
   "cell_type": "markdown",
   "metadata": {},
   "source": [
    "# All output have been cleared"
   ]
  },
  {
   "cell_type": "markdown",
   "metadata": {},
   "source": [
    "# Inverstigation of EDP"
   ]
  },
  {
   "cell_type": "code",
   "execution_count": null,
   "metadata": {},
   "outputs": [],
   "source": [
    "from IPython.core.display import display, HTML\n",
    "display(HTML(\"<style>.container { width:100% !important; }<\\style>\"))"
   ]
  },
  {
   "cell_type": "code",
   "execution_count": null,
   "metadata": {},
   "outputs": [],
   "source": [
    "import datetime\n",
    "print(datetime.datetime.now())"
   ]
  },
  {
   "cell_type": "code",
   "execution_count": null,
   "metadata": {},
   "outputs": [],
   "source": [
    "%matplotlib inline"
   ]
  },
  {
   "cell_type": "code",
   "execution_count": null,
   "metadata": {},
   "outputs": [],
   "source": [
    "import matplotlib.pyplot as plt"
   ]
  },
  {
   "cell_type": "code",
   "execution_count": null,
   "metadata": {},
   "outputs": [],
   "source": [
    "from __future__ import division\n",
    "import pandas as pd ; pd.set_option(\"display.max_columns\",200)\n",
    "import numpy as np\n",
    "import statsmodels.api as sm\n",
    "from statsmodels.iolib.summary2 import summary_col"
   ]
  },
  {
   "cell_type": "code",
   "execution_count": null,
   "metadata": {},
   "outputs": [],
   "source": []
  },
  {
   "cell_type": "code",
   "execution_count": null,
   "metadata": {},
   "outputs": [],
   "source": []
  },
  {
   "cell_type": "code",
   "execution_count": null,
   "metadata": {},
   "outputs": [],
   "source": [
    "result_path = u\"C:/Users/IMPTEMP_A_PACIFIC/Desktop/EDP_2016/Program/Program_only_married_couples/hdf_married_couples/\""
   ]
  },
  {
   "cell_type": "code",
   "execution_count": null,
   "metadata": {},
   "outputs": [],
   "source": [
    "df = pd.read_hdf(result_path+\"married_couples_step_last.h5\", \"fiscr\")"
   ]
  },
  {
   "cell_type": "code",
   "execution_count": null,
   "metadata": {},
   "outputs": [],
   "source": [
    "threshold_byr_rbg = pd.DataFrame()\n",
    "threshold_byr_rbg[\"2011\"] = pd.Series([63233,73516,94451,115185,135941,150684])\n",
    "threshold_byr_rbg[\"2014\"] = pd.Series([58291,63530,73806,84103,94368,104633])"
   ]
  },
  {
   "cell_type": "markdown",
   "metadata": {},
   "source": [
    "We define the taxable income (Revenu Brut Global) based on the 7 income categories present in the database."
   ]
  },
  {
   "cell_type": "code",
   "execution_count": null,
   "metadata": {},
   "outputs": [],
   "source": [
    "household_income_vars = [\"ZTSAM\", \"ZRAGM\", \"ZRACM\",\"ZRNCM\", \"ZFONM\", \"ZPERM\",\"ZRICM\"]\n",
    "for var in household_income_vars:\n",
    "    df[\"Delta_{}\".format(var)] = df[\"{}_2014\".format(var)] - df[\"{}_2011\".format(var)]"
   ]
  },
  {
   "cell_type": "code",
   "execution_count": null,
   "metadata": {},
   "outputs": [],
   "source": [
    "threshold_byr_rbg = pd.DataFrame()\n",
    "threshold_byr_rbg[\"2011\"] = pd.Series([63233,73516,94451,115185,135941,150684])\n",
    "threshold_byr_rbg[\"2014\"] = pd.Series([58291,63530,73806,84103,94368,104633])"
   ]
  },
  {
   "cell_type": "code",
   "execution_count": null,
   "metadata": {},
   "outputs": [],
   "source": [
    "import importlib\n",
    "year = 2014\n",
    "\n",
    "ir_2014 = importlib.import_module(\"Irpp_formulas.IRPP_from_scratch_civil_union\")\n",
    "\n",
    "ir_2011 = importlib.import_module(\"Irpp_formulas.IRPP_from_scratch_civil_union_{}\".format(2011))\n",
    "\n",
    "dict_gain_ir_2011_by_child = dict()\n",
    "dict_gain_ir_2014_by_child = dict()\n",
    "for child in range(1,6):\n",
    "    ir_x_children = ir_2011.ir_avec_plafond_qf_enfant(pd.Series(\n",
    "        range(0,2*10**5, 1000)), ir_2014.parts_fiscales_enfants(pd.Series([child]*200).astype(\"float\")))\n",
    "    ir_0_children = ir_2011.ir_avec_plafond_qf_enfant(pd.Series(\n",
    "        range(0,2*10**5, 1000)), ir_2011.parts_fiscales_enfants(pd.Series([0.0]*200).astype(\"float\")))\n",
    "    dict_gain_ir_2011_by_child[child] = ir_0_children - ir_x_children \n",
    "    \n",
    "    ir_x_children = ir_2014.ir_avec_plafond_qf_enfant(pd.Series(\n",
    "        range(0,2*10**5, 1000)), ir_2014.parts_fiscales_enfants(pd.Series([child]*200).astype(\"float\")))\n",
    "    ir_0_children = ir_2014.ir_avec_plafond_qf_enfant(pd.Series(\n",
    "        range(0,2*10**5, 1000)), ir_2014.parts_fiscales_enfants(pd.Series([0.0]*200).astype(\"float\")))\n",
    "    dict_gain_ir_2014_by_child[child] = ir_0_children - ir_x_children \n",
    "    \n",
    "    \n",
    "    \n",
    "\n",
    "plt.figure(figsize=(20,10))\n",
    "for child in range(1,5):\n",
    "    plt.plot( pd.Series(range(0,2*10**5, 1000)),dict_gain_ir_2011_by_child[child])\n",
    "    plt.plot( pd.Series(range(0,2*10**5, 1000)),dict_gain_ir_2014_by_child[child])\n",
    "for thrsh in threshold_byr_rbg[\"2011\"][0:4]:\n",
    "    plt.vlines(thrsh, 0 , 16000, linewidth = 0.6, color = \"r\")\n",
    "for thrsh in threshold_byr_rbg[\"2014\"][0:4]:\n",
    "    plt.vlines(thrsh, 0 , 16000, linewidth = 0.6, color = \"b\")\n",
    "plt.xlim(50000,160000)\n",
    "\n",
    "#ir_2011.ir_avec_plafond_qf_enfant(pd.Series(range(0,2*10**5, 1000)), ir.parts_fiscales_enfants(pd.Series([3.0]*200).astype(\"float\"))).plot()"
   ]
  },
  {
   "cell_type": "code",
   "execution_count": null,
   "metadata": {},
   "outputs": [],
   "source": [
    "parts_fiscales_enfants = ir_2014.parts_fiscales_enfants(df.NBPAC_2011)"
   ]
  },
  {
   "cell_type": "code",
   "execution_count": null,
   "metadata": {},
   "outputs": [],
   "source": [
    "df[\"Irpp_2011\"] = ir_2011.ir_avec_plafond_qf_enfant(df.Rbg_2011, parts_fiscales_enfants)\n",
    "df[\"Irpp_2014\"] = ir_2014.ir_avec_plafond_qf_enfant(df.Rbg_2014, parts_fiscales_enfants)"
   ]
  },
  {
   "cell_type": "code",
   "execution_count": null,
   "metadata": {},
   "outputs": [],
   "source": [
    "df_temp = df.query(\"(NBPAC_2011 >=1) & (NBPAC_2011==NBPAC_2014) \")\n",
    "print(df_temp.shape)\n",
    "fig = plt.figure(figsize=(10,5))\n",
    "plt.scatter(df_temp.ZIMPOM_2011,df_temp.Irpp_2011, s=0.02 )\n",
    "plt.xlim(0,15000)\n",
    "plt.ylim(0,15000)"
   ]
  },
  {
   "cell_type": "code",
   "execution_count": null,
   "metadata": {},
   "outputs": [],
   "source": [
    "df_temp = df.query(\"(NBPAC_2011 ==0) & (NBPAC_2011==NBPAC_2014) \")\n",
    "print(df_temp.shape)\n",
    "fig = plt.figure(figsize=(10,5))\n",
    "plt.scatter(df_temp.ZIMPOM_DECL_2014,df_temp.Irpp_2014, s=0.02 )\n",
    "plt.xlim(0,15000)\n",
    "plt.ylim(0,15000)"
   ]
  },
  {
   "cell_type": "code",
   "execution_count": null,
   "metadata": {},
   "outputs": [],
   "source": [
    "df_temp = df.query(\"(NBPAC_2011 >=1) & (NBPAC_2011==NBPAC_2014) \")\n",
    "print(df_temp.shape)\n",
    "fig = plt.figure(figsize=(10,5))\n",
    "plt.scatter(df_temp.ZIMPOM_DECL_2014,df_temp.Irpp_2014, s=0.02 )\n",
    "plt.xlim(0,15000)\n",
    "plt.ylim(0,15000)"
   ]
  },
  {
   "cell_type": "code",
   "execution_count": null,
   "metadata": {},
   "outputs": [],
   "source": [
    "df_temp = df.query(\"(NBPAC_2011 >=1) & (NBPAC_2011==NBPAC_2014<4)&(50_000<Rbg_2011<200_000)\")\n",
    "print(df_temp.shape)\n",
    "fig = plt.figure(figsize=(10,5))\n",
    "plt.scatter(df_temp.ZIMPOM_DECL_2014,df_temp.Irpp_2014, s=0.002 )\n",
    "plt.xlim(0,15000)\n",
    "plt.ylim(0,15000)"
   ]
  },
  {
   "cell_type": "markdown",
   "metadata": {},
   "source": [
    "## Needed variables"
   ]
  },
  {
   "cell_type": "code",
   "execution_count": null,
   "metadata": {},
   "outputs": [],
   "source": [
    "nb_enf_max_for_annalysis = 5"
   ]
  },
  {
   "cell_type": "code",
   "execution_count": null,
   "metadata": {},
   "outputs": [],
   "source": [
    "child_bool_list = [\"child_{}\".format(child) for child in  np.arange(1,nb_enf_max_for_annalysis+1)]\n",
    "cumulative_child_bool_list = [\"cumulative_child_{}\".format(child) for child in  np.arange(1,nb_enf_max_for_annalysis+1)] "
   ]
  },
  {
   "cell_type": "code",
   "execution_count": null,
   "metadata": {},
   "outputs": [],
   "source": [
    "all_thresholds = pd.concat([threshold_byr_rbg[\"2011\"], threshold_byr_rbg[\"2014\"]]).sort_values()\n",
    "thrsh_bool_list = [\"Threshold_{}\".format(thrsh) for thrsh in  all_thresholds ]"
   ]
  },
  {
   "cell_type": "code",
   "execution_count": null,
   "metadata": {},
   "outputs": [],
   "source": [
    "between_threshold_for_child_rank = [\"Between_threshold_{}_child\".format(nb_child) for nb_child in range(1,nb_enf_max_for_annalysis+1)]\n",
    "over_threshold_for_child_rank = [\"Over_threshold_{}_child\".format(nb_child) for nb_child in range(1,nb_enf_max_for_annalysis+1)]\n",
    "children_number =  [\"child_{}\".format(nb_child) for nb_child in range(1,nb_enf_max_for_annalysis+1)]\n",
    "\n",
    "interaction_child_between_threshold  = [\"{}:{}\".format(child,interaction) for child, interaction in zip(children_number, between_threshold_for_child_rank)]\n",
    "interaction_child_over_threshold  = [\"{}:{}\".format(child,interaction) for child, interaction in zip(children_number, over_threshold_for_child_rank)]"
   ]
  },
  {
   "cell_type": "code",
   "execution_count": null,
   "metadata": {},
   "outputs": [],
   "source": [
    "hardcoded_over = [\"Over_{}_X_{}_child\".format(child,child) for child in range(1,nb_enf_max_for_annalysis+1)]\n",
    "hardcoded_between = [\"Between_{}_X_{}_child\".format(child,child) for child in range(1,nb_enf_max_for_annalysis+1)]"
   ]
  },
  {
   "cell_type": "markdown",
   "metadata": {},
   "source": [
    "### Income sample selection"
   ]
  },
  {
   "cell_type": "code",
   "execution_count": null,
   "metadata": {},
   "outputs": [],
   "source": [
    "df.shape"
   ]
  },
  {
   "cell_type": "code",
   "execution_count": null,
   "metadata": {},
   "outputs": [],
   "source": [
    "#Nouvelle version ou il faut appartenir à l'intervalle de revenu que sur un seule des deux années\n",
    "df = df[((\n",
    "            (df.Rbg_2011>50000)\n",
    "            &(df.Rbg_2011<200000)\n",
    "        )|(\n",
    "            (df.Rbg_2014>50000)\n",
    "            & (df.Rbg_2014<200000)))]"
   ]
  },
  {
   "cell_type": "code",
   "execution_count": null,
   "metadata": {},
   "outputs": [],
   "source": [
    "nb_enf_max_for_annalysis"
   ]
  },
  {
   "cell_type": "code",
   "execution_count": null,
   "metadata": {},
   "outputs": [],
   "source": [
    "df = df[df.NBPAC_2011<=nb_enf_max_for_annalysis]"
   ]
  },
  {
   "cell_type": "code",
   "execution_count": null,
   "metadata": {},
   "outputs": [],
   "source": [
    "age_max_parents = 62"
   ]
  },
  {
   "cell_type": "code",
   "execution_count": null,
   "metadata": {},
   "outputs": [],
   "source": [
    "print(((df.Age_mother>age_max_parents)|(df.Age_father>age_max_parents)).value_counts()) \n",
    "df = df[~((df.Age_mother>age_max_parents)|(df.Age_father>age_max_parents))]"
   ]
  },
  {
   "cell_type": "code",
   "execution_count": null,
   "metadata": {},
   "outputs": [],
   "source": []
  },
  {
   "cell_type": "code",
   "execution_count": null,
   "metadata": {},
   "outputs": [],
   "source": []
  },
  {
   "cell_type": "code",
   "execution_count": null,
   "metadata": {},
   "outputs": [],
   "source": []
  },
  {
   "cell_type": "code",
   "execution_count": null,
   "metadata": {},
   "outputs": [],
   "source": []
  },
  {
   "cell_type": "code",
   "execution_count": null,
   "metadata": {},
   "outputs": [],
   "source": []
  },
  {
   "cell_type": "code",
   "execution_count": null,
   "metadata": {},
   "outputs": [],
   "source": []
  },
  {
   "cell_type": "code",
   "execution_count": null,
   "metadata": {},
   "outputs": [],
   "source": []
  },
  {
   "cell_type": "code",
   "execution_count": null,
   "metadata": {},
   "outputs": [],
   "source": []
  },
  {
   "cell_type": "code",
   "execution_count": null,
   "metadata": {},
   "outputs": [],
   "source": [
    "## On vire les variations extrèmes pour ne pas avoir de revenus négatifs."
   ]
  },
  {
   "cell_type": "code",
   "execution_count": null,
   "metadata": {},
   "outputs": [],
   "source": [
    "low = 0.025\n",
    "high = 0.975\n",
    "quant_df = df.Delta_Rbg.quantile([low,high])\n",
    "print(quant_df)\n",
    "df = df[df.Delta_Rbg>quant_df.loc[low]]\n",
    "df = df[df.Delta_Rbg<quant_df.loc[high]]"
   ]
  },
  {
   "cell_type": "code",
   "execution_count": null,
   "metadata": {},
   "outputs": [],
   "source": [
    "print(df.Rbg_2011.min())\n",
    "print(df.Rbg_2014.min())\n",
    "print(df.Rbg_2011.max())\n",
    "print(df.Rbg_2014.max())\n"
   ]
  },
  {
   "cell_type": "code",
   "execution_count": null,
   "metadata": {},
   "outputs": [],
   "source": [
    "print((df.Rbg_2011<=1000).value_counts())\n",
    "print((df.Rbg_2014<=1000).value_counts())"
   ]
  },
  {
   "cell_type": "code",
   "execution_count": null,
   "metadata": {},
   "outputs": [],
   "source": []
  },
  {
   "cell_type": "code",
   "execution_count": null,
   "metadata": {},
   "outputs": [],
   "source": [
    "df.query(\"-5000<Delta_Rbg<5000\").Delta_Rbg.hist(bins = 100)"
   ]
  },
  {
   "cell_type": "code",
   "execution_count": null,
   "metadata": {
    "scrolled": false
   },
   "outputs": [],
   "source": [
    "for var in household_income_vars:\n",
    "    plt.figure(figsize=(10,5))\n",
    "    df.query(\"(-15000<Delta_{}<15000) &(Delta_{}!=0)\".format(var, var))[\"Delta_{}\".format(var)].hist(bins = 100)\n",
    "    plt.title(\"Delta_{}\".format(var))"
   ]
  },
  {
   "cell_type": "code",
   "execution_count": null,
   "metadata": {},
   "outputs": [],
   "source": [
    "var = \"ZPERM\"\n",
    "plt.figure(figsize=(10,5))\n",
    "for nb_child in range(0,6):\n",
    "    df.query(\"(-15000<Delta_{}<65000) &(Delta_{}!=0)&(ZPERM_2011>10000)&(NBPAC_2011==@nb_child)\".format(var, var))[\"Delta_{}\".format(var)].hist(bins = 100, label = \"{}\".format(nb_child))\n",
    "plt.title(\"Delta_{}\".format(var))\n",
    "plt.legend()"
   ]
  },
  {
   "cell_type": "code",
   "execution_count": null,
   "metadata": {},
   "outputs": [],
   "source": [
    "var = \"ZPERM\"\n",
    "plt.figure(figsize=(10,5))\n",
    "df.query(\"(-15000<Delta_{}<65000) &(Delta_{}!=0)&(ZPERM_2011<1000)\".format(var, var))[\"Delta_{}\".format(var)].hist(bins = 100)\n",
    "plt.title(\"Delta_{}\".format(var))"
   ]
  },
  {
   "cell_type": "code",
   "execution_count": null,
   "metadata": {},
   "outputs": [],
   "source": [
    "df.query(\"(-7000<Delta_Rbg<7000)\").Delta_Rbg.hist(bins = 100)"
   ]
  },
  {
   "cell_type": "code",
   "execution_count": null,
   "metadata": {},
   "outputs": [],
   "source": [
    "(df.ZPERM_2014>0).value_counts(normalize = True)"
   ]
  },
  {
   "cell_type": "markdown",
   "metadata": {},
   "source": [
    "We have 28% of the sample that has retirement income. It creates a mass in the change in income at 2000 euros."
   ]
  },
  {
   "cell_type": "code",
   "execution_count": null,
   "metadata": {},
   "outputs": [],
   "source": [
    "df.query(\"(-5000<Delta_Rbg<5000)&(ZPERM_2011<50)\").Delta_Rbg.hist(bins = 100)"
   ]
  },
  {
   "cell_type": "code",
   "execution_count": null,
   "metadata": {},
   "outputs": [],
   "source": [
    "df.query(\"(-5000<Delta_Rbg<5000)&(ZPERM_2014<50)\").Delta_Rbg.hist(bins = 100)"
   ]
  },
  {
   "cell_type": "code",
   "execution_count": null,
   "metadata": {},
   "outputs": [],
   "source": [
    "df.query(\"(-15000<Delta_Rbg<25000)&(ZPERM_2011<50)\").Delta_Rbg.hist(bins = 100)"
   ]
  },
  {
   "cell_type": "code",
   "execution_count": null,
   "metadata": {},
   "outputs": [],
   "source": [
    "df.query(\"(-15000<Delta_Rbg<25000)\").Delta_Rbg.hist(bins = 100)"
   ]
  },
  {
   "cell_type": "code",
   "execution_count": null,
   "metadata": {},
   "outputs": [],
   "source": [
    "(df.Rbg_2014==0).value_counts()"
   ]
  },
  {
   "cell_type": "code",
   "execution_count": null,
   "metadata": {},
   "outputs": [],
   "source": [
    "df.query(\"NBPAC_2011<5\").shape"
   ]
  },
  {
   "cell_type": "code",
   "execution_count": null,
   "metadata": {},
   "outputs": [],
   "source": [
    "df[\"Delta_NBPAC\"] = df.NBPAC_2014 - df.NBPAC_2011"
   ]
  },
  {
   "cell_type": "code",
   "execution_count": null,
   "metadata": {},
   "outputs": [],
   "source": [
    "(df.Delta_NBPAC!=0).value_counts(normalize = True)"
   ]
  },
  {
   "cell_type": "markdown",
   "metadata": {},
   "source": [
    "15% has experienced a birth or a child departure over the 2011,2014 period.  \n",
    "We will focus our analysis only on households with a fixed family structure."
   ]
  },
  {
   "cell_type": "code",
   "execution_count": null,
   "metadata": {},
   "outputs": [],
   "source": [
    "df.shape"
   ]
  },
  {
   "cell_type": "code",
   "execution_count": null,
   "metadata": {},
   "outputs": [],
   "source": [
    "df[df.NBPAC_2011 == df.NBPAC_2014].shape"
   ]
  },
  {
   "cell_type": "markdown",
   "metadata": {},
   "source": [
    "### We only keep family structure children leaving such that households are not in the treatment anymore.\n",
    "Not in the treatmen anymore:\n",
    "- One or more children leave household\n",
    "- Poor enough to be in treatment 0 with that new family situation."
   ]
  },
  {
   "cell_type": "code",
   "execution_count": null,
   "metadata": {},
   "outputs": [],
   "source": [
    "#df = df[df.NBPAC_2011 >= df.NBPAC_2014]"
   ]
  },
  {
   "cell_type": "code",
   "execution_count": null,
   "metadata": {},
   "outputs": [],
   "source": [
    "df[df.NBPAC_2011 >= df.NBPAC_2014].Age_eldest_child.hist(bins = 100)"
   ]
  },
  {
   "cell_type": "code",
   "execution_count": null,
   "metadata": {},
   "outputs": [],
   "source": [
    "df.Age_eldest_child"
   ]
  },
  {
   "cell_type": "code",
   "execution_count": null,
   "metadata": {},
   "outputs": [],
   "source": [
    "threshold_byr_rbg = pd.DataFrame()\n",
    "threshold_byr_rbg[\"2011\"] = pd.Series([63233,73516,94451,115185,135941,150684])\n",
    "threshold_byr_rbg[\"2014\"] = pd.Series([58291,63530,73806,84103,94368,104633])"
   ]
  },
  {
   "cell_type": "markdown",
   "metadata": {},
   "source": [
    "# Canonical (in article)"
   ]
  },
  {
   "cell_type": "code",
   "execution_count": null,
   "metadata": {},
   "outputs": [],
   "source": [
    "df[\"Rbg_splines\"]  = pd.qcut(df.Rbg_2011, 30)"
   ]
  },
  {
   "cell_type": "code",
   "execution_count": null,
   "metadata": {},
   "outputs": [],
   "source": [
    "no_attached = (df.TYPE_FISC_2014.str.count(\"[3-9]\")<1)&(df.TYPE_FISC_2011.str.count(\"[3-9]\")<1)\n",
    "m = sm.OLS.from_formula(\"(Delta_rbg)~   {} \".format(\n",
    "        ' + '.join(children_number+ #below_threshold_for_child_rank+interaction_child_below_thresholds\n",
    "                  between_threshold_for_child_rank+children_number+ over_threshold_for_child_rank+\n",
    "                  interaction_child_between_threshold+interaction_child_over_threshold))\n",
    "                    , df.query(\"((200000>Rbg_2011>50000)&(200000>Rbg_2014>50000))\"+\n",
    "                              \"&(NBPAC_2011 == NBPAC_2014)&(@no_attached) \")) #SAME NBPAC\n",
    "fit = m.fit()\n",
    "summary = fit.summary(); print(summary)\n"
   ]
  },
  {
   "cell_type": "code",
   "execution_count": null,
   "metadata": {},
   "outputs": [],
   "source": [
    "no_attached = (df.TYPE_FISC_2014.str.count(\"[3-9]\")<1)&(df.TYPE_FISC_2011.str.count(\"[3-9]\")<1)\n",
    "m = sm.OLS.from_formula(\"(Delta_rbg)~   {} \".format(\n",
    "        ' + '.join(children_number+ #below_threshold_for_child_rank+interaction_child_below_thresholds\n",
    "                  between_threshold_for_child_rank+children_number+ over_threshold_for_child_rank+\n",
    "                  interaction_child_2011_2014_between_threshold +interaction_child_2011_2014_over_threshold_2014))\n",
    "                    , df.query(\"((200000>Rbg_2011>50000)&(200000>Rbg_2014>50000))\"+\n",
    "                              \"&(NBPAC_2011 == NBPAC_2014)&(@no_attached) \")) #SAME NBPAC\n",
    "fit = m.fit()\n",
    "summary = fit.summary(); print(summary)\n"
   ]
  },
  {
   "cell_type": "code",
   "execution_count": null,
   "metadata": {},
   "outputs": [],
   "source": [
    "no_attached = (df.TYPE_FISC_2014.str.count(\"[3-9]\")<1)&(df.TYPE_FISC_2011.str.count(\"[3-9]\")<1)\n",
    "m = sm.OLS.from_formula(\"(Delta_rbg)~   {} \".format(\n",
    "        ' + '.join(children_number+ #below_threshold_for_child_rank+interaction_child_below_thresholds\n",
    "                  between_threshold_for_child_rank+children_number+ over_threshold_for_child_rank+\n",
    "                  interaction_child_between_threshold+interaction_child_over_threshold))\n",
    "                    , df.query(\"((200000>Rbg_2011>50000)&(200000>Rbg_2014>50000))\"+\n",
    "                              \"&(NBPAC_2011 == NBPAC_2014)&(@no_attached) \").sample(n = 11971)) #SAME NBPAC\n",
    "fit = m.fit()\n",
    "summary = fit.summary(); print(summary)\n"
   ]
  },
  {
   "cell_type": "code",
   "execution_count": null,
   "metadata": {},
   "outputs": [],
   "source": [
    "interactions_rbg_between = [\"Interactions_rbg_child{}_between\".format(child) for child in range(1,6)]\n",
    "interactions_rbg_over = [\"Interactions_rbg_child{}_over\".format(child) for child in range(1,6)]\n",
    "interactions_child_over = [\"Interactions_child{}_over\".format(child) for child in range(1,6)]\n",
    "np.random.seed(42)\n",
    "\n",
    "df_for_zimpom =  df.sample(n = 50_000).query(\"((200000>Rbg_2011>50000)&(200000>Rbg_2014>50000))&(Age_father>40)\"+\n",
    "                              \"&(NBPAC_2011 == NBPAC_2014)&(@no_attached) \")\n",
    "regression_delta_zimpom_formula = \"(Delta_ZIMPOM)~   {} - 1 + Not_touched_by_reform + Delta_Rbg_times_not_touched_reform\".format(\n",
    "        ' + '.join( interactions_child_over+interactions_rbg_over+interactions_rbg_between))\n",
    "m = sm.OLS.from_formula(regression_delta_zimpom_formula\n",
    "                    ,df_for_zimpom)#SAME NBPAC\n",
    "fit = m.fit()\n",
    "summary = fit.summary(); print(summary)"
   ]
  },
  {
   "cell_type": "code",
   "execution_count": null,
   "metadata": {},
   "outputs": [],
   "source": [
    "(df_for_zimpom[\"Interactions_rbg_child1_between\"] * 0.3).shape"
   ]
  },
  {
   "cell_type": "code",
   "execution_count": null,
   "metadata": {},
   "outputs": [],
   "source": [
    "np.array([1,2,4,6,8])*836"
   ]
  },
  {
   "cell_type": "code",
   "execution_count": null,
   "metadata": {},
   "outputs": [],
   "source": [
    "fit.params[:5] - np.array([1,2,4,5,8])*836"
   ]
  },
  {
   "cell_type": "code",
   "execution_count": null,
   "metadata": {},
   "outputs": [],
   "source": [
    "no_attached = (df.TYPE_FISC_2014.str.count(\"[3-9]\")<1)&(df.TYPE_FISC_2011.str.count(\"[3-9]\")<1)\n",
    "m = sm.OLS.from_formula(\"(Delta_rbg)~   {} \".format(\n",
    "        ' + '.join(children_number+ #below_threshold_for_child_rank+interaction_child_below_thresholds\n",
    "                  between_threshold_for_child_rank+children_number+ over_threshold_for_child_rank+\n",
    "                  interaction_child_between_threshold+interaction_child_over_threshold))\n",
    "                    , df.query(\"((200000>Rbg_2011>50000)&(200000>Rbg_2014>50000))\"+\n",
    "                              \"&(NBPAC_2011 == NBPAC_2014)&(@no_attached) \")) #SAME NBPAC\n",
    "fit = m.fit()\n",
    "summary = fit.summary(); print(summary)\n"
   ]
  },
  {
   "cell_type": "markdown",
   "metadata": {},
   "source": [
    "# With dependent children"
   ]
  },
  {
   "cell_type": "code",
   "execution_count": null,
   "metadata": {},
   "outputs": [],
   "source": [
    "no_attached = (df.TYPE_FISC_2014.str.count(\"[3-9]\")<1)&(df.TYPE_FISC_2011.str.count(\"[3-9]\")<1)\n",
    "m = sm.OLS.from_formula(\"(Delta_rbg)~   {} \".format(\n",
    "        ' + '.join(children_number+ #below_threshold_for_child_rank+interaction_child_below_thresholds\n",
    "                  between_threshold_for_child_rank+children_number+ over_threshold_for_child_rank+\n",
    "                  interaction_child_between_threshold+interaction_child_over_threshold))\n",
    "                    , df.query(\"((200000>Rbg_2011>50000)&(200000>Rbg_2014>50000))\"+\n",
    "                              \"&(NBPAC_2011 == NBPAC_2014) \")) #SAME NBPAC\n",
    "fit = m.fit()\n",
    "summary = fit.summary(); print(summary)\n"
   ]
  },
  {
   "cell_type": "markdown",
   "metadata": {},
   "source": [
    "# Child(ren) has(ve) left the household"
   ]
  },
  {
   "cell_type": "code",
   "execution_count": null,
   "metadata": {},
   "outputs": [],
   "source": [
    "\n",
    "m = sm.OLS.from_formula(\"(Delta_rbg)~   {} \".format(\n",
    "        ' + '.join(children_number+ #below_threshold_for_child_rank+interaction_child_below_thresholds\n",
    "                  between_threshold_for_child_rank+children_number+ over_threshold_for_child_rank+\n",
    "                  interaction_child_between_threshold+interaction_child_over_threshold))\n",
    "                    , df.query(\"((200000>Rbg_2011>50000)&(200000>Rbg_2014>50000))\"+\n",
    "                              \"&(NBPAC_2011 > NBPAC_2014) \")) #SAME NBPAC\n",
    "fit = m.fit()\n",
    "summary = fit.summary(); print(summary)\n"
   ]
  },
  {
   "cell_type": "code",
   "execution_count": null,
   "metadata": {},
   "outputs": [],
   "source": [
    "\n",
    "m = sm.OLS.from_formula(\"(Delta_rbg)~   {} \".format(\n",
    "        ' + '.join(children_number+ #below_threshold_for_child_rank+interaction_child_below_thresholds\n",
    "                  between_threshold_for_child_rank+children_number+ over_threshold_for_child_rank+\n",
    "                  interaction_child_between_threshold+interaction_child_over_threshold))\n",
    "                    , df.query(\"((200000>Rbg_2011>50000)&(200000>Rbg_2014>50000))\"+\n",
    "                              \"&(NBPAC_2011 < NBPAC_2014) \")) #SAME NBPAC\n",
    "fit = m.fit()\n",
    "summary = fit.summary(); print(summary)\n"
   ]
  },
  {
   "cell_type": "code",
   "execution_count": null,
   "metadata": {},
   "outputs": [],
   "source": []
  },
  {
   "cell_type": "code",
   "execution_count": null,
   "metadata": {},
   "outputs": [],
   "source": [
    "for child in range(0,7):\n",
    "    df[\"child_{}_2014\".format(child)] = df.NBPAC_2014 == child\n",
    "between_threshold_for_child_rank = [\"Between_threshold_{}_child\".format(nb_child) for nb_child in range(1,nb_enf_max_for_annalysis+1)]\n",
    "over_threshold_for_child_rank = [\"Over_threshold_{}_child\".format(nb_child) for nb_child in range(1,nb_enf_max_for_annalysis+1)]\n",
    "children_number_2014 =  [\"child_{}_2014\".format(nb_child) for nb_child in range(1,nb_enf_max_for_annalysis+1)]\n",
    "\n",
    "interaction_child_between_threshold_2014  = [\"{}_2014:{}\".format(child,interaction) for child, interaction in zip(children_number, between_threshold_for_child_rank)]\n",
    "interaction_child_over_threshold_2014  = [\"{}_2014:{}\".format(child,interaction) for child, interaction in zip(children_number, over_threshold_for_child_rank)]"
   ]
  },
  {
   "cell_type": "code",
   "execution_count": null,
   "metadata": {},
   "outputs": [],
   "source": [
    "interaction_child_2011_2014_between_threshold  = [\"{}:{}\".format(child,interaction) for child, interaction in zip(children_number, hardcoded_between_2014)]\n",
    "interaction_child_2011_2014_over_threshold_2014  = [\"{}:{}\".format(child,interaction) for child, interaction in zip(children_number, hardcoded_over_2014)]"
   ]
  },
  {
   "cell_type": "code",
   "execution_count": null,
   "metadata": {},
   "outputs": [],
   "source": [
    "hardcoded_over_2014 = [\"Over_{}_X_{}_child_2014\".format(child,child) for child in range(1,nb_enf_max_for_annalysis+1)]\n",
    "hardcoded_between_2014 = [\"Between_{}_X_{}_child_2014\".format(child,child) for child in range(1,nb_enf_max_for_annalysis+1)]"
   ]
  },
  {
   "cell_type": "code",
   "execution_count": null,
   "metadata": {},
   "outputs": [],
   "source": [
    "hardcoded_over_2011_child = [\"Over_{}_X_{}_child_2014\".format(child,child) for child in range(1,nb_enf_max_for_annalysis+1)]\n",
    "hardcoded_between_2014 = [\"Between_{}_X_{}_child_2014\".format(child,child) for child in range(1,nb_enf_max_for_annalysis+1)]"
   ]
  },
  {
   "cell_type": "code",
   "execution_count": null,
   "metadata": {},
   "outputs": [],
   "source": [
    "## Interactions hardcoded\n",
    "for child in range(1,7):\n",
    "    df[\"Over_{}_X_{}_child_2014\".format(child,child)] = df[\"Over_threshold_{}_child\".format(child)] * (df[\"NBPAC_2014\"]==child)\n",
    "    df[\"Between_{}_X_{}_child_2014\".format(child,child)] = df[\"Between_threshold_{}_child\".format(child)] * (df[\"NBPAC_2014\"]==child)"
   ]
  },
  {
   "cell_type": "code",
   "execution_count": null,
   "metadata": {},
   "outputs": [],
   "source": [
    "no_attached = (df.TYPE_FISC_2014.str.count(\"[3-9]\")<1)&(df.TYPE_FISC_2011.str.count(\"[3-9]\")<1)\n",
    "m = sm.OLS.from_formula(\"(Delta_rbg)~   {} \".format(\n",
    "        ' + '.join(children_number #below_threshold_for_child_rank+interaction_child_below_thresholds\n",
    "                  +hardcoded_over_2014+hardcoded_between_2014+over_threshold_for_child_rank+between_threshold_for_child_rank))\n",
    "                    , df.query(\"((200000>Rbg_2011>50000)&(200000>Rbg_2014>50000))\"+\n",
    "                              \"&(NBPAC_2011 >= NBPAC_2014) \").sample(n = 12000)) #SAME NBPAC\n",
    "fit = m.fit()\n",
    "summary = fit.summary(); print(summary)\n"
   ]
  },
  {
   "cell_type": "code",
   "execution_count": null,
   "metadata": {},
   "outputs": [],
   "source": []
  },
  {
   "cell_type": "code",
   "execution_count": null,
   "metadata": {},
   "outputs": [],
   "source": []
  },
  {
   "cell_type": "code",
   "execution_count": null,
   "metadata": {},
   "outputs": [],
   "source": []
  },
  {
   "cell_type": "code",
   "execution_count": null,
   "metadata": {},
   "outputs": [],
   "source": []
  },
  {
   "cell_type": "code",
   "execution_count": null,
   "metadata": {},
   "outputs": [],
   "source": [
    "df.Rbg_2014.hist(bins = 900)"
   ]
  },
  {
   "cell_type": "code",
   "execution_count": null,
   "metadata": {},
   "outputs": [],
   "source": [
    "\n",
    "df.Rbg_2011.hist(bins = 900)"
   ]
  },
  {
   "cell_type": "code",
   "execution_count": null,
   "metadata": {},
   "outputs": [],
   "source": [
    "print((df.Rbg_2011 == 0).value_counts(normalize = True))\n",
    "print((df.Rbg_2014 == 0).value_counts(normalize = True))"
   ]
  },
  {
   "cell_type": "code",
   "execution_count": null,
   "metadata": {},
   "outputs": [],
   "source": [
    "range(nb_enf_max_for_annalysis+1)"
   ]
  },
  {
   "cell_type": "code",
   "execution_count": null,
   "metadata": {},
   "outputs": [],
   "source": [
    "%%time\n",
    "df = df[df.NBPAC_2011.isin(range(nb_enf_max_for_annalysis+1))]#,6,7])]\n",
    "#df = df[df.AGERF_2011<50]"
   ]
  },
  {
   "cell_type": "code",
   "execution_count": null,
   "metadata": {},
   "outputs": [],
   "source": [
    "df.shape"
   ]
  },
  {
   "cell_type": "code",
   "execution_count": null,
   "metadata": {},
   "outputs": [],
   "source": [
    "import statsmodels.api as sm\n",
    "df[\"Rbg_splines\"]  = pd.cut(df.Rbg_2011, 10)"
   ]
  },
  {
   "cell_type": "code",
   "execution_count": null,
   "metadata": {},
   "outputs": [],
   "source": [
    "df = df[(df.NBPAC_2011 == df.NBPAC_2014)]"
   ]
  },
  {
   "cell_type": "markdown",
   "metadata": {},
   "source": [
    "### Stat Des"
   ]
  },
  {
   "cell_type": "code",
   "execution_count": null,
   "metadata": {},
   "outputs": [],
   "source": [
    "stat_des_variables = [\"Rbg_2011\",\"Rbg_2014\",\"Delta_rbg\",\"Age_father\", \"Age_mother\",\"NBPAC_2011\" , \"Age_youngest_child\", \"Age_eldest_child\"]"
   ]
  },
  {
   "cell_type": "code",
   "execution_count": null,
   "metadata": {},
   "outputs": [],
   "source": [
    "df[stat_des_variables].describe().loc[\"mean\"]"
   ]
  },
  {
   "cell_type": "code",
   "execution_count": null,
   "metadata": {},
   "outputs": [],
   "source": [
    "df[stat_des_variables].query(\"NBPAC_2011==1\").describe().loc[\"mean\"]"
   ]
  },
  {
   "cell_type": "code",
   "execution_count": null,
   "metadata": {},
   "outputs": [],
   "source": [
    "df[stat_des_variables].query(\"NBPAC_2011==2\").describe().loc[\"mean\"]"
   ]
  },
  {
   "cell_type": "code",
   "execution_count": null,
   "metadata": {},
   "outputs": [],
   "source": [
    "df[stat_des_variables].query(\"NBPAC_2011==0\").describe().loc[\"mean\"]"
   ]
  },
  {
   "cell_type": "code",
   "execution_count": null,
   "metadata": {},
   "outputs": [],
   "source": [
    "### TODO: faire un multi-index avec all , 0 child, 1 ,2,3,4 and more child en colones et les variables en ignes.\n",
    "stat_des_df = pd.DataFrame()"
   ]
  },
  {
   "cell_type": "code",
   "execution_count": null,
   "metadata": {},
   "outputs": [],
   "source": []
  },
  {
   "cell_type": "code",
   "execution_count": null,
   "metadata": {},
   "outputs": [],
   "source": [
    "df.Rbg_2014.hist(bins = 100, alpha = 0.5, label = \"2014\")\n",
    "df.Rbg_2011.hist(bins = 100,alpha = 0.5, label = \"2011\")\n",
    "plt.legend()"
   ]
  },
  {
   "cell_type": "code",
   "execution_count": null,
   "metadata": {},
   "outputs": [],
   "source": [
    "import seaborn as sns\n",
    "sns.distplot(df.Rbg_2014, color = \"r\")\n",
    "sns.distplot(df.Rbg_2011)"
   ]
  },
  {
   "cell_type": "code",
   "execution_count": null,
   "metadata": {},
   "outputs": [],
   "source": [
    "threshold_byr_rbg = pd.DataFrame()\n",
    "threshold_byr_rbg[\"2011\"] = pd.Series([63233,73516,94451,115185,135941,150684])\n",
    "threshold_byr_rbg[\"2014\"] = pd.Series([58291,63530,73806,84103,94368,104633])\n",
    "threshold_byr_rbg.index = range(1,7); threshold_byr_rbg.index.name = 'nb_enf'\n",
    "threshold_byr_rbg\n",
    "\n",
    "\n",
    "\n",
    "\n",
    "df[\"Not_touched_by_reform\"] = (df.NBPAC_2011 == 0).astype(\"int\")\n",
    "for nb_enf in range(1,7): ### in modification\n",
    "    df[\"Not_touched_by_reform\".format(nb_enf)\n",
    "          ] +=((df.Rbg_2011<  threshold_byr_rbg[\"2014\"].iloc[nb_enf-1])\n",
    "                *( df.NBPAC_2011 == nb_enf)).astype(\"float\")"
   ]
  },
  {
   "cell_type": "code",
   "execution_count": null,
   "metadata": {},
   "outputs": [],
   "source": [
    "df[\"Distance_to_treatment_2\"]  = 0\n",
    "for child in range(1,nb_enf_max_for_annalysis+1):\n",
    "    df[\"Distance_to_treatment_2\"] += df[\"Over_threshold_{}_child\".format(child)] * df[child_bool_list[child-1]] * ((threshold_byr_rbg[\"2011\"].iloc[child-1]) - df.Rbg_2014)"
   ]
  },
  {
   "cell_type": "code",
   "execution_count": null,
   "metadata": {},
   "outputs": [],
   "source": [
    "df.Not_touched_by_reform.value_counts()"
   ]
  },
  {
   "cell_type": "code",
   "execution_count": null,
   "metadata": {},
   "outputs": [],
   "source": []
  },
  {
   "cell_type": "code",
   "execution_count": null,
   "metadata": {},
   "outputs": [],
   "source": [
    "df_desc_stat = pd.DataFrame()\n",
    "\n",
    "for child in  range(0, nb_enf_max_for_annalysis+1):\n",
    "        df_desc_stat.loc[child, \"Treatment_0\"] = df.query(\n",
    "                                            \"NBPAC_2011=={}\".format(child)\n",
    "                                            )[\"Not_touched_by_reform\".format(child)].value_counts()[True]\n",
    "\n",
    "\n",
    "for child in  range(1, nb_enf_max_for_annalysis+1):\n",
    "    df_desc_stat.loc[child, \"Treatment_1\"] = df.query(\n",
    "                                            \"NBPAC_2011=={}\".format(child)\n",
    "                                            )[\"Between_threshold_{}_child\".format(child)].value_counts()[True]\n",
    "    df_desc_stat.loc[child, \"Treatment_2\"] = df.query(\n",
    "                                            \"NBPAC_2011=={}\".format(child)\n",
    "                                            )[\"Over_threshold_{}_child\".format(child)].value_counts()[True]\n",
    "df_desc_stat[\"Total\"] = df_desc_stat.sum(axis = 1)\n",
    "df_desc_stat.loc[\"Total\"] = df_desc_stat.sum(axis = 0)"
   ]
  },
  {
   "cell_type": "code",
   "execution_count": null,
   "metadata": {},
   "outputs": [],
   "source": [
    "df_desc_stat"
   ]
  },
  {
   "cell_type": "markdown",
   "metadata": {},
   "source": [
    "#### Still in the same treatment span"
   ]
  },
  {
   "cell_type": "code",
   "execution_count": null,
   "metadata": {},
   "outputs": [],
   "source": [
    "\n",
    "df[\"Rbg2014_below_threshold_{}_child\".format(0)\n",
    "          ] =  True\n",
    "for nb_enf in range(1,7): ### in modification\n",
    "    df[\"Rbg2014_Over_threshold_{}_child\".format(nb_enf)\n",
    "          ] =  (df.Rbg_2014 > threshold_byr_rbg[\"2011\"].iloc[nb_enf-1])\n",
    "    df[\"Rbg2014_Between_threshold_{}_child\".format(nb_enf)\n",
    "          ] =  (df.Rbg_2014 > threshold_byr_rbg[\"2014\"].iloc[nb_enf-1]) & (df.Rbg_2014 < threshold_byr_rbg[\"2011\"].iloc[nb_enf-1])\n",
    "    df[\"Rbg2014_below_threshold_{}_child\".format(nb_enf)\n",
    "          ] =  (df.Rbg_2014 < threshold_byr_rbg[\"2014\"].iloc[nb_enf-1])\n",
    "\n"
   ]
  },
  {
   "cell_type": "code",
   "execution_count": null,
   "metadata": {},
   "outputs": [],
   "source": [
    "df_desc_stat_2014 = pd.DataFrame()\n",
    "\n",
    "for child in  [0]:\n",
    "        df_desc_stat_2014.loc[child, \"Treatment_0\"] = df.query(\n",
    "                                            \"NBPAC_2011=={}\".format(child)\n",
    "                                            )[\"Rbg2014_below_threshold_{}_child\".format(child)].value_counts()[True]\n",
    "\n",
    "\n",
    "\n",
    "for child in  range(1, nb_enf_max_for_annalysis+1):\n",
    "    df_desc_stat_2014.loc[child, \"Treatment_1\"] = df.query(\n",
    "                                            \"NBPAC_2011=={}\".format(child)\n",
    "                                            )[\"Rbg2014_Between_threshold_{}_child\".format(child)].value_counts()[True]\n",
    "    df_desc_stat_2014.loc[child, \"Treatment_2\"] = df.query(\n",
    "                                            \"NBPAC_2011=={}\".format(child)\n",
    "                                            )[\"Rbg2014_Over_threshold_{}_child\".format(child)].value_counts()[True]\n",
    "    \n",
    "    df_desc_stat_2014.loc[child, \"Treatment_0\"] = df.query(\n",
    "                                            \"NBPAC_2011=={}\".format(child)\n",
    "                                            )[\"Rbg2014_below_threshold_{}_child\".format(child)].value_counts()[True]\n",
    "    \n",
    "    \n",
    "    \n",
    "df_desc_stat_2014[\"Total\"] = df_desc_stat_2014.sum(axis = 1)"
   ]
  },
  {
   "cell_type": "code",
   "execution_count": null,
   "metadata": {},
   "outputs": [],
   "source": [
    "df_desc_stat_2014"
   ]
  },
  {
   "cell_type": "markdown",
   "metadata": {},
   "source": [
    "#### Transitions "
   ]
  },
  {
   "cell_type": "code",
   "execution_count": null,
   "metadata": {},
   "outputs": [],
   "source": [
    "df_desc_stat = pd.DataFrame()\n",
    "\n",
    "for child in  [0]:\n",
    "    df_desc_stat.loc[child, \"Treatment_0\"] = df.query(\n",
    "                                            \"NBPAC_2011=={}\".format(child)\n",
    "                                            )[\"Rbg2014_below_threshold_{}_child\".format(child)].value_counts()[True]\n",
    "\n",
    "\n",
    "\n",
    "for child in  range(1, nb_enf_max_for_annalysis+1):\n",
    "    df_desc_stat.loc[child, \"Treatment_1\"] = df.query(\n",
    "                                            \"NBPAC_2011=={}\".format(child)\n",
    "                                            )[\"Rbg2014_Between_threshold_{}_child\".format(child)].value_counts()[True]\n",
    "    df_desc_stat.loc[child, \"Treatment_2\"] = df.query(\n",
    "                                            \"NBPAC_2011=={}\".format(child)\n",
    "                                            )[\"Rbg2014_Over_threshold_{}_child\".format(child)].value_counts()[True]\n",
    "    \n",
    "    df_desc_stat.loc[child, \"Treatment_0\"] = df.query(\n",
    "                                            \"NBPAC_2011=={}\".format(child)\n",
    "                                            )[\"Rbg2014_below_threshold_{}_child\".format(child)].value_counts()[True]\n",
    "    \n",
    "    \n",
    "df_desc_stat[\"Total\"] = df_desc_stat.sum(axis = 1)"
   ]
  },
  {
   "cell_type": "code",
   "execution_count": null,
   "metadata": {},
   "outputs": [],
   "source": [
    "df_desc_stat"
   ]
  },
  {
   "cell_type": "code",
   "execution_count": null,
   "metadata": {},
   "outputs": [],
   "source": [
    "df_temp_transition =df"
   ]
  },
  {
   "cell_type": "code",
   "execution_count": null,
   "metadata": {},
   "outputs": [],
   "source": [
    "df_temp_transition[\"Treatment_0_2014\"] = False * df.shape[0]\n",
    "df_temp_transition[\"Treatment_0_2011\"] = False * df.shape[0]\n",
    "\n",
    "\n",
    "df_temp_transition[\"Treatment_1_2014\"] = False * df.shape[0]\n",
    "df_temp_transition[\"Treatment_1_2011\"] = False * df.shape[0]\n",
    "\n",
    "df_temp_transition[\"Treatment_2_2014\"] = False * df.shape[0]\n",
    "df_temp_transition[\"Treatment_2_2011\"] = False * df.shape[0]\n",
    "\n",
    "\n",
    "\n",
    "for child in range(1,7):\n",
    "    df_temp_transition[\"Treatment_1_2014\"] += (df.NBPAC_2011 == child) * df[\"Rbg2014_Between_threshold_{}_child\".format(child)]\n",
    "    df_temp_transition[\"Treatment_1_2011\"] += (df.NBPAC_2011 == child) * df[\"Between_threshold_{}_child\".format(child)]\n",
    "    \n",
    "    df_temp_transition[\"Treatment_2_2014\"] += (df.NBPAC_2011 == child) * df[\"Rbg2014_Over_threshold_{}_child\".format(child)]\n",
    "    df_temp_transition[\"Treatment_2_2011\"] += (df.NBPAC_2011 == child) * df[\"Over_threshold_{}_child\".format(child)]\n",
    "    \n",
    "\n",
    "\n",
    "\n",
    "df_temp_transition[\"Treatment_1_2011\"] = df_temp_transition[\"Treatment_1_2011\"].astype(\"bool\")\n",
    "df_temp_transition[\"Treatment_2_2011\"] = df_temp_transition[\"Treatment_2_2011\"].astype(\"bool\")\n",
    "df_temp_transition[\"Treatment_1_2014\"] = df_temp_transition[\"Treatment_1_2014\"].astype(\"bool\")\n",
    "df_temp_transition[\"Treatment_2_2014\"] = df_temp_transition[\"Treatment_2_2014\"].astype(\"bool\")\n",
    "df_temp_transition[\"Treatment_0_2011\"] = ~(df_temp_transition.Treatment_1_2011 |df_temp_transition.Treatment_2_2011)\n",
    "df_temp_transition[\"Treatment_0_2014\"] = ~(df_temp_transition.Treatment_1_2014 |df_temp_transition.Treatment_2_2014)"
   ]
  },
  {
   "cell_type": "code",
   "execution_count": null,
   "metadata": {},
   "outputs": [],
   "source": [
    "df_temp_transition.Treatment_0_2011.value_counts()"
   ]
  },
  {
   "cell_type": "code",
   "execution_count": null,
   "metadata": {},
   "outputs": [],
   "source": [
    "df_temp_transition.shape"
   ]
  },
  {
   "cell_type": "code",
   "execution_count": null,
   "metadata": {},
   "outputs": [],
   "source": [
    "\n",
    "print((df_temp_transition.Treatment_1_2011 * df_temp_transition.Treatment_1_2014).value_counts()[1])\n",
    "print((df_temp_transition.Treatment_2_2011 * df_temp_transition.Treatment_2_2014).value_counts()[1])\n",
    "print((df_temp_transition.Treatment_0_2011 * df_temp_transition.Treatment_0_2014).value_counts()[1])\n",
    "print(\"*\"*12)\n",
    "print ((df_temp_transition.Treatment_1_2011 * df_temp_transition.Treatment_2_2014).value_counts()[1])\n",
    "print ((df_temp_transition.Treatment_2_2011 * df_temp_transition.Treatment_1_2014).value_counts()[1])\n",
    "print(\"*\"*12)\n",
    "print((df_temp_transition.Treatment_0_2011 * df_temp_transition.Treatment_1_2014).value_counts()[1])\n",
    "print((df_temp_transition.Treatment_0_2011 * df_temp_transition.Treatment_2_2014).value_counts()[1])\n",
    "print((df_temp_transition.Treatment_1_2011 * df_temp_transition.Treatment_0_2014).value_counts()[1])\n",
    "print((df_temp_transition.Treatment_2_2011 * df_temp_transition.Treatment_0_2014).value_counts()[1])"
   ]
  },
  {
   "cell_type": "code",
   "execution_count": null,
   "metadata": {},
   "outputs": [],
   "source": [
    "\n",
    "print ((df_temp_transition.Treatment_1_2011 * df_temp_transition.Treatment_1_2014).value_counts()[1]/df_temp_transition.shape[0])\n",
    "print ((df_temp_transition.Treatment_2_2011 * df_temp_transition.Treatment_2_2014).value_counts()[1]/df_temp_transition.shape[0])\n",
    "print ((df_temp_transition.Treatment_0_2011 * df_temp_transition.Treatment_0_2014).value_counts()[1]/df_temp_transition.shape[0])\n",
    "print(\"*\"*12)\n",
    "print ((df_temp_transition.Treatment_1_2011 * df_temp_transition.Treatment_2_2014).value_counts()[1]/df_temp_transition.shape[0])\n",
    "print ((df_temp_transition.Treatment_2_2011 * df_temp_transition.Treatment_1_2014).value_counts()[1]/df_temp_transition.shape[0])\n",
    "print(\"*\"*12)\n",
    "print ((df_temp_transition.Treatment_0_2011 * df_temp_transition.Treatment_1_2014).value_counts()[1]/df_temp_transition.shape[0])\n",
    "print ((df_temp_transition.Treatment_0_2011 * df_temp_transition.Treatment_2_2014).value_counts()[1]/df_temp_transition.shape[0])\n",
    "print ((df_temp_transition.Treatment_1_2011 * df_temp_transition.Treatment_0_2014).value_counts()[1]/df_temp_transition.shape[0])\n",
    "print ((df_temp_transition.Treatment_2_2011 * df_temp_transition.Treatment_0_2014).value_counts()[1]/df_temp_transition.shape[0])"
   ]
  },
  {
   "cell_type": "code",
   "execution_count": null,
   "metadata": {},
   "outputs": [],
   "source": [
    "df_desc_transition = pd.DataFrame()\n",
    "df_desc_transition.loc[\"Treatment_0\",\"Treatment_0\" ] = (df_temp_transition.Treatment_0_2011 * df_temp_transition.Treatment_0_2014).value_counts()[True]\n",
    "df_desc_transition.loc[\"Treatment_0\",\"Treatment_1\" ] = (df_temp_transition.Treatment_0_2011 * df_temp_transition.Treatment_1_2014).value_counts()[True]\n",
    "df_desc_transition.loc[\"Treatment_0\",\"Treatment_2\" ] = (df_temp_transition.Treatment_0_2011 * df_temp_transition.Treatment_2_2014).value_counts()[True]\n",
    "\n",
    "\n",
    "\n",
    "df_desc_transition.loc[\"Treatment_1\",\"Treatment_0\" ] = (df_temp_transition.Treatment_1_2011 * df_temp_transition.Treatment_0_2014).value_counts()[True]\n",
    "df_desc_transition.loc[\"Treatment_1\",\"Treatment_1\" ] = (df_temp_transition.Treatment_1_2011 * df_temp_transition.Treatment_1_2014).value_counts()[True]\n",
    "df_desc_transition.loc[\"Treatment_1\",\"Treatment_2\" ] = (df_temp_transition.Treatment_1_2011 * df_temp_transition.Treatment_2_2014).value_counts()[True]\n",
    "\n",
    "\n",
    "\n",
    "df_desc_transition.loc[\"Treatment_2\",\"Treatment_0\" ] = (df_temp_transition.Treatment_2_2011 * df_temp_transition.Treatment_0_2014).value_counts()[True]\n",
    "df_desc_transition.loc[\"Treatment_2\",\"Treatment_1\" ] = (df_temp_transition.Treatment_2_2011 * df_temp_transition.Treatment_1_2014).value_counts()[True]\n",
    "df_desc_transition.loc[\"Treatment_2\",\"Treatment_2\" ] = (df_temp_transition.Treatment_2_2011 * df_temp_transition.Treatment_2_2014).value_counts()[True]\n",
    "\n",
    "\n",
    "display(df_desc_transition)\n",
    "display(df_desc_transition/df_temp_transition.shape[0])\n",
    "\n",
    "\n"
   ]
  },
  {
   "cell_type": "code",
   "execution_count": null,
   "metadata": {},
   "outputs": [],
   "source": [
    "df_desc_transition/df_desc_transition.sum(0)"
   ]
  },
  {
   "cell_type": "code",
   "execution_count": null,
   "metadata": {
    "scrolled": false
   },
   "outputs": [],
   "source": [
    "for nb_child in range(0,7):\n",
    "    df_desc_transition = pd.DataFrame()\n",
    "    df_temp = df_temp_transition.query(\"(NBPAC_2011==NBPAC_2014)& (NBPAC_2011 ==@nb_child)\")\n",
    "    df_desc_transition.loc[\"Treatment_0\",\"Treatment_0\" ] = (df_temp.Treatment_0_2011 * df_temp.Treatment_0_2014).sum(axis=0)\n",
    "    df_desc_transition.loc[\"Treatment_0\",\"Treatment_1\" ] = (df_temp.Treatment_0_2011 * df_temp.Treatment_1_2014).sum(axis=0)\n",
    "    df_desc_transition.loc[\"Treatment_0\",\"Treatment_2\" ] = (df_temp.Treatment_0_2011 * df_temp.Treatment_2_2014).sum(axis=0)\n",
    "    df_desc_transition.loc[\"Treatment_1\",\"Treatment_0\" ] = (df_temp.Treatment_1_2011 * df_temp.Treatment_0_2014).sum(axis=0)\n",
    "    df_desc_transition.loc[\"Treatment_1\",\"Treatment_1\" ] = (df_temp.Treatment_1_2011 * df_temp.Treatment_1_2014).sum(axis=0)\n",
    "    df_desc_transition.loc[\"Treatment_1\",\"Treatment_2\" ] = (df_temp.Treatment_1_2011 * df_temp.Treatment_2_2014).sum(axis=0)\n",
    "    df_desc_transition.loc[\"Treatment_2\",\"Treatment_0\" ] = (df_temp.Treatment_2_2011 * df_temp.Treatment_0_2014).sum(axis=0)\n",
    "    df_desc_transition.loc[\"Treatment_2\",\"Treatment_1\" ] = (df_temp.Treatment_2_2011 * df_temp.Treatment_1_2014).sum(axis=0)\n",
    "    df_desc_transition.loc[\"Treatment_2\",\"Treatment_2\" ] = (df_temp.Treatment_2_2011 * df_temp.Treatment_2_2014).sum(axis=0)\n",
    "\n",
    "    print(\"*\"*9+\"{} child\".format(nb_child)+\"*\"*9)\n",
    "    print(\"Headcount\")\n",
    "    display(df_desc_transition)\n",
    "    print(\"Share\")\n",
    "    display((df_desc_transition.T/df_desc_transition.sum(1)).T)\n",
    "\n",
    "\n"
   ]
  },
  {
   "cell_type": "markdown",
   "metadata": {},
   "source": [
    "### Common trend assumption"
   ]
  },
  {
   "cell_type": "code",
   "execution_count": null,
   "metadata": {},
   "outputs": [],
   "source": [
    "df.query(\"-50000<Delta_Rbg<50000\").Delta_Rbg.hist(bins = 100)"
   ]
  },
  {
   "cell_type": "code",
   "execution_count": null,
   "metadata": {},
   "outputs": [],
   "source": [
    "import seaborn as sns"
   ]
  },
  {
   "cell_type": "markdown",
   "metadata": {},
   "source": [
    "We see that there is something not very smoooth happenning for households without children:"
   ]
  },
  {
   "cell_type": "code",
   "execution_count": null,
   "metadata": {},
   "outputs": [],
   "source": [
    "for child in range(0,6):\n",
    "    sns.distplot(df.query(\"(-50000<Delta_rbg<50000)&(NBPAC_2011=={})\".format(child)).Delta_rbg, hist= False, label = child)\n",
    "plt.xlim(-10000,20000)"
   ]
  },
  {
   "cell_type": "code",
   "execution_count": null,
   "metadata": {},
   "outputs": [],
   "source": [
    "df.shape"
   ]
  },
  {
   "cell_type": "markdown",
   "metadata": {},
   "source": [
    "When getting rid of households with an income tax equal to 0 in 2011, the curve is a lot smoother.\n",
    "The average change in taxable income is way nearer to the average change for one children than the one we observe when we take out the households which does not have retirement income."
   ]
  },
  {
   "cell_type": "code",
   "execution_count": null,
   "metadata": {},
   "outputs": [],
   "source": [
    "import seaborn as sns"
   ]
  },
  {
   "cell_type": "code",
   "execution_count": null,
   "metadata": {},
   "outputs": [],
   "source": [
    "for child in range(0,6):\n",
    "    sns.distplot(df.query(\"(-50000<Delta_rbg<50000)&(NBPAC_2011=={})& (ZPERM_2011==0)\".format(child)).Delta_rbg, hist= False, label = child)\n",
    "plt.xlim(-10000,20000)"
   ]
  },
  {
   "cell_type": "code",
   "execution_count": null,
   "metadata": {},
   "outputs": [],
   "source": [
    "df[\"Below_thresholds\"] = ~(df[\"Between_thresholds\"] | df[\"Over_threshold\"])"
   ]
  },
  {
   "cell_type": "code",
   "execution_count": null,
   "metadata": {},
   "outputs": [],
   "source": [
    "print(df.query(\"(NBPAC_2011==2)&(Between_thresholds)\").shape)\n",
    "print(df.query(\"(NBPAC_2011==2)&(Over_threshold)\").shape)"
   ]
  },
  {
   "cell_type": "code",
   "execution_count": null,
   "metadata": {},
   "outputs": [],
   "source": [
    "plt.figure(figsize=(20,10))\n",
    "sns.distplot(df.query(\"(-50000<Delta_rbg<50000)&(NBPAC_2011=={})& (ZPERM_2011==0)& Between_threshold_2_child\".format(3)).Delta_rbg.sample(3000), hist= False, label = \"between 2 child with 3  child\")\n",
    "for child in [2]:\n",
    "    sns.distplot(df.query(\"(-50000<Delta_rbg<50000)&(NBPAC_2011=={})& (ZPERM_2011==0)& Below_thresholds\".format(child)).Delta_rbg.sample(3000), hist= False, label = \"below 2 child\")\n",
    "    sns.distplot(df.query(\"(-50000<Delta_rbg<50000)&(NBPAC_2011=={})& (ZPERM_2011==0)& Between_thresholds\".format(child)).Delta_rbg.sample(3000), hist= False, label = \"between 2 child\")\n",
    "    sns.distplot(df.query(\"(-50000<Delta_rbg<50000)&(NBPAC_2011=={})& (ZPERM_2011==0)& Over_threshold & ~(Over_threshold_3_child)\".format(child)).Delta_rbg.sample(3000), hist= False, label = \"over 2 child\")\n",
    "#plt.xlim(-10000,20000)"
   ]
  },
  {
   "cell_type": "code",
   "execution_count": null,
   "metadata": {},
   "outputs": [],
   "source": [
    "for child in range(0,6):\n",
    "    sns.distplot(df.query(\"(-50000<Delta_rbg<50000)&(NBPAC_2011=={})& (ZPERM_2014==0)\".format(child)).Delta_rbg, hist= False, label = child)\n",
    "plt.xlim(-10000,20000)"
   ]
  },
  {
   "cell_type": "code",
   "execution_count": null,
   "metadata": {},
   "outputs": [],
   "source": [
    "for child in range(0,6):\n",
    "    sns.distplot(df.query(\"(-50000<Delta_rbg<50000)&(NBPAC_2011=={})& (ZPERM_2014==0)& (Treatment_0_2011)\".format(child)).Delta_rbg, hist= False, label = child)\n",
    "plt.xlim(-10000,20000)"
   ]
  },
  {
   "cell_type": "code",
   "execution_count": null,
   "metadata": {},
   "outputs": [],
   "source": [
    "sns.distplot(df.query(\"(-50000<Delta_rbg<50000)& (Rbg_2014>58291) & (ZPERM_2014==0)& (Treatment_0_2011)\".format(child)).Delta_rbg, hist= False, label = child)\n",
    "sns.distplot(df.query(\"(-50000<Delta_rbg<50000)& (Rbg_2014>58291) & (ZPERM_2014==0)& (Treatment_1_2011)\".format(child)).Delta_rbg, hist= False, label = child)\n",
    "plt.xlim(-10000,20000)"
   ]
  },
  {
   "cell_type": "code",
   "execution_count": null,
   "metadata": {},
   "outputs": [],
   "source": [
    "sns.distplot(df.query(\"(-50000<Delta_rbg<50000)& (Rbg_2014>58291) & (ZPERM_2014==0)& (Treatment_0_2011)&(NBPAC_2011>0)\".format(child)).Delta_rbg, hist= False, label = 'Not treated')\n",
    "sns.distplot(df.query(\"(-50000<Delta_rbg<50000)& (Rbg_2014>58291) & (ZPERM_2014==0)& (Treatment_1_2011)\".format(child)).Delta_rbg, hist= False, label = \"Treatment 1\")\n",
    "sns.distplot(df.query(\"(-50000<Delta_rbg<50000)& (Rbg_2014>58291) & (ZPERM_2014==0)& (Treatment_2_2011)\".format(child)).Delta_rbg, hist= False, label = \"Treatment 2\")\n",
    "plt.xlim(-10000,20000)"
   ]
  },
  {
   "cell_type": "code",
   "execution_count": null,
   "metadata": {},
   "outputs": [],
   "source": [
    "sns.distplot(df.query(\"(-50000<Delta_rbg<50000)& (Rbg_2014>58291) & (ZPERM_2014==0)& (Treatment_0_2011)&(NBPAC_2011>0)\".format(child)).Delta_rbg, hist= False, label = 'Not treated')\n",
    "sns.distplot(df.query(\"(-50000<Delta_rbg<50000)& (Rbg_2014>58291) & (ZPERM_2014==0)& (Treatment_1_2011)\".format(child)).Delta_rbg, hist= False, label = \"Treatment 1\")\n",
    "sns.distplot(df.query(\"(-50000<Delta_rbg<50000)& (Rbg_2014>58291) & (ZPERM_2014==0)& (Treatment_2_2011)\".format(child)).Delta_rbg, hist= False, label = \"Treatment 2\")\n",
    "plt.xlim(-10000,20000)"
   ]
  },
  {
   "cell_type": "code",
   "execution_count": null,
   "metadata": {},
   "outputs": [],
   "source": [
    "sns.distplot(df.query(\"(-50000<Delta_rbg<50000)& (Rbg_2014>58291) & (ZPERM_2014==0)& (Treatment_0_2011)&(NBPAC_2011>0)\".format(child)).Delta_rbg, hist= False, label = 'Not treated')\n",
    "sns.distplot(df.query(\"(-50000<Delta_rbg<50000)& (Rbg_2014>58291) & (ZPERM_2014==0)& (Treatment_0_2011)\".format(child)).Delta_rbg, hist= False, label = \"Treatment 1\")\n",
    "plt.xlim(-10000,20000)"
   ]
  },
  {
   "cell_type": "code",
   "execution_count": null,
   "metadata": {},
   "outputs": [],
   "source": [
    "threshold_byr_rbg"
   ]
  },
  {
   "cell_type": "code",
   "execution_count": null,
   "metadata": {},
   "outputs": [],
   "source": [
    "for child in range(0,7):\n",
    "    df[\"child_{}\".format(child)] = df.NBPAC_2011 == child"
   ]
  },
  {
   "cell_type": "code",
   "execution_count": null,
   "metadata": {},
   "outputs": [],
   "source": []
  },
  {
   "cell_type": "code",
   "execution_count": null,
   "metadata": {},
   "outputs": [],
   "source": [
    "print(df.query(\"NBPAC_2011==0\").Delta_Rbg.mean())\n",
    "print(df.query(\"child_1==True\").Delta_Rbg.mean())\n",
    "print(df.query(\"child_2==True\").Delta_Rbg.mean())\n",
    "print(df.query(\"child_3==True\").Delta_Rbg.mean())\n",
    "print(df.query(\"child_4==True\").Delta_Rbg.mean())\n",
    "print(df.query(\"child_5==True\").Delta_Rbg.mean())\n",
    "print(df.query(\"child_6==True\").Delta_Rbg.mean())"
   ]
  },
  {
   "cell_type": "code",
   "execution_count": null,
   "metadata": {},
   "outputs": [],
   "source": [
    "print(df.query(\"(Between_threshold_1_child==True)\").Delta_Rbg.mean())\n",
    "print(df.query(\"Between_threshold_2_child==True\").Delta_Rbg.mean())\n",
    "print(df.query(\"Between_threshold_3_child==True\").Delta_Rbg.mean())\n",
    "print(df.query(\"Between_threshold_4_child==True\").Delta_Rbg.mean())\n",
    "print(df.query(\"Between_threshold_5_child==True\").Delta_Rbg.mean())"
   ]
  },
  {
   "cell_type": "code",
   "execution_count": null,
   "metadata": {},
   "outputs": [],
   "source": [
    "df[\"child_0\"] = df.NBPAC_2011==0"
   ]
  },
  {
   "cell_type": "code",
   "execution_count": null,
   "metadata": {},
   "outputs": [],
   "source": [
    "df_delta_trimmed = df.query(\"(-50000<Delta_rbg<50000)\")"
   ]
  },
  {
   "cell_type": "code",
   "execution_count": null,
   "metadata": {},
   "outputs": [],
   "source": [
    "df_delta_trimmed.query(\"NBPAC_2011==3\").Rbg_2011.hist(bins = 1000)\n"
   ]
  },
  {
   "cell_type": "markdown",
   "metadata": {},
   "source": [
    "## Double diff "
   ]
  },
  {
   "cell_type": "code",
   "execution_count": null,
   "metadata": {},
   "outputs": [],
   "source": []
  },
  {
   "cell_type": "markdown",
   "metadata": {},
   "source": [
    "### Pooled "
   ]
  },
  {
   "cell_type": "code",
   "execution_count": null,
   "metadata": {},
   "outputs": [],
   "source": [
    "m = sm.RLM.from_formula(\"(Delta_rbg)~   Over_threshold+ Between_thresholds\" \n",
    "                     \n",
    "                                                                                            , df)\n",
    "fit = m.fit()\n"
   ]
  },
  {
   "cell_type": "code",
   "execution_count": null,
   "metadata": {},
   "outputs": [],
   "source": [
    "fit.summary2()"
   ]
  },
  {
   "cell_type": "code",
   "execution_count": null,
   "metadata": {},
   "outputs": [],
   "source": [
    "m = sm.RLM.from_formula(\"(Delta_rbg)~   Over_threshold+ Between_thresholds\" \n",
    "                     \n",
    "                                                                                            , df.query(\"NBPAC_2011 > 0\".format(child)))\n",
    "fit = m.fit()\n",
    "fit.summary2()"
   ]
  },
  {
   "cell_type": "markdown",
   "metadata": {},
   "source": [
    "### By child rank "
   ]
  },
  {
   "cell_type": "code",
   "execution_count": null,
   "metadata": {},
   "outputs": [],
   "source": [
    "df.shape"
   ]
  },
  {
   "cell_type": "code",
   "execution_count": null,
   "metadata": {},
   "outputs": [],
   "source": [
    " df_temp.query(\"NBPAC_2011 == {}\".format(1))"
   ]
  },
  {
   "cell_type": "code",
   "execution_count": null,
   "metadata": {},
   "outputs": [],
   "source": [
    "df = df\n",
    "result_fit_list = list()\n",
    "for child in range(1,nb_enf_max_for_annalysis+1):\n",
    "    m = sm.RLM.from_formula(\"(Delta_rbg)~   Over_threshold+ Between_thresholds\" \n",
    "                     \n",
    "                                                                                            , df.query(\"NBPAC_2011 == {}\".format(child)))\n",
    "    fit = m.fit()\n",
    "    result_fit_list.append(fit)\n",
    "summary_col_result = summary_col(result_fit_list, stars = True)"
   ]
  },
  {
   "cell_type": "code",
   "execution_count": null,
   "metadata": {},
   "outputs": [],
   "source": [
    "print(summary_col(result_fit_list,model_names =[\"{} children\".format(nb_child) for nb_child in range(1,7)], stars = True))"
   ]
  },
  {
   "cell_type": "markdown",
   "metadata": {},
   "source": [
    "#### Double diff with no child family as control"
   ]
  },
  {
   "cell_type": "code",
   "execution_count": null,
   "metadata": {
    "scrolled": false
   },
   "outputs": [],
   "source": [
    "df_temp = df.query(\"NBPAC_2011==NBPAC_2014\").dropna(subset = [\"Delta_rbg\", \"Delta_Rbg\"]+hardcoded_over+hardcoded_between+over_threshold_for_child_rank+between_threshold_for_child_rank)\n",
    "result_fit_list = list()\n",
    "for child in range(1,nb_enf_max_for_annalysis+1):\n",
    "    df_temp2 = df_temp.query(\"((NBPAC_2011 == {})|(NBPAC_2011 == 0))& (Rbg_2011>{})\".format(child,threshold_byr_rbg.loc[child,\"2014\"]) )\n",
    "    df_temp2[\"Between_X_child\"] = df_temp2[\"Between_{}_X_{}_child\".format(child,child)]\n",
    "    df_temp2[\"Over_X_child\"] = df_temp2[\"Over_{}_X_{}_child\".format(child,child)]\n",
    "    df_temp2[\"Between_threshold_n_child\"] = df_temp2[\"Between_threshold_{}_child\".format(child)]\n",
    "    df_temp2[\"Over_threshold_n_child\"] = df_temp2[\"Over_threshold_{}_child\".format(child)]\n",
    "    m = sm.OLS(df_temp2[\"Delta_Rbg\"].astype(\"float\"), df_temp2[[\"Between_X_child\", \"Over_X_child\", \"Intercept\"]].astype(\"float\"))\n",
    "    fit = m.fit()\n",
    "    result_fit_list.append(fit)\n",
    "from statsmodels.iolib.summary2 import summary_col\n",
    "print(summary_col(result_fit_list, stars = True))"
   ]
  },
  {
   "cell_type": "code",
   "execution_count": null,
   "metadata": {},
   "outputs": [],
   "source": [
    "condition_rbg = \"True\" #TODO: enelever le condition_rbg des cellules, True pour que ce soit neutre."
   ]
  },
  {
   "cell_type": "code",
   "execution_count": null,
   "metadata": {},
   "outputs": [],
   "source": [
    "df_temp = df.query(\"NBPAC_2011==NBPAC_2014&\"+condition_rbg).dropna(subset = [\"Delta_rbg\", \"Delta_Rbg\"]+hardcoded_over+hardcoded_between+over_threshold_for_child_rank+between_threshold_for_child_rank)\n",
    "result_fit_list = list()\n",
    "for child in range(1,7):\n",
    "    df_temp2 = df_temp.query(\"((NBPAC_2011 == {})|(NBPAC_2011 == 0))& (Rbg_2011>{})\".format(child,threshold_byr_rbg.loc[child,\"2014\"]) )\n",
    "    df_temp2[\"Between_X_child\"] = df_temp2[\"Between_{}_X_{}_child\".format(child,child)]\n",
    "    df_temp2[\"Over_X_child\"] = df_temp2[\"Over_{}_X_{}_child\".format(child,child)]\n",
    "    df_temp2[\"Between_threshold_n_child\"] = df_temp2[\"Between_threshold_{}_child\".format(child)]\n",
    "    df_temp2[\"Over_threshold_n_child\"] = df_temp2[\"Over_threshold_{}_child\".format(child)]\n",
    "    m = sm.OLS(df_temp2[\"Delta_Rbg\"].astype(\"float\"), df_temp2[[\"Between_X_child\", \"Over_X_child\", \"Intercept\"]].astype(\"float\"))\n",
    "    fit = m.fit()\n",
    "    result_fit_list.append(fit)\n",
    "from statsmodels.iolib.summary2 import summary_col\n",
    "print(summary_col(result_fit_list, stars = True))"
   ]
  },
  {
   "cell_type": "code",
   "execution_count": null,
   "metadata": {},
   "outputs": [],
   "source": [
    "no_attached = (df.TYPE_FISC_2014.str.count(\"[3-9]\")<1)&(df.TYPE_FISC_2011.str.count(\"[3-9]\")<1)"
   ]
  },
  {
   "cell_type": "code",
   "execution_count": null,
   "metadata": {
    "scrolled": false
   },
   "outputs": [],
   "source": [
    "#Colinear if we put an intercept\n",
    "df_temp = df.query(\"NBPAC_2011==NBPAC_2014&\"+condition_rbg+\"&(@no_attached)\").dropna(subset = [\"Delta_rbg\", \"Delta_Rbg\"]+hardcoded_over+hardcoded_between+over_threshold_for_child_rank+between_threshold_for_child_rank)\n",
    "result_fit_list = list()\n",
    "for child in range(1,7):\n",
    "    df_temp2 = df_temp.query(\"((NBPAC_2011 == {})|(NBPAC_2011 == 0))& (Rbg_2011>{})\".format(child,threshold_byr_rbg.loc[child,\"2014\"]) )\n",
    "    df_temp2[\"Between_X_child\"] = df_temp2[\"Between_{}_X_{}_child\".format(child,child)]\n",
    "    df_temp2[\"Over_X_child\"] = df_temp2[\"Over_{}_X_{}_child\".format(child,child)]\n",
    "    df_temp2[\"Between_threshold_n_child\"] = df_temp2[\"Between_threshold_{}_child\".format(child)]\n",
    "    df_temp2[\"Over_threshold_n_child\"] = df_temp2[\"Over_threshold_{}_child\".format(child)]\n",
    "    m = sm.OLS(df_temp2[\"Delta_Rbg\"].astype(\"float\"), df_temp2[[\"Between_X_child\", \"Over_X_child\",\"Between_threshold_n_child\",\"Over_threshold_n_child\"]].astype(\"float\"))\n",
    "    fit = m.fit()\n",
    "    result_fit_list.append(fit)\n",
    "from statsmodels.iolib.summary2 import summary_col\n",
    "print(summary_col(result_fit_list, stars = True))"
   ]
  },
  {
   "cell_type": "code",
   "execution_count": null,
   "metadata": {},
   "outputs": [],
   "source": []
  },
  {
   "cell_type": "code",
   "execution_count": null,
   "metadata": {},
   "outputs": [],
   "source": [
    "df_temp2.query(\"NBPAC_2011==0\")[[\"Between_threshold_1_child\"]].Between_threshold_1_child.value_counts()"
   ]
  },
  {
   "cell_type": "code",
   "execution_count": null,
   "metadata": {},
   "outputs": [],
   "source": [
    "from statsmodels.iolib.summary2 import summary_col\n",
    "print(summary_col(result_fit_list, stars = True))"
   ]
  },
  {
   "cell_type": "code",
   "execution_count": null,
   "metadata": {},
   "outputs": [],
   "source": [
    "for child in [1]:\n",
    "    to_keep_regressors = []\n",
    "    child_rank_to_include = 0\n",
    "    for liste in [between_threshold_for_child_rank, over_threshold_for_child_rank, children_number,interaction_child_between_threshold,interaction_child_over_threshold]:\n",
    "        print(liste[child])\n",
    "        to_keep_regressors.append(liste[child])"
   ]
  },
  {
   "cell_type": "markdown",
   "metadata": {},
   "source": [
    "#### Double diff with no child family as control"
   ]
  },
  {
   "cell_type": "code",
   "execution_count": null,
   "metadata": {
    "scrolled": false
   },
   "outputs": [],
   "source": [
    "to_keep_regressors = []\n",
    "child_rank_to_include = 0\n",
    "df_temp = df.query(\"NBPAC_2011==NBPAC_2014\")\n",
    "for child in range(1,2):\n",
    "    to_keep_regressors = []\n",
    "    child_rank_to_include = 0\n",
    "    for liste in [between_threshold_for_child_rank, over_threshold_for_child_rank, children_number,interaction_child_between_threshold,interaction_child_over_threshold]:\n",
    "        to_keep_regressors.append(liste[child-1])\n",
    "    m = sm.RLM.from_formula(\"(Delta_rbg)~   {}  \".format(\n",
    "            ' + '.join( to_keep_regressors)), df_temp.query(\"(NBPAC_2011 == {})|(NBPAC_2011 == 0)\".format(child)))\n",
    "    fit = m.fit()\n",
    "    summary = fit.summary(); print(summary)"
   ]
  },
  {
   "cell_type": "code",
   "execution_count": null,
   "metadata": {
    "scrolled": false
   },
   "outputs": [],
   "source": [
    "to_keep_regressors = []\n",
    "child_rank_to_include = 0\n",
    "df_temp = df.query(\"NBPAC_2011==NBPAC_2014\")\n",
    "for child in range(1,2):\n",
    "    to_keep_regressors = []\n",
    "    child_rank_to_include = 0\n",
    "    for liste in [between_threshold_for_child_rank, over_threshold_for_child_rank, children_number,interaction_child_between_threshold,interaction_child_over_threshold]:\n",
    "        to_keep_regressors.append(liste[child-1])\n",
    "    m = sm.RLM.from_formula(\"(Delta_rbg)~   {}  \".format(\n",
    "            ' + '.join( to_keep_regressors)), df_temp.query(\"(NBPAC_2011 == {})|(NBPAC_2011 == 0)\".format(child)))\n",
    "    fit = m.fit()\n",
    "    summary = fit.summary(); print(summary)"
   ]
  },
  {
   "cell_type": "code",
   "execution_count": null,
   "metadata": {},
   "outputs": [],
   "source": [
    "df.query(\n",
    "                                                                    \"(NBPAC_2011 == {})\".format(1)).child_1.value_counts()"
   ]
  },
  {
   "cell_type": "code",
   "execution_count": null,
   "metadata": {},
   "outputs": [],
   "source": [
    "map(between_threshold_for_child_rank.__getitem__,(0,1,2))"
   ]
  },
  {
   "cell_type": "code",
   "execution_count": null,
   "metadata": {},
   "outputs": [],
   "source": [
    "to_keep_regressors"
   ]
  },
  {
   "cell_type": "code",
   "execution_count": null,
   "metadata": {
    "scrolled": false
   },
   "outputs": [],
   "source": [
    "to_keep_regressors = []\n",
    "child_rank_to_include = 0\n",
    "for child in range(1,nb_enf_max_for_annalysis+1):\n",
    "    to_keep_regressors = []\n",
    "    child_rank_to_include = 0\n",
    "    for liste in [between_threshold_for_child_rank, over_threshold_for_child_rank]:\n",
    "        to_keep_regressors.append(liste[child-1])\n",
    "    m = sm.OLS.from_formula(\"(Delta_rbg)~   {} - child_{}\".format(\n",
    "            ' + '.join( to_keep_regressors), child), df.query(\n",
    "                                                                    \"(NBPAC_2011 == {})\".format(child)))\n",
    "    fit = m.fit()\n",
    "    summary = fit.summary(); print(summary)"
   ]
  },
  {
   "cell_type": "code",
   "execution_count": null,
   "metadata": {
    "scrolled": false
   },
   "outputs": [],
   "source": [
    "to_keep_regressors = []\n",
    "child_rank_to_include = 0\n",
    "for child in range(1,nb_enf_max_for_annalysis+1):\n",
    "    to_keep_regressors = []\n",
    "    child_rank_to_include = 0\n",
    "    for liste in [between_threshold_for_child_rank, over_threshold_for_child_rank]:\n",
    "        to_keep_regressors.append(liste[child-1])\n",
    "    m = sm.OLS.from_formula(\"(Delta_rbg)~   {} - child_{}\".format(\n",
    "            ' + '.join( to_keep_regressors), child), df.query(\n",
    "                                                                    \"(NBPAC_2011 == 0)\".format(child)))\n",
    "    fit = m.fit()\n",
    "    summary = fit.summary(); print(summary)"
   ]
  },
  {
   "cell_type": "code",
   "execution_count": null,
   "metadata": {
    "scrolled": false
   },
   "outputs": [],
   "source": [
    "to_keep_regressors = []\n",
    "child_rank_to_include = 0\n",
    "for child in range(1,nb_enf_max_for_annalysis+1):\n",
    "    to_keep_regressors = []\n",
    "    child_rank_to_include = 0\n",
    "    for liste in [between_threshold_for_child_rank, over_threshold_for_child_rank]:\n",
    "        to_keep_regressors.append(liste[child-1])\n",
    "    m = sm.OLS.from_formula(\"(Delta_rbg)~   {} - child_{}\".format(\n",
    "            ' + '.join( to_keep_regressors), child), df.query(\n",
    "                                                                    \"(NBPAC_2011 == {})\".format(child)))\n",
    "    fit = m.fit()\n",
    "    summary = fit.summary(); print(summary)"
   ]
  },
  {
   "cell_type": "code",
   "execution_count": null,
   "metadata": {},
   "outputs": [],
   "source": [
    "from operator import itemgetter\n",
    "import itertools"
   ]
  },
  {
   "cell_type": "code",
   "execution_count": null,
   "metadata": {},
   "outputs": [],
   "source": [
    "itemgetter(0,2,3)(between_threshold_for_child_rank)"
   ]
  },
  {
   "cell_type": "markdown",
   "metadata": {},
   "source": [
    "## Pooled estimation with Treatment one, or two."
   ]
  },
  {
   "cell_type": "code",
   "execution_count": null,
   "metadata": {},
   "outputs": [],
   "source": [
    "df.Treatment_1_2011.value_counts()"
   ]
  },
  {
   "cell_type": "code",
   "execution_count": null,
   "metadata": {},
   "outputs": [],
   "source": [
    "no_attached = (df.TYPE_FISC_2014.str.count(\"[3-9]\")<1)&(df.TYPE_FISC_2011.str.count(\"[3-9]\")<1)"
   ]
  },
  {
   "cell_type": "code",
   "execution_count": null,
   "metadata": {
    "scrolled": false
   },
   "outputs": [],
   "source": [
    "m = sm.OLS.from_formula(\"(Delta_rbg)~ Between_thresholds + Over_threshold\".format( \n",
    "        ' + '.join(cumulative_child_bool_list+thrsh_bool_list))\n",
    "                                                                                        , df.query(\"NBPAC_2011 == NBPAC_2014&(@no_attached)\"))\n",
    "fit = m.fit()\n",
    "summary = fit.summary(); print(summary)"
   ]
  },
  {
   "cell_type": "markdown",
   "metadata": {},
   "source": [
    "###Add controls for trends"
   ]
  },
  {
   "cell_type": "code",
   "execution_count": null,
   "metadata": {},
   "outputs": [],
   "source": [
    "m = sm.OLS.from_formula(\"(Delta_rbg)~ Treatment_1_2011 + Treatment_2_2011 +{}\".format( #AGERF = Age du référent fiscal\n",
    "        ' + '.join(thrsh_bool_list))\n",
    "                                                                                        , df)\n",
    "fit = m.fit()\n",
    "summary = fit.summary(); print(summary)"
   ]
  },
  {
   "cell_type": "code",
   "execution_count": null,
   "metadata": {},
   "outputs": [],
   "source": [
    "m = sm.OLS.from_formula(\"(Delta_rbg)~ Treatment_1_2011 + Treatment_2_2011 +{}\".format( #AGERF = Age du référent fiscal\n",
    "        ' + '.join(child_bool_list))\n",
    "                                                                                        , df)\n",
    "fit = m.fit()\n",
    "summary = fit.summary(); print(summary)"
   ]
  },
  {
   "cell_type": "code",
   "execution_count": null,
   "metadata": {},
   "outputs": [],
   "source": [
    "m = sm.OLS.from_formula(\"(Delta_rbg)~ Treatment_1_2011 + Treatment_2_2011 +  {} \".format( #AGERF = Age du référent fiscal\n",
    "        ' + '.join(child_bool_list+between_threshold_for_child_rank+over_threshold_for_child_rank))\n",
    "                                                                                        , df)\n",
    "fit = m.fit()\n",
    "summary = fit.summary(); print(summary)"
   ]
  },
  {
   "cell_type": "code",
   "execution_count": null,
   "metadata": {},
   "outputs": [],
   "source": [
    "threshold_byr_rbg\n",
    "flatten_thresholds = np.sort(threshold_byr_rbg.values.flatten())"
   ]
  },
  {
   "cell_type": "code",
   "execution_count": null,
   "metadata": {},
   "outputs": [],
   "source": [
    "flatten_thresholds_list = list()\n",
    "for counter in range(len(flatten_thresholds)-1):\n",
    "    print(flatten_thresholds[counter], flatten_thresholds[counter+1])\n",
    "    \n",
    "    thrsh1, thrsh2 = flatten_thresholds[counter], flatten_thresholds[counter+1]\n",
    "    flatten_thresholds_list.append(\"Flatten_thresholds_{}_{}\".format(thrsh1, thrsh2))\n",
    "    df[\"Flatten_thresholds_{}_{}\".format(thrsh1, thrsh2)] = ((df.Rbg_2011>  thrsh1)\n",
    "                                                                                               & (df.Rbg_2011< thrsh2))\n",
    "df[\"Flatten_thresholds_more_then_{}\".format( thrsh2)] = df.Rbg_2011> thrsh2\n",
    "flatten_thresholds_list.append(\"Flatten_thresholds_more_then_{}\".format(thrsh2))"
   ]
  },
  {
   "cell_type": "code",
   "execution_count": null,
   "metadata": {},
   "outputs": [],
   "source": [
    "flatten_thresholds_list = list()\n",
    "for counter in range(len(flatten_thresholds)-1):\n",
    "    print(flatten_thresholds[counter], flatten_thresholds[counter+1])\n",
    "    flatten_thresholds_list.append(\"Flatten_thresholds_{}_{}\".format(thrsh1, thrsh2))\n",
    "    thrsh1, thrsh2 = flatten_thresholds[counter], flatten_thresholds[counter+1]\n",
    "    df[\"Flatten_thresholds_{}_{}\".format(thrsh1, thrsh2)] = ((df.Rbg_2011>  thrsh1)\n",
    "                                                                                               & (df.Rbg_2011< thrsh2))\n",
    "df[\"Flatten_thresholds_more_then_{}\".format( thrsh2)] = df.Rbg_2011> thrsh2\n",
    "flatten_thresholds_list.append(\"Flatten_thresholds_more_then_{}\".format(thrsh2))"
   ]
  },
  {
   "cell_type": "code",
   "execution_count": null,
   "metadata": {},
   "outputs": [],
   "source": [
    "m = sm.OLS.from_formula(\"(Delta_rbg)~ Treatment_1_2011 + Treatment_2_2011 +  {} \".format( #AGERF = Age du référent fiscal\n",
    "        ' + '.join(child_bool_list+flatten_thresholds_list))\n",
    "                                                                                        , df)\n",
    "fit = m.fit()\n",
    "summary = fit.summary(); print(summary)"
   ]
  },
  {
   "cell_type": "code",
   "execution_count": null,
   "metadata": {},
   "outputs": [],
   "source": [
    "flatten_thresholds_list"
   ]
  },
  {
   "cell_type": "code",
   "execution_count": null,
   "metadata": {},
   "outputs": [],
   "source": [
    "# Boum\n",
    "# for nb_enf in range(1,7):\n",
    "#     df[\"Between_threshold_child_rbg_2014\"] = np.zeros(df.shape[0])\n",
    "#     df[\"Between_threshold_child_rbg_2011\"] = np.zeros(df.shape[0])\n",
    "# for nb_enf in range(1,7): ### in modification\n",
    "#     df[\"Between_threshold_child_rbg_2014\".format(nb_enf)\n",
    "#           ] +=(((df.Rbg_2014>  threshold_byr_rbg[\"2014\"].iloc[nb_enf-1])\n",
    "#                & (df.Rbg_2014< threshold_byr_rbg[\"2011\"].iloc[nb_enf-1])) *( df.NBPAC_2011 == nb_enf)).astype(\"float\")\n",
    "#     df[\"Between_threshold_child_rbg_2011\".format(nb_enf)\n",
    "#           ] +=(((df.Rbg_2011>  threshold_byr_rbg[\"2014\"].iloc[nb_enf-1])\n",
    "#                & (df.Rbg_2011< threshold_byr_rbg[\"2011\"].iloc[nb_enf-1])) *( df.NBPAC_2011 == nb_enf)).astype(\"float\")\n",
    "\n",
    "\n",
    "\n",
    "# df[\"Over_threshold_child_rbg_2014\"] = np.zeros(df.shape[0])\n",
    "# df[\"Over_threshold_child_rbg_2011\"] = np.zeros(df.shape[0])\n",
    "# for nb_enf in range(1,7): ### in modification\n",
    "#     df[\"Over_threshold_child_rbg_2014\".format(nb_enf)\n",
    "#           ] +=(((df.Rbg_2014>  threshold_byr_rbg[\"2014\"].iloc[nb_enf-1])\n",
    "#                & (df.Rbg_2014< threshold_byr_rbg[\"2011\"].iloc[nb_enf-1])) *( df.NBPAC_2011 == nb_enf)).astype(\"float\")\n",
    "#     df[\"Over_threshold_child_rbg_2011\".format(nb_enf)\n",
    "#           ] +=(((df.Rbg_2011>  threshold_byr_rbg[\"2014\"].iloc[nb_enf-1])\n",
    "#                & (df.Rbg_2011< threshold_byr_rbg[\"2011\"].iloc[nb_enf-1])) *( df.NBPAC_2011 == nb_enf)).astype(\"float\")"
   ]
  },
  {
   "cell_type": "code",
   "execution_count": null,
   "metadata": {},
   "outputs": [],
   "source": []
  },
  {
   "cell_type": "code",
   "execution_count": null,
   "metadata": {},
   "outputs": [],
   "source": []
  },
  {
   "cell_type": "code",
   "execution_count": null,
   "metadata": {},
   "outputs": [],
   "source": []
  },
  {
   "cell_type": "code",
   "execution_count": null,
   "metadata": {},
   "outputs": [],
   "source": []
  },
  {
   "cell_type": "code",
   "execution_count": null,
   "metadata": {},
   "outputs": [],
   "source": [
    "# df[\"Between_threshold_child_rbg_2014\"] = np.zeros(df.shape[0])\n",
    "# df[\"Between_threshold_child_rbg_2011\"] = np.zeros(df.shape[0])\n",
    "# for nb_enf in range(1,7): ### in modification\n",
    "#     df[\"Between_threshold_child_rbg_2014\".format(nb_enf)\n",
    "#           ] +=(((df.Rbg_2014>  threshold_byr_rbg[\"2014\"].iloc[nb_enf-1])\n",
    "#                & (df.Rbg_2014< threshold_byr_rbg[\"2011\"].iloc[nb_enf-1])) *( df.NBPAC_2011 == nb_enf)).astype(\"float\")\n",
    "#     df[\"Between_threshold_child_rbg_2011\".format(nb_enf)\n",
    "#           ] +=(((df.Rbg_2011>  threshold_byr_rbg[\"2014\"].iloc[nb_enf-1])\n",
    "#                & (df.Rbg_2011< threshold_byr_rbg[\"2011\"].iloc[nb_enf-1])) *( df.NBPAC_2011 == nb_enf)).astype(\"float\")\n",
    "\n",
    "\n",
    "\n",
    "# df[\"Over_threshold_child_rbg_2014\"] = np.zeros(df.shape[0])\n",
    "# df[\"Over_threshold_child_rbg_2011\"] = np.zeros(df.shape[0])\n",
    "# for nb_enf in range(1,7): ### in modification\n",
    "#     df[\"Over_threshold_child_rbg_2014\".format(nb_enf)\n",
    "#           ] +=(((df.Rbg_2014>  threshold_byr_rbg[\"2014\"].iloc[nb_enf-1])\n",
    "#                & (df.Rbg_2014< threshold_byr_rbg[\"2011\"].iloc[nb_enf-1])) *( df.NBPAC_2011 == nb_enf)).astype(\"float\")\n",
    "#     df[\"Over_threshold_child_rbg_2011\".format(nb_enf)\n",
    "#           ] +=(((df.Rbg_2011>  threshold_byr_rbg[\"2014\"].iloc[nb_enf-1])\n",
    "#                & (df.Rbg_2011< threshold_byr_rbg[\"2011\"].iloc[nb_enf-1])) *( df.NBPAC_2011 == nb_enf)).astype(\"float\")"
   ]
  },
  {
   "cell_type": "code",
   "execution_count": null,
   "metadata": {},
   "outputs": [],
   "source": [
    "\n",
    "for nb_enf in range(1,7):\n",
    "    df[\"Below_thresholds_{}_child_rbg_2014\".format(nb_enf)] = np.zeros(df.shape[0])\n",
    "for nb_enf in range(1,7):\n",
    "    df[\"Below_thresholds_{}_child_rbg_2014\".format(nb_enf)\n",
    "          ] +=((df.Rbg_2014<  threshold_byr_rbg[\"2014\"].iloc[nb_enf-1])).astype(\"float\")\n",
    "\n",
    "    \n"
   ]
  },
  {
   "cell_type": "code",
   "execution_count": null,
   "metadata": {},
   "outputs": [],
   "source": [
    "below_threshold_for_child_rank = [\"Below_thresholds_{}_child_rbg_2014\".format(nb_child) for nb_child in range(1,nb_enf_max_for_annalysis+1)]\n",
    "interaction_child_below_thresholds  = [\"{}:{}\".format(child,interaction) for child, interaction in zip(children_number, below_threshold_for_child_rank)]"
   ]
  },
  {
   "cell_type": "markdown",
   "metadata": {},
   "source": [
    "## Triple diff estimation"
   ]
  },
  {
   "cell_type": "code",
   "execution_count": null,
   "metadata": {},
   "outputs": [],
   "source": [
    "#df[over_threshold_for_child_rank+[\"NBPAC_2011\"]]"
   ]
  },
  {
   "cell_type": "code",
   "execution_count": null,
   "metadata": {},
   "outputs": [],
   "source": [
    "threshold_byr_rbg"
   ]
  },
  {
   "cell_type": "code",
   "execution_count": null,
   "metadata": {},
   "outputs": [],
   "source": [
    "df.shape"
   ]
  },
  {
   "cell_type": "code",
   "execution_count": null,
   "metadata": {},
   "outputs": [],
   "source": [
    "df.Age_youngest_child.hist(bins = 100)"
   ]
  },
  {
   "cell_type": "markdown",
   "metadata": {},
   "source": [
    "### Classical "
   ]
  },
  {
   "cell_type": "markdown",
   "metadata": {},
   "source": [
    "#### On all the population"
   ]
  },
  {
   "cell_type": "code",
   "execution_count": null,
   "metadata": {},
   "outputs": [],
   "source": [
    "m = sm.OLS.from_formula(\"(Delta_rbg)~   {} \".format(\n",
    "        ' + '.join(children_number+ #below_threshold_for_child_rank+interaction_child_below_thresholds\n",
    "                  between_threshold_for_child_rank+children_number+ over_threshold_for_child_rank+\n",
    "                  interaction_child_between_threshold+interaction_child_over_threshold))\n",
    "                    , df.query(\"((200000>Rbg_2011>50000)&(200000>Rbg_2014>50000))\"+\n",
    "                              \"&(NBPAC_2011 == NBPAC_2014)&(@no_attached) \")) #SAME NBPAC\n",
    "fit = m.fit()\n",
    "summary = fit.summary(); print(summary)\n"
   ]
  },
  {
   "cell_type": "code",
   "execution_count": null,
   "metadata": {},
   "outputs": [],
   "source": [
    "m = sm.OLS.from_formula(\"(Delta_rbg)~   {} \".format(\n",
    "        ' + '.join(children_number+ #below_threshold_for_child_rank+interaction_child_below_thresholds\n",
    "                  between_threshold_for_child_rank+children_number+ over_threshold_for_child_rank+\n",
    "                  interaction_child_between_threshold+interaction_child_over_threshold))\n",
    "                    , df.query(\"((200000>Rbg_2011>50000)|(200000>Rbg_2014>50000))&(@no_attached)\"+\n",
    "                              \"&(NBPAC_2011 == NBPAC_2014)\")) #SAME NBPAC\n",
    "fit = m.fit()\n",
    "summary = fit.summary(); print(summary)\n"
   ]
  },
  {
   "cell_type": "code",
   "execution_count": null,
   "metadata": {},
   "outputs": [],
   "source": [
    "m = sm.OLS.from_formula(\"(Delta_rbg)~   {} \".format(\n",
    "        ' + '.join(children_number+ #below_threshold_for_child_rank+interaction_child_below_thresholds\n",
    "                  between_threshold_for_child_rank+children_number+ over_threshold_for_child_rank+\n",
    "                  interaction_child_between_threshold+interaction_child_over_threshold))\n",
    "                    , df.query(\"((200000>Rbg_2011>50000)|(200000>Rbg_2014>50000))\"+\n",
    "                              \"&(NBPAC_2011 == NBPAC_2014)&(@no_attached)\")) #SAME NBPAC\n",
    "fit = m.fit()\n",
    "summary = fit.summary(); print(summary)\n"
   ]
  },
  {
   "cell_type": "code",
   "execution_count": null,
   "metadata": {},
   "outputs": [],
   "source": [
    "m = sm.OLS.from_formula(\"(Delta_rbg)~   {} \".format(\n",
    "        ' + '.join(children_number+ #below_threshold_for_child_rank+interaction_child_below_thresholds\n",
    "                  between_threshold_for_child_rank+children_number+ over_threshold_for_child_rank+\n",
    "                  interaction_child_between_threshold+interaction_child_over_threshold))\n",
    "                    , df.query(\"((200000>Rbg_2011>50000)|(200000>Rbg_2014>50000))\"+\n",
    "                              \"&(NBPAC_2011 == NBPAC_2014)\")) #SAME NBPAC\n",
    "fit = m.fit()\n",
    "summary = fit.summary(); print(summary)\n"
   ]
  },
  {
   "cell_type": "code",
   "execution_count": null,
   "metadata": {},
   "outputs": [],
   "source": []
  },
  {
   "cell_type": "code",
   "execution_count": null,
   "metadata": {},
   "outputs": [],
   "source": [
    "    control_variables1 = \"+CONTRAT_TRAVAIL_2011_father+CONTRAT_TRAVAIL_2011_mother+ I(DOMEMPL_2011_father)+I(DOMEMPL_2011_mother)+I(Age_father)+ I(Age_mother)\""
   ]
  },
  {
   "cell_type": "code",
   "execution_count": null,
   "metadata": {},
   "outputs": [],
   "source": [
    "control_variables = \"+Age_eldest_child+Age_youngest_child+OCCTYP_2011+I(TU10_2011)+I(NBPP_2011)+ I(DEP_2011)+I(CNE_2011)+SURFTOT_2011+Age_father+ Age_mother\""
   ]
  },
  {
   "cell_type": "code",
   "execution_count": null,
   "metadata": {
    "scrolled": false
   },
   "outputs": [],
   "source": [
    "#Flatten pas de départ ç la retraite\n",
    "m = sm.OLS.from_formula(\"(Delta_rbg)~   {}\".format(\n",
    "        ' + '.join(children_number+ #below_threshold_for_child_rank+interaction_child_below_thresholds\n",
    "                  flatten_thresholds_list+hardcoded_between+hardcoded_over))\n",
    "                    , df.query(\"((200000>Rbg_2011>50000)|(200000>Rbg_2014>50000))\"+\n",
    "                              \"&(NBPAC_2011 == NBPAC_2014)&(ZPERM_2011<100)& (ZPERM_2014<100) & (Age_father<100)&(@no_attached)\")) #SAME NBPAC\n",
    "fit = m.fit()\n",
    "summary = fit.summary(); print(summary)\n"
   ]
  },
  {
   "cell_type": "code",
   "execution_count": null,
   "metadata": {
    "scrolled": false
   },
   "outputs": [],
   "source": [
    "#Flatten\n",
    "m = sm.OLS.from_formula(\"(Delta_rbg)~   {}\".format(\n",
    "        ' + '.join(children_number+ #below_threshold_for_child_rank+interaction_child_below_thresholds\n",
    "                  flatten_thresholds_list+hardcoded_between+hardcoded_over))#+control_variables\n",
    "                    , df.query(\"((200000>Rbg_2011>50000)|(200000>Rbg_2014>50000))\"+\n",
    "                              \"&(NBPAC_2011 >= 0)&(ZPERM_2011<100) & (Age_father<100)&(@no_attached)\")) #SAME NBPAC\n",
    "fit = m.fit()\n",
    "summary = fit.summary(); print(summary)\n"
   ]
  },
  {
   "cell_type": "code",
   "execution_count": null,
   "metadata": {
    "scrolled": false
   },
   "outputs": [],
   "source": [
    "#Flatten\n",
    "m = sm.OLS.from_formula(\"(Delta_rbg)~   {}+I(Age_youngest_child+10)\".format(\n",
    "        ' + '.join(children_number+ #below_threshold_for_child_rank+interaction_child_below_thresholds\n",
    "                  flatten_thresholds_list+hardcoded_between+hardcoded_over))#+control_variables\n",
    "                    , df.query(\"((200000>Rbg_2011>50000)|(200000>Rbg_2014>50000))\"+\n",
    "                              \"&(NBPAC_2011 >= 0)&(ZPERM_2011<100) & (Age_father<100)&(@no_attached)\")) #SAME NBPAC\n",
    "fit = m.fit()\n",
    "summary = fit.summary(); print(summary)\n"
   ]
  },
  {
   "cell_type": "code",
   "execution_count": null,
   "metadata": {},
   "outputs": [],
   "source": [
    "df.Age_youngest_child\n",
    "m = sm.OLS.from_formula(\"(Delta_rbg)~   {} +Age_father+Age_mother+I(Age_father**2)+I(Age_mother**2)+Age_eldest_child+Age_youngest_child\".format(\n",
    "        ' + '.join(children_number+ #below_threshold_for_child_rank+interaction_child_below_thresholds\n",
    "                  flatten_thresholds_list+hardcoded_between+hardcoded_over))\n",
    "                    , df.query(\"((200000>Rbg_2011>50000)&(200000>Rbg_2014>50000))\"+\n",
    "                              \"&(NBPAC_2011 == NBPAC_2014)\")) #SAME NBPAC\n",
    "fit = m.fit()\n",
    "summary = fit.summary(); print(summary)\n"
   ]
  },
  {
   "cell_type": "code",
   "execution_count": null,
   "metadata": {},
   "outputs": [],
   "source": [
    "m = sm.OLS.from_formula(\"Delta_rbg~   {}+Age_father+Age_mother+I(Age_father**2)+I(Age_mother**2)+Age_eldest_child+Age_youngest_child + I(Age_eldest_child**2)+I(Age_youngest_child**2) \".format(\n",
    "        ' + '.join(children_number[:-2]+ #below_threshold_for_child_rank+interaction_child_below_thresholds\n",
    "                  flatten_thresholds_list[:-2]+hardcoded_between[:-2]+hardcoded_over[:-2]))\n",
    "                    , df.query(\"((200000>Rbg_2011>50000)|(200000>Rbg_2014>50000))\"+\n",
    "                              \"&(NBPAC_2011 == NBPAC_2014)&(Age_eldest_child<20)&(Age_youngest_child>1)&(NBPAC_2011 <= 4)\")) #SAME NBPAC\n",
    "fit = m.fit()\n",
    "summary = fit.summary(); print(summary)\n",
    "\n"
   ]
  },
  {
   "cell_type": "code",
   "execution_count": null,
   "metadata": {},
   "outputs": [],
   "source": [
    "m = sm.OLS.from_formula(\"Delta_rbg~   {}+Age_father+Age_mother+I(Age_father**2)+I(Age_mother**2)+Age_eldest_child+Age_youngest_child + I(Age_eldest_child**2)+I(Age_youngest_child**2) \".format(\n",
    "        ' + '.join(children_number[:-1]+ #below_threshold_for_child_rank+interaction_child_below_thresholds\n",
    "                  flatten_thresholds_list[:-1]+hardcoded_between[:-1]+hardcoded_over[:-1]))\n",
    "                    , df.query(\"((200000>Rbg_2011>50000)|(200000>Rbg_2014>50000))\"+\n",
    "                              \"&(NBPAC_2011 == NBPAC_2014)&(Age_eldest_child<10)&(NBPAC_2011 <= 5)\")) #SAME NBPAC\n",
    "fit = m.fit()\n",
    "summary = fit.summary(); print(summary)\n",
    "\n"
   ]
  },
  {
   "cell_type": "code",
   "execution_count": null,
   "metadata": {},
   "outputs": [],
   "source": [
    "df['Likely_to_get_retired'] = False\n",
    "df.loc[((df.Age_father>58)&(df.Age_father<65)), 'Likely_to_get_retired'] = True\n",
    "\n",
    "df.loc[((df.Age_mother>58)&(df.Age_mother<65)), 'Likely_to_get_retired'] = True"
   ]
  },
  {
   "cell_type": "code",
   "execution_count": null,
   "metadata": {},
   "outputs": [],
   "source": [
    "df.Likely_to_get_retired.value_counts(dropna = False)"
   ]
  },
  {
   "cell_type": "code",
   "execution_count": null,
   "metadata": {},
   "outputs": [],
   "source": [
    "m = sm.OLS.from_formula(\"Delta_rbg~   {}+Age_father+Age_mother+I(Age_father**2)+I(Age_mother**2)+Age_eldest_child+Age_youngest_child + I(Age_eldest_child**2)+I(Age_youngest_child**2) \".format(\n",
    "        ' + '.join(children_number[:-2]+ #below_threshold_for_child_rank+interaction_child_below_thresholds\n",
    "                  flatten_thresholds_list+hardcoded_between+hardcoded_over))\n",
    "                    , df.query(\"((200000>Rbg_2011>50000)|(200000>Rbg_2014>50000))\"+\n",
    "                              \"&(NBPAC_2011 == NBPAC_2014)&(Likely_to_get_retired==False)\")) #SAME NBPAC\n",
    "fit = m.fit()\n",
    "summary = fit.summary(); print(summary)\n",
    "\n"
   ]
  },
  {
   "cell_type": "code",
   "execution_count": null,
   "metadata": {},
   "outputs": [],
   "source": [
    "m = sm.OLS.from_formula(\"np.log(Rbg_2014/Rbg_2011)~   {} \".format(\n",
    "        ' + '.join(children_number+ #below_threshold_for_child_rank+interaction_child_below_thresholds\n",
    "                  between_threshold_for_child_rank+children_number+ over_threshold_for_child_rank+\n",
    "                  interaction_child_between_threshold+interaction_child_over_threshold))\n",
    "                    , df.query(\"((200000>Rbg_2011>50000)|(200000>Rbg_2014>50000))\"+\n",
    "                              \"&(NBPAC_2011 == NBPAC_2014)\")) #SAME NBPAC\n",
    "fit = m.fit()\n",
    "summary = fit.summary(); print(summary)\n"
   ]
  },
  {
   "cell_type": "markdown",
   "metadata": {},
   "source": [
    "#### Different samples"
   ]
  },
  {
   "cell_type": "code",
   "execution_count": null,
   "metadata": {},
   "outputs": [],
   "source": [
    "###Basic\n",
    "regression_fit_list = list()\n",
    "regression_delta_zimpom_fit_list = list()\n",
    "m = sm.OLS.from_formula(\"(Delta_rbg)~   {} \".format(\n",
    "        ' + '.join(children_number+ #below_threshold_for_child_rank+interaction_child_below_thresholds\n",
    "                  between_threshold_for_child_rank+children_number+ over_threshold_for_child_rank+\n",
    "                  interaction_child_between_threshold+interaction_child_over_threshold))\n",
    "                    , df.query(\"((200000>Rbg_2011>50000)|(200000>Rbg_2014>50000))\"+\n",
    "                              \"&(NBPAC_2011 == NBPAC_2014)\")) #SAME NBPAC\n",
    "fit = m.fit()\n",
    "regression_fit_list.append(fit)\n",
    "\n",
    "\n",
    "\n",
    "###Both years\n",
    "m = sm.OLS.from_formula(\"(Delta_rbg)~   {} \".format(\n",
    "        ' + '.join(children_number+ #below_threshold_for_child_rank+interaction_child_below_thresholds\n",
    "                  between_threshold_for_child_rank+children_number+ over_threshold_for_child_rank+\n",
    "                  interaction_child_between_threshold+interaction_child_over_threshold))\n",
    "                    , df.query(\"((200000>Rbg_2011>50000)&(200000>Rbg_2014>50000))\"+\n",
    "                              \"&(NBPAC_2011 == NBPAC_2014)\")) #SAME NBPAC\n",
    "fit = m.fit()\n",
    "regression_fit_list.append(fit)\n",
    "\n",
    "\n",
    "\n",
    "\n",
    "## Without retirement income in 2011\n",
    "m = sm.OLS.from_formula(\"(Delta_rbg)~   {} \".format(\n",
    "        ' + '.join(children_number+ #below_threshold_for_child_rank+interaction_child_below_thresholds\n",
    "                  between_threshold_for_child_rank+children_number+ over_threshold_for_child_rank+\n",
    "                  interaction_child_between_threshold+interaction_child_over_threshold))\n",
    "                    , df.query(\"((200000>Rbg_2011>50000)|(200000>Rbg_2014>50000))&(ZPERM_2011<1000)\"+\n",
    "                              \"&(NBPAC_2011 == NBPAC_2014)\")) #SAME NBPAC\n",
    "fit = m.fit()\n",
    "regression_fit_list.append(fit)\n",
    "\n",
    "\n",
    "#### Without retirement income both years\n",
    "m = sm.OLS.from_formula(\"(Delta_rbg)~   {} \".format(\n",
    "        ' + '.join(children_number+ #below_threshold_for_child_rank+interaction_child_below_thresholds\n",
    "                  between_threshold_for_child_rank+children_number+ over_threshold_for_child_rank+\n",
    "                  interaction_child_between_threshold+interaction_child_over_threshold))\n",
    "                    , df.query(\"((200000>Rbg_2011>50000)|(200000>Rbg_2014>50000))&(ZPERM_2011<10)&(ZPERM_2014<10)\"+\n",
    "                              \"&(NBPAC_2011 == NBPAC_2014)\")) #SAME NBPAC\n",
    "fit = m.fit()\n",
    "regression_fit_list.append(fit)\n",
    "\n",
    "\n",
    "#Super select\n",
    "m = sm.OLS.from_formula(\"(Delta_rbg)~   {} \".format(\n",
    "        ' + '.join(children_number+ #below_threshold_for_child_rank+interaction_child_below_thresholds\n",
    "                  between_threshold_for_child_rank+children_number+ over_threshold_for_child_rank+\n",
    "                  interaction_child_between_threshold+interaction_child_over_threshold))\n",
    "                    , df.query(\n",
    "                                \"((200000>Rbg_2011>50000)&(200000>Rbg_2014>50000))&(ZPERM_2011<10)&(ZPERM_2014<10)\"+\n",
    "                                   \"&(NBPAC_2011 == NBPAC_2014)&(ZIMPOM_DECL_2014>100)&(ZIMPOM_2011>100) & (ZVALM_2011<=200) &(ZVAMM_2011<200)& (ZRACM_2011<200) & (ZETRM_2011<100)\\\n",
    "                                    &(ZIMPOM_2014>100) & (ZVALM_2014<=200) &(ZVAMM_2014<200)& (ZRACM_2014<200)& (ZETRM_2014<100)\"))\n",
    "\n",
    "fit = m.fit()\n",
    "regression_fit_list.append(fit)\n",
    "\n",
    "\n",
    "\n",
    "#Super select not retired in 2011\n",
    "m = sm.OLS.from_formula(\"(Delta_rbg)~   {} \".format(\n",
    "        ' + '.join(children_number+ #below_threshold_for_child_rank+interaction_child_below_thresholds\n",
    "                  between_threshold_for_child_rank+children_number+ over_threshold_for_child_rank+\n",
    "                  interaction_child_between_threshold+interaction_child_over_threshold))\n",
    "                    , df.query(\n",
    "                                \"((200000>Rbg_2011>50000)&(200000>Rbg_2014>50000))&(ZPERM_2011<10)&(ZPERM_2014<10)\"+\n",
    "                                   \"&(NBPAC_2011 == NBPAC_2014)&(ZIMPOM_DECL_2014>100)&(ZIMPOM_2011>100) & (ZVALM_2011<=200) &(ZVAMM_2011<200)& (ZRACM_2011<200) & (ZETRM_2011<100)& (ZPERM_2011<1000)\\\n",
    "                                    &(ZIMPOM_2014>100) & (ZVALM_2014<=200) &(ZVAMM_2014<200)& (ZRACM_2014<200)& (ZETRM_2014<100)\"))\n",
    "\n",
    "fit = m.fit()\n",
    "regression_fit_list.append(fit)\n",
    "\n",
    "\n",
    "\n",
    "#Super select not retired in 2014 or 2011\n",
    "m = sm.OLS.from_formula(\"(Delta_rbg)~   {} \".format(\n",
    "        ' + '.join(children_number+ #below_threshold_for_child_rank+interaction_child_below_thresholds\n",
    "                  between_threshold_for_child_rank+children_number+ over_threshold_for_child_rank+\n",
    "                  interaction_child_between_threshold+interaction_child_over_threshold))\n",
    "                    , df.query(\n",
    "                                \"((200000>Rbg_2011>50000)|(200000>Rbg_2014>50000))&(ZPERM_2011<10)&(ZPERM_2014<10)\"+\n",
    "                                   \"&(NBPAC_2011 == NBPAC_2014)&(ZIMPOM_DECL_2014>100)&(ZIMPOM_2011>100) & (ZVALM_2011<=200) &(ZVAMM_2011<200)& (ZRACM_2011<200) & (ZETRM_2011<100)& (ZPERM_2011<1000)& (ZPERM_2014<1000)\\\n",
    "                                    &(ZIMPOM_2014>100) & (ZVALM_2014<=200) &(ZVAMM_2014<200)& (ZRACM_2014<200)& (ZETRM_2014<100)\"))\n",
    "\n",
    "fit = m.fit()\n",
    "regression_fit_list.append(fit)\n",
    "\n",
    "\n",
    "\n",
    "\n",
    "#Super select not retired in 2014 or 2011\n",
    "m = sm.OLS.from_formula(\"(Delta_rbg)~   {} +Age_father+Age_mother+I(Age_father**2)+I(Age_mother**2)+Age_eldest_child+Age_youngest_child + I(Age_eldest_child**2)+I(Age_youngest_child**2)\".format(\n",
    "        ' + '.join(children_number+ #below_threshold_for_child_rank+interaction_child_below_thresholds\n",
    "                  between_threshold_for_child_rank+children_number+ over_threshold_for_child_rank+\n",
    "                  interaction_child_between_threshold+interaction_child_over_threshold))\n",
    "                    , df.query(\n",
    "                                \"((200000>Rbg_2011>50000)&(200000>Rbg_2014>50000))&(ZPERM_2011<10)&(ZPERM_2014<10)\"+\n",
    "                                   \"&(NBPAC_2011 == NBPAC_2014)&(ZIMPOM_DECL_2014>100)&(ZIMPOM_2011>100) & (ZVALM_2011<=200) &(ZVAMM_2011<200)& (ZRACM_2011<200) & (ZETRM_2011<100)& (ZPERM_2011<1000)& (ZPERM_2014<1000)\\\n",
    "                                    &(ZIMPOM_2014>100) & (ZVALM_2014<=200) &(ZVAMM_2014<200)& (ZRACM_2014<200)& (ZETRM_2014<100)\"))\n",
    "\n",
    "fit = m.fit()\n",
    "regression_fit_list.append(fit)\n",
    "#Super select not retired in 2014 or 2011\n",
    "m = sm.OLS.from_formula(\"(Delta_rbg)~   {} +Age_eldest_child+Age_youngest_child + I(Age_eldest_child**2)+I(Age_youngest_child**2)\".format(\n",
    "        ' + '.join(children_number+ #below_threshold_for_child_rank+interaction_child_below_thresholds\n",
    "                  between_threshold_for_child_rank+children_number+ over_threshold_for_child_rank+\n",
    "                  interaction_child_between_threshold+interaction_child_over_threshold))\n",
    "                    , df.query(\n",
    "                                \"((200000>Rbg_2011>50000)&(200000>Rbg_2014>50000))&(ZPERM_2011<10)&(ZPERM_2014<10)\"+\n",
    "                                   \"&(NBPAC_2011 == NBPAC_2014)&(ZIMPOM_DECL_2014>100)&(ZIMPOM_2011>100) & (ZVALM_2011<=200) &(ZVAMM_2011<200)& (ZRACM_2011<200) & (ZETRM_2011<100)& (ZPERM_2011<1000)& (ZPERM_2014<1000)\\\n",
    "                                    &(ZIMPOM_2014>100) & (ZVALM_2014<=200) &(ZVAMM_2014<200)& (ZRACM_2014<200)& (ZETRM_2014<100)&(Age_father<40)\"))\n",
    "\n",
    "fit = m.fit()\n",
    "regression_fit_list.append(fit)\n",
    "\n",
    "\n",
    "###log ratio\n",
    "\n",
    "m = sm.OLS.from_formula(\"np.log(Rbg_2014/Rbg_2011)~   {} \".format(\n",
    "        ' + '.join(children_number+ #below_threshold_for_child_rank+interaction_child_below_thresholds\n",
    "                  between_threshold_for_child_rank+children_number+ over_threshold_for_child_rank+\n",
    "                  interaction_child_between_threshold+interaction_child_over_threshold))\n",
    "                    , df.query(\"((200000>Rbg_2011>50000)|(200000>Rbg_2014>50000))\"+\n",
    "                              \"&(NBPAC_2011 == NBPAC_2014)\")) #SAME NBPAC\n",
    "fit = m.fit()\n",
    "regression_fit_list.append(fit)\n",
    "\n",
    "\n",
    "\n",
    "\n",
    "\n",
    "#log ratio Super select not retired in 2014 or 2011\n",
    "m = sm.OLS.from_formula(\"np.log(Rbg_2014/Rbg_2011)~   {} \".format(\n",
    "        ' + '.join(children_number+ #below_threshold_for_child_rank+interaction_child_below_thresholds\n",
    "                  between_threshold_for_child_rank+children_number+ over_threshold_for_child_rank+\n",
    "                  interaction_child_between_threshold+interaction_child_over_threshold))\n",
    "                    , df.query(\n",
    "                                \"((200000>Rbg_2011>50000)|(200000>Rbg_2014>50000))&(ZPERM_2011<10)&(ZPERM_2014<10)\"+\n",
    "                                   \"&(NBPAC_2011 == NBPAC_2014)&(ZIMPOM_DECL_2014>100)&(ZIMPOM_2011>100) & (ZVALM_2011<=200) &(ZVAMM_2011<200)& (ZRACM_2011<200) & (ZETRM_2011<100)& (ZPERM_2011<1000)& (ZPERM_2014<1000)\\\n",
    "                                    &(ZIMPOM_2014>100) & (ZVALM_2014<=200) &(ZVAMM_2014<200)& (ZRACM_2014<200)& (ZETRM_2014<100)\"))\n",
    "\n",
    "fit = m.fit()\n",
    "regression_fit_list.append(fit)"
   ]
  },
  {
   "cell_type": "code",
   "execution_count": null,
   "metadata": {
    "scrolled": false
   },
   "outputs": [],
   "source": [
    "\n",
    "print(summary_col(regression_fit_list, stars = True, info_dict={'adjusted-R2':lambda x:\"{:4.2f}%\".format(x.rsquared_adj*100), \"N\":lambda x:\"{:d}\".format(int(x.nobs))}))"
   ]
  },
  {
   "cell_type": "code",
   "execution_count": null,
   "metadata": {},
   "outputs": [],
   "source": [
    "###Basic\n",
    "regression_fit_list = list()\n",
    "regression_delta_zimpom_fit_list = list()\n",
    "m = sm.OLS.from_formula(\"(Delta_rbg)~   {} \".format(\n",
    "        ' + '.join(children_number+ #below_threshold_for_child_rank+interaction_child_below_thresholds\n",
    "                  between_threshold_for_child_rank+children_number+ over_threshold_for_child_rank+\n",
    "                  interaction_child_between_threshold+interaction_child_over_threshold))\n",
    "                    , df.query(\"((200000>Rbg_2011>50000)|(200000>Rbg_2014>50000))\"+\n",
    "                              \"&(NBPAC_2011 == NBPAC_2014)&(@no_attached)\")) #SAME NBPAC\n",
    "fit = m.fit()\n",
    "regression_fit_list.append(fit)\n",
    "\n",
    "\n",
    "\n",
    "###Both years\n",
    "m = sm.OLS.from_formula(\"(Delta_rbg)~   {} \".format(\n",
    "        ' + '.join(children_number+ #below_threshold_for_child_rank+interaction_child_below_thresholds\n",
    "                  between_threshold_for_child_rank+children_number+ over_threshold_for_child_rank+\n",
    "                  interaction_child_between_threshold+interaction_child_over_threshold))\n",
    "                    , df.query(\"((200000>Rbg_2011>50000)&(200000>Rbg_2014>50000))\"+\n",
    "                              \"&(NBPAC_2011 == NBPAC_2014)&(@no_attached)\")) #SAME NBPAC\n",
    "fit = m.fit()\n",
    "regression_fit_list.append(fit)\n",
    "\n",
    "\n",
    "\n",
    "\n",
    "## Without retirement income in 2011\n",
    "m = sm.OLS.from_formula(\"(Delta_rbg)~   {} \".format(\n",
    "        ' + '.join(children_number+ #below_threshold_for_child_rank+interaction_child_below_thresholds\n",
    "                  between_threshold_for_child_rank+children_number+ over_threshold_for_child_rank+\n",
    "                  interaction_child_between_threshold+interaction_child_over_threshold))\n",
    "                    , df.query(\"((200000>Rbg_2011>50000)|(200000>Rbg_2014>50000))&(ZPERM_2011<1000)\"+\n",
    "                              \"&(NBPAC_2011 == NBPAC_2014)&(@no_attached)\")) #SAME NBPAC\n",
    "fit = m.fit()\n",
    "regression_fit_list.append(fit)\n",
    "\n",
    "\n",
    "#### Without retirement income both years\n",
    "m = sm.OLS.from_formula(\"(Delta_rbg)~   {} \".format(\n",
    "        ' + '.join(children_number+ #below_threshold_for_child_rank+interaction_child_below_thresholds\n",
    "                  between_threshold_for_child_rank+children_number+ over_threshold_for_child_rank+\n",
    "                  interaction_child_between_threshold+interaction_child_over_threshold))\n",
    "                    , df.query(\"((200000>Rbg_2011>50000)|(200000>Rbg_2014>50000))&(ZPERM_2011<10)&(ZPERM_2014<10)\"+\n",
    "                              \"&(NBPAC_2011 == NBPAC_2014)&(@no_attached)\")) #SAME NBPAC\n",
    "fit = m.fit()\n",
    "regression_fit_list.append(fit)\n",
    "\n",
    "\n",
    "#Super select\n",
    "m = sm.OLS.from_formula(\"(Delta_rbg)~   {} \".format(\n",
    "        ' + '.join(children_number+ #below_threshold_for_child_rank+interaction_child_below_thresholds\n",
    "                  between_threshold_for_child_rank+children_number+ over_threshold_for_child_rank+\n",
    "                  interaction_child_between_threshold+interaction_child_over_threshold))\n",
    "                    , df.query(\n",
    "                                \"((200000>Rbg_2011>50000)&(200000>Rbg_2014>50000))&(ZPERM_2011<10)&(ZPERM_2014<10)\"+\n",
    "                                   \"&(NBPAC_2011 == NBPAC_2014)&(ZIMPOM_DECL_2014>100)&(ZIMPOM_2011>100) & (ZVALM_2011<=200) &(ZVAMM_2011<200)& (ZRACM_2011<200) & (ZETRM_2011<100)\\\n",
    "                                    &(ZIMPOM_2014>100) & (ZVALM_2014<=200) &(ZVAMM_2014<200)& (ZRACM_2014<200)& (ZETRM_2014<100)&(@no_attached)\"))\n",
    "\n",
    "fit = m.fit()\n",
    "regression_fit_list.append(fit)\n",
    "\n",
    "\n",
    "\n",
    "#Super select not retired in 2011\n",
    "m = sm.OLS.from_formula(\"(Delta_rbg)~   {} \".format(\n",
    "        ' + '.join(children_number+ #below_threshold_for_child_rank+interaction_child_below_thresholds\n",
    "                  between_threshold_for_child_rank+children_number+ over_threshold_for_child_rank+\n",
    "                  interaction_child_between_threshold+interaction_child_over_threshold))\n",
    "                    , df.query(\n",
    "                                \"((200000>Rbg_2011>50000)&(200000>Rbg_2014>50000))&(ZPERM_2011<10)&(ZPERM_2014<10)\"+\n",
    "                                   \"&(NBPAC_2011 == NBPAC_2014)&(ZIMPOM_DECL_2014>100)&(ZIMPOM_2011>100) & (ZVALM_2011<=200) &(ZVAMM_2011<200)& (ZRACM_2011<200) & (ZETRM_2011<100)& (ZPERM_2011<1000)\\\n",
    "                                    &(ZIMPOM_2014>100) & (ZVALM_2014<=200) &(ZVAMM_2014<200)& (ZRACM_2014<200)& (ZETRM_2014<100)&(@no_attached)\"))\n",
    "\n",
    "fit = m.fit()\n",
    "regression_fit_list.append(fit)\n",
    "\n",
    "\n",
    "\n",
    "#Super select not retired in 2014 or 2011\n",
    "m = sm.OLS.from_formula(\"(Delta_rbg)~   {} \".format(\n",
    "        ' + '.join(children_number+ #below_threshold_for_child_rank+interaction_child_below_thresholds\n",
    "                  between_threshold_for_child_rank+children_number+ over_threshold_for_child_rank+\n",
    "                  interaction_child_between_threshold+interaction_child_over_threshold))\n",
    "                    , df.query(\n",
    "                                \"((200000>Rbg_2011>50000)|(200000>Rbg_2014>50000))&(ZPERM_2011<10)&(ZPERM_2014<10)\"+\n",
    "                                   \"&(NBPAC_2011 == NBPAC_2014)&(ZIMPOM_DECL_2014>100)&(ZIMPOM_2011>100) & (ZVALM_2011<=200) &(ZVAMM_2011<200)& (ZRACM_2011<200) & (ZETRM_2011<100)& (ZPERM_2011<1000)& (ZPERM_2014<1000)\\\n",
    "                                    &(ZIMPOM_2014>100) & (ZVALM_2014<=200) &(ZVAMM_2014<200)& (ZRACM_2014<200)& (ZETRM_2014<100)&(@no_attached)\"))\n",
    "\n",
    "fit = m.fit()\n",
    "regression_fit_list.append(fit)\n",
    "\n",
    "\n",
    "\n",
    "\n",
    "#Super select not retired in 2014 or 2011\n",
    "m = sm.OLS.from_formula(\"(Delta_rbg)~   {} +Age_father+Age_mother+I(Age_father**2)+I(Age_mother**2)+Age_eldest_child+Age_youngest_child + I(Age_eldest_child**2)+I(Age_youngest_child**2)\".format(\n",
    "        ' + '.join(children_number+ #below_threshold_for_child_rank+interaction_child_below_thresholds\n",
    "                  between_threshold_for_child_rank+children_number+ over_threshold_for_child_rank+\n",
    "                  interaction_child_between_threshold+interaction_child_over_threshold))\n",
    "                    , df.query(\n",
    "                                \"((200000>Rbg_2011>50000)&(200000>Rbg_2014>50000))&(ZPERM_2011<10)&(ZPERM_2014<10)\"+\n",
    "                                   \"&(NBPAC_2011 == NBPAC_2014)&(ZIMPOM_DECL_2014>100)&(ZIMPOM_2011>100) & (ZVALM_2011<=200) &(ZVAMM_2011<200)& (ZRACM_2011<200) & (ZETRM_2011<100)& (ZPERM_2011<1000)& (ZPERM_2014<1000)\\\n",
    "                                    &(ZIMPOM_2014>100) & (ZVALM_2014<=200) &(ZVAMM_2014<200)& (ZRACM_2014<200)& (ZETRM_2014<100)&(@no_attached)\"))\n",
    "\n",
    "fit = m.fit()\n",
    "regression_fit_list.append(fit)\n",
    "#Super select not retired in 2014 or 2011\n",
    "m = sm.OLS.from_formula(\"(Delta_rbg)~   {} +Age_eldest_child+Age_youngest_child + I(Age_eldest_child**2)+I(Age_youngest_child**2)\".format(\n",
    "        ' + '.join(children_number+ #below_threshold_for_child_rank+interaction_child_below_thresholds\n",
    "                  between_threshold_for_child_rank+children_number+ over_threshold_for_child_rank+\n",
    "                  interaction_child_between_threshold+interaction_child_over_threshold))\n",
    "                    , df.query(\n",
    "                                \"((200000>Rbg_2011>50000)&(200000>Rbg_2014>50000))&(ZPERM_2011<10)&(ZPERM_2014<10)\"+\n",
    "                                   \"&(NBPAC_2011 == NBPAC_2014)&(ZIMPOM_DECL_2014>100)&(ZIMPOM_2011>100) & (ZVALM_2011<=200) &(ZVAMM_2011<200)& (ZRACM_2011<200) & (ZETRM_2011<100)& (ZPERM_2011<1000)& (ZPERM_2014<1000)\\\n",
    "                                    &(ZIMPOM_2014>100) & (ZVALM_2014<=200) &(ZVAMM_2014<200)& (ZRACM_2014<200)& (ZETRM_2014<100)&(Age_father<40)&(@no_attached)\"))\n",
    "\n",
    "fit = m.fit()\n",
    "regression_fit_list.append(fit)\n",
    "\n",
    "\n",
    "###log ratio\n",
    "\n",
    "m = sm.OLS.from_formula(\"np.log(Rbg_2014/Rbg_2011)~   {} \".format(\n",
    "        ' + '.join(children_number+ #below_threshold_for_child_rank+interaction_child_below_thresholds\n",
    "                  between_threshold_for_child_rank+children_number+ over_threshold_for_child_rank+\n",
    "                  interaction_child_between_threshold+interaction_child_over_threshold))\n",
    "                    , df.query(\"((200000>Rbg_2011>50000)|(200000>Rbg_2014>50000))\"+\n",
    "                              \"&(NBPAC_2011 == NBPAC_2014)&(@no_attached)\")) #SAME NBPAC\n",
    "fit = m.fit()\n",
    "regression_fit_list.append(fit)\n",
    "\n",
    "\n",
    "\n",
    "\n",
    "\n",
    "#log ratio Super select not retired in 2014 or 2011\n",
    "m = sm.OLS.from_formula(\"np.log(Rbg_2014/Rbg_2011)~   {} \".format(\n",
    "        ' + '.join(children_number+ #below_threshold_for_child_rank+interaction_child_below_thresholds\n",
    "                  between_threshold_for_child_rank+children_number+ over_threshold_for_child_rank+\n",
    "                  interaction_child_between_threshold+interaction_child_over_threshold))\n",
    "                    , df.query(\n",
    "                                \"((200000>Rbg_2011>50000)|(200000>Rbg_2014>50000))&(ZPERM_2011<10)&(ZPERM_2014<10)\"+\n",
    "                                   \"&(NBPAC_2011 == NBPAC_2014)&(ZIMPOM_DECL_2014>100)&(ZIMPOM_2011>100) & (ZVALM_2011<=200) &(ZVAMM_2011<200)& (ZRACM_2011<200) & (ZETRM_2011<100)& (ZPERM_2011<1000)& (ZPERM_2014<1000)\\\n",
    "                                    &(ZIMPOM_2014>100) & (ZVALM_2014<=200) &(ZVAMM_2014<200)& (ZRACM_2014<200)& (ZETRM_2014<100)&(@no_attached)\"))\n",
    "\n",
    "fit = m.fit()\n",
    "regression_fit_list.append(fit)"
   ]
  },
  {
   "cell_type": "code",
   "execution_count": null,
   "metadata": {
    "scrolled": false
   },
   "outputs": [],
   "source": [
    "\n",
    "print(summary_col(regression_fit_list, stars = True, info_dict={'adjusted-R2':lambda x:\"{:4.2f}%\".format(x.rsquared_adj*100), \"N\":lambda x:\"{:d}\".format(int(x.nobs))}))"
   ]
  },
  {
   "cell_type": "markdown",
   "metadata": {},
   "source": [
    "### How well do we match the reform ?"
   ]
  },
  {
   "cell_type": "code",
   "execution_count": null,
   "metadata": {},
   "outputs": [],
   "source": [
    "interactions_rbg_between = [\"Interactions_rbg_child{}_between\".format(child) for child in range(1,7)]\n",
    "interactions_rbg_over = [\"Interactions_rbg_child{}_over\".format(child) for child in range(1,7)]\n",
    "interactions_child_over = [\"Interactions_child{}_over\".format(child) for child in range(1,7)]"
   ]
  },
  {
   "cell_type": "code",
   "execution_count": null,
   "metadata": {},
   "outputs": [],
   "source": [
    "regression_delta_zimpom_formula = \"(Delta_ZIMPOM)~   {} - 1 + Not_touched_by_reform + Delta_Rbg_times_not_touched_reform\".format(\n",
    "        ' + '.join( interactions_child_over+interactions_rbg_over+interactions_rbg_between))"
   ]
  },
  {
   "cell_type": "code",
   "execution_count": null,
   "metadata": {},
   "outputs": [],
   "source": [
    "m = sm.RLM.from_formula(regression_delta_zimpom_formula  , df)#; regression_delta_zimpom_fit_list.append()"
   ]
  },
  {
   "cell_type": "code",
   "execution_count": null,
   "metadata": {},
   "outputs": [],
   "source": [
    "df[\"Stays_in_same_treatment\"]= ((df.Treatment_0_2011 & df.Treatment_0_2014)\n",
    "                                               +(df.Treatment_1_2011 & df.Treatment_1_2014)\n",
    "                                               +(df.Treatment_2_2011 & df.Treatment_2_2014))"
   ]
  },
  {
   "cell_type": "code",
   "execution_count": null,
   "metadata": {
    "scrolled": false
   },
   "outputs": [],
   "source": [
    "## With no attached in conditions\n",
    "###Basic\n",
    "regression_fit_list = list()\n",
    "regression_delta_zimpom_fit_list = list()\n",
    "m = sm.OLS.from_formula(regression_delta_zimpom_formula,\n",
    "                     df.query(\"((200000>Rbg_2011>50000)|(200000>Rbg_2014>50000))\"+\n",
    "                              \"&(NBPAC_2011 == NBPAC_2014)&(@no_attached)\")) #SAME NBPAC\n",
    "fit = m.fit()\n",
    "regression_fit_list.append(fit)\n",
    "\n",
    "\n",
    "\n",
    "###Both years\n",
    "m = sm.OLS.from_formula(regression_delta_zimpom_formula,\n",
    "                     df.query(\"((200000>Rbg_2011>50000)&(200000>Rbg_2014>50000))\"+\n",
    "                              \"&(NBPAC_2011 == NBPAC_2014)&(@no_attached)\")) #SAME NBPAC\n",
    "fit = m.fit()\n",
    "regression_fit_list.append(fit)\n",
    "\n",
    "\n",
    "\n",
    "\n",
    "## Without retirement income in 2011\n",
    "m = sm.OLS.from_formula(regression_delta_zimpom_formula,\n",
    "                 df.query(\"((200000>Rbg_2011>50000)|(200000>Rbg_2014>50000))&(ZPERM_2011<1000)\"+\n",
    "                              \"&(NBPAC_2011 == NBPAC_2014)&(@no_attached)\")) #SAME NBPAC\n",
    "fit = m.fit()\n",
    "regression_fit_list.append(fit)\n",
    "\n",
    "\n",
    "#### Without retirement income both years\n",
    "m = sm.OLS.from_formula(regression_delta_zimpom_formula,\n",
    "                 df.query(\"((200000>Rbg_2011>50000)|(200000>Rbg_2014>50000))&(ZPERM_2011<10)&(ZPERM_2014<10)\"+\n",
    "                              \"&(NBPAC_2011 == NBPAC_2014)&(@no_attached)\")) #SAME NBPAC\n",
    "fit = m.fit()\n",
    "regression_fit_list.append(fit)\n",
    "\n",
    "#### Without retirement income both years,both year on th ecorrect income span\n",
    "m = sm.OLS.from_formula(regression_delta_zimpom_formula,\n",
    "                 df.query(\"((200000>Rbg_2011>50000)&(200000>Rbg_2014>50000))&(ZPERM_2011<10)&(ZPERM_2014<10)\"+\n",
    "                              \"&(NBPAC_2011 == NBPAC_2014)&(ZIMPOM_DECL_2014>100)&(ZIMPOM_2011>100) & (ZVALM_2011<=200) &(ZVAMM_2011<200)& (ZRACM_2011<200) & (ZETRM_2011<100)\\\n",
    "                                                                                &(ZIMPOM_2014>100) & (ZVALM_2014<=200) &(ZVAMM_2014<200)& (ZRACM_2014<200)& (ZETRM_2014<100)&(@no_attached)\")) #SAME NBPAC\n",
    "fit = m.fit()\n",
    "regression_fit_list.append(fit)\n",
    "\n",
    "\n",
    "\n",
    "\n",
    "\n",
    "#### Without retirement income both years,both year on th ecorrect income span\n",
    "m = sm.OLS.from_formula(regression_delta_zimpom_formula,\n",
    "                 df.query(\"((200000>Rbg_2011>50000)&(200000>Rbg_2014>50000))&(ZPERM_2011<10)&(ZPERM_2014<10)\"+\n",
    "                              \"&(NBPAC_2011 == NBPAC_2014)&(ZIMPOM_DECL_2014>100)&(ZIMPOM_2011>100) & (ZVALM_2011<=200) &(ZVAMM_2011<200)& (ZRACM_2011<200) & (ZETRM_2011<100)\\\n",
    "                                                                                &(ZIMPOM_2014>100) & (ZVALM_2014<=200) &(ZVAMM_2014<200)& (ZRACM_2014<200)& (ZETRM_2014<100)&(@no_attached)\")) #SAME NBPAC\n",
    "fit = m.fit()\n",
    "regression_fit_list.append(fit)\n",
    "\n",
    "\n",
    "\n",
    "### Stay in same treatment\n",
    "m = sm.OLS.from_formula(regression_delta_zimpom_formula,\n",
    "                     df.query(\"((200000>Rbg_2011>50000)&(200000>Rbg_2014>50000))&(ZPERM_2011<10)&(ZPERM_2014<10)\"+\n",
    "                              \"&(NBPAC_2011 == NBPAC_2014)&(@no_attached)&(Stays_in_same_treatment)\")) #SAME NBPAC\n",
    "fit = m.fit()\n",
    "regression_fit_list.append(fit)\n",
    "\n",
    "\n",
    "print(summary_col(regression_fit_list, stars = True, \n",
    "                  model_names=[\"Delta_ZIMPOM\", \"Both_year\", \"No_ZPERM_2011\", \"No_ZPERM\", \"Both_year_and_no_ZPERM\", \"Both_pays_tax_no_exotic_income\", \"Stays_in_same_treatment\"],\n",
    "                  info_dict={'adjusted-R2':lambda x:\"{:4.2f}%\".format(x.rsquared_adj*100), \"N\":lambda x:\"{:d}\".format(int(x.nobs))}))"
   ]
  },
  {
   "cell_type": "code",
   "execution_count": null,
   "metadata": {
    "scrolled": false
   },
   "outputs": [],
   "source": [
    "###Basic\n",
    "regression_fit_list = list()\n",
    "regression_delta_zimpom_fit_list = list()\n",
    "m = sm.OLS.from_formula(regression_delta_zimpom_formula,\n",
    "                     df.query(\"((200000>Rbg_2011>50000)|(200000>Rbg_2014>50000))\"+\n",
    "                              \"&(NBPAC_2011 == NBPAC_2014)\")) #SAME NBPAC\n",
    "fit = m.fit()\n",
    "regression_fit_list.append(fit)\n",
    "\n",
    "\n",
    "\n",
    "###Both years\n",
    "m = sm.OLS.from_formula(regression_delta_zimpom_formula,\n",
    "                     df.query(\"((200000>Rbg_2011>50000)&(200000>Rbg_2014>50000))\"+\n",
    "                              \"&(NBPAC_2011 == NBPAC_2014)\")) #SAME NBPAC\n",
    "fit = m.fit()\n",
    "regression_fit_list.append(fit)\n",
    "\n",
    "\n",
    "\n",
    "\n",
    "## Without retirement income in 2011\n",
    "m = sm.OLS.from_formula(regression_delta_zimpom_formula,\n",
    "                 df.query(\"((200000>Rbg_2011>50000)|(200000>Rbg_2014>50000))&(ZPERM_2011<1000)\"+\n",
    "                              \"&(NBPAC_2011 == NBPAC_2014)\")) #SAME NBPAC\n",
    "fit = m.fit()\n",
    "regression_fit_list.append(fit)\n",
    "\n",
    "\n",
    "#### Without retirement income both years\n",
    "m = sm.OLS.from_formula(regression_delta_zimpom_formula,\n",
    "                 df.query(\"((200000>Rbg_2011>50000)|(200000>Rbg_2014>50000))&(ZPERM_2011<10)&(ZPERM_2014<10)\"+\n",
    "                              \"&(NBPAC_2011 == NBPAC_2014)\")) #SAME NBPAC\n",
    "fit = m.fit()\n",
    "regression_fit_list.append(fit)\n",
    "\n",
    "#### Without retirement income both years,both year on th ecorrect income span\n",
    "m = sm.OLS.from_formula(regression_delta_zimpom_formula,\n",
    "                 df.query(\"((200000>Rbg_2011>50000)&(200000>Rbg_2014>50000))&(ZPERM_2011<10)&(ZPERM_2014<10)\"+\n",
    "                              \"&(NBPAC_2011 == NBPAC_2014)&(ZIMPOM_DECL_2014>100)&(ZIMPOM_2011>100) & (ZVALM_2011<=200) &(ZVAMM_2011<200)& (ZRACM_2011<200) & (ZETRM_2011<100)\\\n",
    "                                                                                &(ZIMPOM_2014>100) & (ZVALM_2014<=200) &(ZVAMM_2014<200)& (ZRACM_2014<200)& (ZETRM_2014<100)\")) #SAME NBPAC\n",
    "fit = m.fit()\n",
    "regression_fit_list.append(fit)\n",
    "\n",
    "\n",
    "\n",
    "\n",
    "\n",
    "#### Without retirement income both years,both year on th ecorrect income span\n",
    "m = sm.OLS.from_formula(regression_delta_zimpom_formula,\n",
    "                 df.query(\"((200000>Rbg_2011>50000)&(200000>Rbg_2014>50000))&(ZPERM_2011<10)&(ZPERM_2014<10)\"+\n",
    "                              \"&(NBPAC_2011 == NBPAC_2014)&(ZIMPOM_DECL_2014>100)&(ZIMPOM_2011>100) & (ZVALM_2011<=200) &(ZVAMM_2011<200)& (ZRACM_2011<200) & (ZETRM_2011<100)\\\n",
    "                                                                                &(ZIMPOM_2014>100) & (ZVALM_2014<=200) &(ZVAMM_2014<200)& (ZRACM_2014<200)& (ZETRM_2014<100)\")) #SAME NBPAC\n",
    "fit = m.fit()\n",
    "regression_fit_list.append(fit)\n",
    "\n",
    "\n",
    "\n",
    "###log ratio\n",
    "m = sm.OLS.from_formula(regression_delta_zimpom_formula,\n",
    "                     df.query(\"((200000>Rbg_2011>50000)|(200000>Rbg_2014>50000))\"\n",
    "                              \"&(NBPAC_2011 == NBPAC_2014)\")) #SAME NBPAC\n",
    "fit = m.fit()\n",
    "regression_fit_list.append(fit)\n",
    "\n",
    "\n",
    "print(summary_col(regression_fit_list, stars = True, info_dict={'adjusted-R2':lambda x:\"{:4.2f}%\".format(x.rsquared_adj*100), \"N\":lambda x:\"{:d}\".format(int(x.nobs))}))"
   ]
  },
  {
   "cell_type": "code",
   "execution_count": null,
   "metadata": {},
   "outputs": [],
   "source": [
    "df[df.Between_thresholds].query(\"NBPAC_2011==5\").Stays_in_same_treatment.value_counts(normalize =True)"
   ]
  },
  {
   "cell_type": "code",
   "execution_count": null,
   "metadata": {},
   "outputs": [],
   "source": [
    "df_contraint=df.copy()\n",
    "df_contraint.loc[df_contraint.Over_1_X_1_child == True, \"Delta_ZIMPOM\"] = df_contraint.Delta_ZIMPOM-836\n",
    "df_contraint.loc[df_contraint.Over_2_X_2_child == True, \"Delta_ZIMPOM\"] = df_contraint.Delta_ZIMPOM-836*2\n",
    "df_contraint.loc[df_contraint.Over_3_X_3_child == True, \"Delta_ZIMPOM\"] = df_contraint.Delta_ZIMPOM-836*4\n",
    "df_contraint.loc[df_contraint.Over_4_X_4_child == True, \"Delta_ZIMPOM\"] = df_contraint.Delta_ZIMPOM-836*6\n",
    "df_contraint.loc[df_contraint.Over_5_X_5_child == True, \"Delta_ZIMPOM\"] = df_contraint.Delta_ZIMPOM-836*8\n",
    "df_contraint.loc[df_contraint.Over_6_X_6_child == True, \"Delta_ZIMPOM\"] = df_contraint.Delta_ZIMPOM-836*10"
   ]
  },
  {
   "cell_type": "code",
   "execution_count": null,
   "metadata": {},
   "outputs": [],
   "source": [
    "df_contraint=df.copy()\n",
    "df_contraint.loc[df_contraint.Between_1_X_1_child == True, \"Delta_ZIMPOM\"] = df_contraint.Delta_ZIMPOM-df_contraint.Delta_rbg * 0.3\n",
    "df_contraint.loc[df_contraint.Between_2_X_2_child == True, \"Delta_ZIMPOM\"] = df_contraint.Delta_ZIMPOM-df_contraint.Delta_rbg * 0.3\n",
    "df_contraint.loc[df_contraint.Between_3_X_3_child == True, \"Delta_ZIMPOM\"] = df_contraint.Delta_ZIMPOM-df_contraint.Delta_rbg * 0.3\n",
    "df_contraint.loc[df_contraint.Between_4_X_4_child == True, \"Delta_ZIMPOM\"] = df_contraint.Delta_ZIMPOM-df_contraint.Delta_rbg * 0.3\n",
    "df_contraint.loc[df_contraint.Between_5_X_5_child == True, \"Delta_ZIMPOM\"] = df_contraint.Delta_ZIMPOM-df_contraint.Delta_rbg * 0.3\n",
    "df_contraint.loc[df_contraint.Between_6_X_6_child == True, \"Delta_ZIMPOM\"] = df_contraint.Delta_ZIMPOM-df_contraint.Delta_rbg * 0.3"
   ]
  },
  {
   "cell_type": "code",
   "execution_count": null,
   "metadata": {},
   "outputs": [],
   "source": [
    "# for child in range(1,7):\n",
    "#     print(df[df[\"Over_{}_X_{}_child\".format(child,child)]].MTR_2014.mean())\n",
    "# for child in range(1,7):\n",
    "#     print(df[df[\"Between_{}_X_{}_child\".format(child,child)]].MTR_2014.mean())\n",
    "# print(df[df.Not_touched_by_reform==1].MTR_2014.mean())\n",
    "\n",
    "\n",
    "\n",
    "# df_contraint=df.copy()\n",
    "# df_contraint.loc[df_contraint.Over_1_X_1_child == True, \"Delta_ZIMPOM\"] = df_contraint.Delta_ZIMPOM-df_contraint.Delta_rbg * df[df.Over_1_X_1_child].MTR_2011.mean()\n",
    "# df_contraint.loc[df_contraint.Over_2_X_2_child == True, \"Delta_ZIMPOM\"] = df_contraint.Delta_ZIMPOM-df_contraint.Delta_rbg * df[df.Over_2_X_2_child].MTR_2011.mean()\n",
    "# df_contraint.loc[df_contraint.Over_3_X_3_child == True, \"Delta_ZIMPOM\"] = df_contraint.Delta_ZIMPOM-df_contraint.Delta_rbg * df[df.Over_3_X_3_child].MTR_2011.mean()\n",
    "# df_contraint.loc[df_contraint.Over_4_X_4_child == True, \"Delta_ZIMPOM\"] = df_contraint.Delta_ZIMPOM-df_contraint.Delta_rbg * df[df.Over_4_X_4_child].MTR_2011.mean()\n",
    "# df_contraint.loc[df_contraint.Over_5_X_5_child == True, \"Delta_ZIMPOM\"] = df_contraint.Delta_ZIMPOM-df_contraint.Delta_rbg * df[df.Over_5_X_5_child].MTR_2011.mean()\n",
    "# df_contraint.loc[df_contraint.Over_6_X_6_child == True, \"Delta_ZIMPOM\"] = df_contraint.Delta_ZIMPOM-df_contraint.Delta_rbg * df[df.Over_6_X_6_child].MTR_2011.mean()\n",
    "\n",
    "\n",
    "\n",
    "# df_contraint.loc[df_contraint.Between_1_X_1_child == True, \"Delta_ZIMPOM\"] = df_contraint.Delta_ZIMPOM-df_contraint.Delta_rbg * df[df.Between_1_X_1_child].MTR_2011.mean()\n",
    "# df_contraint.loc[df_contraint.Between_2_X_2_child == True, \"Delta_ZIMPOM\"] = df_contraint.Delta_ZIMPOM-df_contraint.Delta_rbg * df[df.Between_2_X_2_child].MTR_2011.mean()\n",
    "# df_contraint.loc[df_contraint.Between_3_X_3_child == True, \"Delta_ZIMPOM\"] = df_contraint.Delta_ZIMPOM-df_contraint.Delta_rbg * df[df.Between_3_X_3_child].MTR_2011.mean()\n",
    "# df_contraint.loc[df_contraint.Between_4_X_4_child == True, \"Delta_ZIMPOM\"] = df_contraint.Delta_ZIMPOM-df_contraint.Delta_rbg * df[df.Between_4_X_4_child].MTR_2011.mean()\n",
    "# df_contraint.loc[df_contraint.Between_5_X_5_child == True, \"Delta_ZIMPOM\"] = df_contraint.Delta_ZIMPOM-df_contraint.Delta_rbg * df[df.Between_5_X_5_child].MTR_2011.mean()\n",
    "# df_contraint.loc[df_contraint.Between_6_X_6_child == True, \"Delta_ZIMPOM\"] = df_contraint.Delta_ZIMPOM-df_contraint.Delta_rbg * df[df.Between_6_X_6_child].MTR_2011.mean()"
   ]
  },
  {
   "cell_type": "code",
   "execution_count": null,
   "metadata": {},
   "outputs": [],
   "source": []
  },
  {
   "cell_type": "code",
   "execution_count": null,
   "metadata": {
    "scrolled": false
   },
   "outputs": [],
   "source": [
    "regression_delta_zimpom_formula = \"(Delta_ZIMPOM)~   {} - 1 + Not_touched_by_reform + Delta_Rbg_times_not_touched_reform\".format(\n",
    "        ' + '.join(interactions_child_over))\n",
    "\n",
    "\n",
    "###Basic\n",
    "regression_fit_list = list()\n",
    "regression_delta_zimpom_fit_list = list()\n",
    "m = sm.OLS.from_formula(regression_delta_zimpom_formula,\n",
    "                     df_contraint.query(\"((200000>Rbg_2011>50000)|(200000>Rbg_2014>50000))\"+\n",
    "                              \"&(NBPAC_2011 == NBPAC_2014)\")) #SAME NBPAC\n",
    "fit = m.fit()\n",
    "regression_fit_list.append(fit)\n",
    "\n",
    "\n",
    "\n",
    "###Both years\n",
    "m = sm.OLS.from_formula(regression_delta_zimpom_formula,\n",
    "                     df_contraint.query(\"((200000>Rbg_2011>50000)&(200000>Rbg_2014>50000))\"+\n",
    "                              \"&(NBPAC_2011 == NBPAC_2014)\")) #SAME NBPAC\n",
    "fit = m.fit()\n",
    "regression_fit_list.append(fit)\n",
    "\n",
    "\n",
    "\n",
    "\n",
    "## Without retirement income in 2011\n",
    "m = sm.OLS.from_formula(regression_delta_zimpom_formula,\n",
    "                 df_contraint.query(\"((200000>Rbg_2011>50000)|(200000>Rbg_2014>50000))&(ZPERM_2011<1000)\"+\n",
    "                              \"&(NBPAC_2011 == NBPAC_2014)\")) #SAME NBPAC\n",
    "fit = m.fit()\n",
    "regression_fit_list.append(fit)\n",
    "\n",
    "\n",
    "#### Without retirement income both years\n",
    "m = sm.OLS.from_formula(regression_delta_zimpom_formula,\n",
    "                 df_contraint.query(\"((200000>Rbg_2011>50000)|(200000>Rbg_2014>50000))&(ZPERM_2011<10)&(ZPERM_2014<10)\"+\n",
    "                              \"&(NBPAC_2011 == NBPAC_2014)\")) #SAME NBPAC\n",
    "fit = m.fit()\n",
    "regression_fit_list.append(fit)\n",
    "\n",
    "#### Without retirement income both years,both year on th ecorrect income span\n",
    "m = sm.OLS.from_formula(regression_delta_zimpom_formula,\n",
    "                 df_contraint.query(\"((200000>Rbg_2011>50000)&(200000>Rbg_2014>50000))&(ZPERM_2011<10)&(ZPERM_2014<10)\"+\n",
    "                              \"&(NBPAC_2011 == NBPAC_2014)&(ZIMPOM_DECL_2014>100)&(ZIMPOM_2011>100) & (ZVALM_2011<=200) &(ZVAMM_2011<200)& (ZRACM_2011<200) & (ZETRM_2011<100)\\\n",
    "                                                                                &(ZIMPOM_2014>100) & (ZVALM_2014<=200) &(ZVAMM_2014<200)& (ZRACM_2014<200)& (ZETRM_2014<100)\")) #SAME NBPAC\n",
    "fit = m.fit()\n",
    "regression_fit_list.append(fit)\n",
    "\n",
    "\n",
    "###log ratio\n",
    "m = sm.OLS.from_formula(regression_delta_zimpom_formula,\n",
    "                     df_contraint.query(\"((200000>Rbg_2011>50000)|(200000>Rbg_2014>50000))\"+\n",
    "                              \"&(NBPAC_2011 == NBPAC_2014)\")) #SAME NBPAC\n",
    "fit = m.fit()\n",
    "regression_fit_list.append(fit)\n",
    "\n",
    "\n",
    "print(summary_col(regression_fit_list, stars = True, info_dict={'adjusted-R2':lambda x:\"{:4.2f}%\".format(x.rsquared_adj*100), \"N\":lambda x:\"{:d}\".format(int(x.nobs))}))"
   ]
  },
  {
   "cell_type": "code",
   "execution_count": null,
   "metadata": {},
   "outputs": [],
   "source": [
    "836*6"
   ]
  },
  {
   "cell_type": "markdown",
   "metadata": {},
   "source": [
    "### By type of income "
   ]
  },
  {
   "cell_type": "code",
   "execution_count": null,
   "metadata": {},
   "outputs": [],
   "source": [
    "household_income_vars = ['ZTSAM', 'ZRAGM', 'ZRACM', 'ZRNCM', 'ZFONM', 'ZPERM', 'ZRICM']"
   ]
  },
  {
   "cell_type": "code",
   "execution_count": null,
   "metadata": {},
   "outputs": [],
   "source": [
    "###Basic\n",
    "regression_fit_list = list()\n",
    "\n",
    "for var in [\"Delta_{}\".format(var )for var in household_income_vars]:\n",
    "    m = sm.OLS.from_formula(\"({})~   {} \".format(var,\n",
    "            ' + '.join(children_number+ #below_threshold_for_child_rank+interaction_child_below_thresholds\n",
    "                      between_threshold_for_child_rank+children_number+ over_threshold_for_child_rank+\n",
    "                      interaction_child_between_threshold+interaction_child_over_threshold))\n",
    "                        , df.query(\"((200000>Rbg_2011>50000)|(200000>Rbg_2014>50000))\"+\n",
    "                                  \"&(NBPAC_2011 == NBPAC_2014)\")) #SAME NBPAC\n",
    "    fit = m.fit()\n",
    "    regression_fit_list.append(fit)\n",
    "\n"
   ]
  },
  {
   "cell_type": "code",
   "execution_count": null,
   "metadata": {
    "scrolled": false
   },
   "outputs": [],
   "source": [
    "print(summary_col(regression_fit_list, stars = True, info_dict={'adjusted-R2':lambda x:\"{:4.2f}%\".format(x.rsquared_adj*100), \"N\":lambda x:\"{:d}\".format(int(x.nobs))}))"
   ]
  },
  {
   "cell_type": "code",
   "execution_count": null,
   "metadata": {},
   "outputs": [],
   "source": [
    "household_income_vars"
   ]
  },
  {
   "cell_type": "markdown",
   "metadata": {},
   "source": [
    "### By type of income if  a specific income is earned "
   ]
  },
  {
   "cell_type": "code",
   "execution_count": null,
   "metadata": {},
   "outputs": [],
   "source": [
    "###Basic\n",
    "regression_fit_list = list()\n",
    "\n",
    "for var in  household_income_vars:\n",
    "    endogenous_var = \"Delta_{}\".format(var )\n",
    "    m = sm.OLS.from_formula(\"({})~   {} \".format(endogenous_var,\n",
    "            ' + '.join(children_number+ #below_threshold_for_child_rank+interaction_child_below_thresholds\n",
    "                      between_threshold_for_child_rank+children_number+ over_threshold_for_child_rank+\n",
    "                      interaction_child_between_threshold+interaction_child_over_threshold))\n",
    "                        , df.query(\"((200000>Rbg_2011>50000)|(200000>Rbg_2014>50000))\"+\n",
    "                                  \"&(NBPAC_2011 == NBPAC_2014)&(({}_2011>100)|({}_2014>100)) \".format(var,var))) #SAME NBPAC\n",
    "    fit = m.fit()\n",
    "    regression_fit_list.append(fit)\n",
    "\n"
   ]
  },
  {
   "cell_type": "code",
   "execution_count": null,
   "metadata": {
    "scrolled": false
   },
   "outputs": [],
   "source": [
    "print(summary_col(regression_fit_list, stars = True, info_dict={'adjusted-R2':lambda x:\"{:4.2f}%\".format(x.rsquared_adj*100), \"N\":lambda x:\"{:d}\".format(int(x.nobs))}))"
   ]
  },
  {
   "cell_type": "markdown",
   "metadata": {},
   "source": [
    "#### By type of income mother father "
   ]
  },
  {
   "cell_type": "code",
   "execution_count": null,
   "metadata": {},
   "outputs": [],
   "source": [
    "individualized_income_var = [ 'YSALI', 'YCHOI', 'YRSTI',\n",
    "                               'YALRI', 'YRAGI', 'YBICI', 'YBNCI']"
   ]
  },
  {
   "cell_type": "code",
   "execution_count": null,
   "metadata": {},
   "outputs": [],
   "source": [
    "df.YSALI_2014_father.head()"
   ]
  },
  {
   "cell_type": "markdown",
   "metadata": {},
   "source": [
    "We have some nan, why ?"
   ]
  },
  {
   "cell_type": "code",
   "execution_count": null,
   "metadata": {},
   "outputs": [],
   "source": [
    "df[[\"YSALI_2014_father\", \"YSALI_2014_mother\",\"YSALI_2011_father\", \"YSALI_2011_mother\", \"Rbg_2011\"]].isna().sum()/df[[\"YSALI_2014_father\", \"YSALI_2014_mother\",\"YSALI_2011_father\", \"YSALI_2011_mother\", \"Rbg_2011\"]].shape[0]"
   ]
  },
  {
   "cell_type": "code",
   "execution_count": null,
   "metadata": {},
   "outputs": [],
   "source": [
    "both_wage = ~(df[\"YSALI_2014_father\"].isna()| df[\"YSALI_2014_mother\"].isna()| df[\"YSALI_2011_father\"].isna() | df[\"YSALI_2011_mother\"].isna())"
   ]
  },
  {
   "cell_type": "code",
   "execution_count": null,
   "metadata": {},
   "outputs": [],
   "source": [
    "\n",
    "for parent in [\"father\", \"mother\"]:\n",
    "    for var in individualized_income_var:\n",
    "        df[\"Delta_{}_{}\".format(var, parent)] = df[\"{}_2014_{}\".format(var,parent)] - df[\"{}_2011_{}\".format(var, parent)]"
   ]
  },
  {
   "cell_type": "code",
   "execution_count": null,
   "metadata": {},
   "outputs": [],
   "source": [
    "individualized_income_var"
   ]
  },
  {
   "cell_type": "code",
   "execution_count": null,
   "metadata": {},
   "outputs": [],
   "source": [
    "###Basic\n",
    "regression_fit_list = list()\n",
    "\n",
    "for var in individualized_income_var[:5]:\n",
    "    for parent in [\"father\", \"mother\"]:\n",
    "        endogenous_var = \"Delta_{}_{}\".format(var, parent)\n",
    "        m = sm.OLS.from_formula(\"({})~   {} \".format(endogenous_var,\n",
    "                ' + '.join(children_number+ #below_threshold_for_child_rank+interaction_child_below_thresholds\n",
    "                          between_threshold_for_child_rank+children_number+ over_threshold_for_child_rank+\n",
    "                          interaction_child_between_threshold+interaction_child_over_threshold))\n",
    "                            , df.query(\"((200000>Rbg_2011>50000)|(200000>Rbg_2014>50000))\"+\n",
    "                                      \"&(NBPAC_2011 == NBPAC_2014)& @both_wage& @no_attached\")) #SAME NBPAC\n",
    "        fit = m.fit()\n",
    "        regression_fit_list.append(fit)\n",
    "\n"
   ]
  },
  {
   "cell_type": "code",
   "execution_count": null,
   "metadata": {
    "scrolled": false
   },
   "outputs": [],
   "source": [
    "print(summary_col(regression_fit_list, stars = True, info_dict={'adjusted-R2':lambda x:\"{:4.2f}%\".format(x.rsquared_adj*100), \"N\":lambda x:\"{:d}\".format(int(x.nobs))}))"
   ]
  },
  {
   "cell_type": "code",
   "execution_count": null,
   "metadata": {},
   "outputs": [],
   "source": [
    "###Basic\n",
    "regression_fit_list = list()\n",
    "\n",
    "for var in individualized_income_var[5:]:\n",
    "    for parent in [\"father\", \"mother\"]:\n",
    "        endogenous_var = \"Delta_{}_{}\".format(var, parent)\n",
    "        m = sm.OLS.from_formula(\"({})~   {} \".format(endogenous_var,\n",
    "                ' + '.join(children_number+ #below_threshold_for_child_rank+interaction_child_below_thresholds\n",
    "                          between_threshold_for_child_rank+children_number+ over_threshold_for_child_rank+\n",
    "                          interaction_child_between_threshold+interaction_child_over_threshold))\n",
    "                            , df.query(\"((200000>Rbg_2011>50000)|(200000>Rbg_2014>50000))\"+\n",
    "                                      \"&(NBPAC_2011 == NBPAC_2014)\")) #SAME NBPAC\n",
    "        fit = m.fit()\n",
    "        regression_fit_list.append(fit)\n",
    "\n"
   ]
  },
  {
   "cell_type": "code",
   "execution_count": null,
   "metadata": {
    "scrolled": false
   },
   "outputs": [],
   "source": [
    "print(summary_col(regression_fit_list, stars = True, info_dict={'adjusted-R2':lambda x:\"{:4.2f}%\".format(x.rsquared_adj*100), \"N\":lambda x:\"{:d}\".format(int(x.nobs))}))"
   ]
  },
  {
   "cell_type": "markdown",
   "metadata": {},
   "source": [
    "#### By  type of income if a specific income is earned."
   ]
  },
  {
   "cell_type": "code",
   "execution_count": null,
   "metadata": {},
   "outputs": [],
   "source": [
    "###Basic\n",
    "regression_fit_list = list()\n",
    "\n",
    "for var in individualized_income_var[:5]:\n",
    "    for parent in [\"father\", \"mother\"]:\n",
    "        endogenous_var = \"Delta_{}_{}\".format(var, parent)\n",
    "        m = sm.OLS.from_formula(\"({})~   {} \".format(endogenous_var,\n",
    "                ' + '.join(children_number+ #below_threshold_for_child_rank+interaction_child_below_thresholds\n",
    "                          between_threshold_for_child_rank+children_number+ over_threshold_for_child_rank+\n",
    "                          interaction_child_between_threshold+interaction_child_over_threshold))\n",
    "                            , df.query(\"((200000>Rbg_2011>50000)|(200000>Rbg_2014>50000))\"+\n",
    "                                      \"&(NBPAC_2011 == NBPAC_2014)&(({}_2011_{}>100)|({}_2014_{}>100))\".format(var,parent,var, parent))) \n",
    "        fit = m.fit()\n",
    "        regression_fit_list.append(fit)\n",
    "\n"
   ]
  },
  {
   "cell_type": "code",
   "execution_count": null,
   "metadata": {},
   "outputs": [],
   "source": [
    "print(summary_col(regression_fit_list, stars = True, info_dict={'adjusted-R2':lambda x:\"{:4.2f}%\".format(x.rsquared_adj*100), \"N\":lambda x:\"{:d}\".format(int(x.nobs))}))"
   ]
  },
  {
   "cell_type": "markdown",
   "metadata": {},
   "source": [
    "#### Extensive margin"
   ]
  },
  {
   "cell_type": "code",
   "execution_count": null,
   "metadata": {},
   "outputs": [],
   "source": [
    "for parent in [\"father\", \"mother\"]:\n",
    "    for var in individualized_income_var:\n",
    "        df[\"Start_to_work_{}\".format(parent)] = ((df[\"YSALI_2014_{}\".format(parent)]>5000) & (df[\"YSALI_2011_{}\".format(parent)]<5000)).astype(\"int\")\n",
    "        df[\"Stop_to_work_{}\".format(parent)] = ((df[\"YSALI_2014_{}\".format(parent)]<5000) & (df[\"YSALI_2011_{}\".format(parent)]>5000)).astype(\"int\")"
   ]
  },
  {
   "cell_type": "code",
   "execution_count": null,
   "metadata": {},
   "outputs": [],
   "source": [
    "###Basic\n",
    "regression_fit_list = list()\n",
    "for var in [\"Start\", \"Stop\"]:\n",
    "    for parent in [\"father\", \"mother\"]:\n",
    "        endogenous_var = \"{}_to_work_{}\".format( var, parent)\n",
    "        m = sm.OLS.from_formula(\"({})~   {} \".format(endogenous_var,\n",
    "                ' + '.join(children_number+ #below_threshold_for_child_rank+interaction_child_below_thresholds\n",
    "                          between_threshold_for_child_rank+children_number+ over_threshold_for_child_rank+\n",
    "                          interaction_child_between_threshold+interaction_child_over_threshold))\n",
    "                            , df.query(\"((200000>Rbg_2011>50000)|(200000>Rbg_2014>50000))\"+\n",
    "                                      \"&(NBPAC_2011 >= 0)&(@both_wage)\")) #SAME NBPAC\n",
    "        fit = m.fit(maxiter=100)\n",
    "        regression_fit_list.append(fit)\n",
    "\n"
   ]
  },
  {
   "cell_type": "code",
   "execution_count": null,
   "metadata": {},
   "outputs": [],
   "source": [
    "print(summary_col(regression_fit_list, stars = True, info_dict={'adjusted-R2':lambda x:\"{:4.2f}%\".format(x.rsquared_adj*100), \"N\":lambda x:\"{:d}\".format(int(x.nobs))}))"
   ]
  },
  {
   "cell_type": "code",
   "execution_count": null,
   "metadata": {},
   "outputs": [],
   "source": [
    "df[\"Passage_temps_partiel_father\"] = ((df.CE_2011_father == \"C\") & (df.CE_2014_father == \"P\"  )).astype(\"int\")\n",
    "df[\"Passage_temps_partiel_mother\"] = ((df.CE_2011_mother == \"C\") & (df.CE_2014_mother == \"P\")).astype(\"int\")\n",
    "\n",
    "df[\"Passage_temps_plein_father\"] = ((df.CE_2011_father == \"P\") & (df.CE_2014_father == \"C\"  )).astype(\"int\")\n",
    "df[\"Passage_temps_plein_mother\"] = ((df.CE_2011_mother == \"P\") & (df.CE_2014_mother == \"C\")).astype(\"int\")"
   ]
  },
  {
   "cell_type": "code",
   "execution_count": null,
   "metadata": {},
   "outputs": [],
   "source": [
    "df.CE_2011_father.value_counts(dropna = False)"
   ]
  },
  {
   "cell_type": "code",
   "execution_count": null,
   "metadata": {},
   "outputs": [],
   "source": [
    "print(df.Passage_temps_plein_father.value_counts())\n",
    "print(df.Passage_temps_plein_mother.value_counts())\n",
    "print(df.Passage_temps_partiel_father.value_counts())\n",
    "print(df.Passage_temps_partiel_mother.value_counts())"
   ]
  },
  {
   "cell_type": "code",
   "execution_count": null,
   "metadata": {},
   "outputs": [],
   "source": [
    "df[~(df.CE_2011_father.isna()| df.CE_2014_father.isna())].CE_2011_father"
   ]
  },
  {
   "cell_type": "code",
   "execution_count": null,
   "metadata": {},
   "outputs": [],
   "source": [
    "df"
   ]
  },
  {
   "cell_type": "markdown",
   "metadata": {},
   "source": [
    "Retire bien du sample les observations ou la variable CE n'est pas renseignée."
   ]
  },
  {
   "cell_type": "code",
   "execution_count": null,
   "metadata": {},
   "outputs": [],
   "source": [
    "###Basic\n",
    "regression_fit_list = list()\n",
    "for var in [\"Passage_temps_partiel\", \"Passage_temps_plein\"]:\n",
    "    for parent in [\"father\", \"mother\"]:\n",
    "        endogenous_var = \"{}_{}\".format( var, parent)\n",
    "        print(endogenous_var)\n",
    "        df_temp = df[~(df[\"CE_2011_{}\".format(parent)].isna()| df[\"CE_2014_{}\".format(parent)].isna())]\n",
    "        m = sm.OLS.from_formula(\"({})~   {} \".format(endogenous_var,\n",
    "                ' + '.join(children_number+ #below_threshold_for_child_rank+interaction_child_below_thresholds\n",
    "                          between_threshold_for_child_rank+children_number+ over_threshold_for_child_rank+\n",
    "                          interaction_child_between_threshold+interaction_child_over_threshold))\n",
    "                            , df_temp.query(\"((200000>Rbg_2011>50000)|(200000>Rbg_2014>50000))\"+\n",
    "                                      \"&(NBPAC_2011 >= 0)\")) #SAME NBPAC\n",
    "        fit = m.fit()\n",
    "        regression_fit_list.append(fit)\n",
    "\n"
   ]
  },
  {
   "cell_type": "code",
   "execution_count": null,
   "metadata": {},
   "outputs": [],
   "source": [
    "print(summary_col(regression_fit_list, stars = True, info_dict={'adjusted-R2':lambda x:\"{:4.2f}%\".format(x.rsquared_adj*100), \"N\":lambda x:\"{:d}\".format(int(x.nobs))}))"
   ]
  },
  {
   "cell_type": "code",
   "execution_count": null,
   "metadata": {},
   "outputs": [],
   "source": []
  },
  {
   "cell_type": "code",
   "execution_count": null,
   "metadata": {},
   "outputs": [],
   "source": [
    "((df.CE_2011_father == \"C\") & (df.CE_2014_father == \"P\"  )).value_counts()"
   ]
  },
  {
   "cell_type": "code",
   "execution_count": null,
   "metadata": {},
   "outputs": [],
   "source": [
    "((df.CE_2011_father == \"P\") & (df.CE_2014_father == \"C\"  )).value_counts()"
   ]
  },
  {
   "cell_type": "code",
   "execution_count": null,
   "metadata": {},
   "outputs": [],
   "source": [
    "((df.CE_2011_mother == \"P\") & (df.CE_2014_mother == \"C\"  )).value_counts()"
   ]
  },
  {
   "cell_type": "code",
   "execution_count": null,
   "metadata": {},
   "outputs": [],
   "source": []
  },
  {
   "cell_type": "code",
   "execution_count": null,
   "metadata": {},
   "outputs": [],
   "source": []
  },
  {
   "cell_type": "code",
   "execution_count": null,
   "metadata": {},
   "outputs": [],
   "source": [
    "df.CE_2011_mother.value_counts(dropna = False)"
   ]
  },
  {
   "cell_type": "code",
   "execution_count": null,
   "metadata": {},
   "outputs": [],
   "source": [
    "df.Age_father"
   ]
  },
  {
   "cell_type": "code",
   "execution_count": null,
   "metadata": {},
   "outputs": [],
   "source": [
    "df[\"Baby_in_household\"] = (df.NBPAC_2011>0)&(df.Age_eldest_child<=2)"
   ]
  },
  {
   "cell_type": "code",
   "execution_count": null,
   "metadata": {},
   "outputs": [],
   "source": [
    "###Basic\n",
    "max_child = 4\n",
    "regression_fit_list = list()\n",
    "for var in [\"Start\", \"Stop\"]:\n",
    "    for parent in [\"father\", \"mother\"]:\n",
    "        endogenous_var = \"{}_to_work_{}\".format( var, parent)\n",
    "        m = sm.Probit.from_formula(\"({})~   {} +Age_father+Age_mother\".format(endogenous_var,\n",
    "                ' + '.join(children_number[:max_child]+ #below_threshold_for_child_rank+interaction_child_below_thresholds\n",
    "                          between_threshold_for_child_rank[:max_child]+children_number[:max_child]+ over_threshold_for_child_rank[:max_child]+\n",
    "                          interaction_child_between_threshold[:max_child]+interaction_child_over_threshold[:max_child]))\n",
    "                            , df.query(\"((200000>Rbg_2011>50000)|(200000>Rbg_2014>50000))\"+\n",
    "                                      \"&(NBPAC_2011 == NBPAC_2014)&(NBPAC_2011 <= @max_child)&(@both_wage)\")) #SAME NBPAC\n",
    "        fit = m.fit(maxiter=100)\n",
    "        regression_fit_list.append(fit)\n",
    "\n"
   ]
  },
  {
   "cell_type": "code",
   "execution_count": null,
   "metadata": {},
   "outputs": [],
   "source": [
    "###Basic\n",
    "max_child = 4\n",
    "regression_fit_list = list()\n",
    "for var in [\"Start\", \"Stop\"]:\n",
    "    for parent in [\"father\", \"mother\"]:\n",
    "        endogenous_var = \"{}_to_work_{}\".format( var, parent)\n",
    "        m = sm.Probit.from_formula(\"({})~   {} + Baby_in_household+Age_father+Age_mother\".format(endogenous_var,\n",
    "                ' + '.join(children_number[:max_child]+ #below_threshold_for_child_rank+interaction_child_below_thresholds\n",
    "                          between_threshold_for_child_rank[:max_child]+children_number[:max_child]+ over_threshold_for_child_rank[:max_child]+\n",
    "                          interaction_child_between_threshold[:max_child]+interaction_child_over_threshold[:max_child]))\n",
    "                            , df.query(\"((200000>Rbg_2011>50000)|(200000>Rbg_2014>50000))\"+\n",
    "                                      \"&(NBPAC_2011 == NBPAC_2014)&(NBPAC_2011 <= @max_child)&(@both_wage)\")) #SAME NBPAC\n",
    "        fit = m.fit(maxiter=100)\n",
    "        regression_fit_list.append(fit)\n",
    "\n"
   ]
  },
  {
   "cell_type": "code",
   "execution_count": null,
   "metadata": {},
   "outputs": [],
   "source": [
    "###Basic\n",
    "max_child = 4\n",
    "regression_fit_list = list()\n",
    "for var in [\"Start\", \"Stop\"]:\n",
    "    for parent in [\"father\", \"mother\"]:\n",
    "        endogenous_var = \"{}_to_work_{}\".format( var, parent)\n",
    "        m = sm.Probit.from_formula(\"({})~   {} + Baby_in_household+Age_father+Age_mother\".format(endogenous_var,\n",
    "                ' + '.join(children_number[:max_child]+ #below_threshold_for_child_rank+interaction_child_below_thresholds\n",
    "                         flatten_thresholds_list+hardcoded_between[:max_child]+hardcoded_over[:max_child]))\n",
    "                            , df.query(\"((200000>Rbg_2011>50000)|(200000>Rbg_2014>50000))\"+\n",
    "                                      \"&(NBPAC_2011 == NBPAC_2014)&(NBPAC_2011 <= @max_child)&(@both_wage)\")) #SAME NBPAC\n",
    "        fit = m.fit(maxiter=100)\n",
    "        regression_fit_list.append(fit)\n",
    "\n"
   ]
  },
  {
   "cell_type": "code",
   "execution_count": null,
   "metadata": {},
   "outputs": [],
   "source": [
    "df.Age_eldest_child.hist(bins =100)"
   ]
  },
  {
   "cell_type": "code",
   "execution_count": null,
   "metadata": {},
   "outputs": [],
   "source": [
    "df.Age_eldest_child.hist(bins =100)"
   ]
  },
  {
   "cell_type": "code",
   "execution_count": null,
   "metadata": {
    "scrolled": false
   },
   "outputs": [],
   "source": [
    "print(summary_col(regression_fit_list, stars = True, info_dict={'adjusted-R2':lambda x:\"{:4.2f}%\".format(x.rsquared_adj*100), \"N\":lambda x:\"{:d}\".format(int(x.nobs))}))"
   ]
  },
  {
   "cell_type": "markdown",
   "metadata": {},
   "source": [
    "#### By looking at DADS"
   ]
  },
  {
   "cell_type": "code",
   "execution_count": null,
   "metadata": {},
   "outputs": [],
   "source": [
    "(df.ZVALM_2011<=200).value_counts(normalize = True)"
   ]
  },
  {
   "cell_type": "code",
   "execution_count": null,
   "metadata": {},
   "outputs": [],
   "source": []
  },
  {
   "cell_type": "code",
   "execution_count": null,
   "metadata": {},
   "outputs": [],
   "source": []
  },
  {
   "cell_type": "markdown",
   "metadata": {},
   "source": [
    "### Retirement"
   ]
  },
  {
   "cell_type": "code",
   "execution_count": null,
   "metadata": {},
   "outputs": [],
   "source": [
    "df[\"Father_get_retired\"] = ((df[\"YRSTI_2011_father\"]<2000) & (df[\"YRSTI_2014_father\"]>6000)).astype(\"int\")\n",
    "df[\"Mother_get_retired\"] = ((df[\"YRSTI_2011_mother\"]<2000) & (df[\"YRSTI_2014_mother\"]>6000)).astype(\"int\")"
   ]
  },
  {
   "cell_type": "code",
   "execution_count": null,
   "metadata": {},
   "outputs": [],
   "source": [
    "###Basic\n",
    "max_child = 4\n",
    "regression_fit_list = list()\n",
    "\n",
    "for parent in [\"Father\", \"Mother\"]:\n",
    "    endogenous_var = \"{}_get_retired\".format(  parent)\n",
    "    m = sm.Probit.from_formula(\"({})~   {} + Baby_in_household+Age_father+Age_mother\".format(endogenous_var,\n",
    "            ' + '.join(children_number[:max_child]+ #below_threshold_for_child_rank+interaction_child_below_thresholds\n",
    "                       flatten_thresholds_list+hardcoded_between[:max_child]+hardcoded_over[:max_child]))\n",
    "                        , df.query(\"((200000>Rbg_2011>50000)&(200000>Rbg_2014>50000))\"+\n",
    "                                  \"&(NBPAC_2011 == NBPAC_2014)&(NBPAC_2011 <= @max_child)&(@both_wage)\")) #SAME NBPAC\n",
    "    fit = m.fit(maxiter=100)\n",
    "    regression_fit_list.append(fit)\n",
    "\n",
    "print(summary_col(regression_fit_list, stars = True, info_dict={'adjusted-R2':lambda x:\"{:4.2f}%\".format(x.rsquared_adj*100), \"N\":lambda x:\"{:d}\".format(int(x.nobs))}))"
   ]
  },
  {
   "cell_type": "code",
   "execution_count": null,
   "metadata": {},
   "outputs": [],
   "source": []
  },
  {
   "cell_type": "code",
   "execution_count": null,
   "metadata": {},
   "outputs": [],
   "source": []
  },
  {
   "cell_type": "code",
   "execution_count": null,
   "metadata": {},
   "outputs": [],
   "source": []
  },
  {
   "cell_type": "code",
   "execution_count": null,
   "metadata": {},
   "outputs": [],
   "source": []
  },
  {
   "cell_type": "code",
   "execution_count": null,
   "metadata": {},
   "outputs": [],
   "source": []
  },
  {
   "cell_type": "code",
   "execution_count": null,
   "metadata": {},
   "outputs": [],
   "source": []
  },
  {
   "cell_type": "code",
   "execution_count": null,
   "metadata": {},
   "outputs": [],
   "source": [
    "m = sm.OLS.from_formula(\"(Delta_rbg)~   {} \".format(\n",
    "        ' + '.join(children_number+ #below_threshold_for_child_rank+interaction_child_below_thresholds\n",
    "                  between_threshold_for_child_rank+children_number+ over_threshold_for_child_rank+\n",
    "                  interaction_child_between_threshold+interaction_child_over_threshold))\n",
    "                    , df.query(\"((200000>Rbg_2011>50000)|(200000>Rbg_2014>50000))\"+\n",
    "                              \"&(NBPAC_2011 == NBPAC_2014)\")) #SAME NBPAC\n",
    "fit = m.fit()\n",
    "summary = fit.summary(); print(summary)"
   ]
  },
  {
   "cell_type": "code",
   "execution_count": null,
   "metadata": {},
   "outputs": [],
   "source": [
    "m = sm.OLS.from_formula(\"(Delta_rbg)~   {} \".format(\n",
    "        ' + '.join(children_number+ #below_threshold_for_child_rank+interaction_child_below_thresholds\n",
    "                  between_threshold_for_child_rank+children_number+ over_threshold_for_child_rank+\n",
    "                  interaction_child_between_threshold+interaction_child_over_threshold))\n",
    "                    , df.query(\"(200000>Rbg_2011>50000)\"+\n",
    "                              \"&(NBPAC_2011 == NBPAC_2014)&(ZPERM_2011<50)&(ZPERM_2014<50)\")) #SAME NBPAC\n",
    "fit = m.fit()\n",
    "summary = fit.summary(); print(summary)"
   ]
  },
  {
   "cell_type": "code",
   "execution_count": null,
   "metadata": {},
   "outputs": [],
   "source": []
  },
  {
   "cell_type": "code",
   "execution_count": null,
   "metadata": {},
   "outputs": [],
   "source": [
    "m = sm.OLS.from_formula(\"(Delta_rbg)~   {} \".format(\n",
    "        ' + '.join(children_number+ #below_threshold_for_child_rank+interaction_child_below_thresholds\n",
    "                  between_threshold_for_child_rank+children_number+ over_threshold_for_child_rank+\n",
    "                  interaction_child_between_threshold+interaction_child_over_threshold))\n",
    "                    , df.query(\"((200000>Rbg_2011>50000)|(200000>Rbg_2014>50000))\"))\n",
    "fit = m.fit()\n",
    "summary = fit.summary(); print(summary)"
   ]
  },
  {
   "cell_type": "code",
   "execution_count": null,
   "metadata": {
    "scrolled": false
   },
   "outputs": [],
   "source": [
    "m = sm.OLS.from_formula(\"(Delta_rbg)~   {} \".format(\n",
    "        ' + '.join(children_number+ #below_threshold_for_child_rank+interaction_child_below_thresholds\n",
    "                  between_threshold_for_child_rank+children_number+ over_threshold_for_child_rank+\n",
    "                  interaction_child_between_threshold+interaction_child_over_threshold))\n",
    "                    , df.query(\"((200000>Rbg_2011>50000)&(200000>Rbg_2014>50000))&(ZPERM_2011<50)&(ZPERM_2014<50)\"))\n",
    "fit = m.fit()\n",
    "summary = fit.summary(); print(summary)"
   ]
  },
  {
   "cell_type": "code",
   "execution_count": null,
   "metadata": {
    "scrolled": false
   },
   "outputs": [],
   "source": [
    "m = sm.OLS.from_formula(\"(Delta_rbg)~   {} \".format(\n",
    "        ' + '.join(children_number+ #below_threshold_for_child_rank+interaction_child_below_thresholds\n",
    "                  between_threshold_for_child_rank+children_number+ over_threshold_for_child_rank+\n",
    "                  interaction_child_between_threshold+interaction_child_over_threshold))\n",
    "                    , df.query(\"((200000>Rbg_2011>50000)|(200000>Rbg_2014>50000))&(ZRSTM_2014<50)\"))\n",
    "fit = m.fit()\n",
    "summary = fit.summary(); print(summary)"
   ]
  },
  {
   "cell_type": "code",
   "execution_count": null,
   "metadata": {
    "scrolled": false
   },
   "outputs": [],
   "source": [
    "m = sm.OLS.from_formula(\"(Delta_rbg)~   {} \".format(\n",
    "        ' + '.join(children_number+ #below_threshold_for_child_rank+interaction_child_below_thresholds\n",
    "                  between_threshold_for_child_rank+children_number+ over_threshold_for_child_rank+\n",
    "                  interaction_child_between_threshold+interaction_child_over_threshold))\n",
    "                    , df.query(\"(200000>Rbg_2011>50000)|(200000>Rbg_2014>50000)&(ZPERM_2011<50)\"))\n",
    "fit = m.fit()\n",
    "summary = fit.summary(); print(summary)"
   ]
  },
  {
   "cell_type": "code",
   "execution_count": null,
   "metadata": {},
   "outputs": [],
   "source": []
  },
  {
   "cell_type": "code",
   "execution_count": null,
   "metadata": {},
   "outputs": [],
   "source": []
  },
  {
   "cell_type": "code",
   "execution_count": null,
   "metadata": {},
   "outputs": [],
   "source": []
  },
  {
   "cell_type": "code",
   "execution_count": null,
   "metadata": {
    "scrolled": false
   },
   "outputs": [],
   "source": [
    "## Controls\n",
    "# m = sm.OLS.from_formula(\"(Delta_rbg)~   {} + child_1:Over_threshold_3_child + child_2:Over_threshold_3_child+ child_3:Over_threshold_4_child\".format(\n",
    "#         ' + '.join(children_number+ #below_threshold_for_child_rank+interaction_child_below_thresholds\n",
    "#                   between_threshold_for_child_rank+children_number+ over_threshold_for_child_rank+\n",
    "#                   interaction_child_between_threshold+interaction_child_over_threshold))\n",
    "#                     , df)\n",
    "# fit = m.fit()\n",
    "# summary = fit.summary(); print(summary)"
   ]
  },
  {
   "cell_type": "code",
   "execution_count": null,
   "metadata": {
    "scrolled": false
   },
   "outputs": [],
   "source": [
    "## Controls\n",
    "# m = sm.OLS.from_formula(\"(Delta_rbg)~   {}  \".format(\n",
    "#         ' + '.join(children_number+ #below_threshold_for_child_rank+interaction_child_below_thresholds\n",
    "#                   between_threshold_for_child_rank+children_number+ over_threshold_for_child_rank+\n",
    "#                   interaction_child_between_threshold+interaction_child_over_threshold))\n",
    "#                     , df.query(\"NBPAC_2011>0\"))\n",
    "# fit = m.fit()\n",
    "# summary = fit.summary(); print(summary)"
   ]
  },
  {
   "cell_type": "code",
   "execution_count": null,
   "metadata": {
    "scrolled": false
   },
   "outputs": [],
   "source": [
    "m = sm.RLM.from_formula(\"(Delta_rbg)~   {}  \".format(\n",
    "        ' + '.join(children_number+ #below_threshold_for_child_rank+interaction_child_below_thresholds\n",
    "                  between_threshold_for_child_rank+children_number+ over_threshold_for_child_rank+\n",
    "                  interaction_child_between_threshold+interaction_child_over_threshold))\n",
    "                    , df)\n",
    "fit = m.fit()\n",
    "summary = fit.summary(); print(summary)"
   ]
  },
  {
   "cell_type": "code",
   "execution_count": null,
   "metadata": {
    "scrolled": false
   },
   "outputs": [],
   "source": [
    "#Logarithm\n",
    "# df_temp = df[df.Rbg_2011>0]\n",
    "# m = sm.OLS.from_formula(\"np.log(Rbg_2014/Rbg_2011)~   {}  \".format(\n",
    "#         ' + '.join(children_number+ #below_threshold_for_child_rank+interaction_child_below_thresholds\n",
    "#                   between_threshold_for_child_rank+children_number+ over_threshold_for_child_rank+\n",
    "#                   interaction_child_between_threshold+interaction_child_over_threshold))\n",
    "#                     , df_temp)\n",
    "# fit = m.fit()\n",
    "# summary = fit.summary(); print(summary)"
   ]
  },
  {
   "cell_type": "code",
   "execution_count": null,
   "metadata": {
    "scrolled": false
   },
   "outputs": [],
   "source": [
    "## RLM\n",
    "# m = sm.RLM.from_formula(\"(Delta_rbg)~   {}  \".format(\n",
    "#         ' + '.join(children_number+ #below_threshold_for_child_rank+interaction_child_below_thresholds\n",
    "#                   between_threshold_for_child_rank+children_number+ over_threshold_for_child_rank+\n",
    "#                   interaction_child_between_threshold+interaction_child_over_threshold))\n",
    "#                     , df)\n",
    "# fit = m.fit()\n",
    "# summary = fit.summary(); print(summary)"
   ]
  },
  {
   "cell_type": "markdown",
   "metadata": {},
   "source": [
    "## Young vs. Old"
   ]
  },
  {
   "cell_type": "code",
   "execution_count": null,
   "metadata": {},
   "outputs": [],
   "source": [
    "df.Age_father.mean()"
   ]
  },
  {
   "cell_type": "code",
   "execution_count": null,
   "metadata": {
    "scrolled": false
   },
   "outputs": [],
   "source": [
    "m = sm.RLM.from_formula(\"(Delta_rbg)~   {}  \".format(\n",
    "        ' + '.join(children_number+ #below_threshold_for_child_rank+interaction_child_below_thresholds\n",
    "                  between_threshold_for_child_rank+children_number+ over_threshold_for_child_rank+\n",
    "                  interaction_child_between_threshold+interaction_child_over_threshold))\n",
    "                                                                                        , df.query(\"(Age_father<=46)\"))\n",
    "fit = m.fit()\n",
    "summary = fit.summary(); print(summary)"
   ]
  },
  {
   "cell_type": "code",
   "execution_count": null,
   "metadata": {},
   "outputs": [],
   "source": [
    "m = sm.RLM.from_formula(\"(Delta_rbg)~   {}  \".format(\n",
    "        ' + '.join(children_number+ #below_threshold_for_child_rank+interaction_child_below_thresholds\n",
    "                  between_threshold_for_child_rank+children_number+ over_threshold_for_child_rank+\n",
    "                  interaction_child_between_threshold+interaction_child_over_threshold))\n",
    "                                                                                        , df.query(\"(Age_father>46)\"))\n",
    "fit = m.fit()\n",
    "summary = fit.summary(); print(summary)"
   ]
  },
  {
   "cell_type": "code",
   "execution_count": null,
   "metadata": {},
   "outputs": [],
   "source": [
    "m = sm.RLM.from_formula(\"(Delta_rbg)~   {}  \".format(\n",
    "        ' + '.join(children_number+ #below_threshold_for_child_rank+interaction_child_below_thresholds\n",
    "                  between_threshold_for_child_rank+children_number+ over_threshold_for_child_rank+\n",
    "                  interaction_child_between_threshold+interaction_child_over_threshold))\n",
    "                                                                                        , df.query(\"NBPAC_2011!=0\"))\n",
    "fit = m.fit()\n",
    "summary = fit.summary(); print(summary)"
   ]
  },
  {
   "cell_type": "code",
   "execution_count": null,
   "metadata": {},
   "outputs": [],
   "source": [
    "between_threshold_for_child_rank[0]"
   ]
  },
  {
   "cell_type": "code",
   "execution_count": null,
   "metadata": {},
   "outputs": [],
   "source": [
    "### Stays in same treatment\n",
    "# m = sm.OLS.from_formula(\"(Delta_rbg)~   {}  \".format(\n",
    "#         ' + '.join(children_number+ #below_threshold_for_child_rank+interaction_child_below_thresholds\n",
    "#                   between_threshold_for_child_rank+children_number+ over_threshold_for_child_rank+\n",
    "#                   interaction_child_between_threshold+interaction_child_over_threshold))\n",
    "#                                                                                         , df.query(\"Stays_in_same_treatment==True\"))\n",
    "# fit = m.fit()\n",
    "# summary = fit.summary(); print(summary)"
   ]
  },
  {
   "cell_type": "code",
   "execution_count": null,
   "metadata": {
    "scrolled": false
   },
   "outputs": [],
   "source": [
    "m = sm.RLM.from_formula(\"(Delta_rbg)~   {} +Rbg_splines \".format(\n",
    "        ' + '.join(children_number #below_threshold_for_child_rank+interaction_child_below_thresholds\n",
    "                  +between_threshold_for_child_rank+children_number+ over_threshold_for_child_rank+\n",
    "                  interaction_child_between_threshold+interaction_child_over_threshold))\n",
    "                                                                                        , df.sample(frac = 1))\n",
    "fit = m.fit()\n",
    "summary = fit.summary(); print(summary)"
   ]
  },
  {
   "cell_type": "code",
   "execution_count": null,
   "metadata": {},
   "outputs": [],
   "source": [
    "import statsmodels.formula.api as smf"
   ]
  },
  {
   "cell_type": "code",
   "execution_count": null,
   "metadata": {},
   "outputs": [],
   "source": [
    "sm.QuantReg.from_formula(\"(Delta_rbg)~   {} \".format(\n",
    "        ' + '.join(children_number+interaction_child_over_threshold[:-3]\n",
    "                   \n",
    "                 ))\n",
    "            , df.sample(frac = 1)).fit(q =0.95).summary()"
   ]
  },
  {
   "cell_type": "code",
   "execution_count": null,
   "metadata": {},
   "outputs": [],
   "source": [
    "from IPython.core.display import display, HTML\n",
    "display(HTML(\"<style>.container { width:100% !important; }<\\style>\"))"
   ]
  },
  {
   "cell_type": "code",
   "execution_count": null,
   "metadata": {},
   "outputs": [],
   "source": [
    "df.loc[((df.Age_father>58)&(df.Age_mother<62)), 'Likely_to_get_retired'] = True"
   ]
  },
  {
   "cell_type": "code",
   "execution_count": null,
   "metadata": {},
   "outputs": [],
   "source": [
    "df[\"Delta_ZIMPOM\"] = df.ZIMPOM_2014 - df.ZIMPOM_2011"
   ]
  },
  {
   "cell_type": "code",
   "execution_count": null,
   "metadata": {},
   "outputs": [],
   "source": [
    "m = sm.RLM.from_formula(\"(Delta_ZIMPOM)~   {} - 1 + Not_touched_by_reform + Delta_Rbg_times_not_touched_reform\".format(\n",
    "        ' + '.join( interaction_child_over_threshold+interactions_rbg_over+interactions_rbg_between))\n",
    "            , df.sample(frac = 1))\n",
    "fit = m.fit()\n",
    "fit.conf_int()\n",
    "summary = fit.summary(alpha = 0.01); print(summary)"
   ]
  },
  {
   "cell_type": "code",
   "execution_count": null,
   "metadata": {},
   "outputs": [],
   "source": [
    "interaction"
   ]
  },
  {
   "cell_type": "code",
   "execution_count": null,
   "metadata": {},
   "outputs": [],
   "source": [
    "crmi=child_rank_min = 0\n",
    "crma = child_rank_max = 7\n",
    "m = sm.RLM.from_formula(\"(Delta_ZIMPOM)~   {}  \".format(\n",
    "        ' + '.join(between_threshold_for_child_rank+children_number[crmi:crma]+ over_threshold_for_child_rank+\n",
    "                  interaction_child_between_threshold[crmi:crma]+interaction_child_over_threshold[crmi:crma]))\n",
    "                    , df\n",
    "                       )\n",
    "fit = m.fit()\n",
    "summary = fit.summary(); print(summary)"
   ]
  },
  {
   "cell_type": "code",
   "execution_count": null,
   "metadata": {},
   "outputs": [],
   "source": [
    "df.Age_father.isnull().value_counts()"
   ]
  },
  {
   "cell_type": "code",
   "execution_count": null,
   "metadata": {
    "scrolled": false
   },
   "outputs": [],
   "source": [
    "crmi=child_rank_min = 0\n",
    "crma = child_rank_max = 7\n",
    "m = sm.RLM.from_formula(\"(Delta_ZIMPOM)~   {}  \".format(\n",
    "        ' + '.join(between_threshold_for_child_rank+children_number[crmi:crma]+ over_threshold_for_child_rank+\n",
    "                  interaction_child_between_threshold[crmi:crma]+interaction_child_over_threshold[crmi:crma]))\n",
    "                    , df.query(\"(Age_father<45)&(Age_mother<45)  \\\n",
    "                                      & (ZIMPOM_2011>0) &(ZIMPOM_2014>0)&(NBPAC_2011!={} ) &(NBPAC_2011<={} ) \".\n",
    "                                        format(crmi, crma,))\n",
    "                       )\n",
    "fit = m.fit()\n",
    "summary = fit.summary(); print(summary)"
   ]
  },
  {
   "cell_type": "code",
   "execution_count": null,
   "metadata": {},
   "outputs": [],
   "source": [
    "\n",
    "m = sm.RLM.from_formula(\"(Delta_ZIMPOM)~   {}  \".format(\n",
    "        ' + '.join(between_threshold_for_child_rank+children_number[:]+ over_threshold_for_child_rank+\n",
    "                  interaction_child_between_threshold[:]+interaction_child_over_threshold[:]))\n",
    "                    , df.query(\"(Age_father<45)&(Age_mother<45)  \\\n",
    "                                      & (ZIMPOM_2011>0) &(ZIMPOM_2014>0) \")\n",
    "                       )\n",
    "fit = m.fit()\n",
    "summary = fit.summary(); print(summary)"
   ]
  },
  {
   "cell_type": "code",
   "execution_count": null,
   "metadata": {},
   "outputs": [],
   "source": [
    "# m = sm.RLM.from_formula(\"(Delta_ZIMPOM)~   {} - 1 + Not_touched_by_reform + Delta_Rbg_times_not_touched_reform\".format(\n",
    "#         ' + '.join( interactions_child_over+interactions_rbg_over+interactions_rbg_between))\n",
    "#             , df.query(\"(Age_me<45) \\\n",
    "#                                       & (ZIMPOM_2011>0) &(ZIMPOM_2014>0) \").sample(frac = 1))\n",
    "# fit = m.fit()\n",
    "# fit.conf_int()\n",
    "# summary = fit.summary(alpha = 0.01); print(summary)"
   ]
  },
  {
   "cell_type": "code",
   "execution_count": null,
   "metadata": {},
   "outputs": [],
   "source": [
    "# m = sm.RLM.from_formula(\"(Delta_ZIMPOM)~   {} - 1 + Not_touched_by_reform + Delta_Rbg_times_not_touched_reform\".format(\n",
    "#         ' + '.join( interactions_child_over+interactions_rbg_over+interactions_rbg_between))\n",
    "#             , df.query(\"(Age_me<45) \\\n",
    "#                                       & (ZIMPOM_2011>0) &(ZIMPOM_2014>0) \").sample(frac = 1))\n",
    "# fit = m.fit()\n",
    "# fit.conf_int()\n",
    "# summary = fit.summary(alpha = 0.01); print(summary)"
   ]
  },
  {
   "cell_type": "code",
   "execution_count": null,
   "metadata": {},
   "outputs": [],
   "source": [
    "# m = sm.RLM.from_formula(\"(Delta_ZIMPOM)~   {} - 1 + Not_touched_by_reform + Delta_Rbg_times_not_touched_reform\".format(\n",
    "#         ' + '.join( interactions_child_over+interactions_rbg_over+interactions_rbg_between))\n",
    "#             , df.query(\"(Age_me<45) \\\n",
    "#                                       & (ZIMPOM_2011>0) &(ZIMPOM_2014>0) \").sample(frac = 1))\n",
    "# fit = m.fit()\n",
    "# fit.conf_int()\n",
    "# summary = fit.summary(alpha = 0.01); print(summary)"
   ]
  },
  {
   "cell_type": "code",
   "execution_count": null,
   "metadata": {},
   "outputs": [],
   "source": [
    "### Do not modify put in article !\n",
    "m = sm.OLS.from_formula(\"(Delta_ZIMPOM)~   {}  \".format(\n",
    "        ' + '.join(between_threshold_for_child_rank+children_number[:]+ over_threshold_for_child_rank+\n",
    "                  interaction_child_between_threshold[:]+interaction_child_over_threshold[:]))\n",
    "                                                                                        , df)\n",
    "fit = m.fit()\n",
    "summary = fit.summary(); print(summary)"
   ]
  },
  {
   "cell_type": "code",
   "execution_count": null,
   "metadata": {},
   "outputs": [],
   "source": [
    "m = sm.RLM.from_formula(\"(Delta_ZIMPOM)~   {}+  \"\n",
    "    \" (Delta_rbg:child_1):Between_threshold_1_child - Delta_rbg:child_1:Between_threshold_1_child[False] \".format(\n",
    "        ' + '.join(children_number[:]+ over_threshold_for_child_rank+\n",
    "                  interaction_child_over_threshold[:]))\n",
    "                                                                                        , df)\n",
    "fit = m.fit()\n",
    "summary = fit.summary(); print(summary)"
   ]
  },
  {
   "cell_type": "code",
   "execution_count": null,
   "metadata": {},
   "outputs": [],
   "source": [
    "from patsy import ModelDesc"
   ]
  },
  {
   "cell_type": "code",
   "execution_count": null,
   "metadata": {},
   "outputs": [],
   "source": [
    "ModelDesc.from_formula(\"y~a.b\")"
   ]
  },
  {
   "cell_type": "code",
   "execution_count": null,
   "metadata": {},
   "outputs": [],
   "source": [
    "# m = sm.RLM.from_formula(\"(Delta_ZIMPOM)~   {}+  \"\n",
    "#     \" (child_1):Between_threshold_1_child+\"\n",
    "#    \" Delta_rbg:child_2/Between_threshold_2_child+Delta_rbg/child_3/Between_threshold_3_child +Delta_rbg/child_4/Between_threshold_4_child \".format(\n",
    "#         ' + '.join(between_threshold_for_child_rank+children_number[:]+ over_threshold_for_child_rank+\n",
    "#                   interaction_child_between_threshold[:]+interaction_child_over_threshold[:]))\n",
    "#                                                                                         , df.sample(frac = 0.5))\n",
    "# fit = m.fit()\n",
    "# summary = fit.summary(); print(summary)"
   ]
  },
  {
   "cell_type": "code",
   "execution_count": null,
   "metadata": {},
   "outputs": [],
   "source": [
    "df.Over_threshold_1_child = df.Over_threshold_1_child.astype(\"bool\")"
   ]
  },
  {
   "cell_type": "code",
   "execution_count": null,
   "metadata": {
    "scrolled": false
   },
   "outputs": [],
   "source": [
    "df[\"Interactions_rbg_child1_between\"] = df.eval(\"Delta_rbg*child_1*Between_threshold_1_child\")\n",
    "df[\"Interactions_rbg_child2_between\"] = df.eval(\"Delta_rbg*child_2*Between_threshold_2_child\")\n",
    "df[\"Interactions_rbg_child3_between\"] = df.eval(\"Delta_rbg*child_3*Between_threshold_3_child\")\n",
    "df[\"Interactions_rbg_child4_between\"] = df.eval(\"Delta_rbg*child_4*Between_threshold_4_child\")\n",
    "df[\"Interactions_rbg_child5_between\"] = df.eval(\"Delta_rbg*child_5*Between_threshold_5_child\")\n",
    "df[\"Interactions_rbg_child6_between\"] = df.eval(\"Delta_rbg*child_6*Between_threshold_6_child\")\n",
    "\n",
    "\n",
    "\n",
    "df[\"Interactions_rbg_child1_over\"] = df.eval(\"Delta_rbg*child_1*Over_threshold_1_child\")\n",
    "df[\"Interactions_rbg_child2_over\"] = df.eval(\"Delta_rbg*child_2*Over_threshold_2_child\")\n",
    "df[\"Interactions_rbg_child3_over\"] = df.eval(\"Delta_rbg*child_3*Over_threshold_3_child\")\n",
    "df[\"Interactions_rbg_child4_over\"] = df.eval(\"Delta_rbg*child_4*Over_threshold_4_child\")\n",
    "df[\"Interactions_rbg_child5_over\"] = df.eval(\"Delta_rbg*child_5*Over_threshold_5_child\")\n",
    "df[\"Interactions_rbg_child6_over\"] = df.eval(\"Delta_rbg*child_6*Over_threshold_6_child\")\n",
    "\n",
    "\n",
    "df[\"Interactions_child1_over\"] = (df[\"child_1\"]* df[\"Over_threshold_1_child\"]).astype(\"int\")\n",
    "df[\"Interactions_child2_over\"] = (df[\"child_2\"]* df[\"Over_threshold_2_child\"]).astype(\"int\")\n",
    "df[\"Interactions_child3_over\"] = (df[\"child_3\"]* df[\"Over_threshold_3_child\"]).astype(\"int\")\n",
    "df[\"Interactions_child4_over\"] = (df[\"child_4\"]* df[\"Over_threshold_4_child\"]).astype(\"int\")\n",
    "df[\"Interactions_child5_over\"] = (df[\"child_5\"]* df[\"Over_threshold_5_child\"]).astype(\"int\")\n",
    "df[\"Interactions_child6_over\"] = (df[\"child_6\"]* df[\"Over_threshold_6_child\"]).astype(\"int\")\n"
   ]
  },
  {
   "cell_type": "code",
   "execution_count": null,
   "metadata": {},
   "outputs": [],
   "source": [
    "interactions_rbg_between = [\"Interactions_rbg_child{}_between\".format(child) for child in range(1,7)]\n",
    "interactions_rbg_over = [\"Interactions_rbg_child{}_over\".format(child) for child in range(1,7)]\n",
    "interactions_child_over = [\"Interactions_child{}_over\".format(child) for child in range(1,7)]"
   ]
  },
  {
   "cell_type": "code",
   "execution_count": null,
   "metadata": {},
   "outputs": [],
   "source": [
    "m = sm.OLS.from_formula(\"(Delta_ZIMPOM)~   {}  \".format(\n",
    "        ' + '.join(between_threshold_for_child_rank+children_number[:]+ over_threshold_for_child_rank+\n",
    "                  interaction_child_between_threshold[:]+interaction_child_over_threshold[:]))\n",
    "                                                                                        , df)\n",
    "fit = m.fit()\n",
    "summary = fit.summary(); print(summary)"
   ]
  },
  {
   "cell_type": "code",
   "execution_count": null,
   "metadata": {},
   "outputs": [],
   "source": [
    "df[\"Delta_Rbg_times_not_touched_reform\"] = df.Not_touched_by_reform * df.Delta_rbg"
   ]
  },
  {
   "cell_type": "code",
   "execution_count": null,
   "metadata": {},
   "outputs": [],
   "source": [
    "df[\"Delta_ZIMPOM\"] = df.ZIMPOM_DECL_2014 - df.ZIMPOM_2011"
   ]
  },
  {
   "cell_type": "code",
   "execution_count": null,
   "metadata": {},
   "outputs": [],
   "source": [
    "### To_keep article !!\n",
    "m = sm.RLM.from_formula(\"(Delta_ZIMPOM)~   {} - 1 + Not_touched_by_reform + Delta_Rbg_times_not_touched_reform\".format(\n",
    "        ' + '.join( interactions_child_over+interactions_rbg_over+interactions_rbg_between))\n",
    "                                                                                        , df.query(\"(200000>Rbg_2011>50000)|(200000>Rbg_2014>50000)\").sample(frac = 1))\n",
    "fit = m.fit()\n",
    "fit.conf_int()\n",
    "summary = fit.summary(alpha = 0.01); print(summary)"
   ]
  },
  {
   "cell_type": "code",
   "execution_count": null,
   "metadata": {},
   "outputs": [],
   "source": [
    "### To_keep article !!\n",
    "m = sm.RLM.from_formula(\"(Delta_ZIMPOM)~   {} - 1 + Not_touched_by_reform + Delta_Rbg_times_not_touched_reform\".format(\n",
    "        ' + '.join( interactions_child_over+interactions_rbg_over+interactions_rbg_between))\n",
    "                                                                                        , df.query(\"(200000>Rbg_2011>50000)&(200000>Rbg_2014>50000)\").sample(frac = 1))\n",
    "fit = m.fit()\n",
    "fit.conf_int()\n",
    "summary = fit.summary(alpha = 0.01); print(summary)"
   ]
  },
  {
   "cell_type": "code",
   "execution_count": null,
   "metadata": {},
   "outputs": [],
   "source": [
    "print((df.ZIMPOM_2014>=0).value_counts() )\n",
    "print((df.ZIMPOM_2011>=0).value_counts()   )"
   ]
  },
  {
   "cell_type": "code",
   "execution_count": null,
   "metadata": {},
   "outputs": [],
   "source": [
    "df[\"Delta_Rbg_times_not_touched_reform\"] = df.Not_touched_by_reform * df.Delta_rbg"
   ]
  },
  {
   "cell_type": "code",
   "execution_count": null,
   "metadata": {},
   "outputs": [],
   "source": [
    "### To_keep article !!\n",
    "m = sm.OLS.from_formula(\"(Delta_ZIMPOM)~   {} - 1 + Not_touched_by_reform + Delta_Rbg_times_not_touched_reform\".format(\n",
    "        ' + '.join( interactions_child_over+interactions_rbg_over+interactions_rbg_between))\n",
    "                                                                                        , df.query(\"Stays_in_same_treatment\").sample(frac = 1))\n",
    "fit = m.fit()\n",
    "fit.conf_int()\n",
    "summary = fit.summary(alpha = 0.01); print(summary)"
   ]
  },
  {
   "cell_type": "code",
   "execution_count": null,
   "metadata": {},
   "outputs": [],
   "source": [
    "### To_keep article !!\n",
    "m = sm.OLS.from_formula(\"(Delta_ZIMPOM)~   {} - 1 + Not_touched_by_reform + Delta_Rbg_times_not_touched_reform\".format(\n",
    "        ' + '.join( interactions_child_over+interactions_rbg_over+interactions_rbg_between))\n",
    "                                                                                        , df.sample(frac = 1))\n",
    "fit = m.fit()\n",
    "fit.conf_int()\n",
    "summary = fit.summary(alpha = 0.01); print(summary)"
   ]
  },
  {
   "cell_type": "code",
   "execution_count": null,
   "metadata": {
    "scrolled": false
   },
   "outputs": [],
   "source": [
    "### To_keep article !!\n",
    "m = sm.RLM.from_formula(\"(Delta_ZIMPOM)~   {} - 1 + Not_touched_by_reform + Delta_Rbg_times_not_touched_reform\".format(\n",
    "        ' + '.join(interactions_child_over[:-1]\n",
    "                   +interactions_rbg_over[:-1]\n",
    "                   +interactions_rbg_between[:-1]))\n",
    "                                                                                        , df.sample(frac = 1))\n",
    "fit = m.fit()\n",
    "fit.conf_int()\n",
    "summary = fit.summary(alpha = 0.01); print(summary)"
   ]
  },
  {
   "cell_type": "code",
   "execution_count": null,
   "metadata": {
    "scrolled": false
   },
   "outputs": [],
   "source": [
    "### only those hom pays tax\n",
    "m = sm.OLS.from_formula(\"(Delta_ZIMPOM)~   {} - 1 + Not_touched_by_reform + Delta_Rbg_times_not_touched_reform\".format(\n",
    "        ' + '.join( interactions_child_over+interactions_rbg_over+interactions_rbg_between))\n",
    "                                                                                        , df.query(\"(ZIMPOM_2014>0) & (ZIMPOM_2011>0)\").sample(frac = 1))\n",
    "fit = m.fit()\n",
    "fit.conf_int()\n",
    "summary = fit.summary(alpha = 0.01); print(summary)"
   ]
  },
  {
   "cell_type": "code",
   "execution_count": null,
   "metadata": {},
   "outputs": [],
   "source": [
    "### only those hom pays tax\n",
    "m = sm.OLS.from_formula(\"(Delta_ZIMPOM)~   {} - 1 + Not_touched_by_reform + Delta_Rbg_times_not_touched_reform\".format(\n",
    "        ' + '.join( interactions_child_over+interactions_rbg_over+interactions_rbg_between))\n",
    "                                                                                        , df.query(\"(ZIMPOM_2014>0) & (ZIMPOM_2011>0)\").sample(frac = 1))\n",
    "fit = m.fit()\n",
    "fit.conf_int()\n",
    "summary = fit.summary(alpha = 0.01); print(summary)"
   ]
  },
  {
   "cell_type": "code",
   "execution_count": null,
   "metadata": {},
   "outputs": [],
   "source": [
    "\n",
    "m = sm.OLS.from_formula(\"(Delta_ZIMPOM)~   {} - 1\".format(\n",
    "        ' + '.join( interactions_child_over+interactions_rbg_over+interactions_rbg_between))\n",
    "                                                                                        , df.sample(frac = 1))\n",
    "fit = m.fit()\n",
    "summary = fit.summary(); print(summary)"
   ]
  },
  {
   "cell_type": "code",
   "execution_count": null,
   "metadata": {},
   "outputs": [],
   "source": [
    "\n",
    "m = sm.OLS.from_formula(\"(Delta_ZIMPOM)~   {} - 1\".format(\n",
    "        ' + '.join( interactions_child_over+interactions_rbg_over+interactions_rbg_between))\n",
    "                                                                                        , df.sample(frac = 1))\n",
    "fit = m.fit()\n",
    "summary = fit.summary(); print(summary)"
   ]
  },
  {
   "cell_type": "code",
   "execution_count": null,
   "metadata": {},
   "outputs": [],
   "source": [
    "import numpy as np"
   ]
  },
  {
   "cell_type": "code",
   "execution_count": null,
   "metadata": {},
   "outputs": [],
   "source": [
    "np.sqrt(145)"
   ]
  },
  {
   "cell_type": "code",
   "execution_count": null,
   "metadata": {},
   "outputs": [],
   "source": [
    "30*0.8+14*0.2"
   ]
  },
  {
   "cell_type": "code",
   "execution_count": null,
   "metadata": {},
   "outputs": [],
   "source": [
    "0.37*0.14+(1-0.38)*0.3"
   ]
  },
  {
   "cell_type": "code",
   "execution_count": null,
   "metadata": {},
   "outputs": [],
   "source": [
    "17*30/14"
   ]
  },
  {
   "cell_type": "code",
   "execution_count": null,
   "metadata": {},
   "outputs": [],
   "source": [
    "m = sm.RLM.from_formula(\"(Delta_ZIMPOM)~   {}+  \"\n",
    "    \" (child_1):Between_threshold_1_child+Delta_rbg/child_2/Between_threshold_2_child+Delta_rbg/child_3/Between_threshold_3_child +Delta_rbg/child_4/Between_threshold_4_child \".format(\n",
    "        ' + '.join(between_threshold_for_child_rank+children_number[:]+ over_threshold_for_child_rank+\n",
    "                  interaction_child_between_threshold[:]+interaction_child_over_threshold[:]))\n",
    "                                                                                        , df.sample(frac = 0.5))\n",
    "fit = m.fit()\n",
    "summary = fit.summary(); print(summary)"
   ]
  },
  {
   "cell_type": "code",
   "execution_count": null,
   "metadata": {},
   "outputs": [],
   "source": [
    "any_rank_interation_between = list()\n",
    "for threshold in between_threshold_for_child_rank:\n",
    "    any_rank_interation_between +=  [\"{}:{}\".format(child,threshold) for child in children_number]\n",
    "any_rank_interation_over = list()\n",
    "for threshold in over_threshold_for_child_rank:\n",
    "    any_rank_interation_over +=  [\"{}:{}\".format(child,threshold) for child in children_number]"
   ]
  },
  {
   "cell_type": "markdown",
   "metadata": {},
   "source": [
    "###### pOTENTIAL ROBUSTNESS CHECK"
   ]
  },
  {
   "cell_type": "code",
   "execution_count": null,
   "metadata": {},
   "outputs": [],
   "source": [
    "m = sm.RLM.from_formula(\"(Delta_rbg)~   {} + Between_threshold_3_child:child_4\".format(\n",
    "        ' + '.join(between_threshold_for_child_rank+children_number+ over_threshold_for_child_rank+\n",
    "                  interaction_child_between_threshold+interaction_child_over_threshold+ any_rank_interation_between+any_rank_interation_over ))\n",
    "                                                                                        , df)\n",
    "fit = m.fit()\n",
    "#summary = fit.summary(); print(summary)"
   ]
  },
  {
   "cell_type": "code",
   "execution_count": null,
   "metadata": {},
   "outputs": [],
   "source": [
    "df[\"Birth\"] = (df.NBPAC_2011 < df.NBPAC_2014).astype('int')\n",
    "(df.NBPAC_2011 < df.NBPAC_2014).value_counts(normalize = False)"
   ]
  },
  {
   "cell_type": "markdown",
   "metadata": {},
   "source": [
    "### Add control variables to triple diff"
   ]
  },
  {
   "cell_type": "code",
   "execution_count": null,
   "metadata": {},
   "outputs": [],
   "source": [
    "# Age pere, Age mere, localité, Taille appartement (CSDEP_2011), \n",
    "# date d'entrée dans le local (fisc_l Datepers), nombre de pièces (fisc_l, NBPIEC), OCC code occupation du local\n",
    "#Education"
   ]
  },
  {
   "cell_type": "code",
   "execution_count": null,
   "metadata": {},
   "outputs": [],
   "source": [
    "fisc_logement = load_fisc_l_by_year(2014)"
   ]
  },
  {
   "cell_type": "code",
   "execution_count": null,
   "metadata": {},
   "outputs": [],
   "source": [
    "fisc_logement.OCC.value_counts(dropna=False)"
   ]
  },
  {
   "cell_type": "code",
   "execution_count": null,
   "metadata": {},
   "outputs": [],
   "source": [
    "fisc_logement[\"Proprietaire\"] = fisc_logement.OCC == \"P\""
   ]
  },
  {
   "cell_type": "code",
   "execution_count": null,
   "metadata": {},
   "outputs": [],
   "source": [
    "df[\"ID_FISC_LOG_DIFF\"] = df.ID_FISC_LOG_DIFF_2014"
   ]
  },
  {
   "cell_type": "code",
   "execution_count": null,
   "metadata": {},
   "outputs": [],
   "source": [
    "df_log = pd.merge(df, fisc_logement, on = \"ID_FISC_LOG_DIFF\")"
   ]
  },
  {
   "cell_type": "code",
   "execution_count": null,
   "metadata": {},
   "outputs": [],
   "source": [
    "df_log[\"Anciennete_dans_logement\"] = 2015 - df_log.DATEPERS.astype(\"int64\")\n",
    "df_log[\"Rbg_2011_squared\"] = df_log.Rbg_2011 **2"
   ]
  },
  {
   "cell_type": "code",
   "execution_count": null,
   "metadata": {},
   "outputs": [],
   "source": [
    "#df_log.CSDEP_2014.value_counts(dropna = False)"
   ]
  },
  {
   "cell_type": "code",
   "execution_count": null,
   "metadata": {},
   "outputs": [],
   "source": [
    "df_log[\"CSDEP\"] = df_log.CSDEP_2014.replace({\"2A\": \"40\", \"2B\":\"40\"}).astype(\"int\")"
   ]
  },
  {
   "cell_type": "code",
   "execution_count": null,
   "metadata": {},
   "outputs": [],
   "source": [
    "df_log.shape"
   ]
  },
  {
   "cell_type": "code",
   "execution_count": null,
   "metadata": {},
   "outputs": [],
   "source": [
    "df_log[\"Age_wo_squared\"] = df_log.Age_wo **2\n",
    "df_log[\"Age_me_squared\"] = df_log.Age_me ** 2 "
   ]
  },
  {
   "cell_type": "code",
   "execution_count": null,
   "metadata": {},
   "outputs": [],
   "source": [
    "(( merge.ZTSAM_2011*0.9) + merge.ZRAGM_2011 + merge.ZRACM_2011 + merge.ZRNCM_2011 + merge.ZFONM_2011 + merge.ZPERM_2011*0.9\n",
    "                    + merge.ZRICM_2011)"
   ]
  },
  {
   "cell_type": "code",
   "execution_count": null,
   "metadata": {},
   "outputs": [],
   "source": [
    "only_wage_income = df_log[[\"ZRAGM_2011\", \"ZRACM_2011\",\"ZRNCM_2011\", \"ZFONM_2011\", \"ZPERM_2011\", \"ZRICM_2011\",\n",
    "                                             \"ZRAGM_2014\", \"ZRACM_2014\",\"ZRNCM_2014\", \"ZFONM_2014\", \"ZPERM_2014\", \"ZRICM_2014\"]].sum(axis = 1) == 0"
   ]
  },
  {
   "cell_type": "code",
   "execution_count": null,
   "metadata": {},
   "outputs": [],
   "source": [
    "only_wage_or_retirement_income = df_log[[\"ZSALM\",\"ZRAGM_2011\", \"ZRACM_2011\",\"ZRNCM_2011\", \"ZFONM_2011\", \"ZRICM_2011\",\n",
    "                                             \"ZRAGM_2014\", \"ZRACM_2014\",\"ZRNCM_2014\", \"ZFONM_2014\", \"ZRICM_2014\"]].sum(axis = 1) == 0"
   ]
  },
  {
   "cell_type": "code",
   "execution_count": null,
   "metadata": {},
   "outputs": [],
   "source": [
    "only_liberals_income = df_log[[\"ZRAGM_2011\", \"ZRACM_2011\",\"ZSALM_2011\", \"ZFONM_2011\", \"ZPERM_2011\", \"ZRICM_2011\",\n",
    "                                             \"ZRAGM_2014\", \"ZRACM_2014\",\"ZSALM_2014\", \"ZFONM_2014\", \"ZPERM_2014\", \"ZRICM_2014\"]].sum(axis = 1) == 0"
   ]
  },
  {
   "cell_type": "code",
   "execution_count": null,
   "metadata": {},
   "outputs": [],
   "source": [
    "only_wage_income.shape"
   ]
  },
  {
   "cell_type": "code",
   "execution_count": null,
   "metadata": {},
   "outputs": [],
   "source": [
    "df_log[\"Delta_ZRNCM\"] =  df_log.ZRNCM_2011- df.ZRNCM_2011"
   ]
  },
  {
   "cell_type": "code",
   "execution_count": null,
   "metadata": {},
   "outputs": [],
   "source": []
  },
  {
   "cell_type": "code",
   "execution_count": null,
   "metadata": {},
   "outputs": [],
   "source": [
    "\n",
    "m = sm.RLM .from_formula(\"(Delta_Rbg)~   {}  \".format(\n",
    "        ' + '.join(between_threshold_for_child_rank+children_number[:-2]+ over_threshold_for_child_rank+\n",
    "                  interaction_child_between_threshold[:-2]+interaction_child_over_threshold[:-2]))\n",
    "        + \"+ Proprietaire +CSDEP +Age_Elder_child+Age_Youngest_child\"\n",
    "                                            , df_log.query(\"(NBPAC_2011<5)&(ZRNCM_2011>0)\").sample(frac = 1))\n",
    "fit = m.fit()\n",
    "summary = fit.summary(); print(summary)                                                                                                                                                                                                                                                                                                 "
   ]
  },
  {
   "cell_type": "code",
   "execution_count": null,
   "metadata": {},
   "outputs": [],
   "source": [
    "m = sm.RLM.from_formula(\"(Delta_ZIMPOM)~   {} - 1 + Not_touched_by_reform + Delta_Rbg_times_not_touched_reform\".format(\n",
    "        ' + '.join( interactions_child_over+interactions_rbg_over+interactions_rbg_between))\n",
    "            , df.query(\"(Age_me<45) \\\n",
    "                                      (NBPAC_2011<5)&(ZRNCM_2011>0)\").sample(frac = 1))\n",
    "fit = m.fit()\n",
    "fit.conf_int()\n",
    "summary = fit.summary(alpha = 0.01); print(summary)"
   ]
  },
  {
   "cell_type": "code",
   "execution_count": null,
   "metadata": {},
   "outputs": [],
   "source": [
    "\n",
    "m = sm.RLM .from_formula(\"(Delta_ZIMPOM)~   {}  \".format(\n",
    "        ' + '.join(between_threshold_for_child_rank+children_number[:-2]+ over_threshold_for_child_rank+\n",
    "                  interaction_child_between_threshold[:-2]+interaction_child_over_threshold[:-2]))\n",
    "                                            , df_log[only_wage_or_retirement_income].query(\"NBPAC_2011<5\").sample(frac = 1))\n",
    "fit = m.fit()\n",
    "summary = fit.summary(); print(summary)                                                                                                                                                                                                                                                                                                 "
   ]
  },
  {
   "cell_type": "code",
   "execution_count": null,
   "metadata": {},
   "outputs": [],
   "source": [
    "m = sm.RLM .from_formula(\"(Delta_rbg)~   {}  \".format(\n",
    "        ' + '.join(between_threshold_for_child_rank+children_number[:]+ over_threshold_for_child_rank+\n",
    "                  interaction_child_between_threshold[:]+interaction_child_over_threshold[:]))\n",
    "        + \"+ Proprietaire +CSDEP + Age_wo + Age_me+ Age_wo_squared + Age_me_squared\"\n",
    "                , df_log.query(\"(Age_me<55)& ((NBPAC_2011!=0 ))\").sample(frac = 1))\n",
    "fit = m.fit()\n",
    "summary = fit.summary(); print(summary)                                                                                                                                                                                                                                                                                                 "
   ]
  },
  {
   "cell_type": "code",
   "execution_count": null,
   "metadata": {},
   "outputs": [],
   "source": [
    "df_log[\"Mean_age_y_e_children\"] = (df_log.Age_Elder_child+df.Age_Youngest_child)/2"
   ]
  },
  {
   "cell_type": "code",
   "execution_count": null,
   "metadata": {},
   "outputs": [],
   "source": [
    "below_threshold_for_child_rank = [\"Below_thresholds_{}_child_rbg_2014\".format(nb_child) for nb_child in range(1,nb_enf_max_for_annalysis+1)]\n",
    "interaction_child_below_thresholds  = [\"{}:{}\".format(child,interaction) for child, interaction in zip(children_number, below_threshold_for_child_rank)]"
   ]
  },
  {
   "cell_type": "code",
   "execution_count": null,
   "metadata": {},
   "outputs": [],
   "source": []
  },
  {
   "cell_type": "code",
   "execution_count": null,
   "metadata": {},
   "outputs": [],
   "source": [
    "\n",
    "for nb_enf in range(1,7):\n",
    "    df_log[\"Below_thresholds_{}_child_rbg_2014\".format(nb_enf)] = np.zeros(df_log.shape[0])\n",
    "for nb_enf in range(1,7):\n",
    "    df_log[\"Below_thresholds_{}_child_rbg_2014\".format(nb_enf)\n",
    "          ] +=((df_log.Rbg_2011<  threshold_byr_rbg[\"2014\"].iloc[nb_enf-1])).astype(\"float\")\n",
    "\n",
    "    \n"
   ]
  },
  {
   "cell_type": "code",
   "execution_count": null,
   "metadata": {},
   "outputs": [],
   "source": [
    "df_log[\"Has_child\"] = (df_log.NBPAC_2011>0).astype(\"int\")\n",
    "df_log.Has_child.value_counts(dropna=False)"
   ]
  },
  {
   "cell_type": "code",
   "execution_count": null,
   "metadata": {},
   "outputs": [],
   "source": [
    "df_log[\"Touched_by_reform_bool\"] = ~ df_log.Not_touched_by_reform_bool.astype(\"bool\")"
   ]
  },
  {
   "cell_type": "code",
   "execution_count": null,
   "metadata": {},
   "outputs": [],
   "source": [
    "df_log[\"Not_touched_by_reform_bool\"] = df_log[\"Not_touched_by_reform\"].astype(\"bool\")"
   ]
  },
  {
   "cell_type": "code",
   "execution_count": null,
   "metadata": {},
   "outputs": [],
   "source": [
    "(df_log.Below_thresholds_1_child_rbg_2014 == df_log.child_1).value_counts()"
   ]
  },
  {
   "cell_type": "code",
   "execution_count": null,
   "metadata": {},
   "outputs": [],
   "source": [
    "df_not_touched = df_log.query(\"Not_touched_by_reform_bool\")"
   ]
  },
  {
   "cell_type": "code",
   "execution_count": null,
   "metadata": {},
   "outputs": [],
   "source": [
    "df_not_touched.query(\"Over_threshold_5_child\").NBPAC_2011.value_counts()"
   ]
  },
  {
   "cell_type": "code",
   "execution_count": null,
   "metadata": {},
   "outputs": [],
   "source": [
    "interaction_child_below_thresholds  = [\"child_2:Below_thresholds_5_child_rbg_2014\"]\n",
    "\n",
    "m = sm.OLS.from_formula(\"(Delta_rbg)~   {}  \".format(\n",
    "        ' + '.join(children_number+below_threshold_for_child_rank))\n",
    "        + \"+ Proprietaire +CSDEP + Age_wo + Age_me+ Age_wo_squared + Age_me_squared+YSALI_wo_2011\"\n",
    "        + \"+Age_Elder_child:Has_child + Age_Youngest_child:Has_child+Mean_age_y_e_children:Has_child\"\n",
    "        #+\"+Age_Elder_child:child_1+Age_Elder_child:child_2+Age_Elder_child:child_3+Age_Elder_child:child_4+Age_Elder_child:child_5\"\n",
    "        #+\"+Age_Youngest_child:child_1+Age_Youngest_child:child_2+Age_Youngest_child:child_3+Age_Youngest_child:child_4+Age_Youngest_child:child_5\"\n",
    "                                                                                        , df_log.query(\"Not_touched_by_reform_bool\"))\n",
    "fit = m.fit()\n",
    "summary = fit.summary(); print(summary)"
   ]
  },
  {
   "cell_type": "code",
   "execution_count": null,
   "metadata": {},
   "outputs": [],
   "source": [
    "m = sm.OLS.from_formula(\"(Delta_rbg)~   {}  \".format(\n",
    "        ' + '.join(between_threshold_for_child_rank+children_number+ over_threshold_for_child_rank+\n",
    "                  interaction_child_between_threshold+interaction_child_over_threshold)) , df)\n",
    "fit = m.fit()\n",
    "summary = fit.summary(); print(summary)"
   ]
  },
  {
   "cell_type": "code",
   "execution_count": null,
   "metadata": {},
   "outputs": [],
   "source": [
    "df_log[\"CNE\"] = df_log.CNE.astype(\"str\")"
   ]
  },
  {
   "cell_type": "code",
   "execution_count": null,
   "metadata": {},
   "outputs": [],
   "source": [
    "df_log.shape"
   ]
  },
  {
   "cell_type": "code",
   "execution_count": null,
   "metadata": {
    "scrolled": false
   },
   "outputs": [],
   "source": [
    "m = sm.OLS.from_formula(\"(Delta_rbg)~   {} + \".format(\n",
    "        ' + '.join(between_threshold_for_child_rank+children_number+ over_threshold_for_child_rank+\n",
    "                  interaction_child_between_threshold+interaction_child_over_threshold))\n",
    "        + \"AGERF_2011 +Anciennete_dans_logement + Rbg_2011_squared   \"\n",
    "        + \"+YSALI_wo_2011+YSALI_me_2011 \" + \"+Age_Youngest_child+Rbg_splines\"\n",
    "#        + \"+ Age_Youngest_child:child_1+ Age_Youngest_child:child_2 + Age_Youngest_child:child_3++ Age_Youngest_child:child_4+ Age_Youngest_child:child_5\"# CSDEP_2011+CHAUFF + CNE\n",
    "#        +  \"+ Age_Elder_child:child_1+ Age_Elder_child:child_2 + Age_Elder_child:child_3++ Age_Elder_child:child_4+ Age_Elder_child:child_5\"                                                                        \n",
    "                        , df_log)\n",
    "fit = m.fit()\n",
    "summary = fit.summary(); print(summary)"
   ]
  },
  {
   "cell_type": "markdown",
   "metadata": {},
   "source": [
    "### Tres bon robustness check ! \n",
    "\n",
    "Mais on ne devrait rien avoir de significatif..."
   ]
  },
  {
   "cell_type": "code",
   "execution_count": null,
   "metadata": {
    "scrolled": false
   },
   "outputs": [],
   "source": [
    "m = sm.OLS.from_formula(\"(counterfactual_delta_rbg)~   {} + \".format(\n",
    "        ' + '.join(between_threshold_for_child_rank+children_number+ over_threshold_for_child_rank+\n",
    "                  interaction_child_between_threshold+interaction_child_over_threshold))\n",
    "        + \"AGERF_2011 +Anciennete_dans_logement + Rbg_2011_squared   \"\n",
    "        + \"+YSALI_wo_2011+YSALI_me_2011 \" + \"+Age_Youngest_child\"\n",
    "#        + \"+ Age_Youngest_child:child_1+ Age_Youngest_child:child_2 + Age_Youngest_child:child_3++ Age_Youngest_child:child_4+ Age_Youngest_child:child_5\"# CSDEP_2011+CHAUFF + CNE\n",
    "#        +  \"+ Age_Elder_child:child_1+ Age_Elder_child:child_2 + Age_Elder_child:child_3++ Age_Elder_child:child_4+ Age_Elder_child:child_5\"                                                                        \n",
    "                        , df_log.sample(frac = 0.5))\n",
    "fit = m.fit()\n",
    "summary = fit.summary(); print(summary)"
   ]
  },
  {
   "cell_type": "code",
   "execution_count": null,
   "metadata": {},
   "outputs": [],
   "source": []
  },
  {
   "cell_type": "code",
   "execution_count": null,
   "metadata": {},
   "outputs": [],
   "source": [
    "df_log_not_dropped_by_statsmodels = df_log.drop(m.data.missing_row_idx)"
   ]
  },
  {
   "cell_type": "code",
   "execution_count": null,
   "metadata": {},
   "outputs": [],
   "source": [
    "df_log_not_dropped_by_statsmodels.shape"
   ]
  },
  {
   "cell_type": "code",
   "execution_count": null,
   "metadata": {},
   "outputs": [],
   "source": [
    "fit.fittedvalues.shape"
   ]
  },
  {
   "cell_type": "code",
   "execution_count": null,
   "metadata": {},
   "outputs": [],
   "source": [
    "fit.resid.shape"
   ]
  },
  {
   "cell_type": "code",
   "execution_count": null,
   "metadata": {},
   "outputs": [],
   "source": [
    "print np.mean(fit.resid * df_log_not_dropped_by_statsmodels.child_1*df_log_not_dropped_by_statsmodels.Over_threshold_1_child  )\n",
    "print np.mean(fit.resid * df_log_not_dropped_by_statsmodels.child_2*df_log_not_dropped_by_statsmodels.Over_threshold_2_child  )\n",
    "print np.mean(fit.resid * df_log_not_dropped_by_statsmodels.child_3*df_log_not_dropped_by_statsmodels.Over_threshold_3_child  )\n",
    "print np.mean(fit.resid * df_log_not_dropped_by_statsmodels.child_4*df_log_not_dropped_by_statsmodels.Over_threshold_4_child  )\n",
    "print np.mean(fit.resid * df_log_not_dropped_by_statsmodels.child_5*df_log_not_dropped_by_statsmodels.Over_threshold_5_child  )\n",
    "print np.mean(fit.resid * df_log_not_dropped_by_statsmodels.child_6*df_log_not_dropped_by_statsmodels.Over_threshold_6_child  )\n",
    "print np.mean(fit.resid * df_log_not_dropped_by_statsmodels.child_6*df_log_not_dropped_by_statsmodels.Over_threshold_6_child  )\n",
    "print np.mean(fit.resid * df_log_not_dropped_by_statsmodels.child_1*df_log_not_dropped_by_statsmodels.Between_threshold_1_child  )\n",
    "print np.mean(fit.resid * df_log_not_dropped_by_statsmodels.child_2*df_log_not_dropped_by_statsmodels.Between_threshold_2_child  )\n",
    "print np.mean(fit.resid * df_log_not_dropped_by_statsmodels.child_3*df_log_not_dropped_by_statsmodels.Between_threshold_3_child  )\n",
    "print np.mean(fit.resid * df_log_not_dropped_by_statsmodels.child_4*df_log_not_dropped_by_statsmodels.Between_threshold_4_child  )\n",
    "print np.mean(fit.resid * df_log_not_dropped_by_statsmodels.child_5*df_log_not_dropped_by_statsmodels.Between_threshold_5_child  )\n",
    "print np.mean(fit.resid * df_log_not_dropped_by_statsmodels.child_6*df_log_not_dropped_by_statsmodels.Between_threshold_6_child  )\n"
   ]
  },
  {
   "cell_type": "code",
   "execution_count": null,
   "metadata": {},
   "outputs": [],
   "source": [
    "df_log.child_1.shape"
   ]
  },
  {
   "cell_type": "code",
   "execution_count": null,
   "metadata": {},
   "outputs": [],
   "source": [
    "fit.resid.shape"
   ]
  },
  {
   "cell_type": "code",
   "execution_count": null,
   "metadata": {},
   "outputs": [],
   "source": [
    "from scipy import stats"
   ]
  },
  {
   "cell_type": "code",
   "execution_count": null,
   "metadata": {},
   "outputs": [],
   "source": [
    "print stats.ttest_1samp((fit.resid * df_log_not_dropped_by_statsmodels.child_1*df_log_not_dropped_by_statsmodels.Over_threshold_1_child) , 0)\n",
    "print stats.ttest_1samp((fit.resid * df_log_not_dropped_by_statsmodels.child_2*df_log_not_dropped_by_statsmodels.Over_threshold_2_child) , 0)\n",
    "print stats.ttest_1samp((fit.resid * df_log_not_dropped_by_statsmodels.child_3*df_log_not_dropped_by_statsmodels.Over_threshold_3_child) , 0)\n",
    "print stats.ttest_1samp((fit.resid * df_log_not_dropped_by_statsmodels.child_4*df_log_not_dropped_by_statsmodels.Over_threshold_4_child) , 0)\n",
    "print stats.ttest_1samp((fit.resid * df_log_not_dropped_by_statsmodels.child_5*df_log_not_dropped_by_statsmodels.Over_threshold_5_child) , 0)\n",
    "print stats.ttest_1samp((fit.resid * df_log_not_dropped_by_statsmodels.child_6*df_log_not_dropped_by_statsmodels.Over_threshold_6_child) , 0)\n",
    "print \"\\n\"\n",
    "print stats.ttest_1samp((fit.resid * df_log_not_dropped_by_statsmodels.child_1*df_log_not_dropped_by_statsmodels.Between_threshold_1_child) , 0)\n",
    "print stats.ttest_1samp((fit.resid * df_log_not_dropped_by_statsmodels.child_2*df_log_not_dropped_by_statsmodels.Between_threshold_2_child) , 0)\n",
    "print stats.ttest_1samp((fit.resid * df_log_not_dropped_by_statsmodels.child_3*df_log_not_dropped_by_statsmodels.Between_threshold_3_child) , 0)\n",
    "print stats.ttest_1samp((fit.resid * df_log_not_dropped_by_statsmodels.child_4*df_log_not_dropped_by_statsmodels.Between_threshold_4_child) , 0)\n",
    "print stats.ttest_1samp((fit.resid * df_log_not_dropped_by_statsmodels.child_5*df_log_not_dropped_by_statsmodels.Between_threshold_5_child) , 0)\n",
    "print stats.ttest_1samp((fit.resid * df_log_not_dropped_by_statsmodels.child_6*df_log_not_dropped_by_statsmodels.Between_threshold_6_child) , 0)\n"
   ]
  },
  {
   "cell_type": "code",
   "execution_count": null,
   "metadata": {},
   "outputs": [],
   "source": [
    "print df_log.Over_threshold_1_child.isnull().value_counts()\n",
    "print df_log.child_1.isnull().value_counts()\n",
    "print fit.resid.isnull().value_counts()"
   ]
  },
  {
   "cell_type": "code",
   "execution_count": null,
   "metadata": {},
   "outputs": [],
   "source": [
    "print fit.resid[(fit.resid * df_log.child_1).isnull()]"
   ]
  },
  {
   "cell_type": "code",
   "execution_count": null,
   "metadata": {},
   "outputs": [],
   "source": [
    "fit.resid.shape"
   ]
  },
  {
   "cell_type": "code",
   "execution_count": null,
   "metadata": {},
   "outputs": [],
   "source": [
    "df_log.child_1.shape"
   ]
  },
  {
   "cell_type": "code",
   "execution_count": null,
   "metadata": {},
   "outputs": [],
   "source": [
    "print (df_log.child_1*df_log.Over_threshold_1_child).isnull().value_counts()"
   ]
  },
  {
   "cell_type": "code",
   "execution_count": null,
   "metadata": {},
   "outputs": [],
   "source": []
  },
  {
   "cell_type": "code",
   "execution_count": null,
   "metadata": {},
   "outputs": [],
   "source": []
  },
  {
   "cell_type": "code",
   "execution_count": null,
   "metadata": {},
   "outputs": [],
   "source": [
    "(fit.resid * df_log.child_1*df_log.Over_threshold_1_child)[\n",
    "    (fit.resid * df_log.child_1*df_log.Over_threshold_1_child).isnull()]"
   ]
  },
  {
   "cell_type": "code",
   "execution_count": null,
   "metadata": {},
   "outputs": [],
   "source": [
    "stats.ttest_1samp([1,2,3] , 0)"
   ]
  },
  {
   "cell_type": "code",
   "execution_count": null,
   "metadata": {},
   "outputs": [],
   "source": [
    "(fit.resid * df_log.child_1*df_log.Over_threshold_1_child).describe()"
   ]
  },
  {
   "cell_type": "code",
   "execution_count": null,
   "metadata": {},
   "outputs": [],
   "source": []
  },
  {
   "cell_type": "code",
   "execution_count": null,
   "metadata": {},
   "outputs": [],
   "source": [
    "(fit.resid[df_log.Over_threshold_1_child ] \n",
    " * (df_log.child_1*df_log.Over_threshold_1_child)[df_log.Over_threshold_1_child ] \n",
    ").mean()"
   ]
  },
  {
   "cell_type": "code",
   "execution_count": null,
   "metadata": {},
   "outputs": [],
   "source": [
    "sm.stats.ttest_ind((fit.resid * df_log.child_1*df_log.Over_threshold_1_child)[:900],\n",
    "                   np.zeros(fit.resid.shape[0]))"
   ]
  },
  {
   "cell_type": "markdown",
   "metadata": {},
   "source": [
    "### Elasticity a la Gruber Saez (2002)"
   ]
  },
  {
   "cell_type": "markdown",
   "metadata": {},
   "source": [
    "##### Change in MTR"
   ]
  },
  {
   "cell_type": "markdown",
   "metadata": {},
   "source": [
    "$log(z_1$"
   ]
  },
  {
   "cell_type": "code",
   "execution_count": null,
   "metadata": {},
   "outputs": [],
   "source": [
    "df_log[\"log_ratio_income\"] = np.log(df_log.Rbg_2014/df_log.Rbg_2011)"
   ]
  },
  {
   "cell_type": "code",
   "execution_count": null,
   "metadata": {},
   "outputs": [],
   "source": [
    "import importlib\n",
    "year = 2014"
   ]
  },
  {
   "cell_type": "code",
   "execution_count": null,
   "metadata": {},
   "outputs": [],
   "source": [
    "ir = ir_2014"
   ]
  },
  {
   "cell_type": "code",
   "execution_count": null,
   "metadata": {},
   "outputs": [],
   "source": [
    "parts_fiscales_enfants = ir.parts_fiscales_enfants(df.NBPAC_2011)"
   ]
  },
  {
   "cell_type": "code",
   "execution_count": null,
   "metadata": {},
   "outputs": [],
   "source": []
  },
  {
   "cell_type": "code",
   "execution_count": null,
   "metadata": {},
   "outputs": [],
   "source": [
    "df[\"ZTSAM_10_percent_2014\"] =  df[\"ZTSAM_2014\"]*0.9\n",
    "\n",
    "\n",
    "df[\"Irpp_2014\"] = ir.ir_avec_plafond_qf_enfant(df.Rbg_2014, parts_fiscales_enfants)\n",
    "df[\"Irpp_2014_plus_10_euros\"] = ir.ir_avec_plafond_qf_enfant(df.Rbg_2014+10, parts_fiscales_enfants)\n",
    "\n",
    "df[\"Counterfactual_Irpp_2014\"] = ir_2011.ir_avec_plafond_qf_enfant(df.Rbg_2014, parts_fiscales_enfants)\n",
    "df[\"Counterfactual_Irpp_2014_plus_10_euros\"] = ir_2011.ir_avec_plafond_qf_enfant(df.Rbg_2014+10, parts_fiscales_enfants)\n",
    "\n",
    "df[\"Irpp_2011\"] = ir_2011.ir_avec_plafond_qf_enfant(df.Rbg_2011, parts_fiscales_enfants)\n",
    "df[\"Irpp_2011_plus_10_euros\"] = ir_2011.ir_avec_plafond_qf_enfant(df.Rbg_2011+10, parts_fiscales_enfants)\n",
    "\n",
    "\n",
    "\n",
    "df[\"Counterfactual_Irpp_2011\"] = ir.ir_avec_plafond_qf_enfant(df.Rbg_2011, parts_fiscales_enfants)\n",
    "df[\"Counterfactual_Irpp_2011_plus_10_euros\"] = ir.ir_avec_plafond_qf_enfant(df.Rbg_2011+10, parts_fiscales_enfants)"
   ]
  },
  {
   "cell_type": "code",
   "execution_count": null,
   "metadata": {},
   "outputs": [],
   "source": [
    "fig = plt.figure(figsize=(20,10))\n",
    "plt.scatter(df.ZIMPOM_2011,df.Irpp_2011, s=0.02 )\n",
    "plt.xlim(0,15000)\n",
    "plt.ylim(0,15000)"
   ]
  },
  {
   "cell_type": "code",
   "execution_count": null,
   "metadata": {},
   "outputs": [],
   "source": [
    "fig = plt.figure(figsize=(20,10))\n",
    "df_temp = df#.query(\"NBPAC_2011 == 2\")\n",
    "plt.scatter(df_temp.ZIMPOM_DECL_2014,df_temp.Irpp_2014, s=0.02 )\n",
    "plt.xlim(0,15000)\n",
    "plt.ylim(0,15000)"
   ]
  },
  {
   "cell_type": "code",
   "execution_count": null,
   "metadata": {},
   "outputs": [],
   "source": [
    "erreur_impot = df.ZIMPOM_DECL_2014 - df.Irpp_2014\n",
    "erreur_impot = erreur_impot[erreur_impot<10000]\n",
    "sns.distplot(erreur_impot, bins = 200, )\n",
    "plt.xlim(-10000,10000)\n",
    "\n",
    "erreur_impot = df.ZIMPOM_2011 - df.Irpp_2011\n",
    "erreur_impot = erreur_impot[erreur_impot<10000]\n",
    "sns.distplot(erreur_impot, bins = 200, )\n",
    "plt.xlim(-10000,10000)"
   ]
  },
  {
   "cell_type": "code",
   "execution_count": null,
   "metadata": {},
   "outputs": [],
   "source": [
    "erreur_impot = df.query('NBPAC_2011==4').ZIMPOM_DECL_2014 - df.query('NBPAC_2011==4').Irpp_2014\n",
    "erreur_impot = erreur_impot[erreur_impot<10000]\n",
    "sns.distplot(erreur_impot, bins = 200, )\n",
    "plt.xlim(-10000,10000)"
   ]
  },
  {
   "cell_type": "code",
   "execution_count": null,
   "metadata": {},
   "outputs": [],
   "source": [
    "df.query('NBPAC_2011==4').ZIMPOM_DECL_2014.hist(bins = 500)\n",
    "plt.xlim(-5000,10000)"
   ]
  },
  {
   "cell_type": "code",
   "execution_count": null,
   "metadata": {},
   "outputs": [],
   "source": [
    "erreur_impot = df.query('NBPAC_2011==6').ZIMPOM_2011 - df.query('NBPAC_2011==6').Irpp_2011\n",
    "erreur_impot = erreur_impot[erreur_impot<10000]\n",
    "sns.distplot(erreur_impot, bins = 200, )\n",
    "plt.xlim(-10000,10000)"
   ]
  },
  {
   "cell_type": "code",
   "execution_count": null,
   "metadata": {},
   "outputs": [],
   "source": [
    "df.ZIMPOM14_2014.hist(bins = 1000)\n",
    "plt.xlim(-5000,30000)"
   ]
  },
  {
   "cell_type": "markdown",
   "metadata": {},
   "source": [
    "### Taux marginal imposition"
   ]
  },
  {
   "cell_type": "code",
   "execution_count": null,
   "metadata": {},
   "outputs": [],
   "source": [
    "df[\"MTR_2014\"] = np.round((df.Irpp_2014_plus_10_euros - df.Irpp_2014)/10,2)\n",
    "df[\"MTR_2011\"] = np.round((df.Irpp_2011_plus_10_euros - df.Irpp_2011)/10,2)\n",
    "\n",
    "df[\"Counterfactual_MTR_2014\"\n",
    "                     ] = np.round((df.Counterfactual_Irpp_2014_plus_10_euros - df.Counterfactual_Irpp_2014)/10,2)\n",
    "\n",
    "df[\"Counterfactual_MTR_2011\"\n",
    "                     ] = np.round((df.Counterfactual_Irpp_2011_plus_10_euros - df.Counterfactual_Irpp_2011)/10,2)"
   ]
  },
  {
   "cell_type": "code",
   "execution_count": null,
   "metadata": {},
   "outputs": [],
   "source": [
    "df.Counterfactual_MTR_2014.value_counts(normalize=True).head(5)"
   ]
  },
  {
   "cell_type": "code",
   "execution_count": null,
   "metadata": {},
   "outputs": [],
   "source": [
    "df.Counterfactual_MTR_2011.value_counts(normalize=True).head(5)"
   ]
  },
  {
   "cell_type": "code",
   "execution_count": null,
   "metadata": {},
   "outputs": [],
   "source": [
    "print(df.MTR_2011.value_counts(normalize=True).head(5))\n",
    "df.MTR_2014.value_counts(normalize=True).head(5)"
   ]
  },
  {
   "cell_type": "code",
   "execution_count": null,
   "metadata": {},
   "outputs": [],
   "source": [
    "df[\"MTR_2011\"].hist(bins = 100)"
   ]
  },
  {
   "cell_type": "code",
   "execution_count": null,
   "metadata": {},
   "outputs": [],
   "source": [
    "df[\"MTR_2014\"].hist(bins = 100)"
   ]
  },
  {
   "cell_type": "code",
   "execution_count": null,
   "metadata": {},
   "outputs": [],
   "source": [
    "(df.Counterfactual_MTR_2014>df.MTR_2014).value_counts()"
   ]
  },
  {
   "cell_type": "code",
   "execution_count": null,
   "metadata": {},
   "outputs": [],
   "source": [
    "((df_log.log_ratio_MTR == df_log.log_ratio_counterfactual_MTR)).value_counts()"
   ]
  },
  {
   "cell_type": "code",
   "execution_count": null,
   "metadata": {},
   "outputs": [],
   "source": [
    "np.log((1-0.41)/(1-0.41))"
   ]
  },
  {
   "cell_type": "code",
   "execution_count": null,
   "metadata": {},
   "outputs": [],
   "source": [
    "df_log.MTR_2014.value_counts().head(4)"
   ]
  },
  {
   "cell_type": "code",
   "execution_count": null,
   "metadata": {},
   "outputs": [],
   "source": [
    "#df_log[(df_log.Counterfactual_MTR_2014>df_log.MTR_2014)][[\"NBPAC_2011\",\"Rbg_2014\", \"Irpp_2014\", \"Counterfactual_Irpp_2014\",\"MTR_2011\", \"Counterfactual_MTR_2014\", \"MTR_2014\", \"log_ratio_counterfactual_MTR\", \"log_ratio_MTR\"]]"
   ]
  },
  {
   "cell_type": "code",
   "execution_count": null,
   "metadata": {},
   "outputs": [],
   "source": [
    "#df_log[[\"Counterfactual_MTR_2014\", \"MTR_2014\"]]"
   ]
  },
  {
   "cell_type": "code",
   "execution_count": null,
   "metadata": {},
   "outputs": [],
   "source": [
    "((df_log.Irpp_2011_plus_10_euros - df_log.Irpp_2011)/10).hist(bins = 100)"
   ]
  },
  {
   "cell_type": "code",
   "execution_count": null,
   "metadata": {},
   "outputs": [],
   "source": [
    "((df_log.Irpp_2014_plus_10_euros - df_log.Irpp_2014)/10).hist(bins = 100)"
   ]
  },
  {
   "cell_type": "code",
   "execution_count": null,
   "metadata": {},
   "outputs": [],
   "source": [
    "plt.figure(figsize=(15,10))\n",
    "df_temp = df_log.query(\"NBPAC_2011>=0\")\n",
    "ax = sns.countplot(x=\"value\", hue = \"variable\", data = pd.melt(df_temp[[\"MTR_2011\", \"MTR_2014\"]]),\n",
    "              order = [0,0.05,0.14,0.3,0.41]) \n",
    "for p in ax.patches:\n",
    "    height = p.get_height()\n",
    "    height = np.nan_to_num(height)\n",
    "    ax.text(p.get_x()+p.get_width()/2, height*(1+0.04), '{:1.1f}%'.format(\n",
    "            (height/(len(df_temp)*2))*100), ha = \"center\", fontsize= 15)\n",
    "plt.xlim(0,4.6)\n",
    "plt.xlabel(\"Marginal Tax Rate\", fontsize = 25)\n",
    "plt.ylabel(u\"Nombre de ménages\", fontsize = 25)"
   ]
  },
  {
   "cell_type": "code",
   "execution_count": null,
   "metadata": {},
   "outputs": [],
   "source": [
    "plt.figure(figsize=(15,10))\n",
    "df_temp = df_log.query(\"NBPAC_2011>=0\")\n",
    "ax = sns.countplot(x=\"value\", hue = \"variable\", data = pd.melt(df_temp[[\"MTR_2011\", \"MTR_2014\"]]),\n",
    "              order = [0,0.05,0.14,0.3,0.41]) \n",
    "for p in ax.patches:\n",
    "    height = p.get_height()\n",
    "    height = np.nan_to_num(height)\n",
    "    ax.text(p.get_x()+p.get_width()/2, height*(1+0.04), '{:1.1f}%'.format(\n",
    "            (height/(len(df_temp)*2))*100), ha = \"center\", fontsize= 15)\n",
    "plt.xlim(0,4.6)\n",
    "plt.xlabel(\"Marginal Tax Rate\", fontsize = 25)\n",
    "plt.ylabel(u\"Nombre de ménages\", fontsize = 25)"
   ]
  },
  {
   "cell_type": "code",
   "execution_count": null,
   "metadata": {},
   "outputs": [],
   "source": [
    "\n",
    "df_temp = df_log.query(\"NBPAC_2011>=0\")\n",
    "ax = sns.countplot(x=\"value\", hue = \"variable\", data = pd.melt(df_temp[[\"MTR_2011\", \"MTR_2014\"]]),\n",
    "              order = [0,0.05,0.14,0.3,0.41]) \n",
    "for p in ax.patches:\n",
    "    height = p.get_height()\n",
    "    height = np.nan_to_num(height)\n",
    "    ax.text(p.get_x()+p.get_width()/2, height+2004, '{:1.1f}%'.format(\n",
    "            (height/(len(df_temp)*2))*100), ha = \"center\")\n",
    "plt.xlim(0,4.6)\n",
    "plt.xlabel(\"Marginal Tax Rate\")\n",
    "plt.ylabel(u\"Nombre de ménages\")"
   ]
  },
  {
   "cell_type": "code",
   "execution_count": null,
   "metadata": {},
   "outputs": [],
   "source": [
    "marginal_rates_2014 = ((df_log.Irpp_2014_plus_10_euros - df_log.Irpp_2014)/10)\n",
    "marginal_rates_2011 = ((df_log.Irpp_2011_plus_10_euros - df_log.Irpp_2011)/10)"
   ]
  },
  {
   "cell_type": "code",
   "execution_count": null,
   "metadata": {},
   "outputs": [],
   "source": [
    "df_mtr_2011 = pd.DataFrame({\"MTR\":marginal_rates_2011}); df_mtr_2011[\"Year\"] = 2011\n",
    "df_mtr_2014 = pd.DataFrame({\"MTR\":marginal_rates_2014}); df_mtr_2014[\"Year\"] = 2014"
   ]
  },
  {
   "cell_type": "code",
   "execution_count": null,
   "metadata": {},
   "outputs": [],
   "source": [
    "df_mtr = pd.concat((df_mtr_2011, df_mtr_2014))"
   ]
  },
  {
   "cell_type": "code",
   "execution_count": null,
   "metadata": {},
   "outputs": [],
   "source": [
    "pd.round(df_mtr.MTR,2).value_counts()"
   ]
  },
  {
   "cell_type": "markdown",
   "metadata": {},
   "source": [
    "Change marginal tax rate: "
   ]
  },
  {
   "cell_type": "code",
   "execution_count": null,
   "metadata": {},
   "outputs": [],
   "source": [
    "np.round(df_log.MTR_2011, 2).value_counts()"
   ]
  },
  {
   "cell_type": "code",
   "execution_count": null,
   "metadata": {},
   "outputs": [],
   "source": [
    "(np.abs(df_log.MTR_2011 - df_log.MTR_2014)<0.01).value_counts(normalize = True)"
   ]
  },
  {
   "cell_type": "code",
   "execution_count": null,
   "metadata": {},
   "outputs": [],
   "source": [
    "((df_log.MTR_2011 - df_log.Counterfactual_MTR_2014)==0).value_counts(normalize = True)"
   ]
  },
  {
   "cell_type": "code",
   "execution_count": null,
   "metadata": {},
   "outputs": [],
   "source": []
  },
  {
   "cell_type": "code",
   "execution_count": null,
   "metadata": {},
   "outputs": [],
   "source": [
    "df_log[[\"MTR_2011\", \"MTR_2014\", \"Counterfactual_MTR_2014\", \"Counterfactual_MTR_2011\", \"Rbg_2014\", \"Rbg_2011\", \"NBPAC_2011\", \"NBPAC_2014\" ]].head()"
   ]
  },
  {
   "cell_type": "code",
   "execution_count": null,
   "metadata": {},
   "outputs": [],
   "source": []
  },
  {
   "cell_type": "markdown",
   "metadata": {},
   "source": [
    "Grueber saez : log(z_2014/z_2011) = beta_1 log[(1-MTR_2014)/(1-MTR_2011)] + beta_2 log[(z_2014 - T_2(z_2014))/(z_2011-T_2011(z_2011))]"
   ]
  },
  {
   "cell_type": "code",
   "execution_count": null,
   "metadata": {},
   "outputs": [],
   "source": [
    "df_log[\"log_ratio_income\"] = np.log(df_log.Rbg_2014/df_log.Rbg_2011)\n",
    "df_log[\"log_ratio_MTR\"] = np.log((1 - df_log.MTR_2014)/(1-(df_log.MTR_2011)))\n",
    "df_log[\"log_ratio_disp_income\"] = np.log((df_log.Rbg_2014 - df_log.Irpp_2014)/\n",
    "                                                        (df_log.Rbg_2011 - df_log.Irpp_2011))\n",
    "\n",
    "\n",
    "df_log[\"log_ratio_counterfactual_MTR\"] = np.log((1 - df_log.Counterfactual_MTR_2014)/(1-(df_log.MTR_2011)))\n",
    "df_log[\"log_ratio_counterfactual_disp_income\"] = np.log((df_log.Rbg_2014 - df_log.Counterfactual_Irpp_2014)/\n",
    "                                                        (df_log.Rbg_2011 - df_log.Irpp_2011))                                            "
   ]
  },
  {
   "cell_type": "code",
   "execution_count": null,
   "metadata": {},
   "outputs": [],
   "source": [
    "m = sm.OLS.from_formula(\"(log_ratio_income)~  log_ratio_MTR +log_ratio_disp_income + \"                                            \n",
    "                        +\"+Age_me+Age_wo+Age_wo_squared + child_1*log_ratio_MTR + child_2*log_ratio_MTR + child_3*log_ratio_MTR + child_4*log_ratio_MTR+ child_5*log_ratio_MTR\"\n",
    "                        +\"+ child_1*log_ratio_disp_income + child_2*log_ratio_disp_income + child_3*log_ratio_disp_income + child_4*log_ratio_disp_income+ child_5*log_ratio_disp_income\", df_log)\n",
    "fit = m.fit()\n",
    "summary = fit.summary(); print(summary)"
   ]
  },
  {
   "cell_type": "code",
   "execution_count": null,
   "metadata": {},
   "outputs": [],
   "source": [
    "import statsmodels"
   ]
  },
  {
   "cell_type": "code",
   "execution_count": null,
   "metadata": {},
   "outputs": [],
   "source": [
    "df_log.to_csv(\"C:/Users/IMPTEMP_A_PACIFIC/Desktop/df_log.csv\")"
   ]
  },
  {
   "cell_type": "code",
   "execution_count": null,
   "metadata": {},
   "outputs": [],
   "source": [
    "m = sm.RLM.from_formula(\"(log_ratio_income)~  log_ratio_MTR + log_ratio_disp_income \"                                            \n",
    "                        , df_log)\n",
    "fit = m.fit()\n",
    "summary = fit.summary(); print(summary)"
   ]
  },
  {
   "cell_type": "markdown",
   "metadata": {},
   "source": [
    "### Counterfactual instrument "
   ]
  },
  {
   "cell_type": "code",
   "execution_count": null,
   "metadata": {},
   "outputs": [],
   "source": []
  },
  {
   "cell_type": "code",
   "execution_count": null,
   "metadata": {},
   "outputs": [],
   "source": [
    "#df_log.Age_me.value_counts()"
   ]
  },
  {
   "cell_type": "code",
   "execution_count": null,
   "metadata": {},
   "outputs": [],
   "source": [
    "m = sm.OLS.from_formula(\"(log_ratio_income)~  log_ratio_MTR +log_ratio_income + \"                                            \n",
    "                        +\"+np.log(Age_me)+np.log(Age_wo) \", df_log)\n",
    "fit = m.fit()\n",
    "summary = fit.summary(); print(summary)"
   ]
  },
  {
   "cell_type": "code",
   "execution_count": null,
   "metadata": {},
   "outputs": [],
   "source": [
    "m = sm.OLS.from_formula(\"(log_ratio_income)~  log_ratio_MTR + log_ratio_disp_income + \\\n",
    "                        log_ratio_MTR:child_1 +log_ratio_MTR:child_2 + log_ratio_MTR:child_3 + log_ratio_MTR:child_4 + log_ratio_MTR:child_5+Rbg_2011\\\n",
    "                        +log_ratio_income:child_1 +log_ratio_income:child_2 + log_ratio_income:child_3 + log_ratio_income:child_4 + log_ratio_income:child_5+Rbg_2011\"                                            \n",
    "                        +\"+Age_me+Age_wo+Age_wo_squared \", df_log)\n",
    "fit = m.fit()\n",
    "summary = fit.summary(); print(summary)"
   ]
  },
  {
   "cell_type": "code",
   "execution_count": null,
   "metadata": {},
   "outputs": [],
   "source": [
    "np.corrcoef(df_log.log_ratio_MTR,df_log.log_ratio_disp_income )"
   ]
  },
  {
   "cell_type": "markdown",
   "metadata": {},
   "source": [
    "### Estimate the income growth (counterfactual income in the absence of the reform)"
   ]
  },
  {
   "cell_type": "markdown",
   "metadata": {},
   "source": [
    "Deduce the income one would have in the absence of the reform. Strategy : run an estimation of those not touched by the reform then compute the counterfactual income of every one. Then do that multiple times such that the rise in income would not imply to be touched by the reform for any household."
   ]
  },
  {
   "cell_type": "code",
   "execution_count": null,
   "metadata": {},
   "outputs": [],
   "source": [
    "df_log_save = df_log.copy()"
   ]
  },
  {
   "cell_type": "code",
   "execution_count": null,
   "metadata": {},
   "outputs": [],
   "source": [
    "df_log[\"Proprietaire\"] = df_log.Proprietaire.astype(\"int\")"
   ]
  },
  {
   "cell_type": "code",
   "execution_count": null,
   "metadata": {},
   "outputs": [],
   "source": [
    "# #%%time\n",
    "# df_temp =  df_log.query(\"Not_touched_by_reform\")\n",
    "# df_log[\"Not_touched_by_reform_counterfactual\"] = df_log.Not_touched_by_reform\n",
    "# for counter in range(0,1):\n",
    "# #df_temp = df_temp.query(\"Not_touched_by_reform\")                                    \n",
    "#     m = sm.OLS.from_formula(\"(Rbg_2014)~  \"                                           \n",
    "#                             +\"Rbg_2011+Age_me+Age_wo+Age_me_squared+Age_wo_squared + child_1 + child_2+ child_3+ child_4+ child_5 \\\n",
    "#                             +Proprietaire  \\\n",
    "#                             +YSALI_wo_2011+YCHOI_wo_2011+YALRI_wo_2011+YBICI_wo_2011+YBNCI_wo_2011+YRAGI_wo_2011+ YRSTI_wo_2011\",\n",
    "#                             df_log.query(\"Not_touched_by_reform_counterfactual\"))\n",
    "#     fit = m.fit()\n",
    "#     df_log[\"counterfactual_2014\"] = np.multiply(df_temp[fit.params.index[1:]].values, fit.params.values[1:]).sum(axis = 1)+ fit.params.values[0]\n",
    "#     df_log[\"Not_touched_by_reform\"] = (df_log.NBPAC_2011 == 0).astype(\"int\")\n",
    "#     df_log[\"Not_touched_by_reform_counterfactual\"] = False\n",
    "#     for nb_enf in range(1,7): ### in modification\n",
    "#         df_log[\"Not_touched_by_reform_counterfactual\"\n",
    "#                              ] +=((df_log.counterfactual_2014< threshold_byr_rbg[\"2014\"].iloc[nb_enf-1])\n",
    "#                     *( df_log.NBPAC_2011 == nb_enf)).astype(\"bool\")\n",
    "# print "
   ]
  },
  {
   "cell_type": "code",
   "execution_count": null,
   "metadata": {},
   "outputs": [],
   "source": [
    "for nb_enf in range(1,7):\n",
    "    df_log[\"Between_threshold_{}_child_counterfactual\".format(nb_enf)] = np.zeros(df_log.shape[0])\n",
    "for nb_enf in range(1,7): ### in modification\n",
    "    df_log[\"Between_threshold_{}_child_counterfactual\".format(nb_enf)\n",
    "          ] +=(((df_log.Counterfactual_rbg_2014>  threshold_byr_rbg[\"2014\"].iloc[nb_enf-1])\n",
    "               & (df_log.Counterfactual_rbg_2014< threshold_byr_rbg[\"2011\"].iloc[nb_enf-1])) *( df_log.NBPAC_2011 == nb_enf)).astype(\"float\")\n",
    "\n",
    "for nb_enf in range(1,7):\n",
    "    df_log[\"Over_threshold_{}_child_counterfactual\".format(nb_enf)] = np.zeros(df_log.shape[0])\n",
    "for nb_enf in range(1,7): ### in modification\n",
    "    df_log[\"Over_threshold_{}_child_counterfactual\".format(nb_enf)\n",
    "          ] +=(((df_log.Counterfactual_rbg_2014> threshold_byr_rbg[\"2011\"].iloc[nb_enf-1]))\n",
    "               *( df_log.NBPAC_2011 == nb_enf)).astype(\"float\")\n",
    "\n",
    "\n",
    "# df[\"Over_threshold_child_rbg_2014\"] = np.zeros(df.shape[0])\n",
    "# df[\"Over_threshold_child_rbg_2011\"] = np.zeros(df.shape[0])\n",
    "# for nb_enf in range(1,7): ### in modification\n",
    "#     df[\"Over_threshold_child_rbg_2014\".format(nb_enf)\n",
    "#           ] +=(((df.Rbg_2014>  threshold_byr_rbg[\"2014\"].iloc[nb_enf-1])\n",
    "#                & (df.Rbg_2014< threshold_byr_rbg[\"2011\"].iloc[nb_enf-1])) *( df.NBPAC_2011 == nb_enf)).astype(\"float\")\n",
    "#     df[\"Over_threshold_child_rbg_2011\".format(nb_enf)\n",
    "#           ] +=(((df.Rbg_2011>  threshold_byr_rbg[\"2014\"].iloc[nb_enf-1])\n",
    "#                & (df.Rbg_2011< threshold_byr_rbg[\"2011\"].iloc[nb_enf-1])) *( df.NBPAC_2011 == nb_enf)).astype(\"float\")"
   ]
  },
  {
   "cell_type": "code",
   "execution_count": null,
   "metadata": {},
   "outputs": [],
   "source": [
    "df_log.Between_threshold_3_child_counterfactual.value_counts()"
   ]
  },
  {
   "cell_type": "code",
   "execution_count": null,
   "metadata": {},
   "outputs": [],
   "source": [
    "df_log.Between_threshold_3_child.value_counts()"
   ]
  },
  {
   "cell_type": "code",
   "execution_count": null,
   "metadata": {},
   "outputs": [],
   "source": []
  },
  {
   "cell_type": "code",
   "execution_count": null,
   "metadata": {},
   "outputs": [],
   "source": [
    "sns.distplot(df_log.Rbg_2014)\n",
    "sns.distplot(df_log.Counterfactual_rbg_2014)"
   ]
  },
  {
   "cell_type": "code",
   "execution_count": null,
   "metadata": {},
   "outputs": [],
   "source": [
    "df_log.Between_threshold_5_child.value_counts()"
   ]
  },
  {
   "cell_type": "code",
   "execution_count": null,
   "metadata": {},
   "outputs": [],
   "source": [
    "df_log.Between_threshold_5_child_counterfactual.value_counts()"
   ]
  },
  {
   "cell_type": "code",
   "execution_count": null,
   "metadata": {},
   "outputs": [],
   "source": [
    "number_touched_list = list()\n",
    "mean_income_list = list()\n",
    "df_log[\"Not_touched_by_reform_counterfactual\"] = df_log.Not_touched_by_reform.astype(\"bool\")\n",
    "for counter in range(1,10):\n",
    "\n",
    "    df_temp =  df_log.query(\"Not_touched_by_reform_counterfactual\") #On enlève les touchés\n",
    "\n",
    "\n",
    "\n",
    "    #On evalue l'évolution du salaire sur les non touchés.\n",
    "    m = sm.OLS.from_formula(\"(Rbg_2014)~  \"                                           \n",
    "                                +\"Rbg_2011+Age_me+Age_wo+Age_me_squared+Age_wo_squared + child_1 + child_2+ child_3+ child_4+ child_5 \\\n",
    "                                +Proprietaire  \\\n",
    "                                +YSALI_wo_2011+YCHOI_wo_2011+YALRI_wo_2011+YBICI_wo_2011+YBNCI_wo_2011+YRAGI_wo_2011+ YRSTI_wo_2011\",\n",
    "                                df_temp)\n",
    "    fit = m.fit()\n",
    "\n",
    "    # ## On calcule le salaire contrefactuel\n",
    "\n",
    "    df_log[\"Counterfactual_rbg_2014\"] = np.multiply(\n",
    "                                        df_log[fit.params.index[1:]].values, fit.params.values[1:]\n",
    "                                                ).sum(axis = 1)+ fit.params.values[0]\n",
    "    df_log[\"Not_touched_by_reform_counterfactual\"] = False\n",
    "    for nb_enf in range(1,7): ### in modification\n",
    "        df_log[\"Not_touched_by_reform_counterfactual\"\n",
    "                             ] +=((df_log.Counterfactual_rbg_2014< threshold_byr_rbg[\"2014\"].iloc[nb_enf-1])\n",
    "                    *( df_log.NBPAC_2011 == nb_enf)).astype(\"bool\")\n",
    "    #print df_log.Not_touched_by_reform_counterfactual.value_counts()\n",
    "    number_touched_list.append(df_log.Not_touched_by_reform_counterfactual.value_counts()[True])\n",
    "    mean_income_list.append(df_log.Counterfactual_rbg_2014.mean())"
   ]
  },
  {
   "cell_type": "code",
   "execution_count": null,
   "metadata": {},
   "outputs": [],
   "source": [
    "print fit.summary()"
   ]
  },
  {
   "cell_type": "code",
   "execution_count": null,
   "metadata": {},
   "outputs": [],
   "source": [
    "plt.plot(mean_income_list)"
   ]
  },
  {
   "cell_type": "code",
   "execution_count": null,
   "metadata": {},
   "outputs": [],
   "source": [
    "plt.plot(number_touched_list)"
   ]
  },
  {
   "cell_type": "code",
   "execution_count": null,
   "metadata": {},
   "outputs": [],
   "source": [
    "df_log[\"counterfactual_delta_rbg\"] = df_log.counterfactual_2014 - df_log.Rbg_2011"
   ]
  },
  {
   "cell_type": "code",
   "execution_count": null,
   "metadata": {},
   "outputs": [],
   "source": []
  },
  {
   "cell_type": "code",
   "execution_count": null,
   "metadata": {},
   "outputs": [],
   "source": []
  },
  {
   "cell_type": "code",
   "execution_count": null,
   "metadata": {},
   "outputs": [],
   "source": [
    "df_temp[\"Proprietaire\"] = df_temp.Proprietaire.astype(\"int\")"
   ]
  },
  {
   "cell_type": "code",
   "execution_count": null,
   "metadata": {},
   "outputs": [],
   "source": [
    "#df_temp[[\"Touched_by_reform\", \"Not_touched_by_reform\",\"NBPAC_2011\"]]"
   ]
  },
  {
   "cell_type": "code",
   "execution_count": null,
   "metadata": {},
   "outputs": [],
   "source": [
    "\n",
    "#summary = fit.summary(); print(summary)"
   ]
  },
  {
   "cell_type": "code",
   "execution_count": null,
   "metadata": {},
   "outputs": [],
   "source": [
    "fit.params.index[1:]"
   ]
  },
  {
   "cell_type": "code",
   "execution_count": null,
   "metadata": {},
   "outputs": [],
   "source": [
    " fit.params.values[0]"
   ]
  },
  {
   "cell_type": "code",
   "execution_count": null,
   "metadata": {},
   "outputs": [],
   "source": [
    "df_temp[\"counterfactual_2014\"] = np.multiply(df_temp[fit.params.index[1:]].values, fit.params.values[1:]).sum(axis = 1)+ fit.params.values[0]"
   ]
  },
  {
   "cell_type": "code",
   "execution_count": null,
   "metadata": {},
   "outputs": [],
   "source": [
    "(df_temp.counterfactual_2014 - df_temp.Rbg_2014).hist(bins = 100)"
   ]
  },
  {
   "cell_type": "code",
   "execution_count": null,
   "metadata": {},
   "outputs": [],
   "source": [
    "df_temp[[\"Rbg_2011\",\"Rbg_2014\",\"counterfactual_2014\" ]].head(10)"
   ]
  },
  {
   "cell_type": "code",
   "execution_count": null,
   "metadata": {},
   "outputs": [],
   "source": [
    "df_temp[fit.params.index[1:]].values"
   ]
  },
  {
   "cell_type": "code",
   "execution_count": null,
   "metadata": {},
   "outputs": [],
   "source": []
  },
  {
   "cell_type": "code",
   "execution_count": null,
   "metadata": {},
   "outputs": [],
   "source": []
  },
  {
   "cell_type": "code",
   "execution_count": null,
   "metadata": {},
   "outputs": [],
   "source": []
  },
  {
   "cell_type": "code",
   "execution_count": null,
   "metadata": {},
   "outputs": [],
   "source": []
  },
  {
   "cell_type": "code",
   "execution_count": null,
   "metadata": {},
   "outputs": [],
   "source": [
    "df_log[\"Revenu_2014\"] = df_log[[\"ZTSAM_10_percent_2014\",\"ZPERM_2014\", \"ZRTOM_2014\",\n",
    "                                     \"ZRNCM_2014\",\"ZRAGM_2014\", \"ZRICM_2014\" ]].sum(axis = 1)"
   ]
  },
  {
   "cell_type": "code",
   "execution_count": null,
   "metadata": {},
   "outputs": [],
   "source": [
    "#df[[\"Between_thresholds\", \"child_1\", \"Between_threshold_1_child\"]]"
   ]
  },
  {
   "cell_type": "code",
   "execution_count": null,
   "metadata": {},
   "outputs": [],
   "source": []
  },
  {
   "cell_type": "code",
   "execution_count": null,
   "metadata": {},
   "outputs": [],
   "source": []
  },
  {
   "cell_type": "code",
   "execution_count": null,
   "metadata": {},
   "outputs": [],
   "source": []
  },
  {
   "cell_type": "markdown",
   "metadata": {},
   "source": [
    "### Change in log disposable income"
   ]
  },
  {
   "cell_type": "code",
   "execution_count": null,
   "metadata": {},
   "outputs": [],
   "source": [
    "import importlib"
   ]
  },
  {
   "cell_type": "code",
   "execution_count": null,
   "metadata": {},
   "outputs": [],
   "source": [
    "year = 2014"
   ]
  },
  {
   "cell_type": "code",
   "execution_count": null,
   "metadata": {},
   "outputs": [],
   "source": [
    "if year == 2014:\n",
    "    ir = importlib.import_module(\"IRPP_from_scratch_civil_union\")\n",
    "else :\n",
    "    ir = importlib.import_module(\"IRPP_from_scratch_{}\".format(year))"
   ]
  },
  {
   "cell_type": "code",
   "execution_count": null,
   "metadata": {},
   "outputs": [],
   "source": [
    "df_log[\"log_ratio_income\"] = np.log(\n",
    "    df_log.Rbg_2014 - IRPP)"
   ]
  },
  {
   "cell_type": "code",
   "execution_count": null,
   "metadata": {},
   "outputs": [],
   "source": [
    "ir.ir_avec_plafond_qf_enfant()"
   ]
  },
  {
   "cell_type": "code",
   "execution_count": null,
   "metadata": {},
   "outputs": [],
   "source": []
  },
  {
   "cell_type": "code",
   "execution_count": null,
   "metadata": {},
   "outputs": [],
   "source": []
  },
  {
   "cell_type": "code",
   "execution_count": null,
   "metadata": {},
   "outputs": [],
   "source": []
  },
  {
   "cell_type": "code",
   "execution_count": null,
   "metadata": {},
   "outputs": [],
   "source": []
  },
  {
   "cell_type": "code",
   "execution_count": null,
   "metadata": {
    "scrolled": false
   },
   "outputs": [],
   "source": [
    "m = sm.OLS.from_formula(\"(Delta_rbg)~   {} + \".format(\n",
    "        ' + '.join(between_threshold_for_child_rank+children_number+ over_threshold_for_child_rank+\n",
    "                  interaction_child_between_threshold+interaction_child_over_threshold))\n",
    "        + \"AGERF_2011 +Anciennete_dans_logement + Rbg_2011_squared + CSDEP_2011  \"\n",
    "                                                                                        , df_log.sample(n = 10000))\n",
    "fit = m.fit(cov_type = \"HC3\")\n",
    "summary = fit.summary(); print(summary)"
   ]
  },
  {
   "cell_type": "code",
   "execution_count": null,
   "metadata": {},
   "outputs": [],
   "source": [
    "df.query(\"Not_touched_by_reform==1\")"
   ]
  },
  {
   "cell_type": "code",
   "execution_count": null,
   "metadata": {
    "scrolled": false
   },
   "outputs": [],
   "source": [
    "m = sm.OLS.from_formula(\"(Delta_rbg)~   {} + \".format(\n",
    "        ' + '.join(between_threshold_for_child_rank+children_number+ over_threshold_for_child_rank+\n",
    "                  interaction_child_between_threshold+interaction_child_over_threshold))\n",
    "        + \"AGERF_2011 +Anciennete_dans_logement + Rbg_2011_squared + CSDEP_2011 +Not_touched_by_reform \"\n",
    "                                                                                        , df_log)\n",
    "fit = m.fit()\n",
    "summary = fit.summary(); print(summary)"
   ]
  },
  {
   "cell_type": "code",
   "execution_count": null,
   "metadata": {},
   "outputs": [],
   "source": [
    "df_log.Age_Elder_child.hist(bins = 74)\n",
    "plt.xlim(0,20)"
   ]
  },
  {
   "cell_type": "code",
   "execution_count": null,
   "metadata": {},
   "outputs": [],
   "source": []
  },
  {
   "cell_type": "code",
   "execution_count": null,
   "metadata": {},
   "outputs": [],
   "source": []
  },
  {
   "cell_type": "code",
   "execution_count": null,
   "metadata": {},
   "outputs": [],
   "source": []
  },
  {
   "cell_type": "code",
   "execution_count": null,
   "metadata": {},
   "outputs": [],
   "source": [
    "m = sm.RLM.from_formula(\"(Delta_rbg)~   {} + \".format(\n",
    "        ' + '.join(between_threshold_for_child_rank+children_number+ over_threshold_for_child_rank+\n",
    "                  interaction_child_between_threshold+interaction_child_over_threshold))\n",
    "        + \"AGERF_2011 +Anciennete_dans_logement + Rbg_2011_squared +Age_Elder_child:Has_child + Age_Youngest_child:Has_child+Has_child+ CSDEP_2011\"\n",
    "                                                                                        , df_log)\n",
    "fit = m.fit()\n",
    "summary = fit.summary(); print(summary)"
   ]
  },
  {
   "cell_type": "markdown",
   "metadata": {},
   "source": [
    "#Reg reaction extensive Margins"
   ]
  },
  {
   "cell_type": "markdown",
   "metadata": {},
   "source": [
    "##Stat descriptives transitions"
   ]
  },
  {
   "cell_type": "code",
   "execution_count": null,
   "metadata": {},
   "outputs": [],
   "source": []
  },
  {
   "cell_type": "markdown",
   "metadata": {},
   "source": [
    "### Start to work"
   ]
  },
  {
   "cell_type": "code",
   "execution_count": null,
   "metadata": {},
   "outputs": [],
   "source": [
    "df_log[\"Wo_start_working\"] = (\n",
    "    ((df_log[\"YSALI_wo_2011\"]+df_log[\"YBICI_wo_2011\"]+df_log[\"YBNCI_wo_2011\"])<2000)\n",
    "    &((df_log[\"YSALI_wo_2014\"]+df_log[\"YBICI_wo_2014\"]+df_log[\"YBNCI_wo_2014\"])>10000)\n",
    "    ).astype(\"int\")\n",
    "\n",
    "df_log[\"Me_start_working\"] = (\n",
    "    ((df_log[\"YSALI_me_2011\"]+df_log[\"YBICI_me_2011\"]+df_log[\"YBNCI_me_2011\"])<2000)\n",
    "    &((df_log[\"YSALI_me_2014\"]+df_log[\"YBICI_me_2014\"]+df_log[\"YBNCI_me_2014\"])>10000)\n",
    "    ).astype(\"int\")"
   ]
  },
  {
   "cell_type": "code",
   "execution_count": null,
   "metadata": {},
   "outputs": [],
   "source": [
    "print df_log[\"Wo_start_working\"].value_counts(normalize = True)\n",
    "print df_log[\"Me_start_working\"].value_counts(normalize = True)"
   ]
  },
  {
   "cell_type": "markdown",
   "metadata": {},
   "source": [
    "###Stop to work "
   ]
  },
  {
   "cell_type": "code",
   "execution_count": null,
   "metadata": {},
   "outputs": [],
   "source": [
    "df_log[\"Wo_stop_working\"] = (\n",
    "    ((df_log[\"YSALI_wo_2011\"]+df_log[\"YBICI_wo_2011\"]+df_log[\"YBNCI_wo_2011\"])>10000)\n",
    "    &((df_log[\"YSALI_wo_2014\"]+df_log[\"YBICI_wo_2014\"]+df_log[\"YBNCI_wo_2014\"])<2000)\n",
    "    ).astype(\"int\")\n",
    "\n",
    "df_log[\"Me_stop_working\"] = (\n",
    "    ((df_log[\"YSALI_me_2011\"]+df_log[\"YBICI_me_2011\"]+df_log[\"YBNCI_me_2011\"])>10000)\n",
    "    &((df_log[\"YSALI_me_2014\"]+df_log[\"YBICI_me_2014\"]+df_log[\"YBNCI_me_2014\"])>2000)\n",
    "    ).astype(\"int\")"
   ]
  },
  {
   "cell_type": "code",
   "execution_count": null,
   "metadata": {},
   "outputs": [],
   "source": [
    "print df_log[\"Wo_stop_working\"].value_counts(normalize = True)\n",
    "print df_log[\"Me_stop_working\"].value_counts(normalize = True)"
   ]
  },
  {
   "cell_type": "code",
   "execution_count": null,
   "metadata": {},
   "outputs": [],
   "source": [
    "df_log[\"Wo_stop_working_for_retraite\"] = ((\n",
    "    ((df_log[\"YSALI_wo_2011\"]+df_log[\"YBICI_wo_2011\"]+df_log[\"YBNCI_wo_2011\"])>10000)\n",
    "    &((df_log[\"YSALI_wo_2014\"]+df_log[\"YBICI_wo_2014\"]+df_log[\"YBNCI_wo_2014\"])<2000)\n",
    "    )\n",
    "      &    ((df_log[\"YRSTI_wo_2011\"]<2000) & (df_log[\"YRSTI_wo_2014\"]>6000))                               \n",
    "                                           ).astype(\"int\")\n",
    "\n",
    "df_log[\"Me_stop_working_for_retraite\"] = ((\n",
    "    ((df_log[\"YSALI_me_2011\"]+df_log[\"YBICI_me_2011\"]+df_log[\"YBNCI_me_2011\"])>10000)\n",
    "    &((df_log[\"YSALI_me_2014\"]+df_log[\"YBICI_me_2014\"]+df_log[\"YBNCI_me_2014\"])<2000)\n",
    "    )\n",
    "      &    ((df_log[\"YRSTI_me_2011\"]<2000) & (df_log[\"YRSTI_me_2014\"]>6000))                               \n",
    "                                           ).astype(\"int\")\n",
    "\n"
   ]
  },
  {
   "cell_type": "code",
   "execution_count": null,
   "metadata": {},
   "outputs": [],
   "source": [
    "df[\"Wo_get_retired\"] = ((df[\"YRSTI_2011_mother\"]<2000) & (df[\"YRSTI_2014_mother\"]>6000)).astype(\"int\")\n",
    "\n",
    "\n",
    "\n"
   ]
  },
  {
   "cell_type": "code",
   "execution_count": null,
   "metadata": {},
   "outputs": [],
   "source": [
    "df[\"Me_get_retired\"] = ((df[\"YRSTI_2011_father\"]<2000) & (df[\"YRSTI_2014_father\"]>6000)).astype(\"int\")\n",
    "\n",
    "\n",
    "\n"
   ]
  },
  {
   "cell_type": "code",
   "execution_count": null,
   "metadata": {},
   "outputs": [],
   "source": [
    "print(df[\"Wo_get_retired\"].value_counts(normalize = True, dropna = False))\n",
    "print(df[\"Me_get_retired\"].value_counts(normalize = True, dropna = False))"
   ]
  },
  {
   "cell_type": "code",
   "execution_count": null,
   "metadata": {},
   "outputs": [],
   "source": [
    "print df_log[\"Wo_stop_working_for_retraite\"].value_counts(normalize = True, dropna = False)\n",
    "print df_log[\"Me_stop_working_for_retraite\"].value_counts(normalize = False, dropna = False)"
   ]
  },
  {
   "cell_type": "code",
   "execution_count": null,
   "metadata": {},
   "outputs": [],
   "source": [
    "interaction_child_over_threshold_extensive_start_work_wo  = [\"{}/{}\".format(interaction, \"Wo_stop_working\") for  interaction in interaction_child_over_threshold]"
   ]
  },
  {
   "cell_type": "code",
   "execution_count": null,
   "metadata": {},
   "outputs": [],
   "source": [
    "child_1Over_threshold_1_child[False]:Wo_stop_working"
   ]
  },
  {
   "cell_type": "code",
   "execution_count": null,
   "metadata": {},
   "outputs": [],
   "source": [
    "\n",
    "#Over men women\n",
    "##start\n",
    "for child in range(1,7):\n",
    "    df_log[\"Itrctin_over_ext_work_wo_start_{}_child\".format(child)\n",
    "                         ] = (df_log[\"child_{}\".format(child)] \n",
    "                            * df_log[\"Over_threshold_{}_child\".format(child)]\n",
    "                            * df_log[\"Wo_start_working\".format(child)])\n",
    "for child in range(1,7):\n",
    "    df_log[\"Itrctin_over_ext_work_me_start_{}_child\".format(child)\n",
    "                         ] = (df_log[\"child_{}\".format(child)] \n",
    "                            * df_log[\"Over_threshold_{}_child\".format(child)]\n",
    "                            * df_log[\"Me_start_working\".format(child)])\n",
    "## stop\n",
    "for child in range(1,7):\n",
    "    df_log[\"Itrctin_over_ext_work_wo_stop_{}_child\".format(child)\n",
    "                         ] = (df_log[\"child_{}\".format(child)] \n",
    "                            * df_log[\"Over_threshold_{}_child\".format(child)]\n",
    "                            * df_log[\"Wo_stop_working\".format(child)])\n",
    "for child in range(1,7):\n",
    "    df_log[\"Itrctin_over_ext_work_me_stop_{}_child\".format(child)\n",
    "                         ] = (df_log[\"child_{}\".format(child)] \n",
    "                            * df_log[\"Over_threshold_{}_child\".format(child)]\n",
    "                            * df_log[\"Me_stop_working\".format(child)])\n",
    "#Between men women    \n",
    "##start\n",
    "for child in range(1,7):\n",
    "    df_log[\"Itrctin_between_ext_work_wo_start_{}_child\".format(child)\n",
    "                         ] = (df_log[\"child_{}\".format(child)] \n",
    "                            * df_log[\"Between_threshold_{}_child\".format(child)]\n",
    "                            * df_log[\"Wo_start_working\".format(child)])\n",
    "for child in range(1,7):\n",
    "    df_log[\"Itrctin_between_ext_work_me_start_{}_child\".format(child)\n",
    "                         ] = (df_log[\"child_{}\".format(child)] \n",
    "                            * df_log[\"Between_threshold_{}_child\".format(child)]\n",
    "                            * df_log[\"Me_start_working\".format(child)])\n",
    "## stop\n",
    "for child in range(1,7):\n",
    "    df_log[\"Itrctin_between_ext_work_wo_stop_{}_child\".format(child)\n",
    "                         ] = (df_log[\"child_{}\".format(child)] \n",
    "                            * df_log[\"Between_threshold_{}_child\".format(child)]\n",
    "                            * df_log[\"Wo_stop_working\".format(child)])\n",
    "for child in range(1,7):\n",
    "    df_log[\"Itrctin_between_ext_work_me_stop_{}_child\".format(child)\n",
    "                         ] = (df_log[\"child_{}\".format(child)] \n",
    "                            * df_log[\"Between_threshold_{}_child\".format(child)]\n",
    "                            * df_log[\"Me_stop_working\".format(child)])   "
   ]
  },
  {
   "cell_type": "code",
   "execution_count": null,
   "metadata": {},
   "outputs": [],
   "source": [
    "### Start x Over\n",
    "df_log[\"Start_x_over\".format(child)\n",
    "                         ] =  df_log[\"Over_threshold\"]* df_log[\"Wo_start_working\"]\n",
    "### Start x Between\n",
    "df_log[\"Start_x_between\".format(child)\n",
    "                         ] =  df_log[\"Between_thresholds\"]* df_log[\"Wo_start_working\"]\n",
    "\n",
    "### Start x Below\n",
    "df_log[\"Start_x_below\".format(child)\n",
    "                         ] =  (np.abs((df_log[\"Between_thresholds\"]+df_log[\"Over_threshold\"])-1)* \n",
    "                                df_log[\"Wo_start_working\"])\n",
    "\n",
    "\n",
    "### Stop x Over\n",
    "df_log[\"Stop_x_over\".format(child)\n",
    "                         ] =  df_log[\"Over_threshold\"]* df_log[\"Wo_stop_working\"]\n",
    "### Stop x Between\n",
    "df_log[\"Stop_x_between\".format(child)\n",
    "                         ] =  df_log[\"Between_thresholds\"]* df_log[\"Wo_stop_working\"]\n",
    "\n",
    "### Stop x Below\n",
    "df_log[\"Stop_x_below\".format(child)\n",
    "                         ] =  (np.abs((df_log[\"Between_thresholds\"]+df_log[\"Over_threshold\"])-1)* \n",
    "                                df_log[\"Wo_stop_working\"])"
   ]
  },
  {
   "cell_type": "code",
   "execution_count": null,
   "metadata": {},
   "outputs": [],
   "source": [
    "print df_log[[\"Start_x_over\", \"Start_x_between\", \"Start_x_below\"]].sum()\n",
    "print df_log[[\"Stop_x_over\", \"Stop_x_between\", \"Stop_x_below\"]].sum()"
   ]
  },
  {
   "cell_type": "code",
   "execution_count": null,
   "metadata": {},
   "outputs": [],
   "source": [
    "interaction_child_over_threshold_extensive_start_work_wo = [\"Itrctin_over_ext_work_wo_start_{}_child\".format(child) for child in range(1,7)]\n",
    "interaction_child_over_threshold_extensive_start_work_me = [\"Itrctin_over_ext_work_me_start_{}_child\".format(child) for child in range(1,7)]\n",
    "interaction_child_between_threshold_extensive_start_work_wo = [\"Itrctin_between_ext_work_wo_start_{}_child\".format(child) for child in range(1,7)]\n",
    "interaction_child_between_threshold_extensive_start_work_me = [\"Itrctin_between_ext_work_me_start_{}_child\".format(child) for child in range(1,7)]"
   ]
  },
  {
   "cell_type": "code",
   "execution_count": null,
   "metadata": {},
   "outputs": [],
   "source": [
    "interaction_child_over_threshold_extensive_stop_work_wo = [\"Itrctin_over_ext_work_wo_stop_{}_child\".format(child) for child in range(1,7)]\n",
    "interaction_child_over_threshold_extensive_stop_work_me = [\"Itrctin_over_ext_work_me_stop_{}_child\".format(child) for child in range(1,7)]\n",
    "interaction_child_between_threshold_extensive_stop_work_wo = [\"Itrctin_between_ext_work_wo_stop_{}_child\".format(child) for child in range(1,7)]\n",
    "interaction_child_between_threshold_extensive_stop_work_me = [\"Itrctin_between_ext_work_me_stop_{}_child\".format(child) for child in range(1,7)]"
   ]
  },
  {
   "cell_type": "code",
   "execution_count": null,
   "metadata": {},
   "outputs": [],
   "source": [
    "threshold_byr_rbg"
   ]
  },
  {
   "cell_type": "code",
   "execution_count": null,
   "metadata": {},
   "outputs": [],
   "source": [
    "threshold_byr_rbg.loc[1,\"2014\"]"
   ]
  },
  {
   "cell_type": "code",
   "execution_count": null,
   "metadata": {},
   "outputs": [],
   "source": [
    "for cbild in range(1,7):\n",
    "    escape_increase_in_MTR =   df_log.Rbg_2014<threshold_byr_rbg.loc[1,\"2014\"]\n",
    "    escape_increase_in_MTR_over = (df_log.Rbg_2014<threshold_byr_rbg.loc[1,\"2014\"]) * df_log[\"Over_threshold_{}_child\".format(child)]\n",
    "    escape_increase_in_MTR_below = (df_log.Rbg_2014<threshold_byr_rbg.loc[1,\"2014\"]) * df_log[\"Between_threshold_{}_child\".format(child)]"
   ]
  },
  {
   "cell_type": "code",
   "execution_count": null,
   "metadata": {},
   "outputs": [],
   "source": [
    "\n",
    "m = sm.RLM.from_formula(\"(Delta_rbg)~   {}  \".format(\n",
    "        ' + '.join(between_threshold_for_child_rank+children_number[:]+ over_threshold_for_child_rank+\n",
    "                  interaction_child_between_threshold[:]+interaction_child_over_threshold[:]+\n",
    "                  interaction_child_over_threshold_extensive_start_work_wo))\n",
    "                                                                                        , df_log)\n",
    "fit = m.fit()\n",
    "summary = fit.summary(); print(summary)"
   ]
  },
  {
   "cell_type": "code",
   "execution_count": null,
   "metadata": {},
   "outputs": [],
   "source": [
    "\n",
    "m = sm.OLS.from_formula(\"(Delta_rbg)~   {}  \".format(\n",
    "        ' + '.join(between_threshold_for_child_rank+children_number[:]+ over_threshold_for_child_rank+\n",
    "                  interaction_child_between_threshold[:]+interaction_child_over_threshold[:]+\n",
    "                  interaction_child_over_threshold_extensive_start_work_wo+ interaction_child_over_threshold_extensive_start_work_me+\n",
    "                  interaction_child_between_threshold_extensive_start_work_wo+interaction_child_between_threshold_extensive_start_work_me+\n",
    "                  interaction_child_over_threshold_extensive_stop_work_wo+interaction_child_over_threshold_extensive_stop_work_me+\n",
    "                  interaction_child_between_threshold_extensive_stop_work_wo+interaction_child_between_threshold_extensive_stop_work_me))\n",
    "                 + \"+ Proprietaire +CSDEP + Age_wo + Age_me+ Age_wo_squared + Age_me_squared+Age_Elder_child\"\n",
    "                 + \"+escape_increase_in_MTR_over+escape_increase_in_MTR_below\" \n",
    "                    +\"+Start_x_over+ Start_x_between + Start_x_below\"\n",
    "                    +\"+Stop_x_over+ Stop_x_between + Stop_x_below\"\n",
    "                                                                                        , df_log)\n",
    "fit = m.fit()\n",
    "summary = fit.summary(); print(summary)"
   ]
  },
  {
   "cell_type": "code",
   "execution_count": null,
   "metadata": {},
   "outputs": [],
   "source": []
  },
  {
   "cell_type": "code",
   "execution_count": null,
   "metadata": {},
   "outputs": [],
   "source": [
    "interaction_child_over_threshold"
   ]
  },
  {
   "cell_type": "code",
   "execution_count": null,
   "metadata": {},
   "outputs": [],
   "source": []
  },
  {
   "cell_type": "code",
   "execution_count": null,
   "metadata": {},
   "outputs": [],
   "source": []
  },
  {
   "cell_type": "code",
   "execution_count": null,
   "metadata": {},
   "outputs": [],
   "source": []
  },
  {
   "cell_type": "code",
   "execution_count": null,
   "metadata": {},
   "outputs": [],
   "source": []
  },
  {
   "cell_type": "code",
   "execution_count": null,
   "metadata": {},
   "outputs": [],
   "source": []
  },
  {
   "cell_type": "code",
   "execution_count": null,
   "metadata": {},
   "outputs": [],
   "source": []
  },
  {
   "cell_type": "code",
   "execution_count": null,
   "metadata": {},
   "outputs": [],
   "source": []
  },
  {
   "cell_type": "code",
   "execution_count": null,
   "metadata": {},
   "outputs": [],
   "source": []
  },
  {
   "cell_type": "code",
   "execution_count": null,
   "metadata": {},
   "outputs": [],
   "source": []
  },
  {
   "cell_type": "code",
   "execution_count": null,
   "metadata": {
    "scrolled": false
   },
   "outputs": [],
   "source": [
    "m = sm.Probit.from_formula(\"(Wo_stop_working)~   {}  \".format(\n",
    "        ' + '.join(between_threshold_for_child_rank+children_number[:]+ over_threshold_for_child_rank+\n",
    "                  interaction_child_between_threshold[:]+interaction_child_over_threshold[:]))\n",
    "        + \"+ Proprietaire +CSDEP + Age_wo + Age_me+ Age_wo_squared + Age_me_squared+Age_Elder_child\"\n",
    "                                                                                        , df_log.sample(frac = 1))\n",
    "fit = m.fit(maxiter = 500, method = \"basinhopping\")\n",
    "summary = fit.summary(); print(summary)"
   ]
  },
  {
   "cell_type": "code",
   "execution_count": null,
   "metadata": {},
   "outputs": [],
   "source": [
    "m.fit()"
   ]
  },
  {
   "cell_type": "code",
   "execution_count": null,
   "metadata": {},
   "outputs": [],
   "source": []
  },
  {
   "cell_type": "code",
   "execution_count": null,
   "metadata": {},
   "outputs": [],
   "source": []
  },
  {
   "cell_type": "code",
   "execution_count": null,
   "metadata": {},
   "outputs": [],
   "source": []
  },
  {
   "cell_type": "code",
   "execution_count": null,
   "metadata": {},
   "outputs": [],
   "source": []
  },
  {
   "cell_type": "code",
   "execution_count": null,
   "metadata": {},
   "outputs": [],
   "source": []
  },
  {
   "cell_type": "code",
   "execution_count": null,
   "metadata": {},
   "outputs": [],
   "source": [
    "df.YSALI_2011_father"
   ]
  },
  {
   "cell_type": "markdown",
   "metadata": {},
   "source": [
    "1. Women not working anymore\n",
    "2. Men not working anymore\n",
    "3. Men working more when women not working anymore"
   ]
  },
  {
   "cell_type": "code",
   "execution_count": null,
   "metadata": {},
   "outputs": [],
   "source": [
    "for var in [\"YSALI\", \"YCHOI\", \"YBNCI\", \"YBICI\", \"YCHOI\", \"YRSTI\"]:\n",
    "    df[\"{}_2011\".format(var)] = df[[\"{}_2011_mother\".format(var), \"{}_2011_father\".format(var)]].sum(axis = 1)\n",
    "    df[\"{}_2014\".format(var)] = df[[\"{}_2014_mother\".format(var), \"{}_2014_father\".format(var)]].sum(axis = 1)\n",
    "    df[\"Delta_{}\".format(var)] = df[\"{}_2014\".format(var)] - df[\"{}_2011\".format(var)]\n",
    "    df[\"Delta_{}_mother\".format(var)] = df[\"{}_2014_mother\".format(var)]-df[\"{}_2011_mother\".format(var)]\n",
    "    df[\"Delta_{}_father\".format(var)] = df[\"{}_2014_father\".format(var)]-df[\"{}_2011_father\".format(var)]"
   ]
  },
  {
   "cell_type": "code",
   "execution_count": null,
   "metadata": {},
   "outputs": [],
   "source": [
    "df_log[\"YSALI_2011\"] = df_log[[\"YSALI_wo_2011\", \"YSALI_me_2011\"]].sum(axis = 1)\n",
    "df_log[\"YSALI_2014\"] = df_log[[\"YSALI_wo_2014\", \"YSALI_me_2014\"]].sum(axis = 1)\n",
    "df_log[\"Delta_YSALI\"] = df_log.YSALI_2014 - df_log.YSALI_2011\n",
    "df_log[\"Delta_YSALI_wo\"] = df_log.YSALI_wo_2014-df_log.YSALI_wo_2011\n",
    "df_log[\"Delta_YSALI_me\"] = df_log.YSALI_me_2014-df_log.YSALI_me_2011"
   ]
  },
  {
   "cell_type": "code",
   "execution_count": null,
   "metadata": {},
   "outputs": [],
   "source": [
    "df_log[\"YBNCI_2011\"] = df_log[[\"YBNCI_wo_2011\", \"YBNCI_me_2011\"]].sum(axis = 1)\n",
    "df_log[\"YBNCI_2014\"] = df_log[[\"YBNCI_wo_2014\", \"YBNCI_me_2014\"]].sum(axis = 1)\n",
    "df_log[\"Delta_YBNCI\"] = df_log.YBNCI_2014 - df_log.YBNCI_2011\n",
    "df_log[\"Delta_YBNCI_wo\"] = df_log.YBNCI_wo_2014-df_log.YBNCI_wo_2011\n",
    "df_log[\"Delta_YBNCI_me\"] = df_log.YBNCI_me_2014-df_log.YBNCI_me_2011"
   ]
  },
  {
   "cell_type": "code",
   "execution_count": null,
   "metadata": {},
   "outputs": [],
   "source": [
    "df_log[\"YBICI_2011\"] = df_log[[\"YBICI_wo_2011\", \"YBICI_me_2011\"]].sum(axis = 1)\n",
    "df_log[\"YBICI_2014\"] = df_log[[\"YBICI_wo_2014\", \"YBICI_me_2014\"]].sum(axis = 1)\n",
    "df_log[\"Delta_YBICI\"] = df_log.YBICI_2014 - df_log.YBICI_2011\n",
    "df_log[\"Delta_YBICI_wo\"] = df_log.YBICI_wo_2014-df_log.YBICI_wo_2011\n",
    "df_log[\"Delta_YBICI_me\"] = df_log.YBICI_me_2014-df_log.YBICI_me_2011"
   ]
  },
  {
   "cell_type": "code",
   "execution_count": null,
   "metadata": {},
   "outputs": [],
   "source": [
    "df_log[\"YRSTI_2011\"] = df_log[[\"YRSTI_wo_2011\", \"YRSTI_me_2011\"]].sum(axis = 1)\n",
    "df_log[\"YRSTI_2014\"] = df_log[[\"YRSTI_wo_2014\", \"YRSTI_me_2014\"]].sum(axis = 1)\n",
    "df_log[\"Delta_YRSTI\"] = df_log.YRSTI_2014 - df_log.YRSTI_2011\n",
    "df_log[\"Delta_YRSTI_wo\"] = df_log.YRSTI_wo_2014-df_log.YRSTI_wo_2011\n",
    "df_log[\"Delta_YRSTI_me\"] = df_log.YRSTI_me_2014-df_log.YRSTI_me_2011"
   ]
  },
  {
   "cell_type": "code",
   "execution_count": null,
   "metadata": {},
   "outputs": [],
   "source": [
    "df_log[\"Delta_YSALI_wo\"] = df_log.YSALI_wo_2014-df_log.YSALI_wo_2011\n",
    "df_log[\"Delta_YSALI_me\"] = df_log.YSALI_me_2014-df_log.YSALI_me_2011"
   ]
  },
  {
   "cell_type": "code",
   "execution_count": null,
   "metadata": {},
   "outputs": [],
   "source": [
    "df.Delta_YSALI_father"
   ]
  },
  {
   "cell_type": "code",
   "execution_count": null,
   "metadata": {
    "scrolled": false
   },
   "outputs": [],
   "source": [
    "type_of_income = \"YRSTI\" ; sexe = \"father\"\n",
    "m = sm.RLM.from_formula(\"(Delta_{}_{})~   {}  \".format( type_of_income,sexe,\n",
    "        ' + '.join(between_threshold_for_child_rank+children_number+ over_threshold_for_child_rank+\n",
    "                  interaction_child_between_threshold+interaction_child_over_threshold))\n",
    "        \n",
    "                                    ,df[~df[\"YSALI_2011_father\"].isnull()].query(\n",
    "                                                    \"({}_2014_{}>3000)|({}_2011_{}>3000)\".format( type_of_income,sexe,\n",
    "                                                                                                  type_of_income,sexe,\n",
    "                                                                                          ))\n",
    "                       )\n",
    "fit = m.fit()\n",
    "summary = fit.summary(); print(summary)"
   ]
  },
  {
   "cell_type": "code",
   "execution_count": null,
   "metadata": {
    "scrolled": false
   },
   "outputs": [],
   "source": [
    "type_of_income = \"YRSTI\" ; sexe = \"mother\"\n",
    "m = sm.RLM.from_formula(\"(Delta_{}_{})~   {}  \".format( type_of_income,sexe,\n",
    "        ' + '.join(between_threshold_for_child_rank+children_number+ over_threshold_for_child_rank+\n",
    "                  interaction_child_between_threshold+interaction_child_over_threshold))\n",
    "        \n",
    "                                    , df.query(\n",
    "                                                    \"({}_2014_{}>3000)|({}_2011_{}>3000)\".format( type_of_income,sexe,\n",
    "                                                                                                  type_of_income,sexe,\n",
    "                                                                                          ))\n",
    "                       )\n",
    "fit = m.fit()\n",
    "summary = fit.summary(); print(summary)"
   ]
  },
  {
   "cell_type": "code",
   "execution_count": null,
   "metadata": {},
   "outputs": [],
   "source": [
    "desc_stat_taux_emploi_wo_me = pd.DataFrame()\n",
    "for var in [\"YSALI\", \"YCHOI\", \"YBNCI\", \"YBICI\", \"YCHOI\", \"YRSTI\"]:\n",
    "    desc_stat_taux_emploi_wo_me.loc[var+\"_Mean\",'Women']= df_log[var+\"_wo_2014\"].mean()\n",
    "    desc_stat_taux_emploi_wo_me.loc[var+\"_Share\",'Women']=(df_log[var+\"_wo_2014\"]>1000).value_counts(normalize = True)[True]\n",
    "    desc_stat_taux_emploi_wo_me.loc[var+\"_Mean\",'Men']= df_log[var+\"_me_2014\"].mean()\n",
    "    desc_stat_taux_emploi_wo_me.loc[var+\"_Share\",'Men']=(df_log[var+\"_me_2014\"]>1000).value_counts(normalize = True)[True] "
   ]
  },
  {
   "cell_type": "code",
   "execution_count": null,
   "metadata": {},
   "outputs": [],
   "source": [
    "desc_stat_taux_emploi_wo_me"
   ]
  },
  {
   "cell_type": "code",
   "execution_count": null,
   "metadata": {},
   "outputs": [],
   "source": [
    "fiscr.TYPMEN9.value_counts()"
   ]
  },
  {
   "cell_type": "code",
   "execution_count": null,
   "metadata": {
    "scrolled": false
   },
   "outputs": [],
   "source": [
    "m = sm.OLS.from_formula(\"(Delta_YRSTI_wo)~   {}   \".format(\n",
    "        ' + '.join(between_threshold_for_child_rank+children_number+ over_threshold_for_child_rank+\n",
    "                  interaction_child_between_threshold+interaction_child_over_threshold))\n",
    "        \n",
    "                                                                                        , df_log)\n",
    "fit = m.fit()\n",
    "summary = fit.summary(); print(summary)"
   ]
  },
  {
   "cell_type": "code",
   "execution_count": null,
   "metadata": {
    "scrolled": false
   },
   "outputs": [],
   "source": [
    "# To keep article ! retraite\n",
    "m = sm.OLS.from_formula(\"(Delta_YRSTI_me)~   {}  \".format(\n",
    "        ' + '.join(between_threshold_for_child_rank+children_number+ over_threshold_for_child_rank+\n",
    "                  interaction_child_between_threshold+interaction_child_over_threshold))\n",
    "        \n",
    "                                                                                        , df_log)\n",
    "fit = m.fit()\n",
    "summary = fit.summary(); print(summary)"
   ]
  },
  {
   "cell_type": "code",
   "execution_count": null,
   "metadata": {},
   "outputs": [],
   "source": [
    "1.41e-19"
   ]
  },
  {
   "cell_type": "code",
   "execution_count": null,
   "metadata": {},
   "outputs": [],
   "source": [
    "df_log[\"Delta_YSALI_prct\"] = (df_log.YSALI_2014 - df_log.YSALI_2011)/df_log.YSALI_2011\n",
    "df_log[\"Delta_YSALI_wo_prct\"] = (df_log.YSALI_wo_2014 - df_log.YSALI_wo_2011)/df_log.YSALI_wo_2011\n",
    "df_log[\"Delta_YSALI_me_prct\"] = (df_log.YSALI_me_2014 - df_log.YSALI_me_2011)/df_log.YSALI_me_2011"
   ]
  },
  {
   "cell_type": "code",
   "execution_count": null,
   "metadata": {},
   "outputs": [],
   "source": [
    "df_log.De"
   ]
  },
  {
   "cell_type": "code",
   "execution_count": null,
   "metadata": {},
   "outputs": [],
   "source": [
    "m = sm.RLM.from_formula(\"(Delta_YSALI_me)~   {}  \".format(\n",
    "        ' + '.join(between_threshold_for_child_rank+children_number+ over_threshold_for_child_rank+\n",
    "                  interaction_child_between_threshold+interaction_child_over_threshold))\n",
    "        \n",
    "        , df_log.query(\"(NBPAC_2011<6)& (YSALI_me_2011>1000)& (YSALI_me_2014>1000)&((NBPAC_2011==4)|(NBPAC_2011==0))\").sample(frac = 1)\n",
    "                       )\n",
    "fit = m.fit()\n",
    "summary = fit.summary(); print(summary)"
   ]
  },
  {
   "cell_type": "code",
   "execution_count": null,
   "metadata": {},
   "outputs": [],
   "source": [
    "m = sm.OLS.from_formula(\"(Delta_YSALI_me)~   {}  \".format(\n",
    "        ' + '.join(between_threshold_for_child_rank+children_number+ over_threshold_for_child_rank+\n",
    "                  interaction_child_between_threshold+interaction_child_over_threshold))\n",
    "        \n",
    "                                                                                        , df_log.query(\"YSALI_2011>0\"))\n",
    "fit = m.fit()\n",
    "summary = fit.summary(); print(summary)"
   ]
  },
  {
   "cell_type": "code",
   "execution_count": null,
   "metadata": {},
   "outputs": [],
   "source": []
  },
  {
   "cell_type": "code",
   "execution_count": null,
   "metadata": {},
   "outputs": [],
   "source": []
  },
  {
   "cell_type": "code",
   "execution_count": null,
   "metadata": {},
   "outputs": [],
   "source": [
    "df_log[[]].head()"
   ]
  },
  {
   "cell_type": "code",
   "execution_count": null,
   "metadata": {},
   "outputs": [],
   "source": [
    "sns.distplot(df_log.YSALI_me_2011)\n",
    "sns.distplot(df_log.YSALI_wo_2011)"
   ]
  },
  {
   "cell_type": "code",
   "execution_count": null,
   "metadata": {},
   "outputs": [],
   "source": [
    "sns.distplot(df_log.YSALI_me_2014.fillna(0))\n",
    "sns.distplot(df_log.YSALI_wo_2014.fillna(0))"
   ]
  },
  {
   "cell_type": "code",
   "execution_count": null,
   "metadata": {},
   "outputs": [],
   "source": [
    "plt.hist(df_log.YSALI_wo_2011/(df_log.YSALI_2011.fillna(0)))"
   ]
  },
  {
   "cell_type": "code",
   "execution_count": null,
   "metadata": {},
   "outputs": [],
   "source": [
    "sns.distplot((df_log.YSALI_wo_2011/df_log.YSALI_2011).fillna(0))\n",
    "plt.vlines(0.5,0,7, color = 'r', alpha = 0.2)"
   ]
  },
  {
   "cell_type": "code",
   "execution_count": null,
   "metadata": {},
   "outputs": [],
   "source": []
  },
  {
   "cell_type": "code",
   "execution_count": null,
   "metadata": {},
   "outputs": [],
   "source": []
  },
  {
   "cell_type": "code",
   "execution_count": null,
   "metadata": {},
   "outputs": [],
   "source": []
  },
  {
   "cell_type": "code",
   "execution_count": null,
   "metadata": {},
   "outputs": [],
   "source": [
    "m = sm.OLS.from_formula(\"(Delta_YBNCI_me)~   {}  \".format(\n",
    "        ' + '.join(between_threshold_for_child_rank+children_number+ over_threshold_for_child_rank+\n",
    "                  interaction_child_between_threshold+interaction_child_over_threshold))\n",
    "        \n",
    "                                                                                        , df_log.query(\"YBNCI_me_2011>0\"))\n",
    "fit = m.fit()\n",
    "summary = fit.summary(); print(summary)"
   ]
  },
  {
   "cell_type": "code",
   "execution_count": null,
   "metadata": {},
   "outputs": [],
   "source": []
  },
  {
   "cell_type": "code",
   "execution_count": null,
   "metadata": {},
   "outputs": [],
   "source": []
  },
  {
   "cell_type": "code",
   "execution_count": null,
   "metadata": {},
   "outputs": [],
   "source": []
  },
  {
   "cell_type": "code",
   "execution_count": null,
   "metadata": {},
   "outputs": [],
   "source": []
  },
  {
   "cell_type": "code",
   "execution_count": null,
   "metadata": {},
   "outputs": [],
   "source": []
  },
  {
   "cell_type": "code",
   "execution_count": null,
   "metadata": {},
   "outputs": [],
   "source": []
  },
  {
   "cell_type": "code",
   "execution_count": null,
   "metadata": {},
   "outputs": [],
   "source": []
  },
  {
   "cell_type": "code",
   "execution_count": null,
   "metadata": {},
   "outputs": [],
   "source": []
  },
  {
   "cell_type": "code",
   "execution_count": null,
   "metadata": {},
   "outputs": [],
   "source": []
  },
  {
   "cell_type": "code",
   "execution_count": null,
   "metadata": {},
   "outputs": [],
   "source": [
    "m = sm.OLS.from_formula(\"(Delta_YSALI_me)~   {}  \".format(\n",
    "        ' + '.join(between_threshold_for_child_rank+children_number+ over_threshold_for_child_rank+\n",
    "                  interaction_child_between_threshold+interaction_child_over_threshold))\n",
    "        \n",
    "                                                                                        , df_log)\n",
    "fit = m.fit()\n",
    "summary = fit.summary(); print(summary)"
   ]
  },
  {
   "cell_type": "code",
   "execution_count": null,
   "metadata": {},
   "outputs": [],
   "source": [
    "df_log.YSALI_me_2011.describe()"
   ]
  },
  {
   "cell_type": "code",
   "execution_count": null,
   "metadata": {},
   "outputs": [],
   "source": [
    "df_log.YSALI_wo_2011.describe()"
   ]
  },
  {
   "cell_type": "code",
   "execution_count": null,
   "metadata": {},
   "outputs": [],
   "source": [
    "df_log.Rb"
   ]
  },
  {
   "cell_type": "code",
   "execution_count": null,
   "metadata": {},
   "outputs": [],
   "source": [
    "df_log[\"Wo_start_working\"] = (\n",
    "    ((df_log[\"YSALI_wo_2011\"]+df_log[\"YBICI_wo_2011\"]+df_log[\"YBNCI_wo_2011\"])<5000)\n",
    "    &((df_log[\"YSALI_wo_2014\"]+df_log[\"YBICI_wo_2014\"]+df_log[\"YBNCI_wo_2014\"])>15000)\n",
    "    ).astype(\"int\")\n",
    "\n",
    "df_log[\"Me_start_merking\"] = (\n",
    "    ((df_log[\"YSALI_me_2011\"]+df_log[\"YBICI_me_2011\"]+df_log[\"YBNCI_me_2011\"])<5000)\n",
    "    &((df_log[\"YSALI_me_2014\"]+df_log[\"YBICI_me_2014\"]+df_log[\"YBNCI_me_2014\"])>15000)\n",
    "    ).astype(\"int\")"
   ]
  },
  {
   "cell_type": "code",
   "execution_count": null,
   "metadata": {},
   "outputs": [],
   "source": [
    "df_log[\"Wo_increase_work_by_30\"] = (\n",
    "    (((df_log[\"YSALI_wo_2014\"])-(df_log[\"YSALI_wo_2011\"]))/(df_log[\"YSALI_wo_2011\"]))>0.3\n",
    "    ).astype(\"int\")\n",
    "\n",
    "\n",
    "df_log[\"Me_increase_work_by_30\"] = (\n",
    "    (((df_log[\"YSALI_me_2014\"])-(df_log[\"YSALI_me_2011\"]))/(df_log[\"YSALI_me_2011\"]))>0.3\n",
    "    ).astype(\"int\")"
   ]
  },
  {
   "cell_type": "code",
   "execution_count": null,
   "metadata": {},
   "outputs": [],
   "source": [
    "#df_log[[\"Wo_increase_work_by_30\",\"YSALI_wo_2014\", \"YSALI_wo_2011\" ]]"
   ]
  },
  {
   "cell_type": "code",
   "execution_count": null,
   "metadata": {},
   "outputs": [],
   "source": []
  },
  {
   "cell_type": "code",
   "execution_count": null,
   "metadata": {},
   "outputs": [],
   "source": []
  },
  {
   "cell_type": "code",
   "execution_count": null,
   "metadata": {},
   "outputs": [],
   "source": [
    "df_log[\"Wo_start_working\"].value_counts(dropna = False)"
   ]
  },
  {
   "cell_type": "code",
   "execution_count": null,
   "metadata": {},
   "outputs": [],
   "source": [
    "m = sm.Probit.from_formula(\"(Me_increase_work_by_30)~   {}  \".format(\n",
    "        ' + '.join(between_threshold_for_child_rank+children_number[:]+ over_threshold_for_child_rank+\n",
    "                  interaction_child_between_threshold[:]+interaction_child_over_threshold[:]))\n",
    "        + \"+ Proprietaire +CSDEP + Age_wo + Age_me+ Age_wo_squared + Age_me_squared+Age_Elder_child\"\n",
    "                                                                                        , df_log)\n",
    "fit = m.fit(maxiter = 500, method = \"newton\")\n",
    "summary = fit.summary(); print(summary)"
   ]
  },
  {
   "cell_type": "code",
   "execution_count": null,
   "metadata": {},
   "outputs": [],
   "source": [
    "m = sm.Probit.from_formula(\"(Me_get_retired)~   {}  \".format(\n",
    "        ' + '.join(between_threshold_for_child_rank+children_number[:]+ over_threshold_for_child_rank+\n",
    "                  interaction_child_between_threshold[:]+interaction_child_over_threshold[:]))\n",
    "                                                                                        , df)\n",
    "fit = m.fit(maxiter = 500, method = \"newton\")\n",
    "summary = fit.summary(); print(summary)"
   ]
  },
  {
   "cell_type": "code",
   "execution_count": null,
   "metadata": {},
   "outputs": [],
   "source": [
    "m = sm.Probit.from_formula(\"(Me_get_retired)~   {}  \".format(\n",
    "        ' + '.join(between_threshold_for_child_rank+children_number[:]+ over_threshold_for_child_rank+\n",
    "                  interaction_child_between_threshold[:]+interaction_child_over_threshold[:]))\n",
    "        + \"+ Proprietaire +CSDEP + Age_wo + Age_me+ Age_wo_squared + Age_me_squared+Age_Elder_child\"\n",
    "                                                                                        , df_log)\n",
    "fit = m.fit(maxiter = 500, method = \"newton\")\n",
    "summary = fit.summary(); print(summary)"
   ]
  },
  {
   "cell_type": "code",
   "execution_count": null,
   "metadata": {},
   "outputs": [],
   "source": [
    "m = sm.Probit.from_formula(\"(Wo_get_retired)~   {}  \".format(\n",
    "        ' + '.join(between_threshold_for_child_rank+children_number[:]+ over_threshold_for_child_rank+\n",
    "                  interaction_child_between_threshold[:]+interaction_child_over_threshold[:]))\n",
    "        + \"+ Proprietaire +CSDEP + Age_wo + Age_me+ Age_wo_squared + Age_me_squared+Age_Elder_child\"\n",
    "                                                                                        , df_log)\n",
    "fit = m.fit(maxiter = 500, method = \"newton\")\n",
    "summary = fit.summary(); print(summary)"
   ]
  },
  {
   "cell_type": "code",
   "execution_count": null,
   "metadata": {},
   "outputs": [],
   "source": [
    "df_log.YSALI_me_2011.hist(bins = 100)\n",
    "df_log.YSALI_wo_2011.hist(bins = 100)"
   ]
  },
  {
   "cell_type": "code",
   "execution_count": null,
   "metadata": {},
   "outputs": [],
   "source": [
    "df_log.query(\"YBICI_me_2011>0\").YBICI_me_2011.hist(bins = 100)\n",
    "df_log.query(\"YBICI_wo_2011>0\").YBICI_wo_2011.hist(bins = 100)"
   ]
  },
  {
   "cell_type": "code",
   "execution_count": null,
   "metadata": {},
   "outputs": [],
   "source": [
    "df_log.query(\"YBNCI_me_2011>1000\").YBNCI_me_2011.hist(bins = 100, alpha = .5, color = 'g')\n",
    "df_log.query(\"YBNCI_wo_2011>1000\").YBNCI_wo_2011.hist(bins = 100, alpha = .5, color = 'b')"
   ]
  },
  {
   "cell_type": "code",
   "execution_count": null,
   "metadata": {},
   "outputs": [],
   "source": [
    "df_log.query(\"YBNCI_me_2011>40000\").shape"
   ]
  },
  {
   "cell_type": "code",
   "execution_count": null,
   "metadata": {},
   "outputs": [],
   "source": [
    "df_log.query(\"YBNCI_wo_2011>40000\").shape"
   ]
  },
  {
   "cell_type": "code",
   "execution_count": null,
   "metadata": {},
   "outputs": [],
   "source": [
    "\"Delta_bnci_me\""
   ]
  },
  {
   "cell_type": "code",
   "execution_count": null,
   "metadata": {},
   "outputs": [],
   "source": []
  },
  {
   "cell_type": "code",
   "execution_count": null,
   "metadata": {},
   "outputs": [],
   "source": []
  },
  {
   "cell_type": "code",
   "execution_count": null,
   "metadata": {},
   "outputs": [],
   "source": []
  },
  {
   "cell_type": "code",
   "execution_count": null,
   "metadata": {},
   "outputs": [],
   "source": []
  },
  {
   "cell_type": "code",
   "execution_count": null,
   "metadata": {},
   "outputs": [],
   "source": []
  },
  {
   "cell_type": "code",
   "execution_count": null,
   "metadata": {},
   "outputs": [],
   "source": []
  },
  {
   "cell_type": "code",
   "execution_count": null,
   "metadata": {},
   "outputs": [],
   "source": []
  },
  {
   "cell_type": "code",
   "execution_count": null,
   "metadata": {},
   "outputs": [],
   "source": []
  },
  {
   "cell_type": "code",
   "execution_count": null,
   "metadata": {},
   "outputs": [],
   "source": []
  },
  {
   "cell_type": "code",
   "execution_count": null,
   "metadata": {},
   "outputs": [],
   "source": []
  },
  {
   "cell_type": "code",
   "execution_count": null,
   "metadata": {},
   "outputs": [],
   "source": []
  },
  {
   "cell_type": "code",
   "execution_count": null,
   "metadata": {},
   "outputs": [],
   "source": []
  },
  {
   "cell_type": "code",
   "execution_count": null,
   "metadata": {},
   "outputs": [],
   "source": []
  },
  {
   "cell_type": "code",
   "execution_count": null,
   "metadata": {},
   "outputs": [],
   "source": []
  },
  {
   "cell_type": "code",
   "execution_count": null,
   "metadata": {},
   "outputs": [],
   "source": []
  },
  {
   "cell_type": "code",
   "execution_count": null,
   "metadata": {},
   "outputs": [],
   "source": []
  },
  {
   "cell_type": "code",
   "execution_count": null,
   "metadata": {},
   "outputs": [],
   "source": []
  },
  {
   "cell_type": "code",
   "execution_count": null,
   "metadata": {},
   "outputs": [],
   "source": []
  },
  {
   "cell_type": "code",
   "execution_count": null,
   "metadata": {},
   "outputs": [],
   "source": []
  },
  {
   "cell_type": "code",
   "execution_count": null,
   "metadata": {},
   "outputs": [],
   "source": []
  },
  {
   "cell_type": "code",
   "execution_count": null,
   "metadata": {},
   "outputs": [],
   "source": []
  },
  {
   "cell_type": "code",
   "execution_count": null,
   "metadata": {},
   "outputs": [],
   "source": []
  },
  {
   "cell_type": "code",
   "execution_count": null,
   "metadata": {},
   "outputs": [],
   "source": []
  },
  {
   "cell_type": "code",
   "execution_count": null,
   "metadata": {},
   "outputs": [],
   "source": []
  },
  {
   "cell_type": "code",
   "execution_count": null,
   "metadata": {},
   "outputs": [],
   "source": []
  },
  {
   "cell_type": "code",
   "execution_count": null,
   "metadata": {},
   "outputs": [],
   "source": []
  },
  {
   "cell_type": "code",
   "execution_count": null,
   "metadata": {},
   "outputs": [],
   "source": []
  },
  {
   "cell_type": "code",
   "execution_count": null,
   "metadata": {},
   "outputs": [],
   "source": []
  },
  {
   "cell_type": "code",
   "execution_count": null,
   "metadata": {},
   "outputs": [],
   "source": []
  },
  {
   "cell_type": "code",
   "execution_count": null,
   "metadata": {},
   "outputs": [],
   "source": []
  },
  {
   "cell_type": "code",
   "execution_count": null,
   "metadata": {},
   "outputs": [],
   "source": []
  },
  {
   "cell_type": "code",
   "execution_count": null,
   "metadata": {},
   "outputs": [],
   "source": []
  },
  {
   "cell_type": "code",
   "execution_count": null,
   "metadata": {},
   "outputs": [],
   "source": []
  },
  {
   "cell_type": "code",
   "execution_count": null,
   "metadata": {},
   "outputs": [],
   "source": []
  },
  {
   "cell_type": "code",
   "execution_count": null,
   "metadata": {},
   "outputs": [],
   "source": []
  },
  {
   "cell_type": "code",
   "execution_count": null,
   "metadata": {},
   "outputs": [],
   "source": []
  },
  {
   "cell_type": "code",
   "execution_count": null,
   "metadata": {},
   "outputs": [],
   "source": []
  },
  {
   "cell_type": "code",
   "execution_count": null,
   "metadata": {},
   "outputs": [],
   "source": []
  },
  {
   "cell_type": "code",
   "execution_count": null,
   "metadata": {},
   "outputs": [],
   "source": []
  },
  {
   "cell_type": "code",
   "execution_count": null,
   "metadata": {},
   "outputs": [],
   "source": []
  },
  {
   "cell_type": "code",
   "execution_count": null,
   "metadata": {},
   "outputs": [],
   "source": []
  },
  {
   "cell_type": "code",
   "execution_count": null,
   "metadata": {},
   "outputs": [],
   "source": []
  },
  {
   "cell_type": "code",
   "execution_count": null,
   "metadata": {},
   "outputs": [],
   "source": []
  },
  {
   "cell_type": "code",
   "execution_count": null,
   "metadata": {},
   "outputs": [],
   "source": []
  },
  {
   "cell_type": "code",
   "execution_count": null,
   "metadata": {},
   "outputs": [],
   "source": []
  },
  {
   "cell_type": "code",
   "execution_count": null,
   "metadata": {},
   "outputs": [],
   "source": []
  },
  {
   "cell_type": "code",
   "execution_count": null,
   "metadata": {},
   "outputs": [],
   "source": []
  },
  {
   "cell_type": "code",
   "execution_count": null,
   "metadata": {},
   "outputs": [],
   "source": []
  },
  {
   "cell_type": "code",
   "execution_count": null,
   "metadata": {},
   "outputs": [],
   "source": []
  },
  {
   "cell_type": "code",
   "execution_count": null,
   "metadata": {},
   "outputs": [],
   "source": []
  },
  {
   "cell_type": "code",
   "execution_count": null,
   "metadata": {},
   "outputs": [],
   "source": []
  },
  {
   "cell_type": "code",
   "execution_count": null,
   "metadata": {},
   "outputs": [],
   "source": []
  },
  {
   "cell_type": "code",
   "execution_count": null,
   "metadata": {},
   "outputs": [],
   "source": []
  },
  {
   "cell_type": "code",
   "execution_count": null,
   "metadata": {},
   "outputs": [],
   "source": []
  },
  {
   "cell_type": "code",
   "execution_count": null,
   "metadata": {},
   "outputs": [],
   "source": []
  },
  {
   "cell_type": "code",
   "execution_count": null,
   "metadata": {},
   "outputs": [],
   "source": []
  },
  {
   "cell_type": "code",
   "execution_count": null,
   "metadata": {},
   "outputs": [],
   "source": []
  },
  {
   "cell_type": "code",
   "execution_count": null,
   "metadata": {},
   "outputs": [],
   "source": []
  },
  {
   "cell_type": "code",
   "execution_count": null,
   "metadata": {},
   "outputs": [],
   "source": []
  },
  {
   "cell_type": "code",
   "execution_count": null,
   "metadata": {},
   "outputs": [],
   "source": []
  },
  {
   "cell_type": "code",
   "execution_count": null,
   "metadata": {},
   "outputs": [],
   "source": []
  },
  {
   "cell_type": "code",
   "execution_count": null,
   "metadata": {},
   "outputs": [],
   "source": []
  },
  {
   "cell_type": "code",
   "execution_count": null,
   "metadata": {},
   "outputs": [],
   "source": []
  },
  {
   "cell_type": "code",
   "execution_count": null,
   "metadata": {},
   "outputs": [],
   "source": []
  },
  {
   "cell_type": "code",
   "execution_count": null,
   "metadata": {},
   "outputs": [],
   "source": []
  },
  {
   "cell_type": "code",
   "execution_count": null,
   "metadata": {},
   "outputs": [],
   "source": []
  },
  {
   "cell_type": "code",
   "execution_count": null,
   "metadata": {},
   "outputs": [],
   "source": []
  },
  {
   "cell_type": "code",
   "execution_count": null,
   "metadata": {},
   "outputs": [],
   "source": []
  },
  {
   "cell_type": "code",
   "execution_count": null,
   "metadata": {},
   "outputs": [],
   "source": []
  },
  {
   "cell_type": "code",
   "execution_count": null,
   "metadata": {},
   "outputs": [],
   "source": []
  },
  {
   "cell_type": "code",
   "execution_count": null,
   "metadata": {},
   "outputs": [],
   "source": []
  },
  {
   "cell_type": "code",
   "execution_count": null,
   "metadata": {},
   "outputs": [],
   "source": []
  },
  {
   "cell_type": "code",
   "execution_count": null,
   "metadata": {},
   "outputs": [],
   "source": []
  },
  {
   "cell_type": "code",
   "execution_count": null,
   "metadata": {},
   "outputs": [],
   "source": []
  },
  {
   "cell_type": "code",
   "execution_count": null,
   "metadata": {},
   "outputs": [],
   "source": []
  },
  {
   "cell_type": "code",
   "execution_count": null,
   "metadata": {},
   "outputs": [],
   "source": []
  },
  {
   "cell_type": "code",
   "execution_count": null,
   "metadata": {},
   "outputs": [],
   "source": []
  },
  {
   "cell_type": "code",
   "execution_count": null,
   "metadata": {},
   "outputs": [],
   "source": []
  },
  {
   "cell_type": "code",
   "execution_count": null,
   "metadata": {},
   "outputs": [],
   "source": []
  },
  {
   "cell_type": "code",
   "execution_count": null,
   "metadata": {},
   "outputs": [],
   "source": []
  },
  {
   "cell_type": "code",
   "execution_count": null,
   "metadata": {},
   "outputs": [],
   "source": []
  },
  {
   "cell_type": "code",
   "execution_count": null,
   "metadata": {},
   "outputs": [],
   "source": []
  },
  {
   "cell_type": "code",
   "execution_count": null,
   "metadata": {},
   "outputs": [],
   "source": []
  },
  {
   "cell_type": "markdown",
   "metadata": {},
   "source": [
    "### Merge with panact"
   ]
  },
  {
   "cell_type": "code",
   "execution_count": null,
   "metadata": {},
   "outputs": [],
   "source": [
    "df_id_diff_wo = df_log[df_log.Id_diff_wo>1]; df_id_diff_wo.shape"
   ]
  },
  {
   "cell_type": "code",
   "execution_count": null,
   "metadata": {},
   "outputs": [],
   "source": [
    "df_id_diff_me = df_log[df_log.Id_diff_me>1]; df_id_diff_me.shape"
   ]
  },
  {
   "cell_type": "code",
   "execution_count": null,
   "metadata": {
    "scrolled": false
   },
   "outputs": [],
   "source": [
    "m = sm.OLS.from_formula(\"(Delta_rbg)~   {}  \".format(\n",
    "        ' + '.join(between_threshold_for_child_rank+children_number[:]+ over_threshold_for_child_rank+\n",
    "                  interaction_child_between_threshold[:]+interaction_child_over_threshold[:]))\n",
    "        + \"+ Proprietaire +CSDEP + Age_wo + Age_me+ Age_wo_squared + Age_me_squared\"\n",
    "                                                                                        , df_id_diff_wo)\n",
    "fit = m.fit()\n",
    "summary = fit.summary(); print(summary)"
   ]
  },
  {
   "cell_type": "markdown",
   "metadata": {},
   "source": [
    "On va chercher Panact dans les DADS de l'EDP 2016 '"
   ]
  },
  {
   "cell_type": "code",
   "execution_count": null,
   "metadata": {},
   "outputs": [],
   "source": [
    "try : \n",
    "    df_panact = pd.read_hdf('C:/Users/IMPTEMP_A_PACIFIC/Desktop/EDP_2015/Data/hdf/dads_edp_2016.h5','dads_start_2009')\n",
    "except : \n",
    "    df_panact = pd.read_csv(\"C:\\Users\\IMPTEMP_A_PACIFIC\\Desktop\\EDP_2015\\Data\\csv\\PANACT_2016.csv\")\n",
    "    df_panact_start_2009 = df_panact[df_panact.AN>=2009]\n",
    "    df_panact_start_2009.to_hdf('C:/Users/IMPTEMP_A_PACIFIC/Desktop/EDP_2015/Data/hdf/dads_edp_2016.h5','dads_start_2009')"
   ]
  },
  {
   "cell_type": "code",
   "execution_count": null,
   "metadata": {},
   "outputs": [],
   "source": [
    "df_panact_2011 = df_panact[df_panact.AN == 2011]"
   ]
  },
  {
   "cell_type": "code",
   "execution_count": null,
   "metadata": {},
   "outputs": [],
   "source": [
    "df_panact_2014 = df_panact[df_panact.AN == 2014]"
   ]
  },
  {
   "cell_type": "code",
   "execution_count": null,
   "metadata": {},
   "outputs": [],
   "source": [
    "panac_2014_2011 = pd.merge(df_panact_2011, df_panact_2014, on = 'ID_DIFF', suffixes=(\"_2011\",\"_2014\" ), how = 'outer')"
   ]
  },
  {
   "cell_type": "code",
   "execution_count": null,
   "metadata": {},
   "outputs": [],
   "source": [
    "panac_2014_2011.NBHEUR_2011.fillna(0,inplace=True)\n",
    "panac_2014_2011.NBHEUR_2014.fillna(0,inplace=True)"
   ]
  },
  {
   "cell_type": "code",
   "execution_count": null,
   "metadata": {},
   "outputs": [],
   "source": [
    "id_diff_control = merge_panac_reg_wo.ID_DIFF\n",
    "\n",
    "\n",
    "\n",
    "\n"
   ]
  },
  {
   "cell_type": "code",
   "execution_count": null,
   "metadata": {},
   "outputs": [],
   "source": []
  },
  {
   "cell_type": "code",
   "execution_count": null,
   "metadata": {},
   "outputs": [],
   "source": [
    "TODO : doute sur le fait que je choppe le bon sexe, trop peu de difference entre homme et femme"
   ]
  },
  {
   "cell_type": "code",
   "execution_count": null,
   "metadata": {},
   "outputs": [],
   "source": [
    "fisci = load_fisc_i_by_year(2011)"
   ]
  },
  {
   "cell_type": "code",
   "execution_count": null,
   "metadata": {},
   "outputs": [],
   "source": [
    "#fisci = fisci.ID_DIFF.isin(id_diff_control)"
   ]
  },
  {
   "cell_type": "code",
   "execution_count": null,
   "metadata": {},
   "outputs": [],
   "source": [
    "#fisci.SEXE.value_counts() #TODO : tout doit être égal à sexe femme"
   ]
  },
  {
   "cell_type": "code",
   "execution_count": null,
   "metadata": {},
   "outputs": [],
   "source": []
  },
  {
   "cell_type": "code",
   "execution_count": null,
   "metadata": {},
   "outputs": [],
   "source": [
    "merge_panac_reg_wo= pd.merge(panac_2014_2011, df_id_diff_wo, left_on= \"ID_DIFF\", right_on= \"Id_diff_wo\", how = 'inner')\n",
    "merge_panac_reg_wo['Delta_heur'] = merge_panac_reg_wo.NBHEUR_2014 - merge_panac_reg_wo.NBHEUR_2011\n",
    "merge_panac_reg_wo['Work_more_in_hours'] = (merge_panac_reg_wo.Delta_heur>0).astype('int')\n",
    "merge_panac_reg_wo['Work_less_in_hours'] = (merge_panac_reg_wo.Delta_heur<0).astype('int')\n",
    "merge_panac_reg_wo['Start_to_work_hours'] = ((merge_panac_reg_wo['NBHEUR_2014']>100)&(merge_panac_reg_wo['NBHEUR_2011']<100)).astype('int')\n",
    "merge_panac_reg_wo['Switch_to_full_time'] = ((merge_panac_reg_wo['NBHEUR_2014']>=1700)&(merge_panac_reg_wo['NBHEUR_2011']<1700)).astype('int')\n",
    "merge_panac_reg_wo['Switch_to_part_time'] = ((merge_panac_reg_wo['NBHEUR_2014']<=1700)&(merge_panac_reg_wo['NBHEUR_2011']>1700)).astype('int')"
   ]
  },
  {
   "cell_type": "code",
   "execution_count": null,
   "metadata": {},
   "outputs": [],
   "source": [
    "merge_panac_reg_me= pd.merge(panac_2014_2011, df_id_diff_me, left_on= \"ID_DIFF\", right_on= \"Id_diff_me\", how = 'inner')\n",
    "merge_panac_reg_me['Delta_heur'] = merge_panac_reg_me.NBHEUR_2014 - merge_panac_reg_me.NBHEUR_2011\n",
    "merge_panac_reg_me['Work_more_in_hours'] = (merge_panac_reg_me['Delta_heur']>0).astype('int')\n",
    "merge_panac_reg_me['Work_less_in_hours'] = (merge_panac_reg_me['Delta_heur']<0).astype('int')\n",
    "merge_panac_reg_me['Start_to_work_hours'] = ((merge_panac_reg_me['NBHEUR_2014']>100)&(merge_panac_reg_me['NBHEUR_2011']<100)).astype('int')\n",
    "merge_panac_reg_me['Switch_to_full_time'] = ((merge_panac_reg_me['NBHEUR_2014']>=1700)&(merge_panac_reg_me['NBHEUR_2011']<1700)).astype('int')\n",
    "merge_panac_reg_me['Switch_to_part_time'] = ((merge_panac_reg_me['NBHEUR_2014']<=1700)&(merge_panac_reg_me['NBHEUR_2011']>1700)).astype('int')"
   ]
  },
  {
   "cell_type": "code",
   "execution_count": null,
   "metadata": {},
   "outputs": [],
   "source": [
    "#Pas les memes ID_DIFF entre EDP 2015 et EDP2016...\n",
    "#merge_panac_reg_me[[\"ID_DIFF\", \"Id_diff_me\", \"YSALI_me_2011\", \"NETNET_2011\"]]"
   ]
  },
  {
   "cell_type": "code",
   "execution_count": null,
   "metadata": {},
   "outputs": [],
   "source": [
    "merge_panac_reg_me.NETNET_2011.describe()"
   ]
  },
  {
   "cell_type": "code",
   "execution_count": null,
   "metadata": {},
   "outputs": [],
   "source": [
    "filter_net_net\n",
    "(merge_panac_reg_wo.NETNET_2011 - merge_panac_reg_wo.YSALI_wo_2011).hist(bins = 5000)\n",
    "plt.xlim(-4000,4000)"
   ]
  },
  {
   "cell_type": "code",
   "execution_count": null,
   "metadata": {},
   "outputs": [],
   "source": [
    "merge_panac_reg_wo[\"Correct_sali_between_dads_impo\"] = np.abs(\n",
    "    (merge_panac_reg_wo.YSALI_2011 - merge_panac_reg_wo.NETNETR_2011)/merge_panac_reg_wo.YSALI_2011)*(merge_panac_reg_wo.YSALI_2011>10000)"
   ]
  },
  {
   "cell_type": "code",
   "execution_count": null,
   "metadata": {},
   "outputs": [],
   "source": [
    "merge_panac_reg_wo.query(\"Correct_sali_between_dads_impo<1\")[\"Correct_sali_between_dads_impo\"].hist(bins= 100)"
   ]
  },
  {
   "cell_type": "code",
   "execution_count": null,
   "metadata": {},
   "outputs": [],
   "source": [
    "merge_panac_reg_wo.query(\"(Correct_sali_between_dads_impo<0.01)&(YSALI_2011>10000)\"\n",
    "                        )[[\"Correct_sali_between_dads_impo\", \"NETNETR_2011\", \"YSALI_2011\"]].head()"
   ]
  },
  {
   "cell_type": "code",
   "execution_count": null,
   "metadata": {},
   "outputs": [],
   "source": [
    "#merge_panac_reg_wo[[\"NETNET_2011\", \"NETNETR_2011\", \"YSALI_wo_2011\",\"YSALI_me_2011\", \"Age_wo\", \"Age_me\"]]"
   ]
  },
  {
   "cell_type": "code",
   "execution_count": null,
   "metadata": {},
   "outputs": [],
   "source": [
    "merge_panac_reg_wo.NBHEUR_2011.hist(bins = 100)\n",
    "merge_panac_reg_me.NBHEUR_2011.hist(bins = 100)"
   ]
  },
  {
   "cell_type": "code",
   "execution_count": null,
   "metadata": {},
   "outputs": [],
   "source": [
    "merge_panac_reg_me.NBHEUR_2011.describe()"
   ]
  },
  {
   "cell_type": "code",
   "execution_count": null,
   "metadata": {},
   "outputs": [],
   "source": [
    "print merge_panac_reg_me['Work_less_in_hours'].value_counts()\n",
    "print merge_panac_reg_wo['Work_less_in_hours'].value_counts()\n",
    "print merge_panac_reg_me['Work_more_in_hours'].value_counts()\n",
    "print merge_panac_reg_wo['Work_more_in_hours'].value_counts()\n",
    "print merge_panac_reg_me['Start_to_work_hours'].value_counts()\n",
    "print merge_panac_reg_wo['Start_to_work_hours'].value_counts()"
   ]
  },
  {
   "cell_type": "code",
   "execution_count": null,
   "metadata": {},
   "outputs": [],
   "source": [
    "merge_panac_reg_wo.NBHEUR_2011.mean()"
   ]
  },
  {
   "cell_type": "code",
   "execution_count": null,
   "metadata": {},
   "outputs": [],
   "source": [
    "merge_panac_reg_wo.NBHEUR_2011.hist(bins = 100)"
   ]
  },
  {
   "cell_type": "code",
   "execution_count": null,
   "metadata": {},
   "outputs": [],
   "source": [
    "(merge_panac_reg_wo.NBHEUR_2011>1400).value_counts(normalize = True)"
   ]
  },
  {
   "cell_type": "code",
   "execution_count": null,
   "metadata": {},
   "outputs": [],
   "source": [
    "(merge_panac_reg_me.NBHEUR_2011>1400).value_counts(normalize = True)"
   ]
  },
  {
   "cell_type": "code",
   "execution_count": null,
   "metadata": {},
   "outputs": [],
   "source": [
    "merge_panac_reg_wo.Delta_heur.hist(bins = 100)"
   ]
  },
  {
   "cell_type": "code",
   "execution_count": null,
   "metadata": {},
   "outputs": [],
   "source": [
    "merge_panac_reg_me.Delta_heur.hist(bins = 100)"
   ]
  },
  {
   "cell_type": "code",
   "execution_count": null,
   "metadata": {},
   "outputs": [],
   "source": [
    "m = sm.Probit.from_formula(\"(Work_less_in_hours)~   {}  \".format(\n",
    "        ' + '.join(between_threshold_for_child_rank+children_number[:]+ over_threshold_for_child_rank+\n",
    "                  interaction_child_between_threshold[:]+interaction_child_over_threshold[:]))\n",
    "        + \"+ Proprietaire +CSDEP + Age_wo + Age_me+ Age_wo_squared + Age_me_squared+Age_Elder_child\"\n",
    "                                                                                        , merge_panac_reg_wo)\n",
    "fit = m.fit()\n",
    "summary = fit.summary(); print(summary)"
   ]
  },
  {
   "cell_type": "code",
   "execution_count": null,
   "metadata": {},
   "outputs": [],
   "source": [
    "m = sm.Probit.from_formula(\"(Switch_to_part_time)~   {}  \".format(\n",
    "        ' + '.join(between_threshold_for_child_rank+children_number[:]+ over_threshold_for_child_rank+\n",
    "                  interaction_child_between_threshold[:]+interaction_child_over_threshold[:]))\n",
    "        + \"+ Proprietaire +CSDEP + Age_wo + Age_me+ Age_wo_squared + Age_me_squared+Age_Elder_child\"\n",
    "                                                                                        , merge_panac_reg_me)\n",
    "fit = m.fit()\n",
    "summary = fit.summary(); print(summary)"
   ]
  },
  {
   "cell_type": "code",
   "execution_count": null,
   "metadata": {},
   "outputs": [],
   "source": [
    "merge_panac_reg_me.Start_to_work_hours.value_counts(dropna = False)"
   ]
  },
  {
   "cell_type": "code",
   "execution_count": null,
   "metadata": {},
   "outputs": [],
   "source": [
    "m = sm.Probit.from_formula(\"(Start_to_work_hours)~   {}  \".format(\n",
    "        ' + '.join(between_threshold_for_child_rank+children_number[:]+ over_threshold_for_child_rank+\n",
    "                  interaction_child_between_threshold[:]+interaction_child_over_threshold[:]))\n",
    "        + \"+ Proprietaire +CSDEP + Age_wo + Age_me+ Age_wo_squared + Age_me_squared\"\n",
    "                                                                                        , merge_panac_reg_wo)\n",
    "fit = m.fit(maxiter = 500, method = \"bfgs\")\n",
    "summary = fit.summary(); print(summary)"
   ]
  },
  {
   "cell_type": "code",
   "execution_count": null,
   "metadata": {},
   "outputs": [],
   "source": [
    "merge_panac_reg_me."
   ]
  },
  {
   "cell_type": "code",
   "execution_count": null,
   "metadata": {},
   "outputs": [],
   "source": [
    "m = sm.Probit.from_formula(\"(Stop_to_work_hours)~   {}  \".format(\n",
    "        ' + '.join(between_threshold_for_child_rank+children_number[:]+ over_threshold_for_child_rank+\n",
    "                  interaction_child_between_threshold[:]+interaction_child_over_threshold[:]))\n",
    "        + \"+ Proprietaire +CSDEP + Age_wo + Age_me+ Age_wo_squared + Age_me_squared\"\n",
    "                                                                                        , merge_panac_reg_me)\n",
    "fit = m.fit(maxiter = 500,  method = \"bfgs\")\n",
    "summary = fit.summary(); print(summary)"
   ]
  },
  {
   "cell_type": "code",
   "execution_count": null,
   "metadata": {},
   "outputs": [],
   "source": []
  },
  {
   "cell_type": "code",
   "execution_count": null,
   "metadata": {},
   "outputs": [],
   "source": []
  },
  {
   "cell_type": "code",
   "execution_count": null,
   "metadata": {},
   "outputs": [],
   "source": []
  },
  {
   "cell_type": "code",
   "execution_count": null,
   "metadata": {},
   "outputs": [],
   "source": []
  },
  {
   "cell_type": "code",
   "execution_count": null,
   "metadata": {},
   "outputs": [],
   "source": []
  },
  {
   "cell_type": "code",
   "execution_count": null,
   "metadata": {},
   "outputs": [],
   "source": []
  },
  {
   "cell_type": "code",
   "execution_count": null,
   "metadata": {},
   "outputs": [],
   "source": [
    "\n",
    "m = sm.RLM.from_formula(\"(Delta_heur)~   {}+AGERF_2011  \".format(\n",
    "        ' + '.join(between_threshold_for_child_rank+children_number[:]+ over_threshold_for_child_rank+\n",
    "                  interaction_child_between_threshold[:]+interaction_child_over_threshold[:]))\n",
    "        + \"+ Proprietaire +CSDEP + Age_wo + Age_me+ Age_wo_squared + Age_me_squared\"\n",
    "                                                                                        , merge_panac_reg_me)\n",
    "fit = m.fit()\n",
    "summary = fit.summary(); print(summary)"
   ]
  },
  {
   "cell_type": "code",
   "execution_count": null,
   "metadata": {},
   "outputs": [],
   "source": [
    "merge_panac_reg.NBHEUR"
   ]
  },
  {
   "cell_type": "code",
   "execution_count": null,
   "metadata": {},
   "outputs": [],
   "source": [
    "df_log.ZIMPOM14_2014.describe(percentiles=[0.2,0.95,.99,.999])"
   ]
  },
  {
   "cell_type": "code",
   "execution_count": null,
   "metadata": {},
   "outputs": [],
   "source": []
  },
  {
   "cell_type": "code",
   "execution_count": null,
   "metadata": {},
   "outputs": [],
   "source": [
    "df_log[\"Rbg_wo\"]=(\n",
    "    ( df_log.ZTSAM_wo*0.9) + df_log.ZRAGM_wo \n",
    "    + df_log.ZRACM_wo + df_log.ZRNCM_wo \n",
    "    + df_log.ZFONM_wo + df_log.ZPERM_wo*0.9\n",
    "    + df_log.ZRICM_wo)"
   ]
  },
  {
   "cell_type": "code",
   "execution_count": null,
   "metadata": {},
   "outputs": [],
   "source": [
    "income_vars = [\"YSALI\", \"YALRI\", \"YCHOI\", \"YBICI\", \"YBNCI\", \"YRAGI\", \"YRSTI\"]\n",
    "income_vars_me = [string + \"_me_2011\" for string in income_vars]\n",
    "income_vars_wo = [string + \"_wo_2011\" for string in income_vars]"
   ]
  },
  {
   "cell_type": "code",
   "execution_count": null,
   "metadata": {},
   "outputs": [],
   "source": [
    "df_log[\"Income_me\"] = df_log[income_vars_me].sum(axis = 1)\n",
    "df_log[\"Income_wo\"] = df_log[income_vars_wo].sum(axis = 1)"
   ]
  },
  {
   "cell_type": "code",
   "execution_count": null,
   "metadata": {},
   "outputs": [],
   "source": [
    "df_log[income_vars_me].div(df_log[\"Income_me\"], axis = 0).YSALI_me_2011.hist(bins = 10000)\n",
    "plt.xlim(0,1)"
   ]
  },
  {
   "cell_type": "code",
   "execution_count": null,
   "metadata": {},
   "outputs": [],
   "source": [
    "df_log[income_vars_me].div(df_log[\"Income_me\"], axis = 0).fillna(0).mean()"
   ]
  },
  {
   "cell_type": "code",
   "execution_count": null,
   "metadata": {},
   "outputs": [],
   "source": [
    "df_log[income_vars_wo].div(df_log[\"Income_wo\"], axis = 0).fillna(0).mean()"
   ]
  },
  {
   "cell_type": "code",
   "execution_count": null,
   "metadata": {},
   "outputs": [],
   "source": [
    "df.YSALI_wo_2011.describe()"
   ]
  },
  {
   "cell_type": "code",
   "execution_count": null,
   "metadata": {},
   "outputs": [],
   "source": [
    "labor_income_vars = [\"YSALI\", \"YBICI\", \"YBNCI\", \"YRAGI\"]\n",
    "labor_income_vars_me_2011 = [string + \"_me_2011\" for string in income_vars]\n",
    "labor_income_vars_wo_2011 = [string + \"_wo_2011\" for string in income_vars]\n",
    "labor_income_vars_me_2014 = [string + \"_me_2014\" for string in income_vars]\n",
    "labor_income_vars_wo_2014 = [string + \"_wo_2014\" for string in income_vars]"
   ]
  },
  {
   "cell_type": "code",
   "execution_count": null,
   "metadata": {},
   "outputs": [],
   "source": [
    "df_log[\"Labor_income_me_2011\"] = df_log[labor_income_vars_me_2011].sum(axis= 1)\n",
    "df_log[\"Labor_income_me_2014\"] = df_log[labor_income_vars_me_2014].sum(axis= 1)\n",
    "df_log[\"Labor_income_wo_2011\"] = df_log[labor_income_vars_wo_2011].sum(axis= 1)\n",
    "df_log[\"Labor_income_wo_2014\"] = df_log[labor_income_vars_wo_2014].sum(axis= 1)\n"
   ]
  },
  {
   "cell_type": "code",
   "execution_count": null,
   "metadata": {},
   "outputs": [],
   "source": [
    "df_log[\"Delta_labor_income_me\"] = df_log.Labor_income_me_2014 - df_log.Labor_income_me_2011\n",
    "df_log[\"Delta_labor_income_wo\"] = df_log.Labor_income_wo_2014 - df_log.Labor_income_wo_2011"
   ]
  },
  {
   "cell_type": "code",
   "execution_count": null,
   "metadata": {},
   "outputs": [],
   "source": []
  },
  {
   "cell_type": "code",
   "execution_count": null,
   "metadata": {},
   "outputs": [],
   "source": [
    "df_log[[\"Age_wo\", \"Age_me\", \"YSALI_me_2014\", \"YCHOI_me_2014\", \"YSALI_wo_2014\", \"YCHOI_wo_2014\", \"ID_FISC_LOG_DIFF\"]].head()"
   ]
  },
  {
   "cell_type": "code",
   "execution_count": null,
   "metadata": {},
   "outputs": [],
   "source": [
    "df_log.NBPERSM_2011 -df_log.NBPAC_2011.value_counts()"
   ]
  },
  {
   "cell_type": "code",
   "execution_count": null,
   "metadata": {},
   "outputs": [],
   "source": [
    "fisci = load_fisc_i_by_year(2014)"
   ]
  },
  {
   "cell_type": "code",
   "execution_count": null,
   "metadata": {},
   "outputs": [],
   "source": [
    "fisci.query(\"ID_FISC_LOG_DIFF ==121\")"
   ]
  },
  {
   "cell_type": "code",
   "execution_count": null,
   "metadata": {},
   "outputs": [],
   "source": [
    "fiscr = load_fisc_r_by_year(2014)"
   ]
  },
  {
   "cell_type": "code",
   "execution_count": null,
   "metadata": {},
   "outputs": [],
   "source": [
    "fiscr.query(\"ID_FISC_LOG_DIFF ==121\")"
   ]
  },
  {
   "cell_type": "code",
   "execution_count": null,
   "metadata": {},
   "outputs": [],
   "source": []
  },
  {
   "cell_type": "code",
   "execution_count": null,
   "metadata": {},
   "outputs": [],
   "source": [
    "m = sm.OLS.from_formula(\"(Delta_labor_income_me)~   {}  \".format(\n",
    "        ' + '.join(between_threshold_for_child_rank+children_number[:]+ over_threshold_for_child_rank+\n",
    "                  interaction_child_between_threshold[:]+interaction_child_over_threshold[:]))\n",
    "        + \"+ Proprietaire +CSDEP + Age_wo + Age_me+ Age_wo_squared + Age_me_squared+ Age_me:Between_threshold_5_child:child_5\"\n",
    "                                                                                        , df_log)\n",
    "fit_me = m.fit(maxiter =50)\n",
    "summary = fit_me.summary(); print(summary)\n",
    "m = sm.OLS.from_formula(\"(Delta_labor_income_wo)~   {}  \".format(\n",
    "        ' + '.join(between_threshold_for_child_rank+children_number[:]+ over_threshold_for_child_rank+\n",
    "                  interaction_child_between_threshold[:]+interaction_child_over_threshold[:]))\n",
    "        + \"+ Proprietaire +CSDEP + Age_wo + Age_me+ Age_wo_squared + Age_me_squared\"\n",
    "                                                                                        , df_log)\n",
    "fit_wo = m.fit(maxiter =50)\n",
    "summary = fit_wo.summary(); print(summary)"
   ]
  },
  {
   "cell_type": "code",
   "execution_count": null,
   "metadata": {},
   "outputs": [],
   "source": [
    "fit_me.params - fit_wo.params"
   ]
  },
  {
   "cell_type": "code",
   "execution_count": null,
   "metadata": {},
   "outputs": [],
   "source": []
  },
  {
   "cell_type": "code",
   "execution_count": null,
   "metadata": {},
   "outputs": [],
   "source": []
  },
  {
   "cell_type": "code",
   "execution_count": null,
   "metadata": {},
   "outputs": [],
   "source": []
  },
  {
   "cell_type": "code",
   "execution_count": null,
   "metadata": {},
   "outputs": [],
   "source": []
  },
  {
   "cell_type": "code",
   "execution_count": null,
   "metadata": {},
   "outputs": [],
   "source": []
  },
  {
   "cell_type": "code",
   "execution_count": null,
   "metadata": {},
   "outputs": [],
   "source": []
  },
  {
   "cell_type": "code",
   "execution_count": null,
   "metadata": {},
   "outputs": [],
   "source": [
    "df_log.working_me_2014.value_counts(normalize=True)"
   ]
  },
  {
   "cell_type": "code",
   "execution_count": null,
   "metadata": {},
   "outputs": [],
   "source": [
    "df_log.working_wo_2011.value_counts(normalize=True)"
   ]
  },
  {
   "cell_type": "code",
   "execution_count": null,
   "metadata": {},
   "outputs": [],
   "source": [
    "df_log.working_wo_2011.value_counts(normalize=True)"
   ]
  },
  {
   "cell_type": "code",
   "execution_count": null,
   "metadata": {},
   "outputs": [],
   "source": [
    "print df_2011_keep[(df_2011_keep.SEXE==2)&(df_2011_keep.YSALI == 0)&(df_2011_keep.YRSTI==0)].shape ;print \"femmes\""
   ]
  },
  {
   "cell_type": "code",
   "execution_count": null,
   "metadata": {},
   "outputs": [],
   "source": [
    "df.working_me_2011.value_counts() #Probleme double comptage..."
   ]
  },
  {
   "cell_type": "code",
   "execution_count": null,
   "metadata": {},
   "outputs": [],
   "source": [
    "print \"men started working: \", df.Men_started_working.value_counts()[1]\n",
    "print \"men stopped working: \", df.Men_stopped_working.value_counts()[1]\n",
    "print \"Women started working: \", df.Wo_started_working.value_counts()[1]\n",
    "print \"Women stopped working: \", df.Wo_stopped_working.value_counts()[1]"
   ]
  },
  {
   "cell_type": "code",
   "execution_count": null,
   "metadata": {},
   "outputs": [],
   "source": [
    "print \"men started working: \", df.Men_started_working.value_counts()[1]\n",
    "print \"men stopped working: \", df.Men_stopped_working.value_counts()[1]\n",
    "print \"Women started working: \", df.Wo_started_working.value_counts()[1]\n",
    "print \"Women stopped working: \", df.Wo_stopped_working.value_counts()[1]"
   ]
  },
  {
   "cell_type": "code",
   "execution_count": null,
   "metadata": {},
   "outputs": [],
   "source": [
    "# m = sm.Logit.from_formula(\"(Wo_started_working)~   {} \".format(\n",
    "#         ' + '.join(children_number+between_threshold_for_child_rank+ over_threshold_for_child_rank+interaction_child_over_threshold\n",
    "#                  + interaction_child_between_threshold))\n",
    "#                                         , df)\n",
    "# fit = m.fit(maxiter = 500)\n",
    "# summary = fit.summary(); print(summary)"
   ]
  },
  {
   "cell_type": "code",
   "execution_count": null,
   "metadata": {},
   "outputs": [],
   "source": [
    "m = sm.Probit.from_formula(\"(Men_stopped_working)~   {} + AGERF_2011 + Over_threshold + Between_thresholds\".format(\n",
    "        ' + '.join(children_number+between_threshold_for_child_rank\n",
    "                  ))\n",
    "                                        , df)\n",
    "fit = m.fit(maxiter=500)\n",
    "summary = fit.summary(); print(summary)"
   ]
  },
  {
   "cell_type": "code",
   "execution_count": null,
   "metadata": {},
   "outputs": [],
   "source": [
    "m = sm.Probit.from_formula(\"(Wo_started_working)~   {} + AGERF_2011 + Over_threshold + Between_thresholds\".format(\n",
    "        ' + '.join(children_number+between_threshold_for_child_rank\n",
    "                  ))\n",
    "                                        , df)\n",
    "fit = m.fit(maxiter=500)\n",
    "summary = fit.summary(); print(summary)"
   ]
  },
  {
   "cell_type": "code",
   "execution_count": null,
   "metadata": {},
   "outputs": [],
   "source": [
    "m = sm.Probit.from_formula(\"(Wo_stopped_working)~   {} + AGERF_2011  \".format(\n",
    "        ' + '.join(children_number+ over_threshold_for_child_rank+between_threshold_for_child_rank+\n",
    "                  interaction_child_between_threshold))\n",
    "                                        , working_by_sex_reg)\n",
    "fit = m.fit()\n",
    "summary = fit.summary(); print(summary)"
   ]
  },
  {
   "cell_type": "code",
   "execution_count": null,
   "metadata": {},
   "outputs": [],
   "source": [
    "df[df.Wo_started_working==1][[\"Wo_started_working\", \"YSALI_wo_2011\", \"YSALI_wo_2014\"]]"
   ]
  },
  {
   "cell_type": "code",
   "execution_count": null,
   "metadata": {},
   "outputs": [],
   "source": [
    "m = sm.Probit.from_formula(\"(Wo_started_working)~   {} + AGERF_2011  \".format(\n",
    "        ' + '.join(between_threshold_for_child_rank+children_number+ over_threshold_for_child_rank+\n",
    "                  interaction_child_between_threshold+interaction_child_over_threshold))\n",
    "                                        , df_log)\n",
    "fit = m.fit()\n",
    "summary = fit.summary(); print(summary)"
   ]
  },
  {
   "cell_type": "code",
   "execution_count": null,
   "metadata": {},
   "outputs": [],
   "source": [
    "m = sm.Probit.from_formula(\"(Wo_started_working)~   {} + AGERF_2011  \".format(\n",
    "        ' + '.join(between_threshold_for_child_rank+children_number_temp+ over_threshold_for_child_rank_temp+\n",
    "                  interaction_child_between_threshold_temp+interaction_child_over_threshold_temp))\n",
    "                                        , working_by_sex_reg)\n",
    "fit = m.fit()\n",
    "summary = fit.summary(); print(summary)"
   ]
  },
  {
   "cell_type": "code",
   "execution_count": null,
   "metadata": {},
   "outputs": [],
   "source": [
    "df.head()"
   ]
  },
  {
   "cell_type": "code",
   "execution_count": null,
   "metadata": {},
   "outputs": [],
   "source": []
  },
  {
   "cell_type": "code",
   "execution_count": null,
   "metadata": {},
   "outputs": [],
   "source": []
  },
  {
   "cell_type": "code",
   "execution_count": null,
   "metadata": {},
   "outputs": [],
   "source": []
  },
  {
   "cell_type": "code",
   "execution_count": null,
   "metadata": {},
   "outputs": [],
   "source": []
  },
  {
   "cell_type": "code",
   "execution_count": null,
   "metadata": {},
   "outputs": [],
   "source": []
  },
  {
   "cell_type": "code",
   "execution_count": null,
   "metadata": {},
   "outputs": [],
   "source": []
  },
  {
   "cell_type": "code",
   "execution_count": null,
   "metadata": {},
   "outputs": [],
   "source": []
  },
  {
   "cell_type": "code",
   "execution_count": null,
   "metadata": {},
   "outputs": [],
   "source": []
  },
  {
   "cell_type": "code",
   "execution_count": null,
   "metadata": {},
   "outputs": [],
   "source": []
  },
  {
   "cell_type": "code",
   "execution_count": null,
   "metadata": {},
   "outputs": [],
   "source": []
  },
  {
   "cell_type": "code",
   "execution_count": null,
   "metadata": {},
   "outputs": [],
   "source": []
  },
  {
   "cell_type": "code",
   "execution_count": null,
   "metadata": {},
   "outputs": [],
   "source": []
  },
  {
   "cell_type": "code",
   "execution_count": null,
   "metadata": {},
   "outputs": [],
   "source": []
  },
  {
   "cell_type": "code",
   "execution_count": null,
   "metadata": {},
   "outputs": [],
   "source": []
  },
  {
   "cell_type": "code",
   "execution_count": null,
   "metadata": {},
   "outputs": [],
   "source": []
  },
  {
   "cell_type": "code",
   "execution_count": null,
   "metadata": {},
   "outputs": [],
   "source": []
  },
  {
   "cell_type": "code",
   "execution_count": null,
   "metadata": {},
   "outputs": [],
   "source": []
  },
  {
   "cell_type": "code",
   "execution_count": null,
   "metadata": {},
   "outputs": [],
   "source": []
  },
  {
   "cell_type": "code",
   "execution_count": null,
   "metadata": {},
   "outputs": [],
   "source": []
  },
  {
   "cell_type": "code",
   "execution_count": null,
   "metadata": {},
   "outputs": [],
   "source": []
  },
  {
   "cell_type": "code",
   "execution_count": null,
   "metadata": {},
   "outputs": [],
   "source": []
  },
  {
   "cell_type": "code",
   "execution_count": null,
   "metadata": {},
   "outputs": [],
   "source": []
  },
  {
   "cell_type": "code",
   "execution_count": null,
   "metadata": {},
   "outputs": [],
   "source": []
  },
  {
   "cell_type": "code",
   "execution_count": null,
   "metadata": {},
   "outputs": [],
   "source": []
  },
  {
   "cell_type": "code",
   "execution_count": null,
   "metadata": {},
   "outputs": [],
   "source": []
  },
  {
   "cell_type": "code",
   "execution_count": null,
   "metadata": {},
   "outputs": [],
   "source": []
  },
  {
   "cell_type": "code",
   "execution_count": null,
   "metadata": {},
   "outputs": [],
   "source": []
  },
  {
   "cell_type": "code",
   "execution_count": null,
   "metadata": {},
   "outputs": [],
   "source": []
  },
  {
   "cell_type": "code",
   "execution_count": null,
   "metadata": {},
   "outputs": [],
   "source": []
  },
  {
   "cell_type": "code",
   "execution_count": null,
   "metadata": {},
   "outputs": [],
   "source": []
  },
  {
   "cell_type": "code",
   "execution_count": null,
   "metadata": {},
   "outputs": [],
   "source": []
  },
  {
   "cell_type": "code",
   "execution_count": null,
   "metadata": {},
   "outputs": [],
   "source": []
  },
  {
   "cell_type": "code",
   "execution_count": null,
   "metadata": {},
   "outputs": [],
   "source": []
  },
  {
   "cell_type": "code",
   "execution_count": null,
   "metadata": {},
   "outputs": [],
   "source": []
  },
  {
   "cell_type": "code",
   "execution_count": null,
   "metadata": {},
   "outputs": [],
   "source": []
  },
  {
   "cell_type": "code",
   "execution_count": null,
   "metadata": {},
   "outputs": [],
   "source": []
  },
  {
   "cell_type": "code",
   "execution_count": null,
   "metadata": {},
   "outputs": [],
   "source": []
  },
  {
   "cell_type": "code",
   "execution_count": null,
   "metadata": {},
   "outputs": [],
   "source": []
  },
  {
   "cell_type": "code",
   "execution_count": null,
   "metadata": {},
   "outputs": [],
   "source": []
  },
  {
   "cell_type": "code",
   "execution_count": null,
   "metadata": {},
   "outputs": [],
   "source": []
  },
  {
   "cell_type": "code",
   "execution_count": null,
   "metadata": {},
   "outputs": [],
   "source": []
  },
  {
   "cell_type": "code",
   "execution_count": null,
   "metadata": {},
   "outputs": [],
   "source": []
  },
  {
   "cell_type": "code",
   "execution_count": null,
   "metadata": {},
   "outputs": [],
   "source": []
  },
  {
   "cell_type": "code",
   "execution_count": null,
   "metadata": {},
   "outputs": [],
   "source": []
  },
  {
   "cell_type": "code",
   "execution_count": null,
   "metadata": {},
   "outputs": [],
   "source": []
  },
  {
   "cell_type": "code",
   "execution_count": null,
   "metadata": {},
   "outputs": [],
   "source": []
  },
  {
   "cell_type": "code",
   "execution_count": null,
   "metadata": {},
   "outputs": [],
   "source": []
  },
  {
   "cell_type": "code",
   "execution_count": null,
   "metadata": {},
   "outputs": [],
   "source": []
  },
  {
   "cell_type": "code",
   "execution_count": null,
   "metadata": {},
   "outputs": [],
   "source": []
  },
  {
   "cell_type": "code",
   "execution_count": null,
   "metadata": {},
   "outputs": [],
   "source": []
  },
  {
   "cell_type": "code",
   "execution_count": null,
   "metadata": {},
   "outputs": [],
   "source": []
  },
  {
   "cell_type": "code",
   "execution_count": null,
   "metadata": {},
   "outputs": [],
   "source": []
  },
  {
   "cell_type": "code",
   "execution_count": null,
   "metadata": {},
   "outputs": [],
   "source": []
  },
  {
   "cell_type": "code",
   "execution_count": null,
   "metadata": {},
   "outputs": [],
   "source": []
  },
  {
   "cell_type": "code",
   "execution_count": null,
   "metadata": {},
   "outputs": [],
   "source": []
  },
  {
   "cell_type": "code",
   "execution_count": null,
   "metadata": {},
   "outputs": [],
   "source": []
  },
  {
   "cell_type": "code",
   "execution_count": null,
   "metadata": {},
   "outputs": [],
   "source": []
  },
  {
   "cell_type": "code",
   "execution_count": null,
   "metadata": {},
   "outputs": [],
   "source": []
  },
  {
   "cell_type": "code",
   "execution_count": null,
   "metadata": {},
   "outputs": [],
   "source": []
  },
  {
   "cell_type": "code",
   "execution_count": null,
   "metadata": {},
   "outputs": [],
   "source": []
  },
  {
   "cell_type": "code",
   "execution_count": null,
   "metadata": {},
   "outputs": [],
   "source": []
  },
  {
   "cell_type": "code",
   "execution_count": null,
   "metadata": {},
   "outputs": [],
   "source": []
  },
  {
   "cell_type": "code",
   "execution_count": null,
   "metadata": {},
   "outputs": [],
   "source": []
  },
  {
   "cell_type": "code",
   "execution_count": null,
   "metadata": {},
   "outputs": [],
   "source": []
  },
  {
   "cell_type": "code",
   "execution_count": null,
   "metadata": {},
   "outputs": [],
   "source": []
  },
  {
   "cell_type": "code",
   "execution_count": null,
   "metadata": {},
   "outputs": [],
   "source": []
  },
  {
   "cell_type": "markdown",
   "metadata": {},
   "source": [
    "#fIN mais ce qui avait été fait à l'époque peut être potentiellement intéressant..."
   ]
  },
  {
   "cell_type": "code",
   "execution_count": null,
   "metadata": {},
   "outputs": [],
   "source": []
  },
  {
   "cell_type": "code",
   "execution_count": null,
   "metadata": {},
   "outputs": [],
   "source": []
  },
  {
   "cell_type": "code",
   "execution_count": null,
   "metadata": {},
   "outputs": [],
   "source": []
  },
  {
   "cell_type": "code",
   "execution_count": null,
   "metadata": {},
   "outputs": [],
   "source": []
  },
  {
   "cell_type": "code",
   "execution_count": null,
   "metadata": {},
   "outputs": [],
   "source": []
  },
  {
   "cell_type": "code",
   "execution_count": null,
   "metadata": {},
   "outputs": [],
   "source": []
  },
  {
   "cell_type": "code",
   "execution_count": null,
   "metadata": {},
   "outputs": [],
   "source": []
  },
  {
   "cell_type": "code",
   "execution_count": null,
   "metadata": {},
   "outputs": [],
   "source": []
  },
  {
   "cell_type": "markdown",
   "metadata": {},
   "source": [
    "# Reg sur tout le monde et pas sur ceux gardant uniquement le même nombre d'enfants."
   ]
  },
  {
   "cell_type": "code",
   "execution_count": null,
   "metadata": {},
   "outputs": [],
   "source": []
  },
  {
   "cell_type": "code",
   "execution_count": null,
   "metadata": {},
   "outputs": [],
   "source": []
  },
  {
   "cell_type": "code",
   "execution_count": null,
   "metadata": {},
   "outputs": [],
   "source": []
  },
  {
   "cell_type": "code",
   "execution_count": null,
   "metadata": {},
   "outputs": [],
   "source": []
  },
  {
   "cell_type": "code",
   "execution_count": null,
   "metadata": {},
   "outputs": [],
   "source": []
  },
  {
   "cell_type": "code",
   "execution_count": null,
   "metadata": {},
   "outputs": [],
   "source": [
    "suffixes = fisc_r_2012.columns"
   ]
  },
  {
   "cell_type": "code",
   "execution_count": null,
   "metadata": {},
   "outputs": [],
   "source": [
    "len(fisc_r_2014.columns)"
   ]
  },
  {
   "cell_type": "code",
   "execution_count": null,
   "metadata": {},
   "outputs": [],
   "source": [
    "fisc_r_2012.columns = [fisc_r_2012.columns[0]]+[label+\"_2012\" for label in fisc_r_2012.columns[1:] ]\n",
    "fisc_r_2013.columns = [fisc_r_2012.columns[0]]+[label+\"_2013\" for label in fisc_r_2012.columns[1:] ]\n",
    "fisc_r_2010.columns = [fisc_r_2010.columns[0]]+[label+\"_2010\" for label in fisc_r_2010.columns[1:] ]"
   ]
  },
  {
   "cell_type": "code",
   "execution_count": null,
   "metadata": {},
   "outputs": [],
   "source": [
    "%%time\n",
    "df_fiscr_2010_to_2014 = pd.merge(df_fiscr_2011_2014,fisc_r_2010, on='ID_FISC_LOG_DIFF', suffixes=('ERROR','ERROR') )"
   ]
  },
  {
   "cell_type": "code",
   "execution_count": null,
   "metadata": {},
   "outputs": [],
   "source": [
    "%%time\n",
    "df_fiscr_2010_to_2014 = pd.merge(df_fiscr_2010_to_2014,fisc_r_2012, on='ID_FISC_LOG_DIFF', suffixes=('ERROR','ERROR') )"
   ]
  },
  {
   "cell_type": "code",
   "execution_count": null,
   "metadata": {},
   "outputs": [],
   "source": [
    "%%time\n",
    "df_fiscr_2010_to_2014 = pd.merge(df_fiscr_2010_to_2014,fisc_r_2013, on='ID_FISC_LOG_DIFF', suffixes=('ERROR','ERROR') )"
   ]
  },
  {
   "cell_type": "code",
   "execution_count": null,
   "metadata": {},
   "outputs": [],
   "source": [
    "(df_fiscr_2010_to_2014.ZIMPOM_2014 -(df_fiscr_2010_to_2014.ZIMPOM_2011)).describe()"
   ]
  },
  {
   "cell_type": "code",
   "execution_count": null,
   "metadata": {},
   "outputs": [],
   "source": [
    "(df_fiscr_2010_to_2014.ZIMPOM_2014 /(df_fiscr_2010_to_2014.ZIMPOM_2011)).describe()"
   ]
  },
  {
   "cell_type": "code",
   "execution_count": null,
   "metadata": {},
   "outputs": [],
   "source": []
  },
  {
   "cell_type": "code",
   "execution_count": null,
   "metadata": {},
   "outputs": [],
   "source": []
  },
  {
   "cell_type": "markdown",
   "metadata": {},
   "source": [
    "## Nombre d'individus potentiellement concernés."
   ]
  },
  {
   "cell_type": "markdown",
   "metadata": {},
   "source": [
    "## Avec 1 enfant"
   ]
  },
  {
   "cell_type": "code",
   "execution_count": null,
   "metadata": {},
   "outputs": [],
   "source": [
    "((df_fiscr_2010_to_2014.ZSALM_2011>36000) & (df_fiscr_2010_to_2014.ZSALM_2011<41000) \n",
    "&(df_fiscr_2010_to_2014.TYPMEN9_2011.isin([41]))).value_counts()"
   ]
  },
  {
   "cell_type": "code",
   "execution_count": null,
   "metadata": {},
   "outputs": [],
   "source": [
    "((df_fiscr_2010_to_2014.ZSALM_2011>41000)\n",
    "&(df_fiscr_2010_to_2014.TYPMEN9_2011.isin([41]))).value_counts()"
   ]
  },
  {
   "cell_type": "markdown",
   "metadata": {},
   "source": [
    "## Avec 2 enfants"
   ]
  },
  {
   "cell_type": "code",
   "execution_count": null,
   "metadata": {},
   "outputs": [],
   "source": [
    "((df_fiscr_2010_to_2014.ZSALM_2011>41000) & (df_fiscr_2010_to_2014.ZSALM_2011<52000) \n",
    "&(df_fiscr_2010_to_2014.TYPMEN9_2011.isin([42]))).value_counts()"
   ]
  },
  {
   "cell_type": "code",
   "execution_count": null,
   "metadata": {},
   "outputs": [],
   "source": [
    "((df_fiscr_2010_to_2014.ZSALM_2011>52000)\n",
    "&(df_fiscr_2010_to_2014.TYPMEN9_2011.isin([42]))).value_counts()"
   ]
  },
  {
   "cell_type": "markdown",
   "metadata": {},
   "source": [
    "## Avec 3 enfants"
   ]
  },
  {
   "cell_type": "code",
   "execution_count": null,
   "metadata": {},
   "outputs": [],
   "source": [
    "((df_fiscr_2010_to_2014.ZSALM_2011>53000) & (df_fiscr_2010_to_2014.ZSALM_2011<76000) \n",
    "&(df_fiscr_2010_to_2014.TYPMEN9_2011.isin([43]))).value_counts()"
   ]
  },
  {
   "cell_type": "code",
   "execution_count": null,
   "metadata": {},
   "outputs": [],
   "source": [
    "((df_fiscr_2010_to_2014.ZSALM_2011>76000)\n",
    "&(df_fiscr_2010_to_2014.TYPMEN9_2011.isin([43]))).value_counts()"
   ]
  },
  {
   "cell_type": "code",
   "execution_count": null,
   "metadata": {},
   "outputs": [],
   "source": []
  },
  {
   "cell_type": "markdown",
   "metadata": {},
   "source": [
    "\n",
    "### Créer rapidement des variables binaires pour chaque groupe pour voir si ça a un impact sur zsalm d'apartenir au groupe..."
   ]
  },
  {
   "cell_type": "code",
   "execution_count": null,
   "metadata": {},
   "outputs": [],
   "source": [
    "df_fiscr_2010_to_2014[\"Groupe_1\"]=((df_fiscr_2010_to_2014.ZSALM_2011>36000) & (df_fiscr_2010_to_2014.ZSALM_2011<41000) \n",
    "&(df_fiscr_2010_to_2014.TYPMEN9_2011.isin([41])))"
   ]
  },
  {
   "cell_type": "code",
   "execution_count": null,
   "metadata": {},
   "outputs": [],
   "source": [
    "df_fiscr_2010_to_2014[\"Groupe_1\"] += ((df_fiscr_2010_to_2014.ZSALM_2011>41000) & (df_fiscr_2010_to_2014.ZSALM_2011<52000) \n",
    "&(df_fiscr_2010_to_2014.TYPMEN9_2011.isin([42])))"
   ]
  },
  {
   "cell_type": "code",
   "execution_count": null,
   "metadata": {},
   "outputs": [],
   "source": [
    "df_fiscr_2010_to_2014[\"Groupe_1\"] +=((df_fiscr_2010_to_2014.ZSALM_2011>53000) & (df_fiscr_2010_to_2014.ZSALM_2011<76000) \n",
    "&(df_fiscr_2010_to_2014.TYPMEN9_2011.isin([43])))"
   ]
  },
  {
   "cell_type": "code",
   "execution_count": null,
   "metadata": {},
   "outputs": [],
   "source": [
    "df_fiscr_2010_to_2014[\"Groupe_1\"] = df_fiscr_2010_to_2014.Groupe_1.astype('int', inplace = True)"
   ]
  },
  {
   "cell_type": "code",
   "execution_count": null,
   "metadata": {},
   "outputs": [],
   "source": []
  },
  {
   "cell_type": "code",
   "execution_count": null,
   "metadata": {},
   "outputs": [],
   "source": [
    "df_fiscr_2010_to_2014[\"Groupe_2\"]=((df_fiscr_2010_to_2014.ZSALM_2011>41000)  &\n",
    "                                   (df_fiscr_2010_to_2014.TYPMEN9_2011.isin([41])))"
   ]
  },
  {
   "cell_type": "code",
   "execution_count": null,
   "metadata": {},
   "outputs": [],
   "source": [
    "df_fiscr_2010_to_2014[\"Groupe_2\"] += ((df_fiscr_2010_to_2014.ZSALM_2011>52000) \n",
    "                                &(df_fiscr_2010_to_2014.TYPMEN9_2011.isin([42])))"
   ]
  },
  {
   "cell_type": "code",
   "execution_count": null,
   "metadata": {},
   "outputs": [],
   "source": [
    "df_fiscr_2010_to_2014[\"Groupe_2\"] +=((df_fiscr_2010_to_2014.ZSALM_2011>76000) \n",
    "&(df_fiscr_2010_to_2014.TYPMEN9_2011.isin([43])))"
   ]
  },
  {
   "cell_type": "code",
   "execution_count": null,
   "metadata": {},
   "outputs": [],
   "source": [
    "df_fiscr_2010_to_2014[\"Groupe_2\"] = df_fiscr_2010_to_2014.Groupe_2.astype('int', inplace = True)"
   ]
  },
  {
   "cell_type": "code",
   "execution_count": null,
   "metadata": {},
   "outputs": [],
   "source": []
  },
  {
   "cell_type": "code",
   "execution_count": null,
   "metadata": {},
   "outputs": [],
   "source": [
    "df_fiscr_2010_to_2014[\"Groupe_1_enfant\"]=((df_fiscr_2010_to_2014.ZSALM_2011>36000) & (df_fiscr_2010_to_2014.ZSALM_2011<41000) \n",
    "&(df_fiscr_2010_to_2014.TYPMEN9_2011.isin([41]))).astype('int', inplace = True)\n",
    "df_fiscr_2010_to_2014[\"Groupe_1_2_enfants\"] = ((df_fiscr_2010_to_2014.ZSALM_2011>41000) & (df_fiscr_2010_to_2014.ZSALM_2011<52000) \n",
    "&(df_fiscr_2010_to_2014.TYPMEN9_2011.isin([42]))).astype('int', inplace = True)\n",
    "df_fiscr_2010_to_2014[\"Groupe_1_3enfants\"] =((df_fiscr_2010_to_2014.ZSALM_2011>53000) & (df_fiscr_2010_to_2014.ZSALM_2011<76000) \n",
    "&(df_fiscr_2010_to_2014.TYPMEN9_2011.isin([43]))).astype('int', inplace = True)"
   ]
  },
  {
   "cell_type": "code",
   "execution_count": null,
   "metadata": {},
   "outputs": [],
   "source": [
    "df_fiscr_2010_to_2014[\"Groupe_2_1_enfant\"]=((df_fiscr_2010_to_2014.ZSALM_2011>41000)  &\n",
    "                                   (df_fiscr_2010_to_2014.TYPMEN9_2011.isin([41]))).astype('int', inplace = True)\n",
    "df_fiscr_2010_to_2014[\"Groupe_2_2enfants\"] =((df_fiscr_2010_to_2014.ZSALM_2011>52000) \n",
    "&(df_fiscr_2010_to_2014.TYPMEN9_2011.isin([42]))).astype('int', inplace = True)\n",
    "df_fiscr_2010_to_2014[\"Groupe_2_3enfants\"] =((df_fiscr_2010_to_2014.ZSALM_2011>76000) \n",
    "&(df_fiscr_2010_to_2014.TYPMEN9_2011.isin([43]))).astype('int', inplace = True)\n"
   ]
  },
  {
   "cell_type": "code",
   "execution_count": null,
   "metadata": {},
   "outputs": [],
   "source": []
  },
  {
   "cell_type": "code",
   "execution_count": null,
   "metadata": {},
   "outputs": [],
   "source": [
    "diff_income  =df_fiscr_2010_to_2014.ZSALM_2014- df_fiscr_2010_to_2014.ZSALM_2010"
   ]
  },
  {
   "cell_type": "markdown",
   "metadata": {},
   "source": [
    "### ON controle très rapidement pour les mêmes income brackets mais sans prendre en compte la structure du ménage"
   ]
  },
  {
   "cell_type": "code",
   "execution_count": null,
   "metadata": {},
   "outputs": [],
   "source": [
    "df_fiscr_2010_to_2014[\"Control_group_1_child_bracket\"]=((df_fiscr_2010_to_2014.ZSALM_2011>36000) & (df_fiscr_2010_to_2014.ZSALM_2011<41000) \n",
    "&(df_fiscr_2010_to_2014.TYPMEN9_2011.isin([41,42,43])))"
   ]
  },
  {
   "cell_type": "code",
   "execution_count": null,
   "metadata": {},
   "outputs": [],
   "source": [
    "((df_fiscr_2010_to_2014.ZSALM_2011>36000) & (df_fiscr_2010_to_2014.ZSALM_2011<41000) \n",
    "&(df_fiscr_2010_to_2014.TYPMEN9_2011.isin([41]))).value_counts()"
   ]
  },
  {
   "cell_type": "code",
   "execution_count": null,
   "metadata": {},
   "outputs": [],
   "source": [
    "df_fiscr_2010_to_2014[\"Control_group_2_child_bracket\"]= ((df_fiscr_2010_to_2014.ZSALM_2011>41000) & (df_fiscr_2010_to_2014.ZSALM_2011<52000) \n",
    "&(df_fiscr_2010_to_2014.TYPMEN9_2011.isin([41,42,43])))"
   ]
  },
  {
   "cell_type": "code",
   "execution_count": null,
   "metadata": {},
   "outputs": [],
   "source": [
    "df_fiscr_2010_to_2014[\"Control_group_3_child_bracket\"]=((df_fiscr_2010_to_2014.ZSALM_2011>53000) & (df_fiscr_2010_to_2014.ZSALM_2011<76000) \n",
    "&(df_fiscr_2010_to_2014.TYPMEN9_2011.isin([43])))"
   ]
  },
  {
   "cell_type": "code",
   "execution_count": null,
   "metadata": {},
   "outputs": [],
   "source": []
  },
  {
   "cell_type": "code",
   "execution_count": null,
   "metadata": {},
   "outputs": [],
   "source": [
    "df_fiscr_2010_to_2014[\"Control_group_over_1_child_bracket\"]=((df_fiscr_2010_to_2014.ZSALM_2011>41000) \n",
    "&(df_fiscr_2010_to_2014.TYPMEN9_2011.isin([41,42,43])))\n",
    "df_fiscr_2010_to_2014[\"Control_group_over_2_child_bracket\"]=((df_fiscr_2010_to_2014.ZSALM_2011>52000) \n",
    "&(df_fiscr_2010_to_2014.TYPMEN9_2011.isin([41,42,43])))\n",
    "df_fiscr_2010_to_2014[\"Control_group_over_3_child_bracket\"]=((df_fiscr_2010_to_2014.ZSALM_2011>76000) \n",
    "&(df_fiscr_2010_to_2014.TYPMEN9_2011.isin([41,42,43])))"
   ]
  },
  {
   "cell_type": "code",
   "execution_count": null,
   "metadata": {},
   "outputs": [],
   "source": []
  },
  {
   "cell_type": "code",
   "execution_count": null,
   "metadata": {},
   "outputs": [],
   "source": [
    "df_fiscr_2010_to_2014[\"Net_Control_group_over_1_child_bracket\"]=((df_fiscr_2010_to_2014.ZSALM_2011>41000) \n",
    "&(df_fiscr_2010_to_2014.TYPMEN9_2011.isin([42,43])))\n",
    "df_fiscr_2010_to_2014[\"Net_Control_group_over_2_child_bracket\"]=((df_fiscr_2010_to_2014.ZSALM_2011>52000) \n",
    "&(df_fiscr_2010_to_2014.TYPMEN9_2011.isin([41,43])))\n",
    "df_fiscr_2010_to_2014[\"Net_Control_group_over_3_child_bracket\"]=((df_fiscr_2010_to_2014.ZSALM_2011>76000) \n",
    "&(df_fiscr_2010_to_2014.TYPMEN9_2011.isin([41,42])))"
   ]
  },
  {
   "cell_type": "code",
   "execution_count": null,
   "metadata": {},
   "outputs": [],
   "source": []
  },
  {
   "cell_type": "code",
   "execution_count": null,
   "metadata": {},
   "outputs": [],
   "source": []
  },
  {
   "cell_type": "code",
   "execution_count": null,
   "metadata": {},
   "outputs": [],
   "source": []
  },
  {
   "cell_type": "code",
   "execution_count": null,
   "metadata": {},
   "outputs": [],
   "source": []
  },
  {
   "cell_type": "code",
   "execution_count": null,
   "metadata": {},
   "outputs": [],
   "source": [
    "df_fiscr_2010_to_2014[\"Ctrl_grp_1\"] = df_fiscr_2010_to_2014.Control_group_1_child_bracket.astype('float', inplace = True)\n",
    "df_fiscr_2010_to_2014[\"Ctrl_grp_2\"] = df_fiscr_2010_to_2014.Control_group_2_child_bracket.astype('float', inplace = True)\n",
    "df_fiscr_2010_to_2014[\"Ctrl_grp_3\"] = df_fiscr_2010_to_2014.Control_group_3_child_bracket.astype('float', inplace = True)"
   ]
  },
  {
   "cell_type": "code",
   "execution_count": null,
   "metadata": {},
   "outputs": [],
   "source": [
    "df_fiscr_2010_to_2014[\"Ctrl_over_grp_1\"] = df_fiscr_2010_to_2014.Control_group_over_1_child_bracket.astype('float', inplace = True)\n",
    "df_fiscr_2010_to_2014[\"Ctrl_over_grp_2\"] = df_fiscr_2010_to_2014.Control_group_over_2_child_bracket.astype('float', inplace = True)\n",
    "df_fiscr_2010_to_2014[\"Ctrl_over_grp_3\"] = df_fiscr_2010_to_2014.Control_group_over_3_child_bracket.astype('float', inplace = True)"
   ]
  },
  {
   "cell_type": "code",
   "execution_count": null,
   "metadata": {},
   "outputs": [],
   "source": [
    "df_fiscr_2010_to_2014[\"Net_Ctrl_over_grp_1\"] = df_fiscr_2010_to_2014.Net_Control_group_over_1_child_bracket.astype('float', inplace = True)\n",
    "df_fiscr_2010_to_2014[\"Net_Ctrl_over_grp_2\"] = df_fiscr_2010_to_2014.Net_Control_group_over_2_child_bracket.astype('float', inplace = True)\n",
    "df_fiscr_2010_to_2014[\"Net_Ctrl_over_grp_3\"] = df_fiscr_2010_to_2014.Net_Control_group_over_3_child_bracket.astype('float', inplace = True)"
   ]
  },
  {
   "cell_type": "code",
   "execution_count": null,
   "metadata": {},
   "outputs": [],
   "source": []
  },
  {
   "cell_type": "code",
   "execution_count": null,
   "metadata": {},
   "outputs": [],
   "source": []
  },
  {
   "cell_type": "code",
   "execution_count": null,
   "metadata": {},
   "outputs": [],
   "source": []
  },
  {
   "cell_type": "code",
   "execution_count": null,
   "metadata": {},
   "outputs": [],
   "source": [
    "df_fiscr_2010_to_2014['Diff_income'] = df_fiscr_2010_to_2014.ZSALM_2014- df_fiscr_2010_to_2014.ZSALM_2010"
   ]
  },
  {
   "cell_type": "code",
   "execution_count": null,
   "metadata": {},
   "outputs": [],
   "source": [
    "df_fiscr_2010_to_2014['Comp_fam_1enf'] = df_fiscr_2010_to_2014.TYPMEN9_2011.isin([41]).astype('float', inplace = True)\n",
    "df_fiscr_2010_to_2014['Comp_fam_2enf'] = df_fiscr_2010_to_2014.TYPMEN9_2011.isin([42]).astype('float', inplace = True)\n",
    "df_fiscr_2010_to_2014['Comp_fam_3enf'] = df_fiscr_2010_to_2014.TYPMEN9_2011.isin([43]).astype('float', inplace = True)"
   ]
  },
  {
   "cell_type": "code",
   "execution_count": null,
   "metadata": {},
   "outputs": [],
   "source": [
    "df_fiscr_2010_to_2014['Comp_fam_1enf'].value_counts(dropna = False)"
   ]
  },
  {
   "cell_type": "code",
   "execution_count": null,
   "metadata": {},
   "outputs": [],
   "source": [
    "df_fiscr_2010_to_2014['Comp_fam_1enf'].value_counts(dropna = False)"
   ]
  },
  {
   "cell_type": "markdown",
   "metadata": {},
   "source": [
    "Variables d'interation"
   ]
  },
  {
   "cell_type": "code",
   "execution_count": null,
   "metadata": {},
   "outputs": [],
   "source": [
    "df_fiscr_2010_to_2014[\"Ctrl_grp_1_times_grp1\"] = df_fiscr_2010_to_2014[\"Ctrl_grp_1\"]* df_fiscr_2010_to_2014[\"Groupe_1\"]\n",
    "df_fiscr_2010_to_2014[\"Ctrl_grp_2_times_grp1\"] = df_fiscr_2010_to_2014[\"Ctrl_grp_2\"] * df_fiscr_2010_to_2014[\"Groupe_1\"]\n",
    "df_fiscr_2010_to_2014[\"Ctrl_grp_3_times_grp1\"] = df_fiscr_2010_to_2014[\"Ctrl_grp_3\"] *  df_fiscr_2010_to_2014[\"Groupe_1\"]\n",
    "\n",
    "\n",
    "### de la merde\n",
    "df_fiscr_2010_to_2014[\"Ctrl_grp_1_times_grp1_child1\"] = (df_fiscr_2010_to_2014[\"Ctrl_grp_1\"]* \n",
    "                                                         df_fiscr_2010_to_2014[\"Groupe_1\"] * df_fiscr_2010_to_2014['Comp_fam_1enf'])\n",
    "df_fiscr_2010_to_2014[\"Ctrl_grp_2_times_grp1_child2\"] = (df_fiscr_2010_to_2014[\"Ctrl_grp_2\"]\n",
    "                                                  * df_fiscr_2010_to_2014[\"Groupe_2\"] * df_fiscr_2010_to_2014['Comp_fam_2enf'])\n",
    "df_fiscr_2010_to_2014[\"Ctrl_grp_2_times_grp1_child3\"] = (df_fiscr_2010_to_2014[\"Ctrl_grp_3\"] *  df_fiscr_2010_to_2014[\"Groupe_2\"]\n",
    "                                                * df_fiscr_2010_to_2014['Comp_fam_3enf'])\n",
    "\n",
    "#########\n",
    "\n",
    "df_fiscr_2010_to_2014[\"Ctrl_grp_1_not_treated\"] = (df_fiscr_2010_to_2014[\"Ctrl_grp_1\"]) *  (~df_fiscr_2010_to_2014[\"Groupe_1\"])\n",
    "df_fiscr_2010_to_2014[\"Ctrl_grp_2_not_treated\"] = (df_fiscr_2010_to_2014[\"Ctrl_grp_2\"]) *  (~df_fiscr_2010_to_2014[\"Groupe_1\"])\n",
    "df_fiscr_2010_to_2014[\"Ctrl_grp_3_not_treated\"] = (df_fiscr_2010_to_2014[\"Ctrl_grp_3\"])  * (~df_fiscr_2010_to_2014[\"Groupe_1\"])\n",
    "\n",
    "\n",
    "\n",
    "df_fiscr_2010_to_2014[\"Ctrl_grp_1_not_treated\"] = (df_fiscr_2010_to_2014[\"Ctrl_grp_1\"]) *  (~df_fiscr_2010_to_2014[\"Groupe_1\"])\n",
    "df_fiscr_2010_to_2014[\"Ctrl_grp_2_not_treated\"] = (df_fiscr_2010_to_2014[\"Ctrl_grp_2\"]) *  (~df_fiscr_2010_to_2014[\"Groupe_1\"])\n",
    "df_fiscr_2010_to_2014[\"Ctrl_grp_3_not_treated\"] = (df_fiscr_2010_to_2014[\"Ctrl_grp_3\"])  * (~df_fiscr_2010_to_2014[\"Groupe_1\"])\n",
    "\n",
    "\n",
    "\n",
    "df_fiscr_2010_to_2014[\"Ctrl_2child_not_treated2\"] = (df_fiscr_2010_to_2014[\"Ctrl_grp_1\"]) *  (~df_fiscr_2010_to_2014[\"Groupe_2\"])\n",
    "df_fiscr_2010_to_2014[\"Ctrl_3_not_treated2\"] = (df_fiscr_2010_to_2014[\"Ctrl_grp_2\"]) *  (~df_fiscr_2010_to_2014[\"Groupe_2\"])\n",
    "df_fiscr_2010_to_2014[\"Ctrl_grp_3_not_treated2\"] = (df_fiscr_2010_to_2014[\"Ctrl_grp_3\"])  * (~df_fiscr_2010_to_2014[\"Groupe_2\"])\n"
   ]
  },
  {
   "cell_type": "code",
   "execution_count": null,
   "metadata": {},
   "outputs": [],
   "source": [
    "df_fiscr_2010_to_2014[\"Ctrl_grp_1_times_grp1\"].value_counts()"
   ]
  },
  {
   "cell_type": "code",
   "execution_count": null,
   "metadata": {},
   "outputs": [],
   "source": [
    "df_fiscr_2010_to_2014[\"Ctrl_grp_2_times_grp1_child2\"].value_counts()"
   ]
  },
  {
   "cell_type": "code",
   "execution_count": null,
   "metadata": {},
   "outputs": [],
   "source": []
  },
  {
   "cell_type": "markdown",
   "metadata": {},
   "source": []
  },
  {
   "cell_type": "code",
   "execution_count": null,
   "metadata": {},
   "outputs": [],
   "source": [
    "#Fake groups for robustness check\n",
    "df_fiscr_2010_to_2014[\"Control_group_1_child_bracket\"]=((df_fiscr_2010_to_2014.ZSALM_2011>36000) & (df_fiscr_2010_to_2014.ZSALM_2011<41000) \n",
    "&(df_fiscr_2010_to_2014.TYPMEN9_2011.isin([41,42,43])))\n",
    "\n",
    "\n",
    "df_fiscr_2010_to_2014[\"Control_group_2_child_bracket\"]= ((df_fiscr_2010_to_2014.ZSALM_2011>41000) & (df_fiscr_2010_to_2014.ZSALM_2011<52000) \n",
    "&(df_fiscr_2010_to_2014.TYPMEN9_2011.isin([41,42,43])))\n",
    "\n",
    "df_fiscr_2010_to_2014[\"Control_group_3_child_bracket\"]=((df_fiscr_2010_to_2014.ZSALM_2011>53000) & (df_fiscr_2010_to_2014.ZSALM_2011<76000) \n",
    "&(df_fiscr_2010_to_2014.TYPMEN9_2011.isin([43])))\n",
    "\n",
    "df_fiscr_2010_to_2014[\"Control_group_over_1_child_bracket\"]=((df_fiscr_2010_to_2014.ZSALM_2011>41000) \n",
    "&(df_fiscr_2010_to_2014.TYPMEN9_2011.isin([41,42,43])))\n",
    "df_fiscr_2010_to_2014[\"Control_group_over_2_child_bracket\"]=((df_fiscr_2010_to_2014.ZSALM_2011>52000) \n",
    "&(df_fiscr_2010_to_2014.TYPMEN9_2011.isin([41,42,43])))\n",
    "df_fiscr_2010_to_2014[\"Control_group_over_3_child_bracket\"]=((df_fiscr_2010_to_2014.ZSALM_2011>76000) \n",
    "&(df_fiscr_2010_to_2014.TYPMEN9_2011.isin([41,42,43])))\n",
    "\n",
    "\n",
    "df_fiscr_2010_to_2014[\"Net_Control_group_over_1_child_bracket\"]=((df_fiscr_2010_to_2014.ZSALM_2011>41000) \n",
    "&(df_fiscr_2010_to_2014.TYPMEN9_2011.isin([42,43])))\n",
    "df_fiscr_2010_to_2014[\"Net_Control_group_over_2_child_bracket\"]=((df_fiscr_2010_to_2014.ZSALM_2011>52000) \n",
    "&(df_fiscr_2010_to_2014.TYPMEN9_2011.isin([41,43])))\n",
    "df_fiscr_2010_to_2014[\"Net_Control_group_over_3_child_bracket\"]=((df_fiscr_2010_to_2014.ZSALM_2011>76000) \n",
    "&(df_fiscr_2010_to_2014.TYPMEN9_2011.isin([41,42])))\n",
    "\n",
    "df_fiscr_2010_to_2014[\"Ctrl_grp_1\"] = df_fiscr_2010_to_2014.Control_group_1_child_bracket.astype('float', inplace = True)\n",
    "df_fiscr_2010_to_2014[\"Ctrl_grp_2\"] = df_fiscr_2010_to_2014.Control_group_2_child_bracket.astype('float', inplace = True)\n",
    "df_fiscr_2010_to_2014[\"Ctrl_grp_3\"] = df_fiscr_2010_to_2014.Control_group_3_child_bracket.astype('float', inplace = True)\n",
    "\n",
    "df_fiscr_2010_to_2014[\"Ctrl_over_grp_1\"] = df_fiscr_2010_to_2014.Control_group_over_1_child_bracket.astype('float', inplace = True)\n",
    "df_fiscr_2010_to_2014[\"Ctrl_over_grp_2\"] = df_fiscr_2010_to_2014.Control_group_over_2_child_bracket.astype('float', inplace = True)\n",
    "df_fiscr_2010_to_2014[\"Ctrl_over_grp_3\"] = df_fiscr_2010_to_2014.Control_group_over_3_child_bracket.astype('float', inplace = True)\n",
    "\n",
    "df_fiscr_2010_to_2014[\"Net_Ctrl_over_grp_1\"] = df_fiscr_2010_to_2014.Net_Control_group_over_1_child_bracket.astype('float', inplace = True)\n",
    "df_fiscr_2010_to_2014[\"Net_Ctrl_over_grp_2\"] = df_fiscr_2010_to_2014.Net_Control_group_over_2_child_bracket.astype('float', inplace = True)\n",
    "df_fiscr_2010_to_2014[\"Net_Ctrl_over_grp_3\"] = df_fiscr_2010_to_2014.Net_Control_group_over_3_child_bracket.astype('float', inplace = True)\n",
    "\n",
    "\n",
    "df_fiscr_2010_to_2014[\"Ctrl_grp_1_times_grp1\"] = df_fiscr_2010_to_2014[\"Ctrl_grp_1\"]* df_fiscr_2010_to_2014[\"Groupe_1\"]\n",
    "df_fiscr_2010_to_2014[\"Ctrl_grp_2_times_grp1\"] = df_fiscr_2010_to_2014[\"Ctrl_grp_2\"] * df_fiscr_2010_to_2014[\"Groupe_1\"]\n",
    "df_fiscr_2010_to_2014[\"Ctrl_grp_3_times_grp1\"] = df_fiscr_2010_to_2014[\"Ctrl_grp_3\"] *  df_fiscr_2010_to_2014[\"Groupe_1\"]\n",
    "\n",
    "\n",
    "### de la merde\n",
    "df_fiscr_2010_to_2014[\"Ctrl_grp_1_times_grp1_child1\"] = (df_fiscr_2010_to_2014[\"Ctrl_grp_1\"]* \n",
    "                                                         df_fiscr_2010_to_2014[\"Groupe_1\"] * df_fiscr_2010_to_2014['Comp_fam_1enf'])\n",
    "df_fiscr_2010_to_2014[\"Ctrl_grp_2_times_grp1_child2\"] = (df_fiscr_2010_to_2014[\"Ctrl_grp_2\"]\n",
    "                                                  * df_fiscr_2010_to_2014[\"Groupe_2\"] * df_fiscr_2010_to_2014['Comp_fam_2enf'])\n",
    "df_fiscr_2010_to_2014[\"Ctrl_grp_2_times_grp1_child3\"] = (df_fiscr_2010_to_2014[\"Ctrl_grp_3\"] *  df_fiscr_2010_to_2014[\"Groupe_2\"]\n",
    "                                                * df_fiscr_2010_to_2014['Comp_fam_3enf'])\n",
    "\n",
    "#########\n",
    "\n",
    "df_fiscr_2010_to_2014[\"Ctrl_grp_1_not_treated\"] = (df_fiscr_2010_to_2014[\"Ctrl_grp_1\"]) *  (~df_fiscr_2010_to_2014[\"Groupe_1\"])\n",
    "df_fiscr_2010_to_2014[\"Ctrl_grp_2_not_treated\"] = (df_fiscr_2010_to_2014[\"Ctrl_grp_2\"]) *  (~df_fiscr_2010_to_2014[\"Groupe_1\"])\n",
    "df_fiscr_2010_to_2014[\"Ctrl_grp_3_not_treated\"] = (df_fiscr_2010_to_2014[\"Ctrl_grp_3\"])  * (~df_fiscr_2010_to_2014[\"Groupe_1\"])\n",
    "\n",
    "\n",
    "\n",
    "df_fiscr_2010_to_2014[\"Ctrl_grp_1_not_treated\"] = (df_fiscr_2010_to_2014[\"Ctrl_grp_1\"]) *  (~df_fiscr_2010_to_2014[\"Groupe_1\"])\n",
    "df_fiscr_2010_to_2014[\"Ctrl_grp_2_not_treated\"] = (df_fiscr_2010_to_2014[\"Ctrl_grp_2\"]) *  (~df_fiscr_2010_to_2014[\"Groupe_1\"])\n",
    "df_fiscr_2010_to_2014[\"Ctrl_grp_3_not_treated\"] = (df_fiscr_2010_to_2014[\"Ctrl_grp_3\"])  * (~df_fiscr_2010_to_2014[\"Groupe_1\"])\n",
    "\n",
    "\n",
    "\n",
    "df_fiscr_2010_to_2014[\"Ctrl_2child_not_treated2\"] = (df_fiscr_2010_to_2014[\"Ctrl_grp_1\"]) *  (~df_fiscr_2010_to_2014[\"Groupe_2\"])\n",
    "df_fiscr_2010_to_2014[\"Ctrl_3_not_treated2\"] = (df_fiscr_2010_to_2014[\"Ctrl_grp_2\"]) *  (~df_fiscr_2010_to_2014[\"Groupe_2\"])\n",
    "df_fiscr_2010_to_2014[\"Ctrl_grp_3_not_treated2\"] = (df_fiscr_2010_to_2014[\"Ctrl_grp_3\"])  * (~df_fiscr_2010_to_2014[\"Groupe_2\"])\n"
   ]
  },
  {
   "cell_type": "code",
   "execution_count": null,
   "metadata": {},
   "outputs": [],
   "source": []
  },
  {
   "cell_type": "code",
   "execution_count": null,
   "metadata": {},
   "outputs": [],
   "source": []
  },
  {
   "cell_type": "code",
   "execution_count": null,
   "metadata": {},
   "outputs": [],
   "source": []
  },
  {
   "cell_type": "code",
   "execution_count": null,
   "metadata": {},
   "outputs": [],
   "source": [
    "reaction_store_path = 'C:/Users/IMPTEMP_A_PACIFIC/Desktop/EDP_2015/Data/hdf/reaction.h5'"
   ]
  },
  {
   "cell_type": "code",
   "execution_count": null,
   "metadata": {},
   "outputs": [],
   "source": [
    "%%time\n",
    "df_fiscr_2010_to_2014.to_hdf(reaction_store_path, 'reaction_fiscr')"
   ]
  },
  {
   "cell_type": "code",
   "execution_count": null,
   "metadata": {},
   "outputs": [],
   "source": [
    "df_fiscr_2010_to_2014 = pd.read_hdf(reaction_store_path,  'reaction_fiscr' )"
   ]
  },
  {
   "cell_type": "markdown",
   "metadata": {},
   "source": [
    "On selectionne que les menages traites"
   ]
  },
  {
   "cell_type": "code",
   "execution_count": null,
   "metadata": {},
   "outputs": [],
   "source": [
    "%%time\n",
    "df_selct = df_fiscr_2010_to_2014.iloc[0:100000][(df_fiscr_2010_to_2014.iloc[0:100000].TYPMEN9_2011.isin([41,42,43]))]"
   ]
  },
  {
   "cell_type": "code",
   "execution_count": null,
   "metadata": {},
   "outputs": [],
   "source": [
    "%%time\n",
    "df_selct = df_fiscr_2010_to_2014.iloc[0:100000][(df_fiscr_2010_to_2014.iloc[0:100000].TYPMEN9_2011.isin([41,42,43]))]"
   ]
  },
  {
   "cell_type": "code",
   "execution_count": null,
   "metadata": {},
   "outputs": [],
   "source": [
    "%%time\n",
    "df_selct = df_fiscr_2010_to_2014.iloc[0:100000].loc[(df_fiscr_2010_to_2014.iloc[0:100000].TYPMEN9_2011.isin([41,42,43]))]"
   ]
  },
  {
   "cell_type": "code",
   "execution_count": null,
   "metadata": {},
   "outputs": [],
   "source": [
    "%%time\n",
    "df_selct = df_fiscr_2010_to_2014.loc[(df_fiscr_2010_to_2014.TYPMEN9_2011.isin([41,42,43]))]\n",
    "df_selct = df_selct.loc[(df_selct.ZSALM_2011>0) & (df_selct.ZSALM_2014>0)]"
   ]
  },
  {
   "cell_type": "code",
   "execution_count": null,
   "metadata": {},
   "outputs": [],
   "source": [
    "%%time\n",
    "df_selct.to_hdf(reaction_store_path, 'fisci_fiscr_2010_2014')"
   ]
  },
  {
   "cell_type": "code",
   "execution_count": null,
   "metadata": {},
   "outputs": [],
   "source": [
    "df_selct.shape"
   ]
  },
  {
   "cell_type": "code",
   "execution_count": null,
   "metadata": {},
   "outputs": [],
   "source": []
  },
  {
   "cell_type": "code",
   "execution_count": null,
   "metadata": {},
   "outputs": [],
   "source": [
    "df_fiscr_2010_to_2014 = pd.read_hdf(reaction_store_path,  'fisci_fiscr_2010_2014' )"
   ]
  },
  {
   "cell_type": "code",
   "execution_count": null,
   "metadata": {},
   "outputs": [],
   "source": []
  },
  {
   "cell_type": "code",
   "execution_count": null,
   "metadata": {},
   "outputs": [],
   "source": [
    "%%time\n",
    "pd.stats.ols.OLS(df_selct['Diff_income'], df_selct[[\"Groupe_2\", \"Groupe_1\", ]\n",
    "                                                   + [\"Ctrl_grp_1\",\"Ctrl_grp_2\",\"Ctrl_grp_3\"]\n",
    "                                                    + [\"ZIMPOM_2014\"]\n",
    "                                                   +['Comp_fam_1enf', 'Comp_fam_2enf', 'Comp_fam_3enf',]\n",
    "                                                   ] )"
   ]
  },
  {
   "cell_type": "code",
   "execution_count": null,
   "metadata": {},
   "outputs": [],
   "source": [
    "df_selct_2 = df_selct.loc[df_selct.ZSALM_2011>2000*12]"
   ]
  },
  {
   "cell_type": "code",
   "execution_count": null,
   "metadata": {},
   "outputs": [],
   "source": [
    "import statsmodels.api as sm"
   ]
  },
  {
   "cell_type": "code",
   "execution_count": null,
   "metadata": {},
   "outputs": [],
   "source": [
    "import statsmodels.formula as statformula"
   ]
  },
  {
   "cell_type": "code",
   "execution_count": null,
   "metadata": {},
   "outputs": [],
   "source": [
    "X =  df_selct_2[[\"Groupe_2\", \"Groupe_1\",]\n",
    "                                                   + [\"Ctrl_grp_1\",\"Ctrl_grp_2\",\"Ctrl_grp_3\"]\n",
    "                                                    + [\"ZIMPOM_2014\"]\n",
    "                                                   +['Comp_fam_1enf', 'Comp_fam_2enf', 'Comp_fam_3enf']\n",
    "                                                   ]\n",
    "X = sm.add_constant(X)\n",
    "hello = statformula.api.OLS(df_selct_2['Diff_income'], X)\n",
    "hello = hello.fit()\n",
    "hello.summary()"
   ]
  },
  {
   "cell_type": "code",
   "execution_count": null,
   "metadata": {},
   "outputs": [],
   "source": [
    "summary =  hello.summary()"
   ]
  },
  {
   "cell_type": "code",
   "execution_count": null,
   "metadata": {},
   "outputs": [],
   "source": [
    "table = summary.tables[1]"
   ]
  },
  {
   "cell_type": "code",
   "execution_count": null,
   "metadata": {},
   "outputs": [],
   "source": [
    "table.data[3] = ['Groupe_18LOL',\n",
    " '  691.1210',\n",
    " '  149.856',\n",
    " '    4.612',\n",
    " ' 0.000',\n",
    " '  397.407   984.835']"
   ]
  },
  {
   "cell_type": "code",
   "execution_count": null,
   "metadata": {},
   "outputs": [],
   "source": [
    "statformula.api.OLS()"
   ]
  },
  {
   "cell_type": "code",
   "execution_count": null,
   "metadata": {},
   "outputs": [],
   "source": [
    "X =  df_selct_2[[\"Groupe_2\", \"Groupe_1\",]\n",
    "                                                  # + [\"Ctrl_grp_1\",\"Ctrl_grp_2\",\"Ctrl_grp_3\"]\n",
    "                                                    +  [\"Ctrl_grp_1_not_treated\",\"Ctrl_grp_2_not_treated\",\"Ctrl_grp_3_not_treated\"]\n",
    "                                                    + [\"ZIMPOM_2014\"]\n",
    "                                                   +['Comp_fam_1enf', 'Comp_fam_2enf', 'Comp_fam_3enf']\n",
    "                                                   ]\n",
    "X = sm.add_constant(X)\n",
    "hello = statformula.api.OLS(df_selct_2['Diff_income'], X)\n",
    "hello = hello.fit()\n",
    "hello.summary()"
   ]
  },
  {
   "cell_type": "code",
   "execution_count": null,
   "metadata": {},
   "outputs": [],
   "source": [
    "df_selct_2['not_\"Ctrl_grp_1_times_grp1_child1'] = np.abs(df_selct_2['\"Ctrl_grp_1_times_grp1_child1\"']-1)"
   ]
  },
  {
   "cell_type": "code",
   "execution_count": null,
   "metadata": {},
   "outputs": [],
   "source": [
    "X =  df_selct_2[[\"Groupe_2\", \"Groupe_1\",]\n",
    "                                                   + [\"Ctrl_grp_1\",\"Ctrl_grp_2\",\"Ctrl_grp_3\"]\n",
    "                                                    + [ \"Ctrl_grp_2_times_grp1_child2\",\n",
    "                                                       'Ctrl_grp_2_times_grp1_child3']\n",
    "                                                    + [\"ZIMPOM_2014\"]\n",
    "                                                   +['Comp_fam_1enf', 'Comp_fam_2enf', 'Comp_fam_3enf']\n",
    "                                                   ]\n",
    "X = sm.add_constant(X)\n",
    "hello = statformula.api.OLS(df_selct_2['Diff_income'], X)\n",
    "hello = hello.fit()\n",
    "hello.summary()"
   ]
  },
  {
   "cell_type": "code",
   "execution_count": null,
   "metadata": {},
   "outputs": [],
   "source": [
    "X =  df_selct_2[[\"Groupe_2\", \"Groupe_1\",]\n",
    "                                                   + [\"Ctrl_grp_1\",\"Ctrl_grp_2\",\"Ctrl_grp_3\"]\n",
    "                                                    + [ \"Ctrl_grp_1_not_treated\", \"Ctrl_grp_2_not_treated\"\n",
    "                                                       'Ctrl_grp_3_not_treated']\n",
    "                                                    + [\"ZIMPOM_2014\"]\n",
    "                                                   +['Comp_fam_1enf', 'Comp_fam_2enf', 'Comp_fam_3enf']\n",
    "                                                   ]\n",
    "X = sm.add_constant(X)\n",
    "hello = statformula.api.OLS(df_selct_2['Diff_income'], X)\n",
    "hello = hello.fit()\n",
    "hello.summary()"
   ]
  },
  {
   "cell_type": "code",
   "execution_count": null,
   "metadata": {},
   "outputs": [],
   "source": [
    "X =  df_selct_2[[\"Groupe_2\", \"Groupe_1\",]\n",
    "                                                   #+ [\"Ctrl_grp_1\",\"Ctrl_grp_2\",\"Ctrl_grp_3\"]\n",
    "                                                    + [ \"Ctrl_grp_1_not_treated\", \"Ctrl_grp_2_not_treated\"\n",
    "                                                       'Ctrl_grp_3_not_treated']\n",
    "                                                    + [\"ZIMPOM_2014\"]\n",
    "                                                   +['Comp_fam_1enf', 'Comp_fam_2enf', 'Comp_fam_3enf']\n",
    "                                                   ]\n",
    "X = sm.add_constant(X)\n",
    "hello = statformula.api.OLS(df_selct_2['Diff_income'], X)\n",
    "hello = hello.fit()\n",
    "hello.summary()"
   ]
  },
  {
   "cell_type": "code",
   "execution_count": null,
   "metadata": {},
   "outputs": [],
   "source": [
    "df_selct_2.Groupe_1_3enfants"
   ]
  },
  {
   "cell_type": "code",
   "execution_count": null,
   "metadata": {},
   "outputs": [],
   "source": [
    "X =  df_selct_2[[\"Groupe_2_1_enfant\", \"Groupe_2_2enfants\",\"Groupe_2_3enfants\"]\n",
    "                +['Groupe_1_enfant','Groupe_1_2_enfants','Groupe_1_3enfants']\n",
    "                                                   + [\"Ctrl_grp_1\",\"Ctrl_grp_2\",\"Ctrl_grp_3\"]\n",
    "                                                    + [\"ZIMPOM_2014\"]\n",
    "                                                   +['Comp_fam_1enf', 'Comp_fam_2enf', 'Comp_fam_3enf']\n",
    "                                                   ]\n",
    "X = sm.add_constant(X)\n",
    "hello = statformula.api.OLS(df_selct_2['Diff_income'], X)\n",
    "hello = hello.fit()\n",
    "hello.summary()"
   ]
  },
  {
   "cell_type": "code",
   "execution_count": null,
   "metadata": {},
   "outputs": [],
   "source": []
  },
  {
   "cell_type": "code",
   "execution_count": null,
   "metadata": {},
   "outputs": [],
   "source": []
  },
  {
   "cell_type": "code",
   "execution_count": null,
   "metadata": {},
   "outputs": [],
   "source": []
  },
  {
   "cell_type": "code",
   "execution_count": null,
   "metadata": {},
   "outputs": [],
   "source": []
  },
  {
   "cell_type": "code",
   "execution_count": null,
   "metadata": {},
   "outputs": [],
   "source": [
    "%%time\n",
    "pd.stats.ols.OLS(df_selct_2['Diff_income'], df_selct_2[[\"Groupe_2\", \"Groupe_1\", \"ZSALM_2011\", \"ZSALM_2014\"]\n",
    "                                                   + [\"Ctrl_grp_1\",\"Ctrl_grp_2\",\"Ctrl_grp_3\"]\n",
    "                                                    + [\"ZIMPOM_2014\"]\n",
    "                                                   +['Comp_fam_1enf', 'Comp_fam_2enf', 'Comp_fam_3enf']\n",
    "                                                   ] )"
   ]
  },
  {
   "cell_type": "code",
   "execution_count": null,
   "metadata": {},
   "outputs": [],
   "source": [
    "%%time\n",
    "pd.stats.ols.OLS(df_selct_2['ZSALM_2014'], df_selct_2[[\"Groupe_2\", \"Groupe_1\", \"ZSALM_2011\"]\n",
    "                                                   + [\"Ctrl_grp_1\",\"Ctrl_grp_2\",\"Ctrl_grp_3\"]\n",
    "                                                    + [\"ZIMPOM_2014\"]\n",
    "                                                   +['Comp_fam_1enf', 'Comp_fam_2enf', 'Comp_fam_3enf']\n",
    "                                                   ] )"
   ]
  },
  {
   "cell_type": "code",
   "execution_count": null,
   "metadata": {},
   "outputs": [],
   "source": [
    "df_selct.Comp_fam_1enf.value_counts()"
   ]
  },
  {
   "cell_type": "code",
   "execution_count": null,
   "metadata": {},
   "outputs": [],
   "source": []
  },
  {
   "cell_type": "code",
   "execution_count": null,
   "metadata": {},
   "outputs": [],
   "source": []
  },
  {
   "cell_type": "code",
   "execution_count": null,
   "metadata": {},
   "outputs": [],
   "source": []
  },
  {
   "cell_type": "code",
   "execution_count": null,
   "metadata": {},
   "outputs": [],
   "source": []
  },
  {
   "cell_type": "code",
   "execution_count": null,
   "metadata": {},
   "outputs": [],
   "source": []
  },
  {
   "cell_type": "code",
   "execution_count": null,
   "metadata": {},
   "outputs": [],
   "source": [
    "pd.stats.ols.OLS(df_selct['ZSALM_2014']/df_selct['ZSALM_2011'],\n",
    "                df_selct[[\"Groupe_2\", \"Groupe_1\", \"ZSALM_2011\", \"ZSALM_2014\"]\n",
    "                                                   + [\"Ctrl_grp_1\",\"Ctrl_grp_2\",\"Ctrl_grp_3\"]\n",
    "                                                    + [\"ZIMPOM_2014\"]\n",
    "                                                   +['Comp_fam_1enf', 'Comp_fam_2enf', 'Comp_fam_3enf']\n",
    "                                                   ] )"
   ]
  },
  {
   "cell_type": "code",
   "execution_count": null,
   "metadata": {},
   "outputs": [],
   "source": [
    "pd.stats.ols.OLS(diff_income, df_fiscr_2010_to_2014[[\"Groupe_2\", \"Groupe_1\", \"ZSALM_2011\", \"ZSALM_2014\"]\n",
    "                                                   + [\"Ctrl_grp_1\",\"Ctrl_grp_2\",\"Ctrl_grp_3\"]\n",
    "                                                    + [\"ZIMPOM_2014\"]\n",
    "                                                   ] )"
   ]
  },
  {
   "cell_type": "code",
   "execution_count": null,
   "metadata": {},
   "outputs": [],
   "source": [
    "pd.stats.ols.OLS(diff_income, df_fiscr_2010_to_2014[[\"Groupe_2\", \"Groupe_1\", \"ZSALM_2011\", \"ZSALM_2014\"]] )"
   ]
  },
  {
   "cell_type": "code",
   "execution_count": null,
   "metadata": {},
   "outputs": [],
   "source": [
    "pd.stats.ols.OLS(diff_income, df_fiscr_2010_to_2014[[\"Groupe_2\", \"Groupe_1\", \"ZSALM_2014\"]] )"
   ]
  },
  {
   "cell_type": "code",
   "execution_count": null,
   "metadata": {},
   "outputs": [],
   "source": [
    "pd.stats.ols.OLS(pd.Series(diff_income.iloc[:50]), df_fiscr_2010_to_2014[[\"Groupe_2\", \"Groupe_1\"]].iloc[0:50] )"
   ]
  },
  {
   "cell_type": "code",
   "execution_count": null,
   "metadata": {},
   "outputs": [],
   "source": [
    "(diff_income.iloc[:50])"
   ]
  },
  {
   "cell_type": "code",
   "execution_count": null,
   "metadata": {},
   "outputs": [],
   "source": []
  },
  {
   "cell_type": "code",
   "execution_count": null,
   "metadata": {},
   "outputs": [],
   "source": [
    "%%time\n",
    "df_panact = pd.read_hdf('C:/Users/IMPTEMP_A_PACIFIC/Desktop/EDP_2015/Data/hdf/dads','start_2005')"
   ]
  },
  {
   "cell_type": "code",
   "execution_count": null,
   "metadata": {},
   "outputs": [],
   "source": [
    "df_panact.head()"
   ]
  },
  {
   "cell_type": "code",
   "execution_count": null,
   "metadata": {},
   "outputs": [],
   "source": [
    "%%time\n",
    "df_panact[:500000].NBHEUR.plot(kind='hist', bins = 200)"
   ]
  },
  {
   "cell_type": "code",
   "execution_count": null,
   "metadata": {},
   "outputs": [],
   "source": [
    "df_panact.NETNETR.mean()/12"
   ]
  },
  {
   "cell_type": "code",
   "execution_count": null,
   "metadata": {},
   "outputs": [],
   "source": [
    "df_panact.head()"
   ]
  },
  {
   "cell_type": "code",
   "execution_count": null,
   "metadata": {},
   "outputs": [],
   "source": [
    "df_fisci = load_fisc_i_by_year(2013);"
   ]
  },
  {
   "cell_type": "code",
   "execution_count": null,
   "metadata": {},
   "outputs": [],
   "source": [
    "print df_fisci.AN_FISC.value_counts()"
   ]
  },
  {
   "cell_type": "code",
   "execution_count": null,
   "metadata": {},
   "outputs": [],
   "source": [
    "id_diff_fisci =  df_fisci.ID_DIFF.unique()"
   ]
  },
  {
   "cell_type": "code",
   "execution_count": null,
   "metadata": {},
   "outputs": [],
   "source": [
    "id_diff_panact = df_panact.ID_DIFF.unique()"
   ]
  },
  {
   "cell_type": "code",
   "execution_count": null,
   "metadata": {},
   "outputs": [],
   "source": [
    "df_panact_2013 = df_panact[df_panact.AN == 2013]"
   ]
  },
  {
   "cell_type": "code",
   "execution_count": null,
   "metadata": {},
   "outputs": [],
   "source": [
    "id_diff_panact_2013 = df_panact_2013.ID_DIFF.unique()"
   ]
  },
  {
   "cell_type": "code",
   "execution_count": null,
   "metadata": {},
   "outputs": [],
   "source": [
    "#del df_panact"
   ]
  },
  {
   "cell_type": "code",
   "execution_count": null,
   "metadata": {},
   "outputs": [],
   "source": [
    "%time\n",
    "id_diff_panact = set(id_diff_panact)"
   ]
  },
  {
   "cell_type": "code",
   "execution_count": null,
   "metadata": {},
   "outputs": [],
   "source": [
    "%time\n",
    "id_diff_panact_2013 = set(id_diff_panact_2013)"
   ]
  },
  {
   "cell_type": "code",
   "execution_count": null,
   "metadata": {},
   "outputs": [],
   "source": [
    "%time\n",
    "id_diff_fisci = set(id_diff_fisci)"
   ]
  },
  {
   "cell_type": "code",
   "execution_count": null,
   "metadata": {},
   "outputs": [],
   "source": [
    "id_diff_intersect = id_diff_fisci.intersection(id_diff_panact)"
   ]
  },
  {
   "cell_type": "code",
   "execution_count": null,
   "metadata": {},
   "outputs": [],
   "source": [
    "len(id_diff_intersect)/10**6"
   ]
  },
  {
   "cell_type": "code",
   "execution_count": null,
   "metadata": {},
   "outputs": [],
   "source": [
    "id_diff_intersect_2013 = id_diff_fisci.intersection(id_diff_panact_2013)"
   ]
  },
  {
   "cell_type": "code",
   "execution_count": null,
   "metadata": {},
   "outputs": [],
   "source": [
    "len(id_diff_intersect_2013)/10**6"
   ]
  },
  {
   "cell_type": "code",
   "execution_count": null,
   "metadata": {},
   "outputs": [],
   "source": [
    "df_panact_2013.ID_DIFF.nunique()"
   ]
  },
  {
   "cell_type": "code",
   "execution_count": null,
   "metadata": {},
   "outputs": [],
   "source": [
    "df_panact_2013"
   ]
  },
  {
   "cell_type": "markdown",
   "metadata": {
    "collapsed": true
   },
   "source": [
    "Voir si on retrouve les revenus individuels entre panact et revdet"
   ]
  },
  {
   "cell_type": "code",
   "execution_count": null,
   "metadata": {},
   "outputs": [],
   "source": [
    "df_fiscrevdet = load_df_fiscrevdet_by_year(2013)"
   ]
  },
  {
   "cell_type": "code",
   "execution_count": null,
   "metadata": {},
   "outputs": [],
   "source": [
    "df_fiscrevdet.ID_FISC_FOY_DIFF.head(2)"
   ]
  },
  {
   "cell_type": "code",
   "execution_count": null,
   "metadata": {},
   "outputs": [],
   "source": [
    "df_fiscrevdet.TYPE_FISC.value_counts()"
   ]
  },
  {
   "cell_type": "code",
   "execution_count": null,
   "metadata": {},
   "outputs": [],
   "source": [
    "df_fisci = df_fisci[df_fisci.TYPE_FISC.isin(['1','2','3','4','5','6'])]"
   ]
  },
  {
   "cell_type": "code",
   "execution_count": null,
   "metadata": {},
   "outputs": [],
   "source": [
    "df_fisci['TYPE_FISC'] = df_fisci.TYPE_FISC.astype('float')"
   ]
  },
  {
   "cell_type": "code",
   "execution_count": null,
   "metadata": {},
   "outputs": [],
   "source": [
    "df_fisci_revdet = df_fisci.merge(df_fiscrevdet, on =['ID_FISC_FOY_DIFF','ORDREFIP', 'TYPE_FISC'])"
   ]
  },
  {
   "cell_type": "code",
   "execution_count": null,
   "metadata": {},
   "outputs": [],
   "source": [
    "df_fiscrevdet.columns"
   ]
  },
  {
   "cell_type": "code",
   "execution_count": null,
   "metadata": {},
   "outputs": [],
   "source": [
    "assert np.all(df_fisci_revdet.AN_FISC_x == df_fisci_revdet.AN_FISC_y)"
   ]
  },
  {
   "cell_type": "code",
   "execution_count": null,
   "metadata": {},
   "outputs": [],
   "source": [
    "df_fisci_revdet_to_merge = df_fisci_revdet[[\"ID_DIFF\",\"YSALI\"]]"
   ]
  },
  {
   "cell_type": "code",
   "execution_count": null,
   "metadata": {},
   "outputs": [],
   "source": [
    "del df_fisci_revdet"
   ]
  },
  {
   "cell_type": "code",
   "execution_count": null,
   "metadata": {},
   "outputs": [],
   "source": [
    "del df_fisci"
   ]
  },
  {
   "cell_type": "code",
   "execution_count": null,
   "metadata": {},
   "outputs": [],
   "source": [
    "#panact_2014 = df_panact[df_panact.AN == 2013] ; "
   ]
  },
  {
   "cell_type": "code",
   "execution_count": null,
   "metadata": {},
   "outputs": [],
   "source": [
    "del df_panact"
   ]
  },
  {
   "cell_type": "code",
   "execution_count": null,
   "metadata": {},
   "outputs": [],
   "source": [
    "df_fisci_revdet_to_merge[df_fisci_revdet_to_merge.ID_DIFF == 4855]"
   ]
  },
  {
   "cell_type": "code",
   "execution_count": null,
   "metadata": {},
   "outputs": [],
   "source": [
    "df_fisci_revdet_to_merge.shape"
   ]
  },
  {
   "cell_type": "code",
   "execution_count": null,
   "metadata": {},
   "outputs": [],
   "source": [
    "fsic_panact_merge = df_panact_2013.merge(df_fisci_revdet_to_merge, on = 'ID_DIFF')"
   ]
  },
  {
   "cell_type": "code",
   "execution_count": null,
   "metadata": {
    "scrolled": true
   },
   "outputs": [],
   "source": [
    "fsic_panact_merge[['YSALI','NETNET']]"
   ]
  },
  {
   "cell_type": "code",
   "execution_count": null,
   "metadata": {},
   "outputs": [],
   "source": [
    "(fsic_panact_merge['YSALI']/fsic_panact_merge['NETNET']).describe()"
   ]
  },
  {
   "cell_type": "markdown",
   "metadata": {},
   "source": [
    "\n",
    "Voir allègement fillon :"
   ]
  },
  {
   "cell_type": "code",
   "execution_count": null,
   "metadata": {},
   "outputs": [],
   "source": [
    "((fsic_panact_merge[fsic_panact_merge.YSALI >30000]['YSALI']/ fsic_panact_merge[fsic_panact_merge.YSALI >30000]['NETNET'])>1.1\n",
    ").value_counts()"
   ]
  },
  {
   "cell_type": "code",
   "execution_count": null,
   "metadata": {},
   "outputs": [],
   "source": []
  },
  {
   "cell_type": "code",
   "execution_count": null,
   "metadata": {},
   "outputs": [],
   "source": []
  },
  {
   "cell_type": "code",
   "execution_count": null,
   "metadata": {},
   "outputs": [],
   "source": []
  },
  {
   "cell_type": "code",
   "execution_count": null,
   "metadata": {},
   "outputs": [],
   "source": []
  },
  {
   "cell_type": "code",
   "execution_count": null,
   "metadata": {},
   "outputs": [],
   "source": [
    "(fsic_panact_merge['YSALI']/fsic_panact_merge['NETNET']).describe()"
   ]
  },
  {
   "cell_type": "code",
   "execution_count": null,
   "metadata": {},
   "outputs": [],
   "source": []
  },
  {
   "cell_type": "code",
   "execution_count": null,
   "metadata": {},
   "outputs": [],
   "source": []
  },
  {
   "cell_type": "code",
   "execution_count": null,
   "metadata": {},
   "outputs": [],
   "source": [
    "fsic_panact_merge.NBHEUR.value_counts()"
   ]
  },
  {
   "cell_type": "markdown",
   "metadata": {},
   "source": [
    "\n",
    "Voir la différence du nombre d'heure d'une année sur l'autre du dernier décile."
   ]
  },
  {
   "cell_type": "code",
   "execution_count": null,
   "metadata": {},
   "outputs": [],
   "source": []
  },
  {
   "cell_type": "code",
   "execution_count": null,
   "metadata": {},
   "outputs": [],
   "source": []
  },
  {
   "cell_type": "code",
   "execution_count": null,
   "metadata": {},
   "outputs": [],
   "source": []
  },
  {
   "cell_type": "code",
   "execution_count": null,
   "metadata": {},
   "outputs": [],
   "source": []
  },
  {
   "cell_type": "code",
   "execution_count": null,
   "metadata": {},
   "outputs": [],
   "source": []
  },
  {
   "cell_type": "code",
   "execution_count": null,
   "metadata": {},
   "outputs": [],
   "source": []
  },
  {
   "cell_type": "code",
   "execution_count": null,
   "metadata": {},
   "outputs": [],
   "source": [
    "fsic_panact_merge[(((fsic_panact_merge['YSALI']/fsic_panact_merge['NETNET']))>0.9)&\n",
    "(((fsic_panact_merge['YSALI']/fsic_panact_merge['NETNET']))<1.1)]"
   ]
  },
  {
   "cell_type": "code",
   "execution_count": null,
   "metadata": {},
   "outputs": [],
   "source": []
  },
  {
   "cell_type": "code",
   "execution_count": null,
   "metadata": {},
   "outputs": [],
   "source": []
  },
  {
   "cell_type": "code",
   "execution_count": null,
   "metadata": {},
   "outputs": [],
   "source": []
  },
  {
   "cell_type": "code",
   "execution_count": null,
   "metadata": {},
   "outputs": [],
   "source": []
  }
 ],
 "metadata": {
  "kernelspec": {
   "display_name": "Python 3",
   "language": "python",
   "name": "python3"
  },
  "language_info": {
   "codemirror_mode": {
    "name": "ipython",
    "version": 3
   },
   "file_extension": ".py",
   "mimetype": "text/x-python",
   "name": "python",
   "nbconvert_exporter": "python",
   "pygments_lexer": "ipython3",
   "version": "3.6.3"
  }
 },
 "nbformat": 4,
 "nbformat_minor": 1
}
