{
 "cells": [
  {
   "cell_type": "code",
   "execution_count": 1,
   "metadata": {},
   "outputs": [
    {
     "name": "stdout",
     "output_type": "stream",
     "text": [
      "2018-09-17 12:45:31.080584\n"
     ]
    }
   ],
   "source": [
    "import datetime\n",
    "start_time = datetime.datetime.now(); print(start_time)"
   ]
  },
  {
   "cell_type": "code",
   "execution_count": 2,
   "metadata": {},
   "outputs": [],
   "source": [
    "secret = False #Will be put to True for a CASD export"
   ]
  },
  {
   "cell_type": "code",
   "execution_count": 3,
   "metadata": {},
   "outputs": [
    {
     "data": {
      "text/html": [
       "<style>.container { width:100% !important; }<\\style>"
      ],
      "text/plain": [
       "<IPython.core.display.HTML object>"
      ]
     },
     "metadata": {},
     "output_type": "display_data"
    }
   ],
   "source": [
    "from IPython.core.display import display, HTML\n",
    "display(HTML(\"<style>.container { width:100% !important; }<\\style>\"))"
   ]
  },
  {
   "cell_type": "code",
   "execution_count": 4,
   "metadata": {},
   "outputs": [],
   "source": [
    "import gc\n",
    "from IPython.display import display\n",
    "import matplotlib.pyplot as plt\n",
    "import numpy as np\n",
    "import pandas as pd ; pd.set_option(\"display.max_columns\",200)\n",
    "import pickle"
   ]
  },
  {
   "cell_type": "code",
   "execution_count": 5,
   "metadata": {},
   "outputs": [
    {
     "name": "stdout",
     "output_type": "stream",
     "text": [
      "2011\n"
     ]
    }
   ],
   "source": [
    "pickle_year_variable_path = \"C:/Users/IMPTEMP_A_PACIFIC/Desktop/EDP_2016/Program/year_variable/\"\n",
    "year =  pickle.load(open(pickle_year_variable_path+\"year_variable.p\",'rb')); print(year)"
   ]
  },
  {
   "cell_type": "code",
   "execution_count": 6,
   "metadata": {},
   "outputs": [],
   "source": [
    "store_path_primary = 'C:/Users/IMPTEMP_A_PACIFIC/Desktop/EDP_2016/Data/hdf/edp_2016_final.h5'\n",
    "reaction_store_path = 'C:/Users/IMPTEMP_A_PACIFIC/Desktop/EDP_2016/Data/hdf/reaction.h5'\n",
    "result_store_path = 'C:/Users/IMPTEMP_A_PACIFIC/Desktop/EDP_2016/Data/hdf/result.h5'\n",
    "dads_by_year_store_path = 'C:/Users/IMPTEMP_A_PACIFIC/Desktop/EDP_2016/Data/hdf/dads_by_year.h5'\n",
    "pickles_path = 'C:/Users/IMPTEMP_A_PACIFIC/Desktop/EDP_2016/Data/pickles/{}'.format(year)"
   ]
  },
  {
   "cell_type": "code",
   "execution_count": 7,
   "metadata": {},
   "outputs": [],
   "source": [
    "# for store_path in [store_path_primary, reaction_store_path, result_store_path, dads_by_year_store_path]:\n",
    "#     Store = pd.HDFStore(store_path); Store.close()\n",
    "    "
   ]
  },
  {
   "cell_type": "code",
   "execution_count": 8,
   "metadata": {},
   "outputs": [],
   "source": [
    "# Store.close()\n",
    "# fisc_revdet = pd.read_hdf( store_path,\"FISC_REVDET_2012\")\n",
    "# fisc_revenu = pd.read_hdf(store_path,\"FISC_REVENU_2012\").sort_values(\"ID_FISC_LOG_DIFF\")\n",
    "# fisc_individu = pd.read_hdf( store_path,\"FISC_INDIVIDU_2012\" ).sort_values(\"ID_FISC_LOG_DIFF\")"
   ]
  },
  {
   "cell_type": "code",
   "execution_count": 9,
   "metadata": {},
   "outputs": [],
   "source": [
    "df = pd.read_hdf(result_store_path, \"step_4_{}\".format(year))"
   ]
  },
  {
   "cell_type": "code",
   "execution_count": 10,
   "metadata": {},
   "outputs": [
    {
     "name": "stdout",
     "output_type": "stream",
     "text": [
      "<class 'pandas.core.frame.DataFrame'>\n",
      "Int64Index: 2408421 entries, 0 to 2408420\n",
      "Columns: 256 entries, level_0 to DADS_NBSA_ET_mere\n",
      "dtypes: float64(154), int64(41), object(61)\n",
      "memory usage: 4.6+ GB\n"
     ]
    }
   ],
   "source": [
    "df.info()"
   ]
  },
  {
   "cell_type": "code",
   "execution_count": 11,
   "metadata": {
    "scrolled": false
   },
   "outputs": [
    {
     "name": "stdout",
     "output_type": "stream",
     "text": [
      "level_0\n",
      "index\n",
      "ID_FISC_LOG_DIFF\n",
      "AN_FISC_x\n",
      "AN_REVENU\n",
      "REG\n",
      "DEP_x\n",
      "DEPCOM\n",
      "TU10\n",
      "NBFOYM\n",
      "NBPERSM\n",
      "INF14M\n",
      "SUP14M\n",
      "NBERAM\n",
      "NB_UC\n",
      "AGERF\n",
      "SEXERF\n",
      "OCCTYP\n",
      "TYPMEN9\n",
      "I_CHAMPM\n",
      "I_PAUVRE50M\n",
      "I_PAUVRE60M\n",
      "NB_ALLOC_CNAF\n",
      "NB_ALLOC_CNAV\n",
      "NB_ALLOC_MSAF\n",
      "NB_ALLOC_MSAV\n",
      "NIVVIEM\n",
      "CENTILE\n",
      "REVDISPM\n",
      "REVPERM\n",
      "REVINIM\n",
      "REVDECM\n",
      "ZTSAM\n",
      "ZSALM\n",
      "ZCHOM\n",
      "ZPERM\n",
      "ZRETM\n",
      "ZRSTM\n",
      "ZALRM\n",
      "ZRTOM\n",
      "ZRAGM\n",
      "ZRICM\n",
      "ZRNCM\n",
      "ZFONM\n",
      "ZVAMM0\n",
      "ZVAMM\n",
      "ZVALM0\n",
      "ZVALM\n",
      "ZRACM\n",
      "ZETRM\n",
      "ZALVM\n",
      "PSOCM\n",
      "PFAMM\n",
      "M_PNAM\n",
      "M_PAJEM\n",
      "M_CLCAM\n",
      "M_COLCAM\n",
      "M_AFM\n",
      "M_CFM\n",
      "M_ARSM\n",
      "M_AEEHM\n",
      "M_ASFM\n",
      "MINIM\n",
      "M_MINVM\n",
      "M_RSAM\n",
      "M_RSA_ACTM\n",
      "M_RSA_SOCM\n",
      "M_RSA_PFAM\n",
      "M_AAH_CAAHM\n",
      "LOGTM\n",
      "M_ALFM\n",
      "M_APLM\n",
      "M_ALSM\n",
      "M_ALSETM\n",
      "M_PPEM\n",
      "ZIMPOM\n",
      "ZIMPVALM\n",
      "ZTHABM\n",
      "CSGIM\n",
      "CSGISALM\n",
      "CRDSM\n",
      "CRDSSALM\n",
      "CSGPATM\n",
      "CSGVALM\n",
      "CSGIMPM\n",
      "CSGDM\n",
      "CSGDSALM\n",
      "PRODUITFIN\n",
      "ZPPEM\n",
      "ZQUOM\n",
      "ZDIVM\n",
      "ZGLOM\n",
      "ZAVFM\n",
      "ZIMPFORM\n",
      "NBPAC\n",
      "GARDEM\n",
      "SERVDOMM\n",
      "ZIMPOM_DECL\n",
      "ZIMPOM_ANC\n",
      "ZIMPOM_ANC_DECL\n",
      "ZAVFM_DECL\n",
      "ZTHABM_DECL\n",
      "YSALI\n",
      "YCHOI\n",
      "YRSTI\n",
      "YALRI\n",
      "YRAGI\n",
      "YBICI\n",
      "YBNCI\n",
      "YSALI_mere\n",
      "YCHOI_mere\n",
      "YRSTI_mere\n",
      "YALRI_mere\n",
      "YRAGI_mere\n",
      "YBICI_mere\n",
      "YBNCI_mere\n",
      "YSALI_pere\n",
      "YCHOI_pere\n",
      "YRSTI_pere\n",
      "YALRI_pere\n",
      "YRAGI_pere\n",
      "YBICI_pere\n",
      "YBNCI_pere\n",
      "Age_pere\n",
      "Age_mere\n",
      "ANAIS_pere\n",
      "ANAIS_mere\n",
      "AN_FISC_y\n",
      "DEP_y\n",
      "CNE\n",
      "SECCAD\n",
      "DATACHEV\n",
      "HLMSEM\n",
      "DATEACTE\n",
      "DATEPERS\n",
      "OCC\n",
      "DNATLC\n",
      "NATLOC\n",
      "TAX\n",
      "LOGEMENT\n",
      "NLOC4\n",
      "EAU\n",
      "EGOUT\n",
      "ELEC\n",
      "GAZ\n",
      "CHAUFF\n",
      "ASCENSEUR\n",
      "NBNIV\n",
      "SURFTOT\n",
      "NBPIEC\n",
      "NBPP\n",
      "NBSDB\n",
      "NBBAIG\n",
      "NBDOUC\n",
      "NBWC\n",
      "NBCUIS8\n",
      "NBCUIS9\n",
      "NBCH\n",
      "NBSAM\n",
      "NUM_IRIS\n",
      "NUM_QPV\n",
      "DADS_ID_DIFF\n",
      "DADS_ID_EVT_DIFF\n",
      "DADS_AN\n",
      "DADS_ENTPAN\n",
      "DADS_NBENT\n",
      "DADS_REGR\n",
      "DADS_DEPR\n",
      "DADS_COMR\n",
      "DADS_REGT\n",
      "DADS_DEPT\n",
      "DADS_COMT\n",
      "DADS_CONTRAT_TRAVAIL\n",
      "DADS_CS1\n",
      "DADS_CS2\n",
      "DADS_CS1_ANC\n",
      "DADS_CS2_ANC\n",
      "DADS_CSK\n",
      "DADS_PCS4\n",
      "DADS_CAT\n",
      "DADS_NETNET\n",
      "DADS_NETNETR\n",
      "DADS_DP\n",
      "DADS_DPC\n",
      "DADS_NBHEUR\n",
      "DADS_CE\n",
      "DADS_A38\n",
      "DADS_APE40\n",
      "DADS_NES5\n",
      "DADS_DOMEMPL\n",
      "DADS_NBSA_ENT\n",
      "DADS_NBSA_ET\n",
      "ID_DIFF\n",
      "SEXE\n",
      "DADS_ID_DIFF_pere\n",
      "DADS_ID_DIFF_mere\n",
      "DADS_ID_EVT_DIFF_pere\n",
      "DADS_ID_EVT_DIFF_mere\n",
      "DADS_AN_pere\n",
      "DADS_AN_mere\n",
      "DADS_ENTPAN_pere\n",
      "DADS_ENTPAN_mere\n",
      "DADS_NBENT_pere\n",
      "DADS_NBENT_mere\n",
      "DADS_REGR_pere\n",
      "DADS_REGR_mere\n",
      "DADS_DEPR_pere\n",
      "DADS_DEPR_mere\n",
      "DADS_COMR_pere\n",
      "DADS_COMR_mere\n",
      "DADS_REGT_pere\n",
      "DADS_REGT_mere\n",
      "DADS_DEPT_pere\n",
      "DADS_DEPT_mere\n",
      "DADS_COMT_pere\n",
      "DADS_COMT_mere\n",
      "DADS_CONTRAT_TRAVAIL_pere\n",
      "DADS_CONTRAT_TRAVAIL_mere\n",
      "DADS_CS1_pere\n",
      "DADS_CS1_mere\n",
      "DADS_CS2_pere\n",
      "DADS_CS2_mere\n",
      "DADS_CS1_ANC_pere\n",
      "DADS_CS1_ANC_mere\n",
      "DADS_CS2_ANC_pere\n",
      "DADS_CS2_ANC_mere\n",
      "DADS_CSK_pere\n",
      "DADS_CSK_mere\n",
      "DADS_PCS4_pere\n",
      "DADS_PCS4_mere\n",
      "DADS_CAT_pere\n",
      "DADS_CAT_mere\n",
      "DADS_NETNET_pere\n",
      "DADS_NETNET_mere\n",
      "DADS_NETNETR_pere\n",
      "DADS_NETNETR_mere\n",
      "DADS_DP_pere\n",
      "DADS_DP_mere\n",
      "DADS_DPC_pere\n",
      "DADS_DPC_mere\n",
      "DADS_NBHEUR_pere\n",
      "DADS_NBHEUR_mere\n",
      "DADS_CE_pere\n",
      "DADS_CE_mere\n",
      "DADS_A38_pere\n",
      "DADS_A38_mere\n",
      "DADS_APE40_pere\n",
      "DADS_APE40_mere\n",
      "DADS_NES5_pere\n",
      "DADS_NES5_mere\n",
      "DADS_DOMEMPL_pere\n",
      "DADS_DOMEMPL_mere\n",
      "DADS_NBSA_ENT_pere\n",
      "DADS_NBSA_ENT_mere\n",
      "DADS_NBSA_ET_pere\n",
      "DADS_NBSA_ET_mere\n"
     ]
    }
   ],
   "source": [
    "for col in df.columns:\n",
    "    print(col)"
   ]
  },
  {
   "cell_type": "code",
   "execution_count": 15,
   "metadata": {},
   "outputs": [
    {
     "name": "stdout",
     "output_type": "stream",
     "text": [
      "now:  2018-09-17 12:47:20.707503\n",
      "execution_time:  0:01:49.626919\n"
     ]
    }
   ],
   "source": [
    "stop_time = datetime.datetime.now(); print(\"now: \",stop_time);\n",
    "execution_time = stop_time - start_time; print(\"execution_time: \",execution_time)"
   ]
  },
  {
   "cell_type": "code",
   "execution_count": null,
   "metadata": {},
   "outputs": [],
   "source": []
  },
  {
   "cell_type": "code",
   "execution_count": null,
   "metadata": {},
   "outputs": [],
   "source": []
  },
  {
   "cell_type": "code",
   "execution_count": null,
   "metadata": {},
   "outputs": [],
   "source": []
  }
 ],
 "metadata": {
  "kernelspec": {
   "display_name": "Python 3",
   "language": "python",
   "name": "python3"
  },
  "language_info": {
   "codemirror_mode": {
    "name": "ipython",
    "version": 3
   },
   "file_extension": ".py",
   "mimetype": "text/x-python",
   "name": "python",
   "nbconvert_exporter": "python",
   "pygments_lexer": "ipython3",
   "version": "3.6.3"
  }
 },
 "nbformat": 4,
 "nbformat_minor": 2
}
