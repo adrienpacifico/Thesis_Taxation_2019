{
 "cells": [
  {
   "cell_type": "markdown",
   "metadata": {},
   "source": [
    "We want to isolate households with two parents living under civil union with children being over (or not) 21/25 yo."
   ]
  },
  {
   "cell_type": "code",
   "execution_count": null,
   "metadata": {},
   "outputs": [],
   "source": [
    "import datetime\n",
    "start_time = datetime.datetime.now(); print(start_time)"
   ]
  },
  {
   "cell_type": "code",
   "execution_count": null,
   "metadata": {},
   "outputs": [],
   "source": [
    "secret = False #Will be put to True for a CASD export"
   ]
  },
  {
   "cell_type": "code",
   "execution_count": null,
   "metadata": {},
   "outputs": [],
   "source": [
    "from IPython.display import display\n",
    "import matplotlib.pyplot as plt\n",
    "import numpy as np\n",
    "import pandas as pd ; pd.set_option(\"display.max_columns\",200)\n",
    "import pickle"
   ]
  },
  {
   "cell_type": "code",
   "execution_count": null,
   "metadata": {},
   "outputs": [],
   "source": [
    "pickle_year_variable_path = \"C:/Users/IMPTEMP_A_PACIFIC/Desktop/EDP_2016/Program/year_variable/\"\n",
    "year =  pickle.load(open(pickle_year_variable_path+\"year_variable.p\",'rb')); print(year)"
   ]
  },
  {
   "cell_type": "code",
   "execution_count": null,
   "metadata": {},
   "outputs": [],
   "source": [
    "store_path = 'C:/Users/IMPTEMP_A_PACIFIC/Desktop/EDP_2016/Data/hdf/edp_2016_final.h5'\n",
    "reaction_store_path = 'C:/Users/IMPTEMP_A_PACIFIC/Desktop/EDP_2016/Data/hdf/reaction.h5'\n",
    "pickles_path = 'C:/Users/IMPTEMP_A_PACIFIC/Desktop/EDP_2016/Data/pickles/{}'.format(year)\n",
    "Store = pd.HDFStore(store_path)"
   ]
  },
  {
   "cell_type": "code",
   "execution_count": null,
   "metadata": {},
   "outputs": [],
   "source": [
    "Store"
   ]
  },
  {
   "cell_type": "code",
   "execution_count": null,
   "metadata": {},
   "outputs": [],
   "source": [
    "for key in Store.keys(): print(key)\n",
    "Store.close()"
   ]
  },
  {
   "cell_type": "code",
   "execution_count": null,
   "metadata": {},
   "outputs": [],
   "source": [
    "fisc_revdet = pd.read_hdf( store_path,\"FISC_REVDET_{}\".format(year+1) )\n",
    "fisc_revenu = pd.read_hdf(store_path,\"FISC_REVENU_{}\".format(year+1))\n",
    "fisc_individu = pd.read_hdf( store_path,\"FISC_INDIVIDU_{}\".format(year+1) )"
   ]
  },
  {
   "cell_type": "code",
   "execution_count": null,
   "metadata": {},
   "outputs": [],
   "source": [
    "year"
   ]
  },
  {
   "cell_type": "code",
   "execution_count": null,
   "metadata": {},
   "outputs": [],
   "source": [
    "print(fisc_individu.shape, fisc_revenu.shape, fisc_individu.shape)"
   ]
  },
  {
   "cell_type": "code",
   "execution_count": null,
   "metadata": {},
   "outputs": [],
   "source": [
    "assert np.all(fisc_revenu.AN_REVENU == year)"
   ]
  },
  {
   "cell_type": "markdown",
   "metadata": {},
   "source": [
    "## Data cleaning"
   ]
  },
  {
   "cell_type": "markdown",
   "metadata": {},
   "source": [
    "All operations needed to process raw data in a good way"
   ]
  },
  {
   "cell_type": "code",
   "execution_count": null,
   "metadata": {},
   "outputs": [],
   "source": [
    "fisc_individu[\"CIDECI\"]= fisc_individu.CIDECI.astype(\"str\")"
   ]
  },
  {
   "cell_type": "code",
   "execution_count": null,
   "metadata": {},
   "outputs": [],
   "source": [
    "fisc_revenu[\"ID_FISC_LOG_DIFF\"] = fisc_revenu.ID_FISC_LOG_DIFF.astype(\"float\")"
   ]
  },
  {
   "cell_type": "code",
   "execution_count": null,
   "metadata": {},
   "outputs": [],
   "source": [
    "fisc_revenu.sort_values(\"ID_FISC_LOG_DIFF\").head()"
   ]
  },
  {
   "cell_type": "code",
   "execution_count": null,
   "metadata": {},
   "outputs": [],
   "source": [
    "(fisc_revenu.NBPERSM - fisc_revenu.NBPAC).value_counts() # 2, soit couples marié, soit célib avec enfant majeur, etc."
   ]
  },
  {
   "cell_type": "markdown",
   "metadata": {},
   "source": [
    "### Drop duplicates"
   ]
  },
  {
   "cell_type": "markdown",
   "metadata": {},
   "source": [
    "On droppe s'il y a plus d'un IDFISC_LOG_DIFF dans fisc_revenu"
   ]
  },
  {
   "cell_type": "code",
   "execution_count": null,
   "metadata": {},
   "outputs": [],
   "source": [
    "#Test qu'il n'y a pas de duplicate dans la base\n",
    "assert (fisc_revenu.ID_FISC_LOG_DIFF.duplicated()).value_counts().index == False"
   ]
  },
  {
   "cell_type": "code",
   "execution_count": null,
   "metadata": {},
   "outputs": [],
   "source": [
    "assert(fisc_individu[[\"ID_FISC_FOY_DIFF\", \"ORDREFIP\", \"TYPE_FISC\"]\n",
    "                    ].duplicated()).value_counts().index == False"
   ]
  },
  {
   "cell_type": "code",
   "execution_count": null,
   "metadata": {},
   "outputs": [],
   "source": []
  },
  {
   "cell_type": "code",
   "execution_count": null,
   "metadata": {},
   "outputs": [],
   "source": []
  },
  {
   "cell_type": "markdown",
   "metadata": {},
   "source": [
    "### Drop not same number of individuals"
   ]
  },
  {
   "cell_type": "markdown",
   "metadata": {},
   "source": [
    "- Compte le nombre d'individus par logement fiscal dans la table fiscindividu  \n",
    "- Regarde le nombre de personne dans le logement fiscal (variable NBFOYM)  \n",
    "- Droppe les logement fiscaux ou le nombre n'est pas exactement le même."
   ]
  },
  {
   "cell_type": "code",
   "execution_count": null,
   "metadata": {},
   "outputs": [],
   "source": [
    "%%time\n",
    "#compte\n",
    "nb_pers_by_id_fisclog_in_fisci = fisc_individu.groupby(\"ID_FISC_LOG_DIFF\")[\"ANAIS\"].count();\n",
    "nb_pers_by_id_fisclog_in_fisci.name = \"Nbpers_in_fisci_by_fisclog\"\n",
    "#compare\n",
    "merge = pd.merge(nb_pers_by_id_fisclog_in_fisci.to_frame().reset_index(),\n",
    "                 fisc_revenu[[\"ID_FISC_LOG_DIFF\", \"NBPERSM\", \"NBFOYM\", \"NBPAC\"]],\n",
    "                 on = \"ID_FISC_LOG_DIFF\" )\n",
    "print(\n",
    "    (merge.NBPERSM == merge.Nbpers_in_fisci_by_fisclog).value_counts())\n",
    "id_fisc_log_to_keep = merge[merge.NBPERSM == merge.Nbpers_in_fisci_by_fisclog].ID_FISC_LOG_DIFF\n"
   ]
  },
  {
   "cell_type": "code",
   "execution_count": null,
   "metadata": {},
   "outputs": [],
   "source": [
    "#fisc_revdet = fisc_revdet[~ fisc_revdet.ID_FISC_LOG_DIFF.isin(id_fisc_log_to_drop)]\n",
    "fisc_revenu = fisc_revenu[fisc_revenu.ID_FISC_LOG_DIFF.isin(id_fisc_log_to_keep)]\n",
    "fisc_individu = fisc_individu[ fisc_individu.ID_FISC_LOG_DIFF.isin(id_fisc_log_to_keep)]"
   ]
  },
  {
   "cell_type": "code",
   "execution_count": null,
   "metadata": {},
   "outputs": [],
   "source": [
    "print(fisc_revenu.shape, fisc_individu.shape)"
   ]
  },
  {
   "cell_type": "markdown",
   "metadata": {},
   "source": [
    "## Obtenir la structure familiale"
   ]
  },
  {
   "cell_type": "code",
   "execution_count": null,
   "metadata": {},
   "outputs": [],
   "source": [
    "%%time\n",
    "grpby_fisci = fisc_individu.groupby('ID_FISC_LOG_DIFF').CIDECI.apply(\"\".join)"
   ]
  },
  {
   "cell_type": "code",
   "execution_count": null,
   "metadata": {},
   "outputs": [],
   "source": [
    "grpby_fisci.value_counts().head(10)"
   ]
  },
  {
   "cell_type": "markdown",
   "metadata": {},
   "source": [
    "Ceci nous donne une vague idée de la structure familiale.  \n",
    "\"MM\" représente deux individus mariés, chaque \"A\" représente une personne à charge.  \n",
    "\"MMAA\" représente donc un logement avec deux individus mariés avec deux individus à charge.  \n",
    "\"MMC\" représente un logement d'un couple marié avec un célibataire.\n",
    "\n",
    "\n",
    "\"C\" représente les logement fiscaux de célibataires, \"CA\" célib avec un enfant, etc.\n",
    "\n",
    "\n",
    "\n",
    "Cela pourrait ne pas être un couple marié avec deux enfants. Cela pourrait être une mêre marié avec son enfant également marié mais dont l'épouse vivrait sous un autre toit, avec sa mère dépendente à charge, et son marri qui vivrait ailleur dans le logement (e.g. en instance de divorce).\n",
    "\n",
    "Bien sur dans la majorité des cas cela est effectivement un couple mariés avec deux enfants...  \n",
    "\n",
    "### Preuve :"
   ]
  },
  {
   "cell_type": "markdown",
   "metadata": {},
   "source": [
    "#### Un seul foyer fiscal"
   ]
  },
  {
   "cell_type": "code",
   "execution_count": null,
   "metadata": {},
   "outputs": [],
   "source": [
    "df = pd.DataFrame()\n",
    "df[\"MMAA\"] = (grpby_fisci == \"MMAA\")\n",
    "df[\"CIDECI\"] = grpby_fisci.values\n",
    "MMAA_id_fisc_log_diff = df[df.MMAA == True].index\n",
    "fisc_revenu_MMAA = fisc_revenu[fisc_revenu.ID_FISC_LOG_DIFF.isin(MMAA_id_fisc_log_diff)]\n",
    "fisc_revenu_MMAA.NBFOYM.value_counts(normalize = True).head(3)"
   ]
  },
  {
   "cell_type": "markdown",
   "metadata": {},
   "source": [
    "99.9% ont un seul foyer fiscal dans le logement ce qui correspondrait effectivement à un couple marié, 0.13% en on deux ou plus."
   ]
  },
  {
   "cell_type": "markdown",
   "metadata": {},
   "source": [
    "Qui sont donc ces 0.13% de MMAA avec plus d'1 foyer fiscal ?"
   ]
  },
  {
   "cell_type": "code",
   "execution_count": null,
   "metadata": {},
   "outputs": [],
   "source": [
    "MMAA_id_fisc_log_diff_2_fiscfoy = fisc_revenu_MMAA.query(\"NBFOYM>1\").ID_FISC_LOG_DIFF"
   ]
  },
  {
   "cell_type": "code",
   "execution_count": null,
   "metadata": {},
   "outputs": [],
   "source": [
    "MMAA_id_fisc_log_diff_2_fiscfoy.shape"
   ]
  },
  {
   "cell_type": "markdown",
   "metadata": {},
   "source": [
    "Ils sont 367, on va faire comme s'ils n'existaient pas..."
   ]
  },
  {
   "cell_type": "code",
   "execution_count": null,
   "metadata": {},
   "outputs": [],
   "source": [
    "# if secret == False : \n",
    "#     display(\n",
    "#         fisc_individu[\n",
    "#         fisc_individu.ID_FISC_LOG_DIFF.isin(MMAA_id_fisc_log_diff_2_fiscfoy)\n",
    "#         ].sort_values(\"ID_FISC_FOY_DIFF\").head(10)[[\"ID_FISC_FOY_DIFF\",\"ID_FISC_LOG_DIFF\",\"CIDECI\",\n",
    "#                                                     \"SEXE\",\"ANAIS\", \"TYPE_FISC\"]]\n",
    "#     )#Voila tout de même un moyen de les voir"
   ]
  },
  {
   "cell_type": "markdown",
   "metadata": {},
   "source": []
  },
  {
   "cell_type": "markdown",
   "metadata": {},
   "source": [
    "On revient sur MMAA"
   ]
  },
  {
   "cell_type": "code",
   "execution_count": null,
   "metadata": {},
   "outputs": [],
   "source": [
    "MMAA_id_fisc_log_diff_1_fiscfoy = fisc_revenu_MMAA.query(\"NBFOYM==1\").ID_FISC_LOG_DIFF"
   ]
  },
  {
   "cell_type": "code",
   "execution_count": null,
   "metadata": {},
   "outputs": [],
   "source": []
  },
  {
   "cell_type": "code",
   "execution_count": null,
   "metadata": {},
   "outputs": [],
   "source": []
  },
  {
   "cell_type": "markdown",
   "metadata": {},
   "source": [
    "### Condition d'age"
   ]
  },
  {
   "cell_type": "markdown",
   "metadata": {},
   "source": [
    "C'est bien deux enfants et deux parents."
   ]
  },
  {
   "cell_type": "code",
   "execution_count": null,
   "metadata": {},
   "outputs": [],
   "source": [
    "MMAA_id_fisc_log_diff_1_fiscfoy = fisc_revenu_MMAA.query(\"NBFOYM==1\").ID_FISC_LOG_DIFF"
   ]
  },
  {
   "cell_type": "code",
   "execution_count": null,
   "metadata": {},
   "outputs": [],
   "source": [
    "fisc_individu_MMAA_1_fisc_foy = fisc_individu[fisc_individu.ID_FISC_LOG_DIFF.isin(MMAA_id_fisc_log_diff_1_fiscfoy)\n",
    "                                ].sort_values(\"ID_FISC_FOY_DIFF\")"
   ]
  },
  {
   "cell_type": "code",
   "execution_count": null,
   "metadata": {},
   "outputs": [],
   "source": [
    "if secret == False : \n",
    "    display(\n",
    "        fisc_individu_MMAA_1_fisc_foy.head(10)[[\"ID_FISC_FOY_DIFF\",\"ID_FISC_LOG_DIFF\",\"CIDECI\",\n",
    "                                                    \"SEXE\",\"ANAIS\", \"TYPE_FISC\"]]\n",
    "    )"
   ]
  },
  {
   "cell_type": "markdown",
   "metadata": {},
   "source": [
    "On va bien vérifier que les déclarants (CIDECI == 1 ou 2), sont plus vieux que les personnes à charges.  \n",
    "\n",
    "Algorithme: On prend le plus jeune des déclarants, et on vérifie qu'il est plus vieux que le plus vieux des personnes à charge.\n",
    "\n"
   ]
  },
  {
   "cell_type": "code",
   "execution_count": null,
   "metadata": {},
   "outputs": [],
   "source": [
    "younger_tax_filler = fisc_individu_MMAA_1_fisc_foy.query(\n",
    "    \"((TYPE_FISC=='1')|(TYPE_FISC=='2'))\").groupby(\"ID_FISC_LOG_DIFF\").ANAIS.max()                                                \n",
    "oldest_dependent = fisc_individu_MMAA_1_fisc_foy[\n",
    "                        fisc_individu_MMAA_1_fisc_foy.TYPE_FISC.isin(\n",
    "                            [\"A\", \"B\",\"C\", \"D\", \"E\", \"F\", \"G\", \"H\",\"I\", \"J\",\n",
    "                            \"3\", \"4\", \"5\", \"6\", \"7\", \"8\", \"9\"]\n",
    "                            )               \n",
    "                                ].groupby(\"ID_FISC_LOG_DIFF\").ANAIS.max()                                                "
   ]
  },
  {
   "cell_type": "code",
   "execution_count": null,
   "metadata": {},
   "outputs": [],
   "source": [
    "younger_tax_filler.name = \"ANAIS_yrgr_tf\"\n",
    "oldest_dependent.name = \"ANAIS_oldest_dependent\""
   ]
  },
  {
   "cell_type": "code",
   "execution_count": null,
   "metadata": {},
   "outputs": [],
   "source": [
    "df_youg_tf_old_depend = pd.concat([younger_tax_filler, oldest_dependent], axis = 1)"
   ]
  },
  {
   "cell_type": "code",
   "execution_count": null,
   "metadata": {},
   "outputs": [],
   "source": [
    "((df_youg_tf_old_depend.ANAIS_oldest_dependent)< (df_youg_tf_old_depend.ANAIS_yrgr_tf)).value_counts()"
   ]
  },
  {
   "cell_type": "markdown",
   "metadata": {},
   "source": [
    "On a que 3832 logements fiscaux MMAA avec une pesonne dépendente plus vielle.\n",
    "Il est possible de mettre sur sa feuille fiscale les parents dépendents... (qui seraient donc soit \"A\" soit \"3\" dans la variable TYPE_FISC)"
   ]
  },
  {
   "cell_type": "code",
   "execution_count": null,
   "metadata": {},
   "outputs": [],
   "source": [
    "\n",
    "df_youg_tf_old_depend[((df_youg_tf_old_depend.ANAIS_oldest_dependent)\n",
    "                       < (df_youg_tf_old_depend.ANAIS_yrgr_tf))].shape"
   ]
  },
  {
   "cell_type": "markdown",
   "metadata": {},
   "source": [
    "On vérifie en regardant sur l'ensemble de la population."
   ]
  },
  {
   "cell_type": "code",
   "execution_count": null,
   "metadata": {},
   "outputs": [],
   "source": [
    "younger_tax_filler = fisc_individu.query(\n",
    "    \"((TYPE_FISC=='1')|(TYPE_FISC=='2'))\").groupby(\"ID_FISC_LOG_DIFF\").ANAIS.max()                                                \n",
    "oldest_dependent = fisc_individu[\n",
    "                        fisc_individu.TYPE_FISC.isin(\n",
    "                            [\"A\", \"B\",\"C\", \"D\", \"E\", \"F\", \"G\", \"H\",\"I\", \"J\",\n",
    "                            \"3\", \"4\", \"5\", \"6\", \"7\", \"8\", \"9\"]\n",
    "                            )               \n",
    "                                ].groupby(\"ID_FISC_LOG_DIFF\").ANAIS.max()                                                "
   ]
  },
  {
   "cell_type": "code",
   "execution_count": null,
   "metadata": {},
   "outputs": [],
   "source": [
    "younger_tax_filler.name = \"ANAIS_yrgr_tf\"\n",
    "oldest_dependent.name = \"ANAIS_oldest_dependent\"\n",
    "df_youg_tf_old_depend = pd.concat([younger_tax_filler, oldest_dependent], axis = 1)\n",
    "(df_youg_tf_old_depend.ANAIS_oldest_dependent< df_youg_tf_old_depend.ANAIS_yrgr_tf).value_counts()"
   ]
  },
  {
   "cell_type": "code",
   "execution_count": null,
   "metadata": {},
   "outputs": [],
   "source": [
    "fisc_individu.shape"
   ]
  },
  {
   "cell_type": "code",
   "execution_count": null,
   "metadata": {},
   "outputs": [],
   "source": [
    "df_youg_tf_old_depend[\n",
    "    (df_youg_tf_old_depend.ANAIS_oldest_dependent< df_youg_tf_old_depend.ANAIS_yrgr_tf)].head(4)"
   ]
  },
  {
   "cell_type": "markdown",
   "metadata": {},
   "source": [
    "Ici, il semble que les personnes dépendentes ont plutôt tendence à être jeunes... plutot que des grands parents rattachés."
   ]
  },
  {
   "cell_type": "code",
   "execution_count": null,
   "metadata": {},
   "outputs": [],
   "source": []
  },
  {
   "cell_type": "code",
   "execution_count": null,
   "metadata": {},
   "outputs": [],
   "source": []
  },
  {
   "cell_type": "markdown",
   "metadata": {},
   "source": [
    "### MMC va donc majoritairement représenter les ménages avec un majeur non rataché\n",
    "#### Preuve:"
   ]
  },
  {
   "cell_type": "code",
   "execution_count": null,
   "metadata": {},
   "outputs": [],
   "source": [
    "df = pd.DataFrame()\n",
    "df[\"MMC\"] = (grpby_fisci == \"MMC\")\n",
    "df[\"CIDECI\"] = grpby_fisci.values\n",
    "MMC_id_fisc_log_diff = df[df.MMC == True].index\n",
    "fisc_revenu_MMC = fisc_revenu[fisc_revenu.ID_FISC_LOG_DIFF.isin(MMC_id_fisc_log_diff)]\n",
    "fisc_revenu_MMC.NBFOYM.value_counts(normalize = True).head(3)"
   ]
  },
  {
   "cell_type": "markdown",
   "metadata": {},
   "source": [
    " Il y a deux foyers fiscaux"
   ]
  },
  {
   "cell_type": "code",
   "execution_count": null,
   "metadata": {},
   "outputs": [],
   "source": [
    "MMC_id_fisc_log_diff_2_fiscfoy = fisc_revenu_MMC.query(\"NBFOYM==2\").ID_FISC_LOG_DIFF\n",
    "fisc_individu_MMC_2_fisc_foy = fisc_individu[fisc_individu.ID_FISC_LOG_DIFF.isin(MMC_id_fisc_log_diff_2_fiscfoy)\n",
    "                                ].sort_values(\"ID_FISC_LOG_DIFF\")"
   ]
  },
  {
   "cell_type": "code",
   "execution_count": null,
   "metadata": {},
   "outputs": [],
   "source": [
    "if secret == False : \n",
    "    display(\n",
    "        fisc_individu_MMC_2_fisc_foy.head(10)[[\"ID_FISC_FOY_DIFF\",\"ID_FISC_LOG_DIFF\",\"CIDECI\",\n",
    "                                                    \"SEXE\",\"ANAIS\", \"TYPE_FISC\"]]\n",
    "    )"
   ]
  },
  {
   "cell_type": "markdown",
   "metadata": {},
   "source": [
    "On voit en regardants l'age que c'est dans la grande majorité des cas un enfant vivant avec ses parents.\n",
    "TODO: le montrer"
   ]
  },
  {
   "cell_type": "code",
   "execution_count": null,
   "metadata": {},
   "outputs": [],
   "source": []
  },
  {
   "cell_type": "markdown",
   "metadata": {},
   "source": [
    "### Isoler les groupes d'intérêt en fonction de la structure familiale:\n",
    "\n",
    "1. Couple mariés ou pacés sans enfants:  \n",
    "Conditions: (grpby_CIDECI = \"MM\" ou \"OO\")et (NBFOYM = 1) et NBPERSM ==2\n",
    "2. Couple mariés ou pacés avec enfants:\n",
    "   1. Sans majeurs:  \n",
    "      Conditions: \n",
    "          ((grpby_CIDECI where TYPEFISC==(1|2)) = \"MM\" ou \"OO\")  \n",
    "          ((grpby_CIDECI where TYPEFISC==(\"A\",..., \"3\")) = \"only_letters\")\n",
    "              control : (NBFOYM == 1)\n",
    "   2. Avec majeurs ratachés:\n",
    "           ((grpby_CIDECI where TYPEFISC==(1|2)) = \"MM\" ou \"OO\")  \n",
    "               control = (NBFOYM == 1) (on peut potentiellement avoir quelques nouveaux couples en cours \n",
    "                                             de     séparation.)\n",
    "                                          \n",
    "   3. Avec majeurs non ratachés (n'ayant pas d'enfants) + point 2 ou 3:  \n",
    "           ((grpby_CIDECI where TYPEFISC==(2)) = \"M\" ou \"O\") #un seul déclarant 2  \n",
    "           info: NPPERSM - NBPAC == 2 + nombre de majeurs non ratachés.\n",
    "           control: \"C\" number == nombre de majeurs non ratachés\n",
    "           \n",
    "   \n",
    "3. Célibtaire sans enfants:\n",
    "Conditions : NBPERM == 1 et  (grpby_CIDECI == \"C\"|\"D\")  #On élimine les divorcés sans enfants  \n",
    "\n",
    "4. Célibataire avec enfants:  \n",
    "     1. Conditions: Sans majeurs:\n",
    "     Conditions: (grpby_CIDECI where TYPEFISC==(1)) == \"C\" ou \"D\")\n",
    "                 ((grpby_CIDECI where TYPEFISC==(\"A\",..., \"3\")) = \"only_letters\")\n",
    "                      control : (NBFOYM == 1)\n",
    "                      \n",
    "etc                  \n",
    "                                             \n",
    "        \n",
    "          \n",
    "   "
   ]
  },
  {
   "cell_type": "code",
   "execution_count": null,
   "metadata": {},
   "outputs": [],
   "source": [
    "%%time\n",
    "declrants_groupby_CIDECI = fisc_individu[\n",
    "                                fisc_individu.TYPE_FISC.isin([\"1\", \"2\"])\n",
    "                                        ].groupby('ID_FISC_LOG_DIFF').CIDECI.apply(\"\".join)"
   ]
  },
  {
   "cell_type": "code",
   "execution_count": null,
   "metadata": {},
   "outputs": [],
   "source": [
    "(declrants_groupby_CIDECI == \"MM\").value_counts()"
   ]
  },
  {
   "cell_type": "code",
   "execution_count": null,
   "metadata": {},
   "outputs": [],
   "source": [
    "id_fisc_log_declarants_MM_OO = declrants_groupby_CIDECI[\n",
    "                    ((declrants_groupby_CIDECI == \"MM\")|(declrants_groupby_CIDECI == \"MM\"))\n",
    "                                                        ].index\n",
    "id_fisc_log_declarants_C = declrants_groupby_CIDECI[\n",
    "                    ((declrants_groupby_CIDECI == \"C\"))].index"
   ]
  },
  {
   "cell_type": "code",
   "execution_count": null,
   "metadata": {},
   "outputs": [],
   "source": []
  },
  {
   "cell_type": "code",
   "execution_count": null,
   "metadata": {},
   "outputs": [],
   "source": []
  },
  {
   "cell_type": "code",
   "execution_count": null,
   "metadata": {},
   "outputs": [],
   "source": []
  },
  {
   "cell_type": "code",
   "execution_count": null,
   "metadata": {},
   "outputs": [],
   "source": []
  },
  {
   "cell_type": "code",
   "execution_count": null,
   "metadata": {},
   "outputs": [],
   "source": [
    "#pd.value_counts().__defaults__  = (None, True, False, False, None, False)"
   ]
  },
  {
   "cell_type": "code",
   "execution_count": null,
   "metadata": {},
   "outputs": [],
   "source": []
  },
  {
   "cell_type": "code",
   "execution_count": null,
   "metadata": {},
   "outputs": [],
   "source": [
    "%%time\n",
    "declrant_2_groupby_CIDECI = fisc_individu[\n",
    "                                fisc_individu.TYPE_FISC.isin([\"2\"])\n",
    "                                        ].groupby('ID_FISC_LOG_DIFF').CIDECI.apply(\"\".join)"
   ]
  },
  {
   "cell_type": "code",
   "execution_count": null,
   "metadata": {},
   "outputs": [],
   "source": [
    "print(declrant_2_groupby_CIDECI.value_counts(dropna = False).head())"
   ]
  },
  {
   "cell_type": "code",
   "execution_count": null,
   "metadata": {},
   "outputs": [],
   "source": [
    "filter_unique_declarant_2 = (declrant_2_groupby_CIDECI.str.len()==1)"
   ]
  },
  {
   "cell_type": "code",
   "execution_count": null,
   "metadata": {},
   "outputs": [],
   "source": [
    "## Test if CIDECI == M | O\n",
    "print(declrant_2_groupby_CIDECI[filter_unique_declarant_2].value_counts())\n",
    "#TODO: print % de non M|O\n",
    "print((declrant_2_groupby_CIDECI[filter_unique_declarant_2].isin([\"M\", \"O\"])).value_counts(normalize = True))"
   ]
  },
  {
   "cell_type": "code",
   "execution_count": null,
   "metadata": {},
   "outputs": [],
   "source": [
    "### On vire les Divorcés veuf et célibs"
   ]
  },
  {
   "cell_type": "code",
   "execution_count": null,
   "metadata": {},
   "outputs": [],
   "source": [
    "unique_declrant_2_groupby_CIDECI = declrant_2_groupby_CIDECI[filter_unique_declarant_2]"
   ]
  },
  {
   "cell_type": "code",
   "execution_count": null,
   "metadata": {},
   "outputs": [],
   "source": [
    "filter_only_declar_2_with_O_or_M = unique_declrant_2_groupby_CIDECI.isin([\"M\", \"O\"])\n",
    "unique_declrant_2_groupby_CIDECI_O_or_M = unique_declrant_2_groupby_CIDECI[filter_only_declar_2_with_O_or_M]"
   ]
  },
  {
   "cell_type": "code",
   "execution_count": null,
   "metadata": {},
   "outputs": [],
   "source": [
    "id_fisc_log_unique_declrant_2_grpby_CIDECI_O_or_M = unique_declrant_2_groupby_CIDECI_O_or_M.index"
   ]
  },
  {
   "cell_type": "code",
   "execution_count": null,
   "metadata": {},
   "outputs": [],
   "source": [
    "len(id_fisc_log_unique_declrant_2_grpby_CIDECI_O_or_M)"
   ]
  },
  {
   "cell_type": "code",
   "execution_count": null,
   "metadata": {},
   "outputs": [],
   "source": []
  },
  {
   "cell_type": "code",
   "execution_count": null,
   "metadata": {},
   "outputs": [],
   "source": []
  },
  {
   "cell_type": "code",
   "execution_count": null,
   "metadata": {},
   "outputs": [],
   "source": [
    "dependent_person_type_fisc_label = [\"A\", \"B\",\"C\", \"D\", \"E\", \"F\", \"G\", \"H\",\"I\", \"J\",\n",
    "                                \"3\", \"4\", \"5\", \"6\", \"7\", \"8\", \"9\"]"
   ]
  },
  {
   "cell_type": "code",
   "execution_count": null,
   "metadata": {},
   "outputs": [],
   "source": [
    "%%time\n",
    "dependent_groupby_TYPE_FISC = fisc_individu[\n",
    "                                fisc_individu.TYPE_FISC.isin(dependent_person_type_fisc_label)\n",
    "                                        ].groupby('ID_FISC_LOG_DIFF').TYPE_FISC.apply(\"\".join)"
   ]
  },
  {
   "cell_type": "code",
   "execution_count": null,
   "metadata": {},
   "outputs": [],
   "source": [
    "df = pd.DataFrame()\n",
    "df[\"TYPE_FISC\"] = dependent_groupby_TYPE_FISC\n",
    "df[\"Majeurs_rataches\"] = dependent_groupby_TYPE_FISC.str.contains(\"[1-9]\", regex=True) #Regex contains a number\n",
    "df[\"Enf_ss_majeur_rataches\"] = ~dependent_groupby_TYPE_FISC.str.contains(\"[1-9]\", regex=True)\n",
    "id_fisc_log_majeurs_rataches = df[df.Majeurs_rataches].index\n",
    "id_fisc_log_enf_ss_majeurs_rataches = df[df.Enf_ss_majeur_rataches].index"
   ]
  },
  {
   "cell_type": "code",
   "execution_count": null,
   "metadata": {},
   "outputs": [],
   "source": [
    "%%time\n",
    "##### Majeurs non ratachés\n",
    "# Only one conjoint\n",
    "declrant2_groupby_CIDECI = fisc_individu[  \n",
    "                                fisc_individu.TYPE_FISC.isin([\"2\"])\n",
    "                                        ].groupby('ID_FISC_LOG_DIFF').CIDECI.apply(\"\".join)"
   ]
  },
  {
   "cell_type": "code",
   "execution_count": null,
   "metadata": {},
   "outputs": [],
   "source": [
    "more_than_one_joint_tax_fiscal_household = declrant2_groupby_CIDECI[declrant2_groupby_CIDECI.str.len()>1]\n",
    "id_more_than_one_joint_tax_fiscal_household = more_than_one_joint_tax_fiscal_household.index"
   ]
  },
  {
   "cell_type": "code",
   "execution_count": null,
   "metadata": {},
   "outputs": [],
   "source": [
    "fisc_revenu[fisc_revenu.ID_FISC_LOG_DIFF.isin(id_more_than_one_joint_tax_fiscal_household)\n",
    "                ].NBFOYM.value_counts() #On a deux declarants 2, mais un seul foyer fiscal dans le logement, étrange TODO:\n"
   ]
  },
  {
   "cell_type": "code",
   "execution_count": null,
   "metadata": {},
   "outputs": [],
   "source": []
  },
  {
   "cell_type": "code",
   "execution_count": null,
   "metadata": {},
   "outputs": [],
   "source": [
    "##### To drop\n",
    "id_more_than_one_joint_tax_fiscal_household"
   ]
  },
  {
   "cell_type": "code",
   "execution_count": null,
   "metadata": {},
   "outputs": [],
   "source": []
  },
  {
   "cell_type": "code",
   "execution_count": null,
   "metadata": {},
   "outputs": [],
   "source": []
  },
  {
   "cell_type": "code",
   "execution_count": null,
   "metadata": {},
   "outputs": [],
   "source": []
  },
  {
   "cell_type": "markdown",
   "metadata": {},
   "source": [
    "### couple_mar_pac_ss_enf"
   ]
  },
  {
   "cell_type": "code",
   "execution_count": null,
   "metadata": {},
   "outputs": [],
   "source": [
    "fiscr_MM_OO = fisc_revenu[fisc_revenu.ID_FISC_LOG_DIFF.isin(id_fisc_log_declarants_MM_OO)]\n",
    "fiscr_MM_OO_ss_enf = fiscr_MM_OO[fiscr_MM_OO.NBPERSM == 2]\n",
    "print(fiscr_MM_OO_ss_enf.NBFOYM.value_counts()) #Enlever mariés déclarations séparé\n",
    "fiscr_MM_OO_ss_enf_1_foy = fiscr_MM_OO_ss_enf[fiscr_MM_OO_ss_enf.NBFOYM==1] #Enlever mariés déclarations séparé\n",
    "df_couple_mar_pac_ss_enf = fiscr_MM_OO_ss_enf_1_foy"
   ]
  },
  {
   "cell_type": "code",
   "execution_count": null,
   "metadata": {},
   "outputs": [],
   "source": [
    "fiscr_MM_OO = fisc_revenu[fisc_revenu.ID_FISC_LOG_DIFF.isin(id_fisc_log_declarants_MM_OO)]\n",
    "fiscr_MM_OO_ss_enf = fiscr_MM_OO[fiscr_MM_OO.NBPERSM == 2]\n",
    "print(fiscr_MM_OO_ss_enf.NBFOYM.value_counts()) #Enlever mariés déclarations séparé\n",
    "fiscr_MM_OO_ss_enf_1_foy = fiscr_MM_OO_ss_enf[fiscr_MM_OO_ss_enf.NBFOYM==1] #Enlever mariés déclarations séparé\n",
    "df_couple_mar_pac_ss_enf = fiscr_MM_OO_ss_enf_1_foy"
   ]
  },
  {
   "cell_type": "markdown",
   "metadata": {},
   "source": [
    "#### Fill structure in fiscr df"
   ]
  },
  {
   "cell_type": "code",
   "execution_count": null,
   "metadata": {},
   "outputs": [],
   "source": [
    "for var in [ \"Nb_child\",\n",
    "            \"Nb_attached_child\",\"Nb_attached_minor_child\",\n",
    "            \"Nb_major_child\",\"Nb_attached_major_child\",\n",
    "            \"Nb_detatched_major_child\"]:\n",
    "    df_couple_mar_pac_ss_enf.loc[var] = 0"
   ]
  },
  {
   "cell_type": "markdown",
   "metadata": {},
   "source": [
    "### couple_mar_pac_ac_enf sans majeurs"
   ]
  },
  {
   "cell_type": "code",
   "execution_count": null,
   "metadata": {},
   "outputs": [],
   "source": [
    "fiscr_MMOO_ss_maj = fisc_revenu[((fisc_revenu.ID_FISC_LOG_DIFF.isin(id_fisc_log_declarants_MM_OO))\n",
    "                          &(fisc_revenu.ID_FISC_LOG_DIFF.isin(id_fisc_log_enf_ss_majeurs_rataches)))]\n"
   ]
  },
  {
   "cell_type": "code",
   "execution_count": null,
   "metadata": {},
   "outputs": [],
   "source": [
    "#Teste que la différence entre le nombre d'individus et le nombre d'enfants est de 2 (i.e. le couple)\n",
    "print((fiscr_MMOO_ss_maj.NBPERSM - fiscr_MMOO_ss_maj.NBPAC).value_counts(normalize = True)[2.0] )\n",
    "#0.034% de mauvaises obs, del\n",
    "filter_2_parents_n_enf = (fiscr_MMOO_ss_maj.NBPERSM - fiscr_MMOO_ss_maj.NBPAC == 2)\n",
    "fiscr_MMOO_ss_maj_match_n = fiscr_MMOO_ss_maj[filter_2_parents_n_enf]"
   ]
  },
  {
   "cell_type": "markdown",
   "metadata": {},
   "source": [
    "#### Tests"
   ]
  },
  {
   "cell_type": "code",
   "execution_count": null,
   "metadata": {},
   "outputs": [],
   "source": [
    "#Teste que le nombre de foyer fiscal est de 1\n",
    "print(fiscr_MMOO_ss_maj_match_n.NBFOYM.value_counts(normalize = True))\n",
    "#0.4% d'erreurs, pourquoi ?, del (TODO potentiel, couples qui se reforment et n'ont pas divorcés ?)\n",
    "df_couple_mar_pac_ac_enf_ss_maj = fiscr_MMOO_ss_maj_match_n[fiscr_MMOO_ss_maj_match_n.NBFOYM == 1] "
   ]
  },
  {
   "cell_type": "markdown",
   "metadata": {},
   "source": [
    "#### Fill structure in fiscr df"
   ]
  },
  {
   "cell_type": "code",
   "execution_count": null,
   "metadata": {},
   "outputs": [],
   "source": [
    "%%time\n",
    "for var in [ \"Nb_child\",\"Nb_attached_child\",\"Nb_attached_minor_child\",]:\n",
    "    df_couple_mar_pac_ac_enf_ss_maj[var] = df_couple_mar_pac_ac_enf_ss_maj.NBPAC\n",
    "\n",
    "for var in [ \"Nb_major_child\",\"Nb_attached_major_child\",\"Nb_detatched_major_child\"]:\n",
    "    df_couple_mar_pac_ac_enf_ss_maj[var] = 0"
   ]
  },
  {
   "cell_type": "markdown",
   "metadata": {},
   "source": [
    "### couple_mar_pac_ac_enf ac majeurs tous rattachés"
   ]
  },
  {
   "cell_type": "code",
   "execution_count": null,
   "metadata": {},
   "outputs": [],
   "source": [
    "fiscr_MMOO_ac_maj_rataches = fisc_revenu[((fisc_revenu.ID_FISC_LOG_DIFF.isin(id_fisc_log_declarants_MM_OO))\n",
    "                          &(fisc_revenu.ID_FISC_LOG_DIFF.isin(id_fisc_log_majeurs_rataches)))]\n",
    "#Teste que la différence entre le nombre d'individus et le nombre d'enfants est de 2 (i.e. le couple)\n",
    "print((fiscr_MMOO_ac_maj_rataches.NBPERSM - fiscr_MMOO_ac_maj_rataches.NBPAC\n",
    "      ).value_counts(normalize = True)[2.0] )\n",
    "\n",
    "#0.034% de mauvaises obs, del\n",
    "filter_2_parents_n_enf = (fiscr_MMOO_ac_maj_rataches.NBPERSM - fiscr_MMOO_ac_maj_rataches.NBPAC == 2)\n",
    "fiscr_MMOO_ac_maj_rataches_match_n = fiscr_MMOO_ac_maj_rataches[filter_2_parents_n_enf]"
   ]
  },
  {
   "cell_type": "markdown",
   "metadata": {},
   "source": [
    "#### Tests"
   ]
  },
  {
   "cell_type": "code",
   "execution_count": null,
   "metadata": {},
   "outputs": [],
   "source": [
    "#Teste que le nombre de foyer fiscal est de 1\n",
    "print(fiscr_MMOO_ac_maj_rataches.NBFOYM.value_counts(normalize = True))\n",
    "#0.12% d'erreurs, pourquoi ?, del (TODO potentiel, couples qui se reforment et n'ont pas divorcés ?)\n",
    "df_couple_mar_pac_ac_enf_ac_maj_ratach = fiscr_MMOO_ac_maj_rataches_match_n[fiscr_MMOO_ac_maj_rataches_match_n.NBFOYM == 1] "
   ]
  },
  {
   "cell_type": "code",
   "execution_count": null,
   "metadata": {},
   "outputs": [],
   "source": [
    "##TODO: tester que l'age est inférieur à 25 ans pour tout les rattachés."
   ]
  },
  {
   "cell_type": "code",
   "execution_count": null,
   "metadata": {},
   "outputs": [],
   "source": []
  },
  {
   "cell_type": "markdown",
   "metadata": {},
   "source": [
    "### couple_mar_pac_ac_enf ac au moins un majeur non rattaché"
   ]
  },
  {
   "cell_type": "code",
   "execution_count": null,
   "metadata": {},
   "outputs": [],
   "source": [
    "#info: NPPERSM - NBPAC == 2 + nombre de majeurs non ratachés\n",
    "\n",
    "unique_declrant_2_grpby_CIDECI_O_or_M = fisc_revenu[\n",
    "    fisc_revenu.ID_FISC_LOG_DIFF.isin(id_fisc_log_unique_declrant_2_grpby_CIDECI_O_or_M)\n",
    "                                    ]\n",
    "\n",
    "#Selection pour que différenced'individus et le nombre d'enfants est de 2 (i.e. le couple)\n",
    "filter_more_than_2NBPERSM_NBPAC_diff = (unique_declrant_2_grpby_CIDECI_O_or_M.NBPERSM \n",
    "                    - unique_declrant_2_grpby_CIDECI_O_or_M.NBPAC)>2\n",
    "\n",
    "two_foy_or_more_with_unique_2nd_declar =  unique_declrant_2_grpby_CIDECI_O_or_M[\n",
    "                                                filter_more_than_2NBPERSM_NBPAC_diff]\n",
    "\n",
    "nb_of_non_pac_not_couple_individual =(two_foy_or_more_with_unique_2nd_declar.NBPERSM \n",
    "                                      - two_foy_or_more_with_unique_2nd_declar.NBPAC)-2\n",
    "two_foy_or_more_with_unique_2nd_declar[\n",
    "    \"nb_of_non_pac_not_couple_individual\"]= nb_of_non_pac_not_couple_individual\n",
    "\n",
    "#test NBFOYM == 1 + NB_maj_ratach    # On teste qu'il y a le foyer fiscal des parents et 1 foyer fiscal par maj rattaché\n",
    "print((nb_of_non_pac_not_couple_individual \n",
    "       - (two_foy_or_more_with_unique_2nd_declar.NBFOYM-1)\n",
    "      ).value_counts(normalize = True))\n",
    "# #0.19% de mauvaises obs, del\n",
    "### Make an assert\n",
    "\n",
    "filter_nb_foy_is_nb_maj_non_ratach_plus_couple_foy = (nb_of_non_pac_not_couple_individual \n",
    "                                               == (two_foy_or_more_with_unique_2nd_declar.NBFOYM-1))\n",
    "nb_foy_is_nb_maj_non_ratach_plus_couple_foy = two_foy_or_more_with_unique_2nd_declar[\n",
    "                                                filter_nb_foy_is_nb_maj_non_ratach_plus_couple_foy]"
   ]
  },
  {
   "cell_type": "code",
   "execution_count": null,
   "metadata": {},
   "outputs": [],
   "source": [
    "nb_foy_is_nb_maj_non_ratach_plus_couple_foy = nb_foy_is_nb_maj_non_ratach_plus_couple_foy.sort_values(\"ID_FISC_LOG_DIFF\")"
   ]
  },
  {
   "cell_type": "code",
   "execution_count": null,
   "metadata": {},
   "outputs": [],
   "source": [
    "nb_foy_is_nb_maj_non_ratach_plus_couple_foy.sort_values(\"ID_FISC_LOG_DIFF\").head(5)"
   ]
  },
  {
   "cell_type": "code",
   "execution_count": null,
   "metadata": {},
   "outputs": [],
   "source": [
    "two_foy_or_more_with_unique_2nd_declar.sort_values(\"ID_FISC_LOG_DIFF\").head(5)"
   ]
  },
  {
   "cell_type": "code",
   "execution_count": null,
   "metadata": {},
   "outputs": [],
   "source": [
    "nb_foy_is_nb_maj_non_ratach_plus_couple_foy.shape"
   ]
  },
  {
   "cell_type": "markdown",
   "metadata": {},
   "source": [
    "#### Tests"
   ]
  },
  {
   "cell_type": "markdown",
   "metadata": {},
   "source": [
    "##### Majeurs non ratach younger than their parents\n",
    "\n",
    "\n",
    "- dans chaque logement fiscal, il y a un seul foyer fiscal composé d'un couple --> age des parents\n",
    "- dans les autres logements fiscaux, il y a l'age des non ratachés vivant dans le logement.\n",
    "\n",
    "Algorithme: \n",
    "Pour chaque logement fiscal vérfier : \n",
    "    min(age des parent) > max(age des non ratachés)"
   ]
  },
  {
   "cell_type": "code",
   "execution_count": null,
   "metadata": {},
   "outputs": [],
   "source": [
    "(filter_nb_foy_is_nb_maj_non_ratach_plus_couple_foy).value_counts()"
   ]
  },
  {
   "cell_type": "code",
   "execution_count": null,
   "metadata": {},
   "outputs": [],
   "source": [
    "nb_foy_is_nb_maj_non_ratach_plus_couple_foy.shape"
   ]
  },
  {
   "cell_type": "code",
   "execution_count": null,
   "metadata": {},
   "outputs": [],
   "source": [
    "id_fisc_log_foy_is_nb_maj_non_ratach_plus_couple_foy = nb_foy_is_nb_maj_non_ratach_plus_couple_foy\\\n",
    "                                                        .ID_FISC_LOG_DIFF"
   ]
  },
  {
   "cell_type": "code",
   "execution_count": null,
   "metadata": {},
   "outputs": [],
   "source": [
    "#To del if cell below working\n",
    "filter_maj_non_ratach_plus_couple_foy = fisc_individu.ID_FISC_LOG_DIFF.isin(id_fisc_log_foy_is_nb_maj_non_ratach_plus_couple_foy)\n",
    "fisci_non_ratach = fisc_individu[filter_maj_non_ratach_plus_couple_foy]"
   ]
  },
  {
   "cell_type": "code",
   "execution_count": null,
   "metadata": {},
   "outputs": [],
   "source": [
    "### Bug ennorme de python ! comparer avec version du dessus\n",
    "### Essayer de comprendre ?\n",
    "\n",
    "\n",
    "# #To del if cell above working\n",
    "# filter_maj_non_ratach_plus_couple_foy = fisc_individu.ID_FISC_LOG_DIFF.isin(id_fisc_log_foy_is_nb_maj_non_ratach_plus_couple_foy)\n",
    "# fisci_non_ratach = fisc_individu[filter_maj_non_ratach_plus_couple_foy]\n",
    "\n",
    "\n",
    "\n",
    "## Marche quand on renomme... plus de bug\n",
    "# df = fisc_individu\n",
    "# df[\"Key\"] = df.ID_FISC_LOG_DIFF\n",
    "# keys = id_fisc_log_foy_is_nb_maj_non_ratach_plus_couple_foy\n",
    "# result = df[df.Key.isin(keys)].head(); result\n",
    "# filter_keys = df.Key.isin(keys)\n",
    "# result = df[filter_keys].head(); result"
   ]
  },
  {
   "cell_type": "code",
   "execution_count": null,
   "metadata": {},
   "outputs": [],
   "source": [
    "assert len(fisci_non_ratach) > 10**6"
   ]
  },
  {
   "cell_type": "code",
   "execution_count": null,
   "metadata": {},
   "outputs": [],
   "source": [
    "id_foy_couple = fisci_non_ratach.query(\"TYPE_FISC == '2'\").ID_FISC_FOY_DIFF\n"
   ]
  },
  {
   "cell_type": "code",
   "execution_count": null,
   "metadata": {},
   "outputs": [],
   "source": [
    "id_foy_couple_set = set(id_foy_couple.unique())"
   ]
  },
  {
   "cell_type": "code",
   "execution_count": null,
   "metadata": {},
   "outputs": [],
   "source": [
    "id_foy_pers_non_ratach = (set(fisci_non_ratach.ID_FISC_FOY_DIFF.unique())) - id_foy_couple_set"
   ]
  },
  {
   "cell_type": "code",
   "execution_count": null,
   "metadata": {},
   "outputs": [],
   "source": [
    "# teste que l'on a bien l'ensemble des foyers fiscaux dans les deux sets.\n",
    "assert len(id_foy_couple_set)+len(id_foy_pers_non_ratach) == len(fisci_non_ratach.ID_FISC_FOY_DIFF.unique())"
   ]
  },
  {
   "cell_type": "code",
   "execution_count": null,
   "metadata": {},
   "outputs": [],
   "source": [
    "#Ne prendre que les parents (et pas les enfants rattachés)\n",
    "df_non_ratach_spouses = fisci_non_ratach.query(\"(TYPE_FISC=='1')|(TYPE_FISC=='2')\")\n",
    "\n",
    "\n",
    "\n",
    "youngest_spouse = df_non_ratach_spouses[\n",
    "                            df_non_ratach_spouses.ID_FISC_FOY_DIFF.isin(id_foy_couple_set)\n",
    "                        ].groupby(\"ID_FISC_LOG_DIFF\")[\"ANAIS\"].max() #prend le parent le plus jeunne"
   ]
  },
  {
   "cell_type": "code",
   "execution_count": null,
   "metadata": {},
   "outputs": [],
   "source": [
    "oldest_detached = fisci_non_ratach[\n",
    "                            fisci_non_ratach.ID_FISC_FOY_DIFF.isin(id_foy_pers_non_ratach)\n",
    "                        ].groupby(\"ID_FISC_LOG_DIFF\")[\"ANAIS\"].min() #prend le parent le plus jeunne"
   ]
  },
  {
   "cell_type": "code",
   "execution_count": null,
   "metadata": {},
   "outputs": [],
   "source": [
    "youngest_spouse.name = \"youngest_spouse\"\n",
    "oldest_detached.name = \"oldest_detached\"\n",
    "merge = pd.merge(youngest_spouse.to_frame(), oldest_detached.to_frame(), left_index=True,right_index=True)"
   ]
  },
  {
   "cell_type": "code",
   "execution_count": null,
   "metadata": {},
   "outputs": [],
   "source": [
    "merge[\"Child_detached\"] = (merge.youngest_spouse < merge.oldest_detached)\n",
    "merge[\"Grand_parent_detached\"] = (merge.youngest_spouse > merge.oldest_detached)"
   ]
  },
  {
   "cell_type": "code",
   "execution_count": null,
   "metadata": {},
   "outputs": [],
   "source": [
    "id_log_grand_parent_detached = merge.query('Grand_parent_detached').index #On va laisser un peu tomber les familles avec un grand parent à charge.\n",
    "id_log_child_detached = merge.query('Child_detached').index"
   ]
  },
  {
   "cell_type": "code",
   "execution_count": null,
   "metadata": {},
   "outputs": [],
   "source": [
    "## TODO : trouver des tests ?"
   ]
  },
  {
   "cell_type": "code",
   "execution_count": null,
   "metadata": {},
   "outputs": [],
   "source": [
    "fiscr_temp = fisc_revenu[fisc_revenu.ID_FISC_LOG_DIFF.isin(id_log_child_detached)]"
   ]
  },
  {
   "cell_type": "code",
   "execution_count": null,
   "metadata": {},
   "outputs": [],
   "source": [
    "fiscr_temp.TYPMEN9.value_counts()"
   ]
  },
  {
   "cell_type": "code",
   "execution_count": null,
   "metadata": {},
   "outputs": [],
   "source": [
    "set_id_log_child_detached = set(id_log_child_detached.unique())\n",
    "set_id_log_grand_parent_detached = set(id_log_grand_parent_detached.unique())"
   ]
  },
  {
   "cell_type": "markdown",
   "metadata": {},
   "source": [
    "# Les célibataires (ou concubins)"
   ]
  },
  {
   "cell_type": "markdown",
   "metadata": {},
   "source": [
    "### Celibataire_mar_pac_ss_enf"
   ]
  },
  {
   "cell_type": "code",
   "execution_count": null,
   "metadata": {},
   "outputs": [],
   "source": [
    "fiscr_C = fisc_revenu[fisc_revenu.ID_FISC_LOG_DIFF.isin(id_fisc_log_declarants_C)]\n",
    "#Test\n",
    "fiscr_C_ss_enf = fiscr_C[fiscr_C.NBPERSM == 1]\n",
    "print(fiscr_C_ss_enf.NBFOYM.value_counts()) #CHECK\n",
    "fiscr_C_ss_enf_1_foy = fiscr_C_ss_enf[fiscr_C_ss_enf.NBFOYM==1] #CHECK\n",
    "df_celib_ss_enf = fiscr_C_ss_enf_1_foy"
   ]
  },
  {
   "cell_type": "markdown",
   "metadata": {},
   "source": [
    "### celib ac_enf sans majeurs"
   ]
  },
  {
   "cell_type": "code",
   "execution_count": null,
   "metadata": {},
   "outputs": [],
   "source": [
    "fiscr_C_ss_maj = fisc_revenu[((fisc_revenu.ID_FISC_LOG_DIFF.isin(id_fisc_log_declarants_C))\n",
    "                          &(fisc_revenu.ID_FISC_LOG_DIFF.isin(id_fisc_log_enf_ss_majeurs_rataches)))]"
   ]
  },
  {
   "cell_type": "code",
   "execution_count": null,
   "metadata": {},
   "outputs": [],
   "source": [
    "#Teste que la différence entre le nombre d'individus et le nombre d'enfants est de 2 (i.e. le couple)\n",
    "print((fiscr_C_ss_maj.NBPERSM - fiscr_C_ss_maj.NBPAC).value_counts(normalize = True)[1.0] )\n",
    "#0.x% de mauvaises obs, del\n",
    "filter_1_parent_n_enf = (fiscr_C_ss_maj.NBPERSM - fiscr_C_ss_maj.NBPAC == 1)\n",
    "fiscr_C_ss_maj_rat_match_n = fiscr_C_ss_maj[filter_1_parent_n_enf]"
   ]
  },
  {
   "cell_type": "markdown",
   "metadata": {},
   "source": [
    "#### Tests"
   ]
  },
  {
   "cell_type": "code",
   "execution_count": null,
   "metadata": {},
   "outputs": [],
   "source": [
    "#Teste que le nombre de foyer fiscal est de 1\n",
    "print(fiscr_C_ss_maj_rat_match_n.NBFOYM.value_counts(normalize = True))\n",
    "##0 % d'erreur, tous les logements fiscaux avzec un seul déclarant \"C\" \n",
    "#n'ayant pas de majeurs dans le logement n'ont qu'un seul foyer fiscal\n",
    "\n",
    "assert np.all(fiscr_C_ss_maj_rat_match_n.NBFOYM==1)\n",
    "\n",
    "df_celib_ac_enf_ss_maj = fiscr_C_ss_maj_rat_match_n[fiscr_C_ss_maj_rat_match_n.NBFOYM == 1] "
   ]
  },
  {
   "cell_type": "code",
   "execution_count": null,
   "metadata": {},
   "outputs": [],
   "source": [
    "df_celib_ac_enf_ss_maj.TYPMEN9.value_counts() "
   ]
  },
  {
   "cell_type": "markdown",
   "metadata": {},
   "source": [
    "On a bien que des célib avec un enfant ou plus dans typmen9"
   ]
  },
  {
   "cell_type": "code",
   "execution_count": null,
   "metadata": {},
   "outputs": [],
   "source": [
    "# id_log = df_couple_mar_pac_ac_enf_ss_maj.ID_FISC_LOG_DIFF   #Check visually\n",
    "# fisc_individu[fisc_individu.ID_FISC_LOG_DIFF.isin(id_log)]"
   ]
  },
  {
   "cell_type": "markdown",
   "metadata": {},
   "source": [
    "### single_ac_enf ac majeurs tous rattachés"
   ]
  },
  {
   "cell_type": "code",
   "execution_count": null,
   "metadata": {},
   "outputs": [],
   "source": [
    "fiscr_C_ac_maj_rataches = fisc_revenu[((fisc_revenu.ID_FISC_LOG_DIFF.isin(id_fisc_log_declarants_C))\n",
    "                          &(fisc_revenu.ID_FISC_LOG_DIFF.isin(id_fisc_log_majeurs_rataches)))]\n",
    "#Teste que la différence entre le nombre d'individus et le nombre d'enfants est de 1 (i.e. le célibataire)\n",
    "assert(np.all(fiscr_C_ac_maj_rataches.NBPERSM - fiscr_C_ac_maj_rataches.NBPAC == 1))\n",
    "\n",
    "\n",
    "\n",
    "\n",
    "fiscr_C_ac_maj_rataches_match_n = fiscr_C_ac_maj_rataches"
   ]
  },
  {
   "cell_type": "code",
   "execution_count": null,
   "metadata": {},
   "outputs": [],
   "source": []
  },
  {
   "cell_type": "code",
   "execution_count": null,
   "metadata": {},
   "outputs": [],
   "source": [
    "#Teste que le nombre de foyer fiscal est de 1\n",
    "print(fiscr_C_ac_maj_rataches_match_n.NBFOYM.value_counts(normalize = True))\n",
    "df_single_ac_enf_ac_maj_ratach = fiscr_C_ac_maj_rataches_match_n[fiscr_C_ac_maj_rataches_match_n.NBFOYM == 1] "
   ]
  },
  {
   "cell_type": "code",
   "execution_count": null,
   "metadata": {},
   "outputs": [],
   "source": [
    "##Attention à la variable TYPMEN9, elle est fausse. \n",
    "df_single_ac_enf_ac_maj_ratach.TYPMEN9.value_counts()\n"
   ]
  },
  {
   "cell_type": "code",
   "execution_count": null,
   "metadata": {},
   "outputs": [],
   "source": [
    "##TODO: tester que l'age est inférieur à 25 ans pour tout les rattachés."
   ]
  },
  {
   "cell_type": "code",
   "execution_count": null,
   "metadata": {
    "scrolled": false
   },
   "outputs": [],
   "source": [
    "# id_log = df_single_ac_enf_ac_maj_ratach.ID_FISC_LOG_DIFF   #Check visually\n",
    "# fisc_individu[fisc_individu.ID_FISC_LOG_DIFF.isin(id_log)]"
   ]
  },
  {
   "cell_type": "markdown",
   "metadata": {},
   "source": [
    "#### Fill structure in fiscr df"
   ]
  },
  {
   "cell_type": "code",
   "execution_count": null,
   "metadata": {},
   "outputs": [],
   "source": []
  },
  {
   "cell_type": "markdown",
   "metadata": {},
   "source": [
    "### celiataire_ac_enf ac au moins un majeur non rattaché"
   ]
  },
  {
   "cell_type": "code",
   "execution_count": null,
   "metadata": {},
   "outputs": [],
   "source": [
    "#Impossible de savoir qui est parent, qui est enfant, qui est grand parent rattaché\n",
    "\n",
    "\n",
    "#Règle: \n",
    "#0- Plusieurs foyers fiscaux.\n",
    "#1- Un seul foyer avec  des personnes à charges --> ce foyer est parent célib\n",
    "#2- Autres foyers tous déclanrants 1 sont \"C\" (Virer les veufs V, et divorcés D)\n",
    "\n",
    "##Gérer les ages après\n",
    "##4- SI moins de 18 ans d'écart d'age entre parents et autre individus, concubins --> on vire. \n",
    "##5- SI plus de 24 ans d'écart d'age entre parents et autre individus, grands parents --> on vire "
   ]
  },
  {
   "cell_type": "code",
   "execution_count": null,
   "metadata": {},
   "outputs": [],
   "source": [
    "to_drop_one_fiscal_household = fisc_revenu[fisc_revenu.NBFOYM==1].ID_FISC_LOG_DIFF\n",
    "to_drop_maried = grpby_fisci[grpby_fisci.str.contains(\"M\")].index\n",
    "to_drop_pacs = grpby_fisci[grpby_fisci.str.contains(\"O\")].index\n",
    "to_drop_celib_ss_enf = df_celib_ss_enf.ID_FISC_LOG_DIFF\n",
    "to_drop_celib_ss_maj_rat = df_single_ac_enf_ac_maj_ratach.ID_FISC_LOG_DIFF\n"
   ]
  },
  {
   "cell_type": "code",
   "execution_count": null,
   "metadata": {},
   "outputs": [],
   "source": [
    "# df = fisc_individu[~fisc_individu.ID_FISC_LOG_DIFF.isin(to_drop_more_than_one_fiscal_household)]"
   ]
  },
  {
   "cell_type": "code",
   "execution_count": null,
   "metadata": {},
   "outputs": [],
   "source": [
    "# df.sort_values(\"ID_FISC_LOG_DIFF\").head(100).groupby(\"ID_FISC_FOY_DIFF\").agg(\n",
    "#     {\"AN_FISC\":\"count\", \"ID_FISC_LOG_DIFF\":\"first\", \"ANAIS\":'min',\"ANAIS\":'max'}\n",
    "#     ) .sort_values('ID_FISC_LOG_DIFF')"
   ]
  },
  {
   "cell_type": "code",
   "execution_count": null,
   "metadata": {},
   "outputs": [],
   "source": [
    "df = fisc_individu[~fisc_individu.ID_FISC_LOG_DIFF.isin(to_drop_one_fiscal_household)]\n",
    "df = df[~df.ID_FISC_LOG_DIFF.isin(to_drop_maried)]\n",
    "df = df[~df.ID_FISC_LOG_DIFF.isin(to_drop_pacs)]\n",
    "df = df[~df.ID_FISC_LOG_DIFF.isin(to_drop_celib_ss_enf)]\n",
    "df = df[~df.ID_FISC_LOG_DIFF.isin(to_drop_celib_ss_maj_rat)].sort_values(\"ID_FISC_LOG_DIFF\")"
   ]
  },
  {
   "cell_type": "code",
   "execution_count": null,
   "metadata": {},
   "outputs": [],
   "source": [
    "#A ce stade il devrait nous rester les concubins, \n",
    "#le parent, avec son enfant non rataché ou le grand parent, et ses éventuels enfants rattachés."
   ]
  },
  {
   "cell_type": "code",
   "execution_count": null,
   "metadata": {},
   "outputs": [],
   "source": [
    "#Si moins de 18 ans  d'écart entre deux déclarants --> conjoints\n",
    "#Si plus de 18 ans, d'écart entre plus vieux déclarant et autre déclarant --> enfant\n",
    "\n",
    "## Note : les couples ayant plus de 18 ans d'écart sont rares, les individus ayant des enfants avant l'age de 18 sont rares.\n",
    "## Clea devrait permettre d'avoir un taux d'erreur très faible.\n",
    "\n",
    "\n",
    "\n",
    "##Cas limite, plus agé, deuxième plus agé et troisième plus agé (et n ème) ont moins de 18 ans d'écart ? \n",
    "##### On les vire."
   ]
  },
  {
   "cell_type": "code",
   "execution_count": null,
   "metadata": {},
   "outputs": [],
   "source": [
    "#Vieuw\n",
    "df[\"ANAIS_min\"] = df.ANAIS\n",
    "df[\"ANAIS_max\"] = df.ANAIS\n",
    "df_grpby = df.groupby(\"ID_FISC_FOY_DIFF\").agg(\n",
    "            {\"AN_FISC\":\"count\", \"ID_FISC_LOG_DIFF\":\"first\",\n",
    "             \"ANAIS_min\":'min', \"ANAIS_max\":'max',}\n",
    "            ) .sort_values('ID_FISC_LOG_DIFF'); df_grpby.head()\n",
    "df.drop(columns = [\"ANAIS_min\", \"ANAIS_max\"], inplace = True)\n",
    "df_grpby.head()"
   ]
  },
  {
   "cell_type": "markdown",
   "metadata": {},
   "source": [
    "##### Si moins de 18 ans  d'écart entre deux déclarants --> conjoints"
   ]
  },
  {
   "cell_type": "code",
   "execution_count": null,
   "metadata": {},
   "outputs": [],
   "source": [
    "#Plus vieux déclarant par logement\n",
    "oldest_in_log = df_grpby.reset_index().groupby(\"ID_FISC_LOG_DIFF\").agg(\n",
    "            { \"ID_FISC_FOY_DIFF\":\"first\",\n",
    "             \"ANAIS_min\":'min'})"
   ]
  },
  {
   "cell_type": "code",
   "execution_count": null,
   "metadata": {},
   "outputs": [],
   "source": [
    "df_oldest_in_log = oldest_in_log.rename(columns={\"ANAIS_min\": \"ANAIS_Oldest_in_log\"}).reset_index()"
   ]
  },
  {
   "cell_type": "code",
   "execution_count": null,
   "metadata": {},
   "outputs": [],
   "source": [
    "df_oldest_in_log.head()"
   ]
  },
  {
   "cell_type": "code",
   "execution_count": null,
   "metadata": {},
   "outputs": [],
   "source": [
    "%%time\n",
    "merge = pd.merge(df_oldest_in_log, df,\n",
    "         on= [\"ID_FISC_LOG_DIFF\"], how = \"right\")"
   ]
  },
  {
   "cell_type": "code",
   "execution_count": null,
   "metadata": {},
   "outputs": [],
   "source": [
    "fisc_individu[fisc_individu.ID_FISC_LOG_DIFF == 2]"
   ]
  },
  {
   "cell_type": "code",
   "execution_count": null,
   "metadata": {},
   "outputs": [],
   "source": [
    "merge = merge[merge.ANAIS_Oldest_in_log.notnull()]"
   ]
  },
  {
   "cell_type": "code",
   "execution_count": null,
   "metadata": {},
   "outputs": [],
   "source": []
  },
  {
   "cell_type": "code",
   "execution_count": null,
   "metadata": {},
   "outputs": [],
   "source": [
    "merge[\"Diff_with_oldest\"] = (merge.ANAIS - merge.ANAIS_Oldest_in_log)"
   ]
  },
  {
   "cell_type": "code",
   "execution_count": null,
   "metadata": {},
   "outputs": [],
   "source": [
    "merge[[\"ID_FISC_LOG_DIFF\",\"ID_FISC_FOY_DIFF_y\",\"ANAIS_Oldest_in_log\",\"ANAIS\",\"Diff_with_oldest\" ]].head()"
   ]
  },
  {
   "cell_type": "code",
   "execution_count": null,
   "metadata": {},
   "outputs": [],
   "source": [
    "merge[\"Diff_with_oldest_lower_than_18yo\"] = merge.Diff_with_oldest <18 "
   ]
  },
  {
   "cell_type": "code",
   "execution_count": null,
   "metadata": {},
   "outputs": [],
   "source": [
    "merge.groupby(\"ID_FISC_LOG_DIFF\").Diff_with_oldest_lower_than_18yo.sum().value_counts()"
   ]
  },
  {
   "cell_type": "code",
   "execution_count": null,
   "metadata": {},
   "outputs": [],
   "source": [
    "more_than_3 = merge.groupby(\"ID_FISC_LOG_DIFF\").Diff_with_oldest_lower_than_18yo.sum()>=3"
   ]
  },
  {
   "cell_type": "code",
   "execution_count": null,
   "metadata": {},
   "outputs": [],
   "source": [
    "merge[merge.ID_FISC_LOG_DIFF.isin(\n",
    "    more_than_3[more_than_3 == True].index)][\n",
    "    [\"ID_FISC_LOG_DIFF\",\"ID_FISC_FOY_DIFF_y\",\n",
    "     \"ANAIS_Oldest_in_log\",\"ANAIS\",\"Diff_with_oldest\" , \"Diff_with_oldest_lower_than_18yo\"]].head(20)"
   ]
  },
  {
   "cell_type": "markdown",
   "metadata": {},
   "source": [
    "Les logements avec plus de 3 personnes qui sont proche de l'age du plus vieux du logement sont minoritaire.\n",
    "Il s'agit souvent de plusieurs personnes très aggées, ou de familles recomposées ou l'écart d'age additionné entre le nouveau concubin et l'enfant du plus vieux adulte arrive à moins de 18 ans (eg. Mme qui a une fille de 18 ans se remet en couple avec Mr 9 ans de moins qu'elle). Ou de personne de même age (couple hébergeant un ami ? ect).\n",
    "\n",
    "On va les ignorer."
   ]
  },
  {
   "cell_type": "code",
   "execution_count": null,
   "metadata": {},
   "outputs": [],
   "source": [
    "merge_drop_more_than_3 = merge[ ~ merge.ID_FISC_LOG_DIFF.isin(\n",
    "                                            more_than_3[more_than_3 == True].index)]"
   ]
  },
  {
   "cell_type": "markdown",
   "metadata": {},
   "source": [
    "##### On regarde maintenant que les enfants ont plus de 18 ans d'écart avec le plus deuxième plus vieux conjoint"
   ]
  },
  {
   "cell_type": "code",
   "execution_count": null,
   "metadata": {},
   "outputs": [],
   "source": [
    "#%%time\n",
    "#merge_drop_more_than_3.groupby(\"ID_FISC_LOG_DIFF\").ANAIS.nsmallest(2)  #Trop long O(n^2) ?; on va y aller à la bourrin"
   ]
  },
  {
   "cell_type": "code",
   "execution_count": null,
   "metadata": {},
   "outputs": [],
   "source": [
    "%%time\n",
    "idx_min = merge_drop_more_than_3.groupby(\"ID_FISC_LOG_DIFF\").ANAIS.idxmin()"
   ]
  },
  {
   "cell_type": "code",
   "execution_count": null,
   "metadata": {},
   "outputs": [],
   "source": [
    "idx_min.values"
   ]
  },
  {
   "cell_type": "code",
   "execution_count": null,
   "metadata": {},
   "outputs": [],
   "source": [
    "df_drop_oldest = merge_drop_more_than_3[~merge_drop_more_than_3.index.isin(idx_min.values)]"
   ]
  },
  {
   "cell_type": "code",
   "execution_count": null,
   "metadata": {},
   "outputs": [],
   "source": [
    "grpby_second_oldest = df_drop_oldest.groupby(\"ID_FISC_LOG_DIFF\").ANAIS.min()"
   ]
  },
  {
   "cell_type": "code",
   "execution_count": null,
   "metadata": {},
   "outputs": [],
   "source": [
    "grpby_second_oldest.name = \"ANAIS_Second_oldest\""
   ]
  },
  {
   "cell_type": "code",
   "execution_count": null,
   "metadata": {},
   "outputs": [],
   "source": [
    "merge_with_scd_oldest = pd.merge(grpby_second_oldest.to_frame().reset_index(), merge_drop_more_than_3, \n",
    "         on = \"ID_FISC_LOG_DIFF\", how = \"right\")"
   ]
  },
  {
   "cell_type": "code",
   "execution_count": null,
   "metadata": {},
   "outputs": [],
   "source": [
    "merge_with_scd_oldest[[\"ID_FISC_LOG_DIFF\",\"ID_FISC_FOY_DIFF_y\",\n",
    "     \"ANAIS_Oldest_in_log\", \"ANAIS_Second_oldest\",\"ANAIS\",\"Diff_with_oldest\" , \n",
    "    \"Diff_with_oldest_lower_than_18yo\"]].tail(10)"
   ]
  },
  {
   "cell_type": "code",
   "execution_count": null,
   "metadata": {},
   "outputs": [],
   "source": [
    "merge_with_scd_oldest[\"Diff_with_scd_oldest\"] = (merge_with_scd_oldest.ANAIS - merge_with_scd_oldest.ANAIS_Oldest_in_log)"
   ]
  },
  {
   "cell_type": "code",
   "execution_count": null,
   "metadata": {},
   "outputs": [],
   "source": [
    "(merge_with_scd_oldest.Diff_with_scd_oldest>=18).value_counts(normalize = True)"
   ]
  },
  {
   "cell_type": "code",
   "execution_count": null,
   "metadata": {},
   "outputs": [],
   "source": [
    "merge_with_scd_oldest[(~(merge_with_scd_oldest.Diff_with_oldest<18))\n",
    "                      &(merge_with_scd_oldest.Diff_with_scd_oldest>=18)].shape"
   ]
  },
  {
   "cell_type": "code",
   "execution_count": null,
   "metadata": {},
   "outputs": [],
   "source": [
    "merge_with_scd_oldest[\"Parent\"] = (merge_with_scd_oldest.Diff_with_oldest<18) #TODO:? gèrer les foyers fiscaux pour les concubins?\n",
    "\n",
    "merge_with_scd_oldest[\"Child\"] = ((~(merge_with_scd_oldest.Diff_with_oldest<18))\n",
    "                      &(merge_with_scd_oldest.Diff_with_scd_oldest>=18))"
   ]
  },
  {
   "cell_type": "code",
   "execution_count": null,
   "metadata": {},
   "outputs": [],
   "source": []
  },
  {
   "cell_type": "markdown",
   "metadata": {},
   "source": [
    "##### Export child parent df "
   ]
  },
  {
   "cell_type": "code",
   "execution_count": null,
   "metadata": {},
   "outputs": [],
   "source": [
    "result_store_path = 'C:/Users/IMPTEMP_A_PACIFIC/Desktop/EDP_2016/Data/hdf/result.h5'"
   ]
  },
  {
   "cell_type": "code",
   "execution_count": null,
   "metadata": {},
   "outputs": [],
   "source": [
    "merge_with_scd_oldest[[\"ID_FISC_FOY_DIFF_y\",\"ORDREFIP\",\"TYPE_FISC\", \"Child\", \"Parent\", \"ANAIS\"]\n",
    "                     ].convert_objects().to_hdf(result_store_path, \"fisci_child_or_parent_{}\".format(year))"
   ]
  },
  {
   "cell_type": "code",
   "execution_count": null,
   "metadata": {},
   "outputs": [],
   "source": []
  },
  {
   "cell_type": "code",
   "execution_count": null,
   "metadata": {},
   "outputs": [],
   "source": [
    "merge_with_scd_oldest.columns"
   ]
  },
  {
   "cell_type": "code",
   "execution_count": null,
   "metadata": {},
   "outputs": [],
   "source": []
  },
  {
   "cell_type": "code",
   "execution_count": null,
   "metadata": {},
   "outputs": [],
   "source": []
  },
  {
   "cell_type": "code",
   "execution_count": null,
   "metadata": {},
   "outputs": [],
   "source": []
  },
  {
   "cell_type": "code",
   "execution_count": null,
   "metadata": {},
   "outputs": [],
   "source": []
  },
  {
   "cell_type": "code",
   "execution_count": null,
   "metadata": {},
   "outputs": [],
   "source": []
  },
  {
   "cell_type": "code",
   "execution_count": null,
   "metadata": {},
   "outputs": [],
   "source": []
  },
  {
   "cell_type": "code",
   "execution_count": null,
   "metadata": {},
   "outputs": [],
   "source": []
  },
  {
   "cell_type": "code",
   "execution_count": null,
   "metadata": {},
   "outputs": [],
   "source": []
  },
  {
   "cell_type": "code",
   "execution_count": null,
   "metadata": {},
   "outputs": [],
   "source": []
  },
  {
   "cell_type": "markdown",
   "metadata": {},
   "source": [
    "##### Continue process"
   ]
  },
  {
   "cell_type": "code",
   "execution_count": null,
   "metadata": {},
   "outputs": [],
   "source": []
  },
  {
   "cell_type": "code",
   "execution_count": null,
   "metadata": {},
   "outputs": [],
   "source": [
    "(merge_with_scd_oldest.Parent).value_counts(normalize = True)"
   ]
  },
  {
   "cell_type": "code",
   "execution_count": null,
   "metadata": {},
   "outputs": [],
   "source": [
    "(merge_with_scd_oldest[\"Child\"]).value_counts(normalize = True)"
   ]
  },
  {
   "cell_type": "code",
   "execution_count": null,
   "metadata": {},
   "outputs": [],
   "source": [
    "(merge_with_scd_oldest[\"Child\"]|merge_with_scd_oldest[\"Parent\"]).value_counts(normalize = False)\n",
    "## 48 individus ne correspondent pas à cette définition --> on les vire"
   ]
  },
  {
   "cell_type": "code",
   "execution_count": null,
   "metadata": {},
   "outputs": [],
   "source": [
    "condition = merge_with_scd_oldest[\"Child\"]|merge_with_scd_oldest[\"Parent\"]\n",
    "id_to_drop = merge_with_scd_oldest[~condition].ID_FISC_LOG_DIFF"
   ]
  },
  {
   "cell_type": "code",
   "execution_count": null,
   "metadata": {},
   "outputs": [],
   "source": [
    "merge_with_scd_oldest = merge_with_scd_oldest[~merge_with_scd_oldest.ID_FISC_LOG_DIFF.isin(id_to_drop)]"
   ]
  },
  {
   "cell_type": "code",
   "execution_count": null,
   "metadata": {},
   "outputs": [],
   "source": [
    "merge_with_scd_oldest[\n",
    "    merge_with_scd_oldest[\"Parent\"]==True].groupby(\"ID_FISC_LOG_DIFF\").size().value_counts()"
   ]
  },
  {
   "cell_type": "markdown",
   "metadata": {},
   "source": [
    "293509 couples de concubins, 97749 célibataires avec enfants majeurs rattachés.  "
   ]
  },
  {
   "cell_type": "code",
   "execution_count": null,
   "metadata": {},
   "outputs": [],
   "source": [
    "#Differentiate concubin from celib\n",
    "number_of_parents = merge_with_scd_oldest[merge_with_scd_oldest[\"Parent\"]==True].groupby(\"ID_FISC_LOG_DIFF\").size()\n",
    "id_log_concubin_with_or_without_children = number_of_parents[number_of_parents == 2].index\n",
    "id_log_celib_with_detached_child = number_of_parents[number_of_parents == 1].index"
   ]
  },
  {
   "cell_type": "code",
   "execution_count": null,
   "metadata": {},
   "outputs": [],
   "source": []
  },
  {
   "cell_type": "code",
   "execution_count": null,
   "metadata": {},
   "outputs": [],
   "source": []
  },
  {
   "cell_type": "code",
   "execution_count": null,
   "metadata": {},
   "outputs": [],
   "source": [
    "%%time\n",
    "#Couple\n",
    "couple_child_detached_or_attached_id_log = set(id_log_child_detached.unique())\n",
    "couple_mar_pac_child_maj_ratach_id_log  = df_couple_mar_pac_ac_enf_ac_maj_ratach.ID_FISC_LOG_DIFF\n",
    "couple_mar_pac_child_ss_maj_id_log = df_couple_mar_pac_ac_enf_ss_maj.ID_FISC_LOG_DIFF\n",
    "couple_mar_pac_ss_enf_id_log = df_couple_mar_pac_ss_enf.ID_FISC_LOG_DIFF\n",
    "\n",
    "\n",
    "\n",
    "\n",
    "### Celibataire\n",
    "id_log_celib_ss_enf=df_celib_ss_enf\n",
    "id_log_celib_ac_enf_ss_maj=df_celib_ac_enf_ss_maj \n",
    "id_log_single_ac_single_ac_enf_ac_maj_ratach = df_single_ac_enf_ac_maj_ratach.ID_FISC_LOG_DIFF\n",
    "id_log_celib_with_detached_child\n",
    "\n",
    "#Concubins \n",
    "id_log_concubin_with_or_without_children"
   ]
  },
  {
   "cell_type": "code",
   "execution_count": null,
   "metadata": {},
   "outputs": [],
   "source": [
    "%%time\n",
    "#Couple\n",
    "couple_child_detached_or_attached_id_log =  set(id_log_child_detached.unique())\n",
    "couple_mar_pac_child_maj_ratach_id_log  =  set(df_couple_mar_pac_ac_enf_ac_maj_ratach.ID_FISC_LOG_DIFF.unique())\n",
    "couple_mar_pac_child_ss_maj_id_log =  set(df_couple_mar_pac_ac_enf_ss_maj.ID_FISC_LOG_DIFF.unique())\n",
    "couple_mar_pac_ss_enf_id_log =  set(df_couple_mar_pac_ss_enf.ID_FISC_LOG_DIFF.unique())\n",
    "### Celibataire\n",
    "id_log_celib_ss_enf = set(df_celib_ss_enf.ID_FISC_LOG_DIFF.unique())\n",
    "id_log_celib_ac_enf_ss_maj =  set(df_celib_ac_enf_ss_maj .ID_FISC_LOG_DIFF.unique())\n",
    "id_log_single_ac_single_ac_enf_ac_maj_ratach =  set(df_single_ac_enf_ac_maj_ratach.ID_FISC_LOG_DIFF.unique())\n",
    "id_log_celib_with_detached_child =  set(id_log_celib_with_detached_child.unique())\n",
    "#Concubins \n",
    "id_log_concubin_with_or_without_children =  set(id_log_concubin_with_or_without_children.unique())"
   ]
  },
  {
   "cell_type": "code",
   "execution_count": null,
   "metadata": {},
   "outputs": [],
   "source": []
  },
  {
   "cell_type": "code",
   "execution_count": null,
   "metadata": {},
   "outputs": [],
   "source": [
    "to_dump_id_log_dict = {\"couple_child_detached_or_attached_id_fisc_log\":couple_child_detached_or_attached_id_log,\n",
    "                      \"couple_mar_pac_child_maj_ratach_id_fisc_log\":couple_mar_pac_child_maj_ratach_id_log,\n",
    "                      \"couple_mar_pac_child_ss_maj_id_fisc_log\":couple_mar_pac_child_ss_maj_id_log,\n",
    "                      \"couple_mar_pac_ss_enf_id_fisc_log\":couple_mar_pac_ss_enf_id_log,\n",
    "                      \"celib_ss_enf_id_fisc_log\":id_log_celib_ss_enf,\n",
    "                      \"celib_ac_enf_ss_maj_id_fisc_log\": id_log_celib_ac_enf_ss_maj,\n",
    "                      \"single_ac_single_ac_enf_ac_maj_ratach_id_fisc_log\":id_log_single_ac_single_ac_enf_ac_maj_ratach,\n",
    "                      \"celib_with_detached_child_id_fisc_log\":id_log_celib_with_detached_child,\n",
    "                      \"concubin_with_or_without_children_id_fisc_log\":id_log_concubin_with_or_without_children\n",
    "                      }\n",
    "\n",
    "\n"
   ]
  },
  {
   "cell_type": "code",
   "execution_count": null,
   "metadata": {},
   "outputs": [],
   "source": [
    "for key, value in to_dump_id_log_dict.items():\n",
    "        assert  isinstance(value,set)\n",
    "        pickle.dump(value, \n",
    "                open(pickles_path+\"/{}_{}.p\".format(key, year), 'wb'))"
   ]
  },
  {
   "cell_type": "markdown",
   "metadata": {},
   "source": [
    "### On verifie que les sets sont mutuellement exclusifs"
   ]
  },
  {
   "cell_type": "code",
   "execution_count": null,
   "metadata": {},
   "outputs": [],
   "source": [
    "temp_set = set()\n",
    "for set_name, set_data in to_dump_id_log_dict.items():\n",
    "    print(set_name)\n",
    "    print(temp_set.intersection(set_data))\n",
    "    \n",
    "    print(len(temp_set.union(set_data)))\n",
    "    temp_set = temp_set.union(set_data)"
   ]
  },
  {
   "cell_type": "code",
   "execution_count": null,
   "metadata": {},
   "outputs": [],
   "source": [
    "len(temp_set.union(set_data))/fisc_individu.ID_FISC_LOG_DIFF.nunique()"
   ]
  },
  {
   "cell_type": "code",
   "execution_count": null,
   "metadata": {},
   "outputs": [],
   "source": [
    "complete_id_fisc_log_diff_set = set(fisc_individu.ID_FISC_LOG_DIFF.unique())"
   ]
  },
  {
   "cell_type": "markdown",
   "metadata": {},
   "source": [
    "We are dropping 20% of the households."
   ]
  },
  {
   "cell_type": "code",
   "execution_count": null,
   "metadata": {},
   "outputs": [],
   "source": [
    "dropped_household_id_fisc_log_diff =  complete_id_fisc_log_diff_set - temp_set\n",
    "len(dropped_household_id_fisc_log_diff)"
   ]
  },
  {
   "cell_type": "code",
   "execution_count": null,
   "metadata": {},
   "outputs": [],
   "source": [
    "fisc_individu = fisc_individu.sort_values(\"ID_FISC_LOG_DIFF\")"
   ]
  },
  {
   "cell_type": "code",
   "execution_count": null,
   "metadata": {},
   "outputs": [],
   "source": []
  },
  {
   "cell_type": "code",
   "execution_count": null,
   "metadata": {},
   "outputs": [],
   "source": [
    "### Il reste encore des choses à regler certains ménages devrraient se retrouver dans couples sans enfants, etc."
   ]
  },
  {
   "cell_type": "code",
   "execution_count": null,
   "metadata": {},
   "outputs": [],
   "source": [
    "fisc_individu[fisc_individu.ID_FISC_LOG_DIFF.isin(dropped_household_id_fisc_log_diff)]"
   ]
  },
  {
   "cell_type": "code",
   "execution_count": null,
   "metadata": {},
   "outputs": [],
   "source": []
  },
  {
   "cell_type": "code",
   "execution_count": null,
   "metadata": {},
   "outputs": [],
   "source": []
  },
  {
   "cell_type": "code",
   "execution_count": null,
   "metadata": {},
   "outputs": [],
   "source": []
  },
  {
   "cell_type": "code",
   "execution_count": null,
   "metadata": {},
   "outputs": [],
   "source": []
  },
  {
   "cell_type": "code",
   "execution_count": null,
   "metadata": {},
   "outputs": [],
   "source": []
  },
  {
   "cell_type": "code",
   "execution_count": null,
   "metadata": {},
   "outputs": [],
   "source": [
    "stop_time = datetime.datetime.now(); print(\"now: \",stop_time);\n",
    "execution_time = stop_time - start_time; print(\"execution_time: \",execution_time)"
   ]
  },
  {
   "cell_type": "code",
   "execution_count": null,
   "metadata": {},
   "outputs": [],
   "source": []
  }
 ],
 "metadata": {
  "kernelspec": {
   "display_name": "Python 3",
   "language": "python",
   "name": "python3"
  },
  "language_info": {
   "codemirror_mode": {
    "name": "ipython",
    "version": 3
   },
   "file_extension": ".py",
   "mimetype": "text/x-python",
   "name": "python",
   "nbconvert_exporter": "python",
   "pygments_lexer": "ipython3",
   "version": "3.6.3"
  }
 },
 "nbformat": 4,
 "nbformat_minor": 2
}
