{
 "cells": [
  {
   "cell_type": "markdown",
   "metadata": {},
   "source": [
    "# DATA PREPARATION"
   ]
  },
  {
   "cell_type": "markdown",
   "metadata": {},
   "source": [
    "The preparation implied by this notebook is better explained (and is derived from) in Data_preparation-fast_run_saterday_31_March "
   ]
  },
  {
   "cell_type": "code",
   "execution_count": 1,
   "metadata": {
    "collapsed": false
   },
   "outputs": [],
   "source": [
    "%matplotlib inline"
   ]
  },
  {
   "cell_type": "code",
   "execution_count": 2,
   "metadata": {
    "collapsed": false
   },
   "outputs": [
    {
     "name": "stdout",
     "output_type": "stream",
     "text": [
      "2019-05-06 14:34:03.767000\n"
     ]
    }
   ],
   "source": [
    "import datetime\n",
    "start =  datetime.datetime.now()\n",
    "print datetime.datetime.now()"
   ]
  },
  {
   "cell_type": "code",
   "execution_count": 3,
   "metadata": {
    "collapsed": true
   },
   "outputs": [],
   "source": [
    "import matplotlib.pyplot as plt"
   ]
  },
  {
   "cell_type": "code",
   "execution_count": 4,
   "metadata": {
    "collapsed": false
   },
   "outputs": [],
   "source": [
    "from __future__ import division\n",
    "import pandas as pd ; pd.set_option(\"display.max_columns\",200)\n",
    "import numpy as np"
   ]
  },
  {
   "cell_type": "code",
   "execution_count": 5,
   "metadata": {
    "collapsed": false
   },
   "outputs": [],
   "source": [
    "store_path = 'C:/Users/IMPTEMP_A_PACIFIC/Desktop/EDP_2015/Data/hdf/edp_2015_final.h5'\n",
    "reaction_store_path = u\"C:/Users/IMPTEMP_A_PACIFIC/Desktop/EDP_2015/Programme/Réaction offre de travail/hdf/data_preparation_step_1.h5\"\n",
    "Store = pd.HDFStore(store_path)"
   ]
  },
  {
   "cell_type": "code",
   "execution_count": 6,
   "metadata": {
    "collapsed": true
   },
   "outputs": [],
   "source": [
    "def load_fisc_i_by_year(year = 2014):\n",
    "    df_fisci = pd.read_hdf(store_path, 'FISC_INDIVIDU_{}'.format(year))\n",
    "    return df_fisci\n",
    "def load_fisc_r_by_year(year = 2014):\n",
    "    df_fiscr = pd.read_hdf(store_path, 'FISC_REVENU_{}'.format(year))\n",
    "    return df_fiscr\n",
    "def load_fisc_l_by_year(year = 2014):\n",
    "    df_fiscr = pd.read_hdf(store_path, 'FISC_LOGEMENT_{}'.format(year))\n",
    "    return df_fiscr\n",
    "\n",
    "def load_df_fiscrevdet_by_year(year = 2015):\n",
    "    df_fiscrevdet = pd.read_hdf(store_path, 'FISC_REVDET_{}'.format(year))\n",
    "    return df_fiscrevdet\n",
    "    "
   ]
  },
  {
   "cell_type": "code",
   "execution_count": null,
   "metadata": {
    "collapsed": true
   },
   "outputs": [],
   "source": []
  },
  {
   "cell_type": "code",
   "execution_count": 7,
   "metadata": {
    "collapsed": true
   },
   "outputs": [],
   "source": [
    "### Start compare 2016"
   ]
  },
  {
   "cell_type": "code",
   "execution_count": 8,
   "metadata": {
    "collapsed": false
   },
   "outputs": [],
   "source": [
    "fisc_individu = load_fisc_i_by_year(year = 2011)"
   ]
  },
  {
   "cell_type": "code",
   "execution_count": 9,
   "metadata": {
    "collapsed": false
   },
   "outputs": [
    {
     "name": "stdout",
     "output_type": "stream",
     "text": [
      "(7521928, 28)\n"
     ]
    }
   ],
   "source": [
    "print fisc_individu.shape"
   ]
  },
  {
   "cell_type": "code",
   "execution_count": 10,
   "metadata": {
    "collapsed": true
   },
   "outputs": [],
   "source": [
    "fisc_revenu = load_fisc_r_by_year(2011)"
   ]
  },
  {
   "cell_type": "code",
   "execution_count": 11,
   "metadata": {
    "collapsed": false
   },
   "outputs": [],
   "source": [
    "fisc_individu[\"CIDECI\"]= fisc_individu.CIDECI.astype(\"str\")\n"
   ]
  },
  {
   "cell_type": "code",
   "execution_count": 12,
   "metadata": {
    "collapsed": true
   },
   "outputs": [],
   "source": [
    "#Test qu'il n'y a pas de duplicate dans la base\n",
    "assert (fisc_revenu.ID_FISC_LOG_DIFF.duplicated()).value_counts().index == False"
   ]
  },
  {
   "cell_type": "code",
   "execution_count": 13,
   "metadata": {
    "collapsed": false
   },
   "outputs": [
    {
     "name": "stdout",
     "output_type": "stream",
     "text": [
      "Wall time: 1min 50s\n"
     ]
    }
   ],
   "source": [
    "%%time\n",
    "grpby_fisci = (fisc_individu.groupby(\"ID_FISC_LOG_DIFF\").CIDECI.sum())"
   ]
  },
  {
   "cell_type": "code",
   "execution_count": 14,
   "metadata": {
    "collapsed": false
   },
   "outputs": [
    {
     "data": {
      "text/plain": [
       "MM       429127\n",
       "MMAA     291867\n",
       "C        176085\n",
       "MMA      165763\n",
       "MMAAA    145439\n",
       "V        109483\n",
       "D         89961\n",
       "CC        74012\n",
       "CMM       45727\n",
       "MMC       45203\n",
       "dtype: int64"
      ]
     },
     "execution_count": 14,
     "metadata": {},
     "output_type": "execute_result"
    }
   ],
   "source": [
    "grpby_fisci.value_counts().head(10)"
   ]
  },
  {
   "cell_type": "code",
   "execution_count": 15,
   "metadata": {
    "collapsed": false
   },
   "outputs": [
    {
     "data": {
      "text/plain": [
       "1    0.998804\n",
       "2    0.001165\n",
       "4    0.000014\n",
       "dtype: float64"
      ]
     },
     "execution_count": 15,
     "metadata": {},
     "output_type": "execute_result"
    }
   ],
   "source": [
    "df = pd.DataFrame()\n",
    "df[\"MMAA\"] = (grpby_fisci == \"MMAA\")\n",
    "df[\"CIDECI\"] = grpby_fisci.values\n",
    "MMAA_id_fisc_log_diff = df[df.MMAA == True].index\n",
    "fisc_revenu_MMAA = fisc_revenu[fisc_revenu.ID_FISC_LOG_DIFF.isin(MMAA_id_fisc_log_diff)]\n",
    "fisc_revenu_MMAA.NBFOYM.value_counts(normalize = True).head(3)"
   ]
  },
  {
   "cell_type": "code",
   "execution_count": 16,
   "metadata": {
    "collapsed": true
   },
   "outputs": [],
   "source": [
    "MMAA_id_fisc_log_diff_2_fiscfoy = fisc_revenu_MMAA.query(\"NBFOYM>1\").ID_FISC_LOG_DIFF"
   ]
  },
  {
   "cell_type": "code",
   "execution_count": 16,
   "metadata": {
    "collapsed": true
   },
   "outputs": [],
   "source": [
    "del fisc_revenu_MMAA, fisc_revenu"
   ]
  },
  {
   "cell_type": "code",
   "execution_count": 17,
   "metadata": {
    "collapsed": true
   },
   "outputs": [],
   "source": [
    "del grpby_fisci, fisc_individu"
   ]
  },
  {
   "cell_type": "code",
   "execution_count": 18,
   "metadata": {
    "collapsed": false
   },
   "outputs": [
    {
     "data": {
      "text/plain": [
       "68"
      ]
     },
     "execution_count": 18,
     "metadata": {},
     "output_type": "execute_result"
    }
   ],
   "source": [
    "import gc\n",
    "gc.collect()"
   ]
  },
  {
   "cell_type": "code",
   "execution_count": 19,
   "metadata": {
    "collapsed": true
   },
   "outputs": [],
   "source": [
    "var_to_sum_for_groupby = [\"CNCOIPV\", 'TYPE_PRES',\n",
    "         'POIDS_FIDELI',\n",
    "          'REV_PRINC', 'YSALI', 'YCHOI', 'YRSTI', 'YALRI', 'YRAGI', 'YBICI','YBNCI',\n",
    "'YSALI_men', 'YSALI_wo', 'YCHOI_men', 'YCHOI_wo', 'YRSTI_men', 'YRSTI_wo', #On somme sur toutes la variables sexualisées NAN + 3 = 3\n",
    "'YALRI_men', 'YALRI_wo', 'YRAGI_men', 'YRAGI_wo', 'YBICI_men', 'YBICI_wo', 'YBNCI_men', 'YBNCI_wo', 'ID_DIFF_wo',\n",
    "'ID_DIFF_me', 'Age_men', 'Age_wo'\n",
    "         ] #TODO: TYPE_PRES individus multiidentifiés\n",
    "var_to_first_for_groupby = [\"ID_FISC_FOY_DIFF\", \"ID_FISC_LOG_DIFF\",  'ORDREFIP','DACOED', \n",
    "            'ZOXYZP', 'DACOEP','T_CHARGE','CSDEP',  'CNE1',  'I_FISC_LOGEMENT', 'I_FISC_REVENU',\n",
    "            'TYPE_DECL','AN_FISC_y',]\n",
    "var_to_drop = [\"AN_FISC_x\", 'COM_NSCAT','COM_SCAT1', 'COM_SCAT2', ] "
   ]
  },
  {
   "cell_type": "code",
   "execution_count": 20,
   "metadata": {
    "collapsed": true
   },
   "outputs": [],
   "source": [
    "def create_rbg(df):\n",
    "    df[\"Rbg\"]=(( df.ZTSAM*0.9) + df.ZRAGM + df.ZRACM + df.ZRNCM + df.ZFONM + df.ZPERM*0.9\n",
    "                    + df.ZRICM)\n",
    "    return df"
   ]
  },
  {
   "cell_type": "code",
   "execution_count": 25,
   "metadata": {
    "collapsed": false
   },
   "outputs": [],
   "source": []
  },
  {
   "cell_type": "code",
   "execution_count": 27,
   "metadata": {
    "collapsed": false
   },
   "outputs": [
    {
     "name": "stdout",
     "output_type": "stream",
     "text": [
      "Skip 2010 cause it already exists\n",
      "Skip 2011 cause it already exists\n",
      "Skip 2012 cause it already exists\n",
      "Skip 2013 cause it already exists\n",
      "Skip 2014 cause it already exists\n",
      "Wall time: 4 ms\n"
     ]
    }
   ],
   "source": [
    "%%time\n",
    "reaction_store = pd.HDFStore(reaction_store_path)\n",
    "\n",
    "for year in [2010,2011,2012,2013,2014]:\n",
    "    if \"year_{}\".format(year) in reaction_store: \n",
    "        print(\"Skip {} cause it already exists\".format(year))\n",
    "        continue\n",
    "    \n",
    "    df_fisci = load_fisc_i_by_year(year)\n",
    "    df_fisc_revdet = load_df_fiscrevdet_by_year(year)\n",
    "\n",
    "    df_fisc_revdet['TYPE_FISC'] = df_fisc_revdet.TYPE_FISC.astype('str')\n",
    "    cols_revenu_individualize = df_fisc_revdet.columns[4:]; cols_revenu_individualize\n",
    "    df_fisc_revdet.dropna(subset=[\"YSALI\",\"YCHOI\",\"YRSTI\",\"YALRI\",\"YRAGI\",\"YBICI\",\"YBNCI\"], inplace = True)\n",
    "    merge = pd.merge(df_fisci, df_fisc_revdet, on = ['ID_FISC_FOY_DIFF','ORDREFIP', 'TYPE_FISC'] )\n",
    "    #Attention on a des NA qui sont présent dans la base fisc_revdet alors qu'on devrait avoir des zéros, je vire les observations. \n",
    "    #Vérifier que c'est ok potentiel TODO: en lien avec TODO suivant\n",
    "    for col in cols_revenu_individualize:\n",
    "        merge.loc[(merge.SEXE == 1),'{}_men'.format(col)] = merge[col] \n",
    "        merge.loc[(merge.SEXE == 2),'{}_wo'.format(col)] = merge[col]\n",
    "    merge.loc[(merge.SEXE == 1), \"Age_men\" ] = (year - merge.ANAIS)\n",
    "    merge.loc[(merge.SEXE == 2), \"Age_wo\" ] = (year - merge.ANAIS)\n",
    "\n",
    "    col = \"ID_DIFF\"\n",
    "    merge.loc[(merge.SEXE == 2),'{}_wo'.format(col)] = merge[col]\n",
    "    merge.loc[(merge.SEXE == 1),'{}_me'.format(col)] = merge[col]\n",
    "\n",
    "    groupby = merge[[\"Age_men\", \"Age_wo\", \"ID_FISC_LOG_DIFF\"]].groupby(\"ID_FISC_LOG_DIFF\").count()\n",
    "    keep_ID_FISC_LOG_DIFF = groupby[(groupby.Age_men==1)& (groupby.Age_wo==1)].index #permet de sélectionner là ou il n'y a que deux adultes qui gagnent\n",
    "\n",
    "    merge_keep = merge[merge.ID_FISC_LOG_DIFF.isin(keep_ID_FISC_LOG_DIFF)].sort(\"ID_FISC_LOG_DIFF\")\n",
    "\n",
    "    one_fisc_in_log = merge_keep.groupby(\"ID_FISC_LOG_DIFF\")[\"ID_FISC_FOY_DIFF\"].nunique()==1\n",
    "\n",
    "\n",
    "    id_one_fisc_in_log = one_fisc_in_log[one_fisc_in_log].index\n",
    "    merge_keep.sort(\"ID_FISC_LOG_DIFF\", inplace = True)\n",
    "    merge_keep_2 = merge_keep[merge_keep.ID_FISC_LOG_DIFF.isin(id_one_fisc_in_log)]\n",
    "\n",
    "    df_1 = merge_keep_2.drop(labels = var_to_drop, axis = 1 )\n",
    "\n",
    "    df_1_grpby_sum = df_1[[\"ID_FISC_LOG_DIFF\"]+var_to_sum_for_groupby].groupby('ID_FISC_LOG_DIFF').sum()\n",
    "    df_1_grpby_first = df_1[var_to_first_for_groupby].groupby('ID_FISC_LOG_DIFF').first()\n",
    "\n",
    "    df_2 = pd.merge(df_1_grpby_first.reset_index(), df_1_grpby_sum.reset_index(), on = \"ID_FISC_LOG_DIFF\").reset_index()\n",
    "    fiscr = load_fisc_r_by_year(year)\n",
    "    fiscr = create_rbg(fiscr)\n",
    "    df_merge_2 = df_2.merge(fiscr, on=\"ID_FISC_LOG_DIFF\")\n",
    "    print year, df_merge_2.shape\n",
    "    df_merge_2.to_hdf(reaction_store_path, 'year_{}'.format(year))\n",
    "reaction_store.close()"
   ]
  },
  {
   "cell_type": "code",
   "execution_count": 30,
   "metadata": {
    "collapsed": false
   },
   "outputs": [],
   "source": [
    "try:\n",
    "    del df_merge_2, fiscr, df_1_grpby_sum, df_1, df_1_grpby_first, merge_keep, merge_keep_2\n",
    "    del one_fisc_in_log, merge, keep_ID_FISC_LOG_DIFF, df_fisc_revdet, df_fisci, id_one_fisc_in_log\n",
    "    del MMAA_id_fisc_log_diff, MMAA_id_fisc_log_diff_2_fiscfoy, df, df_2\n",
    "except: pass"
   ]
  },
  {
   "cell_type": "code",
   "execution_count": 27,
   "metadata": {
    "collapsed": false
   },
   "outputs": [
    {
     "name": "stdout",
     "output_type": "stream",
     "text": [
      "2019-05-06 14:10:58.924000\n"
     ]
    }
   ],
   "source": [
    "import datetime\n",
    "start =  datetime.datetime.now()\n",
    "print datetime.datetime.now()"
   ]
  },
  {
   "cell_type": "code",
   "execution_count": 29,
   "metadata": {
    "collapsed": true
   },
   "outputs": [],
   "source": [
    "import gc"
   ]
  },
  {
   "cell_type": "code",
   "execution_count": 45,
   "metadata": {
    "collapsed": false
   },
   "outputs": [
    {
     "data": {
      "text/plain": [
       "0"
      ]
     },
     "execution_count": 45,
     "metadata": {},
     "output_type": "execute_result"
    }
   ],
   "source": [
    "gc.collect()"
   ]
  },
  {
   "cell_type": "code",
   "execution_count": null,
   "metadata": {
    "collapsed": true
   },
   "outputs": [],
   "source": []
  },
  {
   "cell_type": "code",
   "execution_count": null,
   "metadata": {
    "collapsed": true
   },
   "outputs": [],
   "source": []
  },
  {
   "cell_type": "code",
   "execution_count": 31,
   "metadata": {
    "collapsed": false
   },
   "outputs": [],
   "source": [
    "df_2014 = pd.read_hdf(reaction_store_path, 'year_{}'.format(2014))"
   ]
  },
  {
   "cell_type": "code",
   "execution_count": 32,
   "metadata": {
    "collapsed": true
   },
   "outputs": [],
   "source": [
    "df_2011 = pd.read_hdf(reaction_store_path, 'year_{}'.format(2011))"
   ]
  },
  {
   "cell_type": "code",
   "execution_count": 33,
   "metadata": {
    "collapsed": false
   },
   "outputs": [
    {
     "name": "stdout",
     "output_type": "stream",
     "text": [
      "(1051716, 142)\n",
      "(941863, 142)\n"
     ]
    }
   ],
   "source": [
    "print df_2011.shape; print df_2014.shape"
   ]
  },
  {
   "cell_type": "code",
   "execution_count": null,
   "metadata": {
    "collapsed": true
   },
   "outputs": [],
   "source": []
  },
  {
   "cell_type": "code",
   "execution_count": 34,
   "metadata": {
    "collapsed": false
   },
   "outputs": [
    {
     "name": "stdout",
     "output_type": "stream",
     "text": [
      "Wall time: 51.9 s\n"
     ]
    }
   ],
   "source": [
    "%%time\n",
    "merge = pd.merge(df_2011, df_2014, on = \"ID_FISC_LOG_DIFF\")"
   ]
  },
  {
   "cell_type": "code",
   "execution_count": 35,
   "metadata": {
    "collapsed": false
   },
   "outputs": [
    {
     "data": {
      "text/plain": [
       "(615313, 283)"
      ]
     },
     "execution_count": 35,
     "metadata": {},
     "output_type": "execute_result"
    }
   ],
   "source": [
    "merge.shape"
   ]
  },
  {
   "cell_type": "code",
   "execution_count": 36,
   "metadata": {
    "collapsed": false
   },
   "outputs": [],
   "source": [
    "same_age_wo = (merge.Age_wo_x - merge.Age_wo_y) == 0\n",
    "same_age_me = (merge.Age_men_x - merge.Age_men_y) == 0"
   ]
  },
  {
   "cell_type": "code",
   "execution_count": 37,
   "metadata": {
    "collapsed": false
   },
   "outputs": [
    {
     "data": {
      "text/plain": [
       "False    0.999967\n",
       "True     0.000033\n",
       "dtype: float64"
      ]
     },
     "execution_count": 37,
     "metadata": {},
     "output_type": "execute_result"
    }
   ],
   "source": [
    "(same_age_wo&same_age_me\n",
    ").value_counts(normalize = True)"
   ]
  },
  {
   "cell_type": "code",
   "execution_count": 38,
   "metadata": {
    "collapsed": true
   },
   "outputs": [],
   "source": [
    "del df_2011, df_2014"
   ]
  },
  {
   "cell_type": "code",
   "execution_count": null,
   "metadata": {
    "collapsed": true
   },
   "outputs": [],
   "source": []
  },
  {
   "cell_type": "markdown",
   "metadata": {
    "collapsed": true
   },
   "source": [
    "### Merge avec fiscr"
   ]
  },
  {
   "cell_type": "code",
   "execution_count": 40,
   "metadata": {
    "collapsed": true
   },
   "outputs": [],
   "source": [
    "fiscr_2011 = load_fisc_r_by_year(2011)"
   ]
  },
  {
   "cell_type": "code",
   "execution_count": null,
   "metadata": {
    "collapsed": true
   },
   "outputs": [],
   "source": []
  },
  {
   "cell_type": "code",
   "execution_count": 41,
   "metadata": {
    "collapsed": true
   },
   "outputs": [],
   "source": [
    "columns_to_drop_for_merge = []\n",
    "# ['REG','DEP','DEPCOM','TU10', # A rajouter après pour avoir des effets fixes\n",
    "#                             'OCCTYP','I_PAUVRE50M','I_PAUVRE60M',\n",
    "#                            'MINIM', 'M_RSAM','M_RSA_ACTM','LOGTM',\n",
    "                             \n",
    "#                             ]"
   ]
  },
  {
   "cell_type": "code",
   "execution_count": 42,
   "metadata": {
    "collapsed": false
   },
   "outputs": [],
   "source": [
    "df_fiscr_2011 = load_fisc_r_by_year(year = 2011)\n",
    "df_fiscr_2014 = load_fisc_r_by_year(year = 2014)\n",
    "#df_fiscr_2011 = df_fiscr_2011.sample(n=400000, replace =False,  random_state = 42 )\n"
   ]
  },
  {
   "cell_type": "code",
   "execution_count": 43,
   "metadata": {
    "collapsed": false
   },
   "outputs": [
    {
     "data": {
      "text/plain": [
       "1    2380185\n",
       "dtype: int64"
      ]
     },
     "execution_count": 43,
     "metadata": {},
     "output_type": "execute_result"
    }
   ],
   "source": [
    "df_fiscr_2011.ID_FISC_LOG_DIFF.value_counts().value_counts()"
   ]
  },
  {
   "cell_type": "code",
   "execution_count": 44,
   "metadata": {
    "collapsed": false
   },
   "outputs": [],
   "source": [
    "couple_one_fisc_foy = (df_fiscr_2011.NBFOYM==1) &(df_fiscr_2011.NBPERSM>=2)\n",
    "df_fiscr_2011_select =  df_fiscr_2011[couple_one_fisc_foy]"
   ]
  },
  {
   "cell_type": "code",
   "execution_count": null,
   "metadata": {
    "collapsed": true
   },
   "outputs": [],
   "source": []
  },
  {
   "cell_type": "code",
   "execution_count": 45,
   "metadata": {
    "collapsed": false
   },
   "outputs": [],
   "source": [
    "selected_log_id = df_fiscr_2011.ID_FISC_LOG_DIFF"
   ]
  },
  {
   "cell_type": "code",
   "execution_count": null,
   "metadata": {
    "collapsed": false
   },
   "outputs": [],
   "source": [
    "load_df_fiscrevdet_by_year(2011).head()"
   ]
  },
  {
   "cell_type": "markdown",
   "metadata": {},
   "source": [
    "On réaliste un merge de la table:  \n",
    "1) fisci contenant des infos individuelles (essentiellement TYPEFISC, et CIDECI) . Clé ID_FISC_FOY_DIFF, ID_FISC_LOG_DIFF  \n",
    "2) fiscr_rev_det contenant des infos individuelles sur le revenu (et rien d'autre).  Clé ID_FISC_FOY_DIFF  \n",
    "3) fiscr contenant des informations au niveau du logement fiscal.   Clé  ID_FISC_LOG_DIFF  \n"
   ]
  },
  {
   "cell_type": "code",
   "execution_count": 47,
   "metadata": {
    "collapsed": false
   },
   "outputs": [
    {
     "name": "stdout",
     "output_type": "stream",
     "text": [
      "Wall time: 3min 5s\n"
     ]
    }
   ],
   "source": [
    "%%time\n",
    "fiscr_fisci_fiscrevdet_dict= dict()\n",
    "for year in [2011,2014]:\n",
    "    fisc_r = load_fisc_r_by_year(year)\n",
    "    fisc_r.drop(columns_to_drop_for_merge, axis = 1, inplace=True)\n",
    "    \n",
    "    df_fisci = load_fisc_i_by_year(year)\n",
    "    fisci = df_fisci[df_fisci.ID_FISC_LOG_DIFF.isin(selected_log_id)]\n",
    "    del df_fisci\n",
    "    df_fiscrevdet = load_df_fiscrevdet_by_year(year)\n",
    "    df_fiscrevdet['TYPE_FISC'] = df_fiscrevdet.TYPE_FISC.astype('str')\n",
    "    merge = pd.merge(fisci, df_fiscrevdet, on=[\n",
    "            'ID_FISC_FOY_DIFF','ORDREFIP', 'TYPE_FISC'])\n",
    "    del df_fiscrevdet\n",
    "    merge = pd.merge(merge, fisc_r, on='ID_FISC_LOG_DIFF', how='right')\n",
    "    fiscr_fisci_fiscrevdet_dict[year]=merge"
   ]
  },
  {
   "cell_type": "markdown",
   "metadata": {},
   "source": [
    "On obtient donc une table contenant les données individuelles avec le salaire (fisci+fiscrevdet), combiné avec les données agrégées au niveau du logement (fiscr).\n",
    "Les données fisc_r sont donc redondantes pour chaque individu."
   ]
  },
  {
   "cell_type": "code",
   "execution_count": null,
   "metadata": {
    "collapsed": false
   },
   "outputs": [],
   "source": [
    "#fiscr_fisci_fiscrevdet_dict[2011].sort(\"ID_FISC_FOY_DIFF\")"
   ]
  },
  {
   "cell_type": "code",
   "execution_count": 48,
   "metadata": {
    "collapsed": false
   },
   "outputs": [
    {
     "data": {
      "text/plain": [
       "False    5016790\n",
       "dtype: int64"
      ]
     },
     "execution_count": 48,
     "metadata": {},
     "output_type": "execute_result"
    }
   ],
   "source": [
    "fiscr_fisci_fiscrevdet_dict[2011].ORDREFIP.isnull().value_counts()"
   ]
  },
  {
   "cell_type": "code",
   "execution_count": 49,
   "metadata": {
    "collapsed": false
   },
   "outputs": [],
   "source": [
    "%%time\n",
    "fiscr_fisci_fiscrevdet_dict[2011] = fiscr_fisci_fiscrevdet_dict[2011][~fiscr_fisci_fiscrevdet_dict[2011].ORDREFIP.isnull()]"
   ]
  },
  {
   "cell_type": "code",
   "execution_count": 50,
   "metadata": {
    "collapsed": false
   },
   "outputs": [],
   "source": [
    "%%time\n",
    "fiscr_fisci_fiscrevdet_dict[2014] = fiscr_fisci_fiscrevdet_dict[2014][~fiscr_fisci_fiscrevdet_dict[2014].ORDREFIP.isnull()]"
   ]
  },
  {
   "cell_type": "code",
   "execution_count": 57,
   "metadata": {
    "collapsed": true
   },
   "outputs": [],
   "source": [
    "df_2011 = fiscr_fisci_fiscrevdet_dict[2011]"
   ]
  },
  {
   "cell_type": "code",
   "execution_count": 58,
   "metadata": {
    "collapsed": true
   },
   "outputs": [],
   "source": [
    "df_2014 = fiscr_fisci_fiscrevdet_dict[2014]"
   ]
  },
  {
   "cell_type": "code",
   "execution_count": 59,
   "metadata": {
    "collapsed": true
   },
   "outputs": [],
   "source": [
    "del fiscr_fisci_fiscrevdet_dict"
   ]
  },
  {
   "cell_type": "code",
   "execution_count": 62,
   "metadata": {
    "collapsed": false
   },
   "outputs": [
    {
     "data": {
      "text/plain": [
       "(3711395, 136)"
      ]
     },
     "execution_count": 62,
     "metadata": {},
     "output_type": "execute_result"
    }
   ],
   "source": [
    "df_2014.shape"
   ]
  },
  {
   "cell_type": "code",
   "execution_count": 63,
   "metadata": {
    "collapsed": false
   },
   "outputs": [
    {
     "name": "stdout",
     "output_type": "stream",
     "text": [
      "1741312\n",
      "2380185\n"
     ]
    }
   ],
   "source": [
    "print df_2014.ID_FISC_LOG_DIFF.nunique()\n",
    "print df_2011.ID_FISC_LOG_DIFF.nunique()"
   ]
  },
  {
   "cell_type": "code",
   "execution_count": 64,
   "metadata": {
    "collapsed": false
   },
   "outputs": [
    {
     "name": "stdout",
     "output_type": "stream",
     "text": [
      "Wall time: 1.67 s\n"
     ]
    }
   ],
   "source": [
    "%%time\n",
    "id_set_2014 = set(df_2014.ID_FISC_FOY_DIFF.unique())"
   ]
  },
  {
   "cell_type": "code",
   "execution_count": 65,
   "metadata": {
    "collapsed": true
   },
   "outputs": [],
   "source": [
    "id_set_2011 = set(df_2011.ID_FISC_FOY_DIFF.unique())"
   ]
  },
  {
   "cell_type": "code",
   "execution_count": 66,
   "metadata": {
    "collapsed": false
   },
   "outputs": [
    {
     "name": "stdout",
     "output_type": "stream",
     "text": [
      "Wall time: 3.42 s\n"
     ]
    }
   ],
   "source": [
    "%%time\n",
    "intersect = id_set_2011.intersection(id_set_2014)"
   ]
  },
  {
   "cell_type": "code",
   "execution_count": 67,
   "metadata": {
    "collapsed": false
   },
   "outputs": [
    {
     "data": {
      "text/plain": [
       "2097467"
      ]
     },
     "execution_count": 67,
     "metadata": {},
     "output_type": "execute_result"
    }
   ],
   "source": [
    "len(intersect)"
   ]
  },
  {
   "cell_type": "code",
   "execution_count": 70,
   "metadata": {
    "collapsed": false
   },
   "outputs": [
    {
     "name": "stdout",
     "output_type": "stream",
     "text": [
      "Wall time: 9.65 s\n"
     ]
    }
   ],
   "source": [
    "%%time\n",
    "df_2014_keep = df_2014[df_2014.ID_FISC_FOY_DIFF.isin(intersect)] "
   ]
  },
  {
   "cell_type": "code",
   "execution_count": null,
   "metadata": {
    "collapsed": true
   },
   "outputs": [],
   "source": []
  },
  {
   "cell_type": "code",
   "execution_count": 71,
   "metadata": {
    "collapsed": false
   },
   "outputs": [],
   "source": [
    "df_2011_keep = df_2011[df_2011.ID_FISC_FOY_DIFF.isin(intersect)] "
   ]
  },
  {
   "cell_type": "code",
   "execution_count": 72,
   "metadata": {
    "collapsed": false
   },
   "outputs": [
    {
     "data": {
      "text/plain": [
       "3261946"
      ]
     },
     "execution_count": 72,
     "metadata": {},
     "output_type": "execute_result"
    }
   ],
   "source": [
    "len(id_set_2011)"
   ]
  },
  {
   "cell_type": "code",
   "execution_count": null,
   "metadata": {
    "collapsed": false
   },
   "outputs": [],
   "source": []
  },
  {
   "cell_type": "code",
   "execution_count": null,
   "metadata": {
    "collapsed": true
   },
   "outputs": [],
   "source": []
  },
  {
   "cell_type": "code",
   "execution_count": null,
   "metadata": {
    "collapsed": true
   },
   "outputs": [],
   "source": []
  },
  {
   "cell_type": "code",
   "execution_count": 73,
   "metadata": {
    "collapsed": false
   },
   "outputs": [],
   "source": [
    "#df_2014.sort(\"ID_FISC_FOY_DIFF\")"
   ]
  },
  {
   "cell_type": "code",
   "execution_count": 74,
   "metadata": {
    "collapsed": false
   },
   "outputs": [],
   "source": [
    "df_2014_keep = df_2014_keep[df_2014_keep.TYPE_FISC=='1']"
   ]
  },
  {
   "cell_type": "code",
   "execution_count": 75,
   "metadata": {
    "collapsed": false
   },
   "outputs": [],
   "source": [
    "df_2011_keep = df_2011_keep[df_2011_keep.TYPE_FISC=='1']"
   ]
  },
  {
   "cell_type": "code",
   "execution_count": 76,
   "metadata": {
    "collapsed": false
   },
   "outputs": [
    {
     "name": "stdout",
     "output_type": "stream",
     "text": [
      "Wall time: 19.9 s\n"
     ]
    }
   ],
   "source": [
    "%%time\n",
    "merge = pd.merge(df_2014_keep, df_2011_keep, how='inner',on = 'ID_FISC_FOY_DIFF', suffixes=('_2014',\"_2011\"))"
   ]
  },
  {
   "cell_type": "code",
   "execution_count": 77,
   "metadata": {
    "collapsed": false
   },
   "outputs": [
    {
     "data": {
      "text/plain": [
       "(2124029, 271)"
      ]
     },
     "execution_count": 77,
     "metadata": {},
     "output_type": "execute_result"
    }
   ],
   "source": [
    "merge.shape"
   ]
  },
  {
   "cell_type": "code",
   "execution_count": 78,
   "metadata": {
    "collapsed": false
   },
   "outputs": [
    {
     "data": {
      "text/plain": [
       "0    2795772\n",
       "1     175062\n",
       "2    3129312\n",
       "3    2245265\n",
       "4    2245265\n",
       "Name: ID_FISC_LOG_DIFF_2011, dtype: float64"
      ]
     },
     "execution_count": 78,
     "metadata": {},
     "output_type": "execute_result"
    }
   ],
   "source": [
    "merge.ID_FISC_LOG_DIFF_2011.head()"
   ]
  },
  {
   "cell_type": "code",
   "execution_count": null,
   "metadata": {
    "collapsed": false
   },
   "outputs": [],
   "source": [
    "merge[[\"ZSALM_2014\", \"YSALI_2014\", \"ID_FISC_LOG_DIFF_2011\", \"ID_FISC_LOG_DIFF_2014\"]].head()"
   ]
  },
  {
   "cell_type": "code",
   "execution_count": 80,
   "metadata": {
    "collapsed": false
   },
   "outputs": [
    {
     "data": {
      "text/plain": [
       "True     2102096\n",
       "False      21933\n",
       "dtype: int64"
      ]
     },
     "execution_count": 80,
     "metadata": {},
     "output_type": "execute_result"
    }
   ],
   "source": [
    "(merge.ID_FISC_LOG_DIFF_2011 == merge.ID_FISC_LOG_DIFF_2014).value_counts()"
   ]
  },
  {
   "cell_type": "code",
   "execution_count": 81,
   "metadata": {
    "collapsed": false
   },
   "outputs": [],
   "source": [
    "merge[\"Rbg_2011\"] =(( merge.ZTSAM_2011*0.9) + merge.ZRAGM_2011 + merge.ZRACM_2011 + merge.ZRNCM_2011 + merge.ZFONM_2011 + merge.ZPERM_2011*0.9\n",
    "                    + merge.ZRICM_2011)\n",
    "merge[\"Rbg_2014\"] =(( merge.ZTSAM_2014*0.9) + merge.ZRAGM_2014 + merge.ZRACM_2014 + merge.ZRNCM_2014 + merge.ZFONM_2014 + merge.ZPERM_2014*0.9\n",
    "                    + merge.ZRICM_2014)"
   ]
  },
  {
   "cell_type": "code",
   "execution_count": 82,
   "metadata": {
    "collapsed": false
   },
   "outputs": [
    {
     "data": {
      "text/plain": [
       "<matplotlib.axes._subplots.AxesSubplot at 0x35ee73080>"
      ]
     },
     "execution_count": 82,
     "metadata": {},
     "output_type": "execute_result"
    },
    {
     "data": {
      "image/png": "[encoded data removed]",
      "text/plain": [
       "<matplotlib.figure.Figure at 0x35ee736a0>"
      ]
     },
     "metadata": {},
     "output_type": "display_data"
    }
   ],
   "source": [
    "merge.Rbg_2011[((merge.Rbg_2011>50000)\n",
    "                &(merge.Rbg_2011<200000))].hist(bins = 100)\n",
    "merge.Rbg_2014[((merge.Rbg_2014>50000)\n",
    "                &(merge.Rbg_2014<200000))].hist(bins = 100)"
   ]
  },
  {
   "cell_type": "code",
   "execution_count": 83,
   "metadata": {
    "collapsed": true
   },
   "outputs": [],
   "source": [
    "import seaborn as sns"
   ]
  },
  {
   "cell_type": "code",
   "execution_count": 84,
   "metadata": {
    "collapsed": false
   },
   "outputs": [
    {
     "data": {
      "text/plain": [
       "0    0\n",
       "1    0\n",
       "2    0\n",
       "3    0\n",
       "4    0\n",
       "Name: NBPAC_2011, dtype: float64"
      ]
     },
     "execution_count": 84,
     "metadata": {},
     "output_type": "execute_result"
    }
   ],
   "source": [
    "merge.NBPAC_2011.head()"
   ]
  },
  {
   "cell_type": "code",
   "execution_count": 85,
   "metadata": {
    "collapsed": false
   },
   "outputs": [],
   "source": [
    "merge.Rbg_2011.fillna(0, inplace = True)\n",
    "merge.Rbg_2014.fillna(0, inplace = True)"
   ]
  },
  {
   "cell_type": "code",
   "execution_count": 86,
   "metadata": {
    "collapsed": false
   },
   "outputs": [],
   "source": [
    "#Ancienne version ou on selectionnait que les ménages qui apparetnait à l'ensemble 50000-20000\n",
    "# df_high_earner = merge[((merge.Rbg_2011>50000)\n",
    "#                       &(merge.Rbg_2011<200000)\n",
    "#                       &(merge.Rbg_2014>20000)\n",
    "#                       & (merge.Rbg_2014<300000))]"
   ]
  },
  {
   "cell_type": "code",
   "execution_count": 87,
   "metadata": {
    "collapsed": false
   },
   "outputs": [],
   "source": [
    "#Nouvelle version ou il faut appartenir à l'intervalle de revenu que sur un seule des deux années\n",
    "df_high_earner = merge[((\n",
    "            (merge.Rbg_2011>50000)\n",
    "            &(merge.Rbg_2011<200000)\n",
    "        )|(\n",
    "            (merge.Rbg_2014>50000)\n",
    "            & (merge.Rbg_2014<200000)))]\n",
    "\n",
    "### Supprime la selection de données et on fait ça dans estimation new\n",
    "df_high_earner = merge"
   ]
  },
  {
   "cell_type": "code",
   "execution_count": 88,
   "metadata": {
    "collapsed": false
   },
   "outputs": [
    {
     "data": {
      "text/plain": [
       "(0, 300000)"
      ]
     },
     "execution_count": 88,
     "metadata": {},
     "output_type": "execute_result"
    },
    {
     "data": {
      "image/png": "[encoded data removed]",
      "text/plain": [
       "<matplotlib.figure.Figure at 0x3486940>"
      ]
     },
     "metadata": {},
     "output_type": "display_data"
    }
   ],
   "source": [
    "df_high_earner.query(\"Rbg_2011<300000\").Rbg_2011.hist(bins = 1000)\n",
    "plt.xlim(0,300000)"
   ]
  },
  {
   "cell_type": "code",
   "execution_count": 89,
   "metadata": {
    "collapsed": false
   },
   "outputs": [
    {
     "name": "stdout",
     "output_type": "stream",
     "text": [
      "3434.08729217\n",
      "3434.08729217\n"
     ]
    }
   ],
   "source": [
    "\n",
    "print (merge.Rbg_2014 - merge.Rbg_2011).mean()\n",
    "print (df_high_earner.Rbg_2014 - df_high_earner.Rbg_2011).mean()"
   ]
  },
  {
   "cell_type": "markdown",
   "metadata": {},
   "source": [
    "mean reversal or change in distribution ?"
   ]
  },
  {
   "cell_type": "code",
   "execution_count": 90,
   "metadata": {
    "collapsed": false
   },
   "outputs": [],
   "source": [
    "df_grpby_first = merge.groupby('ID_FISC_LOG_DIFF_2011').first()\n",
    "df_high_grpby_first = df_high_earner.groupby('ID_FISC_LOG_DIFF_2011').first()"
   ]
  },
  {
   "cell_type": "code",
   "execution_count": 91,
   "metadata": {
    "collapsed": false
   },
   "outputs": [
    {
     "name": "stdout",
     "output_type": "stream",
     "text": [
      "3133.21536349\n",
      "3133.21536349\n"
     ]
    }
   ],
   "source": [
    "print (df_grpby_first.Rbg_2014 - df_grpby_first.Rbg_2011).mean()\n",
    "print (df_high_grpby_first.Rbg_2014 - df_high_grpby_first.Rbg_2011).mean()"
   ]
  },
  {
   "cell_type": "code",
   "execution_count": 92,
   "metadata": {
    "collapsed": false
   },
   "outputs": [
    {
     "data": {
      "text/plain": [
       "<matplotlib.axes._subplots.AxesSubplot at 0x30e2447f0>"
      ]
     },
     "execution_count": 92,
     "metadata": {},
     "output_type": "execute_result"
    },
    {
     "data": {
      "image/png": "[encoded data removed]",
      "text/plain": [
       "<matplotlib.figure.Figure at 0x30c1d6208>"
      ]
     },
     "metadata": {},
     "output_type": "display_data"
    }
   ],
   "source": [
    "df_high_grpby_first.Rbg_2011.hist(bins = 100)\n",
    "df_high_grpby_first.Rbg_2014.hist(bins = 100, alpha = 0.3)"
   ]
  },
  {
   "cell_type": "code",
   "execution_count": 93,
   "metadata": {
    "collapsed": false
   },
   "outputs": [
    {
     "name": "stdout",
     "output_type": "stream",
     "text": [
      "count    1706246.000000\n",
      "mean       41599.283244\n",
      "std        38994.185519\n",
      "min      -776771.300000\n",
      "25%        21936.100000\n",
      "50%        35077.500000\n",
      "75%        51275.525000\n",
      "max      7140172.200000\n",
      "Name: Rbg_2014, dtype: float64\n",
      "count    1706246.000000\n",
      "mean       38466.067880\n",
      "std        37460.404536\n",
      "min     -2666060.000000\n",
      "25%        19959.300000\n",
      "50%        32643.000000\n",
      "75%        47717.100000\n",
      "max      5377289.600000\n",
      "Name: Rbg_2011, dtype: float64\n"
     ]
    }
   ],
   "source": [
    "print df_high_grpby_first.Rbg_2014.describe()\n",
    "print df_high_grpby_first.Rbg_2011.describe()"
   ]
  },
  {
   "cell_type": "code",
   "execution_count": 94,
   "metadata": {
    "collapsed": false
   },
   "outputs": [
    {
     "name": "stdout",
     "output_type": "stream",
     "text": [
      "True     867999\n",
      "False    838247\n",
      "dtype: int64\n",
      "True     0.508719\n",
      "False    0.491281\n",
      "dtype: float64\n"
     ]
    }
   ],
   "source": [
    "print (df_high_grpby_first.NBPAC_2011>0).value_counts()\n",
    "print (df_high_grpby_first.NBPAC_2011>0).value_counts(normalize = True)"
   ]
  },
  {
   "cell_type": "code",
   "execution_count": 95,
   "metadata": {
    "collapsed": false
   },
   "outputs": [
    {
     "data": {
      "text/plain": [
       "True     1371615\n",
       "False     334631\n",
       "dtype: int64"
      ]
     },
     "execution_count": 95,
     "metadata": {},
     "output_type": "execute_result"
    }
   ],
   "source": [
    "same_pac_nb = (df_high_grpby_first.NBPAC_2011 == df_high_grpby_first.NBPAC_2014)\n",
    "(df_high_grpby_first.NBPAC_2011 == df_high_grpby_first.NBPAC_2014).value_counts()"
   ]
  },
  {
   "cell_type": "code",
   "execution_count": 96,
   "metadata": {
    "collapsed": false
   },
   "outputs": [
    {
     "data": {
      "text/plain": [
       "1    1017867\n",
       "2     295199\n",
       "3      47632\n",
       "4       8673\n",
       "5       1700\n",
       "6        397\n",
       "7         96\n",
       "8         32\n",
       "9         19\n",
       "dtype: int64"
      ]
     },
     "execution_count": 96,
     "metadata": {},
     "output_type": "execute_result"
    }
   ],
   "source": [
    "df_high_grpby_first[same_pac_nb].NBFOYM_2011.value_counts()"
   ]
  },
  {
   "cell_type": "code",
   "execution_count": 97,
   "metadata": {
    "collapsed": true
   },
   "outputs": [],
   "source": [
    "one_tax_unit = (df_high_grpby_first.NBFOYM_2011 == 1)"
   ]
  },
  {
   "cell_type": "code",
   "execution_count": 98,
   "metadata": {
    "collapsed": false
   },
   "outputs": [
    {
     "data": {
      "text/plain": [
       "ID_FISC_LOG_DIFF_2011\n",
       "1    4\n",
       "3    4\n",
       "4    4\n",
       "5    2\n",
       "7    5\n",
       "Name: NBPERSM_2011, dtype: float64"
      ]
     },
     "execution_count": 98,
     "metadata": {},
     "output_type": "execute_result"
    }
   ],
   "source": [
    "df_high_grpby_first.NBPERSM_2011.head()"
   ]
  },
  {
   "cell_type": "code",
   "execution_count": null,
   "metadata": {
    "collapsed": false
   },
   "outputs": [],
   "source": [
    "df_high_grpby_first[same_pac_nb & one_tax_unit][[\"ID_FISC_FOY_DIFF\",\"Rbg_2011\",\"Rbg_2014\", \"NBPERSM_2011\", \"NBPERSM_2014\"]].head()"
   ]
  },
  {
   "cell_type": "code",
   "execution_count": 100,
   "metadata": {
    "collapsed": false
   },
   "outputs": [],
   "source": [
    "threshold_byr_rbg = pd.DataFrame()\n",
    "threshold_byr_rbg[\"2011\"] = pd.Series([63233,73516,94451,115185,135941,150684])\n",
    "threshold_byr_rbg[\"2014\"] = pd.Series([58291,63530,73806,84103,94368,104633])"
   ]
  },
  {
   "cell_type": "code",
   "execution_count": 101,
   "metadata": {
    "collapsed": false
   },
   "outputs": [
    {
     "data": {
      "text/html": [
       "<div>\n",
       "<table border=\"1\" class=\"dataframe\">\n",
       "  <thead>\n",
       "    <tr style=\"text-align: right;\">\n",
       "      <th></th>\n",
       "      <th>2011</th>\n",
       "      <th>2014</th>\n",
       "    </tr>\n",
       "    <tr>\n",
       "      <th>nb_enf</th>\n",
       "      <th></th>\n",
       "      <th></th>\n",
       "    </tr>\n",
       "  </thead>\n",
       "  <tbody>\n",
       "    <tr>\n",
       "      <th>1</th>\n",
       "      <td>63233</td>\n",
       "      <td>58291</td>\n",
       "    </tr>\n",
       "    <tr>\n",
       "      <th>2</th>\n",
       "      <td>73516</td>\n",
       "      <td>63530</td>\n",
       "    </tr>\n",
       "    <tr>\n",
       "      <th>3</th>\n",
       "      <td>94451</td>\n",
       "      <td>73806</td>\n",
       "    </tr>\n",
       "    <tr>\n",
       "      <th>4</th>\n",
       "      <td>115185</td>\n",
       "      <td>84103</td>\n",
       "    </tr>\n",
       "    <tr>\n",
       "      <th>5</th>\n",
       "      <td>135941</td>\n",
       "      <td>94368</td>\n",
       "    </tr>\n",
       "    <tr>\n",
       "      <th>6</th>\n",
       "      <td>150684</td>\n",
       "      <td>104633</td>\n",
       "    </tr>\n",
       "  </tbody>\n",
       "</table>\n",
       "</div>"
      ],
      "text/plain": [
       "          2011    2014\n",
       "nb_enf                \n",
       "1        63233   58291\n",
       "2        73516   63530\n",
       "3        94451   73806\n",
       "4       115185   84103\n",
       "5       135941   94368\n",
       "6       150684  104633"
      ]
     },
     "execution_count": 101,
     "metadata": {},
     "output_type": "execute_result"
    }
   ],
   "source": [
    "threshold_byr_rbg.index = range(1,7); threshold_byr_rbg.index.name = 'nb_enf'\n",
    "threshold_byr_rbg\n"
   ]
  },
  {
   "cell_type": "code",
   "execution_count": 102,
   "metadata": {
    "collapsed": false
   },
   "outputs": [],
   "source": [
    "df = df_high_grpby_first"
   ]
  },
  {
   "cell_type": "code",
   "execution_count": 103,
   "metadata": {
    "collapsed": false
   },
   "outputs": [],
   "source": [
    "for nb_enf in range(1,7):\n",
    "    df[\"Between_threshold_{}_child\".format(nb_enf)\n",
    "          ] = ((df.Rbg_2011>  threshold_byr_rbg[\"2014\"].iloc[nb_enf-1])\n",
    "               & (df.Rbg_2011< threshold_byr_rbg[\"2011\"].iloc[nb_enf-1]))"
   ]
  },
  {
   "cell_type": "code",
   "execution_count": 104,
   "metadata": {
    "collapsed": true
   },
   "outputs": [],
   "source": [
    "for nb_enf in range(1,7): \n",
    "    df[\"Over_threshold_{}_child\".format(nb_enf)\n",
    "          ] =  (df.Rbg_2011 > threshold_byr_rbg[\"2011\"].iloc[nb_enf-1])"
   ]
  },
  {
   "cell_type": "code",
   "execution_count": null,
   "metadata": {
    "collapsed": false
   },
   "outputs": [],
   "source": [
    "df.head()"
   ]
  },
  {
   "cell_type": "code",
   "execution_count": 106,
   "metadata": {
    "collapsed": false
   },
   "outputs": [
    {
     "data": {
      "text/plain": [
       "63233"
      ]
     },
     "execution_count": 106,
     "metadata": {},
     "output_type": "execute_result"
    }
   ],
   "source": [
    "threshold_byr_rbg[\"2011\"].iloc[0]"
   ]
  },
  {
   "cell_type": "code",
   "execution_count": 107,
   "metadata": {
    "collapsed": false
   },
   "outputs": [],
   "source": [
    "df[\"Threshold\"] = np.zeros(len(df))\n",
    "df[\"Threshold_ex_post\"] = np.zeros(len(df))"
   ]
  },
  {
   "cell_type": "code",
   "execution_count": 108,
   "metadata": {
    "collapsed": false
   },
   "outputs": [],
   "source": [
    "for nb_enf in range(1,7):\n",
    "    df[\"Threshold\"] += (df.NBPAC_2011 == nb_enf) * threshold_byr_rbg[\"2011\"].iloc[nb_enf-1]"
   ]
  },
  {
   "cell_type": "code",
   "execution_count": 109,
   "metadata": {
    "collapsed": true
   },
   "outputs": [],
   "source": [
    "for nb_enf in range(1,7):\n",
    "    df[\"Threshold_mordant_{}\".format(\n",
    "            threshold_byr_rbg[\"2011\"].iloc[nb_enf-1])\n",
    "          ] = (df.NBPAC_2011 == nb_enf) * threshold_byr_rbg[\"2011\"].iloc[nb_enf-1]"
   ]
  },
  {
   "cell_type": "code",
   "execution_count": 110,
   "metadata": {
    "collapsed": false
   },
   "outputs": [],
   "source": [
    "for nb_enf in range(1,7):\n",
    "    df[\"Threshold_ex_post\"] += (df.NBPAC_2014 == nb_enf) * threshold_byr_rbg[\"2014\"].iloc[nb_enf-1]"
   ]
  },
  {
   "cell_type": "code",
   "execution_count": 111,
   "metadata": {
    "collapsed": false
   },
   "outputs": [
    {
     "data": {
      "text/plain": [
       "0         850762\n",
       "73516     361185\n",
       "63233     286543\n",
       "94451     155774\n",
       "115185     38409\n",
       "135941      9922\n",
       "150684      3651\n",
       "dtype: int64"
      ]
     },
     "execution_count": 111,
     "metadata": {},
     "output_type": "execute_result"
    }
   ],
   "source": [
    "df.Threshold.value_counts()"
   ]
  },
  {
   "cell_type": "code",
   "execution_count": null,
   "metadata": {
    "collapsed": false
   },
   "outputs": [],
   "source": []
  },
  {
   "cell_type": "code",
   "execution_count": 112,
   "metadata": {
    "collapsed": false
   },
   "outputs": [],
   "source": [
    "df.loc[ df.NBPAC_2011==0, \"Threshold\"] = 10**9 #met les gens sans enfants a un Overthreshold == 0\n",
    "df.loc[ df.NBPAC_2011==0, \"Threshold_ex_post\"] = 10**9 #met les gens sans enfants a un Overthreshold == 0\n",
    "df[\"Over_threshold\"] = (df.Rbg_2011>df.Threshold).astype('int')"
   ]
  },
  {
   "cell_type": "code",
   "execution_count": 113,
   "metadata": {
    "collapsed": true
   },
   "outputs": [],
   "source": [
    "df[\"Over_threshold_ex_post\"] = (df.Rbg_2011>df.Threshold_ex_post).astype('int')"
   ]
  },
  {
   "cell_type": "code",
   "execution_count": 114,
   "metadata": {
    "collapsed": true
   },
   "outputs": [],
   "source": [
    "df[\"Between_thresholds\"] = (df[\"Over_threshold_ex_post\"].astype('bool') & ~df[\"Over_threshold\"].astype('bool')).astype('int')"
   ]
  },
  {
   "cell_type": "code",
   "execution_count": 115,
   "metadata": {
    "collapsed": false
   },
   "outputs": [
    {
     "name": "stdout",
     "output_type": "stream",
     "text": [
      "0    1598350\n",
      "1     107896\n",
      "dtype: int64\n",
      "0    1490073\n",
      "1     216173\n",
      "dtype: int64\n",
      "0    1594747\n",
      "1     111499\n",
      "dtype: int64\n"
     ]
    }
   ],
   "source": [
    "print df.Over_threshold.value_counts(normalize = False)\n",
    "print df.Over_threshold_ex_post.value_counts(normalize = False)\n",
    "print (~df.Over_threshold& df.Over_threshold_ex_post).value_counts(normalize = False)"
   ]
  },
  {
   "cell_type": "code",
   "execution_count": 116,
   "metadata": {
    "collapsed": false
   },
   "outputs": [
    {
     "name": "stdout",
     "output_type": "stream",
     "text": [
      "0    0.936764\n",
      "1    0.063236\n",
      "dtype: float64\n",
      "0    0.873305\n",
      "1    0.126695\n",
      "dtype: float64\n",
      "0    0.934652\n",
      "1    0.065348\n",
      "dtype: float64\n"
     ]
    }
   ],
   "source": [
    "print df.Over_threshold.value_counts(normalize = True)\n",
    "print df.Over_threshold_ex_post.value_counts(normalize = True)\n",
    "print ((~df.Over_threshold)& df.Over_threshold_ex_post).value_counts(normalize = True)"
   ]
  },
  {
   "cell_type": "code",
   "execution_count": 117,
   "metadata": {
    "collapsed": false
   },
   "outputs": [
    {
     "data": {
      "text/html": [
       "<div>\n",
       "<table border=\"1\" class=\"dataframe\">\n",
       "  <thead>\n",
       "    <tr style=\"text-align: right;\">\n",
       "      <th>NBPAC_2011</th>\n",
       "      <th>0.0</th>\n",
       "      <th>1.0</th>\n",
       "      <th>2.0</th>\n",
       "      <th>3.0</th>\n",
       "      <th>4.0</th>\n",
       "      <th>5.0</th>\n",
       "      <th>6.0</th>\n",
       "    </tr>\n",
       "    <tr>\n",
       "      <th>Over_threshold</th>\n",
       "      <th></th>\n",
       "      <th></th>\n",
       "      <th></th>\n",
       "      <th></th>\n",
       "      <th></th>\n",
       "      <th></th>\n",
       "      <th></th>\n",
       "    </tr>\n",
       "  </thead>\n",
       "  <tbody>\n",
       "    <tr>\n",
       "      <th>0</th>\n",
       "      <td>838247</td>\n",
       "      <td>244379</td>\n",
       "      <td>321126</td>\n",
       "      <td>144223</td>\n",
       "      <td>36446</td>\n",
       "      <td>9662</td>\n",
       "      <td>3578</td>\n",
       "    </tr>\n",
       "    <tr>\n",
       "      <th>1</th>\n",
       "      <td>0</td>\n",
       "      <td>42164</td>\n",
       "      <td>40059</td>\n",
       "      <td>11551</td>\n",
       "      <td>1963</td>\n",
       "      <td>260</td>\n",
       "      <td>73</td>\n",
       "    </tr>\n",
       "  </tbody>\n",
       "</table>\n",
       "</div>"
      ],
      "text/plain": [
       "NBPAC_2011           0       1       2       3      4     5     6\n",
       "Over_threshold                                                   \n",
       "0               838247  244379  321126  144223  36446  9662  3578\n",
       "1                    0   42164   40059   11551   1963   260    73"
      ]
     },
     "execution_count": 117,
     "metadata": {},
     "output_type": "execute_result"
    }
   ],
   "source": [
    "pd.crosstab(df[df.NBPAC_2011.isin([0,1,2,3,4,5,6])].Over_threshold, df[df.NBPAC_2011.isin([0,1,2,3,4,5,6])].NBPAC_2011)"
   ]
  },
  {
   "cell_type": "code",
   "execution_count": 118,
   "metadata": {
    "collapsed": false
   },
   "outputs": [
    {
     "data": {
      "text/html": [
       "<div>\n",
       "<table border=\"1\" class=\"dataframe\">\n",
       "  <thead>\n",
       "    <tr style=\"text-align: right;\">\n",
       "      <th>NBPAC_2011</th>\n",
       "      <th>0.0</th>\n",
       "      <th>1.0</th>\n",
       "      <th>2.0</th>\n",
       "      <th>3.0</th>\n",
       "      <th>4.0</th>\n",
       "      <th>5.0</th>\n",
       "      <th>6.0</th>\n",
       "    </tr>\n",
       "    <tr>\n",
       "      <th>Over_threshold_ex_post</th>\n",
       "      <th></th>\n",
       "      <th></th>\n",
       "      <th></th>\n",
       "      <th></th>\n",
       "      <th></th>\n",
       "      <th></th>\n",
       "      <th></th>\n",
       "    </tr>\n",
       "  </thead>\n",
       "  <tbody>\n",
       "    <tr>\n",
       "      <th>0</th>\n",
       "      <td>838247</td>\n",
       "      <td>183649</td>\n",
       "      <td>287522</td>\n",
       "      <td>131348</td>\n",
       "      <td>33763</td>\n",
       "      <td>8863</td>\n",
       "      <td>3035</td>\n",
       "    </tr>\n",
       "    <tr>\n",
       "      <th>1</th>\n",
       "      <td>0</td>\n",
       "      <td>102894</td>\n",
       "      <td>73663</td>\n",
       "      <td>24426</td>\n",
       "      <td>4646</td>\n",
       "      <td>1059</td>\n",
       "      <td>616</td>\n",
       "    </tr>\n",
       "  </tbody>\n",
       "</table>\n",
       "</div>"
      ],
      "text/plain": [
       "NBPAC_2011                   0       1       2       3      4     5     6\n",
       "Over_threshold_ex_post                                                   \n",
       "0                       838247  183649  287522  131348  33763  8863  3035\n",
       "1                            0  102894   73663   24426   4646  1059   616"
      ]
     },
     "execution_count": 118,
     "metadata": {},
     "output_type": "execute_result"
    }
   ],
   "source": [
    "pd.crosstab(df[df.NBPAC_2011.isin([0,1,2,3,4,5,6])].Over_threshold_ex_post, df[df.NBPAC_2011.isin([0,1,2,3,4,5,6])].NBPAC_2011)"
   ]
  },
  {
   "cell_type": "code",
   "execution_count": 119,
   "metadata": {
    "collapsed": false
   },
   "outputs": [
    {
     "data": {
      "text/html": [
       "<div>\n",
       "<table border=\"1\" class=\"dataframe\">\n",
       "  <thead>\n",
       "    <tr style=\"text-align: right;\">\n",
       "      <th>NBPAC_2011</th>\n",
       "      <th>1.0</th>\n",
       "      <th>2.0</th>\n",
       "      <th>3.0</th>\n",
       "      <th>4.0</th>\n",
       "      <th>5.0</th>\n",
       "      <th>6.0</th>\n",
       "    </tr>\n",
       "    <tr>\n",
       "      <th>row_0</th>\n",
       "      <th></th>\n",
       "      <th></th>\n",
       "      <th></th>\n",
       "      <th></th>\n",
       "      <th></th>\n",
       "      <th></th>\n",
       "    </tr>\n",
       "  </thead>\n",
       "  <tbody>\n",
       "    <tr>\n",
       "      <th>0</th>\n",
       "      <td>225605</td>\n",
       "      <td>327525</td>\n",
       "      <td>142898</td>\n",
       "      <td>35726</td>\n",
       "      <td>9123</td>\n",
       "      <td>3108</td>\n",
       "    </tr>\n",
       "    <tr>\n",
       "      <th>1</th>\n",
       "      <td>60938</td>\n",
       "      <td>33660</td>\n",
       "      <td>12876</td>\n",
       "      <td>2683</td>\n",
       "      <td>799</td>\n",
       "      <td>543</td>\n",
       "    </tr>\n",
       "  </tbody>\n",
       "</table>\n",
       "</div>"
      ],
      "text/plain": [
       "NBPAC_2011       1       2       3      4     5     6\n",
       "row_0                                                \n",
       "0           225605  327525  142898  35726  9123  3108\n",
       "1            60938   33660   12876   2683   799   543"
      ]
     },
     "execution_count": 119,
     "metadata": {},
     "output_type": "execute_result"
    }
   ],
   "source": [
    "pd.crosstab((~df[df.NBPAC_2011.isin([1,2,3,4,5,6])].Over_threshold)&(df[df.NBPAC_2011.isin([1,2,3,4,5,6])].Over_threshold_ex_post)\n",
    "            \n",
    "            , df[df.NBPAC_2011.isin([1,2,3,4,5,6])].NBPAC_2011)"
   ]
  },
  {
   "cell_type": "code",
   "execution_count": 120,
   "metadata": {
    "collapsed": false
   },
   "outputs": [
    {
     "data": {
      "text/html": [
       "<div>\n",
       "<table border=\"1\" class=\"dataframe\">\n",
       "  <thead>\n",
       "    <tr style=\"text-align: right;\">\n",
       "      <th>NBPAC_2011</th>\n",
       "      <th>1.0</th>\n",
       "      <th>2.0</th>\n",
       "      <th>3.0</th>\n",
       "      <th>4.0</th>\n",
       "      <th>5.0</th>\n",
       "      <th>6.0</th>\n",
       "    </tr>\n",
       "    <tr>\n",
       "      <th>Between_thresholds</th>\n",
       "      <th></th>\n",
       "      <th></th>\n",
       "      <th></th>\n",
       "      <th></th>\n",
       "      <th></th>\n",
       "      <th></th>\n",
       "    </tr>\n",
       "  </thead>\n",
       "  <tbody>\n",
       "    <tr>\n",
       "      <th>0</th>\n",
       "      <td>225605</td>\n",
       "      <td>327525</td>\n",
       "      <td>142898</td>\n",
       "      <td>35726</td>\n",
       "      <td>9123</td>\n",
       "      <td>3108</td>\n",
       "    </tr>\n",
       "    <tr>\n",
       "      <th>1</th>\n",
       "      <td>60938</td>\n",
       "      <td>33660</td>\n",
       "      <td>12876</td>\n",
       "      <td>2683</td>\n",
       "      <td>799</td>\n",
       "      <td>543</td>\n",
       "    </tr>\n",
       "  </tbody>\n",
       "</table>\n",
       "</div>"
      ],
      "text/plain": [
       "NBPAC_2011               1       2       3      4     5     6\n",
       "Between_thresholds                                           \n",
       "0                   225605  327525  142898  35726  9123  3108\n",
       "1                    60938   33660   12876   2683   799   543"
      ]
     },
     "execution_count": 120,
     "metadata": {},
     "output_type": "execute_result"
    }
   ],
   "source": [
    "pd.crosstab((df[df.NBPAC_2011.isin([1,2,3,4,5,6])].Between_thresholds)\n",
    "            \n",
    "            , df[df.NBPAC_2011.isin([1,2,3,4,5,6])].NBPAC_2011)"
   ]
  },
  {
   "cell_type": "code",
   "execution_count": 121,
   "metadata": {
    "collapsed": false
   },
   "outputs": [
    {
     "data": {
      "text/plain": [
       "(1706246, 295)"
      ]
     },
     "execution_count": 121,
     "metadata": {},
     "output_type": "execute_result"
    }
   ],
   "source": [
    "df.shape"
   ]
  },
  {
   "cell_type": "code",
   "execution_count": 122,
   "metadata": {
    "collapsed": false
   },
   "outputs": [],
   "source": [
    "for child in range(1,10):\n",
    "    df[\"child_{}\".format(child)] = (df.NBPAC_2011 == child).astype('int')\n",
    "for child in range(1,10):\n",
    "    df[\"cumulative_child_{}\".format(child)] = (df.NBPAC_2011 >= child).astype('int')"
   ]
  },
  {
   "cell_type": "code",
   "execution_count": 123,
   "metadata": {
    "collapsed": true
   },
   "outputs": [],
   "source": [
    "child_bool_list = [\"child_{}\".format(child) for child in  np.arange(1,6)]\n",
    "cumulative_child_bool_list = [\"cumulative_child_{}\".format(child) for child in  np.arange(1,6)]"
   ]
  },
  {
   "cell_type": "code",
   "execution_count": 124,
   "metadata": {
    "collapsed": false
   },
   "outputs": [],
   "source": [
    "for thrsh in threshold_byr_rbg[\"2011\"]:\n",
    "    df[\"Threshold_{}\".format(thrsh)] = ((df.Rbg_2011 > thrsh) &(~(df[\"Threshold_mordant_{}\".format(thrsh)]))).astype(\"int\")"
   ]
  },
  {
   "cell_type": "code",
   "execution_count": 125,
   "metadata": {
    "collapsed": true
   },
   "outputs": [],
   "source": [
    "thrsh_bool_list = [\"Threshold_{}\".format(thrsh) for thrsh in  threshold_byr_rbg[\"2011\"]]"
   ]
  },
  {
   "cell_type": "code",
   "execution_count": 126,
   "metadata": {
    "collapsed": false
   },
   "outputs": [],
   "source": [
    "reg_df = df[df.NBPAC_2011.isin([0,1,2,3,4,5,6,7])]\n",
    "#reg_df = reg_df[reg_df.AGERF_2011<60]"
   ]
  },
  {
   "cell_type": "code",
   "execution_count": 127,
   "metadata": {
    "collapsed": false
   },
   "outputs": [
    {
     "name": "stderr",
     "output_type": "stream",
     "text": [
      "C:\\Users\\IMPTEMP_A_PACIFIC\\Desktop\\WinPython-64bit-2.7.10.2\\WinPython-64bit-2.7.10.2\\python-2.7.10.amd64\\lib\\site-packages\\IPython\\kernel\\__main__.py:1: SettingWithCopyWarning: \n",
      "A value is trying to be set on a copy of a slice from a DataFrame.\n",
      "Try using .loc[row_indexer,col_indexer] = value instead\n",
      "\n",
      "See the the caveats in the documentation: http://pandas.pydata.org/pandas-docs/stable/indexing.html#indexing-view-versus-copy\n",
      "  if __name__ == '__main__':\n"
     ]
    }
   ],
   "source": [
    "reg_df[\"Log_rbg_2011\"] = np.log(reg_df.Rbg_2011)"
   ]
  },
  {
   "cell_type": "markdown",
   "metadata": {},
   "source": [
    "On récupère les salaire individuels pour faire YSALI_wo et YSALI_me"
   ]
  },
  {
   "cell_type": "code",
   "execution_count": 128,
   "metadata": {
    "collapsed": true
   },
   "outputs": [],
   "source": [
    "id_fisc_foy_diff_2011 = df_2011_keep.ID_FISC_FOY_DIFF\n",
    "id_fisc_foy_diff_2014 = df_2014_keep.ID_FISC_FOY_DIFF"
   ]
  },
  {
   "cell_type": "code",
   "execution_count": null,
   "metadata": {
    "collapsed": true
   },
   "outputs": [],
   "source": []
  },
  {
   "cell_type": "code",
   "execution_count": 129,
   "metadata": {
    "collapsed": false
   },
   "outputs": [],
   "source": [
    "df_fiscrevdet_2011 = load_df_fiscrevdet_by_year(2011)\n",
    "df_fiscrevdet_2011[\"YSALI_wo\"] = df_fiscrevdet_2011.YSALI * (df_2011_keep.SEXE==2)\n",
    "df_fiscrevdet_2011[\"YSALI_me\"] = df_fiscrevdet_2011.YSALI * (df_2011_keep.SEXE==1)"
   ]
  },
  {
   "cell_type": "code",
   "execution_count": 130,
   "metadata": {
    "collapsed": false
   },
   "outputs": [
    {
     "data": {
      "text/plain": [
       "1    2111716\n",
       "2    1118843\n",
       "3     135260\n",
       "4      26500\n",
       "5       2722\n",
       "6        208\n",
       "dtype: int64"
      ]
     },
     "execution_count": 130,
     "metadata": {},
     "output_type": "execute_result"
    }
   ],
   "source": [
    "df_fiscrevdet_2011[df_fiscrevdet_2011.ID_FISC_FOY_DIFF.isin(id_fisc_foy_diff_2011)].sort(\"ID_FISC_FOY_DIFF\").TYPE_FISC.value_counts()"
   ]
  },
  {
   "cell_type": "code",
   "execution_count": 131,
   "metadata": {
    "collapsed": false
   },
   "outputs": [
    {
     "name": "stdout",
     "output_type": "stream",
     "text": [
      "Wall time: 2min 51s\n"
     ]
    }
   ],
   "source": [
    "%%time\n",
    "df_2014.loc[(df_2014.SEXE == '1')|(df_2014.SEXE == 'C')|df_2014.SEXE.isnull()] = 1\n",
    "df_2014.loc[(df_2014.SEXE == '2')] = 2\n",
    "\n",
    "\n",
    "\n",
    "income_vars = [\"YSALI\", \"YALRI\", \"YCHOI\", \"YBICI\", \"YBNCI\", \"YRAGI\", \"YRSTI\"]\n",
    "income_vars_me = [string + \"_me\" for string in income_vars]\n",
    "income_vars_wo = [string + \"_wo\" for string in income_vars]\n",
    "\n",
    "for var in [\"YSALI\",\"YALRI\", \"YCHOI\", \"YBICI\", \"YBNCI\", \"YRAGI\", \"YRSTI\"]:\n",
    "    df_2011[\"{}_wo\".format(var)] = df_2011[\"{}\".format(var)] * (df_2011.SEXE==2) * (df_2011.TYPE_FISC.isin([\"1\",\"2\"]))\n",
    "    df_2011[\"{}_me\".format(var)] = df_2011[\"{}\".format(var)] * (df_2011.SEXE==1)  * (df_2011.TYPE_FISC.isin([\"1\",\"2\"]))\n",
    "    df_2014[\"{}_wo\".format(var)] = df_2014[\"{}\".format(var)] * (df_2014.SEXE==2) * (df_2011.TYPE_FISC.isin([\"1\",\"2\"]))\n",
    "    df_2014[\"{}_me\".format(var)] = df_2014[\"{}\".format(var)] * (df_2014.SEXE==1) * (df_2011.TYPE_FISC.isin([\"1\",\"2\"]))\n",
    "\n"
   ]
  },
  {
   "cell_type": "code",
   "execution_count": 132,
   "metadata": {
    "collapsed": false
   },
   "outputs": [
    {
     "name": "stdout",
     "output_type": "stream",
     "text": [
      "Wall time: 12.3 s\n"
     ]
    }
   ],
   "source": [
    "%%time\n",
    "df_2011[\"Age_wo\"] = (2011 - df_2011.ANAIS) * (df_2011.SEXE==2) * (df_2011.TYPE_FISC.isin([\"1\",\"2\"]))\n",
    "df_2011[\"Age_me\"] = (2011 - df_2011.ANAIS) * (df_2011.SEXE==1) * (df_2011.TYPE_FISC.isin([\"1\",\"2\"]))\n",
    "\n",
    "df_2011[\"Id_diff_wo\"] = df_2011.ID_DIFF * (df_2011.SEXE==2) * (df_2011.TYPE_FISC.isin([\"1\",\"2\"])).astype(\"int\")\n",
    "df_2011[\"Id_diff_me\"] = df_2011.ID_DIFF * (df_2011.SEXE==1) * (df_2011.TYPE_FISC.isin([\"1\",\"2\"]))\n",
    "\n",
    "\n",
    "\n",
    "\n",
    "df_2011[\"working_wo\"] = ((df_2011.SEXE==2)&(df_2011.YRSTI==0)&(df_2011.YSALI>1000)&df_2011.TYPE_FISC.isin(['1','2'])).astype(\"int\")\n",
    "df_2011[\"working_me\"] = ((df_2011.SEXE==1)&(df_2011.YRSTI==0)&(df_2011.YSALI>1000)&df_2011.TYPE_FISC.isin(['1','2'])).astype(\"int\")\n",
    "df_2014[\"working_wo\"] = ((df_2014.SEXE==2)&(df_2014.YRSTI==0)&(df_2014.YSALI>1000)&df_2011.TYPE_FISC.isin(['1','2'])).astype(\"int\")\n",
    "df_2014[\"working_me\"] = ((df_2014.SEXE==1)&(df_2014.YRSTI==0)&(df_2014.YSALI>1000)&df_2011.TYPE_FISC.isin(['1','2'])).astype(\"int\")\n"
   ]
  },
  {
   "cell_type": "code",
   "execution_count": 133,
   "metadata": {
    "collapsed": false
   },
   "outputs": [],
   "source": [
    "\n",
    "df_2011_groupby = df_2011[[\"working_wo\", \"working_me\",\"ID_FISC_LOG_DIFF\", \"Age_wo\", \"Age_me\",\"Id_diff_wo\" ,\"Id_diff_me\"] #TODO: use id_foy instead of id_log\n",
    "                          +income_vars_me+income_vars_wo].groupby(\"ID_FISC_LOG_DIFF\").sum()\n",
    "df_2014_groupby = df_2014[[\"working_wo\", \"working_me\",\"YSALI_wo\", \"YSALI_me\",\"ID_FISC_LOG_DIFF\" ]\n",
    "                         +income_vars_me+income_vars_wo].groupby(\"ID_FISC_LOG_DIFF\").sum()\n",
    "df_working_by_log = pd.merge(df_2011_groupby, df_2014_groupby, left_index=True,right_index=True,\n",
    "                             suffixes=('_2011','_2014'))\n"
   ]
  },
  {
   "cell_type": "code",
   "execution_count": 134,
   "metadata": {
    "collapsed": false
   },
   "outputs": [
    {
     "data": {
      "text/plain": [
       "Index([u'working_wo', u'working_me', u'Age_wo', u'Age_me', u'Id_diff_wo',\n",
       "       u'Id_diff_me', u'YSALI_me', u'YALRI_me', u'YCHOI_me', u'YBICI_me',\n",
       "       u'YBNCI_me', u'YRAGI_me', u'YRSTI_me', u'YSALI_wo', u'YALRI_wo',\n",
       "       u'YCHOI_wo', u'YBICI_wo', u'YBNCI_wo', u'YRAGI_wo', u'YRSTI_wo'],\n",
       "      dtype='object')"
      ]
     },
     "execution_count": 134,
     "metadata": {},
     "output_type": "execute_result"
    }
   ],
   "source": [
    "df_2011_groupby.columns"
   ]
  },
  {
   "cell_type": "code",
   "execution_count": 135,
   "metadata": {
    "collapsed": true
   },
   "outputs": [],
   "source": [
    "df_2011_groupby = df_2011[[\"working_wo\", \"working_me\",\"ID_FISC_FOY_DIFF\", \"Age_wo\", \"Age_me\" ]\n",
    "                          +income_vars_me+income_vars_wo].groupby(\"ID_FISC_FOY_DIFF\").sum()"
   ]
  },
  {
   "cell_type": "code",
   "execution_count": 136,
   "metadata": {
    "collapsed": false
   },
   "outputs": [],
   "source": [
    "income_vars = [\"YSALI\", \"YALRI\", \"YCHOI\", \"YBICI\", \"YBNCI\", \"YRAGI\", \"YRSTI\"]\n",
    "income_vars_me = [string + \"_me\" for string in income_vars]\n",
    "income_vars_wo = [string + \"_wo\" for string in income_vars]"
   ]
  },
  {
   "cell_type": "code",
   "execution_count": 137,
   "metadata": {
    "collapsed": false
   },
   "outputs": [
    {
     "data": {
      "text/plain": [
       "['YSALI_me',\n",
       " 'YALRI_me',\n",
       " 'YCHOI_me',\n",
       " 'YBICI_me',\n",
       " 'YBNCI_me',\n",
       " 'YRAGI_me',\n",
       " 'YRSTI_me']"
      ]
     },
     "execution_count": 137,
     "metadata": {},
     "output_type": "execute_result"
    }
   ],
   "source": [
    "income_vars_me"
   ]
  },
  {
   "cell_type": "code",
   "execution_count": null,
   "metadata": {
    "collapsed": false
   },
   "outputs": [],
   "source": [
    "df_working_by_log.head()"
   ]
  },
  {
   "cell_type": "code",
   "execution_count": 139,
   "metadata": {
    "collapsed": false
   },
   "outputs": [
    {
     "data": {
      "text/plain": [
       "count    1875354.000000\n",
       "mean        9227.522356\n",
       "std        14914.105092\n",
       "min            0.000000\n",
       "25%            0.000000\n",
       "50%            2.000000\n",
       "75%        17342.000000\n",
       "max      3502247.000000\n",
       "Name: YSALI, dtype: float64"
      ]
     },
     "execution_count": 139,
     "metadata": {},
     "output_type": "execute_result"
    }
   ],
   "source": [
    "df_2014[df_2014.SEXE == 2 ].YSALI.describe()"
   ]
  },
  {
   "cell_type": "code",
   "execution_count": 140,
   "metadata": {
    "collapsed": false
   },
   "outputs": [
    {
     "data": {
      "text/plain": [
       "count    1835104.000000\n",
       "mean       14559.710261\n",
       "std        26351.797205\n",
       "min            0.000000\n",
       "25%            0.000000\n",
       "50%         2028.500000\n",
       "75%        23626.000000\n",
       "max      5393270.000000\n",
       "Name: YSALI, dtype: float64"
      ]
     },
     "execution_count": 140,
     "metadata": {},
     "output_type": "execute_result"
    }
   ],
   "source": [
    "df_2014[df_2014.SEXE == 1 ].YSALI.describe()"
   ]
  },
  {
   "cell_type": "code",
   "execution_count": 141,
   "metadata": {
    "collapsed": false
   },
   "outputs": [
    {
     "data": {
      "text/plain": [
       "<matplotlib.axes._subplots.AxesSubplot at 0x30fb194a8>"
      ]
     },
     "execution_count": 141,
     "metadata": {},
     "output_type": "execute_result"
    },
    {
     "data": {
      "image/png": "[encoded data removed]",
      "text/plain": [
       "<matplotlib.figure.Figure at 0x30f75c128>"
      ]
     },
     "metadata": {},
     "output_type": "display_data"
    }
   ],
   "source": [
    "df_2014[df_2014.SEXE == 1 ].query(\"3*10**5>YSALI>10**4\").YSALI.hist(bins= 50)\n",
    "df_2014[df_2014.SEXE == 2 ].query(\"3*10**5>YSALI>10**4\").YSALI.hist(bins = 50)"
   ]
  },
  {
   "cell_type": "code",
   "execution_count": 142,
   "metadata": {
    "collapsed": false
   },
   "outputs": [
    {
     "data": {
      "text/plain": [
       "<matplotlib.axes._subplots.AxesSubplot at 0x30f40ffd0>"
      ]
     },
     "execution_count": 142,
     "metadata": {},
     "output_type": "execute_result"
    },
    {
     "data": {
      "image/png": "[encoded data removed]",
      "text/plain": [
       "<matplotlib.figure.Figure at 0x30e236400>"
      ]
     },
     "metadata": {},
     "output_type": "display_data"
    }
   ],
   "source": [
    "import seaborn as sns\n",
    "sns.distplot(df_2014[df_2014.SEXE == 1 ].query(\"3*10**5>YSALI>10**4\").YSALI, hist = False)\n",
    "sns.distplot(df_2014[df_2014.SEXE == 2 ].query(\"3*10**5>YSALI>10**4\").YSALI, hist = False)\n"
   ]
  },
  {
   "cell_type": "code",
   "execution_count": 143,
   "metadata": {
    "collapsed": false
   },
   "outputs": [
    {
     "name": "stdout",
     "output_type": "stream",
     "text": [
      "Wall time: 2min 41s\n"
     ]
    }
   ],
   "source": [
    "%%time\n",
    "working_by_sex_reg = pd.merge(reg_df, df_working_by_log, left_index=True,right_index=True, )\n",
    "working_wo_2011 = working_by_sex_reg.working_wo_2011.astype(\"bool\")\n",
    "not_working_wo_2014 =  ~working_by_sex_reg.working_wo_2014.astype(\"bool\")\n",
    "working_me_2011 = working_by_sex_reg.working_me_2011.astype(\"bool\")\n",
    "not_working_me_2014 =  ~working_by_sex_reg.working_me_2014.astype(\"bool\")\n",
    "working_by_sex_reg[\"Wo_stopped_working\"] =( working_wo_2011 & not_working_wo_2014).astype(\"int\")\n",
    "working_by_sex_reg[\"Wo_started_working\"] =( ~working_wo_2011 & ~not_working_wo_2014).astype(\"int\")\n",
    "working_by_sex_reg[\"Men_stopped_working\"] =( working_me_2011 & not_working_me_2014).astype(\"int\")\n",
    "working_by_sex_reg[\"Men_started_working\"] =( ~working_me_2011 & ~not_working_me_2014).astype(\"int\")"
   ]
  },
  {
   "cell_type": "markdown",
   "metadata": {},
   "source": [
    "TODO : attention on perd 2000 observations, voir pourquoi"
   ]
  },
  {
   "cell_type": "code",
   "execution_count": 144,
   "metadata": {
    "collapsed": false
   },
   "outputs": [
    {
     "data": {
      "text/plain": [
       "count    1522346.000000\n",
       "mean       17623.935872\n",
       "std        27885.992327\n",
       "min            0.000000\n",
       "25%            0.000000\n",
       "50%        13402.500000\n",
       "75%        26805.000000\n",
       "max      5952328.000000\n",
       "Name: YSALI_me_2011, dtype: float64"
      ]
     },
     "execution_count": 144,
     "metadata": {},
     "output_type": "execute_result"
    }
   ],
   "source": [
    "working_by_sex_reg.YSALI_me_2011.describe()"
   ]
  },
  {
   "cell_type": "code",
   "execution_count": 145,
   "metadata": {
    "collapsed": false
   },
   "outputs": [
    {
     "data": {
      "text/html": [
       "<div>\n",
       "<table border=\"1\" class=\"dataframe\">\n",
       "  <thead>\n",
       "    <tr style=\"text-align: right;\">\n",
       "      <th></th>\n",
       "      <th>YSALI_wo_2014</th>\n",
       "      <th>YSALI_wo_2014</th>\n",
       "    </tr>\n",
       "  </thead>\n",
       "  <tbody>\n",
       "    <tr>\n",
       "      <th>count</th>\n",
       "      <td>1522264.000000</td>\n",
       "      <td>1522264.000000</td>\n",
       "    </tr>\n",
       "    <tr>\n",
       "      <th>mean</th>\n",
       "      <td>10471.002500</td>\n",
       "      <td>10471.002500</td>\n",
       "    </tr>\n",
       "    <tr>\n",
       "      <th>std</th>\n",
       "      <td>16196.036127</td>\n",
       "      <td>16196.036127</td>\n",
       "    </tr>\n",
       "    <tr>\n",
       "      <th>min</th>\n",
       "      <td>0.000000</td>\n",
       "      <td>0.000000</td>\n",
       "    </tr>\n",
       "    <tr>\n",
       "      <th>25%</th>\n",
       "      <td>0.000000</td>\n",
       "      <td>0.000000</td>\n",
       "    </tr>\n",
       "    <tr>\n",
       "      <th>50%</th>\n",
       "      <td>59.000000</td>\n",
       "      <td>59.000000</td>\n",
       "    </tr>\n",
       "    <tr>\n",
       "      <th>75%</th>\n",
       "      <td>19042.000000</td>\n",
       "      <td>19042.000000</td>\n",
       "    </tr>\n",
       "    <tr>\n",
       "      <th>max</th>\n",
       "      <td>3502247.000000</td>\n",
       "      <td>3502247.000000</td>\n",
       "    </tr>\n",
       "  </tbody>\n",
       "</table>\n",
       "</div>"
      ],
      "text/plain": [
       "        YSALI_wo_2014   YSALI_wo_2014\n",
       "count  1522264.000000  1522264.000000\n",
       "mean     10471.002500    10471.002500\n",
       "std      16196.036127    16196.036127\n",
       "min          0.000000        0.000000\n",
       "25%          0.000000        0.000000\n",
       "50%         59.000000       59.000000\n",
       "75%      19042.000000    19042.000000\n",
       "max    3502247.000000  3502247.000000"
      ]
     },
     "execution_count": 145,
     "metadata": {},
     "output_type": "execute_result"
    }
   ],
   "source": [
    "working_by_sex_reg.YSALI_wo_2014.describe()"
   ]
  },
  {
   "cell_type": "code",
   "execution_count": 146,
   "metadata": {
    "collapsed": false
   },
   "outputs": [
    {
     "data": {
      "text/plain": [
       "(2111716, 136)"
      ]
     },
     "execution_count": 146,
     "metadata": {},
     "output_type": "execute_result"
    }
   ],
   "source": [
    "df_2011_keep.shape"
   ]
  },
  {
   "cell_type": "code",
   "execution_count": 147,
   "metadata": {
    "collapsed": false
   },
   "outputs": [
    {
     "data": {
      "text/plain": [
       "(1694900, 320)"
      ]
     },
     "execution_count": 147,
     "metadata": {},
     "output_type": "execute_result"
    }
   ],
   "source": [
    "reg_df.shape"
   ]
  },
  {
   "cell_type": "code",
   "execution_count": 148,
   "metadata": {
    "collapsed": false
   },
   "outputs": [
    {
     "data": {
      "text/html": [
       "<div>\n",
       "<table border=\"1\" class=\"dataframe\">\n",
       "  <thead>\n",
       "    <tr style=\"text-align: right;\">\n",
       "      <th></th>\n",
       "      <th>YSALI_wo_2011</th>\n",
       "      <th>YCHOI_wo_2011</th>\n",
       "      <th>YRSTI_wo_2011</th>\n",
       "      <th>YSALI_wo_2014</th>\n",
       "      <th>YSALI_wo_2014</th>\n",
       "      <th>working_wo_2011</th>\n",
       "      <th>Age_wo</th>\n",
       "    </tr>\n",
       "  </thead>\n",
       "  <tbody>\n",
       "    <tr>\n",
       "      <th>7</th>\n",
       "      <td>11</td>\n",
       "      <td>1883</td>\n",
       "      <td>0</td>\n",
       "      <td>25574</td>\n",
       "      <td>25574</td>\n",
       "      <td>0</td>\n",
       "      <td>51</td>\n",
       "    </tr>\n",
       "    <tr>\n",
       "      <th>16</th>\n",
       "      <td>17548</td>\n",
       "      <td>0</td>\n",
       "      <td>2400</td>\n",
       "      <td>16684</td>\n",
       "      <td>16684</td>\n",
       "      <td>0</td>\n",
       "      <td>46</td>\n",
       "    </tr>\n",
       "    <tr>\n",
       "      <th>38</th>\n",
       "      <td>0</td>\n",
       "      <td>1660</td>\n",
       "      <td>0</td>\n",
       "      <td>11596</td>\n",
       "      <td>11596</td>\n",
       "      <td>0</td>\n",
       "      <td>60</td>\n",
       "    </tr>\n",
       "    <tr>\n",
       "      <th>80</th>\n",
       "      <td>0</td>\n",
       "      <td>5603</td>\n",
       "      <td>6322</td>\n",
       "      <td>10024</td>\n",
       "      <td>10024</td>\n",
       "      <td>0</td>\n",
       "      <td>43</td>\n",
       "    </tr>\n",
       "    <tr>\n",
       "      <th>97</th>\n",
       "      <td>0</td>\n",
       "      <td>8576</td>\n",
       "      <td>0</td>\n",
       "      <td>5518</td>\n",
       "      <td>5518</td>\n",
       "      <td>0</td>\n",
       "      <td>43</td>\n",
       "    </tr>\n",
       "  </tbody>\n",
       "</table>\n",
       "</div>"
      ],
      "text/plain": [
       "    YSALI_wo_2011  YCHOI_wo_2011  YRSTI_wo_2011  YSALI_wo_2014  YSALI_wo_2014  \\\n",
       "7              11           1883              0          25574          25574   \n",
       "16          17548              0           2400          16684          16684   \n",
       "38              0           1660              0          11596          11596   \n",
       "80              0           5603           6322          10024          10024   \n",
       "97              0           8576              0           5518           5518   \n",
       "\n",
       "    working_wo_2011  Age_wo  \n",
       "7                 0      51  \n",
       "16                0      46  \n",
       "38                0      60  \n",
       "80                0      43  \n",
       "97                0      43  "
      ]
     },
     "execution_count": 148,
     "metadata": {},
     "output_type": "execute_result"
    }
   ],
   "source": [
    "\n",
    "working_by_sex_reg[working_by_sex_reg.Wo_started_working==1][[\"YSALI_wo_2011\",\"YCHOI_wo_2011\",\"YRSTI_wo_2011\", \"YSALI_wo_2014\", \"working_wo_2011\", \"Age_wo\"]].head()"
   ]
  },
  {
   "cell_type": "code",
   "execution_count": 149,
   "metadata": {
    "collapsed": false
   },
   "outputs": [
    {
     "name": "stdout",
     "output_type": "stream",
     "text": [
      "<class 'pandas.core.frame.DataFrame'>\n",
      "Float64Index: 1522346 entries, 1.0 to 3667311.0\n",
      "Columns: 362 entries, ID_DIFF_2014 to Men_started_working\n",
      "dtypes: bool(12), float64(215), int32(35), int64(73), object(27)\n",
      "memory usage: 3.8+ GB\n"
     ]
    }
   ],
   "source": [
    "working_by_sex_reg.info()"
   ]
  },
  {
   "cell_type": "code",
   "execution_count": 151,
   "metadata": {
    "collapsed": false
   },
   "outputs": [],
   "source": [
    "s = working_by_sex_reg.columns.to_series()\n",
    "working_by_sex_reg.columns = s + s.groupby(s).cumcount().astype(str).replace({'0':''})"
   ]
  },
  {
   "cell_type": "code",
   "execution_count": 152,
   "metadata": {
    "collapsed": false
   },
   "outputs": [
    {
     "name": "stdout",
     "output_type": "stream",
     "text": [
      "2019-05-06 15:52:44.481000\n",
      "Wall time: 32 s\n"
     ]
    },
    {
     "name": "stderr",
     "output_type": "stream",
     "text": [
      "C:\\Users\\IMPTEMP_A_PACIFIC\\Desktop\\WinPython-64bit-2.7.10.2\\WinPython-64bit-2.7.10.2\\python-2.7.10.amd64\\lib\\site-packages\\pandas\\io\\pytables.py:2577: PerformanceWarning: \n",
      "your performance may suffer as PyTables will pickle object types that it cannot\n",
      "map directly to c-types [inferred_type->mixed-integer,key->block4_values] [items->['ORDREFIP_2014', 'TYPE_FISC_2014', 'SEXE_2014', 'CODNAIS_2014', 'CIDECI_2014', 'ZOXYZD_2014', 'ZOXYZP_2014', 'CNCOIPV_2014', 'CSDEP_2014', 'DEP_2014', 'DEPCOM_2014', 'I_CHAMPM_2014', 'I_PAUVRE50M_2014', 'I_PAUVRE60M_2014', 'ORDREFIP_2011', 'TYPE_FISC_2011', 'CODNAIS_2011', 'CIDECI_2011', 'ZOXYZD_2011', 'ZOXYZP_2011', 'CNCOIPV_2011', 'CSDEP_2011', 'DEP_2011', 'DEPCOM_2011', 'I_CHAMPM_2011', 'I_PAUVRE50M_2011', 'I_PAUVRE60M_2011']]\n",
      "\n",
      "  warnings.warn(ws, PerformanceWarning)\n"
     ]
    }
   ],
   "source": [
    "%%time\n",
    "working_by_sex_reg.to_hdf(u\"C:/Users/IMPTEMP_A_PACIFIC/Desktop/EDP_2015/Programme/Réaction offre de travail/hdf/data_step_1_reaction_offre_travail.h5\",\n",
    "                          \"fisci_fiscr_fiscrevdet\")\n",
    "import datetime\n",
    "print datetime.datetime.now()"
   ]
  },
  {
   "cell_type": "code",
   "execution_count": null,
   "metadata": {
    "collapsed": false
   },
   "outputs": [],
   "source": [
    "#working_by_sex_reg.Id_diff_me"
   ]
  },
  {
   "cell_type": "code",
   "execution_count": 153,
   "metadata": {
    "collapsed": false
   },
   "outputs": [
    {
     "data": {
      "text/plain": [
       "<matplotlib.axes._subplots.AxesSubplot at 0x30f344ef0>"
      ]
     },
     "execution_count": 153,
     "metadata": {},
     "output_type": "execute_result"
    },
    {
     "data": {
      "image/png": "[encoded data removed]",
      "text/plain": [
       "<matplotlib.figure.Figure at 0x110f89198>"
      ]
     },
     "metadata": {},
     "output_type": "display_data"
    }
   ],
   "source": [
    "working_by_sex_reg.Rbg_2011.hist(bins = 100)"
   ]
  },
  {
   "cell_type": "code",
   "execution_count": 154,
   "metadata": {
    "collapsed": false,
    "scrolled": true
   },
   "outputs": [
    {
     "name": "stdout",
     "output_type": "stream",
     "text": [
      "2019-05-06 15:53:00.609000\n"
     ]
    }
   ],
   "source": [
    "import datetime\n",
    "print datetime.datetime.now()"
   ]
  },
  {
   "cell_type": "code",
   "execution_count": 155,
   "metadata": {
    "collapsed": false
   },
   "outputs": [],
   "source": [
    "reg_df_1 = reg_df[[\"Over_threshold\", \"Between_thresholds\"]+cumulative_child_bool_list+thrsh_bool_list]"
   ]
  },
  {
   "cell_type": "code",
   "execution_count": 156,
   "metadata": {
    "collapsed": false
   },
   "outputs": [
    {
     "data": {
      "text/plain": [
       "3"
      ]
     },
     "execution_count": 156,
     "metadata": {},
     "output_type": "execute_result"
    }
   ],
   "source": [
    "3"
   ]
  },
  {
   "cell_type": "markdown",
   "metadata": {},
   "source": [
    "### "
   ]
  },
  {
   "cell_type": "code",
   "execution_count": 157,
   "metadata": {
    "collapsed": false
   },
   "outputs": [
    {
     "name": "stdout",
     "output_type": "stream",
     "text": [
      "Wall time: 5.81 s\n"
     ]
    },
    {
     "data": {
      "text/plain": [
       "<matplotlib.figure.Figure at 0x110c0ccf8>"
      ]
     },
     "metadata": {},
     "output_type": "display_data"
    },
    {
     "data": {
      "image/png": "[encoded data removed]",
      "text/plain": [
       "<matplotlib.figure.Figure at 0x11303d3c8>"
      ]
     },
     "metadata": {},
     "output_type": "display_data"
    }
   ],
   "source": [
    "%%time\n",
    "fig = plt.figure(figsize = (20,20))\n",
    "g = sns.pairplot(reg_df.head(10000).query(\"0<=NBPAC_2011<5\"),vars = [\"Rbg_2011\", \"Rbg_2014\"], hue =\"NBPAC_2011\", kind = \"reg\"  )\n",
    "g.fig.set_size_inches(20,20)"
   ]
  },
  {
   "cell_type": "code",
   "execution_count": null,
   "metadata": {
    "collapsed": true
   },
   "outputs": [],
   "source": []
  }
 ],
 "metadata": {
  "kernelspec": {
   "display_name": "Python 2",
   "language": "python",
   "name": "python2"
  },
  "language_info": {
   "codemirror_mode": {
    "name": "ipython",
    "version": 2
   },
   "file_extension": ".py",
   "mimetype": "text/x-python",
   "name": "python",
   "nbconvert_exporter": "python",
   "pygments_lexer": "ipython2",
   "version": "2.7.10"
  }
 },
 "nbformat": 4,
 "nbformat_minor": 0
}
